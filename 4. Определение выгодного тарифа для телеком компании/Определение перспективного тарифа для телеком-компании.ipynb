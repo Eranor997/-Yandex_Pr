{
 "cells": [
  {
   "cell_type": "markdown",
   "metadata": {
    "toc": true
   },
   "source": [
    "<h1>Содержание<span class=\"tocSkip\"></span></h1>\n",
    "<div class=\"toc\"><ul class=\"toc-item\"><li><span><a href=\"#calls\" data-toc-modified-id=\"calls-1\"><span class=\"toc-item-num\">1&nbsp;&nbsp;</span>calls</a></span></li><li><span><a href=\"#internet\" data-toc-modified-id=\"internet-2\"><span class=\"toc-item-num\">2&nbsp;&nbsp;</span>internet</a></span></li><li><span><a href=\"#messages\" data-toc-modified-id=\"messages-3\"><span class=\"toc-item-num\">3&nbsp;&nbsp;</span>messages</a></span></li><li><span><a href=\"#users\" data-toc-modified-id=\"users-4\"><span class=\"toc-item-num\">4&nbsp;&nbsp;</span>users</a></span></li><li><span><a href=\"#tariffs\" data-toc-modified-id=\"tariffs-5\"><span class=\"toc-item-num\">5&nbsp;&nbsp;</span>tariffs</a></span></li><li><span><a href=\"#Количество-сделанных-звонков-и-израсходованных-минут-разговора-по-месяцам\" data-toc-modified-id=\"Количество-сделанных-звонков-и-израсходованных-минут-разговора-по-месяцам-6\"><span class=\"toc-item-num\">6&nbsp;&nbsp;</span>Количество сделанных звонков и израсходованных минут разговора по месяцам</a></span></li><li><span><a href=\"#Количество-отправленных-сообщений-по-месяцам\" data-toc-modified-id=\"Количество-отправленных-сообщений-по-месяцам-7\"><span class=\"toc-item-num\">7&nbsp;&nbsp;</span>Количество отправленных сообщений по месяцам</a></span></li><li><span><a href=\"#Объем-израсходованного-интернет-трафика-по-месяцам\" data-toc-modified-id=\"Объем-израсходованного-интернет-трафика-по-месяцам-8\"><span class=\"toc-item-num\">8&nbsp;&nbsp;</span>Объем израсходованного интернет-трафика по месяцам</a></span></li><li><span><a href=\"#Месячная-выручка-с-каждого-пользователя\" data-toc-modified-id=\"Месячная-выручка-с-каждого-пользователя-9\"><span class=\"toc-item-num\">9&nbsp;&nbsp;</span>Месячная выручка с каждого пользователя</a></span></li><li><span><a href=\"#Звонки-в-месяц\" data-toc-modified-id=\"Звонки-в-месяц-10\"><span class=\"toc-item-num\">10&nbsp;&nbsp;</span>Звонки в месяц</a></span></li><li><span><a href=\"#SMS-в-месяц\" data-toc-modified-id=\"SMS-в-месяц-11\"><span class=\"toc-item-num\">11&nbsp;&nbsp;</span>SMS в месяц</a></span></li><li><span><a href=\"#МБ-интернета-в-месяц\" data-toc-modified-id=\"МБ-интернета-в-месяц-12\"><span class=\"toc-item-num\">12&nbsp;&nbsp;</span>МБ интернета в месяц</a></span></li><li><span><a href=\"#Cредняя-выручка-пользователей-тарифов-«Ультра»-и-«Смарт»-различаются\" data-toc-modified-id=\"Cредняя-выручка-пользователей-тарифов-«Ультра»-и-«Смарт»-различаются-13\"><span class=\"toc-item-num\">13&nbsp;&nbsp;</span>Cредняя выручка пользователей тарифов «Ультра» и «Смарт» различаются</a></span></li><li><span><a href=\"#Cредняя-выручка-пользователей-из-Москвы-отличается-от-выручки-пользователей-из-других-регионов\" data-toc-modified-id=\"Cредняя-выручка-пользователей-из-Москвы-отличается-от-выручки-пользователей-из-других-регионов-14\"><span class=\"toc-item-num\">14&nbsp;&nbsp;</span>Cредняя выручка пользователей из Москвы отличается от выручки пользователей из других регионов</a></span></li></ul></div>"
   ]
  },
  {
   "cell_type": "markdown",
   "metadata": {},
   "source": [
    "**Определение перспективного тарифа для телеком-компании**"
   ]
  },
  {
   "cell_type": "markdown",
   "metadata": {},
   "source": [
    "Клиентам предлагают два тарифных плана: «Смарт» и «Ультра». Чтобы скорректировать рекламный бюджет, коммерческий департамент хочет понять, какой тариф приносит больше денег. \n",
    "\n",
    "\n",
    "**Задача**  \n",
    "Сделать предварительный анализ тарифов на небольшой выборке клиентов. В вашем распоряжении данные 500 пользователей «Мегалайна»: кто они, откуда, каким тарифом пользуются, сколько звонков и сообщений каждый отправил за 2018 год. Нужно проанализировать поведение клиентов и сделать вывод — какой тариф лучше.\n",
    "\n",
    "**Описание тарифов**   \n",
    "Тариф «Смарт»:  \n",
    "Ежемесячная плата: 550 рублей;  \n",
    "Включено 500 минут разговора, 50 сообщений и 15 Гб интернет-трафика  \n",
    "Стоимость услуг сверх тарифного пакета:  \n",
    "минута разговора: 3 рубля  \n",
    "сообщение: 3 рубля  \n",
    "1 Гб интернет-трафика: 200 рублей   \n",
    "\n",
    "\n",
    "Тариф «Ультра»:\n",
    "Ежемесячная плата: 1950 рублей;   \n",
    "Включено 3000 минут разговора, 1000 сообщений и 30 Гб интернет-трафика    \n",
    "Стоимость услуг сверх тарифного пакета:    \n",
    "минута разговора: 1 рубль    \n",
    "сообщение: 1 рубль    \n",
    "1 Гб интернет-трафика: 150 рублей   \n",
    "\n",
    "**Примечание**  \n",
    "«Мегалайн» всегда округляет секунды до минут, а мегабайты — до гигабайт. Каждый звонок округляется отдельно: даже если он длился всего 1 секунду, будет засчитан как 1 минута.\n",
    "Для веб-трафика отдельные сессии не считаются. Вместо этого общая сумма за месяц округляется в бо́льшую сторону. Если абонент использует 1025 мегабайт в этом месяце, с него возьмут плату за 2 гигабайта. Примите, что неиспользованные за предыдущий месяц звонки, смс, интернет на следующий месяц не переносятся.\n",
    "\n",
    "**Описание данных**   \n",
    "**Таблица users (информация о пользователях):**  \n",
    "user_id — уникальный идентификатор пользователя  \n",
    "first_name — имя пользователя   \n",
    "last_name — фамилия пользователя    \n",
    "age — возраст пользователя (годы)    \n",
    "reg_date — дата подключения тарифа (день, месяц, год)     \n",
    "churn_date — дата прекращения пользования тарифом (если значение пропущено, то тариф ещё действовал на момент выгрузки данных)  \n",
    "city — город проживания пользователя  \n",
    "tariff — название тарифного плана   \n",
    "**Таблица calls (информация о звонках):**    \n",
    "id — уникальный номер звонка    \n",
    "call_date — дата звонка    \n",
    "duration — длительность звонка в минутах     \n",
    "user_id — идентификатор пользователя, сделавшего звонок    \n",
    "**Таблица messages (информация о сообщениях):**   \n",
    "id — уникальный номер сообщения    \n",
    "message_date — дата сообщения    \n",
    "user_id — идентификатор пользователя, отправившего сообщение    \n",
    "**Таблица internet (информация об интернет-сессиях):**    \n",
    "id — уникальный номер сессии    \n",
    "mb_used — объём потраченного за сессию интернет-трафика (в мегабайтах)   \n",
    "session_date — дата интернет-сессии   \n",
    "user_id — идентификатор пользователя   \n",
    "**Таблица tariffs (информация о тарифах):**   \n",
    "tariff_name — название тарифа   \n",
    "rub_monthly_fee — ежемесячная абонентская плата в рублях    \n",
    "minutes_included — количество минут разговора в месяц, включённых в абонентскую плату    \n",
    "messages_included — количество сообщений в месяц, включённых в абонентскую плату   \n",
    "mb_per_month_included — объём интернет-трафика, включённого в абонентскую плату (в мегабайтах)    \n",
    "rub_per_minute — стоимость минуты разговора сверх тарифного пакета (например, если в тарифе 100 минут разговора в месяц, то со 101 минуты будет взиматься плата)     \n",
    "rub_per_message — стоимость отправки сообщения сверх тарифного пакета      \n",
    "rub_per_gb — стоимость дополнительного гигабайта интернет-трафика сверх тарифного пакета (1 гигабайт = 1024 мегабайта)"
   ]
  },
  {
   "cell_type": "markdown",
   "metadata": {},
   "source": [
    "# Обзор данных"
   ]
  },
  {
   "cell_type": "code",
   "execution_count": 1,
   "metadata": {},
   "outputs": [],
   "source": [
    "# Импортируем библитеки\n",
    "\n",
    "import pandas as pd\n",
    "import numpy as np\n",
    "import matplotlib.pyplot as plt\n",
    "\n",
    "from datetime import datetime\n",
    "from scipy import stats as st\n",
    "import seaborn as sns"
   ]
  },
  {
   "cell_type": "code",
   "execution_count": 2,
   "metadata": {},
   "outputs": [],
   "source": [
    "pd.set_option('display.max_columns', None)\n",
    "pd.options.display.float_format = '{:,.2f}'.format"
   ]
  },
  {
   "cell_type": "code",
   "execution_count": 3,
   "metadata": {},
   "outputs": [],
   "source": [
    "# Читаем датасеты\n",
    "\n",
    "calls = pd.read_csv('/datasets/calls.csv')\n",
    "internet = pd.read_csv('/datasets/internet.csv')\n",
    "messages = pd.read_csv('//datasets/messages.csv')\n",
    "tariffs = pd.read_csv('/datasets/tariffs.csv')\n",
    "users = pd.read_csv('/datasets/users.csv')"
   ]
  },
  {
   "cell_type": "code",
   "execution_count": 4,
   "metadata": {
    "scrolled": true
   },
   "outputs": [
    {
     "data": {
      "text/html": [
       "<div>\n",
       "<style scoped>\n",
       "    .dataframe tbody tr th:only-of-type {\n",
       "        vertical-align: middle;\n",
       "    }\n",
       "\n",
       "    .dataframe tbody tr th {\n",
       "        vertical-align: top;\n",
       "    }\n",
       "\n",
       "    .dataframe thead th {\n",
       "        text-align: right;\n",
       "    }\n",
       "</style>\n",
       "<table border=\"1\" class=\"dataframe\">\n",
       "  <thead>\n",
       "    <tr style=\"text-align: right;\">\n",
       "      <th></th>\n",
       "      <th>id</th>\n",
       "      <th>call_date</th>\n",
       "      <th>duration</th>\n",
       "      <th>user_id</th>\n",
       "    </tr>\n",
       "  </thead>\n",
       "  <tbody>\n",
       "    <tr>\n",
       "      <th>0</th>\n",
       "      <td>1000_0</td>\n",
       "      <td>2018-07-25</td>\n",
       "      <td>0.00</td>\n",
       "      <td>1000</td>\n",
       "    </tr>\n",
       "    <tr>\n",
       "      <th>1</th>\n",
       "      <td>1000_1</td>\n",
       "      <td>2018-08-17</td>\n",
       "      <td>0.00</td>\n",
       "      <td>1000</td>\n",
       "    </tr>\n",
       "    <tr>\n",
       "      <th>2</th>\n",
       "      <td>1000_2</td>\n",
       "      <td>2018-06-11</td>\n",
       "      <td>2.85</td>\n",
       "      <td>1000</td>\n",
       "    </tr>\n",
       "    <tr>\n",
       "      <th>3</th>\n",
       "      <td>1000_3</td>\n",
       "      <td>2018-09-21</td>\n",
       "      <td>13.80</td>\n",
       "      <td>1000</td>\n",
       "    </tr>\n",
       "    <tr>\n",
       "      <th>4</th>\n",
       "      <td>1000_4</td>\n",
       "      <td>2018-12-15</td>\n",
       "      <td>5.18</td>\n",
       "      <td>1000</td>\n",
       "    </tr>\n",
       "  </tbody>\n",
       "</table>\n",
       "</div>"
      ],
      "text/plain": [
       "       id   call_date  duration  user_id\n",
       "0  1000_0  2018-07-25      0.00     1000\n",
       "1  1000_1  2018-08-17      0.00     1000\n",
       "2  1000_2  2018-06-11      2.85     1000\n",
       "3  1000_3  2018-09-21     13.80     1000\n",
       "4  1000_4  2018-12-15      5.18     1000"
      ]
     },
     "execution_count": 4,
     "metadata": {},
     "output_type": "execute_result"
    }
   ],
   "source": [
    "# Просматриваем звонки\n",
    "\n",
    "calls.head()\n",
    "#calls.describe()\n",
    "#calls.info()"
   ]
  },
  {
   "cell_type": "code",
   "execution_count": 5,
   "metadata": {},
   "outputs": [
    {
     "data": {
      "text/html": [
       "<div>\n",
       "<style scoped>\n",
       "    .dataframe tbody tr th:only-of-type {\n",
       "        vertical-align: middle;\n",
       "    }\n",
       "\n",
       "    .dataframe tbody tr th {\n",
       "        vertical-align: top;\n",
       "    }\n",
       "\n",
       "    .dataframe thead th {\n",
       "        text-align: right;\n",
       "    }\n",
       "</style>\n",
       "<table border=\"1\" class=\"dataframe\">\n",
       "  <thead>\n",
       "    <tr style=\"text-align: right;\">\n",
       "      <th></th>\n",
       "      <th>Unnamed: 0</th>\n",
       "      <th>id</th>\n",
       "      <th>mb_used</th>\n",
       "      <th>session_date</th>\n",
       "      <th>user_id</th>\n",
       "    </tr>\n",
       "  </thead>\n",
       "  <tbody>\n",
       "    <tr>\n",
       "      <th>0</th>\n",
       "      <td>0</td>\n",
       "      <td>1000_0</td>\n",
       "      <td>112.95</td>\n",
       "      <td>2018-11-25</td>\n",
       "      <td>1000</td>\n",
       "    </tr>\n",
       "    <tr>\n",
       "      <th>1</th>\n",
       "      <td>1</td>\n",
       "      <td>1000_1</td>\n",
       "      <td>1,052.81</td>\n",
       "      <td>2018-09-07</td>\n",
       "      <td>1000</td>\n",
       "    </tr>\n",
       "    <tr>\n",
       "      <th>2</th>\n",
       "      <td>2</td>\n",
       "      <td>1000_2</td>\n",
       "      <td>1,197.26</td>\n",
       "      <td>2018-06-25</td>\n",
       "      <td>1000</td>\n",
       "    </tr>\n",
       "    <tr>\n",
       "      <th>3</th>\n",
       "      <td>3</td>\n",
       "      <td>1000_3</td>\n",
       "      <td>550.27</td>\n",
       "      <td>2018-08-22</td>\n",
       "      <td>1000</td>\n",
       "    </tr>\n",
       "    <tr>\n",
       "      <th>4</th>\n",
       "      <td>4</td>\n",
       "      <td>1000_4</td>\n",
       "      <td>302.56</td>\n",
       "      <td>2018-09-24</td>\n",
       "      <td>1000</td>\n",
       "    </tr>\n",
       "  </tbody>\n",
       "</table>\n",
       "</div>"
      ],
      "text/plain": [
       "   Unnamed: 0      id  mb_used session_date  user_id\n",
       "0           0  1000_0   112.95   2018-11-25     1000\n",
       "1           1  1000_1 1,052.81   2018-09-07     1000\n",
       "2           2  1000_2 1,197.26   2018-06-25     1000\n",
       "3           3  1000_3   550.27   2018-08-22     1000\n",
       "4           4  1000_4   302.56   2018-09-24     1000"
      ]
     },
     "execution_count": 5,
     "metadata": {},
     "output_type": "execute_result"
    }
   ],
   "source": [
    "# Просматриваем интернет\n",
    "\n",
    "internet.head()\n",
    "#internet.describe()\n",
    "#internet.info()"
   ]
  },
  {
   "cell_type": "code",
   "execution_count": 6,
   "metadata": {},
   "outputs": [
    {
     "data": {
      "text/html": [
       "<div>\n",
       "<style scoped>\n",
       "    .dataframe tbody tr th:only-of-type {\n",
       "        vertical-align: middle;\n",
       "    }\n",
       "\n",
       "    .dataframe tbody tr th {\n",
       "        vertical-align: top;\n",
       "    }\n",
       "\n",
       "    .dataframe thead th {\n",
       "        text-align: right;\n",
       "    }\n",
       "</style>\n",
       "<table border=\"1\" class=\"dataframe\">\n",
       "  <thead>\n",
       "    <tr style=\"text-align: right;\">\n",
       "      <th></th>\n",
       "      <th>id</th>\n",
       "      <th>message_date</th>\n",
       "      <th>user_id</th>\n",
       "    </tr>\n",
       "  </thead>\n",
       "  <tbody>\n",
       "    <tr>\n",
       "      <th>0</th>\n",
       "      <td>1000_0</td>\n",
       "      <td>2018-06-27</td>\n",
       "      <td>1000</td>\n",
       "    </tr>\n",
       "    <tr>\n",
       "      <th>1</th>\n",
       "      <td>1000_1</td>\n",
       "      <td>2018-10-08</td>\n",
       "      <td>1000</td>\n",
       "    </tr>\n",
       "    <tr>\n",
       "      <th>2</th>\n",
       "      <td>1000_2</td>\n",
       "      <td>2018-08-04</td>\n",
       "      <td>1000</td>\n",
       "    </tr>\n",
       "    <tr>\n",
       "      <th>3</th>\n",
       "      <td>1000_3</td>\n",
       "      <td>2018-06-16</td>\n",
       "      <td>1000</td>\n",
       "    </tr>\n",
       "    <tr>\n",
       "      <th>4</th>\n",
       "      <td>1000_4</td>\n",
       "      <td>2018-12-05</td>\n",
       "      <td>1000</td>\n",
       "    </tr>\n",
       "  </tbody>\n",
       "</table>\n",
       "</div>"
      ],
      "text/plain": [
       "       id message_date  user_id\n",
       "0  1000_0   2018-06-27     1000\n",
       "1  1000_1   2018-10-08     1000\n",
       "2  1000_2   2018-08-04     1000\n",
       "3  1000_3   2018-06-16     1000\n",
       "4  1000_4   2018-12-05     1000"
      ]
     },
     "execution_count": 6,
     "metadata": {},
     "output_type": "execute_result"
    }
   ],
   "source": [
    "# Просматриваем SMS\n",
    "\n",
    "messages.head()\n",
    "#messages.describe()\n",
    "#messages.info()"
   ]
  },
  {
   "cell_type": "code",
   "execution_count": 7,
   "metadata": {},
   "outputs": [
    {
     "data": {
      "text/html": [
       "<div>\n",
       "<style scoped>\n",
       "    .dataframe tbody tr th:only-of-type {\n",
       "        vertical-align: middle;\n",
       "    }\n",
       "\n",
       "    .dataframe tbody tr th {\n",
       "        vertical-align: top;\n",
       "    }\n",
       "\n",
       "    .dataframe thead th {\n",
       "        text-align: right;\n",
       "    }\n",
       "</style>\n",
       "<table border=\"1\" class=\"dataframe\">\n",
       "  <thead>\n",
       "    <tr style=\"text-align: right;\">\n",
       "      <th></th>\n",
       "      <th>messages_included</th>\n",
       "      <th>mb_per_month_included</th>\n",
       "      <th>minutes_included</th>\n",
       "      <th>rub_monthly_fee</th>\n",
       "      <th>rub_per_gb</th>\n",
       "      <th>rub_per_message</th>\n",
       "      <th>rub_per_minute</th>\n",
       "      <th>tariff_name</th>\n",
       "    </tr>\n",
       "  </thead>\n",
       "  <tbody>\n",
       "    <tr>\n",
       "      <th>0</th>\n",
       "      <td>50</td>\n",
       "      <td>15360</td>\n",
       "      <td>500</td>\n",
       "      <td>550</td>\n",
       "      <td>200</td>\n",
       "      <td>3</td>\n",
       "      <td>3</td>\n",
       "      <td>smart</td>\n",
       "    </tr>\n",
       "    <tr>\n",
       "      <th>1</th>\n",
       "      <td>1000</td>\n",
       "      <td>30720</td>\n",
       "      <td>3000</td>\n",
       "      <td>1950</td>\n",
       "      <td>150</td>\n",
       "      <td>1</td>\n",
       "      <td>1</td>\n",
       "      <td>ultra</td>\n",
       "    </tr>\n",
       "  </tbody>\n",
       "</table>\n",
       "</div>"
      ],
      "text/plain": [
       "   messages_included  mb_per_month_included  minutes_included  \\\n",
       "0                 50                  15360               500   \n",
       "1               1000                  30720              3000   \n",
       "\n",
       "   rub_monthly_fee  rub_per_gb  rub_per_message  rub_per_minute tariff_name  \n",
       "0              550         200                3               3       smart  \n",
       "1             1950         150                1               1       ultra  "
      ]
     },
     "execution_count": 7,
     "metadata": {},
     "output_type": "execute_result"
    }
   ],
   "source": [
    "# Просматриваем тарифы \n",
    "\n",
    "tariffs.head()\n",
    "#tariffs.describe()\n",
    "#tariffs.info()"
   ]
  },
  {
   "cell_type": "code",
   "execution_count": 8,
   "metadata": {
    "scrolled": true
   },
   "outputs": [
    {
     "data": {
      "text/html": [
       "<div>\n",
       "<style scoped>\n",
       "    .dataframe tbody tr th:only-of-type {\n",
       "        vertical-align: middle;\n",
       "    }\n",
       "\n",
       "    .dataframe tbody tr th {\n",
       "        vertical-align: top;\n",
       "    }\n",
       "\n",
       "    .dataframe thead th {\n",
       "        text-align: right;\n",
       "    }\n",
       "</style>\n",
       "<table border=\"1\" class=\"dataframe\">\n",
       "  <thead>\n",
       "    <tr style=\"text-align: right;\">\n",
       "      <th></th>\n",
       "      <th>user_id</th>\n",
       "      <th>age</th>\n",
       "      <th>churn_date</th>\n",
       "      <th>city</th>\n",
       "      <th>first_name</th>\n",
       "      <th>last_name</th>\n",
       "      <th>reg_date</th>\n",
       "      <th>tariff</th>\n",
       "    </tr>\n",
       "  </thead>\n",
       "  <tbody>\n",
       "    <tr>\n",
       "      <th>0</th>\n",
       "      <td>1000</td>\n",
       "      <td>52</td>\n",
       "      <td>NaN</td>\n",
       "      <td>Краснодар</td>\n",
       "      <td>Рафаил</td>\n",
       "      <td>Верещагин</td>\n",
       "      <td>2018-05-25</td>\n",
       "      <td>ultra</td>\n",
       "    </tr>\n",
       "    <tr>\n",
       "      <th>1</th>\n",
       "      <td>1001</td>\n",
       "      <td>41</td>\n",
       "      <td>NaN</td>\n",
       "      <td>Москва</td>\n",
       "      <td>Иван</td>\n",
       "      <td>Ежов</td>\n",
       "      <td>2018-11-01</td>\n",
       "      <td>smart</td>\n",
       "    </tr>\n",
       "    <tr>\n",
       "      <th>2</th>\n",
       "      <td>1002</td>\n",
       "      <td>59</td>\n",
       "      <td>NaN</td>\n",
       "      <td>Стерлитамак</td>\n",
       "      <td>Евгений</td>\n",
       "      <td>Абрамович</td>\n",
       "      <td>2018-06-17</td>\n",
       "      <td>smart</td>\n",
       "    </tr>\n",
       "    <tr>\n",
       "      <th>3</th>\n",
       "      <td>1003</td>\n",
       "      <td>23</td>\n",
       "      <td>NaN</td>\n",
       "      <td>Москва</td>\n",
       "      <td>Белла</td>\n",
       "      <td>Белякова</td>\n",
       "      <td>2018-08-17</td>\n",
       "      <td>ultra</td>\n",
       "    </tr>\n",
       "    <tr>\n",
       "      <th>4</th>\n",
       "      <td>1004</td>\n",
       "      <td>68</td>\n",
       "      <td>NaN</td>\n",
       "      <td>Новокузнецк</td>\n",
       "      <td>Татьяна</td>\n",
       "      <td>Авдеенко</td>\n",
       "      <td>2018-05-14</td>\n",
       "      <td>ultra</td>\n",
       "    </tr>\n",
       "  </tbody>\n",
       "</table>\n",
       "</div>"
      ],
      "text/plain": [
       "   user_id  age churn_date         city first_name  last_name    reg_date  \\\n",
       "0     1000   52        NaN    Краснодар     Рафаил  Верещагин  2018-05-25   \n",
       "1     1001   41        NaN       Москва       Иван       Ежов  2018-11-01   \n",
       "2     1002   59        NaN  Стерлитамак    Евгений  Абрамович  2018-06-17   \n",
       "3     1003   23        NaN       Москва      Белла   Белякова  2018-08-17   \n",
       "4     1004   68        NaN  Новокузнецк    Татьяна   Авдеенко  2018-05-14   \n",
       "\n",
       "  tariff  \n",
       "0  ultra  \n",
       "1  smart  \n",
       "2  smart  \n",
       "3  ultra  \n",
       "4  ultra  "
      ]
     },
     "execution_count": 8,
     "metadata": {},
     "output_type": "execute_result"
    }
   ],
   "source": [
    "# Просматриваем пользователей\n",
    "\n",
    "users.head()\n",
    "#users.describe()\n",
    "#users.info()"
   ]
  },
  {
   "cell_type": "markdown",
   "metadata": {},
   "source": [
    "Данные просмотренны, необходимы правки."
   ]
  },
  {
   "cell_type": "markdown",
   "metadata": {},
   "source": [
    "# Предобработка данных"
   ]
  },
  {
   "cell_type": "markdown",
   "metadata": {},
   "source": [
    "## calls  \n",
    "В данной таблице необходимо:\n",
    "- округлить значения вверх (т.к. компания округляет всё до минут);\n",
    "- преобразовать дату;\n",
    "- изменим звонки длительностью 0 минут до 1 минуты (floor же);\n",
    "- добавим столбец с месяцем;\n",
    "- изменить тип данных."
   ]
  },
  {
   "cell_type": "code",
   "execution_count": 9,
   "metadata": {},
   "outputs": [],
   "source": [
    "calls['call_date'] = pd.to_datetime(calls['call_date'], format=\"%Y-%m-%d\")"
   ]
  },
  {
   "cell_type": "code",
   "execution_count": 10,
   "metadata": {},
   "outputs": [],
   "source": [
    "calls['id'] = calls['id'].astype('int')"
   ]
  },
  {
   "cell_type": "code",
   "execution_count": 11,
   "metadata": {},
   "outputs": [],
   "source": [
    "calls['duration'] = np.ceil(calls['duration']).astype('int')"
   ]
  },
  {
   "cell_type": "code",
   "execution_count": 13,
   "metadata": {},
   "outputs": [],
   "source": [
    "calls['month'] = calls['call_date'].dt.month_name()"
   ]
  },
  {
   "cell_type": "code",
   "execution_count": 14,
   "metadata": {},
   "outputs": [
    {
     "data": {
      "text/html": [
       "<div>\n",
       "<style scoped>\n",
       "    .dataframe tbody tr th:only-of-type {\n",
       "        vertical-align: middle;\n",
       "    }\n",
       "\n",
       "    .dataframe tbody tr th {\n",
       "        vertical-align: top;\n",
       "    }\n",
       "\n",
       "    .dataframe thead th {\n",
       "        text-align: right;\n",
       "    }\n",
       "</style>\n",
       "<table border=\"1\" class=\"dataframe\">\n",
       "  <thead>\n",
       "    <tr style=\"text-align: right;\">\n",
       "      <th></th>\n",
       "      <th>id</th>\n",
       "      <th>duration</th>\n",
       "      <th>user_id</th>\n",
       "    </tr>\n",
       "  </thead>\n",
       "  <tbody>\n",
       "    <tr>\n",
       "      <th>count</th>\n",
       "      <td>202,607.00</td>\n",
       "      <td>202,607.00</td>\n",
       "      <td>202,607.00</td>\n",
       "    </tr>\n",
       "    <tr>\n",
       "      <th>mean</th>\n",
       "      <td>1,212,254.17</td>\n",
       "      <td>7.16</td>\n",
       "      <td>1,253.94</td>\n",
       "    </tr>\n",
       "    <tr>\n",
       "      <th>std</th>\n",
       "      <td>1,725,756.38</td>\n",
       "      <td>5.96</td>\n",
       "      <td>144.72</td>\n",
       "    </tr>\n",
       "    <tr>\n",
       "      <th>min</th>\n",
       "      <td>10,000.00</td>\n",
       "      <td>0.00</td>\n",
       "      <td>1,000.00</td>\n",
       "    </tr>\n",
       "    <tr>\n",
       "      <th>25%</th>\n",
       "      <td>1,012,286.50</td>\n",
       "      <td>2.00</td>\n",
       "      <td>1,126.00</td>\n",
       "    </tr>\n",
       "    <tr>\n",
       "      <th>50%</th>\n",
       "      <td>1,179,376.00</td>\n",
       "      <td>6.00</td>\n",
       "      <td>1,260.00</td>\n",
       "    </tr>\n",
       "    <tr>\n",
       "      <th>75%</th>\n",
       "      <td>1,358,125.50</td>\n",
       "      <td>11.00</td>\n",
       "      <td>1,379.00</td>\n",
       "    </tr>\n",
       "    <tr>\n",
       "      <th>max</th>\n",
       "      <td>14,581,154.00</td>\n",
       "      <td>38.00</td>\n",
       "      <td>1,499.00</td>\n",
       "    </tr>\n",
       "  </tbody>\n",
       "</table>\n",
       "</div>"
      ],
      "text/plain": [
       "                 id   duration    user_id\n",
       "count    202,607.00 202,607.00 202,607.00\n",
       "mean   1,212,254.17       7.16   1,253.94\n",
       "std    1,725,756.38       5.96     144.72\n",
       "min       10,000.00       0.00   1,000.00\n",
       "25%    1,012,286.50       2.00   1,126.00\n",
       "50%    1,179,376.00       6.00   1,260.00\n",
       "75%    1,358,125.50      11.00   1,379.00\n",
       "max   14,581,154.00      38.00   1,499.00"
      ]
     },
     "execution_count": 14,
     "metadata": {},
     "output_type": "execute_result"
    }
   ],
   "source": [
    "calls.describe()"
   ]
  },
  {
   "cell_type": "code",
   "execution_count": 15,
   "metadata": {},
   "outputs": [
    {
     "data": {
      "image/png": "[encoded data removed]",
      "text/plain": [
       "<Figure size 1080x432 with 1 Axes>"
      ]
     },
     "metadata": {
      "needs_background": "light"
     },
     "output_type": "display_data"
    }
   ],
   "source": [
    "plt.figure(figsize=(15,6))\n",
    "calls['month'].hist()\n",
    "plt.xlabel('Месяц')\n",
    "plt.ylabel('Колличество пользователей')\n",
    "plt.title('Колличество звонков по месяцам')\n",
    "plt.show()"
   ]
  },
  {
   "cell_type": "markdown",
   "metadata": {},
   "source": [
    "Осная часть звонков приходится на \"отпускные\" месяцы, что можно объяснить увеличением числа звонков."
   ]
  },
  {
   "cell_type": "code",
   "execution_count": 16,
   "metadata": {},
   "outputs": [
    {
     "data": {
      "image/png": "[encoded data removed]",
      "text/plain": [
       "<Figure size 1080x432 with 1 Axes>"
      ]
     },
     "metadata": {
      "needs_background": "light"
     },
     "output_type": "display_data"
    }
   ],
   "source": [
    "plt.figure(figsize=(15,6))\n",
    "calls['duration'].hist(bins=10)\n",
    "plt.xlabel('Минуты')\n",
    "plt.ylabel('Колличество пользователей')\n",
    "plt.title('Длительность звонков')\n",
    "plt.show()"
   ]
  },
  {
   "cell_type": "markdown",
   "metadata": {},
   "source": [
    "Основная часть звонков длится до 20 минут. Модой будут значения до 5 минут, что можно объяснить переходом в мессенджер, краткое постановление задачи."
   ]
  },
  {
   "cell_type": "markdown",
   "metadata": {},
   "source": [
    "## internet\n",
    "В данной таблице необходимо:\n",
    "- преобразовать дату;\n",
    "- добавим столбец с месяцем;\n",
    "- удалим столбец \"Unnamed\"\n",
    "- изменить тип данных."
   ]
  },
  {
   "cell_type": "code",
   "execution_count": 17,
   "metadata": {},
   "outputs": [],
   "source": [
    "internet['session_date'] = pd.to_datetime(internet['session_date'], format='%Y-%m-%d')"
   ]
  },
  {
   "cell_type": "code",
   "execution_count": 18,
   "metadata": {},
   "outputs": [],
   "source": [
    "internet['month'] = internet['session_date'].dt.month_name()"
   ]
  },
  {
   "cell_type": "code",
   "execution_count": 19,
   "metadata": {},
   "outputs": [],
   "source": [
    "internet = internet.dropna(subset=['Unnamed: 0']) "
   ]
  },
  {
   "cell_type": "code",
   "execution_count": 20,
   "metadata": {},
   "outputs": [],
   "source": [
    "internet['id'] = internet['id'].astype('int')"
   ]
  },
  {
   "cell_type": "code",
   "execution_count": 21,
   "metadata": {},
   "outputs": [
    {
     "name": "stdout",
     "output_type": "stream",
     "text": [
      "<class 'pandas.core.frame.DataFrame'>\n",
      "Int64Index: 149396 entries, 0 to 149395\n",
      "Data columns (total 6 columns):\n",
      " #   Column        Non-Null Count   Dtype         \n",
      "---  ------        --------------   -----         \n",
      " 0   Unnamed: 0    149396 non-null  int64         \n",
      " 1   id            149396 non-null  int64         \n",
      " 2   mb_used       149396 non-null  float64       \n",
      " 3   session_date  149396 non-null  datetime64[ns]\n",
      " 4   user_id       149396 non-null  int64         \n",
      " 5   month         149396 non-null  object        \n",
      "dtypes: datetime64[ns](1), float64(1), int64(3), object(1)\n",
      "memory usage: 8.0+ MB\n"
     ]
    }
   ],
   "source": [
    "internet.info()"
   ]
  },
  {
   "cell_type": "code",
   "execution_count": 22,
   "metadata": {},
   "outputs": [
    {
     "data": {
      "image/png": "[encoded data removed]",
      "text/plain": [
       "<Figure size 1080x432 with 1 Axes>"
      ]
     },
     "metadata": {
      "needs_background": "light"
     },
     "output_type": "display_data"
    }
   ],
   "source": [
    "plt.figure(figsize=(15,6))\n",
    "internet['month'].hist()\n",
    "plt.xlabel('Месяц')\n",
    "plt.ylabel('Колличество пользователей')\n",
    "plt.title('Колличество интернет-сессий по месяцам')\n",
    "plt.show()"
   ]
  },
  {
   "cell_type": "markdown",
   "metadata": {},
   "source": [
    "Интернет-сессии в течение года неоднородны, моду можно объяснить тем, что кончаются каникулы у студентов и школьников, из-за чего при необходимости вспомнить материал прошлого года пользуются интернетом. "
   ]
  },
  {
   "cell_type": "code",
   "execution_count": 23,
   "metadata": {},
   "outputs": [
    {
     "data": {
      "image/png": "[encoded data removed]",
      "text/plain": [
       "<Figure size 1080x432 with 1 Axes>"
      ]
     },
     "metadata": {
      "needs_background": "light"
     },
     "output_type": "display_data"
    }
   ],
   "source": [
    "plt.figure(figsize=(15,6))\n",
    "internet['mb_used'].hist(bins=10)\n",
    "plt.xlabel('Использованых mb')\n",
    "plt.ylabel('Колличество пользователей')\n",
    "plt.title('Использованных mb по колличеству пользователей')\n",
    "plt.show()"
   ]
  },
  {
   "cell_type": "markdown",
   "metadata": {},
   "source": [
    "В основном пользователи не используют интенет за пределами тарифа. Основная часть приходися на диапазон 0-500 мб. И только небольшое число пользователей выходят за пределы 1000 мб."
   ]
  },
  {
   "cell_type": "markdown",
   "metadata": {},
   "source": [
    "## messages\n",
    "В данной таблице необходимо:\n",
    "- преобразовать дату;\n",
    "- добавим столбец с месяцем;\n",
    "- изменить тип данных."
   ]
  },
  {
   "cell_type": "code",
   "execution_count": 24,
   "metadata": {},
   "outputs": [],
   "source": [
    "messages['message_date'] = pd.to_datetime(messages['message_date'], format=\"%Y-%m-%d\")"
   ]
  },
  {
   "cell_type": "code",
   "execution_count": 25,
   "metadata": {},
   "outputs": [],
   "source": [
    "messages['month'] = messages['message_date'].dt.month_name()"
   ]
  },
  {
   "cell_type": "code",
   "execution_count": 26,
   "metadata": {},
   "outputs": [],
   "source": [
    "messages['id'] = messages['id'].astype('int')"
   ]
  },
  {
   "cell_type": "code",
   "execution_count": 27,
   "metadata": {},
   "outputs": [
    {
     "name": "stdout",
     "output_type": "stream",
     "text": [
      "<class 'pandas.core.frame.DataFrame'>\n",
      "RangeIndex: 123036 entries, 0 to 123035\n",
      "Data columns (total 4 columns):\n",
      " #   Column        Non-Null Count   Dtype         \n",
      "---  ------        --------------   -----         \n",
      " 0   id            123036 non-null  int64         \n",
      " 1   message_date  123036 non-null  datetime64[ns]\n",
      " 2   user_id       123036 non-null  int64         \n",
      " 3   month         123036 non-null  object        \n",
      "dtypes: datetime64[ns](1), int64(2), object(1)\n",
      "memory usage: 3.8+ MB\n"
     ]
    }
   ],
   "source": [
    "messages.info()"
   ]
  },
  {
   "cell_type": "code",
   "execution_count": 28,
   "metadata": {},
   "outputs": [
    {
     "data": {
      "image/png": "[encoded data removed]",
      "text/plain": [
       "<Figure size 1080x432 with 1 Axes>"
      ]
     },
     "metadata": {
      "needs_background": "light"
     },
     "output_type": "display_data"
    }
   ],
   "source": [
    "plt.figure(figsize=(15,6))\n",
    "messages['month'].hist()\n",
    "plt.xlabel('Месяц')\n",
    "plt.ylabel('Колличество пользователей')\n",
    "plt.title('Колличество смс по месяцам')\n",
    "plt.show()"
   ]
  },
  {
   "cell_type": "markdown",
   "metadata": {},
   "source": [
    "Осная часть SMS приходится на \"отпускные\" месяцы, что можно объяснить увеличением числа SMS."
   ]
  },
  {
   "cell_type": "markdown",
   "metadata": {},
   "source": [
    "## users\n",
    "В данной таблице необходимо:\n",
    "- преобразовать дату."
   ]
  },
  {
   "cell_type": "code",
   "execution_count": 29,
   "metadata": {},
   "outputs": [],
   "source": [
    "users['reg_date'] = pd.to_datetime(users['reg_date'], format='%Y-%m-%d')\n",
    "users['churn_date'] = pd.to_datetime(users['churn_date'], format='%Y-%m-%d')"
   ]
  },
  {
   "cell_type": "code",
   "execution_count": 30,
   "metadata": {
    "scrolled": true
   },
   "outputs": [
    {
     "data": {
      "text/html": [
       "<div>\n",
       "<style scoped>\n",
       "    .dataframe tbody tr th:only-of-type {\n",
       "        vertical-align: middle;\n",
       "    }\n",
       "\n",
       "    .dataframe tbody tr th {\n",
       "        vertical-align: top;\n",
       "    }\n",
       "\n",
       "    .dataframe thead th {\n",
       "        text-align: right;\n",
       "    }\n",
       "</style>\n",
       "<table border=\"1\" class=\"dataframe\">\n",
       "  <thead>\n",
       "    <tr style=\"text-align: right;\">\n",
       "      <th></th>\n",
       "      <th>user_id</th>\n",
       "      <th>age</th>\n",
       "      <th>churn_date</th>\n",
       "      <th>city</th>\n",
       "      <th>first_name</th>\n",
       "      <th>last_name</th>\n",
       "      <th>reg_date</th>\n",
       "      <th>tariff</th>\n",
       "    </tr>\n",
       "  </thead>\n",
       "  <tbody>\n",
       "    <tr>\n",
       "      <th>0</th>\n",
       "      <td>1000</td>\n",
       "      <td>52</td>\n",
       "      <td>NaT</td>\n",
       "      <td>Краснодар</td>\n",
       "      <td>Рафаил</td>\n",
       "      <td>Верещагин</td>\n",
       "      <td>2018-05-25</td>\n",
       "      <td>ultra</td>\n",
       "    </tr>\n",
       "    <tr>\n",
       "      <th>1</th>\n",
       "      <td>1001</td>\n",
       "      <td>41</td>\n",
       "      <td>NaT</td>\n",
       "      <td>Москва</td>\n",
       "      <td>Иван</td>\n",
       "      <td>Ежов</td>\n",
       "      <td>2018-11-01</td>\n",
       "      <td>smart</td>\n",
       "    </tr>\n",
       "    <tr>\n",
       "      <th>2</th>\n",
       "      <td>1002</td>\n",
       "      <td>59</td>\n",
       "      <td>NaT</td>\n",
       "      <td>Стерлитамак</td>\n",
       "      <td>Евгений</td>\n",
       "      <td>Абрамович</td>\n",
       "      <td>2018-06-17</td>\n",
       "      <td>smart</td>\n",
       "    </tr>\n",
       "    <tr>\n",
       "      <th>3</th>\n",
       "      <td>1003</td>\n",
       "      <td>23</td>\n",
       "      <td>NaT</td>\n",
       "      <td>Москва</td>\n",
       "      <td>Белла</td>\n",
       "      <td>Белякова</td>\n",
       "      <td>2018-08-17</td>\n",
       "      <td>ultra</td>\n",
       "    </tr>\n",
       "    <tr>\n",
       "      <th>4</th>\n",
       "      <td>1004</td>\n",
       "      <td>68</td>\n",
       "      <td>NaT</td>\n",
       "      <td>Новокузнецк</td>\n",
       "      <td>Татьяна</td>\n",
       "      <td>Авдеенко</td>\n",
       "      <td>2018-05-14</td>\n",
       "      <td>ultra</td>\n",
       "    </tr>\n",
       "  </tbody>\n",
       "</table>\n",
       "</div>"
      ],
      "text/plain": [
       "   user_id  age churn_date         city first_name  last_name   reg_date  \\\n",
       "0     1000   52        NaT    Краснодар     Рафаил  Верещагин 2018-05-25   \n",
       "1     1001   41        NaT       Москва       Иван       Ежов 2018-11-01   \n",
       "2     1002   59        NaT  Стерлитамак    Евгений  Абрамович 2018-06-17   \n",
       "3     1003   23        NaT       Москва      Белла   Белякова 2018-08-17   \n",
       "4     1004   68        NaT  Новокузнецк    Татьяна   Авдеенко 2018-05-14   \n",
       "\n",
       "  tariff  \n",
       "0  ultra  \n",
       "1  smart  \n",
       "2  smart  \n",
       "3  ultra  \n",
       "4  ultra  "
      ]
     },
     "execution_count": 30,
     "metadata": {},
     "output_type": "execute_result"
    }
   ],
   "source": [
    "users.head()"
   ]
  },
  {
   "cell_type": "markdown",
   "metadata": {},
   "source": [
    "## tariffs"
   ]
  },
  {
   "cell_type": "code",
   "execution_count": 31,
   "metadata": {},
   "outputs": [
    {
     "data": {
      "text/html": [
       "<div>\n",
       "<style scoped>\n",
       "    .dataframe tbody tr th:only-of-type {\n",
       "        vertical-align: middle;\n",
       "    }\n",
       "\n",
       "    .dataframe tbody tr th {\n",
       "        vertical-align: top;\n",
       "    }\n",
       "\n",
       "    .dataframe thead th {\n",
       "        text-align: right;\n",
       "    }\n",
       "</style>\n",
       "<table border=\"1\" class=\"dataframe\">\n",
       "  <thead>\n",
       "    <tr style=\"text-align: right;\">\n",
       "      <th></th>\n",
       "      <th>messages_included</th>\n",
       "      <th>mb_per_month_included</th>\n",
       "      <th>minutes_included</th>\n",
       "      <th>rub_monthly_fee</th>\n",
       "      <th>rub_per_gb</th>\n",
       "      <th>rub_per_message</th>\n",
       "      <th>rub_per_minute</th>\n",
       "      <th>tariff_name</th>\n",
       "    </tr>\n",
       "  </thead>\n",
       "  <tbody>\n",
       "    <tr>\n",
       "      <th>0</th>\n",
       "      <td>50</td>\n",
       "      <td>15360</td>\n",
       "      <td>500</td>\n",
       "      <td>550</td>\n",
       "      <td>200</td>\n",
       "      <td>3</td>\n",
       "      <td>3</td>\n",
       "      <td>smart</td>\n",
       "    </tr>\n",
       "    <tr>\n",
       "      <th>1</th>\n",
       "      <td>1000</td>\n",
       "      <td>30720</td>\n",
       "      <td>3000</td>\n",
       "      <td>1950</td>\n",
       "      <td>150</td>\n",
       "      <td>1</td>\n",
       "      <td>1</td>\n",
       "      <td>ultra</td>\n",
       "    </tr>\n",
       "  </tbody>\n",
       "</table>\n",
       "</div>"
      ],
      "text/plain": [
       "   messages_included  mb_per_month_included  minutes_included  \\\n",
       "0                 50                  15360               500   \n",
       "1               1000                  30720              3000   \n",
       "\n",
       "   rub_monthly_fee  rub_per_gb  rub_per_message  rub_per_minute tariff_name  \n",
       "0              550         200                3               3       smart  \n",
       "1             1950         150                1               1       ultra  "
      ]
     },
     "execution_count": 31,
     "metadata": {},
     "output_type": "execute_result"
    }
   ],
   "source": [
    "tariffs.head()"
   ]
  },
  {
   "cell_type": "code",
   "execution_count": 32,
   "metadata": {},
   "outputs": [],
   "source": [
    "tariffs = tariffs.rename(columns={'tariff_name':'tariff'})"
   ]
  },
  {
   "cell_type": "code",
   "execution_count": 33,
   "metadata": {},
   "outputs": [
    {
     "name": "stdout",
     "output_type": "stream",
     "text": [
      "<class 'pandas.core.frame.DataFrame'>\n",
      "RangeIndex: 2 entries, 0 to 1\n",
      "Data columns (total 8 columns):\n",
      " #   Column                 Non-Null Count  Dtype \n",
      "---  ------                 --------------  ----- \n",
      " 0   messages_included      2 non-null      int64 \n",
      " 1   mb_per_month_included  2 non-null      int64 \n",
      " 2   minutes_included       2 non-null      int64 \n",
      " 3   rub_monthly_fee        2 non-null      int64 \n",
      " 4   rub_per_gb             2 non-null      int64 \n",
      " 5   rub_per_message        2 non-null      int64 \n",
      " 6   rub_per_minute         2 non-null      int64 \n",
      " 7   tariff                 2 non-null      object\n",
      "dtypes: int64(7), object(1)\n",
      "memory usage: 256.0+ bytes\n"
     ]
    }
   ],
   "source": [
    "tariffs.info()"
   ]
  },
  {
   "cell_type": "markdown",
   "metadata": {},
   "source": [
    "В таблице \"tariffs\" правки не нужны."
   ]
  },
  {
   "cell_type": "markdown",
   "metadata": {},
   "source": [
    "**Вывод**  \n",
    "Мы предобработали каждый столбец, поработали с датами, привели данные к необходимым типам.\n",
    "В данных о звонках имеются нулевые значения, из описания к заданию выясняется, что это - пропущенные значения, значит их не заменяем."
   ]
  },
  {
   "cell_type": "markdown",
   "metadata": {},
   "source": [
    "# Подготовка данных\n",
    "Посчитайте для каждого пользователя:\n",
    "- количество сделанных звонков и израсходованных минут разговора по месяцам;\n",
    "- количество отправленных сообщений по месяцам;\n",
    "- объем израсходованного интернет-трафика по месяцам;\n",
    "- помесячную выручку с каждого пользователя (вычтите бесплатный лимит из суммарного количества звонков, сообщений и интернет-трафика; остаток умножьте на значение из тарифного плана; прибавьте абонентскую плату, соответствующую тарифному плану)."
   ]
  },
  {
   "cell_type": "markdown",
   "metadata": {},
   "source": [
    "## Количество сделанных звонков и израсходованных минут разговора по месяцам"
   ]
  },
  {
   "cell_type": "code",
   "execution_count": 34,
   "metadata": {},
   "outputs": [
    {
     "data": {
      "text/html": [
       "<div>\n",
       "<style scoped>\n",
       "    .dataframe tbody tr th:only-of-type {\n",
       "        vertical-align: middle;\n",
       "    }\n",
       "\n",
       "    .dataframe tbody tr th {\n",
       "        vertical-align: top;\n",
       "    }\n",
       "\n",
       "    .dataframe thead th {\n",
       "        text-align: right;\n",
       "    }\n",
       "</style>\n",
       "<table border=\"1\" class=\"dataframe\">\n",
       "  <thead>\n",
       "    <tr style=\"text-align: right;\">\n",
       "      <th></th>\n",
       "      <th>id</th>\n",
       "      <th>call_date</th>\n",
       "      <th>duration</th>\n",
       "      <th>user_id</th>\n",
       "      <th>month</th>\n",
       "    </tr>\n",
       "  </thead>\n",
       "  <tbody>\n",
       "    <tr>\n",
       "      <th>0</th>\n",
       "      <td>10000</td>\n",
       "      <td>2018-07-25</td>\n",
       "      <td>0</td>\n",
       "      <td>1000</td>\n",
       "      <td>July</td>\n",
       "    </tr>\n",
       "    <tr>\n",
       "      <th>1</th>\n",
       "      <td>10001</td>\n",
       "      <td>2018-08-17</td>\n",
       "      <td>0</td>\n",
       "      <td>1000</td>\n",
       "      <td>August</td>\n",
       "    </tr>\n",
       "    <tr>\n",
       "      <th>2</th>\n",
       "      <td>10002</td>\n",
       "      <td>2018-06-11</td>\n",
       "      <td>3</td>\n",
       "      <td>1000</td>\n",
       "      <td>June</td>\n",
       "    </tr>\n",
       "    <tr>\n",
       "      <th>3</th>\n",
       "      <td>10003</td>\n",
       "      <td>2018-09-21</td>\n",
       "      <td>14</td>\n",
       "      <td>1000</td>\n",
       "      <td>September</td>\n",
       "    </tr>\n",
       "    <tr>\n",
       "      <th>4</th>\n",
       "      <td>10004</td>\n",
       "      <td>2018-12-15</td>\n",
       "      <td>6</td>\n",
       "      <td>1000</td>\n",
       "      <td>December</td>\n",
       "    </tr>\n",
       "  </tbody>\n",
       "</table>\n",
       "</div>"
      ],
      "text/plain": [
       "      id  call_date  duration  user_id      month\n",
       "0  10000 2018-07-25         0     1000       July\n",
       "1  10001 2018-08-17         0     1000     August\n",
       "2  10002 2018-06-11         3     1000       June\n",
       "3  10003 2018-09-21        14     1000  September\n",
       "4  10004 2018-12-15         6     1000   December"
      ]
     },
     "execution_count": 34,
     "metadata": {},
     "output_type": "execute_result"
    }
   ],
   "source": [
    "# Посмотрим на таблицу\n",
    "\n",
    "calls.head()"
   ]
  },
  {
   "cell_type": "code",
   "execution_count": 35,
   "metadata": {},
   "outputs": [],
   "source": [
    "# Группируем, добавляем, сбрасываем и переименовываем, чтобы в дальнейшем всё было понятно\n",
    "\n",
    "user_calls = calls.groupby(['user_id', 'month'])\\\n",
    "                  .agg({'duration':'sum', 'id':'count'})\\\n",
    "                  .reset_index()\\\n",
    "                  .rename(columns={'duration':'month_calls_duration','id':'calls_total_in_month'})"
   ]
  },
  {
   "cell_type": "code",
   "execution_count": 36,
   "metadata": {},
   "outputs": [
    {
     "data": {
      "text/html": [
       "<div>\n",
       "<style scoped>\n",
       "    .dataframe tbody tr th:only-of-type {\n",
       "        vertical-align: middle;\n",
       "    }\n",
       "\n",
       "    .dataframe tbody tr th {\n",
       "        vertical-align: top;\n",
       "    }\n",
       "\n",
       "    .dataframe thead th {\n",
       "        text-align: right;\n",
       "    }\n",
       "</style>\n",
       "<table border=\"1\" class=\"dataframe\">\n",
       "  <thead>\n",
       "    <tr style=\"text-align: right;\">\n",
       "      <th></th>\n",
       "      <th>user_id</th>\n",
       "      <th>month</th>\n",
       "      <th>month_calls_duration</th>\n",
       "      <th>calls_total_in_month</th>\n",
       "    </tr>\n",
       "  </thead>\n",
       "  <tbody>\n",
       "    <tr>\n",
       "      <th>0</th>\n",
       "      <td>1000</td>\n",
       "      <td>August</td>\n",
       "      <td>408</td>\n",
       "      <td>52</td>\n",
       "    </tr>\n",
       "    <tr>\n",
       "      <th>1</th>\n",
       "      <td>1000</td>\n",
       "      <td>December</td>\n",
       "      <td>333</td>\n",
       "      <td>46</td>\n",
       "    </tr>\n",
       "    <tr>\n",
       "      <th>2</th>\n",
       "      <td>1000</td>\n",
       "      <td>July</td>\n",
       "      <td>340</td>\n",
       "      <td>47</td>\n",
       "    </tr>\n",
       "    <tr>\n",
       "      <th>3</th>\n",
       "      <td>1000</td>\n",
       "      <td>June</td>\n",
       "      <td>172</td>\n",
       "      <td>43</td>\n",
       "    </tr>\n",
       "    <tr>\n",
       "      <th>4</th>\n",
       "      <td>1000</td>\n",
       "      <td>May</td>\n",
       "      <td>159</td>\n",
       "      <td>22</td>\n",
       "    </tr>\n",
       "  </tbody>\n",
       "</table>\n",
       "</div>"
      ],
      "text/plain": [
       "   user_id     month  month_calls_duration  calls_total_in_month\n",
       "0     1000    August                   408                    52\n",
       "1     1000  December                   333                    46\n",
       "2     1000      July                   340                    47\n",
       "3     1000      June                   172                    43\n",
       "4     1000       May                   159                    22"
      ]
     },
     "execution_count": 36,
     "metadata": {},
     "output_type": "execute_result"
    }
   ],
   "source": [
    "# Проверяем\n",
    "\n",
    "user_calls.head()"
   ]
  },
  {
   "cell_type": "markdown",
   "metadata": {},
   "source": [
    "## Количество отправленных сообщений по месяцам"
   ]
  },
  {
   "cell_type": "code",
   "execution_count": 37,
   "metadata": {},
   "outputs": [
    {
     "data": {
      "text/html": [
       "<div>\n",
       "<style scoped>\n",
       "    .dataframe tbody tr th:only-of-type {\n",
       "        vertical-align: middle;\n",
       "    }\n",
       "\n",
       "    .dataframe tbody tr th {\n",
       "        vertical-align: top;\n",
       "    }\n",
       "\n",
       "    .dataframe thead th {\n",
       "        text-align: right;\n",
       "    }\n",
       "</style>\n",
       "<table border=\"1\" class=\"dataframe\">\n",
       "  <thead>\n",
       "    <tr style=\"text-align: right;\">\n",
       "      <th></th>\n",
       "      <th>id</th>\n",
       "      <th>message_date</th>\n",
       "      <th>user_id</th>\n",
       "      <th>month</th>\n",
       "    </tr>\n",
       "  </thead>\n",
       "  <tbody>\n",
       "    <tr>\n",
       "      <th>0</th>\n",
       "      <td>10000</td>\n",
       "      <td>2018-06-27</td>\n",
       "      <td>1000</td>\n",
       "      <td>June</td>\n",
       "    </tr>\n",
       "    <tr>\n",
       "      <th>1</th>\n",
       "      <td>10001</td>\n",
       "      <td>2018-10-08</td>\n",
       "      <td>1000</td>\n",
       "      <td>October</td>\n",
       "    </tr>\n",
       "    <tr>\n",
       "      <th>2</th>\n",
       "      <td>10002</td>\n",
       "      <td>2018-08-04</td>\n",
       "      <td>1000</td>\n",
       "      <td>August</td>\n",
       "    </tr>\n",
       "    <tr>\n",
       "      <th>3</th>\n",
       "      <td>10003</td>\n",
       "      <td>2018-06-16</td>\n",
       "      <td>1000</td>\n",
       "      <td>June</td>\n",
       "    </tr>\n",
       "    <tr>\n",
       "      <th>4</th>\n",
       "      <td>10004</td>\n",
       "      <td>2018-12-05</td>\n",
       "      <td>1000</td>\n",
       "      <td>December</td>\n",
       "    </tr>\n",
       "  </tbody>\n",
       "</table>\n",
       "</div>"
      ],
      "text/plain": [
       "      id message_date  user_id     month\n",
       "0  10000   2018-06-27     1000      June\n",
       "1  10001   2018-10-08     1000   October\n",
       "2  10002   2018-08-04     1000    August\n",
       "3  10003   2018-06-16     1000      June\n",
       "4  10004   2018-12-05     1000  December"
      ]
     },
     "execution_count": 37,
     "metadata": {},
     "output_type": "execute_result"
    }
   ],
   "source": [
    "# Как и выше\n",
    "\n",
    "messages.head()"
   ]
  },
  {
   "cell_type": "code",
   "execution_count": 38,
   "metadata": {},
   "outputs": [],
   "source": [
    "user_messages = messages.groupby(['user_id', 'month'])\\\n",
    "                        .agg({'id':'count'})\\\n",
    "                        .reset_index()\\\n",
    "                        .rename(columns={'id':'sms_total_in_month'})"
   ]
  },
  {
   "cell_type": "code",
   "execution_count": 39,
   "metadata": {},
   "outputs": [
    {
     "data": {
      "text/html": [
       "<div>\n",
       "<style scoped>\n",
       "    .dataframe tbody tr th:only-of-type {\n",
       "        vertical-align: middle;\n",
       "    }\n",
       "\n",
       "    .dataframe tbody tr th {\n",
       "        vertical-align: top;\n",
       "    }\n",
       "\n",
       "    .dataframe thead th {\n",
       "        text-align: right;\n",
       "    }\n",
       "</style>\n",
       "<table border=\"1\" class=\"dataframe\">\n",
       "  <thead>\n",
       "    <tr style=\"text-align: right;\">\n",
       "      <th></th>\n",
       "      <th>user_id</th>\n",
       "      <th>month</th>\n",
       "      <th>sms_total_in_month</th>\n",
       "    </tr>\n",
       "  </thead>\n",
       "  <tbody>\n",
       "    <tr>\n",
       "      <th>0</th>\n",
       "      <td>1000</td>\n",
       "      <td>August</td>\n",
       "      <td>81</td>\n",
       "    </tr>\n",
       "    <tr>\n",
       "      <th>1</th>\n",
       "      <td>1000</td>\n",
       "      <td>December</td>\n",
       "      <td>70</td>\n",
       "    </tr>\n",
       "    <tr>\n",
       "      <th>2</th>\n",
       "      <td>1000</td>\n",
       "      <td>July</td>\n",
       "      <td>75</td>\n",
       "    </tr>\n",
       "    <tr>\n",
       "      <th>3</th>\n",
       "      <td>1000</td>\n",
       "      <td>June</td>\n",
       "      <td>60</td>\n",
       "    </tr>\n",
       "    <tr>\n",
       "      <th>4</th>\n",
       "      <td>1000</td>\n",
       "      <td>May</td>\n",
       "      <td>22</td>\n",
       "    </tr>\n",
       "  </tbody>\n",
       "</table>\n",
       "</div>"
      ],
      "text/plain": [
       "   user_id     month  sms_total_in_month\n",
       "0     1000    August                  81\n",
       "1     1000  December                  70\n",
       "2     1000      July                  75\n",
       "3     1000      June                  60\n",
       "4     1000       May                  22"
      ]
     },
     "execution_count": 39,
     "metadata": {},
     "output_type": "execute_result"
    }
   ],
   "source": [
    "user_messages.head()"
   ]
  },
  {
   "cell_type": "markdown",
   "metadata": {},
   "source": [
    "## Объем израсходованного интернет-трафика по месяцам"
   ]
  },
  {
   "cell_type": "code",
   "execution_count": 40,
   "metadata": {},
   "outputs": [
    {
     "data": {
      "text/html": [
       "<div>\n",
       "<style scoped>\n",
       "    .dataframe tbody tr th:only-of-type {\n",
       "        vertical-align: middle;\n",
       "    }\n",
       "\n",
       "    .dataframe tbody tr th {\n",
       "        vertical-align: top;\n",
       "    }\n",
       "\n",
       "    .dataframe thead th {\n",
       "        text-align: right;\n",
       "    }\n",
       "</style>\n",
       "<table border=\"1\" class=\"dataframe\">\n",
       "  <thead>\n",
       "    <tr style=\"text-align: right;\">\n",
       "      <th></th>\n",
       "      <th>Unnamed: 0</th>\n",
       "      <th>id</th>\n",
       "      <th>mb_used</th>\n",
       "      <th>session_date</th>\n",
       "      <th>user_id</th>\n",
       "      <th>month</th>\n",
       "    </tr>\n",
       "  </thead>\n",
       "  <tbody>\n",
       "    <tr>\n",
       "      <th>0</th>\n",
       "      <td>0</td>\n",
       "      <td>10000</td>\n",
       "      <td>112.95</td>\n",
       "      <td>2018-11-25</td>\n",
       "      <td>1000</td>\n",
       "      <td>November</td>\n",
       "    </tr>\n",
       "    <tr>\n",
       "      <th>1</th>\n",
       "      <td>1</td>\n",
       "      <td>10001</td>\n",
       "      <td>1,052.81</td>\n",
       "      <td>2018-09-07</td>\n",
       "      <td>1000</td>\n",
       "      <td>September</td>\n",
       "    </tr>\n",
       "    <tr>\n",
       "      <th>2</th>\n",
       "      <td>2</td>\n",
       "      <td>10002</td>\n",
       "      <td>1,197.26</td>\n",
       "      <td>2018-06-25</td>\n",
       "      <td>1000</td>\n",
       "      <td>June</td>\n",
       "    </tr>\n",
       "    <tr>\n",
       "      <th>3</th>\n",
       "      <td>3</td>\n",
       "      <td>10003</td>\n",
       "      <td>550.27</td>\n",
       "      <td>2018-08-22</td>\n",
       "      <td>1000</td>\n",
       "      <td>August</td>\n",
       "    </tr>\n",
       "    <tr>\n",
       "      <th>4</th>\n",
       "      <td>4</td>\n",
       "      <td>10004</td>\n",
       "      <td>302.56</td>\n",
       "      <td>2018-09-24</td>\n",
       "      <td>1000</td>\n",
       "      <td>September</td>\n",
       "    </tr>\n",
       "  </tbody>\n",
       "</table>\n",
       "</div>"
      ],
      "text/plain": [
       "   Unnamed: 0     id  mb_used session_date  user_id      month\n",
       "0           0  10000   112.95   2018-11-25     1000   November\n",
       "1           1  10001 1,052.81   2018-09-07     1000  September\n",
       "2           2  10002 1,197.26   2018-06-25     1000       June\n",
       "3           3  10003   550.27   2018-08-22     1000     August\n",
       "4           4  10004   302.56   2018-09-24     1000  September"
      ]
     },
     "execution_count": 40,
     "metadata": {},
     "output_type": "execute_result"
    }
   ],
   "source": [
    "internet.head()"
   ]
  },
  {
   "cell_type": "code",
   "execution_count": 41,
   "metadata": {},
   "outputs": [],
   "source": [
    "user_internet = internet.groupby(['user_id', 'month'])\\\n",
    "                        .agg({'mb_used':'sum'})\\\n",
    "                        .reset_index()\\\n",
    "                        .rename(columns={'mb_used':'mb_total_in_month'})"
   ]
  },
  {
   "cell_type": "code",
   "execution_count": 42,
   "metadata": {},
   "outputs": [
    {
     "data": {
      "text/html": [
       "<div>\n",
       "<style scoped>\n",
       "    .dataframe tbody tr th:only-of-type {\n",
       "        vertical-align: middle;\n",
       "    }\n",
       "\n",
       "    .dataframe tbody tr th {\n",
       "        vertical-align: top;\n",
       "    }\n",
       "\n",
       "    .dataframe thead th {\n",
       "        text-align: right;\n",
       "    }\n",
       "</style>\n",
       "<table border=\"1\" class=\"dataframe\">\n",
       "  <thead>\n",
       "    <tr style=\"text-align: right;\">\n",
       "      <th></th>\n",
       "      <th>user_id</th>\n",
       "      <th>month</th>\n",
       "      <th>mb_total_in_month</th>\n",
       "    </tr>\n",
       "  </thead>\n",
       "  <tbody>\n",
       "    <tr>\n",
       "      <th>0</th>\n",
       "      <td>1000</td>\n",
       "      <td>August</td>\n",
       "      <td>14,055.93</td>\n",
       "    </tr>\n",
       "    <tr>\n",
       "      <th>1</th>\n",
       "      <td>1000</td>\n",
       "      <td>December</td>\n",
       "      <td>9,817.61</td>\n",
       "    </tr>\n",
       "    <tr>\n",
       "      <th>2</th>\n",
       "      <td>1000</td>\n",
       "      <td>July</td>\n",
       "      <td>14,003.64</td>\n",
       "    </tr>\n",
       "    <tr>\n",
       "      <th>3</th>\n",
       "      <td>1000</td>\n",
       "      <td>June</td>\n",
       "      <td>23,233.77</td>\n",
       "    </tr>\n",
       "    <tr>\n",
       "      <th>4</th>\n",
       "      <td>1000</td>\n",
       "      <td>May</td>\n",
       "      <td>2,253.49</td>\n",
       "    </tr>\n",
       "  </tbody>\n",
       "</table>\n",
       "</div>"
      ],
      "text/plain": [
       "   user_id     month  mb_total_in_month\n",
       "0     1000    August          14,055.93\n",
       "1     1000  December           9,817.61\n",
       "2     1000      July          14,003.64\n",
       "3     1000      June          23,233.77\n",
       "4     1000       May           2,253.49"
      ]
     },
     "execution_count": 42,
     "metadata": {},
     "output_type": "execute_result"
    }
   ],
   "source": [
    "user_internet.head()"
   ]
  },
  {
   "cell_type": "markdown",
   "metadata": {},
   "source": [
    "## Месячная выручка с каждого пользователя"
   ]
  },
  {
   "cell_type": "code",
   "execution_count": 43,
   "metadata": {},
   "outputs": [
    {
     "data": {
      "text/html": [
       "<div>\n",
       "<style scoped>\n",
       "    .dataframe tbody tr th:only-of-type {\n",
       "        vertical-align: middle;\n",
       "    }\n",
       "\n",
       "    .dataframe tbody tr th {\n",
       "        vertical-align: top;\n",
       "    }\n",
       "\n",
       "    .dataframe thead th {\n",
       "        text-align: right;\n",
       "    }\n",
       "</style>\n",
       "<table border=\"1\" class=\"dataframe\">\n",
       "  <thead>\n",
       "    <tr style=\"text-align: right;\">\n",
       "      <th></th>\n",
       "      <th>user_id</th>\n",
       "      <th>month</th>\n",
       "      <th>month_calls_duration</th>\n",
       "      <th>calls_total_in_month</th>\n",
       "      <th>sms_total_in_month</th>\n",
       "    </tr>\n",
       "  </thead>\n",
       "  <tbody>\n",
       "    <tr>\n",
       "      <th>0</th>\n",
       "      <td>1000</td>\n",
       "      <td>August</td>\n",
       "      <td>408.00</td>\n",
       "      <td>52.00</td>\n",
       "      <td>81.00</td>\n",
       "    </tr>\n",
       "    <tr>\n",
       "      <th>1</th>\n",
       "      <td>1000</td>\n",
       "      <td>December</td>\n",
       "      <td>333.00</td>\n",
       "      <td>46.00</td>\n",
       "      <td>70.00</td>\n",
       "    </tr>\n",
       "    <tr>\n",
       "      <th>2</th>\n",
       "      <td>1000</td>\n",
       "      <td>July</td>\n",
       "      <td>340.00</td>\n",
       "      <td>47.00</td>\n",
       "      <td>75.00</td>\n",
       "    </tr>\n",
       "    <tr>\n",
       "      <th>3</th>\n",
       "      <td>1000</td>\n",
       "      <td>June</td>\n",
       "      <td>172.00</td>\n",
       "      <td>43.00</td>\n",
       "      <td>60.00</td>\n",
       "    </tr>\n",
       "    <tr>\n",
       "      <th>4</th>\n",
       "      <td>1000</td>\n",
       "      <td>May</td>\n",
       "      <td>159.00</td>\n",
       "      <td>22.00</td>\n",
       "      <td>22.00</td>\n",
       "    </tr>\n",
       "    <tr>\n",
       "      <th>5</th>\n",
       "      <td>1000</td>\n",
       "      <td>November</td>\n",
       "      <td>338.00</td>\n",
       "      <td>43.00</td>\n",
       "      <td>58.00</td>\n",
       "    </tr>\n",
       "    <tr>\n",
       "      <th>6</th>\n",
       "      <td>1000</td>\n",
       "      <td>October</td>\n",
       "      <td>350.00</td>\n",
       "      <td>57.00</td>\n",
       "      <td>73.00</td>\n",
       "    </tr>\n",
       "    <tr>\n",
       "      <th>7</th>\n",
       "      <td>1000</td>\n",
       "      <td>September</td>\n",
       "      <td>466.00</td>\n",
       "      <td>58.00</td>\n",
       "      <td>57.00</td>\n",
       "    </tr>\n",
       "    <tr>\n",
       "      <th>8</th>\n",
       "      <td>1001</td>\n",
       "      <td>December</td>\n",
       "      <td>414.00</td>\n",
       "      <td>63.00</td>\n",
       "      <td>NaN</td>\n",
       "    </tr>\n",
       "    <tr>\n",
       "      <th>9</th>\n",
       "      <td>1001</td>\n",
       "      <td>November</td>\n",
       "      <td>430.00</td>\n",
       "      <td>59.00</td>\n",
       "      <td>NaN</td>\n",
       "    </tr>\n",
       "  </tbody>\n",
       "</table>\n",
       "</div>"
      ],
      "text/plain": [
       "   user_id      month  month_calls_duration  calls_total_in_month  \\\n",
       "0     1000     August                408.00                 52.00   \n",
       "1     1000   December                333.00                 46.00   \n",
       "2     1000       July                340.00                 47.00   \n",
       "3     1000       June                172.00                 43.00   \n",
       "4     1000        May                159.00                 22.00   \n",
       "5     1000   November                338.00                 43.00   \n",
       "6     1000    October                350.00                 57.00   \n",
       "7     1000  September                466.00                 58.00   \n",
       "8     1001   December                414.00                 63.00   \n",
       "9     1001   November                430.00                 59.00   \n",
       "\n",
       "   sms_total_in_month  \n",
       "0               81.00  \n",
       "1               70.00  \n",
       "2               75.00  \n",
       "3               60.00  \n",
       "4               22.00  \n",
       "5               58.00  \n",
       "6               73.00  \n",
       "7               57.00  \n",
       "8                 NaN  \n",
       "9                 NaN  "
      ]
     },
     "execution_count": 43,
     "metadata": {},
     "output_type": "execute_result"
    }
   ],
   "source": [
    "# Склеим в одно\n",
    "\n",
    "data = user_calls.merge(user_messages, on=['user_id','month'], how='outer')\n",
    "data.head(10)"
   ]
  },
  {
   "cell_type": "code",
   "execution_count": 44,
   "metadata": {
    "scrolled": true
   },
   "outputs": [
    {
     "data": {
      "text/html": [
       "<div>\n",
       "<style scoped>\n",
       "    .dataframe tbody tr th:only-of-type {\n",
       "        vertical-align: middle;\n",
       "    }\n",
       "\n",
       "    .dataframe tbody tr th {\n",
       "        vertical-align: top;\n",
       "    }\n",
       "\n",
       "    .dataframe thead th {\n",
       "        text-align: right;\n",
       "    }\n",
       "</style>\n",
       "<table border=\"1\" class=\"dataframe\">\n",
       "  <thead>\n",
       "    <tr style=\"text-align: right;\">\n",
       "      <th></th>\n",
       "      <th>user_id</th>\n",
       "      <th>month</th>\n",
       "      <th>month_calls_duration</th>\n",
       "      <th>calls_total_in_month</th>\n",
       "      <th>sms_total_in_month</th>\n",
       "      <th>mb_total_in_month</th>\n",
       "    </tr>\n",
       "  </thead>\n",
       "  <tbody>\n",
       "    <tr>\n",
       "      <th>0</th>\n",
       "      <td>1000</td>\n",
       "      <td>August</td>\n",
       "      <td>408.00</td>\n",
       "      <td>52.00</td>\n",
       "      <td>81.00</td>\n",
       "      <td>14,055.93</td>\n",
       "    </tr>\n",
       "    <tr>\n",
       "      <th>1</th>\n",
       "      <td>1000</td>\n",
       "      <td>December</td>\n",
       "      <td>333.00</td>\n",
       "      <td>46.00</td>\n",
       "      <td>70.00</td>\n",
       "      <td>9,817.61</td>\n",
       "    </tr>\n",
       "    <tr>\n",
       "      <th>2</th>\n",
       "      <td>1000</td>\n",
       "      <td>July</td>\n",
       "      <td>340.00</td>\n",
       "      <td>47.00</td>\n",
       "      <td>75.00</td>\n",
       "      <td>14,003.64</td>\n",
       "    </tr>\n",
       "    <tr>\n",
       "      <th>3</th>\n",
       "      <td>1000</td>\n",
       "      <td>June</td>\n",
       "      <td>172.00</td>\n",
       "      <td>43.00</td>\n",
       "      <td>60.00</td>\n",
       "      <td>23,233.77</td>\n",
       "    </tr>\n",
       "    <tr>\n",
       "      <th>4</th>\n",
       "      <td>1000</td>\n",
       "      <td>May</td>\n",
       "      <td>159.00</td>\n",
       "      <td>22.00</td>\n",
       "      <td>22.00</td>\n",
       "      <td>2,253.49</td>\n",
       "    </tr>\n",
       "  </tbody>\n",
       "</table>\n",
       "</div>"
      ],
      "text/plain": [
       "   user_id     month  month_calls_duration  calls_total_in_month  \\\n",
       "0     1000    August                408.00                 52.00   \n",
       "1     1000  December                333.00                 46.00   \n",
       "2     1000      July                340.00                 47.00   \n",
       "3     1000      June                172.00                 43.00   \n",
       "4     1000       May                159.00                 22.00   \n",
       "\n",
       "   sms_total_in_month  mb_total_in_month  \n",
       "0               81.00          14,055.93  \n",
       "1               70.00           9,817.61  \n",
       "2               75.00          14,003.64  \n",
       "3               60.00          23,233.77  \n",
       "4               22.00           2,253.49  "
      ]
     },
     "execution_count": 44,
     "metadata": {},
     "output_type": "execute_result"
    }
   ],
   "source": [
    "data = data.merge(user_internet, on=['user_id','month'], how = 'outer')\n",
    "data.head()"
   ]
  },
  {
   "cell_type": "code",
   "execution_count": 45,
   "metadata": {},
   "outputs": [
    {
     "data": {
      "text/html": [
       "<div>\n",
       "<style scoped>\n",
       "    .dataframe tbody tr th:only-of-type {\n",
       "        vertical-align: middle;\n",
       "    }\n",
       "\n",
       "    .dataframe tbody tr th {\n",
       "        vertical-align: top;\n",
       "    }\n",
       "\n",
       "    .dataframe thead th {\n",
       "        text-align: right;\n",
       "    }\n",
       "</style>\n",
       "<table border=\"1\" class=\"dataframe\">\n",
       "  <thead>\n",
       "    <tr style=\"text-align: right;\">\n",
       "      <th></th>\n",
       "      <th>messages_included</th>\n",
       "      <th>mb_per_month_included</th>\n",
       "      <th>minutes_included</th>\n",
       "      <th>rub_monthly_fee</th>\n",
       "      <th>rub_per_gb</th>\n",
       "      <th>rub_per_message</th>\n",
       "      <th>rub_per_minute</th>\n",
       "      <th>tariff</th>\n",
       "    </tr>\n",
       "  </thead>\n",
       "  <tbody>\n",
       "    <tr>\n",
       "      <th>0</th>\n",
       "      <td>50</td>\n",
       "      <td>15360</td>\n",
       "      <td>500</td>\n",
       "      <td>550</td>\n",
       "      <td>200</td>\n",
       "      <td>3</td>\n",
       "      <td>3</td>\n",
       "      <td>smart</td>\n",
       "    </tr>\n",
       "    <tr>\n",
       "      <th>1</th>\n",
       "      <td>1000</td>\n",
       "      <td>30720</td>\n",
       "      <td>3000</td>\n",
       "      <td>1950</td>\n",
       "      <td>150</td>\n",
       "      <td>1</td>\n",
       "      <td>1</td>\n",
       "      <td>ultra</td>\n",
       "    </tr>\n",
       "  </tbody>\n",
       "</table>\n",
       "</div>"
      ],
      "text/plain": [
       "   messages_included  mb_per_month_included  minutes_included  \\\n",
       "0                 50                  15360               500   \n",
       "1               1000                  30720              3000   \n",
       "\n",
       "   rub_monthly_fee  rub_per_gb  rub_per_message  rub_per_minute tariff  \n",
       "0              550         200                3               3  smart  \n",
       "1             1950         150                1               1  ultra  "
      ]
     },
     "execution_count": 45,
     "metadata": {},
     "output_type": "execute_result"
    }
   ],
   "source": [
    "tariffs.head()"
   ]
  },
  {
   "cell_type": "code",
   "execution_count": 46,
   "metadata": {},
   "outputs": [
    {
     "data": {
      "text/html": [
       "<div>\n",
       "<style scoped>\n",
       "    .dataframe tbody tr th:only-of-type {\n",
       "        vertical-align: middle;\n",
       "    }\n",
       "\n",
       "    .dataframe tbody tr th {\n",
       "        vertical-align: top;\n",
       "    }\n",
       "\n",
       "    .dataframe thead th {\n",
       "        text-align: right;\n",
       "    }\n",
       "</style>\n",
       "<table border=\"1\" class=\"dataframe\">\n",
       "  <thead>\n",
       "    <tr style=\"text-align: right;\">\n",
       "      <th></th>\n",
       "      <th>user_id</th>\n",
       "      <th>age</th>\n",
       "      <th>churn_date</th>\n",
       "      <th>city</th>\n",
       "      <th>first_name</th>\n",
       "      <th>last_name</th>\n",
       "      <th>reg_date</th>\n",
       "      <th>tariff</th>\n",
       "    </tr>\n",
       "  </thead>\n",
       "  <tbody>\n",
       "    <tr>\n",
       "      <th>0</th>\n",
       "      <td>1000</td>\n",
       "      <td>52</td>\n",
       "      <td>NaT</td>\n",
       "      <td>Краснодар</td>\n",
       "      <td>Рафаил</td>\n",
       "      <td>Верещагин</td>\n",
       "      <td>2018-05-25</td>\n",
       "      <td>ultra</td>\n",
       "    </tr>\n",
       "    <tr>\n",
       "      <th>1</th>\n",
       "      <td>1001</td>\n",
       "      <td>41</td>\n",
       "      <td>NaT</td>\n",
       "      <td>Москва</td>\n",
       "      <td>Иван</td>\n",
       "      <td>Ежов</td>\n",
       "      <td>2018-11-01</td>\n",
       "      <td>smart</td>\n",
       "    </tr>\n",
       "    <tr>\n",
       "      <th>2</th>\n",
       "      <td>1002</td>\n",
       "      <td>59</td>\n",
       "      <td>NaT</td>\n",
       "      <td>Стерлитамак</td>\n",
       "      <td>Евгений</td>\n",
       "      <td>Абрамович</td>\n",
       "      <td>2018-06-17</td>\n",
       "      <td>smart</td>\n",
       "    </tr>\n",
       "    <tr>\n",
       "      <th>3</th>\n",
       "      <td>1003</td>\n",
       "      <td>23</td>\n",
       "      <td>NaT</td>\n",
       "      <td>Москва</td>\n",
       "      <td>Белла</td>\n",
       "      <td>Белякова</td>\n",
       "      <td>2018-08-17</td>\n",
       "      <td>ultra</td>\n",
       "    </tr>\n",
       "    <tr>\n",
       "      <th>4</th>\n",
       "      <td>1004</td>\n",
       "      <td>68</td>\n",
       "      <td>NaT</td>\n",
       "      <td>Новокузнецк</td>\n",
       "      <td>Татьяна</td>\n",
       "      <td>Авдеенко</td>\n",
       "      <td>2018-05-14</td>\n",
       "      <td>ultra</td>\n",
       "    </tr>\n",
       "  </tbody>\n",
       "</table>\n",
       "</div>"
      ],
      "text/plain": [
       "   user_id  age churn_date         city first_name  last_name   reg_date  \\\n",
       "0     1000   52        NaT    Краснодар     Рафаил  Верещагин 2018-05-25   \n",
       "1     1001   41        NaT       Москва       Иван       Ежов 2018-11-01   \n",
       "2     1002   59        NaT  Стерлитамак    Евгений  Абрамович 2018-06-17   \n",
       "3     1003   23        NaT       Москва      Белла   Белякова 2018-08-17   \n",
       "4     1004   68        NaT  Новокузнецк    Татьяна   Авдеенко 2018-05-14   \n",
       "\n",
       "  tariff  \n",
       "0  ultra  \n",
       "1  smart  \n",
       "2  smart  \n",
       "3  ultra  \n",
       "4  ultra  "
      ]
     },
     "execution_count": 46,
     "metadata": {},
     "output_type": "execute_result"
    }
   ],
   "source": [
    "users.head()"
   ]
  },
  {
   "cell_type": "code",
   "execution_count": 47,
   "metadata": {
    "scrolled": false
   },
   "outputs": [
    {
     "data": {
      "text/html": [
       "<div>\n",
       "<style scoped>\n",
       "    .dataframe tbody tr th:only-of-type {\n",
       "        vertical-align: middle;\n",
       "    }\n",
       "\n",
       "    .dataframe tbody tr th {\n",
       "        vertical-align: top;\n",
       "    }\n",
       "\n",
       "    .dataframe thead th {\n",
       "        text-align: right;\n",
       "    }\n",
       "</style>\n",
       "<table border=\"1\" class=\"dataframe\">\n",
       "  <thead>\n",
       "    <tr style=\"text-align: right;\">\n",
       "      <th></th>\n",
       "      <th>user_id</th>\n",
       "      <th>month</th>\n",
       "      <th>month_calls_duration</th>\n",
       "      <th>calls_total_in_month</th>\n",
       "      <th>sms_total_in_month</th>\n",
       "      <th>mb_total_in_month</th>\n",
       "      <th>age</th>\n",
       "      <th>churn_date</th>\n",
       "      <th>city</th>\n",
       "      <th>first_name</th>\n",
       "      <th>last_name</th>\n",
       "      <th>reg_date</th>\n",
       "      <th>tariff</th>\n",
       "    </tr>\n",
       "  </thead>\n",
       "  <tbody>\n",
       "    <tr>\n",
       "      <th>0</th>\n",
       "      <td>1000</td>\n",
       "      <td>August</td>\n",
       "      <td>408.00</td>\n",
       "      <td>52.00</td>\n",
       "      <td>81.00</td>\n",
       "      <td>14,055.93</td>\n",
       "      <td>52</td>\n",
       "      <td>NaT</td>\n",
       "      <td>Краснодар</td>\n",
       "      <td>Рафаил</td>\n",
       "      <td>Верещагин</td>\n",
       "      <td>2018-05-25</td>\n",
       "      <td>ultra</td>\n",
       "    </tr>\n",
       "    <tr>\n",
       "      <th>1</th>\n",
       "      <td>1000</td>\n",
       "      <td>December</td>\n",
       "      <td>333.00</td>\n",
       "      <td>46.00</td>\n",
       "      <td>70.00</td>\n",
       "      <td>9,817.61</td>\n",
       "      <td>52</td>\n",
       "      <td>NaT</td>\n",
       "      <td>Краснодар</td>\n",
       "      <td>Рафаил</td>\n",
       "      <td>Верещагин</td>\n",
       "      <td>2018-05-25</td>\n",
       "      <td>ultra</td>\n",
       "    </tr>\n",
       "    <tr>\n",
       "      <th>2</th>\n",
       "      <td>1000</td>\n",
       "      <td>July</td>\n",
       "      <td>340.00</td>\n",
       "      <td>47.00</td>\n",
       "      <td>75.00</td>\n",
       "      <td>14,003.64</td>\n",
       "      <td>52</td>\n",
       "      <td>NaT</td>\n",
       "      <td>Краснодар</td>\n",
       "      <td>Рафаил</td>\n",
       "      <td>Верещагин</td>\n",
       "      <td>2018-05-25</td>\n",
       "      <td>ultra</td>\n",
       "    </tr>\n",
       "    <tr>\n",
       "      <th>3</th>\n",
       "      <td>1000</td>\n",
       "      <td>June</td>\n",
       "      <td>172.00</td>\n",
       "      <td>43.00</td>\n",
       "      <td>60.00</td>\n",
       "      <td>23,233.77</td>\n",
       "      <td>52</td>\n",
       "      <td>NaT</td>\n",
       "      <td>Краснодар</td>\n",
       "      <td>Рафаил</td>\n",
       "      <td>Верещагин</td>\n",
       "      <td>2018-05-25</td>\n",
       "      <td>ultra</td>\n",
       "    </tr>\n",
       "    <tr>\n",
       "      <th>4</th>\n",
       "      <td>1000</td>\n",
       "      <td>May</td>\n",
       "      <td>159.00</td>\n",
       "      <td>22.00</td>\n",
       "      <td>22.00</td>\n",
       "      <td>2,253.49</td>\n",
       "      <td>52</td>\n",
       "      <td>NaT</td>\n",
       "      <td>Краснодар</td>\n",
       "      <td>Рафаил</td>\n",
       "      <td>Верещагин</td>\n",
       "      <td>2018-05-25</td>\n",
       "      <td>ultra</td>\n",
       "    </tr>\n",
       "  </tbody>\n",
       "</table>\n",
       "</div>"
      ],
      "text/plain": [
       "   user_id     month  month_calls_duration  calls_total_in_month  \\\n",
       "0     1000    August                408.00                 52.00   \n",
       "1     1000  December                333.00                 46.00   \n",
       "2     1000      July                340.00                 47.00   \n",
       "3     1000      June                172.00                 43.00   \n",
       "4     1000       May                159.00                 22.00   \n",
       "\n",
       "   sms_total_in_month  mb_total_in_month  age churn_date       city  \\\n",
       "0               81.00          14,055.93   52        NaT  Краснодар   \n",
       "1               70.00           9,817.61   52        NaT  Краснодар   \n",
       "2               75.00          14,003.64   52        NaT  Краснодар   \n",
       "3               60.00          23,233.77   52        NaT  Краснодар   \n",
       "4               22.00           2,253.49   52        NaT  Краснодар   \n",
       "\n",
       "  first_name  last_name   reg_date tariff  \n",
       "0     Рафаил  Верещагин 2018-05-25  ultra  \n",
       "1     Рафаил  Верещагин 2018-05-25  ultra  \n",
       "2     Рафаил  Верещагин 2018-05-25  ultra  \n",
       "3     Рафаил  Верещагин 2018-05-25  ultra  \n",
       "4     Рафаил  Верещагин 2018-05-25  ultra  "
      ]
     },
     "execution_count": 47,
     "metadata": {},
     "output_type": "execute_result"
    }
   ],
   "source": [
    "data = data.merge(users, on='user_id', how='left')\n",
    "data.head()"
   ]
  },
  {
   "cell_type": "code",
   "execution_count": 48,
   "metadata": {},
   "outputs": [
    {
     "data": {
      "text/html": [
       "<div>\n",
       "<style scoped>\n",
       "    .dataframe tbody tr th:only-of-type {\n",
       "        vertical-align: middle;\n",
       "    }\n",
       "\n",
       "    .dataframe tbody tr th {\n",
       "        vertical-align: top;\n",
       "    }\n",
       "\n",
       "    .dataframe thead th {\n",
       "        text-align: right;\n",
       "    }\n",
       "</style>\n",
       "<table border=\"1\" class=\"dataframe\">\n",
       "  <thead>\n",
       "    <tr style=\"text-align: right;\">\n",
       "      <th></th>\n",
       "      <th>user_id</th>\n",
       "      <th>month</th>\n",
       "      <th>month_calls_duration</th>\n",
       "      <th>calls_total_in_month</th>\n",
       "      <th>sms_total_in_month</th>\n",
       "      <th>mb_total_in_month</th>\n",
       "      <th>age</th>\n",
       "      <th>churn_date</th>\n",
       "      <th>city</th>\n",
       "      <th>first_name</th>\n",
       "      <th>last_name</th>\n",
       "      <th>reg_date</th>\n",
       "      <th>tariff</th>\n",
       "      <th>messages_included</th>\n",
       "      <th>mb_per_month_included</th>\n",
       "      <th>minutes_included</th>\n",
       "      <th>rub_monthly_fee</th>\n",
       "      <th>rub_per_gb</th>\n",
       "      <th>rub_per_message</th>\n",
       "      <th>rub_per_minute</th>\n",
       "    </tr>\n",
       "  </thead>\n",
       "  <tbody>\n",
       "    <tr>\n",
       "      <th>0</th>\n",
       "      <td>1000</td>\n",
       "      <td>August</td>\n",
       "      <td>408.00</td>\n",
       "      <td>52.00</td>\n",
       "      <td>81.00</td>\n",
       "      <td>14,055.93</td>\n",
       "      <td>52</td>\n",
       "      <td>NaT</td>\n",
       "      <td>Краснодар</td>\n",
       "      <td>Рафаил</td>\n",
       "      <td>Верещагин</td>\n",
       "      <td>2018-05-25</td>\n",
       "      <td>ultra</td>\n",
       "      <td>1000</td>\n",
       "      <td>30720</td>\n",
       "      <td>3000</td>\n",
       "      <td>1950</td>\n",
       "      <td>150</td>\n",
       "      <td>1</td>\n",
       "      <td>1</td>\n",
       "    </tr>\n",
       "    <tr>\n",
       "      <th>1</th>\n",
       "      <td>1000</td>\n",
       "      <td>December</td>\n",
       "      <td>333.00</td>\n",
       "      <td>46.00</td>\n",
       "      <td>70.00</td>\n",
       "      <td>9,817.61</td>\n",
       "      <td>52</td>\n",
       "      <td>NaT</td>\n",
       "      <td>Краснодар</td>\n",
       "      <td>Рафаил</td>\n",
       "      <td>Верещагин</td>\n",
       "      <td>2018-05-25</td>\n",
       "      <td>ultra</td>\n",
       "      <td>1000</td>\n",
       "      <td>30720</td>\n",
       "      <td>3000</td>\n",
       "      <td>1950</td>\n",
       "      <td>150</td>\n",
       "      <td>1</td>\n",
       "      <td>1</td>\n",
       "    </tr>\n",
       "    <tr>\n",
       "      <th>2</th>\n",
       "      <td>1000</td>\n",
       "      <td>July</td>\n",
       "      <td>340.00</td>\n",
       "      <td>47.00</td>\n",
       "      <td>75.00</td>\n",
       "      <td>14,003.64</td>\n",
       "      <td>52</td>\n",
       "      <td>NaT</td>\n",
       "      <td>Краснодар</td>\n",
       "      <td>Рафаил</td>\n",
       "      <td>Верещагин</td>\n",
       "      <td>2018-05-25</td>\n",
       "      <td>ultra</td>\n",
       "      <td>1000</td>\n",
       "      <td>30720</td>\n",
       "      <td>3000</td>\n",
       "      <td>1950</td>\n",
       "      <td>150</td>\n",
       "      <td>1</td>\n",
       "      <td>1</td>\n",
       "    </tr>\n",
       "    <tr>\n",
       "      <th>3</th>\n",
       "      <td>1000</td>\n",
       "      <td>June</td>\n",
       "      <td>172.00</td>\n",
       "      <td>43.00</td>\n",
       "      <td>60.00</td>\n",
       "      <td>23,233.77</td>\n",
       "      <td>52</td>\n",
       "      <td>NaT</td>\n",
       "      <td>Краснодар</td>\n",
       "      <td>Рафаил</td>\n",
       "      <td>Верещагин</td>\n",
       "      <td>2018-05-25</td>\n",
       "      <td>ultra</td>\n",
       "      <td>1000</td>\n",
       "      <td>30720</td>\n",
       "      <td>3000</td>\n",
       "      <td>1950</td>\n",
       "      <td>150</td>\n",
       "      <td>1</td>\n",
       "      <td>1</td>\n",
       "    </tr>\n",
       "    <tr>\n",
       "      <th>4</th>\n",
       "      <td>1000</td>\n",
       "      <td>May</td>\n",
       "      <td>159.00</td>\n",
       "      <td>22.00</td>\n",
       "      <td>22.00</td>\n",
       "      <td>2,253.49</td>\n",
       "      <td>52</td>\n",
       "      <td>NaT</td>\n",
       "      <td>Краснодар</td>\n",
       "      <td>Рафаил</td>\n",
       "      <td>Верещагин</td>\n",
       "      <td>2018-05-25</td>\n",
       "      <td>ultra</td>\n",
       "      <td>1000</td>\n",
       "      <td>30720</td>\n",
       "      <td>3000</td>\n",
       "      <td>1950</td>\n",
       "      <td>150</td>\n",
       "      <td>1</td>\n",
       "      <td>1</td>\n",
       "    </tr>\n",
       "  </tbody>\n",
       "</table>\n",
       "</div>"
      ],
      "text/plain": [
       "   user_id     month  month_calls_duration  calls_total_in_month  \\\n",
       "0     1000    August                408.00                 52.00   \n",
       "1     1000  December                333.00                 46.00   \n",
       "2     1000      July                340.00                 47.00   \n",
       "3     1000      June                172.00                 43.00   \n",
       "4     1000       May                159.00                 22.00   \n",
       "\n",
       "   sms_total_in_month  mb_total_in_month  age churn_date       city  \\\n",
       "0               81.00          14,055.93   52        NaT  Краснодар   \n",
       "1               70.00           9,817.61   52        NaT  Краснодар   \n",
       "2               75.00          14,003.64   52        NaT  Краснодар   \n",
       "3               60.00          23,233.77   52        NaT  Краснодар   \n",
       "4               22.00           2,253.49   52        NaT  Краснодар   \n",
       "\n",
       "  first_name  last_name   reg_date tariff  messages_included  \\\n",
       "0     Рафаил  Верещагин 2018-05-25  ultra               1000   \n",
       "1     Рафаил  Верещагин 2018-05-25  ultra               1000   \n",
       "2     Рафаил  Верещагин 2018-05-25  ultra               1000   \n",
       "3     Рафаил  Верещагин 2018-05-25  ultra               1000   \n",
       "4     Рафаил  Верещагин 2018-05-25  ultra               1000   \n",
       "\n",
       "   mb_per_month_included  minutes_included  rub_monthly_fee  rub_per_gb  \\\n",
       "0                  30720              3000             1950         150   \n",
       "1                  30720              3000             1950         150   \n",
       "2                  30720              3000             1950         150   \n",
       "3                  30720              3000             1950         150   \n",
       "4                  30720              3000             1950         150   \n",
       "\n",
       "   rub_per_message  rub_per_minute  \n",
       "0                1               1  \n",
       "1                1               1  \n",
       "2                1               1  \n",
       "3                1               1  \n",
       "4                1               1  "
      ]
     },
     "execution_count": 48,
     "metadata": {},
     "output_type": "execute_result"
    }
   ],
   "source": [
    "data = data.merge(tariffs, on='tariff', how='left')\n",
    "data.head()"
   ]
  },
  {
   "cell_type": "code",
   "execution_count": 49,
   "metadata": {},
   "outputs": [
    {
     "data": {
      "text/plain": [
       "user_id                     0\n",
       "month                       0\n",
       "month_calls_duration       40\n",
       "calls_total_in_month       40\n",
       "sms_total_in_month        497\n",
       "mb_total_in_month          11\n",
       "age                         0\n",
       "churn_date               3027\n",
       "city                        0\n",
       "first_name                  0\n",
       "last_name                   0\n",
       "reg_date                    0\n",
       "tariff                      0\n",
       "messages_included           0\n",
       "mb_per_month_included       0\n",
       "minutes_included            0\n",
       "rub_monthly_fee             0\n",
       "rub_per_gb                  0\n",
       "rub_per_message             0\n",
       "rub_per_minute              0\n",
       "dtype: int64"
      ]
     },
     "execution_count": 49,
     "metadata": {},
     "output_type": "execute_result"
    }
   ],
   "source": [
    "data.isna().sum()"
   ]
  },
  {
   "cell_type": "code",
   "execution_count": 50,
   "metadata": {},
   "outputs": [],
   "source": [
    "# Поставим ноль любям которые не пользуются месседжерами (без интернета и смс)\n",
    "\n",
    "data['sms_total_in_month'] = data['sms_total_in_month'].fillna(0)\n",
    "data['mb_total_in_month'] = data['mb_total_in_month'].fillna(0)\n",
    "data['month_calls_duration'] = data['month_calls_duration'].fillna(0)\n",
    "data['calls_total_in_month'] = data['calls_total_in_month'].fillna(0)"
   ]
  },
  {
   "cell_type": "code",
   "execution_count": 51,
   "metadata": {},
   "outputs": [
    {
     "data": {
      "text/plain": [
       "user_id                     0\n",
       "month                       0\n",
       "month_calls_duration        0\n",
       "calls_total_in_month        0\n",
       "sms_total_in_month          0\n",
       "mb_total_in_month           0\n",
       "age                         0\n",
       "churn_date               3027\n",
       "city                        0\n",
       "first_name                  0\n",
       "last_name                   0\n",
       "reg_date                    0\n",
       "tariff                      0\n",
       "messages_included           0\n",
       "mb_per_month_included       0\n",
       "minutes_included            0\n",
       "rub_monthly_fee             0\n",
       "rub_per_gb                  0\n",
       "rub_per_message             0\n",
       "rub_per_minute              0\n",
       "dtype: int64"
      ]
     },
     "execution_count": 51,
     "metadata": {},
     "output_type": "execute_result"
    }
   ],
   "source": [
    "data.isna().sum()"
   ]
  },
  {
   "cell_type": "code",
   "execution_count": 52,
   "metadata": {},
   "outputs": [
    {
     "data": {
      "text/plain": [
       "0"
      ]
     },
     "execution_count": 52,
     "metadata": {},
     "output_type": "execute_result"
    }
   ],
   "source": [
    "data.duplicated().sum()"
   ]
  },
  {
   "cell_type": "code",
   "execution_count": 53,
   "metadata": {},
   "outputs": [],
   "source": [
    "def tariff_excess(row):\n",
    "    sms = (row['sms_total_in_month'] - row['messages_included']) * row['rub_per_message']\n",
    "    mins = (row['month_calls_duration'] - row['minutes_included']) * row['rub_per_minute']\n",
    "    mbs = np.ceil((row['mb_total_in_month'] - row['mb_per_month_included']) / 1024 ) * row['rub_per_gb']\n",
    "    total = 0\n",
    "    for i in [sms, mins, mbs]:\n",
    "        if i > 0:\n",
    "            total += i\n",
    "    return total"
   ]
  },
  {
   "cell_type": "code",
   "execution_count": 54,
   "metadata": {
    "scrolled": false
   },
   "outputs": [
    {
     "data": {
      "text/html": [
       "<div>\n",
       "<style scoped>\n",
       "    .dataframe tbody tr th:only-of-type {\n",
       "        vertical-align: middle;\n",
       "    }\n",
       "\n",
       "    .dataframe tbody tr th {\n",
       "        vertical-align: top;\n",
       "    }\n",
       "\n",
       "    .dataframe thead th {\n",
       "        text-align: right;\n",
       "    }\n",
       "</style>\n",
       "<table border=\"1\" class=\"dataframe\">\n",
       "  <thead>\n",
       "    <tr style=\"text-align: right;\">\n",
       "      <th></th>\n",
       "      <th>user_id</th>\n",
       "      <th>month</th>\n",
       "      <th>month_calls_duration</th>\n",
       "      <th>calls_total_in_month</th>\n",
       "      <th>sms_total_in_month</th>\n",
       "      <th>mb_total_in_month</th>\n",
       "      <th>age</th>\n",
       "      <th>churn_date</th>\n",
       "      <th>city</th>\n",
       "      <th>first_name</th>\n",
       "      <th>last_name</th>\n",
       "      <th>reg_date</th>\n",
       "      <th>tariff</th>\n",
       "      <th>messages_included</th>\n",
       "      <th>mb_per_month_included</th>\n",
       "      <th>minutes_included</th>\n",
       "      <th>rub_monthly_fee</th>\n",
       "      <th>rub_per_gb</th>\n",
       "      <th>rub_per_message</th>\n",
       "      <th>rub_per_minute</th>\n",
       "    </tr>\n",
       "  </thead>\n",
       "  <tbody>\n",
       "    <tr>\n",
       "      <th>0</th>\n",
       "      <td>1000</td>\n",
       "      <td>August</td>\n",
       "      <td>408.00</td>\n",
       "      <td>52.00</td>\n",
       "      <td>81.00</td>\n",
       "      <td>14,055.93</td>\n",
       "      <td>52</td>\n",
       "      <td>NaT</td>\n",
       "      <td>Краснодар</td>\n",
       "      <td>Рафаил</td>\n",
       "      <td>Верещагин</td>\n",
       "      <td>2018-05-25</td>\n",
       "      <td>ultra</td>\n",
       "      <td>1000</td>\n",
       "      <td>30720</td>\n",
       "      <td>3000</td>\n",
       "      <td>1950</td>\n",
       "      <td>150</td>\n",
       "      <td>1</td>\n",
       "      <td>1</td>\n",
       "    </tr>\n",
       "    <tr>\n",
       "      <th>1</th>\n",
       "      <td>1000</td>\n",
       "      <td>December</td>\n",
       "      <td>333.00</td>\n",
       "      <td>46.00</td>\n",
       "      <td>70.00</td>\n",
       "      <td>9,817.61</td>\n",
       "      <td>52</td>\n",
       "      <td>NaT</td>\n",
       "      <td>Краснодар</td>\n",
       "      <td>Рафаил</td>\n",
       "      <td>Верещагин</td>\n",
       "      <td>2018-05-25</td>\n",
       "      <td>ultra</td>\n",
       "      <td>1000</td>\n",
       "      <td>30720</td>\n",
       "      <td>3000</td>\n",
       "      <td>1950</td>\n",
       "      <td>150</td>\n",
       "      <td>1</td>\n",
       "      <td>1</td>\n",
       "    </tr>\n",
       "    <tr>\n",
       "      <th>2</th>\n",
       "      <td>1000</td>\n",
       "      <td>July</td>\n",
       "      <td>340.00</td>\n",
       "      <td>47.00</td>\n",
       "      <td>75.00</td>\n",
       "      <td>14,003.64</td>\n",
       "      <td>52</td>\n",
       "      <td>NaT</td>\n",
       "      <td>Краснодар</td>\n",
       "      <td>Рафаил</td>\n",
       "      <td>Верещагин</td>\n",
       "      <td>2018-05-25</td>\n",
       "      <td>ultra</td>\n",
       "      <td>1000</td>\n",
       "      <td>30720</td>\n",
       "      <td>3000</td>\n",
       "      <td>1950</td>\n",
       "      <td>150</td>\n",
       "      <td>1</td>\n",
       "      <td>1</td>\n",
       "    </tr>\n",
       "    <tr>\n",
       "      <th>3</th>\n",
       "      <td>1000</td>\n",
       "      <td>June</td>\n",
       "      <td>172.00</td>\n",
       "      <td>43.00</td>\n",
       "      <td>60.00</td>\n",
       "      <td>23,233.77</td>\n",
       "      <td>52</td>\n",
       "      <td>NaT</td>\n",
       "      <td>Краснодар</td>\n",
       "      <td>Рафаил</td>\n",
       "      <td>Верещагин</td>\n",
       "      <td>2018-05-25</td>\n",
       "      <td>ultra</td>\n",
       "      <td>1000</td>\n",
       "      <td>30720</td>\n",
       "      <td>3000</td>\n",
       "      <td>1950</td>\n",
       "      <td>150</td>\n",
       "      <td>1</td>\n",
       "      <td>1</td>\n",
       "    </tr>\n",
       "    <tr>\n",
       "      <th>4</th>\n",
       "      <td>1000</td>\n",
       "      <td>May</td>\n",
       "      <td>159.00</td>\n",
       "      <td>22.00</td>\n",
       "      <td>22.00</td>\n",
       "      <td>2,253.49</td>\n",
       "      <td>52</td>\n",
       "      <td>NaT</td>\n",
       "      <td>Краснодар</td>\n",
       "      <td>Рафаил</td>\n",
       "      <td>Верещагин</td>\n",
       "      <td>2018-05-25</td>\n",
       "      <td>ultra</td>\n",
       "      <td>1000</td>\n",
       "      <td>30720</td>\n",
       "      <td>3000</td>\n",
       "      <td>1950</td>\n",
       "      <td>150</td>\n",
       "      <td>1</td>\n",
       "      <td>1</td>\n",
       "    </tr>\n",
       "  </tbody>\n",
       "</table>\n",
       "</div>"
      ],
      "text/plain": [
       "   user_id     month  month_calls_duration  calls_total_in_month  \\\n",
       "0     1000    August                408.00                 52.00   \n",
       "1     1000  December                333.00                 46.00   \n",
       "2     1000      July                340.00                 47.00   \n",
       "3     1000      June                172.00                 43.00   \n",
       "4     1000       May                159.00                 22.00   \n",
       "\n",
       "   sms_total_in_month  mb_total_in_month  age churn_date       city  \\\n",
       "0               81.00          14,055.93   52        NaT  Краснодар   \n",
       "1               70.00           9,817.61   52        NaT  Краснодар   \n",
       "2               75.00          14,003.64   52        NaT  Краснодар   \n",
       "3               60.00          23,233.77   52        NaT  Краснодар   \n",
       "4               22.00           2,253.49   52        NaT  Краснодар   \n",
       "\n",
       "  first_name  last_name   reg_date tariff  messages_included  \\\n",
       "0     Рафаил  Верещагин 2018-05-25  ultra               1000   \n",
       "1     Рафаил  Верещагин 2018-05-25  ultra               1000   \n",
       "2     Рафаил  Верещагин 2018-05-25  ultra               1000   \n",
       "3     Рафаил  Верещагин 2018-05-25  ultra               1000   \n",
       "4     Рафаил  Верещагин 2018-05-25  ultra               1000   \n",
       "\n",
       "   mb_per_month_included  minutes_included  rub_monthly_fee  rub_per_gb  \\\n",
       "0                  30720              3000             1950         150   \n",
       "1                  30720              3000             1950         150   \n",
       "2                  30720              3000             1950         150   \n",
       "3                  30720              3000             1950         150   \n",
       "4                  30720              3000             1950         150   \n",
       "\n",
       "   rub_per_message  rub_per_minute  \n",
       "0                1               1  \n",
       "1                1               1  \n",
       "2                1               1  \n",
       "3                1               1  \n",
       "4                1               1  "
      ]
     },
     "execution_count": 54,
     "metadata": {},
     "output_type": "execute_result"
    }
   ],
   "source": [
    "data.head()"
   ]
  },
  {
   "cell_type": "code",
   "execution_count": 55,
   "metadata": {
    "scrolled": true
   },
   "outputs": [],
   "source": [
    "data['tariff_excess'] = data.apply(lambda x: tariff_excess(x), axis=1)"
   ]
  },
  {
   "cell_type": "code",
   "execution_count": 56,
   "metadata": {},
   "outputs": [],
   "source": [
    "# Добавим столбец с общей сумой\n",
    "\n",
    "data['total_paid'] = data['rub_monthly_fee'] + data['tariff_excess']"
   ]
  },
  {
   "cell_type": "code",
   "execution_count": 57,
   "metadata": {
    "scrolled": true
   },
   "outputs": [
    {
     "data": {
      "text/html": [
       "<div>\n",
       "<style scoped>\n",
       "    .dataframe tbody tr th:only-of-type {\n",
       "        vertical-align: middle;\n",
       "    }\n",
       "\n",
       "    .dataframe tbody tr th {\n",
       "        vertical-align: top;\n",
       "    }\n",
       "\n",
       "    .dataframe thead th {\n",
       "        text-align: right;\n",
       "    }\n",
       "</style>\n",
       "<table border=\"1\" class=\"dataframe\">\n",
       "  <thead>\n",
       "    <tr style=\"text-align: right;\">\n",
       "      <th></th>\n",
       "      <th>user_id</th>\n",
       "      <th>month</th>\n",
       "      <th>month_calls_duration</th>\n",
       "      <th>calls_total_in_month</th>\n",
       "      <th>sms_total_in_month</th>\n",
       "      <th>mb_total_in_month</th>\n",
       "      <th>age</th>\n",
       "      <th>churn_date</th>\n",
       "      <th>city</th>\n",
       "      <th>first_name</th>\n",
       "      <th>last_name</th>\n",
       "      <th>reg_date</th>\n",
       "      <th>tariff</th>\n",
       "      <th>messages_included</th>\n",
       "      <th>mb_per_month_included</th>\n",
       "      <th>minutes_included</th>\n",
       "      <th>rub_monthly_fee</th>\n",
       "      <th>rub_per_gb</th>\n",
       "      <th>rub_per_message</th>\n",
       "      <th>rub_per_minute</th>\n",
       "      <th>tariff_excess</th>\n",
       "      <th>total_paid</th>\n",
       "    </tr>\n",
       "  </thead>\n",
       "  <tbody>\n",
       "    <tr>\n",
       "      <th>1063</th>\n",
       "      <td>1171</td>\n",
       "      <td>March</td>\n",
       "      <td>158.00</td>\n",
       "      <td>24.00</td>\n",
       "      <td>23.00</td>\n",
       "      <td>5,957.70</td>\n",
       "      <td>47</td>\n",
       "      <td>NaT</td>\n",
       "      <td>Москва</td>\n",
       "      <td>Каролина</td>\n",
       "      <td>Иванова</td>\n",
       "      <td>2018-03-20</td>\n",
       "      <td>smart</td>\n",
       "      <td>50</td>\n",
       "      <td>15360</td>\n",
       "      <td>500</td>\n",
       "      <td>550</td>\n",
       "      <td>200</td>\n",
       "      <td>3</td>\n",
       "      <td>3</td>\n",
       "      <td>0.00</td>\n",
       "      <td>550.00</td>\n",
       "    </tr>\n",
       "    <tr>\n",
       "      <th>2943</th>\n",
       "      <td>1464</td>\n",
       "      <td>February</td>\n",
       "      <td>237.00</td>\n",
       "      <td>32.00</td>\n",
       "      <td>13.00</td>\n",
       "      <td>8,507.83</td>\n",
       "      <td>44</td>\n",
       "      <td>NaT</td>\n",
       "      <td>Саранск</td>\n",
       "      <td>Антонина</td>\n",
       "      <td>Авросинова</td>\n",
       "      <td>2018-02-17</td>\n",
       "      <td>smart</td>\n",
       "      <td>50</td>\n",
       "      <td>15360</td>\n",
       "      <td>500</td>\n",
       "      <td>550</td>\n",
       "      <td>200</td>\n",
       "      <td>3</td>\n",
       "      <td>3</td>\n",
       "      <td>0.00</td>\n",
       "      <td>550.00</td>\n",
       "    </tr>\n",
       "    <tr>\n",
       "      <th>2510</th>\n",
       "      <td>1395</td>\n",
       "      <td>May</td>\n",
       "      <td>446.00</td>\n",
       "      <td>65.00</td>\n",
       "      <td>29.00</td>\n",
       "      <td>15,140.96</td>\n",
       "      <td>66</td>\n",
       "      <td>NaT</td>\n",
       "      <td>Москва</td>\n",
       "      <td>Радомир</td>\n",
       "      <td>Кондратов</td>\n",
       "      <td>2018-01-06</td>\n",
       "      <td>smart</td>\n",
       "      <td>50</td>\n",
       "      <td>15360</td>\n",
       "      <td>500</td>\n",
       "      <td>550</td>\n",
       "      <td>200</td>\n",
       "      <td>3</td>\n",
       "      <td>3</td>\n",
       "      <td>0.00</td>\n",
       "      <td>550.00</td>\n",
       "    </tr>\n",
       "    <tr>\n",
       "      <th>1404</th>\n",
       "      <td>1224</td>\n",
       "      <td>April</td>\n",
       "      <td>143.00</td>\n",
       "      <td>20.00</td>\n",
       "      <td>0.00</td>\n",
       "      <td>6,553.22</td>\n",
       "      <td>58</td>\n",
       "      <td>NaT</td>\n",
       "      <td>Магнитогорск</td>\n",
       "      <td>Ахмет</td>\n",
       "      <td>Тарасов</td>\n",
       "      <td>2018-04-24</td>\n",
       "      <td>smart</td>\n",
       "      <td>50</td>\n",
       "      <td>15360</td>\n",
       "      <td>500</td>\n",
       "      <td>550</td>\n",
       "      <td>200</td>\n",
       "      <td>3</td>\n",
       "      <td>3</td>\n",
       "      <td>0.00</td>\n",
       "      <td>550.00</td>\n",
       "    </tr>\n",
       "    <tr>\n",
       "      <th>1397</th>\n",
       "      <td>1221</td>\n",
       "      <td>September</td>\n",
       "      <td>208.00</td>\n",
       "      <td>26.00</td>\n",
       "      <td>19.00</td>\n",
       "      <td>11,336.38</td>\n",
       "      <td>40</td>\n",
       "      <td>NaT</td>\n",
       "      <td>Белгород</td>\n",
       "      <td>Джемма</td>\n",
       "      <td>Сафонова</td>\n",
       "      <td>2018-06-03</td>\n",
       "      <td>smart</td>\n",
       "      <td>50</td>\n",
       "      <td>15360</td>\n",
       "      <td>500</td>\n",
       "      <td>550</td>\n",
       "      <td>200</td>\n",
       "      <td>3</td>\n",
       "      <td>3</td>\n",
       "      <td>0.00</td>\n",
       "      <td>550.00</td>\n",
       "    </tr>\n",
       "  </tbody>\n",
       "</table>\n",
       "</div>"
      ],
      "text/plain": [
       "      user_id      month  month_calls_duration  calls_total_in_month  \\\n",
       "1063     1171      March                158.00                 24.00   \n",
       "2943     1464   February                237.00                 32.00   \n",
       "2510     1395        May                446.00                 65.00   \n",
       "1404     1224      April                143.00                 20.00   \n",
       "1397     1221  September                208.00                 26.00   \n",
       "\n",
       "      sms_total_in_month  mb_total_in_month  age churn_date          city  \\\n",
       "1063               23.00           5,957.70   47        NaT        Москва   \n",
       "2943               13.00           8,507.83   44        NaT       Саранск   \n",
       "2510               29.00          15,140.96   66        NaT        Москва   \n",
       "1404                0.00           6,553.22   58        NaT  Магнитогорск   \n",
       "1397               19.00          11,336.38   40        NaT      Белгород   \n",
       "\n",
       "     first_name   last_name   reg_date tariff  messages_included  \\\n",
       "1063   Каролина     Иванова 2018-03-20  smart                 50   \n",
       "2943   Антонина  Авросинова 2018-02-17  smart                 50   \n",
       "2510    Радомир   Кондратов 2018-01-06  smart                 50   \n",
       "1404      Ахмет     Тарасов 2018-04-24  smart                 50   \n",
       "1397     Джемма    Сафонова 2018-06-03  smart                 50   \n",
       "\n",
       "      mb_per_month_included  minutes_included  rub_monthly_fee  rub_per_gb  \\\n",
       "1063                  15360               500              550         200   \n",
       "2943                  15360               500              550         200   \n",
       "2510                  15360               500              550         200   \n",
       "1404                  15360               500              550         200   \n",
       "1397                  15360               500              550         200   \n",
       "\n",
       "      rub_per_message  rub_per_minute  tariff_excess  total_paid  \n",
       "1063                3               3           0.00      550.00  \n",
       "2943                3               3           0.00      550.00  \n",
       "2510                3               3           0.00      550.00  \n",
       "1404                3               3           0.00      550.00  \n",
       "1397                3               3           0.00      550.00  "
      ]
     },
     "execution_count": 57,
     "metadata": {},
     "output_type": "execute_result"
    }
   ],
   "source": [
    "# Проверяем\n",
    "\n",
    "data.sort_values(by='total_paid').head()"
   ]
  },
  {
   "cell_type": "markdown",
   "metadata": {},
   "source": [
    "Пока всё работает"
   ]
  },
  {
   "cell_type": "markdown",
   "metadata": {},
   "source": [
    "# Анализ данных"
   ]
  },
  {
   "cell_type": "markdown",
   "metadata": {},
   "source": [
    "- Опишите поведение клиентов оператора, исходя из выборки\n",
    "- Сколько минут разговора, сколько сообщений и какой объём интернет-трафика требуется пользователям каждого тарифа\n",
    "в месяц? \n",
    "- Посчитайте среднее количество, дисперсию и стандартное отклонение\n",
    "- Постройте гистограммы. Опишите распределения"
   ]
  },
  {
   "cell_type": "code",
   "execution_count": 58,
   "metadata": {},
   "outputs": [
    {
     "data": {
      "text/html": [
       "<div>\n",
       "<style scoped>\n",
       "    .dataframe tbody tr th:only-of-type {\n",
       "        vertical-align: middle;\n",
       "    }\n",
       "\n",
       "    .dataframe tbody tr th {\n",
       "        vertical-align: top;\n",
       "    }\n",
       "\n",
       "    .dataframe thead th {\n",
       "        text-align: right;\n",
       "    }\n",
       "</style>\n",
       "<table border=\"1\" class=\"dataframe\">\n",
       "  <thead>\n",
       "    <tr style=\"text-align: right;\">\n",
       "      <th></th>\n",
       "      <th>tariff_excess</th>\n",
       "      <th>total_paid</th>\n",
       "    </tr>\n",
       "  </thead>\n",
       "  <tbody>\n",
       "    <tr>\n",
       "      <th>count</th>\n",
       "      <td>3,214.00</td>\n",
       "      <td>3,214.00</td>\n",
       "    </tr>\n",
       "    <tr>\n",
       "      <th>mean</th>\n",
       "      <td>550.02</td>\n",
       "      <td>1,529.08</td>\n",
       "    </tr>\n",
       "    <tr>\n",
       "      <th>std</th>\n",
       "      <td>767.77</td>\n",
       "      <td>798.25</td>\n",
       "    </tr>\n",
       "    <tr>\n",
       "      <th>min</th>\n",
       "      <td>0.00</td>\n",
       "      <td>550.00</td>\n",
       "    </tr>\n",
       "    <tr>\n",
       "      <th>25%</th>\n",
       "      <td>0.00</td>\n",
       "      <td>750.00</td>\n",
       "    </tr>\n",
       "    <tr>\n",
       "      <th>50%</th>\n",
       "      <td>163.50</td>\n",
       "      <td>1,653.50</td>\n",
       "    </tr>\n",
       "    <tr>\n",
       "      <th>75%</th>\n",
       "      <td>938.00</td>\n",
       "      <td>1,950.00</td>\n",
       "    </tr>\n",
       "    <tr>\n",
       "      <th>max</th>\n",
       "      <td>6,220.00</td>\n",
       "      <td>6,770.00</td>\n",
       "    </tr>\n",
       "  </tbody>\n",
       "</table>\n",
       "</div>"
      ],
      "text/plain": [
       "       tariff_excess  total_paid\n",
       "count       3,214.00    3,214.00\n",
       "mean          550.02    1,529.08\n",
       "std           767.77      798.25\n",
       "min             0.00      550.00\n",
       "25%             0.00      750.00\n",
       "50%           163.50    1,653.50\n",
       "75%           938.00    1,950.00\n",
       "max         6,220.00    6,770.00"
      ]
     },
     "execution_count": 58,
     "metadata": {},
     "output_type": "execute_result"
    }
   ],
   "source": [
    "data[['tariff_excess', 'total_paid']].describe()"
   ]
  },
  {
   "cell_type": "code",
   "execution_count": 59,
   "metadata": {},
   "outputs": [
    {
     "data": {
      "text/plain": [
       "smart    2229\n",
       "ultra     985\n",
       "Name: tariff, dtype: int64"
      ]
     },
     "execution_count": 59,
     "metadata": {},
     "output_type": "execute_result"
    }
   ],
   "source": [
    "data['tariff'].value_counts()"
   ]
  },
  {
   "cell_type": "code",
   "execution_count": 60,
   "metadata": {},
   "outputs": [],
   "source": [
    "# сделаем столбцы с тарифами\n",
    "\n",
    "sum_smart = data[(data['tariff'] == 'smart')]"
   ]
  },
  {
   "cell_type": "code",
   "execution_count": 61,
   "metadata": {},
   "outputs": [],
   "source": [
    "sum_ultra = data[(data['tariff'] == 'ultra')]"
   ]
  },
  {
   "cell_type": "markdown",
   "metadata": {},
   "source": [
    "## Звонки в месяц"
   ]
  },
  {
   "cell_type": "code",
   "execution_count": 62,
   "metadata": {},
   "outputs": [
    {
     "data": {
      "image/png": "[encoded data removed]",
      "text/plain": [
       "<Figure size 720x432 with 1 Axes>"
      ]
     },
     "metadata": {
      "needs_background": "light"
     },
     "output_type": "display_data"
    }
   ],
   "source": [
    "smart = data.query('tariff == \"smart\"')['month_calls_duration']\n",
    "ultra = data.query('tariff == \"ultra\"')['month_calls_duration']\n",
    "\n",
    "plt.figure(figsize=(10,6))\n",
    "plt.hist(smart, bins=50, color='blue', edgecolor='grey', alpha=0.5, label = 'smart', density = False)\n",
    "plt.hist(ultra, bins=50, color='orange', edgecolor='grey', alpha=0.5,label = 'ultra', density = False)\n",
    "plt.legend()\n",
    "plt.title('Среднее количество минут')\n",
    "plt.ylabel('Количество абонентов (в месяц)')\n",
    "plt.xlabel('Сумма минут в месяц')\n",
    "plt.show()"
   ]
  },
  {
   "cell_type": "code",
   "execution_count": 63,
   "metadata": {
    "scrolled": false
   },
   "outputs": [
    {
     "data": {
      "text/html": [
       "<style  type=\"text/css\" >\n",
       "</style><table id=\"T_71aa0_\" ><thead>    <tr>        <th class=\"blank level0\" ></th>        <th class=\"col_heading level0 col0\" colspan=\"4\">month_calls_duration</th>    </tr>    <tr>        <th class=\"blank level1\" ></th>        <th class=\"col_heading level1 col0\" >median</th>        <th class=\"col_heading level1 col1\" >mean</th>        <th class=\"col_heading level1 col2\" >var</th>        <th class=\"col_heading level1 col3\" >std</th>    </tr>    <tr>        <th class=\"index_name level0\" >tariff</th>        <th class=\"blank\" ></th>        <th class=\"blank\" ></th>        <th class=\"blank\" ></th>        <th class=\"blank\" ></th>    </tr></thead><tbody>\n",
       "                <tr>\n",
       "                        <th id=\"T_71aa0_level0_row0\" class=\"row_heading level0 row0\" >smart</th>\n",
       "                        <td id=\"T_71aa0_row0_col0\" class=\"data row0 col0\" >422.00</td>\n",
       "                        <td id=\"T_71aa0_row0_col1\" class=\"data row0 col1\" >417.93</td>\n",
       "                        <td id=\"T_71aa0_row0_col2\" class=\"data row0 col2\" >36219.32</td>\n",
       "                        <td id=\"T_71aa0_row0_col3\" class=\"data row0 col3\" >190.31</td>\n",
       "            </tr>\n",
       "            <tr>\n",
       "                        <th id=\"T_71aa0_level0_row1\" class=\"row_heading level0 row1\" >ultra</th>\n",
       "                        <td id=\"T_71aa0_row1_col0\" class=\"data row1 col0\" >518.00</td>\n",
       "                        <td id=\"T_71aa0_row1_col1\" class=\"data row1 col1\" >526.62</td>\n",
       "                        <td id=\"T_71aa0_row1_col2\" class=\"data row1 col2\" >100873.63</td>\n",
       "                        <td id=\"T_71aa0_row1_col3\" class=\"data row1 col3\" >317.61</td>\n",
       "            </tr>\n",
       "    </tbody></table>"
      ],
      "text/plain": [
       "<pandas.io.formats.style.Styler at 0x7fab9ccf2940>"
      ]
     },
     "execution_count": 63,
     "metadata": {},
     "output_type": "execute_result"
    }
   ],
   "source": [
    "data.groupby('tariff')\\\n",
    "  .agg({'month_calls_duration':['median','mean','var','std']})\\\n",
    "  .style.format(\"{:.2f}\")"
   ]
  },
  {
   "cell_type": "markdown",
   "metadata": {},
   "source": [
    "Пользователи тарифа Смарт разговаривют около 420 минут, подходя к границам своего тарифа. Пользователи тарифа Ультра разговаривают около 520 минут, и у них остаётся большой запас неиспользованных минут."
   ]
  },
  {
   "cell_type": "markdown",
   "metadata": {},
   "source": [
    "## SMS в месяц"
   ]
  },
  {
   "cell_type": "code",
   "execution_count": 64,
   "metadata": {},
   "outputs": [
    {
     "data": {
      "image/png": "[encoded data removed]",
      "text/plain": [
       "<Figure size 720x432 with 1 Axes>"
      ]
     },
     "metadata": {
      "needs_background": "light"
     },
     "output_type": "display_data"
    }
   ],
   "source": [
    "smart = data.query('tariff == \"smart\"')['sms_total_in_month']\n",
    "ultra = data.query('tariff == \"ultra\"')['sms_total_in_month']\n",
    "\n",
    "plt.figure(figsize=(10,6))\n",
    "plt.hist(smart, bins=50, color='blue', edgecolor='grey', alpha=0.5, label = 'smart', density = False)\n",
    "plt.hist(ultra, bins=50, color='orange', edgecolor='grey', alpha=0.5,label = 'ultra', density = False)\n",
    "plt.legend()\n",
    "plt.title('Отправленных SMS в месяц')\n",
    "plt.ylabel('Количество абонентов (в месяц)')\n",
    "plt.xlabel('Сумма SMS в месяц')\n",
    "plt.show()"
   ]
  },
  {
   "cell_type": "code",
   "execution_count": 65,
   "metadata": {},
   "outputs": [
    {
     "data": {
      "text/html": [
       "<style  type=\"text/css\" >\n",
       "</style><table id=\"T_73e15_\" ><thead>    <tr>        <th class=\"blank level0\" ></th>        <th class=\"col_heading level0 col0\" colspan=\"4\">sms_total_in_month</th>    </tr>    <tr>        <th class=\"blank level1\" ></th>        <th class=\"col_heading level1 col0\" >median</th>        <th class=\"col_heading level1 col1\" >mean</th>        <th class=\"col_heading level1 col2\" >var</th>        <th class=\"col_heading level1 col3\" >std</th>    </tr>    <tr>        <th class=\"index_name level0\" >tariff</th>        <th class=\"blank\" ></th>        <th class=\"blank\" ></th>        <th class=\"blank\" ></th>        <th class=\"blank\" ></th>    </tr></thead><tbody>\n",
       "                <tr>\n",
       "                        <th id=\"T_73e15_level0_row0\" class=\"row_heading level0 row0\" >smart</th>\n",
       "                        <td id=\"T_73e15_row0_col0\" class=\"data row0 col0\" >28.00</td>\n",
       "                        <td id=\"T_73e15_row0_col1\" class=\"data row0 col1\" >33.38</td>\n",
       "                        <td id=\"T_73e15_row0_col2\" class=\"data row0 col2\" >796.81</td>\n",
       "                        <td id=\"T_73e15_row0_col3\" class=\"data row0 col3\" >28.23</td>\n",
       "            </tr>\n",
       "            <tr>\n",
       "                        <th id=\"T_73e15_level0_row1\" class=\"row_heading level0 row1\" >ultra</th>\n",
       "                        <td id=\"T_73e15_row1_col0\" class=\"data row1 col0\" >38.00</td>\n",
       "                        <td id=\"T_73e15_row1_col1\" class=\"data row1 col1\" >49.36</td>\n",
       "                        <td id=\"T_73e15_row1_col2\" class=\"data row1 col2\" >2285.27</td>\n",
       "                        <td id=\"T_73e15_row1_col3\" class=\"data row1 col3\" >47.80</td>\n",
       "            </tr>\n",
       "    </tbody></table>"
      ],
      "text/plain": [
       "<pandas.io.formats.style.Styler at 0x7fab9cb3d4c0>"
      ]
     },
     "execution_count": 65,
     "metadata": {},
     "output_type": "execute_result"
    }
   ],
   "source": [
    "data.groupby('tariff')\\\n",
    "  .agg({'sms_total_in_month':['median','mean','var','std']})\\\n",
    "  .style.format(\"{:.2f}\")"
   ]
  },
  {
   "cell_type": "markdown",
   "metadata": {},
   "source": [
    "Пользователи тарифа Смарт пользвуются SMS больше пользователей тарифа Ультра."
   ]
  },
  {
   "cell_type": "markdown",
   "metadata": {},
   "source": [
    "## МБ интернета в месяц"
   ]
  },
  {
   "cell_type": "code",
   "execution_count": 66,
   "metadata": {},
   "outputs": [
    {
     "data": {
      "image/png": "[encoded data removed]",
      "text/plain": [
       "<Figure size 720x432 with 1 Axes>"
      ]
     },
     "metadata": {
      "needs_background": "light"
     },
     "output_type": "display_data"
    }
   ],
   "source": [
    "smart = data.query('tariff == \"smart\"')['mb_total_in_month']\n",
    "ultra = data.query('tariff == \"ultra\"')['mb_total_in_month']\n",
    "\n",
    "plt.figure(figsize=(10,6))\n",
    "plt.hist(smart, bins=50, color='blue', edgecolor='grey', alpha=0.5, label = 'smart', density = False)\n",
    "plt.hist(ultra, bins=50, color='orange', edgecolor='grey', alpha=0.5,label = 'ultra', density = False)\n",
    "plt.legend()\n",
    "plt.title('Сумма испольльзованных МБ в месяц')\n",
    "plt.ylabel('Количество абонентов (в месяц)')\n",
    "plt.xlabel('МБ в месяц')\n",
    "plt.show()"
   ]
  },
  {
   "cell_type": "code",
   "execution_count": 67,
   "metadata": {},
   "outputs": [
    {
     "data": {
      "text/html": [
       "<style  type=\"text/css\" >\n",
       "</style><table id=\"T_d6bad_\" ><thead>    <tr>        <th class=\"blank level0\" ></th>        <th class=\"col_heading level0 col0\" colspan=\"4\">mb_total_in_month</th>    </tr>    <tr>        <th class=\"blank level1\" ></th>        <th class=\"col_heading level1 col0\" >median</th>        <th class=\"col_heading level1 col1\" >mean</th>        <th class=\"col_heading level1 col2\" >var</th>        <th class=\"col_heading level1 col3\" >std</th>    </tr>    <tr>        <th class=\"index_name level0\" >tariff</th>        <th class=\"blank\" ></th>        <th class=\"blank\" ></th>        <th class=\"blank\" ></th>        <th class=\"blank\" ></th>    </tr></thead><tbody>\n",
       "                <tr>\n",
       "                        <th id=\"T_d6bad_level0_row0\" class=\"row_heading level0 row0\" >smart</th>\n",
       "                        <td id=\"T_d6bad_row0_col0\" class=\"data row0 col0\" >16506.84</td>\n",
       "                        <td id=\"T_d6bad_row0_col1\" class=\"data row0 col1\" >16208.39</td>\n",
       "                        <td id=\"T_d6bad_row0_col2\" class=\"data row0 col2\" >34462496.46</td>\n",
       "                        <td id=\"T_d6bad_row0_col3\" class=\"data row0 col3\" >5870.48</td>\n",
       "            </tr>\n",
       "            <tr>\n",
       "                        <th id=\"T_d6bad_level0_row1\" class=\"row_heading level0 row1\" >ultra</th>\n",
       "                        <td id=\"T_d6bad_row1_col0\" class=\"data row1 col0\" >19308.01</td>\n",
       "                        <td id=\"T_d6bad_row1_col1\" class=\"data row1 col1\" >19468.81</td>\n",
       "                        <td id=\"T_d6bad_row1_col2\" class=\"data row1 col2\" >101751013.78</td>\n",
       "                        <td id=\"T_d6bad_row1_col3\" class=\"data row1 col3\" >10087.17</td>\n",
       "            </tr>\n",
       "    </tbody></table>"
      ],
      "text/plain": [
       "<pandas.io.formats.style.Styler at 0x7fab9cb724c0>"
      ]
     },
     "execution_count": 67,
     "metadata": {},
     "output_type": "execute_result"
    }
   ],
   "source": [
    "data.groupby('tariff')\\\n",
    "  .agg({'mb_total_in_month':['median','mean','var','std']})\\\n",
    "  .style.format(\"{:.2f}\")"
   ]
  },
  {
   "cell_type": "markdown",
   "metadata": {},
   "source": [
    "Пользователи тарифа Смарт выходят за пределы тарифа чаще, а у пользователей тарифа Ультр имеется запас — в 10 Гб."
   ]
  },
  {
   "cell_type": "markdown",
   "metadata": {},
   "source": [
    "# Проверка гипотез"
   ]
  },
  {
   "cell_type": "markdown",
   "metadata": {},
   "source": [
    "- средняя выручка пользователей тарифов «Ультра» и «Смарт» различаются\n",
    "- средняя выручка пользователей из Москвы отличается от выручки пользователей из других регионов"
   ]
  },
  {
   "cell_type": "code",
   "execution_count": 68,
   "metadata": {},
   "outputs": [
    {
     "data": {
      "text/html": [
       "<div>\n",
       "<style scoped>\n",
       "    .dataframe tbody tr th:only-of-type {\n",
       "        vertical-align: middle;\n",
       "    }\n",
       "\n",
       "    .dataframe tbody tr th {\n",
       "        vertical-align: top;\n",
       "    }\n",
       "\n",
       "    .dataframe thead th {\n",
       "        text-align: right;\n",
       "    }\n",
       "</style>\n",
       "<table border=\"1\" class=\"dataframe\">\n",
       "  <thead>\n",
       "    <tr style=\"text-align: right;\">\n",
       "      <th></th>\n",
       "      <th>user_id</th>\n",
       "      <th>month</th>\n",
       "      <th>month_calls_duration</th>\n",
       "      <th>calls_total_in_month</th>\n",
       "      <th>sms_total_in_month</th>\n",
       "      <th>mb_total_in_month</th>\n",
       "      <th>age</th>\n",
       "      <th>churn_date</th>\n",
       "      <th>city</th>\n",
       "      <th>first_name</th>\n",
       "      <th>last_name</th>\n",
       "      <th>reg_date</th>\n",
       "      <th>tariff</th>\n",
       "      <th>messages_included</th>\n",
       "      <th>mb_per_month_included</th>\n",
       "      <th>minutes_included</th>\n",
       "      <th>rub_monthly_fee</th>\n",
       "      <th>rub_per_gb</th>\n",
       "      <th>rub_per_message</th>\n",
       "      <th>rub_per_minute</th>\n",
       "      <th>tariff_excess</th>\n",
       "      <th>total_paid</th>\n",
       "    </tr>\n",
       "  </thead>\n",
       "  <tbody>\n",
       "    <tr>\n",
       "      <th>0</th>\n",
       "      <td>1000</td>\n",
       "      <td>August</td>\n",
       "      <td>408.00</td>\n",
       "      <td>52.00</td>\n",
       "      <td>81.00</td>\n",
       "      <td>14,055.93</td>\n",
       "      <td>52</td>\n",
       "      <td>NaT</td>\n",
       "      <td>Краснодар</td>\n",
       "      <td>Рафаил</td>\n",
       "      <td>Верещагин</td>\n",
       "      <td>2018-05-25</td>\n",
       "      <td>ultra</td>\n",
       "      <td>1000</td>\n",
       "      <td>30720</td>\n",
       "      <td>3000</td>\n",
       "      <td>1950</td>\n",
       "      <td>150</td>\n",
       "      <td>1</td>\n",
       "      <td>1</td>\n",
       "      <td>0.00</td>\n",
       "      <td>1,950.00</td>\n",
       "    </tr>\n",
       "    <tr>\n",
       "      <th>1</th>\n",
       "      <td>1000</td>\n",
       "      <td>December</td>\n",
       "      <td>333.00</td>\n",
       "      <td>46.00</td>\n",
       "      <td>70.00</td>\n",
       "      <td>9,817.61</td>\n",
       "      <td>52</td>\n",
       "      <td>NaT</td>\n",
       "      <td>Краснодар</td>\n",
       "      <td>Рафаил</td>\n",
       "      <td>Верещагин</td>\n",
       "      <td>2018-05-25</td>\n",
       "      <td>ultra</td>\n",
       "      <td>1000</td>\n",
       "      <td>30720</td>\n",
       "      <td>3000</td>\n",
       "      <td>1950</td>\n",
       "      <td>150</td>\n",
       "      <td>1</td>\n",
       "      <td>1</td>\n",
       "      <td>0.00</td>\n",
       "      <td>1,950.00</td>\n",
       "    </tr>\n",
       "    <tr>\n",
       "      <th>2</th>\n",
       "      <td>1000</td>\n",
       "      <td>July</td>\n",
       "      <td>340.00</td>\n",
       "      <td>47.00</td>\n",
       "      <td>75.00</td>\n",
       "      <td>14,003.64</td>\n",
       "      <td>52</td>\n",
       "      <td>NaT</td>\n",
       "      <td>Краснодар</td>\n",
       "      <td>Рафаил</td>\n",
       "      <td>Верещагин</td>\n",
       "      <td>2018-05-25</td>\n",
       "      <td>ultra</td>\n",
       "      <td>1000</td>\n",
       "      <td>30720</td>\n",
       "      <td>3000</td>\n",
       "      <td>1950</td>\n",
       "      <td>150</td>\n",
       "      <td>1</td>\n",
       "      <td>1</td>\n",
       "      <td>0.00</td>\n",
       "      <td>1,950.00</td>\n",
       "    </tr>\n",
       "    <tr>\n",
       "      <th>3</th>\n",
       "      <td>1000</td>\n",
       "      <td>June</td>\n",
       "      <td>172.00</td>\n",
       "      <td>43.00</td>\n",
       "      <td>60.00</td>\n",
       "      <td>23,233.77</td>\n",
       "      <td>52</td>\n",
       "      <td>NaT</td>\n",
       "      <td>Краснодар</td>\n",
       "      <td>Рафаил</td>\n",
       "      <td>Верещагин</td>\n",
       "      <td>2018-05-25</td>\n",
       "      <td>ultra</td>\n",
       "      <td>1000</td>\n",
       "      <td>30720</td>\n",
       "      <td>3000</td>\n",
       "      <td>1950</td>\n",
       "      <td>150</td>\n",
       "      <td>1</td>\n",
       "      <td>1</td>\n",
       "      <td>0.00</td>\n",
       "      <td>1,950.00</td>\n",
       "    </tr>\n",
       "    <tr>\n",
       "      <th>4</th>\n",
       "      <td>1000</td>\n",
       "      <td>May</td>\n",
       "      <td>159.00</td>\n",
       "      <td>22.00</td>\n",
       "      <td>22.00</td>\n",
       "      <td>2,253.49</td>\n",
       "      <td>52</td>\n",
       "      <td>NaT</td>\n",
       "      <td>Краснодар</td>\n",
       "      <td>Рафаил</td>\n",
       "      <td>Верещагин</td>\n",
       "      <td>2018-05-25</td>\n",
       "      <td>ultra</td>\n",
       "      <td>1000</td>\n",
       "      <td>30720</td>\n",
       "      <td>3000</td>\n",
       "      <td>1950</td>\n",
       "      <td>150</td>\n",
       "      <td>1</td>\n",
       "      <td>1</td>\n",
       "      <td>0.00</td>\n",
       "      <td>1,950.00</td>\n",
       "    </tr>\n",
       "  </tbody>\n",
       "</table>\n",
       "</div>"
      ],
      "text/plain": [
       "   user_id     month  month_calls_duration  calls_total_in_month  \\\n",
       "0     1000    August                408.00                 52.00   \n",
       "1     1000  December                333.00                 46.00   \n",
       "2     1000      July                340.00                 47.00   \n",
       "3     1000      June                172.00                 43.00   \n",
       "4     1000       May                159.00                 22.00   \n",
       "\n",
       "   sms_total_in_month  mb_total_in_month  age churn_date       city  \\\n",
       "0               81.00          14,055.93   52        NaT  Краснодар   \n",
       "1               70.00           9,817.61   52        NaT  Краснодар   \n",
       "2               75.00          14,003.64   52        NaT  Краснодар   \n",
       "3               60.00          23,233.77   52        NaT  Краснодар   \n",
       "4               22.00           2,253.49   52        NaT  Краснодар   \n",
       "\n",
       "  first_name  last_name   reg_date tariff  messages_included  \\\n",
       "0     Рафаил  Верещагин 2018-05-25  ultra               1000   \n",
       "1     Рафаил  Верещагин 2018-05-25  ultra               1000   \n",
       "2     Рафаил  Верещагин 2018-05-25  ultra               1000   \n",
       "3     Рафаил  Верещагин 2018-05-25  ultra               1000   \n",
       "4     Рафаил  Верещагин 2018-05-25  ultra               1000   \n",
       "\n",
       "   mb_per_month_included  minutes_included  rub_monthly_fee  rub_per_gb  \\\n",
       "0                  30720              3000             1950         150   \n",
       "1                  30720              3000             1950         150   \n",
       "2                  30720              3000             1950         150   \n",
       "3                  30720              3000             1950         150   \n",
       "4                  30720              3000             1950         150   \n",
       "\n",
       "   rub_per_message  rub_per_minute  tariff_excess  total_paid  \n",
       "0                1               1           0.00    1,950.00  \n",
       "1                1               1           0.00    1,950.00  \n",
       "2                1               1           0.00    1,950.00  \n",
       "3                1               1           0.00    1,950.00  \n",
       "4                1               1           0.00    1,950.00  "
      ]
     },
     "execution_count": 68,
     "metadata": {},
     "output_type": "execute_result"
    }
   ],
   "source": [
    "data.head()"
   ]
  },
  {
   "cell_type": "markdown",
   "metadata": {},
   "source": [
    "## Cредняя выручка пользователей тарифов «Ультра» и «Смарт» различаются"
   ]
  },
  {
   "cell_type": "markdown",
   "metadata": {},
   "source": [
    "Будем формировать гипотезы:     \n",
    "Нулевая гипотеза Г0 - выручка пользователей тарифов «Ультра» и «Смарт» не различается;    \n",
    "Первичная гипотеза Г1 - выручка пользователей тарифов «Ультра» и «Смарт» различается."
   ]
  },
  {
   "cell_type": "code",
   "execution_count": 69,
   "metadata": {
    "scrolled": true
   },
   "outputs": [
    {
     "name": "stdout",
     "output_type": "stream",
     "text": [
      "p-значение: 1.3953401164730195e-20\n",
      "Отвергаем нулевую гипотезу\n"
     ]
    }
   ],
   "source": [
    "sum_ultra = data.query('tariff == \"ultra\"')['total_paid']\n",
    "sum_smart = data.query('tariff == \"smart\"')['total_paid']\n",
    "\n",
    "alpha = .05\n",
    "\n",
    "results = st.ttest_ind(\n",
    "    ultra, \n",
    "    smart, \n",
    "    equal_var=False)\n",
    "\n",
    "print('p-значение:', results.pvalue)\n",
    "\n",
    "if (results.pvalue < alpha):\n",
    "    print(\"Отвергаем нулевую гипотезу\")\n",
    "else:\n",
    "    print(\"Не получилось отвергнуть нулевую гипотезу\")"
   ]
  },
  {
   "cell_type": "code",
   "execution_count": 70,
   "metadata": {},
   "outputs": [
    {
     "data": {
      "text/html": [
       "<div>\n",
       "<style scoped>\n",
       "    .dataframe tbody tr th:only-of-type {\n",
       "        vertical-align: middle;\n",
       "    }\n",
       "\n",
       "    .dataframe tbody tr th {\n",
       "        vertical-align: top;\n",
       "    }\n",
       "\n",
       "    .dataframe thead th {\n",
       "        text-align: right;\n",
       "    }\n",
       "</style>\n",
       "<table border=\"1\" class=\"dataframe\">\n",
       "  <thead>\n",
       "    <tr style=\"text-align: right;\">\n",
       "      <th></th>\n",
       "      <th>total_paid</th>\n",
       "    </tr>\n",
       "    <tr>\n",
       "      <th>tariff</th>\n",
       "      <th></th>\n",
       "    </tr>\n",
       "  </thead>\n",
       "  <tbody>\n",
       "    <tr>\n",
       "      <th>smart</th>\n",
       "      <td>1,023.00</td>\n",
       "    </tr>\n",
       "    <tr>\n",
       "      <th>ultra</th>\n",
       "      <td>1,950.00</td>\n",
       "    </tr>\n",
       "  </tbody>\n",
       "</table>\n",
       "</div>"
      ],
      "text/plain": [
       "        total_paid\n",
       "tariff            \n",
       "smart     1,023.00\n",
       "ultra     1,950.00"
      ]
     },
     "execution_count": 70,
     "metadata": {},
     "output_type": "execute_result"
    }
   ],
   "source": [
    "data.pivot_table(index='tariff', values='total_paid', aggfunc='median')"
   ]
  },
  {
   "cell_type": "code",
   "execution_count": 71,
   "metadata": {},
   "outputs": [
    {
     "data": {
      "image/png": "[encoded data removed]",
      "text/plain": [
       "<Figure size 360x360 with 1 Axes>"
      ]
     },
     "metadata": {
      "needs_background": "light"
     },
     "output_type": "display_data"
    }
   ],
   "source": [
    "i = sns.catplot(x=\"tariff\", y='total_paid', kind=\"box\", data=data, orient='v')"
   ]
  },
  {
   "cell_type": "markdown",
   "metadata": {},
   "source": [
    "Средние значения выручки по тарифам различаются почти в 2 раза. Если у пользователя подключен тариф \"Смарт\" с абонентской платой в 550 рублей, то он скорее всего по итогам месяца заплатит гораздо больше из-за нехватки услуг в рамках тарифа."
   ]
  },
  {
   "cell_type": "markdown",
   "metadata": {},
   "source": [
    "## Cредняя выручка пользователей из Москвы отличается от выручки пользователей из других регионов"
   ]
  },
  {
   "cell_type": "markdown",
   "metadata": {},
   "source": [
    "Будем формировать гипотезы:     \n",
    "Нулевая гипотеза Г0 - средняя выручка пользователей из Москвы не отличается от выручки пользователей из других регионов;    \n",
    "Перввичная гипотеза Г1 - средняя выручка пользователей из Москвы отличается от выручки пользователей из других регионов."
   ]
  },
  {
   "cell_type": "code",
   "execution_count": 72,
   "metadata": {},
   "outputs": [
    {
     "name": "stdout",
     "output_type": "stream",
     "text": [
      "p-значение: 0.5257376663729298\n",
      "Не получилось отвергнуть нулевую гипотезу\n"
     ]
    }
   ],
   "source": [
    "moscow = data.query('city == \"Москва\"')['total_paid']\n",
    "regions = data.query('city != \"Москва\"')['total_paid']\n",
    "\n",
    "alpha = .05\n",
    "\n",
    "results = st.ttest_ind(\n",
    "    moscow, \n",
    "    regions, \n",
    "    equal_var=False)\n",
    "\n",
    "print('p-значение:', results.pvalue)\n",
    "\n",
    "if (results.pvalue < alpha):\n",
    "    print(\"Отвергаем нулевую гипотезу\")\n",
    "else:\n",
    "    print(\"Не получилось отвергнуть нулевую гипотезу\")"
   ]
  },
  {
   "cell_type": "code",
   "execution_count": 73,
   "metadata": {},
   "outputs": [
    {
     "data": {
      "text/html": [
       "<div>\n",
       "<style scoped>\n",
       "    .dataframe tbody tr th:only-of-type {\n",
       "        vertical-align: middle;\n",
       "    }\n",
       "\n",
       "    .dataframe tbody tr th {\n",
       "        vertical-align: top;\n",
       "    }\n",
       "\n",
       "    .dataframe thead th {\n",
       "        text-align: right;\n",
       "    }\n",
       "</style>\n",
       "<table border=\"1\" class=\"dataframe\">\n",
       "  <thead>\n",
       "    <tr style=\"text-align: right;\">\n",
       "      <th></th>\n",
       "      <th>total_paid</th>\n",
       "    </tr>\n",
       "    <tr>\n",
       "      <th>region</th>\n",
       "      <th></th>\n",
       "    </tr>\n",
       "  </thead>\n",
       "  <tbody>\n",
       "    <tr>\n",
       "      <th>Другой регион</th>\n",
       "      <td>1,583.00</td>\n",
       "    </tr>\n",
       "    <tr>\n",
       "      <th>Москва</th>\n",
       "      <td>1,750.00</td>\n",
       "    </tr>\n",
       "  </tbody>\n",
       "</table>\n",
       "</div>"
      ],
      "text/plain": [
       "               total_paid\n",
       "region                   \n",
       "Другой регион    1,583.00\n",
       "Москва           1,750.00"
      ]
     },
     "execution_count": 73,
     "metadata": {},
     "output_type": "execute_result"
    }
   ],
   "source": [
    "def det_region(city):\n",
    "    if city == 'Москва': return 'Москва'\n",
    "    else: return 'Другой регион'\n",
    "    \n",
    "data['region'] = data['city'].apply(det_region)\n",
    "data.pivot_table(index='region', values='total_paid', aggfunc='median')"
   ]
  },
  {
   "cell_type": "code",
   "execution_count": 74,
   "metadata": {
    "scrolled": false
   },
   "outputs": [
    {
     "data": {
      "image/png": "[encoded data removed]",
      "text/plain": [
       "<Figure size 360x360 with 1 Axes>"
      ]
     },
     "metadata": {
      "needs_background": "light"
     },
     "output_type": "display_data"
    }
   ],
   "source": [
    "i = sns.catplot(x=\"region\", y='total_paid', kind=\"box\", data=data, orient='v')"
   ]
  },
  {
   "cell_type": "markdown",
   "metadata": {},
   "source": [
    "Доходы от пользователей из Москвы и из других регионов равны."
   ]
  },
  {
   "cell_type": "markdown",
   "metadata": {},
   "source": [
    "# Результаты исследования"
   ]
  },
  {
   "cell_type": "markdown",
   "metadata": {},
   "source": [
    "По результатам статистического анализа доходы от тарифа «Ультра» больше, чем от тарифа «Смарт»: в среднем «Мегалайн» от одного пользователя в месяц получает 1950 рублей и 988 рублей соответственно."
   ]
  },
  {
   "cell_type": "code",
   "execution_count": 75,
   "metadata": {},
   "outputs": [
    {
     "data": {
      "text/html": [
       "<div>\n",
       "<style scoped>\n",
       "    .dataframe tbody tr th:only-of-type {\n",
       "        vertical-align: middle;\n",
       "    }\n",
       "\n",
       "    .dataframe tbody tr th {\n",
       "        vertical-align: top;\n",
       "    }\n",
       "\n",
       "    .dataframe thead th {\n",
       "        text-align: right;\n",
       "    }\n",
       "</style>\n",
       "<table border=\"1\" class=\"dataframe\">\n",
       "  <thead>\n",
       "    <tr style=\"text-align: right;\">\n",
       "      <th></th>\n",
       "      <th>total_paid</th>\n",
       "    </tr>\n",
       "    <tr>\n",
       "      <th>tariff</th>\n",
       "      <th></th>\n",
       "    </tr>\n",
       "  </thead>\n",
       "  <tbody>\n",
       "    <tr>\n",
       "      <th>smart</th>\n",
       "      <td>1,023.00</td>\n",
       "    </tr>\n",
       "    <tr>\n",
       "      <th>ultra</th>\n",
       "      <td>1,950.00</td>\n",
       "    </tr>\n",
       "  </tbody>\n",
       "</table>\n",
       "</div>"
      ],
      "text/plain": [
       "        total_paid\n",
       "tariff            \n",
       "smart     1,023.00\n",
       "ultra     1,950.00"
      ]
     },
     "execution_count": 75,
     "metadata": {},
     "output_type": "execute_result"
    }
   ],
   "source": [
    "data.pivot_table(index='tariff', values='total_paid', aggfunc='median')"
   ]
  },
  {
   "cell_type": "markdown",
   "metadata": {},
   "source": [
    "Пользователям тарифа «Смарт» не хватает услуг в рамках тарифного пакета: кроме абонентской платы пользователи в среднем доплачивают еще 473 рублей ежемесячно (1023-473 = 550).   \n",
    "\n",
    "\n",
    "Пользователи тарифа «Ультра», напротив, не используют тарифный пакет в полном объеме.\n",
    "\n",
    "\n",
    "Средние доходы от пользователей в Москве не отличаются от доходов в других населенных пунктах: разница незначительна, и составляет 167 рублей."
   ]
  },
  {
   "cell_type": "code",
   "execution_count": 76,
   "metadata": {},
   "outputs": [
    {
     "data": {
      "text/html": [
       "<div>\n",
       "<style scoped>\n",
       "    .dataframe tbody tr th:only-of-type {\n",
       "        vertical-align: middle;\n",
       "    }\n",
       "\n",
       "    .dataframe tbody tr th {\n",
       "        vertical-align: top;\n",
       "    }\n",
       "\n",
       "    .dataframe thead th {\n",
       "        text-align: right;\n",
       "    }\n",
       "</style>\n",
       "<table border=\"1\" class=\"dataframe\">\n",
       "  <thead>\n",
       "    <tr style=\"text-align: right;\">\n",
       "      <th></th>\n",
       "      <th>total_paid</th>\n",
       "    </tr>\n",
       "    <tr>\n",
       "      <th>region</th>\n",
       "      <th></th>\n",
       "    </tr>\n",
       "  </thead>\n",
       "  <tbody>\n",
       "    <tr>\n",
       "      <th>Другой регион</th>\n",
       "      <td>1,583.00</td>\n",
       "    </tr>\n",
       "    <tr>\n",
       "      <th>Москва</th>\n",
       "      <td>1,750.00</td>\n",
       "    </tr>\n",
       "  </tbody>\n",
       "</table>\n",
       "</div>"
      ],
      "text/plain": [
       "               total_paid\n",
       "region                   \n",
       "Другой регион    1,583.00\n",
       "Москва           1,750.00"
      ]
     },
     "execution_count": 76,
     "metadata": {},
     "output_type": "execute_result"
    }
   ],
   "source": [
    "data.pivot_table(index='region', values='total_paid', aggfunc='median')"
   ]
  },
  {
   "cell_type": "markdown",
   "metadata": {},
   "source": [
    "**Рекомендации оператору**     \n",
    "Исправить округление — нулевые минуты должны округляться до 1;    \n",
    "Не публиковать незашифрованные ФИО и города в одном наборе;    \n",
    "Предложить пользователям более гибкую настройку тарифов."
   ]
  }
 ],
 "metadata": {
  "ExecuteTimeLog": [
   {
    "duration": 45,
    "start_time": "2022-04-26T06:18:02.045Z"
   },
   {
    "duration": 974,
    "start_time": "2022-04-26T06:18:04.410Z"
   },
   {
    "duration": 242,
    "start_time": "2022-04-26T06:18:06.474Z"
   },
   {
    "duration": 424,
    "start_time": "2022-04-26T06:18:19.739Z"
   },
   {
    "duration": 9,
    "start_time": "2022-04-26T06:18:22.530Z"
   },
   {
    "duration": 8,
    "start_time": "2022-04-26T06:18:58.289Z"
   },
   {
    "duration": 8,
    "start_time": "2022-04-26T06:19:00.323Z"
   },
   {
    "duration": 9,
    "start_time": "2022-04-26T06:19:01.897Z"
   },
   {
    "duration": 7,
    "start_time": "2022-04-26T06:19:04.610Z"
   },
   {
    "duration": 245,
    "start_time": "2022-04-26T06:19:49.354Z"
   },
   {
    "duration": 195,
    "start_time": "2022-04-26T06:19:54.832Z"
   },
   {
    "duration": 17,
    "start_time": "2022-04-26T06:20:07.088Z"
   },
   {
    "duration": 9,
    "start_time": "2022-04-26T06:20:59.640Z"
   },
   {
    "duration": 217,
    "start_time": "2022-04-26T06:23:40.492Z"
   },
   {
    "duration": 7,
    "start_time": "2022-04-26T06:23:52.699Z"
   },
   {
    "duration": 817,
    "start_time": "2022-04-27T05:30:11.143Z"
   },
   {
    "duration": 404,
    "start_time": "2022-04-27T05:30:11.962Z"
   },
   {
    "duration": 11,
    "start_time": "2022-04-27T05:30:12.367Z"
   },
   {
    "duration": 18,
    "start_time": "2022-04-27T05:30:12.379Z"
   },
   {
    "duration": 16,
    "start_time": "2022-04-27T05:30:12.399Z"
   },
   {
    "duration": 10,
    "start_time": "2022-04-27T05:30:12.417Z"
   },
   {
    "duration": 11,
    "start_time": "2022-04-27T05:30:12.428Z"
   },
   {
    "duration": 6,
    "start_time": "2022-04-27T05:30:35.446Z"
   },
   {
    "duration": 7,
    "start_time": "2022-04-27T05:30:36.619Z"
   },
   {
    "duration": 7,
    "start_time": "2022-04-27T05:30:37.844Z"
   },
   {
    "duration": 6,
    "start_time": "2022-04-27T05:30:40.564Z"
   },
   {
    "duration": 7,
    "start_time": "2022-04-27T05:30:42.091Z"
   },
   {
    "duration": 1513,
    "start_time": "2022-04-27T05:52:05.388Z"
   },
   {
    "duration": 668,
    "start_time": "2022-04-27T05:52:33.089Z"
   },
   {
    "duration": 374,
    "start_time": "2022-04-27T05:52:33.759Z"
   },
   {
    "duration": 9,
    "start_time": "2022-04-27T05:52:34.135Z"
   },
   {
    "duration": 6,
    "start_time": "2022-04-27T05:52:34.145Z"
   },
   {
    "duration": 9,
    "start_time": "2022-04-27T05:52:34.153Z"
   },
   {
    "duration": 8,
    "start_time": "2022-04-27T05:52:34.164Z"
   },
   {
    "duration": 9,
    "start_time": "2022-04-27T05:52:34.174Z"
   },
   {
    "duration": 1500,
    "start_time": "2022-04-27T05:52:34.185Z"
   },
   {
    "duration": 683,
    "start_time": "2022-04-27T05:53:59.499Z"
   },
   {
    "duration": 3,
    "start_time": "2022-04-27T05:54:00.184Z"
   },
   {
    "duration": 381,
    "start_time": "2022-04-27T05:54:00.188Z"
   },
   {
    "duration": 10,
    "start_time": "2022-04-27T05:54:00.571Z"
   },
   {
    "duration": 8,
    "start_time": "2022-04-27T05:54:00.584Z"
   },
   {
    "duration": 9,
    "start_time": "2022-04-27T05:54:00.594Z"
   },
   {
    "duration": 12,
    "start_time": "2022-04-27T05:54:00.605Z"
   },
   {
    "duration": 11,
    "start_time": "2022-04-27T05:54:00.619Z"
   },
   {
    "duration": 1529,
    "start_time": "2022-04-27T05:54:00.632Z"
   },
   {
    "duration": 674,
    "start_time": "2022-04-27T05:54:28.315Z"
   },
   {
    "duration": 2,
    "start_time": "2022-04-27T05:54:28.991Z"
   },
   {
    "duration": 396,
    "start_time": "2022-04-27T05:54:28.995Z"
   },
   {
    "duration": 12,
    "start_time": "2022-04-27T05:54:29.392Z"
   },
   {
    "duration": 8,
    "start_time": "2022-04-27T05:54:29.406Z"
   },
   {
    "duration": 9,
    "start_time": "2022-04-27T05:54:29.416Z"
   },
   {
    "duration": 8,
    "start_time": "2022-04-27T05:54:29.427Z"
   },
   {
    "duration": 9,
    "start_time": "2022-04-27T05:54:29.437Z"
   },
   {
    "duration": 37,
    "start_time": "2022-04-27T05:54:29.448Z"
   },
   {
    "duration": 67,
    "start_time": "2022-04-27T05:56:37.231Z"
   },
   {
    "duration": 13,
    "start_time": "2022-04-27T05:56:44.080Z"
   },
   {
    "duration": 6,
    "start_time": "2022-04-27T06:00:11.380Z"
   },
   {
    "duration": 20,
    "start_time": "2022-04-27T06:00:44.507Z"
   },
   {
    "duration": 648,
    "start_time": "2022-04-27T06:01:14.961Z"
   },
   {
    "duration": 3,
    "start_time": "2022-04-27T06:01:15.612Z"
   },
   {
    "duration": 419,
    "start_time": "2022-04-27T06:01:15.616Z"
   },
   {
    "duration": 11,
    "start_time": "2022-04-27T06:01:16.037Z"
   },
   {
    "duration": 8,
    "start_time": "2022-04-27T06:01:16.051Z"
   },
   {
    "duration": 8,
    "start_time": "2022-04-27T06:01:16.061Z"
   },
   {
    "duration": 10,
    "start_time": "2022-04-27T06:01:16.071Z"
   },
   {
    "duration": 24,
    "start_time": "2022-04-27T06:01:16.083Z"
   },
   {
    "duration": 38,
    "start_time": "2022-04-27T06:01:16.109Z"
   },
   {
    "duration": 6,
    "start_time": "2022-04-27T06:01:16.149Z"
   },
   {
    "duration": 22,
    "start_time": "2022-04-27T06:01:22.675Z"
   },
   {
    "duration": 702,
    "start_time": "2022-04-27T06:01:30.786Z"
   },
   {
    "duration": 2,
    "start_time": "2022-04-27T06:01:31.490Z"
   },
   {
    "duration": 412,
    "start_time": "2022-04-27T06:01:31.494Z"
   },
   {
    "duration": 28,
    "start_time": "2022-04-27T06:01:31.908Z"
   },
   {
    "duration": 12,
    "start_time": "2022-04-27T06:01:31.937Z"
   },
   {
    "duration": 7,
    "start_time": "2022-04-27T06:01:31.950Z"
   },
   {
    "duration": 10,
    "start_time": "2022-04-27T06:01:31.959Z"
   },
   {
    "duration": 41,
    "start_time": "2022-04-27T06:01:31.970Z"
   },
   {
    "duration": 41,
    "start_time": "2022-04-27T06:01:32.012Z"
   },
   {
    "duration": 6,
    "start_time": "2022-04-27T06:01:32.055Z"
   },
   {
    "duration": 10,
    "start_time": "2022-04-27T06:09:18.632Z"
   },
   {
    "duration": 2340,
    "start_time": "2022-04-27T06:09:22.728Z"
   },
   {
    "duration": 2,
    "start_time": "2022-04-27T06:09:25.070Z"
   },
   {
    "duration": 1862,
    "start_time": "2022-04-27T06:09:25.074Z"
   },
   {
    "duration": 12,
    "start_time": "2022-04-27T06:09:26.939Z"
   },
   {
    "duration": 11,
    "start_time": "2022-04-27T06:09:26.953Z"
   },
   {
    "duration": 7,
    "start_time": "2022-04-27T06:09:26.966Z"
   },
   {
    "duration": 12,
    "start_time": "2022-04-27T06:09:26.975Z"
   },
   {
    "duration": 20,
    "start_time": "2022-04-27T06:09:26.989Z"
   },
   {
    "duration": 53,
    "start_time": "2022-04-27T06:09:27.012Z"
   },
   {
    "duration": 6,
    "start_time": "2022-04-27T06:09:27.067Z"
   },
   {
    "duration": 44,
    "start_time": "2022-04-27T06:09:27.075Z"
   },
   {
    "duration": 17,
    "start_time": "2022-04-27T06:09:27.121Z"
   },
   {
    "duration": 22,
    "start_time": "2022-04-27T06:09:27.139Z"
   },
   {
    "duration": 16,
    "start_time": "2022-04-27T06:09:27.162Z"
   },
   {
    "duration": 29,
    "start_time": "2022-04-27T06:09:27.179Z"
   },
   {
    "duration": 76,
    "start_time": "2022-04-27T06:09:27.209Z"
   },
   {
    "duration": 0,
    "start_time": "2022-04-27T06:09:27.286Z"
   },
   {
    "duration": 7,
    "start_time": "2022-04-27T06:10:10.266Z"
   },
   {
    "duration": 17,
    "start_time": "2022-04-27T06:10:12.858Z"
   },
   {
    "duration": 3,
    "start_time": "2022-05-02T18:29:25.590Z"
   },
   {
    "duration": 786,
    "start_time": "2022-05-02T18:29:45.117Z"
   },
   {
    "duration": 2,
    "start_time": "2022-05-02T18:29:45.906Z"
   },
   {
    "duration": 378,
    "start_time": "2022-05-02T18:29:45.910Z"
   },
   {
    "duration": 10,
    "start_time": "2022-05-02T18:29:46.290Z"
   },
   {
    "duration": 10,
    "start_time": "2022-05-02T18:29:46.302Z"
   },
   {
    "duration": 8,
    "start_time": "2022-05-02T18:29:46.313Z"
   },
   {
    "duration": 10,
    "start_time": "2022-05-02T18:29:46.323Z"
   },
   {
    "duration": 16,
    "start_time": "2022-05-02T18:29:46.335Z"
   },
   {
    "duration": 46,
    "start_time": "2022-05-02T18:29:46.352Z"
   },
   {
    "duration": 22,
    "start_time": "2022-05-02T18:29:46.400Z"
   },
   {
    "duration": 7,
    "start_time": "2022-05-02T18:29:46.423Z"
   },
   {
    "duration": 51,
    "start_time": "2022-05-02T18:29:46.431Z"
   },
   {
    "duration": 19,
    "start_time": "2022-05-02T18:29:46.483Z"
   },
   {
    "duration": 17,
    "start_time": "2022-05-02T18:29:46.503Z"
   },
   {
    "duration": 36,
    "start_time": "2022-05-02T18:29:46.522Z"
   },
   {
    "duration": 16,
    "start_time": "2022-05-02T18:29:46.560Z"
   },
   {
    "duration": 14,
    "start_time": "2022-05-02T18:29:46.577Z"
   },
   {
    "duration": 6,
    "start_time": "2022-05-02T18:29:46.593Z"
   },
   {
    "duration": 5,
    "start_time": "2022-05-02T18:29:46.601Z"
   },
   {
    "duration": 12,
    "start_time": "2022-05-02T18:29:46.607Z"
   },
   {
    "duration": 12,
    "start_time": "2022-05-02T18:29:46.648Z"
   },
   {
    "duration": 579,
    "start_time": "2022-05-02T18:30:48.492Z"
   },
   {
    "duration": 3,
    "start_time": "2022-05-02T18:30:49.074Z"
   },
   {
    "duration": 368,
    "start_time": "2022-05-02T18:30:49.079Z"
   },
   {
    "duration": 13,
    "start_time": "2022-05-02T18:30:49.450Z"
   },
   {
    "duration": 9,
    "start_time": "2022-05-02T18:30:49.466Z"
   },
   {
    "duration": 13,
    "start_time": "2022-05-02T18:30:49.476Z"
   },
   {
    "duration": 16,
    "start_time": "2022-05-02T18:30:49.490Z"
   },
   {
    "duration": 17,
    "start_time": "2022-05-02T18:30:49.508Z"
   },
   {
    "duration": 58,
    "start_time": "2022-05-02T18:30:49.527Z"
   },
   {
    "duration": 64,
    "start_time": "2022-05-02T18:30:49.586Z"
   },
   {
    "duration": 7,
    "start_time": "2022-05-02T18:30:49.652Z"
   },
   {
    "duration": 30,
    "start_time": "2022-05-02T18:30:49.661Z"
   },
   {
    "duration": 40,
    "start_time": "2022-05-02T18:30:49.693Z"
   },
   {
    "duration": 33,
    "start_time": "2022-05-02T18:30:49.735Z"
   },
   {
    "duration": 20,
    "start_time": "2022-05-02T18:30:49.770Z"
   },
   {
    "duration": 33,
    "start_time": "2022-05-02T18:30:49.791Z"
   },
   {
    "duration": 35,
    "start_time": "2022-05-02T18:30:49.826Z"
   },
   {
    "duration": 9,
    "start_time": "2022-05-02T18:30:49.864Z"
   },
   {
    "duration": 6,
    "start_time": "2022-05-02T18:30:49.875Z"
   },
   {
    "duration": 14,
    "start_time": "2022-05-02T18:30:49.883Z"
   },
   {
    "duration": 10,
    "start_time": "2022-05-02T18:30:49.898Z"
   },
   {
    "duration": 613,
    "start_time": "2022-05-02T18:38:11.008Z"
   },
   {
    "duration": 2,
    "start_time": "2022-05-02T18:38:11.623Z"
   },
   {
    "duration": 381,
    "start_time": "2022-05-02T18:38:11.627Z"
   },
   {
    "duration": 12,
    "start_time": "2022-05-02T18:38:12.010Z"
   },
   {
    "duration": 9,
    "start_time": "2022-05-02T18:38:12.023Z"
   },
   {
    "duration": 9,
    "start_time": "2022-05-02T18:38:12.033Z"
   },
   {
    "duration": 22,
    "start_time": "2022-05-02T18:38:12.044Z"
   },
   {
    "duration": 14,
    "start_time": "2022-05-02T18:38:12.067Z"
   },
   {
    "duration": 35,
    "start_time": "2022-05-02T18:38:12.082Z"
   },
   {
    "duration": 64,
    "start_time": "2022-05-02T18:38:12.120Z"
   },
   {
    "duration": 6,
    "start_time": "2022-05-02T18:38:12.186Z"
   },
   {
    "duration": 25,
    "start_time": "2022-05-02T18:38:12.193Z"
   },
   {
    "duration": 66,
    "start_time": "2022-05-02T18:38:12.219Z"
   },
   {
    "duration": 18,
    "start_time": "2022-05-02T18:38:12.287Z"
   },
   {
    "duration": 24,
    "start_time": "2022-05-02T18:38:12.307Z"
   },
   {
    "duration": 58,
    "start_time": "2022-05-02T18:38:12.332Z"
   },
   {
    "duration": 15,
    "start_time": "2022-05-02T18:38:12.392Z"
   },
   {
    "duration": 6,
    "start_time": "2022-05-02T18:38:12.409Z"
   },
   {
    "duration": 5,
    "start_time": "2022-05-02T18:38:12.416Z"
   },
   {
    "duration": 37,
    "start_time": "2022-05-02T18:38:12.423Z"
   },
   {
    "duration": 9,
    "start_time": "2022-05-02T18:38:12.462Z"
   },
   {
    "duration": 240,
    "start_time": "2022-05-02T18:38:12.472Z"
   },
   {
    "duration": 0,
    "start_time": "2022-05-02T18:38:12.714Z"
   },
   {
    "duration": 0,
    "start_time": "2022-05-02T18:38:12.715Z"
   },
   {
    "duration": 0,
    "start_time": "2022-05-02T18:38:12.716Z"
   },
   {
    "duration": 0,
    "start_time": "2022-05-02T18:38:12.717Z"
   },
   {
    "duration": 0,
    "start_time": "2022-05-02T18:38:12.718Z"
   },
   {
    "duration": 0,
    "start_time": "2022-05-02T18:38:12.720Z"
   },
   {
    "duration": 0,
    "start_time": "2022-05-02T18:38:12.721Z"
   },
   {
    "duration": 168,
    "start_time": "2022-05-02T18:38:49.205Z"
   },
   {
    "duration": 52,
    "start_time": "2022-05-02T18:39:21.923Z"
   },
   {
    "duration": 7,
    "start_time": "2022-05-02T18:39:24.403Z"
   },
   {
    "duration": 591,
    "start_time": "2022-05-02T18:39:30.303Z"
   },
   {
    "duration": 2,
    "start_time": "2022-05-02T18:39:30.897Z"
   },
   {
    "duration": 501,
    "start_time": "2022-05-02T18:39:30.901Z"
   },
   {
    "duration": 13,
    "start_time": "2022-05-02T18:39:31.404Z"
   },
   {
    "duration": 10,
    "start_time": "2022-05-02T18:39:31.419Z"
   },
   {
    "duration": 11,
    "start_time": "2022-05-02T18:39:31.431Z"
   },
   {
    "duration": 26,
    "start_time": "2022-05-02T18:39:31.447Z"
   },
   {
    "duration": 11,
    "start_time": "2022-05-02T18:39:31.475Z"
   },
   {
    "duration": 37,
    "start_time": "2022-05-02T18:39:31.488Z"
   },
   {
    "duration": 84,
    "start_time": "2022-05-02T18:39:31.527Z"
   },
   {
    "duration": 6,
    "start_time": "2022-05-02T18:39:31.613Z"
   },
   {
    "duration": 52,
    "start_time": "2022-05-02T18:39:31.620Z"
   },
   {
    "duration": 72,
    "start_time": "2022-05-02T18:39:31.675Z"
   },
   {
    "duration": 26,
    "start_time": "2022-05-02T18:39:31.751Z"
   },
   {
    "duration": 27,
    "start_time": "2022-05-02T18:39:31.778Z"
   },
   {
    "duration": 64,
    "start_time": "2022-05-02T18:39:31.806Z"
   },
   {
    "duration": 21,
    "start_time": "2022-05-02T18:39:31.872Z"
   },
   {
    "duration": 9,
    "start_time": "2022-05-02T18:39:31.895Z"
   },
   {
    "duration": 10,
    "start_time": "2022-05-02T18:39:31.906Z"
   },
   {
    "duration": 13,
    "start_time": "2022-05-02T18:39:31.918Z"
   },
   {
    "duration": 11,
    "start_time": "2022-05-02T18:39:31.950Z"
   },
   {
    "duration": 51,
    "start_time": "2022-05-02T18:39:31.963Z"
   },
   {
    "duration": 8,
    "start_time": "2022-05-02T18:39:32.016Z"
   },
   {
    "duration": 9,
    "start_time": "2022-05-02T18:39:32.026Z"
   },
   {
    "duration": 28,
    "start_time": "2022-05-02T18:39:32.051Z"
   },
   {
    "duration": 11,
    "start_time": "2022-05-02T18:39:32.081Z"
   },
   {
    "duration": 9,
    "start_time": "2022-05-02T18:39:32.093Z"
   },
   {
    "duration": 56,
    "start_time": "2022-05-02T18:39:32.103Z"
   },
   {
    "duration": 7,
    "start_time": "2022-05-02T18:39:32.161Z"
   },
   {
    "duration": 892,
    "start_time": "2022-05-12T13:25:39.078Z"
   },
   {
    "duration": 3,
    "start_time": "2022-05-12T13:25:39.972Z"
   },
   {
    "duration": 422,
    "start_time": "2022-05-12T13:25:39.977Z"
   },
   {
    "duration": 12,
    "start_time": "2022-05-12T13:25:40.401Z"
   },
   {
    "duration": 8,
    "start_time": "2022-05-12T13:25:40.416Z"
   },
   {
    "duration": 16,
    "start_time": "2022-05-12T13:25:40.426Z"
   },
   {
    "duration": 24,
    "start_time": "2022-05-12T13:25:40.444Z"
   },
   {
    "duration": 13,
    "start_time": "2022-05-12T13:25:40.470Z"
   },
   {
    "duration": 44,
    "start_time": "2022-05-12T13:25:40.484Z"
   },
   {
    "duration": 67,
    "start_time": "2022-05-12T13:25:40.530Z"
   },
   {
    "duration": 6,
    "start_time": "2022-05-12T13:25:40.599Z"
   },
   {
    "duration": 41,
    "start_time": "2022-05-12T13:25:40.607Z"
   },
   {
    "duration": 48,
    "start_time": "2022-05-12T13:25:40.651Z"
   },
   {
    "duration": 17,
    "start_time": "2022-05-12T13:25:40.702Z"
   },
   {
    "duration": 48,
    "start_time": "2022-05-12T13:25:40.721Z"
   },
   {
    "duration": 43,
    "start_time": "2022-05-12T13:25:40.771Z"
   },
   {
    "duration": 17,
    "start_time": "2022-05-12T13:25:40.816Z"
   },
   {
    "duration": 17,
    "start_time": "2022-05-12T13:25:40.834Z"
   },
   {
    "duration": 14,
    "start_time": "2022-05-12T13:25:40.854Z"
   },
   {
    "duration": 13,
    "start_time": "2022-05-12T13:25:40.870Z"
   },
   {
    "duration": 11,
    "start_time": "2022-05-12T13:25:40.885Z"
   },
   {
    "duration": 76,
    "start_time": "2022-05-12T13:25:40.898Z"
   },
   {
    "duration": 8,
    "start_time": "2022-05-12T13:25:40.976Z"
   },
   {
    "duration": 11,
    "start_time": "2022-05-12T13:25:40.985Z"
   },
   {
    "duration": 25,
    "start_time": "2022-05-12T13:25:40.998Z"
   },
   {
    "duration": 25,
    "start_time": "2022-05-12T13:25:41.025Z"
   },
   {
    "duration": 22,
    "start_time": "2022-05-12T13:25:41.052Z"
   },
   {
    "duration": 32,
    "start_time": "2022-05-12T13:25:41.076Z"
   },
   {
    "duration": 8,
    "start_time": "2022-05-12T13:25:41.110Z"
   },
   {
    "duration": 40,
    "start_time": "2022-05-12T13:25:41.119Z"
   },
   {
    "duration": 13,
    "start_time": "2022-05-12T13:25:41.161Z"
   },
   {
    "duration": 13,
    "start_time": "2022-05-12T13:25:41.175Z"
   },
   {
    "duration": 12,
    "start_time": "2022-05-12T13:25:41.190Z"
   },
   {
    "duration": 19,
    "start_time": "2022-05-12T13:26:10.092Z"
   },
   {
    "duration": 91,
    "start_time": "2022-05-12T13:26:23.977Z"
   },
   {
    "duration": 19,
    "start_time": "2022-05-12T17:16:01.899Z"
   },
   {
    "duration": 14,
    "start_time": "2022-05-12T17:16:07.565Z"
   },
   {
    "duration": 13,
    "start_time": "2022-05-12T17:16:42.686Z"
   },
   {
    "duration": 13,
    "start_time": "2022-05-12T17:16:47.494Z"
   },
   {
    "duration": 47,
    "start_time": "2022-05-13T07:33:48.165Z"
   },
   {
    "duration": 828,
    "start_time": "2022-05-13T07:34:33.665Z"
   },
   {
    "duration": 5,
    "start_time": "2022-05-13T07:34:34.495Z"
   },
   {
    "duration": 415,
    "start_time": "2022-05-13T07:34:34.501Z"
   },
   {
    "duration": 13,
    "start_time": "2022-05-13T07:34:34.917Z"
   },
   {
    "duration": 9,
    "start_time": "2022-05-13T07:34:34.932Z"
   },
   {
    "duration": 9,
    "start_time": "2022-05-13T07:34:34.942Z"
   },
   {
    "duration": 10,
    "start_time": "2022-05-13T07:34:34.953Z"
   },
   {
    "duration": 13,
    "start_time": "2022-05-13T07:34:34.964Z"
   },
   {
    "duration": 44,
    "start_time": "2022-05-13T07:34:34.979Z"
   },
   {
    "duration": 54,
    "start_time": "2022-05-13T07:34:35.024Z"
   },
   {
    "duration": 20,
    "start_time": "2022-05-13T07:34:35.080Z"
   },
   {
    "duration": 22,
    "start_time": "2022-05-13T07:34:35.102Z"
   },
   {
    "duration": 39,
    "start_time": "2022-05-13T07:34:35.126Z"
   },
   {
    "duration": 32,
    "start_time": "2022-05-13T07:34:35.168Z"
   },
   {
    "duration": 18,
    "start_time": "2022-05-13T07:34:35.202Z"
   },
   {
    "duration": 38,
    "start_time": "2022-05-13T07:34:35.222Z"
   },
   {
    "duration": 24,
    "start_time": "2022-05-13T07:34:35.262Z"
   },
   {
    "duration": 16,
    "start_time": "2022-05-13T07:34:35.287Z"
   },
   {
    "duration": 24,
    "start_time": "2022-05-13T07:34:35.304Z"
   },
   {
    "duration": 18,
    "start_time": "2022-05-13T07:34:35.330Z"
   },
   {
    "duration": 49,
    "start_time": "2022-05-13T07:34:35.349Z"
   },
   {
    "duration": 6,
    "start_time": "2022-05-13T07:34:35.399Z"
   },
   {
    "duration": 12,
    "start_time": "2022-05-13T07:34:35.406Z"
   },
   {
    "duration": 27,
    "start_time": "2022-05-13T07:34:35.419Z"
   },
   {
    "duration": 7,
    "start_time": "2022-05-13T07:34:35.447Z"
   },
   {
    "duration": 13,
    "start_time": "2022-05-13T07:34:35.455Z"
   },
   {
    "duration": 42,
    "start_time": "2022-05-13T07:34:35.469Z"
   },
   {
    "duration": 7,
    "start_time": "2022-05-13T07:34:35.512Z"
   },
   {
    "duration": 18,
    "start_time": "2022-05-13T07:34:35.521Z"
   },
   {
    "duration": 12,
    "start_time": "2022-05-13T07:34:35.541Z"
   },
   {
    "duration": 7,
    "start_time": "2022-05-13T07:34:35.555Z"
   },
   {
    "duration": 13,
    "start_time": "2022-05-13T07:34:35.564Z"
   },
   {
    "duration": 17,
    "start_time": "2022-05-13T07:34:35.599Z"
   },
   {
    "duration": 88,
    "start_time": "2022-05-13T07:34:35.617Z"
   },
   {
    "duration": 13,
    "start_time": "2022-05-13T07:36:21.097Z"
   },
   {
    "duration": 12,
    "start_time": "2022-05-13T07:36:29.135Z"
   },
   {
    "duration": 635,
    "start_time": "2022-05-13T07:39:38.250Z"
   },
   {
    "duration": 3,
    "start_time": "2022-05-13T07:39:38.887Z"
   },
   {
    "duration": 377,
    "start_time": "2022-05-13T07:39:38.892Z"
   },
   {
    "duration": 11,
    "start_time": "2022-05-13T07:39:39.272Z"
   },
   {
    "duration": 10,
    "start_time": "2022-05-13T07:39:39.284Z"
   },
   {
    "duration": 9,
    "start_time": "2022-05-13T07:39:39.296Z"
   },
   {
    "duration": 10,
    "start_time": "2022-05-13T07:39:39.306Z"
   },
   {
    "duration": 19,
    "start_time": "2022-05-13T07:39:39.318Z"
   },
   {
    "duration": 43,
    "start_time": "2022-05-13T07:39:39.339Z"
   },
   {
    "duration": 54,
    "start_time": "2022-05-13T07:39:39.385Z"
   },
   {
    "duration": 6,
    "start_time": "2022-05-13T07:39:39.441Z"
   },
   {
    "duration": 25,
    "start_time": "2022-05-13T07:39:39.449Z"
   },
   {
    "duration": 64,
    "start_time": "2022-05-13T07:39:39.476Z"
   },
   {
    "duration": 18,
    "start_time": "2022-05-13T07:39:39.542Z"
   },
   {
    "duration": 20,
    "start_time": "2022-05-13T07:39:39.561Z"
   },
   {
    "duration": 50,
    "start_time": "2022-05-13T07:39:39.583Z"
   },
   {
    "duration": 15,
    "start_time": "2022-05-13T07:39:39.635Z"
   },
   {
    "duration": 9,
    "start_time": "2022-05-13T07:39:39.651Z"
   },
   {
    "duration": 13,
    "start_time": "2022-05-13T07:39:39.661Z"
   },
   {
    "duration": 26,
    "start_time": "2022-05-13T07:39:39.675Z"
   },
   {
    "duration": 47,
    "start_time": "2022-05-13T07:39:39.703Z"
   },
   {
    "duration": 7,
    "start_time": "2022-05-13T07:39:39.751Z"
   },
   {
    "duration": 14,
    "start_time": "2022-05-13T07:39:39.759Z"
   },
   {
    "duration": 37,
    "start_time": "2022-05-13T07:39:39.774Z"
   },
   {
    "duration": 6,
    "start_time": "2022-05-13T07:39:39.813Z"
   },
   {
    "duration": 12,
    "start_time": "2022-05-13T07:39:39.820Z"
   },
   {
    "duration": 29,
    "start_time": "2022-05-13T07:39:39.834Z"
   },
   {
    "duration": 7,
    "start_time": "2022-05-13T07:39:39.866Z"
   },
   {
    "duration": 32,
    "start_time": "2022-05-13T07:39:39.875Z"
   },
   {
    "duration": 14,
    "start_time": "2022-05-13T07:39:39.909Z"
   },
   {
    "duration": 8,
    "start_time": "2022-05-13T07:39:39.925Z"
   },
   {
    "duration": 9,
    "start_time": "2022-05-13T07:39:39.934Z"
   },
   {
    "duration": 12,
    "start_time": "2022-05-13T07:39:39.945Z"
   },
   {
    "duration": 58,
    "start_time": "2022-05-13T07:39:39.959Z"
   },
   {
    "duration": 88,
    "start_time": "2022-05-13T07:39:40.019Z"
   },
   {
    "duration": 762,
    "start_time": "2022-05-13T07:41:21.070Z"
   },
   {
    "duration": 3,
    "start_time": "2022-05-13T07:41:21.834Z"
   },
   {
    "duration": 382,
    "start_time": "2022-05-13T07:41:21.838Z"
   },
   {
    "duration": 11,
    "start_time": "2022-05-13T07:41:22.221Z"
   },
   {
    "duration": 8,
    "start_time": "2022-05-13T07:41:22.235Z"
   },
   {
    "duration": 12,
    "start_time": "2022-05-13T07:41:22.244Z"
   },
   {
    "duration": 9,
    "start_time": "2022-05-13T07:41:22.258Z"
   },
   {
    "duration": 11,
    "start_time": "2022-05-13T07:41:22.269Z"
   },
   {
    "duration": 45,
    "start_time": "2022-05-13T07:41:22.282Z"
   },
   {
    "duration": 56,
    "start_time": "2022-05-13T07:41:22.329Z"
   },
   {
    "duration": 17,
    "start_time": "2022-05-13T07:41:22.386Z"
   },
   {
    "duration": 28,
    "start_time": "2022-05-13T07:41:22.404Z"
   },
   {
    "duration": 41,
    "start_time": "2022-05-13T07:41:22.433Z"
   },
   {
    "duration": 30,
    "start_time": "2022-05-13T07:41:22.477Z"
   },
   {
    "duration": 21,
    "start_time": "2022-05-13T07:41:22.508Z"
   },
   {
    "duration": 34,
    "start_time": "2022-05-13T07:41:22.530Z"
   },
   {
    "duration": 37,
    "start_time": "2022-05-13T07:41:22.566Z"
   },
   {
    "duration": 6,
    "start_time": "2022-05-13T07:41:22.604Z"
   },
   {
    "duration": 12,
    "start_time": "2022-05-13T07:41:22.611Z"
   },
   {
    "duration": 11,
    "start_time": "2022-05-13T07:41:22.625Z"
   },
   {
    "duration": 45,
    "start_time": "2022-05-13T07:41:22.638Z"
   },
   {
    "duration": 19,
    "start_time": "2022-05-13T07:41:22.684Z"
   },
   {
    "duration": 33,
    "start_time": "2022-05-13T07:41:22.704Z"
   },
   {
    "duration": 36,
    "start_time": "2022-05-13T07:41:22.739Z"
   },
   {
    "duration": 6,
    "start_time": "2022-05-13T07:41:22.777Z"
   },
   {
    "duration": 10,
    "start_time": "2022-05-13T07:41:22.784Z"
   },
   {
    "duration": 31,
    "start_time": "2022-05-13T07:41:22.795Z"
   },
   {
    "duration": 6,
    "start_time": "2022-05-13T07:41:22.828Z"
   },
   {
    "duration": 20,
    "start_time": "2022-05-13T07:41:22.836Z"
   },
   {
    "duration": 13,
    "start_time": "2022-05-13T07:41:22.858Z"
   },
   {
    "duration": 10,
    "start_time": "2022-05-13T07:41:22.873Z"
   },
   {
    "duration": 23,
    "start_time": "2022-05-13T07:41:22.885Z"
   },
   {
    "duration": 18,
    "start_time": "2022-05-13T07:41:22.910Z"
   },
   {
    "duration": 86,
    "start_time": "2022-05-13T07:41:22.930Z"
   },
   {
    "duration": 12,
    "start_time": "2022-05-13T07:43:23.871Z"
   },
   {
    "duration": 11,
    "start_time": "2022-05-13T07:43:35.612Z"
   },
   {
    "duration": 11,
    "start_time": "2022-05-13T07:43:40.877Z"
   },
   {
    "duration": 59,
    "start_time": "2022-05-22T16:31:17.235Z"
   },
   {
    "duration": 951,
    "start_time": "2022-05-22T16:31:21.965Z"
   },
   {
    "duration": 3,
    "start_time": "2022-05-22T16:31:22.918Z"
   },
   {
    "duration": 778,
    "start_time": "2022-05-22T16:31:22.923Z"
   },
   {
    "duration": 12,
    "start_time": "2022-05-22T16:31:23.703Z"
   },
   {
    "duration": 26,
    "start_time": "2022-05-22T16:31:23.717Z"
   },
   {
    "duration": 10,
    "start_time": "2022-05-22T16:31:23.745Z"
   },
   {
    "duration": 11,
    "start_time": "2022-05-22T16:31:23.757Z"
   },
   {
    "duration": 15,
    "start_time": "2022-05-22T16:31:23.769Z"
   },
   {
    "duration": 36,
    "start_time": "2022-05-22T16:31:23.786Z"
   },
   {
    "duration": 64,
    "start_time": "2022-05-22T16:31:23.826Z"
   },
   {
    "duration": 11,
    "start_time": "2022-05-22T16:31:23.892Z"
   },
   {
    "duration": 40,
    "start_time": "2022-05-22T16:31:23.904Z"
   },
   {
    "duration": 46,
    "start_time": "2022-05-22T16:31:23.947Z"
   },
   {
    "duration": 41,
    "start_time": "2022-05-22T16:31:23.995Z"
   },
   {
    "duration": 25,
    "start_time": "2022-05-22T16:31:24.038Z"
   },
   {
    "duration": 35,
    "start_time": "2022-05-22T16:31:24.064Z"
   },
   {
    "duration": 34,
    "start_time": "2022-05-22T16:31:24.101Z"
   },
   {
    "duration": 11,
    "start_time": "2022-05-22T16:31:24.139Z"
   },
   {
    "duration": 13,
    "start_time": "2022-05-22T16:31:24.151Z"
   },
   {
    "duration": 10,
    "start_time": "2022-05-22T16:31:24.166Z"
   },
   {
    "duration": 74,
    "start_time": "2022-05-22T16:31:24.178Z"
   },
   {
    "duration": 7,
    "start_time": "2022-05-22T16:31:24.254Z"
   },
   {
    "duration": 14,
    "start_time": "2022-05-22T16:31:24.263Z"
   },
   {
    "duration": 26,
    "start_time": "2022-05-22T16:31:24.279Z"
   },
   {
    "duration": 23,
    "start_time": "2022-05-22T16:31:24.306Z"
   },
   {
    "duration": 21,
    "start_time": "2022-05-22T16:31:24.331Z"
   },
   {
    "duration": 40,
    "start_time": "2022-05-22T16:31:24.354Z"
   },
   {
    "duration": 7,
    "start_time": "2022-05-22T16:31:24.397Z"
   },
   {
    "duration": 56,
    "start_time": "2022-05-22T16:31:24.406Z"
   },
   {
    "duration": 16,
    "start_time": "2022-05-22T16:31:24.464Z"
   },
   {
    "duration": 7,
    "start_time": "2022-05-22T16:31:24.482Z"
   },
   {
    "duration": 12,
    "start_time": "2022-05-22T16:31:24.491Z"
   },
   {
    "duration": 35,
    "start_time": "2022-05-22T16:31:24.505Z"
   },
   {
    "duration": 99,
    "start_time": "2022-05-22T16:31:24.542Z"
   },
   {
    "duration": 12,
    "start_time": "2022-05-22T16:33:39.043Z"
   },
   {
    "duration": 15,
    "start_time": "2022-05-22T16:34:33.813Z"
   },
   {
    "duration": 12,
    "start_time": "2022-05-22T16:34:56.290Z"
   },
   {
    "duration": 21,
    "start_time": "2022-05-22T16:39:28.002Z"
   },
   {
    "duration": 12,
    "start_time": "2022-05-22T16:39:45.139Z"
   },
   {
    "duration": 20,
    "start_time": "2022-05-23T07:56:40.136Z"
   },
   {
    "duration": 13,
    "start_time": "2022-05-23T07:57:15.919Z"
   },
   {
    "duration": 12,
    "start_time": "2022-05-23T07:58:54.027Z"
   },
   {
    "duration": 652,
    "start_time": "2022-05-23T07:58:58.577Z"
   },
   {
    "duration": 3,
    "start_time": "2022-05-23T07:58:59.231Z"
   },
   {
    "duration": 424,
    "start_time": "2022-05-23T07:58:59.236Z"
   },
   {
    "duration": 12,
    "start_time": "2022-05-23T07:58:59.663Z"
   },
   {
    "duration": 17,
    "start_time": "2022-05-23T07:58:59.676Z"
   },
   {
    "duration": 26,
    "start_time": "2022-05-23T07:58:59.695Z"
   },
   {
    "duration": 35,
    "start_time": "2022-05-23T07:58:59.723Z"
   },
   {
    "duration": 24,
    "start_time": "2022-05-23T07:58:59.760Z"
   },
   {
    "duration": 68,
    "start_time": "2022-05-23T07:58:59.787Z"
   },
   {
    "duration": 98,
    "start_time": "2022-05-23T07:58:59.859Z"
   },
   {
    "duration": 6,
    "start_time": "2022-05-23T07:58:59.959Z"
   },
   {
    "duration": 36,
    "start_time": "2022-05-23T07:58:59.968Z"
   },
   {
    "duration": 90,
    "start_time": "2022-05-23T07:59:00.006Z"
   },
   {
    "duration": 18,
    "start_time": "2022-05-23T07:59:00.098Z"
   },
   {
    "duration": 46,
    "start_time": "2022-05-23T07:59:00.119Z"
   },
   {
    "duration": 43,
    "start_time": "2022-05-23T07:59:00.167Z"
   },
   {
    "duration": 72,
    "start_time": "2022-05-23T07:59:00.212Z"
   },
   {
    "duration": 25,
    "start_time": "2022-05-23T07:59:00.286Z"
   },
   {
    "duration": 16,
    "start_time": "2022-05-23T07:59:00.313Z"
   },
   {
    "duration": 18,
    "start_time": "2022-05-23T07:59:00.331Z"
   },
   {
    "duration": 76,
    "start_time": "2022-05-23T07:59:00.352Z"
   },
   {
    "duration": 20,
    "start_time": "2022-05-23T07:59:00.429Z"
   },
   {
    "duration": 53,
    "start_time": "2022-05-23T07:59:00.451Z"
   },
   {
    "duration": 72,
    "start_time": "2022-05-23T07:59:00.505Z"
   },
   {
    "duration": 48,
    "start_time": "2022-05-23T07:59:00.578Z"
   },
   {
    "duration": 46,
    "start_time": "2022-05-23T07:59:00.628Z"
   },
   {
    "duration": 81,
    "start_time": "2022-05-23T07:59:00.677Z"
   },
   {
    "duration": 9,
    "start_time": "2022-05-23T07:59:00.762Z"
   },
   {
    "duration": 37,
    "start_time": "2022-05-23T07:59:00.773Z"
   },
   {
    "duration": 16,
    "start_time": "2022-05-23T07:59:00.812Z"
   },
   {
    "duration": 59,
    "start_time": "2022-05-23T07:59:00.830Z"
   },
   {
    "duration": 24,
    "start_time": "2022-05-23T07:59:00.891Z"
   },
   {
    "duration": 36,
    "start_time": "2022-05-23T07:59:00.917Z"
   },
   {
    "duration": 13,
    "start_time": "2022-05-23T07:59:00.955Z"
   },
   {
    "duration": 121,
    "start_time": "2022-05-23T07:59:00.971Z"
   },
   {
    "duration": 15,
    "start_time": "2022-05-23T08:01:37.374Z"
   },
   {
    "duration": 8,
    "start_time": "2022-05-23T08:01:53.407Z"
   },
   {
    "duration": 33,
    "start_time": "2022-05-23T08:04:46.115Z"
   },
   {
    "duration": 8,
    "start_time": "2022-05-23T08:05:03.603Z"
   },
   {
    "duration": 709,
    "start_time": "2022-05-23T08:05:58.539Z"
   },
   {
    "duration": 3,
    "start_time": "2022-05-23T08:05:59.250Z"
   },
   {
    "duration": 353,
    "start_time": "2022-05-23T08:05:59.255Z"
   },
   {
    "duration": 13,
    "start_time": "2022-05-23T08:05:59.609Z"
   },
   {
    "duration": 8,
    "start_time": "2022-05-23T08:05:59.625Z"
   },
   {
    "duration": 20,
    "start_time": "2022-05-23T08:05:59.635Z"
   },
   {
    "duration": 22,
    "start_time": "2022-05-23T08:05:59.657Z"
   },
   {
    "duration": 13,
    "start_time": "2022-05-23T08:05:59.680Z"
   },
   {
    "duration": 41,
    "start_time": "2022-05-23T08:05:59.694Z"
   },
   {
    "duration": 61,
    "start_time": "2022-05-23T08:05:59.737Z"
   },
   {
    "duration": 7,
    "start_time": "2022-05-23T08:05:59.800Z"
   },
   {
    "duration": 44,
    "start_time": "2022-05-23T08:05:59.809Z"
   },
   {
    "duration": 44,
    "start_time": "2022-05-23T08:05:59.855Z"
   },
   {
    "duration": 18,
    "start_time": "2022-05-23T08:05:59.902Z"
   },
   {
    "duration": 35,
    "start_time": "2022-05-23T08:05:59.921Z"
   },
   {
    "duration": 38,
    "start_time": "2022-05-23T08:05:59.958Z"
   },
   {
    "duration": 18,
    "start_time": "2022-05-23T08:05:59.998Z"
   },
   {
    "duration": 22,
    "start_time": "2022-05-23T08:06:00.018Z"
   },
   {
    "duration": 26,
    "start_time": "2022-05-23T08:06:00.041Z"
   },
   {
    "duration": 19,
    "start_time": "2022-05-23T08:06:00.069Z"
   },
   {
    "duration": 59,
    "start_time": "2022-05-23T08:06:00.090Z"
   },
   {
    "duration": 8,
    "start_time": "2022-05-23T08:06:00.150Z"
   },
   {
    "duration": 24,
    "start_time": "2022-05-23T08:06:00.159Z"
   },
   {
    "duration": 37,
    "start_time": "2022-05-23T08:06:00.186Z"
   },
   {
    "duration": 8,
    "start_time": "2022-05-23T08:06:00.225Z"
   },
   {
    "duration": 54,
    "start_time": "2022-05-23T08:06:00.235Z"
   },
   {
    "duration": 34,
    "start_time": "2022-05-23T08:06:00.291Z"
   },
   {
    "duration": 7,
    "start_time": "2022-05-23T08:06:00.327Z"
   },
   {
    "duration": 30,
    "start_time": "2022-05-23T08:06:00.336Z"
   },
   {
    "duration": 19,
    "start_time": "2022-05-23T08:06:00.368Z"
   },
   {
    "duration": 18,
    "start_time": "2022-05-23T08:06:00.389Z"
   },
   {
    "duration": 73,
    "start_time": "2022-05-23T08:06:00.410Z"
   },
   {
    "duration": 34,
    "start_time": "2022-05-23T08:06:00.485Z"
   },
   {
    "duration": 33,
    "start_time": "2022-05-23T08:06:00.520Z"
   },
   {
    "duration": 141,
    "start_time": "2022-05-23T08:06:00.555Z"
   },
   {
    "duration": 0,
    "start_time": "2022-05-23T08:06:00.698Z"
   },
   {
    "duration": 0,
    "start_time": "2022-05-23T08:06:00.699Z"
   },
   {
    "duration": 0,
    "start_time": "2022-05-23T08:06:00.699Z"
   },
   {
    "duration": 0,
    "start_time": "2022-05-23T08:06:00.700Z"
   },
   {
    "duration": 10,
    "start_time": "2022-05-23T08:06:28.703Z"
   },
   {
    "duration": 9,
    "start_time": "2022-05-23T08:08:55.691Z"
   },
   {
    "duration": 769,
    "start_time": "2022-05-23T08:09:00.035Z"
   },
   {
    "duration": 3,
    "start_time": "2022-05-23T08:09:00.806Z"
   },
   {
    "duration": 447,
    "start_time": "2022-05-23T08:09:00.811Z"
   },
   {
    "duration": 16,
    "start_time": "2022-05-23T08:09:01.261Z"
   },
   {
    "duration": 87,
    "start_time": "2022-05-23T08:09:01.279Z"
   },
   {
    "duration": 23,
    "start_time": "2022-05-23T08:09:01.368Z"
   },
   {
    "duration": 30,
    "start_time": "2022-05-23T08:09:01.393Z"
   },
   {
    "duration": 51,
    "start_time": "2022-05-23T08:09:01.425Z"
   },
   {
    "duration": 93,
    "start_time": "2022-05-23T08:09:01.478Z"
   },
   {
    "duration": 151,
    "start_time": "2022-05-23T08:09:01.575Z"
   },
   {
    "duration": 36,
    "start_time": "2022-05-23T08:09:01.728Z"
   },
   {
    "duration": 35,
    "start_time": "2022-05-23T08:09:01.769Z"
   },
   {
    "duration": 47,
    "start_time": "2022-05-23T08:09:01.806Z"
   },
   {
    "duration": 35,
    "start_time": "2022-05-23T08:09:01.855Z"
   },
   {
    "duration": 50,
    "start_time": "2022-05-23T08:09:01.892Z"
   },
   {
    "duration": 64,
    "start_time": "2022-05-23T08:09:01.944Z"
   },
   {
    "duration": 26,
    "start_time": "2022-05-23T08:09:02.010Z"
   },
   {
    "duration": 110,
    "start_time": "2022-05-23T08:09:02.038Z"
   },
   {
    "duration": 0,
    "start_time": "2022-05-23T08:09:02.152Z"
   },
   {
    "duration": 0,
    "start_time": "2022-05-23T08:09:02.153Z"
   },
   {
    "duration": 0,
    "start_time": "2022-05-23T08:09:02.154Z"
   },
   {
    "duration": 0,
    "start_time": "2022-05-23T08:09:02.156Z"
   },
   {
    "duration": 0,
    "start_time": "2022-05-23T08:09:02.157Z"
   },
   {
    "duration": 0,
    "start_time": "2022-05-23T08:09:02.160Z"
   },
   {
    "duration": 0,
    "start_time": "2022-05-23T08:09:02.161Z"
   },
   {
    "duration": 0,
    "start_time": "2022-05-23T08:09:02.163Z"
   },
   {
    "duration": 0,
    "start_time": "2022-05-23T08:09:02.166Z"
   },
   {
    "duration": 0,
    "start_time": "2022-05-23T08:09:02.168Z"
   },
   {
    "duration": 1,
    "start_time": "2022-05-23T08:09:02.170Z"
   },
   {
    "duration": 0,
    "start_time": "2022-05-23T08:09:02.172Z"
   },
   {
    "duration": 0,
    "start_time": "2022-05-23T08:09:02.173Z"
   },
   {
    "duration": 0,
    "start_time": "2022-05-23T08:09:02.174Z"
   },
   {
    "duration": 0,
    "start_time": "2022-05-23T08:09:02.176Z"
   },
   {
    "duration": 0,
    "start_time": "2022-05-23T08:09:02.177Z"
   },
   {
    "duration": 0,
    "start_time": "2022-05-23T08:09:02.178Z"
   },
   {
    "duration": 0,
    "start_time": "2022-05-23T08:09:02.179Z"
   },
   {
    "duration": 0,
    "start_time": "2022-05-23T08:09:02.180Z"
   },
   {
    "duration": 0,
    "start_time": "2022-05-23T08:09:02.180Z"
   },
   {
    "duration": 0,
    "start_time": "2022-05-23T08:09:02.181Z"
   },
   {
    "duration": 685,
    "start_time": "2022-05-23T08:09:14.371Z"
   },
   {
    "duration": 3,
    "start_time": "2022-05-23T08:09:15.058Z"
   },
   {
    "duration": 468,
    "start_time": "2022-05-23T08:09:15.063Z"
   },
   {
    "duration": 12,
    "start_time": "2022-05-23T08:09:15.532Z"
   },
   {
    "duration": 9,
    "start_time": "2022-05-23T08:09:15.546Z"
   },
   {
    "duration": 10,
    "start_time": "2022-05-23T08:09:15.557Z"
   },
   {
    "duration": 10,
    "start_time": "2022-05-23T08:09:15.569Z"
   },
   {
    "duration": 15,
    "start_time": "2022-05-23T08:09:15.582Z"
   },
   {
    "duration": 37,
    "start_time": "2022-05-23T08:09:15.599Z"
   },
   {
    "duration": 62,
    "start_time": "2022-05-23T08:09:15.651Z"
   },
   {
    "duration": 6,
    "start_time": "2022-05-23T08:09:15.715Z"
   },
   {
    "duration": 44,
    "start_time": "2022-05-23T08:09:15.722Z"
   },
   {
    "duration": 47,
    "start_time": "2022-05-23T08:09:15.767Z"
   },
   {
    "duration": 35,
    "start_time": "2022-05-23T08:09:15.817Z"
   },
   {
    "duration": 21,
    "start_time": "2022-05-23T08:09:15.854Z"
   },
   {
    "duration": 39,
    "start_time": "2022-05-23T08:09:15.877Z"
   },
   {
    "duration": 19,
    "start_time": "2022-05-23T08:09:15.918Z"
   },
   {
    "duration": 11,
    "start_time": "2022-05-23T08:09:15.951Z"
   },
   {
    "duration": 19,
    "start_time": "2022-05-23T08:09:15.963Z"
   },
   {
    "duration": 14,
    "start_time": "2022-05-23T08:09:15.984Z"
   },
   {
    "duration": 58,
    "start_time": "2022-05-23T08:09:16.000Z"
   },
   {
    "duration": 8,
    "start_time": "2022-05-23T08:09:16.060Z"
   },
   {
    "duration": 20,
    "start_time": "2022-05-23T08:09:16.069Z"
   },
   {
    "duration": 27,
    "start_time": "2022-05-23T08:09:16.090Z"
   },
   {
    "duration": 8,
    "start_time": "2022-05-23T08:09:16.120Z"
   },
   {
    "duration": 28,
    "start_time": "2022-05-23T08:09:16.130Z"
   },
   {
    "duration": 40,
    "start_time": "2022-05-23T08:09:16.160Z"
   },
   {
    "duration": 8,
    "start_time": "2022-05-23T08:09:16.202Z"
   },
   {
    "duration": 16,
    "start_time": "2022-05-23T08:09:16.212Z"
   },
   {
    "duration": 39,
    "start_time": "2022-05-23T08:09:16.230Z"
   },
   {
    "duration": 8,
    "start_time": "2022-05-23T08:09:16.270Z"
   },
   {
    "duration": 11,
    "start_time": "2022-05-23T08:09:16.280Z"
   },
   {
    "duration": 25,
    "start_time": "2022-05-23T08:09:16.293Z"
   },
   {
    "duration": 37,
    "start_time": "2022-05-23T08:09:16.320Z"
   },
   {
    "duration": 28,
    "start_time": "2022-05-23T08:09:16.359Z"
   },
   {
    "duration": 11,
    "start_time": "2022-05-23T08:09:16.389Z"
   },
   {
    "duration": 7,
    "start_time": "2022-05-23T08:09:16.401Z"
   },
   {
    "duration": 10,
    "start_time": "2022-05-23T08:09:16.409Z"
   },
   {
    "duration": 40,
    "start_time": "2022-05-23T08:09:16.421Z"
   },
   {
    "duration": 729,
    "start_time": "2022-05-23T08:11:13.911Z"
   },
   {
    "duration": 4,
    "start_time": "2022-05-23T08:11:14.643Z"
   },
   {
    "duration": 366,
    "start_time": "2022-05-23T08:11:14.652Z"
   },
   {
    "duration": 12,
    "start_time": "2022-05-23T08:11:15.020Z"
   },
   {
    "duration": 17,
    "start_time": "2022-05-23T08:11:15.037Z"
   },
   {
    "duration": 18,
    "start_time": "2022-05-23T08:11:15.056Z"
   },
   {
    "duration": 19,
    "start_time": "2022-05-23T08:11:15.076Z"
   },
   {
    "duration": 28,
    "start_time": "2022-05-23T08:11:15.097Z"
   },
   {
    "duration": 42,
    "start_time": "2022-05-23T08:11:15.128Z"
   },
   {
    "duration": 88,
    "start_time": "2022-05-23T08:11:15.174Z"
   },
   {
    "duration": 7,
    "start_time": "2022-05-23T08:11:15.264Z"
   },
   {
    "duration": 42,
    "start_time": "2022-05-23T08:11:15.273Z"
   },
   {
    "duration": 61,
    "start_time": "2022-05-23T08:11:15.319Z"
   },
   {
    "duration": 41,
    "start_time": "2022-05-23T08:11:15.383Z"
   },
   {
    "duration": 43,
    "start_time": "2022-05-23T08:11:15.427Z"
   },
   {
    "duration": 81,
    "start_time": "2022-05-23T08:11:15.472Z"
   },
   {
    "duration": 30,
    "start_time": "2022-05-23T08:11:15.555Z"
   },
   {
    "duration": 37,
    "start_time": "2022-05-23T08:11:15.589Z"
   },
   {
    "duration": 34,
    "start_time": "2022-05-23T08:11:15.628Z"
   },
   {
    "duration": 37,
    "start_time": "2022-05-23T08:11:15.664Z"
   },
   {
    "duration": 89,
    "start_time": "2022-05-23T08:11:15.703Z"
   },
   {
    "duration": 9,
    "start_time": "2022-05-23T08:11:15.794Z"
   },
   {
    "duration": 16,
    "start_time": "2022-05-23T08:11:15.805Z"
   },
   {
    "duration": 39,
    "start_time": "2022-05-23T08:11:15.823Z"
   },
   {
    "duration": 12,
    "start_time": "2022-05-23T08:11:15.864Z"
   },
   {
    "duration": 27,
    "start_time": "2022-05-23T08:11:15.879Z"
   },
   {
    "duration": 37,
    "start_time": "2022-05-23T08:11:15.909Z"
   },
   {
    "duration": 9,
    "start_time": "2022-05-23T08:11:15.951Z"
   },
   {
    "duration": 40,
    "start_time": "2022-05-23T08:11:15.962Z"
   },
   {
    "duration": 30,
    "start_time": "2022-05-23T08:11:16.005Z"
   },
   {
    "duration": 10,
    "start_time": "2022-05-23T08:11:16.037Z"
   },
   {
    "duration": 16,
    "start_time": "2022-05-23T08:11:16.049Z"
   },
   {
    "duration": 31,
    "start_time": "2022-05-23T08:11:16.068Z"
   },
   {
    "duration": 13,
    "start_time": "2022-05-23T08:11:16.101Z"
   },
   {
    "duration": 47,
    "start_time": "2022-05-23T08:11:16.116Z"
   },
   {
    "duration": 16,
    "start_time": "2022-05-23T08:11:16.165Z"
   },
   {
    "duration": 18,
    "start_time": "2022-05-23T08:11:16.183Z"
   },
   {
    "duration": 29,
    "start_time": "2022-05-23T08:11:16.203Z"
   },
   {
    "duration": 21,
    "start_time": "2022-05-23T08:11:16.234Z"
   },
   {
    "duration": 5,
    "start_time": "2022-05-23T08:11:16.257Z"
   },
   {
    "duration": 22,
    "start_time": "2022-05-23T08:11:16.264Z"
   },
   {
    "duration": 140,
    "start_time": "2022-05-23T08:11:16.287Z"
   },
   {
    "duration": 0,
    "start_time": "2022-05-23T08:11:16.428Z"
   },
   {
    "duration": 0,
    "start_time": "2022-05-23T08:11:16.429Z"
   },
   {
    "duration": 667,
    "start_time": "2022-05-23T13:24:35.772Z"
   },
   {
    "duration": 3,
    "start_time": "2022-05-23T13:24:36.441Z"
   },
   {
    "duration": 375,
    "start_time": "2022-05-23T13:24:36.445Z"
   },
   {
    "duration": 10,
    "start_time": "2022-05-23T13:24:36.823Z"
   },
   {
    "duration": 12,
    "start_time": "2022-05-23T13:24:36.835Z"
   },
   {
    "duration": 9,
    "start_time": "2022-05-23T13:24:36.849Z"
   },
   {
    "duration": 10,
    "start_time": "2022-05-23T13:24:36.860Z"
   },
   {
    "duration": 11,
    "start_time": "2022-05-23T13:24:36.871Z"
   },
   {
    "duration": 36,
    "start_time": "2022-05-23T13:24:36.884Z"
   },
   {
    "duration": 65,
    "start_time": "2022-05-23T13:24:36.923Z"
   },
   {
    "duration": 10,
    "start_time": "2022-05-23T13:24:36.989Z"
   },
   {
    "duration": 27,
    "start_time": "2022-05-23T13:24:37.000Z"
   },
   {
    "duration": 54,
    "start_time": "2022-05-23T13:24:37.028Z"
   },
   {
    "duration": 24,
    "start_time": "2022-05-23T13:24:37.084Z"
   },
   {
    "duration": 20,
    "start_time": "2022-05-23T13:24:37.109Z"
   },
   {
    "duration": 49,
    "start_time": "2022-05-23T13:24:37.130Z"
   },
   {
    "duration": 15,
    "start_time": "2022-05-23T13:24:37.181Z"
   },
   {
    "duration": 7,
    "start_time": "2022-05-23T13:24:37.197Z"
   },
   {
    "duration": 18,
    "start_time": "2022-05-23T13:24:37.205Z"
   },
   {
    "duration": 10,
    "start_time": "2022-05-23T13:24:37.225Z"
   },
   {
    "duration": 59,
    "start_time": "2022-05-23T13:24:37.236Z"
   },
   {
    "duration": 8,
    "start_time": "2022-05-23T13:24:37.296Z"
   },
   {
    "duration": 14,
    "start_time": "2022-05-23T13:24:37.305Z"
   },
   {
    "duration": 39,
    "start_time": "2022-05-23T13:24:37.321Z"
   },
   {
    "duration": 7,
    "start_time": "2022-05-23T13:24:37.361Z"
   },
   {
    "duration": 10,
    "start_time": "2022-05-23T13:24:37.370Z"
   },
   {
    "duration": 29,
    "start_time": "2022-05-23T13:24:37.382Z"
   },
   {
    "duration": 7,
    "start_time": "2022-05-23T13:24:37.415Z"
   },
   {
    "duration": 39,
    "start_time": "2022-05-23T13:24:37.424Z"
   },
   {
    "duration": 13,
    "start_time": "2022-05-23T13:24:37.465Z"
   },
   {
    "duration": 7,
    "start_time": "2022-05-23T13:24:37.480Z"
   },
   {
    "duration": 12,
    "start_time": "2022-05-23T13:24:37.489Z"
   },
   {
    "duration": 24,
    "start_time": "2022-05-23T13:24:37.502Z"
   },
   {
    "duration": 8,
    "start_time": "2022-05-23T13:24:37.552Z"
   },
   {
    "duration": 21,
    "start_time": "2022-05-23T13:24:37.562Z"
   },
   {
    "duration": 9,
    "start_time": "2022-05-23T13:24:37.584Z"
   },
   {
    "duration": 6,
    "start_time": "2022-05-23T13:24:37.594Z"
   },
   {
    "duration": 10,
    "start_time": "2022-05-23T13:24:37.601Z"
   },
   {
    "duration": 10,
    "start_time": "2022-05-23T13:24:37.613Z"
   },
   {
    "duration": 4,
    "start_time": "2022-05-23T13:24:37.652Z"
   },
   {
    "duration": 19,
    "start_time": "2022-05-23T13:24:37.657Z"
   },
   {
    "duration": 133,
    "start_time": "2022-05-23T13:24:37.678Z"
   },
   {
    "duration": 0,
    "start_time": "2022-05-23T13:24:37.812Z"
   },
   {
    "duration": 0,
    "start_time": "2022-05-23T13:24:37.813Z"
   },
   {
    "duration": 23,
    "start_time": "2022-05-23T13:24:47.779Z"
   },
   {
    "duration": 12,
    "start_time": "2022-05-23T13:24:53.002Z"
   },
   {
    "duration": 45,
    "start_time": "2022-05-23T13:24:59.281Z"
   },
   {
    "duration": 699,
    "start_time": "2022-05-23T14:06:46.993Z"
   },
   {
    "duration": 3,
    "start_time": "2022-05-23T14:06:47.694Z"
   },
   {
    "duration": 388,
    "start_time": "2022-05-23T14:06:47.699Z"
   },
   {
    "duration": 12,
    "start_time": "2022-05-23T14:06:48.089Z"
   },
   {
    "duration": 9,
    "start_time": "2022-05-23T14:06:48.103Z"
   },
   {
    "duration": 13,
    "start_time": "2022-05-23T14:06:48.114Z"
   },
   {
    "duration": 12,
    "start_time": "2022-05-23T14:06:48.129Z"
   },
   {
    "duration": 25,
    "start_time": "2022-05-23T14:06:48.143Z"
   },
   {
    "duration": 38,
    "start_time": "2022-05-23T14:06:48.171Z"
   },
   {
    "duration": 64,
    "start_time": "2022-05-23T14:06:48.212Z"
   },
   {
    "duration": 6,
    "start_time": "2022-05-23T14:06:48.278Z"
   },
   {
    "duration": 25,
    "start_time": "2022-05-23T14:06:48.285Z"
   },
   {
    "duration": 73,
    "start_time": "2022-05-23T14:06:48.311Z"
   },
   {
    "duration": 20,
    "start_time": "2022-05-23T14:06:48.386Z"
   },
   {
    "duration": 18,
    "start_time": "2022-05-23T14:06:48.409Z"
   },
   {
    "duration": 55,
    "start_time": "2022-05-23T14:06:48.429Z"
   },
   {
    "duration": 17,
    "start_time": "2022-05-23T14:06:48.485Z"
   },
   {
    "duration": 8,
    "start_time": "2022-05-23T14:06:48.504Z"
   },
   {
    "duration": 14,
    "start_time": "2022-05-23T14:06:48.514Z"
   },
   {
    "duration": 26,
    "start_time": "2022-05-23T14:06:48.529Z"
   },
   {
    "duration": 55,
    "start_time": "2022-05-23T14:06:48.558Z"
   },
   {
    "duration": 7,
    "start_time": "2022-05-23T14:06:48.615Z"
   },
   {
    "duration": 10,
    "start_time": "2022-05-23T14:06:48.623Z"
   },
   {
    "duration": 39,
    "start_time": "2022-05-23T14:06:48.634Z"
   },
   {
    "duration": 7,
    "start_time": "2022-05-23T14:06:48.674Z"
   },
   {
    "duration": 14,
    "start_time": "2022-05-23T14:06:48.683Z"
   },
   {
    "duration": 34,
    "start_time": "2022-05-23T14:06:48.699Z"
   },
   {
    "duration": 15,
    "start_time": "2022-05-23T14:06:48.751Z"
   },
   {
    "duration": 15,
    "start_time": "2022-05-23T14:06:48.768Z"
   },
   {
    "duration": 14,
    "start_time": "2022-05-23T14:06:48.784Z"
   },
   {
    "duration": 8,
    "start_time": "2022-05-23T14:06:48.799Z"
   },
   {
    "duration": 15,
    "start_time": "2022-05-23T14:06:48.808Z"
   },
   {
    "duration": 59,
    "start_time": "2022-05-23T14:06:48.825Z"
   },
   {
    "duration": 11,
    "start_time": "2022-05-23T14:06:48.886Z"
   },
   {
    "duration": 22,
    "start_time": "2022-05-23T14:06:48.898Z"
   },
   {
    "duration": 7,
    "start_time": "2022-05-23T14:06:48.922Z"
   },
   {
    "duration": 16,
    "start_time": "2022-05-23T14:06:48.930Z"
   },
   {
    "duration": 11,
    "start_time": "2022-05-23T14:06:48.948Z"
   },
   {
    "duration": 20,
    "start_time": "2022-05-23T14:06:48.961Z"
   },
   {
    "duration": 4,
    "start_time": "2022-05-23T14:06:48.982Z"
   },
   {
    "duration": 28,
    "start_time": "2022-05-23T14:06:48.988Z"
   },
   {
    "duration": 128,
    "start_time": "2022-05-23T14:06:49.018Z"
   },
   {
    "duration": 0,
    "start_time": "2022-05-23T14:06:49.148Z"
   },
   {
    "duration": 0,
    "start_time": "2022-05-23T14:06:49.149Z"
   },
   {
    "duration": 27,
    "start_time": "2022-05-23T14:08:57.424Z"
   },
   {
    "duration": 490,
    "start_time": "2022-05-23T14:09:00.382Z"
   },
   {
    "duration": 635,
    "start_time": "2022-05-23T14:09:06.022Z"
   },
   {
    "duration": 10,
    "start_time": "2022-05-24T13:18:25.944Z"
   },
   {
    "duration": 970,
    "start_time": "2022-05-24T13:18:29.571Z"
   },
   {
    "duration": 3,
    "start_time": "2022-05-24T13:18:30.543Z"
   },
   {
    "duration": 1646,
    "start_time": "2022-05-24T13:18:30.549Z"
   },
   {
    "duration": 14,
    "start_time": "2022-05-24T13:18:32.198Z"
   },
   {
    "duration": 10,
    "start_time": "2022-05-24T13:18:32.214Z"
   },
   {
    "duration": 15,
    "start_time": "2022-05-24T13:18:32.226Z"
   },
   {
    "duration": 16,
    "start_time": "2022-05-24T13:18:32.243Z"
   },
   {
    "duration": 36,
    "start_time": "2022-05-24T13:18:32.262Z"
   },
   {
    "duration": 37,
    "start_time": "2022-05-24T13:18:32.300Z"
   },
   {
    "duration": 74,
    "start_time": "2022-05-24T13:18:32.340Z"
   },
   {
    "duration": 8,
    "start_time": "2022-05-24T13:18:32.416Z"
   },
   {
    "duration": 25,
    "start_time": "2022-05-24T13:18:32.425Z"
   },
   {
    "duration": 60,
    "start_time": "2022-05-24T13:18:32.452Z"
   },
   {
    "duration": 18,
    "start_time": "2022-05-24T13:18:32.514Z"
   },
   {
    "duration": 25,
    "start_time": "2022-05-24T13:18:32.533Z"
   },
   {
    "duration": 51,
    "start_time": "2022-05-24T13:18:32.560Z"
   },
   {
    "duration": 19,
    "start_time": "2022-05-24T13:18:32.613Z"
   },
   {
    "duration": 13,
    "start_time": "2022-05-24T13:18:32.633Z"
   },
   {
    "duration": 17,
    "start_time": "2022-05-24T13:18:32.648Z"
   },
   {
    "duration": 11,
    "start_time": "2022-05-24T13:18:32.667Z"
   },
   {
    "duration": 60,
    "start_time": "2022-05-24T13:18:32.679Z"
   },
   {
    "duration": 7,
    "start_time": "2022-05-24T13:18:32.741Z"
   },
   {
    "duration": 11,
    "start_time": "2022-05-24T13:18:32.750Z"
   },
   {
    "duration": 43,
    "start_time": "2022-05-24T13:18:32.763Z"
   },
   {
    "duration": 7,
    "start_time": "2022-05-24T13:18:32.807Z"
   },
   {
    "duration": 12,
    "start_time": "2022-05-24T13:18:32.816Z"
   },
   {
    "duration": 35,
    "start_time": "2022-05-24T13:18:32.829Z"
   },
   {
    "duration": 31,
    "start_time": "2022-05-24T13:18:32.867Z"
   },
   {
    "duration": 18,
    "start_time": "2022-05-24T13:18:32.900Z"
   },
   {
    "duration": 14,
    "start_time": "2022-05-24T13:18:32.920Z"
   },
   {
    "duration": 8,
    "start_time": "2022-05-24T13:18:32.936Z"
   },
   {
    "duration": 12,
    "start_time": "2022-05-24T13:18:32.945Z"
   },
   {
    "duration": 53,
    "start_time": "2022-05-24T13:18:32.958Z"
   },
   {
    "duration": 9,
    "start_time": "2022-05-24T13:18:33.013Z"
   },
   {
    "duration": 20,
    "start_time": "2022-05-24T13:18:33.024Z"
   },
   {
    "duration": 8,
    "start_time": "2022-05-24T13:18:33.046Z"
   },
   {
    "duration": 5,
    "start_time": "2022-05-24T13:18:33.056Z"
   },
   {
    "duration": 40,
    "start_time": "2022-05-24T13:18:33.063Z"
   },
   {
    "duration": 11,
    "start_time": "2022-05-24T13:18:33.104Z"
   },
   {
    "duration": 4,
    "start_time": "2022-05-24T13:18:33.117Z"
   },
   {
    "duration": 20,
    "start_time": "2022-05-24T13:18:33.122Z"
   },
   {
    "duration": 151,
    "start_time": "2022-05-24T13:18:33.143Z"
   },
   {
    "duration": 0,
    "start_time": "2022-05-24T13:18:33.296Z"
   },
   {
    "duration": 0,
    "start_time": "2022-05-24T13:18:33.296Z"
   },
   {
    "duration": 713,
    "start_time": "2022-05-24T13:22:20.636Z"
   },
   {
    "duration": 4,
    "start_time": "2022-05-24T13:22:21.351Z"
   },
   {
    "duration": 460,
    "start_time": "2022-05-24T13:22:21.357Z"
   },
   {
    "duration": 13,
    "start_time": "2022-05-24T13:22:21.819Z"
   },
   {
    "duration": 10,
    "start_time": "2022-05-24T13:22:21.833Z"
   },
   {
    "duration": 12,
    "start_time": "2022-05-24T13:22:21.845Z"
   },
   {
    "duration": 20,
    "start_time": "2022-05-24T13:22:21.858Z"
   },
   {
    "duration": 27,
    "start_time": "2022-05-24T13:22:21.880Z"
   },
   {
    "duration": 67,
    "start_time": "2022-05-24T13:22:21.910Z"
   },
   {
    "duration": 77,
    "start_time": "2022-05-24T13:22:21.994Z"
   },
   {
    "duration": 26,
    "start_time": "2022-05-24T13:22:22.073Z"
   },
   {
    "duration": 38,
    "start_time": "2022-05-24T13:22:22.101Z"
   },
   {
    "duration": 60,
    "start_time": "2022-05-24T13:22:22.143Z"
   },
   {
    "duration": 24,
    "start_time": "2022-05-24T13:22:22.205Z"
   },
   {
    "duration": 41,
    "start_time": "2022-05-24T13:22:22.232Z"
   },
   {
    "duration": 40,
    "start_time": "2022-05-24T13:22:22.275Z"
   },
   {
    "duration": 30,
    "start_time": "2022-05-24T13:22:22.317Z"
   },
   {
    "duration": 10,
    "start_time": "2022-05-24T13:22:22.349Z"
   },
   {
    "duration": 21,
    "start_time": "2022-05-24T13:22:22.361Z"
   },
   {
    "duration": 16,
    "start_time": "2022-05-24T13:22:22.384Z"
   },
   {
    "duration": 62,
    "start_time": "2022-05-24T13:22:22.403Z"
   },
   {
    "duration": 8,
    "start_time": "2022-05-24T13:22:22.467Z"
   },
   {
    "duration": 22,
    "start_time": "2022-05-24T13:22:22.478Z"
   },
   {
    "duration": 34,
    "start_time": "2022-05-24T13:22:22.502Z"
   },
   {
    "duration": 8,
    "start_time": "2022-05-24T13:22:22.540Z"
   },
   {
    "duration": 21,
    "start_time": "2022-05-24T13:22:22.550Z"
   },
   {
    "duration": 50,
    "start_time": "2022-05-24T13:22:22.573Z"
   },
   {
    "duration": 8,
    "start_time": "2022-05-24T13:22:22.627Z"
   },
   {
    "duration": 18,
    "start_time": "2022-05-24T13:22:22.637Z"
   },
   {
    "duration": 47,
    "start_time": "2022-05-24T13:22:22.657Z"
   },
   {
    "duration": 13,
    "start_time": "2022-05-24T13:22:22.706Z"
   },
   {
    "duration": 20,
    "start_time": "2022-05-24T13:22:22.721Z"
   },
   {
    "duration": 32,
    "start_time": "2022-05-24T13:22:22.743Z"
   },
   {
    "duration": 23,
    "start_time": "2022-05-24T13:22:22.777Z"
   },
   {
    "duration": 105,
    "start_time": "2022-05-24T13:22:22.802Z"
   },
   {
    "duration": 0,
    "start_time": "2022-05-24T13:22:22.909Z"
   },
   {
    "duration": 0,
    "start_time": "2022-05-24T13:22:22.910Z"
   },
   {
    "duration": 0,
    "start_time": "2022-05-24T13:22:22.912Z"
   },
   {
    "duration": 0,
    "start_time": "2022-05-24T13:22:22.913Z"
   },
   {
    "duration": 0,
    "start_time": "2022-05-24T13:22:22.914Z"
   },
   {
    "duration": 0,
    "start_time": "2022-05-24T13:22:22.915Z"
   },
   {
    "duration": 0,
    "start_time": "2022-05-24T13:22:22.917Z"
   },
   {
    "duration": 0,
    "start_time": "2022-05-24T13:22:22.918Z"
   },
   {
    "duration": 0,
    "start_time": "2022-05-24T13:22:22.919Z"
   },
   {
    "duration": 757,
    "start_time": "2022-05-24T13:23:23.170Z"
   },
   {
    "duration": 5,
    "start_time": "2022-05-24T13:23:23.930Z"
   },
   {
    "duration": 445,
    "start_time": "2022-05-24T13:23:23.937Z"
   },
   {
    "duration": 13,
    "start_time": "2022-05-24T13:23:24.384Z"
   },
   {
    "duration": 9,
    "start_time": "2022-05-24T13:23:24.401Z"
   },
   {
    "duration": 13,
    "start_time": "2022-05-24T13:23:24.411Z"
   },
   {
    "duration": 17,
    "start_time": "2022-05-24T13:23:24.426Z"
   },
   {
    "duration": 16,
    "start_time": "2022-05-24T13:23:24.445Z"
   },
   {
    "duration": 81,
    "start_time": "2022-05-24T13:23:24.464Z"
   },
   {
    "duration": 71,
    "start_time": "2022-05-24T13:23:24.547Z"
   },
   {
    "duration": 7,
    "start_time": "2022-05-24T13:23:24.620Z"
   },
   {
    "duration": 28,
    "start_time": "2022-05-24T13:23:24.631Z"
   },
   {
    "duration": 62,
    "start_time": "2022-05-24T13:23:24.662Z"
   },
   {
    "duration": 26,
    "start_time": "2022-05-24T13:23:24.728Z"
   },
   {
    "duration": 41,
    "start_time": "2022-05-24T13:23:24.757Z"
   },
   {
    "duration": 58,
    "start_time": "2022-05-24T13:23:24.803Z"
   },
   {
    "duration": 39,
    "start_time": "2022-05-24T13:23:24.863Z"
   },
   {
    "duration": 9,
    "start_time": "2022-05-24T13:23:24.905Z"
   },
   {
    "duration": 22,
    "start_time": "2022-05-24T13:23:24.916Z"
   },
   {
    "duration": 18,
    "start_time": "2022-05-24T13:23:24.940Z"
   },
   {
    "duration": 46,
    "start_time": "2022-05-24T13:23:24.960Z"
   },
   {
    "duration": 30,
    "start_time": "2022-05-24T13:23:25.009Z"
   },
   {
    "duration": 17,
    "start_time": "2022-05-24T13:23:25.041Z"
   },
   {
    "duration": 73,
    "start_time": "2022-05-24T13:23:25.061Z"
   },
   {
    "duration": 7,
    "start_time": "2022-05-24T13:23:25.136Z"
   },
   {
    "duration": 18,
    "start_time": "2022-05-24T13:23:25.145Z"
   },
   {
    "duration": 38,
    "start_time": "2022-05-24T13:23:25.165Z"
   },
   {
    "duration": 9,
    "start_time": "2022-05-24T13:23:25.205Z"
   },
   {
    "duration": 10,
    "start_time": "2022-05-24T13:23:25.216Z"
   },
   {
    "duration": 33,
    "start_time": "2022-05-24T13:23:25.228Z"
   },
   {
    "duration": 33,
    "start_time": "2022-05-24T13:23:25.263Z"
   },
   {
    "duration": 17,
    "start_time": "2022-05-24T13:23:25.298Z"
   },
   {
    "duration": 16,
    "start_time": "2022-05-24T13:23:25.317Z"
   },
   {
    "duration": 8,
    "start_time": "2022-05-24T13:23:25.334Z"
   },
   {
    "duration": 14,
    "start_time": "2022-05-24T13:23:25.344Z"
   },
   {
    "duration": 23,
    "start_time": "2022-05-24T13:23:25.395Z"
   },
   {
    "duration": 9,
    "start_time": "2022-05-24T13:23:25.421Z"
   },
   {
    "duration": 21,
    "start_time": "2022-05-24T13:23:25.431Z"
   },
   {
    "duration": 13,
    "start_time": "2022-05-24T13:23:25.454Z"
   },
   {
    "duration": 36,
    "start_time": "2022-05-24T13:23:25.469Z"
   },
   {
    "duration": 16,
    "start_time": "2022-05-24T13:23:25.509Z"
   },
   {
    "duration": 23,
    "start_time": "2022-05-24T13:23:25.527Z"
   },
   {
    "duration": 37,
    "start_time": "2022-05-24T13:23:25.552Z"
   },
   {
    "duration": 129,
    "start_time": "2022-05-24T13:23:25.591Z"
   },
   {
    "duration": 0,
    "start_time": "2022-05-24T13:23:25.722Z"
   },
   {
    "duration": 0,
    "start_time": "2022-05-24T13:23:25.725Z"
   },
   {
    "duration": 668,
    "start_time": "2022-05-24T13:24:02.327Z"
   },
   {
    "duration": 2,
    "start_time": "2022-05-24T13:24:02.997Z"
   },
   {
    "duration": 469,
    "start_time": "2022-05-24T13:24:03.001Z"
   },
   {
    "duration": 16,
    "start_time": "2022-05-24T13:24:03.473Z"
   },
   {
    "duration": 33,
    "start_time": "2022-05-24T13:24:03.492Z"
   },
   {
    "duration": 26,
    "start_time": "2022-05-24T13:24:03.528Z"
   },
   {
    "duration": 29,
    "start_time": "2022-05-24T13:24:03.556Z"
   },
   {
    "duration": 23,
    "start_time": "2022-05-24T13:24:03.587Z"
   },
   {
    "duration": 81,
    "start_time": "2022-05-24T13:24:03.612Z"
   },
   {
    "duration": 89,
    "start_time": "2022-05-24T13:24:03.696Z"
   },
   {
    "duration": 21,
    "start_time": "2022-05-24T13:24:03.787Z"
   },
   {
    "duration": 53,
    "start_time": "2022-05-24T13:24:03.810Z"
   },
   {
    "duration": 49,
    "start_time": "2022-05-24T13:24:03.865Z"
   },
   {
    "duration": 27,
    "start_time": "2022-05-24T13:24:03.918Z"
   },
   {
    "duration": 53,
    "start_time": "2022-05-24T13:24:03.947Z"
   },
   {
    "duration": 58,
    "start_time": "2022-05-24T13:24:04.003Z"
   },
   {
    "duration": 51,
    "start_time": "2022-05-24T13:24:04.064Z"
   },
   {
    "duration": 34,
    "start_time": "2022-05-24T13:24:04.118Z"
   },
   {
    "duration": 18,
    "start_time": "2022-05-24T13:24:04.154Z"
   },
   {
    "duration": 10,
    "start_time": "2022-05-24T13:24:04.174Z"
   },
   {
    "duration": 10,
    "start_time": "2022-05-24T13:24:04.185Z"
   },
   {
    "duration": 15,
    "start_time": "2022-05-24T13:24:04.198Z"
   },
   {
    "duration": 13,
    "start_time": "2022-05-24T13:24:04.215Z"
   },
   {
    "duration": 65,
    "start_time": "2022-05-24T13:24:04.230Z"
   },
   {
    "duration": 9,
    "start_time": "2022-05-24T13:24:04.296Z"
   },
   {
    "duration": 18,
    "start_time": "2022-05-24T13:24:04.307Z"
   },
   {
    "duration": 38,
    "start_time": "2022-05-24T13:24:04.327Z"
   },
   {
    "duration": 10,
    "start_time": "2022-05-24T13:24:04.368Z"
   },
   {
    "duration": 12,
    "start_time": "2022-05-24T13:24:04.396Z"
   },
   {
    "duration": 30,
    "start_time": "2022-05-24T13:24:04.410Z"
   },
   {
    "duration": 10,
    "start_time": "2022-05-24T13:24:04.443Z"
   },
   {
    "duration": 18,
    "start_time": "2022-05-24T13:24:04.455Z"
   },
   {
    "duration": 15,
    "start_time": "2022-05-24T13:24:04.496Z"
   },
   {
    "duration": 21,
    "start_time": "2022-05-24T13:24:04.513Z"
   },
   {
    "duration": 17,
    "start_time": "2022-05-24T13:24:04.538Z"
   },
   {
    "duration": 39,
    "start_time": "2022-05-24T13:24:04.557Z"
   },
   {
    "duration": 8,
    "start_time": "2022-05-24T13:24:04.598Z"
   },
   {
    "duration": 11,
    "start_time": "2022-05-24T13:24:04.608Z"
   },
   {
    "duration": 6,
    "start_time": "2022-05-24T13:24:04.621Z"
   },
   {
    "duration": 12,
    "start_time": "2022-05-24T13:24:04.629Z"
   },
   {
    "duration": 10,
    "start_time": "2022-05-24T13:24:04.644Z"
   },
   {
    "duration": 40,
    "start_time": "2022-05-24T13:24:04.655Z"
   },
   {
    "duration": 19,
    "start_time": "2022-05-24T13:24:04.696Z"
   },
   {
    "duration": 146,
    "start_time": "2022-05-24T13:24:04.717Z"
   },
   {
    "duration": 0,
    "start_time": "2022-05-24T13:24:04.866Z"
   },
   {
    "duration": 0,
    "start_time": "2022-05-24T13:24:04.867Z"
   },
   {
    "duration": 760,
    "start_time": "2022-05-24T13:33:12.887Z"
   },
   {
    "duration": 3,
    "start_time": "2022-05-24T13:33:13.649Z"
   },
   {
    "duration": 443,
    "start_time": "2022-05-24T13:33:13.654Z"
   },
   {
    "duration": 16,
    "start_time": "2022-05-24T13:33:14.100Z"
   },
   {
    "duration": 10,
    "start_time": "2022-05-24T13:33:14.118Z"
   },
   {
    "duration": 12,
    "start_time": "2022-05-24T13:33:14.129Z"
   },
   {
    "duration": 16,
    "start_time": "2022-05-24T13:33:14.143Z"
   },
   {
    "duration": 35,
    "start_time": "2022-05-24T13:33:14.161Z"
   },
   {
    "duration": 47,
    "start_time": "2022-05-24T13:33:14.198Z"
   },
   {
    "duration": 24,
    "start_time": "2022-05-24T13:33:14.249Z"
   },
   {
    "duration": 20,
    "start_time": "2022-05-24T13:33:14.275Z"
   },
   {
    "duration": 9,
    "start_time": "2022-05-24T13:33:14.297Z"
   },
   {
    "duration": 80,
    "start_time": "2022-05-24T13:33:14.307Z"
   },
   {
    "duration": 43,
    "start_time": "2022-05-24T13:33:14.389Z"
   },
   {
    "duration": 21,
    "start_time": "2022-05-24T13:33:14.435Z"
   },
   {
    "duration": 50,
    "start_time": "2022-05-24T13:33:14.457Z"
   },
   {
    "duration": 49,
    "start_time": "2022-05-24T13:33:14.509Z"
   },
   {
    "duration": 35,
    "start_time": "2022-05-24T13:33:14.560Z"
   },
   {
    "duration": 25,
    "start_time": "2022-05-24T13:33:14.597Z"
   },
   {
    "duration": 40,
    "start_time": "2022-05-24T13:33:14.624Z"
   },
   {
    "duration": 32,
    "start_time": "2022-05-24T13:33:14.666Z"
   },
   {
    "duration": 19,
    "start_time": "2022-05-24T13:33:14.699Z"
   },
   {
    "duration": 28,
    "start_time": "2022-05-24T13:33:14.719Z"
   },
   {
    "duration": 20,
    "start_time": "2022-05-24T13:33:14.749Z"
   },
   {
    "duration": 27,
    "start_time": "2022-05-24T13:33:14.771Z"
   },
   {
    "duration": 30,
    "start_time": "2022-05-24T13:33:14.799Z"
   },
   {
    "duration": 31,
    "start_time": "2022-05-24T13:33:14.832Z"
   },
   {
    "duration": 54,
    "start_time": "2022-05-24T13:33:14.868Z"
   },
   {
    "duration": 9,
    "start_time": "2022-05-24T13:33:14.924Z"
   },
   {
    "duration": 21,
    "start_time": "2022-05-24T13:33:14.934Z"
   },
   {
    "duration": 35,
    "start_time": "2022-05-24T13:33:14.956Z"
   },
   {
    "duration": 8,
    "start_time": "2022-05-24T13:33:14.995Z"
   },
   {
    "duration": 33,
    "start_time": "2022-05-24T13:33:15.005Z"
   },
   {
    "duration": 33,
    "start_time": "2022-05-24T13:33:15.039Z"
   },
   {
    "duration": 7,
    "start_time": "2022-05-24T13:33:15.074Z"
   },
   {
    "duration": 31,
    "start_time": "2022-05-24T13:33:15.082Z"
   },
   {
    "duration": 23,
    "start_time": "2022-05-24T13:33:15.115Z"
   },
   {
    "duration": 8,
    "start_time": "2022-05-24T13:33:15.140Z"
   },
   {
    "duration": 30,
    "start_time": "2022-05-24T13:33:15.150Z"
   },
   {
    "duration": 43,
    "start_time": "2022-05-24T13:33:15.183Z"
   },
   {
    "duration": 11,
    "start_time": "2022-05-24T13:33:15.228Z"
   },
   {
    "duration": 36,
    "start_time": "2022-05-24T13:33:15.241Z"
   },
   {
    "duration": 8,
    "start_time": "2022-05-24T13:33:15.279Z"
   },
   {
    "duration": 21,
    "start_time": "2022-05-24T13:33:15.289Z"
   },
   {
    "duration": 13,
    "start_time": "2022-05-24T13:33:15.312Z"
   },
   {
    "duration": 18,
    "start_time": "2022-05-24T13:33:15.327Z"
   },
   {
    "duration": 38,
    "start_time": "2022-05-24T13:33:15.347Z"
   },
   {
    "duration": 176,
    "start_time": "2022-05-24T13:33:15.387Z"
   },
   {
    "duration": 0,
    "start_time": "2022-05-24T13:33:15.565Z"
   },
   {
    "duration": 0,
    "start_time": "2022-05-24T13:33:15.567Z"
   },
   {
    "duration": 1122,
    "start_time": "2022-05-24T13:39:24.315Z"
   },
   {
    "duration": 3,
    "start_time": "2022-05-24T13:39:25.439Z"
   },
   {
    "duration": 461,
    "start_time": "2022-05-24T13:39:25.444Z"
   },
   {
    "duration": 12,
    "start_time": "2022-05-24T13:39:25.907Z"
   },
   {
    "duration": 8,
    "start_time": "2022-05-24T13:39:25.922Z"
   },
   {
    "duration": 14,
    "start_time": "2022-05-24T13:39:25.931Z"
   },
   {
    "duration": 20,
    "start_time": "2022-05-24T13:39:25.946Z"
   },
   {
    "duration": 13,
    "start_time": "2022-05-24T13:39:25.968Z"
   },
   {
    "duration": 51,
    "start_time": "2022-05-24T13:39:25.983Z"
   },
   {
    "duration": 21,
    "start_time": "2022-05-24T13:39:26.035Z"
   },
   {
    "duration": 5,
    "start_time": "2022-05-24T13:39:26.058Z"
   },
   {
    "duration": 9,
    "start_time": "2022-05-24T13:39:26.064Z"
   },
   {
    "duration": 76,
    "start_time": "2022-05-24T13:39:26.075Z"
   },
   {
    "duration": 57,
    "start_time": "2022-05-24T13:39:26.154Z"
   },
   {
    "duration": 22,
    "start_time": "2022-05-24T13:39:26.213Z"
   },
   {
    "duration": 21,
    "start_time": "2022-05-24T13:39:26.237Z"
   },
   {
    "duration": 56,
    "start_time": "2022-05-24T13:39:26.260Z"
   },
   {
    "duration": 18,
    "start_time": "2022-05-24T13:39:26.318Z"
   },
   {
    "duration": 19,
    "start_time": "2022-05-24T13:39:26.338Z"
   },
   {
    "duration": 46,
    "start_time": "2022-05-24T13:39:26.358Z"
   },
   {
    "duration": 38,
    "start_time": "2022-05-24T13:39:26.406Z"
   },
   {
    "duration": 15,
    "start_time": "2022-05-24T13:39:26.446Z"
   },
   {
    "duration": 17,
    "start_time": "2022-05-24T13:39:26.462Z"
   },
   {
    "duration": 29,
    "start_time": "2022-05-24T13:39:26.481Z"
   },
   {
    "duration": 14,
    "start_time": "2022-05-24T13:39:26.511Z"
   },
   {
    "duration": 17,
    "start_time": "2022-05-24T13:39:26.526Z"
   },
   {
    "duration": 8,
    "start_time": "2022-05-24T13:39:26.545Z"
   },
   {
    "duration": 13,
    "start_time": "2022-05-24T13:39:26.555Z"
   },
   {
    "duration": 12,
    "start_time": "2022-05-24T13:39:26.569Z"
   },
   {
    "duration": 45,
    "start_time": "2022-05-24T13:39:26.583Z"
   },
   {
    "duration": 16,
    "start_time": "2022-05-24T13:39:26.630Z"
   },
   {
    "duration": 18,
    "start_time": "2022-05-24T13:39:26.647Z"
   },
   {
    "duration": 37,
    "start_time": "2022-05-24T13:39:26.667Z"
   },
   {
    "duration": 7,
    "start_time": "2022-05-24T13:39:26.707Z"
   },
   {
    "duration": 16,
    "start_time": "2022-05-24T13:39:26.716Z"
   },
   {
    "duration": 28,
    "start_time": "2022-05-24T13:39:26.734Z"
   },
   {
    "duration": 8,
    "start_time": "2022-05-24T13:39:26.764Z"
   },
   {
    "duration": 36,
    "start_time": "2022-05-24T13:39:26.773Z"
   },
   {
    "duration": 16,
    "start_time": "2022-05-24T13:39:26.811Z"
   },
   {
    "duration": 9,
    "start_time": "2022-05-24T13:39:26.829Z"
   },
   {
    "duration": 13,
    "start_time": "2022-05-24T13:39:26.843Z"
   },
   {
    "duration": 50,
    "start_time": "2022-05-24T13:39:26.858Z"
   },
   {
    "duration": 9,
    "start_time": "2022-05-24T13:39:26.910Z"
   },
   {
    "duration": 13,
    "start_time": "2022-05-24T13:39:26.921Z"
   },
   {
    "duration": 19,
    "start_time": "2022-05-24T13:39:26.935Z"
   },
   {
    "duration": 21,
    "start_time": "2022-05-24T13:39:26.956Z"
   },
   {
    "duration": 40,
    "start_time": "2022-05-24T13:39:26.979Z"
   },
   {
    "duration": 4,
    "start_time": "2022-05-24T13:39:27.021Z"
   },
   {
    "duration": 16,
    "start_time": "2022-05-24T13:39:27.027Z"
   },
   {
    "duration": 173,
    "start_time": "2022-05-24T13:39:27.045Z"
   },
   {
    "duration": 1104,
    "start_time": "2022-05-24T13:40:00.906Z"
   },
   {
    "duration": 3,
    "start_time": "2022-05-24T13:40:02.013Z"
   },
   {
    "duration": 446,
    "start_time": "2022-05-24T13:40:02.018Z"
   },
   {
    "duration": 11,
    "start_time": "2022-05-24T13:40:02.466Z"
   },
   {
    "duration": 33,
    "start_time": "2022-05-24T13:40:02.479Z"
   },
   {
    "duration": 25,
    "start_time": "2022-05-24T13:40:02.513Z"
   },
   {
    "duration": 31,
    "start_time": "2022-05-24T13:40:02.540Z"
   },
   {
    "duration": 21,
    "start_time": "2022-05-24T13:40:02.572Z"
   },
   {
    "duration": 64,
    "start_time": "2022-05-24T13:40:02.600Z"
   },
   {
    "duration": 46,
    "start_time": "2022-05-24T13:40:02.665Z"
   },
   {
    "duration": 22,
    "start_time": "2022-05-24T13:40:02.713Z"
   },
   {
    "duration": 27,
    "start_time": "2022-05-24T13:40:02.737Z"
   },
   {
    "duration": 98,
    "start_time": "2022-05-24T13:40:02.766Z"
   },
   {
    "duration": 42,
    "start_time": "2022-05-24T13:40:02.867Z"
   },
   {
    "duration": 18,
    "start_time": "2022-05-24T13:40:02.910Z"
   },
   {
    "duration": 39,
    "start_time": "2022-05-24T13:40:02.929Z"
   },
   {
    "duration": 52,
    "start_time": "2022-05-24T13:40:02.969Z"
   },
   {
    "duration": 30,
    "start_time": "2022-05-24T13:40:03.022Z"
   },
   {
    "duration": 23,
    "start_time": "2022-05-24T13:40:03.054Z"
   },
   {
    "duration": 30,
    "start_time": "2022-05-24T13:40:03.078Z"
   },
   {
    "duration": 42,
    "start_time": "2022-05-24T13:40:03.111Z"
   },
   {
    "duration": 31,
    "start_time": "2022-05-24T13:40:03.155Z"
   },
   {
    "duration": 41,
    "start_time": "2022-05-24T13:40:03.187Z"
   },
   {
    "duration": 16,
    "start_time": "2022-05-24T13:40:03.230Z"
   },
   {
    "duration": 22,
    "start_time": "2022-05-24T13:40:03.248Z"
   },
   {
    "duration": 41,
    "start_time": "2022-05-24T13:40:03.272Z"
   },
   {
    "duration": 17,
    "start_time": "2022-05-24T13:40:03.315Z"
   },
   {
    "duration": 37,
    "start_time": "2022-05-24T13:40:03.334Z"
   },
   {
    "duration": 20,
    "start_time": "2022-05-24T13:40:03.372Z"
   },
   {
    "duration": 56,
    "start_time": "2022-05-24T13:40:03.394Z"
   },
   {
    "duration": 6,
    "start_time": "2022-05-24T13:40:03.452Z"
   },
   {
    "duration": 17,
    "start_time": "2022-05-24T13:40:03.460Z"
   },
   {
    "duration": 53,
    "start_time": "2022-05-24T13:40:03.478Z"
   },
   {
    "duration": 7,
    "start_time": "2022-05-24T13:40:03.532Z"
   },
   {
    "duration": 22,
    "start_time": "2022-05-24T13:40:03.540Z"
   },
   {
    "duration": 44,
    "start_time": "2022-05-24T13:40:03.564Z"
   },
   {
    "duration": 8,
    "start_time": "2022-05-24T13:40:03.613Z"
   },
   {
    "duration": 34,
    "start_time": "2022-05-24T13:40:03.623Z"
   },
   {
    "duration": 16,
    "start_time": "2022-05-24T13:40:03.659Z"
   },
   {
    "duration": 27,
    "start_time": "2022-05-24T13:40:03.676Z"
   },
   {
    "duration": 25,
    "start_time": "2022-05-24T13:40:03.707Z"
   },
   {
    "duration": 26,
    "start_time": "2022-05-24T13:40:03.734Z"
   },
   {
    "duration": 15,
    "start_time": "2022-05-24T13:40:03.762Z"
   },
   {
    "duration": 23,
    "start_time": "2022-05-24T13:40:03.779Z"
   },
   {
    "duration": 18,
    "start_time": "2022-05-24T13:40:03.804Z"
   },
   {
    "duration": 10,
    "start_time": "2022-05-24T13:40:03.824Z"
   },
   {
    "duration": 14,
    "start_time": "2022-05-24T13:40:03.836Z"
   },
   {
    "duration": 11,
    "start_time": "2022-05-24T13:40:03.852Z"
   },
   {
    "duration": 46,
    "start_time": "2022-05-24T13:40:03.864Z"
   },
   {
    "duration": 155,
    "start_time": "2022-05-24T13:40:03.912Z"
   },
   {
    "duration": 3,
    "start_time": "2022-05-24T13:41:32.948Z"
   },
   {
    "duration": 629,
    "start_time": "2022-05-24T13:41:34.425Z"
   },
   {
    "duration": 56,
    "start_time": "2022-05-25T07:47:55.313Z"
   },
   {
    "duration": 1116,
    "start_time": "2022-05-25T07:48:01.310Z"
   },
   {
    "duration": 3,
    "start_time": "2022-05-25T07:48:02.428Z"
   },
   {
    "duration": 1013,
    "start_time": "2022-05-25T07:48:02.432Z"
   },
   {
    "duration": 11,
    "start_time": "2022-05-25T07:48:03.448Z"
   },
   {
    "duration": 15,
    "start_time": "2022-05-25T07:48:03.460Z"
   },
   {
    "duration": 12,
    "start_time": "2022-05-25T07:48:03.476Z"
   },
   {
    "duration": 12,
    "start_time": "2022-05-25T07:48:03.490Z"
   },
   {
    "duration": 12,
    "start_time": "2022-05-25T07:48:03.503Z"
   },
   {
    "duration": 36,
    "start_time": "2022-05-25T07:48:03.516Z"
   },
   {
    "duration": 21,
    "start_time": "2022-05-25T07:48:03.555Z"
   },
   {
    "duration": 4,
    "start_time": "2022-05-25T07:48:03.578Z"
   },
   {
    "duration": 6,
    "start_time": "2022-05-25T07:48:03.584Z"
   },
   {
    "duration": 70,
    "start_time": "2022-05-25T07:48:03.592Z"
   },
   {
    "duration": 34,
    "start_time": "2022-05-25T07:48:03.664Z"
   },
   {
    "duration": 35,
    "start_time": "2022-05-25T07:48:03.700Z"
   },
   {
    "duration": 50,
    "start_time": "2022-05-25T07:48:03.736Z"
   },
   {
    "duration": 60,
    "start_time": "2022-05-25T07:48:03.787Z"
   },
   {
    "duration": 21,
    "start_time": "2022-05-25T07:48:03.849Z"
   },
   {
    "duration": 28,
    "start_time": "2022-05-25T07:48:03.872Z"
   },
   {
    "duration": 17,
    "start_time": "2022-05-25T07:48:03.902Z"
   },
   {
    "duration": 38,
    "start_time": "2022-05-25T07:48:03.921Z"
   },
   {
    "duration": 28,
    "start_time": "2022-05-25T07:48:03.960Z"
   },
   {
    "duration": 21,
    "start_time": "2022-05-25T07:48:03.990Z"
   },
   {
    "duration": 5,
    "start_time": "2022-05-25T07:48:04.013Z"
   },
   {
    "duration": 18,
    "start_time": "2022-05-25T07:48:04.020Z"
   },
   {
    "duration": 10,
    "start_time": "2022-05-25T07:48:04.039Z"
   },
   {
    "duration": 13,
    "start_time": "2022-05-25T07:48:04.050Z"
   },
   {
    "duration": 15,
    "start_time": "2022-05-25T07:48:04.066Z"
   },
   {
    "duration": 12,
    "start_time": "2022-05-25T07:48:04.083Z"
   },
   {
    "duration": 67,
    "start_time": "2022-05-25T07:48:04.097Z"
   },
   {
    "duration": 8,
    "start_time": "2022-05-25T07:48:04.165Z"
   },
   {
    "duration": 22,
    "start_time": "2022-05-25T07:48:04.174Z"
   },
   {
    "duration": 41,
    "start_time": "2022-05-25T07:48:04.198Z"
   },
   {
    "duration": 7,
    "start_time": "2022-05-25T07:48:04.240Z"
   },
   {
    "duration": 25,
    "start_time": "2022-05-25T07:48:04.249Z"
   },
   {
    "duration": 58,
    "start_time": "2022-05-25T07:48:04.276Z"
   },
   {
    "duration": 16,
    "start_time": "2022-05-25T07:48:04.335Z"
   },
   {
    "duration": 20,
    "start_time": "2022-05-25T07:48:04.353Z"
   },
   {
    "duration": 23,
    "start_time": "2022-05-25T07:48:04.374Z"
   },
   {
    "duration": 28,
    "start_time": "2022-05-25T07:48:04.398Z"
   },
   {
    "duration": 34,
    "start_time": "2022-05-25T07:48:04.428Z"
   },
   {
    "duration": 21,
    "start_time": "2022-05-25T07:48:04.463Z"
   },
   {
    "duration": 12,
    "start_time": "2022-05-25T07:48:04.486Z"
   },
   {
    "duration": 6,
    "start_time": "2022-05-25T07:48:04.499Z"
   },
   {
    "duration": 10,
    "start_time": "2022-05-25T07:48:04.507Z"
   },
   {
    "duration": 5,
    "start_time": "2022-05-25T07:48:04.518Z"
   },
   {
    "duration": 8,
    "start_time": "2022-05-25T07:48:04.524Z"
   },
   {
    "duration": 8,
    "start_time": "2022-05-25T07:48:04.534Z"
   },
   {
    "duration": 4,
    "start_time": "2022-05-25T07:48:04.544Z"
   },
   {
    "duration": 13,
    "start_time": "2022-05-25T07:48:04.549Z"
   },
   {
    "duration": 163,
    "start_time": "2022-05-25T07:48:04.564Z"
   },
   {
    "duration": 1145,
    "start_time": "2022-05-25T07:49:19.808Z"
   },
   {
    "duration": 3,
    "start_time": "2022-05-25T07:49:20.955Z"
   },
   {
    "duration": 426,
    "start_time": "2022-05-25T07:49:20.959Z"
   },
   {
    "duration": 12,
    "start_time": "2022-05-25T07:49:21.387Z"
   },
   {
    "duration": 10,
    "start_time": "2022-05-25T07:49:21.401Z"
   },
   {
    "duration": 15,
    "start_time": "2022-05-25T07:49:21.412Z"
   },
   {
    "duration": 11,
    "start_time": "2022-05-25T07:49:21.428Z"
   },
   {
    "duration": 13,
    "start_time": "2022-05-25T07:49:21.441Z"
   },
   {
    "duration": 36,
    "start_time": "2022-05-25T07:49:21.455Z"
   },
   {
    "duration": 36,
    "start_time": "2022-05-25T07:49:21.492Z"
   },
   {
    "duration": 5,
    "start_time": "2022-05-25T07:49:21.530Z"
   },
   {
    "duration": 6,
    "start_time": "2022-05-25T07:49:21.537Z"
   },
   {
    "duration": 80,
    "start_time": "2022-05-25T07:49:21.544Z"
   },
   {
    "duration": 37,
    "start_time": "2022-05-25T07:49:21.627Z"
   },
   {
    "duration": 18,
    "start_time": "2022-05-25T07:49:21.666Z"
   },
   {
    "duration": 42,
    "start_time": "2022-05-25T07:49:21.686Z"
   },
   {
    "duration": 46,
    "start_time": "2022-05-25T07:49:21.729Z"
   },
   {
    "duration": 19,
    "start_time": "2022-05-25T07:49:21.777Z"
   },
   {
    "duration": 30,
    "start_time": "2022-05-25T07:49:21.797Z"
   },
   {
    "duration": 17,
    "start_time": "2022-05-25T07:49:21.829Z"
   },
   {
    "duration": 38,
    "start_time": "2022-05-25T07:49:21.848Z"
   },
   {
    "duration": 14,
    "start_time": "2022-05-25T07:49:21.888Z"
   },
   {
    "duration": 16,
    "start_time": "2022-05-25T07:49:21.923Z"
   },
   {
    "duration": 6,
    "start_time": "2022-05-25T07:49:21.940Z"
   },
   {
    "duration": 15,
    "start_time": "2022-05-25T07:49:21.947Z"
   },
   {
    "duration": 10,
    "start_time": "2022-05-25T07:49:21.964Z"
   },
   {
    "duration": 7,
    "start_time": "2022-05-25T07:49:21.975Z"
   },
   {
    "duration": 11,
    "start_time": "2022-05-25T07:49:21.984Z"
   },
   {
    "duration": 9,
    "start_time": "2022-05-25T07:49:22.022Z"
   },
   {
    "duration": 36,
    "start_time": "2022-05-25T07:49:22.032Z"
   },
   {
    "duration": 8,
    "start_time": "2022-05-25T07:49:22.070Z"
   },
   {
    "duration": 9,
    "start_time": "2022-05-25T07:49:22.080Z"
   },
   {
    "duration": 49,
    "start_time": "2022-05-25T07:49:22.091Z"
   },
   {
    "duration": 7,
    "start_time": "2022-05-25T07:49:22.142Z"
   },
   {
    "duration": 11,
    "start_time": "2022-05-25T07:49:22.150Z"
   },
   {
    "duration": 25,
    "start_time": "2022-05-25T07:49:22.163Z"
   },
   {
    "duration": 7,
    "start_time": "2022-05-25T07:49:22.190Z"
   },
   {
    "duration": 35,
    "start_time": "2022-05-25T07:49:22.198Z"
   },
   {
    "duration": 13,
    "start_time": "2022-05-25T07:49:22.235Z"
   },
   {
    "duration": 11,
    "start_time": "2022-05-25T07:49:22.250Z"
   },
   {
    "duration": 7,
    "start_time": "2022-05-25T07:49:22.264Z"
   },
   {
    "duration": 12,
    "start_time": "2022-05-25T07:49:22.273Z"
   },
   {
    "duration": 44,
    "start_time": "2022-05-25T07:49:22.286Z"
   },
   {
    "duration": 11,
    "start_time": "2022-05-25T07:49:22.332Z"
   },
   {
    "duration": 6,
    "start_time": "2022-05-25T07:49:22.345Z"
   },
   {
    "duration": 9,
    "start_time": "2022-05-25T07:49:22.352Z"
   },
   {
    "duration": 4,
    "start_time": "2022-05-25T07:49:22.363Z"
   },
   {
    "duration": 10,
    "start_time": "2022-05-25T07:49:22.368Z"
   },
   {
    "duration": 13,
    "start_time": "2022-05-25T07:49:22.379Z"
   },
   {
    "duration": 31,
    "start_time": "2022-05-25T07:49:22.393Z"
   },
   {
    "duration": 15,
    "start_time": "2022-05-25T07:49:22.426Z"
   },
   {
    "duration": 167,
    "start_time": "2022-05-25T07:49:22.442Z"
   },
   {
    "duration": 101,
    "start_time": "2022-05-26T03:41:58.439Z"
   },
   {
    "duration": 1295,
    "start_time": "2022-05-26T03:42:03.105Z"
   },
   {
    "duration": 3,
    "start_time": "2022-05-26T03:42:04.402Z"
   },
   {
    "duration": 1500,
    "start_time": "2022-05-26T03:42:04.406Z"
   },
   {
    "duration": 12,
    "start_time": "2022-05-26T03:42:05.908Z"
   },
   {
    "duration": 12,
    "start_time": "2022-05-26T03:42:05.922Z"
   },
   {
    "duration": 13,
    "start_time": "2022-05-26T03:42:05.936Z"
   },
   {
    "duration": 39,
    "start_time": "2022-05-26T03:42:05.951Z"
   },
   {
    "duration": 37,
    "start_time": "2022-05-26T03:42:05.992Z"
   },
   {
    "duration": 36,
    "start_time": "2022-05-26T03:42:06.030Z"
   },
   {
    "duration": 0,
    "start_time": "2022-05-26T03:42:06.069Z"
   },
   {
    "duration": 0,
    "start_time": "2022-05-26T03:42:06.070Z"
   },
   {
    "duration": 0,
    "start_time": "2022-05-26T03:42:06.071Z"
   },
   {
    "duration": 0,
    "start_time": "2022-05-26T03:42:06.072Z"
   },
   {
    "duration": 0,
    "start_time": "2022-05-26T03:42:06.073Z"
   },
   {
    "duration": 0,
    "start_time": "2022-05-26T03:42:06.074Z"
   },
   {
    "duration": 0,
    "start_time": "2022-05-26T03:42:06.075Z"
   },
   {
    "duration": 0,
    "start_time": "2022-05-26T03:42:06.076Z"
   },
   {
    "duration": 0,
    "start_time": "2022-05-26T03:42:06.077Z"
   },
   {
    "duration": 0,
    "start_time": "2022-05-26T03:42:06.078Z"
   },
   {
    "duration": 0,
    "start_time": "2022-05-26T03:42:06.079Z"
   },
   {
    "duration": 0,
    "start_time": "2022-05-26T03:42:06.080Z"
   },
   {
    "duration": 0,
    "start_time": "2022-05-26T03:42:06.080Z"
   },
   {
    "duration": 0,
    "start_time": "2022-05-26T03:42:06.081Z"
   },
   {
    "duration": 0,
    "start_time": "2022-05-26T03:42:06.082Z"
   },
   {
    "duration": 0,
    "start_time": "2022-05-26T03:42:06.082Z"
   },
   {
    "duration": 0,
    "start_time": "2022-05-26T03:42:06.085Z"
   },
   {
    "duration": 0,
    "start_time": "2022-05-26T03:42:06.087Z"
   },
   {
    "duration": 0,
    "start_time": "2022-05-26T03:42:06.088Z"
   },
   {
    "duration": 0,
    "start_time": "2022-05-26T03:42:06.089Z"
   },
   {
    "duration": 0,
    "start_time": "2022-05-26T03:42:06.090Z"
   },
   {
    "duration": 0,
    "start_time": "2022-05-26T03:42:06.091Z"
   },
   {
    "duration": 0,
    "start_time": "2022-05-26T03:42:06.093Z"
   },
   {
    "duration": 1,
    "start_time": "2022-05-26T03:42:06.093Z"
   },
   {
    "duration": 0,
    "start_time": "2022-05-26T03:42:06.094Z"
   },
   {
    "duration": 0,
    "start_time": "2022-05-26T03:42:06.096Z"
   },
   {
    "duration": 0,
    "start_time": "2022-05-26T03:42:06.097Z"
   },
   {
    "duration": 0,
    "start_time": "2022-05-26T03:42:06.099Z"
   },
   {
    "duration": 0,
    "start_time": "2022-05-26T03:42:06.099Z"
   },
   {
    "duration": 0,
    "start_time": "2022-05-26T03:42:06.101Z"
   },
   {
    "duration": 0,
    "start_time": "2022-05-26T03:42:06.102Z"
   },
   {
    "duration": 0,
    "start_time": "2022-05-26T03:42:06.103Z"
   },
   {
    "duration": 0,
    "start_time": "2022-05-26T03:42:06.104Z"
   },
   {
    "duration": 0,
    "start_time": "2022-05-26T03:42:06.105Z"
   },
   {
    "duration": 0,
    "start_time": "2022-05-26T03:42:06.106Z"
   },
   {
    "duration": 0,
    "start_time": "2022-05-26T03:42:06.108Z"
   },
   {
    "duration": 0,
    "start_time": "2022-05-26T03:42:06.109Z"
   },
   {
    "duration": 0,
    "start_time": "2022-05-26T03:42:06.110Z"
   },
   {
    "duration": 0,
    "start_time": "2022-05-26T03:42:06.153Z"
   },
   {
    "duration": 0,
    "start_time": "2022-05-26T03:42:06.154Z"
   },
   {
    "duration": 0,
    "start_time": "2022-05-26T03:42:06.161Z"
   },
   {
    "duration": 0,
    "start_time": "2022-05-26T03:42:06.164Z"
   },
   {
    "duration": 17,
    "start_time": "2022-05-26T03:42:21.716Z"
   },
   {
    "duration": 51,
    "start_time": "2022-05-26T03:49:14.985Z"
   },
   {
    "duration": 3,
    "start_time": "2022-05-26T03:56:38.345Z"
   },
   {
    "duration": 7,
    "start_time": "2022-05-26T03:56:41.772Z"
   },
   {
    "duration": 7,
    "start_time": "2022-05-26T03:56:50.670Z"
   },
   {
    "duration": 3,
    "start_time": "2022-05-26T03:57:33.984Z"
   },
   {
    "duration": 3,
    "start_time": "2022-05-26T03:58:02.520Z"
   },
   {
    "duration": 2,
    "start_time": "2022-05-26T03:58:55.831Z"
   },
   {
    "duration": 1047,
    "start_time": "2022-05-26T03:59:17.884Z"
   },
   {
    "duration": 2,
    "start_time": "2022-05-26T03:59:18.933Z"
   },
   {
    "duration": 409,
    "start_time": "2022-05-26T03:59:18.937Z"
   },
   {
    "duration": 11,
    "start_time": "2022-05-26T03:59:19.348Z"
   },
   {
    "duration": 28,
    "start_time": "2022-05-26T03:59:19.361Z"
   },
   {
    "duration": 10,
    "start_time": "2022-05-26T03:59:19.391Z"
   },
   {
    "duration": 15,
    "start_time": "2022-05-26T03:59:19.402Z"
   },
   {
    "duration": 18,
    "start_time": "2022-05-26T03:59:19.419Z"
   },
   {
    "duration": 4,
    "start_time": "2022-05-26T03:59:19.439Z"
   },
   {
    "duration": 43,
    "start_time": "2022-05-26T03:59:19.446Z"
   },
   {
    "duration": 30,
    "start_time": "2022-05-26T03:59:19.490Z"
   },
   {
    "duration": 5,
    "start_time": "2022-05-26T03:59:19.522Z"
   },
   {
    "duration": 6,
    "start_time": "2022-05-26T03:59:19.529Z"
   },
   {
    "duration": 74,
    "start_time": "2022-05-26T03:59:19.552Z"
   },
   {
    "duration": 53,
    "start_time": "2022-05-26T03:59:19.628Z"
   },
   {
    "duration": 17,
    "start_time": "2022-05-26T03:59:19.683Z"
   },
   {
    "duration": 22,
    "start_time": "2022-05-26T03:59:19.701Z"
   },
   {
    "duration": 71,
    "start_time": "2022-05-26T03:59:19.725Z"
   },
   {
    "duration": 17,
    "start_time": "2022-05-26T03:59:19.797Z"
   },
   {
    "duration": 18,
    "start_time": "2022-05-26T03:59:19.816Z"
   },
   {
    "duration": 30,
    "start_time": "2022-05-26T03:59:19.852Z"
   },
   {
    "duration": 42,
    "start_time": "2022-05-26T03:59:19.884Z"
   },
   {
    "duration": 26,
    "start_time": "2022-05-26T03:59:19.928Z"
   },
   {
    "duration": 21,
    "start_time": "2022-05-26T03:59:19.956Z"
   },
   {
    "duration": 7,
    "start_time": "2022-05-26T03:59:19.979Z"
   },
   {
    "duration": 15,
    "start_time": "2022-05-26T03:59:19.988Z"
   },
   {
    "duration": 13,
    "start_time": "2022-05-26T03:59:20.005Z"
   },
   {
    "duration": 4,
    "start_time": "2022-05-26T03:59:20.021Z"
   },
   {
    "duration": 34,
    "start_time": "2022-05-26T03:59:20.026Z"
   },
   {
    "duration": 24,
    "start_time": "2022-05-26T03:59:20.066Z"
   },
   {
    "duration": 38,
    "start_time": "2022-05-26T03:59:20.092Z"
   },
   {
    "duration": 8,
    "start_time": "2022-05-26T03:59:20.131Z"
   },
   {
    "duration": 20,
    "start_time": "2022-05-26T03:59:20.141Z"
   },
   {
    "duration": 51,
    "start_time": "2022-05-26T03:59:20.162Z"
   },
   {
    "duration": 8,
    "start_time": "2022-05-26T03:59:20.215Z"
   },
   {
    "duration": 10,
    "start_time": "2022-05-26T03:59:20.225Z"
   },
   {
    "duration": 36,
    "start_time": "2022-05-26T03:59:20.237Z"
   },
   {
    "duration": 8,
    "start_time": "2022-05-26T03:59:20.275Z"
   },
   {
    "duration": 26,
    "start_time": "2022-05-26T03:59:20.285Z"
   },
   {
    "duration": 26,
    "start_time": "2022-05-26T03:59:20.312Z"
   },
   {
    "duration": 40,
    "start_time": "2022-05-26T03:59:20.340Z"
   },
   {
    "duration": 29,
    "start_time": "2022-05-26T03:59:20.382Z"
   },
   {
    "duration": 63,
    "start_time": "2022-05-26T03:59:20.413Z"
   },
   {
    "duration": 22,
    "start_time": "2022-05-26T03:59:20.477Z"
   },
   {
    "duration": 41,
    "start_time": "2022-05-26T03:59:20.501Z"
   },
   {
    "duration": 48,
    "start_time": "2022-05-26T03:59:20.544Z"
   },
   {
    "duration": 22,
    "start_time": "2022-05-26T03:59:20.594Z"
   },
   {
    "duration": 23,
    "start_time": "2022-05-26T03:59:20.618Z"
   },
   {
    "duration": 7,
    "start_time": "2022-05-26T03:59:20.643Z"
   },
   {
    "duration": 49,
    "start_time": "2022-05-26T03:59:20.652Z"
   },
   {
    "duration": 181,
    "start_time": "2022-05-26T03:59:20.702Z"
   },
   {
    "duration": 3,
    "start_time": "2022-05-26T03:59:32.445Z"
   },
   {
    "duration": 3,
    "start_time": "2022-05-26T03:59:40.229Z"
   },
   {
    "duration": 596,
    "start_time": "2022-05-26T04:00:50.147Z"
   },
   {
    "duration": 1087,
    "start_time": "2022-05-26T04:00:56.993Z"
   },
   {
    "duration": 3,
    "start_time": "2022-05-26T04:00:58.082Z"
   },
   {
    "duration": 428,
    "start_time": "2022-05-26T04:00:58.086Z"
   },
   {
    "duration": 11,
    "start_time": "2022-05-26T04:00:58.516Z"
   },
   {
    "duration": 20,
    "start_time": "2022-05-26T04:00:58.529Z"
   },
   {
    "duration": 37,
    "start_time": "2022-05-26T04:00:58.551Z"
   },
   {
    "duration": 9,
    "start_time": "2022-05-26T04:00:58.590Z"
   },
   {
    "duration": 14,
    "start_time": "2022-05-26T04:00:58.601Z"
   },
   {
    "duration": 33,
    "start_time": "2022-05-26T04:00:58.616Z"
   },
   {
    "duration": 37,
    "start_time": "2022-05-26T04:00:58.650Z"
   },
   {
    "duration": 5,
    "start_time": "2022-05-26T04:00:58.688Z"
   },
   {
    "duration": 113,
    "start_time": "2022-05-26T04:00:58.695Z"
   },
   {
    "duration": 0,
    "start_time": "2022-05-26T04:00:58.812Z"
   },
   {
    "duration": 0,
    "start_time": "2022-05-26T04:00:58.813Z"
   },
   {
    "duration": 0,
    "start_time": "2022-05-26T04:00:58.814Z"
   },
   {
    "duration": 0,
    "start_time": "2022-05-26T04:00:58.815Z"
   },
   {
    "duration": 0,
    "start_time": "2022-05-26T04:00:58.816Z"
   },
   {
    "duration": 0,
    "start_time": "2022-05-26T04:00:58.817Z"
   },
   {
    "duration": 0,
    "start_time": "2022-05-26T04:00:58.818Z"
   },
   {
    "duration": 0,
    "start_time": "2022-05-26T04:00:58.819Z"
   },
   {
    "duration": 0,
    "start_time": "2022-05-26T04:00:58.820Z"
   },
   {
    "duration": 0,
    "start_time": "2022-05-26T04:00:58.821Z"
   },
   {
    "duration": 0,
    "start_time": "2022-05-26T04:00:58.822Z"
   },
   {
    "duration": 0,
    "start_time": "2022-05-26T04:00:58.823Z"
   },
   {
    "duration": 0,
    "start_time": "2022-05-26T04:00:58.824Z"
   },
   {
    "duration": 0,
    "start_time": "2022-05-26T04:00:58.859Z"
   },
   {
    "duration": 0,
    "start_time": "2022-05-26T04:00:58.859Z"
   },
   {
    "duration": 0,
    "start_time": "2022-05-26T04:00:58.860Z"
   },
   {
    "duration": 1,
    "start_time": "2022-05-26T04:00:58.860Z"
   },
   {
    "duration": 0,
    "start_time": "2022-05-26T04:00:58.861Z"
   },
   {
    "duration": 0,
    "start_time": "2022-05-26T04:00:58.862Z"
   },
   {
    "duration": 0,
    "start_time": "2022-05-26T04:00:58.862Z"
   },
   {
    "duration": 0,
    "start_time": "2022-05-26T04:00:58.863Z"
   },
   {
    "duration": 0,
    "start_time": "2022-05-26T04:00:58.864Z"
   },
   {
    "duration": 0,
    "start_time": "2022-05-26T04:00:58.864Z"
   },
   {
    "duration": 0,
    "start_time": "2022-05-26T04:00:58.865Z"
   },
   {
    "duration": 0,
    "start_time": "2022-05-26T04:00:58.865Z"
   },
   {
    "duration": 0,
    "start_time": "2022-05-26T04:00:58.866Z"
   },
   {
    "duration": 0,
    "start_time": "2022-05-26T04:00:58.866Z"
   },
   {
    "duration": 0,
    "start_time": "2022-05-26T04:00:58.867Z"
   },
   {
    "duration": 0,
    "start_time": "2022-05-26T04:00:58.868Z"
   },
   {
    "duration": 0,
    "start_time": "2022-05-26T04:00:58.871Z"
   },
   {
    "duration": 0,
    "start_time": "2022-05-26T04:00:58.872Z"
   },
   {
    "duration": 0,
    "start_time": "2022-05-26T04:00:58.873Z"
   },
   {
    "duration": 0,
    "start_time": "2022-05-26T04:00:58.874Z"
   },
   {
    "duration": 0,
    "start_time": "2022-05-26T04:00:58.875Z"
   },
   {
    "duration": 0,
    "start_time": "2022-05-26T04:00:58.877Z"
   },
   {
    "duration": 0,
    "start_time": "2022-05-26T04:00:58.878Z"
   },
   {
    "duration": 0,
    "start_time": "2022-05-26T04:00:58.879Z"
   },
   {
    "duration": 0,
    "start_time": "2022-05-26T04:00:58.880Z"
   },
   {
    "duration": 0,
    "start_time": "2022-05-26T04:00:58.882Z"
   },
   {
    "duration": 5,
    "start_time": "2022-05-26T04:01:10.413Z"
   },
   {
    "duration": 1060,
    "start_time": "2022-05-26T04:01:16.781Z"
   },
   {
    "duration": 3,
    "start_time": "2022-05-26T04:01:17.843Z"
   },
   {
    "duration": 460,
    "start_time": "2022-05-26T04:01:17.847Z"
   },
   {
    "duration": 11,
    "start_time": "2022-05-26T04:01:18.309Z"
   },
   {
    "duration": 8,
    "start_time": "2022-05-26T04:01:18.322Z"
   },
   {
    "duration": 9,
    "start_time": "2022-05-26T04:01:18.331Z"
   },
   {
    "duration": 9,
    "start_time": "2022-05-26T04:01:18.341Z"
   },
   {
    "duration": 40,
    "start_time": "2022-05-26T04:01:18.351Z"
   },
   {
    "duration": 39,
    "start_time": "2022-05-26T04:01:18.392Z"
   },
   {
    "duration": 30,
    "start_time": "2022-05-26T04:01:18.434Z"
   },
   {
    "duration": 11,
    "start_time": "2022-05-26T04:01:18.473Z"
   },
   {
    "duration": 5,
    "start_time": "2022-05-26T04:01:18.486Z"
   },
   {
    "duration": 4,
    "start_time": "2022-05-26T04:01:18.492Z"
   },
   {
    "duration": 69,
    "start_time": "2022-05-26T04:01:18.497Z"
   },
   {
    "duration": 37,
    "start_time": "2022-05-26T04:01:18.568Z"
   },
   {
    "duration": 18,
    "start_time": "2022-05-26T04:01:18.606Z"
   },
   {
    "duration": 39,
    "start_time": "2022-05-26T04:01:18.626Z"
   },
   {
    "duration": 49,
    "start_time": "2022-05-26T04:01:18.673Z"
   },
   {
    "duration": 19,
    "start_time": "2022-05-26T04:01:18.724Z"
   },
   {
    "duration": 27,
    "start_time": "2022-05-26T04:01:18.745Z"
   },
   {
    "duration": 24,
    "start_time": "2022-05-26T04:01:18.774Z"
   },
   {
    "duration": 41,
    "start_time": "2022-05-26T04:01:18.801Z"
   },
   {
    "duration": 33,
    "start_time": "2022-05-26T04:01:18.844Z"
   },
   {
    "duration": 19,
    "start_time": "2022-05-26T04:01:18.879Z"
   },
   {
    "duration": 6,
    "start_time": "2022-05-26T04:01:18.899Z"
   },
   {
    "duration": 13,
    "start_time": "2022-05-26T04:01:18.906Z"
   },
   {
    "duration": 9,
    "start_time": "2022-05-26T04:01:18.921Z"
   },
   {
    "duration": 22,
    "start_time": "2022-05-26T04:01:18.933Z"
   },
   {
    "duration": 28,
    "start_time": "2022-05-26T04:01:18.963Z"
   },
   {
    "duration": 13,
    "start_time": "2022-05-26T04:01:18.993Z"
   },
   {
    "duration": 38,
    "start_time": "2022-05-26T04:01:19.008Z"
   },
   {
    "duration": 18,
    "start_time": "2022-05-26T04:01:19.048Z"
   },
   {
    "duration": 23,
    "start_time": "2022-05-26T04:01:19.067Z"
   },
   {
    "duration": 28,
    "start_time": "2022-05-26T04:01:19.091Z"
   },
   {
    "duration": 7,
    "start_time": "2022-05-26T04:01:19.121Z"
   },
   {
    "duration": 13,
    "start_time": "2022-05-26T04:01:19.129Z"
   },
   {
    "duration": 28,
    "start_time": "2022-05-26T04:01:19.143Z"
   },
   {
    "duration": 21,
    "start_time": "2022-05-26T04:01:19.173Z"
   },
   {
    "duration": 23,
    "start_time": "2022-05-26T04:01:19.196Z"
   },
   {
    "duration": 13,
    "start_time": "2022-05-26T04:01:19.221Z"
   },
   {
    "duration": 10,
    "start_time": "2022-05-26T04:01:19.235Z"
   },
   {
    "duration": 38,
    "start_time": "2022-05-26T04:01:19.247Z"
   },
   {
    "duration": 22,
    "start_time": "2022-05-26T04:01:19.287Z"
   },
   {
    "duration": 7,
    "start_time": "2022-05-26T04:01:19.310Z"
   },
   {
    "duration": 9,
    "start_time": "2022-05-26T04:01:19.319Z"
   },
   {
    "duration": 5,
    "start_time": "2022-05-26T04:01:19.330Z"
   },
   {
    "duration": 9,
    "start_time": "2022-05-26T04:01:19.337Z"
   },
   {
    "duration": 11,
    "start_time": "2022-05-26T04:01:19.348Z"
   },
   {
    "duration": 19,
    "start_time": "2022-05-26T04:01:19.360Z"
   },
   {
    "duration": 15,
    "start_time": "2022-05-26T04:01:19.381Z"
   },
   {
    "duration": 149,
    "start_time": "2022-05-26T04:01:19.398Z"
   },
   {
    "duration": 452,
    "start_time": "2022-05-26T04:07:09.018Z"
   },
   {
    "duration": 67,
    "start_time": "2022-05-26T04:07:20.029Z"
   },
   {
    "duration": 251,
    "start_time": "2022-05-26T04:07:26.668Z"
   },
   {
    "duration": 154,
    "start_time": "2022-05-26T04:07:43.006Z"
   },
   {
    "duration": 236,
    "start_time": "2022-05-26T04:09:26.776Z"
   },
   {
    "duration": 328,
    "start_time": "2022-05-26T04:09:58.889Z"
   },
   {
    "duration": 336,
    "start_time": "2022-05-26T04:10:20.980Z"
   },
   {
    "duration": 647,
    "start_time": "2022-05-26T04:12:30.042Z"
   },
   {
    "duration": 303,
    "start_time": "2022-05-26T04:12:37.129Z"
   },
   {
    "duration": 291,
    "start_time": "2022-05-26T04:12:43.698Z"
   },
   {
    "duration": 4435,
    "start_time": "2022-05-26T04:12:52.150Z"
   },
   {
    "duration": 1010,
    "start_time": "2022-05-26T04:13:05.261Z"
   },
   {
    "duration": 620,
    "start_time": "2022-05-26T04:14:06.050Z"
   },
   {
    "duration": 730,
    "start_time": "2022-05-26T04:14:12.248Z"
   },
   {
    "duration": 642,
    "start_time": "2022-05-26T04:14:18.066Z"
   },
   {
    "duration": 655,
    "start_time": "2022-05-26T04:14:29.896Z"
   },
   {
    "duration": 857,
    "start_time": "2022-05-26T04:18:53.065Z"
   },
   {
    "duration": 396,
    "start_time": "2022-05-26T04:18:59.226Z"
   },
   {
    "duration": 399,
    "start_time": "2022-05-26T04:20:11.906Z"
   },
   {
    "duration": 375,
    "start_time": "2022-05-26T04:20:20.538Z"
   },
   {
    "duration": 404,
    "start_time": "2022-05-26T04:20:30.034Z"
   },
   {
    "duration": 378,
    "start_time": "2022-05-26T04:20:46.002Z"
   },
   {
    "duration": 431,
    "start_time": "2022-05-26T04:21:48.486Z"
   },
   {
    "duration": 437,
    "start_time": "2022-05-26T04:22:37.094Z"
   },
   {
    "duration": 447,
    "start_time": "2022-05-26T04:24:09.519Z"
   },
   {
    "duration": 404,
    "start_time": "2022-05-26T04:24:41.264Z"
   },
   {
    "duration": 525,
    "start_time": "2022-05-26T04:24:46.294Z"
   },
   {
    "duration": 412,
    "start_time": "2022-05-26T04:27:25.788Z"
   },
   {
    "duration": 401,
    "start_time": "2022-05-26T04:27:29.856Z"
   },
   {
    "duration": 403,
    "start_time": "2022-05-26T04:27:34.316Z"
   },
   {
    "duration": 31,
    "start_time": "2022-05-26T04:28:37.757Z"
   },
   {
    "duration": 415,
    "start_time": "2022-05-26T04:28:57.751Z"
   },
   {
    "duration": 37,
    "start_time": "2022-05-26T04:29:25.178Z"
   },
   {
    "duration": 32,
    "start_time": "2022-05-26T04:29:35.690Z"
   },
   {
    "duration": 25,
    "start_time": "2022-05-26T04:29:46.404Z"
   },
   {
    "duration": 459,
    "start_time": "2022-05-26T04:29:56.553Z"
   },
   {
    "duration": 435,
    "start_time": "2022-05-26T04:30:05.750Z"
   },
   {
    "duration": 419,
    "start_time": "2022-05-26T04:30:22.650Z"
   },
   {
    "duration": 416,
    "start_time": "2022-05-26T04:33:31.320Z"
   },
   {
    "duration": 541,
    "start_time": "2022-05-26T04:34:14.286Z"
   },
   {
    "duration": 454,
    "start_time": "2022-05-26T04:34:26.989Z"
   },
   {
    "duration": 1127,
    "start_time": "2022-05-26T04:36:44.508Z"
   },
   {
    "duration": 4,
    "start_time": "2022-05-26T04:36:45.636Z"
   },
   {
    "duration": 429,
    "start_time": "2022-05-26T04:36:45.642Z"
   },
   {
    "duration": 13,
    "start_time": "2022-05-26T04:36:46.073Z"
   },
   {
    "duration": 8,
    "start_time": "2022-05-26T04:36:46.087Z"
   },
   {
    "duration": 10,
    "start_time": "2022-05-26T04:36:46.096Z"
   },
   {
    "duration": 16,
    "start_time": "2022-05-26T04:36:46.109Z"
   },
   {
    "duration": 17,
    "start_time": "2022-05-26T04:36:46.127Z"
   },
   {
    "duration": 51,
    "start_time": "2022-05-26T04:36:46.154Z"
   },
   {
    "duration": 22,
    "start_time": "2022-05-26T04:36:46.208Z"
   },
   {
    "duration": 7,
    "start_time": "2022-05-26T04:36:46.232Z"
   },
   {
    "duration": 16,
    "start_time": "2022-05-26T04:36:46.240Z"
   },
   {
    "duration": 68,
    "start_time": "2022-05-26T04:36:46.258Z"
   },
   {
    "duration": 45,
    "start_time": "2022-05-26T04:36:46.328Z"
   },
   {
    "duration": 17,
    "start_time": "2022-05-26T04:36:46.374Z"
   },
   {
    "duration": 473,
    "start_time": "2022-05-26T04:36:46.392Z"
   },
   {
    "duration": 0,
    "start_time": "2022-05-26T04:36:46.868Z"
   },
   {
    "duration": 0,
    "start_time": "2022-05-26T04:36:46.869Z"
   },
   {
    "duration": 0,
    "start_time": "2022-05-26T04:36:46.870Z"
   },
   {
    "duration": 0,
    "start_time": "2022-05-26T04:36:46.875Z"
   },
   {
    "duration": 1,
    "start_time": "2022-05-26T04:36:46.875Z"
   },
   {
    "duration": 0,
    "start_time": "2022-05-26T04:36:46.877Z"
   },
   {
    "duration": 0,
    "start_time": "2022-05-26T04:36:46.878Z"
   },
   {
    "duration": 0,
    "start_time": "2022-05-26T04:36:46.879Z"
   },
   {
    "duration": 0,
    "start_time": "2022-05-26T04:36:46.881Z"
   },
   {
    "duration": 0,
    "start_time": "2022-05-26T04:36:46.882Z"
   },
   {
    "duration": 0,
    "start_time": "2022-05-26T04:36:46.883Z"
   },
   {
    "duration": 0,
    "start_time": "2022-05-26T04:36:46.885Z"
   },
   {
    "duration": 0,
    "start_time": "2022-05-26T04:36:46.886Z"
   },
   {
    "duration": 0,
    "start_time": "2022-05-26T04:36:46.886Z"
   },
   {
    "duration": 0,
    "start_time": "2022-05-26T04:36:46.887Z"
   },
   {
    "duration": 0,
    "start_time": "2022-05-26T04:36:46.888Z"
   },
   {
    "duration": 0,
    "start_time": "2022-05-26T04:36:46.889Z"
   },
   {
    "duration": 0,
    "start_time": "2022-05-26T04:36:46.890Z"
   },
   {
    "duration": 0,
    "start_time": "2022-05-26T04:36:46.891Z"
   },
   {
    "duration": 0,
    "start_time": "2022-05-26T04:36:46.892Z"
   },
   {
    "duration": 0,
    "start_time": "2022-05-26T04:36:46.893Z"
   },
   {
    "duration": 0,
    "start_time": "2022-05-26T04:36:46.894Z"
   },
   {
    "duration": 0,
    "start_time": "2022-05-26T04:36:46.895Z"
   },
   {
    "duration": 0,
    "start_time": "2022-05-26T04:36:46.896Z"
   },
   {
    "duration": 0,
    "start_time": "2022-05-26T04:36:46.897Z"
   },
   {
    "duration": 0,
    "start_time": "2022-05-26T04:36:46.898Z"
   },
   {
    "duration": 0,
    "start_time": "2022-05-26T04:36:46.899Z"
   },
   {
    "duration": 0,
    "start_time": "2022-05-26T04:36:46.900Z"
   },
   {
    "duration": 0,
    "start_time": "2022-05-26T04:36:46.901Z"
   },
   {
    "duration": 0,
    "start_time": "2022-05-26T04:36:46.902Z"
   },
   {
    "duration": 0,
    "start_time": "2022-05-26T04:36:46.903Z"
   },
   {
    "duration": 0,
    "start_time": "2022-05-26T04:36:46.904Z"
   },
   {
    "duration": 0,
    "start_time": "2022-05-26T04:36:46.905Z"
   },
   {
    "duration": 0,
    "start_time": "2022-05-26T04:36:46.952Z"
   },
   {
    "duration": 0,
    "start_time": "2022-05-26T04:36:46.963Z"
   },
   {
    "duration": 0,
    "start_time": "2022-05-26T04:36:46.964Z"
   },
   {
    "duration": 0,
    "start_time": "2022-05-26T04:36:46.965Z"
   },
   {
    "duration": 362,
    "start_time": "2022-05-26T04:37:39.179Z"
   },
   {
    "duration": 958,
    "start_time": "2022-05-26T04:37:52.543Z"
   },
   {
    "duration": 366,
    "start_time": "2022-05-26T04:38:13.860Z"
   },
   {
    "duration": 340,
    "start_time": "2022-05-26T04:38:19.358Z"
   },
   {
    "duration": 372,
    "start_time": "2022-05-26T04:38:31.631Z"
   },
   {
    "duration": 284,
    "start_time": "2022-05-26T04:38:59.798Z"
   },
   {
    "duration": 350,
    "start_time": "2022-05-26T04:39:05.299Z"
   },
   {
    "duration": 330,
    "start_time": "2022-05-26T04:39:13.001Z"
   },
   {
    "duration": 285,
    "start_time": "2022-05-26T04:39:19.185Z"
   },
   {
    "duration": 298,
    "start_time": "2022-05-26T04:39:32.003Z"
   },
   {
    "duration": 238,
    "start_time": "2022-05-26T04:40:04.641Z"
   },
   {
    "duration": 277,
    "start_time": "2022-05-26T04:40:39.554Z"
   },
   {
    "duration": 314,
    "start_time": "2022-05-26T04:40:55.388Z"
   },
   {
    "duration": 1175,
    "start_time": "2022-05-26T04:41:23.827Z"
   },
   {
    "duration": 4,
    "start_time": "2022-05-26T04:41:25.004Z"
   },
   {
    "duration": 539,
    "start_time": "2022-05-26T04:41:25.010Z"
   },
   {
    "duration": 27,
    "start_time": "2022-05-26T04:41:25.552Z"
   },
   {
    "duration": 16,
    "start_time": "2022-05-26T04:41:25.581Z"
   },
   {
    "duration": 10,
    "start_time": "2022-05-26T04:41:25.602Z"
   },
   {
    "duration": 13,
    "start_time": "2022-05-26T04:41:25.614Z"
   },
   {
    "duration": 23,
    "start_time": "2022-05-26T04:41:25.629Z"
   },
   {
    "duration": 35,
    "start_time": "2022-05-26T04:41:25.656Z"
   },
   {
    "duration": 24,
    "start_time": "2022-05-26T04:41:25.694Z"
   },
   {
    "duration": 13,
    "start_time": "2022-05-26T04:41:25.720Z"
   },
   {
    "duration": 23,
    "start_time": "2022-05-26T04:41:25.735Z"
   },
   {
    "duration": 68,
    "start_time": "2022-05-26T04:41:25.760Z"
   },
   {
    "duration": 42,
    "start_time": "2022-05-26T04:41:25.830Z"
   },
   {
    "duration": 308,
    "start_time": "2022-05-26T04:41:25.873Z"
   },
   {
    "duration": 198,
    "start_time": "2022-05-26T04:41:26.183Z"
   },
   {
    "duration": 38,
    "start_time": "2022-05-26T04:41:26.383Z"
   },
   {
    "duration": 82,
    "start_time": "2022-05-26T04:41:26.424Z"
   },
   {
    "duration": 20,
    "start_time": "2022-05-26T04:41:26.508Z"
   },
   {
    "duration": 44,
    "start_time": "2022-05-26T04:41:26.530Z"
   },
   {
    "duration": 38,
    "start_time": "2022-05-26T04:41:26.576Z"
   },
   {
    "duration": 54,
    "start_time": "2022-05-26T04:41:26.616Z"
   },
   {
    "duration": 17,
    "start_time": "2022-05-26T04:41:26.671Z"
   },
   {
    "duration": 98,
    "start_time": "2022-05-26T04:41:26.689Z"
   },
   {
    "duration": 6,
    "start_time": "2022-05-26T04:41:26.789Z"
   },
   {
    "duration": 17,
    "start_time": "2022-05-26T04:41:26.797Z"
   },
   {
    "duration": 14,
    "start_time": "2022-05-26T04:41:26.816Z"
   },
   {
    "duration": 20,
    "start_time": "2022-05-26T04:41:26.833Z"
   },
   {
    "duration": 14,
    "start_time": "2022-05-26T04:41:26.862Z"
   },
   {
    "duration": 8,
    "start_time": "2022-05-26T04:41:26.878Z"
   },
   {
    "duration": 36,
    "start_time": "2022-05-26T04:41:26.888Z"
   },
   {
    "duration": 8,
    "start_time": "2022-05-26T04:41:26.926Z"
   },
   {
    "duration": 15,
    "start_time": "2022-05-26T04:41:26.953Z"
   },
   {
    "duration": 27,
    "start_time": "2022-05-26T04:41:26.972Z"
   },
   {
    "duration": 9,
    "start_time": "2022-05-26T04:41:27.000Z"
   },
   {
    "duration": 16,
    "start_time": "2022-05-26T04:41:27.011Z"
   },
   {
    "duration": 37,
    "start_time": "2022-05-26T04:41:27.030Z"
   },
   {
    "duration": 9,
    "start_time": "2022-05-26T04:41:27.069Z"
   },
   {
    "duration": 18,
    "start_time": "2022-05-26T04:41:27.080Z"
   },
   {
    "duration": 15,
    "start_time": "2022-05-26T04:41:27.101Z"
   },
   {
    "duration": 9,
    "start_time": "2022-05-26T04:41:27.118Z"
   },
   {
    "duration": 21,
    "start_time": "2022-05-26T04:41:27.152Z"
   },
   {
    "duration": 25,
    "start_time": "2022-05-26T04:41:27.174Z"
   },
   {
    "duration": 8,
    "start_time": "2022-05-26T04:41:27.200Z"
   },
   {
    "duration": 10,
    "start_time": "2022-05-26T04:41:27.210Z"
   },
   {
    "duration": 7,
    "start_time": "2022-05-26T04:41:27.222Z"
   },
   {
    "duration": 51,
    "start_time": "2022-05-26T04:41:27.230Z"
   },
   {
    "duration": 9,
    "start_time": "2022-05-26T04:41:27.282Z"
   },
   {
    "duration": 3,
    "start_time": "2022-05-26T04:41:27.293Z"
   },
   {
    "duration": 15,
    "start_time": "2022-05-26T04:41:27.298Z"
   },
   {
    "duration": 168,
    "start_time": "2022-05-26T04:41:27.315Z"
   },
   {
    "duration": 29,
    "start_time": "2022-05-26T04:42:09.170Z"
   },
   {
    "duration": 1150,
    "start_time": "2022-05-26T04:42:33.369Z"
   },
   {
    "duration": 3,
    "start_time": "2022-05-26T04:42:34.521Z"
   },
   {
    "duration": 442,
    "start_time": "2022-05-26T04:42:34.525Z"
   },
   {
    "duration": 13,
    "start_time": "2022-05-26T04:42:34.970Z"
   },
   {
    "duration": 12,
    "start_time": "2022-05-26T04:42:34.984Z"
   },
   {
    "duration": 11,
    "start_time": "2022-05-26T04:42:34.998Z"
   },
   {
    "duration": 12,
    "start_time": "2022-05-26T04:42:35.011Z"
   },
   {
    "duration": 20,
    "start_time": "2022-05-26T04:42:35.025Z"
   },
   {
    "duration": 45,
    "start_time": "2022-05-26T04:42:35.054Z"
   },
   {
    "duration": 24,
    "start_time": "2022-05-26T04:42:35.103Z"
   },
   {
    "duration": 12,
    "start_time": "2022-05-26T04:42:35.128Z"
   },
   {
    "duration": 17,
    "start_time": "2022-05-26T04:42:35.142Z"
   },
   {
    "duration": 111,
    "start_time": "2022-05-26T04:42:35.167Z"
   },
   {
    "duration": 50,
    "start_time": "2022-05-26T04:42:35.281Z"
   },
   {
    "duration": 366,
    "start_time": "2022-05-26T04:42:35.333Z"
   },
   {
    "duration": 219,
    "start_time": "2022-05-26T04:42:35.701Z"
   },
   {
    "duration": 44,
    "start_time": "2022-05-26T04:42:35.922Z"
   },
   {
    "duration": 49,
    "start_time": "2022-05-26T04:42:35.968Z"
   },
   {
    "duration": 18,
    "start_time": "2022-05-26T04:42:36.019Z"
   },
   {
    "duration": 31,
    "start_time": "2022-05-26T04:42:36.039Z"
   },
   {
    "duration": 375,
    "start_time": "2022-05-26T04:42:36.072Z"
   },
   {
    "duration": 212,
    "start_time": "2022-05-26T04:42:36.448Z"
   },
   {
    "duration": 23,
    "start_time": "2022-05-26T04:42:36.662Z"
   },
   {
    "duration": 43,
    "start_time": "2022-05-26T04:42:36.686Z"
   },
   {
    "duration": 45,
    "start_time": "2022-05-26T04:42:36.731Z"
   },
   {
    "duration": 25,
    "start_time": "2022-05-26T04:42:36.778Z"
   },
   {
    "duration": 8,
    "start_time": "2022-05-26T04:42:36.805Z"
   },
   {
    "duration": 46,
    "start_time": "2022-05-26T04:42:36.817Z"
   },
   {
    "duration": 20,
    "start_time": "2022-05-26T04:42:36.866Z"
   },
   {
    "duration": 9,
    "start_time": "2022-05-26T04:42:36.888Z"
   },
   {
    "duration": 18,
    "start_time": "2022-05-26T04:42:36.899Z"
   },
   {
    "duration": 15,
    "start_time": "2022-05-26T04:42:36.919Z"
   },
   {
    "duration": 53,
    "start_time": "2022-05-26T04:42:36.935Z"
   },
   {
    "duration": 8,
    "start_time": "2022-05-26T04:42:36.990Z"
   },
   {
    "duration": 17,
    "start_time": "2022-05-26T04:42:37.000Z"
   },
   {
    "duration": 57,
    "start_time": "2022-05-26T04:42:37.019Z"
   },
   {
    "duration": 9,
    "start_time": "2022-05-26T04:42:37.077Z"
   },
   {
    "duration": 14,
    "start_time": "2022-05-26T04:42:37.088Z"
   },
   {
    "duration": 59,
    "start_time": "2022-05-26T04:42:37.104Z"
   },
   {
    "duration": 12,
    "start_time": "2022-05-26T04:42:37.165Z"
   },
   {
    "duration": 29,
    "start_time": "2022-05-26T04:42:37.179Z"
   },
   {
    "duration": 17,
    "start_time": "2022-05-26T04:42:37.209Z"
   },
   {
    "duration": 35,
    "start_time": "2022-05-26T04:42:37.229Z"
   },
   {
    "duration": 15,
    "start_time": "2022-05-26T04:42:37.268Z"
   },
   {
    "duration": 23,
    "start_time": "2022-05-26T04:42:37.284Z"
   },
   {
    "duration": 9,
    "start_time": "2022-05-26T04:42:37.309Z"
   },
   {
    "duration": 10,
    "start_time": "2022-05-26T04:42:37.319Z"
   },
   {
    "duration": 28,
    "start_time": "2022-05-26T04:42:37.331Z"
   },
   {
    "duration": 18,
    "start_time": "2022-05-26T04:42:37.366Z"
   },
   {
    "duration": 16,
    "start_time": "2022-05-26T04:42:37.386Z"
   },
   {
    "duration": 11,
    "start_time": "2022-05-26T04:42:37.404Z"
   },
   {
    "duration": 20,
    "start_time": "2022-05-26T04:42:37.417Z"
   },
   {
    "duration": 178,
    "start_time": "2022-05-26T04:42:37.439Z"
   },
   {
    "duration": 280,
    "start_time": "2022-05-26T04:45:09.821Z"
   },
   {
    "duration": 341,
    "start_time": "2022-05-26T04:45:12.103Z"
   },
   {
    "duration": 14,
    "start_time": "2022-05-26T04:47:10.691Z"
   },
   {
    "duration": 1109,
    "start_time": "2022-05-26T04:47:20.839Z"
   },
   {
    "duration": 8,
    "start_time": "2022-05-26T04:47:21.950Z"
   },
   {
    "duration": 583,
    "start_time": "2022-05-26T04:47:21.960Z"
   },
   {
    "duration": 26,
    "start_time": "2022-05-26T04:47:22.545Z"
   },
   {
    "duration": 25,
    "start_time": "2022-05-26T04:47:22.574Z"
   },
   {
    "duration": 20,
    "start_time": "2022-05-26T04:47:22.601Z"
   },
   {
    "duration": 27,
    "start_time": "2022-05-26T04:47:22.623Z"
   },
   {
    "duration": 41,
    "start_time": "2022-05-26T04:47:22.655Z"
   },
   {
    "duration": 48,
    "start_time": "2022-05-26T04:47:22.698Z"
   },
   {
    "duration": 30,
    "start_time": "2022-05-26T04:47:22.748Z"
   },
   {
    "duration": 16,
    "start_time": "2022-05-26T04:47:22.780Z"
   },
   {
    "duration": 10,
    "start_time": "2022-05-26T04:47:22.799Z"
   },
   {
    "duration": 77,
    "start_time": "2022-05-26T04:47:22.811Z"
   },
   {
    "duration": 42,
    "start_time": "2022-05-26T04:47:22.891Z"
   },
   {
    "duration": 328,
    "start_time": "2022-05-26T04:47:22.935Z"
   },
   {
    "duration": 217,
    "start_time": "2022-05-26T04:47:23.266Z"
   },
   {
    "duration": 27,
    "start_time": "2022-05-26T04:47:23.485Z"
   },
   {
    "duration": 68,
    "start_time": "2022-05-26T04:47:23.513Z"
   },
   {
    "duration": 17,
    "start_time": "2022-05-26T04:47:23.583Z"
   },
   {
    "duration": 27,
    "start_time": "2022-05-26T04:47:23.601Z"
   },
   {
    "duration": 401,
    "start_time": "2022-05-26T04:47:23.629Z"
   },
   {
    "duration": 279,
    "start_time": "2022-05-26T04:47:24.032Z"
   },
   {
    "duration": 21,
    "start_time": "2022-05-26T04:47:24.313Z"
   },
   {
    "duration": 84,
    "start_time": "2022-05-26T04:47:24.336Z"
   },
   {
    "duration": 37,
    "start_time": "2022-05-26T04:47:24.423Z"
   },
   {
    "duration": 45,
    "start_time": "2022-05-26T04:47:24.463Z"
   },
   {
    "duration": 270,
    "start_time": "2022-05-26T04:47:24.511Z"
   },
   {
    "duration": 12,
    "start_time": "2022-05-26T04:47:24.784Z"
   },
   {
    "duration": 30,
    "start_time": "2022-05-26T04:47:24.799Z"
   },
   {
    "duration": 33,
    "start_time": "2022-05-26T04:47:24.832Z"
   },
   {
    "duration": 20,
    "start_time": "2022-05-26T04:47:24.867Z"
   },
   {
    "duration": 18,
    "start_time": "2022-05-26T04:47:24.889Z"
   },
   {
    "duration": 13,
    "start_time": "2022-05-26T04:47:24.909Z"
   },
   {
    "duration": 66,
    "start_time": "2022-05-26T04:47:24.924Z"
   },
   {
    "duration": 8,
    "start_time": "2022-05-26T04:47:24.992Z"
   },
   {
    "duration": 15,
    "start_time": "2022-05-26T04:47:25.001Z"
   },
   {
    "duration": 44,
    "start_time": "2022-05-26T04:47:25.018Z"
   },
   {
    "duration": 17,
    "start_time": "2022-05-26T04:47:25.064Z"
   },
   {
    "duration": 32,
    "start_time": "2022-05-26T04:47:25.083Z"
   },
   {
    "duration": 46,
    "start_time": "2022-05-26T04:47:25.118Z"
   },
   {
    "duration": 15,
    "start_time": "2022-05-26T04:47:25.174Z"
   },
   {
    "duration": 58,
    "start_time": "2022-05-26T04:47:25.191Z"
   },
   {
    "duration": 57,
    "start_time": "2022-05-26T04:47:25.251Z"
   },
   {
    "duration": 17,
    "start_time": "2022-05-26T04:47:25.310Z"
   },
   {
    "duration": 45,
    "start_time": "2022-05-26T04:47:25.329Z"
   },
   {
    "duration": 57,
    "start_time": "2022-05-26T04:47:25.379Z"
   },
   {
    "duration": 31,
    "start_time": "2022-05-26T04:47:25.439Z"
   },
   {
    "duration": 39,
    "start_time": "2022-05-26T04:47:25.472Z"
   },
   {
    "duration": 38,
    "start_time": "2022-05-26T04:47:25.514Z"
   },
   {
    "duration": 83,
    "start_time": "2022-05-26T04:47:25.557Z"
   },
   {
    "duration": 56,
    "start_time": "2022-05-26T04:47:25.642Z"
   },
   {
    "duration": 15,
    "start_time": "2022-05-26T04:47:25.700Z"
   },
   {
    "duration": 17,
    "start_time": "2022-05-26T04:47:25.719Z"
   },
   {
    "duration": 80,
    "start_time": "2022-05-26T04:47:25.738Z"
   },
   {
    "duration": 269,
    "start_time": "2022-05-26T04:47:25.821Z"
   },
   {
    "duration": 1578,
    "start_time": "2022-05-26T04:50:21.926Z"
   },
   {
    "duration": 2,
    "start_time": "2022-05-26T04:50:23.506Z"
   },
   {
    "duration": 528,
    "start_time": "2022-05-26T04:50:23.510Z"
   },
   {
    "duration": 22,
    "start_time": "2022-05-26T04:50:24.040Z"
   },
   {
    "duration": 23,
    "start_time": "2022-05-26T04:50:24.072Z"
   },
   {
    "duration": 18,
    "start_time": "2022-05-26T04:50:24.097Z"
   },
   {
    "duration": 24,
    "start_time": "2022-05-26T04:50:24.117Z"
   },
   {
    "duration": 51,
    "start_time": "2022-05-26T04:50:24.143Z"
   },
   {
    "duration": 41,
    "start_time": "2022-05-26T04:50:24.196Z"
   },
   {
    "duration": 39,
    "start_time": "2022-05-26T04:50:24.240Z"
   },
   {
    "duration": 23,
    "start_time": "2022-05-26T04:50:24.281Z"
   },
   {
    "duration": 7,
    "start_time": "2022-05-26T04:50:24.306Z"
   },
   {
    "duration": 90,
    "start_time": "2022-05-26T04:50:24.314Z"
   },
   {
    "duration": 37,
    "start_time": "2022-05-26T04:50:24.406Z"
   },
   {
    "duration": 385,
    "start_time": "2022-05-26T04:50:24.445Z"
   },
   {
    "duration": 214,
    "start_time": "2022-05-26T04:50:24.831Z"
   },
   {
    "duration": 32,
    "start_time": "2022-05-26T04:50:25.047Z"
   },
   {
    "duration": 58,
    "start_time": "2022-05-26T04:50:25.080Z"
   },
   {
    "duration": 42,
    "start_time": "2022-05-26T04:50:25.139Z"
   },
   {
    "duration": 66,
    "start_time": "2022-05-26T04:50:25.186Z"
   },
   {
    "duration": 430,
    "start_time": "2022-05-26T04:50:25.262Z"
   },
   {
    "duration": 216,
    "start_time": "2022-05-26T04:50:25.693Z"
   },
   {
    "duration": 19,
    "start_time": "2022-05-26T04:50:25.911Z"
   },
   {
    "duration": 76,
    "start_time": "2022-05-26T04:50:25.932Z"
   },
   {
    "duration": 15,
    "start_time": "2022-05-26T04:50:26.010Z"
   },
   {
    "duration": 29,
    "start_time": "2022-05-26T04:50:26.027Z"
   },
   {
    "duration": 261,
    "start_time": "2022-05-26T04:50:26.060Z"
   },
   {
    "duration": 6,
    "start_time": "2022-05-26T04:50:26.326Z"
   },
   {
    "duration": 31,
    "start_time": "2022-05-26T04:50:26.334Z"
   },
   {
    "duration": 20,
    "start_time": "2022-05-26T04:50:26.367Z"
   },
   {
    "duration": 6,
    "start_time": "2022-05-26T04:50:26.389Z"
   },
   {
    "duration": 18,
    "start_time": "2022-05-26T04:50:26.397Z"
   },
   {
    "duration": 10,
    "start_time": "2022-05-26T04:50:26.417Z"
   },
   {
    "duration": 57,
    "start_time": "2022-05-26T04:50:26.429Z"
   },
   {
    "duration": 7,
    "start_time": "2022-05-26T04:50:26.488Z"
   },
   {
    "duration": 11,
    "start_time": "2022-05-26T04:50:26.496Z"
   },
   {
    "duration": 46,
    "start_time": "2022-05-26T04:50:26.509Z"
   },
   {
    "duration": 15,
    "start_time": "2022-05-26T04:50:26.557Z"
   },
   {
    "duration": 13,
    "start_time": "2022-05-26T04:50:26.574Z"
   },
   {
    "duration": 30,
    "start_time": "2022-05-26T04:50:26.588Z"
   },
   {
    "duration": 8,
    "start_time": "2022-05-26T04:50:26.620Z"
   },
   {
    "duration": 30,
    "start_time": "2022-05-26T04:50:26.651Z"
   },
   {
    "duration": 14,
    "start_time": "2022-05-26T04:50:26.683Z"
   },
   {
    "duration": 9,
    "start_time": "2022-05-26T04:50:26.699Z"
   },
   {
    "duration": 13,
    "start_time": "2022-05-26T04:50:26.710Z"
   },
   {
    "duration": 37,
    "start_time": "2022-05-26T04:50:26.724Z"
   },
   {
    "duration": 11,
    "start_time": "2022-05-26T04:50:26.768Z"
   },
   {
    "duration": 17,
    "start_time": "2022-05-26T04:50:26.781Z"
   },
   {
    "duration": 9,
    "start_time": "2022-05-26T04:50:26.800Z"
   },
   {
    "duration": 13,
    "start_time": "2022-05-26T04:50:26.811Z"
   },
   {
    "duration": 35,
    "start_time": "2022-05-26T04:50:26.825Z"
   },
   {
    "duration": 7,
    "start_time": "2022-05-26T04:50:26.866Z"
   },
   {
    "duration": 17,
    "start_time": "2022-05-26T04:50:26.875Z"
   },
   {
    "duration": 26,
    "start_time": "2022-05-26T04:50:26.894Z"
   },
   {
    "duration": 180,
    "start_time": "2022-05-26T04:50:26.922Z"
   },
   {
    "duration": 1187,
    "start_time": "2022-05-26T04:53:06.374Z"
   },
   {
    "duration": 3,
    "start_time": "2022-05-26T04:53:07.564Z"
   },
   {
    "duration": 453,
    "start_time": "2022-05-26T04:53:07.568Z"
   },
   {
    "duration": 16,
    "start_time": "2022-05-26T04:53:08.023Z"
   },
   {
    "duration": 8,
    "start_time": "2022-05-26T04:53:08.042Z"
   },
   {
    "duration": 25,
    "start_time": "2022-05-26T04:53:08.054Z"
   },
   {
    "duration": 11,
    "start_time": "2022-05-26T04:53:08.081Z"
   },
   {
    "duration": 14,
    "start_time": "2022-05-26T04:53:08.094Z"
   },
   {
    "duration": 40,
    "start_time": "2022-05-26T04:53:08.109Z"
   },
   {
    "duration": 37,
    "start_time": "2022-05-26T04:53:08.151Z"
   },
   {
    "duration": 6,
    "start_time": "2022-05-26T04:53:08.190Z"
   },
   {
    "duration": 7,
    "start_time": "2022-05-26T04:53:08.198Z"
   },
   {
    "duration": 97,
    "start_time": "2022-05-26T04:53:08.207Z"
   },
   {
    "duration": 63,
    "start_time": "2022-05-26T04:53:08.309Z"
   },
   {
    "duration": 328,
    "start_time": "2022-05-26T04:53:08.374Z"
   },
   {
    "duration": 212,
    "start_time": "2022-05-26T04:53:08.704Z"
   },
   {
    "duration": 36,
    "start_time": "2022-05-26T04:53:08.918Z"
   },
   {
    "duration": 54,
    "start_time": "2022-05-26T04:53:08.959Z"
   },
   {
    "duration": 27,
    "start_time": "2022-05-26T04:53:09.014Z"
   },
   {
    "duration": 42,
    "start_time": "2022-05-26T04:53:09.043Z"
   },
   {
    "duration": 360,
    "start_time": "2022-05-26T04:53:09.087Z"
   },
   {
    "duration": 239,
    "start_time": "2022-05-26T04:53:09.449Z"
   },
   {
    "duration": 20,
    "start_time": "2022-05-26T04:53:09.690Z"
   },
   {
    "duration": 56,
    "start_time": "2022-05-26T04:53:09.712Z"
   },
   {
    "duration": 30,
    "start_time": "2022-05-26T04:53:09.770Z"
   },
   {
    "duration": 19,
    "start_time": "2022-05-26T04:53:09.802Z"
   },
   {
    "duration": 364,
    "start_time": "2022-05-26T04:53:09.822Z"
   },
   {
    "duration": 8,
    "start_time": "2022-05-26T04:53:10.189Z"
   },
   {
    "duration": 19,
    "start_time": "2022-05-26T04:53:10.199Z"
   },
   {
    "duration": 19,
    "start_time": "2022-05-26T04:53:10.220Z"
   },
   {
    "duration": 5,
    "start_time": "2022-05-26T04:53:10.240Z"
   },
   {
    "duration": 50,
    "start_time": "2022-05-26T04:53:10.247Z"
   },
   {
    "duration": 12,
    "start_time": "2022-05-26T04:53:10.298Z"
   },
   {
    "duration": 47,
    "start_time": "2022-05-26T04:53:10.311Z"
   },
   {
    "duration": 17,
    "start_time": "2022-05-26T04:53:10.371Z"
   },
   {
    "duration": 10,
    "start_time": "2022-05-26T04:53:10.390Z"
   },
   {
    "duration": 24,
    "start_time": "2022-05-26T04:53:10.402Z"
   },
   {
    "duration": 7,
    "start_time": "2022-05-26T04:53:10.428Z"
   },
   {
    "duration": 10,
    "start_time": "2022-05-26T04:53:10.436Z"
   },
   {
    "duration": 63,
    "start_time": "2022-05-26T04:53:10.448Z"
   },
   {
    "duration": 9,
    "start_time": "2022-05-26T04:53:10.516Z"
   },
   {
    "duration": 24,
    "start_time": "2022-05-26T04:53:10.527Z"
   },
   {
    "duration": 19,
    "start_time": "2022-05-26T04:53:10.555Z"
   },
   {
    "duration": 19,
    "start_time": "2022-05-26T04:53:10.577Z"
   },
   {
    "duration": 13,
    "start_time": "2022-05-26T04:53:10.597Z"
   },
   {
    "duration": 22,
    "start_time": "2022-05-26T04:53:10.612Z"
   },
   {
    "duration": 139,
    "start_time": "2022-05-26T04:53:10.635Z"
   },
   {
    "duration": 0,
    "start_time": "2022-05-26T04:53:10.778Z"
   },
   {
    "duration": 0,
    "start_time": "2022-05-26T04:53:10.781Z"
   },
   {
    "duration": 0,
    "start_time": "2022-05-26T04:53:10.782Z"
   },
   {
    "duration": 0,
    "start_time": "2022-05-26T04:53:10.783Z"
   },
   {
    "duration": 0,
    "start_time": "2022-05-26T04:53:10.784Z"
   },
   {
    "duration": 0,
    "start_time": "2022-05-26T04:53:10.785Z"
   },
   {
    "duration": 0,
    "start_time": "2022-05-26T04:53:10.787Z"
   },
   {
    "duration": 0,
    "start_time": "2022-05-26T04:53:10.788Z"
   },
   {
    "duration": 21,
    "start_time": "2022-05-26T04:53:21.588Z"
   },
   {
    "duration": 1121,
    "start_time": "2022-05-26T04:53:25.503Z"
   },
   {
    "duration": 3,
    "start_time": "2022-05-26T04:53:26.627Z"
   },
   {
    "duration": 482,
    "start_time": "2022-05-26T04:53:26.631Z"
   },
   {
    "duration": 14,
    "start_time": "2022-05-26T04:53:27.116Z"
   },
   {
    "duration": 12,
    "start_time": "2022-05-26T04:53:27.132Z"
   },
   {
    "duration": 42,
    "start_time": "2022-05-26T04:53:27.146Z"
   },
   {
    "duration": 18,
    "start_time": "2022-05-26T04:53:27.190Z"
   },
   {
    "duration": 16,
    "start_time": "2022-05-26T04:53:27.210Z"
   },
   {
    "duration": 47,
    "start_time": "2022-05-26T04:53:27.228Z"
   },
   {
    "duration": 27,
    "start_time": "2022-05-26T04:53:27.280Z"
   },
   {
    "duration": 6,
    "start_time": "2022-05-26T04:53:27.310Z"
   },
   {
    "duration": 7,
    "start_time": "2022-05-26T04:53:27.318Z"
   },
   {
    "duration": 106,
    "start_time": "2022-05-26T04:53:27.327Z"
   },
   {
    "duration": 59,
    "start_time": "2022-05-26T04:53:27.435Z"
   },
   {
    "duration": 396,
    "start_time": "2022-05-26T04:53:27.496Z"
   },
   {
    "duration": 222,
    "start_time": "2022-05-26T04:53:27.894Z"
   },
   {
    "duration": 27,
    "start_time": "2022-05-26T04:53:28.118Z"
   },
   {
    "duration": 79,
    "start_time": "2022-05-26T04:53:28.148Z"
   },
   {
    "duration": 17,
    "start_time": "2022-05-26T04:53:28.228Z"
   },
   {
    "duration": 45,
    "start_time": "2022-05-26T04:53:28.246Z"
   },
   {
    "duration": 344,
    "start_time": "2022-05-26T04:53:28.294Z"
   },
   {
    "duration": 240,
    "start_time": "2022-05-26T04:53:28.640Z"
   },
   {
    "duration": 20,
    "start_time": "2022-05-26T04:53:28.882Z"
   },
   {
    "duration": 63,
    "start_time": "2022-05-26T04:53:28.904Z"
   },
   {
    "duration": 28,
    "start_time": "2022-05-26T04:53:28.969Z"
   },
   {
    "duration": 28,
    "start_time": "2022-05-26T04:53:28.999Z"
   },
   {
    "duration": 373,
    "start_time": "2022-05-26T04:53:29.029Z"
   },
   {
    "duration": 9,
    "start_time": "2022-05-26T04:53:29.408Z"
   },
   {
    "duration": 30,
    "start_time": "2022-05-26T04:53:29.419Z"
   },
   {
    "duration": 51,
    "start_time": "2022-05-26T04:53:29.452Z"
   },
   {
    "duration": 17,
    "start_time": "2022-05-26T04:53:29.505Z"
   },
   {
    "duration": 33,
    "start_time": "2022-05-26T04:53:29.525Z"
   },
   {
    "duration": 27,
    "start_time": "2022-05-26T04:53:29.567Z"
   },
   {
    "duration": 41,
    "start_time": "2022-05-26T04:53:29.596Z"
   },
   {
    "duration": 8,
    "start_time": "2022-05-26T04:53:29.639Z"
   },
   {
    "duration": 41,
    "start_time": "2022-05-26T04:53:29.649Z"
   },
   {
    "duration": 45,
    "start_time": "2022-05-26T04:53:29.692Z"
   },
   {
    "duration": 10,
    "start_time": "2022-05-26T04:53:29.740Z"
   },
   {
    "duration": 39,
    "start_time": "2022-05-26T04:53:29.758Z"
   },
   {
    "duration": 37,
    "start_time": "2022-05-26T04:53:29.799Z"
   },
   {
    "duration": 11,
    "start_time": "2022-05-26T04:53:29.838Z"
   },
   {
    "duration": 53,
    "start_time": "2022-05-26T04:53:29.851Z"
   },
   {
    "duration": 22,
    "start_time": "2022-05-26T04:53:29.907Z"
   },
   {
    "duration": 12,
    "start_time": "2022-05-26T04:53:29.932Z"
   },
   {
    "duration": 45,
    "start_time": "2022-05-26T04:53:29.946Z"
   },
   {
    "duration": 29,
    "start_time": "2022-05-26T04:53:29.994Z"
   },
   {
    "duration": 44,
    "start_time": "2022-05-26T04:53:30.025Z"
   },
   {
    "duration": 11,
    "start_time": "2022-05-26T04:53:30.076Z"
   },
   {
    "duration": 46,
    "start_time": "2022-05-26T04:53:30.090Z"
   },
   {
    "duration": 29,
    "start_time": "2022-05-26T04:53:30.139Z"
   },
   {
    "duration": 91,
    "start_time": "2022-05-26T04:53:30.170Z"
   },
   {
    "duration": 65,
    "start_time": "2022-05-26T04:53:30.266Z"
   },
   {
    "duration": 18,
    "start_time": "2022-05-26T04:53:30.332Z"
   },
   {
    "duration": 68,
    "start_time": "2022-05-26T04:53:30.352Z"
   },
   {
    "duration": 220,
    "start_time": "2022-05-26T04:53:30.422Z"
   },
   {
    "duration": 31,
    "start_time": "2022-05-26T04:54:53.194Z"
   },
   {
    "duration": 550,
    "start_time": "2022-05-26T04:55:06.971Z"
   },
   {
    "duration": 532,
    "start_time": "2022-05-26T04:55:13.313Z"
   },
   {
    "duration": 1272,
    "start_time": "2022-05-26T04:55:35.700Z"
   },
   {
    "duration": 3,
    "start_time": "2022-05-26T04:55:36.985Z"
   },
   {
    "duration": 477,
    "start_time": "2022-05-26T04:55:36.990Z"
   },
   {
    "duration": 13,
    "start_time": "2022-05-26T04:55:37.471Z"
   },
   {
    "duration": 9,
    "start_time": "2022-05-26T04:55:37.487Z"
   },
   {
    "duration": 11,
    "start_time": "2022-05-26T04:55:37.498Z"
   },
   {
    "duration": 12,
    "start_time": "2022-05-26T04:55:37.511Z"
   },
   {
    "duration": 15,
    "start_time": "2022-05-26T04:55:37.524Z"
   },
   {
    "duration": 52,
    "start_time": "2022-05-26T04:55:37.541Z"
   },
   {
    "duration": 23,
    "start_time": "2022-05-26T04:55:37.595Z"
   },
   {
    "duration": 5,
    "start_time": "2022-05-26T04:55:37.620Z"
   },
   {
    "duration": 32,
    "start_time": "2022-05-26T04:55:37.627Z"
   },
   {
    "duration": 70,
    "start_time": "2022-05-26T04:55:37.663Z"
   },
   {
    "duration": 52,
    "start_time": "2022-05-26T04:55:37.736Z"
   },
   {
    "duration": 336,
    "start_time": "2022-05-26T04:55:37.790Z"
   },
   {
    "duration": 241,
    "start_time": "2022-05-26T04:55:38.128Z"
   },
   {
    "duration": 26,
    "start_time": "2022-05-26T04:55:38.371Z"
   },
   {
    "duration": 65,
    "start_time": "2022-05-26T04:55:38.400Z"
   },
   {
    "duration": 23,
    "start_time": "2022-05-26T04:55:38.470Z"
   },
   {
    "duration": 18,
    "start_time": "2022-05-26T04:55:38.495Z"
   },
   {
    "duration": 394,
    "start_time": "2022-05-26T04:55:38.515Z"
   },
   {
    "duration": 255,
    "start_time": "2022-05-26T04:55:38.911Z"
   },
   {
    "duration": 23,
    "start_time": "2022-05-26T04:55:39.170Z"
   },
   {
    "duration": 69,
    "start_time": "2022-05-26T04:55:39.195Z"
   },
   {
    "duration": 17,
    "start_time": "2022-05-26T04:55:39.268Z"
   },
   {
    "duration": 21,
    "start_time": "2022-05-26T04:55:39.288Z"
   },
   {
    "duration": 301,
    "start_time": "2022-05-26T04:55:39.311Z"
   },
   {
    "duration": 9,
    "start_time": "2022-05-26T04:55:39.616Z"
   },
   {
    "duration": 43,
    "start_time": "2022-05-26T04:55:39.627Z"
   },
   {
    "duration": 13,
    "start_time": "2022-05-26T04:55:39.673Z"
   },
   {
    "duration": 5,
    "start_time": "2022-05-26T04:55:39.688Z"
   },
   {
    "duration": 15,
    "start_time": "2022-05-26T04:55:39.695Z"
   },
   {
    "duration": 12,
    "start_time": "2022-05-26T04:55:39.711Z"
   },
   {
    "duration": 66,
    "start_time": "2022-05-26T04:55:39.725Z"
   },
   {
    "duration": 8,
    "start_time": "2022-05-26T04:55:39.792Z"
   },
   {
    "duration": 11,
    "start_time": "2022-05-26T04:55:39.802Z"
   },
   {
    "duration": 52,
    "start_time": "2022-05-26T04:55:39.816Z"
   },
   {
    "duration": 8,
    "start_time": "2022-05-26T04:55:39.872Z"
   },
   {
    "duration": 15,
    "start_time": "2022-05-26T04:55:39.881Z"
   },
   {
    "duration": 42,
    "start_time": "2022-05-26T04:55:39.898Z"
   },
   {
    "duration": 23,
    "start_time": "2022-05-26T04:55:39.959Z"
   },
   {
    "duration": 17,
    "start_time": "2022-05-26T04:55:39.984Z"
   },
   {
    "duration": 14,
    "start_time": "2022-05-26T04:55:40.003Z"
   },
   {
    "duration": 10,
    "start_time": "2022-05-26T04:55:40.019Z"
   },
   {
    "duration": 44,
    "start_time": "2022-05-26T04:55:40.031Z"
   },
   {
    "duration": 29,
    "start_time": "2022-05-26T04:55:40.079Z"
   },
   {
    "duration": 20,
    "start_time": "2022-05-26T04:55:40.110Z"
   },
   {
    "duration": 9,
    "start_time": "2022-05-26T04:55:40.132Z"
   },
   {
    "duration": 34,
    "start_time": "2022-05-26T04:55:40.142Z"
   },
   {
    "duration": 21,
    "start_time": "2022-05-26T04:55:40.181Z"
   },
   {
    "duration": 13,
    "start_time": "2022-05-26T04:55:40.204Z"
   },
   {
    "duration": 17,
    "start_time": "2022-05-26T04:55:40.219Z"
   },
   {
    "duration": 4,
    "start_time": "2022-05-26T04:55:40.238Z"
   },
   {
    "duration": 47,
    "start_time": "2022-05-26T04:55:40.243Z"
   },
   {
    "duration": 202,
    "start_time": "2022-05-26T04:55:40.292Z"
   },
   {
    "duration": 1199,
    "start_time": "2022-05-26T04:57:17.838Z"
   },
   {
    "duration": 4,
    "start_time": "2022-05-26T04:57:19.040Z"
   },
   {
    "duration": 481,
    "start_time": "2022-05-26T04:57:19.051Z"
   },
   {
    "duration": 18,
    "start_time": "2022-05-26T04:57:19.535Z"
   },
   {
    "duration": 29,
    "start_time": "2022-05-26T04:57:19.555Z"
   },
   {
    "duration": 10,
    "start_time": "2022-05-26T04:57:19.587Z"
   },
   {
    "duration": 11,
    "start_time": "2022-05-26T04:57:19.599Z"
   },
   {
    "duration": 18,
    "start_time": "2022-05-26T04:57:19.612Z"
   },
   {
    "duration": 73,
    "start_time": "2022-05-26T04:57:19.631Z"
   },
   {
    "duration": 44,
    "start_time": "2022-05-26T04:57:19.708Z"
   },
   {
    "duration": 27,
    "start_time": "2022-05-26T04:57:19.754Z"
   },
   {
    "duration": 14,
    "start_time": "2022-05-26T04:57:19.784Z"
   },
   {
    "duration": 99,
    "start_time": "2022-05-26T04:57:19.800Z"
   },
   {
    "duration": 75,
    "start_time": "2022-05-26T04:57:19.901Z"
   },
   {
    "duration": 367,
    "start_time": "2022-05-26T04:57:19.981Z"
   },
   {
    "duration": 265,
    "start_time": "2022-05-26T04:57:20.350Z"
   },
   {
    "duration": 28,
    "start_time": "2022-05-26T04:57:20.617Z"
   },
   {
    "duration": 72,
    "start_time": "2022-05-26T04:57:20.647Z"
   },
   {
    "duration": 18,
    "start_time": "2022-05-26T04:57:20.721Z"
   },
   {
    "duration": 44,
    "start_time": "2022-05-26T04:57:20.742Z"
   },
   {
    "duration": 374,
    "start_time": "2022-05-26T04:57:20.792Z"
   },
   {
    "duration": 232,
    "start_time": "2022-05-26T04:57:21.168Z"
   },
   {
    "duration": 21,
    "start_time": "2022-05-26T04:57:21.402Z"
   },
   {
    "duration": 61,
    "start_time": "2022-05-26T04:57:21.425Z"
   },
   {
    "duration": 21,
    "start_time": "2022-05-26T04:57:21.489Z"
   },
   {
    "duration": 21,
    "start_time": "2022-05-26T04:57:21.512Z"
   },
   {
    "duration": 258,
    "start_time": "2022-05-26T04:57:21.535Z"
   },
   {
    "duration": 8,
    "start_time": "2022-05-26T04:57:21.798Z"
   },
   {
    "duration": 14,
    "start_time": "2022-05-26T04:57:21.808Z"
   },
   {
    "duration": 30,
    "start_time": "2022-05-26T04:57:21.823Z"
   },
   {
    "duration": 13,
    "start_time": "2022-05-26T04:57:21.855Z"
   },
   {
    "duration": 16,
    "start_time": "2022-05-26T04:57:21.874Z"
   },
   {
    "duration": 12,
    "start_time": "2022-05-26T04:57:21.893Z"
   },
   {
    "duration": 55,
    "start_time": "2022-05-26T04:57:21.907Z"
   },
   {
    "duration": 10,
    "start_time": "2022-05-26T04:57:21.963Z"
   },
   {
    "duration": 19,
    "start_time": "2022-05-26T04:57:21.976Z"
   },
   {
    "duration": 41,
    "start_time": "2022-05-26T04:57:21.997Z"
   },
   {
    "duration": 7,
    "start_time": "2022-05-26T04:57:22.039Z"
   },
   {
    "duration": 42,
    "start_time": "2022-05-26T04:57:22.048Z"
   },
   {
    "duration": 43,
    "start_time": "2022-05-26T04:57:22.091Z"
   },
   {
    "duration": 11,
    "start_time": "2022-05-26T04:57:22.136Z"
   },
   {
    "duration": 35,
    "start_time": "2022-05-26T04:57:22.149Z"
   },
   {
    "duration": 47,
    "start_time": "2022-05-26T04:57:22.186Z"
   },
   {
    "duration": 8,
    "start_time": "2022-05-26T04:57:22.235Z"
   },
   {
    "duration": 25,
    "start_time": "2022-05-26T04:57:22.245Z"
   },
   {
    "duration": 45,
    "start_time": "2022-05-26T04:57:22.276Z"
   },
   {
    "duration": 36,
    "start_time": "2022-05-26T04:57:22.323Z"
   },
   {
    "duration": 19,
    "start_time": "2022-05-26T04:57:22.361Z"
   },
   {
    "duration": 16,
    "start_time": "2022-05-26T04:57:22.383Z"
   },
   {
    "duration": 20,
    "start_time": "2022-05-26T04:57:22.401Z"
   },
   {
    "duration": 17,
    "start_time": "2022-05-26T04:57:22.423Z"
   },
   {
    "duration": 5,
    "start_time": "2022-05-26T04:57:22.442Z"
   },
   {
    "duration": 50,
    "start_time": "2022-05-26T04:57:22.455Z"
   },
   {
    "duration": 232,
    "start_time": "2022-05-26T04:57:22.507Z"
   },
   {
    "duration": 1219,
    "start_time": "2022-05-26T04:59:19.389Z"
   },
   {
    "duration": 3,
    "start_time": "2022-05-26T04:59:20.610Z"
   },
   {
    "duration": 478,
    "start_time": "2022-05-26T04:59:20.615Z"
   },
   {
    "duration": 13,
    "start_time": "2022-05-26T04:59:21.096Z"
   },
   {
    "duration": 17,
    "start_time": "2022-05-26T04:59:21.111Z"
   },
   {
    "duration": 35,
    "start_time": "2022-05-26T04:59:21.130Z"
   },
   {
    "duration": 21,
    "start_time": "2022-05-26T04:59:21.168Z"
   },
   {
    "duration": 18,
    "start_time": "2022-05-26T04:59:21.191Z"
   },
   {
    "duration": 52,
    "start_time": "2022-05-26T04:59:21.211Z"
   },
   {
    "duration": 24,
    "start_time": "2022-05-26T04:59:21.266Z"
   },
   {
    "duration": 13,
    "start_time": "2022-05-26T04:59:21.292Z"
   },
   {
    "duration": 14,
    "start_time": "2022-05-26T04:59:21.307Z"
   },
   {
    "duration": 77,
    "start_time": "2022-05-26T04:59:21.323Z"
   },
   {
    "duration": 42,
    "start_time": "2022-05-26T04:59:21.402Z"
   },
   {
    "duration": 375,
    "start_time": "2022-05-26T04:59:21.459Z"
   },
   {
    "duration": 251,
    "start_time": "2022-05-26T04:59:21.835Z"
   },
   {
    "duration": 23,
    "start_time": "2022-05-26T04:59:22.088Z"
   },
   {
    "duration": 85,
    "start_time": "2022-05-26T04:59:22.113Z"
   },
   {
    "duration": 21,
    "start_time": "2022-05-26T04:59:22.200Z"
   },
   {
    "duration": 23,
    "start_time": "2022-05-26T04:59:22.223Z"
   },
   {
    "duration": 445,
    "start_time": "2022-05-26T04:59:22.248Z"
   },
   {
    "duration": 234,
    "start_time": "2022-05-26T04:59:22.695Z"
   },
   {
    "duration": 31,
    "start_time": "2022-05-26T04:59:22.931Z"
   },
   {
    "duration": 48,
    "start_time": "2022-05-26T04:59:22.964Z"
   },
   {
    "duration": 18,
    "start_time": "2022-05-26T04:59:23.015Z"
   },
   {
    "duration": 27,
    "start_time": "2022-05-26T04:59:23.035Z"
   },
   {
    "duration": 258,
    "start_time": "2022-05-26T04:59:23.070Z"
   },
   {
    "duration": 6,
    "start_time": "2022-05-26T04:59:23.332Z"
   },
   {
    "duration": 29,
    "start_time": "2022-05-26T04:59:23.340Z"
   },
   {
    "duration": 24,
    "start_time": "2022-05-26T04:59:23.371Z"
   },
   {
    "duration": 8,
    "start_time": "2022-05-26T04:59:23.397Z"
   },
   {
    "duration": 14,
    "start_time": "2022-05-26T04:59:23.407Z"
   },
   {
    "duration": 33,
    "start_time": "2022-05-26T04:59:23.423Z"
   },
   {
    "duration": 55,
    "start_time": "2022-05-26T04:59:23.461Z"
   },
   {
    "duration": 8,
    "start_time": "2022-05-26T04:59:23.517Z"
   },
   {
    "duration": 13,
    "start_time": "2022-05-26T04:59:23.527Z"
   },
   {
    "duration": 42,
    "start_time": "2022-05-26T04:59:23.542Z"
   },
   {
    "duration": 10,
    "start_time": "2022-05-26T04:59:23.587Z"
   },
   {
    "duration": 16,
    "start_time": "2022-05-26T04:59:23.600Z"
   },
   {
    "duration": 50,
    "start_time": "2022-05-26T04:59:23.618Z"
   },
   {
    "duration": 10,
    "start_time": "2022-05-26T04:59:23.672Z"
   },
   {
    "duration": 42,
    "start_time": "2022-05-26T04:59:23.684Z"
   },
   {
    "duration": 16,
    "start_time": "2022-05-26T04:59:23.728Z"
   },
   {
    "duration": 12,
    "start_time": "2022-05-26T04:59:23.746Z"
   },
   {
    "duration": 31,
    "start_time": "2022-05-26T04:59:23.759Z"
   },
   {
    "duration": 24,
    "start_time": "2022-05-26T04:59:23.792Z"
   },
   {
    "duration": 24,
    "start_time": "2022-05-26T04:59:23.817Z"
   },
   {
    "duration": 26,
    "start_time": "2022-05-26T04:59:23.844Z"
   },
   {
    "duration": 10,
    "start_time": "2022-05-26T04:59:23.874Z"
   },
   {
    "duration": 13,
    "start_time": "2022-05-26T04:59:23.885Z"
   },
   {
    "duration": 18,
    "start_time": "2022-05-26T04:59:23.900Z"
   },
   {
    "duration": 6,
    "start_time": "2022-05-26T04:59:23.920Z"
   },
   {
    "duration": 47,
    "start_time": "2022-05-26T04:59:23.928Z"
   },
   {
    "duration": 215,
    "start_time": "2022-05-26T04:59:23.978Z"
   },
   {
    "duration": 1280,
    "start_time": "2022-05-26T05:12:13.194Z"
   },
   {
    "duration": 3,
    "start_time": "2022-05-26T05:12:14.477Z"
   },
   {
    "duration": 525,
    "start_time": "2022-05-26T05:12:14.488Z"
   },
   {
    "duration": 17,
    "start_time": "2022-05-26T05:12:15.016Z"
   },
   {
    "duration": 31,
    "start_time": "2022-05-26T05:12:15.035Z"
   },
   {
    "duration": 41,
    "start_time": "2022-05-26T05:12:15.074Z"
   },
   {
    "duration": 38,
    "start_time": "2022-05-26T05:12:15.122Z"
   },
   {
    "duration": 76,
    "start_time": "2022-05-26T05:12:15.162Z"
   },
   {
    "duration": 137,
    "start_time": "2022-05-26T05:12:15.241Z"
   },
   {
    "duration": 63,
    "start_time": "2022-05-26T05:12:15.382Z"
   },
   {
    "duration": 56,
    "start_time": "2022-05-26T05:12:15.447Z"
   },
   {
    "duration": 12,
    "start_time": "2022-05-26T05:12:15.505Z"
   },
   {
    "duration": 100,
    "start_time": "2022-05-26T05:12:15.520Z"
   },
   {
    "duration": 67,
    "start_time": "2022-05-26T05:12:15.622Z"
   },
   {
    "duration": 383,
    "start_time": "2022-05-26T05:12:15.691Z"
   },
   {
    "duration": 241,
    "start_time": "2022-05-26T05:12:16.081Z"
   },
   {
    "duration": 22,
    "start_time": "2022-05-26T05:12:16.324Z"
   },
   {
    "duration": 68,
    "start_time": "2022-05-26T05:12:16.348Z"
   },
   {
    "duration": 16,
    "start_time": "2022-05-26T05:12:16.418Z"
   },
   {
    "duration": 58,
    "start_time": "2022-05-26T05:12:16.436Z"
   },
   {
    "duration": 428,
    "start_time": "2022-05-26T05:12:16.497Z"
   },
   {
    "duration": 232,
    "start_time": "2022-05-26T05:12:16.927Z"
   },
   {
    "duration": 25,
    "start_time": "2022-05-26T05:12:17.161Z"
   },
   {
    "duration": 45,
    "start_time": "2022-05-26T05:12:17.190Z"
   },
   {
    "duration": 50,
    "start_time": "2022-05-26T05:12:17.236Z"
   },
   {
    "duration": 31,
    "start_time": "2022-05-26T05:12:17.288Z"
   },
   {
    "duration": 261,
    "start_time": "2022-05-26T05:12:17.321Z"
   },
   {
    "duration": 6,
    "start_time": "2022-05-26T05:12:17.586Z"
   },
   {
    "duration": 16,
    "start_time": "2022-05-26T05:12:17.594Z"
   },
   {
    "duration": 11,
    "start_time": "2022-05-26T05:12:17.612Z"
   },
   {
    "duration": 37,
    "start_time": "2022-05-26T05:12:17.625Z"
   },
   {
    "duration": 15,
    "start_time": "2022-05-26T05:12:17.669Z"
   },
   {
    "duration": 15,
    "start_time": "2022-05-26T05:12:17.686Z"
   },
   {
    "duration": 38,
    "start_time": "2022-05-26T05:12:17.703Z"
   },
   {
    "duration": 30,
    "start_time": "2022-05-26T05:12:17.744Z"
   },
   {
    "duration": 31,
    "start_time": "2022-05-26T05:12:17.777Z"
   },
   {
    "duration": 39,
    "start_time": "2022-05-26T05:12:17.810Z"
   },
   {
    "duration": 27,
    "start_time": "2022-05-26T05:12:17.858Z"
   },
   {
    "duration": 25,
    "start_time": "2022-05-26T05:12:17.890Z"
   },
   {
    "duration": 33,
    "start_time": "2022-05-26T05:12:17.917Z"
   },
   {
    "duration": 15,
    "start_time": "2022-05-26T05:12:17.952Z"
   },
   {
    "duration": 39,
    "start_time": "2022-05-26T05:12:17.974Z"
   },
   {
    "duration": 26,
    "start_time": "2022-05-26T05:12:18.015Z"
   },
   {
    "duration": 20,
    "start_time": "2022-05-26T05:12:18.043Z"
   },
   {
    "duration": 37,
    "start_time": "2022-05-26T05:12:18.066Z"
   },
   {
    "duration": 37,
    "start_time": "2022-05-26T05:12:18.105Z"
   },
   {
    "duration": 45,
    "start_time": "2022-05-26T05:12:18.144Z"
   },
   {
    "duration": 18,
    "start_time": "2022-05-26T05:12:18.191Z"
   },
   {
    "duration": 17,
    "start_time": "2022-05-26T05:12:18.214Z"
   },
   {
    "duration": 23,
    "start_time": "2022-05-26T05:12:18.234Z"
   },
   {
    "duration": 24,
    "start_time": "2022-05-26T05:12:18.261Z"
   },
   {
    "duration": 8,
    "start_time": "2022-05-26T05:12:18.287Z"
   },
   {
    "duration": 40,
    "start_time": "2022-05-26T05:12:18.297Z"
   },
   {
    "duration": 257,
    "start_time": "2022-05-26T05:12:18.343Z"
   },
   {
    "duration": 1163,
    "start_time": "2022-05-26T05:28:31.407Z"
   },
   {
    "duration": 5,
    "start_time": "2022-05-26T05:28:32.577Z"
   },
   {
    "duration": 445,
    "start_time": "2022-05-26T05:28:32.585Z"
   },
   {
    "duration": 11,
    "start_time": "2022-05-26T05:28:33.032Z"
   },
   {
    "duration": 23,
    "start_time": "2022-05-26T05:28:33.044Z"
   },
   {
    "duration": 24,
    "start_time": "2022-05-26T05:28:33.071Z"
   },
   {
    "duration": 10,
    "start_time": "2022-05-26T05:28:33.096Z"
   },
   {
    "duration": 10,
    "start_time": "2022-05-26T05:28:33.108Z"
   },
   {
    "duration": 36,
    "start_time": "2022-05-26T05:28:33.120Z"
   },
   {
    "duration": 34,
    "start_time": "2022-05-26T05:28:33.160Z"
   },
   {
    "duration": 9,
    "start_time": "2022-05-26T05:28:33.196Z"
   },
   {
    "duration": 16,
    "start_time": "2022-05-26T05:28:33.206Z"
   },
   {
    "duration": 81,
    "start_time": "2022-05-26T05:28:33.224Z"
   },
   {
    "duration": 60,
    "start_time": "2022-05-26T05:28:33.307Z"
   },
   {
    "duration": 316,
    "start_time": "2022-05-26T05:28:33.368Z"
   },
   {
    "duration": 202,
    "start_time": "2022-05-26T05:28:33.687Z"
   },
   {
    "duration": 24,
    "start_time": "2022-05-26T05:28:33.891Z"
   },
   {
    "duration": 76,
    "start_time": "2022-05-26T05:28:33.916Z"
   },
   {
    "duration": 18,
    "start_time": "2022-05-26T05:28:33.994Z"
   },
   {
    "duration": 22,
    "start_time": "2022-05-26T05:28:34.014Z"
   },
   {
    "duration": 380,
    "start_time": "2022-05-26T05:28:34.037Z"
   },
   {
    "duration": 222,
    "start_time": "2022-05-26T05:28:34.419Z"
   },
   {
    "duration": 33,
    "start_time": "2022-05-26T05:28:34.644Z"
   },
   {
    "duration": 50,
    "start_time": "2022-05-26T05:28:34.680Z"
   },
   {
    "duration": 15,
    "start_time": "2022-05-26T05:28:34.732Z"
   },
   {
    "duration": 46,
    "start_time": "2022-05-26T05:28:34.752Z"
   },
   {
    "duration": 265,
    "start_time": "2022-05-26T05:28:34.800Z"
   },
   {
    "duration": 8,
    "start_time": "2022-05-26T05:28:35.078Z"
   },
   {
    "duration": 15,
    "start_time": "2022-05-26T05:28:35.089Z"
   },
   {
    "duration": 12,
    "start_time": "2022-05-26T05:28:35.106Z"
   },
   {
    "duration": 12,
    "start_time": "2022-05-26T05:28:35.119Z"
   },
   {
    "duration": 16,
    "start_time": "2022-05-26T05:28:35.133Z"
   },
   {
    "duration": 63,
    "start_time": "2022-05-26T05:28:35.151Z"
   },
   {
    "duration": 57,
    "start_time": "2022-05-26T05:28:35.216Z"
   },
   {
    "duration": 16,
    "start_time": "2022-05-26T05:28:35.278Z"
   },
   {
    "duration": 30,
    "start_time": "2022-05-26T05:28:35.296Z"
   },
   {
    "duration": 58,
    "start_time": "2022-05-26T05:28:35.328Z"
   },
   {
    "duration": 17,
    "start_time": "2022-05-26T05:28:35.389Z"
   },
   {
    "duration": 18,
    "start_time": "2022-05-26T05:28:35.409Z"
   },
   {
    "duration": 58,
    "start_time": "2022-05-26T05:28:35.429Z"
   },
   {
    "duration": 36,
    "start_time": "2022-05-26T05:28:35.490Z"
   },
   {
    "duration": 21,
    "start_time": "2022-05-26T05:28:35.528Z"
   },
   {
    "duration": 37,
    "start_time": "2022-05-26T05:28:35.551Z"
   },
   {
    "duration": 13,
    "start_time": "2022-05-26T05:28:35.592Z"
   },
   {
    "duration": 23,
    "start_time": "2022-05-26T05:28:35.607Z"
   },
   {
    "duration": 26,
    "start_time": "2022-05-26T05:28:35.632Z"
   },
   {
    "duration": 52,
    "start_time": "2022-05-26T05:28:35.662Z"
   },
   {
    "duration": 8,
    "start_time": "2022-05-26T05:28:35.716Z"
   },
   {
    "duration": 5,
    "start_time": "2022-05-26T05:28:35.725Z"
   },
   {
    "duration": 11,
    "start_time": "2022-05-26T05:28:35.731Z"
   },
   {
    "duration": 26,
    "start_time": "2022-05-26T05:28:35.744Z"
   },
   {
    "duration": 6,
    "start_time": "2022-05-26T05:28:35.780Z"
   },
   {
    "duration": 29,
    "start_time": "2022-05-26T05:28:35.788Z"
   },
   {
    "duration": 191,
    "start_time": "2022-05-26T05:28:35.819Z"
   },
   {
    "duration": 9,
    "start_time": "2022-05-26T05:57:36.267Z"
   },
   {
    "duration": 9,
    "start_time": "2022-05-26T05:57:41.100Z"
   },
   {
    "duration": 8,
    "start_time": "2022-05-26T05:57:45.664Z"
   },
   {
    "duration": 3,
    "start_time": "2022-05-26T06:00:54.024Z"
   },
   {
    "duration": 11,
    "start_time": "2022-05-26T06:01:10.647Z"
   },
   {
    "duration": 626,
    "start_time": "2022-05-26T06:01:14.000Z"
   },
   {
    "duration": 1088,
    "start_time": "2022-05-26T06:01:29.374Z"
   },
   {
    "duration": 3,
    "start_time": "2022-05-26T06:01:30.468Z"
   },
   {
    "duration": 461,
    "start_time": "2022-05-26T06:01:30.475Z"
   },
   {
    "duration": 12,
    "start_time": "2022-05-26T06:01:30.939Z"
   },
   {
    "duration": 26,
    "start_time": "2022-05-26T06:01:30.952Z"
   },
   {
    "duration": 15,
    "start_time": "2022-05-26T06:01:30.980Z"
   },
   {
    "duration": 15,
    "start_time": "2022-05-26T06:01:30.997Z"
   },
   {
    "duration": 19,
    "start_time": "2022-05-26T06:01:31.014Z"
   },
   {
    "duration": 49,
    "start_time": "2022-05-26T06:01:31.035Z"
   },
   {
    "duration": 21,
    "start_time": "2022-05-26T06:01:31.085Z"
   },
   {
    "duration": 33,
    "start_time": "2022-05-26T06:01:31.108Z"
   },
   {
    "duration": 24,
    "start_time": "2022-05-26T06:01:31.143Z"
   },
   {
    "duration": 77,
    "start_time": "2022-05-26T06:01:31.170Z"
   },
   {
    "duration": 44,
    "start_time": "2022-05-26T06:01:31.249Z"
   },
   {
    "duration": 283,
    "start_time": "2022-05-26T06:01:31.294Z"
   },
   {
    "duration": 191,
    "start_time": "2022-05-26T06:01:31.578Z"
   },
   {
    "duration": 23,
    "start_time": "2022-05-26T06:01:31.770Z"
   },
   {
    "duration": 72,
    "start_time": "2022-05-26T06:01:31.794Z"
   },
   {
    "duration": 23,
    "start_time": "2022-05-26T06:01:31.868Z"
   },
   {
    "duration": 23,
    "start_time": "2022-05-26T06:01:31.893Z"
   },
   {
    "duration": 345,
    "start_time": "2022-05-26T06:01:31.918Z"
   },
   {
    "duration": 206,
    "start_time": "2022-05-26T06:01:32.265Z"
   },
   {
    "duration": 20,
    "start_time": "2022-05-26T06:01:32.473Z"
   },
   {
    "duration": 40,
    "start_time": "2022-05-26T06:01:32.496Z"
   },
   {
    "duration": 26,
    "start_time": "2022-05-26T06:01:32.552Z"
   },
   {
    "duration": 31,
    "start_time": "2022-05-26T06:01:32.580Z"
   },
   {
    "duration": 271,
    "start_time": "2022-05-26T06:01:32.613Z"
   },
   {
    "duration": 6,
    "start_time": "2022-05-26T06:01:32.886Z"
   },
   {
    "duration": 30,
    "start_time": "2022-05-26T06:01:32.894Z"
   },
   {
    "duration": 9,
    "start_time": "2022-05-26T06:01:32.925Z"
   },
   {
    "duration": 7,
    "start_time": "2022-05-26T06:01:32.936Z"
   },
   {
    "duration": 21,
    "start_time": "2022-05-26T06:01:32.945Z"
   },
   {
    "duration": 14,
    "start_time": "2022-05-26T06:01:32.969Z"
   },
   {
    "duration": 38,
    "start_time": "2022-05-26T06:01:32.984Z"
   },
   {
    "duration": 7,
    "start_time": "2022-05-26T06:01:33.023Z"
   },
   {
    "duration": 11,
    "start_time": "2022-05-26T06:01:33.032Z"
   },
   {
    "duration": 22,
    "start_time": "2022-05-26T06:01:33.058Z"
   },
   {
    "duration": 7,
    "start_time": "2022-05-26T06:01:33.081Z"
   },
   {
    "duration": 12,
    "start_time": "2022-05-26T06:01:33.089Z"
   },
   {
    "duration": 23,
    "start_time": "2022-05-26T06:01:33.105Z"
   },
   {
    "duration": 26,
    "start_time": "2022-05-26T06:01:33.130Z"
   },
   {
    "duration": 29,
    "start_time": "2022-05-26T06:01:33.157Z"
   },
   {
    "duration": 14,
    "start_time": "2022-05-26T06:01:33.187Z"
   },
   {
    "duration": 7,
    "start_time": "2022-05-26T06:01:33.203Z"
   },
   {
    "duration": 20,
    "start_time": "2022-05-26T06:01:33.211Z"
   },
   {
    "duration": 32,
    "start_time": "2022-05-26T06:01:33.232Z"
   },
   {
    "duration": 21,
    "start_time": "2022-05-26T06:01:33.266Z"
   },
   {
    "duration": 8,
    "start_time": "2022-05-26T06:01:33.288Z"
   },
   {
    "duration": 6,
    "start_time": "2022-05-26T06:01:33.297Z"
   },
   {
    "duration": 9,
    "start_time": "2022-05-26T06:01:33.304Z"
   },
   {
    "duration": 12,
    "start_time": "2022-05-26T06:01:33.314Z"
   },
   {
    "duration": 32,
    "start_time": "2022-05-26T06:01:33.327Z"
   },
   {
    "duration": 23,
    "start_time": "2022-05-26T06:01:33.361Z"
   },
   {
    "duration": 6,
    "start_time": "2022-05-26T06:01:33.386Z"
   },
   {
    "duration": 130,
    "start_time": "2022-05-26T06:01:33.394Z"
   },
   {
    "duration": 38,
    "start_time": "2022-05-26T06:01:46.642Z"
   },
   {
    "duration": 1139,
    "start_time": "2022-05-26T06:01:51.531Z"
   },
   {
    "duration": 3,
    "start_time": "2022-05-26T06:01:52.676Z"
   },
   {
    "duration": 424,
    "start_time": "2022-05-26T06:01:52.681Z"
   },
   {
    "duration": 12,
    "start_time": "2022-05-26T06:01:53.107Z"
   },
   {
    "duration": 18,
    "start_time": "2022-05-26T06:01:53.121Z"
   },
   {
    "duration": 21,
    "start_time": "2022-05-26T06:01:53.140Z"
   },
   {
    "duration": 9,
    "start_time": "2022-05-26T06:01:53.165Z"
   },
   {
    "duration": 15,
    "start_time": "2022-05-26T06:01:53.176Z"
   },
   {
    "duration": 38,
    "start_time": "2022-05-26T06:01:53.192Z"
   },
   {
    "duration": 28,
    "start_time": "2022-05-26T06:01:53.232Z"
   },
   {
    "duration": 7,
    "start_time": "2022-05-26T06:01:53.265Z"
   },
   {
    "duration": 10,
    "start_time": "2022-05-26T06:01:53.274Z"
   },
   {
    "duration": 62,
    "start_time": "2022-05-26T06:01:53.285Z"
   },
   {
    "duration": 40,
    "start_time": "2022-05-26T06:01:53.350Z"
   },
   {
    "duration": 304,
    "start_time": "2022-05-26T06:01:53.391Z"
   },
   {
    "duration": 197,
    "start_time": "2022-05-26T06:01:53.697Z"
   },
   {
    "duration": 22,
    "start_time": "2022-05-26T06:01:53.895Z"
   },
   {
    "duration": 61,
    "start_time": "2022-05-26T06:01:53.919Z"
   },
   {
    "duration": 17,
    "start_time": "2022-05-26T06:01:53.982Z"
   },
   {
    "duration": 25,
    "start_time": "2022-05-26T06:01:54.001Z"
   },
   {
    "duration": 362,
    "start_time": "2022-05-26T06:01:54.028Z"
   },
   {
    "duration": 212,
    "start_time": "2022-05-26T06:01:54.392Z"
   },
   {
    "duration": 20,
    "start_time": "2022-05-26T06:01:54.606Z"
   },
   {
    "duration": 58,
    "start_time": "2022-05-26T06:01:54.628Z"
   },
   {
    "duration": 22,
    "start_time": "2022-05-26T06:01:54.688Z"
   },
   {
    "duration": 20,
    "start_time": "2022-05-26T06:01:54.712Z"
   },
   {
    "duration": 257,
    "start_time": "2022-05-26T06:01:54.734Z"
   },
   {
    "duration": 6,
    "start_time": "2022-05-26T06:01:54.993Z"
   },
   {
    "duration": 24,
    "start_time": "2022-05-26T06:01:55.001Z"
   },
   {
    "duration": 12,
    "start_time": "2022-05-26T06:01:55.026Z"
   },
   {
    "duration": 22,
    "start_time": "2022-05-26T06:01:55.040Z"
   },
   {
    "duration": 12,
    "start_time": "2022-05-26T06:01:55.068Z"
   },
   {
    "duration": 16,
    "start_time": "2022-05-26T06:01:55.081Z"
   },
   {
    "duration": 40,
    "start_time": "2022-05-26T06:01:55.099Z"
   },
   {
    "duration": 21,
    "start_time": "2022-05-26T06:01:55.141Z"
   },
   {
    "duration": 21,
    "start_time": "2022-05-26T06:01:55.163Z"
   },
   {
    "duration": 45,
    "start_time": "2022-05-26T06:01:55.186Z"
   },
   {
    "duration": 11,
    "start_time": "2022-05-26T06:01:55.233Z"
   },
   {
    "duration": 39,
    "start_time": "2022-05-26T06:01:55.246Z"
   },
   {
    "duration": 36,
    "start_time": "2022-05-26T06:01:55.286Z"
   },
   {
    "duration": 9,
    "start_time": "2022-05-26T06:01:55.327Z"
   },
   {
    "duration": 30,
    "start_time": "2022-05-26T06:01:55.339Z"
   },
   {
    "duration": 23,
    "start_time": "2022-05-26T06:01:55.372Z"
   },
   {
    "duration": 18,
    "start_time": "2022-05-26T06:01:55.397Z"
   },
   {
    "duration": 25,
    "start_time": "2022-05-26T06:01:55.418Z"
   },
   {
    "duration": 48,
    "start_time": "2022-05-26T06:01:55.445Z"
   },
   {
    "duration": 21,
    "start_time": "2022-05-26T06:01:55.495Z"
   },
   {
    "duration": 9,
    "start_time": "2022-05-26T06:01:55.517Z"
   },
   {
    "duration": 5,
    "start_time": "2022-05-26T06:01:55.527Z"
   },
   {
    "duration": 28,
    "start_time": "2022-05-26T06:01:55.534Z"
   },
   {
    "duration": 13,
    "start_time": "2022-05-26T06:01:55.564Z"
   },
   {
    "duration": 6,
    "start_time": "2022-05-26T06:01:55.579Z"
   },
   {
    "duration": 19,
    "start_time": "2022-05-26T06:01:55.588Z"
   },
   {
    "duration": 179,
    "start_time": "2022-05-26T06:01:55.609Z"
   },
   {
    "duration": 1511,
    "start_time": "2022-06-07T18:12:27.092Z"
   },
   {
    "duration": 3,
    "start_time": "2022-06-07T18:12:28.606Z"
   },
   {
    "duration": 1354,
    "start_time": "2022-06-07T18:12:28.611Z"
   },
   {
    "duration": 17,
    "start_time": "2022-06-07T18:12:29.970Z"
   },
   {
    "duration": 26,
    "start_time": "2022-06-07T18:12:29.990Z"
   },
   {
    "duration": 31,
    "start_time": "2022-06-07T18:12:30.018Z"
   },
   {
    "duration": 33,
    "start_time": "2022-06-07T18:12:30.055Z"
   },
   {
    "duration": 20,
    "start_time": "2022-06-07T18:12:30.090Z"
   },
   {
    "duration": 65,
    "start_time": "2022-06-07T18:12:30.112Z"
   },
   {
    "duration": 35,
    "start_time": "2022-06-07T18:12:30.181Z"
   },
   {
    "duration": 55,
    "start_time": "2022-06-07T18:12:30.218Z"
   },
   {
    "duration": 15,
    "start_time": "2022-06-07T18:12:30.275Z"
   },
   {
    "duration": 95,
    "start_time": "2022-06-07T18:12:30.293Z"
   },
   {
    "duration": 44,
    "start_time": "2022-06-07T18:12:30.390Z"
   },
   {
    "duration": 351,
    "start_time": "2022-06-07T18:12:30.436Z"
   },
   {
    "duration": 211,
    "start_time": "2022-06-07T18:12:30.789Z"
   },
   {
    "duration": 50,
    "start_time": "2022-06-07T18:12:31.002Z"
   },
   {
    "duration": 76,
    "start_time": "2022-06-07T18:12:31.055Z"
   },
   {
    "duration": 70,
    "start_time": "2022-06-07T18:12:31.133Z"
   },
   {
    "duration": 51,
    "start_time": "2022-06-07T18:12:31.205Z"
   },
   {
    "duration": 424,
    "start_time": "2022-06-07T18:12:31.258Z"
   },
   {
    "duration": 240,
    "start_time": "2022-06-07T18:12:31.684Z"
   },
   {
    "duration": 32,
    "start_time": "2022-06-07T18:12:31.926Z"
   },
   {
    "duration": 98,
    "start_time": "2022-06-07T18:12:31.960Z"
   },
   {
    "duration": 53,
    "start_time": "2022-06-07T18:12:32.061Z"
   },
   {
    "duration": 75,
    "start_time": "2022-06-07T18:12:32.116Z"
   },
   {
    "duration": 357,
    "start_time": "2022-06-07T18:12:32.193Z"
   },
   {
    "duration": 6,
    "start_time": "2022-06-07T18:12:32.556Z"
   },
   {
    "duration": 131,
    "start_time": "2022-06-07T18:12:32.565Z"
   },
   {
    "duration": 96,
    "start_time": "2022-06-07T18:12:32.698Z"
   },
   {
    "duration": 16,
    "start_time": "2022-06-07T18:12:32.798Z"
   },
   {
    "duration": 66,
    "start_time": "2022-06-07T18:12:32.816Z"
   },
   {
    "duration": 22,
    "start_time": "2022-06-07T18:12:32.886Z"
   },
   {
    "duration": 149,
    "start_time": "2022-06-07T18:12:32.909Z"
   },
   {
    "duration": 57,
    "start_time": "2022-06-07T18:12:33.060Z"
   },
   {
    "duration": 85,
    "start_time": "2022-06-07T18:12:33.119Z"
   },
   {
    "duration": 54,
    "start_time": "2022-06-07T18:12:33.206Z"
   },
   {
    "duration": 45,
    "start_time": "2022-06-07T18:12:33.266Z"
   },
   {
    "duration": 84,
    "start_time": "2022-06-07T18:12:33.315Z"
   },
   {
    "duration": 37,
    "start_time": "2022-06-07T18:12:33.403Z"
   },
   {
    "duration": 22,
    "start_time": "2022-06-07T18:12:33.453Z"
   },
   {
    "duration": 18,
    "start_time": "2022-06-07T18:12:33.478Z"
   },
   {
    "duration": 19,
    "start_time": "2022-06-07T18:12:33.498Z"
   },
   {
    "duration": 31,
    "start_time": "2022-06-07T18:12:33.519Z"
   },
   {
    "duration": 49,
    "start_time": "2022-06-07T18:12:33.552Z"
   },
   {
    "duration": 39,
    "start_time": "2022-06-07T18:12:33.603Z"
   },
   {
    "duration": 33,
    "start_time": "2022-06-07T18:12:33.644Z"
   },
   {
    "duration": 19,
    "start_time": "2022-06-07T18:12:33.679Z"
   },
   {
    "duration": 7,
    "start_time": "2022-06-07T18:12:33.703Z"
   },
   {
    "duration": 16,
    "start_time": "2022-06-07T18:12:33.715Z"
   },
   {
    "duration": 67,
    "start_time": "2022-06-07T18:12:33.733Z"
   },
   {
    "duration": 6,
    "start_time": "2022-06-07T18:12:33.802Z"
   },
   {
    "duration": 28,
    "start_time": "2022-06-07T18:12:33.810Z"
   },
   {
    "duration": 280,
    "start_time": "2022-06-07T18:12:33.840Z"
   },
   {
    "duration": 1614,
    "start_time": "2022-06-09T06:33:48.198Z"
   },
   {
    "duration": 11,
    "start_time": "2022-06-09T06:33:49.816Z"
   },
   {
    "duration": 1326,
    "start_time": "2022-06-09T06:33:49.830Z"
   },
   {
    "duration": 21,
    "start_time": "2022-06-09T06:33:51.159Z"
   },
   {
    "duration": 14,
    "start_time": "2022-06-09T06:33:51.184Z"
   },
   {
    "duration": 14,
    "start_time": "2022-06-09T06:33:51.200Z"
   },
   {
    "duration": 17,
    "start_time": "2022-06-09T06:33:51.217Z"
   },
   {
    "duration": 26,
    "start_time": "2022-06-09T06:33:51.237Z"
   },
   {
    "duration": 73,
    "start_time": "2022-06-09T06:33:51.266Z"
   },
   {
    "duration": 46,
    "start_time": "2022-06-09T06:33:51.342Z"
   },
   {
    "duration": 14,
    "start_time": "2022-06-09T06:33:51.391Z"
   },
   {
    "duration": 9,
    "start_time": "2022-06-09T06:33:51.425Z"
   },
   {
    "duration": 110,
    "start_time": "2022-06-09T06:33:51.437Z"
   },
   {
    "duration": 60,
    "start_time": "2022-06-09T06:33:51.553Z"
   },
   {
    "duration": 352,
    "start_time": "2022-06-09T06:33:51.627Z"
   },
   {
    "duration": 228,
    "start_time": "2022-06-09T06:33:51.982Z"
   },
   {
    "duration": 30,
    "start_time": "2022-06-09T06:33:52.212Z"
   },
   {
    "duration": 81,
    "start_time": "2022-06-09T06:33:52.245Z"
   },
   {
    "duration": 20,
    "start_time": "2022-06-09T06:33:52.328Z"
   },
   {
    "duration": 29,
    "start_time": "2022-06-09T06:33:52.351Z"
   },
   {
    "duration": 394,
    "start_time": "2022-06-09T06:33:52.383Z"
   },
   {
    "duration": 266,
    "start_time": "2022-06-09T06:33:52.780Z"
   },
   {
    "duration": 23,
    "start_time": "2022-06-09T06:33:53.048Z"
   },
   {
    "duration": 69,
    "start_time": "2022-06-09T06:33:53.074Z"
   },
   {
    "duration": 27,
    "start_time": "2022-06-09T06:33:53.146Z"
   },
   {
    "duration": 50,
    "start_time": "2022-06-09T06:33:53.176Z"
   },
   {
    "duration": 291,
    "start_time": "2022-06-09T06:33:53.229Z"
   },
   {
    "duration": 8,
    "start_time": "2022-06-09T06:33:53.525Z"
   },
   {
    "duration": 20,
    "start_time": "2022-06-09T06:33:53.535Z"
   },
   {
    "duration": 19,
    "start_time": "2022-06-09T06:33:53.557Z"
   },
   {
    "duration": 13,
    "start_time": "2022-06-09T06:33:53.578Z"
   },
   {
    "duration": 39,
    "start_time": "2022-06-09T06:33:53.593Z"
   },
   {
    "duration": 24,
    "start_time": "2022-06-09T06:33:53.635Z"
   },
   {
    "duration": 71,
    "start_time": "2022-06-09T06:33:53.661Z"
   },
   {
    "duration": 19,
    "start_time": "2022-06-09T06:33:53.735Z"
   },
   {
    "duration": 19,
    "start_time": "2022-06-09T06:33:53.756Z"
   },
   {
    "duration": 48,
    "start_time": "2022-06-09T06:33:53.778Z"
   },
   {
    "duration": 11,
    "start_time": "2022-06-09T06:33:53.829Z"
   },
   {
    "duration": 17,
    "start_time": "2022-06-09T06:33:53.843Z"
   },
   {
    "duration": 63,
    "start_time": "2022-06-09T06:33:53.863Z"
   },
   {
    "duration": 16,
    "start_time": "2022-06-09T06:33:53.933Z"
   },
   {
    "duration": 37,
    "start_time": "2022-06-09T06:33:53.952Z"
   },
   {
    "duration": 36,
    "start_time": "2022-06-09T06:33:53.991Z"
   },
   {
    "duration": 15,
    "start_time": "2022-06-09T06:33:54.030Z"
   },
   {
    "duration": 35,
    "start_time": "2022-06-09T06:33:54.048Z"
   },
   {
    "duration": 34,
    "start_time": "2022-06-09T06:33:54.086Z"
   },
   {
    "duration": 35,
    "start_time": "2022-06-09T06:33:54.126Z"
   },
   {
    "duration": 14,
    "start_time": "2022-06-09T06:33:54.163Z"
   },
   {
    "duration": 12,
    "start_time": "2022-06-09T06:33:54.179Z"
   },
   {
    "duration": 43,
    "start_time": "2022-06-09T06:33:54.194Z"
   },
   {
    "duration": 18,
    "start_time": "2022-06-09T06:33:54.240Z"
   },
   {
    "duration": 7,
    "start_time": "2022-06-09T06:33:54.264Z"
   },
   {
    "duration": 55,
    "start_time": "2022-06-09T06:33:54.274Z"
   },
   {
    "duration": 239,
    "start_time": "2022-06-09T06:33:54.331Z"
   },
   {
    "duration": 1258,
    "start_time": "2022-06-09T06:34:19.173Z"
   },
   {
    "duration": 5,
    "start_time": "2022-06-09T06:34:20.434Z"
   },
   {
    "duration": 541,
    "start_time": "2022-06-09T06:34:20.442Z"
   },
   {
    "duration": 18,
    "start_time": "2022-06-09T06:34:20.986Z"
   },
   {
    "duration": 17,
    "start_time": "2022-06-09T06:34:21.008Z"
   },
   {
    "duration": 20,
    "start_time": "2022-06-09T06:34:21.028Z"
   },
   {
    "duration": 18,
    "start_time": "2022-06-09T06:34:21.051Z"
   },
   {
    "duration": 17,
    "start_time": "2022-06-09T06:34:21.072Z"
   },
   {
    "duration": 64,
    "start_time": "2022-06-09T06:34:21.091Z"
   },
   {
    "duration": 25,
    "start_time": "2022-06-09T06:34:21.157Z"
   },
   {
    "duration": 11,
    "start_time": "2022-06-09T06:34:21.185Z"
   },
   {
    "duration": 30,
    "start_time": "2022-06-09T06:34:21.198Z"
   },
   {
    "duration": 97,
    "start_time": "2022-06-09T06:34:21.231Z"
   },
   {
    "duration": 67,
    "start_time": "2022-06-09T06:34:21.332Z"
   },
   {
    "duration": 404,
    "start_time": "2022-06-09T06:34:21.401Z"
   },
   {
    "duration": 232,
    "start_time": "2022-06-09T06:34:21.807Z"
   },
   {
    "duration": 28,
    "start_time": "2022-06-09T06:34:22.041Z"
   },
   {
    "duration": 95,
    "start_time": "2022-06-09T06:34:22.071Z"
   },
   {
    "duration": 33,
    "start_time": "2022-06-09T06:34:22.168Z"
   },
   {
    "duration": 48,
    "start_time": "2022-06-09T06:34:22.204Z"
   },
   {
    "duration": 335,
    "start_time": "2022-06-09T06:34:22.255Z"
   },
   {
    "duration": 246,
    "start_time": "2022-06-09T06:34:22.593Z"
   },
   {
    "duration": 24,
    "start_time": "2022-06-09T06:34:22.842Z"
   },
   {
    "duration": 63,
    "start_time": "2022-06-09T06:34:22.868Z"
   },
   {
    "duration": 18,
    "start_time": "2022-06-09T06:34:22.934Z"
   },
   {
    "duration": 37,
    "start_time": "2022-06-09T06:34:22.954Z"
   },
   {
    "duration": 304,
    "start_time": "2022-06-09T06:34:22.993Z"
   },
   {
    "duration": 11,
    "start_time": "2022-06-09T06:34:23.300Z"
   },
   {
    "duration": 36,
    "start_time": "2022-06-09T06:34:23.313Z"
   },
   {
    "duration": 44,
    "start_time": "2022-06-09T06:34:23.352Z"
   },
   {
    "duration": 27,
    "start_time": "2022-06-09T06:34:23.399Z"
   },
   {
    "duration": 47,
    "start_time": "2022-06-09T06:34:23.430Z"
   },
   {
    "duration": 52,
    "start_time": "2022-06-09T06:34:23.480Z"
   },
   {
    "duration": 83,
    "start_time": "2022-06-09T06:34:23.534Z"
   },
   {
    "duration": 10,
    "start_time": "2022-06-09T06:34:23.620Z"
   },
   {
    "duration": 38,
    "start_time": "2022-06-09T06:34:23.632Z"
   },
   {
    "duration": 67,
    "start_time": "2022-06-09T06:34:23.673Z"
   },
   {
    "duration": 13,
    "start_time": "2022-06-09T06:34:23.744Z"
   },
   {
    "duration": 47,
    "start_time": "2022-06-09T06:34:23.759Z"
   },
   {
    "duration": 62,
    "start_time": "2022-06-09T06:34:23.808Z"
   },
   {
    "duration": 14,
    "start_time": "2022-06-09T06:34:23.877Z"
   },
   {
    "duration": 24,
    "start_time": "2022-06-09T06:34:23.893Z"
   },
   {
    "duration": 28,
    "start_time": "2022-06-09T06:34:23.927Z"
   },
   {
    "duration": 16,
    "start_time": "2022-06-09T06:34:23.958Z"
   },
   {
    "duration": 51,
    "start_time": "2022-06-09T06:34:23.976Z"
   },
   {
    "duration": 31,
    "start_time": "2022-06-09T06:34:24.031Z"
   },
   {
    "duration": 34,
    "start_time": "2022-06-09T06:34:24.065Z"
   },
   {
    "duration": 33,
    "start_time": "2022-06-09T06:34:24.102Z"
   },
   {
    "duration": 9,
    "start_time": "2022-06-09T06:34:24.138Z"
   },
   {
    "duration": 14,
    "start_time": "2022-06-09T06:34:24.149Z"
   },
   {
    "duration": 18,
    "start_time": "2022-06-09T06:34:24.166Z"
   },
   {
    "duration": 42,
    "start_time": "2022-06-09T06:34:24.187Z"
   },
   {
    "duration": 20,
    "start_time": "2022-06-09T06:34:24.231Z"
   },
   {
    "duration": 152,
    "start_time": "2022-06-09T06:34:24.254Z"
   },
   {
    "duration": 50,
    "start_time": "2022-06-09T09:05:16.704Z"
   },
   {
    "duration": 1287,
    "start_time": "2022-06-09T09:05:29.751Z"
   },
   {
    "duration": 2,
    "start_time": "2022-06-09T09:05:31.040Z"
   },
   {
    "duration": 1298,
    "start_time": "2022-06-09T09:05:31.043Z"
   },
   {
    "duration": 12,
    "start_time": "2022-06-09T09:05:32.343Z"
   },
   {
    "duration": 21,
    "start_time": "2022-06-09T09:05:32.357Z"
   },
   {
    "duration": 10,
    "start_time": "2022-06-09T09:05:32.379Z"
   },
   {
    "duration": 19,
    "start_time": "2022-06-09T09:05:32.391Z"
   },
   {
    "duration": 14,
    "start_time": "2022-06-09T09:05:32.411Z"
   },
   {
    "duration": 40,
    "start_time": "2022-06-09T09:05:32.427Z"
   },
   {
    "duration": 22,
    "start_time": "2022-06-09T09:05:32.471Z"
   },
   {
    "duration": 6,
    "start_time": "2022-06-09T09:05:32.495Z"
   },
   {
    "duration": 10,
    "start_time": "2022-06-09T09:05:32.502Z"
   },
   {
    "duration": 83,
    "start_time": "2022-06-09T09:05:32.514Z"
   },
   {
    "duration": 44,
    "start_time": "2022-06-09T09:05:32.599Z"
   },
   {
    "duration": 297,
    "start_time": "2022-06-09T09:05:32.645Z"
   },
   {
    "duration": 183,
    "start_time": "2022-06-09T09:05:32.943Z"
   },
   {
    "duration": 34,
    "start_time": "2022-06-09T09:05:33.127Z"
   },
   {
    "duration": 54,
    "start_time": "2022-06-09T09:05:33.163Z"
   },
   {
    "duration": 17,
    "start_time": "2022-06-09T09:05:33.219Z"
   },
   {
    "duration": 33,
    "start_time": "2022-06-09T09:05:33.238Z"
   },
   {
    "duration": 268,
    "start_time": "2022-06-09T09:05:33.273Z"
   },
   {
    "duration": 206,
    "start_time": "2022-06-09T09:05:33.544Z"
   },
   {
    "duration": 23,
    "start_time": "2022-06-09T09:05:33.758Z"
   },
   {
    "duration": 40,
    "start_time": "2022-06-09T09:05:33.782Z"
   },
   {
    "duration": 15,
    "start_time": "2022-06-09T09:05:33.824Z"
   },
   {
    "duration": 15,
    "start_time": "2022-06-09T09:05:33.858Z"
   },
   {
    "duration": 245,
    "start_time": "2022-06-09T09:05:33.874Z"
   },
   {
    "duration": 5,
    "start_time": "2022-06-09T09:05:34.123Z"
   },
   {
    "duration": 14,
    "start_time": "2022-06-09T09:05:34.130Z"
   },
   {
    "duration": 18,
    "start_time": "2022-06-09T09:05:34.145Z"
   },
   {
    "duration": 5,
    "start_time": "2022-06-09T09:05:34.165Z"
   },
   {
    "duration": 14,
    "start_time": "2022-06-09T09:05:34.171Z"
   },
   {
    "duration": 13,
    "start_time": "2022-06-09T09:05:34.186Z"
   },
   {
    "duration": 61,
    "start_time": "2022-06-09T09:05:34.200Z"
   },
   {
    "duration": 7,
    "start_time": "2022-06-09T09:05:34.262Z"
   },
   {
    "duration": 10,
    "start_time": "2022-06-09T09:05:34.271Z"
   },
   {
    "duration": 24,
    "start_time": "2022-06-09T09:05:34.283Z"
   },
   {
    "duration": 7,
    "start_time": "2022-06-09T09:05:34.308Z"
   },
   {
    "duration": 15,
    "start_time": "2022-06-09T09:05:34.317Z"
   },
   {
    "duration": 43,
    "start_time": "2022-06-09T09:05:34.334Z"
   },
   {
    "duration": 6,
    "start_time": "2022-06-09T09:05:34.379Z"
   },
   {
    "duration": 21,
    "start_time": "2022-06-09T09:05:34.387Z"
   },
   {
    "duration": 14,
    "start_time": "2022-06-09T09:05:34.410Z"
   },
   {
    "duration": 7,
    "start_time": "2022-06-09T09:05:34.426Z"
   },
   {
    "duration": 11,
    "start_time": "2022-06-09T09:05:34.458Z"
   },
   {
    "duration": 19,
    "start_time": "2022-06-09T09:05:34.470Z"
   },
   {
    "duration": 18,
    "start_time": "2022-06-09T09:05:34.491Z"
   },
   {
    "duration": 8,
    "start_time": "2022-06-09T09:05:34.511Z"
   },
   {
    "duration": 39,
    "start_time": "2022-06-09T09:05:34.520Z"
   },
   {
    "duration": 9,
    "start_time": "2022-06-09T09:05:34.561Z"
   },
   {
    "duration": 13,
    "start_time": "2022-06-09T09:05:34.572Z"
   },
   {
    "duration": 3,
    "start_time": "2022-06-09T09:05:34.587Z"
   },
   {
    "duration": 18,
    "start_time": "2022-06-09T09:05:34.591Z"
   },
   {
    "duration": 143,
    "start_time": "2022-06-09T09:05:34.611Z"
   },
   {
    "duration": 125,
    "start_time": "2022-06-09T09:05:34.758Z"
   },
   {
    "duration": 0,
    "start_time": "2022-06-09T09:05:34.884Z"
   },
   {
    "duration": 5,
    "start_time": "2022-06-09T09:06:50.907Z"
   },
   {
    "duration": 18,
    "start_time": "2022-06-09T09:06:52.109Z"
   },
   {
    "duration": 16,
    "start_time": "2022-06-09T09:19:55.831Z"
   },
   {
    "duration": 5,
    "start_time": "2022-06-09T09:20:05.471Z"
   },
   {
    "duration": 10,
    "start_time": "2022-06-09T09:54:20.128Z"
   },
   {
    "duration": 8,
    "start_time": "2022-06-09T09:55:51.625Z"
   },
   {
    "duration": 12,
    "start_time": "2022-06-09T09:55:58.524Z"
   },
   {
    "duration": 8,
    "start_time": "2022-06-09T09:57:06.149Z"
   },
   {
    "duration": 9,
    "start_time": "2022-06-09T09:59:50.329Z"
   },
   {
    "duration": 433,
    "start_time": "2022-06-09T10:00:05.699Z"
   },
   {
    "duration": 5,
    "start_time": "2022-06-09T10:00:19.478Z"
   },
   {
    "duration": 8,
    "start_time": "2022-06-09T10:00:37.979Z"
   },
   {
    "duration": 540,
    "start_time": "2022-06-09T10:00:44.796Z"
   },
   {
    "duration": 5,
    "start_time": "2022-06-09T10:00:50.136Z"
   },
   {
    "duration": 483,
    "start_time": "2022-06-09T10:00:52.646Z"
   },
   {
    "duration": 152,
    "start_time": "2022-06-09T10:01:59.653Z"
   },
   {
    "duration": 142,
    "start_time": "2022-06-09T10:02:15.856Z"
   },
   {
    "duration": 128,
    "start_time": "2022-06-09T10:02:34.425Z"
   },
   {
    "duration": 218,
    "start_time": "2022-06-09T10:04:04.008Z"
   },
   {
    "duration": 148,
    "start_time": "2022-06-09T10:04:15.425Z"
   },
   {
    "duration": 172,
    "start_time": "2022-06-09T10:04:25.762Z"
   },
   {
    "duration": 135,
    "start_time": "2022-06-09T10:04:30.152Z"
   },
   {
    "duration": 154,
    "start_time": "2022-06-09T10:11:37.153Z"
   },
   {
    "duration": 672,
    "start_time": "2022-06-09T10:15:00.918Z"
   },
   {
    "duration": 9,
    "start_time": "2022-06-09T10:15:38.160Z"
   },
   {
    "duration": 8,
    "start_time": "2022-06-09T10:15:41.646Z"
   },
   {
    "duration": 171,
    "start_time": "2022-06-09T10:15:50.881Z"
   },
   {
    "duration": 181,
    "start_time": "2022-06-09T10:22:49.777Z"
   },
   {
    "duration": 158,
    "start_time": "2022-06-09T10:23:04.569Z"
   },
   {
    "duration": 171,
    "start_time": "2022-06-09T10:23:08.709Z"
   },
   {
    "duration": 11,
    "start_time": "2022-06-09T10:40:57.277Z"
   },
   {
    "duration": 12,
    "start_time": "2022-06-09T10:42:42.886Z"
   },
   {
    "duration": 24,
    "start_time": "2022-06-09T10:43:02.454Z"
   },
   {
    "duration": 11,
    "start_time": "2022-06-09T10:43:21.074Z"
   },
   {
    "duration": 1027,
    "start_time": "2022-06-09T12:06:29.395Z"
   },
   {
    "duration": 3,
    "start_time": "2022-06-09T12:06:30.424Z"
   },
   {
    "duration": 898,
    "start_time": "2022-06-09T12:06:30.429Z"
   },
   {
    "duration": 11,
    "start_time": "2022-06-09T12:06:31.329Z"
   },
   {
    "duration": 13,
    "start_time": "2022-06-09T12:06:31.342Z"
   },
   {
    "duration": 10,
    "start_time": "2022-06-09T12:06:31.357Z"
   },
   {
    "duration": 13,
    "start_time": "2022-06-09T12:06:31.369Z"
   },
   {
    "duration": 27,
    "start_time": "2022-06-09T12:06:31.384Z"
   },
   {
    "duration": 62,
    "start_time": "2022-06-09T12:06:31.412Z"
   },
   {
    "duration": 23,
    "start_time": "2022-06-09T12:06:31.475Z"
   },
   {
    "duration": 18,
    "start_time": "2022-06-09T12:06:31.499Z"
   },
   {
    "duration": 24,
    "start_time": "2022-06-09T12:06:31.519Z"
   },
   {
    "duration": 72,
    "start_time": "2022-06-09T12:06:31.545Z"
   },
   {
    "duration": 40,
    "start_time": "2022-06-09T12:06:31.621Z"
   },
   {
    "duration": 359,
    "start_time": "2022-06-09T12:06:31.663Z"
   },
   {
    "duration": 220,
    "start_time": "2022-06-09T12:06:32.025Z"
   },
   {
    "duration": 28,
    "start_time": "2022-06-09T12:06:32.246Z"
   },
   {
    "duration": 47,
    "start_time": "2022-06-09T12:06:32.276Z"
   },
   {
    "duration": 33,
    "start_time": "2022-06-09T12:06:32.325Z"
   },
   {
    "duration": 19,
    "start_time": "2022-06-09T12:06:32.360Z"
   },
   {
    "duration": 275,
    "start_time": "2022-06-09T12:06:32.381Z"
   },
   {
    "duration": 205,
    "start_time": "2022-06-09T12:06:32.658Z"
   },
   {
    "duration": 26,
    "start_time": "2022-06-09T12:06:32.865Z"
   },
   {
    "duration": 39,
    "start_time": "2022-06-09T12:06:32.893Z"
   },
   {
    "duration": 37,
    "start_time": "2022-06-09T12:06:32.934Z"
   },
   {
    "duration": 19,
    "start_time": "2022-06-09T12:06:32.973Z"
   },
   {
    "duration": 239,
    "start_time": "2022-06-09T12:06:32.993Z"
   },
   {
    "duration": 6,
    "start_time": "2022-06-09T12:06:33.234Z"
   },
   {
    "duration": 24,
    "start_time": "2022-06-09T12:06:33.242Z"
   },
   {
    "duration": 18,
    "start_time": "2022-06-09T12:06:33.268Z"
   },
   {
    "duration": 9,
    "start_time": "2022-06-09T12:06:33.287Z"
   },
   {
    "duration": 15,
    "start_time": "2022-06-09T12:06:33.297Z"
   },
   {
    "duration": 15,
    "start_time": "2022-06-09T12:06:33.313Z"
   },
   {
    "duration": 42,
    "start_time": "2022-06-09T12:06:33.329Z"
   },
   {
    "duration": 8,
    "start_time": "2022-06-09T12:06:33.373Z"
   },
   {
    "duration": 14,
    "start_time": "2022-06-09T12:06:33.382Z"
   },
   {
    "duration": 28,
    "start_time": "2022-06-09T12:06:33.398Z"
   },
   {
    "duration": 7,
    "start_time": "2022-06-09T12:06:33.428Z"
   },
   {
    "duration": 27,
    "start_time": "2022-06-09T12:06:33.438Z"
   },
   {
    "duration": 26,
    "start_time": "2022-06-09T12:06:33.467Z"
   },
   {
    "duration": 8,
    "start_time": "2022-06-09T12:06:33.498Z"
   },
   {
    "duration": 18,
    "start_time": "2022-06-09T12:06:33.508Z"
   },
   {
    "duration": 43,
    "start_time": "2022-06-09T12:06:33.528Z"
   },
   {
    "duration": 8,
    "start_time": "2022-06-09T12:06:33.573Z"
   },
   {
    "duration": 13,
    "start_time": "2022-06-09T12:06:33.583Z"
   },
   {
    "duration": 20,
    "start_time": "2022-06-09T12:06:33.598Z"
   },
   {
    "duration": 49,
    "start_time": "2022-06-09T12:06:33.620Z"
   },
   {
    "duration": 11,
    "start_time": "2022-06-09T12:06:33.671Z"
   },
   {
    "duration": 10,
    "start_time": "2022-06-09T12:06:33.685Z"
   },
   {
    "duration": 12,
    "start_time": "2022-06-09T12:06:33.697Z"
   },
   {
    "duration": 15,
    "start_time": "2022-06-09T12:06:33.711Z"
   },
   {
    "duration": 5,
    "start_time": "2022-06-09T12:06:33.727Z"
   },
   {
    "duration": 48,
    "start_time": "2022-06-09T12:06:33.733Z"
   },
   {
    "duration": 138,
    "start_time": "2022-06-09T12:06:33.783Z"
   },
   {
    "duration": 5,
    "start_time": "2022-06-09T12:06:33.923Z"
   },
   {
    "duration": 19,
    "start_time": "2022-06-09T12:06:33.930Z"
   },
   {
    "duration": 14,
    "start_time": "2022-06-09T12:06:33.959Z"
   },
   {
    "duration": 8,
    "start_time": "2022-06-09T12:06:33.975Z"
   },
   {
    "duration": 7,
    "start_time": "2022-06-09T12:06:33.985Z"
   },
   {
    "duration": 9,
    "start_time": "2022-06-09T12:06:33.994Z"
   },
   {
    "duration": 161,
    "start_time": "2022-06-09T12:06:34.005Z"
   },
   {
    "duration": 122,
    "start_time": "2022-06-09T12:06:34.168Z"
   },
   {
    "duration": 151,
    "start_time": "2022-06-09T12:06:34.291Z"
   },
   {
    "duration": 230,
    "start_time": "2022-06-09T12:06:34.444Z"
   },
   {
    "duration": 202,
    "start_time": "2022-06-09T12:06:34.676Z"
   },
   {
    "duration": 190,
    "start_time": "2022-06-09T12:06:34.880Z"
   },
   {
    "duration": 28,
    "start_time": "2022-06-09T12:06:35.072Z"
   },
   {
    "duration": 20,
    "start_time": "2022-06-09T12:06:35.102Z"
   },
   {
    "duration": 1208,
    "start_time": "2022-06-13T12:15:11.104Z"
   },
   {
    "duration": 3,
    "start_time": "2022-06-13T12:15:12.314Z"
   },
   {
    "duration": 1199,
    "start_time": "2022-06-13T12:15:12.318Z"
   },
   {
    "duration": 12,
    "start_time": "2022-06-13T12:15:13.519Z"
   },
   {
    "duration": 7,
    "start_time": "2022-06-13T12:15:13.533Z"
   },
   {
    "duration": 8,
    "start_time": "2022-06-13T12:15:13.542Z"
   },
   {
    "duration": 8,
    "start_time": "2022-06-13T12:15:13.551Z"
   },
   {
    "duration": 12,
    "start_time": "2022-06-13T12:15:13.561Z"
   },
   {
    "duration": 37,
    "start_time": "2022-06-13T12:15:13.574Z"
   },
   {
    "duration": 19,
    "start_time": "2022-06-13T12:15:13.614Z"
   },
   {
    "duration": 5,
    "start_time": "2022-06-13T12:15:13.635Z"
   },
   {
    "duration": 7,
    "start_time": "2022-06-13T12:15:13.641Z"
   },
   {
    "duration": 83,
    "start_time": "2022-06-13T12:15:13.649Z"
   },
   {
    "duration": 32,
    "start_time": "2022-06-13T12:15:13.734Z"
   },
   {
    "duration": 273,
    "start_time": "2022-06-13T12:15:13.767Z"
   },
   {
    "duration": 183,
    "start_time": "2022-06-13T12:15:14.042Z"
   },
   {
    "duration": 20,
    "start_time": "2022-06-13T12:15:14.227Z"
   },
   {
    "duration": 58,
    "start_time": "2022-06-13T12:15:14.249Z"
   },
   {
    "duration": 16,
    "start_time": "2022-06-13T12:15:14.309Z"
   },
   {
    "duration": 21,
    "start_time": "2022-06-13T12:15:14.326Z"
   },
   {
    "duration": 273,
    "start_time": "2022-06-13T12:15:14.349Z"
   },
   {
    "duration": 206,
    "start_time": "2022-06-13T12:15:14.623Z"
   },
   {
    "duration": 19,
    "start_time": "2022-06-13T12:15:14.831Z"
   },
   {
    "duration": 61,
    "start_time": "2022-06-13T12:15:14.852Z"
   },
   {
    "duration": 25,
    "start_time": "2022-06-13T12:15:14.915Z"
   },
   {
    "duration": 24,
    "start_time": "2022-06-13T12:15:14.942Z"
   },
   {
    "duration": 227,
    "start_time": "2022-06-13T12:15:14.969Z"
   },
   {
    "duration": 5,
    "start_time": "2022-06-13T12:15:15.200Z"
   },
   {
    "duration": 14,
    "start_time": "2022-06-13T12:15:15.206Z"
   },
   {
    "duration": 14,
    "start_time": "2022-06-13T12:15:15.221Z"
   },
   {
    "duration": 5,
    "start_time": "2022-06-13T12:15:15.237Z"
   },
   {
    "duration": 12,
    "start_time": "2022-06-13T12:15:15.243Z"
   },
   {
    "duration": 11,
    "start_time": "2022-06-13T12:15:15.257Z"
   },
   {
    "duration": 53,
    "start_time": "2022-06-13T12:15:15.269Z"
   },
   {
    "duration": 8,
    "start_time": "2022-06-13T12:15:15.324Z"
   },
   {
    "duration": 14,
    "start_time": "2022-06-13T12:15:15.334Z"
   },
   {
    "duration": 28,
    "start_time": "2022-06-13T12:15:15.350Z"
   },
   {
    "duration": 15,
    "start_time": "2022-06-13T12:15:15.381Z"
   },
   {
    "duration": 24,
    "start_time": "2022-06-13T12:15:15.397Z"
   },
   {
    "duration": 25,
    "start_time": "2022-06-13T12:15:15.423Z"
   },
   {
    "duration": 8,
    "start_time": "2022-06-13T12:15:15.450Z"
   },
   {
    "duration": 21,
    "start_time": "2022-06-13T12:15:15.459Z"
   },
   {
    "duration": 16,
    "start_time": "2022-06-13T12:15:15.482Z"
   },
   {
    "duration": 7,
    "start_time": "2022-06-13T12:15:15.500Z"
   },
   {
    "duration": 12,
    "start_time": "2022-06-13T12:15:15.508Z"
   },
   {
    "duration": 18,
    "start_time": "2022-06-13T12:15:15.521Z"
   },
   {
    "duration": 52,
    "start_time": "2022-06-13T12:15:15.541Z"
   },
   {
    "duration": 8,
    "start_time": "2022-06-13T12:15:15.595Z"
   },
   {
    "duration": 6,
    "start_time": "2022-06-13T12:15:15.604Z"
   },
   {
    "duration": 9,
    "start_time": "2022-06-13T12:15:15.611Z"
   },
   {
    "duration": 10,
    "start_time": "2022-06-13T12:15:15.621Z"
   },
   {
    "duration": 4,
    "start_time": "2022-06-13T12:15:15.633Z"
   },
   {
    "duration": 16,
    "start_time": "2022-06-13T12:15:15.638Z"
   },
   {
    "duration": 148,
    "start_time": "2022-06-13T12:15:15.656Z"
   },
   {
    "duration": 5,
    "start_time": "2022-06-13T12:15:15.806Z"
   },
   {
    "duration": 17,
    "start_time": "2022-06-13T12:15:15.812Z"
   },
   {
    "duration": 14,
    "start_time": "2022-06-13T12:15:15.831Z"
   },
   {
    "duration": 6,
    "start_time": "2022-06-13T12:15:15.846Z"
   },
   {
    "duration": 34,
    "start_time": "2022-06-13T12:15:15.853Z"
   },
   {
    "duration": 7,
    "start_time": "2022-06-13T12:15:15.891Z"
   },
   {
    "duration": 134,
    "start_time": "2022-06-13T12:15:15.900Z"
   },
   {
    "duration": 114,
    "start_time": "2022-06-13T12:15:16.036Z"
   },
   {
    "duration": 139,
    "start_time": "2022-06-13T12:15:16.152Z"
   },
   {
    "duration": 217,
    "start_time": "2022-06-13T12:15:16.293Z"
   },
   {
    "duration": 179,
    "start_time": "2022-06-13T12:15:16.511Z"
   },
   {
    "duration": 142,
    "start_time": "2022-06-13T12:15:16.691Z"
   },
   {
    "duration": 23,
    "start_time": "2022-06-13T12:15:16.834Z"
   },
   {
    "duration": 24,
    "start_time": "2022-06-13T12:15:16.859Z"
   },
   {
    "duration": 186,
    "start_time": "2022-06-13T12:15:36.962Z"
   },
   {
    "duration": 1017,
    "start_time": "2022-06-13T12:18:12.889Z"
   },
   {
    "duration": 3,
    "start_time": "2022-06-13T12:18:13.908Z"
   },
   {
    "duration": 405,
    "start_time": "2022-06-13T12:18:13.913Z"
   },
   {
    "duration": 11,
    "start_time": "2022-06-13T12:18:14.320Z"
   },
   {
    "duration": 7,
    "start_time": "2022-06-13T12:18:14.333Z"
   },
   {
    "duration": 9,
    "start_time": "2022-06-13T12:18:14.342Z"
   },
   {
    "duration": 13,
    "start_time": "2022-06-13T12:18:14.353Z"
   },
   {
    "duration": 30,
    "start_time": "2022-06-13T12:18:14.369Z"
   },
   {
    "duration": 30,
    "start_time": "2022-06-13T12:18:14.401Z"
   },
   {
    "duration": 18,
    "start_time": "2022-06-13T12:18:14.433Z"
   },
   {
    "duration": 6,
    "start_time": "2022-06-13T12:18:14.453Z"
   },
   {
    "duration": 19,
    "start_time": "2022-06-13T12:18:14.460Z"
   },
   {
    "duration": 75,
    "start_time": "2022-06-13T12:18:14.483Z"
   },
   {
    "duration": 40,
    "start_time": "2022-06-13T12:18:14.560Z"
   },
   {
    "duration": 293,
    "start_time": "2022-06-13T12:18:14.601Z"
   },
   {
    "duration": 177,
    "start_time": "2022-06-13T12:18:14.900Z"
   },
   {
    "duration": 29,
    "start_time": "2022-06-13T12:18:15.079Z"
   },
   {
    "duration": 43,
    "start_time": "2022-06-13T12:18:15.109Z"
   },
   {
    "duration": 30,
    "start_time": "2022-06-13T12:18:15.153Z"
   },
   {
    "duration": 18,
    "start_time": "2022-06-13T12:18:15.184Z"
   },
   {
    "duration": 234,
    "start_time": "2022-06-13T12:18:15.204Z"
   },
   {
    "duration": 177,
    "start_time": "2022-06-13T12:18:15.440Z"
   },
   {
    "duration": 18,
    "start_time": "2022-06-13T12:18:15.618Z"
   },
   {
    "duration": 50,
    "start_time": "2022-06-13T12:18:15.637Z"
   },
   {
    "duration": 17,
    "start_time": "2022-06-13T12:18:15.689Z"
   },
   {
    "duration": 16,
    "start_time": "2022-06-13T12:18:15.707Z"
   },
   {
    "duration": 234,
    "start_time": "2022-06-13T12:18:15.725Z"
   },
   {
    "duration": 7,
    "start_time": "2022-06-13T12:18:15.960Z"
   },
   {
    "duration": 35,
    "start_time": "2022-06-13T12:18:15.969Z"
   },
   {
    "duration": 10,
    "start_time": "2022-06-13T12:18:16.005Z"
   },
   {
    "duration": 9,
    "start_time": "2022-06-13T12:18:16.016Z"
   },
   {
    "duration": 22,
    "start_time": "2022-06-13T12:18:16.028Z"
   },
   {
    "duration": 10,
    "start_time": "2022-06-13T12:18:16.052Z"
   },
   {
    "duration": 42,
    "start_time": "2022-06-13T12:18:16.064Z"
   },
   {
    "duration": 11,
    "start_time": "2022-06-13T12:18:16.108Z"
   },
   {
    "duration": 12,
    "start_time": "2022-06-13T12:18:16.120Z"
   },
   {
    "duration": 34,
    "start_time": "2022-06-13T12:18:16.134Z"
   },
   {
    "duration": 11,
    "start_time": "2022-06-13T12:18:16.169Z"
   },
   {
    "duration": 35,
    "start_time": "2022-06-13T12:18:16.182Z"
   },
   {
    "duration": 31,
    "start_time": "2022-06-13T12:18:16.219Z"
   },
   {
    "duration": 8,
    "start_time": "2022-06-13T12:18:16.255Z"
   },
   {
    "duration": 26,
    "start_time": "2022-06-13T12:18:16.264Z"
   },
   {
    "duration": 17,
    "start_time": "2022-06-13T12:18:16.291Z"
   },
   {
    "duration": 7,
    "start_time": "2022-06-13T12:18:16.309Z"
   },
   {
    "duration": 12,
    "start_time": "2022-06-13T12:18:16.318Z"
   },
   {
    "duration": 19,
    "start_time": "2022-06-13T12:18:16.332Z"
   },
   {
    "duration": 40,
    "start_time": "2022-06-13T12:18:16.353Z"
   },
   {
    "duration": 8,
    "start_time": "2022-06-13T12:18:16.395Z"
   },
   {
    "duration": 10,
    "start_time": "2022-06-13T12:18:16.404Z"
   },
   {
    "duration": 11,
    "start_time": "2022-06-13T12:18:16.415Z"
   },
   {
    "duration": 9,
    "start_time": "2022-06-13T12:18:16.428Z"
   },
   {
    "duration": 3,
    "start_time": "2022-06-13T12:18:16.439Z"
   },
   {
    "duration": 18,
    "start_time": "2022-06-13T12:18:16.443Z"
   },
   {
    "duration": 142,
    "start_time": "2022-06-13T12:18:16.462Z"
   },
   {
    "duration": 4,
    "start_time": "2022-06-13T12:18:16.606Z"
   },
   {
    "duration": 20,
    "start_time": "2022-06-13T12:18:16.611Z"
   },
   {
    "duration": 12,
    "start_time": "2022-06-13T12:18:16.632Z"
   },
   {
    "duration": 4,
    "start_time": "2022-06-13T12:18:16.646Z"
   },
   {
    "duration": 6,
    "start_time": "2022-06-13T12:18:16.652Z"
   },
   {
    "duration": 20,
    "start_time": "2022-06-13T12:18:16.659Z"
   },
   {
    "duration": 136,
    "start_time": "2022-06-13T12:18:16.680Z"
   },
   {
    "duration": 104,
    "start_time": "2022-06-13T12:18:16.818Z"
   },
   {
    "duration": 136,
    "start_time": "2022-06-13T12:18:16.924Z"
   },
   {
    "duration": 199,
    "start_time": "2022-06-13T12:18:17.062Z"
   },
   {
    "duration": 184,
    "start_time": "2022-06-13T12:18:17.262Z"
   },
   {
    "duration": 149,
    "start_time": "2022-06-13T12:18:17.448Z"
   },
   {
    "duration": 23,
    "start_time": "2022-06-13T12:18:17.598Z"
   },
   {
    "duration": 9,
    "start_time": "2022-06-13T12:18:17.623Z"
   },
   {
    "duration": 99,
    "start_time": "2022-06-13T12:24:02.972Z"
   },
   {
    "duration": 7,
    "start_time": "2022-06-13T12:24:09.487Z"
   },
   {
    "duration": 8,
    "start_time": "2022-06-13T12:24:12.517Z"
   },
   {
    "duration": 57,
    "start_time": "2022-06-13T12:24:14.504Z"
   },
   {
    "duration": 12,
    "start_time": "2022-06-13T12:25:58.197Z"
   },
   {
    "duration": 149,
    "start_time": "2022-06-13T12:30:29.287Z"
   },
   {
    "duration": 1033,
    "start_time": "2022-06-13T12:32:56.067Z"
   },
   {
    "duration": 3,
    "start_time": "2022-06-13T12:32:57.102Z"
   },
   {
    "duration": 409,
    "start_time": "2022-06-13T12:32:57.107Z"
   },
   {
    "duration": 11,
    "start_time": "2022-06-13T12:32:57.518Z"
   },
   {
    "duration": 9,
    "start_time": "2022-06-13T12:32:57.530Z"
   },
   {
    "duration": 10,
    "start_time": "2022-06-13T12:32:57.540Z"
   },
   {
    "duration": 11,
    "start_time": "2022-06-13T12:32:57.552Z"
   },
   {
    "duration": 10,
    "start_time": "2022-06-13T12:32:57.565Z"
   },
   {
    "duration": 34,
    "start_time": "2022-06-13T12:32:57.576Z"
   },
   {
    "duration": 19,
    "start_time": "2022-06-13T12:32:57.612Z"
   },
   {
    "duration": 8,
    "start_time": "2022-06-13T12:32:57.632Z"
   },
   {
    "duration": 5,
    "start_time": "2022-06-13T12:32:57.642Z"
   },
   {
    "duration": 74,
    "start_time": "2022-06-13T12:32:57.648Z"
   },
   {
    "duration": 42,
    "start_time": "2022-06-13T12:32:57.723Z"
   },
   {
    "duration": 324,
    "start_time": "2022-06-13T12:32:57.767Z"
   },
   {
    "duration": 247,
    "start_time": "2022-06-13T12:32:58.093Z"
   },
   {
    "duration": 38,
    "start_time": "2022-06-13T12:32:58.344Z"
   },
   {
    "duration": 54,
    "start_time": "2022-06-13T12:32:58.384Z"
   },
   {
    "duration": 19,
    "start_time": "2022-06-13T12:32:58.440Z"
   },
   {
    "duration": 38,
    "start_time": "2022-06-13T12:32:58.460Z"
   },
   {
    "duration": 237,
    "start_time": "2022-06-13T12:32:58.500Z"
   },
   {
    "duration": 192,
    "start_time": "2022-06-13T12:32:58.739Z"
   },
   {
    "duration": 17,
    "start_time": "2022-06-13T12:32:58.933Z"
   },
   {
    "duration": 48,
    "start_time": "2022-06-13T12:32:58.952Z"
   },
   {
    "duration": 21,
    "start_time": "2022-06-13T12:32:59.002Z"
   },
   {
    "duration": 26,
    "start_time": "2022-06-13T12:32:59.026Z"
   },
   {
    "duration": 235,
    "start_time": "2022-06-13T12:32:59.054Z"
   },
   {
    "duration": 6,
    "start_time": "2022-06-13T12:32:59.293Z"
   },
   {
    "duration": 12,
    "start_time": "2022-06-13T12:32:59.301Z"
   },
   {
    "duration": 12,
    "start_time": "2022-06-13T12:32:59.315Z"
   },
   {
    "duration": 6,
    "start_time": "2022-06-13T12:32:59.328Z"
   },
   {
    "duration": 13,
    "start_time": "2022-06-13T12:32:59.336Z"
   },
   {
    "duration": 28,
    "start_time": "2022-06-13T12:32:59.351Z"
   },
   {
    "duration": 33,
    "start_time": "2022-06-13T12:32:59.381Z"
   },
   {
    "duration": 7,
    "start_time": "2022-06-13T12:32:59.416Z"
   },
   {
    "duration": 11,
    "start_time": "2022-06-13T12:32:59.425Z"
   },
   {
    "duration": 45,
    "start_time": "2022-06-13T12:32:59.437Z"
   },
   {
    "duration": 7,
    "start_time": "2022-06-13T12:32:59.484Z"
   },
   {
    "duration": 12,
    "start_time": "2022-06-13T12:32:59.492Z"
   },
   {
    "duration": 24,
    "start_time": "2022-06-13T12:32:59.505Z"
   },
   {
    "duration": 7,
    "start_time": "2022-06-13T12:32:59.530Z"
   },
   {
    "duration": 17,
    "start_time": "2022-06-13T12:32:59.539Z"
   },
   {
    "duration": 32,
    "start_time": "2022-06-13T12:32:59.557Z"
   },
   {
    "duration": 6,
    "start_time": "2022-06-13T12:32:59.591Z"
   },
   {
    "duration": 11,
    "start_time": "2022-06-13T12:32:59.598Z"
   },
   {
    "duration": 16,
    "start_time": "2022-06-13T12:32:59.610Z"
   },
   {
    "duration": 16,
    "start_time": "2022-06-13T12:32:59.628Z"
   },
   {
    "duration": 34,
    "start_time": "2022-06-13T12:32:59.645Z"
   },
   {
    "duration": 5,
    "start_time": "2022-06-13T12:32:59.680Z"
   },
   {
    "duration": 9,
    "start_time": "2022-06-13T12:32:59.686Z"
   },
   {
    "duration": 10,
    "start_time": "2022-06-13T12:32:59.697Z"
   },
   {
    "duration": 4,
    "start_time": "2022-06-13T12:32:59.709Z"
   },
   {
    "duration": 19,
    "start_time": "2022-06-13T12:32:59.714Z"
   },
   {
    "duration": 135,
    "start_time": "2022-06-13T12:32:59.735Z"
   },
   {
    "duration": 9,
    "start_time": "2022-06-13T12:32:59.871Z"
   },
   {
    "duration": 19,
    "start_time": "2022-06-13T12:32:59.882Z"
   },
   {
    "duration": 17,
    "start_time": "2022-06-13T12:32:59.902Z"
   },
   {
    "duration": 8,
    "start_time": "2022-06-13T12:32:59.920Z"
   },
   {
    "duration": 6,
    "start_time": "2022-06-13T12:32:59.929Z"
   },
   {
    "duration": 7,
    "start_time": "2022-06-13T12:32:59.937Z"
   },
   {
    "duration": 163,
    "start_time": "2022-06-13T12:32:59.946Z"
   },
   {
    "duration": 146,
    "start_time": "2022-06-13T12:33:00.111Z"
   },
   {
    "duration": 50,
    "start_time": "2022-06-13T12:33:00.259Z"
   },
   {
    "duration": 220,
    "start_time": "2022-06-13T12:33:00.311Z"
   },
   {
    "duration": 138,
    "start_time": "2022-06-13T12:33:00.533Z"
   },
   {
    "duration": 13,
    "start_time": "2022-06-13T12:33:00.673Z"
   },
   {
    "duration": 191,
    "start_time": "2022-06-13T12:33:00.687Z"
   },
   {
    "duration": 178,
    "start_time": "2022-06-13T12:33:00.880Z"
   },
   {
    "duration": 31,
    "start_time": "2022-06-13T12:33:01.060Z"
   },
   {
    "duration": 11,
    "start_time": "2022-06-13T12:33:01.093Z"
   },
   {
    "duration": 10,
    "start_time": "2022-06-13T12:34:55.900Z"
   },
   {
    "duration": 1095,
    "start_time": "2022-06-13T12:35:55.875Z"
   },
   {
    "duration": 6,
    "start_time": "2022-06-13T12:35:56.972Z"
   },
   {
    "duration": 395,
    "start_time": "2022-06-13T12:35:56.980Z"
   },
   {
    "duration": 11,
    "start_time": "2022-06-13T12:35:57.377Z"
   },
   {
    "duration": 11,
    "start_time": "2022-06-13T12:35:57.389Z"
   },
   {
    "duration": 11,
    "start_time": "2022-06-13T12:35:57.401Z"
   },
   {
    "duration": 10,
    "start_time": "2022-06-13T12:35:57.413Z"
   },
   {
    "duration": 11,
    "start_time": "2022-06-13T12:35:57.425Z"
   },
   {
    "duration": 53,
    "start_time": "2022-06-13T12:35:57.438Z"
   },
   {
    "duration": 19,
    "start_time": "2022-06-13T12:35:57.494Z"
   },
   {
    "duration": 5,
    "start_time": "2022-06-13T12:35:57.515Z"
   },
   {
    "duration": 16,
    "start_time": "2022-06-13T12:35:57.522Z"
   },
   {
    "duration": 100,
    "start_time": "2022-06-13T12:35:57.541Z"
   },
   {
    "duration": 53,
    "start_time": "2022-06-13T12:35:57.643Z"
   },
   {
    "duration": 410,
    "start_time": "2022-06-13T12:35:57.698Z"
   },
   {
    "duration": 188,
    "start_time": "2022-06-13T12:35:58.110Z"
   },
   {
    "duration": 31,
    "start_time": "2022-06-13T12:35:58.300Z"
   },
   {
    "duration": 64,
    "start_time": "2022-06-13T12:35:58.333Z"
   },
   {
    "duration": 15,
    "start_time": "2022-06-13T12:35:58.399Z"
   },
   {
    "duration": 19,
    "start_time": "2022-06-13T12:35:58.415Z"
   },
   {
    "duration": 251,
    "start_time": "2022-06-13T12:35:58.436Z"
   },
   {
    "duration": 175,
    "start_time": "2022-06-13T12:35:58.689Z"
   },
   {
    "duration": 21,
    "start_time": "2022-06-13T12:35:58.865Z"
   },
   {
    "duration": 37,
    "start_time": "2022-06-13T12:35:58.887Z"
   },
   {
    "duration": 18,
    "start_time": "2022-06-13T12:35:58.926Z"
   },
   {
    "duration": 34,
    "start_time": "2022-06-13T12:35:58.946Z"
   },
   {
    "duration": 205,
    "start_time": "2022-06-13T12:35:58.982Z"
   },
   {
    "duration": 5,
    "start_time": "2022-06-13T12:35:59.191Z"
   },
   {
    "duration": 17,
    "start_time": "2022-06-13T12:35:59.197Z"
   },
   {
    "duration": 11,
    "start_time": "2022-06-13T12:35:59.217Z"
   },
   {
    "duration": 15,
    "start_time": "2022-06-13T12:35:59.229Z"
   },
   {
    "duration": 17,
    "start_time": "2022-06-13T12:35:59.246Z"
   },
   {
    "duration": 15,
    "start_time": "2022-06-13T12:35:59.265Z"
   },
   {
    "duration": 36,
    "start_time": "2022-06-13T12:35:59.282Z"
   },
   {
    "duration": 7,
    "start_time": "2022-06-13T12:35:59.320Z"
   },
   {
    "duration": 23,
    "start_time": "2022-06-13T12:35:59.330Z"
   },
   {
    "duration": 40,
    "start_time": "2022-06-13T12:35:59.356Z"
   },
   {
    "duration": 10,
    "start_time": "2022-06-13T12:35:59.399Z"
   },
   {
    "duration": 23,
    "start_time": "2022-06-13T12:35:59.411Z"
   },
   {
    "duration": 36,
    "start_time": "2022-06-13T12:35:59.436Z"
   },
   {
    "duration": 8,
    "start_time": "2022-06-13T12:35:59.474Z"
   },
   {
    "duration": 17,
    "start_time": "2022-06-13T12:35:59.484Z"
   },
   {
    "duration": 13,
    "start_time": "2022-06-13T12:35:59.503Z"
   },
   {
    "duration": 7,
    "start_time": "2022-06-13T12:35:59.518Z"
   },
   {
    "duration": 20,
    "start_time": "2022-06-13T12:35:59.528Z"
   },
   {
    "duration": 40,
    "start_time": "2022-06-13T12:35:59.550Z"
   },
   {
    "duration": 19,
    "start_time": "2022-06-13T12:35:59.592Z"
   },
   {
    "duration": 8,
    "start_time": "2022-06-13T12:35:59.613Z"
   },
   {
    "duration": 7,
    "start_time": "2022-06-13T12:35:59.622Z"
   },
   {
    "duration": 10,
    "start_time": "2022-06-13T12:35:59.630Z"
   },
   {
    "duration": 40,
    "start_time": "2022-06-13T12:35:59.641Z"
   },
   {
    "duration": 5,
    "start_time": "2022-06-13T12:35:59.683Z"
   },
   {
    "duration": 16,
    "start_time": "2022-06-13T12:35:59.689Z"
   },
   {
    "duration": 124,
    "start_time": "2022-06-13T12:35:59.706Z"
   },
   {
    "duration": 5,
    "start_time": "2022-06-13T12:35:59.831Z"
   },
   {
    "duration": 24,
    "start_time": "2022-06-13T12:35:59.838Z"
   },
   {
    "duration": 19,
    "start_time": "2022-06-13T12:35:59.864Z"
   },
   {
    "duration": 5,
    "start_time": "2022-06-13T12:35:59.885Z"
   },
   {
    "duration": 7,
    "start_time": "2022-06-13T12:35:59.892Z"
   },
   {
    "duration": 8,
    "start_time": "2022-06-13T12:35:59.900Z"
   },
   {
    "duration": 151,
    "start_time": "2022-06-13T12:35:59.909Z"
   },
   {
    "duration": 126,
    "start_time": "2022-06-13T12:36:00.062Z"
   },
   {
    "duration": 41,
    "start_time": "2022-06-13T12:36:00.190Z"
   },
   {
    "duration": 245,
    "start_time": "2022-06-13T12:36:00.233Z"
   },
   {
    "duration": 147,
    "start_time": "2022-06-13T12:36:00.479Z"
   },
   {
    "duration": 10,
    "start_time": "2022-06-13T12:36:00.627Z"
   },
   {
    "duration": 182,
    "start_time": "2022-06-13T12:36:00.638Z"
   },
   {
    "duration": 171,
    "start_time": "2022-06-13T12:36:00.821Z"
   },
   {
    "duration": 13,
    "start_time": "2022-06-13T12:36:00.993Z"
   },
   {
    "duration": 98,
    "start_time": "2022-06-13T12:36:01.008Z"
   },
   {
    "duration": 0,
    "start_time": "2022-06-13T12:36:01.107Z"
   },
   {
    "duration": 0,
    "start_time": "2022-06-13T12:36:01.108Z"
   },
   {
    "duration": 0,
    "start_time": "2022-06-13T12:36:01.109Z"
   },
   {
    "duration": 0,
    "start_time": "2022-06-13T12:36:01.110Z"
   },
   {
    "duration": 1095,
    "start_time": "2022-06-13T12:36:47.095Z"
   },
   {
    "duration": 8,
    "start_time": "2022-06-13T12:36:48.192Z"
   },
   {
    "duration": 475,
    "start_time": "2022-06-13T12:36:48.203Z"
   },
   {
    "duration": 16,
    "start_time": "2022-06-13T12:36:48.680Z"
   },
   {
    "duration": 18,
    "start_time": "2022-06-13T12:36:48.699Z"
   },
   {
    "duration": 10,
    "start_time": "2022-06-13T12:36:48.719Z"
   },
   {
    "duration": 10,
    "start_time": "2022-06-13T12:36:48.731Z"
   },
   {
    "duration": 13,
    "start_time": "2022-06-13T12:36:48.742Z"
   },
   {
    "duration": 59,
    "start_time": "2022-06-13T12:36:48.757Z"
   },
   {
    "duration": 24,
    "start_time": "2022-06-13T12:36:48.818Z"
   },
   {
    "duration": 5,
    "start_time": "2022-06-13T12:36:48.844Z"
   },
   {
    "duration": 6,
    "start_time": "2022-06-13T12:36:48.850Z"
   },
   {
    "duration": 90,
    "start_time": "2022-06-13T12:36:48.858Z"
   },
   {
    "duration": 46,
    "start_time": "2022-06-13T12:36:48.951Z"
   },
   {
    "duration": 295,
    "start_time": "2022-06-13T12:36:48.999Z"
   },
   {
    "duration": 179,
    "start_time": "2022-06-13T12:36:49.297Z"
   },
   {
    "duration": 23,
    "start_time": "2022-06-13T12:36:49.492Z"
   },
   {
    "duration": 41,
    "start_time": "2022-06-13T12:36:49.516Z"
   },
   {
    "duration": 21,
    "start_time": "2022-06-13T12:36:49.559Z"
   },
   {
    "duration": 20,
    "start_time": "2022-06-13T12:36:49.582Z"
   },
   {
    "duration": 245,
    "start_time": "2022-06-13T12:36:49.603Z"
   },
   {
    "duration": 192,
    "start_time": "2022-06-13T12:36:49.850Z"
   },
   {
    "duration": 19,
    "start_time": "2022-06-13T12:36:50.044Z"
   },
   {
    "duration": 57,
    "start_time": "2022-06-13T12:36:50.064Z"
   },
   {
    "duration": 14,
    "start_time": "2022-06-13T12:36:50.123Z"
   },
   {
    "duration": 34,
    "start_time": "2022-06-13T12:36:50.138Z"
   },
   {
    "duration": 243,
    "start_time": "2022-06-13T12:36:50.174Z"
   },
   {
    "duration": 8,
    "start_time": "2022-06-13T12:36:50.419Z"
   },
   {
    "duration": 31,
    "start_time": "2022-06-13T12:36:50.428Z"
   },
   {
    "duration": 26,
    "start_time": "2022-06-13T12:36:50.461Z"
   },
   {
    "duration": 19,
    "start_time": "2022-06-13T12:36:50.489Z"
   },
   {
    "duration": 16,
    "start_time": "2022-06-13T12:36:50.510Z"
   },
   {
    "duration": 12,
    "start_time": "2022-06-13T12:36:50.528Z"
   },
   {
    "duration": 60,
    "start_time": "2022-06-13T12:36:50.541Z"
   },
   {
    "duration": 9,
    "start_time": "2022-06-13T12:36:50.603Z"
   },
   {
    "duration": 17,
    "start_time": "2022-06-13T12:36:50.613Z"
   },
   {
    "duration": 37,
    "start_time": "2022-06-13T12:36:50.632Z"
   },
   {
    "duration": 7,
    "start_time": "2022-06-13T12:36:50.670Z"
   },
   {
    "duration": 31,
    "start_time": "2022-06-13T12:36:50.679Z"
   },
   {
    "duration": 30,
    "start_time": "2022-06-13T12:36:50.712Z"
   },
   {
    "duration": 6,
    "start_time": "2022-06-13T12:36:50.745Z"
   },
   {
    "duration": 26,
    "start_time": "2022-06-13T12:36:50.753Z"
   },
   {
    "duration": 39,
    "start_time": "2022-06-13T12:36:50.781Z"
   },
   {
    "duration": 7,
    "start_time": "2022-06-13T12:36:50.822Z"
   },
   {
    "duration": 20,
    "start_time": "2022-06-13T12:36:50.831Z"
   },
   {
    "duration": 29,
    "start_time": "2022-06-13T12:36:50.852Z"
   },
   {
    "duration": 36,
    "start_time": "2022-06-13T12:36:50.883Z"
   },
   {
    "duration": 20,
    "start_time": "2022-06-13T12:36:50.920Z"
   },
   {
    "duration": 27,
    "start_time": "2022-06-13T12:36:50.942Z"
   },
   {
    "duration": 35,
    "start_time": "2022-06-13T12:36:50.972Z"
   },
   {
    "duration": 21,
    "start_time": "2022-06-13T12:36:51.009Z"
   },
   {
    "duration": 9,
    "start_time": "2022-06-13T12:36:51.031Z"
   },
   {
    "duration": 46,
    "start_time": "2022-06-13T12:36:51.042Z"
   },
   {
    "duration": 161,
    "start_time": "2022-06-13T12:36:51.090Z"
   },
   {
    "duration": 4,
    "start_time": "2022-06-13T12:36:51.252Z"
   },
   {
    "duration": 39,
    "start_time": "2022-06-13T12:36:51.258Z"
   },
   {
    "duration": 18,
    "start_time": "2022-06-13T12:36:51.299Z"
   },
   {
    "duration": 5,
    "start_time": "2022-06-13T12:36:51.318Z"
   },
   {
    "duration": 14,
    "start_time": "2022-06-13T12:36:51.325Z"
   },
   {
    "duration": 24,
    "start_time": "2022-06-13T12:36:51.341Z"
   },
   {
    "duration": 164,
    "start_time": "2022-06-13T12:36:51.366Z"
   },
   {
    "duration": 128,
    "start_time": "2022-06-13T12:36:51.532Z"
   },
   {
    "duration": 55,
    "start_time": "2022-06-13T12:36:51.661Z"
   },
   {
    "duration": 231,
    "start_time": "2022-06-13T12:36:51.718Z"
   },
   {
    "duration": 154,
    "start_time": "2022-06-13T12:36:51.950Z"
   },
   {
    "duration": 10,
    "start_time": "2022-06-13T12:36:52.106Z"
   },
   {
    "duration": 198,
    "start_time": "2022-06-13T12:36:52.118Z"
   },
   {
    "duration": 176,
    "start_time": "2022-06-13T12:36:52.317Z"
   },
   {
    "duration": 11,
    "start_time": "2022-06-13T12:36:52.495Z"
   },
   {
    "duration": 233,
    "start_time": "2022-06-13T12:36:52.507Z"
   },
   {
    "duration": 0,
    "start_time": "2022-06-13T12:36:52.741Z"
   },
   {
    "duration": 0,
    "start_time": "2022-06-13T12:36:52.742Z"
   },
   {
    "duration": 0,
    "start_time": "2022-06-13T12:36:52.744Z"
   },
   {
    "duration": 0,
    "start_time": "2022-06-13T12:36:52.745Z"
   },
   {
    "duration": 125,
    "start_time": "2022-06-13T12:37:08.834Z"
   },
   {
    "duration": 170,
    "start_time": "2022-06-13T12:37:13.576Z"
   },
   {
    "duration": 10,
    "start_time": "2022-06-13T12:37:16.393Z"
   },
   {
    "duration": 24,
    "start_time": "2022-06-13T13:00:38.728Z"
   },
   {
    "duration": 12,
    "start_time": "2022-06-13T13:00:39.941Z"
   },
   {
    "duration": 1013,
    "start_time": "2022-06-13T16:52:52.999Z"
   },
   {
    "duration": 3,
    "start_time": "2022-06-13T16:52:54.013Z"
   },
   {
    "duration": 431,
    "start_time": "2022-06-13T16:52:54.017Z"
   },
   {
    "duration": 12,
    "start_time": "2022-06-13T16:52:54.450Z"
   },
   {
    "duration": 12,
    "start_time": "2022-06-13T16:52:54.463Z"
   },
   {
    "duration": 29,
    "start_time": "2022-06-13T16:52:54.477Z"
   },
   {
    "duration": 11,
    "start_time": "2022-06-13T16:52:54.507Z"
   },
   {
    "duration": 13,
    "start_time": "2022-06-13T16:52:54.520Z"
   },
   {
    "duration": 60,
    "start_time": "2022-06-13T16:52:54.534Z"
   },
   {
    "duration": 23,
    "start_time": "2022-06-13T16:52:54.597Z"
   },
   {
    "duration": 7,
    "start_time": "2022-06-13T16:52:54.622Z"
   },
   {
    "duration": 10,
    "start_time": "2022-06-13T16:52:54.630Z"
   },
   {
    "duration": 77,
    "start_time": "2022-06-13T16:52:54.641Z"
   },
   {
    "duration": 34,
    "start_time": "2022-06-13T16:52:54.720Z"
   },
   {
    "duration": 294,
    "start_time": "2022-06-13T16:52:54.755Z"
   },
   {
    "duration": 188,
    "start_time": "2022-06-13T16:52:55.051Z"
   },
   {
    "duration": 23,
    "start_time": "2022-06-13T16:52:55.241Z"
   },
   {
    "duration": 65,
    "start_time": "2022-06-13T16:52:55.265Z"
   },
   {
    "duration": 25,
    "start_time": "2022-06-13T16:52:55.333Z"
   },
   {
    "duration": 31,
    "start_time": "2022-06-13T16:52:55.360Z"
   },
   {
    "duration": 246,
    "start_time": "2022-06-13T16:52:55.395Z"
   },
   {
    "duration": 191,
    "start_time": "2022-06-13T16:52:55.642Z"
   },
   {
    "duration": 18,
    "start_time": "2022-06-13T16:52:55.834Z"
   },
   {
    "duration": 54,
    "start_time": "2022-06-13T16:52:55.853Z"
   },
   {
    "duration": 14,
    "start_time": "2022-06-13T16:52:55.909Z"
   },
   {
    "duration": 21,
    "start_time": "2022-06-13T16:52:55.924Z"
   },
   {
    "duration": 264,
    "start_time": "2022-06-13T16:52:55.947Z"
   },
   {
    "duration": 6,
    "start_time": "2022-06-13T16:52:56.216Z"
   },
   {
    "duration": 23,
    "start_time": "2022-06-13T16:52:56.224Z"
   },
   {
    "duration": 10,
    "start_time": "2022-06-13T16:52:56.249Z"
   },
   {
    "duration": 5,
    "start_time": "2022-06-13T16:52:56.261Z"
   },
   {
    "duration": 19,
    "start_time": "2022-06-13T16:52:56.268Z"
   },
   {
    "duration": 10,
    "start_time": "2022-06-13T16:52:56.292Z"
   },
   {
    "duration": 42,
    "start_time": "2022-06-13T16:52:56.304Z"
   },
   {
    "duration": 7,
    "start_time": "2022-06-13T16:52:56.348Z"
   },
   {
    "duration": 34,
    "start_time": "2022-06-13T16:52:56.357Z"
   },
   {
    "duration": 23,
    "start_time": "2022-06-13T16:52:56.393Z"
   },
   {
    "duration": 9,
    "start_time": "2022-06-13T16:52:56.417Z"
   },
   {
    "duration": 13,
    "start_time": "2022-06-13T16:52:56.428Z"
   },
   {
    "duration": 40,
    "start_time": "2022-06-13T16:52:56.443Z"
   },
   {
    "duration": 9,
    "start_time": "2022-06-13T16:52:56.484Z"
   },
   {
    "duration": 16,
    "start_time": "2022-06-13T16:52:56.495Z"
   },
   {
    "duration": 14,
    "start_time": "2022-06-13T16:52:56.513Z"
   },
   {
    "duration": 8,
    "start_time": "2022-06-13T16:52:56.529Z"
   },
   {
    "duration": 14,
    "start_time": "2022-06-13T16:52:56.538Z"
   },
   {
    "duration": 27,
    "start_time": "2022-06-13T16:52:56.584Z"
   },
   {
    "duration": 20,
    "start_time": "2022-06-13T16:52:56.612Z"
   },
   {
    "duration": 9,
    "start_time": "2022-06-13T16:52:56.633Z"
   },
   {
    "duration": 6,
    "start_time": "2022-06-13T16:52:56.644Z"
   },
   {
    "duration": 30,
    "start_time": "2022-06-13T16:52:56.652Z"
   },
   {
    "duration": 23,
    "start_time": "2022-06-13T16:52:56.683Z"
   },
   {
    "duration": 4,
    "start_time": "2022-06-13T16:52:56.707Z"
   },
   {
    "duration": 20,
    "start_time": "2022-06-13T16:52:56.712Z"
   },
   {
    "duration": 139,
    "start_time": "2022-06-13T16:52:56.734Z"
   },
   {
    "duration": 5,
    "start_time": "2022-06-13T16:52:56.875Z"
   },
   {
    "duration": 33,
    "start_time": "2022-06-13T16:52:56.882Z"
   },
   {
    "duration": 14,
    "start_time": "2022-06-13T16:52:56.917Z"
   },
   {
    "duration": 5,
    "start_time": "2022-06-13T16:52:56.933Z"
   },
   {
    "duration": 7,
    "start_time": "2022-06-13T16:52:56.939Z"
   },
   {
    "duration": 6,
    "start_time": "2022-06-13T16:52:56.947Z"
   },
   {
    "duration": 174,
    "start_time": "2022-06-13T16:52:56.954Z"
   },
   {
    "duration": 158,
    "start_time": "2022-06-13T16:52:57.129Z"
   },
   {
    "duration": 59,
    "start_time": "2022-06-13T16:52:57.288Z"
   },
   {
    "duration": 247,
    "start_time": "2022-06-13T16:52:57.349Z"
   },
   {
    "duration": 202,
    "start_time": "2022-06-13T16:52:57.598Z"
   },
   {
    "duration": 13,
    "start_time": "2022-06-13T16:52:57.801Z"
   },
   {
    "duration": 229,
    "start_time": "2022-06-13T16:52:57.816Z"
   },
   {
    "duration": 169,
    "start_time": "2022-06-13T16:52:58.047Z"
   },
   {
    "duration": 14,
    "start_time": "2022-06-13T16:52:58.217Z"
   },
   {
    "duration": 192,
    "start_time": "2022-06-13T16:52:58.233Z"
   },
   {
    "duration": 169,
    "start_time": "2022-06-13T16:52:58.427Z"
   },
   {
    "duration": 11,
    "start_time": "2022-06-13T16:52:58.599Z"
   },
   {
    "duration": 4,
    "start_time": "2022-06-13T16:52:58.612Z"
   },
   {
    "duration": 22,
    "start_time": "2022-06-13T16:52:58.618Z"
   },
   {
    "duration": 111,
    "start_time": "2022-06-13T16:52:58.642Z"
   },
   {
    "duration": 0,
    "start_time": "2022-06-13T16:52:58.755Z"
   },
   {
    "duration": 0,
    "start_time": "2022-06-13T16:52:58.756Z"
   },
   {
    "duration": 0,
    "start_time": "2022-06-13T16:52:58.757Z"
   },
   {
    "duration": 0,
    "start_time": "2022-06-13T16:52:58.758Z"
   },
   {
    "duration": 988,
    "start_time": "2022-06-13T16:53:41.509Z"
   },
   {
    "duration": 3,
    "start_time": "2022-06-13T16:53:42.499Z"
   },
   {
    "duration": 400,
    "start_time": "2022-06-13T16:53:42.503Z"
   },
   {
    "duration": 10,
    "start_time": "2022-06-13T16:53:42.905Z"
   },
   {
    "duration": 7,
    "start_time": "2022-06-13T16:53:42.917Z"
   },
   {
    "duration": 10,
    "start_time": "2022-06-13T16:53:42.925Z"
   },
   {
    "duration": 8,
    "start_time": "2022-06-13T16:53:42.937Z"
   },
   {
    "duration": 14,
    "start_time": "2022-06-13T16:53:42.946Z"
   },
   {
    "duration": 39,
    "start_time": "2022-06-13T16:53:42.961Z"
   },
   {
    "duration": 19,
    "start_time": "2022-06-13T16:53:43.001Z"
   },
   {
    "duration": 6,
    "start_time": "2022-06-13T16:53:43.021Z"
   },
   {
    "duration": 6,
    "start_time": "2022-06-13T16:53:43.028Z"
   },
   {
    "duration": 71,
    "start_time": "2022-06-13T16:53:43.035Z"
   },
   {
    "duration": 33,
    "start_time": "2022-06-13T16:53:43.110Z"
   },
   {
    "duration": 291,
    "start_time": "2022-06-13T16:53:43.145Z"
   },
   {
    "duration": 184,
    "start_time": "2022-06-13T16:53:43.438Z"
   },
   {
    "duration": 20,
    "start_time": "2022-06-13T16:53:43.623Z"
   },
   {
    "duration": 57,
    "start_time": "2022-06-13T16:53:43.644Z"
   },
   {
    "duration": 15,
    "start_time": "2022-06-13T16:53:43.702Z"
   },
   {
    "duration": 16,
    "start_time": "2022-06-13T16:53:43.719Z"
   },
   {
    "duration": 262,
    "start_time": "2022-06-13T16:53:43.736Z"
   },
   {
    "duration": 169,
    "start_time": "2022-06-13T16:53:43.999Z"
   },
   {
    "duration": 30,
    "start_time": "2022-06-13T16:53:44.169Z"
   },
   {
    "duration": 35,
    "start_time": "2022-06-13T16:53:44.200Z"
   },
   {
    "duration": 16,
    "start_time": "2022-06-13T16:53:44.237Z"
   },
   {
    "duration": 38,
    "start_time": "2022-06-13T16:53:44.254Z"
   },
   {
    "duration": 207,
    "start_time": "2022-06-13T16:53:44.293Z"
   },
   {
    "duration": 6,
    "start_time": "2022-06-13T16:53:44.502Z"
   },
   {
    "duration": 12,
    "start_time": "2022-06-13T16:53:44.509Z"
   },
   {
    "duration": 8,
    "start_time": "2022-06-13T16:53:44.523Z"
   },
   {
    "duration": 4,
    "start_time": "2022-06-13T16:53:44.532Z"
   },
   {
    "duration": 15,
    "start_time": "2022-06-13T16:53:44.538Z"
   },
   {
    "duration": 25,
    "start_time": "2022-06-13T16:53:44.554Z"
   },
   {
    "duration": 51,
    "start_time": "2022-06-13T16:53:44.581Z"
   },
   {
    "duration": 7,
    "start_time": "2022-06-13T16:53:44.634Z"
   },
   {
    "duration": 11,
    "start_time": "2022-06-13T16:53:44.642Z"
   },
   {
    "duration": 21,
    "start_time": "2022-06-13T16:53:44.654Z"
   },
   {
    "duration": 12,
    "start_time": "2022-06-13T16:53:44.676Z"
   },
   {
    "duration": 16,
    "start_time": "2022-06-13T16:53:44.689Z"
   },
   {
    "duration": 22,
    "start_time": "2022-06-13T16:53:44.706Z"
   },
   {
    "duration": 6,
    "start_time": "2022-06-13T16:53:44.733Z"
   },
   {
    "duration": 14,
    "start_time": "2022-06-13T16:53:44.741Z"
   },
   {
    "duration": 33,
    "start_time": "2022-06-13T16:53:44.757Z"
   },
   {
    "duration": 7,
    "start_time": "2022-06-13T16:53:44.793Z"
   },
   {
    "duration": 15,
    "start_time": "2022-06-13T16:53:44.801Z"
   },
   {
    "duration": 16,
    "start_time": "2022-06-13T16:53:44.817Z"
   },
   {
    "duration": 17,
    "start_time": "2022-06-13T16:53:44.835Z"
   },
   {
    "duration": 8,
    "start_time": "2022-06-13T16:53:44.853Z"
   },
   {
    "duration": 8,
    "start_time": "2022-06-13T16:53:44.877Z"
   },
   {
    "duration": 8,
    "start_time": "2022-06-13T16:53:44.893Z"
   },
   {
    "duration": 9,
    "start_time": "2022-06-13T16:53:44.902Z"
   },
   {
    "duration": 3,
    "start_time": "2022-06-13T16:53:44.912Z"
   },
   {
    "duration": 14,
    "start_time": "2022-06-13T16:53:44.916Z"
   },
   {
    "duration": 126,
    "start_time": "2022-06-13T16:53:44.932Z"
   },
   {
    "duration": 4,
    "start_time": "2022-06-13T16:53:45.060Z"
   },
   {
    "duration": 29,
    "start_time": "2022-06-13T16:53:45.065Z"
   },
   {
    "duration": 13,
    "start_time": "2022-06-13T16:53:45.095Z"
   },
   {
    "duration": 5,
    "start_time": "2022-06-13T16:53:45.109Z"
   },
   {
    "duration": 8,
    "start_time": "2022-06-13T16:53:45.115Z"
   },
   {
    "duration": 10,
    "start_time": "2022-06-13T16:53:45.124Z"
   },
   {
    "duration": 137,
    "start_time": "2022-06-13T16:53:45.135Z"
   },
   {
    "duration": 141,
    "start_time": "2022-06-13T16:53:45.273Z"
   },
   {
    "duration": 39,
    "start_time": "2022-06-13T16:53:45.416Z"
   },
   {
    "duration": 214,
    "start_time": "2022-06-13T16:53:45.457Z"
   },
   {
    "duration": 135,
    "start_time": "2022-06-13T16:53:45.679Z"
   },
   {
    "duration": 9,
    "start_time": "2022-06-13T16:53:45.815Z"
   },
   {
    "duration": 173,
    "start_time": "2022-06-13T16:53:45.825Z"
   },
   {
    "duration": 148,
    "start_time": "2022-06-13T16:53:45.999Z"
   },
   {
    "duration": 10,
    "start_time": "2022-06-13T16:53:46.148Z"
   },
   {
    "duration": 149,
    "start_time": "2022-06-13T16:53:46.159Z"
   },
   {
    "duration": 138,
    "start_time": "2022-06-13T16:53:46.309Z"
   },
   {
    "duration": 9,
    "start_time": "2022-06-13T16:53:46.448Z"
   },
   {
    "duration": 4,
    "start_time": "2022-06-13T16:53:46.458Z"
   },
   {
    "duration": 41,
    "start_time": "2022-06-13T16:53:46.464Z"
   },
   {
    "duration": 94,
    "start_time": "2022-06-13T16:53:46.506Z"
   },
   {
    "duration": 0,
    "start_time": "2022-06-13T16:53:46.602Z"
   },
   {
    "duration": 0,
    "start_time": "2022-06-13T16:53:46.602Z"
   },
   {
    "duration": 0,
    "start_time": "2022-06-13T16:53:46.603Z"
   },
   {
    "duration": 0,
    "start_time": "2022-06-13T16:53:46.605Z"
   },
   {
    "duration": 6,
    "start_time": "2022-06-13T16:53:55.757Z"
   },
   {
    "duration": 1040,
    "start_time": "2022-06-13T16:54:01.172Z"
   },
   {
    "duration": 2,
    "start_time": "2022-06-13T16:54:02.214Z"
   },
   {
    "duration": 422,
    "start_time": "2022-06-13T16:54:02.217Z"
   },
   {
    "duration": 10,
    "start_time": "2022-06-13T16:54:02.641Z"
   },
   {
    "duration": 9,
    "start_time": "2022-06-13T16:54:02.652Z"
   },
   {
    "duration": 45,
    "start_time": "2022-06-13T16:54:02.663Z"
   },
   {
    "duration": 17,
    "start_time": "2022-06-13T16:54:02.710Z"
   },
   {
    "duration": 43,
    "start_time": "2022-06-13T16:54:02.728Z"
   },
   {
    "duration": 55,
    "start_time": "2022-06-13T16:54:02.773Z"
   },
   {
    "duration": 19,
    "start_time": "2022-06-13T16:54:02.830Z"
   },
   {
    "duration": 5,
    "start_time": "2022-06-13T16:54:02.851Z"
   },
   {
    "duration": 5,
    "start_time": "2022-06-13T16:54:02.858Z"
   },
   {
    "duration": 60,
    "start_time": "2022-06-13T16:54:02.864Z"
   },
   {
    "duration": 33,
    "start_time": "2022-06-13T16:54:02.926Z"
   },
   {
    "duration": 270,
    "start_time": "2022-06-13T16:54:02.961Z"
   },
   {
    "duration": 203,
    "start_time": "2022-06-13T16:54:03.232Z"
   },
   {
    "duration": 20,
    "start_time": "2022-06-13T16:54:03.437Z"
   },
   {
    "duration": 63,
    "start_time": "2022-06-13T16:54:03.459Z"
   },
   {
    "duration": 17,
    "start_time": "2022-06-13T16:54:03.524Z"
   },
   {
    "duration": 17,
    "start_time": "2022-06-13T16:54:03.543Z"
   },
   {
    "duration": 257,
    "start_time": "2022-06-13T16:54:03.580Z"
   },
   {
    "duration": 191,
    "start_time": "2022-06-13T16:54:03.838Z"
   },
   {
    "duration": 18,
    "start_time": "2022-06-13T16:54:04.030Z"
   },
   {
    "duration": 54,
    "start_time": "2022-06-13T16:54:04.050Z"
   },
   {
    "duration": 21,
    "start_time": "2022-06-13T16:54:04.107Z"
   },
   {
    "duration": 18,
    "start_time": "2022-06-13T16:54:04.129Z"
   },
   {
    "duration": 227,
    "start_time": "2022-06-13T16:54:04.149Z"
   },
   {
    "duration": 14,
    "start_time": "2022-06-13T16:54:04.380Z"
   },
   {
    "duration": 33,
    "start_time": "2022-06-13T16:54:04.396Z"
   },
   {
    "duration": 24,
    "start_time": "2022-06-13T16:54:04.431Z"
   },
   {
    "duration": 14,
    "start_time": "2022-06-13T16:54:04.457Z"
   },
   {
    "duration": 40,
    "start_time": "2022-06-13T16:54:04.473Z"
   },
   {
    "duration": 15,
    "start_time": "2022-06-13T16:54:04.515Z"
   },
   {
    "duration": 50,
    "start_time": "2022-06-13T16:54:04.532Z"
   },
   {
    "duration": 7,
    "start_time": "2022-06-13T16:54:04.584Z"
   },
   {
    "duration": 37,
    "start_time": "2022-06-13T16:54:04.593Z"
   },
   {
    "duration": 36,
    "start_time": "2022-06-13T16:54:04.632Z"
   },
   {
    "duration": 15,
    "start_time": "2022-06-13T16:54:04.670Z"
   },
   {
    "duration": 25,
    "start_time": "2022-06-13T16:54:04.694Z"
   },
   {
    "duration": 32,
    "start_time": "2022-06-13T16:54:04.721Z"
   },
   {
    "duration": 7,
    "start_time": "2022-06-13T16:54:04.754Z"
   },
   {
    "duration": 41,
    "start_time": "2022-06-13T16:54:04.763Z"
   },
   {
    "duration": 13,
    "start_time": "2022-06-13T16:54:04.806Z"
   },
   {
    "duration": 7,
    "start_time": "2022-06-13T16:54:04.821Z"
   },
   {
    "duration": 19,
    "start_time": "2022-06-13T16:54:04.830Z"
   },
   {
    "duration": 32,
    "start_time": "2022-06-13T16:54:04.850Z"
   },
   {
    "duration": 27,
    "start_time": "2022-06-13T16:54:04.883Z"
   },
   {
    "duration": 19,
    "start_time": "2022-06-13T16:54:04.912Z"
   },
   {
    "duration": 29,
    "start_time": "2022-06-13T16:54:04.932Z"
   },
   {
    "duration": 35,
    "start_time": "2022-06-13T16:54:04.962Z"
   },
   {
    "duration": 22,
    "start_time": "2022-06-13T16:54:04.999Z"
   },
   {
    "duration": 5,
    "start_time": "2022-06-13T16:54:05.023Z"
   },
   {
    "duration": 15,
    "start_time": "2022-06-13T16:54:05.029Z"
   },
   {
    "duration": 120,
    "start_time": "2022-06-13T16:54:05.046Z"
   },
   {
    "duration": 16,
    "start_time": "2022-06-13T16:54:05.167Z"
   },
   {
    "duration": 33,
    "start_time": "2022-06-13T16:54:05.186Z"
   },
   {
    "duration": 13,
    "start_time": "2022-06-13T16:54:05.220Z"
   },
   {
    "duration": 4,
    "start_time": "2022-06-13T16:54:05.235Z"
   },
   {
    "duration": 5,
    "start_time": "2022-06-13T16:54:05.241Z"
   },
   {
    "duration": 7,
    "start_time": "2022-06-13T16:54:05.247Z"
   },
   {
    "duration": 148,
    "start_time": "2022-06-13T16:54:05.255Z"
   },
   {
    "duration": 134,
    "start_time": "2022-06-13T16:54:05.405Z"
   },
   {
    "duration": 57,
    "start_time": "2022-06-13T16:54:05.541Z"
   },
   {
    "duration": 221,
    "start_time": "2022-06-13T16:54:05.601Z"
   },
   {
    "duration": 137,
    "start_time": "2022-06-13T16:54:05.824Z"
   },
   {
    "duration": 19,
    "start_time": "2022-06-13T16:54:05.963Z"
   },
   {
    "duration": 172,
    "start_time": "2022-06-13T16:54:05.987Z"
   },
   {
    "duration": 155,
    "start_time": "2022-06-13T16:54:06.160Z"
   },
   {
    "duration": 9,
    "start_time": "2022-06-13T16:54:06.317Z"
   },
   {
    "duration": 156,
    "start_time": "2022-06-13T16:54:06.327Z"
   },
   {
    "duration": 138,
    "start_time": "2022-06-13T16:54:06.485Z"
   },
   {
    "duration": 10,
    "start_time": "2022-06-13T16:54:06.625Z"
   },
   {
    "duration": 3,
    "start_time": "2022-06-13T16:54:06.637Z"
   },
   {
    "duration": 20,
    "start_time": "2022-06-13T16:54:06.641Z"
   },
   {
    "duration": 14,
    "start_time": "2022-06-13T16:54:06.681Z"
   },
   {
    "duration": 8,
    "start_time": "2022-06-13T16:54:06.697Z"
   },
   {
    "duration": 7,
    "start_time": "2022-06-13T16:54:06.706Z"
   },
   {
    "duration": 92,
    "start_time": "2022-06-13T16:54:06.715Z"
   },
   {
    "duration": 0,
    "start_time": "2022-06-13T16:54:06.809Z"
   },
   {
    "duration": 984,
    "start_time": "2022-06-13T16:54:33.354Z"
   },
   {
    "duration": 3,
    "start_time": "2022-06-13T16:54:34.340Z"
   },
   {
    "duration": 417,
    "start_time": "2022-06-13T16:54:34.345Z"
   },
   {
    "duration": 14,
    "start_time": "2022-06-13T16:54:34.763Z"
   },
   {
    "duration": 12,
    "start_time": "2022-06-13T16:54:34.790Z"
   },
   {
    "duration": 22,
    "start_time": "2022-06-13T16:54:34.804Z"
   },
   {
    "duration": 16,
    "start_time": "2022-06-13T16:54:34.828Z"
   },
   {
    "duration": 23,
    "start_time": "2022-06-13T16:54:34.846Z"
   },
   {
    "duration": 43,
    "start_time": "2022-06-13T16:54:34.870Z"
   },
   {
    "duration": 19,
    "start_time": "2022-06-13T16:54:34.915Z"
   },
   {
    "duration": 23,
    "start_time": "2022-06-13T16:54:34.936Z"
   },
   {
    "duration": 12,
    "start_time": "2022-06-13T16:54:34.960Z"
   },
   {
    "duration": 63,
    "start_time": "2022-06-13T16:54:34.973Z"
   },
   {
    "duration": 41,
    "start_time": "2022-06-13T16:54:35.039Z"
   },
   {
    "duration": 265,
    "start_time": "2022-06-13T16:54:35.081Z"
   },
   {
    "duration": 187,
    "start_time": "2022-06-13T16:54:35.348Z"
   },
   {
    "duration": 21,
    "start_time": "2022-06-13T16:54:35.537Z"
   },
   {
    "duration": 66,
    "start_time": "2022-06-13T16:54:35.560Z"
   },
   {
    "duration": 19,
    "start_time": "2022-06-13T16:54:35.627Z"
   },
   {
    "duration": 23,
    "start_time": "2022-06-13T16:54:35.648Z"
   },
   {
    "duration": 241,
    "start_time": "2022-06-13T16:54:35.673Z"
   },
   {
    "duration": 194,
    "start_time": "2022-06-13T16:54:35.915Z"
   },
   {
    "duration": 19,
    "start_time": "2022-06-13T16:54:36.110Z"
   },
   {
    "duration": 52,
    "start_time": "2022-06-13T16:54:36.130Z"
   },
   {
    "duration": 32,
    "start_time": "2022-06-13T16:54:36.183Z"
   },
   {
    "duration": 18,
    "start_time": "2022-06-13T16:54:36.217Z"
   },
   {
    "duration": 230,
    "start_time": "2022-06-13T16:54:36.236Z"
   },
   {
    "duration": 15,
    "start_time": "2022-06-13T16:54:36.467Z"
   },
   {
    "duration": 33,
    "start_time": "2022-06-13T16:54:36.486Z"
   },
   {
    "duration": 26,
    "start_time": "2022-06-13T16:54:36.520Z"
   },
   {
    "duration": 8,
    "start_time": "2022-06-13T16:54:36.547Z"
   },
   {
    "duration": 23,
    "start_time": "2022-06-13T16:54:36.557Z"
   },
   {
    "duration": 29,
    "start_time": "2022-06-13T16:54:36.584Z"
   },
   {
    "duration": 38,
    "start_time": "2022-06-13T16:54:36.614Z"
   },
   {
    "duration": 8,
    "start_time": "2022-06-13T16:54:36.653Z"
   },
   {
    "duration": 23,
    "start_time": "2022-06-13T16:54:36.662Z"
   },
   {
    "duration": 33,
    "start_time": "2022-06-13T16:54:36.687Z"
   },
   {
    "duration": 7,
    "start_time": "2022-06-13T16:54:36.721Z"
   },
   {
    "duration": 24,
    "start_time": "2022-06-13T16:54:36.729Z"
   },
   {
    "duration": 39,
    "start_time": "2022-06-13T16:54:36.754Z"
   },
   {
    "duration": 7,
    "start_time": "2022-06-13T16:54:36.797Z"
   },
   {
    "duration": 28,
    "start_time": "2022-06-13T16:54:36.806Z"
   },
   {
    "duration": 28,
    "start_time": "2022-06-13T16:54:36.836Z"
   },
   {
    "duration": 7,
    "start_time": "2022-06-13T16:54:36.865Z"
   },
   {
    "duration": 29,
    "start_time": "2022-06-13T16:54:36.873Z"
   },
   {
    "duration": 23,
    "start_time": "2022-06-13T16:54:36.904Z"
   },
   {
    "duration": 18,
    "start_time": "2022-06-13T16:54:36.928Z"
   },
   {
    "duration": 8,
    "start_time": "2022-06-13T16:54:36.948Z"
   },
   {
    "duration": 5,
    "start_time": "2022-06-13T16:54:36.957Z"
   },
   {
    "duration": 24,
    "start_time": "2022-06-13T16:54:36.978Z"
   },
   {
    "duration": 11,
    "start_time": "2022-06-13T16:54:37.004Z"
   },
   {
    "duration": 4,
    "start_time": "2022-06-13T16:54:37.017Z"
   },
   {
    "duration": 22,
    "start_time": "2022-06-13T16:54:37.022Z"
   },
   {
    "duration": 119,
    "start_time": "2022-06-13T16:54:37.046Z"
   },
   {
    "duration": 5,
    "start_time": "2022-06-13T16:54:37.167Z"
   },
   {
    "duration": 46,
    "start_time": "2022-06-13T16:54:37.173Z"
   },
   {
    "duration": 14,
    "start_time": "2022-06-13T16:54:37.220Z"
   },
   {
    "duration": 5,
    "start_time": "2022-06-13T16:54:37.235Z"
   },
   {
    "duration": 6,
    "start_time": "2022-06-13T16:54:37.241Z"
   },
   {
    "duration": 12,
    "start_time": "2022-06-13T16:54:37.248Z"
   },
   {
    "duration": 149,
    "start_time": "2022-06-13T16:54:37.261Z"
   },
   {
    "duration": 138,
    "start_time": "2022-06-13T16:54:37.412Z"
   },
   {
    "duration": 54,
    "start_time": "2022-06-13T16:54:37.552Z"
   },
   {
    "duration": 267,
    "start_time": "2022-06-13T16:54:37.608Z"
   },
   {
    "duration": 165,
    "start_time": "2022-06-13T16:54:37.877Z"
   },
   {
    "duration": 14,
    "start_time": "2022-06-13T16:54:38.044Z"
   },
   {
    "duration": 186,
    "start_time": "2022-06-13T16:54:38.059Z"
   },
   {
    "duration": 162,
    "start_time": "2022-06-13T16:54:38.247Z"
   },
   {
    "duration": 10,
    "start_time": "2022-06-13T16:54:38.411Z"
   },
   {
    "duration": 150,
    "start_time": "2022-06-13T16:54:38.423Z"
   },
   {
    "duration": 152,
    "start_time": "2022-06-13T16:54:38.575Z"
   },
   {
    "duration": 10,
    "start_time": "2022-06-13T16:54:38.728Z"
   },
   {
    "duration": 16,
    "start_time": "2022-06-13T16:54:38.740Z"
   },
   {
    "duration": 36,
    "start_time": "2022-06-13T16:54:38.757Z"
   },
   {
    "duration": 20,
    "start_time": "2022-06-13T16:54:38.795Z"
   },
   {
    "duration": 15,
    "start_time": "2022-06-13T16:54:38.817Z"
   },
   {
    "duration": 17,
    "start_time": "2022-06-13T16:54:38.833Z"
   },
   {
    "duration": 22,
    "start_time": "2022-06-13T16:54:38.851Z"
   },
   {
    "duration": 21,
    "start_time": "2022-06-13T16:54:38.874Z"
   },
   {
    "duration": 971,
    "start_time": "2022-06-13T17:02:03.232Z"
   },
   {
    "duration": 2,
    "start_time": "2022-06-13T17:02:04.205Z"
   },
   {
    "duration": 429,
    "start_time": "2022-06-13T17:02:04.208Z"
   },
   {
    "duration": 12,
    "start_time": "2022-06-13T17:02:04.639Z"
   },
   {
    "duration": 7,
    "start_time": "2022-06-13T17:02:04.652Z"
   },
   {
    "duration": 14,
    "start_time": "2022-06-13T17:02:04.661Z"
   },
   {
    "duration": 19,
    "start_time": "2022-06-13T17:02:04.676Z"
   },
   {
    "duration": 13,
    "start_time": "2022-06-13T17:02:04.696Z"
   },
   {
    "duration": 35,
    "start_time": "2022-06-13T17:02:04.711Z"
   },
   {
    "duration": 19,
    "start_time": "2022-06-13T17:02:04.748Z"
   },
   {
    "duration": 7,
    "start_time": "2022-06-13T17:02:04.769Z"
   },
   {
    "duration": 19,
    "start_time": "2022-06-13T17:02:04.777Z"
   },
   {
    "duration": 61,
    "start_time": "2022-06-13T17:02:04.797Z"
   },
   {
    "duration": 37,
    "start_time": "2022-06-13T17:02:04.860Z"
   },
   {
    "duration": 262,
    "start_time": "2022-06-13T17:02:04.899Z"
   },
   {
    "duration": 172,
    "start_time": "2022-06-13T17:02:05.162Z"
   },
   {
    "duration": 20,
    "start_time": "2022-06-13T17:02:05.335Z"
   },
   {
    "duration": 59,
    "start_time": "2022-06-13T17:02:05.357Z"
   },
   {
    "duration": 14,
    "start_time": "2022-06-13T17:02:05.418Z"
   },
   {
    "duration": 21,
    "start_time": "2022-06-13T17:02:05.433Z"
   },
   {
    "duration": 247,
    "start_time": "2022-06-13T17:02:05.455Z"
   },
   {
    "duration": 192,
    "start_time": "2022-06-13T17:02:05.704Z"
   },
   {
    "duration": 19,
    "start_time": "2022-06-13T17:02:05.897Z"
   },
   {
    "duration": 35,
    "start_time": "2022-06-13T17:02:05.917Z"
   },
   {
    "duration": 32,
    "start_time": "2022-06-13T17:02:05.953Z"
   },
   {
    "duration": 21,
    "start_time": "2022-06-13T17:02:05.988Z"
   },
   {
    "duration": 197,
    "start_time": "2022-06-13T17:02:06.011Z"
   },
   {
    "duration": 5,
    "start_time": "2022-06-13T17:02:06.212Z"
   },
   {
    "duration": 23,
    "start_time": "2022-06-13T17:02:06.219Z"
   },
   {
    "duration": 15,
    "start_time": "2022-06-13T17:02:06.244Z"
   },
   {
    "duration": 9,
    "start_time": "2022-06-13T17:02:06.261Z"
   },
   {
    "duration": 30,
    "start_time": "2022-06-13T17:02:06.271Z"
   },
   {
    "duration": 20,
    "start_time": "2022-06-13T17:02:06.303Z"
   },
   {
    "duration": 38,
    "start_time": "2022-06-13T17:02:06.324Z"
   },
   {
    "duration": 7,
    "start_time": "2022-06-13T17:02:06.365Z"
   },
   {
    "duration": 25,
    "start_time": "2022-06-13T17:02:06.374Z"
   },
   {
    "duration": 23,
    "start_time": "2022-06-13T17:02:06.401Z"
   },
   {
    "duration": 7,
    "start_time": "2022-06-13T17:02:06.425Z"
   },
   {
    "duration": 15,
    "start_time": "2022-06-13T17:02:06.434Z"
   },
   {
    "duration": 40,
    "start_time": "2022-06-13T17:02:06.451Z"
   },
   {
    "duration": 8,
    "start_time": "2022-06-13T17:02:06.493Z"
   },
   {
    "duration": 33,
    "start_time": "2022-06-13T17:02:06.502Z"
   },
   {
    "duration": 14,
    "start_time": "2022-06-13T17:02:06.536Z"
   },
   {
    "duration": 10,
    "start_time": "2022-06-13T17:02:06.551Z"
   },
   {
    "duration": 34,
    "start_time": "2022-06-13T17:02:06.562Z"
   },
   {
    "duration": 29,
    "start_time": "2022-06-13T17:02:06.598Z"
   },
   {
    "duration": 16,
    "start_time": "2022-06-13T17:02:06.628Z"
   },
   {
    "duration": 6,
    "start_time": "2022-06-13T17:02:06.646Z"
   },
   {
    "duration": 10,
    "start_time": "2022-06-13T17:02:06.653Z"
   },
   {
    "duration": 28,
    "start_time": "2022-06-13T17:02:06.664Z"
   },
   {
    "duration": 16,
    "start_time": "2022-06-13T17:02:06.694Z"
   },
   {
    "duration": 4,
    "start_time": "2022-06-13T17:02:06.711Z"
   },
   {
    "duration": 16,
    "start_time": "2022-06-13T17:02:06.716Z"
   },
   {
    "duration": 118,
    "start_time": "2022-06-13T17:02:06.733Z"
   },
   {
    "duration": 5,
    "start_time": "2022-06-13T17:02:06.852Z"
   },
   {
    "duration": 30,
    "start_time": "2022-06-13T17:02:06.859Z"
   },
   {
    "duration": 14,
    "start_time": "2022-06-13T17:02:06.890Z"
   },
   {
    "duration": 5,
    "start_time": "2022-06-13T17:02:06.905Z"
   },
   {
    "duration": 4,
    "start_time": "2022-06-13T17:02:06.911Z"
   },
   {
    "duration": 9,
    "start_time": "2022-06-13T17:02:06.916Z"
   },
   {
    "duration": 134,
    "start_time": "2022-06-13T17:02:06.926Z"
   },
   {
    "duration": 128,
    "start_time": "2022-06-13T17:02:07.062Z"
   },
   {
    "duration": 41,
    "start_time": "2022-06-13T17:02:07.192Z"
   },
   {
    "duration": 223,
    "start_time": "2022-06-13T17:02:07.235Z"
   },
   {
    "duration": 146,
    "start_time": "2022-06-13T17:02:07.460Z"
   },
   {
    "duration": 14,
    "start_time": "2022-06-13T17:02:07.608Z"
   },
   {
    "duration": 233,
    "start_time": "2022-06-13T17:02:07.623Z"
   },
   {
    "duration": 176,
    "start_time": "2022-06-13T17:02:07.858Z"
   },
   {
    "duration": 10,
    "start_time": "2022-06-13T17:02:08.036Z"
   },
   {
    "duration": 154,
    "start_time": "2022-06-13T17:02:08.048Z"
   },
   {
    "duration": 145,
    "start_time": "2022-06-13T17:02:08.203Z"
   },
   {
    "duration": 13,
    "start_time": "2022-06-13T17:02:08.349Z"
   },
   {
    "duration": 22,
    "start_time": "2022-06-13T17:02:08.363Z"
   },
   {
    "duration": 29,
    "start_time": "2022-06-13T17:02:08.391Z"
   },
   {
    "duration": 9,
    "start_time": "2022-06-13T17:02:08.422Z"
   },
   {
    "duration": 5,
    "start_time": "2022-06-13T17:02:08.433Z"
   },
   {
    "duration": 5,
    "start_time": "2022-06-13T17:02:08.440Z"
   },
   {
    "duration": 6,
    "start_time": "2022-06-13T17:02:08.446Z"
   },
   {
    "duration": 9,
    "start_time": "2022-06-13T17:02:08.453Z"
   },
   {
    "duration": 8,
    "start_time": "2022-06-13T17:02:08.464Z"
   },
   {
    "duration": 100,
    "start_time": "2022-06-13T17:02:08.473Z"
   },
   {
    "duration": 1,
    "start_time": "2022-06-13T17:02:08.574Z"
   },
   {
    "duration": 0,
    "start_time": "2022-06-13T17:02:08.575Z"
   },
   {
    "duration": 0,
    "start_time": "2022-06-13T17:02:08.576Z"
   },
   {
    "duration": 0,
    "start_time": "2022-06-13T17:02:08.577Z"
   },
   {
    "duration": 0,
    "start_time": "2022-06-13T17:02:08.578Z"
   },
   {
    "duration": 1042,
    "start_time": "2022-06-13T17:02:27.452Z"
   },
   {
    "duration": 2,
    "start_time": "2022-06-13T17:02:28.496Z"
   },
   {
    "duration": 405,
    "start_time": "2022-06-13T17:02:28.500Z"
   },
   {
    "duration": 9,
    "start_time": "2022-06-13T17:02:28.907Z"
   },
   {
    "duration": 6,
    "start_time": "2022-06-13T17:02:28.918Z"
   },
   {
    "duration": 7,
    "start_time": "2022-06-13T17:02:28.926Z"
   },
   {
    "duration": 8,
    "start_time": "2022-06-13T17:02:28.935Z"
   },
   {
    "duration": 15,
    "start_time": "2022-06-13T17:02:28.944Z"
   },
   {
    "duration": 61,
    "start_time": "2022-06-13T17:02:28.961Z"
   },
   {
    "duration": 19,
    "start_time": "2022-06-13T17:02:29.024Z"
   },
   {
    "duration": 4,
    "start_time": "2022-06-13T17:02:29.044Z"
   },
   {
    "duration": 8,
    "start_time": "2022-06-13T17:02:29.049Z"
   },
   {
    "duration": 61,
    "start_time": "2022-06-13T17:02:29.058Z"
   },
   {
    "duration": 33,
    "start_time": "2022-06-13T17:02:29.121Z"
   },
   {
    "duration": 267,
    "start_time": "2022-06-13T17:02:29.155Z"
   },
   {
    "duration": 179,
    "start_time": "2022-06-13T17:02:29.424Z"
   },
   {
    "duration": 19,
    "start_time": "2022-06-13T17:02:29.604Z"
   },
   {
    "duration": 58,
    "start_time": "2022-06-13T17:02:29.624Z"
   },
   {
    "duration": 17,
    "start_time": "2022-06-13T17:02:29.690Z"
   },
   {
    "duration": 15,
    "start_time": "2022-06-13T17:02:29.708Z"
   },
   {
    "duration": 233,
    "start_time": "2022-06-13T17:02:29.725Z"
   },
   {
    "duration": 172,
    "start_time": "2022-06-13T17:02:29.960Z"
   },
   {
    "duration": 17,
    "start_time": "2022-06-13T17:02:30.134Z"
   },
   {
    "duration": 52,
    "start_time": "2022-06-13T17:02:30.153Z"
   },
   {
    "duration": 13,
    "start_time": "2022-06-13T17:02:30.207Z"
   },
   {
    "duration": 17,
    "start_time": "2022-06-13T17:02:30.222Z"
   },
   {
    "duration": 228,
    "start_time": "2022-06-13T17:02:30.241Z"
   },
   {
    "duration": 5,
    "start_time": "2022-06-13T17:02:30.470Z"
   },
   {
    "duration": 30,
    "start_time": "2022-06-13T17:02:30.479Z"
   },
   {
    "duration": 22,
    "start_time": "2022-06-13T17:02:30.510Z"
   },
   {
    "duration": 8,
    "start_time": "2022-06-13T17:02:30.533Z"
   },
   {
    "duration": 15,
    "start_time": "2022-06-13T17:02:30.543Z"
   },
   {
    "duration": 8,
    "start_time": "2022-06-13T17:02:30.560Z"
   },
   {
    "duration": 69,
    "start_time": "2022-06-13T17:02:30.569Z"
   },
   {
    "duration": 6,
    "start_time": "2022-06-13T17:02:30.640Z"
   },
   {
    "duration": 50,
    "start_time": "2022-06-13T17:02:30.648Z"
   },
   {
    "duration": 34,
    "start_time": "2022-06-13T17:02:30.699Z"
   },
   {
    "duration": 8,
    "start_time": "2022-06-13T17:02:30.735Z"
   },
   {
    "duration": 27,
    "start_time": "2022-06-13T17:02:30.744Z"
   },
   {
    "duration": 50,
    "start_time": "2022-06-13T17:02:30.772Z"
   },
   {
    "duration": 7,
    "start_time": "2022-06-13T17:02:30.828Z"
   },
   {
    "duration": 24,
    "start_time": "2022-06-13T17:02:30.837Z"
   },
   {
    "duration": 21,
    "start_time": "2022-06-13T17:02:30.863Z"
   },
   {
    "duration": 27,
    "start_time": "2022-06-13T17:02:30.886Z"
   },
   {
    "duration": 55,
    "start_time": "2022-06-13T17:02:30.915Z"
   },
   {
    "duration": 24,
    "start_time": "2022-06-13T17:02:30.972Z"
   },
   {
    "duration": 16,
    "start_time": "2022-06-13T17:02:30.998Z"
   },
   {
    "duration": 6,
    "start_time": "2022-06-13T17:02:31.015Z"
   },
   {
    "duration": 12,
    "start_time": "2022-06-13T17:02:31.023Z"
   },
   {
    "duration": 9,
    "start_time": "2022-06-13T17:02:31.036Z"
   },
   {
    "duration": 23,
    "start_time": "2022-06-13T17:02:31.047Z"
   },
   {
    "duration": 8,
    "start_time": "2022-06-13T17:02:31.071Z"
   },
   {
    "duration": 21,
    "start_time": "2022-06-13T17:02:31.082Z"
   },
   {
    "duration": 111,
    "start_time": "2022-06-13T17:02:31.105Z"
   },
   {
    "duration": 5,
    "start_time": "2022-06-13T17:02:31.218Z"
   },
   {
    "duration": 26,
    "start_time": "2022-06-13T17:02:31.225Z"
   },
   {
    "duration": 15,
    "start_time": "2022-06-13T17:02:31.252Z"
   },
   {
    "duration": 5,
    "start_time": "2022-06-13T17:02:31.268Z"
   },
   {
    "duration": 13,
    "start_time": "2022-06-13T17:02:31.274Z"
   },
   {
    "duration": 13,
    "start_time": "2022-06-13T17:02:31.288Z"
   },
   {
    "duration": 153,
    "start_time": "2022-06-13T17:02:31.302Z"
   },
   {
    "duration": 134,
    "start_time": "2022-06-13T17:02:31.457Z"
   },
   {
    "duration": 42,
    "start_time": "2022-06-13T17:02:31.593Z"
   },
   {
    "duration": 223,
    "start_time": "2022-06-13T17:02:31.637Z"
   },
   {
    "duration": 171,
    "start_time": "2022-06-13T17:02:31.861Z"
   },
   {
    "duration": 10,
    "start_time": "2022-06-13T17:02:32.034Z"
   },
   {
    "duration": 181,
    "start_time": "2022-06-13T17:02:32.045Z"
   },
   {
    "duration": 163,
    "start_time": "2022-06-13T17:02:32.227Z"
   },
   {
    "duration": 9,
    "start_time": "2022-06-13T17:02:32.392Z"
   },
   {
    "duration": 143,
    "start_time": "2022-06-13T17:02:32.403Z"
   },
   {
    "duration": 145,
    "start_time": "2022-06-13T17:02:32.547Z"
   },
   {
    "duration": 9,
    "start_time": "2022-06-13T17:02:32.694Z"
   },
   {
    "duration": 4,
    "start_time": "2022-06-13T17:02:32.705Z"
   },
   {
    "duration": 27,
    "start_time": "2022-06-13T17:02:32.710Z"
   },
   {
    "duration": 10,
    "start_time": "2022-06-13T17:02:32.739Z"
   },
   {
    "duration": 16,
    "start_time": "2022-06-13T17:02:32.750Z"
   },
   {
    "duration": 5,
    "start_time": "2022-06-13T17:02:32.767Z"
   },
   {
    "duration": 20,
    "start_time": "2022-06-13T17:02:32.773Z"
   },
   {
    "duration": 6,
    "start_time": "2022-06-13T17:02:32.795Z"
   },
   {
    "duration": 8,
    "start_time": "2022-06-13T17:02:32.802Z"
   },
   {
    "duration": 7,
    "start_time": "2022-06-13T17:02:32.812Z"
   },
   {
    "duration": 98,
    "start_time": "2022-06-13T17:02:32.820Z"
   },
   {
    "duration": 0,
    "start_time": "2022-06-13T17:02:32.919Z"
   },
   {
    "duration": 0,
    "start_time": "2022-06-13T17:02:32.920Z"
   },
   {
    "duration": 0,
    "start_time": "2022-06-13T17:02:32.921Z"
   },
   {
    "duration": 0,
    "start_time": "2022-06-13T17:02:32.922Z"
   },
   {
    "duration": 956,
    "start_time": "2022-06-13T17:02:44.040Z"
   },
   {
    "duration": 2,
    "start_time": "2022-06-13T17:02:44.998Z"
   },
   {
    "duration": 422,
    "start_time": "2022-06-13T17:02:45.002Z"
   },
   {
    "duration": 10,
    "start_time": "2022-06-13T17:02:45.426Z"
   },
   {
    "duration": 11,
    "start_time": "2022-06-13T17:02:45.438Z"
   },
   {
    "duration": 15,
    "start_time": "2022-06-13T17:02:45.450Z"
   },
   {
    "duration": 26,
    "start_time": "2022-06-13T17:02:45.467Z"
   },
   {
    "duration": 11,
    "start_time": "2022-06-13T17:02:45.494Z"
   },
   {
    "duration": 31,
    "start_time": "2022-06-13T17:02:45.506Z"
   },
   {
    "duration": 19,
    "start_time": "2022-06-13T17:02:45.539Z"
   },
   {
    "duration": 7,
    "start_time": "2022-06-13T17:02:45.559Z"
   },
   {
    "duration": 6,
    "start_time": "2022-06-13T17:02:45.567Z"
   },
   {
    "duration": 75,
    "start_time": "2022-06-13T17:02:45.575Z"
   },
   {
    "duration": 40,
    "start_time": "2022-06-13T17:02:45.652Z"
   },
   {
    "duration": 267,
    "start_time": "2022-06-13T17:02:45.694Z"
   },
   {
    "duration": 185,
    "start_time": "2022-06-13T17:02:45.962Z"
   },
   {
    "duration": 20,
    "start_time": "2022-06-13T17:02:46.149Z"
   },
   {
    "duration": 59,
    "start_time": "2022-06-13T17:02:46.170Z"
   },
   {
    "duration": 15,
    "start_time": "2022-06-13T17:02:46.230Z"
   },
   {
    "duration": 14,
    "start_time": "2022-06-13T17:02:46.247Z"
   },
   {
    "duration": 244,
    "start_time": "2022-06-13T17:02:46.262Z"
   },
   {
    "duration": 194,
    "start_time": "2022-06-13T17:02:46.508Z"
   },
   {
    "duration": 18,
    "start_time": "2022-06-13T17:02:46.703Z"
   },
   {
    "duration": 34,
    "start_time": "2022-06-13T17:02:46.722Z"
   },
   {
    "duration": 40,
    "start_time": "2022-06-13T17:02:46.757Z"
   },
   {
    "duration": 18,
    "start_time": "2022-06-13T17:02:46.799Z"
   },
   {
    "duration": 214,
    "start_time": "2022-06-13T17:02:46.818Z"
   },
   {
    "duration": 5,
    "start_time": "2022-06-13T17:02:47.035Z"
   },
   {
    "duration": 12,
    "start_time": "2022-06-13T17:02:47.041Z"
   },
   {
    "duration": 14,
    "start_time": "2022-06-13T17:02:47.055Z"
   },
   {
    "duration": 6,
    "start_time": "2022-06-13T17:02:47.070Z"
   },
   {
    "duration": 25,
    "start_time": "2022-06-13T17:02:47.077Z"
   },
   {
    "duration": 10,
    "start_time": "2022-06-13T17:02:47.104Z"
   },
   {
    "duration": 31,
    "start_time": "2022-06-13T17:02:47.115Z"
   },
   {
    "duration": 6,
    "start_time": "2022-06-13T17:02:47.148Z"
   },
   {
    "duration": 12,
    "start_time": "2022-06-13T17:02:47.156Z"
   },
   {
    "duration": 28,
    "start_time": "2022-06-13T17:02:47.169Z"
   },
   {
    "duration": 6,
    "start_time": "2022-06-13T17:02:47.199Z"
   },
   {
    "duration": 9,
    "start_time": "2022-06-13T17:02:47.207Z"
   },
   {
    "duration": 23,
    "start_time": "2022-06-13T17:02:47.217Z"
   },
   {
    "duration": 7,
    "start_time": "2022-06-13T17:02:47.241Z"
   },
   {
    "duration": 34,
    "start_time": "2022-06-13T17:02:47.249Z"
   },
   {
    "duration": 16,
    "start_time": "2022-06-13T17:02:47.284Z"
   },
   {
    "duration": 7,
    "start_time": "2022-06-13T17:02:47.301Z"
   },
   {
    "duration": 23,
    "start_time": "2022-06-13T17:02:47.309Z"
   },
   {
    "duration": 19,
    "start_time": "2022-06-13T17:02:47.334Z"
   },
   {
    "duration": 40,
    "start_time": "2022-06-13T17:02:47.355Z"
   },
   {
    "duration": 7,
    "start_time": "2022-06-13T17:02:47.396Z"
   },
   {
    "duration": 13,
    "start_time": "2022-06-13T17:02:47.404Z"
   },
   {
    "duration": 28,
    "start_time": "2022-06-13T17:02:47.418Z"
   },
   {
    "duration": 11,
    "start_time": "2022-06-13T17:02:47.448Z"
   },
   {
    "duration": 4,
    "start_time": "2022-06-13T17:02:47.460Z"
   },
   {
    "duration": 38,
    "start_time": "2022-06-13T17:02:47.466Z"
   },
   {
    "duration": 147,
    "start_time": "2022-06-13T17:02:47.505Z"
   },
   {
    "duration": 5,
    "start_time": "2022-06-13T17:02:47.654Z"
   },
   {
    "duration": 51,
    "start_time": "2022-06-13T17:02:47.660Z"
   },
   {
    "duration": 17,
    "start_time": "2022-06-13T17:02:47.713Z"
   },
   {
    "duration": 19,
    "start_time": "2022-06-13T17:02:47.732Z"
   },
   {
    "duration": 42,
    "start_time": "2022-06-13T17:02:47.753Z"
   },
   {
    "duration": 15,
    "start_time": "2022-06-13T17:02:47.796Z"
   },
   {
    "duration": 214,
    "start_time": "2022-06-13T17:02:47.813Z"
   },
   {
    "duration": 133,
    "start_time": "2022-06-13T17:02:48.029Z"
   },
   {
    "duration": 51,
    "start_time": "2022-06-13T17:02:48.164Z"
   },
   {
    "duration": 229,
    "start_time": "2022-06-13T17:02:48.216Z"
   },
   {
    "duration": 147,
    "start_time": "2022-06-13T17:02:48.447Z"
   },
   {
    "duration": 10,
    "start_time": "2022-06-13T17:02:48.596Z"
   },
   {
    "duration": 194,
    "start_time": "2022-06-13T17:02:48.608Z"
   },
   {
    "duration": 149,
    "start_time": "2022-06-13T17:02:48.804Z"
   },
   {
    "duration": 9,
    "start_time": "2022-06-13T17:02:48.954Z"
   },
   {
    "duration": 159,
    "start_time": "2022-06-13T17:02:48.964Z"
   },
   {
    "duration": 136,
    "start_time": "2022-06-13T17:02:49.125Z"
   },
   {
    "duration": 10,
    "start_time": "2022-06-13T17:02:49.262Z"
   },
   {
    "duration": 13,
    "start_time": "2022-06-13T17:02:49.278Z"
   },
   {
    "duration": 18,
    "start_time": "2022-06-13T17:02:49.293Z"
   },
   {
    "duration": 7,
    "start_time": "2022-06-13T17:02:49.313Z"
   },
   {
    "duration": 6,
    "start_time": "2022-06-13T17:02:49.322Z"
   },
   {
    "duration": 7,
    "start_time": "2022-06-13T17:02:49.329Z"
   },
   {
    "duration": 6,
    "start_time": "2022-06-13T17:02:49.337Z"
   },
   {
    "duration": 8,
    "start_time": "2022-06-13T17:02:49.344Z"
   },
   {
    "duration": 9,
    "start_time": "2022-06-13T17:02:49.354Z"
   },
   {
    "duration": 26,
    "start_time": "2022-06-13T17:02:49.365Z"
   },
   {
    "duration": 8,
    "start_time": "2022-06-13T17:02:49.397Z"
   },
   {
    "duration": 7,
    "start_time": "2022-06-13T17:02:49.407Z"
   },
   {
    "duration": 6,
    "start_time": "2022-06-13T17:02:49.416Z"
   },
   {
    "duration": 3,
    "start_time": "2022-06-13T17:02:49.424Z"
   },
   {
    "duration": 7,
    "start_time": "2022-06-13T17:02:49.429Z"
   },
   {
    "duration": 1005,
    "start_time": "2022-06-13T17:09:41.729Z"
   },
   {
    "duration": 2,
    "start_time": "2022-06-13T17:09:42.736Z"
   },
   {
    "duration": 418,
    "start_time": "2022-06-13T17:09:42.739Z"
   },
   {
    "duration": 10,
    "start_time": "2022-06-13T17:09:43.159Z"
   },
   {
    "duration": 17,
    "start_time": "2022-06-13T17:09:43.171Z"
   },
   {
    "duration": 18,
    "start_time": "2022-06-13T17:09:43.189Z"
   },
   {
    "duration": 10,
    "start_time": "2022-06-13T17:09:43.208Z"
   },
   {
    "duration": 11,
    "start_time": "2022-06-13T17:09:43.219Z"
   },
   {
    "duration": 33,
    "start_time": "2022-06-13T17:09:43.232Z"
   },
   {
    "duration": 28,
    "start_time": "2022-06-13T17:09:43.267Z"
   },
   {
    "duration": 8,
    "start_time": "2022-06-13T17:09:43.297Z"
   },
   {
    "duration": 7,
    "start_time": "2022-06-13T17:09:43.306Z"
   },
   {
    "duration": 74,
    "start_time": "2022-06-13T17:09:43.314Z"
   },
   {
    "duration": 33,
    "start_time": "2022-06-13T17:09:43.390Z"
   },
   {
    "duration": 279,
    "start_time": "2022-06-13T17:09:43.424Z"
   },
   {
    "duration": 174,
    "start_time": "2022-06-13T17:09:43.705Z"
   },
   {
    "duration": 23,
    "start_time": "2022-06-13T17:09:43.888Z"
   },
   {
    "duration": 41,
    "start_time": "2022-06-13T17:09:43.912Z"
   },
   {
    "duration": 32,
    "start_time": "2022-06-13T17:09:43.955Z"
   },
   {
    "duration": 16,
    "start_time": "2022-06-13T17:09:43.988Z"
   },
   {
    "duration": 240,
    "start_time": "2022-06-13T17:09:44.006Z"
   },
   {
    "duration": 189,
    "start_time": "2022-06-13T17:09:44.247Z"
   },
   {
    "duration": 18,
    "start_time": "2022-06-13T17:09:44.437Z"
   },
   {
    "duration": 44,
    "start_time": "2022-06-13T17:09:44.456Z"
   },
   {
    "duration": 14,
    "start_time": "2022-06-13T17:09:44.502Z"
   },
   {
    "duration": 18,
    "start_time": "2022-06-13T17:09:44.517Z"
   },
   {
    "duration": 220,
    "start_time": "2022-06-13T17:09:44.536Z"
   },
   {
    "duration": 6,
    "start_time": "2022-06-13T17:09:44.760Z"
   },
   {
    "duration": 22,
    "start_time": "2022-06-13T17:09:44.767Z"
   },
   {
    "duration": 10,
    "start_time": "2022-06-13T17:09:44.790Z"
   },
   {
    "duration": 6,
    "start_time": "2022-06-13T17:09:44.802Z"
   },
   {
    "duration": 12,
    "start_time": "2022-06-13T17:09:44.809Z"
   },
   {
    "duration": 9,
    "start_time": "2022-06-13T17:09:44.822Z"
   },
   {
    "duration": 32,
    "start_time": "2022-06-13T17:09:44.833Z"
   },
   {
    "duration": 23,
    "start_time": "2022-06-13T17:09:44.867Z"
   },
   {
    "duration": 13,
    "start_time": "2022-06-13T17:09:44.892Z"
   },
   {
    "duration": 21,
    "start_time": "2022-06-13T17:09:44.906Z"
   },
   {
    "duration": 5,
    "start_time": "2022-06-13T17:09:44.929Z"
   },
   {
    "duration": 9,
    "start_time": "2022-06-13T17:09:44.936Z"
   },
   {
    "duration": 24,
    "start_time": "2022-06-13T17:09:44.946Z"
   },
   {
    "duration": 7,
    "start_time": "2022-06-13T17:09:44.987Z"
   },
   {
    "duration": 17,
    "start_time": "2022-06-13T17:09:44.995Z"
   },
   {
    "duration": 28,
    "start_time": "2022-06-13T17:09:45.014Z"
   },
   {
    "duration": 12,
    "start_time": "2022-06-13T17:09:45.044Z"
   },
   {
    "duration": 19,
    "start_time": "2022-06-13T17:09:45.057Z"
   },
   {
    "duration": 36,
    "start_time": "2022-06-13T17:09:45.077Z"
   },
   {
    "duration": 16,
    "start_time": "2022-06-13T17:09:45.114Z"
   },
   {
    "duration": 8,
    "start_time": "2022-06-13T17:09:45.131Z"
   },
   {
    "duration": 7,
    "start_time": "2022-06-13T17:09:45.140Z"
   },
   {
    "duration": 12,
    "start_time": "2022-06-13T17:09:45.148Z"
   },
   {
    "duration": 8,
    "start_time": "2022-06-13T17:09:45.162Z"
   },
   {
    "duration": 16,
    "start_time": "2022-06-13T17:09:45.172Z"
   },
   {
    "duration": 23,
    "start_time": "2022-06-13T17:09:45.190Z"
   },
   {
    "duration": 130,
    "start_time": "2022-06-13T17:09:45.214Z"
   },
   {
    "duration": 4,
    "start_time": "2022-06-13T17:09:45.346Z"
   },
   {
    "duration": 38,
    "start_time": "2022-06-13T17:09:45.351Z"
   },
   {
    "duration": 14,
    "start_time": "2022-06-13T17:09:45.391Z"
   },
   {
    "duration": 6,
    "start_time": "2022-06-13T17:09:45.406Z"
   },
   {
    "duration": 7,
    "start_time": "2022-06-13T17:09:45.414Z"
   },
   {
    "duration": 5,
    "start_time": "2022-06-13T17:09:45.423Z"
   },
   {
    "duration": 144,
    "start_time": "2022-06-13T17:09:45.429Z"
   },
   {
    "duration": 128,
    "start_time": "2022-06-13T17:09:45.575Z"
   },
   {
    "duration": 39,
    "start_time": "2022-06-13T17:09:45.704Z"
   },
   {
    "duration": 208,
    "start_time": "2022-06-13T17:09:45.744Z"
   },
   {
    "duration": 143,
    "start_time": "2022-06-13T17:09:45.954Z"
   },
   {
    "duration": 10,
    "start_time": "2022-06-13T17:09:46.099Z"
   },
   {
    "duration": 180,
    "start_time": "2022-06-13T17:09:46.110Z"
   },
   {
    "duration": 165,
    "start_time": "2022-06-13T17:09:46.292Z"
   },
   {
    "duration": 11,
    "start_time": "2022-06-13T17:09:46.458Z"
   },
   {
    "duration": 149,
    "start_time": "2022-06-13T17:09:46.470Z"
   },
   {
    "duration": 143,
    "start_time": "2022-06-13T17:09:46.621Z"
   },
   {
    "duration": 23,
    "start_time": "2022-06-13T17:09:46.766Z"
   },
   {
    "duration": 6,
    "start_time": "2022-06-13T17:09:46.791Z"
   },
   {
    "duration": 48,
    "start_time": "2022-06-13T17:09:46.798Z"
   },
   {
    "duration": 21,
    "start_time": "2022-06-13T17:09:46.847Z"
   },
   {
    "duration": 13,
    "start_time": "2022-06-13T17:09:46.870Z"
   },
   {
    "duration": 12,
    "start_time": "2022-06-13T17:09:46.885Z"
   },
   {
    "duration": 11,
    "start_time": "2022-06-13T17:09:46.899Z"
   },
   {
    "duration": 17,
    "start_time": "2022-06-13T17:09:46.912Z"
   },
   {
    "duration": 32,
    "start_time": "2022-06-13T17:09:46.930Z"
   },
   {
    "duration": 12,
    "start_time": "2022-06-13T17:09:46.964Z"
   },
   {
    "duration": 27,
    "start_time": "2022-06-13T17:09:46.982Z"
   },
   {
    "duration": 8,
    "start_time": "2022-06-13T17:09:47.011Z"
   },
   {
    "duration": 7,
    "start_time": "2022-06-13T17:09:47.021Z"
   },
   {
    "duration": 6,
    "start_time": "2022-06-13T17:09:47.029Z"
   },
   {
    "duration": 11,
    "start_time": "2022-06-13T17:09:47.037Z"
   },
   {
    "duration": 1357,
    "start_time": "2022-06-14T09:40:20.072Z"
   },
   {
    "duration": 3,
    "start_time": "2022-06-14T09:40:21.431Z"
   },
   {
    "duration": 1011,
    "start_time": "2022-06-14T09:40:21.435Z"
   },
   {
    "duration": 12,
    "start_time": "2022-06-14T09:40:22.449Z"
   },
   {
    "duration": 54,
    "start_time": "2022-06-14T09:40:22.462Z"
   },
   {
    "duration": 15,
    "start_time": "2022-06-14T09:40:22.518Z"
   },
   {
    "duration": 20,
    "start_time": "2022-06-14T09:40:22.534Z"
   },
   {
    "duration": 18,
    "start_time": "2022-06-14T09:40:22.556Z"
   },
   {
    "duration": 45,
    "start_time": "2022-06-14T09:40:22.576Z"
   },
   {
    "duration": 25,
    "start_time": "2022-06-14T09:40:22.624Z"
   },
   {
    "duration": 17,
    "start_time": "2022-06-14T09:40:22.651Z"
   },
   {
    "duration": 24,
    "start_time": "2022-06-14T09:40:22.669Z"
   },
   {
    "duration": 73,
    "start_time": "2022-06-14T09:40:22.694Z"
   },
   {
    "duration": 44,
    "start_time": "2022-06-14T09:40:22.769Z"
   },
   {
    "duration": 304,
    "start_time": "2022-06-14T09:40:22.815Z"
   },
   {
    "duration": 191,
    "start_time": "2022-06-14T09:40:23.125Z"
   },
   {
    "duration": 26,
    "start_time": "2022-06-14T09:40:23.317Z"
   },
   {
    "duration": 52,
    "start_time": "2022-06-14T09:40:23.345Z"
   },
   {
    "duration": 37,
    "start_time": "2022-06-14T09:40:23.398Z"
   },
   {
    "duration": 25,
    "start_time": "2022-06-14T09:40:23.437Z"
   },
   {
    "duration": 269,
    "start_time": "2022-06-14T09:40:23.463Z"
   },
   {
    "duration": 185,
    "start_time": "2022-06-14T09:40:23.734Z"
   },
   {
    "duration": 23,
    "start_time": "2022-06-14T09:40:23.920Z"
   },
   {
    "duration": 39,
    "start_time": "2022-06-14T09:40:23.945Z"
   },
   {
    "duration": 15,
    "start_time": "2022-06-14T09:40:23.985Z"
   },
   {
    "duration": 32,
    "start_time": "2022-06-14T09:40:24.002Z"
   },
   {
    "duration": 371,
    "start_time": "2022-06-14T09:40:24.036Z"
   },
   {
    "duration": 8,
    "start_time": "2022-06-14T09:40:24.412Z"
   },
   {
    "duration": 20,
    "start_time": "2022-06-14T09:40:24.426Z"
   },
   {
    "duration": 14,
    "start_time": "2022-06-14T09:40:24.448Z"
   },
   {
    "duration": 17,
    "start_time": "2022-06-14T09:40:24.464Z"
   },
   {
    "duration": 19,
    "start_time": "2022-06-14T09:40:24.483Z"
   },
   {
    "duration": 44,
    "start_time": "2022-06-14T09:40:24.504Z"
   },
   {
    "duration": 59,
    "start_time": "2022-06-14T09:40:24.550Z"
   },
   {
    "duration": 8,
    "start_time": "2022-06-14T09:40:24.611Z"
   },
   {
    "duration": 28,
    "start_time": "2022-06-14T09:40:24.621Z"
   },
   {
    "duration": 30,
    "start_time": "2022-06-14T09:40:24.651Z"
   },
   {
    "duration": 14,
    "start_time": "2022-06-14T09:40:24.682Z"
   },
   {
    "duration": 21,
    "start_time": "2022-06-14T09:40:24.698Z"
   },
   {
    "duration": 33,
    "start_time": "2022-06-14T09:40:24.721Z"
   },
   {
    "duration": 8,
    "start_time": "2022-06-14T09:40:24.756Z"
   },
   {
    "duration": 23,
    "start_time": "2022-06-14T09:40:24.765Z"
   },
   {
    "duration": 15,
    "start_time": "2022-06-14T09:40:24.790Z"
   },
   {
    "duration": 47,
    "start_time": "2022-06-14T09:40:24.806Z"
   },
   {
    "duration": 20,
    "start_time": "2022-06-14T09:40:24.855Z"
   },
   {
    "duration": 27,
    "start_time": "2022-06-14T09:40:24.876Z"
   },
   {
    "duration": 20,
    "start_time": "2022-06-14T09:40:24.905Z"
   },
   {
    "duration": 8,
    "start_time": "2022-06-14T09:40:24.928Z"
   },
   {
    "duration": 25,
    "start_time": "2022-06-14T09:40:24.938Z"
   },
   {
    "duration": 14,
    "start_time": "2022-06-14T09:40:24.964Z"
   },
   {
    "duration": 11,
    "start_time": "2022-06-14T09:40:24.980Z"
   },
   {
    "duration": 6,
    "start_time": "2022-06-14T09:40:24.993Z"
   },
   {
    "duration": 26,
    "start_time": "2022-06-14T09:40:25.001Z"
   },
   {
    "duration": 155,
    "start_time": "2022-06-14T09:40:25.029Z"
   },
   {
    "duration": 6,
    "start_time": "2022-06-14T09:40:25.186Z"
   },
   {
    "duration": 23,
    "start_time": "2022-06-14T09:40:25.193Z"
   },
   {
    "duration": 17,
    "start_time": "2022-06-14T09:40:25.218Z"
   },
   {
    "duration": 5,
    "start_time": "2022-06-14T09:40:25.237Z"
   },
   {
    "duration": 7,
    "start_time": "2022-06-14T09:40:25.243Z"
   },
   {
    "duration": 20,
    "start_time": "2022-06-14T09:40:25.251Z"
   },
   {
    "duration": 155,
    "start_time": "2022-06-14T09:40:25.272Z"
   },
   {
    "duration": 146,
    "start_time": "2022-06-14T09:40:25.428Z"
   },
   {
    "duration": 52,
    "start_time": "2022-06-14T09:40:25.575Z"
   },
   {
    "duration": 231,
    "start_time": "2022-06-14T09:40:25.629Z"
   },
   {
    "duration": 164,
    "start_time": "2022-06-14T09:40:25.862Z"
   },
   {
    "duration": 10,
    "start_time": "2022-06-14T09:40:26.027Z"
   },
   {
    "duration": 196,
    "start_time": "2022-06-14T09:40:26.039Z"
   },
   {
    "duration": 174,
    "start_time": "2022-06-14T09:40:26.237Z"
   },
   {
    "duration": 17,
    "start_time": "2022-06-14T09:40:26.412Z"
   },
   {
    "duration": 160,
    "start_time": "2022-06-14T09:40:26.430Z"
   },
   {
    "duration": 153,
    "start_time": "2022-06-14T09:40:26.592Z"
   },
   {
    "duration": 10,
    "start_time": "2022-06-14T09:40:26.747Z"
   },
   {
    "duration": 5,
    "start_time": "2022-06-14T09:40:26.759Z"
   },
   {
    "duration": 21,
    "start_time": "2022-06-14T09:40:26.765Z"
   },
   {
    "duration": 11,
    "start_time": "2022-06-14T09:40:26.787Z"
   },
   {
    "duration": 31,
    "start_time": "2022-06-14T09:40:26.800Z"
   },
   {
    "duration": 4,
    "start_time": "2022-06-14T09:40:26.833Z"
   },
   {
    "duration": 9,
    "start_time": "2022-06-14T09:40:26.838Z"
   },
   {
    "duration": 8,
    "start_time": "2022-06-14T09:40:26.849Z"
   },
   {
    "duration": 21,
    "start_time": "2022-06-14T09:40:26.859Z"
   },
   {
    "duration": 19,
    "start_time": "2022-06-14T09:40:26.881Z"
   },
   {
    "duration": 13,
    "start_time": "2022-06-14T09:40:26.907Z"
   },
   {
    "duration": 14,
    "start_time": "2022-06-14T09:40:26.922Z"
   },
   {
    "duration": 18,
    "start_time": "2022-06-14T09:40:26.938Z"
   },
   {
    "duration": 16,
    "start_time": "2022-06-14T09:40:26.958Z"
   },
   {
    "duration": 9,
    "start_time": "2022-06-14T09:40:26.975Z"
   },
   {
    "duration": 1195,
    "start_time": "2022-06-14T13:26:02.116Z"
   },
   {
    "duration": 3,
    "start_time": "2022-06-14T13:26:03.313Z"
   },
   {
    "duration": 965,
    "start_time": "2022-06-14T13:26:03.317Z"
   },
   {
    "duration": 13,
    "start_time": "2022-06-14T13:26:04.284Z"
   },
   {
    "duration": 10,
    "start_time": "2022-06-14T13:26:04.299Z"
   },
   {
    "duration": 11,
    "start_time": "2022-06-14T13:26:04.311Z"
   },
   {
    "duration": 15,
    "start_time": "2022-06-14T13:26:04.324Z"
   },
   {
    "duration": 25,
    "start_time": "2022-06-14T13:26:04.341Z"
   },
   {
    "duration": 38,
    "start_time": "2022-06-14T13:26:04.368Z"
   },
   {
    "duration": 21,
    "start_time": "2022-06-14T13:26:04.408Z"
   },
   {
    "duration": 5,
    "start_time": "2022-06-14T13:26:04.431Z"
   },
   {
    "duration": 30,
    "start_time": "2022-06-14T13:26:04.438Z"
   },
   {
    "duration": 61,
    "start_time": "2022-06-14T13:26:04.470Z"
   },
   {
    "duration": 57,
    "start_time": "2022-06-14T13:26:04.535Z"
   },
   {
    "duration": 284,
    "start_time": "2022-06-14T13:26:04.594Z"
   },
   {
    "duration": 208,
    "start_time": "2022-06-14T13:26:04.880Z"
   },
   {
    "duration": 37,
    "start_time": "2022-06-14T13:26:05.091Z"
   },
   {
    "duration": 59,
    "start_time": "2022-06-14T13:26:05.130Z"
   },
   {
    "duration": 17,
    "start_time": "2022-06-14T13:26:05.191Z"
   },
   {
    "duration": 29,
    "start_time": "2022-06-14T13:26:05.210Z"
   },
   {
    "duration": 298,
    "start_time": "2022-06-14T13:26:05.242Z"
   },
   {
    "duration": 217,
    "start_time": "2022-06-14T13:26:05.543Z"
   },
   {
    "duration": 20,
    "start_time": "2022-06-14T13:26:05.764Z"
   },
   {
    "duration": 44,
    "start_time": "2022-06-14T13:26:05.785Z"
   },
   {
    "duration": 23,
    "start_time": "2022-06-14T13:26:05.830Z"
   },
   {
    "duration": 18,
    "start_time": "2022-06-14T13:26:05.854Z"
   },
   {
    "duration": 230,
    "start_time": "2022-06-14T13:26:05.874Z"
   },
   {
    "duration": 6,
    "start_time": "2022-06-14T13:26:06.106Z"
   },
   {
    "duration": 15,
    "start_time": "2022-06-14T13:26:06.114Z"
   },
   {
    "duration": 11,
    "start_time": "2022-06-14T13:26:06.131Z"
   },
   {
    "duration": 5,
    "start_time": "2022-06-14T13:26:06.143Z"
   },
   {
    "duration": 19,
    "start_time": "2022-06-14T13:26:06.150Z"
   },
   {
    "duration": 11,
    "start_time": "2022-06-14T13:26:06.170Z"
   },
   {
    "duration": 42,
    "start_time": "2022-06-14T13:26:06.183Z"
   },
   {
    "duration": 8,
    "start_time": "2022-06-14T13:26:06.227Z"
   },
   {
    "duration": 32,
    "start_time": "2022-06-14T13:26:06.236Z"
   },
   {
    "duration": 24,
    "start_time": "2022-06-14T13:26:06.270Z"
   },
   {
    "duration": 7,
    "start_time": "2022-06-14T13:26:06.296Z"
   },
   {
    "duration": 10,
    "start_time": "2022-06-14T13:26:06.305Z"
   },
   {
    "duration": 49,
    "start_time": "2022-06-14T13:26:06.317Z"
   },
   {
    "duration": 6,
    "start_time": "2022-06-14T13:26:06.371Z"
   },
   {
    "duration": 21,
    "start_time": "2022-06-14T13:26:06.379Z"
   },
   {
    "duration": 14,
    "start_time": "2022-06-14T13:26:06.401Z"
   },
   {
    "duration": 6,
    "start_time": "2022-06-14T13:26:06.417Z"
   },
   {
    "duration": 14,
    "start_time": "2022-06-14T13:26:06.425Z"
   },
   {
    "duration": 18,
    "start_time": "2022-06-14T13:26:06.464Z"
   },
   {
    "duration": 19,
    "start_time": "2022-06-14T13:26:06.484Z"
   },
   {
    "duration": 8,
    "start_time": "2022-06-14T13:26:06.504Z"
   },
   {
    "duration": 5,
    "start_time": "2022-06-14T13:26:06.513Z"
   },
   {
    "duration": 7,
    "start_time": "2022-06-14T13:26:06.519Z"
   },
   {
    "duration": 45,
    "start_time": "2022-06-14T13:26:06.527Z"
   },
   {
    "duration": 11,
    "start_time": "2022-06-14T13:26:06.573Z"
   },
   {
    "duration": 22,
    "start_time": "2022-06-14T13:26:06.586Z"
   },
   {
    "duration": 132,
    "start_time": "2022-06-14T13:26:06.610Z"
   },
   {
    "duration": 5,
    "start_time": "2022-06-14T13:26:06.743Z"
   },
   {
    "duration": 25,
    "start_time": "2022-06-14T13:26:06.750Z"
   },
   {
    "duration": 15,
    "start_time": "2022-06-14T13:26:06.776Z"
   },
   {
    "duration": 5,
    "start_time": "2022-06-14T13:26:06.792Z"
   },
   {
    "duration": 6,
    "start_time": "2022-06-14T13:26:06.799Z"
   },
   {
    "duration": 5,
    "start_time": "2022-06-14T13:26:06.807Z"
   },
   {
    "duration": 160,
    "start_time": "2022-06-14T13:26:06.813Z"
   },
   {
    "duration": 134,
    "start_time": "2022-06-14T13:26:06.975Z"
   },
   {
    "duration": 42,
    "start_time": "2022-06-14T13:26:07.111Z"
   },
   {
    "duration": 220,
    "start_time": "2022-06-14T13:26:07.165Z"
   },
   {
    "duration": 169,
    "start_time": "2022-06-14T13:26:07.387Z"
   },
   {
    "duration": 10,
    "start_time": "2022-06-14T13:26:07.564Z"
   },
   {
    "duration": 181,
    "start_time": "2022-06-14T13:26:07.576Z"
   },
   {
    "duration": 165,
    "start_time": "2022-06-14T13:26:07.758Z"
   },
   {
    "duration": 10,
    "start_time": "2022-06-14T13:26:07.925Z"
   },
   {
    "duration": 165,
    "start_time": "2022-06-14T13:26:07.936Z"
   },
   {
    "duration": 149,
    "start_time": "2022-06-14T13:26:08.103Z"
   },
   {
    "duration": 17,
    "start_time": "2022-06-14T13:26:08.253Z"
   },
   {
    "duration": 5,
    "start_time": "2022-06-14T13:26:08.272Z"
   },
   {
    "duration": 21,
    "start_time": "2022-06-14T13:26:08.279Z"
   },
   {
    "duration": 8,
    "start_time": "2022-06-14T13:26:08.302Z"
   },
   {
    "duration": 7,
    "start_time": "2022-06-14T13:26:08.311Z"
   },
   {
    "duration": 6,
    "start_time": "2022-06-14T13:26:08.319Z"
   },
   {
    "duration": 7,
    "start_time": "2022-06-14T13:26:08.327Z"
   },
   {
    "duration": 11,
    "start_time": "2022-06-14T13:26:08.336Z"
   },
   {
    "duration": 7,
    "start_time": "2022-06-14T13:26:08.364Z"
   },
   {
    "duration": 17,
    "start_time": "2022-06-14T13:26:08.373Z"
   },
   {
    "duration": 13,
    "start_time": "2022-06-14T13:26:08.391Z"
   },
   {
    "duration": 7,
    "start_time": "2022-06-14T13:26:08.405Z"
   },
   {
    "duration": 10,
    "start_time": "2022-06-14T13:26:08.413Z"
   },
   {
    "duration": 41,
    "start_time": "2022-06-14T13:26:08.424Z"
   },
   {
    "duration": 7,
    "start_time": "2022-06-14T13:26:08.467Z"
   },
   {
    "duration": 6,
    "start_time": "2022-06-14T13:34:24.229Z"
   },
   {
    "duration": 4,
    "start_time": "2022-06-14T13:34:40.580Z"
   },
   {
    "duration": 122,
    "start_time": "2022-06-14T13:55:12.686Z"
   },
   {
    "duration": 318,
    "start_time": "2022-06-14T13:55:29.363Z"
   },
   {
    "duration": 317,
    "start_time": "2022-06-14T13:55:47.991Z"
   },
   {
    "duration": 449,
    "start_time": "2022-06-14T13:57:22.488Z"
   },
   {
    "duration": 1132,
    "start_time": "2022-06-14T14:13:28.302Z"
   },
   {
    "duration": 3,
    "start_time": "2022-06-14T14:13:29.436Z"
   },
   {
    "duration": 493,
    "start_time": "2022-06-14T14:13:29.440Z"
   },
   {
    "duration": 13,
    "start_time": "2022-06-14T14:13:29.935Z"
   },
   {
    "duration": 11,
    "start_time": "2022-06-14T14:13:29.950Z"
   },
   {
    "duration": 23,
    "start_time": "2022-06-14T14:13:29.962Z"
   },
   {
    "duration": 15,
    "start_time": "2022-06-14T14:13:29.987Z"
   },
   {
    "duration": 12,
    "start_time": "2022-06-14T14:13:30.003Z"
   },
   {
    "duration": 42,
    "start_time": "2022-06-14T14:13:30.017Z"
   },
   {
    "duration": 31,
    "start_time": "2022-06-14T14:13:30.062Z"
   },
   {
    "duration": 7,
    "start_time": "2022-06-14T14:13:30.095Z"
   },
   {
    "duration": 6,
    "start_time": "2022-06-14T14:13:30.104Z"
   },
   {
    "duration": 88,
    "start_time": "2022-06-14T14:13:30.112Z"
   },
   {
    "duration": 37,
    "start_time": "2022-06-14T14:13:30.202Z"
   },
   {
    "duration": 317,
    "start_time": "2022-06-14T14:13:30.241Z"
   },
   {
    "duration": 222,
    "start_time": "2022-06-14T14:13:30.560Z"
   },
   {
    "duration": 25,
    "start_time": "2022-06-14T14:13:30.784Z"
   },
   {
    "duration": 49,
    "start_time": "2022-06-14T14:13:30.811Z"
   },
   {
    "duration": 30,
    "start_time": "2022-06-14T14:13:30.866Z"
   },
   {
    "duration": 42,
    "start_time": "2022-06-14T14:13:30.897Z"
   },
   {
    "duration": 274,
    "start_time": "2022-06-14T14:13:30.941Z"
   },
   {
    "duration": 217,
    "start_time": "2022-06-14T14:13:31.217Z"
   },
   {
    "duration": 37,
    "start_time": "2022-06-14T14:13:31.436Z"
   },
   {
    "duration": 51,
    "start_time": "2022-06-14T14:13:31.475Z"
   },
   {
    "duration": 15,
    "start_time": "2022-06-14T14:13:31.528Z"
   },
   {
    "duration": 30,
    "start_time": "2022-06-14T14:13:31.545Z"
   },
   {
    "duration": 268,
    "start_time": "2022-06-14T14:13:31.577Z"
   },
   {
    "duration": 6,
    "start_time": "2022-06-14T14:13:31.849Z"
   },
   {
    "duration": 29,
    "start_time": "2022-06-14T14:13:31.857Z"
   },
   {
    "duration": 12,
    "start_time": "2022-06-14T14:13:31.887Z"
   },
   {
    "duration": 6,
    "start_time": "2022-06-14T14:13:31.901Z"
   },
   {
    "duration": 15,
    "start_time": "2022-06-14T14:13:31.908Z"
   },
   {
    "duration": 13,
    "start_time": "2022-06-14T14:13:31.925Z"
   },
   {
    "duration": 54,
    "start_time": "2022-06-14T14:13:31.940Z"
   },
   {
    "duration": 8,
    "start_time": "2022-06-14T14:13:31.996Z"
   },
   {
    "duration": 11,
    "start_time": "2022-06-14T14:13:32.006Z"
   },
   {
    "duration": 50,
    "start_time": "2022-06-14T14:13:32.019Z"
   },
   {
    "duration": 12,
    "start_time": "2022-06-14T14:13:32.071Z"
   },
   {
    "duration": 10,
    "start_time": "2022-06-14T14:13:32.085Z"
   },
   {
    "duration": 28,
    "start_time": "2022-06-14T14:13:32.097Z"
   },
   {
    "duration": 7,
    "start_time": "2022-06-14T14:13:32.127Z"
   },
   {
    "duration": 42,
    "start_time": "2022-06-14T14:13:32.135Z"
   },
   {
    "duration": 14,
    "start_time": "2022-06-14T14:13:32.180Z"
   },
   {
    "duration": 8,
    "start_time": "2022-06-14T14:13:32.196Z"
   },
   {
    "duration": 15,
    "start_time": "2022-06-14T14:13:32.206Z"
   },
   {
    "duration": 19,
    "start_time": "2022-06-14T14:13:32.222Z"
   },
   {
    "duration": 42,
    "start_time": "2022-06-14T14:13:32.242Z"
   },
   {
    "duration": 9,
    "start_time": "2022-06-14T14:13:32.286Z"
   },
   {
    "duration": 7,
    "start_time": "2022-06-14T14:13:32.297Z"
   },
   {
    "duration": 9,
    "start_time": "2022-06-14T14:13:32.305Z"
   },
   {
    "duration": 10,
    "start_time": "2022-06-14T14:13:32.316Z"
   },
   {
    "duration": 39,
    "start_time": "2022-06-14T14:13:32.328Z"
   },
   {
    "duration": 29,
    "start_time": "2022-06-14T14:13:32.369Z"
   },
   {
    "duration": 124,
    "start_time": "2022-06-14T14:13:32.400Z"
   },
   {
    "duration": 5,
    "start_time": "2022-06-14T14:13:32.526Z"
   },
   {
    "duration": 20,
    "start_time": "2022-06-14T14:13:32.533Z"
   },
   {
    "duration": 28,
    "start_time": "2022-06-14T14:13:32.566Z"
   },
   {
    "duration": 6,
    "start_time": "2022-06-14T14:13:32.596Z"
   },
   {
    "duration": 10,
    "start_time": "2022-06-14T14:13:32.604Z"
   },
   {
    "duration": 6,
    "start_time": "2022-06-14T14:13:32.616Z"
   },
   {
    "duration": 170,
    "start_time": "2022-06-14T14:13:32.623Z"
   },
   {
    "duration": 150,
    "start_time": "2022-06-14T14:13:32.795Z"
   },
   {
    "duration": 452,
    "start_time": "2022-06-14T14:13:32.946Z"
   },
   {
    "duration": 48,
    "start_time": "2022-06-14T14:13:33.399Z"
   },
   {
    "duration": 178,
    "start_time": "2022-06-14T14:13:33.449Z"
   },
   {
    "duration": 182,
    "start_time": "2022-06-14T14:13:33.629Z"
   },
   {
    "duration": 11,
    "start_time": "2022-06-14T14:13:33.813Z"
   },
   {
    "duration": 215,
    "start_time": "2022-06-14T14:13:33.826Z"
   },
   {
    "duration": 180,
    "start_time": "2022-06-14T14:13:34.043Z"
   },
   {
    "duration": 10,
    "start_time": "2022-06-14T14:13:34.225Z"
   },
   {
    "duration": 177,
    "start_time": "2022-06-14T14:13:34.237Z"
   },
   {
    "duration": 172,
    "start_time": "2022-06-14T14:13:34.415Z"
   },
   {
    "duration": 11,
    "start_time": "2022-06-14T14:13:34.590Z"
   },
   {
    "duration": 5,
    "start_time": "2022-06-14T14:13:34.603Z"
   },
   {
    "duration": 20,
    "start_time": "2022-06-14T14:13:34.610Z"
   },
   {
    "duration": 10,
    "start_time": "2022-06-14T14:13:34.632Z"
   },
   {
    "duration": 15,
    "start_time": "2022-06-14T14:13:34.665Z"
   },
   {
    "duration": 4,
    "start_time": "2022-06-14T14:13:34.683Z"
   },
   {
    "duration": 6,
    "start_time": "2022-06-14T14:13:34.689Z"
   },
   {
    "duration": 8,
    "start_time": "2022-06-14T14:13:34.697Z"
   },
   {
    "duration": 7,
    "start_time": "2022-06-14T14:13:34.707Z"
   },
   {
    "duration": 4,
    "start_time": "2022-06-14T14:13:34.719Z"
   },
   {
    "duration": 12,
    "start_time": "2022-06-14T14:13:34.725Z"
   },
   {
    "duration": 10,
    "start_time": "2022-06-14T14:13:34.739Z"
   },
   {
    "duration": 35,
    "start_time": "2022-06-14T14:13:34.750Z"
   },
   {
    "duration": 6,
    "start_time": "2022-06-14T14:13:34.787Z"
   },
   {
    "duration": 6,
    "start_time": "2022-06-14T14:13:34.794Z"
   },
   {
    "duration": 61,
    "start_time": "2022-06-15T06:30:34.606Z"
   },
   {
    "duration": 1218,
    "start_time": "2022-06-15T06:30:39.844Z"
   },
   {
    "duration": 4,
    "start_time": "2022-06-15T06:30:41.064Z"
   },
   {
    "duration": 981,
    "start_time": "2022-06-15T06:30:41.069Z"
   },
   {
    "duration": 11,
    "start_time": "2022-06-15T06:30:42.052Z"
   },
   {
    "duration": 7,
    "start_time": "2022-06-15T06:30:42.065Z"
   },
   {
    "duration": 12,
    "start_time": "2022-06-15T06:30:42.074Z"
   },
   {
    "duration": 10,
    "start_time": "2022-06-15T06:30:42.087Z"
   },
   {
    "duration": 10,
    "start_time": "2022-06-15T06:30:42.099Z"
   },
   {
    "duration": 35,
    "start_time": "2022-06-15T06:30:42.110Z"
   },
   {
    "duration": 20,
    "start_time": "2022-06-15T06:30:42.147Z"
   },
   {
    "duration": 14,
    "start_time": "2022-06-15T06:30:42.169Z"
   },
   {
    "duration": 15,
    "start_time": "2022-06-15T06:30:42.185Z"
   },
   {
    "duration": 73,
    "start_time": "2022-06-15T06:30:42.202Z"
   },
   {
    "duration": 48,
    "start_time": "2022-06-15T06:30:42.277Z"
   },
   {
    "duration": 260,
    "start_time": "2022-06-15T06:30:42.327Z"
   },
   {
    "duration": 180,
    "start_time": "2022-06-15T06:30:42.589Z"
   },
   {
    "duration": 23,
    "start_time": "2022-06-15T06:30:42.770Z"
   },
   {
    "duration": 51,
    "start_time": "2022-06-15T06:30:42.794Z"
   },
   {
    "duration": 112,
    "start_time": "2022-06-15T06:30:42.847Z"
   },
   {
    "duration": 0,
    "start_time": "2022-06-15T06:30:42.962Z"
   },
   {
    "duration": 0,
    "start_time": "2022-06-15T06:30:42.963Z"
   },
   {
    "duration": 0,
    "start_time": "2022-06-15T06:30:42.965Z"
   },
   {
    "duration": 0,
    "start_time": "2022-06-15T06:30:42.967Z"
   },
   {
    "duration": 0,
    "start_time": "2022-06-15T06:30:42.968Z"
   },
   {
    "duration": 0,
    "start_time": "2022-06-15T06:30:42.969Z"
   },
   {
    "duration": 0,
    "start_time": "2022-06-15T06:30:42.970Z"
   },
   {
    "duration": 0,
    "start_time": "2022-06-15T06:30:42.971Z"
   },
   {
    "duration": 0,
    "start_time": "2022-06-15T06:30:42.972Z"
   },
   {
    "duration": 0,
    "start_time": "2022-06-15T06:30:42.973Z"
   },
   {
    "duration": 0,
    "start_time": "2022-06-15T06:30:42.974Z"
   },
   {
    "duration": 0,
    "start_time": "2022-06-15T06:30:42.976Z"
   },
   {
    "duration": 0,
    "start_time": "2022-06-15T06:30:42.976Z"
   },
   {
    "duration": 0,
    "start_time": "2022-06-15T06:30:42.977Z"
   },
   {
    "duration": 0,
    "start_time": "2022-06-15T06:30:42.978Z"
   },
   {
    "duration": 0,
    "start_time": "2022-06-15T06:30:42.980Z"
   },
   {
    "duration": 0,
    "start_time": "2022-06-15T06:30:42.980Z"
   },
   {
    "duration": 0,
    "start_time": "2022-06-15T06:30:42.982Z"
   },
   {
    "duration": 0,
    "start_time": "2022-06-15T06:30:42.983Z"
   },
   {
    "duration": 0,
    "start_time": "2022-06-15T06:30:42.984Z"
   },
   {
    "duration": 0,
    "start_time": "2022-06-15T06:30:42.985Z"
   },
   {
    "duration": 0,
    "start_time": "2022-06-15T06:30:42.986Z"
   },
   {
    "duration": 0,
    "start_time": "2022-06-15T06:30:42.987Z"
   },
   {
    "duration": 0,
    "start_time": "2022-06-15T06:30:42.988Z"
   },
   {
    "duration": 0,
    "start_time": "2022-06-15T06:30:42.989Z"
   },
   {
    "duration": 0,
    "start_time": "2022-06-15T06:30:43.027Z"
   },
   {
    "duration": 0,
    "start_time": "2022-06-15T06:30:43.028Z"
   },
   {
    "duration": 0,
    "start_time": "2022-06-15T06:30:43.029Z"
   },
   {
    "duration": 0,
    "start_time": "2022-06-15T06:30:43.030Z"
   },
   {
    "duration": 0,
    "start_time": "2022-06-15T06:30:43.031Z"
   },
   {
    "duration": 0,
    "start_time": "2022-06-15T06:30:43.032Z"
   },
   {
    "duration": 0,
    "start_time": "2022-06-15T06:30:43.033Z"
   },
   {
    "duration": 0,
    "start_time": "2022-06-15T06:30:43.034Z"
   },
   {
    "duration": 0,
    "start_time": "2022-06-15T06:30:43.035Z"
   },
   {
    "duration": 0,
    "start_time": "2022-06-15T06:30:43.036Z"
   },
   {
    "duration": 0,
    "start_time": "2022-06-15T06:30:43.037Z"
   },
   {
    "duration": 0,
    "start_time": "2022-06-15T06:30:43.038Z"
   },
   {
    "duration": 0,
    "start_time": "2022-06-15T06:30:43.039Z"
   },
   {
    "duration": 1,
    "start_time": "2022-06-15T06:30:43.040Z"
   },
   {
    "duration": 0,
    "start_time": "2022-06-15T06:30:43.041Z"
   },
   {
    "duration": 0,
    "start_time": "2022-06-15T06:30:43.042Z"
   },
   {
    "duration": 0,
    "start_time": "2022-06-15T06:30:43.043Z"
   },
   {
    "duration": 0,
    "start_time": "2022-06-15T06:30:43.044Z"
   },
   {
    "duration": 0,
    "start_time": "2022-06-15T06:30:43.045Z"
   },
   {
    "duration": 0,
    "start_time": "2022-06-15T06:30:43.046Z"
   },
   {
    "duration": 0,
    "start_time": "2022-06-15T06:30:43.047Z"
   },
   {
    "duration": 0,
    "start_time": "2022-06-15T06:30:43.048Z"
   },
   {
    "duration": 0,
    "start_time": "2022-06-15T06:30:43.049Z"
   },
   {
    "duration": 0,
    "start_time": "2022-06-15T06:30:43.049Z"
   },
   {
    "duration": 0,
    "start_time": "2022-06-15T06:30:43.050Z"
   },
   {
    "duration": 0,
    "start_time": "2022-06-15T06:30:43.051Z"
   },
   {
    "duration": 0,
    "start_time": "2022-06-15T06:30:43.052Z"
   },
   {
    "duration": 0,
    "start_time": "2022-06-15T06:30:43.053Z"
   },
   {
    "duration": 0,
    "start_time": "2022-06-15T06:30:43.054Z"
   },
   {
    "duration": 0,
    "start_time": "2022-06-15T06:30:43.055Z"
   },
   {
    "duration": 0,
    "start_time": "2022-06-15T06:30:43.056Z"
   },
   {
    "duration": 0,
    "start_time": "2022-06-15T06:30:43.057Z"
   },
   {
    "duration": 0,
    "start_time": "2022-06-15T06:30:43.058Z"
   },
   {
    "duration": 0,
    "start_time": "2022-06-15T06:30:43.059Z"
   },
   {
    "duration": 0,
    "start_time": "2022-06-15T06:30:43.061Z"
   },
   {
    "duration": 0,
    "start_time": "2022-06-15T06:30:43.062Z"
   },
   {
    "duration": 0,
    "start_time": "2022-06-15T06:30:43.063Z"
   },
   {
    "duration": 0,
    "start_time": "2022-06-15T06:30:43.127Z"
   },
   {
    "duration": 0,
    "start_time": "2022-06-15T06:30:43.128Z"
   },
   {
    "duration": 0,
    "start_time": "2022-06-15T06:30:43.129Z"
   },
   {
    "duration": 0,
    "start_time": "2022-06-15T06:30:43.130Z"
   },
   {
    "duration": 0,
    "start_time": "2022-06-15T06:30:43.131Z"
   },
   {
    "duration": 0,
    "start_time": "2022-06-15T06:30:43.132Z"
   },
   {
    "duration": 0,
    "start_time": "2022-06-15T06:30:43.133Z"
   },
   {
    "duration": 26,
    "start_time": "2022-06-15T06:33:35.019Z"
   },
   {
    "duration": 976,
    "start_time": "2022-06-15T06:33:42.085Z"
   },
   {
    "duration": 3,
    "start_time": "2022-06-15T06:33:43.063Z"
   },
   {
    "duration": 417,
    "start_time": "2022-06-15T06:33:43.067Z"
   },
   {
    "duration": 11,
    "start_time": "2022-06-15T06:33:43.486Z"
   },
   {
    "duration": 7,
    "start_time": "2022-06-15T06:33:43.499Z"
   },
   {
    "duration": 12,
    "start_time": "2022-06-15T06:33:43.507Z"
   },
   {
    "duration": 10,
    "start_time": "2022-06-15T06:33:43.520Z"
   },
   {
    "duration": 14,
    "start_time": "2022-06-15T06:33:43.532Z"
   },
   {
    "duration": 35,
    "start_time": "2022-06-15T06:33:43.547Z"
   },
   {
    "duration": 20,
    "start_time": "2022-06-15T06:33:43.585Z"
   },
   {
    "duration": 7,
    "start_time": "2022-06-15T06:33:43.607Z"
   },
   {
    "duration": 6,
    "start_time": "2022-06-15T06:33:43.627Z"
   },
   {
    "duration": 56,
    "start_time": "2022-06-15T06:33:43.635Z"
   },
   {
    "duration": 53,
    "start_time": "2022-06-15T06:33:43.693Z"
   },
   {
    "duration": 273,
    "start_time": "2022-06-15T06:33:43.748Z"
   },
   {
    "duration": 171,
    "start_time": "2022-06-15T06:33:44.023Z"
   },
   {
    "duration": 32,
    "start_time": "2022-06-15T06:33:44.195Z"
   },
   {
    "duration": 42,
    "start_time": "2022-06-15T06:33:44.229Z"
   },
   {
    "duration": 32,
    "start_time": "2022-06-15T06:33:44.272Z"
   },
   {
    "duration": 26,
    "start_time": "2022-06-15T06:33:44.306Z"
   },
   {
    "duration": 22,
    "start_time": "2022-06-15T06:33:44.333Z"
   },
   {
    "duration": 224,
    "start_time": "2022-06-15T06:33:44.357Z"
   },
   {
    "duration": 181,
    "start_time": "2022-06-15T06:33:44.583Z"
   },
   {
    "duration": 22,
    "start_time": "2022-06-15T06:33:44.766Z"
   },
   {
    "duration": 50,
    "start_time": "2022-06-15T06:33:44.789Z"
   },
   {
    "duration": 15,
    "start_time": "2022-06-15T06:33:44.841Z"
   },
   {
    "duration": 23,
    "start_time": "2022-06-15T06:33:44.858Z"
   },
   {
    "duration": 220,
    "start_time": "2022-06-15T06:33:44.884Z"
   },
   {
    "duration": 6,
    "start_time": "2022-06-15T06:33:45.106Z"
   },
   {
    "duration": 20,
    "start_time": "2022-06-15T06:33:45.113Z"
   },
   {
    "duration": 7,
    "start_time": "2022-06-15T06:33:45.135Z"
   },
   {
    "duration": 21,
    "start_time": "2022-06-15T06:33:45.143Z"
   },
   {
    "duration": 13,
    "start_time": "2022-06-15T06:33:45.166Z"
   },
   {
    "duration": 13,
    "start_time": "2022-06-15T06:33:45.180Z"
   },
   {
    "duration": 46,
    "start_time": "2022-06-15T06:33:45.194Z"
   },
   {
    "duration": 7,
    "start_time": "2022-06-15T06:33:45.241Z"
   },
   {
    "duration": 13,
    "start_time": "2022-06-15T06:33:45.250Z"
   },
   {
    "duration": 25,
    "start_time": "2022-06-15T06:33:45.264Z"
   },
   {
    "duration": 6,
    "start_time": "2022-06-15T06:33:45.291Z"
   },
   {
    "duration": 33,
    "start_time": "2022-06-15T06:33:45.298Z"
   },
   {
    "duration": 23,
    "start_time": "2022-06-15T06:33:45.332Z"
   },
   {
    "duration": 6,
    "start_time": "2022-06-15T06:33:45.357Z"
   },
   {
    "duration": 14,
    "start_time": "2022-06-15T06:33:45.365Z"
   },
   {
    "duration": 12,
    "start_time": "2022-06-15T06:33:45.381Z"
   },
   {
    "duration": 39,
    "start_time": "2022-06-15T06:33:45.394Z"
   },
   {
    "duration": 11,
    "start_time": "2022-06-15T06:33:45.434Z"
   },
   {
    "duration": 18,
    "start_time": "2022-06-15T06:33:45.447Z"
   },
   {
    "duration": 17,
    "start_time": "2022-06-15T06:33:45.466Z"
   },
   {
    "duration": 6,
    "start_time": "2022-06-15T06:33:45.485Z"
   },
   {
    "duration": 6,
    "start_time": "2022-06-15T06:33:45.526Z"
   },
   {
    "duration": 13,
    "start_time": "2022-06-15T06:33:45.534Z"
   },
   {
    "duration": 10,
    "start_time": "2022-06-15T06:33:45.548Z"
   },
   {
    "duration": 10,
    "start_time": "2022-06-15T06:33:45.559Z"
   },
   {
    "duration": 18,
    "start_time": "2022-06-15T06:33:45.571Z"
   },
   {
    "duration": 114,
    "start_time": "2022-06-15T06:33:45.591Z"
   },
   {
    "duration": 4,
    "start_time": "2022-06-15T06:33:45.706Z"
   },
   {
    "duration": 25,
    "start_time": "2022-06-15T06:33:45.712Z"
   },
   {
    "duration": 14,
    "start_time": "2022-06-15T06:33:45.739Z"
   },
   {
    "duration": 6,
    "start_time": "2022-06-15T06:33:45.754Z"
   },
   {
    "duration": 7,
    "start_time": "2022-06-15T06:33:45.761Z"
   },
   {
    "duration": 7,
    "start_time": "2022-06-15T06:33:45.769Z"
   },
   {
    "duration": 155,
    "start_time": "2022-06-15T06:33:45.778Z"
   },
   {
    "duration": 124,
    "start_time": "2022-06-15T06:33:45.935Z"
   },
   {
    "duration": 448,
    "start_time": "2022-06-15T06:33:46.061Z"
   },
   {
    "duration": 46,
    "start_time": "2022-06-15T06:33:46.510Z"
   },
   {
    "duration": 146,
    "start_time": "2022-06-15T06:33:46.557Z"
   },
   {
    "duration": 140,
    "start_time": "2022-06-15T06:33:46.704Z"
   },
   {
    "duration": 9,
    "start_time": "2022-06-15T06:33:46.845Z"
   },
   {
    "duration": 173,
    "start_time": "2022-06-15T06:33:46.856Z"
   },
   {
    "duration": 153,
    "start_time": "2022-06-15T06:33:47.031Z"
   },
   {
    "duration": 8,
    "start_time": "2022-06-15T06:33:47.186Z"
   },
   {
    "duration": 167,
    "start_time": "2022-06-15T06:33:47.196Z"
   },
   {
    "duration": 133,
    "start_time": "2022-06-15T06:33:47.365Z"
   },
   {
    "duration": 9,
    "start_time": "2022-06-15T06:33:47.500Z"
   },
   {
    "duration": 16,
    "start_time": "2022-06-15T06:33:47.511Z"
   },
   {
    "duration": 22,
    "start_time": "2022-06-15T06:33:47.528Z"
   },
   {
    "duration": 10,
    "start_time": "2022-06-15T06:33:47.552Z"
   },
   {
    "duration": 11,
    "start_time": "2022-06-15T06:33:47.563Z"
   },
   {
    "duration": 9,
    "start_time": "2022-06-15T06:33:47.575Z"
   },
   {
    "duration": 7,
    "start_time": "2022-06-15T06:33:47.586Z"
   },
   {
    "duration": 6,
    "start_time": "2022-06-15T06:33:47.594Z"
   },
   {
    "duration": 5,
    "start_time": "2022-06-15T06:33:47.605Z"
   },
   {
    "duration": 7,
    "start_time": "2022-06-15T06:33:47.612Z"
   },
   {
    "duration": 12,
    "start_time": "2022-06-15T06:33:47.621Z"
   },
   {
    "duration": 10,
    "start_time": "2022-06-15T06:33:47.635Z"
   },
   {
    "duration": 8,
    "start_time": "2022-06-15T06:33:47.646Z"
   },
   {
    "duration": 4,
    "start_time": "2022-06-15T06:33:47.656Z"
   },
   {
    "duration": 7,
    "start_time": "2022-06-15T06:33:47.661Z"
   },
   {
    "duration": 236,
    "start_time": "2022-06-15T06:41:02.534Z"
   },
   {
    "duration": 12,
    "start_time": "2022-06-15T06:41:20.711Z"
   },
   {
    "duration": 87,
    "start_time": "2022-06-15T06:47:54.624Z"
   },
   {
    "duration": 1117,
    "start_time": "2022-06-15T06:48:03.036Z"
   },
   {
    "duration": 3,
    "start_time": "2022-06-15T06:48:04.155Z"
   },
   {
    "duration": 435,
    "start_time": "2022-06-15T06:48:04.159Z"
   },
   {
    "duration": 11,
    "start_time": "2022-06-15T06:48:04.596Z"
   },
   {
    "duration": 8,
    "start_time": "2022-06-15T06:48:04.608Z"
   },
   {
    "duration": 10,
    "start_time": "2022-06-15T06:48:04.617Z"
   },
   {
    "duration": 12,
    "start_time": "2022-06-15T06:48:04.629Z"
   },
   {
    "duration": 14,
    "start_time": "2022-06-15T06:48:04.642Z"
   },
   {
    "duration": 36,
    "start_time": "2022-06-15T06:48:04.658Z"
   },
   {
    "duration": 30,
    "start_time": "2022-06-15T06:48:04.697Z"
   },
   {
    "duration": 5,
    "start_time": "2022-06-15T06:48:04.730Z"
   },
   {
    "duration": 9,
    "start_time": "2022-06-15T06:48:04.736Z"
   },
   {
    "duration": 62,
    "start_time": "2022-06-15T06:48:04.747Z"
   },
   {
    "duration": 53,
    "start_time": "2022-06-15T06:48:04.811Z"
   },
   {
    "duration": 276,
    "start_time": "2022-06-15T06:48:04.866Z"
   },
   {
    "duration": 192,
    "start_time": "2022-06-15T06:48:05.144Z"
   },
   {
    "duration": 22,
    "start_time": "2022-06-15T06:48:05.338Z"
   },
   {
    "duration": 43,
    "start_time": "2022-06-15T06:48:05.362Z"
   },
   {
    "duration": 46,
    "start_time": "2022-06-15T06:48:05.407Z"
   },
   {
    "duration": 18,
    "start_time": "2022-06-15T06:48:05.454Z"
   },
   {
    "duration": 32,
    "start_time": "2022-06-15T06:48:05.474Z"
   },
   {
    "duration": 229,
    "start_time": "2022-06-15T06:48:05.507Z"
   },
   {
    "duration": 183,
    "start_time": "2022-06-15T06:48:05.738Z"
   },
   {
    "duration": 18,
    "start_time": "2022-06-15T06:48:05.926Z"
   },
   {
    "duration": 44,
    "start_time": "2022-06-15T06:48:05.946Z"
   },
   {
    "duration": 25,
    "start_time": "2022-06-15T06:48:05.992Z"
   },
   {
    "duration": 26,
    "start_time": "2022-06-15T06:48:06.019Z"
   },
   {
    "duration": 275,
    "start_time": "2022-06-15T06:48:06.049Z"
   },
   {
    "duration": 8,
    "start_time": "2022-06-15T06:48:06.326Z"
   },
   {
    "duration": 52,
    "start_time": "2022-06-15T06:48:06.335Z"
   },
   {
    "duration": 59,
    "start_time": "2022-06-15T06:48:06.388Z"
   },
   {
    "duration": 26,
    "start_time": "2022-06-15T06:48:06.451Z"
   },
   {
    "duration": 33,
    "start_time": "2022-06-15T06:48:06.479Z"
   },
   {
    "duration": 41,
    "start_time": "2022-06-15T06:48:06.514Z"
   },
   {
    "duration": 48,
    "start_time": "2022-06-15T06:48:06.556Z"
   },
   {
    "duration": 10,
    "start_time": "2022-06-15T06:48:06.606Z"
   },
   {
    "duration": 18,
    "start_time": "2022-06-15T06:48:06.617Z"
   },
   {
    "duration": 57,
    "start_time": "2022-06-15T06:48:06.637Z"
   },
   {
    "duration": 30,
    "start_time": "2022-06-15T06:48:06.696Z"
   },
   {
    "duration": 26,
    "start_time": "2022-06-15T06:48:06.728Z"
   },
   {
    "duration": 65,
    "start_time": "2022-06-15T06:48:06.755Z"
   },
   {
    "duration": 7,
    "start_time": "2022-06-15T06:48:06.821Z"
   },
   {
    "duration": 45,
    "start_time": "2022-06-15T06:48:06.830Z"
   },
   {
    "duration": 60,
    "start_time": "2022-06-15T06:48:06.877Z"
   },
   {
    "duration": 27,
    "start_time": "2022-06-15T06:48:06.939Z"
   },
   {
    "duration": 51,
    "start_time": "2022-06-15T06:48:06.968Z"
   },
   {
    "duration": 38,
    "start_time": "2022-06-15T06:48:07.021Z"
   },
   {
    "duration": 47,
    "start_time": "2022-06-15T06:48:07.060Z"
   },
   {
    "duration": 21,
    "start_time": "2022-06-15T06:48:07.108Z"
   },
   {
    "duration": 24,
    "start_time": "2022-06-15T06:48:07.131Z"
   },
   {
    "duration": 56,
    "start_time": "2022-06-15T06:48:07.157Z"
   },
   {
    "duration": 34,
    "start_time": "2022-06-15T06:48:07.215Z"
   },
   {
    "duration": 21,
    "start_time": "2022-06-15T06:48:07.250Z"
   },
   {
    "duration": 52,
    "start_time": "2022-06-15T06:48:07.273Z"
   },
   {
    "duration": 129,
    "start_time": "2022-06-15T06:48:07.327Z"
   },
   {
    "duration": 4,
    "start_time": "2022-06-15T06:48:07.458Z"
   },
   {
    "duration": 52,
    "start_time": "2022-06-15T06:48:07.464Z"
   },
   {
    "duration": 15,
    "start_time": "2022-06-15T06:48:07.517Z"
   },
   {
    "duration": 35,
    "start_time": "2022-06-15T06:48:07.534Z"
   },
   {
    "duration": 32,
    "start_time": "2022-06-15T06:48:07.571Z"
   },
   {
    "duration": 19,
    "start_time": "2022-06-15T06:48:07.605Z"
   },
   {
    "duration": 166,
    "start_time": "2022-06-15T06:48:07.626Z"
   },
   {
    "duration": 136,
    "start_time": "2022-06-15T06:48:07.795Z"
   },
   {
    "duration": 389,
    "start_time": "2022-06-15T06:48:07.934Z"
   },
   {
    "duration": 42,
    "start_time": "2022-06-15T06:48:08.325Z"
   },
   {
    "duration": 152,
    "start_time": "2022-06-15T06:48:08.369Z"
   },
   {
    "duration": 157,
    "start_time": "2022-06-15T06:48:08.523Z"
   },
   {
    "duration": 10,
    "start_time": "2022-06-15T06:48:08.681Z"
   },
   {
    "duration": 188,
    "start_time": "2022-06-15T06:48:08.692Z"
   },
   {
    "duration": 167,
    "start_time": "2022-06-15T06:48:08.881Z"
   },
   {
    "duration": 10,
    "start_time": "2022-06-15T06:48:09.049Z"
   },
   {
    "duration": 155,
    "start_time": "2022-06-15T06:48:09.061Z"
   },
   {
    "duration": 144,
    "start_time": "2022-06-15T06:48:09.227Z"
   },
   {
    "duration": 11,
    "start_time": "2022-06-15T06:48:09.372Z"
   },
   {
    "duration": 28,
    "start_time": "2022-06-15T06:48:09.384Z"
   },
   {
    "duration": 23,
    "start_time": "2022-06-15T06:48:09.413Z"
   },
   {
    "duration": 41,
    "start_time": "2022-06-15T06:48:09.438Z"
   },
   {
    "duration": 33,
    "start_time": "2022-06-15T06:48:09.481Z"
   },
   {
    "duration": 18,
    "start_time": "2022-06-15T06:48:09.516Z"
   },
   {
    "duration": 40,
    "start_time": "2022-06-15T06:48:09.536Z"
   },
   {
    "duration": 31,
    "start_time": "2022-06-15T06:48:09.578Z"
   },
   {
    "duration": 17,
    "start_time": "2022-06-15T06:48:09.615Z"
   },
   {
    "duration": 27,
    "start_time": "2022-06-15T06:48:09.634Z"
   },
   {
    "duration": 38,
    "start_time": "2022-06-15T06:48:09.663Z"
   },
   {
    "duration": 25,
    "start_time": "2022-06-15T06:48:09.703Z"
   },
   {
    "duration": 29,
    "start_time": "2022-06-15T06:48:09.730Z"
   },
   {
    "duration": 13,
    "start_time": "2022-06-15T06:48:09.760Z"
   },
   {
    "duration": 31,
    "start_time": "2022-06-15T06:48:09.774Z"
   },
   {
    "duration": 118,
    "start_time": "2022-06-15T06:48:09.807Z"
   },
   {
    "duration": 10,
    "start_time": "2022-06-15T06:49:24.256Z"
   },
   {
    "duration": 315,
    "start_time": "2022-06-15T06:50:03.490Z"
   },
   {
    "duration": 388,
    "start_time": "2022-06-15T06:50:57.407Z"
   },
   {
    "duration": 297,
    "start_time": "2022-06-15T06:51:48.454Z"
   },
   {
    "duration": 309,
    "start_time": "2022-06-15T06:52:12.470Z"
   },
   {
    "duration": 278,
    "start_time": "2022-06-15T06:52:46.672Z"
   },
   {
    "duration": 294,
    "start_time": "2022-06-15T06:53:43.105Z"
   },
   {
    "duration": 372,
    "start_time": "2022-06-15T06:54:41.694Z"
   },
   {
    "duration": 8,
    "start_time": "2022-06-15T07:02:42.120Z"
   },
   {
    "duration": 11,
    "start_time": "2022-06-15T07:03:28.654Z"
   },
   {
    "duration": 9,
    "start_time": "2022-06-15T07:04:38.107Z"
   },
   {
    "duration": 10,
    "start_time": "2022-06-15T07:06:11.598Z"
   },
   {
    "duration": 9,
    "start_time": "2022-06-15T07:06:34.114Z"
   },
   {
    "duration": 11,
    "start_time": "2022-06-15T07:06:47.391Z"
   },
   {
    "duration": 490,
    "start_time": "2022-06-15T07:13:53.734Z"
   },
   {
    "duration": 700,
    "start_time": "2022-06-15T07:14:06.127Z"
   },
   {
    "duration": 1046,
    "start_time": "2022-06-15T07:24:48.358Z"
   },
   {
    "duration": 3,
    "start_time": "2022-06-15T07:24:49.405Z"
   },
   {
    "duration": 418,
    "start_time": "2022-06-15T07:24:49.410Z"
   },
   {
    "duration": 11,
    "start_time": "2022-06-15T07:24:49.830Z"
   },
   {
    "duration": 15,
    "start_time": "2022-06-15T07:24:49.843Z"
   },
   {
    "duration": 15,
    "start_time": "2022-06-15T07:24:49.859Z"
   },
   {
    "duration": 12,
    "start_time": "2022-06-15T07:24:49.876Z"
   },
   {
    "duration": 12,
    "start_time": "2022-06-15T07:24:49.890Z"
   },
   {
    "duration": 47,
    "start_time": "2022-06-15T07:24:49.904Z"
   },
   {
    "duration": 21,
    "start_time": "2022-06-15T07:24:49.954Z"
   },
   {
    "duration": 5,
    "start_time": "2022-06-15T07:24:49.976Z"
   },
   {
    "duration": 7,
    "start_time": "2022-06-15T07:24:49.983Z"
   },
   {
    "duration": 75,
    "start_time": "2022-06-15T07:24:49.991Z"
   },
   {
    "duration": 35,
    "start_time": "2022-06-15T07:24:50.068Z"
   },
   {
    "duration": 278,
    "start_time": "2022-06-15T07:24:50.104Z"
   },
   {
    "duration": 180,
    "start_time": "2022-06-15T07:24:50.383Z"
   },
   {
    "duration": 21,
    "start_time": "2022-06-15T07:24:50.564Z"
   },
   {
    "duration": 53,
    "start_time": "2022-06-15T07:24:50.587Z"
   },
   {
    "duration": 34,
    "start_time": "2022-06-15T07:24:50.641Z"
   },
   {
    "duration": 18,
    "start_time": "2022-06-15T07:24:50.676Z"
   },
   {
    "duration": 34,
    "start_time": "2022-06-15T07:24:50.695Z"
   },
   {
    "duration": 244,
    "start_time": "2022-06-15T07:24:50.732Z"
   },
   {
    "duration": 173,
    "start_time": "2022-06-15T07:24:50.978Z"
   },
   {
    "duration": 18,
    "start_time": "2022-06-15T07:24:51.153Z"
   },
   {
    "duration": 36,
    "start_time": "2022-06-15T07:24:51.172Z"
   },
   {
    "duration": 27,
    "start_time": "2022-06-15T07:24:51.209Z"
   },
   {
    "duration": 22,
    "start_time": "2022-06-15T07:24:51.238Z"
   },
   {
    "duration": 239,
    "start_time": "2022-06-15T07:24:51.264Z"
   },
   {
    "duration": 6,
    "start_time": "2022-06-15T07:24:51.504Z"
   },
   {
    "duration": 21,
    "start_time": "2022-06-15T07:24:51.512Z"
   },
   {
    "duration": 10,
    "start_time": "2022-06-15T07:24:51.535Z"
   },
   {
    "duration": 6,
    "start_time": "2022-06-15T07:24:51.546Z"
   },
   {
    "duration": 13,
    "start_time": "2022-06-15T07:24:51.553Z"
   },
   {
    "duration": 10,
    "start_time": "2022-06-15T07:24:51.568Z"
   },
   {
    "duration": 70,
    "start_time": "2022-06-15T07:24:51.580Z"
   },
   {
    "duration": 10,
    "start_time": "2022-06-15T07:24:51.652Z"
   },
   {
    "duration": 15,
    "start_time": "2022-06-15T07:24:51.664Z"
   },
   {
    "duration": 34,
    "start_time": "2022-06-15T07:24:51.681Z"
   },
   {
    "duration": 15,
    "start_time": "2022-06-15T07:24:51.717Z"
   },
   {
    "duration": 11,
    "start_time": "2022-06-15T07:24:51.733Z"
   },
   {
    "duration": 30,
    "start_time": "2022-06-15T07:24:51.747Z"
   },
   {
    "duration": 7,
    "start_time": "2022-06-15T07:24:51.779Z"
   },
   {
    "duration": 43,
    "start_time": "2022-06-15T07:24:51.788Z"
   },
   {
    "duration": 19,
    "start_time": "2022-06-15T07:24:51.833Z"
   },
   {
    "duration": 8,
    "start_time": "2022-06-15T07:24:51.854Z"
   },
   {
    "duration": 20,
    "start_time": "2022-06-15T07:24:51.863Z"
   },
   {
    "duration": 31,
    "start_time": "2022-06-15T07:24:51.885Z"
   },
   {
    "duration": 26,
    "start_time": "2022-06-15T07:24:51.917Z"
   },
   {
    "duration": 7,
    "start_time": "2022-06-15T07:24:51.945Z"
   },
   {
    "duration": 6,
    "start_time": "2022-06-15T07:24:51.953Z"
   },
   {
    "duration": 16,
    "start_time": "2022-06-15T07:24:51.960Z"
   },
   {
    "duration": 17,
    "start_time": "2022-06-15T07:24:51.977Z"
   },
   {
    "duration": 3,
    "start_time": "2022-06-15T07:24:51.996Z"
   },
   {
    "duration": 37,
    "start_time": "2022-06-15T07:24:52.001Z"
   },
   {
    "duration": 120,
    "start_time": "2022-06-15T07:24:52.040Z"
   },
   {
    "duration": 3,
    "start_time": "2022-06-15T07:24:52.162Z"
   },
   {
    "duration": 33,
    "start_time": "2022-06-15T07:24:52.167Z"
   },
   {
    "duration": 13,
    "start_time": "2022-06-15T07:24:52.201Z"
   },
   {
    "duration": 5,
    "start_time": "2022-06-15T07:24:52.228Z"
   },
   {
    "duration": 15,
    "start_time": "2022-06-15T07:24:52.235Z"
   },
   {
    "duration": 32,
    "start_time": "2022-06-15T07:24:52.251Z"
   },
   {
    "duration": 319,
    "start_time": "2022-06-15T07:24:52.284Z"
   },
   {
    "duration": 104,
    "start_time": "2022-06-15T07:24:52.605Z"
   },
   {
    "duration": 0,
    "start_time": "2022-06-15T07:24:52.711Z"
   },
   {
    "duration": 0,
    "start_time": "2022-06-15T07:24:52.712Z"
   },
   {
    "duration": 0,
    "start_time": "2022-06-15T07:24:52.713Z"
   },
   {
    "duration": 0,
    "start_time": "2022-06-15T07:24:52.714Z"
   },
   {
    "duration": 0,
    "start_time": "2022-06-15T07:24:52.715Z"
   },
   {
    "duration": 0,
    "start_time": "2022-06-15T07:24:52.717Z"
   },
   {
    "duration": 0,
    "start_time": "2022-06-15T07:24:52.727Z"
   },
   {
    "duration": 0,
    "start_time": "2022-06-15T07:24:52.728Z"
   },
   {
    "duration": 0,
    "start_time": "2022-06-15T07:24:52.729Z"
   },
   {
    "duration": 0,
    "start_time": "2022-06-15T07:24:52.731Z"
   },
   {
    "duration": 0,
    "start_time": "2022-06-15T07:24:52.732Z"
   },
   {
    "duration": 0,
    "start_time": "2022-06-15T07:24:52.733Z"
   },
   {
    "duration": 0,
    "start_time": "2022-06-15T07:24:52.734Z"
   },
   {
    "duration": 0,
    "start_time": "2022-06-15T07:24:52.736Z"
   },
   {
    "duration": 0,
    "start_time": "2022-06-15T07:24:52.737Z"
   },
   {
    "duration": 0,
    "start_time": "2022-06-15T07:24:52.738Z"
   },
   {
    "duration": 0,
    "start_time": "2022-06-15T07:24:52.740Z"
   },
   {
    "duration": 0,
    "start_time": "2022-06-15T07:24:52.742Z"
   },
   {
    "duration": 123,
    "start_time": "2022-06-15T07:25:47.680Z"
   },
   {
    "duration": 1068,
    "start_time": "2022-06-15T07:25:51.426Z"
   },
   {
    "duration": 2,
    "start_time": "2022-06-15T07:25:52.497Z"
   },
   {
    "duration": 414,
    "start_time": "2022-06-15T07:25:52.501Z"
   },
   {
    "duration": 11,
    "start_time": "2022-06-15T07:25:52.917Z"
   },
   {
    "duration": 23,
    "start_time": "2022-06-15T07:25:52.929Z"
   },
   {
    "duration": 28,
    "start_time": "2022-06-15T07:25:52.954Z"
   },
   {
    "duration": 28,
    "start_time": "2022-06-15T07:25:52.984Z"
   },
   {
    "duration": 16,
    "start_time": "2022-06-15T07:25:53.014Z"
   },
   {
    "duration": 52,
    "start_time": "2022-06-15T07:25:53.031Z"
   },
   {
    "duration": 20,
    "start_time": "2022-06-15T07:25:53.085Z"
   },
   {
    "duration": 19,
    "start_time": "2022-06-15T07:25:53.106Z"
   },
   {
    "duration": 12,
    "start_time": "2022-06-15T07:25:53.126Z"
   },
   {
    "duration": 73,
    "start_time": "2022-06-15T07:25:53.140Z"
   },
   {
    "duration": 45,
    "start_time": "2022-06-15T07:25:53.215Z"
   },
   {
    "duration": 251,
    "start_time": "2022-06-15T07:25:53.262Z"
   },
   {
    "duration": 163,
    "start_time": "2022-06-15T07:25:53.515Z"
   },
   {
    "duration": 21,
    "start_time": "2022-06-15T07:25:53.680Z"
   },
   {
    "duration": 55,
    "start_time": "2022-06-15T07:25:53.703Z"
   },
   {
    "duration": 45,
    "start_time": "2022-06-15T07:25:53.759Z"
   },
   {
    "duration": 19,
    "start_time": "2022-06-15T07:25:53.806Z"
   },
   {
    "duration": 36,
    "start_time": "2022-06-15T07:25:53.827Z"
   },
   {
    "duration": 235,
    "start_time": "2022-06-15T07:25:53.864Z"
   },
   {
    "duration": 170,
    "start_time": "2022-06-15T07:25:54.101Z"
   },
   {
    "duration": 17,
    "start_time": "2022-06-15T07:25:54.273Z"
   },
   {
    "duration": 47,
    "start_time": "2022-06-15T07:25:54.291Z"
   },
   {
    "duration": 36,
    "start_time": "2022-06-15T07:25:54.339Z"
   },
   {
    "duration": 40,
    "start_time": "2022-06-15T07:25:54.377Z"
   },
   {
    "duration": 210,
    "start_time": "2022-06-15T07:25:54.420Z"
   },
   {
    "duration": 6,
    "start_time": "2022-06-15T07:25:54.631Z"
   },
   {
    "duration": 55,
    "start_time": "2022-06-15T07:25:54.638Z"
   },
   {
    "duration": 30,
    "start_time": "2022-06-15T07:25:54.695Z"
   },
   {
    "duration": 22,
    "start_time": "2022-06-15T07:25:54.727Z"
   },
   {
    "duration": 34,
    "start_time": "2022-06-15T07:25:54.750Z"
   },
   {
    "duration": 11,
    "start_time": "2022-06-15T07:25:54.786Z"
   },
   {
    "duration": 38,
    "start_time": "2022-06-15T07:25:54.799Z"
   },
   {
    "duration": 8,
    "start_time": "2022-06-15T07:25:54.839Z"
   },
   {
    "duration": 11,
    "start_time": "2022-06-15T07:25:54.849Z"
   },
   {
    "duration": 28,
    "start_time": "2022-06-15T07:25:54.861Z"
   },
   {
    "duration": 7,
    "start_time": "2022-06-15T07:25:54.890Z"
   },
   {
    "duration": 29,
    "start_time": "2022-06-15T07:25:54.899Z"
   },
   {
    "duration": 24,
    "start_time": "2022-06-15T07:25:54.929Z"
   },
   {
    "duration": 8,
    "start_time": "2022-06-15T07:25:54.955Z"
   },
   {
    "duration": 33,
    "start_time": "2022-06-15T07:25:54.964Z"
   },
   {
    "duration": 14,
    "start_time": "2022-06-15T07:25:54.999Z"
   },
   {
    "duration": 16,
    "start_time": "2022-06-15T07:25:55.015Z"
   },
   {
    "duration": 13,
    "start_time": "2022-06-15T07:25:55.032Z"
   },
   {
    "duration": 18,
    "start_time": "2022-06-15T07:25:55.046Z"
   },
   {
    "duration": 16,
    "start_time": "2022-06-15T07:25:55.066Z"
   },
   {
    "duration": 6,
    "start_time": "2022-06-15T07:25:55.084Z"
   },
   {
    "duration": 7,
    "start_time": "2022-06-15T07:25:55.092Z"
   },
   {
    "duration": 28,
    "start_time": "2022-06-15T07:25:55.100Z"
   },
   {
    "duration": 8,
    "start_time": "2022-06-15T07:25:55.130Z"
   },
   {
    "duration": 3,
    "start_time": "2022-06-15T07:25:55.140Z"
   },
   {
    "duration": 16,
    "start_time": "2022-06-15T07:25:55.144Z"
   },
   {
    "duration": 124,
    "start_time": "2022-06-15T07:25:55.161Z"
   },
   {
    "duration": 4,
    "start_time": "2022-06-15T07:25:55.286Z"
   },
   {
    "duration": 18,
    "start_time": "2022-06-15T07:25:55.291Z"
   },
   {
    "duration": 23,
    "start_time": "2022-06-15T07:25:55.311Z"
   },
   {
    "duration": 4,
    "start_time": "2022-06-15T07:25:55.336Z"
   },
   {
    "duration": 8,
    "start_time": "2022-06-15T07:25:55.341Z"
   },
   {
    "duration": 6,
    "start_time": "2022-06-15T07:25:55.351Z"
   },
   {
    "duration": 302,
    "start_time": "2022-06-15T07:25:55.358Z"
   },
   {
    "duration": 123,
    "start_time": "2022-06-15T07:25:55.661Z"
   },
   {
    "duration": 281,
    "start_time": "2022-06-15T07:25:55.785Z"
   },
   {
    "duration": 9,
    "start_time": "2022-06-15T07:25:56.067Z"
   },
   {
    "duration": 342,
    "start_time": "2022-06-15T07:25:56.078Z"
   },
   {
    "duration": 14,
    "start_time": "2022-06-15T07:25:56.422Z"
   },
   {
    "duration": 16,
    "start_time": "2022-06-15T07:25:56.438Z"
   },
   {
    "duration": 105,
    "start_time": "2022-06-15T07:25:56.456Z"
   },
   {
    "duration": 0,
    "start_time": "2022-06-15T07:25:56.563Z"
   },
   {
    "duration": 0,
    "start_time": "2022-06-15T07:25:56.565Z"
   },
   {
    "duration": 0,
    "start_time": "2022-06-15T07:25:56.566Z"
   },
   {
    "duration": 0,
    "start_time": "2022-06-15T07:25:56.567Z"
   },
   {
    "duration": 0,
    "start_time": "2022-06-15T07:25:56.569Z"
   },
   {
    "duration": 0,
    "start_time": "2022-06-15T07:25:56.570Z"
   },
   {
    "duration": 0,
    "start_time": "2022-06-15T07:25:56.571Z"
   },
   {
    "duration": 0,
    "start_time": "2022-06-15T07:25:56.573Z"
   },
   {
    "duration": 0,
    "start_time": "2022-06-15T07:25:56.574Z"
   },
   {
    "duration": 0,
    "start_time": "2022-06-15T07:25:56.575Z"
   },
   {
    "duration": 0,
    "start_time": "2022-06-15T07:25:56.577Z"
   },
   {
    "duration": 9,
    "start_time": "2022-06-15T07:26:40.336Z"
   },
   {
    "duration": 8,
    "start_time": "2022-06-15T07:28:00.039Z"
   },
   {
    "duration": 369,
    "start_time": "2022-06-15T07:30:51.620Z"
   },
   {
    "duration": 12,
    "start_time": "2022-06-15T07:31:41.324Z"
   },
   {
    "duration": 12,
    "start_time": "2022-06-15T07:33:37.215Z"
   },
   {
    "duration": 9,
    "start_time": "2022-06-15T07:33:49.858Z"
   },
   {
    "duration": 292,
    "start_time": "2022-06-15T07:33:58.989Z"
   },
   {
    "duration": 10,
    "start_time": "2022-06-15T07:35:14.421Z"
   },
   {
    "duration": 10,
    "start_time": "2022-06-15T07:35:22.805Z"
   },
   {
    "duration": 9,
    "start_time": "2022-06-15T07:35:30.019Z"
   },
   {
    "duration": 10,
    "start_time": "2022-06-15T07:35:59.865Z"
   },
   {
    "duration": 8,
    "start_time": "2022-06-15T07:36:18.361Z"
   },
   {
    "duration": 12,
    "start_time": "2022-06-15T07:36:30.889Z"
   },
   {
    "duration": 13,
    "start_time": "2022-06-15T07:36:40.667Z"
   },
   {
    "duration": 9,
    "start_time": "2022-06-15T07:36:56.534Z"
   },
   {
    "duration": 269,
    "start_time": "2022-06-15T07:37:05.817Z"
   },
   {
    "duration": 11,
    "start_time": "2022-06-15T07:37:29.625Z"
   },
   {
    "duration": 1060,
    "start_time": "2022-06-15T07:39:12.339Z"
   },
   {
    "duration": 2,
    "start_time": "2022-06-15T07:39:13.401Z"
   },
   {
    "duration": 392,
    "start_time": "2022-06-15T07:39:13.405Z"
   },
   {
    "duration": 11,
    "start_time": "2022-06-15T07:39:13.800Z"
   },
   {
    "duration": 8,
    "start_time": "2022-06-15T07:39:13.812Z"
   },
   {
    "duration": 10,
    "start_time": "2022-06-15T07:39:13.821Z"
   },
   {
    "duration": 12,
    "start_time": "2022-06-15T07:39:13.832Z"
   },
   {
    "duration": 11,
    "start_time": "2022-06-15T07:39:13.845Z"
   },
   {
    "duration": 37,
    "start_time": "2022-06-15T07:39:13.858Z"
   },
   {
    "duration": 30,
    "start_time": "2022-06-15T07:39:13.897Z"
   },
   {
    "duration": 8,
    "start_time": "2022-06-15T07:39:13.928Z"
   },
   {
    "duration": 7,
    "start_time": "2022-06-15T07:39:13.938Z"
   },
   {
    "duration": 57,
    "start_time": "2022-06-15T07:39:13.947Z"
   },
   {
    "duration": 47,
    "start_time": "2022-06-15T07:39:14.005Z"
   },
   {
    "duration": 263,
    "start_time": "2022-06-15T07:39:14.053Z"
   },
   {
    "duration": 164,
    "start_time": "2022-06-15T07:39:14.318Z"
   },
   {
    "duration": 23,
    "start_time": "2022-06-15T07:39:14.483Z"
   },
   {
    "duration": 51,
    "start_time": "2022-06-15T07:39:14.507Z"
   },
   {
    "duration": 27,
    "start_time": "2022-06-15T07:39:14.560Z"
   },
   {
    "duration": 17,
    "start_time": "2022-06-15T07:39:14.589Z"
   },
   {
    "duration": 34,
    "start_time": "2022-06-15T07:39:14.608Z"
   },
   {
    "duration": 244,
    "start_time": "2022-06-15T07:39:14.643Z"
   },
   {
    "duration": 180,
    "start_time": "2022-06-15T07:39:14.888Z"
   },
   {
    "duration": 18,
    "start_time": "2022-06-15T07:39:15.070Z"
   },
   {
    "duration": 46,
    "start_time": "2022-06-15T07:39:15.089Z"
   },
   {
    "duration": 14,
    "start_time": "2022-06-15T07:39:15.137Z"
   },
   {
    "duration": 30,
    "start_time": "2022-06-15T07:39:15.152Z"
   },
   {
    "duration": 216,
    "start_time": "2022-06-15T07:39:15.186Z"
   },
   {
    "duration": 5,
    "start_time": "2022-06-15T07:39:15.404Z"
   },
   {
    "duration": 17,
    "start_time": "2022-06-15T07:39:15.411Z"
   },
   {
    "duration": 19,
    "start_time": "2022-06-15T07:39:15.429Z"
   },
   {
    "duration": 7,
    "start_time": "2022-06-15T07:39:15.449Z"
   },
   {
    "duration": 12,
    "start_time": "2022-06-15T07:39:15.457Z"
   },
   {
    "duration": 10,
    "start_time": "2022-06-15T07:39:15.470Z"
   },
   {
    "duration": 35,
    "start_time": "2022-06-15T07:39:15.481Z"
   },
   {
    "duration": 11,
    "start_time": "2022-06-15T07:39:15.517Z"
   },
   {
    "duration": 8,
    "start_time": "2022-06-15T07:39:15.530Z"
   },
   {
    "duration": 21,
    "start_time": "2022-06-15T07:39:15.539Z"
   },
   {
    "duration": 6,
    "start_time": "2022-06-15T07:39:15.561Z"
   },
   {
    "duration": 9,
    "start_time": "2022-06-15T07:39:15.569Z"
   },
   {
    "duration": 47,
    "start_time": "2022-06-15T07:39:15.580Z"
   },
   {
    "duration": 6,
    "start_time": "2022-06-15T07:39:15.629Z"
   },
   {
    "duration": 14,
    "start_time": "2022-06-15T07:39:15.637Z"
   },
   {
    "duration": 11,
    "start_time": "2022-06-15T07:39:15.653Z"
   },
   {
    "duration": 7,
    "start_time": "2022-06-15T07:39:15.665Z"
   },
   {
    "duration": 10,
    "start_time": "2022-06-15T07:39:15.673Z"
   },
   {
    "duration": 43,
    "start_time": "2022-06-15T07:39:15.685Z"
   },
   {
    "duration": 17,
    "start_time": "2022-06-15T07:39:15.729Z"
   },
   {
    "duration": 7,
    "start_time": "2022-06-15T07:39:15.747Z"
   },
   {
    "duration": 9,
    "start_time": "2022-06-15T07:39:15.755Z"
   },
   {
    "duration": 11,
    "start_time": "2022-06-15T07:39:15.765Z"
   },
   {
    "duration": 12,
    "start_time": "2022-06-15T07:39:15.777Z"
   },
   {
    "duration": 3,
    "start_time": "2022-06-15T07:39:15.790Z"
   },
   {
    "duration": 36,
    "start_time": "2022-06-15T07:39:15.795Z"
   },
   {
    "duration": 118,
    "start_time": "2022-06-15T07:39:15.832Z"
   },
   {
    "duration": 4,
    "start_time": "2022-06-15T07:39:15.951Z"
   },
   {
    "duration": 26,
    "start_time": "2022-06-15T07:39:15.956Z"
   },
   {
    "duration": 14,
    "start_time": "2022-06-15T07:39:15.983Z"
   },
   {
    "duration": 4,
    "start_time": "2022-06-15T07:39:15.999Z"
   },
   {
    "duration": 7,
    "start_time": "2022-06-15T07:39:16.004Z"
   },
   {
    "duration": 15,
    "start_time": "2022-06-15T07:39:16.012Z"
   },
   {
    "duration": 350,
    "start_time": "2022-06-15T07:39:16.028Z"
   },
   {
    "duration": 134,
    "start_time": "2022-06-15T07:39:16.380Z"
   },
   {
    "duration": 283,
    "start_time": "2022-06-15T07:39:16.516Z"
   },
   {
    "duration": 9,
    "start_time": "2022-06-15T07:39:16.801Z"
   },
   {
    "duration": 308,
    "start_time": "2022-06-15T07:39:16.812Z"
   },
   {
    "duration": 12,
    "start_time": "2022-06-15T07:39:17.121Z"
   },
   {
    "duration": 14,
    "start_time": "2022-06-15T07:39:17.134Z"
   },
   {
    "duration": 11,
    "start_time": "2022-06-15T07:39:17.149Z"
   },
   {
    "duration": 10,
    "start_time": "2022-06-15T07:39:17.161Z"
   },
   {
    "duration": 314,
    "start_time": "2022-06-15T07:39:17.173Z"
   },
   {
    "duration": 9,
    "start_time": "2022-06-15T07:39:17.489Z"
   },
   {
    "duration": 28,
    "start_time": "2022-06-15T07:39:17.500Z"
   },
   {
    "duration": 257,
    "start_time": "2022-06-15T07:39:17.529Z"
   },
   {
    "duration": 13,
    "start_time": "2022-06-15T07:46:30.973Z"
   },
   {
    "duration": 1045,
    "start_time": "2022-06-15T07:46:56.553Z"
   },
   {
    "duration": 3,
    "start_time": "2022-06-15T07:46:57.600Z"
   },
   {
    "duration": 391,
    "start_time": "2022-06-15T07:46:57.604Z"
   },
   {
    "duration": 10,
    "start_time": "2022-06-15T07:46:57.997Z"
   },
   {
    "duration": 8,
    "start_time": "2022-06-15T07:46:58.009Z"
   },
   {
    "duration": 13,
    "start_time": "2022-06-15T07:46:58.018Z"
   },
   {
    "duration": 11,
    "start_time": "2022-06-15T07:46:58.032Z"
   },
   {
    "duration": 11,
    "start_time": "2022-06-15T07:46:58.044Z"
   },
   {
    "duration": 35,
    "start_time": "2022-06-15T07:46:58.056Z"
   },
   {
    "duration": 20,
    "start_time": "2022-06-15T07:46:58.094Z"
   },
   {
    "duration": 4,
    "start_time": "2022-06-15T07:46:58.126Z"
   },
   {
    "duration": 8,
    "start_time": "2022-06-15T07:46:58.131Z"
   },
   {
    "duration": 56,
    "start_time": "2022-06-15T07:46:58.140Z"
   },
   {
    "duration": 45,
    "start_time": "2022-06-15T07:46:58.197Z"
   },
   {
    "duration": 244,
    "start_time": "2022-06-15T07:46:58.244Z"
   },
   {
    "duration": 169,
    "start_time": "2022-06-15T07:46:58.490Z"
   },
   {
    "duration": 23,
    "start_time": "2022-06-15T07:46:58.660Z"
   },
   {
    "duration": 55,
    "start_time": "2022-06-15T07:46:58.685Z"
   },
   {
    "duration": 43,
    "start_time": "2022-06-15T07:46:58.742Z"
   },
   {
    "duration": 17,
    "start_time": "2022-06-15T07:46:58.787Z"
   },
   {
    "duration": 30,
    "start_time": "2022-06-15T07:46:58.806Z"
   },
   {
    "duration": 217,
    "start_time": "2022-06-15T07:46:58.837Z"
   },
   {
    "duration": 166,
    "start_time": "2022-06-15T07:46:59.056Z"
   },
   {
    "duration": 17,
    "start_time": "2022-06-15T07:46:59.226Z"
   },
   {
    "duration": 34,
    "start_time": "2022-06-15T07:46:59.244Z"
   },
   {
    "duration": 13,
    "start_time": "2022-06-15T07:46:59.280Z"
   },
   {
    "duration": 36,
    "start_time": "2022-06-15T07:46:59.294Z"
   },
   {
    "duration": 201,
    "start_time": "2022-06-15T07:46:59.333Z"
   },
   {
    "duration": 6,
    "start_time": "2022-06-15T07:46:59.536Z"
   },
   {
    "duration": 11,
    "start_time": "2022-06-15T07:46:59.544Z"
   },
   {
    "duration": 9,
    "start_time": "2022-06-15T07:46:59.557Z"
   },
   {
    "duration": 5,
    "start_time": "2022-06-15T07:46:59.568Z"
   },
   {
    "duration": 12,
    "start_time": "2022-06-15T07:46:59.574Z"
   },
   {
    "duration": 10,
    "start_time": "2022-06-15T07:46:59.587Z"
   },
   {
    "duration": 55,
    "start_time": "2022-06-15T07:46:59.598Z"
   },
   {
    "duration": 6,
    "start_time": "2022-06-15T07:46:59.655Z"
   },
   {
    "duration": 20,
    "start_time": "2022-06-15T07:46:59.663Z"
   },
   {
    "duration": 23,
    "start_time": "2022-06-15T07:46:59.685Z"
   },
   {
    "duration": 6,
    "start_time": "2022-06-15T07:46:59.710Z"
   },
   {
    "duration": 16,
    "start_time": "2022-06-15T07:46:59.717Z"
   },
   {
    "duration": 26,
    "start_time": "2022-06-15T07:46:59.734Z"
   },
   {
    "duration": 6,
    "start_time": "2022-06-15T07:46:59.762Z"
   },
   {
    "duration": 17,
    "start_time": "2022-06-15T07:46:59.770Z"
   },
   {
    "duration": 12,
    "start_time": "2022-06-15T07:46:59.788Z"
   },
   {
    "duration": 26,
    "start_time": "2022-06-15T07:46:59.802Z"
   },
   {
    "duration": 9,
    "start_time": "2022-06-15T07:46:59.829Z"
   },
   {
    "duration": 19,
    "start_time": "2022-06-15T07:46:59.840Z"
   },
   {
    "duration": 18,
    "start_time": "2022-06-15T07:46:59.860Z"
   },
   {
    "duration": 7,
    "start_time": "2022-06-15T07:46:59.879Z"
   },
   {
    "duration": 5,
    "start_time": "2022-06-15T07:46:59.887Z"
   },
   {
    "duration": 35,
    "start_time": "2022-06-15T07:46:59.894Z"
   },
   {
    "duration": 9,
    "start_time": "2022-06-15T07:46:59.931Z"
   },
   {
    "duration": 3,
    "start_time": "2022-06-15T07:46:59.942Z"
   },
   {
    "duration": 16,
    "start_time": "2022-06-15T07:46:59.946Z"
   },
   {
    "duration": 122,
    "start_time": "2022-06-15T07:46:59.963Z"
   },
   {
    "duration": 4,
    "start_time": "2022-06-15T07:47:00.087Z"
   },
   {
    "duration": 44,
    "start_time": "2022-06-15T07:47:00.092Z"
   },
   {
    "duration": 14,
    "start_time": "2022-06-15T07:47:00.138Z"
   },
   {
    "duration": 15,
    "start_time": "2022-06-15T07:47:00.153Z"
   },
   {
    "duration": 35,
    "start_time": "2022-06-15T07:47:00.170Z"
   },
   {
    "duration": 9,
    "start_time": "2022-06-15T07:47:00.207Z"
   },
   {
    "duration": 314,
    "start_time": "2022-06-15T07:47:00.218Z"
   },
   {
    "duration": 128,
    "start_time": "2022-06-15T07:47:00.534Z"
   },
   {
    "duration": 286,
    "start_time": "2022-06-15T07:47:00.664Z"
   },
   {
    "duration": 10,
    "start_time": "2022-06-15T07:47:00.951Z"
   },
   {
    "duration": 289,
    "start_time": "2022-06-15T07:47:00.962Z"
   },
   {
    "duration": 17,
    "start_time": "2022-06-15T07:47:01.253Z"
   },
   {
    "duration": 53,
    "start_time": "2022-06-15T07:47:01.272Z"
   },
   {
    "duration": 45,
    "start_time": "2022-06-15T07:47:01.327Z"
   },
   {
    "duration": 36,
    "start_time": "2022-06-15T07:47:01.373Z"
   },
   {
    "duration": 283,
    "start_time": "2022-06-15T07:47:01.410Z"
   },
   {
    "duration": 11,
    "start_time": "2022-06-15T07:47:01.695Z"
   },
   {
    "duration": 35,
    "start_time": "2022-06-15T07:47:01.707Z"
   },
   {
    "duration": 313,
    "start_time": "2022-06-15T07:47:01.743Z"
   },
   {
    "duration": 15,
    "start_time": "2022-06-15T07:47:02.058Z"
   },
   {
    "duration": 24,
    "start_time": "2022-06-15T07:47:02.075Z"
   },
   {
    "duration": 1424,
    "start_time": "2022-06-16T08:27:23.057Z"
   },
   {
    "duration": 3,
    "start_time": "2022-06-16T08:27:24.484Z"
   },
   {
    "duration": 1423,
    "start_time": "2022-06-16T08:27:24.489Z"
   },
   {
    "duration": 15,
    "start_time": "2022-06-16T08:27:25.914Z"
   },
   {
    "duration": 26,
    "start_time": "2022-06-16T08:27:25.931Z"
   },
   {
    "duration": 12,
    "start_time": "2022-06-16T08:27:25.959Z"
   },
   {
    "duration": 14,
    "start_time": "2022-06-16T08:27:25.973Z"
   },
   {
    "duration": 15,
    "start_time": "2022-06-16T08:27:25.989Z"
   },
   {
    "duration": 34,
    "start_time": "2022-06-16T08:27:26.006Z"
   },
   {
    "duration": 21,
    "start_time": "2022-06-16T08:27:26.042Z"
   },
   {
    "duration": 15,
    "start_time": "2022-06-16T08:27:26.065Z"
   },
   {
    "duration": 7,
    "start_time": "2022-06-16T08:27:26.082Z"
   },
   {
    "duration": 68,
    "start_time": "2022-06-16T08:27:26.090Z"
   },
   {
    "duration": 41,
    "start_time": "2022-06-16T08:27:26.160Z"
   },
   {
    "duration": 418,
    "start_time": "2022-06-16T08:27:26.203Z"
   },
   {
    "duration": 176,
    "start_time": "2022-06-16T08:27:26.623Z"
   },
   {
    "duration": 36,
    "start_time": "2022-06-16T08:27:26.801Z"
   },
   {
    "duration": 45,
    "start_time": "2022-06-16T08:27:26.838Z"
   },
   {
    "duration": 29,
    "start_time": "2022-06-16T08:27:26.884Z"
   },
   {
    "duration": 36,
    "start_time": "2022-06-16T08:27:26.914Z"
   },
   {
    "duration": 23,
    "start_time": "2022-06-16T08:27:26.952Z"
   },
   {
    "duration": 260,
    "start_time": "2022-06-16T08:27:26.976Z"
   },
   {
    "duration": 195,
    "start_time": "2022-06-16T08:27:27.238Z"
   },
   {
    "duration": 19,
    "start_time": "2022-06-16T08:27:27.435Z"
   },
   {
    "duration": 40,
    "start_time": "2022-06-16T08:27:27.456Z"
   },
   {
    "duration": 33,
    "start_time": "2022-06-16T08:27:27.498Z"
   },
   {
    "duration": 22,
    "start_time": "2022-06-16T08:27:27.533Z"
   },
   {
    "duration": 232,
    "start_time": "2022-06-16T08:27:27.559Z"
   },
   {
    "duration": 6,
    "start_time": "2022-06-16T08:27:27.792Z"
   },
   {
    "duration": 21,
    "start_time": "2022-06-16T08:27:27.800Z"
   },
   {
    "duration": 14,
    "start_time": "2022-06-16T08:27:27.827Z"
   },
   {
    "duration": 7,
    "start_time": "2022-06-16T08:27:27.844Z"
   },
   {
    "duration": 15,
    "start_time": "2022-06-16T08:27:27.854Z"
   },
   {
    "duration": 13,
    "start_time": "2022-06-16T08:27:27.871Z"
   },
   {
    "duration": 49,
    "start_time": "2022-06-16T08:27:27.886Z"
   },
   {
    "duration": 8,
    "start_time": "2022-06-16T08:27:27.936Z"
   },
   {
    "duration": 13,
    "start_time": "2022-06-16T08:27:27.946Z"
   },
   {
    "duration": 34,
    "start_time": "2022-06-16T08:27:27.960Z"
   },
   {
    "duration": 10,
    "start_time": "2022-06-16T08:27:27.996Z"
   },
   {
    "duration": 11,
    "start_time": "2022-06-16T08:27:28.028Z"
   },
   {
    "duration": 26,
    "start_time": "2022-06-16T08:27:28.041Z"
   },
   {
    "duration": 9,
    "start_time": "2022-06-16T08:27:28.069Z"
   },
   {
    "duration": 24,
    "start_time": "2022-06-16T08:27:28.080Z"
   },
   {
    "duration": 19,
    "start_time": "2022-06-16T08:27:28.128Z"
   },
   {
    "duration": 7,
    "start_time": "2022-06-16T08:27:28.149Z"
   },
   {
    "duration": 12,
    "start_time": "2022-06-16T08:27:28.158Z"
   },
   {
    "duration": 23,
    "start_time": "2022-06-16T08:27:28.171Z"
   },
   {
    "duration": 47,
    "start_time": "2022-06-16T08:27:28.196Z"
   },
   {
    "duration": 8,
    "start_time": "2022-06-16T08:27:28.245Z"
   },
   {
    "duration": 7,
    "start_time": "2022-06-16T08:27:28.254Z"
   },
   {
    "duration": 9,
    "start_time": "2022-06-16T08:27:28.263Z"
   },
   {
    "duration": 13,
    "start_time": "2022-06-16T08:27:28.274Z"
   },
   {
    "duration": 4,
    "start_time": "2022-06-16T08:27:28.289Z"
   },
   {
    "duration": 22,
    "start_time": "2022-06-16T08:27:28.328Z"
   },
   {
    "duration": 127,
    "start_time": "2022-06-16T08:27:28.352Z"
   },
   {
    "duration": 4,
    "start_time": "2022-06-16T08:27:28.481Z"
   },
   {
    "duration": 26,
    "start_time": "2022-06-16T08:27:28.486Z"
   },
   {
    "duration": 29,
    "start_time": "2022-06-16T08:27:28.514Z"
   },
   {
    "duration": 7,
    "start_time": "2022-06-16T08:27:28.545Z"
   },
   {
    "duration": 9,
    "start_time": "2022-06-16T08:27:28.554Z"
   },
   {
    "duration": 8,
    "start_time": "2022-06-16T08:27:28.564Z"
   },
   {
    "duration": 322,
    "start_time": "2022-06-16T08:27:28.574Z"
   },
   {
    "duration": 141,
    "start_time": "2022-06-16T08:27:28.897Z"
   },
   {
    "duration": 306,
    "start_time": "2022-06-16T08:27:29.040Z"
   },
   {
    "duration": 10,
    "start_time": "2022-06-16T08:27:29.348Z"
   },
   {
    "duration": 340,
    "start_time": "2022-06-16T08:27:29.360Z"
   },
   {
    "duration": 11,
    "start_time": "2022-06-16T08:27:29.702Z"
   },
   {
    "duration": 26,
    "start_time": "2022-06-16T08:27:29.714Z"
   },
   {
    "duration": 28,
    "start_time": "2022-06-16T08:27:29.742Z"
   },
   {
    "duration": 20,
    "start_time": "2022-06-16T08:27:29.771Z"
   },
   {
    "duration": 356,
    "start_time": "2022-06-16T08:27:29.793Z"
   },
   {
    "duration": 11,
    "start_time": "2022-06-16T08:27:30.150Z"
   },
   {
    "duration": 46,
    "start_time": "2022-06-16T08:27:30.163Z"
   },
   {
    "duration": 318,
    "start_time": "2022-06-16T08:27:30.211Z"
   },
   {
    "duration": 14,
    "start_time": "2022-06-16T08:27:30.530Z"
   },
   {
    "duration": 48,
    "start_time": "2022-06-16T08:27:30.546Z"
   },
   {
    "duration": 4,
    "start_time": "2022-06-16T08:27:43.693Z"
   },
   {
    "duration": 1156,
    "start_time": "2022-06-16T08:28:02.879Z"
   },
   {
    "duration": 3,
    "start_time": "2022-06-16T08:28:04.037Z"
   },
   {
    "duration": 470,
    "start_time": "2022-06-16T08:28:04.042Z"
   },
   {
    "duration": 15,
    "start_time": "2022-06-16T08:28:04.514Z"
   },
   {
    "duration": 24,
    "start_time": "2022-06-16T08:28:04.532Z"
   },
   {
    "duration": 16,
    "start_time": "2022-06-16T08:28:04.558Z"
   },
   {
    "duration": 13,
    "start_time": "2022-06-16T08:28:04.576Z"
   },
   {
    "duration": 22,
    "start_time": "2022-06-16T08:28:04.591Z"
   },
   {
    "duration": 56,
    "start_time": "2022-06-16T08:28:04.615Z"
   },
   {
    "duration": 36,
    "start_time": "2022-06-16T08:28:04.673Z"
   },
   {
    "duration": 22,
    "start_time": "2022-06-16T08:28:04.711Z"
   },
   {
    "duration": 14,
    "start_time": "2022-06-16T08:28:04.735Z"
   },
   {
    "duration": 76,
    "start_time": "2022-06-16T08:28:04.751Z"
   },
   {
    "duration": 43,
    "start_time": "2022-06-16T08:28:04.831Z"
   },
   {
    "duration": 333,
    "start_time": "2022-06-16T08:28:04.875Z"
   },
   {
    "duration": 228,
    "start_time": "2022-06-16T08:28:05.210Z"
   },
   {
    "duration": 23,
    "start_time": "2022-06-16T08:28:05.439Z"
   },
   {
    "duration": 71,
    "start_time": "2022-06-16T08:28:05.464Z"
   },
   {
    "duration": 32,
    "start_time": "2022-06-16T08:28:05.537Z"
   },
   {
    "duration": 20,
    "start_time": "2022-06-16T08:28:05.571Z"
   },
   {
    "duration": 41,
    "start_time": "2022-06-16T08:28:05.593Z"
   },
   {
    "duration": 254,
    "start_time": "2022-06-16T08:28:05.636Z"
   },
   {
    "duration": 192,
    "start_time": "2022-06-16T08:28:05.892Z"
   },
   {
    "duration": 19,
    "start_time": "2022-06-16T08:28:06.086Z"
   },
   {
    "duration": 49,
    "start_time": "2022-06-16T08:28:06.107Z"
   },
   {
    "duration": 15,
    "start_time": "2022-06-16T08:28:06.158Z"
   },
   {
    "duration": 47,
    "start_time": "2022-06-16T08:28:06.175Z"
   },
   {
    "duration": 316,
    "start_time": "2022-06-16T08:28:06.223Z"
   },
   {
    "duration": 8,
    "start_time": "2022-06-16T08:28:06.542Z"
   },
   {
    "duration": 43,
    "start_time": "2022-06-16T08:28:06.552Z"
   },
   {
    "duration": 33,
    "start_time": "2022-06-16T08:28:06.597Z"
   },
   {
    "duration": 12,
    "start_time": "2022-06-16T08:28:06.632Z"
   },
   {
    "duration": 13,
    "start_time": "2022-06-16T08:28:06.646Z"
   },
   {
    "duration": 9,
    "start_time": "2022-06-16T08:28:06.661Z"
   },
   {
    "duration": 37,
    "start_time": "2022-06-16T08:28:06.672Z"
   },
   {
    "duration": 20,
    "start_time": "2022-06-16T08:28:06.712Z"
   },
   {
    "duration": 10,
    "start_time": "2022-06-16T08:28:06.734Z"
   },
   {
    "duration": 35,
    "start_time": "2022-06-16T08:28:06.746Z"
   },
   {
    "duration": 12,
    "start_time": "2022-06-16T08:28:06.784Z"
   },
   {
    "duration": 30,
    "start_time": "2022-06-16T08:28:06.798Z"
   },
   {
    "duration": 26,
    "start_time": "2022-06-16T08:28:06.832Z"
   },
   {
    "duration": 7,
    "start_time": "2022-06-16T08:28:06.863Z"
   },
   {
    "duration": 17,
    "start_time": "2022-06-16T08:28:06.871Z"
   },
   {
    "duration": 14,
    "start_time": "2022-06-16T08:28:06.890Z"
   },
   {
    "duration": 29,
    "start_time": "2022-06-16T08:28:06.906Z"
   },
   {
    "duration": 14,
    "start_time": "2022-06-16T08:28:06.937Z"
   },
   {
    "duration": 24,
    "start_time": "2022-06-16T08:28:06.953Z"
   },
   {
    "duration": 18,
    "start_time": "2022-06-16T08:28:06.979Z"
   },
   {
    "duration": 33,
    "start_time": "2022-06-16T08:28:06.999Z"
   },
   {
    "duration": 5,
    "start_time": "2022-06-16T08:28:07.034Z"
   },
   {
    "duration": 10,
    "start_time": "2022-06-16T08:28:07.040Z"
   },
   {
    "duration": 11,
    "start_time": "2022-06-16T08:28:07.052Z"
   },
   {
    "duration": 3,
    "start_time": "2022-06-16T08:28:07.064Z"
   },
   {
    "duration": 26,
    "start_time": "2022-06-16T08:28:07.069Z"
   },
   {
    "duration": 130,
    "start_time": "2022-06-16T08:28:07.097Z"
   },
   {
    "duration": 4,
    "start_time": "2022-06-16T08:28:07.229Z"
   },
   {
    "duration": 21,
    "start_time": "2022-06-16T08:28:07.235Z"
   },
   {
    "duration": 11,
    "start_time": "2022-06-16T08:28:07.258Z"
   },
   {
    "duration": 21,
    "start_time": "2022-06-16T08:28:07.272Z"
   },
   {
    "duration": 11,
    "start_time": "2022-06-16T08:28:07.295Z"
   },
   {
    "duration": 28,
    "start_time": "2022-06-16T08:28:07.308Z"
   },
   {
    "duration": 9,
    "start_time": "2022-06-16T08:28:07.338Z"
   },
   {
    "duration": 371,
    "start_time": "2022-06-16T08:28:07.348Z"
   },
   {
    "duration": 136,
    "start_time": "2022-06-16T08:28:07.721Z"
   },
   {
    "duration": 329,
    "start_time": "2022-06-16T08:28:07.859Z"
   },
   {
    "duration": 15,
    "start_time": "2022-06-16T08:28:08.190Z"
   },
   {
    "duration": 340,
    "start_time": "2022-06-16T08:28:08.207Z"
   },
   {
    "duration": 10,
    "start_time": "2022-06-16T08:28:08.549Z"
   },
   {
    "duration": 15,
    "start_time": "2022-06-16T08:28:08.561Z"
   },
   {
    "duration": 11,
    "start_time": "2022-06-16T08:28:08.579Z"
   },
   {
    "duration": 45,
    "start_time": "2022-06-16T08:28:08.593Z"
   },
   {
    "duration": 307,
    "start_time": "2022-06-16T08:28:08.641Z"
   },
   {
    "duration": 12,
    "start_time": "2022-06-16T08:28:08.950Z"
   },
   {
    "duration": 21,
    "start_time": "2022-06-16T08:28:08.964Z"
   },
   {
    "duration": 363,
    "start_time": "2022-06-16T08:28:08.986Z"
   },
   {
    "duration": 14,
    "start_time": "2022-06-16T08:28:09.351Z"
   },
   {
    "duration": 15,
    "start_time": "2022-06-16T08:28:09.366Z"
   },
   {
    "duration": 1194,
    "start_time": "2022-06-16T08:28:37.237Z"
   },
   {
    "duration": 5,
    "start_time": "2022-06-16T08:28:38.433Z"
   },
   {
    "duration": 440,
    "start_time": "2022-06-16T08:28:38.440Z"
   },
   {
    "duration": 11,
    "start_time": "2022-06-16T08:28:38.882Z"
   },
   {
    "duration": 11,
    "start_time": "2022-06-16T08:28:38.895Z"
   },
   {
    "duration": 15,
    "start_time": "2022-06-16T08:28:38.908Z"
   },
   {
    "duration": 10,
    "start_time": "2022-06-16T08:28:38.925Z"
   },
   {
    "duration": 15,
    "start_time": "2022-06-16T08:28:38.937Z"
   },
   {
    "duration": 37,
    "start_time": "2022-06-16T08:28:38.954Z"
   },
   {
    "duration": 21,
    "start_time": "2022-06-16T08:28:38.994Z"
   },
   {
    "duration": 11,
    "start_time": "2022-06-16T08:28:39.027Z"
   },
   {
    "duration": 7,
    "start_time": "2022-06-16T08:28:39.040Z"
   },
   {
    "duration": 60,
    "start_time": "2022-06-16T08:28:39.049Z"
   },
   {
    "duration": 47,
    "start_time": "2022-06-16T08:28:39.111Z"
   },
   {
    "duration": 364,
    "start_time": "2022-06-16T08:28:39.160Z"
   },
   {
    "duration": 182,
    "start_time": "2022-06-16T08:28:39.526Z"
   },
   {
    "duration": 27,
    "start_time": "2022-06-16T08:28:39.710Z"
   },
   {
    "duration": 54,
    "start_time": "2022-06-16T08:28:39.739Z"
   },
   {
    "duration": 45,
    "start_time": "2022-06-16T08:28:39.795Z"
   },
   {
    "duration": 19,
    "start_time": "2022-06-16T08:28:39.842Z"
   },
   {
    "duration": 21,
    "start_time": "2022-06-16T08:28:39.863Z"
   },
   {
    "duration": 271,
    "start_time": "2022-06-16T08:28:39.886Z"
   },
   {
    "duration": 186,
    "start_time": "2022-06-16T08:28:40.158Z"
   },
   {
    "duration": 19,
    "start_time": "2022-06-16T08:28:40.346Z"
   },
   {
    "duration": 46,
    "start_time": "2022-06-16T08:28:40.366Z"
   },
   {
    "duration": 24,
    "start_time": "2022-06-16T08:28:40.414Z"
   },
   {
    "duration": 27,
    "start_time": "2022-06-16T08:28:40.440Z"
   },
   {
    "duration": 225,
    "start_time": "2022-06-16T08:28:40.472Z"
   },
   {
    "duration": 6,
    "start_time": "2022-06-16T08:28:40.699Z"
   },
   {
    "duration": 31,
    "start_time": "2022-06-16T08:28:40.707Z"
   },
   {
    "duration": 33,
    "start_time": "2022-06-16T08:28:40.740Z"
   },
   {
    "duration": 26,
    "start_time": "2022-06-16T08:28:40.775Z"
   },
   {
    "duration": 37,
    "start_time": "2022-06-16T08:28:40.802Z"
   },
   {
    "duration": 22,
    "start_time": "2022-06-16T08:28:40.841Z"
   },
   {
    "duration": 49,
    "start_time": "2022-06-16T08:28:40.865Z"
   },
   {
    "duration": 7,
    "start_time": "2022-06-16T08:28:40.916Z"
   },
   {
    "duration": 16,
    "start_time": "2022-06-16T08:28:40.924Z"
   },
   {
    "duration": 49,
    "start_time": "2022-06-16T08:28:40.942Z"
   },
   {
    "duration": 9,
    "start_time": "2022-06-16T08:28:40.993Z"
   },
   {
    "duration": 25,
    "start_time": "2022-06-16T08:28:41.005Z"
   },
   {
    "duration": 38,
    "start_time": "2022-06-16T08:28:41.032Z"
   },
   {
    "duration": 12,
    "start_time": "2022-06-16T08:28:41.072Z"
   },
   {
    "duration": 25,
    "start_time": "2022-06-16T08:28:41.086Z"
   },
   {
    "duration": 26,
    "start_time": "2022-06-16T08:28:41.113Z"
   },
   {
    "duration": 11,
    "start_time": "2022-06-16T08:28:41.141Z"
   },
   {
    "duration": 26,
    "start_time": "2022-06-16T08:28:41.154Z"
   },
   {
    "duration": 36,
    "start_time": "2022-06-16T08:28:41.181Z"
   },
   {
    "duration": 22,
    "start_time": "2022-06-16T08:28:41.219Z"
   },
   {
    "duration": 13,
    "start_time": "2022-06-16T08:28:41.244Z"
   },
   {
    "duration": 22,
    "start_time": "2022-06-16T08:28:41.259Z"
   },
   {
    "duration": 33,
    "start_time": "2022-06-16T08:28:41.283Z"
   },
   {
    "duration": 31,
    "start_time": "2022-06-16T08:28:41.318Z"
   },
   {
    "duration": 18,
    "start_time": "2022-06-16T08:28:41.351Z"
   },
   {
    "duration": 43,
    "start_time": "2022-06-16T08:28:41.371Z"
   },
   {
    "duration": 142,
    "start_time": "2022-06-16T08:28:41.415Z"
   },
   {
    "duration": 5,
    "start_time": "2022-06-16T08:28:41.559Z"
   },
   {
    "duration": 42,
    "start_time": "2022-06-16T08:28:41.565Z"
   },
   {
    "duration": 24,
    "start_time": "2022-06-16T08:28:41.609Z"
   },
   {
    "duration": 20,
    "start_time": "2022-06-16T08:28:41.635Z"
   },
   {
    "duration": 21,
    "start_time": "2022-06-16T08:28:41.657Z"
   },
   {
    "duration": 33,
    "start_time": "2022-06-16T08:28:41.680Z"
   },
   {
    "duration": 349,
    "start_time": "2022-06-16T08:28:41.715Z"
   },
   {
    "duration": 148,
    "start_time": "2022-06-16T08:28:42.066Z"
   },
   {
    "duration": 366,
    "start_time": "2022-06-16T08:28:42.216Z"
   },
   {
    "duration": 13,
    "start_time": "2022-06-16T08:28:42.584Z"
   },
   {
    "duration": 345,
    "start_time": "2022-06-16T08:28:42.599Z"
   },
   {
    "duration": 11,
    "start_time": "2022-06-16T08:28:42.946Z"
   },
   {
    "duration": 33,
    "start_time": "2022-06-16T08:28:42.959Z"
   },
   {
    "duration": 33,
    "start_time": "2022-06-16T08:28:42.993Z"
   },
   {
    "duration": 28,
    "start_time": "2022-06-16T08:28:43.028Z"
   },
   {
    "duration": 301,
    "start_time": "2022-06-16T08:28:43.058Z"
   },
   {
    "duration": 11,
    "start_time": "2022-06-16T08:28:43.361Z"
   },
   {
    "duration": 32,
    "start_time": "2022-06-16T08:28:43.374Z"
   },
   {
    "duration": 286,
    "start_time": "2022-06-16T08:28:43.407Z"
   },
   {
    "duration": 15,
    "start_time": "2022-06-16T08:28:43.695Z"
   },
   {
    "duration": 26,
    "start_time": "2022-06-16T08:28:43.711Z"
   },
   {
    "duration": 7,
    "start_time": "2022-06-16T08:29:42.117Z"
   },
   {
    "duration": 4,
    "start_time": "2022-06-16T08:30:12.787Z"
   },
   {
    "duration": 7,
    "start_time": "2022-06-16T08:30:20.937Z"
   },
   {
    "duration": 6,
    "start_time": "2022-06-16T08:32:13.149Z"
   },
   {
    "duration": 19,
    "start_time": "2022-06-16T08:32:56.631Z"
   },
   {
    "duration": 4,
    "start_time": "2022-06-16T08:38:30.653Z"
   },
   {
    "duration": 13,
    "start_time": "2022-06-16T08:43:36.355Z"
   },
   {
    "duration": 18,
    "start_time": "2022-06-16T08:44:57.680Z"
   },
   {
    "duration": 1055,
    "start_time": "2022-06-16T08:48:25.075Z"
   },
   {
    "duration": 3,
    "start_time": "2022-06-16T08:48:26.138Z"
   },
   {
    "duration": 563,
    "start_time": "2022-06-16T08:48:26.143Z"
   },
   {
    "duration": 11,
    "start_time": "2022-06-16T08:48:26.708Z"
   },
   {
    "duration": 37,
    "start_time": "2022-06-16T08:48:26.721Z"
   },
   {
    "duration": 28,
    "start_time": "2022-06-16T08:48:26.760Z"
   },
   {
    "duration": 25,
    "start_time": "2022-06-16T08:48:26.789Z"
   },
   {
    "duration": 54,
    "start_time": "2022-06-16T08:48:26.816Z"
   },
   {
    "duration": 39,
    "start_time": "2022-06-16T08:48:26.872Z"
   },
   {
    "duration": 30,
    "start_time": "2022-06-16T08:48:26.914Z"
   },
   {
    "duration": 29,
    "start_time": "2022-06-16T08:48:26.946Z"
   },
   {
    "duration": 13,
    "start_time": "2022-06-16T08:48:26.977Z"
   },
   {
    "duration": 84,
    "start_time": "2022-06-16T08:48:26.992Z"
   },
   {
    "duration": 36,
    "start_time": "2022-06-16T08:48:27.078Z"
   },
   {
    "duration": 333,
    "start_time": "2022-06-16T08:48:27.116Z"
   },
   {
    "duration": 187,
    "start_time": "2022-06-16T08:48:27.450Z"
   },
   {
    "duration": 22,
    "start_time": "2022-06-16T08:48:27.644Z"
   },
   {
    "duration": 47,
    "start_time": "2022-06-16T08:48:27.667Z"
   },
   {
    "duration": 38,
    "start_time": "2022-06-16T08:48:27.716Z"
   },
   {
    "duration": 19,
    "start_time": "2022-06-16T08:48:27.756Z"
   },
   {
    "duration": 21,
    "start_time": "2022-06-16T08:48:27.776Z"
   },
   {
    "duration": 272,
    "start_time": "2022-06-16T08:48:27.798Z"
   },
   {
    "duration": 205,
    "start_time": "2022-06-16T08:48:28.072Z"
   },
   {
    "duration": 19,
    "start_time": "2022-06-16T08:48:28.278Z"
   },
   {
    "duration": 59,
    "start_time": "2022-06-16T08:48:28.299Z"
   },
   {
    "duration": 17,
    "start_time": "2022-06-16T08:48:28.361Z"
   },
   {
    "duration": 17,
    "start_time": "2022-06-16T08:48:28.380Z"
   },
   {
    "duration": 262,
    "start_time": "2022-06-16T08:48:28.401Z"
   },
   {
    "duration": 6,
    "start_time": "2022-06-16T08:48:28.665Z"
   },
   {
    "duration": 28,
    "start_time": "2022-06-16T08:48:28.673Z"
   },
   {
    "duration": 14,
    "start_time": "2022-06-16T08:48:28.703Z"
   },
   {
    "duration": 31,
    "start_time": "2022-06-16T08:48:28.719Z"
   },
   {
    "duration": 13,
    "start_time": "2022-06-16T08:48:28.752Z"
   },
   {
    "duration": 15,
    "start_time": "2022-06-16T08:48:28.766Z"
   },
   {
    "duration": 40,
    "start_time": "2022-06-16T08:48:28.783Z"
   },
   {
    "duration": 10,
    "start_time": "2022-06-16T08:48:28.824Z"
   },
   {
    "duration": 26,
    "start_time": "2022-06-16T08:48:28.835Z"
   },
   {
    "duration": 25,
    "start_time": "2022-06-16T08:48:28.862Z"
   },
   {
    "duration": 7,
    "start_time": "2022-06-16T08:48:28.889Z"
   },
   {
    "duration": 9,
    "start_time": "2022-06-16T08:48:28.898Z"
   },
   {
    "duration": 32,
    "start_time": "2022-06-16T08:48:28.908Z"
   },
   {
    "duration": 7,
    "start_time": "2022-06-16T08:48:28.942Z"
   },
   {
    "duration": 15,
    "start_time": "2022-06-16T08:48:28.951Z"
   },
   {
    "duration": 12,
    "start_time": "2022-06-16T08:48:28.967Z"
   },
   {
    "duration": 7,
    "start_time": "2022-06-16T08:48:28.981Z"
   },
   {
    "duration": 11,
    "start_time": "2022-06-16T08:48:28.990Z"
   },
   {
    "duration": 42,
    "start_time": "2022-06-16T08:48:29.002Z"
   },
   {
    "duration": 19,
    "start_time": "2022-06-16T08:48:29.045Z"
   },
   {
    "duration": 8,
    "start_time": "2022-06-16T08:48:29.065Z"
   },
   {
    "duration": 6,
    "start_time": "2022-06-16T08:48:29.075Z"
   },
   {
    "duration": 15,
    "start_time": "2022-06-16T08:48:29.082Z"
   },
   {
    "duration": 40,
    "start_time": "2022-06-16T08:48:29.099Z"
   },
   {
    "duration": 4,
    "start_time": "2022-06-16T08:48:29.142Z"
   },
   {
    "duration": 15,
    "start_time": "2022-06-16T08:48:29.148Z"
   },
   {
    "duration": 123,
    "start_time": "2022-06-16T08:48:29.165Z"
   },
   {
    "duration": 4,
    "start_time": "2022-06-16T08:48:29.289Z"
   },
   {
    "duration": 20,
    "start_time": "2022-06-16T08:48:29.295Z"
   },
   {
    "duration": 17,
    "start_time": "2022-06-16T08:48:29.316Z"
   },
   {
    "duration": 26,
    "start_time": "2022-06-16T08:48:29.335Z"
   },
   {
    "duration": 6,
    "start_time": "2022-06-16T08:48:29.362Z"
   },
   {
    "duration": 6,
    "start_time": "2022-06-16T08:48:29.370Z"
   },
   {
    "duration": 6,
    "start_time": "2022-06-16T08:48:29.377Z"
   },
   {
    "duration": 324,
    "start_time": "2022-06-16T08:48:29.385Z"
   },
   {
    "duration": 120,
    "start_time": "2022-06-16T08:48:29.712Z"
   },
   {
    "duration": 326,
    "start_time": "2022-06-16T08:48:29.834Z"
   },
   {
    "duration": 10,
    "start_time": "2022-06-16T08:48:30.162Z"
   },
   {
    "duration": 335,
    "start_time": "2022-06-16T08:48:30.174Z"
   },
   {
    "duration": 24,
    "start_time": "2022-06-16T08:48:30.511Z"
   },
   {
    "duration": 20,
    "start_time": "2022-06-16T08:48:30.543Z"
   },
   {
    "duration": 23,
    "start_time": "2022-06-16T08:48:30.566Z"
   },
   {
    "duration": 57,
    "start_time": "2022-06-16T08:48:30.591Z"
   },
   {
    "duration": 335,
    "start_time": "2022-06-16T08:48:30.650Z"
   },
   {
    "duration": 10,
    "start_time": "2022-06-16T08:48:30.987Z"
   },
   {
    "duration": 31,
    "start_time": "2022-06-16T08:48:30.999Z"
   },
   {
    "duration": 286,
    "start_time": "2022-06-16T08:48:31.031Z"
   },
   {
    "duration": 17,
    "start_time": "2022-06-16T08:48:31.329Z"
   },
   {
    "duration": 62,
    "start_time": "2022-06-16T08:48:31.348Z"
   },
   {
    "duration": 1132,
    "start_time": "2022-06-16T08:49:21.369Z"
   },
   {
    "duration": 3,
    "start_time": "2022-06-16T08:49:22.503Z"
   },
   {
    "duration": 465,
    "start_time": "2022-06-16T08:49:22.507Z"
   },
   {
    "duration": 12,
    "start_time": "2022-06-16T08:49:22.974Z"
   },
   {
    "duration": 16,
    "start_time": "2022-06-16T08:49:22.987Z"
   },
   {
    "duration": 39,
    "start_time": "2022-06-16T08:49:23.004Z"
   },
   {
    "duration": 33,
    "start_time": "2022-06-16T08:49:23.045Z"
   },
   {
    "duration": 20,
    "start_time": "2022-06-16T08:49:23.080Z"
   },
   {
    "duration": 61,
    "start_time": "2022-06-16T08:49:23.101Z"
   },
   {
    "duration": 21,
    "start_time": "2022-06-16T08:49:23.164Z"
   },
   {
    "duration": 18,
    "start_time": "2022-06-16T08:49:23.186Z"
   },
   {
    "duration": 27,
    "start_time": "2022-06-16T08:49:23.206Z"
   },
   {
    "duration": 97,
    "start_time": "2022-06-16T08:49:23.240Z"
   },
   {
    "duration": 61,
    "start_time": "2022-06-16T08:49:23.339Z"
   },
   {
    "duration": 270,
    "start_time": "2022-06-16T08:49:23.402Z"
   },
   {
    "duration": 195,
    "start_time": "2022-06-16T08:49:23.674Z"
   },
   {
    "duration": 25,
    "start_time": "2022-06-16T08:49:23.871Z"
   },
   {
    "duration": 68,
    "start_time": "2022-06-16T08:49:23.898Z"
   },
   {
    "duration": 35,
    "start_time": "2022-06-16T08:49:23.968Z"
   },
   {
    "duration": 27,
    "start_time": "2022-06-16T08:49:24.005Z"
   },
   {
    "duration": 31,
    "start_time": "2022-06-16T08:49:24.039Z"
   },
   {
    "duration": 249,
    "start_time": "2022-06-16T08:49:24.072Z"
   },
   {
    "duration": 193,
    "start_time": "2022-06-16T08:49:24.323Z"
   },
   {
    "duration": 32,
    "start_time": "2022-06-16T08:49:24.517Z"
   },
   {
    "duration": 46,
    "start_time": "2022-06-16T08:49:24.551Z"
   },
   {
    "duration": 26,
    "start_time": "2022-06-16T08:49:24.599Z"
   },
   {
    "duration": 46,
    "start_time": "2022-06-16T08:49:24.626Z"
   },
   {
    "duration": 232,
    "start_time": "2022-06-16T08:49:24.676Z"
   },
   {
    "duration": 5,
    "start_time": "2022-06-16T08:49:24.910Z"
   },
   {
    "duration": 43,
    "start_time": "2022-06-16T08:49:24.917Z"
   },
   {
    "duration": 34,
    "start_time": "2022-06-16T08:49:24.961Z"
   },
   {
    "duration": 29,
    "start_time": "2022-06-16T08:49:24.997Z"
   },
   {
    "duration": 45,
    "start_time": "2022-06-16T08:49:25.028Z"
   },
   {
    "duration": 28,
    "start_time": "2022-06-16T08:49:25.075Z"
   },
   {
    "duration": 41,
    "start_time": "2022-06-16T08:49:25.104Z"
   },
   {
    "duration": 7,
    "start_time": "2022-06-16T08:49:25.147Z"
   },
   {
    "duration": 10,
    "start_time": "2022-06-16T08:49:25.155Z"
   },
   {
    "duration": 25,
    "start_time": "2022-06-16T08:49:25.166Z"
   },
   {
    "duration": 7,
    "start_time": "2022-06-16T08:49:25.193Z"
   },
   {
    "duration": 30,
    "start_time": "2022-06-16T08:49:25.202Z"
   },
   {
    "duration": 41,
    "start_time": "2022-06-16T08:49:25.234Z"
   },
   {
    "duration": 7,
    "start_time": "2022-06-16T08:49:25.277Z"
   },
   {
    "duration": 20,
    "start_time": "2022-06-16T08:49:25.285Z"
   },
   {
    "duration": 15,
    "start_time": "2022-06-16T08:49:25.307Z"
   },
   {
    "duration": 13,
    "start_time": "2022-06-16T08:49:25.330Z"
   },
   {
    "duration": 18,
    "start_time": "2022-06-16T08:49:25.344Z"
   },
   {
    "duration": 23,
    "start_time": "2022-06-16T08:49:25.363Z"
   },
   {
    "duration": 19,
    "start_time": "2022-06-16T08:49:25.387Z"
   },
   {
    "duration": 30,
    "start_time": "2022-06-16T08:49:25.408Z"
   },
   {
    "duration": 7,
    "start_time": "2022-06-16T08:49:25.440Z"
   },
   {
    "duration": 18,
    "start_time": "2022-06-16T08:49:25.449Z"
   },
   {
    "duration": 15,
    "start_time": "2022-06-16T08:49:25.469Z"
   },
   {
    "duration": 4,
    "start_time": "2022-06-16T08:49:25.486Z"
   },
   {
    "duration": 24,
    "start_time": "2022-06-16T08:49:25.491Z"
   },
   {
    "duration": 130,
    "start_time": "2022-06-16T08:49:25.516Z"
   },
   {
    "duration": 4,
    "start_time": "2022-06-16T08:49:25.648Z"
   },
   {
    "duration": 21,
    "start_time": "2022-06-16T08:49:25.654Z"
   },
   {
    "duration": 4,
    "start_time": "2022-06-16T08:49:25.677Z"
   },
   {
    "duration": 20,
    "start_time": "2022-06-16T08:49:25.682Z"
   },
   {
    "duration": 26,
    "start_time": "2022-06-16T08:49:25.704Z"
   },
   {
    "duration": 5,
    "start_time": "2022-06-16T08:49:25.732Z"
   },
   {
    "duration": 8,
    "start_time": "2022-06-16T08:49:25.744Z"
   },
   {
    "duration": 322,
    "start_time": "2022-06-16T08:49:25.754Z"
   },
   {
    "duration": 146,
    "start_time": "2022-06-16T08:49:26.078Z"
   },
   {
    "duration": 376,
    "start_time": "2022-06-16T08:49:26.234Z"
   },
   {
    "duration": 22,
    "start_time": "2022-06-16T08:49:26.612Z"
   },
   {
    "duration": 326,
    "start_time": "2022-06-16T08:49:26.635Z"
   },
   {
    "duration": 11,
    "start_time": "2022-06-16T08:49:26.963Z"
   },
   {
    "duration": 16,
    "start_time": "2022-06-16T08:49:26.975Z"
   },
   {
    "duration": 38,
    "start_time": "2022-06-16T08:49:26.992Z"
   },
   {
    "duration": 21,
    "start_time": "2022-06-16T08:49:27.035Z"
   },
   {
    "duration": 287,
    "start_time": "2022-06-16T08:49:27.058Z"
   },
   {
    "duration": 11,
    "start_time": "2022-06-16T08:49:27.347Z"
   },
   {
    "duration": 14,
    "start_time": "2022-06-16T08:49:27.359Z"
   },
   {
    "duration": 340,
    "start_time": "2022-06-16T08:49:27.374Z"
   },
   {
    "duration": 30,
    "start_time": "2022-06-16T08:49:27.716Z"
   },
   {
    "duration": 19,
    "start_time": "2022-06-16T08:49:27.747Z"
   },
   {
    "duration": 5,
    "start_time": "2022-06-16T08:50:06.525Z"
   },
   {
    "duration": 1060,
    "start_time": "2022-06-16T08:50:11.373Z"
   },
   {
    "duration": 5,
    "start_time": "2022-06-16T08:50:12.437Z"
   },
   {
    "duration": 447,
    "start_time": "2022-06-16T08:50:12.444Z"
   },
   {
    "duration": 11,
    "start_time": "2022-06-16T08:50:12.893Z"
   },
   {
    "duration": 29,
    "start_time": "2022-06-16T08:50:12.906Z"
   },
   {
    "duration": 15,
    "start_time": "2022-06-16T08:50:12.940Z"
   },
   {
    "duration": 10,
    "start_time": "2022-06-16T08:50:12.957Z"
   },
   {
    "duration": 17,
    "start_time": "2022-06-16T08:50:12.968Z"
   },
   {
    "duration": 55,
    "start_time": "2022-06-16T08:50:12.986Z"
   },
   {
    "duration": 21,
    "start_time": "2022-06-16T08:50:13.044Z"
   },
   {
    "duration": 8,
    "start_time": "2022-06-16T08:50:13.066Z"
   },
   {
    "duration": 6,
    "start_time": "2022-06-16T08:50:13.076Z"
   },
   {
    "duration": 85,
    "start_time": "2022-06-16T08:50:13.084Z"
   },
   {
    "duration": 36,
    "start_time": "2022-06-16T08:50:13.171Z"
   },
   {
    "duration": 301,
    "start_time": "2022-06-16T08:50:13.208Z"
   },
   {
    "duration": 205,
    "start_time": "2022-06-16T08:50:13.511Z"
   },
   {
    "duration": 42,
    "start_time": "2022-06-16T08:50:13.718Z"
   },
   {
    "duration": 61,
    "start_time": "2022-06-16T08:50:13.765Z"
   },
   {
    "duration": 59,
    "start_time": "2022-06-16T08:50:13.828Z"
   },
   {
    "duration": 27,
    "start_time": "2022-06-16T08:50:13.889Z"
   },
   {
    "duration": 43,
    "start_time": "2022-06-16T08:50:13.926Z"
   },
   {
    "duration": 337,
    "start_time": "2022-06-16T08:50:13.971Z"
   },
   {
    "duration": 214,
    "start_time": "2022-06-16T08:50:14.311Z"
   },
   {
    "duration": 27,
    "start_time": "2022-06-16T08:50:14.527Z"
   },
   {
    "duration": 38,
    "start_time": "2022-06-16T08:50:14.555Z"
   },
   {
    "duration": 33,
    "start_time": "2022-06-16T08:50:14.595Z"
   },
   {
    "duration": 23,
    "start_time": "2022-06-16T08:50:14.631Z"
   },
   {
    "duration": 274,
    "start_time": "2022-06-16T08:50:14.660Z"
   },
   {
    "duration": 6,
    "start_time": "2022-06-16T08:50:14.938Z"
   },
   {
    "duration": 19,
    "start_time": "2022-06-16T08:50:14.946Z"
   },
   {
    "duration": 14,
    "start_time": "2022-06-16T08:50:14.966Z"
   },
   {
    "duration": 10,
    "start_time": "2022-06-16T08:50:14.981Z"
   },
   {
    "duration": 14,
    "start_time": "2022-06-16T08:50:14.992Z"
   },
   {
    "duration": 17,
    "start_time": "2022-06-16T08:50:15.008Z"
   },
   {
    "duration": 78,
    "start_time": "2022-06-16T08:50:15.027Z"
   },
   {
    "duration": 8,
    "start_time": "2022-06-16T08:50:15.107Z"
   },
   {
    "duration": 26,
    "start_time": "2022-06-16T08:50:15.117Z"
   },
   {
    "duration": 25,
    "start_time": "2022-06-16T08:50:15.145Z"
   },
   {
    "duration": 7,
    "start_time": "2022-06-16T08:50:15.172Z"
   },
   {
    "duration": 19,
    "start_time": "2022-06-16T08:50:15.181Z"
   },
   {
    "duration": 36,
    "start_time": "2022-06-16T08:50:15.202Z"
   },
   {
    "duration": 8,
    "start_time": "2022-06-16T08:50:15.242Z"
   },
   {
    "duration": 18,
    "start_time": "2022-06-16T08:50:15.251Z"
   },
   {
    "duration": 21,
    "start_time": "2022-06-16T08:50:15.271Z"
   },
   {
    "duration": 8,
    "start_time": "2022-06-16T08:50:15.294Z"
   },
   {
    "duration": 29,
    "start_time": "2022-06-16T08:50:15.304Z"
   },
   {
    "duration": 33,
    "start_time": "2022-06-16T08:50:15.341Z"
   },
   {
    "duration": 24,
    "start_time": "2022-06-16T08:50:15.376Z"
   },
   {
    "duration": 9,
    "start_time": "2022-06-16T08:50:15.401Z"
   },
   {
    "duration": 22,
    "start_time": "2022-06-16T08:50:15.412Z"
   },
   {
    "duration": 37,
    "start_time": "2022-06-16T08:50:15.435Z"
   },
   {
    "duration": 10,
    "start_time": "2022-06-16T08:50:15.473Z"
   },
   {
    "duration": 4,
    "start_time": "2022-06-16T08:50:15.485Z"
   },
   {
    "duration": 16,
    "start_time": "2022-06-16T08:50:15.491Z"
   },
   {
    "duration": 133,
    "start_time": "2022-06-16T08:50:15.509Z"
   },
   {
    "duration": 4,
    "start_time": "2022-06-16T08:50:15.644Z"
   },
   {
    "duration": 20,
    "start_time": "2022-06-16T08:50:15.649Z"
   },
   {
    "duration": 4,
    "start_time": "2022-06-16T08:50:15.671Z"
   },
   {
    "duration": 15,
    "start_time": "2022-06-16T08:50:15.676Z"
   },
   {
    "duration": 5,
    "start_time": "2022-06-16T08:50:15.692Z"
   },
   {
    "duration": 7,
    "start_time": "2022-06-16T08:50:15.698Z"
   },
   {
    "duration": 5,
    "start_time": "2022-06-16T08:50:15.727Z"
   },
   {
    "duration": 314,
    "start_time": "2022-06-16T08:50:15.742Z"
   },
   {
    "duration": 122,
    "start_time": "2022-06-16T08:50:16.058Z"
   },
   {
    "duration": 388,
    "start_time": "2022-06-16T08:50:16.181Z"
   },
   {
    "duration": 16,
    "start_time": "2022-06-16T08:50:16.571Z"
   },
   {
    "duration": 356,
    "start_time": "2022-06-16T08:50:16.589Z"
   },
   {
    "duration": 9,
    "start_time": "2022-06-16T08:50:16.947Z"
   },
   {
    "duration": 15,
    "start_time": "2022-06-16T08:50:16.958Z"
   },
   {
    "duration": 12,
    "start_time": "2022-06-16T08:50:16.974Z"
   },
   {
    "duration": 22,
    "start_time": "2022-06-16T08:50:16.987Z"
   },
   {
    "duration": 304,
    "start_time": "2022-06-16T08:50:17.030Z"
   },
   {
    "duration": 15,
    "start_time": "2022-06-16T08:50:17.335Z"
   },
   {
    "duration": 16,
    "start_time": "2022-06-16T08:50:17.352Z"
   },
   {
    "duration": 286,
    "start_time": "2022-06-16T08:50:17.369Z"
   },
   {
    "duration": 14,
    "start_time": "2022-06-16T08:50:17.656Z"
   },
   {
    "duration": 22,
    "start_time": "2022-06-16T08:50:17.672Z"
   },
   {
    "duration": 1136,
    "start_time": "2022-06-16T08:51:03.451Z"
   },
   {
    "duration": 3,
    "start_time": "2022-06-16T08:51:04.590Z"
   },
   {
    "duration": 491,
    "start_time": "2022-06-16T08:51:04.594Z"
   },
   {
    "duration": 11,
    "start_time": "2022-06-16T08:51:05.088Z"
   },
   {
    "duration": 7,
    "start_time": "2022-06-16T08:51:05.101Z"
   },
   {
    "duration": 9,
    "start_time": "2022-06-16T08:51:05.110Z"
   },
   {
    "duration": 26,
    "start_time": "2022-06-16T08:51:05.121Z"
   },
   {
    "duration": 11,
    "start_time": "2022-06-16T08:51:05.148Z"
   },
   {
    "duration": 35,
    "start_time": "2022-06-16T08:51:05.161Z"
   },
   {
    "duration": 22,
    "start_time": "2022-06-16T08:51:05.199Z"
   },
   {
    "duration": 23,
    "start_time": "2022-06-16T08:51:05.223Z"
   },
   {
    "duration": 10,
    "start_time": "2022-06-16T08:51:05.248Z"
   },
   {
    "duration": 67,
    "start_time": "2022-06-16T08:51:05.259Z"
   },
   {
    "duration": 38,
    "start_time": "2022-06-16T08:51:05.335Z"
   },
   {
    "duration": 278,
    "start_time": "2022-06-16T08:51:05.374Z"
   },
   {
    "duration": 177,
    "start_time": "2022-06-16T08:51:05.654Z"
   },
   {
    "duration": 22,
    "start_time": "2022-06-16T08:51:05.840Z"
   },
   {
    "duration": 45,
    "start_time": "2022-06-16T08:51:05.864Z"
   },
   {
    "duration": 42,
    "start_time": "2022-06-16T08:51:05.910Z"
   },
   {
    "duration": 17,
    "start_time": "2022-06-16T08:51:05.954Z"
   },
   {
    "duration": 19,
    "start_time": "2022-06-16T08:51:05.973Z"
   },
   {
    "duration": 293,
    "start_time": "2022-06-16T08:51:05.994Z"
   },
   {
    "duration": 225,
    "start_time": "2022-06-16T08:51:06.289Z"
   },
   {
    "duration": 31,
    "start_time": "2022-06-16T08:51:06.517Z"
   },
   {
    "duration": 56,
    "start_time": "2022-06-16T08:51:06.551Z"
   },
   {
    "duration": 14,
    "start_time": "2022-06-16T08:51:06.608Z"
   },
   {
    "duration": 34,
    "start_time": "2022-06-16T08:51:06.624Z"
   },
   {
    "duration": 230,
    "start_time": "2022-06-16T08:51:06.663Z"
   },
   {
    "duration": 6,
    "start_time": "2022-06-16T08:51:06.894Z"
   },
   {
    "duration": 12,
    "start_time": "2022-06-16T08:51:06.902Z"
   },
   {
    "duration": 10,
    "start_time": "2022-06-16T08:51:06.938Z"
   },
   {
    "duration": 6,
    "start_time": "2022-06-16T08:51:06.950Z"
   },
   {
    "duration": 18,
    "start_time": "2022-06-16T08:51:06.958Z"
   },
   {
    "duration": 17,
    "start_time": "2022-06-16T08:51:06.978Z"
   },
   {
    "duration": 48,
    "start_time": "2022-06-16T08:51:06.997Z"
   },
   {
    "duration": 7,
    "start_time": "2022-06-16T08:51:07.047Z"
   },
   {
    "duration": 10,
    "start_time": "2022-06-16T08:51:07.055Z"
   },
   {
    "duration": 23,
    "start_time": "2022-06-16T08:51:07.066Z"
   },
   {
    "duration": 7,
    "start_time": "2022-06-16T08:51:07.090Z"
   },
   {
    "duration": 10,
    "start_time": "2022-06-16T08:51:07.098Z"
   },
   {
    "duration": 31,
    "start_time": "2022-06-16T08:51:07.127Z"
   },
   {
    "duration": 8,
    "start_time": "2022-06-16T08:51:07.159Z"
   },
   {
    "duration": 19,
    "start_time": "2022-06-16T08:51:07.168Z"
   },
   {
    "duration": 13,
    "start_time": "2022-06-16T08:51:07.188Z"
   },
   {
    "duration": 31,
    "start_time": "2022-06-16T08:51:07.202Z"
   },
   {
    "duration": 20,
    "start_time": "2022-06-16T08:51:07.239Z"
   },
   {
    "duration": 19,
    "start_time": "2022-06-16T08:51:07.260Z"
   },
   {
    "duration": 18,
    "start_time": "2022-06-16T08:51:07.280Z"
   },
   {
    "duration": 8,
    "start_time": "2022-06-16T08:51:07.307Z"
   },
   {
    "duration": 19,
    "start_time": "2022-06-16T08:51:07.316Z"
   },
   {
    "duration": 15,
    "start_time": "2022-06-16T08:51:07.337Z"
   },
   {
    "duration": 10,
    "start_time": "2022-06-16T08:51:07.354Z"
   },
   {
    "duration": 3,
    "start_time": "2022-06-16T08:51:07.366Z"
   },
   {
    "duration": 19,
    "start_time": "2022-06-16T08:51:07.371Z"
   },
   {
    "duration": 121,
    "start_time": "2022-06-16T08:51:07.391Z"
   },
   {
    "duration": 4,
    "start_time": "2022-06-16T08:51:07.515Z"
   },
   {
    "duration": 35,
    "start_time": "2022-06-16T08:51:07.521Z"
   },
   {
    "duration": 14,
    "start_time": "2022-06-16T08:51:07.558Z"
   },
   {
    "duration": 5,
    "start_time": "2022-06-16T08:51:07.574Z"
   },
   {
    "duration": 8,
    "start_time": "2022-06-16T08:51:07.581Z"
   },
   {
    "duration": 6,
    "start_time": "2022-06-16T08:51:07.590Z"
   },
   {
    "duration": 354,
    "start_time": "2022-06-16T08:51:07.598Z"
   },
   {
    "duration": 121,
    "start_time": "2022-06-16T08:51:07.955Z"
   },
   {
    "duration": 314,
    "start_time": "2022-06-16T08:51:08.078Z"
   },
   {
    "duration": 10,
    "start_time": "2022-06-16T08:51:08.394Z"
   },
   {
    "duration": 340,
    "start_time": "2022-06-16T08:51:08.406Z"
   },
   {
    "duration": 11,
    "start_time": "2022-06-16T08:51:08.747Z"
   },
   {
    "duration": 17,
    "start_time": "2022-06-16T08:51:08.759Z"
   },
   {
    "duration": 11,
    "start_time": "2022-06-16T08:51:08.778Z"
   },
   {
    "duration": 44,
    "start_time": "2022-06-16T08:51:08.791Z"
   },
   {
    "duration": 293,
    "start_time": "2022-06-16T08:51:08.839Z"
   },
   {
    "duration": 11,
    "start_time": "2022-06-16T08:51:09.142Z"
   },
   {
    "duration": 21,
    "start_time": "2022-06-16T08:51:09.154Z"
   },
   {
    "duration": 281,
    "start_time": "2022-06-16T08:51:09.176Z"
   },
   {
    "duration": 14,
    "start_time": "2022-06-16T08:51:09.459Z"
   },
   {
    "duration": 13,
    "start_time": "2022-06-16T08:51:09.474Z"
   },
   {
    "duration": 1075,
    "start_time": "2022-06-16T08:53:59.448Z"
   },
   {
    "duration": 2,
    "start_time": "2022-06-16T08:54:00.525Z"
   },
   {
    "duration": 438,
    "start_time": "2022-06-16T08:54:00.529Z"
   },
   {
    "duration": 14,
    "start_time": "2022-06-16T08:54:00.969Z"
   },
   {
    "duration": 11,
    "start_time": "2022-06-16T08:54:00.984Z"
   },
   {
    "duration": 13,
    "start_time": "2022-06-16T08:54:00.997Z"
   },
   {
    "duration": 16,
    "start_time": "2022-06-16T08:54:01.012Z"
   },
   {
    "duration": 21,
    "start_time": "2022-06-16T08:54:01.029Z"
   },
   {
    "duration": 53,
    "start_time": "2022-06-16T08:54:01.051Z"
   },
   {
    "duration": 24,
    "start_time": "2022-06-16T08:54:01.107Z"
   },
   {
    "duration": 5,
    "start_time": "2022-06-16T08:54:01.132Z"
   },
   {
    "duration": 52,
    "start_time": "2022-06-16T08:54:01.139Z"
   },
   {
    "duration": 86,
    "start_time": "2022-06-16T08:54:01.193Z"
   },
   {
    "duration": 35,
    "start_time": "2022-06-16T08:54:01.281Z"
   },
   {
    "duration": 356,
    "start_time": "2022-06-16T08:54:01.318Z"
   },
   {
    "duration": 231,
    "start_time": "2022-06-16T08:54:01.675Z"
   },
   {
    "duration": 35,
    "start_time": "2022-06-16T08:54:01.908Z"
   },
   {
    "duration": 51,
    "start_time": "2022-06-16T08:54:01.946Z"
   },
   {
    "duration": 58,
    "start_time": "2022-06-16T08:54:01.999Z"
   },
   {
    "duration": 56,
    "start_time": "2022-06-16T08:54:02.060Z"
   },
   {
    "duration": 59,
    "start_time": "2022-06-16T08:54:02.118Z"
   },
   {
    "duration": 242,
    "start_time": "2022-06-16T08:54:02.178Z"
   },
   {
    "duration": 242,
    "start_time": "2022-06-16T08:54:02.421Z"
   },
   {
    "duration": 21,
    "start_time": "2022-06-16T08:54:02.665Z"
   },
   {
    "duration": 54,
    "start_time": "2022-06-16T08:54:02.688Z"
   },
   {
    "duration": 15,
    "start_time": "2022-06-16T08:54:02.744Z"
   },
   {
    "duration": 28,
    "start_time": "2022-06-16T08:54:02.761Z"
   },
   {
    "duration": 255,
    "start_time": "2022-06-16T08:54:02.795Z"
   },
   {
    "duration": 7,
    "start_time": "2022-06-16T08:54:03.052Z"
   },
   {
    "duration": 18,
    "start_time": "2022-06-16T08:54:03.060Z"
   },
   {
    "duration": 15,
    "start_time": "2022-06-16T08:54:03.081Z"
   },
   {
    "duration": 5,
    "start_time": "2022-06-16T08:54:03.098Z"
   },
   {
    "duration": 31,
    "start_time": "2022-06-16T08:54:03.105Z"
   },
   {
    "duration": 21,
    "start_time": "2022-06-16T08:54:03.138Z"
   },
   {
    "duration": 45,
    "start_time": "2022-06-16T08:54:03.161Z"
   },
   {
    "duration": 19,
    "start_time": "2022-06-16T08:54:03.208Z"
   },
   {
    "duration": 9,
    "start_time": "2022-06-16T08:54:03.229Z"
   },
   {
    "duration": 46,
    "start_time": "2022-06-16T08:54:03.240Z"
   },
   {
    "duration": 10,
    "start_time": "2022-06-16T08:54:03.288Z"
   },
   {
    "duration": 14,
    "start_time": "2022-06-16T08:54:03.300Z"
   },
   {
    "duration": 38,
    "start_time": "2022-06-16T08:54:03.316Z"
   },
   {
    "duration": 8,
    "start_time": "2022-06-16T08:54:03.355Z"
   },
   {
    "duration": 15,
    "start_time": "2022-06-16T08:54:03.365Z"
   },
   {
    "duration": 14,
    "start_time": "2022-06-16T08:54:03.382Z"
   },
   {
    "duration": 7,
    "start_time": "2022-06-16T08:54:03.398Z"
   },
   {
    "duration": 11,
    "start_time": "2022-06-16T08:54:03.430Z"
   },
   {
    "duration": 26,
    "start_time": "2022-06-16T08:54:03.443Z"
   },
   {
    "duration": 18,
    "start_time": "2022-06-16T08:54:03.470Z"
   },
   {
    "duration": 10,
    "start_time": "2022-06-16T08:54:03.490Z"
   },
   {
    "duration": 7,
    "start_time": "2022-06-16T08:54:03.528Z"
   },
   {
    "duration": 20,
    "start_time": "2022-06-16T08:54:03.536Z"
   },
   {
    "duration": 15,
    "start_time": "2022-06-16T08:54:03.558Z"
   },
   {
    "duration": 30,
    "start_time": "2022-06-16T08:54:03.574Z"
   },
   {
    "duration": 21,
    "start_time": "2022-06-16T08:54:03.606Z"
   },
   {
    "duration": 127,
    "start_time": "2022-06-16T08:54:03.629Z"
   },
   {
    "duration": 4,
    "start_time": "2022-06-16T08:54:03.757Z"
   },
   {
    "duration": 29,
    "start_time": "2022-06-16T08:54:03.762Z"
   },
   {
    "duration": 21,
    "start_time": "2022-06-16T08:54:03.792Z"
   },
   {
    "duration": 17,
    "start_time": "2022-06-16T08:54:03.815Z"
   },
   {
    "duration": 14,
    "start_time": "2022-06-16T08:54:03.834Z"
   },
   {
    "duration": 41,
    "start_time": "2022-06-16T08:54:03.850Z"
   },
   {
    "duration": 342,
    "start_time": "2022-06-16T08:54:03.893Z"
   },
   {
    "duration": 133,
    "start_time": "2022-06-16T08:54:04.237Z"
   },
   {
    "duration": 299,
    "start_time": "2022-06-16T08:54:04.372Z"
   },
   {
    "duration": 10,
    "start_time": "2022-06-16T08:54:04.673Z"
   },
   {
    "duration": 322,
    "start_time": "2022-06-16T08:54:04.685Z"
   },
   {
    "duration": 22,
    "start_time": "2022-06-16T08:54:05.009Z"
   },
   {
    "duration": 21,
    "start_time": "2022-06-16T08:54:05.033Z"
   },
   {
    "duration": 18,
    "start_time": "2022-06-16T08:54:05.056Z"
   },
   {
    "duration": 13,
    "start_time": "2022-06-16T08:54:05.076Z"
   },
   {
    "duration": 330,
    "start_time": "2022-06-16T08:54:05.090Z"
   },
   {
    "duration": 14,
    "start_time": "2022-06-16T08:54:05.427Z"
   },
   {
    "duration": 25,
    "start_time": "2022-06-16T08:54:05.443Z"
   },
   {
    "duration": 314,
    "start_time": "2022-06-16T08:54:05.470Z"
   },
   {
    "duration": 13,
    "start_time": "2022-06-16T08:54:05.786Z"
   },
   {
    "duration": 23,
    "start_time": "2022-06-16T08:54:05.801Z"
   },
   {
    "duration": 5,
    "start_time": "2022-06-16T08:54:24.013Z"
   },
   {
    "duration": 1126,
    "start_time": "2022-06-16T08:54:53.291Z"
   },
   {
    "duration": 9,
    "start_time": "2022-06-16T08:54:54.420Z"
   },
   {
    "duration": 447,
    "start_time": "2022-06-16T08:54:54.431Z"
   },
   {
    "duration": 11,
    "start_time": "2022-06-16T08:54:54.880Z"
   },
   {
    "duration": 39,
    "start_time": "2022-06-16T08:54:54.894Z"
   },
   {
    "duration": 26,
    "start_time": "2022-06-16T08:54:54.935Z"
   },
   {
    "duration": 36,
    "start_time": "2022-06-16T08:54:54.962Z"
   },
   {
    "duration": 29,
    "start_time": "2022-06-16T08:54:55.000Z"
   },
   {
    "duration": 58,
    "start_time": "2022-06-16T08:54:55.031Z"
   },
   {
    "duration": 25,
    "start_time": "2022-06-16T08:54:55.090Z"
   },
   {
    "duration": 13,
    "start_time": "2022-06-16T08:54:55.117Z"
   },
   {
    "duration": 26,
    "start_time": "2022-06-16T08:54:55.131Z"
   },
   {
    "duration": 82,
    "start_time": "2022-06-16T08:54:55.158Z"
   },
   {
    "duration": 58,
    "start_time": "2022-06-16T08:54:55.243Z"
   },
   {
    "duration": 269,
    "start_time": "2022-06-16T08:54:55.303Z"
   },
   {
    "duration": 230,
    "start_time": "2022-06-16T08:54:55.575Z"
   },
   {
    "duration": 30,
    "start_time": "2022-06-16T08:54:55.807Z"
   },
   {
    "duration": 55,
    "start_time": "2022-06-16T08:54:55.839Z"
   },
   {
    "duration": 44,
    "start_time": "2022-06-16T08:54:55.896Z"
   },
   {
    "duration": 20,
    "start_time": "2022-06-16T08:54:55.942Z"
   },
   {
    "duration": 22,
    "start_time": "2022-06-16T08:54:55.963Z"
   },
   {
    "duration": 332,
    "start_time": "2022-06-16T08:54:55.986Z"
   },
   {
    "duration": 235,
    "start_time": "2022-06-16T08:54:56.320Z"
   },
   {
    "duration": 31,
    "start_time": "2022-06-16T08:54:56.557Z"
   },
   {
    "duration": 50,
    "start_time": "2022-06-16T08:54:56.590Z"
   },
   {
    "duration": 16,
    "start_time": "2022-06-16T08:54:56.642Z"
   },
   {
    "duration": 20,
    "start_time": "2022-06-16T08:54:56.659Z"
   },
   {
    "duration": 256,
    "start_time": "2022-06-16T08:54:56.681Z"
   },
   {
    "duration": 6,
    "start_time": "2022-06-16T08:54:56.938Z"
   },
   {
    "duration": 13,
    "start_time": "2022-06-16T08:54:56.945Z"
   },
   {
    "duration": 9,
    "start_time": "2022-06-16T08:54:56.960Z"
   },
   {
    "duration": 6,
    "start_time": "2022-06-16T08:54:56.970Z"
   },
   {
    "duration": 11,
    "start_time": "2022-06-16T08:54:56.977Z"
   },
   {
    "duration": 10,
    "start_time": "2022-06-16T08:54:56.989Z"
   },
   {
    "duration": 34,
    "start_time": "2022-06-16T08:54:57.027Z"
   },
   {
    "duration": 7,
    "start_time": "2022-06-16T08:54:57.062Z"
   },
   {
    "duration": 10,
    "start_time": "2022-06-16T08:54:57.070Z"
   },
   {
    "duration": 46,
    "start_time": "2022-06-16T08:54:57.081Z"
   },
   {
    "duration": 7,
    "start_time": "2022-06-16T08:54:57.129Z"
   },
   {
    "duration": 12,
    "start_time": "2022-06-16T08:54:57.137Z"
   },
   {
    "duration": 22,
    "start_time": "2022-06-16T08:54:57.154Z"
   },
   {
    "duration": 6,
    "start_time": "2022-06-16T08:54:57.178Z"
   },
   {
    "duration": 41,
    "start_time": "2022-06-16T08:54:57.186Z"
   },
   {
    "duration": 14,
    "start_time": "2022-06-16T08:54:57.229Z"
   },
   {
    "duration": 9,
    "start_time": "2022-06-16T08:54:57.244Z"
   },
   {
    "duration": 17,
    "start_time": "2022-06-16T08:54:57.254Z"
   },
   {
    "duration": 23,
    "start_time": "2022-06-16T08:54:57.273Z"
   },
   {
    "duration": 42,
    "start_time": "2022-06-16T08:54:57.298Z"
   },
   {
    "duration": 7,
    "start_time": "2022-06-16T08:54:57.342Z"
   },
   {
    "duration": 8,
    "start_time": "2022-06-16T08:54:57.350Z"
   },
   {
    "duration": 14,
    "start_time": "2022-06-16T08:54:57.359Z"
   },
   {
    "duration": 13,
    "start_time": "2022-06-16T08:54:57.374Z"
   },
   {
    "duration": 5,
    "start_time": "2022-06-16T08:54:57.388Z"
   },
   {
    "duration": 35,
    "start_time": "2022-06-16T08:54:57.394Z"
   },
   {
    "duration": 126,
    "start_time": "2022-06-16T08:54:57.431Z"
   },
   {
    "duration": 4,
    "start_time": "2022-06-16T08:54:57.558Z"
   },
   {
    "duration": 24,
    "start_time": "2022-06-16T08:54:57.563Z"
   },
   {
    "duration": 14,
    "start_time": "2022-06-16T08:54:57.588Z"
   },
   {
    "duration": 23,
    "start_time": "2022-06-16T08:54:57.604Z"
   },
   {
    "duration": 5,
    "start_time": "2022-06-16T08:54:57.628Z"
   },
   {
    "duration": 7,
    "start_time": "2022-06-16T08:54:57.634Z"
   },
   {
    "duration": 356,
    "start_time": "2022-06-16T08:54:57.642Z"
   },
   {
    "duration": 129,
    "start_time": "2022-06-16T08:54:57.999Z"
   },
   {
    "duration": 299,
    "start_time": "2022-06-16T08:54:58.130Z"
   },
   {
    "duration": 10,
    "start_time": "2022-06-16T08:54:58.430Z"
   },
   {
    "duration": 303,
    "start_time": "2022-06-16T08:54:58.442Z"
   },
   {
    "duration": 12,
    "start_time": "2022-06-16T08:54:58.746Z"
   },
   {
    "duration": 17,
    "start_time": "2022-06-16T08:54:58.759Z"
   },
   {
    "duration": 15,
    "start_time": "2022-06-16T08:54:58.778Z"
   },
   {
    "duration": 33,
    "start_time": "2022-06-16T08:54:58.795Z"
   },
   {
    "duration": 325,
    "start_time": "2022-06-16T08:54:58.830Z"
   },
   {
    "duration": 12,
    "start_time": "2022-06-16T08:54:59.156Z"
   },
   {
    "duration": 25,
    "start_time": "2022-06-16T08:54:59.169Z"
   },
   {
    "duration": 438,
    "start_time": "2022-06-16T08:54:59.228Z"
   },
   {
    "duration": 67,
    "start_time": "2022-06-16T08:54:59.668Z"
   },
   {
    "duration": 21,
    "start_time": "2022-06-16T08:54:59.737Z"
   },
   {
    "duration": 5,
    "start_time": "2022-06-16T08:55:18.089Z"
   },
   {
    "duration": 1307,
    "start_time": "2022-06-16T11:05:40.272Z"
   },
   {
    "duration": 7,
    "start_time": "2022-06-16T11:05:41.588Z"
   },
   {
    "duration": 1225,
    "start_time": "2022-06-16T11:05:41.596Z"
   },
   {
    "duration": 11,
    "start_time": "2022-06-16T11:05:42.822Z"
   },
   {
    "duration": 11,
    "start_time": "2022-06-16T11:05:42.836Z"
   },
   {
    "duration": 8,
    "start_time": "2022-06-16T11:05:42.848Z"
   },
   {
    "duration": 11,
    "start_time": "2022-06-16T11:05:42.857Z"
   },
   {
    "duration": 10,
    "start_time": "2022-06-16T11:05:42.869Z"
   },
   {
    "duration": 56,
    "start_time": "2022-06-16T11:05:42.881Z"
   },
   {
    "duration": 19,
    "start_time": "2022-06-16T11:05:42.938Z"
   },
   {
    "duration": 7,
    "start_time": "2022-06-16T11:05:42.959Z"
   },
   {
    "duration": 8,
    "start_time": "2022-06-16T11:05:42.967Z"
   },
   {
    "duration": 75,
    "start_time": "2022-06-16T11:05:42.977Z"
   },
   {
    "duration": 37,
    "start_time": "2022-06-16T11:05:43.055Z"
   },
   {
    "duration": 246,
    "start_time": "2022-06-16T11:05:43.094Z"
   },
   {
    "duration": 191,
    "start_time": "2022-06-16T11:05:43.343Z"
   },
   {
    "duration": 20,
    "start_time": "2022-06-16T11:05:43.535Z"
   },
   {
    "duration": 54,
    "start_time": "2022-06-16T11:05:43.557Z"
   },
   {
    "duration": 26,
    "start_time": "2022-06-16T11:05:43.612Z"
   },
   {
    "duration": 19,
    "start_time": "2022-06-16T11:05:43.640Z"
   },
   {
    "duration": 31,
    "start_time": "2022-06-16T11:05:43.661Z"
   },
   {
    "duration": 259,
    "start_time": "2022-06-16T11:05:43.693Z"
   },
   {
    "duration": 181,
    "start_time": "2022-06-16T11:05:43.954Z"
   },
   {
    "duration": 17,
    "start_time": "2022-06-16T11:05:44.137Z"
   },
   {
    "duration": 51,
    "start_time": "2022-06-16T11:05:44.155Z"
   },
   {
    "duration": 21,
    "start_time": "2022-06-16T11:05:44.208Z"
   },
   {
    "duration": 22,
    "start_time": "2022-06-16T11:05:44.231Z"
   },
   {
    "duration": 219,
    "start_time": "2022-06-16T11:05:44.254Z"
   },
   {
    "duration": 9,
    "start_time": "2022-06-16T11:05:44.474Z"
   },
   {
    "duration": 46,
    "start_time": "2022-06-16T11:05:44.488Z"
   },
   {
    "duration": 13,
    "start_time": "2022-06-16T11:05:44.536Z"
   },
   {
    "duration": 5,
    "start_time": "2022-06-16T11:05:44.550Z"
   },
   {
    "duration": 15,
    "start_time": "2022-06-16T11:05:44.557Z"
   },
   {
    "duration": 12,
    "start_time": "2022-06-16T11:05:44.574Z"
   },
   {
    "duration": 63,
    "start_time": "2022-06-16T11:05:44.588Z"
   },
   {
    "duration": 6,
    "start_time": "2022-06-16T11:05:44.653Z"
   },
   {
    "duration": 8,
    "start_time": "2022-06-16T11:05:44.661Z"
   },
   {
    "duration": 24,
    "start_time": "2022-06-16T11:05:44.671Z"
   },
   {
    "duration": 19,
    "start_time": "2022-06-16T11:05:44.696Z"
   },
   {
    "duration": 11,
    "start_time": "2022-06-16T11:05:44.716Z"
   },
   {
    "duration": 31,
    "start_time": "2022-06-16T11:05:44.730Z"
   },
   {
    "duration": 7,
    "start_time": "2022-06-16T11:05:44.762Z"
   },
   {
    "duration": 20,
    "start_time": "2022-06-16T11:05:44.771Z"
   },
   {
    "duration": 23,
    "start_time": "2022-06-16T11:05:44.792Z"
   },
   {
    "duration": 6,
    "start_time": "2022-06-16T11:05:44.817Z"
   },
   {
    "duration": 11,
    "start_time": "2022-06-16T11:05:44.824Z"
   },
   {
    "duration": 23,
    "start_time": "2022-06-16T11:05:44.837Z"
   },
   {
    "duration": 37,
    "start_time": "2022-06-16T11:05:44.861Z"
   },
   {
    "duration": 8,
    "start_time": "2022-06-16T11:05:44.900Z"
   },
   {
    "duration": 9,
    "start_time": "2022-06-16T11:05:44.910Z"
   },
   {
    "duration": 10,
    "start_time": "2022-06-16T11:05:44.920Z"
   },
   {
    "duration": 11,
    "start_time": "2022-06-16T11:05:44.931Z"
   },
   {
    "duration": 4,
    "start_time": "2022-06-16T11:05:44.943Z"
   },
   {
    "duration": 42,
    "start_time": "2022-06-16T11:05:44.948Z"
   },
   {
    "duration": 127,
    "start_time": "2022-06-16T11:05:44.993Z"
   },
   {
    "duration": 4,
    "start_time": "2022-06-16T11:05:45.121Z"
   },
   {
    "duration": 21,
    "start_time": "2022-06-16T11:05:45.127Z"
   },
   {
    "duration": 12,
    "start_time": "2022-06-16T11:05:45.149Z"
   },
   {
    "duration": 21,
    "start_time": "2022-06-16T11:05:45.163Z"
   },
   {
    "duration": 14,
    "start_time": "2022-06-16T11:05:45.186Z"
   },
   {
    "duration": 7,
    "start_time": "2022-06-16T11:05:45.202Z"
   },
   {
    "duration": 295,
    "start_time": "2022-06-16T11:05:45.211Z"
   },
   {
    "duration": 119,
    "start_time": "2022-06-16T11:05:45.508Z"
   },
   {
    "duration": 300,
    "start_time": "2022-06-16T11:05:45.629Z"
   },
   {
    "duration": 9,
    "start_time": "2022-06-16T11:05:45.930Z"
   },
   {
    "duration": 291,
    "start_time": "2022-06-16T11:05:45.940Z"
   },
   {
    "duration": 8,
    "start_time": "2022-06-16T11:05:46.233Z"
   },
   {
    "duration": 14,
    "start_time": "2022-06-16T11:05:46.242Z"
   },
   {
    "duration": 23,
    "start_time": "2022-06-16T11:05:46.257Z"
   },
   {
    "duration": 16,
    "start_time": "2022-06-16T11:05:46.281Z"
   },
   {
    "duration": 305,
    "start_time": "2022-06-16T11:05:46.298Z"
   },
   {
    "duration": 11,
    "start_time": "2022-06-16T11:05:46.604Z"
   },
   {
    "duration": 20,
    "start_time": "2022-06-16T11:05:46.617Z"
   },
   {
    "duration": 314,
    "start_time": "2022-06-16T11:05:46.638Z"
   },
   {
    "duration": 12,
    "start_time": "2022-06-16T11:05:46.953Z"
   },
   {
    "duration": 27,
    "start_time": "2022-06-16T11:05:46.977Z"
   },
   {
    "duration": 1376,
    "start_time": "2022-06-20T04:14:56.670Z"
   },
   {
    "duration": 4,
    "start_time": "2022-06-20T04:14:58.048Z"
   },
   {
    "duration": 1232,
    "start_time": "2022-06-20T04:14:58.054Z"
   },
   {
    "duration": 13,
    "start_time": "2022-06-20T04:14:59.288Z"
   },
   {
    "duration": 18,
    "start_time": "2022-06-20T04:14:59.302Z"
   },
   {
    "duration": 35,
    "start_time": "2022-06-20T04:14:59.321Z"
   },
   {
    "duration": 23,
    "start_time": "2022-06-20T04:14:59.358Z"
   },
   {
    "duration": 18,
    "start_time": "2022-06-20T04:14:59.383Z"
   },
   {
    "duration": 51,
    "start_time": "2022-06-20T04:14:59.402Z"
   },
   {
    "duration": 23,
    "start_time": "2022-06-20T04:14:59.456Z"
   },
   {
    "duration": 30,
    "start_time": "2022-06-20T04:14:59.480Z"
   },
   {
    "duration": 29,
    "start_time": "2022-06-20T04:14:59.511Z"
   },
   {
    "duration": 74,
    "start_time": "2022-06-20T04:14:59.542Z"
   },
   {
    "duration": 40,
    "start_time": "2022-06-20T04:14:59.618Z"
   },
   {
    "duration": 296,
    "start_time": "2022-06-20T04:14:59.660Z"
   },
   {
    "duration": 201,
    "start_time": "2022-06-20T04:14:59.958Z"
   },
   {
    "duration": 27,
    "start_time": "2022-06-20T04:15:00.161Z"
   },
   {
    "duration": 62,
    "start_time": "2022-06-20T04:15:00.190Z"
   },
   {
    "duration": 39,
    "start_time": "2022-06-20T04:15:00.254Z"
   },
   {
    "duration": 35,
    "start_time": "2022-06-20T04:15:00.295Z"
   },
   {
    "duration": 41,
    "start_time": "2022-06-20T04:15:00.332Z"
   },
   {
    "duration": 278,
    "start_time": "2022-06-20T04:15:00.375Z"
   },
   {
    "duration": 205,
    "start_time": "2022-06-20T04:15:00.655Z"
   },
   {
    "duration": 21,
    "start_time": "2022-06-20T04:15:00.861Z"
   },
   {
    "duration": 62,
    "start_time": "2022-06-20T04:15:00.883Z"
   },
   {
    "duration": 36,
    "start_time": "2022-06-20T04:15:00.946Z"
   },
   {
    "duration": 24,
    "start_time": "2022-06-20T04:15:00.984Z"
   },
   {
    "duration": 265,
    "start_time": "2022-06-20T04:15:01.012Z"
   },
   {
    "duration": 8,
    "start_time": "2022-06-20T04:15:01.278Z"
   },
   {
    "duration": 53,
    "start_time": "2022-06-20T04:15:01.288Z"
   },
   {
    "duration": 38,
    "start_time": "2022-06-20T04:15:01.343Z"
   },
   {
    "duration": 12,
    "start_time": "2022-06-20T04:15:01.383Z"
   },
   {
    "duration": 34,
    "start_time": "2022-06-20T04:15:01.397Z"
   },
   {
    "duration": 14,
    "start_time": "2022-06-20T04:15:01.434Z"
   },
   {
    "duration": 90,
    "start_time": "2022-06-20T04:15:01.450Z"
   },
   {
    "duration": 9,
    "start_time": "2022-06-20T04:15:01.542Z"
   },
   {
    "duration": 29,
    "start_time": "2022-06-20T04:15:01.553Z"
   },
   {
    "duration": 56,
    "start_time": "2022-06-20T04:15:01.583Z"
   },
   {
    "duration": 29,
    "start_time": "2022-06-20T04:15:01.641Z"
   },
   {
    "duration": 23,
    "start_time": "2022-06-20T04:15:01.672Z"
   },
   {
    "duration": 44,
    "start_time": "2022-06-20T04:15:01.697Z"
   },
   {
    "duration": 27,
    "start_time": "2022-06-20T04:15:01.744Z"
   },
   {
    "duration": 65,
    "start_time": "2022-06-20T04:15:01.773Z"
   },
   {
    "duration": 36,
    "start_time": "2022-06-20T04:15:01.843Z"
   },
   {
    "duration": 43,
    "start_time": "2022-06-20T04:15:01.882Z"
   },
   {
    "duration": 42,
    "start_time": "2022-06-20T04:15:01.926Z"
   },
   {
    "duration": 48,
    "start_time": "2022-06-20T04:15:01.970Z"
   },
   {
    "duration": 49,
    "start_time": "2022-06-20T04:15:02.020Z"
   },
   {
    "duration": 30,
    "start_time": "2022-06-20T04:15:02.071Z"
   },
   {
    "duration": 11,
    "start_time": "2022-06-20T04:15:02.102Z"
   },
   {
    "duration": 32,
    "start_time": "2022-06-20T04:15:02.115Z"
   },
   {
    "duration": 47,
    "start_time": "2022-06-20T04:15:02.149Z"
   },
   {
    "duration": 70,
    "start_time": "2022-06-20T04:15:02.197Z"
   },
   {
    "duration": 43,
    "start_time": "2022-06-20T04:15:02.269Z"
   },
   {
    "duration": 144,
    "start_time": "2022-06-20T04:15:02.314Z"
   },
   {
    "duration": 4,
    "start_time": "2022-06-20T04:15:02.462Z"
   },
   {
    "duration": 26,
    "start_time": "2022-06-20T04:15:02.467Z"
   },
   {
    "duration": 15,
    "start_time": "2022-06-20T04:15:02.494Z"
   },
   {
    "duration": 32,
    "start_time": "2022-06-20T04:15:02.510Z"
   },
   {
    "duration": 9,
    "start_time": "2022-06-20T04:15:02.544Z"
   },
   {
    "duration": 7,
    "start_time": "2022-06-20T04:15:02.555Z"
   },
   {
    "duration": 331,
    "start_time": "2022-06-20T04:15:02.564Z"
   },
   {
    "duration": 158,
    "start_time": "2022-06-20T04:15:02.897Z"
   },
   {
    "duration": 349,
    "start_time": "2022-06-20T04:15:03.057Z"
   },
   {
    "duration": 33,
    "start_time": "2022-06-20T04:15:03.408Z"
   },
   {
    "duration": 339,
    "start_time": "2022-06-20T04:15:03.444Z"
   },
   {
    "duration": 12,
    "start_time": "2022-06-20T04:15:03.785Z"
   },
   {
    "duration": 39,
    "start_time": "2022-06-20T04:15:03.799Z"
   },
   {
    "duration": 13,
    "start_time": "2022-06-20T04:15:03.842Z"
   },
   {
    "duration": 15,
    "start_time": "2022-06-20T04:15:03.856Z"
   },
   {
    "duration": 378,
    "start_time": "2022-06-20T04:15:03.873Z"
   },
   {
    "duration": 15,
    "start_time": "2022-06-20T04:15:04.253Z"
   },
   {
    "duration": 24,
    "start_time": "2022-06-20T04:15:04.270Z"
   },
   {
    "duration": 359,
    "start_time": "2022-06-20T04:15:04.296Z"
   },
   {
    "duration": 20,
    "start_time": "2022-06-20T04:15:04.657Z"
   },
   {
    "duration": 26,
    "start_time": "2022-06-20T04:15:04.679Z"
   },
   {
    "duration": 1225,
    "start_time": "2022-06-20T10:58:36.326Z"
   },
   {
    "duration": 3,
    "start_time": "2022-06-20T10:58:37.553Z"
   },
   {
    "duration": 1103,
    "start_time": "2022-06-20T10:58:37.557Z"
   },
   {
    "duration": 10,
    "start_time": "2022-06-20T10:58:38.661Z"
   },
   {
    "duration": 8,
    "start_time": "2022-06-20T10:58:38.673Z"
   },
   {
    "duration": 9,
    "start_time": "2022-06-20T10:58:38.683Z"
   },
   {
    "duration": 9,
    "start_time": "2022-06-20T10:58:38.693Z"
   },
   {
    "duration": 10,
    "start_time": "2022-06-20T10:58:38.704Z"
   },
   {
    "duration": 29,
    "start_time": "2022-06-20T10:58:38.715Z"
   },
   {
    "duration": 19,
    "start_time": "2022-06-20T10:58:38.747Z"
   },
   {
    "duration": 5,
    "start_time": "2022-06-20T10:58:38.767Z"
   },
   {
    "duration": 3,
    "start_time": "2022-06-20T10:58:38.773Z"
   },
   {
    "duration": 54,
    "start_time": "2022-06-20T10:58:38.792Z"
   },
   {
    "duration": 47,
    "start_time": "2022-06-20T10:58:38.848Z"
   },
   {
    "duration": 243,
    "start_time": "2022-06-20T10:58:38.897Z"
   },
   {
    "duration": 156,
    "start_time": "2022-06-20T10:58:39.141Z"
   },
   {
    "duration": 20,
    "start_time": "2022-06-20T10:58:39.299Z"
   },
   {
    "duration": 41,
    "start_time": "2022-06-20T10:58:39.320Z"
   },
   {
    "duration": 45,
    "start_time": "2022-06-20T10:58:39.363Z"
   },
   {
    "duration": 17,
    "start_time": "2022-06-20T10:58:39.409Z"
   },
   {
    "duration": 16,
    "start_time": "2022-06-20T10:58:39.427Z"
   },
   {
    "duration": 238,
    "start_time": "2022-06-20T10:58:39.444Z"
   },
   {
    "duration": 162,
    "start_time": "2022-06-20T10:58:39.683Z"
   },
   {
    "duration": 16,
    "start_time": "2022-06-20T10:58:39.846Z"
   },
   {
    "duration": 44,
    "start_time": "2022-06-20T10:58:39.863Z"
   },
   {
    "duration": 12,
    "start_time": "2022-06-20T10:58:39.909Z"
   },
   {
    "duration": 16,
    "start_time": "2022-06-20T10:58:39.922Z"
   },
   {
    "duration": 203,
    "start_time": "2022-06-20T10:58:39.942Z"
   },
   {
    "duration": 6,
    "start_time": "2022-06-20T10:58:40.146Z"
   },
   {
    "duration": 13,
    "start_time": "2022-06-20T10:58:40.153Z"
   },
   {
    "duration": 25,
    "start_time": "2022-06-20T10:58:40.167Z"
   },
   {
    "duration": 3,
    "start_time": "2022-06-20T10:58:40.193Z"
   },
   {
    "duration": 14,
    "start_time": "2022-06-20T10:58:40.198Z"
   },
   {
    "duration": 10,
    "start_time": "2022-06-20T10:58:40.215Z"
   },
   {
    "duration": 35,
    "start_time": "2022-06-20T10:58:40.227Z"
   },
   {
    "duration": 6,
    "start_time": "2022-06-20T10:58:40.264Z"
   },
   {
    "duration": 23,
    "start_time": "2022-06-20T10:58:40.272Z"
   },
   {
    "duration": 23,
    "start_time": "2022-06-20T10:58:40.297Z"
   },
   {
    "duration": 6,
    "start_time": "2022-06-20T10:58:40.321Z"
   },
   {
    "duration": 9,
    "start_time": "2022-06-20T10:58:40.329Z"
   },
   {
    "duration": 21,
    "start_time": "2022-06-20T10:58:40.339Z"
   },
   {
    "duration": 6,
    "start_time": "2022-06-20T10:58:40.362Z"
   },
   {
    "duration": 14,
    "start_time": "2022-06-20T10:58:40.392Z"
   },
   {
    "duration": 13,
    "start_time": "2022-06-20T10:58:40.407Z"
   },
   {
    "duration": 7,
    "start_time": "2022-06-20T10:58:40.421Z"
   },
   {
    "duration": 11,
    "start_time": "2022-06-20T10:58:40.430Z"
   },
   {
    "duration": 22,
    "start_time": "2022-06-20T10:58:40.443Z"
   },
   {
    "duration": 18,
    "start_time": "2022-06-20T10:58:40.491Z"
   },
   {
    "duration": 7,
    "start_time": "2022-06-20T10:58:40.511Z"
   },
   {
    "duration": 5,
    "start_time": "2022-06-20T10:58:40.520Z"
   },
   {
    "duration": 8,
    "start_time": "2022-06-20T10:58:40.526Z"
   },
   {
    "duration": 10,
    "start_time": "2022-06-20T10:58:40.535Z"
   },
   {
    "duration": 4,
    "start_time": "2022-06-20T10:58:40.546Z"
   },
   {
    "duration": 49,
    "start_time": "2022-06-20T10:58:40.551Z"
   },
   {
    "duration": 108,
    "start_time": "2022-06-20T10:58:40.602Z"
   },
   {
    "duration": 4,
    "start_time": "2022-06-20T10:58:40.711Z"
   },
   {
    "duration": 19,
    "start_time": "2022-06-20T10:58:40.717Z"
   },
   {
    "duration": 13,
    "start_time": "2022-06-20T10:58:40.737Z"
   },
   {
    "duration": 5,
    "start_time": "2022-06-20T10:58:40.751Z"
   },
   {
    "duration": 9,
    "start_time": "2022-06-20T10:58:40.757Z"
   },
   {
    "duration": 23,
    "start_time": "2022-06-20T10:58:40.768Z"
   },
   {
    "duration": 286,
    "start_time": "2022-06-20T10:58:40.793Z"
   },
   {
    "duration": 114,
    "start_time": "2022-06-20T10:58:41.081Z"
   },
   {
    "duration": 271,
    "start_time": "2022-06-20T10:58:41.196Z"
   },
   {
    "duration": 9,
    "start_time": "2022-06-20T10:58:41.469Z"
   },
   {
    "duration": 290,
    "start_time": "2022-06-20T10:58:41.481Z"
   },
   {
    "duration": 19,
    "start_time": "2022-06-20T10:58:41.773Z"
   },
   {
    "duration": 15,
    "start_time": "2022-06-20T10:58:41.793Z"
   },
   {
    "duration": 10,
    "start_time": "2022-06-20T10:58:41.809Z"
   },
   {
    "duration": 10,
    "start_time": "2022-06-20T10:58:41.820Z"
   },
   {
    "duration": 347,
    "start_time": "2022-06-20T10:58:41.831Z"
   },
   {
    "duration": 17,
    "start_time": "2022-06-20T10:58:42.180Z"
   },
   {
    "duration": 15,
    "start_time": "2022-06-20T10:58:42.198Z"
   },
   {
    "duration": 242,
    "start_time": "2022-06-20T10:58:42.214Z"
   },
   {
    "duration": 11,
    "start_time": "2022-06-20T10:58:42.457Z"
   },
   {
    "duration": 25,
    "start_time": "2022-06-20T10:58:42.469Z"
   },
   {
    "duration": 4,
    "start_time": "2022-06-20T10:59:02.601Z"
   },
   {
    "duration": 1078,
    "start_time": "2022-06-20T13:06:37.586Z"
   },
   {
    "duration": 3,
    "start_time": "2022-06-20T13:06:38.666Z"
   },
   {
    "duration": 397,
    "start_time": "2022-06-20T13:06:38.670Z"
   },
   {
    "duration": 12,
    "start_time": "2022-06-20T13:06:39.068Z"
   },
   {
    "duration": 7,
    "start_time": "2022-06-20T13:06:39.083Z"
   },
   {
    "duration": 8,
    "start_time": "2022-06-20T13:06:39.092Z"
   },
   {
    "duration": 10,
    "start_time": "2022-06-20T13:06:39.102Z"
   },
   {
    "duration": 10,
    "start_time": "2022-06-20T13:06:39.114Z"
   },
   {
    "duration": 32,
    "start_time": "2022-06-20T13:06:39.125Z"
   },
   {
    "duration": 38,
    "start_time": "2022-06-20T13:06:39.158Z"
   },
   {
    "duration": 7,
    "start_time": "2022-06-20T13:06:39.198Z"
   },
   {
    "duration": 3,
    "start_time": "2022-06-20T13:06:39.206Z"
   },
   {
    "duration": 56,
    "start_time": "2022-06-20T13:06:39.211Z"
   },
   {
    "duration": 45,
    "start_time": "2022-06-20T13:06:39.270Z"
   },
   {
    "duration": 243,
    "start_time": "2022-06-20T13:06:39.316Z"
   },
   {
    "duration": 160,
    "start_time": "2022-06-20T13:06:39.560Z"
   },
   {
    "duration": 19,
    "start_time": "2022-06-20T13:06:39.722Z"
   },
   {
    "duration": 51,
    "start_time": "2022-06-20T13:06:39.742Z"
   },
   {
    "duration": 25,
    "start_time": "2022-06-20T13:06:39.795Z"
   },
   {
    "duration": 16,
    "start_time": "2022-06-20T13:06:39.821Z"
   },
   {
    "duration": 20,
    "start_time": "2022-06-20T13:06:39.838Z"
   },
   {
    "duration": 226,
    "start_time": "2022-06-20T13:06:39.859Z"
   },
   {
    "duration": 167,
    "start_time": "2022-06-20T13:06:40.090Z"
   },
   {
    "duration": 17,
    "start_time": "2022-06-20T13:06:40.259Z"
   },
   {
    "duration": 40,
    "start_time": "2022-06-20T13:06:40.278Z"
   },
   {
    "duration": 12,
    "start_time": "2022-06-20T13:06:40.319Z"
   },
   {
    "duration": 13,
    "start_time": "2022-06-20T13:06:40.333Z"
   },
   {
    "duration": 204,
    "start_time": "2022-06-20T13:06:40.347Z"
   },
   {
    "duration": 5,
    "start_time": "2022-06-20T13:06:40.553Z"
   },
   {
    "duration": 14,
    "start_time": "2022-06-20T13:06:40.560Z"
   },
   {
    "duration": 18,
    "start_time": "2022-06-20T13:06:40.575Z"
   },
   {
    "duration": 8,
    "start_time": "2022-06-20T13:06:40.594Z"
   },
   {
    "duration": 12,
    "start_time": "2022-06-20T13:06:40.603Z"
   },
   {
    "duration": 10,
    "start_time": "2022-06-20T13:06:40.617Z"
   },
   {
    "duration": 33,
    "start_time": "2022-06-20T13:06:40.628Z"
   },
   {
    "duration": 6,
    "start_time": "2022-06-20T13:06:40.663Z"
   },
   {
    "duration": 26,
    "start_time": "2022-06-20T13:06:40.671Z"
   },
   {
    "duration": 22,
    "start_time": "2022-06-20T13:06:40.698Z"
   },
   {
    "duration": 6,
    "start_time": "2022-06-20T13:06:40.722Z"
   },
   {
    "duration": 12,
    "start_time": "2022-06-20T13:06:40.729Z"
   },
   {
    "duration": 26,
    "start_time": "2022-06-20T13:06:40.744Z"
   },
   {
    "duration": 19,
    "start_time": "2022-06-20T13:06:40.772Z"
   },
   {
    "duration": 16,
    "start_time": "2022-06-20T13:06:40.792Z"
   },
   {
    "duration": 28,
    "start_time": "2022-06-20T13:06:40.809Z"
   },
   {
    "duration": 7,
    "start_time": "2022-06-20T13:06:40.839Z"
   },
   {
    "duration": 15,
    "start_time": "2022-06-20T13:06:40.847Z"
   },
   {
    "duration": 19,
    "start_time": "2022-06-20T13:06:40.863Z"
   },
   {
    "duration": 21,
    "start_time": "2022-06-20T13:06:40.884Z"
   },
   {
    "duration": 7,
    "start_time": "2022-06-20T13:06:40.906Z"
   },
   {
    "duration": 9,
    "start_time": "2022-06-20T13:06:40.914Z"
   },
   {
    "duration": 10,
    "start_time": "2022-06-20T13:06:40.924Z"
   },
   {
    "duration": 10,
    "start_time": "2022-06-20T13:06:40.935Z"
   },
   {
    "duration": 3,
    "start_time": "2022-06-20T13:06:40.947Z"
   },
   {
    "duration": 41,
    "start_time": "2022-06-20T13:06:40.951Z"
   },
   {
    "duration": 102,
    "start_time": "2022-06-20T13:06:40.994Z"
   },
   {
    "duration": 3,
    "start_time": "2022-06-20T13:06:41.098Z"
   },
   {
    "duration": 19,
    "start_time": "2022-06-20T13:06:41.102Z"
   },
   {
    "duration": 13,
    "start_time": "2022-06-20T13:06:41.122Z"
   },
   {
    "duration": 7,
    "start_time": "2022-06-20T13:06:41.136Z"
   },
   {
    "duration": 8,
    "start_time": "2022-06-20T13:06:41.144Z"
   },
   {
    "duration": 6,
    "start_time": "2022-06-20T13:06:41.153Z"
   },
   {
    "duration": 289,
    "start_time": "2022-06-20T13:06:41.160Z"
   },
   {
    "duration": 107,
    "start_time": "2022-06-20T13:06:41.451Z"
   },
   {
    "duration": 261,
    "start_time": "2022-06-20T13:06:41.560Z"
   },
   {
    "duration": 9,
    "start_time": "2022-06-20T13:06:41.823Z"
   },
   {
    "duration": 278,
    "start_time": "2022-06-20T13:06:41.834Z"
   },
   {
    "duration": 9,
    "start_time": "2022-06-20T13:06:42.114Z"
   },
   {
    "duration": 16,
    "start_time": "2022-06-20T13:06:42.124Z"
   },
   {
    "duration": 15,
    "start_time": "2022-06-20T13:06:42.141Z"
   },
   {
    "duration": 12,
    "start_time": "2022-06-20T13:06:42.158Z"
   },
   {
    "duration": 278,
    "start_time": "2022-06-20T13:06:42.171Z"
   },
   {
    "duration": 10,
    "start_time": "2022-06-20T13:06:42.451Z"
   },
   {
    "duration": 30,
    "start_time": "2022-06-20T13:06:42.462Z"
   },
   {
    "duration": 254,
    "start_time": "2022-06-20T13:06:42.493Z"
   },
   {
    "duration": 11,
    "start_time": "2022-06-20T13:06:42.749Z"
   },
   {
    "duration": 14,
    "start_time": "2022-06-20T13:06:42.761Z"
   },
   {
    "duration": 68,
    "start_time": "2022-07-26T05:20:45.411Z"
   },
   {
    "duration": 9,
    "start_time": "2022-07-26T05:20:48.780Z"
   },
   {
    "duration": 7,
    "start_time": "2022-07-26T05:20:50.674Z"
   },
   {
    "duration": 1143,
    "start_time": "2022-07-26T05:20:54.685Z"
   },
   {
    "duration": 6,
    "start_time": "2022-07-26T05:20:55.830Z"
   },
   {
    "duration": 1090,
    "start_time": "2022-07-26T05:20:55.838Z"
   },
   {
    "duration": 16,
    "start_time": "2022-07-26T05:20:56.931Z"
   },
   {
    "duration": 16,
    "start_time": "2022-07-26T05:20:56.949Z"
   },
   {
    "duration": 26,
    "start_time": "2022-07-26T05:20:56.967Z"
   },
   {
    "duration": 14,
    "start_time": "2022-07-26T05:20:56.995Z"
   },
   {
    "duration": 26,
    "start_time": "2022-07-26T05:20:57.011Z"
   },
   {
    "duration": 35,
    "start_time": "2022-07-26T05:20:57.038Z"
   },
   {
    "duration": 23,
    "start_time": "2022-07-26T05:20:57.076Z"
   },
   {
    "duration": 7,
    "start_time": "2022-07-26T05:20:57.100Z"
   },
   {
    "duration": 29,
    "start_time": "2022-07-26T05:20:57.108Z"
   },
   {
    "duration": 103,
    "start_time": "2022-07-26T05:20:57.139Z"
   },
   {
    "duration": 37,
    "start_time": "2022-07-26T05:20:57.244Z"
   },
   {
    "duration": 317,
    "start_time": "2022-07-26T05:20:57.283Z"
   },
   {
    "duration": 203,
    "start_time": "2022-07-26T05:20:57.601Z"
   },
   {
    "duration": 34,
    "start_time": "2022-07-26T05:20:57.806Z"
   },
   {
    "duration": 47,
    "start_time": "2022-07-26T05:20:57.842Z"
   },
   {
    "duration": 46,
    "start_time": "2022-07-26T05:20:57.891Z"
   },
   {
    "duration": 19,
    "start_time": "2022-07-26T05:20:57.939Z"
   },
   {
    "duration": 25,
    "start_time": "2022-07-26T05:20:57.961Z"
   },
   {
    "duration": 326,
    "start_time": "2022-07-26T05:20:57.987Z"
   },
   {
    "duration": 213,
    "start_time": "2022-07-26T05:20:58.315Z"
   },
   {
    "duration": 34,
    "start_time": "2022-07-26T05:20:58.530Z"
   },
   {
    "duration": 45,
    "start_time": "2022-07-26T05:20:58.566Z"
   },
   {
    "duration": 48,
    "start_time": "2022-07-26T05:20:58.613Z"
   },
   {
    "duration": 19,
    "start_time": "2022-07-26T05:20:58.663Z"
   },
   {
    "duration": 363,
    "start_time": "2022-07-26T05:20:58.687Z"
   },
   {
    "duration": 12,
    "start_time": "2022-07-26T05:20:59.052Z"
   },
   {
    "duration": 27,
    "start_time": "2022-07-26T05:20:59.066Z"
   },
   {
    "duration": 20,
    "start_time": "2022-07-26T05:20:59.095Z"
   },
   {
    "duration": 26,
    "start_time": "2022-07-26T05:20:59.117Z"
   },
   {
    "duration": 29,
    "start_time": "2022-07-26T05:20:59.147Z"
   },
   {
    "duration": 29,
    "start_time": "2022-07-26T05:20:59.177Z"
   },
   {
    "duration": 51,
    "start_time": "2022-07-26T05:20:59.208Z"
   },
   {
    "duration": 8,
    "start_time": "2022-07-26T05:20:59.261Z"
   },
   {
    "duration": 14,
    "start_time": "2022-07-26T05:20:59.271Z"
   },
   {
    "duration": 35,
    "start_time": "2022-07-26T05:20:59.287Z"
   },
   {
    "duration": 14,
    "start_time": "2022-07-26T05:20:59.324Z"
   },
   {
    "duration": 24,
    "start_time": "2022-07-26T05:20:59.340Z"
   },
   {
    "duration": 30,
    "start_time": "2022-07-26T05:20:59.366Z"
   },
   {
    "duration": 9,
    "start_time": "2022-07-26T05:20:59.399Z"
   },
   {
    "duration": 28,
    "start_time": "2022-07-26T05:20:59.410Z"
   },
   {
    "duration": 20,
    "start_time": "2022-07-26T05:20:59.440Z"
   },
   {
    "duration": 13,
    "start_time": "2022-07-26T05:20:59.461Z"
   },
   {
    "duration": 25,
    "start_time": "2022-07-26T05:20:59.476Z"
   },
   {
    "duration": 46,
    "start_time": "2022-07-26T05:20:59.503Z"
   },
   {
    "duration": 28,
    "start_time": "2022-07-26T05:20:59.551Z"
   },
   {
    "duration": 11,
    "start_time": "2022-07-26T05:20:59.581Z"
   },
   {
    "duration": 10,
    "start_time": "2022-07-26T05:20:59.594Z"
   },
   {
    "duration": 41,
    "start_time": "2022-07-26T05:20:59.606Z"
   },
   {
    "duration": 13,
    "start_time": "2022-07-26T05:20:59.650Z"
   },
   {
    "duration": 5,
    "start_time": "2022-07-26T05:20:59.664Z"
   },
   {
    "duration": 28,
    "start_time": "2022-07-26T05:20:59.671Z"
   },
   {
    "duration": 219,
    "start_time": "2022-07-26T05:20:59.701Z"
   },
   {
    "duration": 4,
    "start_time": "2022-07-26T05:20:59.922Z"
   },
   {
    "duration": 30,
    "start_time": "2022-07-26T05:20:59.928Z"
   },
   {
    "duration": 18,
    "start_time": "2022-07-26T05:20:59.959Z"
   },
   {
    "duration": 6,
    "start_time": "2022-07-26T05:20:59.979Z"
   },
   {
    "duration": 6,
    "start_time": "2022-07-26T05:20:59.987Z"
   },
   {
    "duration": 5,
    "start_time": "2022-07-26T05:20:59.995Z"
   },
   {
    "duration": 388,
    "start_time": "2022-07-26T05:21:00.002Z"
   },
   {
    "duration": 136,
    "start_time": "2022-07-26T05:21:00.392Z"
   },
   {
    "duration": 328,
    "start_time": "2022-07-26T05:21:00.530Z"
   },
   {
    "duration": 13,
    "start_time": "2022-07-26T05:21:00.860Z"
   },
   {
    "duration": 355,
    "start_time": "2022-07-26T05:21:00.875Z"
   },
   {
    "duration": 13,
    "start_time": "2022-07-26T05:21:01.231Z"
   },
   {
    "duration": 27,
    "start_time": "2022-07-26T05:21:01.246Z"
   },
   {
    "duration": 26,
    "start_time": "2022-07-26T05:21:01.276Z"
   },
   {
    "duration": 33,
    "start_time": "2022-07-26T05:21:01.304Z"
   },
   {
    "duration": 309,
    "start_time": "2022-07-26T05:21:01.339Z"
   },
   {
    "duration": 13,
    "start_time": "2022-07-26T05:21:01.650Z"
   },
   {
    "duration": 35,
    "start_time": "2022-07-26T05:21:01.665Z"
   },
   {
    "duration": 309,
    "start_time": "2022-07-26T05:21:01.702Z"
   },
   {
    "duration": 31,
    "start_time": "2022-07-26T05:21:02.014Z"
   },
   {
    "duration": 18,
    "start_time": "2022-07-26T05:21:02.048Z"
   }
  ],
  "kernelspec": {
   "display_name": "Python 3 (ipykernel)",
   "language": "python",
   "name": "python3"
  },
  "language_info": {
   "codemirror_mode": {
    "name": "ipython",
    "version": 3
   },
   "file_extension": ".py",
   "mimetype": "text/x-python",
   "name": "python",
   "nbconvert_exporter": "python",
   "pygments_lexer": "ipython3",
   "version": "3.9.7"
  },
  "toc": {
   "base_numbering": 1,
   "nav_menu": {},
   "number_sections": true,
   "sideBar": true,
   "skip_h1_title": true,
   "title_cell": "Содержание",
   "title_sidebar": "Contents",
   "toc_cell": true,
   "toc_position": {},
   "toc_section_display": true,
   "toc_window_display": false
  }
 },
 "nbformat": 4,
 "nbformat_minor": 2
}
