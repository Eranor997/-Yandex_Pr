{
 "cells": [
  {
   "cell_type": "markdown",
   "id": "a9e64647",
   "metadata": {},
   "source": [
    "# Исследование надежности заемщиков."
   ]
  },
  {
   "cell_type": "markdown",
   "id": "b68c842e",
   "metadata": {},
   "source": [
    "## Шаг 1. Обзор данных"
   ]
  },
  {
   "cell_type": "markdown",
   "id": "43f134f1",
   "metadata": {},
   "source": [
    "Привет ревьюер! Думаю сразу перейдём на \"ты\", если не против)\n",
    "Тут я себе небольшие вставки буду делать, надеюсь будешь не против.\n",
    "\n",
    "\n",
    "Описание проекта\n",
    "Заказчик — кредитный отдел банка. Нужно разобраться, влияет ли семейное положение и количество детей клиента на факт погашения кредита в срок. Входные данные от банка — статистика о платёжеспособности клиентов.\n",
    "Результаты исследования будут учтены при построении модели кредитного скоринга — специальной системы, которая оценивает способность потенциального заёмщика вернуть кредит банку.\n",
    "\n",
    "Цель исследования:\n",
    "1) Есть ли зависимость между количеством детей и возвратом кредита в срок?   \n",
    "2) Есть ли зависимость между семейным положением и возвратом кредита в срок?   \n",
    "3) Есть ли зависимость между уровнем дохода и возвратом кредита в срок?  \n",
    "4) Как разные цели кредита влияют на его возврат в срок?   \n",
    "\n",
    "ps. заранее думаю, что все 4 пункта влияют, но убедимся в этом наглядно"
   ]
  },
  {
   "cell_type": "markdown",
   "id": "1d993bd7",
   "metadata": {},
   "source": [
    "Начнём.\n",
    "Данные от банка о статистике платёжеспособности клиентов получаем отсюда \"/datasets/data.csv\". Т.к. мы видим данные впервые, то сразу предполагаем о том, что данные неполные\\неверные и тп.\n",
    "\n",
    "Так что сначала проверяем данные на ошибки и оцениваем их влияние на исследование. Затем, на этапе предобработки исправляем данные до приемлемого для исследования\n",
    "\n",
    "Таким образом, исследование пройдёт в четыре этапа:\n",
    "\n",
    "Обзор данных.  \n",
    "Предобработка данных.  \n",
    "Проверка гипотез.  \n",
    "Общий вывод.  \n"
   ]
  },
  {
   "cell_type": "code",
   "execution_count": 1,
   "id": "d5b98620",
   "metadata": {},
   "outputs": [],
   "source": [
    "# Импортируем библитеки\n",
    "\n",
    "import pandas as pd\n",
    "import numpy as np\n",
    "import pprint\n",
    "\n",
    "from pymystem3 import Mystem\n",
    "from collections import Counter"
   ]
  },
  {
   "cell_type": "code",
   "execution_count": 2,
   "id": "c1adb229",
   "metadata": {},
   "outputs": [],
   "source": [
    "# загружаем файл с данными\n",
    "\n",
    "data = pd.read_csv('/datasets/data.csv')"
   ]
  },
  {
   "cell_type": "code",
   "execution_count": 3,
   "id": "e3d77ad1",
   "metadata": {},
   "outputs": [
    {
     "data": {
      "text/html": [
       "<div>\n",
       "<style scoped>\n",
       "    .dataframe tbody tr th:only-of-type {\n",
       "        vertical-align: middle;\n",
       "    }\n",
       "\n",
       "    .dataframe tbody tr th {\n",
       "        vertical-align: top;\n",
       "    }\n",
       "\n",
       "    .dataframe thead th {\n",
       "        text-align: right;\n",
       "    }\n",
       "</style>\n",
       "<table border=\"1\" class=\"dataframe\">\n",
       "  <thead>\n",
       "    <tr style=\"text-align: right;\">\n",
       "      <th></th>\n",
       "      <th>children</th>\n",
       "      <th>days_employed</th>\n",
       "      <th>dob_years</th>\n",
       "      <th>education</th>\n",
       "      <th>education_id</th>\n",
       "      <th>family_status</th>\n",
       "      <th>family_status_id</th>\n",
       "      <th>gender</th>\n",
       "      <th>income_type</th>\n",
       "      <th>debt</th>\n",
       "      <th>total_income</th>\n",
       "      <th>purpose</th>\n",
       "    </tr>\n",
       "  </thead>\n",
       "  <tbody>\n",
       "    <tr>\n",
       "      <th>0</th>\n",
       "      <td>1</td>\n",
       "      <td>-8437.673028</td>\n",
       "      <td>42</td>\n",
       "      <td>высшее</td>\n",
       "      <td>0</td>\n",
       "      <td>женат / замужем</td>\n",
       "      <td>0</td>\n",
       "      <td>F</td>\n",
       "      <td>сотрудник</td>\n",
       "      <td>0</td>\n",
       "      <td>253875.639453</td>\n",
       "      <td>покупка жилья</td>\n",
       "    </tr>\n",
       "    <tr>\n",
       "      <th>1</th>\n",
       "      <td>1</td>\n",
       "      <td>-4024.803754</td>\n",
       "      <td>36</td>\n",
       "      <td>среднее</td>\n",
       "      <td>1</td>\n",
       "      <td>женат / замужем</td>\n",
       "      <td>0</td>\n",
       "      <td>F</td>\n",
       "      <td>сотрудник</td>\n",
       "      <td>0</td>\n",
       "      <td>112080.014102</td>\n",
       "      <td>приобретение автомобиля</td>\n",
       "    </tr>\n",
       "    <tr>\n",
       "      <th>2</th>\n",
       "      <td>0</td>\n",
       "      <td>-5623.422610</td>\n",
       "      <td>33</td>\n",
       "      <td>Среднее</td>\n",
       "      <td>1</td>\n",
       "      <td>женат / замужем</td>\n",
       "      <td>0</td>\n",
       "      <td>M</td>\n",
       "      <td>сотрудник</td>\n",
       "      <td>0</td>\n",
       "      <td>145885.952297</td>\n",
       "      <td>покупка жилья</td>\n",
       "    </tr>\n",
       "    <tr>\n",
       "      <th>3</th>\n",
       "      <td>3</td>\n",
       "      <td>-4124.747207</td>\n",
       "      <td>32</td>\n",
       "      <td>среднее</td>\n",
       "      <td>1</td>\n",
       "      <td>женат / замужем</td>\n",
       "      <td>0</td>\n",
       "      <td>M</td>\n",
       "      <td>сотрудник</td>\n",
       "      <td>0</td>\n",
       "      <td>267628.550329</td>\n",
       "      <td>дополнительное образование</td>\n",
       "    </tr>\n",
       "    <tr>\n",
       "      <th>4</th>\n",
       "      <td>0</td>\n",
       "      <td>340266.072047</td>\n",
       "      <td>53</td>\n",
       "      <td>среднее</td>\n",
       "      <td>1</td>\n",
       "      <td>гражданский брак</td>\n",
       "      <td>1</td>\n",
       "      <td>F</td>\n",
       "      <td>пенсионер</td>\n",
       "      <td>0</td>\n",
       "      <td>158616.077870</td>\n",
       "      <td>сыграть свадьбу</td>\n",
       "    </tr>\n",
       "    <tr>\n",
       "      <th>5</th>\n",
       "      <td>0</td>\n",
       "      <td>-926.185831</td>\n",
       "      <td>27</td>\n",
       "      <td>высшее</td>\n",
       "      <td>0</td>\n",
       "      <td>гражданский брак</td>\n",
       "      <td>1</td>\n",
       "      <td>M</td>\n",
       "      <td>компаньон</td>\n",
       "      <td>0</td>\n",
       "      <td>255763.565419</td>\n",
       "      <td>покупка жилья</td>\n",
       "    </tr>\n",
       "    <tr>\n",
       "      <th>6</th>\n",
       "      <td>0</td>\n",
       "      <td>-2879.202052</td>\n",
       "      <td>43</td>\n",
       "      <td>высшее</td>\n",
       "      <td>0</td>\n",
       "      <td>женат / замужем</td>\n",
       "      <td>0</td>\n",
       "      <td>F</td>\n",
       "      <td>компаньон</td>\n",
       "      <td>0</td>\n",
       "      <td>240525.971920</td>\n",
       "      <td>операции с жильем</td>\n",
       "    </tr>\n",
       "    <tr>\n",
       "      <th>7</th>\n",
       "      <td>0</td>\n",
       "      <td>-152.779569</td>\n",
       "      <td>50</td>\n",
       "      <td>СРЕДНЕЕ</td>\n",
       "      <td>1</td>\n",
       "      <td>женат / замужем</td>\n",
       "      <td>0</td>\n",
       "      <td>M</td>\n",
       "      <td>сотрудник</td>\n",
       "      <td>0</td>\n",
       "      <td>135823.934197</td>\n",
       "      <td>образование</td>\n",
       "    </tr>\n",
       "    <tr>\n",
       "      <th>8</th>\n",
       "      <td>2</td>\n",
       "      <td>-6929.865299</td>\n",
       "      <td>35</td>\n",
       "      <td>ВЫСШЕЕ</td>\n",
       "      <td>0</td>\n",
       "      <td>гражданский брак</td>\n",
       "      <td>1</td>\n",
       "      <td>F</td>\n",
       "      <td>сотрудник</td>\n",
       "      <td>0</td>\n",
       "      <td>95856.832424</td>\n",
       "      <td>на проведение свадьбы</td>\n",
       "    </tr>\n",
       "    <tr>\n",
       "      <th>9</th>\n",
       "      <td>0</td>\n",
       "      <td>-2188.756445</td>\n",
       "      <td>41</td>\n",
       "      <td>среднее</td>\n",
       "      <td>1</td>\n",
       "      <td>женат / замужем</td>\n",
       "      <td>0</td>\n",
       "      <td>M</td>\n",
       "      <td>сотрудник</td>\n",
       "      <td>0</td>\n",
       "      <td>144425.938277</td>\n",
       "      <td>покупка жилья для семьи</td>\n",
       "    </tr>\n",
       "    <tr>\n",
       "      <th>10</th>\n",
       "      <td>2</td>\n",
       "      <td>-4171.483647</td>\n",
       "      <td>36</td>\n",
       "      <td>высшее</td>\n",
       "      <td>0</td>\n",
       "      <td>женат / замужем</td>\n",
       "      <td>0</td>\n",
       "      <td>M</td>\n",
       "      <td>компаньон</td>\n",
       "      <td>0</td>\n",
       "      <td>113943.491460</td>\n",
       "      <td>покупка недвижимости</td>\n",
       "    </tr>\n",
       "    <tr>\n",
       "      <th>11</th>\n",
       "      <td>0</td>\n",
       "      <td>-792.701887</td>\n",
       "      <td>40</td>\n",
       "      <td>среднее</td>\n",
       "      <td>1</td>\n",
       "      <td>женат / замужем</td>\n",
       "      <td>0</td>\n",
       "      <td>F</td>\n",
       "      <td>сотрудник</td>\n",
       "      <td>0</td>\n",
       "      <td>77069.234271</td>\n",
       "      <td>покупка коммерческой недвижимости</td>\n",
       "    </tr>\n",
       "    <tr>\n",
       "      <th>12</th>\n",
       "      <td>0</td>\n",
       "      <td>NaN</td>\n",
       "      <td>65</td>\n",
       "      <td>среднее</td>\n",
       "      <td>1</td>\n",
       "      <td>гражданский брак</td>\n",
       "      <td>1</td>\n",
       "      <td>M</td>\n",
       "      <td>пенсионер</td>\n",
       "      <td>0</td>\n",
       "      <td>NaN</td>\n",
       "      <td>сыграть свадьбу</td>\n",
       "    </tr>\n",
       "    <tr>\n",
       "      <th>13</th>\n",
       "      <td>0</td>\n",
       "      <td>-1846.641941</td>\n",
       "      <td>54</td>\n",
       "      <td>неоконченное высшее</td>\n",
       "      <td>2</td>\n",
       "      <td>женат / замужем</td>\n",
       "      <td>0</td>\n",
       "      <td>F</td>\n",
       "      <td>сотрудник</td>\n",
       "      <td>0</td>\n",
       "      <td>130458.228857</td>\n",
       "      <td>приобретение автомобиля</td>\n",
       "    </tr>\n",
       "    <tr>\n",
       "      <th>14</th>\n",
       "      <td>0</td>\n",
       "      <td>-1844.956182</td>\n",
       "      <td>56</td>\n",
       "      <td>высшее</td>\n",
       "      <td>0</td>\n",
       "      <td>гражданский брак</td>\n",
       "      <td>1</td>\n",
       "      <td>F</td>\n",
       "      <td>компаньон</td>\n",
       "      <td>1</td>\n",
       "      <td>165127.911772</td>\n",
       "      <td>покупка жилой недвижимости</td>\n",
       "    </tr>\n",
       "  </tbody>\n",
       "</table>\n",
       "</div>"
      ],
      "text/plain": [
       "    children  days_employed  dob_years            education  education_id  \\\n",
       "0          1   -8437.673028         42               высшее             0   \n",
       "1          1   -4024.803754         36              среднее             1   \n",
       "2          0   -5623.422610         33              Среднее             1   \n",
       "3          3   -4124.747207         32              среднее             1   \n",
       "4          0  340266.072047         53              среднее             1   \n",
       "5          0    -926.185831         27               высшее             0   \n",
       "6          0   -2879.202052         43               высшее             0   \n",
       "7          0    -152.779569         50              СРЕДНЕЕ             1   \n",
       "8          2   -6929.865299         35               ВЫСШЕЕ             0   \n",
       "9          0   -2188.756445         41              среднее             1   \n",
       "10         2   -4171.483647         36               высшее             0   \n",
       "11         0    -792.701887         40              среднее             1   \n",
       "12         0            NaN         65              среднее             1   \n",
       "13         0   -1846.641941         54  неоконченное высшее             2   \n",
       "14         0   -1844.956182         56               высшее             0   \n",
       "\n",
       "       family_status  family_status_id gender income_type  debt  \\\n",
       "0    женат / замужем                 0      F   сотрудник     0   \n",
       "1    женат / замужем                 0      F   сотрудник     0   \n",
       "2    женат / замужем                 0      M   сотрудник     0   \n",
       "3    женат / замужем                 0      M   сотрудник     0   \n",
       "4   гражданский брак                 1      F   пенсионер     0   \n",
       "5   гражданский брак                 1      M   компаньон     0   \n",
       "6    женат / замужем                 0      F   компаньон     0   \n",
       "7    женат / замужем                 0      M   сотрудник     0   \n",
       "8   гражданский брак                 1      F   сотрудник     0   \n",
       "9    женат / замужем                 0      M   сотрудник     0   \n",
       "10   женат / замужем                 0      M   компаньон     0   \n",
       "11   женат / замужем                 0      F   сотрудник     0   \n",
       "12  гражданский брак                 1      M   пенсионер     0   \n",
       "13   женат / замужем                 0      F   сотрудник     0   \n",
       "14  гражданский брак                 1      F   компаньон     1   \n",
       "\n",
       "     total_income                            purpose  \n",
       "0   253875.639453                      покупка жилья  \n",
       "1   112080.014102            приобретение автомобиля  \n",
       "2   145885.952297                      покупка жилья  \n",
       "3   267628.550329         дополнительное образование  \n",
       "4   158616.077870                    сыграть свадьбу  \n",
       "5   255763.565419                      покупка жилья  \n",
       "6   240525.971920                  операции с жильем  \n",
       "7   135823.934197                        образование  \n",
       "8    95856.832424              на проведение свадьбы  \n",
       "9   144425.938277            покупка жилья для семьи  \n",
       "10  113943.491460               покупка недвижимости  \n",
       "11   77069.234271  покупка коммерческой недвижимости  \n",
       "12            NaN                    сыграть свадьбу  \n",
       "13  130458.228857            приобретение автомобиля  \n",
       "14  165127.911772         покупка жилой недвижимости  "
      ]
     },
     "execution_count": 3,
     "metadata": {},
     "output_type": "execute_result"
    }
   ],
   "source": [
    "# Смотрим с начала и с конца данные\n",
    "\n",
    "data.head(15)\n",
    "#data.tail(15)"
   ]
  },
  {
   "cell_type": "code",
   "execution_count": 4,
   "id": "5c1a91b1",
   "metadata": {
    "scrolled": true
   },
   "outputs": [
    {
     "name": "stdout",
     "output_type": "stream",
     "text": [
      "<class 'pandas.core.frame.DataFrame'>\n",
      "RangeIndex: 21525 entries, 0 to 21524\n",
      "Data columns (total 12 columns):\n",
      " #   Column            Non-Null Count  Dtype  \n",
      "---  ------            --------------  -----  \n",
      " 0   children          21525 non-null  int64  \n",
      " 1   days_employed     19351 non-null  float64\n",
      " 2   dob_years         21525 non-null  int64  \n",
      " 3   education         21525 non-null  object \n",
      " 4   education_id      21525 non-null  int64  \n",
      " 5   family_status     21525 non-null  object \n",
      " 6   family_status_id  21525 non-null  int64  \n",
      " 7   gender            21525 non-null  object \n",
      " 8   income_type       21525 non-null  object \n",
      " 9   debt              21525 non-null  int64  \n",
      " 10  total_income      19351 non-null  float64\n",
      " 11  purpose           21525 non-null  object \n",
      "dtypes: float64(2), int64(5), object(5)\n",
      "memory usage: 2.0+ MB\n"
     ]
    }
   ],
   "source": [
    "# Получаем информацию о данных\n",
    "\n",
    "data.info()"
   ]
  },
  {
   "cell_type": "code",
   "execution_count": 5,
   "id": "fbf3dcf9",
   "metadata": {},
   "outputs": [
    {
     "data": {
      "text/html": [
       "<div>\n",
       "<style scoped>\n",
       "    .dataframe tbody tr th:only-of-type {\n",
       "        vertical-align: middle;\n",
       "    }\n",
       "\n",
       "    .dataframe tbody tr th {\n",
       "        vertical-align: top;\n",
       "    }\n",
       "\n",
       "    .dataframe thead th {\n",
       "        text-align: right;\n",
       "    }\n",
       "</style>\n",
       "<table border=\"1\" class=\"dataframe\">\n",
       "  <thead>\n",
       "    <tr style=\"text-align: right;\">\n",
       "      <th></th>\n",
       "      <th>children</th>\n",
       "      <th>days_employed</th>\n",
       "      <th>dob_years</th>\n",
       "      <th>education_id</th>\n",
       "      <th>family_status_id</th>\n",
       "      <th>debt</th>\n",
       "      <th>total_income</th>\n",
       "    </tr>\n",
       "  </thead>\n",
       "  <tbody>\n",
       "    <tr>\n",
       "      <th>count</th>\n",
       "      <td>21525.000000</td>\n",
       "      <td>19351.000000</td>\n",
       "      <td>21525.000000</td>\n",
       "      <td>21525.000000</td>\n",
       "      <td>21525.000000</td>\n",
       "      <td>21525.000000</td>\n",
       "      <td>1.935100e+04</td>\n",
       "    </tr>\n",
       "    <tr>\n",
       "      <th>mean</th>\n",
       "      <td>0.538908</td>\n",
       "      <td>63046.497661</td>\n",
       "      <td>43.293380</td>\n",
       "      <td>0.817236</td>\n",
       "      <td>0.972544</td>\n",
       "      <td>0.080883</td>\n",
       "      <td>1.674223e+05</td>\n",
       "    </tr>\n",
       "    <tr>\n",
       "      <th>std</th>\n",
       "      <td>1.381587</td>\n",
       "      <td>140827.311974</td>\n",
       "      <td>12.574584</td>\n",
       "      <td>0.548138</td>\n",
       "      <td>1.420324</td>\n",
       "      <td>0.272661</td>\n",
       "      <td>1.029716e+05</td>\n",
       "    </tr>\n",
       "    <tr>\n",
       "      <th>min</th>\n",
       "      <td>-1.000000</td>\n",
       "      <td>-18388.949901</td>\n",
       "      <td>0.000000</td>\n",
       "      <td>0.000000</td>\n",
       "      <td>0.000000</td>\n",
       "      <td>0.000000</td>\n",
       "      <td>2.066726e+04</td>\n",
       "    </tr>\n",
       "    <tr>\n",
       "      <th>25%</th>\n",
       "      <td>0.000000</td>\n",
       "      <td>-2747.423625</td>\n",
       "      <td>33.000000</td>\n",
       "      <td>1.000000</td>\n",
       "      <td>0.000000</td>\n",
       "      <td>0.000000</td>\n",
       "      <td>1.030532e+05</td>\n",
       "    </tr>\n",
       "    <tr>\n",
       "      <th>50%</th>\n",
       "      <td>0.000000</td>\n",
       "      <td>-1203.369529</td>\n",
       "      <td>42.000000</td>\n",
       "      <td>1.000000</td>\n",
       "      <td>0.000000</td>\n",
       "      <td>0.000000</td>\n",
       "      <td>1.450179e+05</td>\n",
       "    </tr>\n",
       "    <tr>\n",
       "      <th>75%</th>\n",
       "      <td>1.000000</td>\n",
       "      <td>-291.095954</td>\n",
       "      <td>53.000000</td>\n",
       "      <td>1.000000</td>\n",
       "      <td>1.000000</td>\n",
       "      <td>0.000000</td>\n",
       "      <td>2.034351e+05</td>\n",
       "    </tr>\n",
       "    <tr>\n",
       "      <th>max</th>\n",
       "      <td>20.000000</td>\n",
       "      <td>401755.400475</td>\n",
       "      <td>75.000000</td>\n",
       "      <td>4.000000</td>\n",
       "      <td>4.000000</td>\n",
       "      <td>1.000000</td>\n",
       "      <td>2.265604e+06</td>\n",
       "    </tr>\n",
       "  </tbody>\n",
       "</table>\n",
       "</div>"
      ],
      "text/plain": [
       "           children  days_employed     dob_years  education_id  \\\n",
       "count  21525.000000   19351.000000  21525.000000  21525.000000   \n",
       "mean       0.538908   63046.497661     43.293380      0.817236   \n",
       "std        1.381587  140827.311974     12.574584      0.548138   \n",
       "min       -1.000000  -18388.949901      0.000000      0.000000   \n",
       "25%        0.000000   -2747.423625     33.000000      1.000000   \n",
       "50%        0.000000   -1203.369529     42.000000      1.000000   \n",
       "75%        1.000000    -291.095954     53.000000      1.000000   \n",
       "max       20.000000  401755.400475     75.000000      4.000000   \n",
       "\n",
       "       family_status_id          debt  total_income  \n",
       "count      21525.000000  21525.000000  1.935100e+04  \n",
       "mean           0.972544      0.080883  1.674223e+05  \n",
       "std            1.420324      0.272661  1.029716e+05  \n",
       "min            0.000000      0.000000  2.066726e+04  \n",
       "25%            0.000000      0.000000  1.030532e+05  \n",
       "50%            0.000000      0.000000  1.450179e+05  \n",
       "75%            1.000000      0.000000  2.034351e+05  \n",
       "max            4.000000      1.000000  2.265604e+06  "
      ]
     },
     "execution_count": 5,
     "metadata": {},
     "output_type": "execute_result"
    }
   ],
   "source": [
    "data.describe()"
   ]
  },
  {
   "cell_type": "markdown",
   "id": "6593f685",
   "metadata": {},
   "source": [
    "Итак, мы посмотрели данные, что мы можем скзаать на первый взгляд.\n",
    "В таблице имеется 12 столбцов:\n",
    "* `children` - колличество детей;\n",
    "* `days_employed` - трудовой стаж;\n",
    "* `dob_years` - полных лет;\n",
    "* `education` - уровень образования;\n",
    "* `education_id` - id код уровня образования;\n",
    "* `family_status` - семейное положение;\n",
    "* `family_status_id` - id код семейного положения;\n",
    "* `gender` - пол;\n",
    "* `income_type` - тип занятости;\n",
    "* `debt` -  имел ли задолженность по возврату кредитов;\n",
    "* `total_income` -  ежемесячный доход;\n",
    "* `purpose` - цель получения кредита.\n",
    "\n",
    "В названиях столбцов нарушения стиля не наблюдается, всё единообразно - зачёт.\n",
    "Однако в данных мы видим следующее:\n",
    "1) В столбце `education` наблюдается верхний регистр;  \n",
    "2) В столбцах `days_employed` и `total_income` наблюдаются пропуски NaN;  \n",
    "3) В столбце `days_employed` имеются отрицательные значения;  \n",
    "4) Данные столбца `total_income` лучше перевести в формат int (ps копейки не считаем😎)   "
   ]
  },
  {
   "cell_type": "markdown",
   "id": "0c33ee28",
   "metadata": {},
   "source": [
    "## Шаг 2. Предобработка данных"
   ]
  },
  {
   "cell_type": "markdown",
   "id": "3928bd76",
   "metadata": {},
   "source": [
    "### Работа с пропусками и дупликатами"
   ]
  },
  {
   "cell_type": "markdown",
   "id": "fa1e68d5",
   "metadata": {},
   "source": [
    "#### Работа с пропусками"
   ]
  },
  {
   "cell_type": "markdown",
   "id": "f227e1c9",
   "metadata": {},
   "source": [
    "Для начала посчитаем общее колличество пропусков"
   ]
  },
  {
   "cell_type": "code",
   "execution_count": 6,
   "id": "4f194eaf",
   "metadata": {},
   "outputs": [
    {
     "data": {
      "text/plain": [
       "children               0\n",
       "days_employed       2174\n",
       "dob_years              0\n",
       "education              0\n",
       "education_id           0\n",
       "family_status          0\n",
       "family_status_id       0\n",
       "gender                 0\n",
       "income_type            0\n",
       "debt                   0\n",
       "total_income        2174\n",
       "purpose                0\n",
       "dtype: int64"
      ]
     },
     "execution_count": 6,
     "metadata": {},
     "output_type": "execute_result"
    }
   ],
   "source": [
    "# Смотрим на количество пропусков\n",
    "\n",
    "data.isna().sum()"
   ]
  },
  {
   "cell_type": "markdown",
   "id": "dded5486",
   "metadata": {},
   "source": [
    "Из 21к значений, 2100 является 1\\10, что уже досаточно серьёзно влияет на результаты исследования.\n",
    "Причём данные столбцы обладают очень важной информацией, для принятия решения о даче\\отказе выдачи кредита. По хорошему тут бы заполонить пропуски стохастической линейной регрессией, но я честно хз как её сюда вписать(Ps. точнее я увидел, как её писать в инете и как-то перехотел))) ). За неимением лучшего возьмём то, что предлагает программа обучения - медианное значение. В данном случае за неимением возможности получить пропущенные данные это будет наилучшим решением. Мода слишком завысит, а минимальное значение не отразит всю картину."
   ]
  },
  {
   "cell_type": "code",
   "execution_count": 7,
   "id": "52b85e3a",
   "metadata": {
    "scrolled": true
   },
   "outputs": [
    {
     "data": {
      "text/html": [
       "<div>\n",
       "<style scoped>\n",
       "    .dataframe tbody tr th:only-of-type {\n",
       "        vertical-align: middle;\n",
       "    }\n",
       "\n",
       "    .dataframe tbody tr th {\n",
       "        vertical-align: top;\n",
       "    }\n",
       "\n",
       "    .dataframe thead th {\n",
       "        text-align: right;\n",
       "    }\n",
       "</style>\n",
       "<table border=\"1\" class=\"dataframe\">\n",
       "  <thead>\n",
       "    <tr style=\"text-align: right;\">\n",
       "      <th></th>\n",
       "      <th>children</th>\n",
       "      <th>days_employed</th>\n",
       "      <th>dob_years</th>\n",
       "      <th>education</th>\n",
       "      <th>education_id</th>\n",
       "      <th>family_status</th>\n",
       "      <th>family_status_id</th>\n",
       "      <th>gender</th>\n",
       "      <th>income_type</th>\n",
       "      <th>debt</th>\n",
       "      <th>total_income</th>\n",
       "      <th>purpose</th>\n",
       "    </tr>\n",
       "  </thead>\n",
       "  <tbody>\n",
       "    <tr>\n",
       "      <th>12</th>\n",
       "      <td>0</td>\n",
       "      <td>NaN</td>\n",
       "      <td>65</td>\n",
       "      <td>среднее</td>\n",
       "      <td>1</td>\n",
       "      <td>гражданский брак</td>\n",
       "      <td>1</td>\n",
       "      <td>M</td>\n",
       "      <td>пенсионер</td>\n",
       "      <td>0</td>\n",
       "      <td>NaN</td>\n",
       "      <td>сыграть свадьбу</td>\n",
       "    </tr>\n",
       "    <tr>\n",
       "      <th>26</th>\n",
       "      <td>0</td>\n",
       "      <td>NaN</td>\n",
       "      <td>41</td>\n",
       "      <td>среднее</td>\n",
       "      <td>1</td>\n",
       "      <td>женат / замужем</td>\n",
       "      <td>0</td>\n",
       "      <td>M</td>\n",
       "      <td>госслужащий</td>\n",
       "      <td>0</td>\n",
       "      <td>NaN</td>\n",
       "      <td>образование</td>\n",
       "    </tr>\n",
       "    <tr>\n",
       "      <th>29</th>\n",
       "      <td>0</td>\n",
       "      <td>NaN</td>\n",
       "      <td>63</td>\n",
       "      <td>среднее</td>\n",
       "      <td>1</td>\n",
       "      <td>Не женат / не замужем</td>\n",
       "      <td>4</td>\n",
       "      <td>F</td>\n",
       "      <td>пенсионер</td>\n",
       "      <td>0</td>\n",
       "      <td>NaN</td>\n",
       "      <td>строительство жилой недвижимости</td>\n",
       "    </tr>\n",
       "    <tr>\n",
       "      <th>41</th>\n",
       "      <td>0</td>\n",
       "      <td>NaN</td>\n",
       "      <td>50</td>\n",
       "      <td>среднее</td>\n",
       "      <td>1</td>\n",
       "      <td>женат / замужем</td>\n",
       "      <td>0</td>\n",
       "      <td>F</td>\n",
       "      <td>госслужащий</td>\n",
       "      <td>0</td>\n",
       "      <td>NaN</td>\n",
       "      <td>сделка с подержанным автомобилем</td>\n",
       "    </tr>\n",
       "    <tr>\n",
       "      <th>55</th>\n",
       "      <td>0</td>\n",
       "      <td>NaN</td>\n",
       "      <td>54</td>\n",
       "      <td>среднее</td>\n",
       "      <td>1</td>\n",
       "      <td>гражданский брак</td>\n",
       "      <td>1</td>\n",
       "      <td>F</td>\n",
       "      <td>пенсионер</td>\n",
       "      <td>1</td>\n",
       "      <td>NaN</td>\n",
       "      <td>сыграть свадьбу</td>\n",
       "    </tr>\n",
       "  </tbody>\n",
       "</table>\n",
       "</div>"
      ],
      "text/plain": [
       "    children  days_employed  dob_years education  education_id  \\\n",
       "12         0            NaN         65   среднее             1   \n",
       "26         0            NaN         41   среднее             1   \n",
       "29         0            NaN         63   среднее             1   \n",
       "41         0            NaN         50   среднее             1   \n",
       "55         0            NaN         54   среднее             1   \n",
       "\n",
       "            family_status  family_status_id gender  income_type  debt  \\\n",
       "12       гражданский брак                 1      M    пенсионер     0   \n",
       "26        женат / замужем                 0      M  госслужащий     0   \n",
       "29  Не женат / не замужем                 4      F    пенсионер     0   \n",
       "41        женат / замужем                 0      F  госслужащий     0   \n",
       "55       гражданский брак                 1      F    пенсионер     1   \n",
       "\n",
       "    total_income                           purpose  \n",
       "12           NaN                   сыграть свадьбу  \n",
       "26           NaN                       образование  \n",
       "29           NaN  строительство жилой недвижимости  \n",
       "41           NaN  сделка с подержанным автомобилем  \n",
       "55           NaN                   сыграть свадьбу  "
      ]
     },
     "execution_count": 7,
     "metadata": {},
     "output_type": "execute_result"
    }
   ],
   "source": [
    "# Посмотрим у каких людей нет данных\n",
    "\n",
    "data[data['days_employed'].isna()].head()"
   ]
  },
  {
   "cell_type": "markdown",
   "id": "7b8abe5e",
   "metadata": {},
   "source": [
    "Судя по всему это люди \"старшего\" поколения, и для них среднее значение будет допустимо"
   ]
  },
  {
   "cell_type": "markdown",
   "id": "d6064179",
   "metadata": {},
   "source": [
    "#### Работа с дупликатами"
   ]
  },
  {
   "cell_type": "code",
   "execution_count": 8,
   "id": "36108a37",
   "metadata": {},
   "outputs": [
    {
     "data": {
      "text/plain": [
       "54"
      ]
     },
     "execution_count": 8,
     "metadata": {},
     "output_type": "execute_result"
    }
   ],
   "source": [
    "# Проверим дупликаты\n",
    "\n",
    "data.duplicated().sum()"
   ]
  },
  {
   "cell_type": "markdown",
   "id": "6752b4e6",
   "metadata": {},
   "source": [
    "Немного, но имеется, удалим же их и потом проверим, на результатх исследования такая небольшая выборка не должна сыграть роли. Появились они возможно из-за ошибки ввода данных"
   ]
  },
  {
   "cell_type": "code",
   "execution_count": 9,
   "id": "a723af61",
   "metadata": {},
   "outputs": [
    {
     "data": {
      "text/plain": [
       "0"
      ]
     },
     "execution_count": 9,
     "metadata": {},
     "output_type": "execute_result"
    }
   ],
   "source": [
    "# Удаляем дупликаты\n",
    "\n",
    "data = data.drop_duplicates().reset_index(drop=True)\n",
    "data.duplicated().sum()"
   ]
  },
  {
   "cell_type": "markdown",
   "id": "7a7733fd",
   "metadata": {},
   "source": [
    "### Работа с ошибками и аномалиями"
   ]
  },
  {
   "cell_type": "code",
   "execution_count": 10,
   "id": "e06d20f4",
   "metadata": {},
   "outputs": [
    {
     "data": {
      "text/plain": [
       "array([-1,  0,  1,  2,  3,  4,  5, 20])"
      ]
     },
     "execution_count": 10,
     "metadata": {},
     "output_type": "execute_result"
    }
   ],
   "source": [
    "# Проверяем столбцы на ошибки и аномалии\n",
    "\n",
    "#data['education'].sort_values().unique() # Тут у нас разброс в регистрах, надо бы всё привести к единообразию\n",
    "#data['family_status'].sort_values().unique() # Тут всё норм\n",
    "#data['gender'].sort_values().unique() # XNA? Допустим - нет данных\n",
    "#data['income_type'].sort_values().unique() # Тут всё норм\n",
    "data['children'].sort_values().unique() # -1? 20? Тут явно ошибка"
   ]
  },
  {
   "cell_type": "code",
   "execution_count": 11,
   "id": "f0468f84",
   "metadata": {},
   "outputs": [],
   "source": [
    "# Исправляем ошибки и аномалии\n",
    "# с детьми и с регистром разобрались\n",
    "# заменяем 20 детей на среднее, ибо мы не знаем, что имел ввиду тот кто вводил данные, это 2 или 0 детей, возьмём среднее\n",
    "\n",
    "data['children'] = data['children'].replace(-1, 1)\n",
    "children_median = data.loc[data.loc[:, 'children'] != 20]['children'].median()\n",
    "data['children'] = data['children'].replace(20, children_median)\n",
    "data['education'] = data['education'].str.lower()"
   ]
  },
  {
   "cell_type": "code",
   "execution_count": 12,
   "id": "6515b916",
   "metadata": {},
   "outputs": [
    {
     "data": {
      "text/plain": [
       "array(['высшее', 'начальное', 'неоконченное высшее', 'среднее',\n",
       "       'ученая степень'], dtype=object)"
      ]
     },
     "execution_count": 12,
     "metadata": {},
     "output_type": "execute_result"
    }
   ],
   "source": [
    "data['education'].sort_values().unique()"
   ]
  },
  {
   "cell_type": "markdown",
   "id": "d3c79ffd",
   "metadata": {},
   "source": [
    "Начнём заполнение пропусков со столбца `days_employed` т.к. в нём имеются отрицательные значения, из-за чего медиальное значение будет иметь слишком большую вилку\\разброс."
   ]
  },
  {
   "cell_type": "code",
   "execution_count": 13,
   "id": "97b0fff5",
   "metadata": {
    "scrolled": true
   },
   "outputs": [
    {
     "data": {
      "text/html": [
       "<div>\n",
       "<style scoped>\n",
       "    .dataframe tbody tr th:only-of-type {\n",
       "        vertical-align: middle;\n",
       "    }\n",
       "\n",
       "    .dataframe tbody tr th {\n",
       "        vertical-align: top;\n",
       "    }\n",
       "\n",
       "    .dataframe thead th {\n",
       "        text-align: right;\n",
       "    }\n",
       "</style>\n",
       "<table border=\"1\" class=\"dataframe\">\n",
       "  <thead>\n",
       "    <tr style=\"text-align: right;\">\n",
       "      <th></th>\n",
       "      <th>children</th>\n",
       "      <th>days_employed</th>\n",
       "      <th>dob_years</th>\n",
       "      <th>education</th>\n",
       "      <th>education_id</th>\n",
       "      <th>family_status</th>\n",
       "      <th>family_status_id</th>\n",
       "      <th>gender</th>\n",
       "      <th>income_type</th>\n",
       "      <th>debt</th>\n",
       "      <th>total_income</th>\n",
       "      <th>purpose</th>\n",
       "    </tr>\n",
       "  </thead>\n",
       "  <tbody>\n",
       "    <tr>\n",
       "      <th>0</th>\n",
       "      <td>1.0</td>\n",
       "      <td>8437.673028</td>\n",
       "      <td>42</td>\n",
       "      <td>высшее</td>\n",
       "      <td>0</td>\n",
       "      <td>женат / замужем</td>\n",
       "      <td>0</td>\n",
       "      <td>F</td>\n",
       "      <td>сотрудник</td>\n",
       "      <td>0</td>\n",
       "      <td>253875.639453</td>\n",
       "      <td>покупка жилья</td>\n",
       "    </tr>\n",
       "    <tr>\n",
       "      <th>1</th>\n",
       "      <td>1.0</td>\n",
       "      <td>4024.803754</td>\n",
       "      <td>36</td>\n",
       "      <td>среднее</td>\n",
       "      <td>1</td>\n",
       "      <td>женат / замужем</td>\n",
       "      <td>0</td>\n",
       "      <td>F</td>\n",
       "      <td>сотрудник</td>\n",
       "      <td>0</td>\n",
       "      <td>112080.014102</td>\n",
       "      <td>приобретение автомобиля</td>\n",
       "    </tr>\n",
       "    <tr>\n",
       "      <th>2</th>\n",
       "      <td>0.0</td>\n",
       "      <td>5623.422610</td>\n",
       "      <td>33</td>\n",
       "      <td>среднее</td>\n",
       "      <td>1</td>\n",
       "      <td>женат / замужем</td>\n",
       "      <td>0</td>\n",
       "      <td>M</td>\n",
       "      <td>сотрудник</td>\n",
       "      <td>0</td>\n",
       "      <td>145885.952297</td>\n",
       "      <td>покупка жилья</td>\n",
       "    </tr>\n",
       "    <tr>\n",
       "      <th>3</th>\n",
       "      <td>3.0</td>\n",
       "      <td>4124.747207</td>\n",
       "      <td>32</td>\n",
       "      <td>среднее</td>\n",
       "      <td>1</td>\n",
       "      <td>женат / замужем</td>\n",
       "      <td>0</td>\n",
       "      <td>M</td>\n",
       "      <td>сотрудник</td>\n",
       "      <td>0</td>\n",
       "      <td>267628.550329</td>\n",
       "      <td>дополнительное образование</td>\n",
       "    </tr>\n",
       "    <tr>\n",
       "      <th>4</th>\n",
       "      <td>0.0</td>\n",
       "      <td>340266.072047</td>\n",
       "      <td>53</td>\n",
       "      <td>среднее</td>\n",
       "      <td>1</td>\n",
       "      <td>гражданский брак</td>\n",
       "      <td>1</td>\n",
       "      <td>F</td>\n",
       "      <td>пенсионер</td>\n",
       "      <td>0</td>\n",
       "      <td>158616.077870</td>\n",
       "      <td>сыграть свадьбу</td>\n",
       "    </tr>\n",
       "  </tbody>\n",
       "</table>\n",
       "</div>"
      ],
      "text/plain": [
       "   children  days_employed  dob_years education  education_id  \\\n",
       "0       1.0    8437.673028         42    высшее             0   \n",
       "1       1.0    4024.803754         36   среднее             1   \n",
       "2       0.0    5623.422610         33   среднее             1   \n",
       "3       3.0    4124.747207         32   среднее             1   \n",
       "4       0.0  340266.072047         53   среднее             1   \n",
       "\n",
       "      family_status  family_status_id gender income_type  debt   total_income  \\\n",
       "0   женат / замужем                 0      F   сотрудник     0  253875.639453   \n",
       "1   женат / замужем                 0      F   сотрудник     0  112080.014102   \n",
       "2   женат / замужем                 0      M   сотрудник     0  145885.952297   \n",
       "3   женат / замужем                 0      M   сотрудник     0  267628.550329   \n",
       "4  гражданский брак                 1      F   пенсионер     0  158616.077870   \n",
       "\n",
       "                      purpose  \n",
       "0               покупка жилья  \n",
       "1     приобретение автомобиля  \n",
       "2               покупка жилья  \n",
       "3  дополнительное образование  \n",
       "4             сыграть свадьбу  "
      ]
     },
     "execution_count": 13,
     "metadata": {},
     "output_type": "execute_result"
    }
   ],
   "source": [
    "# Отбрасываем знак и проверяем, всё ли впорядке\n",
    "\n",
    "data['days_employed'] = data['days_employed'].abs()\n",
    "data.head()"
   ]
  },
  {
   "cell_type": "code",
   "execution_count": 14,
   "id": "2b293fd8",
   "metadata": {
    "scrolled": true
   },
   "outputs": [
    {
     "data": {
      "text/html": [
       "<div>\n",
       "<style scoped>\n",
       "    .dataframe tbody tr th:only-of-type {\n",
       "        vertical-align: middle;\n",
       "    }\n",
       "\n",
       "    .dataframe tbody tr th {\n",
       "        vertical-align: top;\n",
       "    }\n",
       "\n",
       "    .dataframe thead th {\n",
       "        text-align: right;\n",
       "    }\n",
       "</style>\n",
       "<table border=\"1\" class=\"dataframe\">\n",
       "  <thead>\n",
       "    <tr style=\"text-align: right;\">\n",
       "      <th></th>\n",
       "      <th>children</th>\n",
       "      <th>days_employed</th>\n",
       "      <th>dob_years</th>\n",
       "      <th>education</th>\n",
       "      <th>education_id</th>\n",
       "      <th>family_status</th>\n",
       "      <th>family_status_id</th>\n",
       "      <th>gender</th>\n",
       "      <th>income_type</th>\n",
       "      <th>debt</th>\n",
       "      <th>total_income</th>\n",
       "      <th>purpose</th>\n",
       "    </tr>\n",
       "  </thead>\n",
       "  <tbody>\n",
       "    <tr>\n",
       "      <th>0</th>\n",
       "      <td>1.0</td>\n",
       "      <td>8437.673028</td>\n",
       "      <td>42</td>\n",
       "      <td>высшее</td>\n",
       "      <td>0</td>\n",
       "      <td>женат / замужем</td>\n",
       "      <td>0</td>\n",
       "      <td>F</td>\n",
       "      <td>сотрудник</td>\n",
       "      <td>0</td>\n",
       "      <td>253875.639453</td>\n",
       "      <td>покупка жилья</td>\n",
       "    </tr>\n",
       "    <tr>\n",
       "      <th>1</th>\n",
       "      <td>1.0</td>\n",
       "      <td>4024.803754</td>\n",
       "      <td>36</td>\n",
       "      <td>среднее</td>\n",
       "      <td>1</td>\n",
       "      <td>женат / замужем</td>\n",
       "      <td>0</td>\n",
       "      <td>F</td>\n",
       "      <td>сотрудник</td>\n",
       "      <td>0</td>\n",
       "      <td>112080.014102</td>\n",
       "      <td>приобретение автомобиля</td>\n",
       "    </tr>\n",
       "    <tr>\n",
       "      <th>2</th>\n",
       "      <td>0.0</td>\n",
       "      <td>5623.422610</td>\n",
       "      <td>33</td>\n",
       "      <td>среднее</td>\n",
       "      <td>1</td>\n",
       "      <td>женат / замужем</td>\n",
       "      <td>0</td>\n",
       "      <td>M</td>\n",
       "      <td>сотрудник</td>\n",
       "      <td>0</td>\n",
       "      <td>145885.952297</td>\n",
       "      <td>покупка жилья</td>\n",
       "    </tr>\n",
       "    <tr>\n",
       "      <th>3</th>\n",
       "      <td>3.0</td>\n",
       "      <td>4124.747207</td>\n",
       "      <td>32</td>\n",
       "      <td>среднее</td>\n",
       "      <td>1</td>\n",
       "      <td>женат / замужем</td>\n",
       "      <td>0</td>\n",
       "      <td>M</td>\n",
       "      <td>сотрудник</td>\n",
       "      <td>0</td>\n",
       "      <td>267628.550329</td>\n",
       "      <td>дополнительное образование</td>\n",
       "    </tr>\n",
       "    <tr>\n",
       "      <th>4</th>\n",
       "      <td>0.0</td>\n",
       "      <td>340266.072047</td>\n",
       "      <td>53</td>\n",
       "      <td>среднее</td>\n",
       "      <td>1</td>\n",
       "      <td>гражданский брак</td>\n",
       "      <td>1</td>\n",
       "      <td>F</td>\n",
       "      <td>пенсионер</td>\n",
       "      <td>0</td>\n",
       "      <td>158616.077870</td>\n",
       "      <td>сыграть свадьбу</td>\n",
       "    </tr>\n",
       "    <tr>\n",
       "      <th>5</th>\n",
       "      <td>0.0</td>\n",
       "      <td>926.185831</td>\n",
       "      <td>27</td>\n",
       "      <td>высшее</td>\n",
       "      <td>0</td>\n",
       "      <td>гражданский брак</td>\n",
       "      <td>1</td>\n",
       "      <td>M</td>\n",
       "      <td>компаньон</td>\n",
       "      <td>0</td>\n",
       "      <td>255763.565419</td>\n",
       "      <td>покупка жилья</td>\n",
       "    </tr>\n",
       "    <tr>\n",
       "      <th>6</th>\n",
       "      <td>0.0</td>\n",
       "      <td>2879.202052</td>\n",
       "      <td>43</td>\n",
       "      <td>высшее</td>\n",
       "      <td>0</td>\n",
       "      <td>женат / замужем</td>\n",
       "      <td>0</td>\n",
       "      <td>F</td>\n",
       "      <td>компаньон</td>\n",
       "      <td>0</td>\n",
       "      <td>240525.971920</td>\n",
       "      <td>операции с жильем</td>\n",
       "    </tr>\n",
       "    <tr>\n",
       "      <th>7</th>\n",
       "      <td>0.0</td>\n",
       "      <td>152.779569</td>\n",
       "      <td>50</td>\n",
       "      <td>среднее</td>\n",
       "      <td>1</td>\n",
       "      <td>женат / замужем</td>\n",
       "      <td>0</td>\n",
       "      <td>M</td>\n",
       "      <td>сотрудник</td>\n",
       "      <td>0</td>\n",
       "      <td>135823.934197</td>\n",
       "      <td>образование</td>\n",
       "    </tr>\n",
       "    <tr>\n",
       "      <th>8</th>\n",
       "      <td>2.0</td>\n",
       "      <td>6929.865299</td>\n",
       "      <td>35</td>\n",
       "      <td>высшее</td>\n",
       "      <td>0</td>\n",
       "      <td>гражданский брак</td>\n",
       "      <td>1</td>\n",
       "      <td>F</td>\n",
       "      <td>сотрудник</td>\n",
       "      <td>0</td>\n",
       "      <td>95856.832424</td>\n",
       "      <td>на проведение свадьбы</td>\n",
       "    </tr>\n",
       "    <tr>\n",
       "      <th>9</th>\n",
       "      <td>0.0</td>\n",
       "      <td>2188.756445</td>\n",
       "      <td>41</td>\n",
       "      <td>среднее</td>\n",
       "      <td>1</td>\n",
       "      <td>женат / замужем</td>\n",
       "      <td>0</td>\n",
       "      <td>M</td>\n",
       "      <td>сотрудник</td>\n",
       "      <td>0</td>\n",
       "      <td>144425.938277</td>\n",
       "      <td>покупка жилья для семьи</td>\n",
       "    </tr>\n",
       "    <tr>\n",
       "      <th>10</th>\n",
       "      <td>2.0</td>\n",
       "      <td>4171.483647</td>\n",
       "      <td>36</td>\n",
       "      <td>высшее</td>\n",
       "      <td>0</td>\n",
       "      <td>женат / замужем</td>\n",
       "      <td>0</td>\n",
       "      <td>M</td>\n",
       "      <td>компаньон</td>\n",
       "      <td>0</td>\n",
       "      <td>113943.491460</td>\n",
       "      <td>покупка недвижимости</td>\n",
       "    </tr>\n",
       "    <tr>\n",
       "      <th>11</th>\n",
       "      <td>0.0</td>\n",
       "      <td>792.701887</td>\n",
       "      <td>40</td>\n",
       "      <td>среднее</td>\n",
       "      <td>1</td>\n",
       "      <td>женат / замужем</td>\n",
       "      <td>0</td>\n",
       "      <td>F</td>\n",
       "      <td>сотрудник</td>\n",
       "      <td>0</td>\n",
       "      <td>77069.234271</td>\n",
       "      <td>покупка коммерческой недвижимости</td>\n",
       "    </tr>\n",
       "    <tr>\n",
       "      <th>12</th>\n",
       "      <td>0.0</td>\n",
       "      <td>2194.220567</td>\n",
       "      <td>65</td>\n",
       "      <td>среднее</td>\n",
       "      <td>1</td>\n",
       "      <td>гражданский брак</td>\n",
       "      <td>1</td>\n",
       "      <td>M</td>\n",
       "      <td>пенсионер</td>\n",
       "      <td>0</td>\n",
       "      <td>145017.937533</td>\n",
       "      <td>сыграть свадьбу</td>\n",
       "    </tr>\n",
       "    <tr>\n",
       "      <th>13</th>\n",
       "      <td>0.0</td>\n",
       "      <td>1846.641941</td>\n",
       "      <td>54</td>\n",
       "      <td>неоконченное высшее</td>\n",
       "      <td>2</td>\n",
       "      <td>женат / замужем</td>\n",
       "      <td>0</td>\n",
       "      <td>F</td>\n",
       "      <td>сотрудник</td>\n",
       "      <td>0</td>\n",
       "      <td>130458.228857</td>\n",
       "      <td>приобретение автомобиля</td>\n",
       "    </tr>\n",
       "    <tr>\n",
       "      <th>14</th>\n",
       "      <td>0.0</td>\n",
       "      <td>1844.956182</td>\n",
       "      <td>56</td>\n",
       "      <td>высшее</td>\n",
       "      <td>0</td>\n",
       "      <td>гражданский брак</td>\n",
       "      <td>1</td>\n",
       "      <td>F</td>\n",
       "      <td>компаньон</td>\n",
       "      <td>1</td>\n",
       "      <td>165127.911772</td>\n",
       "      <td>покупка жилой недвижимости</td>\n",
       "    </tr>\n",
       "  </tbody>\n",
       "</table>\n",
       "</div>"
      ],
      "text/plain": [
       "    children  days_employed  dob_years            education  education_id  \\\n",
       "0        1.0    8437.673028         42               высшее             0   \n",
       "1        1.0    4024.803754         36              среднее             1   \n",
       "2        0.0    5623.422610         33              среднее             1   \n",
       "3        3.0    4124.747207         32              среднее             1   \n",
       "4        0.0  340266.072047         53              среднее             1   \n",
       "5        0.0     926.185831         27               высшее             0   \n",
       "6        0.0    2879.202052         43               высшее             0   \n",
       "7        0.0     152.779569         50              среднее             1   \n",
       "8        2.0    6929.865299         35               высшее             0   \n",
       "9        0.0    2188.756445         41              среднее             1   \n",
       "10       2.0    4171.483647         36               высшее             0   \n",
       "11       0.0     792.701887         40              среднее             1   \n",
       "12       0.0    2194.220567         65              среднее             1   \n",
       "13       0.0    1846.641941         54  неоконченное высшее             2   \n",
       "14       0.0    1844.956182         56               высшее             0   \n",
       "\n",
       "       family_status  family_status_id gender income_type  debt  \\\n",
       "0    женат / замужем                 0      F   сотрудник     0   \n",
       "1    женат / замужем                 0      F   сотрудник     0   \n",
       "2    женат / замужем                 0      M   сотрудник     0   \n",
       "3    женат / замужем                 0      M   сотрудник     0   \n",
       "4   гражданский брак                 1      F   пенсионер     0   \n",
       "5   гражданский брак                 1      M   компаньон     0   \n",
       "6    женат / замужем                 0      F   компаньон     0   \n",
       "7    женат / замужем                 0      M   сотрудник     0   \n",
       "8   гражданский брак                 1      F   сотрудник     0   \n",
       "9    женат / замужем                 0      M   сотрудник     0   \n",
       "10   женат / замужем                 0      M   компаньон     0   \n",
       "11   женат / замужем                 0      F   сотрудник     0   \n",
       "12  гражданский брак                 1      M   пенсионер     0   \n",
       "13   женат / замужем                 0      F   сотрудник     0   \n",
       "14  гражданский брак                 1      F   компаньон     1   \n",
       "\n",
       "     total_income                            purpose  \n",
       "0   253875.639453                      покупка жилья  \n",
       "1   112080.014102            приобретение автомобиля  \n",
       "2   145885.952297                      покупка жилья  \n",
       "3   267628.550329         дополнительное образование  \n",
       "4   158616.077870                    сыграть свадьбу  \n",
       "5   255763.565419                      покупка жилья  \n",
       "6   240525.971920                  операции с жильем  \n",
       "7   135823.934197                        образование  \n",
       "8    95856.832424              на проведение свадьбы  \n",
       "9   144425.938277            покупка жилья для семьи  \n",
       "10  113943.491460               покупка недвижимости  \n",
       "11   77069.234271  покупка коммерческой недвижимости  \n",
       "12  145017.937533                    сыграть свадьбу  \n",
       "13  130458.228857            приобретение автомобиля  \n",
       "14  165127.911772         покупка жилой недвижимости  "
      ]
     },
     "execution_count": 14,
     "metadata": {},
     "output_type": "execute_result"
    }
   ],
   "source": [
    "#data['total_income'] = data['total_income'].astype('int') # ага, значит сначала необходимо убрать NaN, ошибся\n",
    "\n",
    "# Заполняем пропуски\n",
    "data['days_employed'] = data['days_employed'].fillna(data['days_employed'].median())\n",
    "data['total_income'] = data['total_income'].fillna(data['total_income'].median())\n",
    "data.head(15)"
   ]
  },
  {
   "cell_type": "code",
   "execution_count": 15,
   "id": "28828ddc",
   "metadata": {},
   "outputs": [
    {
     "data": {
      "text/plain": [
       "count    21471.000000\n",
       "mean        43.279074\n",
       "std         12.574291\n",
       "min          0.000000\n",
       "25%         33.000000\n",
       "50%         42.000000\n",
       "75%         53.000000\n",
       "max         75.000000\n",
       "Name: dob_years, dtype: float64"
      ]
     },
     "execution_count": 15,
     "metadata": {},
     "output_type": "execute_result"
    }
   ],
   "source": [
    "data['dob_years'].describe()"
   ]
  },
  {
   "cell_type": "code",
   "execution_count": 16,
   "id": "3734f90a",
   "metadata": {},
   "outputs": [],
   "source": [
    "data['dob_years'] = data['dob_years'].replace(0, data['dob_years'].mean())"
   ]
  },
  {
   "cell_type": "code",
   "execution_count": 17,
   "id": "c07c688b",
   "metadata": {
    "scrolled": true
   },
   "outputs": [
    {
     "data": {
      "text/plain": [
       "count    21471.000000\n",
       "mean        43.482660\n",
       "std         12.217199\n",
       "min         19.000000\n",
       "25%         33.500000\n",
       "50%         43.000000\n",
       "75%         53.000000\n",
       "max         75.000000\n",
       "Name: dob_years, dtype: float64"
      ]
     },
     "execution_count": 17,
     "metadata": {},
     "output_type": "execute_result"
    }
   ],
   "source": [
    "data['dob_years'].describe()"
   ]
  },
  {
   "cell_type": "code",
   "execution_count": 18,
   "id": "3a3978a7",
   "metadata": {
    "scrolled": true
   },
   "outputs": [
    {
     "data": {
      "text/plain": [
       "count     21471.000000\n",
       "mean      60524.366200\n",
       "std      133393.041787\n",
       "min          24.141633\n",
       "25%        1024.274090\n",
       "50%        2194.220567\n",
       "75%        4794.911909\n",
       "max      401755.400475\n",
       "Name: days_employed, dtype: float64"
      ]
     },
     "execution_count": 18,
     "metadata": {},
     "output_type": "execute_result"
    }
   ],
   "source": [
    "data['days_employed'].describe()"
   ]
  },
  {
   "cell_type": "code",
   "execution_count": 19,
   "id": "1aaded9b",
   "metadata": {},
   "outputs": [],
   "source": [
    "filter = data['days_employed'] > 20000\n",
    "data.loc[filter, ['days_employed']] =20000"
   ]
  },
  {
   "cell_type": "code",
   "execution_count": 20,
   "id": "b099c002",
   "metadata": {},
   "outputs": [
    {
     "data": {
      "text/plain": [
       "count    21471.000000\n",
       "mean      5168.777375\n",
       "std       6780.533508\n",
       "min         24.141633\n",
       "25%       1024.274090\n",
       "50%       2194.220567\n",
       "75%       4794.911909\n",
       "max      20000.000000\n",
       "Name: days_employed, dtype: float64"
      ]
     },
     "execution_count": 20,
     "metadata": {},
     "output_type": "execute_result"
    }
   ],
   "source": [
    "data['days_employed'].describe()"
   ]
  },
  {
   "cell_type": "code",
   "execution_count": 21,
   "id": "ae0b6d3b",
   "metadata": {
    "scrolled": false
   },
   "outputs": [
    {
     "data": {
      "text/html": [
       "<div>\n",
       "<style scoped>\n",
       "    .dataframe tbody tr th:only-of-type {\n",
       "        vertical-align: middle;\n",
       "    }\n",
       "\n",
       "    .dataframe tbody tr th {\n",
       "        vertical-align: top;\n",
       "    }\n",
       "\n",
       "    .dataframe thead th {\n",
       "        text-align: right;\n",
       "    }\n",
       "</style>\n",
       "<table border=\"1\" class=\"dataframe\">\n",
       "  <thead>\n",
       "    <tr style=\"text-align: right;\">\n",
       "      <th></th>\n",
       "      <th>children</th>\n",
       "      <th>dob_years</th>\n",
       "      <th>education</th>\n",
       "      <th>education_id</th>\n",
       "      <th>family_status</th>\n",
       "      <th>family_status_id</th>\n",
       "      <th>gender</th>\n",
       "      <th>income_type</th>\n",
       "      <th>debt</th>\n",
       "      <th>total_income</th>\n",
       "      <th>purpose</th>\n",
       "      <th>years_employed</th>\n",
       "    </tr>\n",
       "  </thead>\n",
       "  <tbody>\n",
       "    <tr>\n",
       "      <th>0</th>\n",
       "      <td>1.0</td>\n",
       "      <td>42.0</td>\n",
       "      <td>высшее</td>\n",
       "      <td>0</td>\n",
       "      <td>женат / замужем</td>\n",
       "      <td>0</td>\n",
       "      <td>F</td>\n",
       "      <td>сотрудник</td>\n",
       "      <td>0</td>\n",
       "      <td>253875</td>\n",
       "      <td>покупка жилья</td>\n",
       "      <td>23</td>\n",
       "    </tr>\n",
       "    <tr>\n",
       "      <th>1</th>\n",
       "      <td>1.0</td>\n",
       "      <td>36.0</td>\n",
       "      <td>среднее</td>\n",
       "      <td>1</td>\n",
       "      <td>женат / замужем</td>\n",
       "      <td>0</td>\n",
       "      <td>F</td>\n",
       "      <td>сотрудник</td>\n",
       "      <td>0</td>\n",
       "      <td>112080</td>\n",
       "      <td>приобретение автомобиля</td>\n",
       "      <td>11</td>\n",
       "    </tr>\n",
       "    <tr>\n",
       "      <th>2</th>\n",
       "      <td>0.0</td>\n",
       "      <td>33.0</td>\n",
       "      <td>среднее</td>\n",
       "      <td>1</td>\n",
       "      <td>женат / замужем</td>\n",
       "      <td>0</td>\n",
       "      <td>M</td>\n",
       "      <td>сотрудник</td>\n",
       "      <td>0</td>\n",
       "      <td>145885</td>\n",
       "      <td>покупка жилья</td>\n",
       "      <td>15</td>\n",
       "    </tr>\n",
       "    <tr>\n",
       "      <th>3</th>\n",
       "      <td>3.0</td>\n",
       "      <td>32.0</td>\n",
       "      <td>среднее</td>\n",
       "      <td>1</td>\n",
       "      <td>женат / замужем</td>\n",
       "      <td>0</td>\n",
       "      <td>M</td>\n",
       "      <td>сотрудник</td>\n",
       "      <td>0</td>\n",
       "      <td>267628</td>\n",
       "      <td>дополнительное образование</td>\n",
       "      <td>11</td>\n",
       "    </tr>\n",
       "    <tr>\n",
       "      <th>4</th>\n",
       "      <td>0.0</td>\n",
       "      <td>53.0</td>\n",
       "      <td>среднее</td>\n",
       "      <td>1</td>\n",
       "      <td>гражданский брак</td>\n",
       "      <td>1</td>\n",
       "      <td>F</td>\n",
       "      <td>пенсионер</td>\n",
       "      <td>0</td>\n",
       "      <td>158616</td>\n",
       "      <td>сыграть свадьбу</td>\n",
       "      <td>54</td>\n",
       "    </tr>\n",
       "  </tbody>\n",
       "</table>\n",
       "</div>"
      ],
      "text/plain": [
       "   children  dob_years education  education_id     family_status  \\\n",
       "0       1.0       42.0    высшее             0   женат / замужем   \n",
       "1       1.0       36.0   среднее             1   женат / замужем   \n",
       "2       0.0       33.0   среднее             1   женат / замужем   \n",
       "3       3.0       32.0   среднее             1   женат / замужем   \n",
       "4       0.0       53.0   среднее             1  гражданский брак   \n",
       "\n",
       "   family_status_id gender income_type  debt  total_income  \\\n",
       "0                 0      F   сотрудник     0        253875   \n",
       "1                 0      F   сотрудник     0        112080   \n",
       "2                 0      M   сотрудник     0        145885   \n",
       "3                 0      M   сотрудник     0        267628   \n",
       "4                 1      F   пенсионер     0        158616   \n",
       "\n",
       "                      purpose  years_employed  \n",
       "0               покупка жилья              23  \n",
       "1     приобретение автомобиля              11  \n",
       "2               покупка жилья              15  \n",
       "3  дополнительное образование              11  \n",
       "4             сыграть свадьбу              54  "
      ]
     },
     "execution_count": 21,
     "metadata": {},
     "output_type": "execute_result"
    }
   ],
   "source": [
    "# Вообще мне хочется так же изменить данные и в рабочих днях, заодно и памяти съкономлю, если скажешь убрать - уберу\n",
    "# помимо прочего решил перевести трудовой стаж в года и удалить столбец с днями\n",
    "\n",
    "data['years_employed'] = data['days_employed'] / 365 \n",
    "del data['days_employed'] \n",
    "data['years_employed'] = data['years_employed'].astype('int')\n",
    "data['total_income'] = data['total_income'].astype('int')\n",
    "data.head()"
   ]
  },
  {
   "cell_type": "markdown",
   "id": "7c559b81",
   "metadata": {},
   "source": [
    "Таблица стала выглядеть попризентабельнее"
   ]
  },
  {
   "cell_type": "markdown",
   "id": "0576cf8b",
   "metadata": {},
   "source": [
    "### Работа с таблицей"
   ]
  },
  {
   "cell_type": "code",
   "execution_count": 22,
   "id": "6204d840",
   "metadata": {},
   "outputs": [
    {
     "data": {
      "text/plain": [
       "['покупка жилья',\n",
       " 'приобретение автомобиля',\n",
       " 'дополнительное образование',\n",
       " 'сыграть свадьбу',\n",
       " 'операции с жильем',\n",
       " 'образование',\n",
       " 'на проведение свадьбы',\n",
       " 'покупка жилья для семьи',\n",
       " 'покупка недвижимости',\n",
       " 'покупка коммерческой недвижимости',\n",
       " 'покупка жилой недвижимости',\n",
       " 'строительство собственной недвижимости',\n",
       " 'недвижимость',\n",
       " 'строительство недвижимости',\n",
       " 'на покупку подержанного автомобиля',\n",
       " 'на покупку своего автомобиля',\n",
       " 'операции с коммерческой недвижимостью',\n",
       " 'строительство жилой недвижимости',\n",
       " 'жилье',\n",
       " 'операции со своей недвижимостью',\n",
       " 'автомобили',\n",
       " 'заняться образованием',\n",
       " 'сделка с подержанным автомобилем',\n",
       " 'получение образования',\n",
       " 'автомобиль',\n",
       " 'свадьба',\n",
       " 'получение дополнительного образования',\n",
       " 'покупка своего жилья',\n",
       " 'операции с недвижимостью',\n",
       " 'получение высшего образования',\n",
       " 'свой автомобиль',\n",
       " 'сделка с автомобилем',\n",
       " 'профильное образование',\n",
       " 'высшее образование',\n",
       " 'покупка жилья для сдачи',\n",
       " 'на покупку автомобиля',\n",
       " 'ремонт жилью',\n",
       " 'заняться высшим образованием']"
      ]
     },
     "execution_count": 22,
     "metadata": {},
     "output_type": "execute_result"
    }
   ],
   "source": [
    "# Теперь займёмся целями кредита\n",
    "\n",
    "unique_purposes = data['purpose'].unique().tolist()\n",
    "unique_purposes"
   ]
  },
  {
   "cell_type": "markdown",
   "id": "9b869b16",
   "metadata": {},
   "source": [
    "Данные цели схожи, их лучше будет объединить в несколько категорий:\n",
    "1) недвижимость\n",
    "2) образование\n",
    "3) свадьба\n",
    "4) авто"
   ]
  },
  {
   "cell_type": "code",
   "execution_count": 23,
   "id": "e5d7d459",
   "metadata": {},
   "outputs": [],
   "source": [
    "# Приводим цели к 4 категориям\n",
    "def purpose_a (purpose):\n",
    "    if 'свадьб' in purpose:\n",
    "        return 'проведение свадьбы'\n",
    "    elif 'недвиж' in purpose or 'жиль' in purpose:\n",
    "        return 'операции с недвижимостью'\n",
    "    elif 'образова' in purpose:\n",
    "        return 'получение образования'\n",
    "    else:\n",
    "        return 'операции с автомобилем'\n",
    "data['purpose_category'] = data['purpose'].apply(purpose_a)"
   ]
  },
  {
   "cell_type": "code",
   "execution_count": 24,
   "id": "bc40c78a",
   "metadata": {
    "scrolled": false
   },
   "outputs": [
    {
     "data": {
      "text/plain": [
       "['операции с недвижимостью',\n",
       " 'операции с автомобилем',\n",
       " 'получение образования',\n",
       " 'проведение свадьбы']"
      ]
     },
     "execution_count": 24,
     "metadata": {},
     "output_type": "execute_result"
    }
   ],
   "source": [
    "unique_purposes = data['purpose_category'].unique().tolist()\n",
    "unique_purposes"
   ]
  },
  {
   "cell_type": "markdown",
   "id": "9af84f55",
   "metadata": {},
   "source": [
    "**Промежуточный итог.**\n",
    "Мы проверили таблицу вначале и конце, собрали о ней информацию. Затем мы посчитали количество пропусков, заполнили пропуски средним значением, удалили дупликаты(так как это скорее ошибка ввода). После чего мы изменили аномальные значения, привели таблицу к единообразию, и сделали её более удобной для чтения и понимания.\n",
    "В таблице ещё остались аномальные значения, но их выборка слишком мала, чтобы повлиять на результаты исследования"
   ]
  },
  {
   "cell_type": "markdown",
   "id": "62ef0ffb",
   "metadata": {},
   "source": [
    "## Шаг 3. Проверка гипотез"
   ]
  },
  {
   "cell_type": "markdown",
   "id": "05e04530",
   "metadata": {},
   "source": [
    "### 1) Есть ли зависимость между количеством детей и возвратом кредита в срок?"
   ]
  },
  {
   "cell_type": "code",
   "execution_count": 25,
   "id": "9d831e08",
   "metadata": {
    "scrolled": true
   },
   "outputs": [
    {
     "data": {
      "text/html": [
       "<div>\n",
       "<style scoped>\n",
       "    .dataframe tbody tr th:only-of-type {\n",
       "        vertical-align: middle;\n",
       "    }\n",
       "\n",
       "    .dataframe tbody tr th {\n",
       "        vertical-align: top;\n",
       "    }\n",
       "\n",
       "    .dataframe thead th {\n",
       "        text-align: right;\n",
       "    }\n",
       "</style>\n",
       "<table border=\"1\" class=\"dataframe\">\n",
       "  <thead>\n",
       "    <tr style=\"text-align: right;\">\n",
       "      <th>debt</th>\n",
       "      <th>0</th>\n",
       "      <th>1</th>\n",
       "      <th>influence</th>\n",
       "    </tr>\n",
       "    <tr>\n",
       "      <th>children</th>\n",
       "      <th></th>\n",
       "      <th></th>\n",
       "      <th></th>\n",
       "    </tr>\n",
       "  </thead>\n",
       "  <tbody>\n",
       "    <tr>\n",
       "      <th>0.0</th>\n",
       "      <td>13112.0</td>\n",
       "      <td>1071.0</td>\n",
       "      <td>0.075513</td>\n",
       "    </tr>\n",
       "    <tr>\n",
       "      <th>1.0</th>\n",
       "      <td>4411.0</td>\n",
       "      <td>445.0</td>\n",
       "      <td>0.091639</td>\n",
       "    </tr>\n",
       "    <tr>\n",
       "      <th>2.0</th>\n",
       "      <td>1858.0</td>\n",
       "      <td>194.0</td>\n",
       "      <td>0.094542</td>\n",
       "    </tr>\n",
       "    <tr>\n",
       "      <th>3.0</th>\n",
       "      <td>303.0</td>\n",
       "      <td>27.0</td>\n",
       "      <td>0.081818</td>\n",
       "    </tr>\n",
       "    <tr>\n",
       "      <th>4.0</th>\n",
       "      <td>37.0</td>\n",
       "      <td>4.0</td>\n",
       "      <td>0.097561</td>\n",
       "    </tr>\n",
       "    <tr>\n",
       "      <th>5.0</th>\n",
       "      <td>9.0</td>\n",
       "      <td>NaN</td>\n",
       "      <td>NaN</td>\n",
       "    </tr>\n",
       "  </tbody>\n",
       "</table>\n",
       "</div>"
      ],
      "text/plain": [
       "debt            0       1  influence\n",
       "children                            \n",
       "0.0       13112.0  1071.0   0.075513\n",
       "1.0        4411.0   445.0   0.091639\n",
       "2.0        1858.0   194.0   0.094542\n",
       "3.0         303.0    27.0   0.081818\n",
       "4.0          37.0     4.0   0.097561\n",
       "5.0           9.0     NaN        NaN"
      ]
     },
     "execution_count": 25,
     "metadata": {},
     "output_type": "execute_result"
    }
   ],
   "source": [
    "children_pivot = data.pivot_table(index = ['children'], columns = ['debt'], values = 'purpose', aggfunc='count')\n",
    "\n",
    "children_pivot['influence'] = children_pivot[1] / (children_pivot[0]+children_pivot[1]) \n",
    "children_pivot"
   ]
  },
  {
   "cell_type": "markdown",
   "id": "dc1124d7",
   "metadata": {},
   "source": [
    "Данные несколько неоднозначны, однако по ним можно сделать вывод, что люди без детей чаще выплачивают в срок"
   ]
  },
  {
   "cell_type": "markdown",
   "id": "581cdcc6",
   "metadata": {},
   "source": [
    "### 2) Есть ли зависимость между семейным положением и возвратом кредита в срок?"
   ]
  },
  {
   "cell_type": "code",
   "execution_count": 26,
   "id": "0a3778d7",
   "metadata": {
    "scrolled": true
   },
   "outputs": [
    {
     "data": {
      "text/html": [
       "<div>\n",
       "<style scoped>\n",
       "    .dataframe tbody tr th:only-of-type {\n",
       "        vertical-align: middle;\n",
       "    }\n",
       "\n",
       "    .dataframe tbody tr th {\n",
       "        vertical-align: top;\n",
       "    }\n",
       "\n",
       "    .dataframe thead th {\n",
       "        text-align: right;\n",
       "    }\n",
       "</style>\n",
       "<table border=\"1\" class=\"dataframe\">\n",
       "  <thead>\n",
       "    <tr style=\"text-align: right;\">\n",
       "      <th>debt</th>\n",
       "      <th>0</th>\n",
       "      <th>1</th>\n",
       "      <th>influence</th>\n",
       "    </tr>\n",
       "    <tr>\n",
       "      <th>family_status</th>\n",
       "      <th></th>\n",
       "      <th></th>\n",
       "      <th></th>\n",
       "    </tr>\n",
       "  </thead>\n",
       "  <tbody>\n",
       "    <tr>\n",
       "      <th>Не женат / не замужем</th>\n",
       "      <td>2536</td>\n",
       "      <td>274</td>\n",
       "      <td>0.097509</td>\n",
       "    </tr>\n",
       "    <tr>\n",
       "      <th>в разводе</th>\n",
       "      <td>1110</td>\n",
       "      <td>85</td>\n",
       "      <td>0.071130</td>\n",
       "    </tr>\n",
       "    <tr>\n",
       "      <th>вдовец / вдова</th>\n",
       "      <td>896</td>\n",
       "      <td>63</td>\n",
       "      <td>0.065693</td>\n",
       "    </tr>\n",
       "    <tr>\n",
       "      <th>гражданский брак</th>\n",
       "      <td>3775</td>\n",
       "      <td>388</td>\n",
       "      <td>0.093202</td>\n",
       "    </tr>\n",
       "    <tr>\n",
       "      <th>женат / замужем</th>\n",
       "      <td>11413</td>\n",
       "      <td>931</td>\n",
       "      <td>0.075421</td>\n",
       "    </tr>\n",
       "  </tbody>\n",
       "</table>\n",
       "</div>"
      ],
      "text/plain": [
       "debt                       0    1  influence\n",
       "family_status                               \n",
       "Не женат / не замужем   2536  274   0.097509\n",
       "в разводе               1110   85   0.071130\n",
       "вдовец / вдова           896   63   0.065693\n",
       "гражданский брак        3775  388   0.093202\n",
       "женат / замужем        11413  931   0.075421"
      ]
     },
     "execution_count": 26,
     "metadata": {},
     "output_type": "execute_result"
    }
   ],
   "source": [
    "family_pivot = data.pivot_table(index = ['family_status'], columns = ['debt'], values = 'total_income', aggfunc='count')\n",
    "\n",
    "family_pivot['influence'] = family_pivot[1] / (family_pivot[0] + family_pivot[1])\n",
    "family_pivot"
   ]
  },
  {
   "cell_type": "markdown",
   "id": "22f07025",
   "metadata": {},
   "source": [
    "А тут результат очевиден. Люди вне брака\\в гражданском браке(скорее всего молодые) хуже погашают кредиты. Возможно из-за меньшей \"ответственности\" данной категории людей. \n",
    "Самые низкие показатели у разведённых и потерявших супруга\\у, скорее всего данная категория граждан на опыте ведения бюджета более ответственно подходят к финансам."
   ]
  },
  {
   "cell_type": "markdown",
   "id": "8c90987c",
   "metadata": {},
   "source": [
    "### 3) Есть ли зависимость между уровнем дохода и возвратом кредита в срок?"
   ]
  },
  {
   "cell_type": "code",
   "execution_count": 27,
   "id": "546463c0",
   "metadata": {},
   "outputs": [],
   "source": [
    "def total_income_category(total_income):\n",
    "    if total_income <= 30000:\n",
    "            return 'Низкий уровень дохода (E)'\n",
    "    if total_income <= 50000:\n",
    "            return 'Средний уровень дохода (D)'\n",
    "    if total_income <= 200000:\n",
    "            return 'Выше среднего уровень дохода (C)'\n",
    "    if total_income <= 1000000:\n",
    "            return 'Высокий уровень дохода (В)'\n",
    "    return 'Сверхвысокий уровень дохода (А)'"
   ]
  },
  {
   "cell_type": "code",
   "execution_count": 28,
   "id": "f239db29",
   "metadata": {},
   "outputs": [
    {
     "data": {
      "text/html": [
       "<div>\n",
       "<style scoped>\n",
       "    .dataframe tbody tr th:only-of-type {\n",
       "        vertical-align: middle;\n",
       "    }\n",
       "\n",
       "    .dataframe tbody tr th {\n",
       "        vertical-align: top;\n",
       "    }\n",
       "\n",
       "    .dataframe thead th {\n",
       "        text-align: right;\n",
       "    }\n",
       "</style>\n",
       "<table border=\"1\" class=\"dataframe\">\n",
       "  <thead>\n",
       "    <tr style=\"text-align: right;\">\n",
       "      <th></th>\n",
       "      <th>children</th>\n",
       "      <th>dob_years</th>\n",
       "      <th>education</th>\n",
       "      <th>education_id</th>\n",
       "      <th>family_status</th>\n",
       "      <th>family_status_id</th>\n",
       "      <th>gender</th>\n",
       "      <th>income_type</th>\n",
       "      <th>debt</th>\n",
       "      <th>total_income</th>\n",
       "      <th>purpose</th>\n",
       "      <th>years_employed</th>\n",
       "      <th>purpose_category</th>\n",
       "      <th>total_income_category</th>\n",
       "    </tr>\n",
       "  </thead>\n",
       "  <tbody>\n",
       "    <tr>\n",
       "      <th>0</th>\n",
       "      <td>1.0</td>\n",
       "      <td>42.0</td>\n",
       "      <td>высшее</td>\n",
       "      <td>0</td>\n",
       "      <td>женат / замужем</td>\n",
       "      <td>0</td>\n",
       "      <td>F</td>\n",
       "      <td>сотрудник</td>\n",
       "      <td>0</td>\n",
       "      <td>253875</td>\n",
       "      <td>покупка жилья</td>\n",
       "      <td>23</td>\n",
       "      <td>операции с недвижимостью</td>\n",
       "      <td>Высокий уровень дохода (В)</td>\n",
       "    </tr>\n",
       "    <tr>\n",
       "      <th>1</th>\n",
       "      <td>1.0</td>\n",
       "      <td>36.0</td>\n",
       "      <td>среднее</td>\n",
       "      <td>1</td>\n",
       "      <td>женат / замужем</td>\n",
       "      <td>0</td>\n",
       "      <td>F</td>\n",
       "      <td>сотрудник</td>\n",
       "      <td>0</td>\n",
       "      <td>112080</td>\n",
       "      <td>приобретение автомобиля</td>\n",
       "      <td>11</td>\n",
       "      <td>операции с автомобилем</td>\n",
       "      <td>Выше среднего уровень дохода (C)</td>\n",
       "    </tr>\n",
       "    <tr>\n",
       "      <th>2</th>\n",
       "      <td>0.0</td>\n",
       "      <td>33.0</td>\n",
       "      <td>среднее</td>\n",
       "      <td>1</td>\n",
       "      <td>женат / замужем</td>\n",
       "      <td>0</td>\n",
       "      <td>M</td>\n",
       "      <td>сотрудник</td>\n",
       "      <td>0</td>\n",
       "      <td>145885</td>\n",
       "      <td>покупка жилья</td>\n",
       "      <td>15</td>\n",
       "      <td>операции с недвижимостью</td>\n",
       "      <td>Выше среднего уровень дохода (C)</td>\n",
       "    </tr>\n",
       "    <tr>\n",
       "      <th>3</th>\n",
       "      <td>3.0</td>\n",
       "      <td>32.0</td>\n",
       "      <td>среднее</td>\n",
       "      <td>1</td>\n",
       "      <td>женат / замужем</td>\n",
       "      <td>0</td>\n",
       "      <td>M</td>\n",
       "      <td>сотрудник</td>\n",
       "      <td>0</td>\n",
       "      <td>267628</td>\n",
       "      <td>дополнительное образование</td>\n",
       "      <td>11</td>\n",
       "      <td>получение образования</td>\n",
       "      <td>Высокий уровень дохода (В)</td>\n",
       "    </tr>\n",
       "    <tr>\n",
       "      <th>4</th>\n",
       "      <td>0.0</td>\n",
       "      <td>53.0</td>\n",
       "      <td>среднее</td>\n",
       "      <td>1</td>\n",
       "      <td>гражданский брак</td>\n",
       "      <td>1</td>\n",
       "      <td>F</td>\n",
       "      <td>пенсионер</td>\n",
       "      <td>0</td>\n",
       "      <td>158616</td>\n",
       "      <td>сыграть свадьбу</td>\n",
       "      <td>54</td>\n",
       "      <td>проведение свадьбы</td>\n",
       "      <td>Выше среднего уровень дохода (C)</td>\n",
       "    </tr>\n",
       "  </tbody>\n",
       "</table>\n",
       "</div>"
      ],
      "text/plain": [
       "   children  dob_years education  education_id     family_status  \\\n",
       "0       1.0       42.0    высшее             0   женат / замужем   \n",
       "1       1.0       36.0   среднее             1   женат / замужем   \n",
       "2       0.0       33.0   среднее             1   женат / замужем   \n",
       "3       3.0       32.0   среднее             1   женат / замужем   \n",
       "4       0.0       53.0   среднее             1  гражданский брак   \n",
       "\n",
       "   family_status_id gender income_type  debt  total_income  \\\n",
       "0                 0      F   сотрудник     0        253875   \n",
       "1                 0      F   сотрудник     0        112080   \n",
       "2                 0      M   сотрудник     0        145885   \n",
       "3                 0      M   сотрудник     0        267628   \n",
       "4                 1      F   пенсионер     0        158616   \n",
       "\n",
       "                      purpose  years_employed          purpose_category  \\\n",
       "0               покупка жилья              23  операции с недвижимостью   \n",
       "1     приобретение автомобиля              11    операции с автомобилем   \n",
       "2               покупка жилья              15  операции с недвижимостью   \n",
       "3  дополнительное образование              11     получение образования   \n",
       "4             сыграть свадьбу              54        проведение свадьбы   \n",
       "\n",
       "              total_income_category  \n",
       "0        Высокий уровень дохода (В)  \n",
       "1  Выше среднего уровень дохода (C)  \n",
       "2  Выше среднего уровень дохода (C)  \n",
       "3        Высокий уровень дохода (В)  \n",
       "4  Выше среднего уровень дохода (C)  "
      ]
     },
     "execution_count": 28,
     "metadata": {},
     "output_type": "execute_result"
    }
   ],
   "source": [
    "data['total_income_category'] = data['total_income'].apply(total_income_category)\n",
    "data.head()"
   ]
  },
  {
   "cell_type": "code",
   "execution_count": 29,
   "id": "0ebfaecc",
   "metadata": {},
   "outputs": [],
   "source": [
    "income_pivot = data.groupby('total_income_category')['debt'].sum() / \\\n",
    "data.groupby('total_income_category')['debt'].count() * 100"
   ]
  },
  {
   "cell_type": "code",
   "execution_count": 30,
   "id": "1ff71633",
   "metadata": {},
   "outputs": [
    {
     "data": {
      "text/plain": [
       "total_income_category\n",
       "Средний уровень дохода (D)          6.000000\n",
       "Высокий уровень дохода (В)          7.062091\n",
       "Сверхвысокий уровень дохода (А)     8.000000\n",
       "Выше среднего уровень дохода (C)    8.482505\n",
       "Низкий уровень дохода (E)           9.090909\n",
       "Name: debt, dtype: float64"
      ]
     },
     "execution_count": 30,
     "metadata": {},
     "output_type": "execute_result"
    }
   ],
   "source": [
    "income_pivot.sort_values()"
   ]
  },
  {
   "cell_type": "markdown",
   "id": "8e6dc60c",
   "metadata": {},
   "source": [
    "На основании данных результатов можно сделать вывод, что уровень дохода влияет на возврат кредита в срок. По таблице можно сказать, что самыми надёжными с точки зрения возврата кредита является люди со средним и высоким уровнем дохода. Самыми ненадёжными являются люди с низкими доходами. Однако удивителен факт наличия людей категории А и С среди возможных должников по кредиту. Если людей категории А можно объяснить большим колличеством операций с покупками и кредитами, и человек может забывать оплачивать кредит вовремя, то появление категории С объяснить сложно."
   ]
  },
  {
   "cell_type": "markdown",
   "id": "8a84241d",
   "metadata": {},
   "source": [
    "### 4) Как разные цели кредита влияют на его возврат в срок?"
   ]
  },
  {
   "cell_type": "code",
   "execution_count": 31,
   "id": "262032e2",
   "metadata": {},
   "outputs": [
    {
     "data": {
      "text/html": [
       "<div>\n",
       "<style scoped>\n",
       "    .dataframe tbody tr th:only-of-type {\n",
       "        vertical-align: middle;\n",
       "    }\n",
       "\n",
       "    .dataframe tbody tr th {\n",
       "        vertical-align: top;\n",
       "    }\n",
       "\n",
       "    .dataframe thead th {\n",
       "        text-align: right;\n",
       "    }\n",
       "</style>\n",
       "<table border=\"1\" class=\"dataframe\">\n",
       "  <thead>\n",
       "    <tr style=\"text-align: right;\">\n",
       "      <th>debt</th>\n",
       "      <th>0</th>\n",
       "      <th>1</th>\n",
       "      <th>influence</th>\n",
       "    </tr>\n",
       "    <tr>\n",
       "      <th>purpose_category</th>\n",
       "      <th></th>\n",
       "      <th></th>\n",
       "      <th></th>\n",
       "    </tr>\n",
       "  </thead>\n",
       "  <tbody>\n",
       "    <tr>\n",
       "      <th>операции с автомобилем</th>\n",
       "      <td>3905</td>\n",
       "      <td>403</td>\n",
       "      <td>0.093547</td>\n",
       "    </tr>\n",
       "    <tr>\n",
       "      <th>операции с недвижимостью</th>\n",
       "      <td>10032</td>\n",
       "      <td>782</td>\n",
       "      <td>0.072314</td>\n",
       "    </tr>\n",
       "    <tr>\n",
       "      <th>получение образования</th>\n",
       "      <td>3644</td>\n",
       "      <td>370</td>\n",
       "      <td>0.092177</td>\n",
       "    </tr>\n",
       "    <tr>\n",
       "      <th>проведение свадьбы</th>\n",
       "      <td>2149</td>\n",
       "      <td>186</td>\n",
       "      <td>0.079657</td>\n",
       "    </tr>\n",
       "  </tbody>\n",
       "</table>\n",
       "</div>"
      ],
      "text/plain": [
       "debt                          0    1  influence\n",
       "purpose_category                               \n",
       "операции с автомобилем     3905  403   0.093547\n",
       "операции с недвижимостью  10032  782   0.072314\n",
       "получение образования      3644  370   0.092177\n",
       "проведение свадьбы         2149  186   0.079657"
      ]
     },
     "execution_count": 31,
     "metadata": {},
     "output_type": "execute_result"
    }
   ],
   "source": [
    "purpose_pivot = data.pivot_table(index=['purpose_category'], columns=['debt'], values='education_id', aggfunc='count')\n",
    "purpose_pivot['influence'] = purpose_pivot[1] / (purpose_pivot[0] + purpose_pivot[1])\n",
    "purpose_pivot"
   ]
  },
  {
   "cell_type": "markdown",
   "id": "d9260d13",
   "metadata": {},
   "source": [
    "По результатам исследования ненадёжными людьми будут люди получающие образование или покупающие авто. Это можно объяснить молодым возрастом данной группы лиц, когда они ещё не \"встали на ноги\". Операции с недвижимостью проходят у людей, уже имеющие стабильный доход, и предположительно зачастую семью, что делает их наиболее ответственной категорией людей. Однако кредит на свадьбу показывает ниже ожиданий результаты. Ибо данное мероприятие не относится никак к инвестициям в будущее, а является грубо говоря \"проеданием\" средств."
   ]
  },
  {
   "cell_type": "markdown",
   "id": "1d7e73c1",
   "metadata": {},
   "source": [
    "## Шаг 4. Общий вывод и рекомендации"
   ]
  },
  {
   "cell_type": "markdown",
   "id": "fe3da5c7",
   "metadata": {},
   "source": [
    "### Общие выводы"
   ]
  },
  {
   "cell_type": "markdown",
   "id": "76604de8",
   "metadata": {},
   "source": [
    "На основании исследования получилось подтвердить все выдвинутые гипотезы: \n",
    "\n",
    "**1) Зависимость между количеством детей и возвратом кредита в срок**  \n",
    "Данные не однозначные, возможно, нужна большая выборка, чем та, которую мы имеем. Бездетные, как правило реже просрачивают оплату по кредиту, чем люди с детьми.\n",
    "\n",
    "**2) Зависимость между семейным положением и возвратом кредита в срок**  \n",
    "Зависимость есть, люди вне брака или в пребывающие в гражданском браке чаще не платят кредит вовремя.\n",
    "\n",
    "**3) Зависимость между уровнем дохода и возвратом кредита в срок**  \n",
    "Зависимость есть, наиболее надёжными являются люди среднего достатка, а вот люди низкого достатка являются ненадёжными.\n",
    "\n",
    "**4) Влияют ли цели кредита на его возврат в срок**  \n",
    "Зависимость есть, наиболее надёжными будут люди которые берут кредит на недвижимость и свадьбу, менее для покупки авто или образования.\n"
   ]
  },
  {
   "cell_type": "markdown",
   "id": "80d7e615",
   "metadata": {},
   "source": [
    "### Рекомендации"
   ]
  },
  {
   "cell_type": "markdown",
   "id": "eddd1e74",
   "metadata": {},
   "source": [
    "Самыми надёжными с точки зрения данных будут люди пребывающие или пребывавшие в браке, без детей, либо с 3 детьми, обладающими средним достатком и целью кредита которых является покупка недвижимости.\n",
    "Из ненадёжным заёмщиком будет человек вне брака, с детьми, обладающим низким достатком, целью кредита которого является покупка авто. Зачастую это будут молодые люди.\n",
    "\n",
    "**Рекомендации для банка**  \n",
    "- При получении данных спрашивать рабочий стаж в годах, а не днях; \n",
    "- Не отправлять данные с заведомо аномальными или ошибочными данными, которые сильно влияют на статистику(доходы, количество детей).\n"
   ]
  }
 ],
 "metadata": {
  "ExecuteTimeLog": [
   {
    "duration": 492,
    "start_time": "2022-03-17T07:36:27.495Z"
   },
   {
    "duration": 73,
    "start_time": "2022-03-17T07:36:27.990Z"
   },
   {
    "duration": 35,
    "start_time": "2022-03-17T07:36:28.065Z"
   },
   {
    "duration": 21,
    "start_time": "2022-03-17T07:37:13.593Z"
   },
   {
    "duration": 23,
    "start_time": "2022-03-17T07:39:18.855Z"
   },
   {
    "duration": 21,
    "start_time": "2022-03-17T07:48:37.438Z"
   },
   {
    "duration": 22,
    "start_time": "2022-03-17T07:49:23.325Z"
   },
   {
    "duration": 39,
    "start_time": "2022-03-17T07:49:29.669Z"
   },
   {
    "duration": 30,
    "start_time": "2022-03-17T07:49:36.485Z"
   },
   {
    "duration": 35,
    "start_time": "2022-03-17T07:49:47.798Z"
   },
   {
    "duration": 20,
    "start_time": "2022-03-17T07:50:31.743Z"
   },
   {
    "duration": 33,
    "start_time": "2022-03-17T07:50:58.261Z"
   },
   {
    "duration": 19,
    "start_time": "2022-03-17T07:51:39.631Z"
   },
   {
    "duration": 27,
    "start_time": "2022-03-17T07:54:18.189Z"
   },
   {
    "duration": 23,
    "start_time": "2022-03-17T07:57:20.366Z"
   },
   {
    "duration": 22,
    "start_time": "2022-03-17T07:57:30.797Z"
   },
   {
    "duration": 99,
    "start_time": "2022-03-17T08:24:13.867Z"
   },
   {
    "duration": 16,
    "start_time": "2022-03-17T08:24:17.922Z"
   },
   {
    "duration": 28,
    "start_time": "2022-03-17T08:41:13.176Z"
   },
   {
    "duration": 26,
    "start_time": "2022-03-17T08:42:09.831Z"
   },
   {
    "duration": 535,
    "start_time": "2022-03-17T08:42:15.153Z"
   },
   {
    "duration": 83,
    "start_time": "2022-03-17T08:42:15.691Z"
   },
   {
    "duration": 33,
    "start_time": "2022-03-17T08:42:15.776Z"
   },
   {
    "duration": 21,
    "start_time": "2022-03-17T08:42:15.811Z"
   },
   {
    "duration": 39,
    "start_time": "2022-03-17T08:42:15.835Z"
   },
   {
    "duration": 29,
    "start_time": "2022-03-17T08:42:15.877Z"
   },
   {
    "duration": 30,
    "start_time": "2022-03-17T08:42:15.909Z"
   },
   {
    "duration": 56,
    "start_time": "2022-03-17T08:42:15.942Z"
   },
   {
    "duration": 19,
    "start_time": "2022-03-17T08:43:49.475Z"
   },
   {
    "duration": 20,
    "start_time": "2022-03-17T08:43:59.634Z"
   },
   {
    "duration": 21,
    "start_time": "2022-03-17T08:44:50.801Z"
   },
   {
    "duration": 20,
    "start_time": "2022-03-17T08:45:44.475Z"
   },
   {
    "duration": 20,
    "start_time": "2022-03-17T08:46:23.249Z"
   },
   {
    "duration": 19,
    "start_time": "2022-03-17T08:46:47.697Z"
   },
   {
    "duration": 19,
    "start_time": "2022-03-17T08:46:59.779Z"
   },
   {
    "duration": 11,
    "start_time": "2022-03-17T08:52:21.536Z"
   },
   {
    "duration": 549,
    "start_time": "2022-03-17T08:52:57.973Z"
   },
   {
    "duration": 87,
    "start_time": "2022-03-17T08:52:58.525Z"
   },
   {
    "duration": 35,
    "start_time": "2022-03-17T08:52:58.614Z"
   },
   {
    "duration": 35,
    "start_time": "2022-03-17T08:52:58.651Z"
   },
   {
    "duration": 16,
    "start_time": "2022-03-17T08:52:58.689Z"
   },
   {
    "duration": 28,
    "start_time": "2022-03-17T08:52:58.707Z"
   },
   {
    "duration": 63,
    "start_time": "2022-03-17T08:52:58.738Z"
   },
   {
    "duration": 29,
    "start_time": "2022-03-17T08:52:58.804Z"
   },
   {
    "duration": 46,
    "start_time": "2022-03-17T08:52:58.836Z"
   },
   {
    "duration": 91,
    "start_time": "2022-03-17T09:03:40.238Z"
   },
   {
    "duration": 480,
    "start_time": "2022-03-17T09:03:47.310Z"
   },
   {
    "duration": 81,
    "start_time": "2022-03-17T09:03:47.793Z"
   },
   {
    "duration": 34,
    "start_time": "2022-03-17T09:03:47.877Z"
   },
   {
    "duration": 21,
    "start_time": "2022-03-17T09:03:47.914Z"
   },
   {
    "duration": 42,
    "start_time": "2022-03-17T09:03:47.937Z"
   },
   {
    "duration": 28,
    "start_time": "2022-03-17T09:03:47.981Z"
   },
   {
    "duration": 30,
    "start_time": "2022-03-17T09:03:48.011Z"
   },
   {
    "duration": 52,
    "start_time": "2022-03-17T09:03:48.043Z"
   },
   {
    "duration": 19,
    "start_time": "2022-03-17T09:03:48.097Z"
   },
   {
    "duration": 119,
    "start_time": "2022-03-17T09:03:48.119Z"
   },
   {
    "duration": 5,
    "start_time": "2022-03-17T09:04:04.678Z"
   },
   {
    "duration": 22,
    "start_time": "2022-03-17T09:04:19.261Z"
   },
   {
    "duration": 678,
    "start_time": "2022-03-17T09:05:27.529Z"
   },
   {
    "duration": 114,
    "start_time": "2022-03-17T09:05:28.210Z"
   },
   {
    "duration": 53,
    "start_time": "2022-03-17T09:05:28.326Z"
   },
   {
    "duration": 31,
    "start_time": "2022-03-17T09:05:28.382Z"
   },
   {
    "duration": 20,
    "start_time": "2022-03-17T09:05:28.415Z"
   },
   {
    "duration": 58,
    "start_time": "2022-03-17T09:05:28.437Z"
   },
   {
    "duration": 51,
    "start_time": "2022-03-17T09:05:28.497Z"
   },
   {
    "duration": 43,
    "start_time": "2022-03-17T09:05:28.550Z"
   },
   {
    "duration": 21,
    "start_time": "2022-03-17T09:05:28.597Z"
   },
   {
    "duration": 629,
    "start_time": "2022-03-17T09:06:18.184Z"
   },
   {
    "duration": 79,
    "start_time": "2022-03-17T09:06:18.817Z"
   },
   {
    "duration": 34,
    "start_time": "2022-03-17T09:06:18.899Z"
   },
   {
    "duration": 43,
    "start_time": "2022-03-17T09:06:18.935Z"
   },
   {
    "duration": 15,
    "start_time": "2022-03-17T09:06:18.982Z"
   },
   {
    "duration": 27,
    "start_time": "2022-03-17T09:06:19.000Z"
   },
   {
    "duration": 87,
    "start_time": "2022-03-17T09:06:19.029Z"
   },
   {
    "duration": 20,
    "start_time": "2022-03-17T09:06:19.118Z"
   },
   {
    "duration": 46,
    "start_time": "2022-03-17T09:06:19.141Z"
   },
   {
    "duration": 105,
    "start_time": "2022-03-17T09:08:06.809Z"
   },
   {
    "duration": 25,
    "start_time": "2022-03-17T09:10:32.829Z"
   },
   {
    "duration": 34,
    "start_time": "2022-03-17T09:10:41.684Z"
   },
   {
    "duration": 0,
    "start_time": "2022-03-17T09:12:23.959Z"
   },
   {
    "duration": 0,
    "start_time": "2022-03-17T09:12:23.960Z"
   },
   {
    "duration": 0,
    "start_time": "2022-03-17T09:12:23.962Z"
   },
   {
    "duration": 0,
    "start_time": "2022-03-17T09:12:23.963Z"
   },
   {
    "duration": 0,
    "start_time": "2022-03-17T09:12:23.964Z"
   },
   {
    "duration": 0,
    "start_time": "2022-03-17T09:12:23.973Z"
   },
   {
    "duration": 0,
    "start_time": "2022-03-17T09:12:23.975Z"
   },
   {
    "duration": 0,
    "start_time": "2022-03-17T09:12:23.976Z"
   },
   {
    "duration": 0,
    "start_time": "2022-03-17T09:12:23.979Z"
   },
   {
    "duration": 0,
    "start_time": "2022-03-17T09:12:23.982Z"
   },
   {
    "duration": 580,
    "start_time": "2022-03-17T09:12:35.473Z"
   },
   {
    "duration": 91,
    "start_time": "2022-03-17T09:12:36.056Z"
   },
   {
    "duration": 48,
    "start_time": "2022-03-17T09:12:36.149Z"
   },
   {
    "duration": 28,
    "start_time": "2022-03-17T09:12:36.199Z"
   },
   {
    "duration": 13,
    "start_time": "2022-03-17T09:12:36.230Z"
   },
   {
    "duration": 61,
    "start_time": "2022-03-17T09:12:36.245Z"
   },
   {
    "duration": 76,
    "start_time": "2022-03-17T09:12:36.309Z"
   },
   {
    "duration": 20,
    "start_time": "2022-03-17T09:12:36.388Z"
   },
   {
    "duration": 20,
    "start_time": "2022-03-17T09:12:36.410Z"
   },
   {
    "duration": 126,
    "start_time": "2022-03-17T09:12:36.432Z"
   },
   {
    "duration": 19,
    "start_time": "2022-03-17T09:12:48.006Z"
   },
   {
    "duration": 18,
    "start_time": "2022-03-17T09:14:07.799Z"
   },
   {
    "duration": 19,
    "start_time": "2022-03-17T09:15:44.282Z"
   },
   {
    "duration": 17,
    "start_time": "2022-03-17T09:15:47.372Z"
   },
   {
    "duration": 539,
    "start_time": "2022-03-17T09:17:55.274Z"
   },
   {
    "duration": 81,
    "start_time": "2022-03-17T09:17:55.816Z"
   },
   {
    "duration": 32,
    "start_time": "2022-03-17T09:17:55.899Z"
   },
   {
    "duration": 44,
    "start_time": "2022-03-17T09:17:55.933Z"
   },
   {
    "duration": 16,
    "start_time": "2022-03-17T09:17:55.980Z"
   },
   {
    "duration": 47,
    "start_time": "2022-03-17T09:17:55.998Z"
   },
   {
    "duration": 78,
    "start_time": "2022-03-17T09:17:56.048Z"
   },
   {
    "duration": 45,
    "start_time": "2022-03-17T09:17:56.128Z"
   },
   {
    "duration": 29,
    "start_time": "2022-03-17T09:17:56.177Z"
   },
   {
    "duration": 103,
    "start_time": "2022-03-17T09:17:56.209Z"
   },
   {
    "duration": 546,
    "start_time": "2022-03-17T09:17:59.478Z"
   },
   {
    "duration": 87,
    "start_time": "2022-03-17T09:18:00.027Z"
   },
   {
    "duration": 35,
    "start_time": "2022-03-17T09:18:00.116Z"
   },
   {
    "duration": 41,
    "start_time": "2022-03-17T09:18:00.153Z"
   },
   {
    "duration": 47,
    "start_time": "2022-03-17T09:18:00.197Z"
   },
   {
    "duration": 53,
    "start_time": "2022-03-17T09:18:00.247Z"
   },
   {
    "duration": 90,
    "start_time": "2022-03-17T09:18:00.302Z"
   },
   {
    "duration": 29,
    "start_time": "2022-03-17T09:18:00.395Z"
   },
   {
    "duration": 48,
    "start_time": "2022-03-17T09:18:00.427Z"
   },
   {
    "duration": 132,
    "start_time": "2022-03-17T09:18:00.478Z"
   },
   {
    "duration": 26,
    "start_time": "2022-03-17T09:18:27.633Z"
   },
   {
    "duration": 717,
    "start_time": "2022-03-17T09:19:01.823Z"
   },
   {
    "duration": 82,
    "start_time": "2022-03-17T09:19:02.545Z"
   },
   {
    "duration": 45,
    "start_time": "2022-03-17T09:19:02.630Z"
   },
   {
    "duration": 22,
    "start_time": "2022-03-17T09:19:02.678Z"
   },
   {
    "duration": 14,
    "start_time": "2022-03-17T09:19:02.703Z"
   },
   {
    "duration": 65,
    "start_time": "2022-03-17T09:19:02.719Z"
   },
   {
    "duration": 86,
    "start_time": "2022-03-17T09:19:02.787Z"
   },
   {
    "duration": 31,
    "start_time": "2022-03-17T09:19:02.876Z"
   },
   {
    "duration": 31,
    "start_time": "2022-03-17T09:19:02.909Z"
   },
   {
    "duration": 5,
    "start_time": "2022-03-17T09:19:02.943Z"
   },
   {
    "duration": 105,
    "start_time": "2022-03-17T09:22:09.213Z"
   },
   {
    "duration": 31,
    "start_time": "2022-03-17T09:23:10.141Z"
   },
   {
    "duration": 55,
    "start_time": "2022-03-17T09:23:23.677Z"
   },
   {
    "duration": 29,
    "start_time": "2022-03-17T09:25:09.064Z"
   },
   {
    "duration": 30,
    "start_time": "2022-03-17T09:25:15.196Z"
   },
   {
    "duration": 598,
    "start_time": "2022-03-17T09:27:18.388Z"
   },
   {
    "duration": 80,
    "start_time": "2022-03-17T09:27:18.989Z"
   },
   {
    "duration": 34,
    "start_time": "2022-03-17T09:27:19.071Z"
   },
   {
    "duration": 23,
    "start_time": "2022-03-17T09:27:19.108Z"
   },
   {
    "duration": 42,
    "start_time": "2022-03-17T09:27:19.134Z"
   },
   {
    "duration": 26,
    "start_time": "2022-03-17T09:27:19.179Z"
   },
   {
    "duration": 86,
    "start_time": "2022-03-17T09:27:19.209Z"
   },
   {
    "duration": 20,
    "start_time": "2022-03-17T09:27:19.297Z"
   },
   {
    "duration": 21,
    "start_time": "2022-03-17T09:27:19.320Z"
   },
   {
    "duration": 49,
    "start_time": "2022-03-17T09:27:19.344Z"
   },
   {
    "duration": 568,
    "start_time": "2022-03-17T09:54:07.274Z"
   },
   {
    "duration": 88,
    "start_time": "2022-03-17T09:54:07.845Z"
   },
   {
    "duration": 33,
    "start_time": "2022-03-17T09:54:07.935Z"
   },
   {
    "duration": 26,
    "start_time": "2022-03-17T09:54:07.986Z"
   },
   {
    "duration": 14,
    "start_time": "2022-03-17T09:54:08.016Z"
   },
   {
    "duration": 65,
    "start_time": "2022-03-17T09:54:08.032Z"
   },
   {
    "duration": 54,
    "start_time": "2022-03-17T09:54:08.099Z"
   },
   {
    "duration": 47,
    "start_time": "2022-03-17T09:54:08.155Z"
   },
   {
    "duration": 121,
    "start_time": "2022-03-17T09:54:08.204Z"
   },
   {
    "duration": 0,
    "start_time": "2022-03-17T09:54:08.327Z"
   },
   {
    "duration": 0,
    "start_time": "2022-03-17T09:54:08.328Z"
   },
   {
    "duration": 48,
    "start_time": "2022-03-17T09:54:24.465Z"
   },
   {
    "duration": 584,
    "start_time": "2022-03-17T09:54:41.020Z"
   },
   {
    "duration": 82,
    "start_time": "2022-03-17T09:54:41.607Z"
   },
   {
    "duration": 34,
    "start_time": "2022-03-17T09:54:41.693Z"
   },
   {
    "duration": 22,
    "start_time": "2022-03-17T09:54:41.729Z"
   },
   {
    "duration": 44,
    "start_time": "2022-03-17T09:54:41.753Z"
   },
   {
    "duration": 30,
    "start_time": "2022-03-17T09:54:41.800Z"
   },
   {
    "duration": 81,
    "start_time": "2022-03-17T09:54:41.832Z"
   },
   {
    "duration": 20,
    "start_time": "2022-03-17T09:54:41.916Z"
   },
   {
    "duration": 75,
    "start_time": "2022-03-17T09:54:41.938Z"
   },
   {
    "duration": 21,
    "start_time": "2022-03-17T09:54:42.015Z"
   },
   {
    "duration": 27,
    "start_time": "2022-03-17T09:54:42.038Z"
   },
   {
    "duration": 515,
    "start_time": "2022-03-17T09:56:11.492Z"
   },
   {
    "duration": 82,
    "start_time": "2022-03-17T09:56:12.010Z"
   },
   {
    "duration": 41,
    "start_time": "2022-03-17T09:56:12.094Z"
   },
   {
    "duration": 21,
    "start_time": "2022-03-17T09:56:12.137Z"
   },
   {
    "duration": 33,
    "start_time": "2022-03-17T09:56:12.162Z"
   },
   {
    "duration": 49,
    "start_time": "2022-03-17T09:56:12.197Z"
   },
   {
    "duration": 53,
    "start_time": "2022-03-17T09:56:12.248Z"
   },
   {
    "duration": 21,
    "start_time": "2022-03-17T09:56:12.303Z"
   },
   {
    "duration": 63,
    "start_time": "2022-03-17T09:56:12.326Z"
   },
   {
    "duration": 19,
    "start_time": "2022-03-17T09:56:12.391Z"
   },
   {
    "duration": 36,
    "start_time": "2022-03-17T09:56:12.412Z"
   },
   {
    "duration": 508,
    "start_time": "2022-03-17T09:57:05.997Z"
   },
   {
    "duration": 83,
    "start_time": "2022-03-17T09:57:06.508Z"
   },
   {
    "duration": 34,
    "start_time": "2022-03-17T09:57:06.593Z"
   },
   {
    "duration": 22,
    "start_time": "2022-03-17T09:57:06.630Z"
   },
   {
    "duration": 39,
    "start_time": "2022-03-17T09:57:06.654Z"
   },
   {
    "duration": 29,
    "start_time": "2022-03-17T09:57:06.695Z"
   },
   {
    "duration": 82,
    "start_time": "2022-03-17T09:57:06.727Z"
   },
   {
    "duration": 20,
    "start_time": "2022-03-17T09:57:06.812Z"
   },
   {
    "duration": 59,
    "start_time": "2022-03-17T09:57:06.835Z"
   },
   {
    "duration": 20,
    "start_time": "2022-03-17T09:57:06.897Z"
   },
   {
    "duration": 28,
    "start_time": "2022-03-17T09:57:06.920Z"
   },
   {
    "duration": 550,
    "start_time": "2022-03-17T09:57:46.543Z"
   },
   {
    "duration": 78,
    "start_time": "2022-03-17T09:57:47.097Z"
   },
   {
    "duration": 38,
    "start_time": "2022-03-17T09:57:47.183Z"
   },
   {
    "duration": 22,
    "start_time": "2022-03-17T09:57:47.223Z"
   },
   {
    "duration": 42,
    "start_time": "2022-03-17T09:57:47.248Z"
   },
   {
    "duration": 45,
    "start_time": "2022-03-17T09:57:47.292Z"
   },
   {
    "duration": 56,
    "start_time": "2022-03-17T09:57:47.339Z"
   },
   {
    "duration": 21,
    "start_time": "2022-03-17T09:57:47.397Z"
   },
   {
    "duration": 68,
    "start_time": "2022-03-17T09:57:47.420Z"
   },
   {
    "duration": 28,
    "start_time": "2022-03-17T09:57:47.491Z"
   },
   {
    "duration": 38,
    "start_time": "2022-03-17T09:57:47.521Z"
   },
   {
    "duration": 494,
    "start_time": "2022-03-17T09:58:35.500Z"
   },
   {
    "duration": 76,
    "start_time": "2022-03-17T09:58:35.996Z"
   },
   {
    "duration": 37,
    "start_time": "2022-03-17T09:58:36.074Z"
   },
   {
    "duration": 22,
    "start_time": "2022-03-17T09:58:36.114Z"
   },
   {
    "duration": 14,
    "start_time": "2022-03-17T09:58:36.138Z"
   },
   {
    "duration": 26,
    "start_time": "2022-03-17T09:58:36.185Z"
   },
   {
    "duration": 72,
    "start_time": "2022-03-17T09:58:36.213Z"
   },
   {
    "duration": 20,
    "start_time": "2022-03-17T09:58:36.287Z"
   },
   {
    "duration": 39,
    "start_time": "2022-03-17T09:58:36.309Z"
   },
   {
    "duration": 44,
    "start_time": "2022-03-17T09:58:36.351Z"
   },
   {
    "duration": 25,
    "start_time": "2022-03-17T09:58:36.397Z"
   },
   {
    "duration": 98,
    "start_time": "2022-03-17T09:59:45.587Z"
   },
   {
    "duration": 525,
    "start_time": "2022-03-17T09:59:49.673Z"
   },
   {
    "duration": 77,
    "start_time": "2022-03-17T09:59:50.201Z"
   },
   {
    "duration": 34,
    "start_time": "2022-03-17T09:59:50.283Z"
   },
   {
    "duration": 22,
    "start_time": "2022-03-17T09:59:50.320Z"
   },
   {
    "duration": 42,
    "start_time": "2022-03-17T09:59:50.344Z"
   },
   {
    "duration": 104,
    "start_time": "2022-03-17T09:59:50.388Z"
   },
   {
    "duration": 0,
    "start_time": "2022-03-17T09:59:50.495Z"
   },
   {
    "duration": 0,
    "start_time": "2022-03-17T09:59:50.496Z"
   },
   {
    "duration": 0,
    "start_time": "2022-03-17T09:59:50.498Z"
   },
   {
    "duration": 0,
    "start_time": "2022-03-17T09:59:50.499Z"
   },
   {
    "duration": 0,
    "start_time": "2022-03-17T09:59:50.501Z"
   },
   {
    "duration": 0,
    "start_time": "2022-03-17T09:59:50.503Z"
   },
   {
    "duration": 21,
    "start_time": "2022-03-17T10:00:07.649Z"
   },
   {
    "duration": 535,
    "start_time": "2022-03-17T10:00:15.555Z"
   },
   {
    "duration": 76,
    "start_time": "2022-03-17T10:00:16.093Z"
   },
   {
    "duration": 42,
    "start_time": "2022-03-17T10:00:16.171Z"
   },
   {
    "duration": 21,
    "start_time": "2022-03-17T10:00:16.216Z"
   },
   {
    "duration": 47,
    "start_time": "2022-03-17T10:00:16.241Z"
   },
   {
    "duration": 22,
    "start_time": "2022-03-17T10:00:16.291Z"
   },
   {
    "duration": 27,
    "start_time": "2022-03-17T10:00:16.315Z"
   },
   {
    "duration": 79,
    "start_time": "2022-03-17T10:00:16.345Z"
   },
   {
    "duration": 20,
    "start_time": "2022-03-17T10:00:16.427Z"
   },
   {
    "duration": 64,
    "start_time": "2022-03-17T10:00:16.449Z"
   },
   {
    "duration": 19,
    "start_time": "2022-03-17T10:00:16.516Z"
   },
   {
    "duration": 53,
    "start_time": "2022-03-17T10:00:16.537Z"
   },
   {
    "duration": 26,
    "start_time": "2022-03-17T10:03:16.380Z"
   },
   {
    "duration": 19,
    "start_time": "2022-03-17T10:03:47.301Z"
   },
   {
    "duration": 485,
    "start_time": "2022-03-17T10:03:54.298Z"
   },
   {
    "duration": 75,
    "start_time": "2022-03-17T10:03:54.786Z"
   },
   {
    "duration": 36,
    "start_time": "2022-03-17T10:03:54.863Z"
   },
   {
    "duration": 22,
    "start_time": "2022-03-17T10:03:54.902Z"
   },
   {
    "duration": 17,
    "start_time": "2022-03-17T10:03:54.927Z"
   },
   {
    "duration": 52,
    "start_time": "2022-03-17T10:03:54.946Z"
   },
   {
    "duration": 28,
    "start_time": "2022-03-17T10:03:55.001Z"
   },
   {
    "duration": 81,
    "start_time": "2022-03-17T10:03:55.031Z"
   },
   {
    "duration": 22,
    "start_time": "2022-03-17T10:03:55.114Z"
   },
   {
    "duration": 60,
    "start_time": "2022-03-17T10:03:55.140Z"
   },
   {
    "duration": 27,
    "start_time": "2022-03-17T10:03:55.202Z"
   },
   {
    "duration": 40,
    "start_time": "2022-03-17T10:03:55.232Z"
   },
   {
    "duration": 24,
    "start_time": "2022-03-17T10:03:55.275Z"
   },
   {
    "duration": 567,
    "start_time": "2022-03-17T10:10:08.462Z"
   },
   {
    "duration": 88,
    "start_time": "2022-03-17T10:10:09.032Z"
   },
   {
    "duration": 32,
    "start_time": "2022-03-17T10:10:09.123Z"
   },
   {
    "duration": 47,
    "start_time": "2022-03-17T10:10:09.158Z"
   },
   {
    "duration": 24,
    "start_time": "2022-03-17T10:10:09.208Z"
   },
   {
    "duration": 22,
    "start_time": "2022-03-17T10:10:09.235Z"
   },
   {
    "duration": 44,
    "start_time": "2022-03-17T10:10:09.260Z"
   },
   {
    "duration": 81,
    "start_time": "2022-03-17T10:10:09.307Z"
   },
   {
    "duration": 23,
    "start_time": "2022-03-17T10:10:09.391Z"
   },
   {
    "duration": 66,
    "start_time": "2022-03-17T10:10:09.417Z"
   },
   {
    "duration": 22,
    "start_time": "2022-03-17T10:10:09.486Z"
   },
   {
    "duration": 29,
    "start_time": "2022-03-17T10:10:09.511Z"
   },
   {
    "duration": 55,
    "start_time": "2022-03-17T10:10:09.543Z"
   },
   {
    "duration": 13,
    "start_time": "2022-03-17T10:17:21.703Z"
   },
   {
    "duration": 17,
    "start_time": "2022-03-17T10:18:20.644Z"
   },
   {
    "duration": 14,
    "start_time": "2022-03-17T10:18:28.814Z"
   },
   {
    "duration": 780,
    "start_time": "2022-03-17T10:25:07.082Z"
   },
   {
    "duration": 508,
    "start_time": "2022-03-17T10:25:14.589Z"
   },
   {
    "duration": 76,
    "start_time": "2022-03-17T10:25:15.101Z"
   },
   {
    "duration": 32,
    "start_time": "2022-03-17T10:25:15.180Z"
   },
   {
    "duration": 22,
    "start_time": "2022-03-17T10:25:15.215Z"
   },
   {
    "duration": 45,
    "start_time": "2022-03-17T10:25:15.240Z"
   },
   {
    "duration": 20,
    "start_time": "2022-03-17T10:25:15.288Z"
   },
   {
    "duration": 29,
    "start_time": "2022-03-17T10:25:15.310Z"
   },
   {
    "duration": 81,
    "start_time": "2022-03-17T10:25:15.341Z"
   },
   {
    "duration": 21,
    "start_time": "2022-03-17T10:25:15.424Z"
   },
   {
    "duration": 62,
    "start_time": "2022-03-17T10:25:15.447Z"
   },
   {
    "duration": 21,
    "start_time": "2022-03-17T10:25:15.511Z"
   },
   {
    "duration": 52,
    "start_time": "2022-03-17T10:25:15.534Z"
   },
   {
    "duration": 20,
    "start_time": "2022-03-17T10:25:15.589Z"
   },
   {
    "duration": 13,
    "start_time": "2022-03-17T10:25:15.613Z"
   },
   {
    "duration": 8,
    "start_time": "2022-03-17T10:40:08.360Z"
   },
   {
    "duration": 492,
    "start_time": "2022-03-17T12:53:08.919Z"
   },
   {
    "duration": 81,
    "start_time": "2022-03-17T12:53:09.413Z"
   },
   {
    "duration": 35,
    "start_time": "2022-03-17T12:53:09.496Z"
   },
   {
    "duration": 25,
    "start_time": "2022-03-17T12:53:09.533Z"
   },
   {
    "duration": 34,
    "start_time": "2022-03-17T12:53:09.561Z"
   },
   {
    "duration": 21,
    "start_time": "2022-03-17T12:53:09.598Z"
   },
   {
    "duration": 62,
    "start_time": "2022-03-17T12:53:09.622Z"
   },
   {
    "duration": 54,
    "start_time": "2022-03-17T12:53:09.686Z"
   },
   {
    "duration": 8,
    "start_time": "2022-03-17T12:53:09.743Z"
   },
   {
    "duration": 68,
    "start_time": "2022-03-17T12:53:09.753Z"
   },
   {
    "duration": 19,
    "start_time": "2022-03-17T12:53:09.824Z"
   },
   {
    "duration": 59,
    "start_time": "2022-03-17T12:53:09.846Z"
   },
   {
    "duration": 21,
    "start_time": "2022-03-17T12:53:09.908Z"
   },
   {
    "duration": 23,
    "start_time": "2022-03-17T12:53:09.934Z"
   },
   {
    "duration": 10,
    "start_time": "2022-03-17T12:53:34.439Z"
   },
   {
    "duration": 21,
    "start_time": "2022-03-17T12:53:46.138Z"
   },
   {
    "duration": 510,
    "start_time": "2022-03-17T12:54:42.994Z"
   },
   {
    "duration": 88,
    "start_time": "2022-03-17T12:54:43.506Z"
   },
   {
    "duration": 35,
    "start_time": "2022-03-17T12:54:43.597Z"
   },
   {
    "duration": 49,
    "start_time": "2022-03-17T12:54:43.635Z"
   },
   {
    "duration": 14,
    "start_time": "2022-03-17T12:54:43.688Z"
   },
   {
    "duration": 28,
    "start_time": "2022-03-17T12:54:43.704Z"
   },
   {
    "duration": 55,
    "start_time": "2022-03-17T12:54:43.735Z"
   },
   {
    "duration": 53,
    "start_time": "2022-03-17T12:54:43.793Z"
   },
   {
    "duration": 35,
    "start_time": "2022-03-17T12:54:43.849Z"
   },
   {
    "duration": 45,
    "start_time": "2022-03-17T12:54:43.887Z"
   },
   {
    "duration": 49,
    "start_time": "2022-03-17T12:54:43.935Z"
   },
   {
    "duration": 26,
    "start_time": "2022-03-17T12:54:43.987Z"
   },
   {
    "duration": 22,
    "start_time": "2022-03-17T12:54:44.016Z"
   },
   {
    "duration": 53,
    "start_time": "2022-03-17T12:54:44.041Z"
   },
   {
    "duration": 22,
    "start_time": "2022-03-17T13:26:29.034Z"
   },
   {
    "duration": 535,
    "start_time": "2022-03-17T13:26:35.084Z"
   },
   {
    "duration": 83,
    "start_time": "2022-03-17T13:26:35.622Z"
   },
   {
    "duration": 36,
    "start_time": "2022-03-17T13:26:35.708Z"
   },
   {
    "duration": 38,
    "start_time": "2022-03-17T13:26:35.748Z"
   },
   {
    "duration": 23,
    "start_time": "2022-03-17T13:26:35.790Z"
   },
   {
    "duration": 36,
    "start_time": "2022-03-17T13:26:35.816Z"
   },
   {
    "duration": 50,
    "start_time": "2022-03-17T13:26:35.854Z"
   },
   {
    "duration": 51,
    "start_time": "2022-03-17T13:26:35.907Z"
   },
   {
    "duration": 10,
    "start_time": "2022-03-17T13:26:35.984Z"
   },
   {
    "duration": 47,
    "start_time": "2022-03-17T13:26:36.003Z"
   },
   {
    "duration": 45,
    "start_time": "2022-03-17T13:26:36.054Z"
   },
   {
    "duration": 37,
    "start_time": "2022-03-17T13:26:36.101Z"
   },
   {
    "duration": 59,
    "start_time": "2022-03-17T13:26:36.141Z"
   },
   {
    "duration": 17,
    "start_time": "2022-03-17T13:26:36.203Z"
   },
   {
    "duration": 24,
    "start_time": "2022-03-17T13:52:38.913Z"
   },
   {
    "duration": 0,
    "start_time": "2022-03-17T13:53:40.684Z"
   },
   {
    "duration": 548,
    "start_time": "2022-03-17T13:53:45.289Z"
   },
   {
    "duration": 81,
    "start_time": "2022-03-17T13:53:45.840Z"
   },
   {
    "duration": 33,
    "start_time": "2022-03-17T13:53:45.923Z"
   },
   {
    "duration": 38,
    "start_time": "2022-03-17T13:53:45.959Z"
   },
   {
    "duration": 16,
    "start_time": "2022-03-17T13:53:46.000Z"
   },
   {
    "duration": 25,
    "start_time": "2022-03-17T13:53:46.019Z"
   },
   {
    "duration": 65,
    "start_time": "2022-03-17T13:53:46.047Z"
   },
   {
    "duration": 82,
    "start_time": "2022-03-17T13:53:46.115Z"
   },
   {
    "duration": 8,
    "start_time": "2022-03-17T13:53:46.199Z"
   },
   {
    "duration": 42,
    "start_time": "2022-03-17T13:53:46.210Z"
   },
   {
    "duration": 53,
    "start_time": "2022-03-17T13:53:46.254Z"
   },
   {
    "duration": 27,
    "start_time": "2022-03-17T13:53:46.310Z"
   },
   {
    "duration": 62,
    "start_time": "2022-03-17T13:53:46.339Z"
   },
   {
    "duration": 2932,
    "start_time": "2022-03-17T13:53:46.406Z"
   },
   {
    "duration": 19,
    "start_time": "2022-03-17T13:53:57.591Z"
   },
   {
    "duration": 23,
    "start_time": "2022-03-17T13:54:07.822Z"
   },
   {
    "duration": 511,
    "start_time": "2022-03-17T18:50:08.019Z"
   },
   {
    "duration": 88,
    "start_time": "2022-03-17T18:50:08.532Z"
   },
   {
    "duration": 35,
    "start_time": "2022-03-17T18:50:08.622Z"
   },
   {
    "duration": 41,
    "start_time": "2022-03-17T18:50:08.661Z"
   },
   {
    "duration": 18,
    "start_time": "2022-03-17T18:50:08.705Z"
   },
   {
    "duration": 27,
    "start_time": "2022-03-17T18:50:08.725Z"
   },
   {
    "duration": 60,
    "start_time": "2022-03-17T18:50:08.755Z"
   },
   {
    "duration": 67,
    "start_time": "2022-03-17T18:50:08.818Z"
   },
   {
    "duration": 9,
    "start_time": "2022-03-17T18:50:08.888Z"
   },
   {
    "duration": 62,
    "start_time": "2022-03-17T18:50:08.901Z"
   },
   {
    "duration": 36,
    "start_time": "2022-03-17T18:50:08.965Z"
   },
   {
    "duration": 39,
    "start_time": "2022-03-17T18:50:09.003Z"
   },
   {
    "duration": 25,
    "start_time": "2022-03-17T18:50:09.044Z"
   },
   {
    "duration": 5,
    "start_time": "2022-03-17T18:50:09.084Z"
   },
   {
    "duration": 500,
    "start_time": "2022-03-17T18:54:44.421Z"
   },
   {
    "duration": 82,
    "start_time": "2022-03-17T18:54:44.924Z"
   },
   {
    "duration": 34,
    "start_time": "2022-03-17T18:54:45.009Z"
   },
   {
    "duration": 46,
    "start_time": "2022-03-17T18:54:45.046Z"
   },
   {
    "duration": 16,
    "start_time": "2022-03-17T18:54:45.095Z"
   },
   {
    "duration": 19,
    "start_time": "2022-03-17T18:54:45.114Z"
   },
   {
    "duration": 64,
    "start_time": "2022-03-17T18:54:45.136Z"
   },
   {
    "duration": 53,
    "start_time": "2022-03-17T18:54:45.203Z"
   },
   {
    "duration": 30,
    "start_time": "2022-03-17T18:54:45.258Z"
   },
   {
    "duration": 45,
    "start_time": "2022-03-17T18:54:45.293Z"
   },
   {
    "duration": 20,
    "start_time": "2022-03-17T18:54:45.340Z"
   },
   {
    "duration": 30,
    "start_time": "2022-03-17T18:54:45.385Z"
   },
   {
    "duration": 24,
    "start_time": "2022-03-17T18:54:45.418Z"
   },
   {
    "duration": 608,
    "start_time": "2022-03-17T18:55:34.727Z"
   },
   {
    "duration": 86,
    "start_time": "2022-03-17T18:55:35.338Z"
   },
   {
    "duration": 33,
    "start_time": "2022-03-17T18:55:35.426Z"
   },
   {
    "duration": 40,
    "start_time": "2022-03-17T18:55:35.461Z"
   },
   {
    "duration": 14,
    "start_time": "2022-03-17T18:55:35.505Z"
   },
   {
    "duration": 32,
    "start_time": "2022-03-17T18:55:35.522Z"
   },
   {
    "duration": 60,
    "start_time": "2022-03-17T18:55:35.556Z"
   },
   {
    "duration": 72,
    "start_time": "2022-03-17T18:55:35.618Z"
   },
   {
    "duration": 9,
    "start_time": "2022-03-17T18:55:35.692Z"
   },
   {
    "duration": 62,
    "start_time": "2022-03-17T18:55:35.703Z"
   },
   {
    "duration": 38,
    "start_time": "2022-03-17T18:55:35.768Z"
   },
   {
    "duration": 29,
    "start_time": "2022-03-17T18:55:35.809Z"
   },
   {
    "duration": 45,
    "start_time": "2022-03-17T18:55:35.840Z"
   },
   {
    "duration": 552,
    "start_time": "2022-03-17T19:04:30.150Z"
   },
   {
    "duration": 82,
    "start_time": "2022-03-17T19:04:30.705Z"
   },
   {
    "duration": 33,
    "start_time": "2022-03-17T19:04:30.789Z"
   },
   {
    "duration": 22,
    "start_time": "2022-03-17T19:04:30.824Z"
   },
   {
    "duration": 40,
    "start_time": "2022-03-17T19:04:30.850Z"
   },
   {
    "duration": 34,
    "start_time": "2022-03-17T19:04:30.892Z"
   },
   {
    "duration": 28,
    "start_time": "2022-03-17T19:04:30.929Z"
   },
   {
    "duration": 69,
    "start_time": "2022-03-17T19:04:30.959Z"
   },
   {
    "duration": 8,
    "start_time": "2022-03-17T19:04:31.030Z"
   },
   {
    "duration": 70,
    "start_time": "2022-03-17T19:04:31.040Z"
   },
   {
    "duration": 19,
    "start_time": "2022-03-17T19:04:31.113Z"
   },
   {
    "duration": 56,
    "start_time": "2022-03-17T19:04:31.135Z"
   },
   {
    "duration": 46,
    "start_time": "2022-03-17T19:04:31.193Z"
   },
   {
    "duration": 2512,
    "start_time": "2022-03-17T19:04:31.242Z"
   },
   {
    "duration": 2445,
    "start_time": "2022-03-17T19:05:02.934Z"
   },
   {
    "duration": 2594,
    "start_time": "2022-03-17T19:05:10.222Z"
   },
   {
    "duration": 19,
    "start_time": "2022-03-17T19:11:07.199Z"
   },
   {
    "duration": 17,
    "start_time": "2022-03-17T19:11:18.414Z"
   },
   {
    "duration": 31,
    "start_time": "2022-03-17T19:16:58.805Z"
   },
   {
    "duration": 38,
    "start_time": "2022-03-17T19:19:31.889Z"
   },
   {
    "duration": 37,
    "start_time": "2022-03-17T19:19:50.457Z"
   },
   {
    "duration": 49,
    "start_time": "2022-03-17T19:20:42.422Z"
   },
   {
    "duration": 59,
    "start_time": "2022-03-17T19:21:00.471Z"
   },
   {
    "duration": 12,
    "start_time": "2022-03-17T19:29:03.137Z"
   },
   {
    "duration": 8,
    "start_time": "2022-03-17T19:29:09.261Z"
   },
   {
    "duration": 237,
    "start_time": "2022-03-17T19:37:04.442Z"
   },
   {
    "duration": 127,
    "start_time": "2022-03-17T19:38:21.795Z"
   },
   {
    "duration": 17,
    "start_time": "2022-03-17T19:39:29.537Z"
   },
   {
    "duration": 16,
    "start_time": "2022-03-17T19:39:37.731Z"
   },
   {
    "duration": 33,
    "start_time": "2022-03-17T19:39:53.034Z"
   },
   {
    "duration": 23,
    "start_time": "2022-03-17T19:39:56.185Z"
   },
   {
    "duration": 23,
    "start_time": "2022-03-17T19:45:18.458Z"
   },
   {
    "duration": 645,
    "start_time": "2022-03-17T19:45:28.558Z"
   },
   {
    "duration": 158,
    "start_time": "2022-03-17T19:45:29.207Z"
   },
   {
    "duration": 54,
    "start_time": "2022-03-17T19:45:29.368Z"
   },
   {
    "duration": 40,
    "start_time": "2022-03-17T19:45:29.425Z"
   },
   {
    "duration": 38,
    "start_time": "2022-03-17T19:45:29.471Z"
   },
   {
    "duration": 56,
    "start_time": "2022-03-17T19:45:29.514Z"
   },
   {
    "duration": 43,
    "start_time": "2022-03-17T19:45:29.574Z"
   },
   {
    "duration": 100,
    "start_time": "2022-03-17T19:45:29.623Z"
   },
   {
    "duration": 9,
    "start_time": "2022-03-17T19:45:29.728Z"
   },
   {
    "duration": 95,
    "start_time": "2022-03-17T19:45:29.740Z"
   },
   {
    "duration": 21,
    "start_time": "2022-03-17T19:45:29.839Z"
   },
   {
    "duration": 59,
    "start_time": "2022-03-17T19:45:29.863Z"
   },
   {
    "duration": 47,
    "start_time": "2022-03-17T19:45:29.929Z"
   },
   {
    "duration": 15,
    "start_time": "2022-03-17T19:45:29.980Z"
   },
   {
    "duration": 109,
    "start_time": "2022-03-17T19:45:30.000Z"
   },
   {
    "duration": 21,
    "start_time": "2022-03-17T19:45:30.111Z"
   },
   {
    "duration": 7,
    "start_time": "2022-03-17T19:45:56.926Z"
   },
   {
    "duration": 572,
    "start_time": "2022-03-17T19:46:42.680Z"
   },
   {
    "duration": 121,
    "start_time": "2022-03-17T19:46:43.255Z"
   },
   {
    "duration": 46,
    "start_time": "2022-03-17T19:46:43.379Z"
   },
   {
    "duration": 43,
    "start_time": "2022-03-17T19:46:43.429Z"
   },
   {
    "duration": 29,
    "start_time": "2022-03-17T19:46:43.488Z"
   },
   {
    "duration": 45,
    "start_time": "2022-03-17T19:46:43.521Z"
   },
   {
    "duration": 49,
    "start_time": "2022-03-17T19:46:43.568Z"
   },
   {
    "duration": 54,
    "start_time": "2022-03-17T19:46:43.626Z"
   },
   {
    "duration": 16,
    "start_time": "2022-03-17T19:46:43.684Z"
   },
   {
    "duration": 76,
    "start_time": "2022-03-17T19:46:43.703Z"
   },
   {
    "duration": 22,
    "start_time": "2022-03-17T19:46:43.782Z"
   },
   {
    "duration": 63,
    "start_time": "2022-03-17T19:46:43.806Z"
   },
   {
    "duration": 38,
    "start_time": "2022-03-17T19:46:43.872Z"
   },
   {
    "duration": 22,
    "start_time": "2022-03-17T19:46:43.915Z"
   },
   {
    "duration": 98,
    "start_time": "2022-03-17T19:46:43.939Z"
   },
   {
    "duration": 9,
    "start_time": "2022-03-17T19:46:44.040Z"
   },
   {
    "duration": 6,
    "start_time": "2022-03-17T19:51:26.427Z"
   },
   {
    "duration": 9,
    "start_time": "2022-03-17T19:51:59.398Z"
   },
   {
    "duration": 115,
    "start_time": "2022-03-17T19:54:37.998Z"
   },
   {
    "duration": 35,
    "start_time": "2022-03-17T19:54:53.780Z"
   },
   {
    "duration": 526,
    "start_time": "2022-03-17T19:54:58.977Z"
   },
   {
    "duration": 82,
    "start_time": "2022-03-17T19:54:59.507Z"
   },
   {
    "duration": 34,
    "start_time": "2022-03-17T19:54:59.591Z"
   },
   {
    "duration": 22,
    "start_time": "2022-03-17T19:54:59.628Z"
   },
   {
    "duration": 42,
    "start_time": "2022-03-17T19:54:59.653Z"
   },
   {
    "duration": 20,
    "start_time": "2022-03-17T19:54:59.698Z"
   },
   {
    "duration": 27,
    "start_time": "2022-03-17T19:54:59.720Z"
   },
   {
    "duration": 84,
    "start_time": "2022-03-17T19:54:59.750Z"
   },
   {
    "duration": 9,
    "start_time": "2022-03-17T19:54:59.837Z"
   },
   {
    "duration": 71,
    "start_time": "2022-03-17T19:54:59.852Z"
   },
   {
    "duration": 21,
    "start_time": "2022-03-17T19:54:59.925Z"
   },
   {
    "duration": 52,
    "start_time": "2022-03-17T19:54:59.948Z"
   },
   {
    "duration": 26,
    "start_time": "2022-03-17T19:55:00.003Z"
   },
   {
    "duration": 13,
    "start_time": "2022-03-17T19:55:00.031Z"
   },
   {
    "duration": 92,
    "start_time": "2022-03-17T19:55:00.046Z"
   },
   {
    "duration": 8,
    "start_time": "2022-03-17T19:55:00.140Z"
   },
   {
    "duration": 145,
    "start_time": "2022-03-17T19:55:00.151Z"
   },
   {
    "duration": 33,
    "start_time": "2022-03-17T19:55:21.478Z"
   },
   {
    "duration": 30,
    "start_time": "2022-03-17T19:55:53.571Z"
   },
   {
    "duration": 18,
    "start_time": "2022-03-17T19:58:49.991Z"
   },
   {
    "duration": 31,
    "start_time": "2022-03-17T19:59:57.007Z"
   },
   {
    "duration": 30,
    "start_time": "2022-03-17T20:00:52.999Z"
   },
   {
    "duration": 34,
    "start_time": "2022-03-17T20:00:59.988Z"
   },
   {
    "duration": 17,
    "start_time": "2022-03-17T20:05:38.793Z"
   },
   {
    "duration": 11,
    "start_time": "2022-03-17T20:18:51.593Z"
   },
   {
    "duration": 28,
    "start_time": "2022-03-17T20:18:58.162Z"
   },
   {
    "duration": 746,
    "start_time": "2022-03-17T20:30:39.718Z"
   },
   {
    "duration": 382,
    "start_time": "2022-03-18T04:44:04.856Z"
   },
   {
    "duration": 59,
    "start_time": "2022-03-18T04:44:05.240Z"
   },
   {
    "duration": 21,
    "start_time": "2022-03-18T04:44:05.300Z"
   },
   {
    "duration": 15,
    "start_time": "2022-03-18T04:44:05.332Z"
   },
   {
    "duration": 10,
    "start_time": "2022-03-18T04:44:05.348Z"
   },
   {
    "duration": 12,
    "start_time": "2022-03-18T04:44:05.360Z"
   },
   {
    "duration": 17,
    "start_time": "2022-03-18T04:44:05.373Z"
   },
   {
    "duration": 59,
    "start_time": "2022-03-18T04:44:05.391Z"
   },
   {
    "duration": 6,
    "start_time": "2022-03-18T04:44:05.451Z"
   },
   {
    "duration": 29,
    "start_time": "2022-03-18T04:44:05.459Z"
   },
   {
    "duration": 11,
    "start_time": "2022-03-18T04:44:05.490Z"
   },
   {
    "duration": 42,
    "start_time": "2022-03-18T04:44:05.502Z"
   },
   {
    "duration": 13,
    "start_time": "2022-03-18T04:44:05.546Z"
   },
   {
    "duration": 5,
    "start_time": "2022-03-18T04:44:05.560Z"
   },
   {
    "duration": 35,
    "start_time": "2022-03-18T04:44:05.567Z"
   },
   {
    "duration": 30,
    "start_time": "2022-03-18T04:44:05.603Z"
   },
   {
    "duration": 20,
    "start_time": "2022-03-18T04:44:05.634Z"
   },
   {
    "duration": 16,
    "start_time": "2022-03-18T04:44:05.655Z"
   },
   {
    "duration": 9,
    "start_time": "2022-03-18T04:44:05.673Z"
   },
   {
    "duration": 20,
    "start_time": "2022-03-18T04:44:05.683Z"
   },
   {
    "duration": 417,
    "start_time": "2022-03-18T04:50:50.215Z"
   },
   {
    "duration": 58,
    "start_time": "2022-03-18T04:50:50.635Z"
   },
   {
    "duration": 19,
    "start_time": "2022-03-18T04:50:50.695Z"
   },
   {
    "duration": 23,
    "start_time": "2022-03-18T04:50:50.716Z"
   },
   {
    "duration": 9,
    "start_time": "2022-03-18T04:50:50.741Z"
   },
   {
    "duration": 13,
    "start_time": "2022-03-18T04:50:50.752Z"
   },
   {
    "duration": 21,
    "start_time": "2022-03-18T04:50:50.766Z"
   },
   {
    "duration": 51,
    "start_time": "2022-03-18T04:50:50.788Z"
   },
   {
    "duration": 5,
    "start_time": "2022-03-18T04:50:50.840Z"
   },
   {
    "duration": 30,
    "start_time": "2022-03-18T04:50:50.847Z"
   },
   {
    "duration": 11,
    "start_time": "2022-03-18T04:50:50.879Z"
   },
   {
    "duration": 42,
    "start_time": "2022-03-18T04:50:50.892Z"
   },
   {
    "duration": 15,
    "start_time": "2022-03-18T04:50:50.935Z"
   },
   {
    "duration": 5,
    "start_time": "2022-03-18T04:50:50.953Z"
   },
   {
    "duration": 37,
    "start_time": "2022-03-18T04:50:50.960Z"
   },
   {
    "duration": 4,
    "start_time": "2022-03-18T04:50:50.999Z"
   },
   {
    "duration": 47,
    "start_time": "2022-03-18T04:50:51.005Z"
   },
   {
    "duration": 18,
    "start_time": "2022-03-18T04:50:51.054Z"
   },
   {
    "duration": 11,
    "start_time": "2022-03-18T04:50:51.073Z"
   },
   {
    "duration": 4,
    "start_time": "2022-03-18T04:50:51.085Z"
   },
   {
    "duration": 44,
    "start_time": "2022-03-18T04:50:51.090Z"
   },
   {
    "duration": 415,
    "start_time": "2022-03-18T04:51:42.115Z"
   },
   {
    "duration": 58,
    "start_time": "2022-03-18T04:51:42.532Z"
   },
   {
    "duration": 19,
    "start_time": "2022-03-18T04:51:42.592Z"
   },
   {
    "duration": 22,
    "start_time": "2022-03-18T04:51:42.613Z"
   },
   {
    "duration": 9,
    "start_time": "2022-03-18T04:51:42.638Z"
   },
   {
    "duration": 12,
    "start_time": "2022-03-18T04:51:42.649Z"
   },
   {
    "duration": 17,
    "start_time": "2022-03-18T04:51:42.662Z"
   },
   {
    "duration": 60,
    "start_time": "2022-03-18T04:51:42.680Z"
   },
   {
    "duration": 5,
    "start_time": "2022-03-18T04:51:42.742Z"
   },
   {
    "duration": 30,
    "start_time": "2022-03-18T04:51:42.748Z"
   },
   {
    "duration": 11,
    "start_time": "2022-03-18T04:51:42.780Z"
   },
   {
    "duration": 42,
    "start_time": "2022-03-18T04:51:42.792Z"
   },
   {
    "duration": 15,
    "start_time": "2022-03-18T04:51:42.835Z"
   },
   {
    "duration": 5,
    "start_time": "2022-03-18T04:51:42.852Z"
   },
   {
    "duration": 37,
    "start_time": "2022-03-18T04:51:42.858Z"
   },
   {
    "duration": 37,
    "start_time": "2022-03-18T04:51:42.896Z"
   },
   {
    "duration": 21,
    "start_time": "2022-03-18T04:51:42.934Z"
   },
   {
    "duration": 17,
    "start_time": "2022-03-18T04:51:42.957Z"
   },
   {
    "duration": 10,
    "start_time": "2022-03-18T04:51:42.975Z"
   },
   {
    "duration": 1420,
    "start_time": "2022-03-18T04:51:42.987Z"
   },
   {
    "duration": 0,
    "start_time": "2022-03-18T04:51:44.408Z"
   },
   {
    "duration": 425,
    "start_time": "2022-03-18T04:52:01.604Z"
   },
   {
    "duration": 60,
    "start_time": "2022-03-18T04:52:02.031Z"
   },
   {
    "duration": 20,
    "start_time": "2022-03-18T04:52:02.093Z"
   },
   {
    "duration": 27,
    "start_time": "2022-03-18T04:52:02.115Z"
   },
   {
    "duration": 11,
    "start_time": "2022-03-18T04:52:02.143Z"
   },
   {
    "duration": 14,
    "start_time": "2022-03-18T04:52:02.156Z"
   },
   {
    "duration": 18,
    "start_time": "2022-03-18T04:52:02.171Z"
   },
   {
    "duration": 57,
    "start_time": "2022-03-18T04:52:02.191Z"
   },
   {
    "duration": 5,
    "start_time": "2022-03-18T04:52:02.249Z"
   },
   {
    "duration": 34,
    "start_time": "2022-03-18T04:52:02.256Z"
   },
   {
    "duration": 12,
    "start_time": "2022-03-18T04:52:02.291Z"
   },
   {
    "duration": 40,
    "start_time": "2022-03-18T04:52:02.305Z"
   },
   {
    "duration": 14,
    "start_time": "2022-03-18T04:52:02.346Z"
   },
   {
    "duration": 5,
    "start_time": "2022-03-18T04:52:02.362Z"
   },
   {
    "duration": 35,
    "start_time": "2022-03-18T04:52:02.369Z"
   },
   {
    "duration": 28,
    "start_time": "2022-03-18T04:52:02.405Z"
   },
   {
    "duration": 21,
    "start_time": "2022-03-18T04:52:02.435Z"
   },
   {
    "duration": 17,
    "start_time": "2022-03-18T04:52:02.458Z"
   },
   {
    "duration": 9,
    "start_time": "2022-03-18T04:52:02.477Z"
   },
   {
    "duration": 4,
    "start_time": "2022-03-18T04:52:02.488Z"
   },
   {
    "duration": 1577,
    "start_time": "2022-03-18T04:52:02.494Z"
   },
   {
    "duration": 0,
    "start_time": "2022-03-18T04:52:04.073Z"
   },
   {
    "duration": 345,
    "start_time": "2022-03-18T04:52:34.183Z"
   },
   {
    "duration": 57,
    "start_time": "2022-03-18T04:52:34.530Z"
   },
   {
    "duration": 20,
    "start_time": "2022-03-18T04:52:34.589Z"
   },
   {
    "duration": 27,
    "start_time": "2022-03-18T04:52:34.610Z"
   },
   {
    "duration": 9,
    "start_time": "2022-03-18T04:52:34.640Z"
   },
   {
    "duration": 14,
    "start_time": "2022-03-18T04:52:34.650Z"
   },
   {
    "duration": 16,
    "start_time": "2022-03-18T04:52:34.665Z"
   },
   {
    "duration": 52,
    "start_time": "2022-03-18T04:52:34.683Z"
   },
   {
    "duration": 5,
    "start_time": "2022-03-18T04:52:34.737Z"
   },
   {
    "duration": 32,
    "start_time": "2022-03-18T04:52:34.744Z"
   },
   {
    "duration": 11,
    "start_time": "2022-03-18T04:52:34.778Z"
   },
   {
    "duration": 42,
    "start_time": "2022-03-18T04:52:34.791Z"
   },
   {
    "duration": 15,
    "start_time": "2022-03-18T04:52:34.834Z"
   },
   {
    "duration": 6,
    "start_time": "2022-03-18T04:52:34.851Z"
   },
   {
    "duration": 38,
    "start_time": "2022-03-18T04:52:34.858Z"
   },
   {
    "duration": 5,
    "start_time": "2022-03-18T04:52:34.898Z"
   },
   {
    "duration": 26,
    "start_time": "2022-03-18T04:52:34.933Z"
   },
   {
    "duration": 23,
    "start_time": "2022-03-18T04:52:34.961Z"
   },
   {
    "duration": 9,
    "start_time": "2022-03-18T04:52:34.986Z"
   },
   {
    "duration": 5,
    "start_time": "2022-03-18T04:52:34.996Z"
   },
   {
    "duration": 43,
    "start_time": "2022-03-18T04:52:35.003Z"
   },
   {
    "duration": 23,
    "start_time": "2022-03-18T04:52:35.048Z"
   },
   {
    "duration": 17,
    "start_time": "2022-03-18T04:52:40.792Z"
   },
   {
    "duration": 410,
    "start_time": "2022-03-18T04:55:07.133Z"
   },
   {
    "duration": 61,
    "start_time": "2022-03-18T04:55:07.546Z"
   },
   {
    "duration": 29,
    "start_time": "2022-03-18T04:55:07.609Z"
   },
   {
    "duration": 16,
    "start_time": "2022-03-18T04:55:07.640Z"
   },
   {
    "duration": 10,
    "start_time": "2022-03-18T04:55:07.658Z"
   },
   {
    "duration": 14,
    "start_time": "2022-03-18T04:55:07.670Z"
   },
   {
    "duration": 16,
    "start_time": "2022-03-18T04:55:07.685Z"
   },
   {
    "duration": 30,
    "start_time": "2022-03-18T04:55:07.733Z"
   },
   {
    "duration": 5,
    "start_time": "2022-03-18T04:55:07.764Z"
   },
   {
    "duration": 29,
    "start_time": "2022-03-18T04:55:07.772Z"
   },
   {
    "duration": 37,
    "start_time": "2022-03-18T04:55:07.803Z"
   },
   {
    "duration": 17,
    "start_time": "2022-03-18T04:55:07.841Z"
   },
   {
    "duration": 15,
    "start_time": "2022-03-18T04:55:07.860Z"
   },
   {
    "duration": 5,
    "start_time": "2022-03-18T04:55:07.876Z"
   },
   {
    "duration": 61,
    "start_time": "2022-03-18T04:55:07.883Z"
   },
   {
    "duration": 5,
    "start_time": "2022-03-18T04:55:07.946Z"
   },
   {
    "duration": 22,
    "start_time": "2022-03-18T04:55:07.952Z"
   },
   {
    "duration": 17,
    "start_time": "2022-03-18T04:55:07.976Z"
   },
   {
    "duration": 10,
    "start_time": "2022-03-18T04:55:07.994Z"
   },
   {
    "duration": 3,
    "start_time": "2022-03-18T04:55:08.033Z"
   },
   {
    "duration": 23,
    "start_time": "2022-03-18T04:55:08.037Z"
   },
   {
    "duration": 14,
    "start_time": "2022-03-18T04:55:08.062Z"
   },
   {
    "duration": 20,
    "start_time": "2022-03-18T04:55:08.078Z"
   },
   {
    "duration": 417,
    "start_time": "2022-03-18T04:55:17.836Z"
   },
   {
    "duration": 59,
    "start_time": "2022-03-18T04:55:18.254Z"
   },
   {
    "duration": 26,
    "start_time": "2022-03-18T04:55:18.317Z"
   },
   {
    "duration": 15,
    "start_time": "2022-03-18T04:55:18.345Z"
   },
   {
    "duration": 10,
    "start_time": "2022-03-18T04:55:18.361Z"
   },
   {
    "duration": 15,
    "start_time": "2022-03-18T04:55:18.372Z"
   },
   {
    "duration": 44,
    "start_time": "2022-03-18T04:55:18.389Z"
   },
   {
    "duration": 31,
    "start_time": "2022-03-18T04:55:18.435Z"
   },
   {
    "duration": 5,
    "start_time": "2022-03-18T04:55:18.468Z"
   },
   {
    "duration": 30,
    "start_time": "2022-03-18T04:55:18.475Z"
   },
   {
    "duration": 32,
    "start_time": "2022-03-18T04:55:18.506Z"
   },
   {
    "duration": 17,
    "start_time": "2022-03-18T04:55:18.539Z"
   },
   {
    "duration": 14,
    "start_time": "2022-03-18T04:55:18.557Z"
   },
   {
    "duration": 5,
    "start_time": "2022-03-18T04:55:18.573Z"
   },
   {
    "duration": 65,
    "start_time": "2022-03-18T04:55:18.580Z"
   },
   {
    "duration": 5,
    "start_time": "2022-03-18T04:55:18.647Z"
   },
   {
    "duration": 21,
    "start_time": "2022-03-18T04:55:18.653Z"
   },
   {
    "duration": 20,
    "start_time": "2022-03-18T04:55:18.675Z"
   },
   {
    "duration": 35,
    "start_time": "2022-03-18T04:55:18.697Z"
   },
   {
    "duration": 6,
    "start_time": "2022-03-18T04:55:18.734Z"
   },
   {
    "duration": 29,
    "start_time": "2022-03-18T04:55:18.742Z"
   },
   {
    "duration": 10,
    "start_time": "2022-03-18T04:55:18.773Z"
   },
   {
    "duration": 5,
    "start_time": "2022-03-18T04:55:18.785Z"
   },
   {
    "duration": 23,
    "start_time": "2022-03-18T04:55:18.791Z"
   },
   {
    "duration": 416,
    "start_time": "2022-03-18T05:02:34.305Z"
   },
   {
    "duration": 57,
    "start_time": "2022-03-18T05:02:34.723Z"
   },
   {
    "duration": 19,
    "start_time": "2022-03-18T05:02:34.782Z"
   },
   {
    "duration": 13,
    "start_time": "2022-03-18T05:02:34.803Z"
   },
   {
    "duration": 10,
    "start_time": "2022-03-18T05:02:34.832Z"
   },
   {
    "duration": 13,
    "start_time": "2022-03-18T05:02:34.843Z"
   },
   {
    "duration": 16,
    "start_time": "2022-03-18T05:02:34.858Z"
   },
   {
    "duration": 30,
    "start_time": "2022-03-18T05:02:34.875Z"
   },
   {
    "duration": 30,
    "start_time": "2022-03-18T05:02:34.906Z"
   },
   {
    "duration": 35,
    "start_time": "2022-03-18T05:02:34.938Z"
   },
   {
    "duration": 12,
    "start_time": "2022-03-18T05:02:34.974Z"
   },
   {
    "duration": 17,
    "start_time": "2022-03-18T05:02:34.988Z"
   },
   {
    "duration": 38,
    "start_time": "2022-03-18T05:02:35.007Z"
   },
   {
    "duration": 6,
    "start_time": "2022-03-18T05:02:35.047Z"
   },
   {
    "duration": 41,
    "start_time": "2022-03-18T05:02:35.054Z"
   },
   {
    "duration": 5,
    "start_time": "2022-03-18T05:02:35.097Z"
   },
   {
    "duration": 44,
    "start_time": "2022-03-18T05:02:35.104Z"
   },
   {
    "duration": 19,
    "start_time": "2022-03-18T05:02:35.150Z"
   },
   {
    "duration": 3,
    "start_time": "2022-03-18T05:02:35.171Z"
   },
   {
    "duration": 18,
    "start_time": "2022-03-18T05:02:35.176Z"
   },
   {
    "duration": 37,
    "start_time": "2022-03-18T05:02:35.196Z"
   },
   {
    "duration": 6,
    "start_time": "2022-03-18T05:02:35.235Z"
   },
   {
    "duration": 23,
    "start_time": "2022-03-18T05:02:35.243Z"
   },
   {
    "duration": 369,
    "start_time": "2022-03-18T05:26:28.774Z"
   },
   {
    "duration": 58,
    "start_time": "2022-03-18T05:26:29.145Z"
   },
   {
    "duration": 28,
    "start_time": "2022-03-18T05:26:29.205Z"
   },
   {
    "duration": 15,
    "start_time": "2022-03-18T05:26:29.235Z"
   },
   {
    "duration": 10,
    "start_time": "2022-03-18T05:26:29.251Z"
   },
   {
    "duration": 14,
    "start_time": "2022-03-18T05:26:29.263Z"
   },
   {
    "duration": 18,
    "start_time": "2022-03-18T05:26:29.278Z"
   },
   {
    "duration": 60,
    "start_time": "2022-03-18T05:26:29.297Z"
   },
   {
    "duration": 5,
    "start_time": "2022-03-18T05:26:29.358Z"
   },
   {
    "duration": 30,
    "start_time": "2022-03-18T05:26:29.365Z"
   },
   {
    "duration": 12,
    "start_time": "2022-03-18T05:26:29.397Z"
   },
   {
    "duration": 16,
    "start_time": "2022-03-18T05:26:29.433Z"
   },
   {
    "duration": 14,
    "start_time": "2022-03-18T05:26:29.451Z"
   },
   {
    "duration": 5,
    "start_time": "2022-03-18T05:26:29.467Z"
   },
   {
    "duration": 64,
    "start_time": "2022-03-18T05:26:29.474Z"
   },
   {
    "duration": 4,
    "start_time": "2022-03-18T05:26:29.540Z"
   },
   {
    "duration": 21,
    "start_time": "2022-03-18T05:26:29.545Z"
   },
   {
    "duration": 17,
    "start_time": "2022-03-18T05:26:29.567Z"
   },
   {
    "duration": 3,
    "start_time": "2022-03-18T05:26:29.585Z"
   },
   {
    "duration": 20,
    "start_time": "2022-03-18T05:26:29.589Z"
   },
   {
    "duration": 9,
    "start_time": "2022-03-18T05:26:29.633Z"
   },
   {
    "duration": 5,
    "start_time": "2022-03-18T05:26:29.644Z"
   },
   {
    "duration": 22,
    "start_time": "2022-03-18T05:26:29.650Z"
   },
   {
    "duration": 416,
    "start_time": "2022-03-18T05:26:50.409Z"
   },
   {
    "duration": 58,
    "start_time": "2022-03-18T05:26:50.827Z"
   },
   {
    "duration": 19,
    "start_time": "2022-03-18T05:26:50.886Z"
   },
   {
    "duration": 27,
    "start_time": "2022-03-18T05:26:50.906Z"
   },
   {
    "duration": 9,
    "start_time": "2022-03-18T05:26:50.935Z"
   },
   {
    "duration": 13,
    "start_time": "2022-03-18T05:26:50.945Z"
   },
   {
    "duration": 15,
    "start_time": "2022-03-18T05:26:50.960Z"
   },
   {
    "duration": 29,
    "start_time": "2022-03-18T05:26:50.976Z"
   },
   {
    "duration": 6,
    "start_time": "2022-03-18T05:26:51.032Z"
   },
   {
    "duration": 31,
    "start_time": "2022-03-18T05:26:51.039Z"
   },
   {
    "duration": 12,
    "start_time": "2022-03-18T05:26:51.072Z"
   },
   {
    "duration": 16,
    "start_time": "2022-03-18T05:26:51.086Z"
   },
   {
    "duration": 42,
    "start_time": "2022-03-18T05:26:51.103Z"
   },
   {
    "duration": 5,
    "start_time": "2022-03-18T05:26:51.148Z"
   },
   {
    "duration": 37,
    "start_time": "2022-03-18T05:26:51.155Z"
   },
   {
    "duration": 5,
    "start_time": "2022-03-18T05:26:51.194Z"
   },
   {
    "duration": 49,
    "start_time": "2022-03-18T05:26:51.200Z"
   },
   {
    "duration": 18,
    "start_time": "2022-03-18T05:26:51.250Z"
   },
   {
    "duration": 4,
    "start_time": "2022-03-18T05:26:51.269Z"
   },
   {
    "duration": 19,
    "start_time": "2022-03-18T05:26:51.275Z"
   },
   {
    "duration": 9,
    "start_time": "2022-03-18T05:26:51.295Z"
   },
   {
    "duration": 31,
    "start_time": "2022-03-18T05:26:51.305Z"
   },
   {
    "duration": 23,
    "start_time": "2022-03-18T05:26:51.338Z"
   },
   {
    "duration": 392,
    "start_time": "2022-03-18T05:27:44.541Z"
   },
   {
    "duration": 63,
    "start_time": "2022-03-18T05:27:44.934Z"
   },
   {
    "duration": 19,
    "start_time": "2022-03-18T05:27:44.999Z"
   },
   {
    "duration": 25,
    "start_time": "2022-03-18T05:27:45.020Z"
   },
   {
    "duration": 14,
    "start_time": "2022-03-18T05:27:45.046Z"
   },
   {
    "duration": 17,
    "start_time": "2022-03-18T05:27:45.062Z"
   },
   {
    "duration": 18,
    "start_time": "2022-03-18T05:27:45.081Z"
   },
   {
    "duration": 50,
    "start_time": "2022-03-18T05:27:45.100Z"
   },
   {
    "duration": 6,
    "start_time": "2022-03-18T05:27:45.153Z"
   },
   {
    "duration": 35,
    "start_time": "2022-03-18T05:27:45.162Z"
   },
   {
    "duration": 34,
    "start_time": "2022-03-18T05:27:45.199Z"
   },
   {
    "duration": 18,
    "start_time": "2022-03-18T05:27:45.235Z"
   },
   {
    "duration": 14,
    "start_time": "2022-03-18T05:27:45.254Z"
   },
   {
    "duration": 6,
    "start_time": "2022-03-18T05:27:45.269Z"
   },
   {
    "duration": 62,
    "start_time": "2022-03-18T05:27:45.277Z"
   },
   {
    "duration": 4,
    "start_time": "2022-03-18T05:27:45.341Z"
   },
   {
    "duration": 22,
    "start_time": "2022-03-18T05:27:45.347Z"
   },
   {
    "duration": 18,
    "start_time": "2022-03-18T05:27:45.371Z"
   },
   {
    "duration": 3,
    "start_time": "2022-03-18T05:27:45.390Z"
   },
   {
    "duration": 44,
    "start_time": "2022-03-18T05:27:45.395Z"
   },
   {
    "duration": 11,
    "start_time": "2022-03-18T05:27:45.441Z"
   },
   {
    "duration": 5,
    "start_time": "2022-03-18T05:27:45.454Z"
   },
   {
    "duration": 25,
    "start_time": "2022-03-18T05:27:45.461Z"
   },
   {
    "duration": 347,
    "start_time": "2022-03-18T05:31:48.187Z"
   },
   {
    "duration": 62,
    "start_time": "2022-03-18T05:31:48.535Z"
   },
   {
    "duration": 19,
    "start_time": "2022-03-18T05:31:48.599Z"
   },
   {
    "duration": 19,
    "start_time": "2022-03-18T05:31:48.619Z"
   },
   {
    "duration": 9,
    "start_time": "2022-03-18T05:31:48.640Z"
   },
   {
    "duration": 11,
    "start_time": "2022-03-18T05:31:48.651Z"
   },
   {
    "duration": 15,
    "start_time": "2022-03-18T05:31:48.663Z"
   },
   {
    "duration": 62,
    "start_time": "2022-03-18T05:31:48.680Z"
   },
   {
    "duration": 5,
    "start_time": "2022-03-18T05:31:48.744Z"
   },
   {
    "duration": 42,
    "start_time": "2022-03-18T05:31:48.751Z"
   },
   {
    "duration": 13,
    "start_time": "2022-03-18T05:31:48.794Z"
   },
   {
    "duration": 32,
    "start_time": "2022-03-18T05:31:48.809Z"
   },
   {
    "duration": 14,
    "start_time": "2022-03-18T05:31:48.842Z"
   },
   {
    "duration": 5,
    "start_time": "2022-03-18T05:31:48.859Z"
   },
   {
    "duration": 37,
    "start_time": "2022-03-18T05:31:48.865Z"
   },
   {
    "duration": 31,
    "start_time": "2022-03-18T05:31:48.903Z"
   },
   {
    "duration": 20,
    "start_time": "2022-03-18T05:31:48.936Z"
   },
   {
    "duration": 18,
    "start_time": "2022-03-18T05:31:48.957Z"
   },
   {
    "duration": 3,
    "start_time": "2022-03-18T05:31:48.976Z"
   },
   {
    "duration": 20,
    "start_time": "2022-03-18T05:31:48.980Z"
   },
   {
    "duration": 38,
    "start_time": "2022-03-18T05:31:49.001Z"
   },
   {
    "duration": 6,
    "start_time": "2022-03-18T05:31:49.041Z"
   },
   {
    "duration": 21,
    "start_time": "2022-03-18T05:31:49.048Z"
   },
   {
    "duration": 359,
    "start_time": "2022-03-18T05:38:51.994Z"
   },
   {
    "duration": 61,
    "start_time": "2022-03-18T05:38:52.354Z"
   },
   {
    "duration": 19,
    "start_time": "2022-03-18T05:38:52.417Z"
   },
   {
    "duration": 14,
    "start_time": "2022-03-18T05:38:52.439Z"
   },
   {
    "duration": 10,
    "start_time": "2022-03-18T05:38:52.455Z"
   },
   {
    "duration": 12,
    "start_time": "2022-03-18T05:38:52.467Z"
   },
   {
    "duration": 16,
    "start_time": "2022-03-18T05:38:52.481Z"
   },
   {
    "duration": 59,
    "start_time": "2022-03-18T05:38:52.498Z"
   },
   {
    "duration": 5,
    "start_time": "2022-03-18T05:38:52.559Z"
   },
   {
    "duration": 31,
    "start_time": "2022-03-18T05:38:52.566Z"
   },
   {
    "duration": 36,
    "start_time": "2022-03-18T05:38:52.598Z"
   },
   {
    "duration": 20,
    "start_time": "2022-03-18T05:38:52.636Z"
   },
   {
    "duration": 14,
    "start_time": "2022-03-18T05:38:52.658Z"
   },
   {
    "duration": 6,
    "start_time": "2022-03-18T05:38:52.673Z"
   },
   {
    "duration": 64,
    "start_time": "2022-03-18T05:38:52.680Z"
   },
   {
    "duration": 5,
    "start_time": "2022-03-18T05:38:52.746Z"
   },
   {
    "duration": 20,
    "start_time": "2022-03-18T05:38:52.753Z"
   },
   {
    "duration": 18,
    "start_time": "2022-03-18T05:38:52.775Z"
   },
   {
    "duration": 4,
    "start_time": "2022-03-18T05:38:52.795Z"
   },
   {
    "duration": 46,
    "start_time": "2022-03-18T05:38:52.800Z"
   },
   {
    "duration": 11,
    "start_time": "2022-03-18T05:38:52.848Z"
   },
   {
    "duration": 5,
    "start_time": "2022-03-18T05:38:52.860Z"
   },
   {
    "duration": 22,
    "start_time": "2022-03-18T05:38:52.867Z"
   },
   {
    "duration": 360,
    "start_time": "2022-03-18T05:41:50.088Z"
   },
   {
    "duration": 64,
    "start_time": "2022-03-18T05:41:50.450Z"
   },
   {
    "duration": 25,
    "start_time": "2022-03-18T05:41:50.516Z"
   },
   {
    "duration": 14,
    "start_time": "2022-03-18T05:41:50.544Z"
   },
   {
    "duration": 9,
    "start_time": "2022-03-18T05:41:50.559Z"
   },
   {
    "duration": 12,
    "start_time": "2022-03-18T05:41:50.570Z"
   },
   {
    "duration": 17,
    "start_time": "2022-03-18T05:41:50.583Z"
   },
   {
    "duration": 61,
    "start_time": "2022-03-18T05:41:50.601Z"
   },
   {
    "duration": 6,
    "start_time": "2022-03-18T05:41:50.663Z"
   },
   {
    "duration": 32,
    "start_time": "2022-03-18T05:41:50.671Z"
   },
   {
    "duration": 38,
    "start_time": "2022-03-18T05:41:50.704Z"
   },
   {
    "duration": 15,
    "start_time": "2022-03-18T05:41:50.744Z"
   },
   {
    "duration": 13,
    "start_time": "2022-03-18T05:41:50.761Z"
   },
   {
    "duration": 6,
    "start_time": "2022-03-18T05:41:50.775Z"
   },
   {
    "duration": 66,
    "start_time": "2022-03-18T05:41:50.782Z"
   },
   {
    "duration": 5,
    "start_time": "2022-03-18T05:41:50.849Z"
   },
   {
    "duration": 22,
    "start_time": "2022-03-18T05:41:50.855Z"
   },
   {
    "duration": 19,
    "start_time": "2022-03-18T05:41:50.878Z"
   },
   {
    "duration": 3,
    "start_time": "2022-03-18T05:41:50.899Z"
   },
   {
    "duration": 40,
    "start_time": "2022-03-18T05:41:50.903Z"
   },
   {
    "duration": 9,
    "start_time": "2022-03-18T05:41:50.945Z"
   },
   {
    "duration": 5,
    "start_time": "2022-03-18T05:41:50.955Z"
   },
   {
    "duration": 25,
    "start_time": "2022-03-18T05:41:50.963Z"
   },
   {
    "duration": 355,
    "start_time": "2022-03-18T05:47:59.380Z"
   },
   {
    "duration": 61,
    "start_time": "2022-03-18T05:47:59.737Z"
   },
   {
    "duration": 19,
    "start_time": "2022-03-18T05:47:59.800Z"
   },
   {
    "duration": 19,
    "start_time": "2022-03-18T05:47:59.821Z"
   },
   {
    "duration": 10,
    "start_time": "2022-03-18T05:47:59.841Z"
   },
   {
    "duration": 12,
    "start_time": "2022-03-18T05:47:59.852Z"
   },
   {
    "duration": 16,
    "start_time": "2022-03-18T05:47:59.865Z"
   },
   {
    "duration": 59,
    "start_time": "2022-03-18T05:47:59.882Z"
   },
   {
    "duration": 5,
    "start_time": "2022-03-18T05:47:59.943Z"
   },
   {
    "duration": 31,
    "start_time": "2022-03-18T05:47:59.951Z"
   },
   {
    "duration": 12,
    "start_time": "2022-03-18T05:47:59.983Z"
   },
   {
    "duration": 37,
    "start_time": "2022-03-18T05:47:59.997Z"
   },
   {
    "duration": 15,
    "start_time": "2022-03-18T05:48:00.036Z"
   },
   {
    "duration": 6,
    "start_time": "2022-03-18T05:48:00.053Z"
   },
   {
    "duration": 39,
    "start_time": "2022-03-18T05:48:00.061Z"
   },
   {
    "duration": 33,
    "start_time": "2022-03-18T05:48:00.102Z"
   },
   {
    "duration": 27,
    "start_time": "2022-03-18T05:48:00.137Z"
   },
   {
    "duration": 18,
    "start_time": "2022-03-18T05:48:00.165Z"
   },
   {
    "duration": 3,
    "start_time": "2022-03-18T05:48:00.184Z"
   },
   {
    "duration": 25,
    "start_time": "2022-03-18T05:48:00.189Z"
   },
   {
    "duration": 24,
    "start_time": "2022-03-18T05:48:00.216Z"
   },
   {
    "duration": 8,
    "start_time": "2022-03-18T05:48:00.242Z"
   },
   {
    "duration": 26,
    "start_time": "2022-03-18T05:48:00.251Z"
   },
   {
    "duration": 359,
    "start_time": "2022-03-18T05:48:10.095Z"
   },
   {
    "duration": 57,
    "start_time": "2022-03-18T05:48:10.456Z"
   },
   {
    "duration": 24,
    "start_time": "2022-03-18T05:48:10.515Z"
   },
   {
    "duration": 14,
    "start_time": "2022-03-18T05:48:10.541Z"
   },
   {
    "duration": 15,
    "start_time": "2022-03-18T05:48:10.556Z"
   },
   {
    "duration": 13,
    "start_time": "2022-03-18T05:48:10.573Z"
   },
   {
    "duration": 17,
    "start_time": "2022-03-18T05:48:10.588Z"
   },
   {
    "duration": 52,
    "start_time": "2022-03-18T05:48:10.607Z"
   },
   {
    "duration": 5,
    "start_time": "2022-03-18T05:48:10.660Z"
   },
   {
    "duration": 30,
    "start_time": "2022-03-18T05:48:10.668Z"
   },
   {
    "duration": 37,
    "start_time": "2022-03-18T05:48:10.700Z"
   },
   {
    "duration": 18,
    "start_time": "2022-03-18T05:48:10.739Z"
   },
   {
    "duration": 13,
    "start_time": "2022-03-18T05:48:10.759Z"
   },
   {
    "duration": 8,
    "start_time": "2022-03-18T05:48:10.774Z"
   },
   {
    "duration": 55,
    "start_time": "2022-03-18T05:48:10.783Z"
   },
   {
    "duration": 5,
    "start_time": "2022-03-18T05:48:10.840Z"
   },
   {
    "duration": 25,
    "start_time": "2022-03-18T05:48:10.846Z"
   },
   {
    "duration": 18,
    "start_time": "2022-03-18T05:48:10.872Z"
   },
   {
    "duration": 3,
    "start_time": "2022-03-18T05:48:10.892Z"
   },
   {
    "duration": 41,
    "start_time": "2022-03-18T05:48:10.896Z"
   },
   {
    "duration": 12,
    "start_time": "2022-03-18T05:48:10.939Z"
   },
   {
    "duration": 5,
    "start_time": "2022-03-18T05:48:10.953Z"
   },
   {
    "duration": 20,
    "start_time": "2022-03-18T05:48:10.960Z"
   },
   {
    "duration": 377,
    "start_time": "2022-03-18T05:52:13.558Z"
   },
   {
    "duration": 58,
    "start_time": "2022-03-18T05:52:13.937Z"
   },
   {
    "duration": 21,
    "start_time": "2022-03-18T05:52:13.996Z"
   },
   {
    "duration": 25,
    "start_time": "2022-03-18T05:52:14.019Z"
   },
   {
    "duration": 10,
    "start_time": "2022-03-18T05:52:14.046Z"
   },
   {
    "duration": 12,
    "start_time": "2022-03-18T05:52:14.058Z"
   },
   {
    "duration": 17,
    "start_time": "2022-03-18T05:52:14.071Z"
   },
   {
    "duration": 56,
    "start_time": "2022-03-18T05:52:14.090Z"
   },
   {
    "duration": 5,
    "start_time": "2022-03-18T05:52:14.148Z"
   },
   {
    "duration": 34,
    "start_time": "2022-03-18T05:52:14.155Z"
   },
   {
    "duration": 12,
    "start_time": "2022-03-18T05:52:14.190Z"
   },
   {
    "duration": 42,
    "start_time": "2022-03-18T05:52:14.203Z"
   },
   {
    "duration": 14,
    "start_time": "2022-03-18T05:52:14.247Z"
   },
   {
    "duration": 5,
    "start_time": "2022-03-18T05:52:14.262Z"
   },
   {
    "duration": 37,
    "start_time": "2022-03-18T05:52:14.269Z"
   },
   {
    "duration": 25,
    "start_time": "2022-03-18T05:52:14.308Z"
   },
   {
    "duration": 21,
    "start_time": "2022-03-18T05:52:14.335Z"
   },
   {
    "duration": 18,
    "start_time": "2022-03-18T05:52:14.358Z"
   },
   {
    "duration": 3,
    "start_time": "2022-03-18T05:52:14.377Z"
   },
   {
    "duration": 22,
    "start_time": "2022-03-18T05:52:14.381Z"
   },
   {
    "duration": 11,
    "start_time": "2022-03-18T05:52:14.432Z"
   },
   {
    "duration": 5,
    "start_time": "2022-03-18T05:52:14.445Z"
   },
   {
    "duration": 21,
    "start_time": "2022-03-18T05:52:14.451Z"
   },
   {
    "duration": 2,
    "start_time": "2022-03-18T05:52:14.474Z"
   },
   {
    "duration": 381,
    "start_time": "2022-03-18T06:16:54.768Z"
   },
   {
    "duration": 65,
    "start_time": "2022-03-18T06:16:55.151Z"
   },
   {
    "duration": 22,
    "start_time": "2022-03-18T06:16:55.218Z"
   },
   {
    "duration": 15,
    "start_time": "2022-03-18T06:16:55.242Z"
   },
   {
    "duration": 11,
    "start_time": "2022-03-18T06:16:55.259Z"
   },
   {
    "duration": 20,
    "start_time": "2022-03-18T06:16:55.272Z"
   },
   {
    "duration": 40,
    "start_time": "2022-03-18T06:16:55.294Z"
   },
   {
    "duration": 31,
    "start_time": "2022-03-18T06:16:55.336Z"
   },
   {
    "duration": 5,
    "start_time": "2022-03-18T06:16:55.369Z"
   },
   {
    "duration": 85,
    "start_time": "2022-03-18T06:16:55.375Z"
   },
   {
    "duration": 0,
    "start_time": "2022-03-18T06:16:55.462Z"
   },
   {
    "duration": 0,
    "start_time": "2022-03-18T06:16:55.463Z"
   },
   {
    "duration": 0,
    "start_time": "2022-03-18T06:16:55.464Z"
   },
   {
    "duration": 0,
    "start_time": "2022-03-18T06:16:55.465Z"
   },
   {
    "duration": 0,
    "start_time": "2022-03-18T06:16:55.467Z"
   },
   {
    "duration": 0,
    "start_time": "2022-03-18T06:16:55.468Z"
   },
   {
    "duration": 0,
    "start_time": "2022-03-18T06:16:55.469Z"
   },
   {
    "duration": 0,
    "start_time": "2022-03-18T06:16:55.470Z"
   },
   {
    "duration": 0,
    "start_time": "2022-03-18T06:16:55.471Z"
   },
   {
    "duration": 0,
    "start_time": "2022-03-18T06:16:55.472Z"
   },
   {
    "duration": 0,
    "start_time": "2022-03-18T06:16:55.473Z"
   },
   {
    "duration": 0,
    "start_time": "2022-03-18T06:16:55.474Z"
   },
   {
    "duration": 0,
    "start_time": "2022-03-18T06:16:55.475Z"
   },
   {
    "duration": 557,
    "start_time": "2022-03-28T19:57:23.510Z"
   },
   {
    "duration": 79,
    "start_time": "2022-03-28T19:57:24.070Z"
   },
   {
    "duration": 37,
    "start_time": "2022-03-28T19:57:24.151Z"
   },
   {
    "duration": 22,
    "start_time": "2022-03-28T19:57:24.190Z"
   },
   {
    "duration": 14,
    "start_time": "2022-03-28T19:57:24.215Z"
   },
   {
    "duration": 49,
    "start_time": "2022-03-28T19:57:24.230Z"
   },
   {
    "duration": 28,
    "start_time": "2022-03-28T19:57:24.281Z"
   },
   {
    "duration": 77,
    "start_time": "2022-03-28T19:57:24.311Z"
   },
   {
    "duration": 8,
    "start_time": "2022-03-28T19:57:24.390Z"
   },
   {
    "duration": 120,
    "start_time": "2022-03-28T19:57:24.400Z"
   },
   {
    "duration": 0,
    "start_time": "2022-03-28T19:57:24.523Z"
   },
   {
    "duration": 0,
    "start_time": "2022-03-28T19:57:24.525Z"
   },
   {
    "duration": 0,
    "start_time": "2022-03-28T19:57:24.526Z"
   },
   {
    "duration": 0,
    "start_time": "2022-03-28T19:57:24.528Z"
   },
   {
    "duration": 0,
    "start_time": "2022-03-28T19:57:24.530Z"
   },
   {
    "duration": 0,
    "start_time": "2022-03-28T19:57:24.531Z"
   },
   {
    "duration": 0,
    "start_time": "2022-03-28T19:57:24.532Z"
   },
   {
    "duration": 0,
    "start_time": "2022-03-28T19:57:24.534Z"
   },
   {
    "duration": 0,
    "start_time": "2022-03-28T19:57:24.536Z"
   },
   {
    "duration": 0,
    "start_time": "2022-03-28T19:57:24.537Z"
   },
   {
    "duration": 0,
    "start_time": "2022-03-28T19:57:24.538Z"
   },
   {
    "duration": 0,
    "start_time": "2022-03-28T19:57:24.540Z"
   },
   {
    "duration": 0,
    "start_time": "2022-03-28T19:57:24.573Z"
   },
   {
    "duration": 18,
    "start_time": "2022-03-28T19:57:51.392Z"
   },
   {
    "duration": 24,
    "start_time": "2022-03-28T19:57:51.923Z"
   },
   {
    "duration": 25,
    "start_time": "2022-03-28T19:57:52.100Z"
   },
   {
    "duration": 9,
    "start_time": "2022-03-28T19:57:52.621Z"
   },
   {
    "duration": 58,
    "start_time": "2022-03-28T19:57:52.962Z"
   },
   {
    "duration": 9,
    "start_time": "2022-03-28T19:57:53.126Z"
   },
   {
    "duration": 30,
    "start_time": "2022-03-28T19:57:53.811Z"
   },
   {
    "duration": 28,
    "start_time": "2022-03-28T19:57:54.348Z"
   },
   {
    "duration": 4,
    "start_time": "2022-03-28T19:57:54.869Z"
   },
   {
    "duration": 25,
    "start_time": "2022-03-28T19:57:55.039Z"
   },
   {
    "duration": 14,
    "start_time": "2022-03-28T19:57:55.220Z"
   },
   {
    "duration": 7,
    "start_time": "2022-03-28T19:57:55.403Z"
   },
   {
    "duration": 32,
    "start_time": "2022-03-28T19:57:55.947Z"
   },
   {
    "duration": 9,
    "start_time": "2022-03-28T20:00:41.703Z"
   },
   {
    "duration": 41,
    "start_time": "2022-03-28T20:00:44.694Z"
   },
   {
    "duration": 1668,
    "start_time": "2022-03-28T20:01:09.855Z"
   },
   {
    "duration": 9,
    "start_time": "2022-03-28T20:01:16.983Z"
   },
   {
    "duration": 9,
    "start_time": "2022-03-28T20:02:07.989Z"
   },
   {
    "duration": 74,
    "start_time": "2022-03-29T04:44:30.885Z"
   },
   {
    "duration": 495,
    "start_time": "2022-03-29T05:05:57.704Z"
   },
   {
    "duration": 79,
    "start_time": "2022-03-29T05:05:58.202Z"
   },
   {
    "duration": 31,
    "start_time": "2022-03-29T05:05:58.283Z"
   },
   {
    "duration": 21,
    "start_time": "2022-03-29T05:05:58.316Z"
   },
   {
    "duration": 41,
    "start_time": "2022-03-29T05:05:58.339Z"
   },
   {
    "duration": 19,
    "start_time": "2022-03-29T05:05:58.382Z"
   },
   {
    "duration": 25,
    "start_time": "2022-03-29T05:05:58.403Z"
   },
   {
    "duration": 85,
    "start_time": "2022-03-29T05:05:58.430Z"
   },
   {
    "duration": 7,
    "start_time": "2022-03-29T05:05:58.517Z"
   },
   {
    "duration": 74,
    "start_time": "2022-03-29T05:05:58.528Z"
   },
   {
    "duration": 6,
    "start_time": "2022-03-29T05:05:58.604Z"
   },
   {
    "duration": 14,
    "start_time": "2022-03-29T05:05:58.612Z"
   },
   {
    "duration": 4,
    "start_time": "2022-03-29T05:05:58.628Z"
   },
   {
    "duration": 40,
    "start_time": "2022-03-29T05:05:58.634Z"
   },
   {
    "duration": 28,
    "start_time": "2022-03-29T05:05:58.676Z"
   },
   {
    "duration": 18,
    "start_time": "2022-03-29T05:05:58.706Z"
   },
   {
    "duration": 53,
    "start_time": "2022-03-29T05:05:58.726Z"
   },
   {
    "duration": 23,
    "start_time": "2022-03-29T05:05:58.780Z"
   },
   {
    "duration": 9,
    "start_time": "2022-03-29T05:05:58.805Z"
   },
   {
    "duration": 101,
    "start_time": "2022-03-29T05:05:58.816Z"
   },
   {
    "duration": 9,
    "start_time": "2022-03-29T05:05:58.919Z"
   },
   {
    "duration": 54,
    "start_time": "2022-03-29T05:05:58.931Z"
   },
   {
    "duration": 29,
    "start_time": "2022-03-29T05:05:58.988Z"
   },
   {
    "duration": 6,
    "start_time": "2022-03-29T05:05:59.019Z"
   },
   {
    "duration": 61,
    "start_time": "2022-03-29T05:05:59.028Z"
   },
   {
    "duration": 17,
    "start_time": "2022-03-29T05:05:59.092Z"
   },
   {
    "duration": 9,
    "start_time": "2022-03-29T05:05:59.111Z"
   },
   {
    "duration": 69,
    "start_time": "2022-03-29T05:05:59.127Z"
   },
   {
    "duration": 49,
    "start_time": "2022-03-29T05:08:39.534Z"
   },
   {
    "duration": 527,
    "start_time": "2022-03-29T05:19:00.480Z"
   },
   {
    "duration": 89,
    "start_time": "2022-03-29T05:19:01.010Z"
   },
   {
    "duration": 32,
    "start_time": "2022-03-29T05:19:01.102Z"
   },
   {
    "duration": 42,
    "start_time": "2022-03-29T05:19:01.136Z"
   },
   {
    "duration": 44,
    "start_time": "2022-03-29T05:19:01.182Z"
   },
   {
    "duration": 119,
    "start_time": "2022-03-29T05:19:01.228Z"
   },
   {
    "duration": 0,
    "start_time": "2022-03-29T05:19:01.349Z"
   },
   {
    "duration": 0,
    "start_time": "2022-03-29T05:19:01.351Z"
   },
   {
    "duration": 0,
    "start_time": "2022-03-29T05:19:01.352Z"
   },
   {
    "duration": 0,
    "start_time": "2022-03-29T05:19:01.353Z"
   },
   {
    "duration": 0,
    "start_time": "2022-03-29T05:19:01.355Z"
   },
   {
    "duration": 0,
    "start_time": "2022-03-29T05:19:01.356Z"
   },
   {
    "duration": 0,
    "start_time": "2022-03-29T05:19:01.357Z"
   },
   {
    "duration": 0,
    "start_time": "2022-03-29T05:19:01.359Z"
   },
   {
    "duration": 0,
    "start_time": "2022-03-29T05:19:01.360Z"
   },
   {
    "duration": 0,
    "start_time": "2022-03-29T05:19:01.361Z"
   },
   {
    "duration": 0,
    "start_time": "2022-03-29T05:19:01.363Z"
   },
   {
    "duration": 0,
    "start_time": "2022-03-29T05:19:01.364Z"
   },
   {
    "duration": 0,
    "start_time": "2022-03-29T05:19:01.365Z"
   },
   {
    "duration": 0,
    "start_time": "2022-03-29T05:19:01.366Z"
   },
   {
    "duration": 0,
    "start_time": "2022-03-29T05:19:01.368Z"
   },
   {
    "duration": 0,
    "start_time": "2022-03-29T05:19:01.369Z"
   },
   {
    "duration": 0,
    "start_time": "2022-03-29T05:19:01.370Z"
   },
   {
    "duration": 0,
    "start_time": "2022-03-29T05:19:01.372Z"
   },
   {
    "duration": 0,
    "start_time": "2022-03-29T05:19:01.375Z"
   },
   {
    "duration": 0,
    "start_time": "2022-03-29T05:19:01.381Z"
   },
   {
    "duration": 0,
    "start_time": "2022-03-29T05:19:01.383Z"
   },
   {
    "duration": 585,
    "start_time": "2022-03-29T05:20:14.607Z"
   },
   {
    "duration": 87,
    "start_time": "2022-03-29T05:20:15.196Z"
   },
   {
    "duration": 51,
    "start_time": "2022-03-29T05:20:15.286Z"
   },
   {
    "duration": 46,
    "start_time": "2022-03-29T05:20:15.339Z"
   },
   {
    "duration": 46,
    "start_time": "2022-03-29T05:20:15.389Z"
   },
   {
    "duration": 12,
    "start_time": "2022-03-29T05:20:15.437Z"
   },
   {
    "duration": 26,
    "start_time": "2022-03-29T05:20:15.475Z"
   },
   {
    "duration": 26,
    "start_time": "2022-03-29T05:20:15.503Z"
   },
   {
    "duration": 87,
    "start_time": "2022-03-29T05:20:15.532Z"
   },
   {
    "duration": 7,
    "start_time": "2022-03-29T05:20:15.621Z"
   },
   {
    "duration": 54,
    "start_time": "2022-03-29T05:20:15.630Z"
   },
   {
    "duration": 29,
    "start_time": "2022-03-29T05:20:15.687Z"
   },
   {
    "duration": 22,
    "start_time": "2022-03-29T05:20:15.719Z"
   },
   {
    "duration": 31,
    "start_time": "2022-03-29T05:20:15.775Z"
   },
   {
    "duration": 118,
    "start_time": "2022-03-29T05:20:15.808Z"
   },
   {
    "duration": 0,
    "start_time": "2022-03-29T05:20:15.928Z"
   },
   {
    "duration": 0,
    "start_time": "2022-03-29T05:20:15.930Z"
   },
   {
    "duration": 0,
    "start_time": "2022-03-29T05:20:15.931Z"
   },
   {
    "duration": 0,
    "start_time": "2022-03-29T05:20:15.933Z"
   },
   {
    "duration": 0,
    "start_time": "2022-03-29T05:20:15.935Z"
   },
   {
    "duration": 0,
    "start_time": "2022-03-29T05:20:15.936Z"
   },
   {
    "duration": 0,
    "start_time": "2022-03-29T05:20:15.937Z"
   },
   {
    "duration": 0,
    "start_time": "2022-03-29T05:20:15.939Z"
   },
   {
    "duration": 0,
    "start_time": "2022-03-29T05:20:15.941Z"
   },
   {
    "duration": 0,
    "start_time": "2022-03-29T05:20:15.942Z"
   },
   {
    "duration": 0,
    "start_time": "2022-03-29T05:20:15.944Z"
   },
   {
    "duration": 9,
    "start_time": "2022-03-29T05:20:29.336Z"
   },
   {
    "duration": 8,
    "start_time": "2022-03-29T05:22:45.126Z"
   },
   {
    "duration": 533,
    "start_time": "2022-03-29T05:27:13.370Z"
   },
   {
    "duration": 71,
    "start_time": "2022-03-29T05:27:13.905Z"
   },
   {
    "duration": 34,
    "start_time": "2022-03-29T05:27:13.978Z"
   },
   {
    "duration": 22,
    "start_time": "2022-03-29T05:27:14.014Z"
   },
   {
    "duration": 73,
    "start_time": "2022-03-29T05:27:14.039Z"
   },
   {
    "duration": 13,
    "start_time": "2022-03-29T05:27:14.115Z"
   },
   {
    "duration": 54,
    "start_time": "2022-03-29T05:27:14.131Z"
   },
   {
    "duration": 27,
    "start_time": "2022-03-29T05:27:14.187Z"
   },
   {
    "duration": 76,
    "start_time": "2022-03-29T05:27:14.216Z"
   },
   {
    "duration": 7,
    "start_time": "2022-03-29T05:27:14.294Z"
   },
   {
    "duration": 30,
    "start_time": "2022-03-29T05:27:14.303Z"
   },
   {
    "duration": 59,
    "start_time": "2022-03-29T05:27:14.335Z"
   },
   {
    "duration": 22,
    "start_time": "2022-03-29T05:27:14.397Z"
   },
   {
    "duration": 67,
    "start_time": "2022-03-29T05:27:14.424Z"
   },
   {
    "duration": 125,
    "start_time": "2022-03-29T05:27:14.494Z"
   },
   {
    "duration": 0,
    "start_time": "2022-03-29T05:27:14.621Z"
   },
   {
    "duration": 1,
    "start_time": "2022-03-29T05:27:14.622Z"
   },
   {
    "duration": 0,
    "start_time": "2022-03-29T05:27:14.624Z"
   },
   {
    "duration": 1,
    "start_time": "2022-03-29T05:27:14.625Z"
   },
   {
    "duration": 0,
    "start_time": "2022-03-29T05:27:14.627Z"
   },
   {
    "duration": 0,
    "start_time": "2022-03-29T05:27:14.629Z"
   },
   {
    "duration": 0,
    "start_time": "2022-03-29T05:27:14.630Z"
   },
   {
    "duration": 0,
    "start_time": "2022-03-29T05:27:14.632Z"
   },
   {
    "duration": 0,
    "start_time": "2022-03-29T05:27:14.633Z"
   },
   {
    "duration": 0,
    "start_time": "2022-03-29T05:27:14.634Z"
   },
   {
    "duration": 0,
    "start_time": "2022-03-29T05:27:14.635Z"
   },
   {
    "duration": 0,
    "start_time": "2022-03-29T05:27:14.637Z"
   },
   {
    "duration": 0,
    "start_time": "2022-03-29T05:27:14.638Z"
   },
   {
    "duration": 19,
    "start_time": "2022-03-29T05:27:26.043Z"
   },
   {
    "duration": 43,
    "start_time": "2022-03-29T05:27:30.129Z"
   },
   {
    "duration": 44,
    "start_time": "2022-03-29T05:27:38.191Z"
   },
   {
    "duration": 525,
    "start_time": "2022-03-29T05:29:02.495Z"
   },
   {
    "duration": 86,
    "start_time": "2022-03-29T05:29:03.023Z"
   },
   {
    "duration": 34,
    "start_time": "2022-03-29T05:29:03.112Z"
   },
   {
    "duration": 44,
    "start_time": "2022-03-29T05:29:03.149Z"
   },
   {
    "duration": 44,
    "start_time": "2022-03-29T05:29:03.196Z"
   },
   {
    "duration": 39,
    "start_time": "2022-03-29T05:29:03.242Z"
   },
   {
    "duration": 39,
    "start_time": "2022-03-29T05:29:03.283Z"
   },
   {
    "duration": 57,
    "start_time": "2022-03-29T05:29:03.325Z"
   },
   {
    "duration": 54,
    "start_time": "2022-03-29T05:29:03.389Z"
   },
   {
    "duration": 34,
    "start_time": "2022-03-29T05:29:03.446Z"
   },
   {
    "duration": 31,
    "start_time": "2022-03-29T05:29:03.485Z"
   },
   {
    "duration": 27,
    "start_time": "2022-03-29T05:29:03.518Z"
   },
   {
    "duration": 54,
    "start_time": "2022-03-29T05:29:03.549Z"
   },
   {
    "duration": 28,
    "start_time": "2022-03-29T05:29:03.607Z"
   },
   {
    "duration": 40,
    "start_time": "2022-03-29T05:29:03.637Z"
   },
   {
    "duration": 22,
    "start_time": "2022-03-29T05:29:03.680Z"
   },
   {
    "duration": 15,
    "start_time": "2022-03-29T05:29:03.705Z"
   },
   {
    "duration": 63,
    "start_time": "2022-03-29T05:29:03.723Z"
   },
   {
    "duration": 13,
    "start_time": "2022-03-29T05:29:03.789Z"
   },
   {
    "duration": 123,
    "start_time": "2022-03-29T05:29:03.805Z"
   },
   {
    "duration": 0,
    "start_time": "2022-03-29T05:29:03.931Z"
   },
   {
    "duration": 0,
    "start_time": "2022-03-29T05:29:03.932Z"
   },
   {
    "duration": 0,
    "start_time": "2022-03-29T05:29:03.934Z"
   },
   {
    "duration": 0,
    "start_time": "2022-03-29T05:29:03.935Z"
   },
   {
    "duration": 0,
    "start_time": "2022-03-29T05:29:03.936Z"
   },
   {
    "duration": 0,
    "start_time": "2022-03-29T05:29:03.938Z"
   },
   {
    "duration": 0,
    "start_time": "2022-03-29T05:29:03.939Z"
   },
   {
    "duration": 0,
    "start_time": "2022-03-29T05:29:03.940Z"
   },
   {
    "duration": 535,
    "start_time": "2022-03-29T05:32:58.063Z"
   },
   {
    "duration": 78,
    "start_time": "2022-03-29T05:32:58.601Z"
   },
   {
    "duration": 37,
    "start_time": "2022-03-29T05:32:58.682Z"
   },
   {
    "duration": 22,
    "start_time": "2022-03-29T05:32:58.722Z"
   },
   {
    "duration": 74,
    "start_time": "2022-03-29T05:32:58.746Z"
   },
   {
    "duration": 14,
    "start_time": "2022-03-29T05:32:58.822Z"
   },
   {
    "duration": 54,
    "start_time": "2022-03-29T05:32:58.838Z"
   },
   {
    "duration": 26,
    "start_time": "2022-03-29T05:32:58.894Z"
   },
   {
    "duration": 73,
    "start_time": "2022-03-29T05:32:58.923Z"
   },
   {
    "duration": 7,
    "start_time": "2022-03-29T05:32:59.002Z"
   },
   {
    "duration": 38,
    "start_time": "2022-03-29T05:32:59.011Z"
   },
   {
    "duration": 51,
    "start_time": "2022-03-29T05:32:59.051Z"
   },
   {
    "duration": 19,
    "start_time": "2022-03-29T05:32:59.105Z"
   },
   {
    "duration": 54,
    "start_time": "2022-03-29T05:32:59.126Z"
   },
   {
    "duration": 12,
    "start_time": "2022-03-29T05:32:59.183Z"
   },
   {
    "duration": 2200,
    "start_time": "2022-03-29T05:32:59.197Z"
   },
   {
    "duration": 0,
    "start_time": "2022-03-29T05:33:01.400Z"
   },
   {
    "duration": 0,
    "start_time": "2022-03-29T05:33:01.402Z"
   },
   {
    "duration": 0,
    "start_time": "2022-03-29T05:33:01.404Z"
   },
   {
    "duration": 0,
    "start_time": "2022-03-29T05:33:01.406Z"
   },
   {
    "duration": 0,
    "start_time": "2022-03-29T05:33:01.408Z"
   },
   {
    "duration": 0,
    "start_time": "2022-03-29T05:33:01.410Z"
   },
   {
    "duration": 0,
    "start_time": "2022-03-29T05:33:01.413Z"
   },
   {
    "duration": 0,
    "start_time": "2022-03-29T05:33:01.415Z"
   },
   {
    "duration": 0,
    "start_time": "2022-03-29T05:33:01.417Z"
   },
   {
    "duration": 0,
    "start_time": "2022-03-29T05:33:01.419Z"
   },
   {
    "duration": 0,
    "start_time": "2022-03-29T05:33:01.420Z"
   },
   {
    "duration": 0,
    "start_time": "2022-03-29T05:33:01.423Z"
   },
   {
    "duration": 52,
    "start_time": "2022-03-30T04:13:50.834Z"
   },
   {
    "duration": 7,
    "start_time": "2022-03-30T04:14:07.334Z"
   },
   {
    "duration": 422,
    "start_time": "2022-03-30T04:14:13.634Z"
   },
   {
    "duration": 76,
    "start_time": "2022-03-30T04:14:14.058Z"
   },
   {
    "duration": 22,
    "start_time": "2022-03-30T04:14:14.136Z"
   },
   {
    "duration": 16,
    "start_time": "2022-03-30T04:14:14.159Z"
   },
   {
    "duration": 49,
    "start_time": "2022-03-30T04:14:14.177Z"
   },
   {
    "duration": 12,
    "start_time": "2022-03-30T04:14:14.228Z"
   },
   {
    "duration": 13,
    "start_time": "2022-03-30T04:14:14.242Z"
   },
   {
    "duration": 18,
    "start_time": "2022-03-30T04:14:14.256Z"
   },
   {
    "duration": 58,
    "start_time": "2022-03-30T04:14:14.276Z"
   },
   {
    "duration": 5,
    "start_time": "2022-03-30T04:14:14.336Z"
   },
   {
    "duration": 24,
    "start_time": "2022-03-30T04:14:14.343Z"
   },
   {
    "duration": 21,
    "start_time": "2022-03-30T04:14:14.369Z"
   },
   {
    "duration": 43,
    "start_time": "2022-03-30T04:14:14.392Z"
   },
   {
    "duration": 19,
    "start_time": "2022-03-30T04:14:14.438Z"
   },
   {
    "duration": 8,
    "start_time": "2022-03-30T04:14:14.459Z"
   },
   {
    "duration": 8,
    "start_time": "2022-03-30T04:14:14.469Z"
   },
   {
    "duration": 8,
    "start_time": "2022-03-30T04:14:14.479Z"
   },
   {
    "duration": 51,
    "start_time": "2022-03-30T04:14:14.489Z"
   },
   {
    "duration": 7,
    "start_time": "2022-03-30T04:14:14.542Z"
   },
   {
    "duration": 147,
    "start_time": "2022-03-30T04:14:14.550Z"
   },
   {
    "duration": 0,
    "start_time": "2022-03-30T04:14:14.699Z"
   },
   {
    "duration": 0,
    "start_time": "2022-03-30T04:14:14.701Z"
   },
   {
    "duration": 0,
    "start_time": "2022-03-30T04:14:14.702Z"
   },
   {
    "duration": 0,
    "start_time": "2022-03-30T04:14:14.703Z"
   },
   {
    "duration": 0,
    "start_time": "2022-03-30T04:14:14.704Z"
   },
   {
    "duration": 0,
    "start_time": "2022-03-30T04:14:14.705Z"
   },
   {
    "duration": 0,
    "start_time": "2022-03-30T04:14:14.706Z"
   },
   {
    "duration": 0,
    "start_time": "2022-03-30T04:14:14.707Z"
   },
   {
    "duration": 444,
    "start_time": "2022-03-30T04:16:34.813Z"
   },
   {
    "duration": 64,
    "start_time": "2022-03-30T04:16:35.259Z"
   },
   {
    "duration": 21,
    "start_time": "2022-03-30T04:16:35.325Z"
   },
   {
    "duration": 16,
    "start_time": "2022-03-30T04:16:35.348Z"
   },
   {
    "duration": 38,
    "start_time": "2022-03-30T04:16:35.366Z"
   },
   {
    "duration": 29,
    "start_time": "2022-03-30T04:16:35.406Z"
   },
   {
    "duration": 20,
    "start_time": "2022-03-30T04:16:35.437Z"
   },
   {
    "duration": 33,
    "start_time": "2022-03-30T04:16:35.459Z"
   },
   {
    "duration": 34,
    "start_time": "2022-03-30T04:16:35.493Z"
   },
   {
    "duration": 5,
    "start_time": "2022-03-30T04:16:35.532Z"
   },
   {
    "duration": 29,
    "start_time": "2022-03-30T04:16:35.539Z"
   },
   {
    "duration": 46,
    "start_time": "2022-03-30T04:16:35.570Z"
   },
   {
    "duration": 19,
    "start_time": "2022-03-30T04:16:35.618Z"
   },
   {
    "duration": 34,
    "start_time": "2022-03-30T04:16:35.640Z"
   },
   {
    "duration": 9,
    "start_time": "2022-03-30T04:16:35.675Z"
   },
   {
    "duration": 8,
    "start_time": "2022-03-30T04:16:35.686Z"
   },
   {
    "duration": 28,
    "start_time": "2022-03-30T04:16:35.696Z"
   },
   {
    "duration": 2289,
    "start_time": "2022-03-30T04:16:35.725Z"
   },
   {
    "duration": 0,
    "start_time": "2022-03-30T04:16:38.017Z"
   },
   {
    "duration": 0,
    "start_time": "2022-03-30T04:16:38.018Z"
   },
   {
    "duration": 0,
    "start_time": "2022-03-30T04:16:38.020Z"
   },
   {
    "duration": 0,
    "start_time": "2022-03-30T04:16:38.021Z"
   },
   {
    "duration": 0,
    "start_time": "2022-03-30T04:16:38.023Z"
   },
   {
    "duration": 0,
    "start_time": "2022-03-30T04:16:38.025Z"
   },
   {
    "duration": 0,
    "start_time": "2022-03-30T04:16:38.026Z"
   },
   {
    "duration": 0,
    "start_time": "2022-03-30T04:16:38.028Z"
   },
   {
    "duration": 0,
    "start_time": "2022-03-30T04:16:38.029Z"
   },
   {
    "duration": 0,
    "start_time": "2022-03-30T04:16:38.031Z"
   },
   {
    "duration": 0,
    "start_time": "2022-03-30T04:16:38.032Z"
   },
   {
    "duration": 0,
    "start_time": "2022-03-30T04:16:38.034Z"
   },
   {
    "duration": 5,
    "start_time": "2022-03-30T04:17:50.661Z"
   },
   {
    "duration": 435,
    "start_time": "2022-03-30T04:18:14.010Z"
   },
   {
    "duration": 69,
    "start_time": "2022-03-30T04:18:14.447Z"
   },
   {
    "duration": 23,
    "start_time": "2022-03-30T04:18:14.517Z"
   },
   {
    "duration": 16,
    "start_time": "2022-03-30T04:18:14.542Z"
   },
   {
    "duration": 36,
    "start_time": "2022-03-30T04:18:14.560Z"
   },
   {
    "duration": 11,
    "start_time": "2022-03-30T04:18:14.597Z"
   },
   {
    "duration": 14,
    "start_time": "2022-03-30T04:18:14.632Z"
   },
   {
    "duration": 25,
    "start_time": "2022-03-30T04:18:14.647Z"
   },
   {
    "duration": 58,
    "start_time": "2022-03-30T04:18:14.675Z"
   },
   {
    "duration": 6,
    "start_time": "2022-03-30T04:18:14.735Z"
   },
   {
    "duration": 25,
    "start_time": "2022-03-30T04:18:14.742Z"
   },
   {
    "duration": 20,
    "start_time": "2022-03-30T04:18:14.769Z"
   },
   {
    "duration": 14,
    "start_time": "2022-03-30T04:18:14.791Z"
   },
   {
    "duration": 19,
    "start_time": "2022-03-30T04:18:14.832Z"
   },
   {
    "duration": 8,
    "start_time": "2022-03-30T04:18:14.853Z"
   },
   {
    "duration": 8,
    "start_time": "2022-03-30T04:18:14.863Z"
   },
   {
    "duration": 12,
    "start_time": "2022-03-30T04:18:14.873Z"
   },
   {
    "duration": 5,
    "start_time": "2022-03-30T04:18:14.887Z"
   },
   {
    "duration": 44,
    "start_time": "2022-03-30T04:18:14.894Z"
   },
   {
    "duration": 17,
    "start_time": "2022-03-30T04:18:14.939Z"
   },
   {
    "duration": 6,
    "start_time": "2022-03-30T04:18:14.958Z"
   },
   {
    "duration": 172,
    "start_time": "2022-03-30T04:18:14.965Z"
   },
   {
    "duration": 0,
    "start_time": "2022-03-30T04:18:15.139Z"
   },
   {
    "duration": 0,
    "start_time": "2022-03-30T04:18:15.140Z"
   },
   {
    "duration": 0,
    "start_time": "2022-03-30T04:18:15.141Z"
   },
   {
    "duration": 0,
    "start_time": "2022-03-30T04:18:15.142Z"
   },
   {
    "duration": 0,
    "start_time": "2022-03-30T04:18:15.143Z"
   },
   {
    "duration": 0,
    "start_time": "2022-03-30T04:18:15.144Z"
   },
   {
    "duration": 0,
    "start_time": "2022-03-30T04:18:15.145Z"
   },
   {
    "duration": 0,
    "start_time": "2022-03-30T04:18:15.146Z"
   },
   {
    "duration": 438,
    "start_time": "2022-03-30T04:19:00.213Z"
   },
   {
    "duration": 76,
    "start_time": "2022-03-30T04:19:00.653Z"
   },
   {
    "duration": 23,
    "start_time": "2022-03-30T04:19:00.731Z"
   },
   {
    "duration": 26,
    "start_time": "2022-03-30T04:19:00.756Z"
   },
   {
    "duration": 35,
    "start_time": "2022-03-30T04:19:00.784Z"
   },
   {
    "duration": 19,
    "start_time": "2022-03-30T04:19:00.821Z"
   },
   {
    "duration": 14,
    "start_time": "2022-03-30T04:19:00.842Z"
   },
   {
    "duration": 23,
    "start_time": "2022-03-30T04:19:00.858Z"
   },
   {
    "duration": 60,
    "start_time": "2022-03-30T04:19:00.883Z"
   },
   {
    "duration": 6,
    "start_time": "2022-03-30T04:19:00.944Z"
   },
   {
    "duration": 24,
    "start_time": "2022-03-30T04:19:00.952Z"
   },
   {
    "duration": 22,
    "start_time": "2022-03-30T04:19:00.978Z"
   },
   {
    "duration": 43,
    "start_time": "2022-03-30T04:19:01.002Z"
   },
   {
    "duration": 26,
    "start_time": "2022-03-30T04:19:01.048Z"
   },
   {
    "duration": 9,
    "start_time": "2022-03-30T04:19:01.075Z"
   },
   {
    "duration": 9,
    "start_time": "2022-03-30T04:19:01.086Z"
   },
   {
    "duration": 37,
    "start_time": "2022-03-30T04:19:01.097Z"
   },
   {
    "duration": 10,
    "start_time": "2022-03-30T04:19:01.135Z"
   },
   {
    "duration": 4,
    "start_time": "2022-03-30T04:19:01.147Z"
   },
   {
    "duration": 16,
    "start_time": "2022-03-30T04:19:01.153Z"
   },
   {
    "duration": 20,
    "start_time": "2022-03-30T04:19:01.171Z"
   },
   {
    "duration": 25,
    "start_time": "2022-03-30T04:19:01.193Z"
   },
   {
    "duration": 6,
    "start_time": "2022-03-30T04:19:01.233Z"
   },
   {
    "duration": 143,
    "start_time": "2022-03-30T04:19:01.241Z"
   },
   {
    "duration": 1,
    "start_time": "2022-03-30T04:19:01.385Z"
   },
   {
    "duration": 0,
    "start_time": "2022-03-30T04:19:01.387Z"
   },
   {
    "duration": 0,
    "start_time": "2022-03-30T04:19:01.388Z"
   },
   {
    "duration": 0,
    "start_time": "2022-03-30T04:19:01.389Z"
   },
   {
    "duration": 0,
    "start_time": "2022-03-30T04:19:01.390Z"
   },
   {
    "duration": 0,
    "start_time": "2022-03-30T04:19:01.391Z"
   },
   {
    "duration": 0,
    "start_time": "2022-03-30T04:19:01.392Z"
   },
   {
    "duration": 0,
    "start_time": "2022-03-30T04:19:01.394Z"
   },
   {
    "duration": 2266,
    "start_time": "2022-03-30T04:23:19.846Z"
   },
   {
    "duration": 122,
    "start_time": "2022-03-30T04:23:36.031Z"
   },
   {
    "duration": 388,
    "start_time": "2022-03-30T04:24:13.379Z"
   },
   {
    "duration": 69,
    "start_time": "2022-03-30T04:24:13.769Z"
   },
   {
    "duration": 22,
    "start_time": "2022-03-30T04:24:13.839Z"
   },
   {
    "duration": 16,
    "start_time": "2022-03-30T04:24:13.863Z"
   },
   {
    "duration": 55,
    "start_time": "2022-03-30T04:24:13.880Z"
   },
   {
    "duration": 11,
    "start_time": "2022-03-30T04:24:13.937Z"
   },
   {
    "duration": 37,
    "start_time": "2022-03-30T04:24:13.950Z"
   },
   {
    "duration": 18,
    "start_time": "2022-03-30T04:24:13.989Z"
   },
   {
    "duration": 39,
    "start_time": "2022-03-30T04:24:14.008Z"
   },
   {
    "duration": 5,
    "start_time": "2022-03-30T04:24:14.050Z"
   },
   {
    "duration": 24,
    "start_time": "2022-03-30T04:24:14.056Z"
   },
   {
    "duration": 20,
    "start_time": "2022-03-30T04:24:14.082Z"
   },
   {
    "duration": 37,
    "start_time": "2022-03-30T04:24:14.104Z"
   },
   {
    "duration": 19,
    "start_time": "2022-03-30T04:24:14.142Z"
   },
   {
    "duration": 9,
    "start_time": "2022-03-30T04:24:14.162Z"
   },
   {
    "duration": 9,
    "start_time": "2022-03-30T04:24:14.172Z"
   },
   {
    "duration": 8,
    "start_time": "2022-03-30T04:24:14.182Z"
   },
   {
    "duration": 41,
    "start_time": "2022-03-30T04:24:14.192Z"
   },
   {
    "duration": 4,
    "start_time": "2022-03-30T04:24:14.235Z"
   },
   {
    "duration": 16,
    "start_time": "2022-03-30T04:24:14.241Z"
   },
   {
    "duration": 9,
    "start_time": "2022-03-30T04:24:14.258Z"
   },
   {
    "duration": 15,
    "start_time": "2022-03-30T04:24:14.269Z"
   },
   {
    "duration": 8,
    "start_time": "2022-03-30T04:24:14.286Z"
   },
   {
    "duration": 133,
    "start_time": "2022-03-30T04:24:14.296Z"
   },
   {
    "duration": 0,
    "start_time": "2022-03-30T04:24:14.431Z"
   },
   {
    "duration": 0,
    "start_time": "2022-03-30T04:24:14.432Z"
   },
   {
    "duration": 0,
    "start_time": "2022-03-30T04:24:14.433Z"
   },
   {
    "duration": 0,
    "start_time": "2022-03-30T04:24:14.434Z"
   },
   {
    "duration": 0,
    "start_time": "2022-03-30T04:24:14.435Z"
   },
   {
    "duration": 0,
    "start_time": "2022-03-30T04:24:14.436Z"
   },
   {
    "duration": 0,
    "start_time": "2022-03-30T04:24:14.437Z"
   },
   {
    "duration": 0,
    "start_time": "2022-03-30T04:24:14.439Z"
   },
   {
    "duration": 417,
    "start_time": "2022-03-30T04:30:31.245Z"
   },
   {
    "duration": 67,
    "start_time": "2022-03-30T04:30:31.664Z"
   },
   {
    "duration": 23,
    "start_time": "2022-03-30T04:30:31.733Z"
   },
   {
    "duration": 19,
    "start_time": "2022-03-30T04:30:31.758Z"
   },
   {
    "duration": 53,
    "start_time": "2022-03-30T04:30:31.779Z"
   },
   {
    "duration": 12,
    "start_time": "2022-03-30T04:30:31.834Z"
   },
   {
    "duration": 20,
    "start_time": "2022-03-30T04:30:31.848Z"
   },
   {
    "duration": 21,
    "start_time": "2022-03-30T04:30:31.870Z"
   },
   {
    "duration": 54,
    "start_time": "2022-03-30T04:30:31.893Z"
   },
   {
    "duration": 6,
    "start_time": "2022-03-30T04:30:31.949Z"
   },
   {
    "duration": 46,
    "start_time": "2022-03-30T04:30:31.957Z"
   },
   {
    "duration": 21,
    "start_time": "2022-03-30T04:30:32.005Z"
   },
   {
    "duration": 50,
    "start_time": "2022-03-30T04:30:32.028Z"
   },
   {
    "duration": 37,
    "start_time": "2022-03-30T04:30:32.081Z"
   },
   {
    "duration": 9,
    "start_time": "2022-03-30T04:30:32.120Z"
   },
   {
    "duration": 17,
    "start_time": "2022-03-30T04:30:32.130Z"
   },
   {
    "duration": 27,
    "start_time": "2022-03-30T04:30:32.149Z"
   },
   {
    "duration": 39,
    "start_time": "2022-03-30T04:30:32.177Z"
   },
   {
    "duration": 18,
    "start_time": "2022-03-30T04:30:32.218Z"
   },
   {
    "duration": 29,
    "start_time": "2022-03-30T04:30:32.237Z"
   },
   {
    "duration": 19,
    "start_time": "2022-03-30T04:30:32.268Z"
   },
   {
    "duration": 26,
    "start_time": "2022-03-30T04:30:32.289Z"
   },
   {
    "duration": 7,
    "start_time": "2022-03-30T04:30:32.317Z"
   },
   {
    "duration": 131,
    "start_time": "2022-03-30T04:30:32.326Z"
   },
   {
    "duration": 0,
    "start_time": "2022-03-30T04:30:32.459Z"
   },
   {
    "duration": 0,
    "start_time": "2022-03-30T04:30:32.460Z"
   },
   {
    "duration": 0,
    "start_time": "2022-03-30T04:30:32.462Z"
   },
   {
    "duration": 0,
    "start_time": "2022-03-30T04:30:32.463Z"
   },
   {
    "duration": 0,
    "start_time": "2022-03-30T04:30:32.464Z"
   },
   {
    "duration": 0,
    "start_time": "2022-03-30T04:30:32.465Z"
   },
   {
    "duration": 0,
    "start_time": "2022-03-30T04:30:32.465Z"
   },
   {
    "duration": 0,
    "start_time": "2022-03-30T04:30:32.466Z"
   },
   {
    "duration": 433,
    "start_time": "2022-03-30T04:31:32.121Z"
   },
   {
    "duration": 66,
    "start_time": "2022-03-30T04:31:32.556Z"
   },
   {
    "duration": 23,
    "start_time": "2022-03-30T04:31:32.623Z"
   },
   {
    "duration": 17,
    "start_time": "2022-03-30T04:31:32.647Z"
   },
   {
    "duration": 35,
    "start_time": "2022-03-30T04:31:32.666Z"
   },
   {
    "duration": 32,
    "start_time": "2022-03-30T04:31:32.703Z"
   },
   {
    "duration": 13,
    "start_time": "2022-03-30T04:31:32.736Z"
   },
   {
    "duration": 20,
    "start_time": "2022-03-30T04:31:32.751Z"
   },
   {
    "duration": 60,
    "start_time": "2022-03-30T04:31:32.772Z"
   },
   {
    "duration": 5,
    "start_time": "2022-03-30T04:31:32.834Z"
   },
   {
    "duration": 23,
    "start_time": "2022-03-30T04:31:32.841Z"
   },
   {
    "duration": 22,
    "start_time": "2022-03-30T04:31:32.865Z"
   },
   {
    "duration": 44,
    "start_time": "2022-03-30T04:31:32.889Z"
   },
   {
    "duration": 20,
    "start_time": "2022-03-30T04:31:32.937Z"
   },
   {
    "duration": 9,
    "start_time": "2022-03-30T04:31:32.959Z"
   },
   {
    "duration": 9,
    "start_time": "2022-03-30T04:31:32.970Z"
   },
   {
    "duration": 9,
    "start_time": "2022-03-30T04:31:32.981Z"
   },
   {
    "duration": 42,
    "start_time": "2022-03-30T04:31:32.992Z"
   },
   {
    "duration": 5,
    "start_time": "2022-03-30T04:31:33.035Z"
   },
   {
    "duration": 15,
    "start_time": "2022-03-30T04:31:33.041Z"
   },
   {
    "duration": 19,
    "start_time": "2022-03-30T04:31:33.058Z"
   },
   {
    "duration": 23,
    "start_time": "2022-03-30T04:31:33.079Z"
   },
   {
    "duration": 6,
    "start_time": "2022-03-30T04:31:33.104Z"
   },
   {
    "duration": 141,
    "start_time": "2022-03-30T04:31:33.112Z"
   },
   {
    "duration": 0,
    "start_time": "2022-03-30T04:31:33.255Z"
   },
   {
    "duration": 0,
    "start_time": "2022-03-30T04:31:33.256Z"
   },
   {
    "duration": 0,
    "start_time": "2022-03-30T04:31:33.258Z"
   },
   {
    "duration": 0,
    "start_time": "2022-03-30T04:31:33.259Z"
   },
   {
    "duration": 0,
    "start_time": "2022-03-30T04:31:33.260Z"
   },
   {
    "duration": 0,
    "start_time": "2022-03-30T04:31:33.261Z"
   },
   {
    "duration": 0,
    "start_time": "2022-03-30T04:31:33.262Z"
   },
   {
    "duration": 0,
    "start_time": "2022-03-30T04:31:33.263Z"
   },
   {
    "duration": 2316,
    "start_time": "2022-03-30T04:31:55.126Z"
   },
   {
    "duration": 221,
    "start_time": "2022-03-30T04:35:25.935Z"
   },
   {
    "duration": 380,
    "start_time": "2022-03-30T04:42:42.580Z"
   },
   {
    "duration": 68,
    "start_time": "2022-03-30T04:42:42.962Z"
   },
   {
    "duration": 22,
    "start_time": "2022-03-30T04:42:43.032Z"
   },
   {
    "duration": 23,
    "start_time": "2022-03-30T04:42:43.056Z"
   },
   {
    "duration": 44,
    "start_time": "2022-03-30T04:42:43.081Z"
   },
   {
    "duration": 12,
    "start_time": "2022-03-30T04:42:43.132Z"
   },
   {
    "duration": 15,
    "start_time": "2022-03-30T04:42:43.146Z"
   },
   {
    "duration": 19,
    "start_time": "2022-03-30T04:42:43.163Z"
   },
   {
    "duration": 68,
    "start_time": "2022-03-30T04:42:43.184Z"
   },
   {
    "duration": 7,
    "start_time": "2022-03-30T04:42:43.256Z"
   },
   {
    "duration": 30,
    "start_time": "2022-03-30T04:42:43.265Z"
   },
   {
    "duration": 44,
    "start_time": "2022-03-30T04:42:43.296Z"
   },
   {
    "duration": 16,
    "start_time": "2022-03-30T04:42:43.342Z"
   },
   {
    "duration": 25,
    "start_time": "2022-03-30T04:42:43.360Z"
   },
   {
    "duration": 10,
    "start_time": "2022-03-30T04:42:43.387Z"
   },
   {
    "duration": 37,
    "start_time": "2022-03-30T04:42:43.399Z"
   },
   {
    "duration": 11,
    "start_time": "2022-03-30T04:42:43.438Z"
   },
   {
    "duration": 14,
    "start_time": "2022-03-30T04:42:43.451Z"
   },
   {
    "duration": 21,
    "start_time": "2022-03-30T04:42:43.468Z"
   },
   {
    "duration": 5,
    "start_time": "2022-03-30T04:42:43.492Z"
   },
   {
    "duration": 34,
    "start_time": "2022-03-30T04:42:43.499Z"
   },
   {
    "duration": 7,
    "start_time": "2022-03-30T04:42:43.536Z"
   },
   {
    "duration": 15,
    "start_time": "2022-03-30T04:42:43.545Z"
   },
   {
    "duration": 24,
    "start_time": "2022-03-30T04:42:43.562Z"
   },
   {
    "duration": 38,
    "start_time": "2022-03-30T04:42:43.588Z"
   },
   {
    "duration": 21,
    "start_time": "2022-03-30T04:42:43.628Z"
   },
   {
    "duration": 4,
    "start_time": "2022-03-30T04:42:43.651Z"
   },
   {
    "duration": 37,
    "start_time": "2022-03-30T04:42:43.659Z"
   },
   {
    "duration": 27,
    "start_time": "2022-03-30T04:42:43.698Z"
   },
   {
    "duration": 6,
    "start_time": "2022-03-30T04:42:43.727Z"
   },
   {
    "duration": 26,
    "start_time": "2022-03-30T04:42:43.735Z"
   },
   {
    "duration": 455,
    "start_time": "2022-03-30T04:46:57.968Z"
   },
   {
    "duration": 0,
    "start_time": "2022-03-30T04:46:58.425Z"
   },
   {
    "duration": 0,
    "start_time": "2022-03-30T04:46:58.427Z"
   },
   {
    "duration": 0,
    "start_time": "2022-03-30T04:46:58.428Z"
   },
   {
    "duration": 0,
    "start_time": "2022-03-30T04:46:58.431Z"
   },
   {
    "duration": 0,
    "start_time": "2022-03-30T04:46:58.432Z"
   },
   {
    "duration": 0,
    "start_time": "2022-03-30T04:46:58.433Z"
   },
   {
    "duration": 0,
    "start_time": "2022-03-30T04:46:58.435Z"
   },
   {
    "duration": 0,
    "start_time": "2022-03-30T04:46:58.435Z"
   },
   {
    "duration": 0,
    "start_time": "2022-03-30T04:46:58.436Z"
   },
   {
    "duration": 0,
    "start_time": "2022-03-30T04:46:58.438Z"
   },
   {
    "duration": 0,
    "start_time": "2022-03-30T04:46:58.439Z"
   },
   {
    "duration": 0,
    "start_time": "2022-03-30T04:46:58.441Z"
   },
   {
    "duration": 0,
    "start_time": "2022-03-30T04:46:58.442Z"
   },
   {
    "duration": 1,
    "start_time": "2022-03-30T04:46:58.443Z"
   },
   {
    "duration": 0,
    "start_time": "2022-03-30T04:46:58.445Z"
   },
   {
    "duration": 0,
    "start_time": "2022-03-30T04:46:58.446Z"
   },
   {
    "duration": 0,
    "start_time": "2022-03-30T04:46:58.447Z"
   },
   {
    "duration": 0,
    "start_time": "2022-03-30T04:46:58.447Z"
   },
   {
    "duration": 0,
    "start_time": "2022-03-30T04:46:58.448Z"
   },
   {
    "duration": 0,
    "start_time": "2022-03-30T04:46:58.449Z"
   },
   {
    "duration": 0,
    "start_time": "2022-03-30T04:46:58.450Z"
   },
   {
    "duration": 0,
    "start_time": "2022-03-30T04:46:58.451Z"
   },
   {
    "duration": 0,
    "start_time": "2022-03-30T04:46:58.452Z"
   },
   {
    "duration": 0,
    "start_time": "2022-03-30T04:46:58.453Z"
   },
   {
    "duration": 0,
    "start_time": "2022-03-30T04:46:58.454Z"
   },
   {
    "duration": 0,
    "start_time": "2022-03-30T04:46:58.455Z"
   },
   {
    "duration": 0,
    "start_time": "2022-03-30T04:46:58.456Z"
   },
   {
    "duration": 0,
    "start_time": "2022-03-30T04:46:58.457Z"
   },
   {
    "duration": 0,
    "start_time": "2022-03-30T04:46:58.458Z"
   },
   {
    "duration": 0,
    "start_time": "2022-03-30T04:46:58.459Z"
   },
   {
    "duration": 1350,
    "start_time": "2022-03-30T04:48:39.655Z"
   },
   {
    "duration": 67,
    "start_time": "2022-03-30T04:48:41.007Z"
   },
   {
    "duration": 22,
    "start_time": "2022-03-30T04:48:41.076Z"
   },
   {
    "duration": 17,
    "start_time": "2022-03-30T04:48:41.100Z"
   },
   {
    "duration": 35,
    "start_time": "2022-03-30T04:48:41.131Z"
   },
   {
    "duration": 12,
    "start_time": "2022-03-30T04:48:41.169Z"
   },
   {
    "duration": 16,
    "start_time": "2022-03-30T04:48:41.182Z"
   },
   {
    "duration": 48,
    "start_time": "2022-03-30T04:48:41.200Z"
   },
   {
    "duration": 33,
    "start_time": "2022-03-30T04:48:41.250Z"
   },
   {
    "duration": 6,
    "start_time": "2022-03-30T04:48:41.285Z"
   },
   {
    "duration": 52,
    "start_time": "2022-03-30T04:48:41.293Z"
   },
   {
    "duration": 22,
    "start_time": "2022-03-30T04:48:41.347Z"
   },
   {
    "duration": 14,
    "start_time": "2022-03-30T04:48:41.371Z"
   },
   {
    "duration": 46,
    "start_time": "2022-03-30T04:48:41.389Z"
   },
   {
    "duration": 10,
    "start_time": "2022-03-30T04:48:41.436Z"
   },
   {
    "duration": 10,
    "start_time": "2022-03-30T04:48:41.448Z"
   },
   {
    "duration": 13,
    "start_time": "2022-03-30T04:48:41.460Z"
   },
   {
    "duration": 9,
    "start_time": "2022-03-30T04:48:41.475Z"
   },
   {
    "duration": 9,
    "start_time": "2022-03-30T04:48:41.485Z"
   },
   {
    "duration": 36,
    "start_time": "2022-03-30T04:48:41.496Z"
   },
   {
    "duration": 20,
    "start_time": "2022-03-30T04:48:41.534Z"
   },
   {
    "duration": 6,
    "start_time": "2022-03-30T04:48:41.556Z"
   },
   {
    "duration": 155,
    "start_time": "2022-03-30T04:48:41.563Z"
   },
   {
    "duration": 0,
    "start_time": "2022-03-30T04:48:41.719Z"
   },
   {
    "duration": 0,
    "start_time": "2022-03-30T04:48:41.720Z"
   },
   {
    "duration": 0,
    "start_time": "2022-03-30T04:48:41.721Z"
   },
   {
    "duration": 0,
    "start_time": "2022-03-30T04:48:41.723Z"
   },
   {
    "duration": 0,
    "start_time": "2022-03-30T04:48:41.724Z"
   },
   {
    "duration": 0,
    "start_time": "2022-03-30T04:48:41.725Z"
   },
   {
    "duration": 0,
    "start_time": "2022-03-30T04:48:41.726Z"
   },
   {
    "duration": 0,
    "start_time": "2022-03-30T04:48:41.727Z"
   },
   {
    "duration": 1430,
    "start_time": "2022-03-30T04:49:24.371Z"
   },
   {
    "duration": 64,
    "start_time": "2022-03-30T04:49:25.803Z"
   },
   {
    "duration": 23,
    "start_time": "2022-03-30T04:49:25.869Z"
   },
   {
    "duration": 17,
    "start_time": "2022-03-30T04:49:25.894Z"
   },
   {
    "duration": 48,
    "start_time": "2022-03-30T04:49:25.913Z"
   },
   {
    "duration": 10,
    "start_time": "2022-03-30T04:49:25.963Z"
   },
   {
    "duration": 17,
    "start_time": "2022-03-30T04:49:25.975Z"
   },
   {
    "duration": 43,
    "start_time": "2022-03-30T04:49:25.994Z"
   },
   {
    "duration": 35,
    "start_time": "2022-03-30T04:49:26.039Z"
   },
   {
    "duration": 5,
    "start_time": "2022-03-30T04:49:26.077Z"
   },
   {
    "duration": 28,
    "start_time": "2022-03-30T04:49:26.084Z"
   },
   {
    "duration": 24,
    "start_time": "2022-03-30T04:49:26.132Z"
   },
   {
    "duration": 14,
    "start_time": "2022-03-30T04:49:26.157Z"
   },
   {
    "duration": 21,
    "start_time": "2022-03-30T04:49:26.172Z"
   },
   {
    "duration": 12,
    "start_time": "2022-03-30T04:49:26.195Z"
   },
   {
    "duration": 30,
    "start_time": "2022-03-30T04:49:26.208Z"
   },
   {
    "duration": 12,
    "start_time": "2022-03-30T04:49:26.239Z"
   },
   {
    "duration": 9,
    "start_time": "2022-03-30T04:49:26.252Z"
   },
   {
    "duration": 10,
    "start_time": "2022-03-30T04:49:26.262Z"
   },
   {
    "duration": 2,
    "start_time": "2022-03-30T04:49:26.274Z"
   },
   {
    "duration": 20,
    "start_time": "2022-03-30T04:49:26.278Z"
   },
   {
    "duration": 36,
    "start_time": "2022-03-30T04:49:26.300Z"
   },
   {
    "duration": 5,
    "start_time": "2022-03-30T04:49:26.339Z"
   },
   {
    "duration": 10,
    "start_time": "2022-03-30T04:49:26.346Z"
   },
   {
    "duration": 27,
    "start_time": "2022-03-30T04:49:26.358Z"
   },
   {
    "duration": 55,
    "start_time": "2022-03-30T04:49:26.386Z"
   },
   {
    "duration": 3,
    "start_time": "2022-03-30T04:49:26.443Z"
   },
   {
    "duration": 25,
    "start_time": "2022-03-30T04:49:26.450Z"
   },
   {
    "duration": 12,
    "start_time": "2022-03-30T04:49:26.477Z"
   },
   {
    "duration": 7,
    "start_time": "2022-03-30T04:49:26.490Z"
   },
   {
    "duration": 53,
    "start_time": "2022-03-30T04:49:26.498Z"
   },
   {
    "duration": 3,
    "start_time": "2022-03-30T04:53:05.328Z"
   },
   {
    "duration": 403,
    "start_time": "2022-03-30T04:53:09.076Z"
   },
   {
    "duration": 65,
    "start_time": "2022-03-30T04:53:09.481Z"
   },
   {
    "duration": 22,
    "start_time": "2022-03-30T04:53:09.548Z"
   },
   {
    "duration": 17,
    "start_time": "2022-03-30T04:53:09.571Z"
   },
   {
    "duration": 51,
    "start_time": "2022-03-30T04:53:09.590Z"
   },
   {
    "duration": 10,
    "start_time": "2022-03-30T04:53:09.643Z"
   },
   {
    "duration": 14,
    "start_time": "2022-03-30T04:53:09.655Z"
   },
   {
    "duration": 24,
    "start_time": "2022-03-30T04:53:09.670Z"
   },
   {
    "duration": 75,
    "start_time": "2022-03-30T04:53:09.696Z"
   },
   {
    "duration": 6,
    "start_time": "2022-03-30T04:53:09.773Z"
   },
   {
    "duration": 28,
    "start_time": "2022-03-30T04:53:09.780Z"
   },
   {
    "duration": 31,
    "start_time": "2022-03-30T04:53:09.809Z"
   },
   {
    "duration": 14,
    "start_time": "2022-03-30T04:53:09.842Z"
   },
   {
    "duration": 20,
    "start_time": "2022-03-30T04:53:09.859Z"
   },
   {
    "duration": 9,
    "start_time": "2022-03-30T04:53:09.881Z"
   },
   {
    "duration": 8,
    "start_time": "2022-03-30T04:53:09.892Z"
   },
   {
    "duration": 11,
    "start_time": "2022-03-30T04:53:09.932Z"
   },
   {
    "duration": 9,
    "start_time": "2022-03-30T04:53:09.944Z"
   },
   {
    "duration": 23,
    "start_time": "2022-03-30T04:53:09.955Z"
   },
   {
    "duration": 3,
    "start_time": "2022-03-30T04:53:09.979Z"
   },
   {
    "duration": 19,
    "start_time": "2022-03-30T04:53:09.983Z"
   },
   {
    "duration": 29,
    "start_time": "2022-03-30T04:53:10.004Z"
   },
   {
    "duration": 4,
    "start_time": "2022-03-30T04:53:10.035Z"
   },
   {
    "duration": 14,
    "start_time": "2022-03-30T04:53:10.041Z"
   },
   {
    "duration": 30,
    "start_time": "2022-03-30T04:53:10.057Z"
   },
   {
    "duration": 20,
    "start_time": "2022-03-30T04:53:10.089Z"
   },
   {
    "duration": 4,
    "start_time": "2022-03-30T04:53:10.131Z"
   },
   {
    "duration": 26,
    "start_time": "2022-03-30T04:53:10.137Z"
   },
   {
    "duration": 14,
    "start_time": "2022-03-30T04:53:10.164Z"
   },
   {
    "duration": 6,
    "start_time": "2022-03-30T04:53:10.180Z"
   },
   {
    "duration": 50,
    "start_time": "2022-03-30T04:53:10.187Z"
   },
   {
    "duration": 9,
    "start_time": "2022-03-30T04:54:15.497Z"
   },
   {
    "duration": 411,
    "start_time": "2022-03-30T04:54:19.152Z"
   },
   {
    "duration": 64,
    "start_time": "2022-03-30T04:54:19.566Z"
   },
   {
    "duration": 22,
    "start_time": "2022-03-30T04:54:19.632Z"
   },
   {
    "duration": 17,
    "start_time": "2022-03-30T04:54:19.655Z"
   },
   {
    "duration": 59,
    "start_time": "2022-03-30T04:54:19.675Z"
   },
   {
    "duration": 11,
    "start_time": "2022-03-30T04:54:19.736Z"
   },
   {
    "duration": 15,
    "start_time": "2022-03-30T04:54:19.748Z"
   },
   {
    "duration": 18,
    "start_time": "2022-03-30T04:54:19.764Z"
   },
   {
    "duration": 63,
    "start_time": "2022-03-30T04:54:19.784Z"
   },
   {
    "duration": 5,
    "start_time": "2022-03-30T04:54:19.848Z"
   },
   {
    "duration": 27,
    "start_time": "2022-03-30T04:54:19.855Z"
   },
   {
    "duration": 22,
    "start_time": "2022-03-30T04:54:19.884Z"
   },
   {
    "duration": 34,
    "start_time": "2022-03-30T04:54:19.908Z"
   },
   {
    "duration": 20,
    "start_time": "2022-03-30T04:54:19.946Z"
   },
   {
    "duration": 10,
    "start_time": "2022-03-30T04:54:19.968Z"
   },
   {
    "duration": 9,
    "start_time": "2022-03-30T04:54:19.980Z"
   },
   {
    "duration": 48,
    "start_time": "2022-03-30T04:54:19.991Z"
   },
   {
    "duration": 10,
    "start_time": "2022-03-30T04:54:20.041Z"
   },
   {
    "duration": 16,
    "start_time": "2022-03-30T04:54:20.053Z"
   },
   {
    "duration": 20,
    "start_time": "2022-03-30T04:54:20.070Z"
   },
   {
    "duration": 47,
    "start_time": "2022-03-30T04:54:20.092Z"
   },
   {
    "duration": 36,
    "start_time": "2022-03-30T04:54:20.141Z"
   },
   {
    "duration": 10,
    "start_time": "2022-03-30T04:54:20.179Z"
   },
   {
    "duration": 652,
    "start_time": "2022-03-30T04:54:20.191Z"
   },
   {
    "duration": 0,
    "start_time": "2022-03-30T04:54:20.845Z"
   },
   {
    "duration": 0,
    "start_time": "2022-03-30T04:54:20.846Z"
   },
   {
    "duration": 0,
    "start_time": "2022-03-30T04:54:20.848Z"
   },
   {
    "duration": 0,
    "start_time": "2022-03-30T04:54:20.849Z"
   },
   {
    "duration": 0,
    "start_time": "2022-03-30T04:54:20.850Z"
   },
   {
    "duration": 0,
    "start_time": "2022-03-30T04:54:20.851Z"
   },
   {
    "duration": 0,
    "start_time": "2022-03-30T04:54:20.852Z"
   },
   {
    "duration": 0,
    "start_time": "2022-03-30T04:54:20.853Z"
   },
   {
    "duration": 4,
    "start_time": "2022-03-30T04:58:02.426Z"
   },
   {
    "duration": 430,
    "start_time": "2022-03-30T04:58:06.836Z"
   },
   {
    "duration": 67,
    "start_time": "2022-03-30T04:58:07.268Z"
   },
   {
    "duration": 22,
    "start_time": "2022-03-30T04:58:07.337Z"
   },
   {
    "duration": 17,
    "start_time": "2022-03-30T04:58:07.361Z"
   },
   {
    "duration": 53,
    "start_time": "2022-03-30T04:58:07.380Z"
   },
   {
    "duration": 11,
    "start_time": "2022-03-30T04:58:07.434Z"
   },
   {
    "duration": 14,
    "start_time": "2022-03-30T04:58:07.447Z"
   },
   {
    "duration": 18,
    "start_time": "2022-03-30T04:58:07.462Z"
   },
   {
    "duration": 67,
    "start_time": "2022-03-30T04:58:07.482Z"
   },
   {
    "duration": 7,
    "start_time": "2022-03-30T04:58:07.552Z"
   },
   {
    "duration": 23,
    "start_time": "2022-03-30T04:58:07.561Z"
   },
   {
    "duration": 47,
    "start_time": "2022-03-30T04:58:07.586Z"
   },
   {
    "duration": 14,
    "start_time": "2022-03-30T04:58:07.635Z"
   },
   {
    "duration": 22,
    "start_time": "2022-03-30T04:58:07.651Z"
   },
   {
    "duration": 8,
    "start_time": "2022-03-30T04:58:07.675Z"
   },
   {
    "duration": 8,
    "start_time": "2022-03-30T04:58:07.685Z"
   },
   {
    "duration": 39,
    "start_time": "2022-03-30T04:58:07.694Z"
   },
   {
    "duration": 10,
    "start_time": "2022-03-30T04:58:07.735Z"
   },
   {
    "duration": 10,
    "start_time": "2022-03-30T04:58:07.747Z"
   },
   {
    "duration": 3,
    "start_time": "2022-03-30T04:58:07.758Z"
   },
   {
    "duration": 19,
    "start_time": "2022-03-30T04:58:07.763Z"
   },
   {
    "duration": 7,
    "start_time": "2022-03-30T04:58:07.784Z"
   },
   {
    "duration": 4,
    "start_time": "2022-03-30T04:58:07.832Z"
   },
   {
    "duration": 11,
    "start_time": "2022-03-30T04:58:07.838Z"
   },
   {
    "duration": 25,
    "start_time": "2022-03-30T04:58:07.850Z"
   },
   {
    "duration": 21,
    "start_time": "2022-03-30T04:58:07.877Z"
   },
   {
    "duration": 33,
    "start_time": "2022-03-30T04:58:07.900Z"
   },
   {
    "duration": 19,
    "start_time": "2022-03-30T04:58:07.938Z"
   },
   {
    "duration": 12,
    "start_time": "2022-03-30T04:58:07.959Z"
   },
   {
    "duration": 7,
    "start_time": "2022-03-30T04:58:07.972Z"
   },
   {
    "duration": 65,
    "start_time": "2022-03-30T04:58:07.981Z"
   },
   {
    "duration": 410,
    "start_time": "2022-03-30T05:00:01.379Z"
   },
   {
    "duration": 69,
    "start_time": "2022-03-30T05:00:01.792Z"
   },
   {
    "duration": 23,
    "start_time": "2022-03-30T05:00:01.863Z"
   },
   {
    "duration": 65,
    "start_time": "2022-03-30T05:00:01.888Z"
   },
   {
    "duration": 76,
    "start_time": "2022-03-30T05:00:01.955Z"
   },
   {
    "duration": 10,
    "start_time": "2022-03-30T05:00:02.034Z"
   },
   {
    "duration": 41,
    "start_time": "2022-03-30T05:00:02.046Z"
   },
   {
    "duration": 41,
    "start_time": "2022-03-30T05:00:02.089Z"
   },
   {
    "duration": 55,
    "start_time": "2022-03-30T05:00:02.131Z"
   },
   {
    "duration": 19,
    "start_time": "2022-03-30T05:00:02.188Z"
   },
   {
    "duration": 68,
    "start_time": "2022-03-30T05:00:02.209Z"
   },
   {
    "duration": 76,
    "start_time": "2022-03-30T05:00:02.279Z"
   },
   {
    "duration": 48,
    "start_time": "2022-03-30T05:00:02.357Z"
   },
   {
    "duration": 31,
    "start_time": "2022-03-30T05:00:02.407Z"
   },
   {
    "duration": 13,
    "start_time": "2022-03-30T05:00:02.440Z"
   },
   {
    "duration": 45,
    "start_time": "2022-03-30T05:00:02.454Z"
   },
   {
    "duration": 18,
    "start_time": "2022-03-30T05:00:02.501Z"
   },
   {
    "duration": 16,
    "start_time": "2022-03-30T05:00:02.521Z"
   },
   {
    "duration": 30,
    "start_time": "2022-03-30T05:00:02.539Z"
   },
   {
    "duration": 29,
    "start_time": "2022-03-30T05:00:02.571Z"
   },
   {
    "duration": 68,
    "start_time": "2022-03-30T05:00:02.602Z"
   },
   {
    "duration": 24,
    "start_time": "2022-03-30T05:00:02.672Z"
   },
   {
    "duration": 2374,
    "start_time": "2022-03-30T05:00:02.698Z"
   },
   {
    "duration": 0,
    "start_time": "2022-03-30T05:00:05.074Z"
   },
   {
    "duration": 0,
    "start_time": "2022-03-30T05:00:05.075Z"
   },
   {
    "duration": 0,
    "start_time": "2022-03-30T05:00:05.077Z"
   },
   {
    "duration": 0,
    "start_time": "2022-03-30T05:00:05.078Z"
   },
   {
    "duration": 0,
    "start_time": "2022-03-30T05:00:05.079Z"
   },
   {
    "duration": 0,
    "start_time": "2022-03-30T05:00:05.080Z"
   },
   {
    "duration": 0,
    "start_time": "2022-03-30T05:00:05.081Z"
   },
   {
    "duration": 0,
    "start_time": "2022-03-30T05:00:05.082Z"
   },
   {
    "duration": 436,
    "start_time": "2022-03-30T05:00:22.529Z"
   },
   {
    "duration": 68,
    "start_time": "2022-03-30T05:00:22.968Z"
   },
   {
    "duration": 24,
    "start_time": "2022-03-30T05:00:23.038Z"
   },
   {
    "duration": 16,
    "start_time": "2022-03-30T05:00:23.064Z"
   },
   {
    "duration": 53,
    "start_time": "2022-03-30T05:00:23.083Z"
   },
   {
    "duration": 11,
    "start_time": "2022-03-30T05:00:23.138Z"
   },
   {
    "duration": 20,
    "start_time": "2022-03-30T05:00:23.151Z"
   },
   {
    "duration": 23,
    "start_time": "2022-03-30T05:00:23.173Z"
   },
   {
    "duration": 53,
    "start_time": "2022-03-30T05:00:23.198Z"
   },
   {
    "duration": 6,
    "start_time": "2022-03-30T05:00:23.253Z"
   },
   {
    "duration": 25,
    "start_time": "2022-03-30T05:00:23.260Z"
   },
   {
    "duration": 22,
    "start_time": "2022-03-30T05:00:23.287Z"
   },
   {
    "duration": 34,
    "start_time": "2022-03-30T05:00:23.311Z"
   },
   {
    "duration": 19,
    "start_time": "2022-03-30T05:00:23.348Z"
   },
   {
    "duration": 9,
    "start_time": "2022-03-30T05:00:23.369Z"
   },
   {
    "duration": 11,
    "start_time": "2022-03-30T05:00:23.379Z"
   },
   {
    "duration": 41,
    "start_time": "2022-03-30T05:00:23.392Z"
   },
   {
    "duration": 9,
    "start_time": "2022-03-30T05:00:23.435Z"
   },
   {
    "duration": 10,
    "start_time": "2022-03-30T05:00:23.446Z"
   },
   {
    "duration": 4,
    "start_time": "2022-03-30T05:00:23.457Z"
   },
   {
    "duration": 22,
    "start_time": "2022-03-30T05:00:23.463Z"
   },
   {
    "duration": 6,
    "start_time": "2022-03-30T05:00:23.487Z"
   },
   {
    "duration": 4,
    "start_time": "2022-03-30T05:00:23.495Z"
   },
   {
    "duration": 10,
    "start_time": "2022-03-30T05:00:23.532Z"
   },
   {
    "duration": 12,
    "start_time": "2022-03-30T05:00:23.543Z"
   },
   {
    "duration": 34,
    "start_time": "2022-03-30T05:00:23.557Z"
   },
   {
    "duration": 20,
    "start_time": "2022-03-30T05:00:23.593Z"
   },
   {
    "duration": 4,
    "start_time": "2022-03-30T05:00:23.632Z"
   },
   {
    "duration": 27,
    "start_time": "2022-03-30T05:00:23.638Z"
   },
   {
    "duration": 10,
    "start_time": "2022-03-30T05:00:23.667Z"
   },
   {
    "duration": 7,
    "start_time": "2022-03-30T05:00:23.679Z"
   },
   {
    "duration": 51,
    "start_time": "2022-03-30T05:00:23.688Z"
   },
   {
    "duration": 369,
    "start_time": "2022-03-30T05:02:55.288Z"
   },
   {
    "duration": 63,
    "start_time": "2022-03-30T05:02:55.659Z"
   },
   {
    "duration": 23,
    "start_time": "2022-03-30T05:02:55.724Z"
   },
   {
    "duration": 16,
    "start_time": "2022-03-30T05:02:55.750Z"
   },
   {
    "duration": 35,
    "start_time": "2022-03-30T05:02:55.767Z"
   },
   {
    "duration": 32,
    "start_time": "2022-03-30T05:02:55.804Z"
   },
   {
    "duration": 14,
    "start_time": "2022-03-30T05:02:55.837Z"
   },
   {
    "duration": 19,
    "start_time": "2022-03-30T05:02:55.853Z"
   },
   {
    "duration": 70,
    "start_time": "2022-03-30T05:02:55.873Z"
   },
   {
    "duration": 6,
    "start_time": "2022-03-30T05:02:55.945Z"
   },
   {
    "duration": 23,
    "start_time": "2022-03-30T05:02:55.953Z"
   },
   {
    "duration": 22,
    "start_time": "2022-03-30T05:02:55.978Z"
   },
   {
    "duration": 36,
    "start_time": "2022-03-30T05:02:56.001Z"
   },
   {
    "duration": 24,
    "start_time": "2022-03-30T05:02:56.039Z"
   },
   {
    "duration": 8,
    "start_time": "2022-03-30T05:02:56.065Z"
   },
   {
    "duration": 9,
    "start_time": "2022-03-30T05:02:56.075Z"
   },
   {
    "duration": 15,
    "start_time": "2022-03-30T05:02:56.086Z"
   },
   {
    "duration": 35,
    "start_time": "2022-03-30T05:02:56.103Z"
   },
   {
    "duration": 8,
    "start_time": "2022-03-30T05:02:56.139Z"
   },
   {
    "duration": 6,
    "start_time": "2022-03-30T05:02:56.149Z"
   },
   {
    "duration": 23,
    "start_time": "2022-03-30T05:02:56.158Z"
   },
   {
    "duration": 7,
    "start_time": "2022-03-30T05:02:56.183Z"
   },
   {
    "duration": 104,
    "start_time": "2022-03-30T05:02:56.193Z"
   },
   {
    "duration": 0,
    "start_time": "2022-03-30T05:02:56.299Z"
   },
   {
    "duration": 0,
    "start_time": "2022-03-30T05:02:56.301Z"
   },
   {
    "duration": 0,
    "start_time": "2022-03-30T05:02:56.302Z"
   },
   {
    "duration": 0,
    "start_time": "2022-03-30T05:02:56.303Z"
   },
   {
    "duration": 0,
    "start_time": "2022-03-30T05:02:56.305Z"
   },
   {
    "duration": 0,
    "start_time": "2022-03-30T05:02:56.306Z"
   },
   {
    "duration": 0,
    "start_time": "2022-03-30T05:02:56.308Z"
   },
   {
    "duration": 0,
    "start_time": "2022-03-30T05:02:56.309Z"
   },
   {
    "duration": 0,
    "start_time": "2022-03-30T05:02:56.316Z"
   },
   {
    "duration": 0,
    "start_time": "2022-03-30T05:02:56.331Z"
   },
   {
    "duration": 0,
    "start_time": "2022-03-30T05:02:56.333Z"
   },
   {
    "duration": 10,
    "start_time": "2022-03-30T05:04:17.486Z"
   },
   {
    "duration": 423,
    "start_time": "2022-03-30T05:04:21.027Z"
   },
   {
    "duration": 66,
    "start_time": "2022-03-30T05:04:21.452Z"
   },
   {
    "duration": 24,
    "start_time": "2022-03-30T05:04:21.520Z"
   },
   {
    "duration": 19,
    "start_time": "2022-03-30T05:04:21.546Z"
   },
   {
    "duration": 34,
    "start_time": "2022-03-30T05:04:21.567Z"
   },
   {
    "duration": 35,
    "start_time": "2022-03-30T05:04:21.603Z"
   },
   {
    "duration": 14,
    "start_time": "2022-03-30T05:04:21.640Z"
   },
   {
    "duration": 20,
    "start_time": "2022-03-30T05:04:21.656Z"
   },
   {
    "duration": 55,
    "start_time": "2022-03-30T05:04:21.677Z"
   },
   {
    "duration": 6,
    "start_time": "2022-03-30T05:04:21.734Z"
   },
   {
    "duration": 22,
    "start_time": "2022-03-30T05:04:21.741Z"
   },
   {
    "duration": 21,
    "start_time": "2022-03-30T05:04:21.765Z"
   },
   {
    "duration": 14,
    "start_time": "2022-03-30T05:04:21.788Z"
   },
   {
    "duration": 19,
    "start_time": "2022-03-30T05:04:21.834Z"
   },
   {
    "duration": 8,
    "start_time": "2022-03-30T05:04:21.855Z"
   },
   {
    "duration": 9,
    "start_time": "2022-03-30T05:04:21.864Z"
   },
   {
    "duration": 9,
    "start_time": "2022-03-30T05:04:21.875Z"
   },
   {
    "duration": 14,
    "start_time": "2022-03-30T05:04:21.885Z"
   },
   {
    "duration": 9,
    "start_time": "2022-03-30T05:04:21.932Z"
   },
   {
    "duration": 3,
    "start_time": "2022-03-30T05:04:21.942Z"
   },
   {
    "duration": 18,
    "start_time": "2022-03-30T05:04:21.946Z"
   },
   {
    "duration": 6,
    "start_time": "2022-03-30T05:04:21.966Z"
   },
   {
    "duration": 17,
    "start_time": "2022-03-30T05:04:21.973Z"
   },
   {
    "duration": 12,
    "start_time": "2022-03-30T05:04:21.992Z"
   },
   {
    "duration": 48,
    "start_time": "2022-03-30T05:04:22.006Z"
   },
   {
    "duration": 19,
    "start_time": "2022-03-30T05:04:22.056Z"
   },
   {
    "duration": 5,
    "start_time": "2022-03-30T05:04:22.077Z"
   },
   {
    "duration": 27,
    "start_time": "2022-03-30T05:04:22.084Z"
   },
   {
    "duration": 26,
    "start_time": "2022-03-30T05:04:22.113Z"
   },
   {
    "duration": 5,
    "start_time": "2022-03-30T05:04:22.141Z"
   },
   {
    "duration": 29,
    "start_time": "2022-03-30T05:04:22.147Z"
   },
   {
    "duration": 6,
    "start_time": "2022-03-30T05:04:49.494Z"
   },
   {
    "duration": 22,
    "start_time": "2022-03-30T05:05:01.186Z"
   },
   {
    "duration": 441,
    "start_time": "2022-03-30T05:05:09.915Z"
   },
   {
    "duration": 76,
    "start_time": "2022-03-30T05:05:10.357Z"
   },
   {
    "duration": 23,
    "start_time": "2022-03-30T05:05:10.435Z"
   },
   {
    "duration": 18,
    "start_time": "2022-03-30T05:05:10.460Z"
   },
   {
    "duration": 53,
    "start_time": "2022-03-30T05:05:10.480Z"
   },
   {
    "duration": 11,
    "start_time": "2022-03-30T05:05:10.534Z"
   },
   {
    "duration": 14,
    "start_time": "2022-03-30T05:05:10.546Z"
   },
   {
    "duration": 17,
    "start_time": "2022-03-30T05:05:10.562Z"
   },
   {
    "duration": 58,
    "start_time": "2022-03-30T05:05:10.581Z"
   },
   {
    "duration": 6,
    "start_time": "2022-03-30T05:05:10.641Z"
   },
   {
    "duration": 23,
    "start_time": "2022-03-30T05:05:10.648Z"
   },
   {
    "duration": 21,
    "start_time": "2022-03-30T05:05:10.673Z"
   },
   {
    "duration": 44,
    "start_time": "2022-03-30T05:05:10.695Z"
   },
   {
    "duration": 21,
    "start_time": "2022-03-30T05:05:10.741Z"
   },
   {
    "duration": 9,
    "start_time": "2022-03-30T05:05:10.764Z"
   },
   {
    "duration": 9,
    "start_time": "2022-03-30T05:05:10.774Z"
   },
   {
    "duration": 10,
    "start_time": "2022-03-30T05:05:10.785Z"
   },
   {
    "duration": 38,
    "start_time": "2022-03-30T05:05:10.797Z"
   },
   {
    "duration": 9,
    "start_time": "2022-03-30T05:05:10.837Z"
   },
   {
    "duration": 2,
    "start_time": "2022-03-30T05:05:10.848Z"
   },
   {
    "duration": 19,
    "start_time": "2022-03-30T05:05:10.852Z"
   },
   {
    "duration": 6,
    "start_time": "2022-03-30T05:05:10.873Z"
   },
   {
    "duration": 18,
    "start_time": "2022-03-30T05:05:10.880Z"
   },
   {
    "duration": 36,
    "start_time": "2022-03-30T05:05:10.900Z"
   },
   {
    "duration": 28,
    "start_time": "2022-03-30T05:05:10.938Z"
   },
   {
    "duration": 21,
    "start_time": "2022-03-30T05:05:10.967Z"
   },
   {
    "duration": 3,
    "start_time": "2022-03-30T05:05:10.990Z"
   },
   {
    "duration": 50,
    "start_time": "2022-03-30T05:05:10.996Z"
   },
   {
    "duration": 11,
    "start_time": "2022-03-30T05:05:11.048Z"
   },
   {
    "duration": 6,
    "start_time": "2022-03-30T05:05:11.060Z"
   },
   {
    "duration": 28,
    "start_time": "2022-03-30T05:05:11.068Z"
   },
   {
    "duration": 21,
    "start_time": "2022-03-30T05:11:24.437Z"
   },
   {
    "duration": 427,
    "start_time": "2022-03-30T05:12:17.323Z"
   },
   {
    "duration": 65,
    "start_time": "2022-03-30T05:12:17.753Z"
   },
   {
    "duration": 23,
    "start_time": "2022-03-30T05:12:17.820Z"
   },
   {
    "duration": 16,
    "start_time": "2022-03-30T05:12:17.845Z"
   },
   {
    "duration": 36,
    "start_time": "2022-03-30T05:12:17.863Z"
   },
   {
    "duration": 33,
    "start_time": "2022-03-30T05:12:17.900Z"
   },
   {
    "duration": 13,
    "start_time": "2022-03-30T05:12:17.935Z"
   },
   {
    "duration": 19,
    "start_time": "2022-03-30T05:12:17.950Z"
   },
   {
    "duration": 62,
    "start_time": "2022-03-30T05:12:17.971Z"
   },
   {
    "duration": 7,
    "start_time": "2022-03-30T05:12:18.035Z"
   },
   {
    "duration": 24,
    "start_time": "2022-03-30T05:12:18.044Z"
   },
   {
    "duration": 23,
    "start_time": "2022-03-30T05:12:18.070Z"
   },
   {
    "duration": 50,
    "start_time": "2022-03-30T05:12:18.095Z"
   },
   {
    "duration": 19,
    "start_time": "2022-03-30T05:12:18.148Z"
   },
   {
    "duration": 8,
    "start_time": "2022-03-30T05:12:18.169Z"
   },
   {
    "duration": 8,
    "start_time": "2022-03-30T05:12:18.179Z"
   },
   {
    "duration": 43,
    "start_time": "2022-03-30T05:12:18.189Z"
   },
   {
    "duration": 9,
    "start_time": "2022-03-30T05:12:18.234Z"
   },
   {
    "duration": 8,
    "start_time": "2022-03-30T05:12:18.245Z"
   },
   {
    "duration": 2,
    "start_time": "2022-03-30T05:12:18.255Z"
   },
   {
    "duration": 23,
    "start_time": "2022-03-30T05:12:18.258Z"
   },
   {
    "duration": 6,
    "start_time": "2022-03-30T05:12:18.283Z"
   },
   {
    "duration": 43,
    "start_time": "2022-03-30T05:12:18.291Z"
   },
   {
    "duration": 12,
    "start_time": "2022-03-30T05:12:18.336Z"
   },
   {
    "duration": 27,
    "start_time": "2022-03-30T05:12:18.349Z"
   },
   {
    "duration": 20,
    "start_time": "2022-03-30T05:12:18.378Z"
   },
   {
    "duration": 4,
    "start_time": "2022-03-30T05:12:18.400Z"
   },
   {
    "duration": 43,
    "start_time": "2022-03-30T05:12:18.406Z"
   },
   {
    "duration": 13,
    "start_time": "2022-03-30T05:12:18.451Z"
   },
   {
    "duration": 6,
    "start_time": "2022-03-30T05:12:18.466Z"
   },
   {
    "duration": 31,
    "start_time": "2022-03-30T05:12:18.474Z"
   },
   {
    "duration": 425,
    "start_time": "2022-03-30T05:17:56.497Z"
   },
   {
    "duration": 76,
    "start_time": "2022-03-30T05:17:56.925Z"
   },
   {
    "duration": 23,
    "start_time": "2022-03-30T05:17:57.002Z"
   },
   {
    "duration": 16,
    "start_time": "2022-03-30T05:17:57.027Z"
   },
   {
    "duration": 35,
    "start_time": "2022-03-30T05:17:57.044Z"
   },
   {
    "duration": 11,
    "start_time": "2022-03-30T05:17:57.080Z"
   },
   {
    "duration": 13,
    "start_time": "2022-03-30T05:17:57.092Z"
   },
   {
    "duration": 41,
    "start_time": "2022-03-30T05:17:57.106Z"
   },
   {
    "duration": 33,
    "start_time": "2022-03-30T05:17:57.148Z"
   },
   {
    "duration": 5,
    "start_time": "2022-03-30T05:17:57.184Z"
   },
   {
    "duration": 47,
    "start_time": "2022-03-30T05:17:57.191Z"
   },
   {
    "duration": 22,
    "start_time": "2022-03-30T05:17:57.240Z"
   },
   {
    "duration": 15,
    "start_time": "2022-03-30T05:17:57.263Z"
   },
   {
    "duration": 19,
    "start_time": "2022-03-30T05:17:57.279Z"
   },
   {
    "duration": 38,
    "start_time": "2022-03-30T05:17:57.300Z"
   },
   {
    "duration": 8,
    "start_time": "2022-03-30T05:17:57.340Z"
   },
   {
    "duration": 11,
    "start_time": "2022-03-30T05:17:57.350Z"
   },
   {
    "duration": 9,
    "start_time": "2022-03-30T05:17:57.363Z"
   },
   {
    "duration": 91,
    "start_time": "2022-03-30T05:17:57.374Z"
   },
   {
    "duration": 0,
    "start_time": "2022-03-30T05:17:57.467Z"
   },
   {
    "duration": 0,
    "start_time": "2022-03-30T05:17:57.468Z"
   },
   {
    "duration": 0,
    "start_time": "2022-03-30T05:17:57.470Z"
   },
   {
    "duration": 0,
    "start_time": "2022-03-30T05:17:57.471Z"
   },
   {
    "duration": 0,
    "start_time": "2022-03-30T05:17:57.472Z"
   },
   {
    "duration": 0,
    "start_time": "2022-03-30T05:17:57.473Z"
   },
   {
    "duration": 0,
    "start_time": "2022-03-30T05:17:57.474Z"
   },
   {
    "duration": 0,
    "start_time": "2022-03-30T05:17:57.476Z"
   },
   {
    "duration": 0,
    "start_time": "2022-03-30T05:17:57.477Z"
   },
   {
    "duration": 0,
    "start_time": "2022-03-30T05:17:57.478Z"
   },
   {
    "duration": 0,
    "start_time": "2022-03-30T05:17:57.479Z"
   },
   {
    "duration": 0,
    "start_time": "2022-03-30T05:17:57.480Z"
   },
   {
    "duration": 406,
    "start_time": "2022-03-30T05:18:16.157Z"
   },
   {
    "duration": 65,
    "start_time": "2022-03-30T05:18:16.565Z"
   },
   {
    "duration": 23,
    "start_time": "2022-03-30T05:18:16.631Z"
   },
   {
    "duration": 17,
    "start_time": "2022-03-30T05:18:16.656Z"
   },
   {
    "duration": 34,
    "start_time": "2022-03-30T05:18:16.675Z"
   },
   {
    "duration": 11,
    "start_time": "2022-03-30T05:18:16.732Z"
   },
   {
    "duration": 16,
    "start_time": "2022-03-30T05:18:16.745Z"
   },
   {
    "duration": 17,
    "start_time": "2022-03-30T05:18:16.763Z"
   },
   {
    "duration": 58,
    "start_time": "2022-03-30T05:18:16.782Z"
   },
   {
    "duration": 6,
    "start_time": "2022-03-30T05:18:16.843Z"
   },
   {
    "duration": 24,
    "start_time": "2022-03-30T05:18:16.850Z"
   },
   {
    "duration": 21,
    "start_time": "2022-03-30T05:18:16.876Z"
   },
   {
    "duration": 40,
    "start_time": "2022-03-30T05:18:16.898Z"
   },
   {
    "duration": 21,
    "start_time": "2022-03-30T05:18:16.939Z"
   },
   {
    "duration": 8,
    "start_time": "2022-03-30T05:18:16.962Z"
   },
   {
    "duration": 10,
    "start_time": "2022-03-30T05:18:16.971Z"
   },
   {
    "duration": 8,
    "start_time": "2022-03-30T05:18:16.983Z"
   },
   {
    "duration": 42,
    "start_time": "2022-03-30T05:18:16.993Z"
   },
   {
    "duration": 4,
    "start_time": "2022-03-30T05:18:17.037Z"
   },
   {
    "duration": 12,
    "start_time": "2022-03-30T05:18:17.043Z"
   },
   {
    "duration": 17,
    "start_time": "2022-03-30T05:18:17.057Z"
   },
   {
    "duration": 7,
    "start_time": "2022-03-30T05:18:17.075Z"
   },
   {
    "duration": 11,
    "start_time": "2022-03-30T05:18:17.083Z"
   },
   {
    "duration": 38,
    "start_time": "2022-03-30T05:18:17.096Z"
   },
   {
    "duration": 26,
    "start_time": "2022-03-30T05:18:17.136Z"
   },
   {
    "duration": 19,
    "start_time": "2022-03-30T05:18:17.164Z"
   },
   {
    "duration": 3,
    "start_time": "2022-03-30T05:18:17.185Z"
   },
   {
    "duration": 50,
    "start_time": "2022-03-30T05:18:17.191Z"
   },
   {
    "duration": 11,
    "start_time": "2022-03-30T05:18:17.243Z"
   },
   {
    "duration": 6,
    "start_time": "2022-03-30T05:18:17.255Z"
   },
   {
    "duration": 33,
    "start_time": "2022-03-30T05:18:17.262Z"
   },
   {
    "duration": 373,
    "start_time": "2022-03-30T21:14:14.847Z"
   },
   {
    "duration": 73,
    "start_time": "2022-03-30T21:14:15.223Z"
   },
   {
    "duration": 21,
    "start_time": "2022-03-30T21:14:15.297Z"
   },
   {
    "duration": 15,
    "start_time": "2022-03-30T21:14:15.319Z"
   },
   {
    "duration": 36,
    "start_time": "2022-03-30T21:14:15.336Z"
   },
   {
    "duration": 27,
    "start_time": "2022-03-30T21:14:15.374Z"
   },
   {
    "duration": 13,
    "start_time": "2022-03-30T21:14:15.403Z"
   },
   {
    "duration": 29,
    "start_time": "2022-03-30T21:14:15.418Z"
   },
   {
    "duration": 31,
    "start_time": "2022-03-30T21:14:15.449Z"
   },
   {
    "duration": 20,
    "start_time": "2022-03-30T21:14:15.482Z"
   },
   {
    "duration": 33,
    "start_time": "2022-03-30T21:14:15.504Z"
   },
   {
    "duration": 20,
    "start_time": "2022-03-30T21:14:15.539Z"
   },
   {
    "duration": 33,
    "start_time": "2022-03-30T21:14:15.560Z"
   },
   {
    "duration": 32,
    "start_time": "2022-03-30T21:14:15.596Z"
   },
   {
    "duration": 9,
    "start_time": "2022-03-30T21:14:15.630Z"
   },
   {
    "duration": 13,
    "start_time": "2022-03-30T21:14:15.641Z"
   },
   {
    "duration": 9,
    "start_time": "2022-03-30T21:14:15.656Z"
   },
   {
    "duration": 21,
    "start_time": "2022-03-30T21:14:15.667Z"
   },
   {
    "duration": 6,
    "start_time": "2022-03-30T21:14:15.690Z"
   },
   {
    "duration": 22,
    "start_time": "2022-03-30T21:14:15.698Z"
   },
   {
    "duration": 24,
    "start_time": "2022-03-30T21:14:15.722Z"
   },
   {
    "duration": 6,
    "start_time": "2022-03-30T21:14:15.748Z"
   },
   {
    "duration": 37,
    "start_time": "2022-03-30T21:14:15.789Z"
   },
   {
    "duration": 23,
    "start_time": "2022-03-30T21:14:15.828Z"
   },
   {
    "duration": 4,
    "start_time": "2022-03-30T21:14:15.852Z"
   },
   {
    "duration": 44,
    "start_time": "2022-03-30T21:14:15.858Z"
   },
   {
    "duration": 13,
    "start_time": "2022-03-30T21:14:15.904Z"
   },
   {
    "duration": 20,
    "start_time": "2022-03-30T21:14:15.918Z"
   },
   {
    "duration": 30,
    "start_time": "2022-03-30T21:14:15.939Z"
   },
   {
    "duration": 360,
    "start_time": "2022-03-30T21:14:24.341Z"
   },
   {
    "duration": 63,
    "start_time": "2022-03-30T21:14:24.703Z"
   },
   {
    "duration": 21,
    "start_time": "2022-03-30T21:14:24.767Z"
   },
   {
    "duration": 18,
    "start_time": "2022-03-30T21:14:24.790Z"
   },
   {
    "duration": 30,
    "start_time": "2022-03-30T21:14:24.810Z"
   },
   {
    "duration": 9,
    "start_time": "2022-03-30T21:14:24.842Z"
   },
   {
    "duration": 13,
    "start_time": "2022-03-30T21:14:24.853Z"
   },
   {
    "duration": 56,
    "start_time": "2022-03-30T21:14:24.867Z"
   },
   {
    "duration": 33,
    "start_time": "2022-03-30T21:14:24.924Z"
   },
   {
    "duration": 5,
    "start_time": "2022-03-30T21:14:24.959Z"
   },
   {
    "duration": 44,
    "start_time": "2022-03-30T21:14:24.965Z"
   },
   {
    "duration": 19,
    "start_time": "2022-03-30T21:14:25.010Z"
   },
   {
    "duration": 12,
    "start_time": "2022-03-30T21:14:25.030Z"
   },
   {
    "duration": 16,
    "start_time": "2022-03-30T21:14:25.044Z"
   },
   {
    "duration": 7,
    "start_time": "2022-03-30T21:14:25.061Z"
   },
   {
    "duration": 32,
    "start_time": "2022-03-30T21:14:25.070Z"
   },
   {
    "duration": 8,
    "start_time": "2022-03-30T21:14:25.103Z"
   },
   {
    "duration": 7,
    "start_time": "2022-03-30T21:14:25.113Z"
   },
   {
    "duration": 4,
    "start_time": "2022-03-30T21:14:25.121Z"
   },
   {
    "duration": 9,
    "start_time": "2022-03-30T21:14:25.127Z"
   },
   {
    "duration": 15,
    "start_time": "2022-03-30T21:14:25.137Z"
   },
   {
    "duration": 7,
    "start_time": "2022-03-30T21:14:25.154Z"
   },
   {
    "duration": 9,
    "start_time": "2022-03-30T21:14:25.202Z"
   },
   {
    "duration": 7,
    "start_time": "2022-03-30T21:14:25.213Z"
   },
   {
    "duration": 24,
    "start_time": "2022-03-30T21:14:25.221Z"
   },
   {
    "duration": 17,
    "start_time": "2022-03-30T21:14:25.246Z"
   },
   {
    "duration": 4,
    "start_time": "2022-03-30T21:14:25.264Z"
   },
   {
    "duration": 19,
    "start_time": "2022-03-30T21:14:25.301Z"
   },
   {
    "duration": 12,
    "start_time": "2022-03-30T21:14:25.322Z"
   },
   {
    "duration": 6,
    "start_time": "2022-03-30T21:14:25.335Z"
   },
   {
    "duration": 25,
    "start_time": "2022-03-30T21:14:25.342Z"
   },
   {
    "duration": 29,
    "start_time": "2022-03-30T21:17:29.246Z"
   },
   {
    "duration": 394,
    "start_time": "2022-03-30T21:18:25.101Z"
   },
   {
    "duration": 74,
    "start_time": "2022-03-30T21:18:25.500Z"
   },
   {
    "duration": 20,
    "start_time": "2022-03-30T21:18:25.576Z"
   },
   {
    "duration": 13,
    "start_time": "2022-03-30T21:18:25.597Z"
   },
   {
    "duration": 28,
    "start_time": "2022-03-30T21:18:25.612Z"
   },
   {
    "duration": 9,
    "start_time": "2022-03-30T21:18:25.641Z"
   },
   {
    "duration": 14,
    "start_time": "2022-03-30T21:18:25.652Z"
   },
   {
    "duration": 35,
    "start_time": "2022-03-30T21:18:25.667Z"
   },
   {
    "duration": 32,
    "start_time": "2022-03-30T21:18:25.703Z"
   },
   {
    "duration": 5,
    "start_time": "2022-03-30T21:18:25.737Z"
   },
   {
    "duration": 30,
    "start_time": "2022-03-30T21:18:25.743Z"
   },
   {
    "duration": 36,
    "start_time": "2022-03-30T21:18:25.774Z"
   },
   {
    "duration": 27,
    "start_time": "2022-03-30T21:18:25.812Z"
   },
   {
    "duration": 16,
    "start_time": "2022-03-30T21:18:25.842Z"
   },
   {
    "duration": 9,
    "start_time": "2022-03-30T21:18:25.859Z"
   },
   {
    "duration": 18,
    "start_time": "2022-03-30T21:18:25.870Z"
   },
   {
    "duration": 16,
    "start_time": "2022-03-30T21:18:25.889Z"
   },
   {
    "duration": 8,
    "start_time": "2022-03-30T21:18:25.907Z"
   },
   {
    "duration": 4,
    "start_time": "2022-03-30T21:18:25.917Z"
   },
   {
    "duration": 13,
    "start_time": "2022-03-30T21:18:25.923Z"
   },
   {
    "duration": 14,
    "start_time": "2022-03-30T21:18:25.937Z"
   },
   {
    "duration": 6,
    "start_time": "2022-03-30T21:18:25.953Z"
   },
   {
    "duration": 19,
    "start_time": "2022-03-30T21:18:25.960Z"
   },
   {
    "duration": 23,
    "start_time": "2022-03-30T21:18:25.981Z"
   },
   {
    "duration": 26,
    "start_time": "2022-03-30T21:18:26.005Z"
   },
   {
    "duration": 17,
    "start_time": "2022-03-30T21:18:26.033Z"
   },
   {
    "duration": 3,
    "start_time": "2022-03-30T21:18:26.052Z"
   },
   {
    "duration": 46,
    "start_time": "2022-03-30T21:18:26.057Z"
   },
   {
    "duration": 12,
    "start_time": "2022-03-30T21:18:26.105Z"
   },
   {
    "duration": 4,
    "start_time": "2022-03-30T21:18:26.119Z"
   },
   {
    "duration": 26,
    "start_time": "2022-03-30T21:18:26.125Z"
   },
   {
    "duration": 430,
    "start_time": "2022-03-30T21:19:02.871Z"
   },
   {
    "duration": 63,
    "start_time": "2022-03-30T21:19:03.303Z"
   },
   {
    "duration": 20,
    "start_time": "2022-03-30T21:19:03.368Z"
   },
   {
    "duration": 19,
    "start_time": "2022-03-30T21:19:03.390Z"
   },
   {
    "duration": 28,
    "start_time": "2022-03-30T21:19:03.411Z"
   },
   {
    "duration": 10,
    "start_time": "2022-03-30T21:19:03.440Z"
   },
   {
    "duration": 12,
    "start_time": "2022-03-30T21:19:03.452Z"
   },
   {
    "duration": 41,
    "start_time": "2022-03-30T21:19:03.466Z"
   },
   {
    "duration": 35,
    "start_time": "2022-03-30T21:19:03.509Z"
   },
   {
    "duration": 6,
    "start_time": "2022-03-30T21:19:03.547Z"
   },
   {
    "duration": 21,
    "start_time": "2022-03-30T21:19:03.554Z"
   },
   {
    "duration": 41,
    "start_time": "2022-03-30T21:19:03.577Z"
   },
   {
    "duration": 13,
    "start_time": "2022-03-30T21:19:03.619Z"
   },
   {
    "duration": 21,
    "start_time": "2022-03-30T21:19:03.634Z"
   },
   {
    "duration": 8,
    "start_time": "2022-03-30T21:19:03.657Z"
   },
   {
    "duration": 37,
    "start_time": "2022-03-30T21:19:03.667Z"
   },
   {
    "duration": 9,
    "start_time": "2022-03-30T21:19:03.707Z"
   },
   {
    "duration": 9,
    "start_time": "2022-03-30T21:19:03.718Z"
   },
   {
    "duration": 5,
    "start_time": "2022-03-30T21:19:03.729Z"
   },
   {
    "duration": 9,
    "start_time": "2022-03-30T21:19:03.736Z"
   },
   {
    "duration": 57,
    "start_time": "2022-03-30T21:19:03.747Z"
   },
   {
    "duration": 8,
    "start_time": "2022-03-30T21:19:03.806Z"
   },
   {
    "duration": 11,
    "start_time": "2022-03-30T21:19:03.815Z"
   },
   {
    "duration": 11,
    "start_time": "2022-03-30T21:19:03.828Z"
   },
   {
    "duration": 25,
    "start_time": "2022-03-30T21:19:03.841Z"
   },
   {
    "duration": 49,
    "start_time": "2022-03-30T21:19:03.868Z"
   },
   {
    "duration": 3,
    "start_time": "2022-03-30T21:19:03.919Z"
   },
   {
    "duration": 19,
    "start_time": "2022-03-30T21:19:03.927Z"
   },
   {
    "duration": 10,
    "start_time": "2022-03-30T21:19:03.947Z"
   },
   {
    "duration": 5,
    "start_time": "2022-03-30T21:19:03.959Z"
   },
   {
    "duration": 56,
    "start_time": "2022-03-30T21:19:03.966Z"
   },
   {
    "duration": 66,
    "start_time": "2022-03-31T04:00:18.617Z"
   },
   {
    "duration": 471,
    "start_time": "2022-03-31T04:01:24.905Z"
   },
   {
    "duration": 68,
    "start_time": "2022-03-31T04:01:25.379Z"
   },
   {
    "duration": 47,
    "start_time": "2022-03-31T04:01:25.449Z"
   },
   {
    "duration": 22,
    "start_time": "2022-03-31T04:01:25.499Z"
   },
   {
    "duration": 67,
    "start_time": "2022-03-31T04:01:25.526Z"
   },
   {
    "duration": 15,
    "start_time": "2022-03-31T04:01:25.596Z"
   },
   {
    "duration": 20,
    "start_time": "2022-03-31T04:01:25.613Z"
   },
   {
    "duration": 67,
    "start_time": "2022-03-31T04:01:25.635Z"
   },
   {
    "duration": 46,
    "start_time": "2022-03-31T04:01:25.705Z"
   },
   {
    "duration": 30,
    "start_time": "2022-03-31T04:01:25.753Z"
   },
   {
    "duration": 30,
    "start_time": "2022-03-31T04:01:25.786Z"
   },
   {
    "duration": 26,
    "start_time": "2022-03-31T04:01:25.818Z"
   },
   {
    "duration": 51,
    "start_time": "2022-03-31T04:01:25.847Z"
   },
   {
    "duration": 27,
    "start_time": "2022-03-31T04:01:25.904Z"
   },
   {
    "duration": 50,
    "start_time": "2022-03-31T04:01:25.933Z"
   },
   {
    "duration": 12,
    "start_time": "2022-03-31T04:01:25.986Z"
   },
   {
    "duration": 13,
    "start_time": "2022-03-31T04:01:26.001Z"
   },
   {
    "duration": 12,
    "start_time": "2022-03-31T04:01:26.016Z"
   },
   {
    "duration": 15,
    "start_time": "2022-03-31T04:01:26.031Z"
   },
   {
    "duration": 44,
    "start_time": "2022-03-31T04:01:26.048Z"
   },
   {
    "duration": 25,
    "start_time": "2022-03-31T04:01:26.095Z"
   },
   {
    "duration": 11,
    "start_time": "2022-03-31T04:01:26.122Z"
   },
   {
    "duration": 58,
    "start_time": "2022-03-31T04:01:26.135Z"
   },
   {
    "duration": 12,
    "start_time": "2022-03-31T04:01:26.196Z"
   },
   {
    "duration": 34,
    "start_time": "2022-03-31T04:01:26.210Z"
   },
   {
    "duration": 60,
    "start_time": "2022-03-31T04:01:26.246Z"
   },
   {
    "duration": 6,
    "start_time": "2022-03-31T04:01:26.309Z"
   },
   {
    "duration": 35,
    "start_time": "2022-03-31T04:01:26.317Z"
   },
   {
    "duration": 39,
    "start_time": "2022-03-31T04:01:26.355Z"
   },
   {
    "duration": 9,
    "start_time": "2022-03-31T04:01:26.396Z"
   },
   {
    "duration": 31,
    "start_time": "2022-03-31T04:01:26.408Z"
   },
   {
    "duration": 517,
    "start_time": "2022-03-31T06:08:37.938Z"
   },
   {
    "duration": 88,
    "start_time": "2022-03-31T06:08:38.458Z"
   },
   {
    "duration": 32,
    "start_time": "2022-03-31T06:08:38.548Z"
   },
   {
    "duration": 20,
    "start_time": "2022-03-31T06:08:38.583Z"
   },
   {
    "duration": 73,
    "start_time": "2022-03-31T06:08:38.606Z"
   },
   {
    "duration": 13,
    "start_time": "2022-03-31T06:08:38.681Z"
   },
   {
    "duration": 20,
    "start_time": "2022-03-31T06:08:38.696Z"
   },
   {
    "duration": 48,
    "start_time": "2022-03-31T06:08:38.718Z"
   },
   {
    "duration": 49,
    "start_time": "2022-03-31T06:08:38.768Z"
   },
   {
    "duration": 28,
    "start_time": "2022-03-31T06:08:38.820Z"
   },
   {
    "duration": 30,
    "start_time": "2022-03-31T06:08:38.850Z"
   },
   {
    "duration": 26,
    "start_time": "2022-03-31T06:08:38.882Z"
   },
   {
    "duration": 20,
    "start_time": "2022-03-31T06:08:38.942Z"
   },
   {
    "duration": 27,
    "start_time": "2022-03-31T06:08:38.964Z"
   },
   {
    "duration": 11,
    "start_time": "2022-03-31T06:08:38.993Z"
   },
   {
    "duration": 43,
    "start_time": "2022-03-31T06:08:39.006Z"
   },
   {
    "duration": 22,
    "start_time": "2022-03-31T06:08:39.052Z"
   },
   {
    "duration": 11,
    "start_time": "2022-03-31T06:08:39.077Z"
   },
   {
    "duration": 6,
    "start_time": "2022-03-31T06:08:39.090Z"
   },
   {
    "duration": 15,
    "start_time": "2022-03-31T06:08:39.098Z"
   },
   {
    "duration": 24,
    "start_time": "2022-03-31T06:08:39.142Z"
   },
   {
    "duration": 9,
    "start_time": "2022-03-31T06:08:39.168Z"
   },
   {
    "duration": 13,
    "start_time": "2022-03-31T06:08:39.180Z"
   },
   {
    "duration": 15,
    "start_time": "2022-03-31T06:08:39.195Z"
   },
   {
    "duration": 36,
    "start_time": "2022-03-31T06:08:39.243Z"
   },
   {
    "duration": 27,
    "start_time": "2022-03-31T06:08:39.281Z"
   },
   {
    "duration": 5,
    "start_time": "2022-03-31T06:08:39.310Z"
   },
   {
    "duration": 30,
    "start_time": "2022-03-31T06:08:39.346Z"
   },
   {
    "duration": 17,
    "start_time": "2022-03-31T06:08:39.378Z"
   },
   {
    "duration": 7,
    "start_time": "2022-03-31T06:08:39.397Z"
   },
   {
    "duration": 64,
    "start_time": "2022-03-31T06:08:39.405Z"
   },
   {
    "duration": 501,
    "start_time": "2022-03-31T19:03:45.464Z"
   },
   {
    "duration": 75,
    "start_time": "2022-03-31T19:03:45.968Z"
   },
   {
    "duration": 42,
    "start_time": "2022-03-31T19:03:46.045Z"
   },
   {
    "duration": 25,
    "start_time": "2022-03-31T19:03:46.089Z"
   },
   {
    "duration": 74,
    "start_time": "2022-03-31T19:03:46.117Z"
   },
   {
    "duration": 13,
    "start_time": "2022-03-31T19:03:46.193Z"
   },
   {
    "duration": 19,
    "start_time": "2022-03-31T19:03:46.209Z"
   },
   {
    "duration": 26,
    "start_time": "2022-03-31T19:03:46.230Z"
   },
   {
    "duration": 52,
    "start_time": "2022-03-31T19:03:46.282Z"
   },
   {
    "duration": 7,
    "start_time": "2022-03-31T19:03:46.336Z"
   },
   {
    "duration": 60,
    "start_time": "2022-03-31T19:03:46.345Z"
   },
   {
    "duration": 25,
    "start_time": "2022-03-31T19:03:46.407Z"
   },
   {
    "duration": 19,
    "start_time": "2022-03-31T19:03:46.434Z"
   },
   {
    "duration": 49,
    "start_time": "2022-03-31T19:03:46.456Z"
   },
   {
    "duration": 10,
    "start_time": "2022-03-31T19:03:46.507Z"
   },
   {
    "duration": 10,
    "start_time": "2022-03-31T19:03:46.519Z"
   },
   {
    "duration": 53,
    "start_time": "2022-03-31T19:03:46.531Z"
   },
   {
    "duration": 12,
    "start_time": "2022-03-31T19:03:46.591Z"
   },
   {
    "duration": 6,
    "start_time": "2022-03-31T19:03:46.605Z"
   },
   {
    "duration": 14,
    "start_time": "2022-03-31T19:03:46.613Z"
   },
   {
    "duration": 22,
    "start_time": "2022-03-31T19:03:46.629Z"
   },
   {
    "duration": 10,
    "start_time": "2022-03-31T19:03:46.682Z"
   },
   {
    "duration": 19,
    "start_time": "2022-03-31T19:03:46.694Z"
   },
   {
    "duration": 14,
    "start_time": "2022-03-31T19:03:46.716Z"
   },
   {
    "duration": 58,
    "start_time": "2022-03-31T19:03:46.731Z"
   },
   {
    "duration": 27,
    "start_time": "2022-03-31T19:03:46.792Z"
   },
   {
    "duration": 4,
    "start_time": "2022-03-31T19:03:46.821Z"
   },
   {
    "duration": 33,
    "start_time": "2022-03-31T19:03:46.827Z"
   },
   {
    "duration": 14,
    "start_time": "2022-03-31T19:03:46.891Z"
   },
   {
    "duration": 7,
    "start_time": "2022-03-31T19:03:46.907Z"
   },
   {
    "duration": 31,
    "start_time": "2022-03-31T19:03:46.916Z"
   }
  ],
  "kernelspec": {
   "display_name": "Python 3 (ipykernel)",
   "language": "python",
   "name": "python3"
  },
  "language_info": {
   "codemirror_mode": {
    "name": "ipython",
    "version": 3
   },
   "file_extension": ".py",
   "mimetype": "text/x-python",
   "name": "python",
   "nbconvert_exporter": "python",
   "pygments_lexer": "ipython3",
   "version": "3.9.7"
  },
  "toc": {
   "base_numbering": 1,
   "nav_menu": {},
   "number_sections": true,
   "sideBar": true,
   "skip_h1_title": true,
   "title_cell": "Table of Contents",
   "title_sidebar": "Contents",
   "toc_cell": false,
   "toc_position": {},
   "toc_section_display": true,
   "toc_window_display": false
  }
 },
 "nbformat": 4,
 "nbformat_minor": 5
}
