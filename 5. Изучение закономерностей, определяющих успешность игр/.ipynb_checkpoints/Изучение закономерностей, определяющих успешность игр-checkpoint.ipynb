{
 "cells": [
  {
   "cell_type": "markdown",
   "metadata": {
    "toc": true
   },
   "source": [
    "<h1>Table of Contents<span class=\"tocSkip\"></span></h1>\n",
    "<div class=\"toc\"><ul class=\"toc-item\"><li><span><a href=\"#Приведение-столбцов-к-нижнему-регистру\" data-toc-modified-id=\"Приведение-столбцов-к-нижнему-регистру-1\"><span class=\"toc-item-num\">1&nbsp;&nbsp;</span>Приведение столбцов к нижнему регистру</a></span></li><li><span><a href=\"#Преобразование-данных-в-нужные-типы\" data-toc-modified-id=\"Преобразование-данных-в-нужные-типы-2\"><span class=\"toc-item-num\">2&nbsp;&nbsp;</span>Преобразование данных в нужные типы</a></span></li><li><span><a href=\"#Обработка-пропусков\" data-toc-modified-id=\"Обработка-пропусков-3\"><span class=\"toc-item-num\">3&nbsp;&nbsp;</span>Обработка пропусков</a></span></li><li><span><a href=\"#Добавление-стобца-с-суммарными-продажи-во-всех-регионах\" data-toc-modified-id=\"Добавление-стобца-с-суммарными-продажи-во-всех-регионах-4\"><span class=\"toc-item-num\">4&nbsp;&nbsp;</span>Добавление стобца с суммарными продажи во всех регионах</a></span></li><li><span><a href=\"#Cколько-игр-выпускалось-в-разные-годы\" data-toc-modified-id=\"Cколько-игр-выпускалось-в-разные-годы-5\"><span class=\"toc-item-num\">5&nbsp;&nbsp;</span>Cколько игр выпускалось в разные годы</a></span></li><li><span><a href=\"#Как-менялись-продажи-по-платформам\" data-toc-modified-id=\"Как-менялись-продажи-по-платформам-6\"><span class=\"toc-item-num\">6&nbsp;&nbsp;</span>Как менялись продажи по платформам</a></span></li><li><span><a href=\"#Какие-платформы-лидируют-по-продажам,-растут-или-падают?\" data-toc-modified-id=\"Какие-платформы-лидируют-по-продажам,-растут-или-падают?-7\"><span class=\"toc-item-num\">7&nbsp;&nbsp;</span>Какие платформы лидируют по продажам, растут или падают?</a></span></li><li><span><a href=\"#Постройте-график-«ящик-с-усами»-по-глобальным-продажам-игр-в-разбивке-по-платформам\" data-toc-modified-id=\"Постройте-график-«ящик-с-усами»-по-глобальным-продажам-игр-в-разбивке-по-платформам-8\"><span class=\"toc-item-num\">8&nbsp;&nbsp;</span>Постройте график «ящик с усами» по глобальным продажам игр в разбивке по платформам</a></span></li><li><span><a href=\"#Посмотрите,-как-влияют-на-продажи-внутри-одной-популярной-платформы-отзывы-пользователей-и-критиков.-Постройте-диаграмму-рассеяния-и-посчитайте-корреляцию-между-отзывами-и-продажами\" data-toc-modified-id=\"Посмотрите,-как-влияют-на-продажи-внутри-одной-популярной-платформы-отзывы-пользователей-и-критиков.-Постройте-диаграмму-рассеяния-и-посчитайте-корреляцию-между-отзывами-и-продажами-9\"><span class=\"toc-item-num\">9&nbsp;&nbsp;</span>Посмотрите, как влияют на продажи внутри одной популярной платформы отзывы пользователей и критиков. Постройте диаграмму рассеяния и посчитайте корреляцию между отзывами и продажами</a></span></li><li><span><a href=\"#Соотнесите-выводы-с-продажами-игр-на-других-платформах\" data-toc-modified-id=\"Соотнесите-выводы-с-продажами-игр-на-других-платформах-10\"><span class=\"toc-item-num\">10&nbsp;&nbsp;</span>Соотнесите выводы с продажами игр на других платформах</a></span></li><li><span><a href=\"#Посмотрите-на-общее-распределение-игр-по-жанрам.-Что-можно-сказать-о-самых-прибыльных-жанрах?-Выделяются-ли-жанры-с-высокими-и-низкими-продажами?\" data-toc-modified-id=\"Посмотрите-на-общее-распределение-игр-по-жанрам.-Что-можно-сказать-о-самых-прибыльных-жанрах?-Выделяются-ли-жанры-с-высокими-и-низкими-продажами?-11\"><span class=\"toc-item-num\">11&nbsp;&nbsp;</span>Посмотрите на общее распределение игр по жанрам. Что можно сказать о самых прибыльных жанрах? Выделяются ли жанры с высокими и низкими продажами?</a></span></li><li><span><a href=\"#Самые-популярные-платформы-(топ-5)\" data-toc-modified-id=\"Самые-популярные-платформы-(топ-5)-12\"><span class=\"toc-item-num\">12&nbsp;&nbsp;</span>Самые популярные платформы (топ-5)</a></span></li><li><span><a href=\"#Самые-популярные-жанры-(топ-5)\" data-toc-modified-id=\"Самые-популярные-жанры-(топ-5)-13\"><span class=\"toc-item-num\">13&nbsp;&nbsp;</span>Самые популярные жанры (топ-5)</a></span></li><li><span><a href=\"#Влияет-ли-рейтинг-ESRB-на-продажи-в-отдельном-регионе\" data-toc-modified-id=\"Влияет-ли-рейтинг-ESRB-на-продажи-в-отдельном-регионе-14\"><span class=\"toc-item-num\">14&nbsp;&nbsp;</span>Влияет ли рейтинг ESRB на продажи в отдельном регионе</a></span></li><li><span><a href=\"#Средние-пользовательские-рейтинги-платформ-Xbox-One-и-PC-одинаковые\" data-toc-modified-id=\"Средние-пользовательские-рейтинги-платформ-Xbox-One-и-PC-одинаковые-15\"><span class=\"toc-item-num\">15&nbsp;&nbsp;</span>Средние пользовательские рейтинги платформ Xbox One и PC одинаковые</a></span></li><li><span><a href=\"#Средние-пользовательские-рейтинги-жанров-Action-(англ.-«действие»,-экшен-игры)-и-Sports-(англ.-«спортивные-соревнования»)-разные.\" data-toc-modified-id=\"Средние-пользовательские-рейтинги-жанров-Action-(англ.-«действие»,-экшен-игры)-и-Sports-(англ.-«спортивные-соревнования»)-разные.-16\"><span class=\"toc-item-num\">16&nbsp;&nbsp;</span>Средние пользовательские рейтинги жанров Action (англ. «действие», экшен-игры) и Sports (англ. «спортивные соревнования») разные.</a></span></li></ul></div>"
   ]
  },
  {
   "cell_type": "markdown",
   "metadata": {},
   "source": [
    "# Изучение закономерностей, определяющих успешность игр"
   ]
  },
  {
   "cell_type": "markdown",
   "metadata": {},
   "source": [
    "# Обзор данных"
   ]
  },
  {
   "cell_type": "code",
   "execution_count": 1,
   "metadata": {},
   "outputs": [],
   "source": [
    "# Импортируем библитеки\n",
    "\n",
    "import pandas as pd\n",
    "import numpy as np\n",
    "import matplotlib.pyplot as plt\n",
    "\n",
    "from datetime import datetime\n",
    "from scipy import stats \n",
    "from scipy import stats as st\n",
    "import seaborn as sns\n",
    "import plotly.graph_objects as go"
   ]
  },
  {
   "cell_type": "code",
   "execution_count": 2,
   "metadata": {},
   "outputs": [],
   "source": [
    "pd.set_option('display.max_columns', None)\n",
    "pd.options.display.float_format = '{:,.2f}'.format"
   ]
  },
  {
   "cell_type": "code",
   "execution_count": 3,
   "metadata": {},
   "outputs": [],
   "source": [
    "# Читаем датасет\n",
    "\n",
    "data = pd.read_csv('/datasets/games.csv')"
   ]
  },
  {
   "cell_type": "code",
   "execution_count": 4,
   "metadata": {
    "scrolled": true
   },
   "outputs": [
    {
     "data": {
      "text/html": [
       "<div>\n",
       "<style scoped>\n",
       "    .dataframe tbody tr th:only-of-type {\n",
       "        vertical-align: middle;\n",
       "    }\n",
       "\n",
       "    .dataframe tbody tr th {\n",
       "        vertical-align: top;\n",
       "    }\n",
       "\n",
       "    .dataframe thead th {\n",
       "        text-align: right;\n",
       "    }\n",
       "</style>\n",
       "<table border=\"1\" class=\"dataframe\">\n",
       "  <thead>\n",
       "    <tr style=\"text-align: right;\">\n",
       "      <th></th>\n",
       "      <th>Name</th>\n",
       "      <th>Platform</th>\n",
       "      <th>Year_of_Release</th>\n",
       "      <th>Genre</th>\n",
       "      <th>NA_sales</th>\n",
       "      <th>EU_sales</th>\n",
       "      <th>JP_sales</th>\n",
       "      <th>Other_sales</th>\n",
       "      <th>Critic_Score</th>\n",
       "      <th>User_Score</th>\n",
       "      <th>Rating</th>\n",
       "    </tr>\n",
       "  </thead>\n",
       "  <tbody>\n",
       "    <tr>\n",
       "      <th>0</th>\n",
       "      <td>Wii Sports</td>\n",
       "      <td>Wii</td>\n",
       "      <td>2,006.00</td>\n",
       "      <td>Sports</td>\n",
       "      <td>41.36</td>\n",
       "      <td>28.96</td>\n",
       "      <td>3.77</td>\n",
       "      <td>8.45</td>\n",
       "      <td>76.00</td>\n",
       "      <td>8</td>\n",
       "      <td>E</td>\n",
       "    </tr>\n",
       "    <tr>\n",
       "      <th>1</th>\n",
       "      <td>Super Mario Bros.</td>\n",
       "      <td>NES</td>\n",
       "      <td>1,985.00</td>\n",
       "      <td>Platform</td>\n",
       "      <td>29.08</td>\n",
       "      <td>3.58</td>\n",
       "      <td>6.81</td>\n",
       "      <td>0.77</td>\n",
       "      <td>NaN</td>\n",
       "      <td>NaN</td>\n",
       "      <td>NaN</td>\n",
       "    </tr>\n",
       "    <tr>\n",
       "      <th>2</th>\n",
       "      <td>Mario Kart Wii</td>\n",
       "      <td>Wii</td>\n",
       "      <td>2,008.00</td>\n",
       "      <td>Racing</td>\n",
       "      <td>15.68</td>\n",
       "      <td>12.76</td>\n",
       "      <td>3.79</td>\n",
       "      <td>3.29</td>\n",
       "      <td>82.00</td>\n",
       "      <td>8.3</td>\n",
       "      <td>E</td>\n",
       "    </tr>\n",
       "    <tr>\n",
       "      <th>3</th>\n",
       "      <td>Wii Sports Resort</td>\n",
       "      <td>Wii</td>\n",
       "      <td>2,009.00</td>\n",
       "      <td>Sports</td>\n",
       "      <td>15.61</td>\n",
       "      <td>10.93</td>\n",
       "      <td>3.28</td>\n",
       "      <td>2.95</td>\n",
       "      <td>80.00</td>\n",
       "      <td>8</td>\n",
       "      <td>E</td>\n",
       "    </tr>\n",
       "    <tr>\n",
       "      <th>4</th>\n",
       "      <td>Pokemon Red/Pokemon Blue</td>\n",
       "      <td>GB</td>\n",
       "      <td>1,996.00</td>\n",
       "      <td>Role-Playing</td>\n",
       "      <td>11.27</td>\n",
       "      <td>8.89</td>\n",
       "      <td>10.22</td>\n",
       "      <td>1.00</td>\n",
       "      <td>NaN</td>\n",
       "      <td>NaN</td>\n",
       "      <td>NaN</td>\n",
       "    </tr>\n",
       "  </tbody>\n",
       "</table>\n",
       "</div>"
      ],
      "text/plain": [
       "                       Name Platform  Year_of_Release         Genre  NA_sales  \\\n",
       "0                Wii Sports      Wii         2,006.00        Sports     41.36   \n",
       "1         Super Mario Bros.      NES         1,985.00      Platform     29.08   \n",
       "2            Mario Kart Wii      Wii         2,008.00        Racing     15.68   \n",
       "3         Wii Sports Resort      Wii         2,009.00        Sports     15.61   \n",
       "4  Pokemon Red/Pokemon Blue       GB         1,996.00  Role-Playing     11.27   \n",
       "\n",
       "   EU_sales  JP_sales  Other_sales  Critic_Score User_Score Rating  \n",
       "0     28.96      3.77         8.45         76.00          8      E  \n",
       "1      3.58      6.81         0.77           NaN        NaN    NaN  \n",
       "2     12.76      3.79         3.29         82.00        8.3      E  \n",
       "3     10.93      3.28         2.95         80.00          8      E  \n",
       "4      8.89     10.22         1.00           NaN        NaN    NaN  "
      ]
     },
     "execution_count": 4,
     "metadata": {},
     "output_type": "execute_result"
    }
   ],
   "source": [
    "data.head()"
   ]
  },
  {
   "cell_type": "code",
   "execution_count": 5,
   "metadata": {},
   "outputs": [
    {
     "data": {
      "text/html": [
       "<div>\n",
       "<style scoped>\n",
       "    .dataframe tbody tr th:only-of-type {\n",
       "        vertical-align: middle;\n",
       "    }\n",
       "\n",
       "    .dataframe tbody tr th {\n",
       "        vertical-align: top;\n",
       "    }\n",
       "\n",
       "    .dataframe thead th {\n",
       "        text-align: right;\n",
       "    }\n",
       "</style>\n",
       "<table border=\"1\" class=\"dataframe\">\n",
       "  <thead>\n",
       "    <tr style=\"text-align: right;\">\n",
       "      <th></th>\n",
       "      <th>Year_of_Release</th>\n",
       "      <th>NA_sales</th>\n",
       "      <th>EU_sales</th>\n",
       "      <th>JP_sales</th>\n",
       "      <th>Other_sales</th>\n",
       "      <th>Critic_Score</th>\n",
       "    </tr>\n",
       "  </thead>\n",
       "  <tbody>\n",
       "    <tr>\n",
       "      <th>count</th>\n",
       "      <td>16,446.00</td>\n",
       "      <td>16,715.00</td>\n",
       "      <td>16,715.00</td>\n",
       "      <td>16,715.00</td>\n",
       "      <td>16,715.00</td>\n",
       "      <td>8,137.00</td>\n",
       "    </tr>\n",
       "    <tr>\n",
       "      <th>mean</th>\n",
       "      <td>2,006.48</td>\n",
       "      <td>0.26</td>\n",
       "      <td>0.15</td>\n",
       "      <td>0.08</td>\n",
       "      <td>0.05</td>\n",
       "      <td>68.97</td>\n",
       "    </tr>\n",
       "    <tr>\n",
       "      <th>std</th>\n",
       "      <td>5.88</td>\n",
       "      <td>0.81</td>\n",
       "      <td>0.50</td>\n",
       "      <td>0.31</td>\n",
       "      <td>0.19</td>\n",
       "      <td>13.94</td>\n",
       "    </tr>\n",
       "    <tr>\n",
       "      <th>min</th>\n",
       "      <td>1,980.00</td>\n",
       "      <td>0.00</td>\n",
       "      <td>0.00</td>\n",
       "      <td>0.00</td>\n",
       "      <td>0.00</td>\n",
       "      <td>13.00</td>\n",
       "    </tr>\n",
       "    <tr>\n",
       "      <th>25%</th>\n",
       "      <td>2,003.00</td>\n",
       "      <td>0.00</td>\n",
       "      <td>0.00</td>\n",
       "      <td>0.00</td>\n",
       "      <td>0.00</td>\n",
       "      <td>60.00</td>\n",
       "    </tr>\n",
       "    <tr>\n",
       "      <th>50%</th>\n",
       "      <td>2,007.00</td>\n",
       "      <td>0.08</td>\n",
       "      <td>0.02</td>\n",
       "      <td>0.00</td>\n",
       "      <td>0.01</td>\n",
       "      <td>71.00</td>\n",
       "    </tr>\n",
       "    <tr>\n",
       "      <th>75%</th>\n",
       "      <td>2,010.00</td>\n",
       "      <td>0.24</td>\n",
       "      <td>0.11</td>\n",
       "      <td>0.04</td>\n",
       "      <td>0.03</td>\n",
       "      <td>79.00</td>\n",
       "    </tr>\n",
       "    <tr>\n",
       "      <th>max</th>\n",
       "      <td>2,016.00</td>\n",
       "      <td>41.36</td>\n",
       "      <td>28.96</td>\n",
       "      <td>10.22</td>\n",
       "      <td>10.57</td>\n",
       "      <td>98.00</td>\n",
       "    </tr>\n",
       "  </tbody>\n",
       "</table>\n",
       "</div>"
      ],
      "text/plain": [
       "       Year_of_Release  NA_sales  EU_sales  JP_sales  Other_sales  \\\n",
       "count        16,446.00 16,715.00 16,715.00 16,715.00    16,715.00   \n",
       "mean          2,006.48      0.26      0.15      0.08         0.05   \n",
       "std               5.88      0.81      0.50      0.31         0.19   \n",
       "min           1,980.00      0.00      0.00      0.00         0.00   \n",
       "25%           2,003.00      0.00      0.00      0.00         0.00   \n",
       "50%           2,007.00      0.08      0.02      0.00         0.01   \n",
       "75%           2,010.00      0.24      0.11      0.04         0.03   \n",
       "max           2,016.00     41.36     28.96     10.22        10.57   \n",
       "\n",
       "       Critic_Score  \n",
       "count      8,137.00  \n",
       "mean          68.97  \n",
       "std           13.94  \n",
       "min           13.00  \n",
       "25%           60.00  \n",
       "50%           71.00  \n",
       "75%           79.00  \n",
       "max           98.00  "
      ]
     },
     "execution_count": 5,
     "metadata": {},
     "output_type": "execute_result"
    }
   ],
   "source": [
    "data.describe()"
   ]
  },
  {
   "cell_type": "code",
   "execution_count": 6,
   "metadata": {},
   "outputs": [
    {
     "name": "stdout",
     "output_type": "stream",
     "text": [
      "<class 'pandas.core.frame.DataFrame'>\n",
      "RangeIndex: 16715 entries, 0 to 16714\n",
      "Data columns (total 11 columns):\n",
      " #   Column           Non-Null Count  Dtype  \n",
      "---  ------           --------------  -----  \n",
      " 0   Name             16713 non-null  object \n",
      " 1   Platform         16715 non-null  object \n",
      " 2   Year_of_Release  16446 non-null  float64\n",
      " 3   Genre            16713 non-null  object \n",
      " 4   NA_sales         16715 non-null  float64\n",
      " 5   EU_sales         16715 non-null  float64\n",
      " 6   JP_sales         16715 non-null  float64\n",
      " 7   Other_sales      16715 non-null  float64\n",
      " 8   Critic_Score     8137 non-null   float64\n",
      " 9   User_Score       10014 non-null  object \n",
      " 10  Rating           9949 non-null   object \n",
      "dtypes: float64(6), object(5)\n",
      "memory usage: 1.4+ MB\n"
     ]
    }
   ],
   "source": [
    "data.info()"
   ]
  },
  {
   "cell_type": "markdown",
   "metadata": {},
   "source": [
    "Данные просмотрены, приступаем к подготовке данных к анализу."
   ]
  },
  {
   "cell_type": "markdown",
   "metadata": {},
   "source": [
    "# Подготовка данных"
   ]
  },
  {
   "cell_type": "markdown",
   "metadata": {},
   "source": [
    "## Приведение столбцов к нижнему регистру"
   ]
  },
  {
   "cell_type": "code",
   "execution_count": 7,
   "metadata": {},
   "outputs": [],
   "source": [
    "data.columns = data.columns.str.lower()"
   ]
  },
  {
   "cell_type": "code",
   "execution_count": 8,
   "metadata": {
    "scrolled": false
   },
   "outputs": [
    {
     "data": {
      "text/html": [
       "<div>\n",
       "<style scoped>\n",
       "    .dataframe tbody tr th:only-of-type {\n",
       "        vertical-align: middle;\n",
       "    }\n",
       "\n",
       "    .dataframe tbody tr th {\n",
       "        vertical-align: top;\n",
       "    }\n",
       "\n",
       "    .dataframe thead th {\n",
       "        text-align: right;\n",
       "    }\n",
       "</style>\n",
       "<table border=\"1\" class=\"dataframe\">\n",
       "  <thead>\n",
       "    <tr style=\"text-align: right;\">\n",
       "      <th></th>\n",
       "      <th>name</th>\n",
       "      <th>platform</th>\n",
       "      <th>year_of_release</th>\n",
       "      <th>genre</th>\n",
       "      <th>na_sales</th>\n",
       "      <th>eu_sales</th>\n",
       "      <th>jp_sales</th>\n",
       "      <th>other_sales</th>\n",
       "      <th>critic_score</th>\n",
       "      <th>user_score</th>\n",
       "      <th>rating</th>\n",
       "    </tr>\n",
       "  </thead>\n",
       "  <tbody>\n",
       "    <tr>\n",
       "      <th>0</th>\n",
       "      <td>Wii Sports</td>\n",
       "      <td>Wii</td>\n",
       "      <td>2,006.00</td>\n",
       "      <td>Sports</td>\n",
       "      <td>41.36</td>\n",
       "      <td>28.96</td>\n",
       "      <td>3.77</td>\n",
       "      <td>8.45</td>\n",
       "      <td>76.00</td>\n",
       "      <td>8</td>\n",
       "      <td>E</td>\n",
       "    </tr>\n",
       "    <tr>\n",
       "      <th>1</th>\n",
       "      <td>Super Mario Bros.</td>\n",
       "      <td>NES</td>\n",
       "      <td>1,985.00</td>\n",
       "      <td>Platform</td>\n",
       "      <td>29.08</td>\n",
       "      <td>3.58</td>\n",
       "      <td>6.81</td>\n",
       "      <td>0.77</td>\n",
       "      <td>NaN</td>\n",
       "      <td>NaN</td>\n",
       "      <td>NaN</td>\n",
       "    </tr>\n",
       "    <tr>\n",
       "      <th>2</th>\n",
       "      <td>Mario Kart Wii</td>\n",
       "      <td>Wii</td>\n",
       "      <td>2,008.00</td>\n",
       "      <td>Racing</td>\n",
       "      <td>15.68</td>\n",
       "      <td>12.76</td>\n",
       "      <td>3.79</td>\n",
       "      <td>3.29</td>\n",
       "      <td>82.00</td>\n",
       "      <td>8.3</td>\n",
       "      <td>E</td>\n",
       "    </tr>\n",
       "    <tr>\n",
       "      <th>3</th>\n",
       "      <td>Wii Sports Resort</td>\n",
       "      <td>Wii</td>\n",
       "      <td>2,009.00</td>\n",
       "      <td>Sports</td>\n",
       "      <td>15.61</td>\n",
       "      <td>10.93</td>\n",
       "      <td>3.28</td>\n",
       "      <td>2.95</td>\n",
       "      <td>80.00</td>\n",
       "      <td>8</td>\n",
       "      <td>E</td>\n",
       "    </tr>\n",
       "    <tr>\n",
       "      <th>4</th>\n",
       "      <td>Pokemon Red/Pokemon Blue</td>\n",
       "      <td>GB</td>\n",
       "      <td>1,996.00</td>\n",
       "      <td>Role-Playing</td>\n",
       "      <td>11.27</td>\n",
       "      <td>8.89</td>\n",
       "      <td>10.22</td>\n",
       "      <td>1.00</td>\n",
       "      <td>NaN</td>\n",
       "      <td>NaN</td>\n",
       "      <td>NaN</td>\n",
       "    </tr>\n",
       "  </tbody>\n",
       "</table>\n",
       "</div>"
      ],
      "text/plain": [
       "                       name platform  year_of_release         genre  na_sales  \\\n",
       "0                Wii Sports      Wii         2,006.00        Sports     41.36   \n",
       "1         Super Mario Bros.      NES         1,985.00      Platform     29.08   \n",
       "2            Mario Kart Wii      Wii         2,008.00        Racing     15.68   \n",
       "3         Wii Sports Resort      Wii         2,009.00        Sports     15.61   \n",
       "4  Pokemon Red/Pokemon Blue       GB         1,996.00  Role-Playing     11.27   \n",
       "\n",
       "   eu_sales  jp_sales  other_sales  critic_score user_score rating  \n",
       "0     28.96      3.77         8.45         76.00          8      E  \n",
       "1      3.58      6.81         0.77           NaN        NaN    NaN  \n",
       "2     12.76      3.79         3.29         82.00        8.3      E  \n",
       "3     10.93      3.28         2.95         80.00          8      E  \n",
       "4      8.89     10.22         1.00           NaN        NaN    NaN  "
      ]
     },
     "execution_count": 8,
     "metadata": {},
     "output_type": "execute_result"
    }
   ],
   "source": [
    "data.head()"
   ]
  },
  {
   "cell_type": "markdown",
   "metadata": {},
   "source": [
    "Названия столбов приведены к нижнему регистру"
   ]
  },
  {
   "cell_type": "markdown",
   "metadata": {},
   "source": [
    "## Преобразование данных в нужные типы"
   ]
  },
  {
   "cell_type": "code",
   "execution_count": 9,
   "metadata": {},
   "outputs": [
    {
     "name": "stdout",
     "output_type": "stream",
     "text": [
      "<class 'pandas.core.frame.DataFrame'>\n",
      "RangeIndex: 16715 entries, 0 to 16714\n",
      "Data columns (total 11 columns):\n",
      " #   Column           Non-Null Count  Dtype  \n",
      "---  ------           --------------  -----  \n",
      " 0   name             16713 non-null  object \n",
      " 1   platform         16715 non-null  object \n",
      " 2   year_of_release  16446 non-null  float64\n",
      " 3   genre            16713 non-null  object \n",
      " 4   na_sales         16715 non-null  float64\n",
      " 5   eu_sales         16715 non-null  float64\n",
      " 6   jp_sales         16715 non-null  float64\n",
      " 7   other_sales      16715 non-null  float64\n",
      " 8   critic_score     8137 non-null   float64\n",
      " 9   user_score       10014 non-null  object \n",
      " 10  rating           9949 non-null   object \n",
      "dtypes: float64(6), object(5)\n",
      "memory usage: 1.4+ MB\n"
     ]
    }
   ],
   "source": [
    "data.info()"
   ]
  },
  {
   "cell_type": "markdown",
   "metadata": {},
   "source": [
    "Необходимо преобразовать дату выхода в целочислительный вид."
   ]
  },
  {
   "cell_type": "code",
   "execution_count": 10,
   "metadata": {},
   "outputs": [
    {
     "data": {
      "text/plain": [
       "False    16446\n",
       "True       269\n",
       "Name: year_of_release, dtype: int64"
      ]
     },
     "execution_count": 10,
     "metadata": {},
     "output_type": "execute_result"
    }
   ],
   "source": [
    "data['year_of_release'].isna().value_counts()"
   ]
  },
  {
   "cell_type": "markdown",
   "metadata": {},
   "source": [
    "Мы обнаружили 269 пропусков. Чтобы преобразовать тип данных необходимо их заменить. Заменим их на 0 для того чтобы опустить данные в анализе."
   ]
  },
  {
   "cell_type": "code",
   "execution_count": 11,
   "metadata": {},
   "outputs": [],
   "source": [
    "# Да селе властью данной мне, определя дату выхода игр с Nan в год Рождества Христова\n",
    "\n",
    "data['year_of_release'].fillna(0, inplace=True)"
   ]
  },
  {
   "cell_type": "code",
   "execution_count": 12,
   "metadata": {},
   "outputs": [],
   "source": [
    "data['year_of_release'] = data['year_of_release'].astype('int64')"
   ]
  },
  {
   "cell_type": "code",
   "execution_count": 13,
   "metadata": {
    "scrolled": true
   },
   "outputs": [
    {
     "data": {
      "text/html": [
       "<div>\n",
       "<style scoped>\n",
       "    .dataframe tbody tr th:only-of-type {\n",
       "        vertical-align: middle;\n",
       "    }\n",
       "\n",
       "    .dataframe tbody tr th {\n",
       "        vertical-align: top;\n",
       "    }\n",
       "\n",
       "    .dataframe thead th {\n",
       "        text-align: right;\n",
       "    }\n",
       "</style>\n",
       "<table border=\"1\" class=\"dataframe\">\n",
       "  <thead>\n",
       "    <tr style=\"text-align: right;\">\n",
       "      <th></th>\n",
       "      <th>name</th>\n",
       "      <th>platform</th>\n",
       "      <th>year_of_release</th>\n",
       "      <th>genre</th>\n",
       "      <th>na_sales</th>\n",
       "      <th>eu_sales</th>\n",
       "      <th>jp_sales</th>\n",
       "      <th>other_sales</th>\n",
       "      <th>critic_score</th>\n",
       "      <th>user_score</th>\n",
       "      <th>rating</th>\n",
       "    </tr>\n",
       "  </thead>\n",
       "  <tbody>\n",
       "    <tr>\n",
       "      <th>0</th>\n",
       "      <td>Wii Sports</td>\n",
       "      <td>Wii</td>\n",
       "      <td>2006</td>\n",
       "      <td>Sports</td>\n",
       "      <td>41.36</td>\n",
       "      <td>28.96</td>\n",
       "      <td>3.77</td>\n",
       "      <td>8.45</td>\n",
       "      <td>76.00</td>\n",
       "      <td>8</td>\n",
       "      <td>E</td>\n",
       "    </tr>\n",
       "    <tr>\n",
       "      <th>1</th>\n",
       "      <td>Super Mario Bros.</td>\n",
       "      <td>NES</td>\n",
       "      <td>1985</td>\n",
       "      <td>Platform</td>\n",
       "      <td>29.08</td>\n",
       "      <td>3.58</td>\n",
       "      <td>6.81</td>\n",
       "      <td>0.77</td>\n",
       "      <td>NaN</td>\n",
       "      <td>NaN</td>\n",
       "      <td>NaN</td>\n",
       "    </tr>\n",
       "    <tr>\n",
       "      <th>2</th>\n",
       "      <td>Mario Kart Wii</td>\n",
       "      <td>Wii</td>\n",
       "      <td>2008</td>\n",
       "      <td>Racing</td>\n",
       "      <td>15.68</td>\n",
       "      <td>12.76</td>\n",
       "      <td>3.79</td>\n",
       "      <td>3.29</td>\n",
       "      <td>82.00</td>\n",
       "      <td>8.3</td>\n",
       "      <td>E</td>\n",
       "    </tr>\n",
       "    <tr>\n",
       "      <th>3</th>\n",
       "      <td>Wii Sports Resort</td>\n",
       "      <td>Wii</td>\n",
       "      <td>2009</td>\n",
       "      <td>Sports</td>\n",
       "      <td>15.61</td>\n",
       "      <td>10.93</td>\n",
       "      <td>3.28</td>\n",
       "      <td>2.95</td>\n",
       "      <td>80.00</td>\n",
       "      <td>8</td>\n",
       "      <td>E</td>\n",
       "    </tr>\n",
       "    <tr>\n",
       "      <th>4</th>\n",
       "      <td>Pokemon Red/Pokemon Blue</td>\n",
       "      <td>GB</td>\n",
       "      <td>1996</td>\n",
       "      <td>Role-Playing</td>\n",
       "      <td>11.27</td>\n",
       "      <td>8.89</td>\n",
       "      <td>10.22</td>\n",
       "      <td>1.00</td>\n",
       "      <td>NaN</td>\n",
       "      <td>NaN</td>\n",
       "      <td>NaN</td>\n",
       "    </tr>\n",
       "  </tbody>\n",
       "</table>\n",
       "</div>"
      ],
      "text/plain": [
       "                       name platform  year_of_release         genre  na_sales  \\\n",
       "0                Wii Sports      Wii             2006        Sports     41.36   \n",
       "1         Super Mario Bros.      NES             1985      Platform     29.08   \n",
       "2            Mario Kart Wii      Wii             2008        Racing     15.68   \n",
       "3         Wii Sports Resort      Wii             2009        Sports     15.61   \n",
       "4  Pokemon Red/Pokemon Blue       GB             1996  Role-Playing     11.27   \n",
       "\n",
       "   eu_sales  jp_sales  other_sales  critic_score user_score rating  \n",
       "0     28.96      3.77         8.45         76.00          8      E  \n",
       "1      3.58      6.81         0.77           NaN        NaN    NaN  \n",
       "2     12.76      3.79         3.29         82.00        8.3      E  \n",
       "3     10.93      3.28         2.95         80.00          8      E  \n",
       "4      8.89     10.22         1.00           NaN        NaN    NaN  "
      ]
     },
     "execution_count": 13,
     "metadata": {},
     "output_type": "execute_result"
    }
   ],
   "source": [
    "data.head()"
   ]
  },
  {
   "cell_type": "markdown",
   "metadata": {},
   "source": [
    "С датами разобрались. \n",
    "Видим, что циферки) у нас в типе данных строка, так что тоже меняем. В данном случае не меняем на 0, так возможно это диабло иммортал, поэтмоу ставим -1."
   ]
  },
  {
   "cell_type": "code",
   "execution_count": 14,
   "metadata": {},
   "outputs": [],
   "source": [
    "data.loc[(data['user_score'] == 'tbd') | (data['user_score'].isna()), 'user_score'] = -1\n",
    "data['user_score'] = pd.to_numeric(data['user_score'])"
   ]
  },
  {
   "cell_type": "code",
   "execution_count": 15,
   "metadata": {},
   "outputs": [
    {
     "name": "stdout",
     "output_type": "stream",
     "text": [
      "<class 'pandas.core.frame.DataFrame'>\n",
      "RangeIndex: 16715 entries, 0 to 16714\n",
      "Data columns (total 11 columns):\n",
      " #   Column           Non-Null Count  Dtype  \n",
      "---  ------           --------------  -----  \n",
      " 0   name             16713 non-null  object \n",
      " 1   platform         16715 non-null  object \n",
      " 2   year_of_release  16715 non-null  int64  \n",
      " 3   genre            16713 non-null  object \n",
      " 4   na_sales         16715 non-null  float64\n",
      " 5   eu_sales         16715 non-null  float64\n",
      " 6   jp_sales         16715 non-null  float64\n",
      " 7   other_sales      16715 non-null  float64\n",
      " 8   critic_score     8137 non-null   float64\n",
      " 9   user_score       16715 non-null  float64\n",
      " 10  rating           9949 non-null   object \n",
      "dtypes: float64(6), int64(1), object(4)\n",
      "memory usage: 1.4+ MB\n"
     ]
    }
   ],
   "source": [
    "data.info()"
   ]
  },
  {
   "cell_type": "markdown",
   "metadata": {},
   "source": [
    "Для обработки и анализа данных их необходимо привести к нужным типам. Помимо этого в данном блоке была начата обработка пропусков. В нашем случае - это год выхода и оценка пользователей.     \n",
    "\n",
    "Дата выхода может не стоять в силу различных причин, от банальной невнимательности, до причины, что игра выходит на разных платформах и дата выхода уже была поставлена на более ранний срок.\n",
    "В данном случае мы не можем заменить пропуски на среднее значение по причине неоднородности выхода проектов в разные годы, из-за чего данные могут исказиться в ту или иную сторону. В следствии чего была проведена замена на \"заглушку\" - 0. Чтобы всё равно учесть данные в исследовании.   \n",
    "\n",
    "\n",
    "Оценка пользователей уже имеет другую природу причин и может заключаться, что некоторые продукты выходят от неизвестных команд с помощью площадок творчества и исходя из этого не заносятся в базу оценок. Помимо этого не забываем о невнимательности заполнения данных, из-за чего данные тайтлы просто пропустили. Некоторые игры же ждут ещё своих оценок и имеют статус \"tbd\".\n",
    "В данном случае так же невозможно заменить каким-то средним значением, так как игровая индустрия очень сильно подвержена влиянию оценок, и разница между 6 и 7 баллами будет означать жизнь или смерть проекта в неизвестности. Из-за этой причины и невозможности объектовно распределить оценки была так же применена \"заглушка\" - -1 (-1, так как возможна оценка 0 от пользователей)."
   ]
  },
  {
   "cell_type": "markdown",
   "metadata": {},
   "source": [
    "Игры на разных платформах могут отличаться рейтингом. Могут отличаться контентом, поэтому поставим всем общую группу \"Рейтинг неизвестен\"."
   ]
  },
  {
   "cell_type": "markdown",
   "metadata": {},
   "source": [
    "## Обработка пропусков"
   ]
  },
  {
   "cell_type": "code",
   "execution_count": 16,
   "metadata": {},
   "outputs": [
    {
     "data": {
      "text/plain": [
       "name                  2\n",
       "platform              0\n",
       "year_of_release       0\n",
       "genre                 2\n",
       "na_sales              0\n",
       "eu_sales              0\n",
       "jp_sales              0\n",
       "other_sales           0\n",
       "critic_score       8578\n",
       "user_score            0\n",
       "rating             6766\n",
       "dtype: int64"
      ]
     },
     "execution_count": 16,
     "metadata": {},
     "output_type": "execute_result"
    }
   ],
   "source": [
    "data.isna().sum()"
   ]
  },
  {
   "cell_type": "markdown",
   "metadata": {},
   "source": [
    "Посмотрели сколько у нас пропущенных значений в каждом столбце, будем думать что делать."
   ]
  },
  {
   "cell_type": "code",
   "execution_count": 17,
   "metadata": {},
   "outputs": [],
   "source": [
    "# Заменяем на неизвестные, так как не можем узнать, что за жанр был\n",
    "\n",
    "data['genre'] = data['genre'].fillna('no genre game')"
   ]
  },
  {
   "cell_type": "code",
   "execution_count": 18,
   "metadata": {},
   "outputs": [
    {
     "data": {
      "text/plain": [
       "(16715,)"
      ]
     },
     "execution_count": 18,
     "metadata": {},
     "output_type": "execute_result"
    }
   ],
   "source": [
    "np.shape(data['name'])"
   ]
  },
  {
   "cell_type": "code",
   "execution_count": 19,
   "metadata": {},
   "outputs": [],
   "source": [
    "# Тут уж никак не узнать даже в СМИ, что за игра была за этими данными, удаляем без сожалений\n",
    "\n",
    "data.dropna(subset=['name'], inplace=True)"
   ]
  },
  {
   "cell_type": "code",
   "execution_count": 20,
   "metadata": {},
   "outputs": [
    {
     "data": {
      "text/plain": [
       "(16713,)"
      ]
     },
     "execution_count": 20,
     "metadata": {},
     "output_type": "execute_result"
    }
   ],
   "source": [
    "np.shape(data['name'])"
   ]
  },
  {
   "cell_type": "code",
   "execution_count": 21,
   "metadata": {},
   "outputs": [],
   "source": [
    "# Рейтинг критиков мы так же не можем узнать, меняем на -1. Т.к. тут нельзя заменить ни по среднему значению, ни по другим метрикам\n",
    "\n",
    "data['critic_score'] = data['critic_score'].fillna(-1)"
   ]
  },
  {
   "cell_type": "code",
   "execution_count": 22,
   "metadata": {},
   "outputs": [],
   "source": [
    "# На последок возрастной рейтинг. Мы так же не можем узнать какой он(или можно ~7000 игр искать на метакритике...бред какой-то)\n",
    "\n",
    "data['rating'] = data['rating'].fillna('rating_unknown')"
   ]
  },
  {
   "cell_type": "code",
   "execution_count": 23,
   "metadata": {
    "scrolled": true
   },
   "outputs": [
    {
     "data": {
      "text/plain": [
       "name               0\n",
       "platform           0\n",
       "year_of_release    0\n",
       "genre              0\n",
       "na_sales           0\n",
       "eu_sales           0\n",
       "jp_sales           0\n",
       "other_sales        0\n",
       "critic_score       0\n",
       "user_score         0\n",
       "rating             0\n",
       "dtype: int64"
      ]
     },
     "execution_count": 23,
     "metadata": {},
     "output_type": "execute_result"
    }
   ],
   "source": [
    "data.isna().sum()"
   ]
  },
  {
   "cell_type": "markdown",
   "metadata": {},
   "source": [
    "Подготовка данных почти завершена, все пропуски заполненны."
   ]
  },
  {
   "cell_type": "markdown",
   "metadata": {},
   "source": [
    "В данном блоке были проведены обработки пропусков, пройдёмся по каждому из них.\n",
    "\n",
    "Жанр игр были заменены на \"жанр неизвестен\". В данном случае замена на случайный жанр будет больше похожа на русскую рулетку, поэтому была проведена замена на жанр неизвестен, чтобы данные не затерялись.\n",
    "\n",
    "Игры без названия были удалены, так как даже в случае поиска игры в СМИ, найти её без названия основываясь на данных оценок, жанра и даты выхода найти её будет практически невозможно (кроме случае когда оценки на очень высоком уровне, или наоборот очень низком).\n",
    "\n",
    "Рейтинг критиков был заменён как и рейтинг пользователей, только тут влияние на продажи будет ещё выше.\n",
    "\n",
    "Возрастной рейтинг как и с жанром нельзя заменить никак объективно, ибо данный показатель будет ограничивать аудиторию при неправильной постановке. Исходя из этого была проведена замена на неизвестный рейтинг."
   ]
  },
  {
   "cell_type": "markdown",
   "metadata": {},
   "source": [
    "## Добавление стобца с суммарными продажи во всех регионах"
   ]
  },
  {
   "cell_type": "code",
   "execution_count": 24,
   "metadata": {},
   "outputs": [
    {
     "data": {
      "text/html": [
       "<div>\n",
       "<style scoped>\n",
       "    .dataframe tbody tr th:only-of-type {\n",
       "        vertical-align: middle;\n",
       "    }\n",
       "\n",
       "    .dataframe tbody tr th {\n",
       "        vertical-align: top;\n",
       "    }\n",
       "\n",
       "    .dataframe thead th {\n",
       "        text-align: right;\n",
       "    }\n",
       "</style>\n",
       "<table border=\"1\" class=\"dataframe\">\n",
       "  <thead>\n",
       "    <tr style=\"text-align: right;\">\n",
       "      <th></th>\n",
       "      <th>name</th>\n",
       "      <th>platform</th>\n",
       "      <th>year_of_release</th>\n",
       "      <th>genre</th>\n",
       "      <th>na_sales</th>\n",
       "      <th>eu_sales</th>\n",
       "      <th>jp_sales</th>\n",
       "      <th>other_sales</th>\n",
       "      <th>critic_score</th>\n",
       "      <th>user_score</th>\n",
       "      <th>rating</th>\n",
       "      <th>total_sales</th>\n",
       "    </tr>\n",
       "  </thead>\n",
       "  <tbody>\n",
       "    <tr>\n",
       "      <th>0</th>\n",
       "      <td>Wii Sports</td>\n",
       "      <td>Wii</td>\n",
       "      <td>2006</td>\n",
       "      <td>Sports</td>\n",
       "      <td>41.36</td>\n",
       "      <td>28.96</td>\n",
       "      <td>3.77</td>\n",
       "      <td>8.45</td>\n",
       "      <td>76.00</td>\n",
       "      <td>8.00</td>\n",
       "      <td>E</td>\n",
       "      <td>82.54</td>\n",
       "    </tr>\n",
       "    <tr>\n",
       "      <th>1</th>\n",
       "      <td>Super Mario Bros.</td>\n",
       "      <td>NES</td>\n",
       "      <td>1985</td>\n",
       "      <td>Platform</td>\n",
       "      <td>29.08</td>\n",
       "      <td>3.58</td>\n",
       "      <td>6.81</td>\n",
       "      <td>0.77</td>\n",
       "      <td>-1.00</td>\n",
       "      <td>-1.00</td>\n",
       "      <td>rating_unknown</td>\n",
       "      <td>40.24</td>\n",
       "    </tr>\n",
       "    <tr>\n",
       "      <th>2</th>\n",
       "      <td>Mario Kart Wii</td>\n",
       "      <td>Wii</td>\n",
       "      <td>2008</td>\n",
       "      <td>Racing</td>\n",
       "      <td>15.68</td>\n",
       "      <td>12.76</td>\n",
       "      <td>3.79</td>\n",
       "      <td>3.29</td>\n",
       "      <td>82.00</td>\n",
       "      <td>8.30</td>\n",
       "      <td>E</td>\n",
       "      <td>35.52</td>\n",
       "    </tr>\n",
       "    <tr>\n",
       "      <th>3</th>\n",
       "      <td>Wii Sports Resort</td>\n",
       "      <td>Wii</td>\n",
       "      <td>2009</td>\n",
       "      <td>Sports</td>\n",
       "      <td>15.61</td>\n",
       "      <td>10.93</td>\n",
       "      <td>3.28</td>\n",
       "      <td>2.95</td>\n",
       "      <td>80.00</td>\n",
       "      <td>8.00</td>\n",
       "      <td>E</td>\n",
       "      <td>32.77</td>\n",
       "    </tr>\n",
       "    <tr>\n",
       "      <th>4</th>\n",
       "      <td>Pokemon Red/Pokemon Blue</td>\n",
       "      <td>GB</td>\n",
       "      <td>1996</td>\n",
       "      <td>Role-Playing</td>\n",
       "      <td>11.27</td>\n",
       "      <td>8.89</td>\n",
       "      <td>10.22</td>\n",
       "      <td>1.00</td>\n",
       "      <td>-1.00</td>\n",
       "      <td>-1.00</td>\n",
       "      <td>rating_unknown</td>\n",
       "      <td>31.38</td>\n",
       "    </tr>\n",
       "  </tbody>\n",
       "</table>\n",
       "</div>"
      ],
      "text/plain": [
       "                       name platform  year_of_release         genre  na_sales  \\\n",
       "0                Wii Sports      Wii             2006        Sports     41.36   \n",
       "1         Super Mario Bros.      NES             1985      Platform     29.08   \n",
       "2            Mario Kart Wii      Wii             2008        Racing     15.68   \n",
       "3         Wii Sports Resort      Wii             2009        Sports     15.61   \n",
       "4  Pokemon Red/Pokemon Blue       GB             1996  Role-Playing     11.27   \n",
       "\n",
       "   eu_sales  jp_sales  other_sales  critic_score  user_score          rating  \\\n",
       "0     28.96      3.77         8.45         76.00        8.00               E   \n",
       "1      3.58      6.81         0.77         -1.00       -1.00  rating_unknown   \n",
       "2     12.76      3.79         3.29         82.00        8.30               E   \n",
       "3     10.93      3.28         2.95         80.00        8.00               E   \n",
       "4      8.89     10.22         1.00         -1.00       -1.00  rating_unknown   \n",
       "\n",
       "   total_sales  \n",
       "0        82.54  \n",
       "1        40.24  \n",
       "2        35.52  \n",
       "3        32.77  \n",
       "4        31.38  "
      ]
     },
     "execution_count": 24,
     "metadata": {},
     "output_type": "execute_result"
    }
   ],
   "source": [
    "# data['total_sales'] = data[['na_sales','eu_sales','jp_sales', 'other_sales']].sum(axis='columns')\n",
    "# Как один из вариантов норм, спасибо)\n",
    "\n",
    "data['total_sales'] = data['na_sales'] + data['eu_sales'] + data['jp_sales'] + data['other_sales']\n",
    "data.head()"
   ]
  },
  {
   "cell_type": "markdown",
   "metadata": {},
   "source": [
    "**Итого по блоку подготовки данных проведены следующие этапы:**  \n",
    "перевод столбцов в нижний регистр;    \n",
    "преобразование типов данных в необходимый формат;    \n",
    "замена пропусков данных;    \n",
    "создан столбец по продажам во всех регионах.   "
   ]
  },
  {
   "cell_type": "markdown",
   "metadata": {},
   "source": [
    "# Исследовательский анализ данных"
   ]
  },
  {
   "cell_type": "markdown",
   "metadata": {},
   "source": [
    "## Cколько игр выпускалось в разные годы"
   ]
  },
  {
   "cell_type": "code",
   "execution_count": 25,
   "metadata": {},
   "outputs": [
    {
     "data": {
      "image/png": "[encoded data removed]",
      "text/plain": [
       "<Figure size 1440x720 with 1 Axes>"
      ]
     },
     "metadata": {
      "needs_background": "light"
     },
     "output_type": "display_data"
    }
   ],
   "source": [
    "# сводная таблица\n",
    "i = data.pivot_table(index='year_of_release', values='total_sales', aggfunc='count')\n",
    "i.columns = ['count']\n",
    "\n",
    "# строим график\n",
    "a = plt.subplots(figsize=(20, 10))\n",
    "a = sns.barplot(x=i.index, y=\"count\", data=i, palette=\"Blues_d\")\n",
    "plt.title('Колличество вышедших игр по годам 1980-2016 гг.')\n",
    "plt.ylabel('Колличество шт.')\n",
    "plt.xlabel('Год')\n",
    "plt.show()"
   ]
  },
  {
   "cell_type": "markdown",
   "metadata": {},
   "source": [
    "Итак, мы видим, что игры до 91 года были совсем нишевым продуктом, который не производился в широких масштабах. В основном как мы знаем в те времена выпускали в основном квесты, которые признаемся не были продуктом на массового пользователя.\n",
    "Однако с выходом первых \"хитов\" всё начало меняться. Так в конце 93 вышел Дум и по колонке 94 года это видно.\n",
    "\n",
    "Помимо этого мы видим понижение релизов после 2010 года.   \n",
    "Это может быть обусловленно следующими причинами:\n",
    "1) Повышение качества релизов и соответственно уменьшение их числа      \n",
    "2) Переход геймеров на мобильные рельсы"
   ]
  },
  {
   "cell_type": "markdown",
   "metadata": {},
   "source": [
    "## Как менялись продажи по платформам"
   ]
  },
  {
   "cell_type": "markdown",
   "metadata": {},
   "source": [
    "Выберите платформы с наибольшими суммарными продажами и постройте распределение по годам. За какой характерный срок появляются новые и исчезают старые платформы?"
   ]
  },
  {
   "cell_type": "code",
   "execution_count": 26,
   "metadata": {},
   "outputs": [
    {
     "data": {
      "text/html": [
       "<div>\n",
       "<style scoped>\n",
       "    .dataframe tbody tr th:only-of-type {\n",
       "        vertical-align: middle;\n",
       "    }\n",
       "\n",
       "    .dataframe tbody tr th {\n",
       "        vertical-align: top;\n",
       "    }\n",
       "\n",
       "    .dataframe thead th {\n",
       "        text-align: right;\n",
       "    }\n",
       "</style>\n",
       "<table border=\"1\" class=\"dataframe\">\n",
       "  <thead>\n",
       "    <tr style=\"text-align: right;\">\n",
       "      <th></th>\n",
       "      <th>total_sales</th>\n",
       "    </tr>\n",
       "    <tr>\n",
       "      <th>platform</th>\n",
       "      <th></th>\n",
       "    </tr>\n",
       "  </thead>\n",
       "  <tbody>\n",
       "    <tr>\n",
       "      <th>PS2</th>\n",
       "      <td>1,255.77</td>\n",
       "    </tr>\n",
       "    <tr>\n",
       "      <th>X360</th>\n",
       "      <td>971.42</td>\n",
       "    </tr>\n",
       "    <tr>\n",
       "      <th>PS3</th>\n",
       "      <td>939.65</td>\n",
       "    </tr>\n",
       "    <tr>\n",
       "      <th>Wii</th>\n",
       "      <td>907.51</td>\n",
       "    </tr>\n",
       "    <tr>\n",
       "      <th>DS</th>\n",
       "      <td>806.12</td>\n",
       "    </tr>\n",
       "    <tr>\n",
       "      <th>PS</th>\n",
       "      <td>730.86</td>\n",
       "    </tr>\n",
       "    <tr>\n",
       "      <th>GBA</th>\n",
       "      <td>317.85</td>\n",
       "    </tr>\n",
       "    <tr>\n",
       "      <th>PS4</th>\n",
       "      <td>314.14</td>\n",
       "    </tr>\n",
       "    <tr>\n",
       "      <th>PSP</th>\n",
       "      <td>294.05</td>\n",
       "    </tr>\n",
       "    <tr>\n",
       "      <th>PC</th>\n",
       "      <td>259.52</td>\n",
       "    </tr>\n",
       "  </tbody>\n",
       "</table>\n",
       "</div>"
      ],
      "text/plain": [
       "          total_sales\n",
       "platform             \n",
       "PS2          1,255.77\n",
       "X360           971.42\n",
       "PS3            939.65\n",
       "Wii            907.51\n",
       "DS             806.12\n",
       "PS             730.86\n",
       "GBA            317.85\n",
       "PS4            314.14\n",
       "PSP            294.05\n",
       "PC             259.52"
      ]
     },
     "execution_count": 26,
     "metadata": {},
     "output_type": "execute_result"
    }
   ],
   "source": [
    "top_10 = data.pivot_table(index='platform', values='total_sales', aggfunc='sum').nlargest(10, 'total_sales')\n",
    "top_10"
   ]
  },
  {
   "cell_type": "code",
   "execution_count": 27,
   "metadata": {
    "scrolled": true
   },
   "outputs": [
    {
     "data": {
      "text/html": [
       "<div>\n",
       "<style scoped>\n",
       "    .dataframe tbody tr th:only-of-type {\n",
       "        vertical-align: middle;\n",
       "    }\n",
       "\n",
       "    .dataframe tbody tr th {\n",
       "        vertical-align: top;\n",
       "    }\n",
       "\n",
       "    .dataframe thead th {\n",
       "        text-align: right;\n",
       "    }\n",
       "</style>\n",
       "<table border=\"1\" class=\"dataframe\">\n",
       "  <thead>\n",
       "    <tr style=\"text-align: right;\">\n",
       "      <th>year_of_release</th>\n",
       "      <th>0</th>\n",
       "      <th>1980</th>\n",
       "      <th>1981</th>\n",
       "      <th>1982</th>\n",
       "      <th>1983</th>\n",
       "      <th>1984</th>\n",
       "      <th>1985</th>\n",
       "      <th>1986</th>\n",
       "      <th>1987</th>\n",
       "      <th>1988</th>\n",
       "      <th>1989</th>\n",
       "      <th>1990</th>\n",
       "      <th>1991</th>\n",
       "      <th>1992</th>\n",
       "      <th>1993</th>\n",
       "      <th>1994</th>\n",
       "      <th>1995</th>\n",
       "      <th>1996</th>\n",
       "      <th>1997</th>\n",
       "      <th>1998</th>\n",
       "      <th>1999</th>\n",
       "      <th>2000</th>\n",
       "      <th>2001</th>\n",
       "      <th>2002</th>\n",
       "      <th>2003</th>\n",
       "      <th>2004</th>\n",
       "      <th>2005</th>\n",
       "      <th>2006</th>\n",
       "      <th>2007</th>\n",
       "      <th>2008</th>\n",
       "      <th>2009</th>\n",
       "      <th>2010</th>\n",
       "      <th>2011</th>\n",
       "      <th>2012</th>\n",
       "      <th>2013</th>\n",
       "      <th>2014</th>\n",
       "      <th>2015</th>\n",
       "      <th>2016</th>\n",
       "    </tr>\n",
       "    <tr>\n",
       "      <th>platform</th>\n",
       "      <th></th>\n",
       "      <th></th>\n",
       "      <th></th>\n",
       "      <th></th>\n",
       "      <th></th>\n",
       "      <th></th>\n",
       "      <th></th>\n",
       "      <th></th>\n",
       "      <th></th>\n",
       "      <th></th>\n",
       "      <th></th>\n",
       "      <th></th>\n",
       "      <th></th>\n",
       "      <th></th>\n",
       "      <th></th>\n",
       "      <th></th>\n",
       "      <th></th>\n",
       "      <th></th>\n",
       "      <th></th>\n",
       "      <th></th>\n",
       "      <th></th>\n",
       "      <th></th>\n",
       "      <th></th>\n",
       "      <th></th>\n",
       "      <th></th>\n",
       "      <th></th>\n",
       "      <th></th>\n",
       "      <th></th>\n",
       "      <th></th>\n",
       "      <th></th>\n",
       "      <th></th>\n",
       "      <th></th>\n",
       "      <th></th>\n",
       "      <th></th>\n",
       "      <th></th>\n",
       "      <th></th>\n",
       "      <th></th>\n",
       "      <th></th>\n",
       "    </tr>\n",
       "  </thead>\n",
       "  <tbody>\n",
       "    <tr>\n",
       "      <th>2600</th>\n",
       "      <td>17</td>\n",
       "      <td>9</td>\n",
       "      <td>46</td>\n",
       "      <td>36</td>\n",
       "      <td>11</td>\n",
       "      <td>1</td>\n",
       "      <td>1</td>\n",
       "      <td>2</td>\n",
       "      <td>6</td>\n",
       "      <td>2</td>\n",
       "      <td>2</td>\n",
       "      <td>0</td>\n",
       "      <td>0</td>\n",
       "      <td>0</td>\n",
       "      <td>0</td>\n",
       "      <td>0</td>\n",
       "      <td>0</td>\n",
       "      <td>0</td>\n",
       "      <td>0</td>\n",
       "      <td>0</td>\n",
       "      <td>0</td>\n",
       "      <td>0</td>\n",
       "      <td>0</td>\n",
       "      <td>0</td>\n",
       "      <td>0</td>\n",
       "      <td>0</td>\n",
       "      <td>0</td>\n",
       "      <td>0</td>\n",
       "      <td>0</td>\n",
       "      <td>0</td>\n",
       "      <td>0</td>\n",
       "      <td>0</td>\n",
       "      <td>0</td>\n",
       "      <td>0</td>\n",
       "      <td>0</td>\n",
       "      <td>0</td>\n",
       "      <td>0</td>\n",
       "      <td>0</td>\n",
       "    </tr>\n",
       "    <tr>\n",
       "      <th>3DO</th>\n",
       "      <td>0</td>\n",
       "      <td>0</td>\n",
       "      <td>0</td>\n",
       "      <td>0</td>\n",
       "      <td>0</td>\n",
       "      <td>0</td>\n",
       "      <td>0</td>\n",
       "      <td>0</td>\n",
       "      <td>0</td>\n",
       "      <td>0</td>\n",
       "      <td>0</td>\n",
       "      <td>0</td>\n",
       "      <td>0</td>\n",
       "      <td>0</td>\n",
       "      <td>0</td>\n",
       "      <td>1</td>\n",
       "      <td>2</td>\n",
       "      <td>0</td>\n",
       "      <td>0</td>\n",
       "      <td>0</td>\n",
       "      <td>0</td>\n",
       "      <td>0</td>\n",
       "      <td>0</td>\n",
       "      <td>0</td>\n",
       "      <td>0</td>\n",
       "      <td>0</td>\n",
       "      <td>0</td>\n",
       "      <td>0</td>\n",
       "      <td>0</td>\n",
       "      <td>0</td>\n",
       "      <td>0</td>\n",
       "      <td>0</td>\n",
       "      <td>0</td>\n",
       "      <td>0</td>\n",
       "      <td>0</td>\n",
       "      <td>0</td>\n",
       "      <td>0</td>\n",
       "      <td>0</td>\n",
       "    </tr>\n",
       "    <tr>\n",
       "      <th>3DS</th>\n",
       "      <td>8</td>\n",
       "      <td>0</td>\n",
       "      <td>0</td>\n",
       "      <td>0</td>\n",
       "      <td>0</td>\n",
       "      <td>0</td>\n",
       "      <td>0</td>\n",
       "      <td>0</td>\n",
       "      <td>0</td>\n",
       "      <td>0</td>\n",
       "      <td>0</td>\n",
       "      <td>0</td>\n",
       "      <td>0</td>\n",
       "      <td>0</td>\n",
       "      <td>0</td>\n",
       "      <td>0</td>\n",
       "      <td>0</td>\n",
       "      <td>0</td>\n",
       "      <td>0</td>\n",
       "      <td>0</td>\n",
       "      <td>0</td>\n",
       "      <td>0</td>\n",
       "      <td>0</td>\n",
       "      <td>0</td>\n",
       "      <td>0</td>\n",
       "      <td>0</td>\n",
       "      <td>0</td>\n",
       "      <td>0</td>\n",
       "      <td>0</td>\n",
       "      <td>0</td>\n",
       "      <td>0</td>\n",
       "      <td>0</td>\n",
       "      <td>116</td>\n",
       "      <td>93</td>\n",
       "      <td>91</td>\n",
       "      <td>80</td>\n",
       "      <td>86</td>\n",
       "      <td>46</td>\n",
       "    </tr>\n",
       "    <tr>\n",
       "      <th>DC</th>\n",
       "      <td>0</td>\n",
       "      <td>0</td>\n",
       "      <td>0</td>\n",
       "      <td>0</td>\n",
       "      <td>0</td>\n",
       "      <td>0</td>\n",
       "      <td>0</td>\n",
       "      <td>0</td>\n",
       "      <td>0</td>\n",
       "      <td>0</td>\n",
       "      <td>0</td>\n",
       "      <td>0</td>\n",
       "      <td>0</td>\n",
       "      <td>0</td>\n",
       "      <td>0</td>\n",
       "      <td>0</td>\n",
       "      <td>0</td>\n",
       "      <td>0</td>\n",
       "      <td>0</td>\n",
       "      <td>7</td>\n",
       "      <td>14</td>\n",
       "      <td>20</td>\n",
       "      <td>8</td>\n",
       "      <td>1</td>\n",
       "      <td>0</td>\n",
       "      <td>0</td>\n",
       "      <td>0</td>\n",
       "      <td>0</td>\n",
       "      <td>1</td>\n",
       "      <td>1</td>\n",
       "      <td>0</td>\n",
       "      <td>0</td>\n",
       "      <td>0</td>\n",
       "      <td>0</td>\n",
       "      <td>0</td>\n",
       "      <td>0</td>\n",
       "      <td>0</td>\n",
       "      <td>0</td>\n",
       "    </tr>\n",
       "    <tr>\n",
       "      <th>DS</th>\n",
       "      <td>30</td>\n",
       "      <td>0</td>\n",
       "      <td>0</td>\n",
       "      <td>0</td>\n",
       "      <td>0</td>\n",
       "      <td>0</td>\n",
       "      <td>1</td>\n",
       "      <td>0</td>\n",
       "      <td>0</td>\n",
       "      <td>0</td>\n",
       "      <td>0</td>\n",
       "      <td>0</td>\n",
       "      <td>0</td>\n",
       "      <td>0</td>\n",
       "      <td>0</td>\n",
       "      <td>0</td>\n",
       "      <td>0</td>\n",
       "      <td>0</td>\n",
       "      <td>0</td>\n",
       "      <td>0</td>\n",
       "      <td>0</td>\n",
       "      <td>0</td>\n",
       "      <td>0</td>\n",
       "      <td>0</td>\n",
       "      <td>0</td>\n",
       "      <td>23</td>\n",
       "      <td>118</td>\n",
       "      <td>201</td>\n",
       "      <td>376</td>\n",
       "      <td>492</td>\n",
       "      <td>403</td>\n",
       "      <td>323</td>\n",
       "      <td>153</td>\n",
       "      <td>23</td>\n",
       "      <td>8</td>\n",
       "      <td>0</td>\n",
       "      <td>0</td>\n",
       "      <td>0</td>\n",
       "    </tr>\n",
       "    <tr>\n",
       "      <th>GB</th>\n",
       "      <td>1</td>\n",
       "      <td>0</td>\n",
       "      <td>0</td>\n",
       "      <td>0</td>\n",
       "      <td>0</td>\n",
       "      <td>0</td>\n",
       "      <td>0</td>\n",
       "      <td>0</td>\n",
       "      <td>0</td>\n",
       "      <td>1</td>\n",
       "      <td>10</td>\n",
       "      <td>3</td>\n",
       "      <td>9</td>\n",
       "      <td>7</td>\n",
       "      <td>0</td>\n",
       "      <td>3</td>\n",
       "      <td>4</td>\n",
       "      <td>6</td>\n",
       "      <td>8</td>\n",
       "      <td>8</td>\n",
       "      <td>11</td>\n",
       "      <td>17</td>\n",
       "      <td>10</td>\n",
       "      <td>0</td>\n",
       "      <td>0</td>\n",
       "      <td>0</td>\n",
       "      <td>0</td>\n",
       "      <td>0</td>\n",
       "      <td>0</td>\n",
       "      <td>0</td>\n",
       "      <td>0</td>\n",
       "      <td>0</td>\n",
       "      <td>0</td>\n",
       "      <td>0</td>\n",
       "      <td>0</td>\n",
       "      <td>0</td>\n",
       "      <td>0</td>\n",
       "      <td>0</td>\n",
       "    </tr>\n",
       "    <tr>\n",
       "      <th>GBA</th>\n",
       "      <td>11</td>\n",
       "      <td>0</td>\n",
       "      <td>0</td>\n",
       "      <td>0</td>\n",
       "      <td>0</td>\n",
       "      <td>0</td>\n",
       "      <td>0</td>\n",
       "      <td>0</td>\n",
       "      <td>0</td>\n",
       "      <td>0</td>\n",
       "      <td>0</td>\n",
       "      <td>0</td>\n",
       "      <td>0</td>\n",
       "      <td>0</td>\n",
       "      <td>0</td>\n",
       "      <td>0</td>\n",
       "      <td>0</td>\n",
       "      <td>0</td>\n",
       "      <td>0</td>\n",
       "      <td>0</td>\n",
       "      <td>0</td>\n",
       "      <td>1</td>\n",
       "      <td>107</td>\n",
       "      <td>198</td>\n",
       "      <td>150</td>\n",
       "      <td>175</td>\n",
       "      <td>135</td>\n",
       "      <td>39</td>\n",
       "      <td>6</td>\n",
       "      <td>0</td>\n",
       "      <td>0</td>\n",
       "      <td>0</td>\n",
       "      <td>0</td>\n",
       "      <td>0</td>\n",
       "      <td>0</td>\n",
       "      <td>0</td>\n",
       "      <td>0</td>\n",
       "      <td>0</td>\n",
       "    </tr>\n",
       "    <tr>\n",
       "      <th>GC</th>\n",
       "      <td>14</td>\n",
       "      <td>0</td>\n",
       "      <td>0</td>\n",
       "      <td>0</td>\n",
       "      <td>0</td>\n",
       "      <td>0</td>\n",
       "      <td>0</td>\n",
       "      <td>0</td>\n",
       "      <td>0</td>\n",
       "      <td>0</td>\n",
       "      <td>0</td>\n",
       "      <td>0</td>\n",
       "      <td>0</td>\n",
       "      <td>0</td>\n",
       "      <td>0</td>\n",
       "      <td>0</td>\n",
       "      <td>0</td>\n",
       "      <td>0</td>\n",
       "      <td>0</td>\n",
       "      <td>0</td>\n",
       "      <td>0</td>\n",
       "      <td>0</td>\n",
       "      <td>22</td>\n",
       "      <td>152</td>\n",
       "      <td>144</td>\n",
       "      <td>83</td>\n",
       "      <td>97</td>\n",
       "      <td>40</td>\n",
       "      <td>4</td>\n",
       "      <td>0</td>\n",
       "      <td>0</td>\n",
       "      <td>0</td>\n",
       "      <td>0</td>\n",
       "      <td>0</td>\n",
       "      <td>0</td>\n",
       "      <td>0</td>\n",
       "      <td>0</td>\n",
       "      <td>0</td>\n",
       "    </tr>\n",
       "    <tr>\n",
       "      <th>GEN</th>\n",
       "      <td>0</td>\n",
       "      <td>0</td>\n",
       "      <td>0</td>\n",
       "      <td>0</td>\n",
       "      <td>0</td>\n",
       "      <td>0</td>\n",
       "      <td>0</td>\n",
       "      <td>0</td>\n",
       "      <td>0</td>\n",
       "      <td>0</td>\n",
       "      <td>0</td>\n",
       "      <td>1</td>\n",
       "      <td>1</td>\n",
       "      <td>6</td>\n",
       "      <td>7</td>\n",
       "      <td>12</td>\n",
       "      <td>0</td>\n",
       "      <td>0</td>\n",
       "      <td>0</td>\n",
       "      <td>0</td>\n",
       "      <td>0</td>\n",
       "      <td>0</td>\n",
       "      <td>0</td>\n",
       "      <td>0</td>\n",
       "      <td>0</td>\n",
       "      <td>0</td>\n",
       "      <td>0</td>\n",
       "      <td>0</td>\n",
       "      <td>0</td>\n",
       "      <td>0</td>\n",
       "      <td>0</td>\n",
       "      <td>0</td>\n",
       "      <td>0</td>\n",
       "      <td>0</td>\n",
       "      <td>0</td>\n",
       "      <td>0</td>\n",
       "      <td>0</td>\n",
       "      <td>0</td>\n",
       "    </tr>\n",
       "    <tr>\n",
       "      <th>GG</th>\n",
       "      <td>0</td>\n",
       "      <td>0</td>\n",
       "      <td>0</td>\n",
       "      <td>0</td>\n",
       "      <td>0</td>\n",
       "      <td>0</td>\n",
       "      <td>0</td>\n",
       "      <td>0</td>\n",
       "      <td>0</td>\n",
       "      <td>0</td>\n",
       "      <td>0</td>\n",
       "      <td>0</td>\n",
       "      <td>0</td>\n",
       "      <td>1</td>\n",
       "      <td>0</td>\n",
       "      <td>0</td>\n",
       "      <td>0</td>\n",
       "      <td>0</td>\n",
       "      <td>0</td>\n",
       "      <td>0</td>\n",
       "      <td>0</td>\n",
       "      <td>0</td>\n",
       "      <td>0</td>\n",
       "      <td>0</td>\n",
       "      <td>0</td>\n",
       "      <td>0</td>\n",
       "      <td>0</td>\n",
       "      <td>0</td>\n",
       "      <td>0</td>\n",
       "      <td>0</td>\n",
       "      <td>0</td>\n",
       "      <td>0</td>\n",
       "      <td>0</td>\n",
       "      <td>0</td>\n",
       "      <td>0</td>\n",
       "      <td>0</td>\n",
       "      <td>0</td>\n",
       "      <td>0</td>\n",
       "    </tr>\n",
       "    <tr>\n",
       "      <th>N64</th>\n",
       "      <td>3</td>\n",
       "      <td>0</td>\n",
       "      <td>0</td>\n",
       "      <td>0</td>\n",
       "      <td>0</td>\n",
       "      <td>0</td>\n",
       "      <td>0</td>\n",
       "      <td>0</td>\n",
       "      <td>0</td>\n",
       "      <td>0</td>\n",
       "      <td>0</td>\n",
       "      <td>0</td>\n",
       "      <td>0</td>\n",
       "      <td>0</td>\n",
       "      <td>0</td>\n",
       "      <td>0</td>\n",
       "      <td>0</td>\n",
       "      <td>18</td>\n",
       "      <td>49</td>\n",
       "      <td>77</td>\n",
       "      <td>102</td>\n",
       "      <td>60</td>\n",
       "      <td>9</td>\n",
       "      <td>1</td>\n",
       "      <td>0</td>\n",
       "      <td>0</td>\n",
       "      <td>0</td>\n",
       "      <td>0</td>\n",
       "      <td>0</td>\n",
       "      <td>0</td>\n",
       "      <td>0</td>\n",
       "      <td>0</td>\n",
       "      <td>0</td>\n",
       "      <td>0</td>\n",
       "      <td>0</td>\n",
       "      <td>0</td>\n",
       "      <td>0</td>\n",
       "      <td>0</td>\n",
       "    </tr>\n",
       "    <tr>\n",
       "      <th>NES</th>\n",
       "      <td>0</td>\n",
       "      <td>0</td>\n",
       "      <td>0</td>\n",
       "      <td>0</td>\n",
       "      <td>6</td>\n",
       "      <td>13</td>\n",
       "      <td>11</td>\n",
       "      <td>19</td>\n",
       "      <td>10</td>\n",
       "      <td>11</td>\n",
       "      <td>5</td>\n",
       "      <td>8</td>\n",
       "      <td>7</td>\n",
       "      <td>3</td>\n",
       "      <td>4</td>\n",
       "      <td>1</td>\n",
       "      <td>0</td>\n",
       "      <td>0</td>\n",
       "      <td>0</td>\n",
       "      <td>0</td>\n",
       "      <td>0</td>\n",
       "      <td>0</td>\n",
       "      <td>0</td>\n",
       "      <td>0</td>\n",
       "      <td>0</td>\n",
       "      <td>0</td>\n",
       "      <td>0</td>\n",
       "      <td>0</td>\n",
       "      <td>0</td>\n",
       "      <td>0</td>\n",
       "      <td>0</td>\n",
       "      <td>0</td>\n",
       "      <td>0</td>\n",
       "      <td>0</td>\n",
       "      <td>0</td>\n",
       "      <td>0</td>\n",
       "      <td>0</td>\n",
       "      <td>0</td>\n",
       "    </tr>\n",
       "    <tr>\n",
       "      <th>NG</th>\n",
       "      <td>0</td>\n",
       "      <td>0</td>\n",
       "      <td>0</td>\n",
       "      <td>0</td>\n",
       "      <td>0</td>\n",
       "      <td>0</td>\n",
       "      <td>0</td>\n",
       "      <td>0</td>\n",
       "      <td>0</td>\n",
       "      <td>0</td>\n",
       "      <td>0</td>\n",
       "      <td>0</td>\n",
       "      <td>0</td>\n",
       "      <td>0</td>\n",
       "      <td>2</td>\n",
       "      <td>4</td>\n",
       "      <td>4</td>\n",
       "      <td>2</td>\n",
       "      <td>0</td>\n",
       "      <td>0</td>\n",
       "      <td>0</td>\n",
       "      <td>0</td>\n",
       "      <td>0</td>\n",
       "      <td>0</td>\n",
       "      <td>0</td>\n",
       "      <td>0</td>\n",
       "      <td>0</td>\n",
       "      <td>0</td>\n",
       "      <td>0</td>\n",
       "      <td>0</td>\n",
       "      <td>0</td>\n",
       "      <td>0</td>\n",
       "      <td>0</td>\n",
       "      <td>0</td>\n",
       "      <td>0</td>\n",
       "      <td>0</td>\n",
       "      <td>0</td>\n",
       "      <td>0</td>\n",
       "    </tr>\n",
       "    <tr>\n",
       "      <th>PC</th>\n",
       "      <td>17</td>\n",
       "      <td>0</td>\n",
       "      <td>0</td>\n",
       "      <td>0</td>\n",
       "      <td>0</td>\n",
       "      <td>0</td>\n",
       "      <td>1</td>\n",
       "      <td>0</td>\n",
       "      <td>0</td>\n",
       "      <td>1</td>\n",
       "      <td>0</td>\n",
       "      <td>0</td>\n",
       "      <td>0</td>\n",
       "      <td>5</td>\n",
       "      <td>0</td>\n",
       "      <td>6</td>\n",
       "      <td>2</td>\n",
       "      <td>4</td>\n",
       "      <td>6</td>\n",
       "      <td>8</td>\n",
       "      <td>7</td>\n",
       "      <td>7</td>\n",
       "      <td>15</td>\n",
       "      <td>19</td>\n",
       "      <td>33</td>\n",
       "      <td>30</td>\n",
       "      <td>37</td>\n",
       "      <td>52</td>\n",
       "      <td>62</td>\n",
       "      <td>76</td>\n",
       "      <td>107</td>\n",
       "      <td>90</td>\n",
       "      <td>139</td>\n",
       "      <td>61</td>\n",
       "      <td>38</td>\n",
       "      <td>47</td>\n",
       "      <td>50</td>\n",
       "      <td>54</td>\n",
       "    </tr>\n",
       "    <tr>\n",
       "      <th>PCFX</th>\n",
       "      <td>0</td>\n",
       "      <td>0</td>\n",
       "      <td>0</td>\n",
       "      <td>0</td>\n",
       "      <td>0</td>\n",
       "      <td>0</td>\n",
       "      <td>0</td>\n",
       "      <td>0</td>\n",
       "      <td>0</td>\n",
       "      <td>0</td>\n",
       "      <td>0</td>\n",
       "      <td>0</td>\n",
       "      <td>0</td>\n",
       "      <td>0</td>\n",
       "      <td>0</td>\n",
       "      <td>0</td>\n",
       "      <td>0</td>\n",
       "      <td>1</td>\n",
       "      <td>0</td>\n",
       "      <td>0</td>\n",
       "      <td>0</td>\n",
       "      <td>0</td>\n",
       "      <td>0</td>\n",
       "      <td>0</td>\n",
       "      <td>0</td>\n",
       "      <td>0</td>\n",
       "      <td>0</td>\n",
       "      <td>0</td>\n",
       "      <td>0</td>\n",
       "      <td>0</td>\n",
       "      <td>0</td>\n",
       "      <td>0</td>\n",
       "      <td>0</td>\n",
       "      <td>0</td>\n",
       "      <td>0</td>\n",
       "      <td>0</td>\n",
       "      <td>0</td>\n",
       "      <td>0</td>\n",
       "    </tr>\n",
       "    <tr>\n",
       "      <th>PS</th>\n",
       "      <td>7</td>\n",
       "      <td>0</td>\n",
       "      <td>0</td>\n",
       "      <td>0</td>\n",
       "      <td>0</td>\n",
       "      <td>0</td>\n",
       "      <td>0</td>\n",
       "      <td>0</td>\n",
       "      <td>0</td>\n",
       "      <td>0</td>\n",
       "      <td>0</td>\n",
       "      <td>0</td>\n",
       "      <td>0</td>\n",
       "      <td>0</td>\n",
       "      <td>0</td>\n",
       "      <td>17</td>\n",
       "      <td>99</td>\n",
       "      <td>164</td>\n",
       "      <td>188</td>\n",
       "      <td>248</td>\n",
       "      <td>200</td>\n",
       "      <td>160</td>\n",
       "      <td>91</td>\n",
       "      <td>20</td>\n",
       "      <td>3</td>\n",
       "      <td>0</td>\n",
       "      <td>0</td>\n",
       "      <td>0</td>\n",
       "      <td>0</td>\n",
       "      <td>0</td>\n",
       "      <td>0</td>\n",
       "      <td>0</td>\n",
       "      <td>0</td>\n",
       "      <td>0</td>\n",
       "      <td>0</td>\n",
       "      <td>0</td>\n",
       "      <td>0</td>\n",
       "      <td>0</td>\n",
       "    </tr>\n",
       "    <tr>\n",
       "      <th>PS2</th>\n",
       "      <td>34</td>\n",
       "      <td>0</td>\n",
       "      <td>0</td>\n",
       "      <td>0</td>\n",
       "      <td>0</td>\n",
       "      <td>0</td>\n",
       "      <td>0</td>\n",
       "      <td>0</td>\n",
       "      <td>0</td>\n",
       "      <td>0</td>\n",
       "      <td>0</td>\n",
       "      <td>0</td>\n",
       "      <td>0</td>\n",
       "      <td>0</td>\n",
       "      <td>0</td>\n",
       "      <td>0</td>\n",
       "      <td>0</td>\n",
       "      <td>0</td>\n",
       "      <td>0</td>\n",
       "      <td>0</td>\n",
       "      <td>0</td>\n",
       "      <td>82</td>\n",
       "      <td>185</td>\n",
       "      <td>280</td>\n",
       "      <td>256</td>\n",
       "      <td>259</td>\n",
       "      <td>260</td>\n",
       "      <td>259</td>\n",
       "      <td>214</td>\n",
       "      <td>191</td>\n",
       "      <td>96</td>\n",
       "      <td>38</td>\n",
       "      <td>7</td>\n",
       "      <td>0</td>\n",
       "      <td>0</td>\n",
       "      <td>0</td>\n",
       "      <td>0</td>\n",
       "      <td>0</td>\n",
       "    </tr>\n",
       "    <tr>\n",
       "      <th>PS3</th>\n",
       "      <td>25</td>\n",
       "      <td>0</td>\n",
       "      <td>0</td>\n",
       "      <td>0</td>\n",
       "      <td>0</td>\n",
       "      <td>0</td>\n",
       "      <td>0</td>\n",
       "      <td>0</td>\n",
       "      <td>0</td>\n",
       "      <td>0</td>\n",
       "      <td>0</td>\n",
       "      <td>0</td>\n",
       "      <td>0</td>\n",
       "      <td>0</td>\n",
       "      <td>0</td>\n",
       "      <td>0</td>\n",
       "      <td>0</td>\n",
       "      <td>0</td>\n",
       "      <td>0</td>\n",
       "      <td>0</td>\n",
       "      <td>0</td>\n",
       "      <td>0</td>\n",
       "      <td>0</td>\n",
       "      <td>0</td>\n",
       "      <td>0</td>\n",
       "      <td>0</td>\n",
       "      <td>0</td>\n",
       "      <td>27</td>\n",
       "      <td>90</td>\n",
       "      <td>138</td>\n",
       "      <td>162</td>\n",
       "      <td>181</td>\n",
       "      <td>215</td>\n",
       "      <td>148</td>\n",
       "      <td>126</td>\n",
       "      <td>108</td>\n",
       "      <td>73</td>\n",
       "      <td>38</td>\n",
       "    </tr>\n",
       "    <tr>\n",
       "      <th>PS4</th>\n",
       "      <td>0</td>\n",
       "      <td>0</td>\n",
       "      <td>0</td>\n",
       "      <td>0</td>\n",
       "      <td>0</td>\n",
       "      <td>0</td>\n",
       "      <td>0</td>\n",
       "      <td>0</td>\n",
       "      <td>0</td>\n",
       "      <td>0</td>\n",
       "      <td>0</td>\n",
       "      <td>0</td>\n",
       "      <td>0</td>\n",
       "      <td>0</td>\n",
       "      <td>0</td>\n",
       "      <td>0</td>\n",
       "      <td>0</td>\n",
       "      <td>0</td>\n",
       "      <td>0</td>\n",
       "      <td>0</td>\n",
       "      <td>0</td>\n",
       "      <td>0</td>\n",
       "      <td>0</td>\n",
       "      <td>0</td>\n",
       "      <td>0</td>\n",
       "      <td>0</td>\n",
       "      <td>0</td>\n",
       "      <td>0</td>\n",
       "      <td>0</td>\n",
       "      <td>0</td>\n",
       "      <td>0</td>\n",
       "      <td>0</td>\n",
       "      <td>0</td>\n",
       "      <td>0</td>\n",
       "      <td>16</td>\n",
       "      <td>75</td>\n",
       "      <td>137</td>\n",
       "      <td>164</td>\n",
       "    </tr>\n",
       "    <tr>\n",
       "      <th>PSP</th>\n",
       "      <td>16</td>\n",
       "      <td>0</td>\n",
       "      <td>0</td>\n",
       "      <td>0</td>\n",
       "      <td>0</td>\n",
       "      <td>0</td>\n",
       "      <td>0</td>\n",
       "      <td>0</td>\n",
       "      <td>0</td>\n",
       "      <td>0</td>\n",
       "      <td>0</td>\n",
       "      <td>0</td>\n",
       "      <td>0</td>\n",
       "      <td>0</td>\n",
       "      <td>0</td>\n",
       "      <td>0</td>\n",
       "      <td>0</td>\n",
       "      <td>0</td>\n",
       "      <td>0</td>\n",
       "      <td>0</td>\n",
       "      <td>0</td>\n",
       "      <td>0</td>\n",
       "      <td>0</td>\n",
       "      <td>0</td>\n",
       "      <td>0</td>\n",
       "      <td>15</td>\n",
       "      <td>95</td>\n",
       "      <td>189</td>\n",
       "      <td>133</td>\n",
       "      <td>100</td>\n",
       "      <td>161</td>\n",
       "      <td>188</td>\n",
       "      <td>139</td>\n",
       "      <td>106</td>\n",
       "      <td>54</td>\n",
       "      <td>10</td>\n",
       "      <td>3</td>\n",
       "      <td>0</td>\n",
       "    </tr>\n",
       "    <tr>\n",
       "      <th>PSV</th>\n",
       "      <td>1</td>\n",
       "      <td>0</td>\n",
       "      <td>0</td>\n",
       "      <td>0</td>\n",
       "      <td>0</td>\n",
       "      <td>0</td>\n",
       "      <td>0</td>\n",
       "      <td>0</td>\n",
       "      <td>0</td>\n",
       "      <td>0</td>\n",
       "      <td>0</td>\n",
       "      <td>0</td>\n",
       "      <td>0</td>\n",
       "      <td>0</td>\n",
       "      <td>0</td>\n",
       "      <td>0</td>\n",
       "      <td>0</td>\n",
       "      <td>0</td>\n",
       "      <td>0</td>\n",
       "      <td>0</td>\n",
       "      <td>0</td>\n",
       "      <td>0</td>\n",
       "      <td>0</td>\n",
       "      <td>0</td>\n",
       "      <td>0</td>\n",
       "      <td>0</td>\n",
       "      <td>0</td>\n",
       "      <td>0</td>\n",
       "      <td>0</td>\n",
       "      <td>0</td>\n",
       "      <td>0</td>\n",
       "      <td>0</td>\n",
       "      <td>18</td>\n",
       "      <td>53</td>\n",
       "      <td>63</td>\n",
       "      <td>100</td>\n",
       "      <td>110</td>\n",
       "      <td>85</td>\n",
       "    </tr>\n",
       "    <tr>\n",
       "      <th>SAT</th>\n",
       "      <td>0</td>\n",
       "      <td>0</td>\n",
       "      <td>0</td>\n",
       "      <td>0</td>\n",
       "      <td>0</td>\n",
       "      <td>0</td>\n",
       "      <td>0</td>\n",
       "      <td>0</td>\n",
       "      <td>0</td>\n",
       "      <td>0</td>\n",
       "      <td>0</td>\n",
       "      <td>0</td>\n",
       "      <td>0</td>\n",
       "      <td>0</td>\n",
       "      <td>0</td>\n",
       "      <td>19</td>\n",
       "      <td>52</td>\n",
       "      <td>38</td>\n",
       "      <td>34</td>\n",
       "      <td>29</td>\n",
       "      <td>1</td>\n",
       "      <td>0</td>\n",
       "      <td>0</td>\n",
       "      <td>0</td>\n",
       "      <td>0</td>\n",
       "      <td>0</td>\n",
       "      <td>0</td>\n",
       "      <td>0</td>\n",
       "      <td>0</td>\n",
       "      <td>0</td>\n",
       "      <td>0</td>\n",
       "      <td>0</td>\n",
       "      <td>0</td>\n",
       "      <td>0</td>\n",
       "      <td>0</td>\n",
       "      <td>0</td>\n",
       "      <td>0</td>\n",
       "      <td>0</td>\n",
       "    </tr>\n",
       "    <tr>\n",
       "      <th>SCD</th>\n",
       "      <td>0</td>\n",
       "      <td>0</td>\n",
       "      <td>0</td>\n",
       "      <td>0</td>\n",
       "      <td>0</td>\n",
       "      <td>0</td>\n",
       "      <td>0</td>\n",
       "      <td>0</td>\n",
       "      <td>0</td>\n",
       "      <td>0</td>\n",
       "      <td>0</td>\n",
       "      <td>0</td>\n",
       "      <td>0</td>\n",
       "      <td>0</td>\n",
       "      <td>1</td>\n",
       "      <td>5</td>\n",
       "      <td>0</td>\n",
       "      <td>0</td>\n",
       "      <td>0</td>\n",
       "      <td>0</td>\n",
       "      <td>0</td>\n",
       "      <td>0</td>\n",
       "      <td>0</td>\n",
       "      <td>0</td>\n",
       "      <td>0</td>\n",
       "      <td>0</td>\n",
       "      <td>0</td>\n",
       "      <td>0</td>\n",
       "      <td>0</td>\n",
       "      <td>0</td>\n",
       "      <td>0</td>\n",
       "      <td>0</td>\n",
       "      <td>0</td>\n",
       "      <td>0</td>\n",
       "      <td>0</td>\n",
       "      <td>0</td>\n",
       "      <td>0</td>\n",
       "      <td>0</td>\n",
       "    </tr>\n",
       "    <tr>\n",
       "      <th>SNES</th>\n",
       "      <td>0</td>\n",
       "      <td>0</td>\n",
       "      <td>0</td>\n",
       "      <td>0</td>\n",
       "      <td>0</td>\n",
       "      <td>0</td>\n",
       "      <td>0</td>\n",
       "      <td>0</td>\n",
       "      <td>0</td>\n",
       "      <td>0</td>\n",
       "      <td>0</td>\n",
       "      <td>4</td>\n",
       "      <td>24</td>\n",
       "      <td>21</td>\n",
       "      <td>46</td>\n",
       "      <td>53</td>\n",
       "      <td>54</td>\n",
       "      <td>30</td>\n",
       "      <td>4</td>\n",
       "      <td>2</td>\n",
       "      <td>1</td>\n",
       "      <td>0</td>\n",
       "      <td>0</td>\n",
       "      <td>0</td>\n",
       "      <td>0</td>\n",
       "      <td>0</td>\n",
       "      <td>0</td>\n",
       "      <td>0</td>\n",
       "      <td>0</td>\n",
       "      <td>0</td>\n",
       "      <td>0</td>\n",
       "      <td>0</td>\n",
       "      <td>0</td>\n",
       "      <td>0</td>\n",
       "      <td>0</td>\n",
       "      <td>0</td>\n",
       "      <td>0</td>\n",
       "      <td>0</td>\n",
       "    </tr>\n",
       "    <tr>\n",
       "      <th>TG16</th>\n",
       "      <td>0</td>\n",
       "      <td>0</td>\n",
       "      <td>0</td>\n",
       "      <td>0</td>\n",
       "      <td>0</td>\n",
       "      <td>0</td>\n",
       "      <td>0</td>\n",
       "      <td>0</td>\n",
       "      <td>0</td>\n",
       "      <td>0</td>\n",
       "      <td>0</td>\n",
       "      <td>0</td>\n",
       "      <td>0</td>\n",
       "      <td>0</td>\n",
       "      <td>0</td>\n",
       "      <td>0</td>\n",
       "      <td>2</td>\n",
       "      <td>0</td>\n",
       "      <td>0</td>\n",
       "      <td>0</td>\n",
       "      <td>0</td>\n",
       "      <td>0</td>\n",
       "      <td>0</td>\n",
       "      <td>0</td>\n",
       "      <td>0</td>\n",
       "      <td>0</td>\n",
       "      <td>0</td>\n",
       "      <td>0</td>\n",
       "      <td>0</td>\n",
       "      <td>0</td>\n",
       "      <td>0</td>\n",
       "      <td>0</td>\n",
       "      <td>0</td>\n",
       "      <td>0</td>\n",
       "      <td>0</td>\n",
       "      <td>0</td>\n",
       "      <td>0</td>\n",
       "      <td>0</td>\n",
       "    </tr>\n",
       "    <tr>\n",
       "      <th>WS</th>\n",
       "      <td>0</td>\n",
       "      <td>0</td>\n",
       "      <td>0</td>\n",
       "      <td>0</td>\n",
       "      <td>0</td>\n",
       "      <td>0</td>\n",
       "      <td>0</td>\n",
       "      <td>0</td>\n",
       "      <td>0</td>\n",
       "      <td>0</td>\n",
       "      <td>0</td>\n",
       "      <td>0</td>\n",
       "      <td>0</td>\n",
       "      <td>0</td>\n",
       "      <td>0</td>\n",
       "      <td>0</td>\n",
       "      <td>0</td>\n",
       "      <td>0</td>\n",
       "      <td>0</td>\n",
       "      <td>0</td>\n",
       "      <td>2</td>\n",
       "      <td>2</td>\n",
       "      <td>2</td>\n",
       "      <td>0</td>\n",
       "      <td>0</td>\n",
       "      <td>0</td>\n",
       "      <td>0</td>\n",
       "      <td>0</td>\n",
       "      <td>0</td>\n",
       "      <td>0</td>\n",
       "      <td>0</td>\n",
       "      <td>0</td>\n",
       "      <td>0</td>\n",
       "      <td>0</td>\n",
       "      <td>0</td>\n",
       "      <td>0</td>\n",
       "      <td>0</td>\n",
       "      <td>0</td>\n",
       "    </tr>\n",
       "    <tr>\n",
       "      <th>Wii</th>\n",
       "      <td>34</td>\n",
       "      <td>0</td>\n",
       "      <td>0</td>\n",
       "      <td>0</td>\n",
       "      <td>0</td>\n",
       "      <td>0</td>\n",
       "      <td>0</td>\n",
       "      <td>0</td>\n",
       "      <td>0</td>\n",
       "      <td>0</td>\n",
       "      <td>0</td>\n",
       "      <td>0</td>\n",
       "      <td>0</td>\n",
       "      <td>0</td>\n",
       "      <td>0</td>\n",
       "      <td>0</td>\n",
       "      <td>0</td>\n",
       "      <td>0</td>\n",
       "      <td>0</td>\n",
       "      <td>0</td>\n",
       "      <td>0</td>\n",
       "      <td>0</td>\n",
       "      <td>0</td>\n",
       "      <td>0</td>\n",
       "      <td>0</td>\n",
       "      <td>0</td>\n",
       "      <td>0</td>\n",
       "      <td>44</td>\n",
       "      <td>185</td>\n",
       "      <td>282</td>\n",
       "      <td>325</td>\n",
       "      <td>253</td>\n",
       "      <td>143</td>\n",
       "      <td>31</td>\n",
       "      <td>12</td>\n",
       "      <td>6</td>\n",
       "      <td>4</td>\n",
       "      <td>1</td>\n",
       "    </tr>\n",
       "    <tr>\n",
       "      <th>WiiU</th>\n",
       "      <td>0</td>\n",
       "      <td>0</td>\n",
       "      <td>0</td>\n",
       "      <td>0</td>\n",
       "      <td>0</td>\n",
       "      <td>0</td>\n",
       "      <td>0</td>\n",
       "      <td>0</td>\n",
       "      <td>0</td>\n",
       "      <td>0</td>\n",
       "      <td>0</td>\n",
       "      <td>0</td>\n",
       "      <td>0</td>\n",
       "      <td>0</td>\n",
       "      <td>0</td>\n",
       "      <td>0</td>\n",
       "      <td>0</td>\n",
       "      <td>0</td>\n",
       "      <td>0</td>\n",
       "      <td>0</td>\n",
       "      <td>0</td>\n",
       "      <td>0</td>\n",
       "      <td>0</td>\n",
       "      <td>0</td>\n",
       "      <td>0</td>\n",
       "      <td>0</td>\n",
       "      <td>0</td>\n",
       "      <td>0</td>\n",
       "      <td>0</td>\n",
       "      <td>0</td>\n",
       "      <td>0</td>\n",
       "      <td>0</td>\n",
       "      <td>0</td>\n",
       "      <td>32</td>\n",
       "      <td>42</td>\n",
       "      <td>31</td>\n",
       "      <td>28</td>\n",
       "      <td>14</td>\n",
       "    </tr>\n",
       "    <tr>\n",
       "      <th>X360</th>\n",
       "      <td>30</td>\n",
       "      <td>0</td>\n",
       "      <td>0</td>\n",
       "      <td>0</td>\n",
       "      <td>0</td>\n",
       "      <td>0</td>\n",
       "      <td>0</td>\n",
       "      <td>0</td>\n",
       "      <td>0</td>\n",
       "      <td>0</td>\n",
       "      <td>0</td>\n",
       "      <td>0</td>\n",
       "      <td>0</td>\n",
       "      <td>0</td>\n",
       "      <td>0</td>\n",
       "      <td>0</td>\n",
       "      <td>0</td>\n",
       "      <td>0</td>\n",
       "      <td>0</td>\n",
       "      <td>0</td>\n",
       "      <td>0</td>\n",
       "      <td>0</td>\n",
       "      <td>0</td>\n",
       "      <td>0</td>\n",
       "      <td>0</td>\n",
       "      <td>0</td>\n",
       "      <td>18</td>\n",
       "      <td>93</td>\n",
       "      <td>123</td>\n",
       "      <td>146</td>\n",
       "      <td>172</td>\n",
       "      <td>182</td>\n",
       "      <td>206</td>\n",
       "      <td>106</td>\n",
       "      <td>75</td>\n",
       "      <td>63</td>\n",
       "      <td>35</td>\n",
       "      <td>13</td>\n",
       "    </tr>\n",
       "    <tr>\n",
       "      <th>XB</th>\n",
       "      <td>21</td>\n",
       "      <td>0</td>\n",
       "      <td>0</td>\n",
       "      <td>0</td>\n",
       "      <td>0</td>\n",
       "      <td>0</td>\n",
       "      <td>0</td>\n",
       "      <td>0</td>\n",
       "      <td>0</td>\n",
       "      <td>0</td>\n",
       "      <td>0</td>\n",
       "      <td>0</td>\n",
       "      <td>0</td>\n",
       "      <td>0</td>\n",
       "      <td>0</td>\n",
       "      <td>0</td>\n",
       "      <td>0</td>\n",
       "      <td>0</td>\n",
       "      <td>0</td>\n",
       "      <td>0</td>\n",
       "      <td>0</td>\n",
       "      <td>1</td>\n",
       "      <td>33</td>\n",
       "      <td>158</td>\n",
       "      <td>189</td>\n",
       "      <td>177</td>\n",
       "      <td>179</td>\n",
       "      <td>62</td>\n",
       "      <td>3</td>\n",
       "      <td>1</td>\n",
       "      <td>0</td>\n",
       "      <td>0</td>\n",
       "      <td>0</td>\n",
       "      <td>0</td>\n",
       "      <td>0</td>\n",
       "      <td>0</td>\n",
       "      <td>0</td>\n",
       "      <td>0</td>\n",
       "    </tr>\n",
       "    <tr>\n",
       "      <th>XOne</th>\n",
       "      <td>0</td>\n",
       "      <td>0</td>\n",
       "      <td>0</td>\n",
       "      <td>0</td>\n",
       "      <td>0</td>\n",
       "      <td>0</td>\n",
       "      <td>0</td>\n",
       "      <td>0</td>\n",
       "      <td>0</td>\n",
       "      <td>0</td>\n",
       "      <td>0</td>\n",
       "      <td>0</td>\n",
       "      <td>0</td>\n",
       "      <td>0</td>\n",
       "      <td>0</td>\n",
       "      <td>0</td>\n",
       "      <td>0</td>\n",
       "      <td>0</td>\n",
       "      <td>0</td>\n",
       "      <td>0</td>\n",
       "      <td>0</td>\n",
       "      <td>0</td>\n",
       "      <td>0</td>\n",
       "      <td>0</td>\n",
       "      <td>0</td>\n",
       "      <td>0</td>\n",
       "      <td>0</td>\n",
       "      <td>0</td>\n",
       "      <td>0</td>\n",
       "      <td>0</td>\n",
       "      <td>0</td>\n",
       "      <td>0</td>\n",
       "      <td>0</td>\n",
       "      <td>0</td>\n",
       "      <td>19</td>\n",
       "      <td>61</td>\n",
       "      <td>80</td>\n",
       "      <td>87</td>\n",
       "    </tr>\n",
       "  </tbody>\n",
       "</table>\n",
       "</div>"
      ],
      "text/plain": [
       "year_of_release  0     1980  1981  1982  1983  1984  1985  1986  1987  1988  \\\n",
       "platform                                                                      \n",
       "2600               17     9    46    36    11     1     1     2     6     2   \n",
       "3DO                 0     0     0     0     0     0     0     0     0     0   \n",
       "3DS                 8     0     0     0     0     0     0     0     0     0   \n",
       "DC                  0     0     0     0     0     0     0     0     0     0   \n",
       "DS                 30     0     0     0     0     0     1     0     0     0   \n",
       "GB                  1     0     0     0     0     0     0     0     0     1   \n",
       "GBA                11     0     0     0     0     0     0     0     0     0   \n",
       "GC                 14     0     0     0     0     0     0     0     0     0   \n",
       "GEN                 0     0     0     0     0     0     0     0     0     0   \n",
       "GG                  0     0     0     0     0     0     0     0     0     0   \n",
       "N64                 3     0     0     0     0     0     0     0     0     0   \n",
       "NES                 0     0     0     0     6    13    11    19    10    11   \n",
       "NG                  0     0     0     0     0     0     0     0     0     0   \n",
       "PC                 17     0     0     0     0     0     1     0     0     1   \n",
       "PCFX                0     0     0     0     0     0     0     0     0     0   \n",
       "PS                  7     0     0     0     0     0     0     0     0     0   \n",
       "PS2                34     0     0     0     0     0     0     0     0     0   \n",
       "PS3                25     0     0     0     0     0     0     0     0     0   \n",
       "PS4                 0     0     0     0     0     0     0     0     0     0   \n",
       "PSP                16     0     0     0     0     0     0     0     0     0   \n",
       "PSV                 1     0     0     0     0     0     0     0     0     0   \n",
       "SAT                 0     0     0     0     0     0     0     0     0     0   \n",
       "SCD                 0     0     0     0     0     0     0     0     0     0   \n",
       "SNES                0     0     0     0     0     0     0     0     0     0   \n",
       "TG16                0     0     0     0     0     0     0     0     0     0   \n",
       "WS                  0     0     0     0     0     0     0     0     0     0   \n",
       "Wii                34     0     0     0     0     0     0     0     0     0   \n",
       "WiiU                0     0     0     0     0     0     0     0     0     0   \n",
       "X360               30     0     0     0     0     0     0     0     0     0   \n",
       "XB                 21     0     0     0     0     0     0     0     0     0   \n",
       "XOne                0     0     0     0     0     0     0     0     0     0   \n",
       "\n",
       "year_of_release  1989  1990  1991  1992  1993  1994  1995  1996  1997  1998  \\\n",
       "platform                                                                      \n",
       "2600                2     0     0     0     0     0     0     0     0     0   \n",
       "3DO                 0     0     0     0     0     1     2     0     0     0   \n",
       "3DS                 0     0     0     0     0     0     0     0     0     0   \n",
       "DC                  0     0     0     0     0     0     0     0     0     7   \n",
       "DS                  0     0     0     0     0     0     0     0     0     0   \n",
       "GB                 10     3     9     7     0     3     4     6     8     8   \n",
       "GBA                 0     0     0     0     0     0     0     0     0     0   \n",
       "GC                  0     0     0     0     0     0     0     0     0     0   \n",
       "GEN                 0     1     1     6     7    12     0     0     0     0   \n",
       "GG                  0     0     0     1     0     0     0     0     0     0   \n",
       "N64                 0     0     0     0     0     0     0    18    49    77   \n",
       "NES                 5     8     7     3     4     1     0     0     0     0   \n",
       "NG                  0     0     0     0     2     4     4     2     0     0   \n",
       "PC                  0     0     0     5     0     6     2     4     6     8   \n",
       "PCFX                0     0     0     0     0     0     0     1     0     0   \n",
       "PS                  0     0     0     0     0    17    99   164   188   248   \n",
       "PS2                 0     0     0     0     0     0     0     0     0     0   \n",
       "PS3                 0     0     0     0     0     0     0     0     0     0   \n",
       "PS4                 0     0     0     0     0     0     0     0     0     0   \n",
       "PSP                 0     0     0     0     0     0     0     0     0     0   \n",
       "PSV                 0     0     0     0     0     0     0     0     0     0   \n",
       "SAT                 0     0     0     0     0    19    52    38    34    29   \n",
       "SCD                 0     0     0     0     1     5     0     0     0     0   \n",
       "SNES                0     4    24    21    46    53    54    30     4     2   \n",
       "TG16                0     0     0     0     0     0     2     0     0     0   \n",
       "WS                  0     0     0     0     0     0     0     0     0     0   \n",
       "Wii                 0     0     0     0     0     0     0     0     0     0   \n",
       "WiiU                0     0     0     0     0     0     0     0     0     0   \n",
       "X360                0     0     0     0     0     0     0     0     0     0   \n",
       "XB                  0     0     0     0     0     0     0     0     0     0   \n",
       "XOne                0     0     0     0     0     0     0     0     0     0   \n",
       "\n",
       "year_of_release  1999  2000  2001  2002  2003  2004  2005  2006  2007  2008  \\\n",
       "platform                                                                      \n",
       "2600                0     0     0     0     0     0     0     0     0     0   \n",
       "3DO                 0     0     0     0     0     0     0     0     0     0   \n",
       "3DS                 0     0     0     0     0     0     0     0     0     0   \n",
       "DC                 14    20     8     1     0     0     0     0     1     1   \n",
       "DS                  0     0     0     0     0    23   118   201   376   492   \n",
       "GB                 11    17    10     0     0     0     0     0     0     0   \n",
       "GBA                 0     1   107   198   150   175   135    39     6     0   \n",
       "GC                  0     0    22   152   144    83    97    40     4     0   \n",
       "GEN                 0     0     0     0     0     0     0     0     0     0   \n",
       "GG                  0     0     0     0     0     0     0     0     0     0   \n",
       "N64               102    60     9     1     0     0     0     0     0     0   \n",
       "NES                 0     0     0     0     0     0     0     0     0     0   \n",
       "NG                  0     0     0     0     0     0     0     0     0     0   \n",
       "PC                  7     7    15    19    33    30    37    52    62    76   \n",
       "PCFX                0     0     0     0     0     0     0     0     0     0   \n",
       "PS                200   160    91    20     3     0     0     0     0     0   \n",
       "PS2                 0    82   185   280   256   259   260   259   214   191   \n",
       "PS3                 0     0     0     0     0     0     0    27    90   138   \n",
       "PS4                 0     0     0     0     0     0     0     0     0     0   \n",
       "PSP                 0     0     0     0     0    15    95   189   133   100   \n",
       "PSV                 0     0     0     0     0     0     0     0     0     0   \n",
       "SAT                 1     0     0     0     0     0     0     0     0     0   \n",
       "SCD                 0     0     0     0     0     0     0     0     0     0   \n",
       "SNES                1     0     0     0     0     0     0     0     0     0   \n",
       "TG16                0     0     0     0     0     0     0     0     0     0   \n",
       "WS                  2     2     2     0     0     0     0     0     0     0   \n",
       "Wii                 0     0     0     0     0     0     0    44   185   282   \n",
       "WiiU                0     0     0     0     0     0     0     0     0     0   \n",
       "X360                0     0     0     0     0     0    18    93   123   146   \n",
       "XB                  0     1    33   158   189   177   179    62     3     1   \n",
       "XOne                0     0     0     0     0     0     0     0     0     0   \n",
       "\n",
       "year_of_release  2009  2010  2011  2012  2013  2014  2015  2016  \n",
       "platform                                                         \n",
       "2600                0     0     0     0     0     0     0     0  \n",
       "3DO                 0     0     0     0     0     0     0     0  \n",
       "3DS                 0     0   116    93    91    80    86    46  \n",
       "DC                  0     0     0     0     0     0     0     0  \n",
       "DS                403   323   153    23     8     0     0     0  \n",
       "GB                  0     0     0     0     0     0     0     0  \n",
       "GBA                 0     0     0     0     0     0     0     0  \n",
       "GC                  0     0     0     0     0     0     0     0  \n",
       "GEN                 0     0     0     0     0     0     0     0  \n",
       "GG                  0     0     0     0     0     0     0     0  \n",
       "N64                 0     0     0     0     0     0     0     0  \n",
       "NES                 0     0     0     0     0     0     0     0  \n",
       "NG                  0     0     0     0     0     0     0     0  \n",
       "PC                107    90   139    61    38    47    50    54  \n",
       "PCFX                0     0     0     0     0     0     0     0  \n",
       "PS                  0     0     0     0     0     0     0     0  \n",
       "PS2                96    38     7     0     0     0     0     0  \n",
       "PS3               162   181   215   148   126   108    73    38  \n",
       "PS4                 0     0     0     0    16    75   137   164  \n",
       "PSP               161   188   139   106    54    10     3     0  \n",
       "PSV                 0     0    18    53    63   100   110    85  \n",
       "SAT                 0     0     0     0     0     0     0     0  \n",
       "SCD                 0     0     0     0     0     0     0     0  \n",
       "SNES                0     0     0     0     0     0     0     0  \n",
       "TG16                0     0     0     0     0     0     0     0  \n",
       "WS                  0     0     0     0     0     0     0     0  \n",
       "Wii               325   253   143    31    12     6     4     1  \n",
       "WiiU                0     0     0    32    42    31    28    14  \n",
       "X360              172   182   206   106    75    63    35    13  \n",
       "XB                  0     0     0     0     0     0     0     0  \n",
       "XOne                0     0     0     0    19    61    80    87  "
      ]
     },
     "execution_count": 27,
     "metadata": {},
     "output_type": "execute_result"
    }
   ],
   "source": [
    "x = pd.crosstab(data['platform'], \n",
    "            data['year_of_release']\n",
    "           )\n",
    "x"
   ]
  },
  {
   "cell_type": "code",
   "execution_count": 28,
   "metadata": {},
   "outputs": [
    {
     "data": {
      "image/png": "[encoded data removed]",
      "text/plain": [
       "<Figure size 1080x360 with 1 Axes>"
      ]
     },
     "metadata": {
      "needs_background": "light"
     },
     "output_type": "display_data"
    }
   ],
   "source": [
    "data.groupby('year_of_release')['name'].count().plot(\n",
    "            kind='bar', y='name', figsize=(15,5)\n",
    ")\n",
    "plt.title('Количество релизов игр по годам')\n",
    "plt.xlabel('Год релиза')\n",
    "plt.ylabel('Колличество шт.')\n",
    "plt.show()\n"
   ]
  },
  {
   "cell_type": "code",
   "execution_count": 29,
   "metadata": {},
   "outputs": [
    {
     "data": {
      "text/html": [
       "<div>\n",
       "<style scoped>\n",
       "    .dataframe tbody tr th:only-of-type {\n",
       "        vertical-align: middle;\n",
       "    }\n",
       "\n",
       "    .dataframe tbody tr th {\n",
       "        vertical-align: top;\n",
       "    }\n",
       "\n",
       "    .dataframe thead th {\n",
       "        text-align: right;\n",
       "    }\n",
       "</style>\n",
       "<table border=\"1\" class=\"dataframe\">\n",
       "  <thead>\n",
       "    <tr style=\"text-align: right;\">\n",
       "      <th></th>\n",
       "      <th>name</th>\n",
       "      <th>platform</th>\n",
       "      <th>year_of_release</th>\n",
       "      <th>genre</th>\n",
       "      <th>na_sales</th>\n",
       "      <th>eu_sales</th>\n",
       "      <th>jp_sales</th>\n",
       "      <th>other_sales</th>\n",
       "      <th>critic_score</th>\n",
       "      <th>user_score</th>\n",
       "      <th>rating</th>\n",
       "      <th>total_sales</th>\n",
       "      <th>life</th>\n",
       "    </tr>\n",
       "  </thead>\n",
       "  <tbody>\n",
       "    <tr>\n",
       "      <th>0</th>\n",
       "      <td>Wii Sports</td>\n",
       "      <td>Wii</td>\n",
       "      <td>2006</td>\n",
       "      <td>Sports</td>\n",
       "      <td>41.36</td>\n",
       "      <td>28.96</td>\n",
       "      <td>3.77</td>\n",
       "      <td>8.45</td>\n",
       "      <td>76.00</td>\n",
       "      <td>8.00</td>\n",
       "      <td>E</td>\n",
       "      <td>82.54</td>\n",
       "      <td>10</td>\n",
       "    </tr>\n",
       "    <tr>\n",
       "      <th>1</th>\n",
       "      <td>Super Mario Bros.</td>\n",
       "      <td>NES</td>\n",
       "      <td>1985</td>\n",
       "      <td>Platform</td>\n",
       "      <td>29.08</td>\n",
       "      <td>3.58</td>\n",
       "      <td>6.81</td>\n",
       "      <td>0.77</td>\n",
       "      <td>-1.00</td>\n",
       "      <td>-1.00</td>\n",
       "      <td>rating_unknown</td>\n",
       "      <td>40.24</td>\n",
       "      <td>11</td>\n",
       "    </tr>\n",
       "    <tr>\n",
       "      <th>2</th>\n",
       "      <td>Mario Kart Wii</td>\n",
       "      <td>Wii</td>\n",
       "      <td>2008</td>\n",
       "      <td>Racing</td>\n",
       "      <td>15.68</td>\n",
       "      <td>12.76</td>\n",
       "      <td>3.79</td>\n",
       "      <td>3.29</td>\n",
       "      <td>82.00</td>\n",
       "      <td>8.30</td>\n",
       "      <td>E</td>\n",
       "      <td>35.52</td>\n",
       "      <td>10</td>\n",
       "    </tr>\n",
       "    <tr>\n",
       "      <th>3</th>\n",
       "      <td>Wii Sports Resort</td>\n",
       "      <td>Wii</td>\n",
       "      <td>2009</td>\n",
       "      <td>Sports</td>\n",
       "      <td>15.61</td>\n",
       "      <td>10.93</td>\n",
       "      <td>3.28</td>\n",
       "      <td>2.95</td>\n",
       "      <td>80.00</td>\n",
       "      <td>8.00</td>\n",
       "      <td>E</td>\n",
       "      <td>32.77</td>\n",
       "      <td>10</td>\n",
       "    </tr>\n",
       "    <tr>\n",
       "      <th>4</th>\n",
       "      <td>Pokemon Red/Pokemon Blue</td>\n",
       "      <td>GB</td>\n",
       "      <td>1996</td>\n",
       "      <td>Role-Playing</td>\n",
       "      <td>11.27</td>\n",
       "      <td>8.89</td>\n",
       "      <td>10.22</td>\n",
       "      <td>1.00</td>\n",
       "      <td>-1.00</td>\n",
       "      <td>-1.00</td>\n",
       "      <td>rating_unknown</td>\n",
       "      <td>31.38</td>\n",
       "      <td>13</td>\n",
       "    </tr>\n",
       "  </tbody>\n",
       "</table>\n",
       "</div>"
      ],
      "text/plain": [
       "                       name platform  year_of_release         genre  na_sales  \\\n",
       "0                Wii Sports      Wii             2006        Sports     41.36   \n",
       "1         Super Mario Bros.      NES             1985      Platform     29.08   \n",
       "2            Mario Kart Wii      Wii             2008        Racing     15.68   \n",
       "3         Wii Sports Resort      Wii             2009        Sports     15.61   \n",
       "4  Pokemon Red/Pokemon Blue       GB             1996  Role-Playing     11.27   \n",
       "\n",
       "   eu_sales  jp_sales  other_sales  critic_score  user_score          rating  \\\n",
       "0     28.96      3.77         8.45         76.00        8.00               E   \n",
       "1      3.58      6.81         0.77         -1.00       -1.00  rating_unknown   \n",
       "2     12.76      3.79         3.29         82.00        8.30               E   \n",
       "3     10.93      3.28         2.95         80.00        8.00               E   \n",
       "4      8.89     10.22         1.00         -1.00       -1.00  rating_unknown   \n",
       "\n",
       "   total_sales  life  \n",
       "0        82.54    10  \n",
       "1        40.24    11  \n",
       "2        35.52    10  \n",
       "3        32.77    10  \n",
       "4        31.38    13  "
      ]
     },
     "execution_count": 29,
     "metadata": {},
     "output_type": "execute_result"
    }
   ],
   "source": [
    "p = data[data['year_of_release']!= 0]\n",
    "born = p.groupby('platform')['year_of_release'].agg(min)\n",
    "dead = data.groupby('platform')['year_of_release'].agg(max)\n",
    "life = dead - born\n",
    "data['life'] = data['platform'].map(life)\n",
    "data.head()"
   ]
  },
  {
   "cell_type": "code",
   "execution_count": 30,
   "metadata": {
    "scrolled": true
   },
   "outputs": [
    {
     "data": {
      "text/html": [
       "<div>\n",
       "<style scoped>\n",
       "    .dataframe tbody tr th:only-of-type {\n",
       "        vertical-align: middle;\n",
       "    }\n",
       "\n",
       "    .dataframe tbody tr th {\n",
       "        vertical-align: top;\n",
       "    }\n",
       "\n",
       "    .dataframe thead th {\n",
       "        text-align: right;\n",
       "    }\n",
       "</style>\n",
       "<table border=\"1\" class=\"dataframe\">\n",
       "  <thead>\n",
       "    <tr style=\"text-align: right;\">\n",
       "      <th></th>\n",
       "      <th>life</th>\n",
       "    </tr>\n",
       "    <tr>\n",
       "      <th>platform</th>\n",
       "      <th></th>\n",
       "    </tr>\n",
       "  </thead>\n",
       "  <tbody>\n",
       "    <tr>\n",
       "      <th>GB</th>\n",
       "      <td>13</td>\n",
       "    </tr>\n",
       "    <tr>\n",
       "      <th>PS2</th>\n",
       "      <td>11</td>\n",
       "    </tr>\n",
       "    <tr>\n",
       "      <th>X360</th>\n",
       "      <td>11</td>\n",
       "    </tr>\n",
       "    <tr>\n",
       "      <th>NES</th>\n",
       "      <td>11</td>\n",
       "    </tr>\n",
       "    <tr>\n",
       "      <th>PSP</th>\n",
       "      <td>11</td>\n",
       "    </tr>\n",
       "    <tr>\n",
       "      <th>PS3</th>\n",
       "      <td>10</td>\n",
       "    </tr>\n",
       "    <tr>\n",
       "      <th>DC</th>\n",
       "      <td>10</td>\n",
       "    </tr>\n",
       "    <tr>\n",
       "      <th>Wii</th>\n",
       "      <td>10</td>\n",
       "    </tr>\n",
       "    <tr>\n",
       "      <th>SNES</th>\n",
       "      <td>9</td>\n",
       "    </tr>\n",
       "    <tr>\n",
       "      <th>2600</th>\n",
       "      <td>9</td>\n",
       "    </tr>\n",
       "  </tbody>\n",
       "</table>\n",
       "</div>"
      ],
      "text/plain": [
       "          life\n",
       "platform      \n",
       "GB          13\n",
       "PS2         11\n",
       "X360        11\n",
       "NES         11\n",
       "PSP         11\n",
       "PS3         10\n",
       "DC          10\n",
       "Wii         10\n",
       "SNES         9\n",
       "2600         9"
      ]
     },
     "execution_count": 30,
     "metadata": {},
     "output_type": "execute_result"
    }
   ],
   "source": [
    "pivot = data.query('5 <= life <=15 ').pivot_table(index='platform', \n",
    "                         values='life').sort_values(\n",
    "                         by='life', ascending=False\n",
    "                        )\n",
    "pivot.head(10)"
   ]
  },
  {
   "cell_type": "code",
   "execution_count": 31,
   "metadata": {},
   "outputs": [
    {
     "name": "stdout",
     "output_type": "stream",
     "text": [
      "Средняя продолжительность жизни платформы составляет:  9.0 лет\n"
     ]
    }
   ],
   "source": [
    "print('Средняя продолжительность жизни платформы составляет: ', pivot['life'].median(), 'лет')"
   ]
  },
  {
   "cell_type": "markdown",
   "metadata": {},
   "source": [
    "Таким образом, средняя продолжительность жизни игровой платформы, в течение которого она приносит деньги, составляет 9 лет."
   ]
  },
  {
   "cell_type": "markdown",
   "metadata": {},
   "source": [
    "## Какие платформы лидируют по продажам, растут или падают?"
   ]
  },
  {
   "cell_type": "markdown",
   "metadata": {},
   "source": [
    "Рассмотрим данные за период 2012-2016 (т.к. это последний год данных) гг.:"
   ]
  },
  {
   "cell_type": "code",
   "execution_count": 32,
   "metadata": {},
   "outputs": [
    {
     "data": {
      "text/html": [
       "<div>\n",
       "<style scoped>\n",
       "    .dataframe tbody tr th:only-of-type {\n",
       "        vertical-align: middle;\n",
       "    }\n",
       "\n",
       "    .dataframe tbody tr th {\n",
       "        vertical-align: top;\n",
       "    }\n",
       "\n",
       "    .dataframe thead th {\n",
       "        text-align: right;\n",
       "    }\n",
       "</style>\n",
       "<table border=\"1\" class=\"dataframe\">\n",
       "  <thead>\n",
       "    <tr style=\"text-align: right;\">\n",
       "      <th></th>\n",
       "      <th>name</th>\n",
       "      <th>platform</th>\n",
       "      <th>year_of_release</th>\n",
       "      <th>genre</th>\n",
       "      <th>na_sales</th>\n",
       "      <th>eu_sales</th>\n",
       "      <th>jp_sales</th>\n",
       "      <th>other_sales</th>\n",
       "      <th>critic_score</th>\n",
       "      <th>user_score</th>\n",
       "      <th>rating</th>\n",
       "      <th>total_sales</th>\n",
       "      <th>life</th>\n",
       "    </tr>\n",
       "  </thead>\n",
       "  <tbody>\n",
       "    <tr>\n",
       "      <th>0</th>\n",
       "      <td>Grand Theft Auto V</td>\n",
       "      <td>PS3</td>\n",
       "      <td>2013</td>\n",
       "      <td>Action</td>\n",
       "      <td>7.02</td>\n",
       "      <td>9.09</td>\n",
       "      <td>0.98</td>\n",
       "      <td>3.96</td>\n",
       "      <td>97.00</td>\n",
       "      <td>8.20</td>\n",
       "      <td>M</td>\n",
       "      <td>21.05</td>\n",
       "      <td>10</td>\n",
       "    </tr>\n",
       "    <tr>\n",
       "      <th>1</th>\n",
       "      <td>Grand Theft Auto V</td>\n",
       "      <td>X360</td>\n",
       "      <td>2013</td>\n",
       "      <td>Action</td>\n",
       "      <td>9.66</td>\n",
       "      <td>5.14</td>\n",
       "      <td>0.06</td>\n",
       "      <td>1.41</td>\n",
       "      <td>97.00</td>\n",
       "      <td>8.10</td>\n",
       "      <td>M</td>\n",
       "      <td>16.27</td>\n",
       "      <td>11</td>\n",
       "    </tr>\n",
       "    <tr>\n",
       "      <th>2</th>\n",
       "      <td>Call of Duty: Black Ops 3</td>\n",
       "      <td>PS4</td>\n",
       "      <td>2015</td>\n",
       "      <td>Shooter</td>\n",
       "      <td>6.03</td>\n",
       "      <td>5.86</td>\n",
       "      <td>0.36</td>\n",
       "      <td>2.38</td>\n",
       "      <td>-1.00</td>\n",
       "      <td>-1.00</td>\n",
       "      <td>rating_unknown</td>\n",
       "      <td>14.63</td>\n",
       "      <td>3</td>\n",
       "    </tr>\n",
       "    <tr>\n",
       "      <th>3</th>\n",
       "      <td>Pokemon X/Pokemon Y</td>\n",
       "      <td>3DS</td>\n",
       "      <td>2013</td>\n",
       "      <td>Role-Playing</td>\n",
       "      <td>5.28</td>\n",
       "      <td>4.19</td>\n",
       "      <td>4.35</td>\n",
       "      <td>0.78</td>\n",
       "      <td>-1.00</td>\n",
       "      <td>-1.00</td>\n",
       "      <td>rating_unknown</td>\n",
       "      <td>14.60</td>\n",
       "      <td>5</td>\n",
       "    </tr>\n",
       "    <tr>\n",
       "      <th>4</th>\n",
       "      <td>Call of Duty: Black Ops II</td>\n",
       "      <td>PS3</td>\n",
       "      <td>2012</td>\n",
       "      <td>Shooter</td>\n",
       "      <td>4.99</td>\n",
       "      <td>5.73</td>\n",
       "      <td>0.65</td>\n",
       "      <td>2.42</td>\n",
       "      <td>83.00</td>\n",
       "      <td>5.30</td>\n",
       "      <td>M</td>\n",
       "      <td>13.79</td>\n",
       "      <td>10</td>\n",
       "    </tr>\n",
       "  </tbody>\n",
       "</table>\n",
       "</div>"
      ],
      "text/plain": [
       "                         name platform  year_of_release         genre  \\\n",
       "0          Grand Theft Auto V      PS3             2013        Action   \n",
       "1          Grand Theft Auto V     X360             2013        Action   \n",
       "2   Call of Duty: Black Ops 3      PS4             2015       Shooter   \n",
       "3         Pokemon X/Pokemon Y      3DS             2013  Role-Playing   \n",
       "4  Call of Duty: Black Ops II      PS3             2012       Shooter   \n",
       "\n",
       "   na_sales  eu_sales  jp_sales  other_sales  critic_score  user_score  \\\n",
       "0      7.02      9.09      0.98         3.96         97.00        8.20   \n",
       "1      9.66      5.14      0.06         1.41         97.00        8.10   \n",
       "2      6.03      5.86      0.36         2.38         -1.00       -1.00   \n",
       "3      5.28      4.19      4.35         0.78         -1.00       -1.00   \n",
       "4      4.99      5.73      0.65         2.42         83.00        5.30   \n",
       "\n",
       "           rating  total_sales  life  \n",
       "0               M        21.05    10  \n",
       "1               M        16.27    11  \n",
       "2  rating_unknown        14.63     3  \n",
       "3  rating_unknown        14.60     5  \n",
       "4               M        13.79    10  "
      ]
     },
     "execution_count": 32,
     "metadata": {},
     "output_type": "execute_result"
    }
   ],
   "source": [
    "period = data.query('year_of_release >= 2012').reset_index(drop=True)\n",
    "period.head()"
   ]
  },
  {
   "cell_type": "code",
   "execution_count": 33,
   "metadata": {
    "scrolled": false
   },
   "outputs": [
    {
     "data": {
      "text/html": [
       "<div>\n",
       "<style scoped>\n",
       "    .dataframe tbody tr th:only-of-type {\n",
       "        vertical-align: middle;\n",
       "    }\n",
       "\n",
       "    .dataframe tbody tr th {\n",
       "        vertical-align: top;\n",
       "    }\n",
       "\n",
       "    .dataframe thead th {\n",
       "        text-align: right;\n",
       "    }\n",
       "</style>\n",
       "<table border=\"1\" class=\"dataframe\">\n",
       "  <thead>\n",
       "    <tr style=\"text-align: right;\">\n",
       "      <th>year_of_release</th>\n",
       "      <th>2012</th>\n",
       "      <th>2013</th>\n",
       "      <th>2014</th>\n",
       "      <th>2015</th>\n",
       "      <th>2016</th>\n",
       "      <th>total</th>\n",
       "    </tr>\n",
       "    <tr>\n",
       "      <th>platform</th>\n",
       "      <th></th>\n",
       "      <th></th>\n",
       "      <th></th>\n",
       "      <th></th>\n",
       "      <th></th>\n",
       "      <th></th>\n",
       "    </tr>\n",
       "  </thead>\n",
       "  <tbody>\n",
       "    <tr>\n",
       "      <th>total</th>\n",
       "      <td>653</td>\n",
       "      <td>544</td>\n",
       "      <td>581</td>\n",
       "      <td>606</td>\n",
       "      <td>502</td>\n",
       "      <td>2886</td>\n",
       "    </tr>\n",
       "    <tr>\n",
       "      <th>PS3</th>\n",
       "      <td>148</td>\n",
       "      <td>126</td>\n",
       "      <td>108</td>\n",
       "      <td>73</td>\n",
       "      <td>38</td>\n",
       "      <td>493</td>\n",
       "    </tr>\n",
       "    <tr>\n",
       "      <th>PSV</th>\n",
       "      <td>53</td>\n",
       "      <td>63</td>\n",
       "      <td>100</td>\n",
       "      <td>110</td>\n",
       "      <td>85</td>\n",
       "      <td>411</td>\n",
       "    </tr>\n",
       "    <tr>\n",
       "      <th>3DS</th>\n",
       "      <td>93</td>\n",
       "      <td>91</td>\n",
       "      <td>80</td>\n",
       "      <td>86</td>\n",
       "      <td>46</td>\n",
       "      <td>396</td>\n",
       "    </tr>\n",
       "    <tr>\n",
       "      <th>PS4</th>\n",
       "      <td>0</td>\n",
       "      <td>16</td>\n",
       "      <td>75</td>\n",
       "      <td>137</td>\n",
       "      <td>164</td>\n",
       "      <td>392</td>\n",
       "    </tr>\n",
       "    <tr>\n",
       "      <th>X360</th>\n",
       "      <td>106</td>\n",
       "      <td>75</td>\n",
       "      <td>63</td>\n",
       "      <td>35</td>\n",
       "      <td>13</td>\n",
       "      <td>292</td>\n",
       "    </tr>\n",
       "    <tr>\n",
       "      <th>PC</th>\n",
       "      <td>61</td>\n",
       "      <td>38</td>\n",
       "      <td>47</td>\n",
       "      <td>50</td>\n",
       "      <td>54</td>\n",
       "      <td>250</td>\n",
       "    </tr>\n",
       "    <tr>\n",
       "      <th>XOne</th>\n",
       "      <td>0</td>\n",
       "      <td>19</td>\n",
       "      <td>61</td>\n",
       "      <td>80</td>\n",
       "      <td>87</td>\n",
       "      <td>247</td>\n",
       "    </tr>\n",
       "    <tr>\n",
       "      <th>PSP</th>\n",
       "      <td>106</td>\n",
       "      <td>54</td>\n",
       "      <td>10</td>\n",
       "      <td>3</td>\n",
       "      <td>0</td>\n",
       "      <td>173</td>\n",
       "    </tr>\n",
       "    <tr>\n",
       "      <th>WiiU</th>\n",
       "      <td>32</td>\n",
       "      <td>42</td>\n",
       "      <td>31</td>\n",
       "      <td>28</td>\n",
       "      <td>14</td>\n",
       "      <td>147</td>\n",
       "    </tr>\n",
       "    <tr>\n",
       "      <th>Wii</th>\n",
       "      <td>31</td>\n",
       "      <td>12</td>\n",
       "      <td>6</td>\n",
       "      <td>4</td>\n",
       "      <td>1</td>\n",
       "      <td>54</td>\n",
       "    </tr>\n",
       "    <tr>\n",
       "      <th>DS</th>\n",
       "      <td>23</td>\n",
       "      <td>8</td>\n",
       "      <td>0</td>\n",
       "      <td>0</td>\n",
       "      <td>0</td>\n",
       "      <td>31</td>\n",
       "    </tr>\n",
       "  </tbody>\n",
       "</table>\n",
       "</div>"
      ],
      "text/plain": [
       "year_of_release  2012  2013  2014  2015  2016  total\n",
       "platform                                            \n",
       "total             653   544   581   606   502   2886\n",
       "PS3               148   126   108    73    38    493\n",
       "PSV                53    63   100   110    85    411\n",
       "3DS                93    91    80    86    46    396\n",
       "PS4                 0    16    75   137   164    392\n",
       "X360              106    75    63    35    13    292\n",
       "PC                 61    38    47    50    54    250\n",
       "XOne                0    19    61    80    87    247\n",
       "PSP               106    54    10     3     0    173\n",
       "WiiU               32    42    31    28    14    147\n",
       "Wii                31    12     6     4     1     54\n",
       "DS                 23     8     0     0     0     31"
      ]
     },
     "execution_count": 33,
     "metadata": {},
     "output_type": "execute_result"
    }
   ],
   "source": [
    "pd.crosstab(period['platform'], \n",
    "            period['year_of_release'],\n",
    "            margins=True, margins_name=\"total\").sort_values(by='total', ascending=False)"
   ]
  },
  {
   "cell_type": "markdown",
   "metadata": {},
   "source": [
    "Мы наблюдаем увядание консолей прошлого поколения, и заполнение рынка консолями нового поколения."
   ]
  },
  {
   "cell_type": "markdown",
   "metadata": {},
   "source": [
    "## Постройте график «ящик с усами» по глобальным продажам игр в разбивке по платформам"
   ]
  },
  {
   "cell_type": "code",
   "execution_count": 34,
   "metadata": {
    "scrolled": false
   },
   "outputs": [
    {
     "data": {
      "text/plain": [
       "<Figure size 1440x720 with 0 Axes>"
      ]
     },
     "metadata": {},
     "output_type": "display_data"
    },
    {
     "data": {
      "image/png": "[encoded data removed]",
      "text/plain": [
       "<Figure size 1166.4x432 with 1 Axes>"
      ]
     },
     "metadata": {
      "needs_background": "light"
     },
     "output_type": "display_data"
    }
   ],
   "source": [
    "plt.figure(figsize=[20, 10])\n",
    "i = period.query('year_of_release >= 2012')\n",
    "\n",
    "sns.catplot(x=\"platform\", \n",
    "            y='total_sales',\n",
    "            kind=\"box\", \n",
    "            data=i, \n",
    "            orient='v', \n",
    "            height=6, \n",
    "            aspect=2.7, \n",
    "            palette='GnBu_d')\n",
    "i = plt.ylim(0, 0.85)\n",
    "plt.title('Глобальные продажи игр в разбивке по платформам')\n",
    "plt.xlabel('Платформа')\n",
    "plt.ylabel('');"
   ]
  },
  {
   "cell_type": "code",
   "execution_count": 35,
   "metadata": {},
   "outputs": [
    {
     "data": {
      "text/html": [
       "<div>\n",
       "<style scoped>\n",
       "    .dataframe tbody tr th:only-of-type {\n",
       "        vertical-align: middle;\n",
       "    }\n",
       "\n",
       "    .dataframe tbody tr th {\n",
       "        vertical-align: top;\n",
       "    }\n",
       "\n",
       "    .dataframe thead th {\n",
       "        text-align: right;\n",
       "    }\n",
       "</style>\n",
       "<table border=\"1\" class=\"dataframe\">\n",
       "  <thead>\n",
       "    <tr style=\"text-align: right;\">\n",
       "      <th></th>\n",
       "      <th>year_of_release</th>\n",
       "      <th>na_sales</th>\n",
       "      <th>eu_sales</th>\n",
       "      <th>jp_sales</th>\n",
       "      <th>other_sales</th>\n",
       "      <th>critic_score</th>\n",
       "      <th>user_score</th>\n",
       "      <th>total_sales</th>\n",
       "      <th>life</th>\n",
       "    </tr>\n",
       "  </thead>\n",
       "  <tbody>\n",
       "    <tr>\n",
       "      <th>count</th>\n",
       "      <td>2,886.00</td>\n",
       "      <td>2,886.00</td>\n",
       "      <td>2,886.00</td>\n",
       "      <td>2,886.00</td>\n",
       "      <td>2,886.00</td>\n",
       "      <td>2,886.00</td>\n",
       "      <td>2,886.00</td>\n",
       "      <td>2,886.00</td>\n",
       "      <td>2,886.00</td>\n",
       "    </tr>\n",
       "    <tr>\n",
       "      <th>mean</th>\n",
       "      <td>2,013.92</td>\n",
       "      <td>0.20</td>\n",
       "      <td>0.18</td>\n",
       "      <td>0.07</td>\n",
       "      <td>0.05</td>\n",
       "      <td>32.30</td>\n",
       "      <td>3.05</td>\n",
       "      <td>0.50</td>\n",
       "      <td>8.92</td>\n",
       "    </tr>\n",
       "    <tr>\n",
       "      <th>std</th>\n",
       "      <td>1.41</td>\n",
       "      <td>0.57</td>\n",
       "      <td>0.51</td>\n",
       "      <td>0.24</td>\n",
       "      <td>0.16</td>\n",
       "      <td>37.47</td>\n",
       "      <td>3.98</td>\n",
       "      <td>1.25</td>\n",
       "      <td>7.77</td>\n",
       "    </tr>\n",
       "    <tr>\n",
       "      <th>min</th>\n",
       "      <td>2,012.00</td>\n",
       "      <td>0.00</td>\n",
       "      <td>0.00</td>\n",
       "      <td>0.00</td>\n",
       "      <td>0.00</td>\n",
       "      <td>-1.00</td>\n",
       "      <td>-1.00</td>\n",
       "      <td>0.01</td>\n",
       "      <td>3.00</td>\n",
       "    </tr>\n",
       "    <tr>\n",
       "      <th>25%</th>\n",
       "      <td>2,013.00</td>\n",
       "      <td>0.00</td>\n",
       "      <td>0.00</td>\n",
       "      <td>0.00</td>\n",
       "      <td>0.00</td>\n",
       "      <td>-1.00</td>\n",
       "      <td>-1.00</td>\n",
       "      <td>0.04</td>\n",
       "      <td>4.00</td>\n",
       "    </tr>\n",
       "    <tr>\n",
       "      <th>50%</th>\n",
       "      <td>2,014.00</td>\n",
       "      <td>0.03</td>\n",
       "      <td>0.03</td>\n",
       "      <td>0.01</td>\n",
       "      <td>0.01</td>\n",
       "      <td>-1.00</td>\n",
       "      <td>3.50</td>\n",
       "      <td>0.12</td>\n",
       "      <td>5.00</td>\n",
       "    </tr>\n",
       "    <tr>\n",
       "      <th>75%</th>\n",
       "      <td>2,015.00</td>\n",
       "      <td>0.17</td>\n",
       "      <td>0.14</td>\n",
       "      <td>0.05</td>\n",
       "      <td>0.04</td>\n",
       "      <td>73.00</td>\n",
       "      <td>7.10</td>\n",
       "      <td>0.43</td>\n",
       "      <td>11.00</td>\n",
       "    </tr>\n",
       "    <tr>\n",
       "      <th>max</th>\n",
       "      <td>2,016.00</td>\n",
       "      <td>9.66</td>\n",
       "      <td>9.09</td>\n",
       "      <td>4.39</td>\n",
       "      <td>3.96</td>\n",
       "      <td>97.00</td>\n",
       "      <td>9.30</td>\n",
       "      <td>21.05</td>\n",
       "      <td>31.00</td>\n",
       "    </tr>\n",
       "  </tbody>\n",
       "</table>\n",
       "</div>"
      ],
      "text/plain": [
       "       year_of_release  na_sales  eu_sales  jp_sales  other_sales  \\\n",
       "count         2,886.00  2,886.00  2,886.00  2,886.00     2,886.00   \n",
       "mean          2,013.92      0.20      0.18      0.07         0.05   \n",
       "std               1.41      0.57      0.51      0.24         0.16   \n",
       "min           2,012.00      0.00      0.00      0.00         0.00   \n",
       "25%           2,013.00      0.00      0.00      0.00         0.00   \n",
       "50%           2,014.00      0.03      0.03      0.01         0.01   \n",
       "75%           2,015.00      0.17      0.14      0.05         0.04   \n",
       "max           2,016.00      9.66      9.09      4.39         3.96   \n",
       "\n",
       "       critic_score  user_score  total_sales     life  \n",
       "count      2,886.00    2,886.00     2,886.00 2,886.00  \n",
       "mean          32.30        3.05         0.50     8.92  \n",
       "std           37.47        3.98         1.25     7.77  \n",
       "min           -1.00       -1.00         0.01     3.00  \n",
       "25%           -1.00       -1.00         0.04     4.00  \n",
       "50%           -1.00        3.50         0.12     5.00  \n",
       "75%           73.00        7.10         0.43    11.00  \n",
       "max           97.00        9.30        21.05    31.00  "
      ]
     },
     "execution_count": 35,
     "metadata": {},
     "output_type": "execute_result"
    }
   ],
   "source": [
    "period.describe()"
   ]
  },
  {
   "cell_type": "code",
   "execution_count": 36,
   "metadata": {},
   "outputs": [
    {
     "data": {
      "text/html": [
       "<div>\n",
       "<style scoped>\n",
       "    .dataframe tbody tr th:only-of-type {\n",
       "        vertical-align: middle;\n",
       "    }\n",
       "\n",
       "    .dataframe tbody tr th {\n",
       "        vertical-align: top;\n",
       "    }\n",
       "\n",
       "    .dataframe thead th {\n",
       "        text-align: right;\n",
       "    }\n",
       "</style>\n",
       "<table border=\"1\" class=\"dataframe\">\n",
       "  <thead>\n",
       "    <tr style=\"text-align: right;\">\n",
       "      <th></th>\n",
       "      <th>total_sales</th>\n",
       "    </tr>\n",
       "    <tr>\n",
       "      <th>platform</th>\n",
       "      <th></th>\n",
       "    </tr>\n",
       "  </thead>\n",
       "  <tbody>\n",
       "    <tr>\n",
       "      <th>PS4</th>\n",
       "      <td>314.14</td>\n",
       "    </tr>\n",
       "    <tr>\n",
       "      <th>PS3</th>\n",
       "      <td>288.79</td>\n",
       "    </tr>\n",
       "    <tr>\n",
       "      <th>X360</th>\n",
       "      <td>236.54</td>\n",
       "    </tr>\n",
       "    <tr>\n",
       "      <th>3DS</th>\n",
       "      <td>194.61</td>\n",
       "    </tr>\n",
       "    <tr>\n",
       "      <th>XOne</th>\n",
       "      <td>159.32</td>\n",
       "    </tr>\n",
       "    <tr>\n",
       "      <th>WiiU</th>\n",
       "      <td>82.19</td>\n",
       "    </tr>\n",
       "    <tr>\n",
       "      <th>PC</th>\n",
       "      <td>62.65</td>\n",
       "    </tr>\n",
       "    <tr>\n",
       "      <th>PSV</th>\n",
       "      <td>49.18</td>\n",
       "    </tr>\n",
       "    <tr>\n",
       "      <th>Wii</th>\n",
       "      <td>35.37</td>\n",
       "    </tr>\n",
       "    <tr>\n",
       "      <th>DS</th>\n",
       "      <td>12.55</td>\n",
       "    </tr>\n",
       "  </tbody>\n",
       "</table>\n",
       "</div>"
      ],
      "text/plain": [
       "          total_sales\n",
       "platform             \n",
       "PS4            314.14\n",
       "PS3            288.79\n",
       "X360           236.54\n",
       "3DS            194.61\n",
       "XOne           159.32\n",
       "WiiU            82.19\n",
       "PC              62.65\n",
       "PSV             49.18\n",
       "Wii             35.37\n",
       "DS              12.55"
      ]
     },
     "execution_count": 36,
     "metadata": {},
     "output_type": "execute_result"
    }
   ],
   "source": [
    "period.pivot_table(index='platform', values='total_sales', aggfunc='sum').nlargest(10, 'total_sales')"
   ]
  },
  {
   "cell_type": "markdown",
   "metadata": {},
   "source": [
    "Перспективными платформами являются PS4, PS3, X360. Видно, что 8 поколение консолей прошло \"в одну колитку\" и рынок заполнила PS4,в то время как XOne оказался в середине списка. В 7-м поколении консолей разница между PS3 и X360 был не такая существенная. Что касается PC, то компьютер уступает консольным версиям, что связано с необходимостью обновления железа компьютера, что намного дороже покупки консоли."
   ]
  },
  {
   "cell_type": "markdown",
   "metadata": {},
   "source": [
    "## Посмотрите, как влияют на продажи внутри одной популярной платформы отзывы пользователей и критиков. Постройте диаграмму рассеяния и посчитайте корреляцию между отзывами и продажами"
   ]
  },
  {
   "cell_type": "code",
   "execution_count": 37,
   "metadata": {},
   "outputs": [
    {
     "name": "stdout",
     "output_type": "stream",
     "text": [
      "-0.03\n",
      "0.41\n"
     ]
    },
    {
     "data": {
      "image/png": "[encoded data removed]",
      "text/plain": [
       "<Figure size 360x360 with 1 Axes>"
      ]
     },
     "metadata": {
      "needs_background": "light"
     },
     "output_type": "display_data"
    },
    {
     "data": {
      "image/png": "[encoded data removed]",
      "text/plain": [
       "<Figure size 360x360 with 1 Axes>"
      ]
     },
     "metadata": {
      "needs_background": "light"
     },
     "output_type": "display_data"
    }
   ],
   "source": [
    "ps4 = period.query('platform == \"PS4\" and (user_score != -1) and (critic_score != -1)')\n",
    "\n",
    "for column in ['user_score', 'critic_score']:\n",
    "    print(round(ps4[column].corr(ps4['total_sales']), 2))\n",
    "    sns.relplot(x=column, y=\"total_sales\", data=ps4)\n",
    "    plt.title('Влияние на продажи по консолям отзывов критиков и пользователей на примере приставки PS4')"
   ]
  },
  {
   "cell_type": "markdown",
   "metadata": {},
   "source": [
    "Оценки критиков демонстрируют прямую, средне-слабую корреляцию с колличеством продаж. Мы можем сказать, что некоторые оценки критиков оказывают влияение на продажи, но это действует не во всех случаях.       \n",
    "Оценки пользователей корреляции с продажами не имеют влияние на продажи."
   ]
  },
  {
   "cell_type": "markdown",
   "metadata": {},
   "source": [
    "## Соотнесите выводы с продажами игр на других платформах"
   ]
  },
  {
   "cell_type": "code",
   "execution_count": 38,
   "metadata": {
    "scrolled": false
   },
   "outputs": [
    {
     "name": "stdout",
     "output_type": "stream",
     "text": [
      "\n",
      "PS3:\n",
      "Коэффициент корреляции user_score и total_sales: 0.0\n",
      "Коэффициент корреляции critic_score и total_sales: 0.33\n",
      "\n",
      "X360:\n",
      "Коэффициент корреляции user_score и total_sales: -0.0\n",
      "Коэффициент корреляции critic_score и total_sales: 0.36\n",
      "\n",
      "3DS:\n",
      "Коэффициент корреляции user_score и total_sales: 0.2\n",
      "Коэффициент корреляции critic_score и total_sales: 0.31\n"
     ]
    },
    {
     "data": {
      "image/png": "[encoded data removed]",
      "text/plain": [
       "<Figure size 360x360 with 1 Axes>"
      ]
     },
     "metadata": {
      "needs_background": "light"
     },
     "output_type": "display_data"
    },
    {
     "data": {
      "image/png": "[encoded data removed]",
      "text/plain": [
       "<Figure size 360x360 with 1 Axes>"
      ]
     },
     "metadata": {
      "needs_background": "light"
     },
     "output_type": "display_data"
    },
    {
     "data": {
      "image/png": "[encoded data removed]",
      "text/plain": [
       "<Figure size 360x360 with 1 Axes>"
      ]
     },
     "metadata": {
      "needs_background": "light"
     },
     "output_type": "display_data"
    },
    {
     "data": {
      "image/png": "[encoded data removed]",
      "text/plain": [
       "<Figure size 360x360 with 1 Axes>"
      ]
     },
     "metadata": {
      "needs_background": "light"
     },
     "output_type": "display_data"
    },
    {
     "data": {
      "image/png": "[encoded data removed]",
      "text/plain": [
       "<Figure size 360x360 with 1 Axes>"
      ]
     },
     "metadata": {
      "needs_background": "light"
     },
     "output_type": "display_data"
    },
    {
     "data": {
      "image/png": "[encoded data removed]",
      "text/plain": [
       "<Figure size 360x360 with 1 Axes>"
      ]
     },
     "metadata": {
      "needs_background": "light"
     },
     "output_type": "display_data"
    }
   ],
   "source": [
    "for platform in ['PS3', 'X360', '3DS']:\n",
    "    print('\\n{0}:'.format(platform))\n",
    "    for column in ['user_score', 'critic_score']:\n",
    "        temp = period.query('platform == @platform and (user_score != -1) and (critic_score != -1)')\n",
    "        print('Коэффициент корреляции {0} и total_sales: {1}'.\\\n",
    "              format(column, round(temp[column].corr(temp['total_sales']), 2)))\n",
    "        sns.relplot(x=column, y=\"total_sales\", data=temp)\n",
    "        a = plt.title(platform)"
   ]
  },
  {
   "cell_type": "markdown",
   "metadata": {},
   "source": [
    "По данным можно сказать, что в отзывы игроков влияния на продажи не оказывают, в то время как влияение критиков будет средним. Исключением является 3DS, у которой влияние критиков и игроков одинаковое. "
   ]
  },
  {
   "cell_type": "markdown",
   "metadata": {},
   "source": [
    "## Посмотрите на общее распределение игр по жанрам. Что можно сказать о самых прибыльных жанрах? Выделяются ли жанры с высокими и низкими продажами?"
   ]
  },
  {
   "cell_type": "code",
   "execution_count": 39,
   "metadata": {},
   "outputs": [
    {
     "data": {
      "text/html": [
       "<div>\n",
       "<style scoped>\n",
       "    .dataframe tbody tr th:only-of-type {\n",
       "        vertical-align: middle;\n",
       "    }\n",
       "\n",
       "    .dataframe tbody tr th {\n",
       "        vertical-align: top;\n",
       "    }\n",
       "\n",
       "    .dataframe thead th {\n",
       "        text-align: right;\n",
       "    }\n",
       "</style>\n",
       "<table border=\"1\" class=\"dataframe\">\n",
       "  <thead>\n",
       "    <tr style=\"text-align: right;\">\n",
       "      <th>year_of_release</th>\n",
       "      <th>2012</th>\n",
       "      <th>2013</th>\n",
       "      <th>2014</th>\n",
       "      <th>2015</th>\n",
       "      <th>2016</th>\n",
       "      <th>All</th>\n",
       "    </tr>\n",
       "    <tr>\n",
       "      <th>genre</th>\n",
       "      <th></th>\n",
       "      <th></th>\n",
       "      <th></th>\n",
       "      <th></th>\n",
       "      <th></th>\n",
       "      <th></th>\n",
       "    </tr>\n",
       "  </thead>\n",
       "  <tbody>\n",
       "    <tr>\n",
       "      <th>All</th>\n",
       "      <td>355.84</td>\n",
       "      <td>361.24</td>\n",
       "      <td>331.53</td>\n",
       "      <td>267.98</td>\n",
       "      <td>129.94</td>\n",
       "      <td>1,446.53</td>\n",
       "    </tr>\n",
       "    <tr>\n",
       "      <th>Action</th>\n",
       "      <td>119.25</td>\n",
       "      <td>122.51</td>\n",
       "      <td>97.23</td>\n",
       "      <td>72.02</td>\n",
       "      <td>30.11</td>\n",
       "      <td>441.12</td>\n",
       "    </tr>\n",
       "    <tr>\n",
       "      <th>Shooter</th>\n",
       "      <td>71.75</td>\n",
       "      <td>62.04</td>\n",
       "      <td>65.21</td>\n",
       "      <td>67.51</td>\n",
       "      <td>38.22</td>\n",
       "      <td>304.73</td>\n",
       "    </tr>\n",
       "    <tr>\n",
       "      <th>Role-Playing</th>\n",
       "      <td>46.91</td>\n",
       "      <td>44.45</td>\n",
       "      <td>45.62</td>\n",
       "      <td>37.64</td>\n",
       "      <td>18.18</td>\n",
       "      <td>192.80</td>\n",
       "    </tr>\n",
       "    <tr>\n",
       "      <th>Sports</th>\n",
       "      <td>30.42</td>\n",
       "      <td>41.17</td>\n",
       "      <td>45.15</td>\n",
       "      <td>40.84</td>\n",
       "      <td>23.49</td>\n",
       "      <td>181.07</td>\n",
       "    </tr>\n",
       "    <tr>\n",
       "      <th>Misc</th>\n",
       "      <td>22.22</td>\n",
       "      <td>25.27</td>\n",
       "      <td>23.38</td>\n",
       "      <td>11.57</td>\n",
       "      <td>2.60</td>\n",
       "      <td>85.04</td>\n",
       "    </tr>\n",
       "    <tr>\n",
       "      <th>Platform</th>\n",
       "      <td>18.37</td>\n",
       "      <td>24.54</td>\n",
       "      <td>8.81</td>\n",
       "      <td>6.05</td>\n",
       "      <td>3.23</td>\n",
       "      <td>61.00</td>\n",
       "    </tr>\n",
       "    <tr>\n",
       "      <th>Racing</th>\n",
       "      <td>13.61</td>\n",
       "      <td>12.37</td>\n",
       "      <td>16.66</td>\n",
       "      <td>8.07</td>\n",
       "      <td>2.79</td>\n",
       "      <td>53.50</td>\n",
       "    </tr>\n",
       "    <tr>\n",
       "      <th>Fighting</th>\n",
       "      <td>9.18</td>\n",
       "      <td>7.09</td>\n",
       "      <td>15.85</td>\n",
       "      <td>7.90</td>\n",
       "      <td>4.47</td>\n",
       "      <td>44.49</td>\n",
       "    </tr>\n",
       "    <tr>\n",
       "      <th>Simulation</th>\n",
       "      <td>13.36</td>\n",
       "      <td>8.63</td>\n",
       "      <td>5.58</td>\n",
       "      <td>5.66</td>\n",
       "      <td>1.89</td>\n",
       "      <td>35.12</td>\n",
       "    </tr>\n",
       "    <tr>\n",
       "      <th>Adventure</th>\n",
       "      <td>5.79</td>\n",
       "      <td>6.09</td>\n",
       "      <td>5.57</td>\n",
       "      <td>8.16</td>\n",
       "      <td>3.82</td>\n",
       "      <td>29.43</td>\n",
       "    </tr>\n",
       "    <tr>\n",
       "      <th>Strategy</th>\n",
       "      <td>3.26</td>\n",
       "      <td>6.12</td>\n",
       "      <td>0.98</td>\n",
       "      <td>1.85</td>\n",
       "      <td>1.13</td>\n",
       "      <td>13.34</td>\n",
       "    </tr>\n",
       "    <tr>\n",
       "      <th>Puzzle</th>\n",
       "      <td>1.72</td>\n",
       "      <td>0.96</td>\n",
       "      <td>1.49</td>\n",
       "      <td>0.71</td>\n",
       "      <td>0.01</td>\n",
       "      <td>4.89</td>\n",
       "    </tr>\n",
       "  </tbody>\n",
       "</table>\n",
       "</div>"
      ],
      "text/plain": [
       "year_of_release   2012   2013   2014   2015   2016      All\n",
       "genre                                                      \n",
       "All             355.84 361.24 331.53 267.98 129.94 1,446.53\n",
       "Action          119.25 122.51  97.23  72.02  30.11   441.12\n",
       "Shooter          71.75  62.04  65.21  67.51  38.22   304.73\n",
       "Role-Playing     46.91  44.45  45.62  37.64  18.18   192.80\n",
       "Sports           30.42  41.17  45.15  40.84  23.49   181.07\n",
       "Misc             22.22  25.27  23.38  11.57   2.60    85.04\n",
       "Platform         18.37  24.54   8.81   6.05   3.23    61.00\n",
       "Racing           13.61  12.37  16.66   8.07   2.79    53.50\n",
       "Fighting          9.18   7.09  15.85   7.90   4.47    44.49\n",
       "Simulation       13.36   8.63   5.58   5.66   1.89    35.12\n",
       "Adventure         5.79   6.09   5.57   8.16   3.82    29.43\n",
       "Strategy          3.26   6.12   0.98   1.85   1.13    13.34\n",
       "Puzzle            1.72   0.96   1.49   0.71   0.01     4.89"
      ]
     },
     "execution_count": 39,
     "metadata": {},
     "output_type": "execute_result"
    }
   ],
   "source": [
    "top_genre = period.pivot_table(index='genre', columns='year_of_release'\n",
    "                        ,values='total_sales',aggfunc='sum', margins=True).copy()\n",
    "top_genre.sort_values(by='All', ascending=False)"
   ]
  },
  {
   "cell_type": "code",
   "execution_count": 40,
   "metadata": {},
   "outputs": [
    {
     "data": {
      "text/html": [
       "<div>\n",
       "<style scoped>\n",
       "    .dataframe tbody tr th:only-of-type {\n",
       "        vertical-align: middle;\n",
       "    }\n",
       "\n",
       "    .dataframe tbody tr th {\n",
       "        vertical-align: top;\n",
       "    }\n",
       "\n",
       "    .dataframe thead th {\n",
       "        text-align: right;\n",
       "    }\n",
       "</style>\n",
       "<table border=\"1\" class=\"dataframe\">\n",
       "  <thead>\n",
       "    <tr style=\"text-align: right;\">\n",
       "      <th></th>\n",
       "      <th>total_sales</th>\n",
       "    </tr>\n",
       "    <tr>\n",
       "      <th>genre</th>\n",
       "      <th></th>\n",
       "    </tr>\n",
       "  </thead>\n",
       "  <tbody>\n",
       "    <tr>\n",
       "      <th>Shooter</th>\n",
       "      <td>1.30</td>\n",
       "    </tr>\n",
       "    <tr>\n",
       "      <th>Platform</th>\n",
       "      <td>0.72</td>\n",
       "    </tr>\n",
       "    <tr>\n",
       "      <th>Sports</th>\n",
       "      <td>0.68</td>\n",
       "    </tr>\n",
       "    <tr>\n",
       "      <th>Role-Playing</th>\n",
       "      <td>0.52</td>\n",
       "    </tr>\n",
       "    <tr>\n",
       "      <th>Racing</th>\n",
       "      <td>0.47</td>\n",
       "    </tr>\n",
       "    <tr>\n",
       "      <th>Misc</th>\n",
       "      <td>0.44</td>\n",
       "    </tr>\n",
       "    <tr>\n",
       "      <th>Simulation</th>\n",
       "      <td>0.44</td>\n",
       "    </tr>\n",
       "    <tr>\n",
       "      <th>Action</th>\n",
       "      <td>0.43</td>\n",
       "    </tr>\n",
       "    <tr>\n",
       "      <th>Fighting</th>\n",
       "      <td>0.41</td>\n",
       "    </tr>\n",
       "    <tr>\n",
       "      <th>Strategy</th>\n",
       "      <td>0.19</td>\n",
       "    </tr>\n",
       "    <tr>\n",
       "      <th>Puzzle</th>\n",
       "      <td>0.17</td>\n",
       "    </tr>\n",
       "    <tr>\n",
       "      <th>Adventure</th>\n",
       "      <td>0.10</td>\n",
       "    </tr>\n",
       "  </tbody>\n",
       "</table>\n",
       "</div>"
      ],
      "text/plain": [
       "              total_sales\n",
       "genre                    \n",
       "Shooter              1.30\n",
       "Platform             0.72\n",
       "Sports               0.68\n",
       "Role-Playing         0.52\n",
       "Racing               0.47\n",
       "Misc                 0.44\n",
       "Simulation           0.44\n",
       "Action               0.43\n",
       "Fighting             0.41\n",
       "Strategy             0.19\n",
       "Puzzle               0.17\n",
       "Adventure            0.10"
      ]
     },
     "execution_count": 40,
     "metadata": {},
     "output_type": "execute_result"
    }
   ],
   "source": [
    "top_genre = period.pivot_table(index='genre', values='total_sales', aggfunc='mean')\n",
    "top_genre.sort_values('total_sales', ascending=False)"
   ]
  },
  {
   "cell_type": "markdown",
   "metadata": {},
   "source": [
    "По данным анализа можно сделать вывод, что рейтинг возглавляют игры в жанре шутер, на втором месте идут платформеры (в основном это игры для детей до 13 лет), и замыкает 3-йку лидеров спортивные игры (начало рассвета игр FIFA). Одновременно с данными первой таблицы можно наблюдать увядание некоторых жанров(симуляторы, приключения и стратегии), и даже смерть жанра(например пазлы)."
   ]
  },
  {
   "cell_type": "markdown",
   "metadata": {},
   "source": [
    "# Построение портрета пользователя по регионам"
   ]
  },
  {
   "cell_type": "markdown",
   "metadata": {},
   "source": [
    "## Самые популярные платформы (топ-5)"
   ]
  },
  {
   "cell_type": "code",
   "execution_count": 41,
   "metadata": {},
   "outputs": [
    {
     "data": {
      "image/png": "[encoded data removed]",
      "text/plain": [
       "<Figure size 432x288 with 1 Axes>"
      ]
     },
     "metadata": {
      "needs_background": "light"
     },
     "output_type": "display_data"
    },
    {
     "data": {
      "image/png": "[encoded data removed]",
      "text/plain": [
       "<Figure size 432x288 with 1 Axes>"
      ]
     },
     "metadata": {
      "needs_background": "light"
     },
     "output_type": "display_data"
    },
    {
     "data": {
      "image/png": "[encoded data removed]",
      "text/plain": [
       "<Figure size 432x288 with 1 Axes>"
      ]
     },
     "metadata": {
      "needs_background": "light"
     },
     "output_type": "display_data"
    }
   ],
   "source": [
    "period.groupby(by='platform').agg({'jp_sales':'sum'}).sort_values(by='jp_sales', ascending=False).head(5).plot(kind='bar')\n",
    "plt.title('Популярность платформ на Японском рынке')\n",
    "plt.xlabel('Платформа')\n",
    "plt.ylabel('Продажи (миллионы проданных копий)');\n",
    "period.groupby(by='platform').agg({'eu_sales':'sum'}).sort_values(by='eu_sales', ascending=False).head(5).plot(kind='bar')\n",
    "plt.title('Популярность платформ на Европейском рынке')\n",
    "plt.xlabel('Платформа')\n",
    "plt.ylabel('Продажи (миллионы проданных копий)');\n",
    "period.groupby(by='platform').agg({'na_sales':'sum'}).sort_values(by='na_sales', ascending=False).head(5).plot(kind='bar')\n",
    "plt.title('Популярность платформ на Американском рынке')\n",
    "plt.xlabel('Платформа')\n",
    "plt.ylabel('Продажи (миллионы проданных копий)');"
   ]
  },
  {
   "cell_type": "markdown",
   "metadata": {},
   "source": [
    "На графиках видно, какие разные регионы в выборе платформ для игр.      \n",
    "Япония выглядит очень патриотичным рынком, и все приставки местного производства, лидер несомненно является 3DS.      \n",
    "Европейский сегмент предпочитает приставки SONY, из-за большего клличества и лучшего качества экслюзивов по сравнению с приставками Microsoft.      \n",
    "И наконец Американский регион лидирует по Xbox, возможно из-за популярности серии Halo в данному регионе."
   ]
  },
  {
   "cell_type": "markdown",
   "metadata": {},
   "source": [
    "## Самые популярные жанры (топ-5)"
   ]
  },
  {
   "cell_type": "code",
   "execution_count": 42,
   "metadata": {},
   "outputs": [
    {
     "data": {
      "image/png": "[encoded data removed]",
      "text/plain": [
       "<Figure size 432x288 with 1 Axes>"
      ]
     },
     "metadata": {
      "needs_background": "light"
     },
     "output_type": "display_data"
    },
    {
     "data": {
      "image/png": "[encoded data removed]",
      "text/plain": [
       "<Figure size 432x288 with 1 Axes>"
      ]
     },
     "metadata": {
      "needs_background": "light"
     },
     "output_type": "display_data"
    },
    {
     "data": {
      "image/png": "[encoded data removed]",
      "text/plain": [
       "<Figure size 432x288 with 1 Axes>"
      ]
     },
     "metadata": {
      "needs_background": "light"
     },
     "output_type": "display_data"
    }
   ],
   "source": [
    "period.groupby(by='genre').agg({'jp_sales':'sum'}).sort_values(by='jp_sales', ascending=False).head(5).plot(kind='bar')\n",
    "plt.title('Популярность жанров на Японском рынке')\n",
    "plt.xlabel('Жанр')\n",
    "plt.ylabel('Продажи (миллионы проданных копий)');\n",
    "period.groupby(by='genre').agg({'eu_sales':'sum'}).sort_values(by='eu_sales', ascending=False).head(5).plot(kind='bar')\n",
    "plt.title('Популярность жанров на Японском рынке')\n",
    "plt.xlabel('Жанр')\n",
    "plt.ylabel('Продажи (миллионы проданных копий)');\n",
    "period.groupby(by='genre').agg({'na_sales':'sum'}).sort_values(by='na_sales', ascending=False).head(5).plot(kind='bar')\n",
    "plt.title('Популярность жанров на Японском рынке')\n",
    "plt.xlabel('Жанр')\n",
    "plt.ylabel('Продажи (миллионы проданных копий)');"
   ]
  },
  {
   "cell_type": "markdown",
   "metadata": {},
   "source": [
    "Лутер-экшен, лутер-шутер(я думал это одно и тоже??), лутер-спорт. В целом это коррелируется с желанием человека быть \"героем\" в гуще событий, из-за чего популярными были игры от 1-го лица, либо действующие на вечном хайпе (как спортивные игры), музыкальные игры тоже неплохое место заняли. В данном списке мы не видим стратегии, симуляторы, приключения, квесты из-за их большей нишевости (На нынешнее время ситуация наверное ещё более выделенная). В целом Европейский и Американские регионы схожи, выделилась снова Япония со своими RPG (кошкодевочки японцев не отпустят точно)."
   ]
  },
  {
   "cell_type": "markdown",
   "metadata": {},
   "source": [
    "## Влияет ли рейтинг ESRB на продажи в отдельном регионе"
   ]
  },
  {
   "cell_type": "markdown",
   "metadata": {},
   "source": [
    "Рейтинг ESRB - https://www.esrb.org/ratings-guide/\n",
    "\n",
    "**EC** - от 3 лет;    \n",
    "**E** - от 6 лет;    \n",
    "**E10+** - от 10 лет;    \n",
    "**T** - от 13+;    \n",
    "**M** - от 17+;     \n",
    "**AO** - от 18+;     \n",
    "**RP** - ожидается рейтинг;     \n",
    "**K-A** - «Для детей и взрослых»:  от 6 лет. Этот рейтинг был заменён на «Everyone»/«E» 1 января 1998 года и может встречаться только в играх, изданных ранее."
   ]
  },
  {
   "cell_type": "code",
   "execution_count": 43,
   "metadata": {
    "scrolled": false
   },
   "outputs": [
    {
     "name": "stdout",
     "output_type": "stream",
     "text": [
      "                na_sales  ratio\n",
      "rating                         \n",
      "M                 231.57   0.39\n",
      "E                 114.37   0.19\n",
      "rating_unknown    103.31   0.17\n",
      "E10+               75.70   0.13\n",
      "T                  66.02   0.11\n",
      "                eu_sales  ratio\n",
      "rating                         \n",
      "M                 193.96   0.38\n",
      "E                 113.03   0.22\n",
      "rating_unknown     91.50   0.18\n",
      "E10+               55.37   0.11\n",
      "T                  52.96   0.10\n",
      "                jp_sales  ratio\n",
      "rating                         \n",
      "rating_unknown    108.84   0.57\n",
      "E                  28.33   0.15\n",
      "T                  26.02   0.14\n",
      "M                  21.20   0.11\n",
      "E10+                8.19   0.04\n"
     ]
    }
   ],
   "source": [
    "for column in ['na_sales', 'eu_sales', 'jp_sales']:\n",
    "    region = (period[period['rating'] != -1].\n",
    "              pivot_table(index='rating', values=column, aggfunc='sum').\n",
    "              sort_values(column, ascending=False)\n",
    "             )\n",
    "    region['ratio'] = round(region[column] / region[column].sum(), 2)\n",
    "    print(region)"
   ]
  },
  {
   "cell_type": "markdown",
   "metadata": {},
   "source": [
    "Какие можно сделать выводы:\n",
    "1) В западных регионах популярны игры для пользователей старше 17 лет (это можно объяснить тем, что на данных рынках выросло поколение, которые могут покупать данные игры, и с детства уже играли в игры);     \n",
    "2) В Японском регионе рейтинг возглавляет \"неизвестный рейтинг\", это может быть обусловленно, что в данном регионе действует и своя система возрастного рейтинга для игр, и большое колличество игр выходят только на внутренний рынок, из-за этих 2-х пунктов рейтинг возглавляют \"неизвестные рейтинги\";      \n",
    "3) Во всех регионах на 2-м месте стоят игры 6+, что может говорить о популярности компьютерных игр у молодого поколения.     \n",
    "4) Из-за жёсткой цензуры в плане возрастных ограничений, редкости выхода игр с высоким рейтингом на рынке Японии, игры для пользователей 17+ не пользуются такой популярностью, как игры для младшего поколения. Так же это может быть связанно с \"японским\" менталитетом."
   ]
  },
  {
   "cell_type": "markdown",
   "metadata": {},
   "source": [
    "# Проверка гипотез"
   ]
  },
  {
   "cell_type": "markdown",
   "metadata": {},
   "source": [
    "## Средние пользовательские рейтинги платформ Xbox One и PC одинаковые"
   ]
  },
  {
   "cell_type": "markdown",
   "metadata": {},
   "source": [
    "Г0  — средние пользовательские рейтинги платформ Xbox One и PC одинаковые.          \n",
    "ГH1  — средние пользовательские рейтинги платформ Xbox One и PC различаются.\n",
    "\n",
    "alpha=1%"
   ]
  },
  {
   "cell_type": "code",
   "execution_count": 44,
   "metadata": {},
   "outputs": [
    {
     "name": "stdout",
     "output_type": "stream",
     "text": [
      "p-значение: 0.05619765758385681\n",
      "Не получилось отвергнуть нулевую гипотезу\n"
     ]
    }
   ],
   "source": [
    "xone = period.query('platform == \"XOne\"')['user_score']\n",
    "pc = period.query('platform == \"PC\"')['user_score']\n",
    "\n",
    "alpha = .01\n",
    "\n",
    "results = st.ttest_ind(\n",
    "    xone, \n",
    "    pc, \n",
    "    equal_var=False)\n",
    "\n",
    "print('p-значение:', results.pvalue)\n",
    "\n",
    "if (results.pvalue < alpha):\n",
    "    print(\"Отвергаем нулевую гипотезу\")\n",
    "else:\n",
    "    print(\"Не получилось отвергнуть нулевую гипотезу\")"
   ]
  },
  {
   "cell_type": "code",
   "execution_count": 45,
   "metadata": {
    "scrolled": true
   },
   "outputs": [
    {
     "data": {
      "image/png": "[encoded data removed]",
      "text/plain": [
       "<Figure size 360x360 with 1 Axes>"
      ]
     },
     "metadata": {
      "needs_background": "light"
     },
     "output_type": "display_data"
    },
    {
     "data": {
      "image/png": "[encoded data removed]",
      "text/plain": [
       "<Figure size 360x360 with 1 Axes>"
      ]
     },
     "metadata": {
      "needs_background": "light"
     },
     "output_type": "display_data"
    }
   ],
   "source": [
    "XOne = period.query('platform == \"XOne\" and (user_score != -1)')\n",
    "PC = period.query('platform == \"PC\" and (user_score != -1)')\n",
    "for column in ['user_score']:\n",
    "    sns.relplot(x=column, y=\"total_sales\", data=XOne)\n",
    "    plt.title(\"Рейтинг XOne\")\n",
    "    sns.relplot(x=column, y=\"total_sales\", data=PC)\n",
    "    plt.title(\"Рейтинг PC\")"
   ]
  },
  {
   "cell_type": "code",
   "execution_count": 46,
   "metadata": {},
   "outputs": [],
   "source": [
    "# шот ругаться стал, 'DataFrame' object has no attribute 'period'\n",
    "\n",
    "#pc_one = period.query('platform == \"XOne\" or platform == \"PC\"')\n",
    "#pc_one.period(index='platform', values='user_score', aggfunc='mean')"
   ]
  },
  {
   "cell_type": "code",
   "execution_count": 47,
   "metadata": {},
   "outputs": [
    {
     "data": {
      "text/html": [
       "<div>\n",
       "<style scoped>\n",
       "    .dataframe tbody tr th:only-of-type {\n",
       "        vertical-align: middle;\n",
       "    }\n",
       "\n",
       "    .dataframe tbody tr th {\n",
       "        vertical-align: top;\n",
       "    }\n",
       "\n",
       "    .dataframe thead th {\n",
       "        text-align: right;\n",
       "    }\n",
       "</style>\n",
       "<table border=\"1\" class=\"dataframe\">\n",
       "  <thead>\n",
       "    <tr style=\"text-align: right;\">\n",
       "      <th></th>\n",
       "      <th>user_score</th>\n",
       "    </tr>\n",
       "    <tr>\n",
       "      <th>platform</th>\n",
       "      <th></th>\n",
       "    </tr>\n",
       "  </thead>\n",
       "  <tbody>\n",
       "    <tr>\n",
       "      <th>PC</th>\n",
       "      <td>5.12</td>\n",
       "    </tr>\n",
       "    <tr>\n",
       "      <th>XOne</th>\n",
       "      <td>4.54</td>\n",
       "    </tr>\n",
       "  </tbody>\n",
       "</table>\n",
       "</div>"
      ],
      "text/plain": [
       "          user_score\n",
       "platform            \n",
       "PC              5.12\n",
       "XOne            4.54"
      ]
     },
     "execution_count": 47,
     "metadata": {},
     "output_type": "execute_result"
    }
   ],
   "source": [
    "pc_one = period.query('platform == \"XOne\" or platform == \"PC\"')\n",
    "pc_one.pivot_table(index='platform', values='user_score', aggfunc='mean')"
   ]
  },
  {
   "cell_type": "markdown",
   "metadata": {},
   "source": [
    "На основании статистического теста нулевая гипотеза о равенстве среднего пользовательского рейтинга для XOne и PC не была отвергнута. "
   ]
  },
  {
   "cell_type": "markdown",
   "metadata": {},
   "source": [
    "## Средние пользовательские рейтинги жанров Action (англ. «действие», экшен-игры) и Sports (англ. «спортивные соревнования») разные."
   ]
  },
  {
   "cell_type": "markdown",
   "metadata": {},
   "source": [
    "Г0 — средние пользовательские рейтинги жанров Action (англ. «действие») и Sports (англ. «виды спорта») одинаковые.     \n",
    "Г1 — средние пользовательские рейтинги жанров Action (англ. «действие») и Sports (англ. «виды спорта») разные.\n",
    "\n",
    "alpha=1%"
   ]
  },
  {
   "cell_type": "code",
   "execution_count": 48,
   "metadata": {},
   "outputs": [
    {
     "name": "stdout",
     "output_type": "stream",
     "text": [
      "p-значение: 0.0020018209559324713\n",
      "Отвергаем нулевую гипотезу\n"
     ]
    }
   ],
   "source": [
    "action = period.query('genre == \"Action\"')['user_score']\n",
    "sports = period.query('genre == \"Sports\"')['user_score']\n",
    "\n",
    "alpha = .01\n",
    "\n",
    "results = st.ttest_ind(\n",
    "    action, \n",
    "    sports, \n",
    "    equal_var=False)\n",
    "\n",
    "print('p-значение:', results.pvalue)\n",
    "\n",
    "if (results.pvalue < alpha):\n",
    "    print(\"Отвергаем нулевую гипотезу\")\n",
    "else:\n",
    "    print(\"Не получилось отвергнуть нулевую гипотезу\")"
   ]
  },
  {
   "cell_type": "code",
   "execution_count": 49,
   "metadata": {
    "scrolled": false
   },
   "outputs": [
    {
     "data": {
      "image/png": "[encoded data removed]",
      "text/plain": [
       "<Figure size 360x360 with 1 Axes>"
      ]
     },
     "metadata": {
      "needs_background": "light"
     },
     "output_type": "display_data"
    },
    {
     "data": {
      "image/png": "[encoded data removed]",
      "text/plain": [
       "<Figure size 360x360 with 1 Axes>"
      ]
     },
     "metadata": {
      "needs_background": "light"
     },
     "output_type": "display_data"
    }
   ],
   "source": [
    "action = period.query('genre == \"Action\" and (user_score != -1)')\n",
    "sports = period.query('genre == \"Sports\" and (user_score != -1)')\n",
    "for column in ['user_score']:\n",
    "    sns.relplot(x=column, y=\"total_sales\", data=action)\n",
    "    plt.title(\"Рейтинг Action\")\n",
    "    plt.xlabel('Пользовательские оценки')\n",
    "    plt.ylabel('Продажи (миллионы проданных копий)');\n",
    "    sns.relplot(x=column, y=\"total_sales\", data=sports)\n",
    "    plt.title(\"Рейтинг Sports\")\n",
    "    plt.xlabel('Пользовательские оценки')\n",
    "    plt.ylabel('Продажи (миллионы проданных копий)');"
   ]
  },
  {
   "cell_type": "code",
   "execution_count": 50,
   "metadata": {},
   "outputs": [
    {
     "data": {
      "text/html": [
       "<div>\n",
       "<style scoped>\n",
       "    .dataframe tbody tr th:only-of-type {\n",
       "        vertical-align: middle;\n",
       "    }\n",
       "\n",
       "    .dataframe tbody tr th {\n",
       "        vertical-align: top;\n",
       "    }\n",
       "\n",
       "    .dataframe thead th {\n",
       "        text-align: right;\n",
       "    }\n",
       "</style>\n",
       "<table border=\"1\" class=\"dataframe\">\n",
       "  <thead>\n",
       "    <tr style=\"text-align: right;\">\n",
       "      <th></th>\n",
       "      <th>user_score</th>\n",
       "    </tr>\n",
       "    <tr>\n",
       "      <th>genre</th>\n",
       "      <th></th>\n",
       "    </tr>\n",
       "  </thead>\n",
       "  <tbody>\n",
       "    <tr>\n",
       "      <th>Action</th>\n",
       "      <td>2.97</td>\n",
       "    </tr>\n",
       "    <tr>\n",
       "      <th>Sports</th>\n",
       "      <td>3.70</td>\n",
       "    </tr>\n",
       "  </tbody>\n",
       "</table>\n",
       "</div>"
      ],
      "text/plain": [
       "        user_score\n",
       "genre             \n",
       "Action        2.97\n",
       "Sports        3.70"
      ]
     },
     "execution_count": 50,
     "metadata": {},
     "output_type": "execute_result"
    }
   ],
   "source": [
    "action_sports = period.query('genre == \"Action\" or genre == \"Sports\"')\n",
    "action_sports.pivot_table(index='genre', values='user_score', aggfunc='mean')"
   ]
  },
  {
   "cell_type": "markdown",
   "metadata": {},
   "source": [
    "На основании статистического теста нулевая гипотеза была опровергнута. Пользовательский рейтинг жарна Экшен и спорт различаются."
   ]
  },
  {
   "cell_type": "markdown",
   "metadata": {},
   "source": [
    "# Результаты исследования"
   ]
  },
  {
   "cell_type": "markdown",
   "metadata": {},
   "source": [
    "Одна гипотеза не была опровергнута, другая была опровергнута:\n",
    "1) Средние пользовательские рейтинги платформ Xbox One и PC оказались одинаковы:"
   ]
  },
  {
   "cell_type": "code",
   "execution_count": 51,
   "metadata": {},
   "outputs": [
    {
     "data": {
      "text/html": [
       "<div>\n",
       "<style scoped>\n",
       "    .dataframe tbody tr th:only-of-type {\n",
       "        vertical-align: middle;\n",
       "    }\n",
       "\n",
       "    .dataframe tbody tr th {\n",
       "        vertical-align: top;\n",
       "    }\n",
       "\n",
       "    .dataframe thead th {\n",
       "        text-align: right;\n",
       "    }\n",
       "</style>\n",
       "<table border=\"1\" class=\"dataframe\">\n",
       "  <thead>\n",
       "    <tr style=\"text-align: right;\">\n",
       "      <th></th>\n",
       "      <th>user_score</th>\n",
       "    </tr>\n",
       "    <tr>\n",
       "      <th>platform</th>\n",
       "      <th></th>\n",
       "    </tr>\n",
       "  </thead>\n",
       "  <tbody>\n",
       "    <tr>\n",
       "      <th>PC</th>\n",
       "      <td>5.12</td>\n",
       "    </tr>\n",
       "    <tr>\n",
       "      <th>XOne</th>\n",
       "      <td>4.54</td>\n",
       "    </tr>\n",
       "  </tbody>\n",
       "</table>\n",
       "</div>"
      ],
      "text/plain": [
       "          user_score\n",
       "platform            \n",
       "PC              5.12\n",
       "XOne            4.54"
      ]
     },
     "execution_count": 51,
     "metadata": {},
     "output_type": "execute_result"
    }
   ],
   "source": [
    "pc_one = period.query('platform == \"XOne\" or platform == \"PC\"')\n",
    "pc_one.pivot_table(index='platform', values='user_score', aggfunc='mean')"
   ]
  },
  {
   "cell_type": "markdown",
   "metadata": {},
   "source": [
    "2) Средние пользовательские рейтинги жанров Action и Sports оказались различны"
   ]
  },
  {
   "cell_type": "code",
   "execution_count": 52,
   "metadata": {},
   "outputs": [
    {
     "data": {
      "text/html": [
       "<div>\n",
       "<style scoped>\n",
       "    .dataframe tbody tr th:only-of-type {\n",
       "        vertical-align: middle;\n",
       "    }\n",
       "\n",
       "    .dataframe tbody tr th {\n",
       "        vertical-align: top;\n",
       "    }\n",
       "\n",
       "    .dataframe thead th {\n",
       "        text-align: right;\n",
       "    }\n",
       "</style>\n",
       "<table border=\"1\" class=\"dataframe\">\n",
       "  <thead>\n",
       "    <tr style=\"text-align: right;\">\n",
       "      <th></th>\n",
       "      <th>user_score</th>\n",
       "    </tr>\n",
       "    <tr>\n",
       "      <th>genre</th>\n",
       "      <th></th>\n",
       "    </tr>\n",
       "  </thead>\n",
       "  <tbody>\n",
       "    <tr>\n",
       "      <th>Action</th>\n",
       "      <td>2.97</td>\n",
       "    </tr>\n",
       "    <tr>\n",
       "      <th>Sports</th>\n",
       "      <td>3.70</td>\n",
       "    </tr>\n",
       "  </tbody>\n",
       "</table>\n",
       "</div>"
      ],
      "text/plain": [
       "        user_score\n",
       "genre             \n",
       "Action        2.97\n",
       "Sports        3.70"
      ]
     },
     "execution_count": 52,
     "metadata": {},
     "output_type": "execute_result"
    }
   ],
   "source": [
    "action_sports = period.query('genre == \"Action\" or genre == \"Sports\"')\n",
    "action_sports.pivot_table(index='genre', values='user_score', aggfunc='mean')"
   ]
  },
  {
   "cell_type": "markdown",
   "metadata": {},
   "source": [
    "В Америке самой популярной платформой является Xbox 360. При этом с выходом нового поколения консолей лидерство переходит к PS4. 3DS — наименее популярная консоль среди лидеров.\n",
    "\n",
    "Среди европейских пользователей лидируют PS4 и PS3, консоль Microsoft пользуется гораздо меньшим успехом, чем в  Америке, но в обоих регионах 3ds наименее популярна.\n",
    "\n",
    "Японские пользователи предпочитают местные консоли(Nintendo и Sony). При этом в топ-5 вошли целых две портативные консоли. \n",
    "\n",
    "Жанры: американские и европейские пользователи отдают предпочтение играм и шутерам, японские пользователи предпочитают 3DS-игры и ролевые игры."
   ]
  },
  {
   "cell_type": "code",
   "execution_count": 53,
   "metadata": {},
   "outputs": [
    {
     "data": {
      "image/png": "[encoded data removed]",
      "text/plain": [
       "<Figure size 432x288 with 1 Axes>"
      ]
     },
     "metadata": {
      "needs_background": "light"
     },
     "output_type": "display_data"
    },
    {
     "data": {
      "image/png": "[encoded data removed]",
      "text/plain": [
       "<Figure size 432x288 with 1 Axes>"
      ]
     },
     "metadata": {
      "needs_background": "light"
     },
     "output_type": "display_data"
    },
    {
     "data": {
      "image/png": "[encoded data removed]",
      "text/plain": [
       "<Figure size 432x288 with 1 Axes>"
      ]
     },
     "metadata": {
      "needs_background": "light"
     },
     "output_type": "display_data"
    }
   ],
   "source": [
    "period.groupby(by='platform').agg({'jp_sales':'sum'}).sort_values(by='jp_sales', ascending=False).head(5).plot(kind='bar')\n",
    "plt.title('Популярность платформ на Японском рынке')\n",
    "plt.xlabel('Платформа')\n",
    "plt.ylabel('Продажи (миллионы проданных копий)');\n",
    "period.groupby(by='platform').agg({'eu_sales':'sum'}).sort_values(by='eu_sales', ascending=False).head(5).plot(kind='bar')\n",
    "plt.title('Популярность платформ на Европейском рынке')\n",
    "plt.xlabel('Платформа')\n",
    "plt.ylabel('Продажи (миллионы проданных копий)');\n",
    "period.groupby(by='platform').agg({'na_sales':'sum'}).sort_values(by='na_sales', ascending=False).head(5).plot(kind='bar')\n",
    "plt.title('Популярность платформ на Американском рынке')\n",
    "plt.xlabel('Платформа')\n",
    "plt.ylabel('Продажи (миллионы проданных копий)');"
   ]
  },
  {
   "cell_type": "markdown",
   "metadata": {},
   "source": [
    "**Прогноз на 2017+**     \n",
    "Перспективной платформой на 2017+ являются Playstation 4. Nintendo 3DS следует рассматривать только в том случае, если она нацелена на японский рынок. Приставка от Microsoft пока не завоевала рынок, и находится в середине рейтинга. Соответственно, перспективными жанрами будут экшен и шутер — такие игры, скорее всего, будут пользоваться спросом. Спортивные игры тоже популярны — их тоже стоит учитывать для маркетинга.\n",
    "\n",
    "ПК на данный момент менее перспективны, чем консоли, что может быть связано с развитием онлайн-сервисов для покупки игр — то есть потребность в физических носителях отпала.\n",
    "\n",
    "Итого ориентируемся на новое поколение консолей, и игры-сервисы - шутеры, спортивные игры."
   ]
  }
 ],
 "metadata": {
  "ExecuteTimeLog": [
   {
    "duration": 1244,
    "start_time": "2022-06-21T07:07:54.701Z"
   },
   {
    "duration": 3,
    "start_time": "2022-06-21T07:07:55.946Z"
   },
   {
    "duration": 173,
    "start_time": "2022-06-21T07:07:55.951Z"
   },
   {
    "duration": 16,
    "start_time": "2022-06-21T07:07:56.126Z"
   },
   {
    "duration": 27,
    "start_time": "2022-06-21T07:07:56.144Z"
   },
   {
    "duration": 14,
    "start_time": "2022-06-21T07:07:56.173Z"
   },
   {
    "duration": 1102,
    "start_time": "2022-06-21T07:24:48.070Z"
   },
   {
    "duration": 3,
    "start_time": "2022-06-21T07:24:49.174Z"
   },
   {
    "duration": 55,
    "start_time": "2022-06-21T07:24:49.179Z"
   },
   {
    "duration": 14,
    "start_time": "2022-06-21T07:24:49.236Z"
   },
   {
    "duration": 27,
    "start_time": "2022-06-21T07:24:49.251Z"
   },
   {
    "duration": 13,
    "start_time": "2022-06-21T07:24:49.280Z"
   },
   {
    "duration": 1090,
    "start_time": "2022-06-21T07:25:28.857Z"
   },
   {
    "duration": 3,
    "start_time": "2022-06-21T07:25:29.949Z"
   },
   {
    "duration": 60,
    "start_time": "2022-06-21T07:25:29.953Z"
   },
   {
    "duration": 15,
    "start_time": "2022-06-21T07:25:30.015Z"
   },
   {
    "duration": 31,
    "start_time": "2022-06-21T07:25:30.032Z"
   },
   {
    "duration": 16,
    "start_time": "2022-06-21T07:25:30.065Z"
   },
   {
    "duration": 3,
    "start_time": "2022-06-21T07:32:54.261Z"
   },
   {
    "duration": 12,
    "start_time": "2022-06-21T07:33:02.762Z"
   },
   {
    "duration": 14,
    "start_time": "2022-06-21T07:33:55.647Z"
   },
   {
    "duration": 101,
    "start_time": "2022-06-21T08:06:54.212Z"
   },
   {
    "duration": 3,
    "start_time": "2022-06-21T08:08:12.784Z"
   },
   {
    "duration": 4,
    "start_time": "2022-06-21T08:08:14.303Z"
   },
   {
    "duration": 16,
    "start_time": "2022-06-21T08:11:28.812Z"
   },
   {
    "duration": 7,
    "start_time": "2022-06-21T09:11:49.231Z"
   },
   {
    "duration": 1125,
    "start_time": "2022-06-21T09:11:57.307Z"
   },
   {
    "duration": 2,
    "start_time": "2022-06-21T09:11:58.434Z"
   },
   {
    "duration": 59,
    "start_time": "2022-06-21T09:11:58.438Z"
   },
   {
    "duration": 16,
    "start_time": "2022-06-21T09:11:58.499Z"
   },
   {
    "duration": 32,
    "start_time": "2022-06-21T09:11:58.518Z"
   },
   {
    "duration": 15,
    "start_time": "2022-06-21T09:11:58.551Z"
   },
   {
    "duration": 7,
    "start_time": "2022-06-21T09:11:58.568Z"
   },
   {
    "duration": 13,
    "start_time": "2022-06-21T09:11:58.577Z"
   },
   {
    "duration": 14,
    "start_time": "2022-06-21T09:11:58.592Z"
   },
   {
    "duration": 6,
    "start_time": "2022-06-21T09:11:58.607Z"
   },
   {
    "duration": 3,
    "start_time": "2022-06-21T09:11:58.642Z"
   },
   {
    "duration": 6,
    "start_time": "2022-06-21T09:11:58.647Z"
   },
   {
    "duration": 13,
    "start_time": "2022-06-21T09:11:58.654Z"
   },
   {
    "duration": 4,
    "start_time": "2022-06-21T09:14:58.625Z"
   },
   {
    "duration": 395,
    "start_time": "2022-06-21T09:15:00.387Z"
   },
   {
    "duration": 13,
    "start_time": "2022-06-21T09:16:17.761Z"
   },
   {
    "duration": 14,
    "start_time": "2022-06-21T09:16:25.278Z"
   },
   {
    "duration": 9,
    "start_time": "2022-06-21T09:22:32.788Z"
   },
   {
    "duration": 1166,
    "start_time": "2022-06-21T09:29:37.482Z"
   },
   {
    "duration": 2,
    "start_time": "2022-06-21T09:29:38.650Z"
   },
   {
    "duration": 59,
    "start_time": "2022-06-21T09:29:38.654Z"
   },
   {
    "duration": 16,
    "start_time": "2022-06-21T09:29:38.714Z"
   },
   {
    "duration": 35,
    "start_time": "2022-06-21T09:29:38.732Z"
   },
   {
    "duration": 14,
    "start_time": "2022-06-21T09:29:38.768Z"
   },
   {
    "duration": 6,
    "start_time": "2022-06-21T09:29:38.784Z"
   },
   {
    "duration": 16,
    "start_time": "2022-06-21T09:29:38.791Z"
   },
   {
    "duration": 14,
    "start_time": "2022-06-21T09:29:38.809Z"
   },
   {
    "duration": 6,
    "start_time": "2022-06-21T09:29:38.842Z"
   },
   {
    "duration": 4,
    "start_time": "2022-06-21T09:29:38.849Z"
   },
   {
    "duration": 6,
    "start_time": "2022-06-21T09:29:38.854Z"
   },
   {
    "duration": 14,
    "start_time": "2022-06-21T09:29:38.861Z"
   },
   {
    "duration": 11,
    "start_time": "2022-06-21T09:29:38.877Z"
   },
   {
    "duration": 13,
    "start_time": "2022-06-21T09:29:38.890Z"
   },
   {
    "duration": 39,
    "start_time": "2022-06-21T09:29:38.904Z"
   },
   {
    "duration": 7,
    "start_time": "2022-06-21T09:29:38.944Z"
   },
   {
    "duration": 12,
    "start_time": "2022-06-21T09:29:38.952Z"
   },
   {
    "duration": 110,
    "start_time": "2022-06-21T09:29:38.966Z"
   },
   {
    "duration": 1083,
    "start_time": "2022-06-21T09:29:48.049Z"
   },
   {
    "duration": 3,
    "start_time": "2022-06-21T09:29:49.133Z"
   },
   {
    "duration": 54,
    "start_time": "2022-06-21T09:29:49.138Z"
   },
   {
    "duration": 14,
    "start_time": "2022-06-21T09:29:49.193Z"
   },
   {
    "duration": 30,
    "start_time": "2022-06-21T09:29:49.209Z"
   },
   {
    "duration": 14,
    "start_time": "2022-06-21T09:29:49.241Z"
   },
   {
    "duration": 6,
    "start_time": "2022-06-21T09:29:49.257Z"
   },
   {
    "duration": 14,
    "start_time": "2022-06-21T09:29:49.265Z"
   },
   {
    "duration": 20,
    "start_time": "2022-06-21T09:29:49.281Z"
   },
   {
    "duration": 6,
    "start_time": "2022-06-21T09:29:49.302Z"
   },
   {
    "duration": 4,
    "start_time": "2022-06-21T09:29:49.309Z"
   },
   {
    "duration": 30,
    "start_time": "2022-06-21T09:29:49.314Z"
   },
   {
    "duration": 14,
    "start_time": "2022-06-21T09:29:49.346Z"
   },
   {
    "duration": 14,
    "start_time": "2022-06-21T09:29:49.363Z"
   },
   {
    "duration": 15,
    "start_time": "2022-06-21T09:29:49.378Z"
   },
   {
    "duration": 9,
    "start_time": "2022-06-21T09:29:49.394Z"
   },
   {
    "duration": 4,
    "start_time": "2022-06-21T09:29:49.405Z"
   },
   {
    "duration": 37,
    "start_time": "2022-06-21T09:29:49.411Z"
   },
   {
    "duration": 18,
    "start_time": "2022-06-21T09:29:49.449Z"
   },
   {
    "duration": 9,
    "start_time": "2022-06-21T09:30:00.403Z"
   },
   {
    "duration": 1141,
    "start_time": "2022-06-21T09:32:38.989Z"
   },
   {
    "duration": 2,
    "start_time": "2022-06-21T09:32:40.132Z"
   },
   {
    "duration": 55,
    "start_time": "2022-06-21T09:32:40.136Z"
   },
   {
    "duration": 15,
    "start_time": "2022-06-21T09:32:40.192Z"
   },
   {
    "duration": 26,
    "start_time": "2022-06-21T09:32:40.209Z"
   },
   {
    "duration": 13,
    "start_time": "2022-06-21T09:32:40.236Z"
   },
   {
    "duration": 3,
    "start_time": "2022-06-21T09:32:40.251Z"
   },
   {
    "duration": 12,
    "start_time": "2022-06-21T09:32:40.256Z"
   },
   {
    "duration": 15,
    "start_time": "2022-06-21T09:32:40.270Z"
   },
   {
    "duration": 5,
    "start_time": "2022-06-21T09:32:40.287Z"
   },
   {
    "duration": 3,
    "start_time": "2022-06-21T09:32:40.294Z"
   },
   {
    "duration": 10,
    "start_time": "2022-06-21T09:32:40.298Z"
   },
   {
    "duration": 41,
    "start_time": "2022-06-21T09:32:40.309Z"
   },
   {
    "duration": 11,
    "start_time": "2022-06-21T09:32:40.353Z"
   },
   {
    "duration": 13,
    "start_time": "2022-06-21T09:32:40.366Z"
   },
   {
    "duration": 8,
    "start_time": "2022-06-21T09:32:40.381Z"
   },
   {
    "duration": 4,
    "start_time": "2022-06-21T09:32:40.391Z"
   },
   {
    "duration": 18,
    "start_time": "2022-06-21T09:32:40.397Z"
   },
   {
    "duration": 28,
    "start_time": "2022-06-21T09:32:40.416Z"
   },
   {
    "duration": 1426,
    "start_time": "2022-06-21T09:32:40.446Z"
   },
   {
    "duration": 0,
    "start_time": "2022-06-21T09:32:41.874Z"
   },
   {
    "duration": 5,
    "start_time": "2022-06-21T09:33:00.041Z"
   },
   {
    "duration": 11,
    "start_time": "2022-06-21T09:33:01.978Z"
   },
   {
    "duration": 14,
    "start_time": "2022-06-21T09:35:37.529Z"
   },
   {
    "duration": 10,
    "start_time": "2022-06-21T09:42:39.176Z"
   },
   {
    "duration": 186,
    "start_time": "2022-06-21T09:45:27.175Z"
   },
   {
    "duration": 268,
    "start_time": "2022-06-21T09:46:01.337Z"
   },
   {
    "duration": 168,
    "start_time": "2022-06-21T09:46:23.677Z"
   },
   {
    "duration": 1209,
    "start_time": "2022-06-21T09:47:07.830Z"
   },
   {
    "duration": 3,
    "start_time": "2022-06-21T09:47:09.041Z"
   },
   {
    "duration": 54,
    "start_time": "2022-06-21T09:47:09.046Z"
   },
   {
    "duration": 16,
    "start_time": "2022-06-21T09:47:09.102Z"
   },
   {
    "duration": 28,
    "start_time": "2022-06-21T09:47:09.120Z"
   },
   {
    "duration": 13,
    "start_time": "2022-06-21T09:47:09.150Z"
   },
   {
    "duration": 3,
    "start_time": "2022-06-21T09:47:09.164Z"
   },
   {
    "duration": 13,
    "start_time": "2022-06-21T09:47:09.169Z"
   },
   {
    "duration": 17,
    "start_time": "2022-06-21T09:47:09.183Z"
   },
   {
    "duration": 6,
    "start_time": "2022-06-21T09:47:09.202Z"
   },
   {
    "duration": 35,
    "start_time": "2022-06-21T09:47:09.209Z"
   },
   {
    "duration": 9,
    "start_time": "2022-06-21T09:47:09.246Z"
   },
   {
    "duration": 13,
    "start_time": "2022-06-21T09:47:09.257Z"
   },
   {
    "duration": 12,
    "start_time": "2022-06-21T09:47:09.271Z"
   },
   {
    "duration": 13,
    "start_time": "2022-06-21T09:47:09.285Z"
   },
   {
    "duration": 8,
    "start_time": "2022-06-21T09:47:09.300Z"
   },
   {
    "duration": 5,
    "start_time": "2022-06-21T09:47:09.309Z"
   },
   {
    "duration": 10,
    "start_time": "2022-06-21T09:47:09.341Z"
   },
   {
    "duration": 4,
    "start_time": "2022-06-21T09:47:09.353Z"
   },
   {
    "duration": 11,
    "start_time": "2022-06-21T09:47:09.358Z"
   },
   {
    "duration": 11,
    "start_time": "2022-06-21T09:47:09.370Z"
   },
   {
    "duration": 13,
    "start_time": "2022-06-21T09:47:09.382Z"
   },
   {
    "duration": 321,
    "start_time": "2022-06-21T09:47:09.397Z"
   },
   {
    "duration": 416,
    "start_time": "2022-06-21T09:47:09.720Z"
   },
   {
    "duration": 402,
    "start_time": "2022-06-21T09:47:38.412Z"
   },
   {
    "duration": 445,
    "start_time": "2022-06-21T09:48:35.714Z"
   },
   {
    "duration": 471,
    "start_time": "2022-06-21T09:48:40.282Z"
   },
   {
    "duration": 16,
    "start_time": "2022-06-21T09:55:29.051Z"
   },
   {
    "duration": 102,
    "start_time": "2022-06-21T09:58:27.788Z"
   },
   {
    "duration": 16,
    "start_time": "2022-06-21T09:58:40.165Z"
   },
   {
    "duration": 26,
    "start_time": "2022-06-21T09:58:43.179Z"
   },
   {
    "duration": 19,
    "start_time": "2022-06-21T09:59:20.730Z"
   },
   {
    "duration": 16,
    "start_time": "2022-06-21T09:59:25.063Z"
   },
   {
    "duration": 14,
    "start_time": "2022-06-21T09:59:26.544Z"
   },
   {
    "duration": 8,
    "start_time": "2022-06-21T10:01:55.707Z"
   },
   {
    "duration": 12,
    "start_time": "2022-06-21T10:02:14.599Z"
   },
   {
    "duration": 54,
    "start_time": "2022-06-22T04:15:54.901Z"
   },
   {
    "duration": 1115,
    "start_time": "2022-06-22T04:16:00.757Z"
   },
   {
    "duration": 3,
    "start_time": "2022-06-22T04:16:01.874Z"
   },
   {
    "duration": 189,
    "start_time": "2022-06-22T04:16:01.879Z"
   },
   {
    "duration": 13,
    "start_time": "2022-06-22T04:16:02.069Z"
   },
   {
    "duration": 31,
    "start_time": "2022-06-22T04:16:02.084Z"
   },
   {
    "duration": 26,
    "start_time": "2022-06-22T04:16:02.116Z"
   },
   {
    "duration": 6,
    "start_time": "2022-06-22T04:16:02.143Z"
   },
   {
    "duration": 46,
    "start_time": "2022-06-22T04:16:02.151Z"
   },
   {
    "duration": 29,
    "start_time": "2022-06-22T04:16:02.199Z"
   },
   {
    "duration": 27,
    "start_time": "2022-06-22T04:16:02.229Z"
   },
   {
    "duration": 30,
    "start_time": "2022-06-22T04:16:02.257Z"
   },
   {
    "duration": 21,
    "start_time": "2022-06-22T04:16:02.289Z"
   },
   {
    "duration": 31,
    "start_time": "2022-06-22T04:16:02.312Z"
   },
   {
    "duration": 30,
    "start_time": "2022-06-22T04:16:02.346Z"
   },
   {
    "duration": 34,
    "start_time": "2022-06-22T04:16:02.378Z"
   },
   {
    "duration": 31,
    "start_time": "2022-06-22T04:16:02.414Z"
   },
   {
    "duration": 32,
    "start_time": "2022-06-22T04:16:02.447Z"
   },
   {
    "duration": 13,
    "start_time": "2022-06-22T04:16:02.481Z"
   },
   {
    "duration": 33,
    "start_time": "2022-06-22T04:16:02.496Z"
   },
   {
    "duration": 34,
    "start_time": "2022-06-22T04:16:02.530Z"
   },
   {
    "duration": 58,
    "start_time": "2022-06-22T04:16:02.565Z"
   },
   {
    "duration": 32,
    "start_time": "2022-06-22T04:16:02.625Z"
   },
   {
    "duration": 229,
    "start_time": "2022-06-22T04:16:02.658Z"
   },
   {
    "duration": 0,
    "start_time": "2022-06-22T04:16:02.889Z"
   },
   {
    "duration": 0,
    "start_time": "2022-06-22T04:16:02.891Z"
   },
   {
    "duration": 147,
    "start_time": "2022-06-22T04:16:13.233Z"
   },
   {
    "duration": 135,
    "start_time": "2022-06-22T04:16:28.540Z"
   },
   {
    "duration": 357,
    "start_time": "2022-06-22T04:16:32.759Z"
   },
   {
    "duration": 1022,
    "start_time": "2022-06-22T04:16:42.694Z"
   },
   {
    "duration": 2,
    "start_time": "2022-06-22T04:16:43.719Z"
   },
   {
    "duration": 55,
    "start_time": "2022-06-22T04:16:43.723Z"
   },
   {
    "duration": 22,
    "start_time": "2022-06-22T04:16:43.780Z"
   },
   {
    "duration": 27,
    "start_time": "2022-06-22T04:16:43.805Z"
   },
   {
    "duration": 13,
    "start_time": "2022-06-22T04:16:43.833Z"
   },
   {
    "duration": 3,
    "start_time": "2022-06-22T04:16:43.847Z"
   },
   {
    "duration": 12,
    "start_time": "2022-06-22T04:16:43.851Z"
   },
   {
    "duration": 12,
    "start_time": "2022-06-22T04:16:43.864Z"
   },
   {
    "duration": 5,
    "start_time": "2022-06-22T04:16:43.878Z"
   },
   {
    "duration": 3,
    "start_time": "2022-06-22T04:16:43.884Z"
   },
   {
    "duration": 6,
    "start_time": "2022-06-22T04:16:43.889Z"
   },
   {
    "duration": 34,
    "start_time": "2022-06-22T04:16:43.896Z"
   },
   {
    "duration": 9,
    "start_time": "2022-06-22T04:16:43.932Z"
   },
   {
    "duration": 15,
    "start_time": "2022-06-22T04:16:43.942Z"
   },
   {
    "duration": 6,
    "start_time": "2022-06-22T04:16:43.959Z"
   },
   {
    "duration": 3,
    "start_time": "2022-06-22T04:16:43.967Z"
   },
   {
    "duration": 10,
    "start_time": "2022-06-22T04:16:43.971Z"
   },
   {
    "duration": 3,
    "start_time": "2022-06-22T04:16:43.983Z"
   },
   {
    "duration": 7,
    "start_time": "2022-06-22T04:16:43.987Z"
   },
   {
    "duration": 35,
    "start_time": "2022-06-22T04:16:43.995Z"
   },
   {
    "duration": 11,
    "start_time": "2022-06-22T04:16:44.031Z"
   },
   {
    "duration": 353,
    "start_time": "2022-06-22T04:16:44.043Z"
   },
   {
    "duration": 13,
    "start_time": "2022-06-22T04:16:44.397Z"
   },
   {
    "duration": 6,
    "start_time": "2022-06-22T04:16:44.411Z"
   },
   {
    "duration": 373,
    "start_time": "2022-06-22T04:21:13.564Z"
   },
   {
    "duration": 336,
    "start_time": "2022-06-22T04:21:36.467Z"
   },
   {
    "duration": 336,
    "start_time": "2022-06-22T04:21:44.766Z"
   },
   {
    "duration": 394,
    "start_time": "2022-06-22T04:21:51.876Z"
   },
   {
    "duration": 339,
    "start_time": "2022-06-22T04:22:02.056Z"
   },
   {
    "duration": 233,
    "start_time": "2022-06-22T04:22:31.646Z"
   },
   {
    "duration": 166,
    "start_time": "2022-06-22T04:22:33.716Z"
   },
   {
    "duration": 341,
    "start_time": "2022-06-22T04:22:40.868Z"
   },
   {
    "duration": 45,
    "start_time": "2022-06-22T11:48:13.694Z"
   },
   {
    "duration": 4,
    "start_time": "2022-06-22T11:48:20.620Z"
   },
   {
    "duration": 4,
    "start_time": "2022-06-22T11:48:53.944Z"
   },
   {
    "duration": 3,
    "start_time": "2022-06-22T11:49:18.040Z"
   },
   {
    "duration": 14,
    "start_time": "2022-06-22T11:50:25.497Z"
   },
   {
    "duration": 8,
    "start_time": "2022-06-22T12:20:11.850Z"
   },
   {
    "duration": 1265,
    "start_time": "2022-06-22T12:20:17.893Z"
   },
   {
    "duration": 3,
    "start_time": "2022-06-22T12:20:19.160Z"
   },
   {
    "duration": 99,
    "start_time": "2022-06-22T12:20:19.165Z"
   },
   {
    "duration": 15,
    "start_time": "2022-06-22T12:20:19.267Z"
   },
   {
    "duration": 29,
    "start_time": "2022-06-22T12:20:19.284Z"
   },
   {
    "duration": 13,
    "start_time": "2022-06-22T12:20:19.314Z"
   },
   {
    "duration": 2,
    "start_time": "2022-06-22T12:20:19.329Z"
   },
   {
    "duration": 34,
    "start_time": "2022-06-22T12:20:19.332Z"
   },
   {
    "duration": 15,
    "start_time": "2022-06-22T12:20:19.367Z"
   },
   {
    "duration": 6,
    "start_time": "2022-06-22T12:20:19.384Z"
   },
   {
    "duration": 4,
    "start_time": "2022-06-22T12:20:19.391Z"
   },
   {
    "duration": 11,
    "start_time": "2022-06-22T12:20:19.397Z"
   },
   {
    "duration": 14,
    "start_time": "2022-06-22T12:20:19.409Z"
   },
   {
    "duration": 14,
    "start_time": "2022-06-22T12:20:19.425Z"
   },
   {
    "duration": 25,
    "start_time": "2022-06-22T12:20:19.441Z"
   },
   {
    "duration": 27,
    "start_time": "2022-06-22T12:20:19.468Z"
   },
   {
    "duration": 5,
    "start_time": "2022-06-22T12:20:19.497Z"
   },
   {
    "duration": 12,
    "start_time": "2022-06-22T12:20:19.503Z"
   },
   {
    "duration": 4,
    "start_time": "2022-06-22T12:20:19.516Z"
   },
   {
    "duration": 8,
    "start_time": "2022-06-22T12:20:19.521Z"
   },
   {
    "duration": 20,
    "start_time": "2022-06-22T12:20:19.530Z"
   },
   {
    "duration": 24,
    "start_time": "2022-06-22T12:20:19.553Z"
   },
   {
    "duration": 414,
    "start_time": "2022-06-22T12:20:19.579Z"
   },
   {
    "duration": 15,
    "start_time": "2022-06-22T12:20:19.995Z"
   },
   {
    "duration": 7,
    "start_time": "2022-06-22T12:20:20.012Z"
   },
   {
    "duration": 7,
    "start_time": "2022-06-22T12:21:01.992Z"
   },
   {
    "duration": 93,
    "start_time": "2022-06-22T12:22:37.593Z"
   },
   {
    "duration": 827,
    "start_time": "2022-06-22T12:22:46.886Z"
   },
   {
    "duration": 14,
    "start_time": "2022-06-22T12:22:57.957Z"
   },
   {
    "duration": 12,
    "start_time": "2022-06-22T12:23:12.313Z"
   },
   {
    "duration": 12,
    "start_time": "2022-06-22T12:23:17.209Z"
   },
   {
    "duration": 810,
    "start_time": "2022-06-22T12:23:19.495Z"
   },
   {
    "duration": 477,
    "start_time": "2022-06-22T12:23:31.309Z"
   },
   {
    "duration": 446,
    "start_time": "2022-06-22T12:24:03.207Z"
   },
   {
    "duration": 9,
    "start_time": "2022-06-22T12:24:53.809Z"
   },
   {
    "duration": 19,
    "start_time": "2022-06-22T12:24:57.003Z"
   },
   {
    "duration": 47,
    "start_time": "2022-06-22T12:29:49.767Z"
   },
   {
    "duration": 9,
    "start_time": "2022-06-22T12:30:00.045Z"
   },
   {
    "duration": 630,
    "start_time": "2022-06-22T12:30:11.487Z"
   },
   {
    "duration": 587,
    "start_time": "2022-06-22T12:30:20.334Z"
   },
   {
    "duration": 59,
    "start_time": "2022-06-22T12:32:37.292Z"
   },
   {
    "duration": 24,
    "start_time": "2022-06-22T12:35:00.650Z"
   },
   {
    "duration": 8,
    "start_time": "2022-06-22T12:35:04.800Z"
   },
   {
    "duration": 1137,
    "start_time": "2022-06-22T12:35:09.417Z"
   },
   {
    "duration": 3,
    "start_time": "2022-06-22T12:35:10.556Z"
   },
   {
    "duration": 68,
    "start_time": "2022-06-22T12:35:10.561Z"
   },
   {
    "duration": 16,
    "start_time": "2022-06-22T12:35:10.631Z"
   },
   {
    "duration": 33,
    "start_time": "2022-06-22T12:35:10.650Z"
   },
   {
    "duration": 14,
    "start_time": "2022-06-22T12:35:10.685Z"
   },
   {
    "duration": 4,
    "start_time": "2022-06-22T12:35:10.701Z"
   },
   {
    "duration": 22,
    "start_time": "2022-06-22T12:35:10.706Z"
   },
   {
    "duration": 27,
    "start_time": "2022-06-22T12:35:10.730Z"
   },
   {
    "duration": 8,
    "start_time": "2022-06-22T12:35:10.759Z"
   },
   {
    "duration": 8,
    "start_time": "2022-06-22T12:35:10.768Z"
   },
   {
    "duration": 10,
    "start_time": "2022-06-22T12:35:10.777Z"
   },
   {
    "duration": 13,
    "start_time": "2022-06-22T12:35:10.789Z"
   },
   {
    "duration": 15,
    "start_time": "2022-06-22T12:35:10.805Z"
   },
   {
    "duration": 35,
    "start_time": "2022-06-22T12:35:10.821Z"
   },
   {
    "duration": 9,
    "start_time": "2022-06-22T12:35:10.858Z"
   },
   {
    "duration": 13,
    "start_time": "2022-06-22T12:35:10.868Z"
   },
   {
    "duration": 12,
    "start_time": "2022-06-22T12:35:10.883Z"
   },
   {
    "duration": 4,
    "start_time": "2022-06-22T12:35:10.897Z"
   },
   {
    "duration": 6,
    "start_time": "2022-06-22T12:35:10.903Z"
   },
   {
    "duration": 13,
    "start_time": "2022-06-22T12:35:10.911Z"
   },
   {
    "duration": 40,
    "start_time": "2022-06-22T12:35:10.926Z"
   },
   {
    "duration": 422,
    "start_time": "2022-06-22T12:35:10.968Z"
   },
   {
    "duration": 18,
    "start_time": "2022-06-22T12:35:11.392Z"
   },
   {
    "duration": 8,
    "start_time": "2022-06-22T12:35:11.412Z"
   },
   {
    "duration": 468,
    "start_time": "2022-06-22T12:35:11.422Z"
   },
   {
    "duration": 16,
    "start_time": "2022-06-22T12:35:11.892Z"
   },
   {
    "duration": 634,
    "start_time": "2022-06-22T12:35:11.909Z"
   },
   {
    "duration": 21,
    "start_time": "2022-06-22T12:36:49.245Z"
   },
   {
    "duration": 1209,
    "start_time": "2022-06-22T12:36:55.534Z"
   },
   {
    "duration": 3,
    "start_time": "2022-06-22T12:36:56.745Z"
   },
   {
    "duration": 61,
    "start_time": "2022-06-22T12:36:56.749Z"
   },
   {
    "duration": 17,
    "start_time": "2022-06-22T12:36:56.812Z"
   },
   {
    "duration": 29,
    "start_time": "2022-06-22T12:36:56.832Z"
   },
   {
    "duration": 15,
    "start_time": "2022-06-22T12:36:56.864Z"
   },
   {
    "duration": 3,
    "start_time": "2022-06-22T12:36:56.880Z"
   },
   {
    "duration": 17,
    "start_time": "2022-06-22T12:36:56.885Z"
   },
   {
    "duration": 21,
    "start_time": "2022-06-22T12:36:56.904Z"
   },
   {
    "duration": 28,
    "start_time": "2022-06-22T12:36:56.927Z"
   },
   {
    "duration": 4,
    "start_time": "2022-06-22T12:36:56.956Z"
   },
   {
    "duration": 11,
    "start_time": "2022-06-22T12:36:56.963Z"
   },
   {
    "duration": 24,
    "start_time": "2022-06-22T12:36:56.976Z"
   },
   {
    "duration": 30,
    "start_time": "2022-06-22T12:36:57.004Z"
   },
   {
    "duration": 17,
    "start_time": "2022-06-22T12:36:57.036Z"
   },
   {
    "duration": 15,
    "start_time": "2022-06-22T12:36:57.055Z"
   },
   {
    "duration": 10,
    "start_time": "2022-06-22T12:36:57.071Z"
   },
   {
    "duration": 20,
    "start_time": "2022-06-22T12:36:57.082Z"
   },
   {
    "duration": 6,
    "start_time": "2022-06-22T12:36:57.104Z"
   },
   {
    "duration": 11,
    "start_time": "2022-06-22T12:36:57.111Z"
   },
   {
    "duration": 19,
    "start_time": "2022-06-22T12:36:57.123Z"
   },
   {
    "duration": 20,
    "start_time": "2022-06-22T12:36:57.145Z"
   },
   {
    "duration": 429,
    "start_time": "2022-06-22T12:36:57.166Z"
   },
   {
    "duration": 16,
    "start_time": "2022-06-22T12:36:57.597Z"
   },
   {
    "duration": 7,
    "start_time": "2022-06-22T12:36:57.615Z"
   },
   {
    "duration": 513,
    "start_time": "2022-06-22T12:36:57.624Z"
   },
   {
    "duration": 22,
    "start_time": "2022-06-22T12:36:58.140Z"
   },
   {
    "duration": 633,
    "start_time": "2022-06-22T12:36:58.164Z"
   },
   {
    "duration": 16,
    "start_time": "2022-06-22T12:37:33.817Z"
   },
   {
    "duration": 8,
    "start_time": "2022-06-22T12:37:41.328Z"
   },
   {
    "duration": 1109,
    "start_time": "2022-06-22T12:37:46.839Z"
   },
   {
    "duration": 3,
    "start_time": "2022-06-22T12:37:47.952Z"
   },
   {
    "duration": 82,
    "start_time": "2022-06-22T12:37:47.956Z"
   },
   {
    "duration": 19,
    "start_time": "2022-06-22T12:37:48.041Z"
   },
   {
    "duration": 70,
    "start_time": "2022-06-22T12:37:48.062Z"
   },
   {
    "duration": 20,
    "start_time": "2022-06-22T12:37:48.135Z"
   },
   {
    "duration": 28,
    "start_time": "2022-06-22T12:37:48.157Z"
   },
   {
    "duration": 41,
    "start_time": "2022-06-22T12:37:48.187Z"
   },
   {
    "duration": 27,
    "start_time": "2022-06-22T12:37:48.230Z"
   },
   {
    "duration": 7,
    "start_time": "2022-06-22T12:37:48.261Z"
   },
   {
    "duration": 15,
    "start_time": "2022-06-22T12:37:48.270Z"
   },
   {
    "duration": 25,
    "start_time": "2022-06-22T12:37:48.288Z"
   },
   {
    "duration": 21,
    "start_time": "2022-06-22T12:37:48.315Z"
   },
   {
    "duration": 18,
    "start_time": "2022-06-22T12:37:48.338Z"
   },
   {
    "duration": 25,
    "start_time": "2022-06-22T12:37:48.358Z"
   },
   {
    "duration": 29,
    "start_time": "2022-06-22T12:37:48.385Z"
   },
   {
    "duration": 21,
    "start_time": "2022-06-22T12:37:48.416Z"
   },
   {
    "duration": 28,
    "start_time": "2022-06-22T12:37:48.439Z"
   },
   {
    "duration": 20,
    "start_time": "2022-06-22T12:37:48.470Z"
   },
   {
    "duration": 58,
    "start_time": "2022-06-22T12:37:48.492Z"
   },
   {
    "duration": 33,
    "start_time": "2022-06-22T12:37:48.551Z"
   },
   {
    "duration": 28,
    "start_time": "2022-06-22T12:37:48.586Z"
   },
   {
    "duration": 523,
    "start_time": "2022-06-22T12:37:48.616Z"
   },
   {
    "duration": 20,
    "start_time": "2022-06-22T12:37:49.141Z"
   },
   {
    "duration": 8,
    "start_time": "2022-06-22T12:37:49.163Z"
   },
   {
    "duration": 460,
    "start_time": "2022-06-22T12:37:49.172Z"
   },
   {
    "duration": 21,
    "start_time": "2022-06-22T12:37:49.633Z"
   },
   {
    "duration": 607,
    "start_time": "2022-06-22T12:37:49.658Z"
   },
   {
    "duration": 101,
    "start_time": "2022-06-22T12:39:59.324Z"
   },
   {
    "duration": 2995,
    "start_time": "2022-06-22T12:40:05.867Z"
   },
   {
    "duration": 15,
    "start_time": "2022-06-22T12:42:19.483Z"
   },
   {
    "duration": 3007,
    "start_time": "2022-06-22T12:42:40.912Z"
   },
   {
    "duration": 9,
    "start_time": "2022-06-22T12:42:46.305Z"
   },
   {
    "duration": 462,
    "start_time": "2022-06-22T12:42:51.257Z"
   },
   {
    "duration": 33,
    "start_time": "2022-06-22T12:46:10.449Z"
   },
   {
    "duration": 31,
    "start_time": "2022-06-22T12:46:21.439Z"
   },
   {
    "duration": 30,
    "start_time": "2022-06-22T12:46:47.625Z"
   },
   {
    "duration": 15,
    "start_time": "2022-06-22T12:47:41.075Z"
   },
   {
    "duration": 16,
    "start_time": "2022-06-22T12:48:09.304Z"
   },
   {
    "duration": 10,
    "start_time": "2022-06-22T12:50:33.914Z"
   },
   {
    "duration": 12,
    "start_time": "2022-06-22T12:50:40.902Z"
   },
   {
    "duration": 11,
    "start_time": "2022-06-22T12:50:44.116Z"
   },
   {
    "duration": 10,
    "start_time": "2022-06-22T12:51:02.503Z"
   },
   {
    "duration": 54,
    "start_time": "2022-06-22T12:52:13.723Z"
   },
   {
    "duration": 7,
    "start_time": "2022-06-22T12:52:17.811Z"
   },
   {
    "duration": 1245,
    "start_time": "2022-06-22T12:52:24.364Z"
   },
   {
    "duration": 3,
    "start_time": "2022-06-22T12:52:25.611Z"
   },
   {
    "duration": 103,
    "start_time": "2022-06-22T12:52:25.616Z"
   },
   {
    "duration": 18,
    "start_time": "2022-06-22T12:52:25.721Z"
   },
   {
    "duration": 30,
    "start_time": "2022-06-22T12:52:25.740Z"
   },
   {
    "duration": 17,
    "start_time": "2022-06-22T12:52:25.771Z"
   },
   {
    "duration": 12,
    "start_time": "2022-06-22T12:52:25.790Z"
   },
   {
    "duration": 28,
    "start_time": "2022-06-22T12:52:25.803Z"
   },
   {
    "duration": 31,
    "start_time": "2022-06-22T12:52:25.832Z"
   },
   {
    "duration": 9,
    "start_time": "2022-06-22T12:52:25.866Z"
   },
   {
    "duration": 22,
    "start_time": "2022-06-22T12:52:25.876Z"
   },
   {
    "duration": 20,
    "start_time": "2022-06-22T12:52:25.900Z"
   },
   {
    "duration": 32,
    "start_time": "2022-06-22T12:52:25.922Z"
   },
   {
    "duration": 17,
    "start_time": "2022-06-22T12:52:25.956Z"
   },
   {
    "duration": 31,
    "start_time": "2022-06-22T12:52:25.974Z"
   },
   {
    "duration": 39,
    "start_time": "2022-06-22T12:52:26.007Z"
   },
   {
    "duration": 16,
    "start_time": "2022-06-22T12:52:26.047Z"
   },
   {
    "duration": 37,
    "start_time": "2022-06-22T12:52:26.064Z"
   },
   {
    "duration": 21,
    "start_time": "2022-06-22T12:52:26.103Z"
   },
   {
    "duration": 25,
    "start_time": "2022-06-22T12:52:26.126Z"
   },
   {
    "duration": 35,
    "start_time": "2022-06-22T12:52:26.153Z"
   },
   {
    "duration": 37,
    "start_time": "2022-06-22T12:52:26.189Z"
   },
   {
    "duration": 452,
    "start_time": "2022-06-22T12:52:26.229Z"
   },
   {
    "duration": 16,
    "start_time": "2022-06-22T12:52:26.683Z"
   },
   {
    "duration": 8,
    "start_time": "2022-06-22T12:52:26.701Z"
   },
   {
    "duration": 489,
    "start_time": "2022-06-22T12:52:26.710Z"
   },
   {
    "duration": 16,
    "start_time": "2022-06-22T12:52:27.201Z"
   },
   {
    "duration": 617,
    "start_time": "2022-06-22T12:52:27.220Z"
   },
   {
    "duration": 3120,
    "start_time": "2022-06-22T12:52:27.838Z"
   },
   {
    "duration": 16,
    "start_time": "2022-06-22T12:52:30.961Z"
   },
   {
    "duration": 587,
    "start_time": "2022-06-22T12:52:30.979Z"
   },
   {
    "duration": 15,
    "start_time": "2022-06-22T12:52:31.569Z"
   },
   {
    "duration": 16,
    "start_time": "2022-06-22T12:52:31.586Z"
   },
   {
    "duration": 115,
    "start_time": "2022-06-22T12:52:31.604Z"
   },
   {
    "duration": 12,
    "start_time": "2022-06-22T12:52:50.968Z"
   },
   {
    "duration": 15,
    "start_time": "2022-06-22T12:53:20.315Z"
   },
   {
    "duration": 1335,
    "start_time": "2022-06-23T04:56:12.260Z"
   },
   {
    "duration": 3,
    "start_time": "2022-06-23T04:56:13.598Z"
   },
   {
    "duration": 118,
    "start_time": "2022-06-23T04:56:13.602Z"
   },
   {
    "duration": 18,
    "start_time": "2022-06-23T04:56:13.722Z"
   },
   {
    "duration": 36,
    "start_time": "2022-06-23T04:56:13.742Z"
   },
   {
    "duration": 21,
    "start_time": "2022-06-23T04:56:13.780Z"
   },
   {
    "duration": 4,
    "start_time": "2022-06-23T04:56:13.803Z"
   },
   {
    "duration": 30,
    "start_time": "2022-06-23T04:56:13.809Z"
   },
   {
    "duration": 24,
    "start_time": "2022-06-23T04:56:13.840Z"
   },
   {
    "duration": 6,
    "start_time": "2022-06-23T04:56:13.865Z"
   },
   {
    "duration": 6,
    "start_time": "2022-06-23T04:56:13.873Z"
   },
   {
    "duration": 11,
    "start_time": "2022-06-23T04:56:13.880Z"
   },
   {
    "duration": 24,
    "start_time": "2022-06-23T04:56:13.892Z"
   },
   {
    "duration": 18,
    "start_time": "2022-06-23T04:56:13.929Z"
   },
   {
    "duration": 17,
    "start_time": "2022-06-23T04:56:13.949Z"
   },
   {
    "duration": 9,
    "start_time": "2022-06-23T04:56:13.968Z"
   },
   {
    "duration": 4,
    "start_time": "2022-06-23T04:56:13.979Z"
   },
   {
    "duration": 11,
    "start_time": "2022-06-23T04:56:13.985Z"
   },
   {
    "duration": 4,
    "start_time": "2022-06-23T04:56:13.997Z"
   },
   {
    "duration": 16,
    "start_time": "2022-06-23T04:56:14.027Z"
   },
   {
    "duration": 14,
    "start_time": "2022-06-23T04:56:14.045Z"
   },
   {
    "duration": 20,
    "start_time": "2022-06-23T04:56:14.061Z"
   },
   {
    "duration": 426,
    "start_time": "2022-06-23T04:56:14.083Z"
   },
   {
    "duration": 27,
    "start_time": "2022-06-23T04:56:14.511Z"
   },
   {
    "duration": 16,
    "start_time": "2022-06-23T04:56:14.540Z"
   },
   {
    "duration": 516,
    "start_time": "2022-06-23T04:56:14.558Z"
   },
   {
    "duration": 14,
    "start_time": "2022-06-23T04:56:15.075Z"
   },
   {
    "duration": 661,
    "start_time": "2022-06-23T04:56:15.090Z"
   },
   {
    "duration": 3019,
    "start_time": "2022-06-23T04:56:15.753Z"
   },
   {
    "duration": 13,
    "start_time": "2022-06-23T04:56:18.774Z"
   },
   {
    "duration": 515,
    "start_time": "2022-06-23T04:56:18.789Z"
   },
   {
    "duration": 29,
    "start_time": "2022-06-23T04:56:19.306Z"
   },
   {
    "duration": 17,
    "start_time": "2022-06-23T04:56:19.343Z"
   },
   {
    "duration": 121,
    "start_time": "2022-06-23T04:56:19.362Z"
   },
   {
    "duration": 1183,
    "start_time": "2022-06-23T05:06:45.471Z"
   },
   {
    "duration": 3,
    "start_time": "2022-06-23T05:06:46.659Z"
   },
   {
    "duration": 76,
    "start_time": "2022-06-23T05:06:46.664Z"
   },
   {
    "duration": 17,
    "start_time": "2022-06-23T05:06:46.742Z"
   },
   {
    "duration": 29,
    "start_time": "2022-06-23T05:06:46.761Z"
   },
   {
    "duration": 14,
    "start_time": "2022-06-23T05:06:46.792Z"
   },
   {
    "duration": 30,
    "start_time": "2022-06-23T05:06:46.808Z"
   },
   {
    "duration": 25,
    "start_time": "2022-06-23T05:06:46.842Z"
   },
   {
    "duration": 18,
    "start_time": "2022-06-23T05:06:46.868Z"
   },
   {
    "duration": 13,
    "start_time": "2022-06-23T05:06:46.890Z"
   },
   {
    "duration": 7,
    "start_time": "2022-06-23T05:06:46.904Z"
   },
   {
    "duration": 7,
    "start_time": "2022-06-23T05:06:46.913Z"
   },
   {
    "duration": 31,
    "start_time": "2022-06-23T05:06:46.926Z"
   },
   {
    "duration": 13,
    "start_time": "2022-06-23T05:06:46.959Z"
   },
   {
    "duration": 16,
    "start_time": "2022-06-23T05:06:46.974Z"
   },
   {
    "duration": 10,
    "start_time": "2022-06-23T05:06:46.992Z"
   },
   {
    "duration": 5,
    "start_time": "2022-06-23T05:06:47.003Z"
   },
   {
    "duration": 33,
    "start_time": "2022-06-23T05:06:47.010Z"
   },
   {
    "duration": 12,
    "start_time": "2022-06-23T05:06:47.045Z"
   },
   {
    "duration": 9,
    "start_time": "2022-06-23T05:06:47.060Z"
   },
   {
    "duration": 15,
    "start_time": "2022-06-23T05:06:47.071Z"
   },
   {
    "duration": 14,
    "start_time": "2022-06-23T05:06:47.088Z"
   },
   {
    "duration": 487,
    "start_time": "2022-06-23T05:06:47.104Z"
   },
   {
    "duration": 16,
    "start_time": "2022-06-23T05:06:47.593Z"
   },
   {
    "duration": 38,
    "start_time": "2022-06-23T05:06:47.611Z"
   },
   {
    "duration": 461,
    "start_time": "2022-06-23T05:06:47.651Z"
   },
   {
    "duration": 32,
    "start_time": "2022-06-23T05:06:48.114Z"
   },
   {
    "duration": 681,
    "start_time": "2022-06-23T05:06:48.149Z"
   },
   {
    "duration": 3107,
    "start_time": "2022-06-23T05:06:48.832Z"
   },
   {
    "duration": 16,
    "start_time": "2022-06-23T05:06:51.943Z"
   },
   {
    "duration": 510,
    "start_time": "2022-06-23T05:06:51.962Z"
   },
   {
    "duration": 15,
    "start_time": "2022-06-23T05:06:52.474Z"
   },
   {
    "duration": 14,
    "start_time": "2022-06-23T05:06:52.491Z"
   },
   {
    "duration": 138,
    "start_time": "2022-06-23T05:06:52.507Z"
   },
   {
    "duration": 15,
    "start_time": "2022-06-23T05:07:34.886Z"
   },
   {
    "duration": 14,
    "start_time": "2022-06-23T05:07:59.349Z"
   },
   {
    "duration": 20,
    "start_time": "2022-06-23T05:08:01.691Z"
   },
   {
    "duration": 23,
    "start_time": "2022-06-23T05:08:28.019Z"
   },
   {
    "duration": 12,
    "start_time": "2022-06-23T05:08:54.360Z"
   },
   {
    "duration": 1327,
    "start_time": "2022-06-23T05:09:05.759Z"
   },
   {
    "duration": 3,
    "start_time": "2022-06-23T05:09:07.088Z"
   },
   {
    "duration": 76,
    "start_time": "2022-06-23T05:09:07.093Z"
   },
   {
    "duration": 22,
    "start_time": "2022-06-23T05:09:07.172Z"
   },
   {
    "duration": 54,
    "start_time": "2022-06-23T05:09:07.197Z"
   },
   {
    "duration": 21,
    "start_time": "2022-06-23T05:09:07.253Z"
   },
   {
    "duration": 4,
    "start_time": "2022-06-23T05:09:07.276Z"
   },
   {
    "duration": 22,
    "start_time": "2022-06-23T05:09:07.282Z"
   },
   {
    "duration": 30,
    "start_time": "2022-06-23T05:09:07.306Z"
   },
   {
    "duration": 7,
    "start_time": "2022-06-23T05:09:07.337Z"
   },
   {
    "duration": 13,
    "start_time": "2022-06-23T05:09:07.345Z"
   },
   {
    "duration": 8,
    "start_time": "2022-06-23T05:09:07.360Z"
   },
   {
    "duration": 20,
    "start_time": "2022-06-23T05:09:07.370Z"
   },
   {
    "duration": 45,
    "start_time": "2022-06-23T05:09:07.394Z"
   },
   {
    "duration": 20,
    "start_time": "2022-06-23T05:09:07.446Z"
   },
   {
    "duration": 13,
    "start_time": "2022-06-23T05:09:07.468Z"
   },
   {
    "duration": 34,
    "start_time": "2022-06-23T05:09:07.483Z"
   },
   {
    "duration": 26,
    "start_time": "2022-06-23T05:09:07.519Z"
   },
   {
    "duration": 12,
    "start_time": "2022-06-23T05:09:07.546Z"
   },
   {
    "duration": 9,
    "start_time": "2022-06-23T05:09:07.560Z"
   },
   {
    "duration": 13,
    "start_time": "2022-06-23T05:09:07.572Z"
   },
   {
    "duration": 26,
    "start_time": "2022-06-23T05:09:07.587Z"
   },
   {
    "duration": 485,
    "start_time": "2022-06-23T05:09:07.615Z"
   },
   {
    "duration": 27,
    "start_time": "2022-06-23T05:09:08.102Z"
   },
   {
    "duration": 11,
    "start_time": "2022-06-23T05:09:08.130Z"
   },
   {
    "duration": 504,
    "start_time": "2022-06-23T05:09:08.144Z"
   },
   {
    "duration": 15,
    "start_time": "2022-06-23T05:09:08.650Z"
   },
   {
    "duration": 671,
    "start_time": "2022-06-23T05:09:08.667Z"
   },
   {
    "duration": 3099,
    "start_time": "2022-06-23T05:09:09.342Z"
   },
   {
    "duration": 15,
    "start_time": "2022-06-23T05:09:12.443Z"
   },
   {
    "duration": 490,
    "start_time": "2022-06-23T05:09:12.460Z"
   },
   {
    "duration": 15,
    "start_time": "2022-06-23T05:09:12.951Z"
   },
   {
    "duration": 14,
    "start_time": "2022-06-23T05:09:12.967Z"
   },
   {
    "duration": 136,
    "start_time": "2022-06-23T05:09:12.983Z"
   },
   {
    "duration": 57,
    "start_time": "2022-06-23T05:20:26.484Z"
   },
   {
    "duration": 908,
    "start_time": "2022-06-23T05:20:31.517Z"
   },
   {
    "duration": 965,
    "start_time": "2022-06-23T05:20:35.659Z"
   },
   {
    "duration": 938,
    "start_time": "2022-06-23T05:21:26.107Z"
   },
   {
    "duration": 87,
    "start_time": "2022-06-23T05:21:38.323Z"
   },
   {
    "duration": 87,
    "start_time": "2022-06-23T05:22:30.196Z"
   },
   {
    "duration": 48,
    "start_time": "2022-06-23T05:22:40.980Z"
   },
   {
    "duration": 21,
    "start_time": "2022-06-23T05:27:25.420Z"
   },
   {
    "duration": 12,
    "start_time": "2022-06-23T05:27:36.654Z"
   },
   {
    "duration": 46,
    "start_time": "2022-06-23T05:27:52.548Z"
   },
   {
    "duration": 11,
    "start_time": "2022-06-23T05:28:42.901Z"
   },
   {
    "duration": 304,
    "start_time": "2022-06-23T05:28:51.495Z"
   },
   {
    "duration": 356,
    "start_time": "2022-06-23T05:29:11.550Z"
   },
   {
    "duration": 331,
    "start_time": "2022-06-23T05:29:38.302Z"
   },
   {
    "duration": 410,
    "start_time": "2022-06-23T05:29:50.907Z"
   },
   {
    "duration": 15,
    "start_time": "2022-06-23T05:47:01.154Z"
   },
   {
    "duration": 18,
    "start_time": "2022-06-23T05:47:38.611Z"
   },
   {
    "duration": 817,
    "start_time": "2022-06-23T05:47:47.350Z"
   },
   {
    "duration": 49,
    "start_time": "2022-06-23T05:47:53.800Z"
   },
   {
    "duration": 1141,
    "start_time": "2022-06-23T05:49:44.549Z"
   },
   {
    "duration": 2,
    "start_time": "2022-06-23T05:49:45.692Z"
   },
   {
    "duration": 76,
    "start_time": "2022-06-23T05:49:45.696Z"
   },
   {
    "duration": 15,
    "start_time": "2022-06-23T05:49:45.774Z"
   },
   {
    "duration": 27,
    "start_time": "2022-06-23T05:49:45.791Z"
   },
   {
    "duration": 23,
    "start_time": "2022-06-23T05:49:45.819Z"
   },
   {
    "duration": 9,
    "start_time": "2022-06-23T05:49:45.844Z"
   },
   {
    "duration": 15,
    "start_time": "2022-06-23T05:49:45.855Z"
   },
   {
    "duration": 18,
    "start_time": "2022-06-23T05:49:45.871Z"
   },
   {
    "duration": 5,
    "start_time": "2022-06-23T05:49:45.891Z"
   },
   {
    "duration": 11,
    "start_time": "2022-06-23T05:49:45.898Z"
   },
   {
    "duration": 7,
    "start_time": "2022-06-23T05:49:45.910Z"
   },
   {
    "duration": 20,
    "start_time": "2022-06-23T05:49:45.918Z"
   },
   {
    "duration": 17,
    "start_time": "2022-06-23T05:49:45.942Z"
   },
   {
    "duration": 17,
    "start_time": "2022-06-23T05:49:45.961Z"
   },
   {
    "duration": 8,
    "start_time": "2022-06-23T05:49:45.979Z"
   },
   {
    "duration": 6,
    "start_time": "2022-06-23T05:49:45.988Z"
   },
   {
    "duration": 47,
    "start_time": "2022-06-23T05:49:45.995Z"
   },
   {
    "duration": 4,
    "start_time": "2022-06-23T05:49:46.044Z"
   },
   {
    "duration": 37,
    "start_time": "2022-06-23T05:49:46.049Z"
   },
   {
    "duration": 19,
    "start_time": "2022-06-23T05:49:46.089Z"
   },
   {
    "duration": 34,
    "start_time": "2022-06-23T05:49:46.109Z"
   },
   {
    "duration": 491,
    "start_time": "2022-06-23T05:49:46.145Z"
   },
   {
    "duration": 15,
    "start_time": "2022-06-23T05:49:46.638Z"
   },
   {
    "duration": 57,
    "start_time": "2022-06-23T05:49:46.655Z"
   },
   {
    "duration": 334,
    "start_time": "2022-06-23T05:49:46.714Z"
   },
   {
    "duration": 14,
    "start_time": "2022-06-23T05:49:47.050Z"
   },
   {
    "duration": 448,
    "start_time": "2022-06-23T05:49:47.066Z"
   },
   {
    "duration": 21,
    "start_time": "2022-06-23T05:49:47.516Z"
   },
   {
    "duration": 567,
    "start_time": "2022-06-23T05:49:47.540Z"
   },
   {
    "duration": 3051,
    "start_time": "2022-06-23T05:49:48.109Z"
   },
   {
    "duration": 14,
    "start_time": "2022-06-23T05:49:51.162Z"
   },
   {
    "duration": 501,
    "start_time": "2022-06-23T05:49:51.178Z"
   },
   {
    "duration": 18,
    "start_time": "2022-06-23T05:49:51.681Z"
   },
   {
    "duration": 13,
    "start_time": "2022-06-23T05:49:51.700Z"
   },
   {
    "duration": 123,
    "start_time": "2022-06-23T05:49:51.734Z"
   },
   {
    "duration": 0,
    "start_time": "2022-06-23T05:49:51.859Z"
   },
   {
    "duration": 0,
    "start_time": "2022-06-23T05:49:51.860Z"
   },
   {
    "duration": 89,
    "start_time": "2022-06-23T05:53:26.566Z"
   },
   {
    "duration": 99,
    "start_time": "2022-06-23T05:54:16.662Z"
   },
   {
    "duration": 1916,
    "start_time": "2022-06-23T05:58:34.007Z"
   },
   {
    "duration": 5,
    "start_time": "2022-06-23T06:13:51.990Z"
   },
   {
    "duration": 7,
    "start_time": "2022-06-23T06:13:54.084Z"
   },
   {
    "duration": 8,
    "start_time": "2022-06-23T06:13:57.878Z"
   },
   {
    "duration": 20,
    "start_time": "2022-06-23T06:14:01.580Z"
   },
   {
    "duration": 662,
    "start_time": "2022-06-23T06:34:01.380Z"
   },
   {
    "duration": 73,
    "start_time": "2022-06-23T07:54:54.523Z"
   },
   {
    "duration": 44,
    "start_time": "2022-06-23T07:54:58.170Z"
   },
   {
    "duration": 359,
    "start_time": "2022-06-23T07:55:11.712Z"
   },
   {
    "duration": 293,
    "start_time": "2022-06-23T07:55:32.416Z"
   },
   {
    "duration": 322,
    "start_time": "2022-06-23T07:55:48.792Z"
   },
   {
    "duration": 321,
    "start_time": "2022-06-23T07:56:02.600Z"
   },
   {
    "duration": 320,
    "start_time": "2022-06-23T07:56:12.080Z"
   },
   {
    "duration": 604,
    "start_time": "2022-06-23T07:56:20.532Z"
   },
   {
    "duration": 300,
    "start_time": "2022-06-23T08:02:40.453Z"
   },
   {
    "duration": 341,
    "start_time": "2022-06-23T08:02:56.593Z"
   },
   {
    "duration": 310,
    "start_time": "2022-06-23T08:03:24.347Z"
   },
   {
    "duration": 1270,
    "start_time": "2022-06-23T08:03:55.874Z"
   },
   {
    "duration": 4,
    "start_time": "2022-06-23T08:03:57.146Z"
   },
   {
    "duration": 75,
    "start_time": "2022-06-23T08:03:57.155Z"
   },
   {
    "duration": 24,
    "start_time": "2022-06-23T08:03:57.243Z"
   },
   {
    "duration": 37,
    "start_time": "2022-06-23T08:03:57.270Z"
   },
   {
    "duration": 14,
    "start_time": "2022-06-23T08:03:57.309Z"
   },
   {
    "duration": 7,
    "start_time": "2022-06-23T08:03:57.325Z"
   },
   {
    "duration": 43,
    "start_time": "2022-06-23T08:03:57.336Z"
   },
   {
    "duration": 15,
    "start_time": "2022-06-23T08:03:57.381Z"
   },
   {
    "duration": 6,
    "start_time": "2022-06-23T08:03:57.398Z"
   },
   {
    "duration": 4,
    "start_time": "2022-06-23T08:03:57.406Z"
   },
   {
    "duration": 8,
    "start_time": "2022-06-23T08:03:57.411Z"
   },
   {
    "duration": 20,
    "start_time": "2022-06-23T08:03:57.420Z"
   },
   {
    "duration": 29,
    "start_time": "2022-06-23T08:03:57.443Z"
   },
   {
    "duration": 14,
    "start_time": "2022-06-23T08:03:57.473Z"
   },
   {
    "duration": 8,
    "start_time": "2022-06-23T08:03:57.489Z"
   },
   {
    "duration": 5,
    "start_time": "2022-06-23T08:03:57.499Z"
   },
   {
    "duration": 13,
    "start_time": "2022-06-23T08:03:57.505Z"
   },
   {
    "duration": 19,
    "start_time": "2022-06-23T08:03:57.520Z"
   },
   {
    "duration": 22,
    "start_time": "2022-06-23T08:03:57.541Z"
   },
   {
    "duration": 11,
    "start_time": "2022-06-23T08:03:57.565Z"
   },
   {
    "duration": 13,
    "start_time": "2022-06-23T08:03:57.578Z"
   },
   {
    "duration": 448,
    "start_time": "2022-06-23T08:03:57.593Z"
   },
   {
    "duration": 19,
    "start_time": "2022-06-23T08:03:58.045Z"
   },
   {
    "duration": 47,
    "start_time": "2022-06-23T08:03:58.066Z"
   },
   {
    "duration": 348,
    "start_time": "2022-06-23T08:03:58.115Z"
   },
   {
    "duration": 15,
    "start_time": "2022-06-23T08:03:58.464Z"
   },
   {
    "duration": 528,
    "start_time": "2022-06-23T08:03:58.480Z"
   },
   {
    "duration": 37,
    "start_time": "2022-06-23T08:03:59.010Z"
   },
   {
    "duration": 612,
    "start_time": "2022-06-23T08:03:59.053Z"
   },
   {
    "duration": 1902,
    "start_time": "2022-06-23T08:03:59.667Z"
   },
   {
    "duration": 14,
    "start_time": "2022-06-23T08:04:01.571Z"
   },
   {
    "duration": 523,
    "start_time": "2022-06-23T08:04:01.586Z"
   },
   {
    "duration": 1103,
    "start_time": "2022-06-23T08:04:02.111Z"
   },
   {
    "duration": 0,
    "start_time": "2022-06-23T08:04:03.215Z"
   },
   {
    "duration": 0,
    "start_time": "2022-06-23T08:04:03.217Z"
   },
   {
    "duration": 0,
    "start_time": "2022-06-23T08:04:03.218Z"
   },
   {
    "duration": 0,
    "start_time": "2022-06-23T08:04:03.219Z"
   },
   {
    "duration": 26,
    "start_time": "2022-06-23T08:04:38.119Z"
   },
   {
    "duration": 94,
    "start_time": "2022-06-23T08:05:07.686Z"
   },
   {
    "duration": 14,
    "start_time": "2022-06-23T08:05:12.253Z"
   },
   {
    "duration": 1269,
    "start_time": "2022-06-23T08:05:16.125Z"
   },
   {
    "duration": 2,
    "start_time": "2022-06-23T08:05:17.396Z"
   },
   {
    "duration": 77,
    "start_time": "2022-06-23T08:05:17.400Z"
   },
   {
    "duration": 15,
    "start_time": "2022-06-23T08:05:17.480Z"
   },
   {
    "duration": 28,
    "start_time": "2022-06-23T08:05:17.497Z"
   },
   {
    "duration": 26,
    "start_time": "2022-06-23T08:05:17.527Z"
   },
   {
    "duration": 21,
    "start_time": "2022-06-23T08:05:17.555Z"
   },
   {
    "duration": 16,
    "start_time": "2022-06-23T08:05:17.578Z"
   },
   {
    "duration": 18,
    "start_time": "2022-06-23T08:05:17.595Z"
   },
   {
    "duration": 6,
    "start_time": "2022-06-23T08:05:17.615Z"
   },
   {
    "duration": 36,
    "start_time": "2022-06-23T08:05:17.623Z"
   },
   {
    "duration": 14,
    "start_time": "2022-06-23T08:05:17.660Z"
   },
   {
    "duration": 18,
    "start_time": "2022-06-23T08:05:17.675Z"
   },
   {
    "duration": 17,
    "start_time": "2022-06-23T08:05:17.695Z"
   },
   {
    "duration": 20,
    "start_time": "2022-06-23T08:05:17.714Z"
   },
   {
    "duration": 27,
    "start_time": "2022-06-23T08:05:17.738Z"
   },
   {
    "duration": 11,
    "start_time": "2022-06-23T08:05:17.767Z"
   },
   {
    "duration": 24,
    "start_time": "2022-06-23T08:05:17.780Z"
   },
   {
    "duration": 4,
    "start_time": "2022-06-23T08:05:17.806Z"
   },
   {
    "duration": 12,
    "start_time": "2022-06-23T08:05:17.812Z"
   },
   {
    "duration": 56,
    "start_time": "2022-06-23T08:05:17.826Z"
   },
   {
    "duration": 14,
    "start_time": "2022-06-23T08:05:17.884Z"
   },
   {
    "duration": 445,
    "start_time": "2022-06-23T08:05:17.900Z"
   },
   {
    "duration": 23,
    "start_time": "2022-06-23T08:05:18.348Z"
   },
   {
    "duration": 56,
    "start_time": "2022-06-23T08:05:18.373Z"
   },
   {
    "duration": 384,
    "start_time": "2022-06-23T08:05:18.439Z"
   },
   {
    "duration": 25,
    "start_time": "2022-06-23T08:05:18.827Z"
   },
   {
    "duration": 477,
    "start_time": "2022-06-23T08:05:18.860Z"
   },
   {
    "duration": 32,
    "start_time": "2022-06-23T08:05:19.343Z"
   },
   {
    "duration": 680,
    "start_time": "2022-06-23T08:05:19.377Z"
   },
   {
    "duration": 1914,
    "start_time": "2022-06-23T08:05:20.061Z"
   },
   {
    "duration": 14,
    "start_time": "2022-06-23T08:05:21.976Z"
   },
   {
    "duration": 522,
    "start_time": "2022-06-23T08:05:21.992Z"
   },
   {
    "duration": 24,
    "start_time": "2022-06-23T08:05:22.516Z"
   },
   {
    "duration": 110,
    "start_time": "2022-06-23T08:05:22.544Z"
   },
   {
    "duration": 16,
    "start_time": "2022-06-23T08:05:22.655Z"
   },
   {
    "duration": 99,
    "start_time": "2022-06-23T08:05:22.672Z"
   },
   {
    "duration": 461,
    "start_time": "2022-06-23T08:05:22.773Z"
   },
   {
    "duration": 331,
    "start_time": "2022-06-23T08:06:03.585Z"
   },
   {
    "duration": 1156,
    "start_time": "2022-06-23T08:06:24.861Z"
   },
   {
    "duration": 3,
    "start_time": "2022-06-23T08:06:26.019Z"
   },
   {
    "duration": 86,
    "start_time": "2022-06-23T08:06:26.031Z"
   },
   {
    "duration": 20,
    "start_time": "2022-06-23T08:06:26.120Z"
   },
   {
    "duration": 56,
    "start_time": "2022-06-23T08:06:26.142Z"
   },
   {
    "duration": 19,
    "start_time": "2022-06-23T08:06:26.200Z"
   },
   {
    "duration": 33,
    "start_time": "2022-06-23T08:06:26.221Z"
   },
   {
    "duration": 15,
    "start_time": "2022-06-23T08:06:26.256Z"
   },
   {
    "duration": 15,
    "start_time": "2022-06-23T08:06:26.273Z"
   },
   {
    "duration": 7,
    "start_time": "2022-06-23T08:06:26.290Z"
   },
   {
    "duration": 3,
    "start_time": "2022-06-23T08:06:26.299Z"
   },
   {
    "duration": 12,
    "start_time": "2022-06-23T08:06:26.304Z"
   },
   {
    "duration": 27,
    "start_time": "2022-06-23T08:06:26.318Z"
   },
   {
    "duration": 43,
    "start_time": "2022-06-23T08:06:26.347Z"
   },
   {
    "duration": 19,
    "start_time": "2022-06-23T08:06:26.393Z"
   },
   {
    "duration": 15,
    "start_time": "2022-06-23T08:06:26.414Z"
   },
   {
    "duration": 41,
    "start_time": "2022-06-23T08:06:26.432Z"
   },
   {
    "duration": 16,
    "start_time": "2022-06-23T08:06:26.476Z"
   },
   {
    "duration": 11,
    "start_time": "2022-06-23T08:06:26.494Z"
   },
   {
    "duration": 9,
    "start_time": "2022-06-23T08:06:26.507Z"
   },
   {
    "duration": 16,
    "start_time": "2022-06-23T08:06:26.519Z"
   },
   {
    "duration": 61,
    "start_time": "2022-06-23T08:06:26.536Z"
   },
   {
    "duration": 129,
    "start_time": "2022-06-23T08:06:26.599Z"
   },
   {
    "duration": 0,
    "start_time": "2022-06-23T08:06:26.729Z"
   },
   {
    "duration": 0,
    "start_time": "2022-06-23T08:06:26.730Z"
   },
   {
    "duration": 0,
    "start_time": "2022-06-23T08:06:26.731Z"
   },
   {
    "duration": 0,
    "start_time": "2022-06-23T08:06:26.731Z"
   },
   {
    "duration": 0,
    "start_time": "2022-06-23T08:06:26.732Z"
   },
   {
    "duration": 0,
    "start_time": "2022-06-23T08:06:26.732Z"
   },
   {
    "duration": 0,
    "start_time": "2022-06-23T08:06:26.733Z"
   },
   {
    "duration": 0,
    "start_time": "2022-06-23T08:06:26.733Z"
   },
   {
    "duration": 0,
    "start_time": "2022-06-23T08:06:26.734Z"
   },
   {
    "duration": 0,
    "start_time": "2022-06-23T08:06:26.734Z"
   },
   {
    "duration": 0,
    "start_time": "2022-06-23T08:06:26.735Z"
   },
   {
    "duration": 0,
    "start_time": "2022-06-23T08:06:26.736Z"
   },
   {
    "duration": 0,
    "start_time": "2022-06-23T08:06:26.736Z"
   },
   {
    "duration": 0,
    "start_time": "2022-06-23T08:06:26.737Z"
   },
   {
    "duration": 0,
    "start_time": "2022-06-23T08:06:26.739Z"
   },
   {
    "duration": 1236,
    "start_time": "2022-06-23T08:06:53.801Z"
   },
   {
    "duration": 5,
    "start_time": "2022-06-23T08:06:55.039Z"
   },
   {
    "duration": 72,
    "start_time": "2022-06-23T08:06:55.045Z"
   },
   {
    "duration": 17,
    "start_time": "2022-06-23T08:06:55.119Z"
   },
   {
    "duration": 51,
    "start_time": "2022-06-23T08:06:55.138Z"
   },
   {
    "duration": 14,
    "start_time": "2022-06-23T08:06:55.191Z"
   },
   {
    "duration": 2,
    "start_time": "2022-06-23T08:06:55.207Z"
   },
   {
    "duration": 32,
    "start_time": "2022-06-23T08:06:55.211Z"
   },
   {
    "duration": 36,
    "start_time": "2022-06-23T08:06:55.245Z"
   },
   {
    "duration": 6,
    "start_time": "2022-06-23T08:06:55.284Z"
   },
   {
    "duration": 8,
    "start_time": "2022-06-23T08:06:55.291Z"
   },
   {
    "duration": 7,
    "start_time": "2022-06-23T08:06:55.300Z"
   },
   {
    "duration": 13,
    "start_time": "2022-06-23T08:06:55.309Z"
   },
   {
    "duration": 39,
    "start_time": "2022-06-23T08:06:55.324Z"
   },
   {
    "duration": 14,
    "start_time": "2022-06-23T08:06:55.366Z"
   },
   {
    "duration": 9,
    "start_time": "2022-06-23T08:06:55.382Z"
   },
   {
    "duration": 5,
    "start_time": "2022-06-23T08:06:55.393Z"
   },
   {
    "duration": 14,
    "start_time": "2022-06-23T08:06:55.400Z"
   },
   {
    "duration": 3,
    "start_time": "2022-06-23T08:06:55.416Z"
   },
   {
    "duration": 17,
    "start_time": "2022-06-23T08:06:55.421Z"
   },
   {
    "duration": 32,
    "start_time": "2022-06-23T08:06:55.439Z"
   },
   {
    "duration": 14,
    "start_time": "2022-06-23T08:06:55.472Z"
   },
   {
    "duration": 481,
    "start_time": "2022-06-23T08:06:55.487Z"
   },
   {
    "duration": 15,
    "start_time": "2022-06-23T08:06:55.970Z"
   },
   {
    "duration": 78,
    "start_time": "2022-06-23T08:06:55.987Z"
   },
   {
    "duration": 399,
    "start_time": "2022-06-23T08:06:56.067Z"
   },
   {
    "duration": 22,
    "start_time": "2022-06-23T08:06:56.467Z"
   },
   {
    "duration": 514,
    "start_time": "2022-06-23T08:06:56.493Z"
   },
   {
    "duration": 22,
    "start_time": "2022-06-23T08:06:57.009Z"
   },
   {
    "duration": 692,
    "start_time": "2022-06-23T08:06:57.040Z"
   },
   {
    "duration": 1939,
    "start_time": "2022-06-23T08:06:57.734Z"
   },
   {
    "duration": 15,
    "start_time": "2022-06-23T08:06:59.674Z"
   },
   {
    "duration": 555,
    "start_time": "2022-06-23T08:06:59.691Z"
   },
   {
    "duration": 23,
    "start_time": "2022-06-23T08:07:00.247Z"
   },
   {
    "duration": 117,
    "start_time": "2022-06-23T08:07:00.272Z"
   },
   {
    "duration": 18,
    "start_time": "2022-06-23T08:07:00.391Z"
   },
   {
    "duration": 177,
    "start_time": "2022-06-23T08:07:00.411Z"
   },
   {
    "duration": 459,
    "start_time": "2022-06-23T08:07:00.590Z"
   },
   {
    "duration": 697,
    "start_time": "2022-06-23T08:08:01.279Z"
   },
   {
    "duration": 647,
    "start_time": "2022-06-23T08:08:17.983Z"
   },
   {
    "duration": 595,
    "start_time": "2022-06-23T08:10:17.841Z"
   },
   {
    "duration": 14,
    "start_time": "2022-06-23T08:13:03.845Z"
   },
   {
    "duration": 56,
    "start_time": "2022-06-23T08:13:12.106Z"
   },
   {
    "duration": 807,
    "start_time": "2022-06-23T08:23:41.179Z"
   },
   {
    "duration": 682,
    "start_time": "2022-06-23T08:24:36.419Z"
   },
   {
    "duration": 592,
    "start_time": "2022-06-23T08:24:44.163Z"
   },
   {
    "duration": 9,
    "start_time": "2022-06-23T08:26:04.282Z"
   },
   {
    "duration": 21,
    "start_time": "2022-06-23T08:26:10.258Z"
   },
   {
    "duration": 11,
    "start_time": "2022-06-23T08:26:33.664Z"
   },
   {
    "duration": 16,
    "start_time": "2022-06-23T08:26:37.746Z"
   },
   {
    "duration": 1227,
    "start_time": "2022-06-23T08:27:09.486Z"
   },
   {
    "duration": 16,
    "start_time": "2022-06-23T08:27:10.715Z"
   },
   {
    "duration": 82,
    "start_time": "2022-06-23T08:27:10.733Z"
   },
   {
    "duration": 20,
    "start_time": "2022-06-23T08:27:10.818Z"
   },
   {
    "duration": 62,
    "start_time": "2022-06-23T08:27:10.840Z"
   },
   {
    "duration": 14,
    "start_time": "2022-06-23T08:27:10.905Z"
   },
   {
    "duration": 3,
    "start_time": "2022-06-23T08:27:10.921Z"
   },
   {
    "duration": 36,
    "start_time": "2022-06-23T08:27:10.925Z"
   },
   {
    "duration": 17,
    "start_time": "2022-06-23T08:27:10.963Z"
   },
   {
    "duration": 5,
    "start_time": "2022-06-23T08:27:10.983Z"
   },
   {
    "duration": 16,
    "start_time": "2022-06-23T08:27:10.989Z"
   },
   {
    "duration": 7,
    "start_time": "2022-06-23T08:27:11.007Z"
   },
   {
    "duration": 17,
    "start_time": "2022-06-23T08:27:11.015Z"
   },
   {
    "duration": 27,
    "start_time": "2022-06-23T08:27:11.035Z"
   },
   {
    "duration": 19,
    "start_time": "2022-06-23T08:27:11.064Z"
   },
   {
    "duration": 9,
    "start_time": "2022-06-23T08:27:11.085Z"
   },
   {
    "duration": 8,
    "start_time": "2022-06-23T08:27:11.095Z"
   },
   {
    "duration": 11,
    "start_time": "2022-06-23T08:27:11.105Z"
   },
   {
    "duration": 16,
    "start_time": "2022-06-23T08:27:11.130Z"
   },
   {
    "duration": 7,
    "start_time": "2022-06-23T08:27:11.148Z"
   },
   {
    "duration": 14,
    "start_time": "2022-06-23T08:27:11.157Z"
   },
   {
    "duration": 18,
    "start_time": "2022-06-23T08:27:11.173Z"
   },
   {
    "duration": 461,
    "start_time": "2022-06-23T08:27:11.192Z"
   },
   {
    "duration": 33,
    "start_time": "2022-06-23T08:27:11.656Z"
   },
   {
    "duration": 83,
    "start_time": "2022-06-23T08:27:11.691Z"
   },
   {
    "duration": 369,
    "start_time": "2022-06-23T08:27:11.776Z"
   },
   {
    "duration": 18,
    "start_time": "2022-06-23T08:27:12.147Z"
   },
   {
    "duration": 521,
    "start_time": "2022-06-23T08:27:12.168Z"
   },
   {
    "duration": 16,
    "start_time": "2022-06-23T08:27:12.691Z"
   },
   {
    "duration": 655,
    "start_time": "2022-06-23T08:27:12.709Z"
   },
   {
    "duration": 2012,
    "start_time": "2022-06-23T08:27:13.366Z"
   },
   {
    "duration": 14,
    "start_time": "2022-06-23T08:27:15.380Z"
   },
   {
    "duration": 526,
    "start_time": "2022-06-23T08:27:15.396Z"
   },
   {
    "duration": 27,
    "start_time": "2022-06-23T08:27:15.924Z"
   },
   {
    "duration": 102,
    "start_time": "2022-06-23T08:27:15.953Z"
   },
   {
    "duration": 16,
    "start_time": "2022-06-23T08:27:16.057Z"
   },
   {
    "duration": 137,
    "start_time": "2022-06-23T08:27:16.075Z"
   },
   {
    "duration": 65,
    "start_time": "2022-06-23T08:27:16.215Z"
   },
   {
    "duration": 14,
    "start_time": "2022-06-23T08:27:16.282Z"
   },
   {
    "duration": 732,
    "start_time": "2022-06-23T08:27:16.298Z"
   },
   {
    "duration": 26,
    "start_time": "2022-06-23T08:27:17.033Z"
   },
   {
    "duration": 701,
    "start_time": "2022-06-23T08:27:17.060Z"
   },
   {
    "duration": 1132,
    "start_time": "2022-06-23T08:30:49.296Z"
   },
   {
    "duration": 7,
    "start_time": "2022-06-23T08:30:50.434Z"
   },
   {
    "duration": 72,
    "start_time": "2022-06-23T08:30:50.444Z"
   },
   {
    "duration": 17,
    "start_time": "2022-06-23T08:30:50.518Z"
   },
   {
    "duration": 39,
    "start_time": "2022-06-23T08:30:50.537Z"
   },
   {
    "duration": 14,
    "start_time": "2022-06-23T08:30:50.578Z"
   },
   {
    "duration": 3,
    "start_time": "2022-06-23T08:30:50.594Z"
   },
   {
    "duration": 16,
    "start_time": "2022-06-23T08:30:50.599Z"
   },
   {
    "duration": 27,
    "start_time": "2022-06-23T08:30:50.617Z"
   },
   {
    "duration": 10,
    "start_time": "2022-06-23T08:30:50.646Z"
   },
   {
    "duration": 8,
    "start_time": "2022-06-23T08:30:50.657Z"
   },
   {
    "duration": 8,
    "start_time": "2022-06-23T08:30:50.667Z"
   },
   {
    "duration": 14,
    "start_time": "2022-06-23T08:30:50.676Z"
   },
   {
    "duration": 13,
    "start_time": "2022-06-23T08:30:50.692Z"
   },
   {
    "duration": 42,
    "start_time": "2022-06-23T08:30:50.706Z"
   },
   {
    "duration": 11,
    "start_time": "2022-06-23T08:30:50.750Z"
   },
   {
    "duration": 5,
    "start_time": "2022-06-23T08:30:50.763Z"
   },
   {
    "duration": 20,
    "start_time": "2022-06-23T08:30:50.770Z"
   },
   {
    "duration": 3,
    "start_time": "2022-06-23T08:30:50.792Z"
   },
   {
    "duration": 7,
    "start_time": "2022-06-23T08:30:50.796Z"
   },
   {
    "duration": 36,
    "start_time": "2022-06-23T08:30:50.804Z"
   },
   {
    "duration": 13,
    "start_time": "2022-06-23T08:30:50.842Z"
   },
   {
    "duration": 437,
    "start_time": "2022-06-23T08:30:50.856Z"
   },
   {
    "duration": 14,
    "start_time": "2022-06-23T08:30:51.295Z"
   },
   {
    "duration": 61,
    "start_time": "2022-06-23T08:30:51.311Z"
   },
   {
    "duration": 331,
    "start_time": "2022-06-23T08:30:51.374Z"
   },
   {
    "duration": 24,
    "start_time": "2022-06-23T08:30:51.707Z"
   },
   {
    "duration": 467,
    "start_time": "2022-06-23T08:30:51.738Z"
   },
   {
    "duration": 22,
    "start_time": "2022-06-23T08:30:52.207Z"
   },
   {
    "duration": 716,
    "start_time": "2022-06-23T08:30:52.231Z"
   },
   {
    "duration": 1928,
    "start_time": "2022-06-23T08:30:52.950Z"
   },
   {
    "duration": 14,
    "start_time": "2022-06-23T08:30:54.880Z"
   },
   {
    "duration": 518,
    "start_time": "2022-06-23T08:30:54.896Z"
   },
   {
    "duration": 24,
    "start_time": "2022-06-23T08:30:55.416Z"
   },
   {
    "duration": 94,
    "start_time": "2022-06-23T08:30:55.446Z"
   },
   {
    "duration": 22,
    "start_time": "2022-06-23T08:30:55.542Z"
   },
   {
    "duration": 111,
    "start_time": "2022-06-23T08:30:55.565Z"
   },
   {
    "duration": 49,
    "start_time": "2022-06-23T08:30:55.678Z"
   },
   {
    "duration": 20,
    "start_time": "2022-06-23T08:30:55.732Z"
   },
   {
    "duration": 629,
    "start_time": "2022-06-23T08:30:55.754Z"
   },
   {
    "duration": 23,
    "start_time": "2022-06-23T08:30:56.386Z"
   },
   {
    "duration": 158,
    "start_time": "2022-06-23T08:30:56.428Z"
   },
   {
    "duration": 0,
    "start_time": "2022-06-23T08:30:56.588Z"
   },
   {
    "duration": 0,
    "start_time": "2022-06-23T08:30:56.590Z"
   },
   {
    "duration": 16,
    "start_time": "2022-06-23T08:31:10.591Z"
   },
   {
    "duration": 1165,
    "start_time": "2022-06-23T08:31:14.348Z"
   },
   {
    "duration": 3,
    "start_time": "2022-06-23T08:31:15.515Z"
   },
   {
    "duration": 85,
    "start_time": "2022-06-23T08:31:15.520Z"
   },
   {
    "duration": 14,
    "start_time": "2022-06-23T08:31:15.606Z"
   },
   {
    "duration": 49,
    "start_time": "2022-06-23T08:31:15.623Z"
   },
   {
    "duration": 15,
    "start_time": "2022-06-23T08:31:15.674Z"
   },
   {
    "duration": 4,
    "start_time": "2022-06-23T08:31:15.691Z"
   },
   {
    "duration": 16,
    "start_time": "2022-06-23T08:31:15.696Z"
   },
   {
    "duration": 29,
    "start_time": "2022-06-23T08:31:15.713Z"
   },
   {
    "duration": 11,
    "start_time": "2022-06-23T08:31:15.743Z"
   },
   {
    "duration": 6,
    "start_time": "2022-06-23T08:31:15.755Z"
   },
   {
    "duration": 8,
    "start_time": "2022-06-23T08:31:15.762Z"
   },
   {
    "duration": 15,
    "start_time": "2022-06-23T08:31:15.772Z"
   },
   {
    "duration": 13,
    "start_time": "2022-06-23T08:31:15.790Z"
   },
   {
    "duration": 13,
    "start_time": "2022-06-23T08:31:15.804Z"
   },
   {
    "duration": 20,
    "start_time": "2022-06-23T08:31:15.818Z"
   },
   {
    "duration": 9,
    "start_time": "2022-06-23T08:31:15.843Z"
   },
   {
    "duration": 14,
    "start_time": "2022-06-23T08:31:15.853Z"
   },
   {
    "duration": 8,
    "start_time": "2022-06-23T08:31:15.868Z"
   },
   {
    "duration": 9,
    "start_time": "2022-06-23T08:31:15.877Z"
   },
   {
    "duration": 18,
    "start_time": "2022-06-23T08:31:15.888Z"
   },
   {
    "duration": 17,
    "start_time": "2022-06-23T08:31:15.908Z"
   },
   {
    "duration": 452,
    "start_time": "2022-06-23T08:31:15.929Z"
   },
   {
    "duration": 19,
    "start_time": "2022-06-23T08:31:16.383Z"
   },
   {
    "duration": 82,
    "start_time": "2022-06-23T08:31:16.404Z"
   },
   {
    "duration": 360,
    "start_time": "2022-06-23T08:31:16.487Z"
   },
   {
    "duration": 14,
    "start_time": "2022-06-23T08:31:16.848Z"
   },
   {
    "duration": 582,
    "start_time": "2022-06-23T08:31:16.863Z"
   },
   {
    "duration": 15,
    "start_time": "2022-06-23T08:31:17.447Z"
   },
   {
    "duration": 638,
    "start_time": "2022-06-23T08:31:17.463Z"
   },
   {
    "duration": 1961,
    "start_time": "2022-06-23T08:31:18.103Z"
   },
   {
    "duration": 13,
    "start_time": "2022-06-23T08:31:20.066Z"
   },
   {
    "duration": 504,
    "start_time": "2022-06-23T08:31:20.080Z"
   },
   {
    "duration": 15,
    "start_time": "2022-06-23T08:31:20.586Z"
   },
   {
    "duration": 93,
    "start_time": "2022-06-23T08:31:20.603Z"
   },
   {
    "duration": 14,
    "start_time": "2022-06-23T08:31:20.698Z"
   },
   {
    "duration": 90,
    "start_time": "2022-06-23T08:31:20.713Z"
   },
   {
    "duration": 58,
    "start_time": "2022-06-23T08:31:20.805Z"
   },
   {
    "duration": 10,
    "start_time": "2022-06-23T08:31:20.865Z"
   },
   {
    "duration": 675,
    "start_time": "2022-06-23T08:31:20.877Z"
   },
   {
    "duration": 16,
    "start_time": "2022-06-23T08:31:21.556Z"
   },
   {
    "duration": 11,
    "start_time": "2022-06-23T08:31:21.574Z"
   },
   {
    "duration": 665,
    "start_time": "2022-06-23T08:31:21.586Z"
   },
   {
    "duration": 18,
    "start_time": "2022-06-23T08:31:22.254Z"
   },
   {
    "duration": 110,
    "start_time": "2022-06-23T08:37:05.578Z"
   },
   {
    "duration": 1191,
    "start_time": "2022-06-23T08:41:47.325Z"
   },
   {
    "duration": 3,
    "start_time": "2022-06-23T08:41:48.518Z"
   },
   {
    "duration": 55,
    "start_time": "2022-06-23T08:41:48.527Z"
   },
   {
    "duration": 16,
    "start_time": "2022-06-23T08:41:48.584Z"
   },
   {
    "duration": 39,
    "start_time": "2022-06-23T08:41:48.603Z"
   },
   {
    "duration": 19,
    "start_time": "2022-06-23T08:41:48.643Z"
   },
   {
    "duration": 4,
    "start_time": "2022-06-23T08:41:48.663Z"
   },
   {
    "duration": 16,
    "start_time": "2022-06-23T08:41:48.668Z"
   },
   {
    "duration": 46,
    "start_time": "2022-06-23T08:41:48.687Z"
   },
   {
    "duration": 5,
    "start_time": "2022-06-23T08:41:48.735Z"
   },
   {
    "duration": 6,
    "start_time": "2022-06-23T08:41:48.742Z"
   },
   {
    "duration": 6,
    "start_time": "2022-06-23T08:41:48.749Z"
   },
   {
    "duration": 16,
    "start_time": "2022-06-23T08:41:48.756Z"
   },
   {
    "duration": 11,
    "start_time": "2022-06-23T08:41:48.775Z"
   },
   {
    "duration": 49,
    "start_time": "2022-06-23T08:41:48.788Z"
   },
   {
    "duration": 12,
    "start_time": "2022-06-23T08:41:48.839Z"
   },
   {
    "duration": 5,
    "start_time": "2022-06-23T08:41:48.853Z"
   },
   {
    "duration": 15,
    "start_time": "2022-06-23T08:41:48.859Z"
   },
   {
    "duration": 3,
    "start_time": "2022-06-23T08:41:48.876Z"
   },
   {
    "duration": 13,
    "start_time": "2022-06-23T08:41:48.881Z"
   },
   {
    "duration": 37,
    "start_time": "2022-06-23T08:41:48.895Z"
   },
   {
    "duration": 18,
    "start_time": "2022-06-23T08:41:48.934Z"
   },
   {
    "duration": 423,
    "start_time": "2022-06-23T08:41:48.954Z"
   },
   {
    "duration": 18,
    "start_time": "2022-06-23T08:41:49.379Z"
   },
   {
    "duration": 65,
    "start_time": "2022-06-23T08:41:49.399Z"
   },
   {
    "duration": 317,
    "start_time": "2022-06-23T08:41:49.465Z"
   },
   {
    "duration": 15,
    "start_time": "2022-06-23T08:41:49.784Z"
   },
   {
    "duration": 458,
    "start_time": "2022-06-23T08:41:49.801Z"
   },
   {
    "duration": 15,
    "start_time": "2022-06-23T08:41:50.261Z"
   },
   {
    "duration": 634,
    "start_time": "2022-06-23T08:41:50.278Z"
   },
   {
    "duration": 1887,
    "start_time": "2022-06-23T08:41:50.914Z"
   },
   {
    "duration": 14,
    "start_time": "2022-06-23T08:41:52.802Z"
   },
   {
    "duration": 498,
    "start_time": "2022-06-23T08:41:52.828Z"
   },
   {
    "duration": 14,
    "start_time": "2022-06-23T08:41:53.327Z"
   },
   {
    "duration": 91,
    "start_time": "2022-06-23T08:41:53.343Z"
   },
   {
    "duration": 14,
    "start_time": "2022-06-23T08:41:53.436Z"
   },
   {
    "duration": 94,
    "start_time": "2022-06-23T08:41:53.452Z"
   },
   {
    "duration": 36,
    "start_time": "2022-06-23T08:41:53.549Z"
   },
   {
    "duration": 10,
    "start_time": "2022-06-23T08:41:53.587Z"
   },
   {
    "duration": 651,
    "start_time": "2022-06-23T08:41:53.598Z"
   },
   {
    "duration": 14,
    "start_time": "2022-06-23T08:41:54.253Z"
   },
   {
    "duration": 16,
    "start_time": "2022-06-23T08:41:54.269Z"
   },
   {
    "duration": 675,
    "start_time": "2022-06-23T08:41:54.287Z"
   },
   {
    "duration": 20,
    "start_time": "2022-06-23T08:41:54.964Z"
   },
   {
    "duration": 46,
    "start_time": "2022-06-23T11:22:57.746Z"
   },
   {
    "duration": 1288,
    "start_time": "2022-06-23T11:23:01.923Z"
   },
   {
    "duration": 3,
    "start_time": "2022-06-23T11:23:03.213Z"
   },
   {
    "duration": 108,
    "start_time": "2022-06-23T11:23:03.217Z"
   },
   {
    "duration": 15,
    "start_time": "2022-06-23T11:23:03.327Z"
   },
   {
    "duration": 26,
    "start_time": "2022-06-23T11:23:03.344Z"
   },
   {
    "duration": 20,
    "start_time": "2022-06-23T11:23:03.372Z"
   },
   {
    "duration": 4,
    "start_time": "2022-06-23T11:23:03.393Z"
   },
   {
    "duration": 15,
    "start_time": "2022-06-23T11:23:03.398Z"
   },
   {
    "duration": 20,
    "start_time": "2022-06-23T11:23:03.415Z"
   },
   {
    "duration": 6,
    "start_time": "2022-06-23T11:23:03.461Z"
   },
   {
    "duration": 7,
    "start_time": "2022-06-23T11:23:03.469Z"
   },
   {
    "duration": 6,
    "start_time": "2022-06-23T11:23:03.477Z"
   },
   {
    "duration": 12,
    "start_time": "2022-06-23T11:23:03.485Z"
   },
   {
    "duration": 12,
    "start_time": "2022-06-23T11:23:03.499Z"
   },
   {
    "duration": 19,
    "start_time": "2022-06-23T11:23:03.512Z"
   },
   {
    "duration": 34,
    "start_time": "2022-06-23T11:23:03.533Z"
   },
   {
    "duration": 5,
    "start_time": "2022-06-23T11:23:03.568Z"
   },
   {
    "duration": 21,
    "start_time": "2022-06-23T11:23:03.574Z"
   },
   {
    "duration": 4,
    "start_time": "2022-06-23T11:23:03.597Z"
   },
   {
    "duration": 10,
    "start_time": "2022-06-23T11:23:03.602Z"
   },
   {
    "duration": 11,
    "start_time": "2022-06-23T11:23:03.613Z"
   },
   {
    "duration": 34,
    "start_time": "2022-06-23T11:23:03.626Z"
   },
   {
    "duration": 406,
    "start_time": "2022-06-23T11:23:03.661Z"
   },
   {
    "duration": 19,
    "start_time": "2022-06-23T11:23:04.069Z"
   },
   {
    "duration": 44,
    "start_time": "2022-06-23T11:23:04.090Z"
   },
   {
    "duration": 348,
    "start_time": "2022-06-23T11:23:04.136Z"
   },
   {
    "duration": 14,
    "start_time": "2022-06-23T11:23:04.485Z"
   },
   {
    "duration": 857,
    "start_time": "2022-06-23T11:23:04.502Z"
   },
   {
    "duration": 14,
    "start_time": "2022-06-23T11:23:05.361Z"
   },
   {
    "duration": 919,
    "start_time": "2022-06-23T11:23:05.376Z"
   },
   {
    "duration": 1955,
    "start_time": "2022-06-23T11:23:06.296Z"
   },
   {
    "duration": 19,
    "start_time": "2022-06-23T11:23:08.259Z"
   },
   {
    "duration": 432,
    "start_time": "2022-06-23T11:23:08.280Z"
   },
   {
    "duration": 392,
    "start_time": "2022-06-23T11:23:08.714Z"
   },
   {
    "duration": 14,
    "start_time": "2022-06-23T11:23:09.108Z"
   },
   {
    "duration": 112,
    "start_time": "2022-06-23T11:23:09.124Z"
   },
   {
    "duration": 21,
    "start_time": "2022-06-23T11:23:09.238Z"
   },
   {
    "duration": 87,
    "start_time": "2022-06-23T11:23:09.261Z"
   },
   {
    "duration": 47,
    "start_time": "2022-06-23T11:23:09.358Z"
   },
   {
    "duration": 15,
    "start_time": "2022-06-23T11:23:09.407Z"
   },
   {
    "duration": 673,
    "start_time": "2022-06-23T11:23:09.424Z"
   },
   {
    "duration": 16,
    "start_time": "2022-06-23T11:23:10.099Z"
   },
   {
    "duration": 21,
    "start_time": "2022-06-23T11:23:10.118Z"
   },
   {
    "duration": 613,
    "start_time": "2022-06-23T11:23:10.141Z"
   },
   {
    "duration": 21,
    "start_time": "2022-06-23T11:23:10.756Z"
   },
   {
    "duration": 498,
    "start_time": "2022-06-23T11:24:12.378Z"
   },
   {
    "duration": 421,
    "start_time": "2022-06-23T11:24:22.943Z"
   },
   {
    "duration": 342,
    "start_time": "2022-06-23T11:27:31.474Z"
   },
   {
    "duration": 1114,
    "start_time": "2022-06-23T11:32:33.224Z"
   },
   {
    "duration": 2,
    "start_time": "2022-06-23T11:32:34.340Z"
   },
   {
    "duration": 57,
    "start_time": "2022-06-23T11:32:34.344Z"
   },
   {
    "duration": 14,
    "start_time": "2022-06-23T11:32:34.403Z"
   },
   {
    "duration": 34,
    "start_time": "2022-06-23T11:32:34.419Z"
   },
   {
    "duration": 13,
    "start_time": "2022-06-23T11:32:34.454Z"
   },
   {
    "duration": 5,
    "start_time": "2022-06-23T11:32:34.469Z"
   },
   {
    "duration": 23,
    "start_time": "2022-06-23T11:32:34.475Z"
   },
   {
    "duration": 14,
    "start_time": "2022-06-23T11:32:34.500Z"
   },
   {
    "duration": 5,
    "start_time": "2022-06-23T11:32:34.516Z"
   },
   {
    "duration": 7,
    "start_time": "2022-06-23T11:32:34.523Z"
   },
   {
    "duration": 16,
    "start_time": "2022-06-23T11:32:34.531Z"
   },
   {
    "duration": 13,
    "start_time": "2022-06-23T11:32:34.549Z"
   },
   {
    "duration": 18,
    "start_time": "2022-06-23T11:32:34.563Z"
   },
   {
    "duration": 12,
    "start_time": "2022-06-23T11:32:34.583Z"
   },
   {
    "duration": 8,
    "start_time": "2022-06-23T11:32:34.596Z"
   },
   {
    "duration": 6,
    "start_time": "2022-06-23T11:32:34.605Z"
   },
   {
    "duration": 11,
    "start_time": "2022-06-23T11:32:34.612Z"
   },
   {
    "duration": 3,
    "start_time": "2022-06-23T11:32:34.624Z"
   },
   {
    "duration": 30,
    "start_time": "2022-06-23T11:32:34.629Z"
   },
   {
    "duration": 10,
    "start_time": "2022-06-23T11:32:34.660Z"
   },
   {
    "duration": 13,
    "start_time": "2022-06-23T11:32:34.672Z"
   },
   {
    "duration": 404,
    "start_time": "2022-06-23T11:32:34.686Z"
   },
   {
    "duration": 13,
    "start_time": "2022-06-23T11:32:35.092Z"
   },
   {
    "duration": 59,
    "start_time": "2022-06-23T11:32:35.107Z"
   },
   {
    "duration": 300,
    "start_time": "2022-06-23T11:32:35.168Z"
   },
   {
    "duration": 109,
    "start_time": "2022-06-23T11:32:35.469Z"
   },
   {
    "duration": 0,
    "start_time": "2022-06-23T11:32:35.581Z"
   },
   {
    "duration": 0,
    "start_time": "2022-06-23T11:32:35.583Z"
   },
   {
    "duration": 0,
    "start_time": "2022-06-23T11:32:35.584Z"
   },
   {
    "duration": 0,
    "start_time": "2022-06-23T11:32:35.586Z"
   },
   {
    "duration": 0,
    "start_time": "2022-06-23T11:32:35.588Z"
   },
   {
    "duration": 0,
    "start_time": "2022-06-23T11:32:35.589Z"
   },
   {
    "duration": 0,
    "start_time": "2022-06-23T11:32:35.590Z"
   },
   {
    "duration": 0,
    "start_time": "2022-06-23T11:32:35.592Z"
   },
   {
    "duration": 0,
    "start_time": "2022-06-23T11:32:35.594Z"
   },
   {
    "duration": 0,
    "start_time": "2022-06-23T11:32:35.595Z"
   },
   {
    "duration": 0,
    "start_time": "2022-06-23T11:32:35.596Z"
   },
   {
    "duration": 0,
    "start_time": "2022-06-23T11:32:35.597Z"
   },
   {
    "duration": 0,
    "start_time": "2022-06-23T11:32:35.598Z"
   },
   {
    "duration": 0,
    "start_time": "2022-06-23T11:32:35.600Z"
   },
   {
    "duration": 0,
    "start_time": "2022-06-23T11:32:35.601Z"
   },
   {
    "duration": 0,
    "start_time": "2022-06-23T11:32:35.601Z"
   },
   {
    "duration": 3195,
    "start_time": "2022-06-23T11:33:00.927Z"
   },
   {
    "duration": 7,
    "start_time": "2022-06-23T11:34:32.934Z"
   },
   {
    "duration": 1187,
    "start_time": "2022-06-23T11:34:50.459Z"
   },
   {
    "duration": 1073,
    "start_time": "2022-06-23T11:35:12.875Z"
   },
   {
    "duration": 1501,
    "start_time": "2022-06-23T11:37:22.657Z"
   },
   {
    "duration": 12,
    "start_time": "2022-06-23T11:37:39.281Z"
   },
   {
    "duration": 741,
    "start_time": "2022-06-23T11:41:22.011Z"
   },
   {
    "duration": 18,
    "start_time": "2022-06-23T11:41:55.620Z"
   },
   {
    "duration": 42,
    "start_time": "2022-06-23T11:41:57.882Z"
   },
   {
    "duration": 1252,
    "start_time": "2022-06-23T11:42:33.319Z"
   },
   {
    "duration": 3,
    "start_time": "2022-06-23T11:42:34.573Z"
   },
   {
    "duration": 82,
    "start_time": "2022-06-23T11:42:34.578Z"
   },
   {
    "duration": 15,
    "start_time": "2022-06-23T11:42:34.663Z"
   },
   {
    "duration": 29,
    "start_time": "2022-06-23T11:42:34.680Z"
   },
   {
    "duration": 14,
    "start_time": "2022-06-23T11:42:34.711Z"
   },
   {
    "duration": 4,
    "start_time": "2022-06-23T11:42:34.727Z"
   },
   {
    "duration": 38,
    "start_time": "2022-06-23T11:42:34.732Z"
   },
   {
    "duration": 20,
    "start_time": "2022-06-23T11:42:34.772Z"
   },
   {
    "duration": 6,
    "start_time": "2022-06-23T11:42:34.795Z"
   },
   {
    "duration": 5,
    "start_time": "2022-06-23T11:42:34.802Z"
   },
   {
    "duration": 7,
    "start_time": "2022-06-23T11:42:34.809Z"
   },
   {
    "duration": 14,
    "start_time": "2022-06-23T11:42:34.817Z"
   },
   {
    "duration": 36,
    "start_time": "2022-06-23T11:42:34.833Z"
   },
   {
    "duration": 18,
    "start_time": "2022-06-23T11:42:34.871Z"
   },
   {
    "duration": 10,
    "start_time": "2022-06-23T11:42:34.890Z"
   },
   {
    "duration": 8,
    "start_time": "2022-06-23T11:42:34.901Z"
   },
   {
    "duration": 12,
    "start_time": "2022-06-23T11:42:34.911Z"
   },
   {
    "duration": 4,
    "start_time": "2022-06-23T11:42:34.925Z"
   },
   {
    "duration": 33,
    "start_time": "2022-06-23T11:42:34.930Z"
   },
   {
    "duration": 26,
    "start_time": "2022-06-23T11:42:34.965Z"
   },
   {
    "duration": 18,
    "start_time": "2022-06-23T11:42:34.993Z"
   },
   {
    "duration": 431,
    "start_time": "2022-06-23T11:42:35.013Z"
   },
   {
    "duration": 25,
    "start_time": "2022-06-23T11:42:35.445Z"
   },
   {
    "duration": 55,
    "start_time": "2022-06-23T11:42:35.472Z"
   },
   {
    "duration": 340,
    "start_time": "2022-06-23T11:42:35.529Z"
   },
   {
    "duration": 16,
    "start_time": "2022-06-23T11:42:35.871Z"
   },
   {
    "duration": 42,
    "start_time": "2022-06-23T11:42:35.891Z"
   },
   {
    "duration": 138,
    "start_time": "2022-06-23T11:42:35.935Z"
   },
   {
    "duration": 0,
    "start_time": "2022-06-23T11:42:36.075Z"
   },
   {
    "duration": 0,
    "start_time": "2022-06-23T11:42:36.077Z"
   },
   {
    "duration": 0,
    "start_time": "2022-06-23T11:42:36.078Z"
   },
   {
    "duration": 0,
    "start_time": "2022-06-23T11:42:36.078Z"
   },
   {
    "duration": 0,
    "start_time": "2022-06-23T11:42:36.080Z"
   },
   {
    "duration": 0,
    "start_time": "2022-06-23T11:42:36.082Z"
   },
   {
    "duration": 0,
    "start_time": "2022-06-23T11:42:36.083Z"
   },
   {
    "duration": 0,
    "start_time": "2022-06-23T11:42:36.084Z"
   },
   {
    "duration": 0,
    "start_time": "2022-06-23T11:42:36.085Z"
   },
   {
    "duration": 0,
    "start_time": "2022-06-23T11:42:36.086Z"
   },
   {
    "duration": 0,
    "start_time": "2022-06-23T11:42:36.087Z"
   },
   {
    "duration": 0,
    "start_time": "2022-06-23T11:42:36.088Z"
   },
   {
    "duration": 0,
    "start_time": "2022-06-23T11:42:36.089Z"
   },
   {
    "duration": 0,
    "start_time": "2022-06-23T11:42:36.090Z"
   },
   {
    "duration": 0,
    "start_time": "2022-06-23T11:42:36.091Z"
   },
   {
    "duration": 0,
    "start_time": "2022-06-23T11:42:36.092Z"
   },
   {
    "duration": 1183,
    "start_time": "2022-06-23T11:42:48.176Z"
   },
   {
    "duration": 2,
    "start_time": "2022-06-23T11:42:49.361Z"
   },
   {
    "duration": 64,
    "start_time": "2022-06-23T11:42:49.365Z"
   },
   {
    "duration": 15,
    "start_time": "2022-06-23T11:42:49.432Z"
   },
   {
    "duration": 34,
    "start_time": "2022-06-23T11:42:49.448Z"
   },
   {
    "duration": 14,
    "start_time": "2022-06-23T11:42:49.484Z"
   },
   {
    "duration": 3,
    "start_time": "2022-06-23T11:42:49.499Z"
   },
   {
    "duration": 16,
    "start_time": "2022-06-23T11:42:49.504Z"
   },
   {
    "duration": 15,
    "start_time": "2022-06-23T11:42:49.522Z"
   },
   {
    "duration": 23,
    "start_time": "2022-06-23T11:42:49.539Z"
   },
   {
    "duration": 4,
    "start_time": "2022-06-23T11:42:49.564Z"
   },
   {
    "duration": 10,
    "start_time": "2022-06-23T11:42:49.569Z"
   },
   {
    "duration": 16,
    "start_time": "2022-06-23T11:42:49.581Z"
   },
   {
    "duration": 14,
    "start_time": "2022-06-23T11:42:49.599Z"
   },
   {
    "duration": 14,
    "start_time": "2022-06-23T11:42:49.614Z"
   },
   {
    "duration": 30,
    "start_time": "2022-06-23T11:42:49.630Z"
   },
   {
    "duration": 4,
    "start_time": "2022-06-23T11:42:49.661Z"
   },
   {
    "duration": 20,
    "start_time": "2022-06-23T11:42:49.667Z"
   },
   {
    "duration": 5,
    "start_time": "2022-06-23T11:42:49.688Z"
   },
   {
    "duration": 25,
    "start_time": "2022-06-23T11:42:49.694Z"
   },
   {
    "duration": 15,
    "start_time": "2022-06-23T11:42:49.721Z"
   },
   {
    "duration": 14,
    "start_time": "2022-06-23T11:42:49.739Z"
   },
   {
    "duration": 427,
    "start_time": "2022-06-23T11:42:49.759Z"
   },
   {
    "duration": 14,
    "start_time": "2022-06-23T11:42:50.188Z"
   },
   {
    "duration": 65,
    "start_time": "2022-06-23T11:42:50.204Z"
   },
   {
    "duration": 330,
    "start_time": "2022-06-23T11:42:50.271Z"
   },
   {
    "duration": 16,
    "start_time": "2022-06-23T11:42:50.604Z"
   },
   {
    "duration": 61,
    "start_time": "2022-06-23T11:42:50.625Z"
   },
   {
    "duration": 14,
    "start_time": "2022-06-23T11:42:50.688Z"
   },
   {
    "duration": 498,
    "start_time": "2022-06-23T11:42:50.704Z"
   },
   {
    "duration": 16,
    "start_time": "2022-06-23T11:42:51.203Z"
   },
   {
    "duration": 699,
    "start_time": "2022-06-23T11:42:51.221Z"
   },
   {
    "duration": 2570,
    "start_time": "2022-06-23T11:42:51.922Z"
   },
   {
    "duration": 67,
    "start_time": "2022-06-23T11:42:54.494Z"
   },
   {
    "duration": 832,
    "start_time": "2022-06-23T11:42:54.562Z"
   },
   {
    "duration": 805,
    "start_time": "2022-06-23T11:42:55.396Z"
   },
   {
    "duration": 873,
    "start_time": "2022-06-23T11:42:56.203Z"
   },
   {
    "duration": 91,
    "start_time": "2022-06-23T11:42:57.078Z"
   },
   {
    "duration": 12,
    "start_time": "2022-06-23T11:42:57.170Z"
   },
   {
    "duration": 1014,
    "start_time": "2022-06-23T11:42:57.184Z"
   },
   {
    "duration": 74,
    "start_time": "2022-06-23T11:42:58.199Z"
   },
   {
    "duration": 15,
    "start_time": "2022-06-23T11:42:58.275Z"
   },
   {
    "duration": 995,
    "start_time": "2022-06-23T11:42:58.292Z"
   },
   {
    "duration": 17,
    "start_time": "2022-06-23T11:42:59.289Z"
   },
   {
    "duration": 555,
    "start_time": "2022-06-23T11:43:25.370Z"
   },
   {
    "duration": 39,
    "start_time": "2022-06-23T11:44:39.195Z"
   },
   {
    "duration": 1139,
    "start_time": "2022-06-23T11:47:30.325Z"
   },
   {
    "duration": 3,
    "start_time": "2022-06-23T11:47:31.466Z"
   },
   {
    "duration": 77,
    "start_time": "2022-06-23T11:47:31.471Z"
   },
   {
    "duration": 14,
    "start_time": "2022-06-23T11:47:31.550Z"
   },
   {
    "duration": 57,
    "start_time": "2022-06-23T11:47:31.567Z"
   },
   {
    "duration": 13,
    "start_time": "2022-06-23T11:47:31.626Z"
   },
   {
    "duration": 3,
    "start_time": "2022-06-23T11:47:31.641Z"
   },
   {
    "duration": 29,
    "start_time": "2022-06-23T11:47:31.646Z"
   },
   {
    "duration": 22,
    "start_time": "2022-06-23T11:47:31.676Z"
   },
   {
    "duration": 16,
    "start_time": "2022-06-23T11:47:31.699Z"
   },
   {
    "duration": 9,
    "start_time": "2022-06-23T11:47:31.716Z"
   },
   {
    "duration": 9,
    "start_time": "2022-06-23T11:47:31.727Z"
   },
   {
    "duration": 15,
    "start_time": "2022-06-23T11:47:31.738Z"
   },
   {
    "duration": 13,
    "start_time": "2022-06-23T11:47:31.755Z"
   },
   {
    "duration": 13,
    "start_time": "2022-06-23T11:47:31.769Z"
   },
   {
    "duration": 15,
    "start_time": "2022-06-23T11:47:31.783Z"
   },
   {
    "duration": 9,
    "start_time": "2022-06-23T11:47:31.800Z"
   },
   {
    "duration": 14,
    "start_time": "2022-06-23T11:47:31.811Z"
   },
   {
    "duration": 4,
    "start_time": "2022-06-23T11:47:31.827Z"
   },
   {
    "duration": 13,
    "start_time": "2022-06-23T11:47:31.832Z"
   },
   {
    "duration": 12,
    "start_time": "2022-06-23T11:47:31.846Z"
   },
   {
    "duration": 16,
    "start_time": "2022-06-23T11:47:31.859Z"
   },
   {
    "duration": 397,
    "start_time": "2022-06-23T11:47:31.876Z"
   },
   {
    "duration": 13,
    "start_time": "2022-06-23T11:47:32.275Z"
   },
   {
    "duration": 46,
    "start_time": "2022-06-23T11:47:32.290Z"
   },
   {
    "duration": 327,
    "start_time": "2022-06-23T11:47:32.338Z"
   },
   {
    "duration": 15,
    "start_time": "2022-06-23T11:47:32.667Z"
   },
   {
    "duration": 40,
    "start_time": "2022-06-23T11:47:32.684Z"
   },
   {
    "duration": 128,
    "start_time": "2022-06-23T11:47:32.726Z"
   },
   {
    "duration": 0,
    "start_time": "2022-06-23T11:47:32.856Z"
   },
   {
    "duration": 0,
    "start_time": "2022-06-23T11:47:32.857Z"
   },
   {
    "duration": 0,
    "start_time": "2022-06-23T11:47:32.859Z"
   },
   {
    "duration": 0,
    "start_time": "2022-06-23T11:47:32.859Z"
   },
   {
    "duration": 0,
    "start_time": "2022-06-23T11:47:32.861Z"
   },
   {
    "duration": 0,
    "start_time": "2022-06-23T11:47:32.861Z"
   },
   {
    "duration": 0,
    "start_time": "2022-06-23T11:47:32.862Z"
   },
   {
    "duration": 0,
    "start_time": "2022-06-23T11:47:32.863Z"
   },
   {
    "duration": 0,
    "start_time": "2022-06-23T11:47:32.864Z"
   },
   {
    "duration": 0,
    "start_time": "2022-06-23T11:47:32.865Z"
   },
   {
    "duration": 0,
    "start_time": "2022-06-23T11:47:32.867Z"
   },
   {
    "duration": 0,
    "start_time": "2022-06-23T11:47:32.868Z"
   },
   {
    "duration": 0,
    "start_time": "2022-06-23T11:47:32.869Z"
   },
   {
    "duration": 0,
    "start_time": "2022-06-23T11:47:32.870Z"
   },
   {
    "duration": 505,
    "start_time": "2022-06-23T11:47:57.221Z"
   },
   {
    "duration": 1088,
    "start_time": "2022-06-23T11:48:07.966Z"
   },
   {
    "duration": 3,
    "start_time": "2022-06-23T11:48:09.056Z"
   },
   {
    "duration": 59,
    "start_time": "2022-06-23T11:48:09.061Z"
   },
   {
    "duration": 14,
    "start_time": "2022-06-23T11:48:09.122Z"
   },
   {
    "duration": 39,
    "start_time": "2022-06-23T11:48:09.138Z"
   },
   {
    "duration": 14,
    "start_time": "2022-06-23T11:48:09.178Z"
   },
   {
    "duration": 3,
    "start_time": "2022-06-23T11:48:09.193Z"
   },
   {
    "duration": 13,
    "start_time": "2022-06-23T11:48:09.197Z"
   },
   {
    "duration": 13,
    "start_time": "2022-06-23T11:48:09.212Z"
   },
   {
    "duration": 33,
    "start_time": "2022-06-23T11:48:09.227Z"
   },
   {
    "duration": 6,
    "start_time": "2022-06-23T11:48:09.262Z"
   },
   {
    "duration": 7,
    "start_time": "2022-06-23T11:48:09.269Z"
   },
   {
    "duration": 11,
    "start_time": "2022-06-23T11:48:09.278Z"
   },
   {
    "duration": 18,
    "start_time": "2022-06-23T11:48:09.292Z"
   },
   {
    "duration": 16,
    "start_time": "2022-06-23T11:48:09.311Z"
   },
   {
    "duration": 8,
    "start_time": "2022-06-23T11:48:09.329Z"
   },
   {
    "duration": 25,
    "start_time": "2022-06-23T11:48:09.338Z"
   },
   {
    "duration": 13,
    "start_time": "2022-06-23T11:48:09.364Z"
   },
   {
    "duration": 9,
    "start_time": "2022-06-23T11:48:09.378Z"
   },
   {
    "duration": 7,
    "start_time": "2022-06-23T11:48:09.389Z"
   },
   {
    "duration": 11,
    "start_time": "2022-06-23T11:48:09.397Z"
   },
   {
    "duration": 13,
    "start_time": "2022-06-23T11:48:09.410Z"
   },
   {
    "duration": 428,
    "start_time": "2022-06-23T11:48:09.425Z"
   },
   {
    "duration": 15,
    "start_time": "2022-06-23T11:48:09.855Z"
   },
   {
    "duration": 63,
    "start_time": "2022-06-23T11:48:09.872Z"
   },
   {
    "duration": 322,
    "start_time": "2022-06-23T11:48:09.937Z"
   },
   {
    "duration": 16,
    "start_time": "2022-06-23T11:48:10.260Z"
   },
   {
    "duration": 39,
    "start_time": "2022-06-23T11:48:10.277Z"
   },
   {
    "duration": 506,
    "start_time": "2022-06-23T11:48:10.317Z"
   },
   {
    "duration": 102,
    "start_time": "2022-06-23T11:48:10.824Z"
   },
   {
    "duration": 0,
    "start_time": "2022-06-23T11:48:10.928Z"
   },
   {
    "duration": 0,
    "start_time": "2022-06-23T11:48:10.929Z"
   },
   {
    "duration": 0,
    "start_time": "2022-06-23T11:48:10.930Z"
   },
   {
    "duration": 0,
    "start_time": "2022-06-23T11:48:10.931Z"
   },
   {
    "duration": 0,
    "start_time": "2022-06-23T11:48:10.933Z"
   },
   {
    "duration": 0,
    "start_time": "2022-06-23T11:48:10.934Z"
   },
   {
    "duration": 0,
    "start_time": "2022-06-23T11:48:10.935Z"
   },
   {
    "duration": 0,
    "start_time": "2022-06-23T11:48:10.936Z"
   },
   {
    "duration": 0,
    "start_time": "2022-06-23T11:48:10.937Z"
   },
   {
    "duration": 0,
    "start_time": "2022-06-23T11:48:10.938Z"
   },
   {
    "duration": 0,
    "start_time": "2022-06-23T11:48:10.959Z"
   },
   {
    "duration": 0,
    "start_time": "2022-06-23T11:48:10.960Z"
   },
   {
    "duration": 0,
    "start_time": "2022-06-23T11:48:10.961Z"
   },
   {
    "duration": 1206,
    "start_time": "2022-06-23T11:48:48.353Z"
   },
   {
    "duration": 3,
    "start_time": "2022-06-23T11:48:49.561Z"
   },
   {
    "duration": 78,
    "start_time": "2022-06-23T11:48:49.566Z"
   },
   {
    "duration": 14,
    "start_time": "2022-06-23T11:48:49.645Z"
   },
   {
    "duration": 31,
    "start_time": "2022-06-23T11:48:49.661Z"
   },
   {
    "duration": 13,
    "start_time": "2022-06-23T11:48:49.694Z"
   },
   {
    "duration": 4,
    "start_time": "2022-06-23T11:48:49.708Z"
   },
   {
    "duration": 17,
    "start_time": "2022-06-23T11:48:49.714Z"
   },
   {
    "duration": 32,
    "start_time": "2022-06-23T11:48:49.733Z"
   },
   {
    "duration": 7,
    "start_time": "2022-06-23T11:48:49.767Z"
   },
   {
    "duration": 4,
    "start_time": "2022-06-23T11:48:49.776Z"
   },
   {
    "duration": 5,
    "start_time": "2022-06-23T11:48:49.782Z"
   },
   {
    "duration": 12,
    "start_time": "2022-06-23T11:48:49.788Z"
   },
   {
    "duration": 20,
    "start_time": "2022-06-23T11:48:49.802Z"
   },
   {
    "duration": 39,
    "start_time": "2022-06-23T11:48:49.824Z"
   },
   {
    "duration": 10,
    "start_time": "2022-06-23T11:48:49.865Z"
   },
   {
    "duration": 4,
    "start_time": "2022-06-23T11:48:49.876Z"
   },
   {
    "duration": 13,
    "start_time": "2022-06-23T11:48:49.881Z"
   },
   {
    "duration": 3,
    "start_time": "2022-06-23T11:48:49.895Z"
   },
   {
    "duration": 10,
    "start_time": "2022-06-23T11:48:49.900Z"
   },
   {
    "duration": 12,
    "start_time": "2022-06-23T11:48:49.911Z"
   },
   {
    "duration": 33,
    "start_time": "2022-06-23T11:48:49.925Z"
   },
   {
    "duration": 408,
    "start_time": "2022-06-23T11:48:49.961Z"
   },
   {
    "duration": 14,
    "start_time": "2022-06-23T11:48:50.371Z"
   },
   {
    "duration": 62,
    "start_time": "2022-06-23T11:48:50.386Z"
   },
   {
    "duration": 316,
    "start_time": "2022-06-23T11:48:50.450Z"
   },
   {
    "duration": 16,
    "start_time": "2022-06-23T11:48:50.767Z"
   },
   {
    "duration": 41,
    "start_time": "2022-06-23T11:48:50.785Z"
   },
   {
    "duration": 496,
    "start_time": "2022-06-23T11:48:50.828Z"
   },
   {
    "duration": 119,
    "start_time": "2022-06-23T11:48:51.325Z"
   },
   {
    "duration": 0,
    "start_time": "2022-06-23T11:48:51.446Z"
   },
   {
    "duration": 0,
    "start_time": "2022-06-23T11:48:51.448Z"
   },
   {
    "duration": 0,
    "start_time": "2022-06-23T11:48:51.449Z"
   },
   {
    "duration": 0,
    "start_time": "2022-06-23T11:48:51.458Z"
   },
   {
    "duration": 1,
    "start_time": "2022-06-23T11:48:51.459Z"
   },
   {
    "duration": 0,
    "start_time": "2022-06-23T11:48:51.461Z"
   },
   {
    "duration": 0,
    "start_time": "2022-06-23T11:48:51.463Z"
   },
   {
    "duration": 0,
    "start_time": "2022-06-23T11:48:51.464Z"
   },
   {
    "duration": 1,
    "start_time": "2022-06-23T11:48:51.465Z"
   },
   {
    "duration": 0,
    "start_time": "2022-06-23T11:48:51.468Z"
   },
   {
    "duration": 0,
    "start_time": "2022-06-23T11:48:51.469Z"
   },
   {
    "duration": 0,
    "start_time": "2022-06-23T11:48:51.471Z"
   },
   {
    "duration": 1089,
    "start_time": "2022-06-23T11:49:15.574Z"
   },
   {
    "duration": 3,
    "start_time": "2022-06-23T11:49:16.664Z"
   },
   {
    "duration": 63,
    "start_time": "2022-06-23T11:49:16.668Z"
   },
   {
    "duration": 14,
    "start_time": "2022-06-23T11:49:16.734Z"
   },
   {
    "duration": 29,
    "start_time": "2022-06-23T11:49:16.750Z"
   },
   {
    "duration": 13,
    "start_time": "2022-06-23T11:49:16.781Z"
   },
   {
    "duration": 3,
    "start_time": "2022-06-23T11:49:16.795Z"
   },
   {
    "duration": 15,
    "start_time": "2022-06-23T11:49:16.799Z"
   },
   {
    "duration": 17,
    "start_time": "2022-06-23T11:49:16.816Z"
   },
   {
    "duration": 27,
    "start_time": "2022-06-23T11:49:16.836Z"
   },
   {
    "duration": 6,
    "start_time": "2022-06-23T11:49:16.864Z"
   },
   {
    "duration": 6,
    "start_time": "2022-06-23T11:49:16.872Z"
   },
   {
    "duration": 13,
    "start_time": "2022-06-23T11:49:16.880Z"
   },
   {
    "duration": 11,
    "start_time": "2022-06-23T11:49:16.895Z"
   },
   {
    "duration": 11,
    "start_time": "2022-06-23T11:49:16.908Z"
   },
   {
    "duration": 12,
    "start_time": "2022-06-23T11:49:16.921Z"
   },
   {
    "duration": 25,
    "start_time": "2022-06-23T11:49:16.935Z"
   },
   {
    "duration": 12,
    "start_time": "2022-06-23T11:49:16.962Z"
   },
   {
    "duration": 3,
    "start_time": "2022-06-23T11:49:16.976Z"
   },
   {
    "duration": 14,
    "start_time": "2022-06-23T11:49:16.980Z"
   },
   {
    "duration": 12,
    "start_time": "2022-06-23T11:49:16.995Z"
   },
   {
    "duration": 13,
    "start_time": "2022-06-23T11:49:17.009Z"
   },
   {
    "duration": 444,
    "start_time": "2022-06-23T11:49:17.024Z"
   },
   {
    "duration": 18,
    "start_time": "2022-06-23T11:49:17.470Z"
   },
   {
    "duration": 68,
    "start_time": "2022-06-23T11:49:17.490Z"
   },
   {
    "duration": 309,
    "start_time": "2022-06-23T11:49:17.560Z"
   },
   {
    "duration": 15,
    "start_time": "2022-06-23T11:49:17.870Z"
   },
   {
    "duration": 38,
    "start_time": "2022-06-23T11:49:17.888Z"
   },
   {
    "duration": 455,
    "start_time": "2022-06-23T11:49:17.928Z"
   },
   {
    "duration": 100,
    "start_time": "2022-06-23T11:49:18.385Z"
   },
   {
    "duration": 0,
    "start_time": "2022-06-23T11:49:18.487Z"
   },
   {
    "duration": 0,
    "start_time": "2022-06-23T11:49:18.488Z"
   },
   {
    "duration": 0,
    "start_time": "2022-06-23T11:49:18.489Z"
   },
   {
    "duration": 0,
    "start_time": "2022-06-23T11:49:18.490Z"
   },
   {
    "duration": 0,
    "start_time": "2022-06-23T11:49:18.491Z"
   },
   {
    "duration": 0,
    "start_time": "2022-06-23T11:49:18.492Z"
   },
   {
    "duration": 0,
    "start_time": "2022-06-23T11:49:18.493Z"
   },
   {
    "duration": 0,
    "start_time": "2022-06-23T11:49:18.494Z"
   },
   {
    "duration": 0,
    "start_time": "2022-06-23T11:49:18.495Z"
   },
   {
    "duration": 0,
    "start_time": "2022-06-23T11:49:18.497Z"
   },
   {
    "duration": 0,
    "start_time": "2022-06-23T11:49:18.497Z"
   },
   {
    "duration": 1,
    "start_time": "2022-06-23T11:49:18.498Z"
   },
   {
    "duration": 0,
    "start_time": "2022-06-23T11:49:18.499Z"
   },
   {
    "duration": 17,
    "start_time": "2022-06-23T11:49:49.475Z"
   },
   {
    "duration": 1284,
    "start_time": "2022-06-23T11:50:02.566Z"
   },
   {
    "duration": 3,
    "start_time": "2022-06-23T11:50:03.852Z"
   },
   {
    "duration": 53,
    "start_time": "2022-06-23T11:50:03.858Z"
   },
   {
    "duration": 14,
    "start_time": "2022-06-23T11:50:03.913Z"
   },
   {
    "duration": 30,
    "start_time": "2022-06-23T11:50:03.929Z"
   },
   {
    "duration": 12,
    "start_time": "2022-06-23T11:50:03.961Z"
   },
   {
    "duration": 3,
    "start_time": "2022-06-23T11:50:03.974Z"
   },
   {
    "duration": 23,
    "start_time": "2022-06-23T11:50:03.978Z"
   },
   {
    "duration": 27,
    "start_time": "2022-06-23T11:50:04.003Z"
   },
   {
    "duration": 7,
    "start_time": "2022-06-23T11:50:04.032Z"
   },
   {
    "duration": 5,
    "start_time": "2022-06-23T11:50:04.041Z"
   },
   {
    "duration": 11,
    "start_time": "2022-06-23T11:50:04.047Z"
   },
   {
    "duration": 20,
    "start_time": "2022-06-23T11:50:04.060Z"
   },
   {
    "duration": 13,
    "start_time": "2022-06-23T11:50:04.083Z"
   },
   {
    "duration": 24,
    "start_time": "2022-06-23T11:50:04.098Z"
   },
   {
    "duration": 14,
    "start_time": "2022-06-23T11:50:04.124Z"
   },
   {
    "duration": 6,
    "start_time": "2022-06-23T11:50:04.140Z"
   },
   {
    "duration": 16,
    "start_time": "2022-06-23T11:50:04.147Z"
   },
   {
    "duration": 5,
    "start_time": "2022-06-23T11:50:04.165Z"
   },
   {
    "duration": 9,
    "start_time": "2022-06-23T11:50:04.172Z"
   },
   {
    "duration": 13,
    "start_time": "2022-06-23T11:50:04.183Z"
   },
   {
    "duration": 15,
    "start_time": "2022-06-23T11:50:04.198Z"
   },
   {
    "duration": 418,
    "start_time": "2022-06-23T11:50:04.216Z"
   },
   {
    "duration": 27,
    "start_time": "2022-06-23T11:50:04.636Z"
   },
   {
    "duration": 45,
    "start_time": "2022-06-23T11:50:04.665Z"
   },
   {
    "duration": 312,
    "start_time": "2022-06-23T11:50:04.711Z"
   },
   {
    "duration": 15,
    "start_time": "2022-06-23T11:50:05.025Z"
   },
   {
    "duration": 49,
    "start_time": "2022-06-23T11:50:05.041Z"
   },
   {
    "duration": 435,
    "start_time": "2022-06-23T11:50:05.091Z"
   },
   {
    "duration": 13,
    "start_time": "2022-06-23T11:50:05.528Z"
   },
   {
    "duration": 611,
    "start_time": "2022-06-23T11:50:05.543Z"
   },
   {
    "duration": 139,
    "start_time": "2022-06-23T11:50:06.160Z"
   },
   {
    "duration": 1,
    "start_time": "2022-06-23T11:50:06.300Z"
   },
   {
    "duration": 0,
    "start_time": "2022-06-23T11:50:06.302Z"
   },
   {
    "duration": 0,
    "start_time": "2022-06-23T11:50:06.303Z"
   },
   {
    "duration": 0,
    "start_time": "2022-06-23T11:50:06.304Z"
   },
   {
    "duration": 0,
    "start_time": "2022-06-23T11:50:06.305Z"
   },
   {
    "duration": 0,
    "start_time": "2022-06-23T11:50:06.306Z"
   },
   {
    "duration": 0,
    "start_time": "2022-06-23T11:50:06.307Z"
   },
   {
    "duration": 0,
    "start_time": "2022-06-23T11:50:06.308Z"
   },
   {
    "duration": 0,
    "start_time": "2022-06-23T11:50:06.309Z"
   },
   {
    "duration": 0,
    "start_time": "2022-06-23T11:50:06.310Z"
   },
   {
    "duration": 0,
    "start_time": "2022-06-23T11:50:06.312Z"
   },
   {
    "duration": 1928,
    "start_time": "2022-06-23T11:50:18.133Z"
   },
   {
    "duration": 1176,
    "start_time": "2022-06-23T11:50:23.374Z"
   },
   {
    "duration": 18,
    "start_time": "2022-06-23T11:50:24.552Z"
   },
   {
    "duration": 59,
    "start_time": "2022-06-23T11:50:24.573Z"
   },
   {
    "duration": 14,
    "start_time": "2022-06-23T11:50:24.633Z"
   },
   {
    "duration": 37,
    "start_time": "2022-06-23T11:50:24.649Z"
   },
   {
    "duration": 18,
    "start_time": "2022-06-23T11:50:24.688Z"
   },
   {
    "duration": 4,
    "start_time": "2022-06-23T11:50:24.708Z"
   },
   {
    "duration": 20,
    "start_time": "2022-06-23T11:50:24.713Z"
   },
   {
    "duration": 45,
    "start_time": "2022-06-23T11:50:24.735Z"
   },
   {
    "duration": 8,
    "start_time": "2022-06-23T11:50:24.781Z"
   },
   {
    "duration": 15,
    "start_time": "2022-06-23T11:50:24.791Z"
   },
   {
    "duration": 8,
    "start_time": "2022-06-23T11:50:24.808Z"
   },
   {
    "duration": 13,
    "start_time": "2022-06-23T11:50:24.818Z"
   },
   {
    "duration": 12,
    "start_time": "2022-06-23T11:50:24.834Z"
   },
   {
    "duration": 25,
    "start_time": "2022-06-23T11:50:24.847Z"
   },
   {
    "duration": 9,
    "start_time": "2022-06-23T11:50:24.874Z"
   },
   {
    "duration": 5,
    "start_time": "2022-06-23T11:50:24.884Z"
   },
   {
    "duration": 12,
    "start_time": "2022-06-23T11:50:24.891Z"
   },
   {
    "duration": 4,
    "start_time": "2022-06-23T11:50:24.904Z"
   },
   {
    "duration": 7,
    "start_time": "2022-06-23T11:50:24.909Z"
   },
   {
    "duration": 12,
    "start_time": "2022-06-23T11:50:24.917Z"
   },
   {
    "duration": 49,
    "start_time": "2022-06-23T11:50:24.930Z"
   },
   {
    "duration": 408,
    "start_time": "2022-06-23T11:50:24.981Z"
   },
   {
    "duration": 14,
    "start_time": "2022-06-23T11:50:25.391Z"
   },
   {
    "duration": 75,
    "start_time": "2022-06-23T11:50:25.407Z"
   },
   {
    "duration": 335,
    "start_time": "2022-06-23T11:50:25.484Z"
   },
   {
    "duration": 15,
    "start_time": "2022-06-23T11:50:25.822Z"
   },
   {
    "duration": 62,
    "start_time": "2022-06-23T11:50:25.838Z"
   },
   {
    "duration": 529,
    "start_time": "2022-06-23T11:50:25.901Z"
   },
   {
    "duration": 41,
    "start_time": "2022-06-23T11:50:26.432Z"
   },
   {
    "duration": 601,
    "start_time": "2022-06-23T11:50:26.476Z"
   },
   {
    "duration": 2000,
    "start_time": "2022-06-23T11:50:27.078Z"
   },
   {
    "duration": 102,
    "start_time": "2022-06-23T11:50:29.080Z"
   },
   {
    "duration": 0,
    "start_time": "2022-06-23T11:50:29.184Z"
   },
   {
    "duration": 0,
    "start_time": "2022-06-23T11:50:29.185Z"
   },
   {
    "duration": 0,
    "start_time": "2022-06-23T11:50:29.186Z"
   },
   {
    "duration": 0,
    "start_time": "2022-06-23T11:50:29.188Z"
   },
   {
    "duration": 0,
    "start_time": "2022-06-23T11:50:29.189Z"
   },
   {
    "duration": 0,
    "start_time": "2022-06-23T11:50:29.190Z"
   },
   {
    "duration": 0,
    "start_time": "2022-06-23T11:50:29.191Z"
   },
   {
    "duration": 0,
    "start_time": "2022-06-23T11:50:29.192Z"
   },
   {
    "duration": 0,
    "start_time": "2022-06-23T11:50:29.193Z"
   },
   {
    "duration": 0,
    "start_time": "2022-06-23T11:50:29.194Z"
   },
   {
    "duration": 13,
    "start_time": "2022-06-23T11:50:42.206Z"
   },
   {
    "duration": 1079,
    "start_time": "2022-06-23T11:51:14.898Z"
   },
   {
    "duration": 3,
    "start_time": "2022-06-23T11:51:15.979Z"
   },
   {
    "duration": 69,
    "start_time": "2022-06-23T11:51:15.983Z"
   },
   {
    "duration": 18,
    "start_time": "2022-06-23T11:51:16.055Z"
   },
   {
    "duration": 29,
    "start_time": "2022-06-23T11:51:16.076Z"
   },
   {
    "duration": 12,
    "start_time": "2022-06-23T11:51:16.107Z"
   },
   {
    "duration": 3,
    "start_time": "2022-06-23T11:51:16.121Z"
   },
   {
    "duration": 14,
    "start_time": "2022-06-23T11:51:16.125Z"
   },
   {
    "duration": 36,
    "start_time": "2022-06-23T11:51:16.141Z"
   },
   {
    "duration": 17,
    "start_time": "2022-06-23T11:51:16.179Z"
   },
   {
    "duration": 7,
    "start_time": "2022-06-23T11:51:16.198Z"
   },
   {
    "duration": 8,
    "start_time": "2022-06-23T11:51:16.206Z"
   },
   {
    "duration": 14,
    "start_time": "2022-06-23T11:51:16.215Z"
   },
   {
    "duration": 16,
    "start_time": "2022-06-23T11:51:16.230Z"
   },
   {
    "duration": 19,
    "start_time": "2022-06-23T11:51:16.247Z"
   },
   {
    "duration": 12,
    "start_time": "2022-06-23T11:51:16.268Z"
   },
   {
    "duration": 9,
    "start_time": "2022-06-23T11:51:16.281Z"
   },
   {
    "duration": 12,
    "start_time": "2022-06-23T11:51:16.291Z"
   },
   {
    "duration": 3,
    "start_time": "2022-06-23T11:51:16.305Z"
   },
   {
    "duration": 8,
    "start_time": "2022-06-23T11:51:16.310Z"
   },
   {
    "duration": 11,
    "start_time": "2022-06-23T11:51:16.319Z"
   },
   {
    "duration": 38,
    "start_time": "2022-06-23T11:51:16.332Z"
   },
   {
    "duration": 418,
    "start_time": "2022-06-23T11:51:16.373Z"
   },
   {
    "duration": 15,
    "start_time": "2022-06-23T11:51:16.793Z"
   },
   {
    "duration": 65,
    "start_time": "2022-06-23T11:51:16.809Z"
   },
   {
    "duration": 305,
    "start_time": "2022-06-23T11:51:16.875Z"
   },
   {
    "duration": 14,
    "start_time": "2022-06-23T11:51:17.182Z"
   },
   {
    "duration": 40,
    "start_time": "2022-06-23T11:51:17.199Z"
   },
   {
    "duration": 146,
    "start_time": "2022-06-23T11:51:17.240Z"
   },
   {
    "duration": 1,
    "start_time": "2022-06-23T11:51:17.388Z"
   },
   {
    "duration": 0,
    "start_time": "2022-06-23T11:51:17.390Z"
   },
   {
    "duration": 0,
    "start_time": "2022-06-23T11:51:17.392Z"
   },
   {
    "duration": 0,
    "start_time": "2022-06-23T11:51:17.394Z"
   },
   {
    "duration": 0,
    "start_time": "2022-06-23T11:51:17.396Z"
   },
   {
    "duration": 0,
    "start_time": "2022-06-23T11:51:17.398Z"
   },
   {
    "duration": 0,
    "start_time": "2022-06-23T11:51:17.399Z"
   },
   {
    "duration": 0,
    "start_time": "2022-06-23T11:51:17.401Z"
   },
   {
    "duration": 0,
    "start_time": "2022-06-23T11:51:17.402Z"
   },
   {
    "duration": 0,
    "start_time": "2022-06-23T11:51:17.403Z"
   },
   {
    "duration": 0,
    "start_time": "2022-06-23T11:51:17.405Z"
   },
   {
    "duration": 0,
    "start_time": "2022-06-23T11:51:17.406Z"
   },
   {
    "duration": 0,
    "start_time": "2022-06-23T11:51:17.408Z"
   },
   {
    "duration": 0,
    "start_time": "2022-06-23T11:51:17.409Z"
   },
   {
    "duration": 1136,
    "start_time": "2022-06-23T11:51:30.535Z"
   },
   {
    "duration": 3,
    "start_time": "2022-06-23T11:51:31.673Z"
   },
   {
    "duration": 66,
    "start_time": "2022-06-23T11:51:31.677Z"
   },
   {
    "duration": 16,
    "start_time": "2022-06-23T11:51:31.744Z"
   },
   {
    "duration": 27,
    "start_time": "2022-06-23T11:51:31.773Z"
   },
   {
    "duration": 14,
    "start_time": "2022-06-23T11:51:31.801Z"
   },
   {
    "duration": 11,
    "start_time": "2022-06-23T11:51:31.816Z"
   },
   {
    "duration": 43,
    "start_time": "2022-06-23T11:51:31.829Z"
   },
   {
    "duration": 58,
    "start_time": "2022-06-23T11:51:31.874Z"
   },
   {
    "duration": 14,
    "start_time": "2022-06-23T11:51:31.934Z"
   },
   {
    "duration": 12,
    "start_time": "2022-06-23T11:51:31.950Z"
   },
   {
    "duration": 19,
    "start_time": "2022-06-23T11:51:31.969Z"
   },
   {
    "duration": 18,
    "start_time": "2022-06-23T11:51:31.990Z"
   },
   {
    "duration": 18,
    "start_time": "2022-06-23T11:51:32.011Z"
   },
   {
    "duration": 15,
    "start_time": "2022-06-23T11:51:32.030Z"
   },
   {
    "duration": 10,
    "start_time": "2022-06-23T11:51:32.047Z"
   },
   {
    "duration": 13,
    "start_time": "2022-06-23T11:51:32.062Z"
   },
   {
    "duration": 23,
    "start_time": "2022-06-23T11:51:32.077Z"
   },
   {
    "duration": 4,
    "start_time": "2022-06-23T11:51:32.102Z"
   },
   {
    "duration": 9,
    "start_time": "2022-06-23T11:51:32.107Z"
   },
   {
    "duration": 15,
    "start_time": "2022-06-23T11:51:32.118Z"
   },
   {
    "duration": 12,
    "start_time": "2022-06-23T11:51:32.134Z"
   },
   {
    "duration": 399,
    "start_time": "2022-06-23T11:51:32.147Z"
   },
   {
    "duration": 26,
    "start_time": "2022-06-23T11:51:32.548Z"
   },
   {
    "duration": 49,
    "start_time": "2022-06-23T11:51:32.576Z"
   },
   {
    "duration": 342,
    "start_time": "2022-06-23T11:51:32.627Z"
   },
   {
    "duration": 18,
    "start_time": "2022-06-23T11:51:32.971Z"
   },
   {
    "duration": 75,
    "start_time": "2022-06-23T11:51:32.991Z"
   },
   {
    "duration": 457,
    "start_time": "2022-06-23T11:51:33.071Z"
   },
   {
    "duration": 14,
    "start_time": "2022-06-23T11:51:33.529Z"
   },
   {
    "duration": 602,
    "start_time": "2022-06-23T11:51:33.545Z"
   },
   {
    "duration": 1888,
    "start_time": "2022-06-23T11:51:34.148Z"
   },
   {
    "duration": 13,
    "start_time": "2022-06-23T11:51:36.037Z"
   },
   {
    "duration": 120,
    "start_time": "2022-06-23T11:51:36.058Z"
   },
   {
    "duration": 0,
    "start_time": "2022-06-23T11:51:36.180Z"
   },
   {
    "duration": 0,
    "start_time": "2022-06-23T11:51:36.181Z"
   },
   {
    "duration": 0,
    "start_time": "2022-06-23T11:51:36.182Z"
   },
   {
    "duration": 0,
    "start_time": "2022-06-23T11:51:36.184Z"
   },
   {
    "duration": 0,
    "start_time": "2022-06-23T11:51:36.185Z"
   },
   {
    "duration": 0,
    "start_time": "2022-06-23T11:51:36.186Z"
   },
   {
    "duration": 0,
    "start_time": "2022-06-23T11:51:36.188Z"
   },
   {
    "duration": 0,
    "start_time": "2022-06-23T11:51:36.189Z"
   },
   {
    "duration": 0,
    "start_time": "2022-06-23T11:51:36.191Z"
   },
   {
    "duration": 448,
    "start_time": "2022-06-23T11:51:48.387Z"
   },
   {
    "duration": 12,
    "start_time": "2022-06-23T11:53:55.749Z"
   },
   {
    "duration": 15,
    "start_time": "2022-06-23T11:54:10.510Z"
   },
   {
    "duration": 444,
    "start_time": "2022-06-23T11:54:14.749Z"
   },
   {
    "duration": 12,
    "start_time": "2022-06-23T11:56:40.207Z"
   },
   {
    "duration": 12,
    "start_time": "2022-06-23T11:56:51.928Z"
   },
   {
    "duration": 467,
    "start_time": "2022-06-23T11:56:56.154Z"
   },
   {
    "duration": 479,
    "start_time": "2022-06-23T11:57:02.090Z"
   },
   {
    "duration": 16,
    "start_time": "2022-06-23T11:57:08.610Z"
   },
   {
    "duration": 14,
    "start_time": "2022-06-23T11:58:04.631Z"
   },
   {
    "duration": 18,
    "start_time": "2022-06-23T11:58:13.122Z"
   },
   {
    "duration": 17,
    "start_time": "2022-06-23T11:58:18.053Z"
   },
   {
    "duration": 14,
    "start_time": "2022-06-23T11:58:42.684Z"
   },
   {
    "duration": 567,
    "start_time": "2022-06-23T11:58:49.265Z"
   },
   {
    "duration": 1196,
    "start_time": "2022-06-23T11:59:33.565Z"
   },
   {
    "duration": 4,
    "start_time": "2022-06-23T11:59:34.763Z"
   },
   {
    "duration": 232,
    "start_time": "2022-06-23T11:59:34.768Z"
   },
   {
    "duration": 20,
    "start_time": "2022-06-23T11:59:35.003Z"
   },
   {
    "duration": 65,
    "start_time": "2022-06-23T11:59:35.026Z"
   },
   {
    "duration": 184,
    "start_time": "2022-06-23T11:59:35.093Z"
   },
   {
    "duration": 128,
    "start_time": "2022-06-23T11:59:35.279Z"
   },
   {
    "duration": 47,
    "start_time": "2022-06-23T11:59:35.409Z"
   },
   {
    "duration": 32,
    "start_time": "2022-06-23T11:59:35.458Z"
   },
   {
    "duration": 5,
    "start_time": "2022-06-23T11:59:35.494Z"
   },
   {
    "duration": 10,
    "start_time": "2022-06-23T11:59:35.500Z"
   },
   {
    "duration": 8,
    "start_time": "2022-06-23T11:59:35.515Z"
   },
   {
    "duration": 17,
    "start_time": "2022-06-23T11:59:35.525Z"
   },
   {
    "duration": 36,
    "start_time": "2022-06-23T11:59:35.544Z"
   },
   {
    "duration": 23,
    "start_time": "2022-06-23T11:59:35.582Z"
   },
   {
    "duration": 9,
    "start_time": "2022-06-23T11:59:35.606Z"
   },
   {
    "duration": 4,
    "start_time": "2022-06-23T11:59:35.617Z"
   },
   {
    "duration": 12,
    "start_time": "2022-06-23T11:59:35.623Z"
   },
   {
    "duration": 4,
    "start_time": "2022-06-23T11:59:35.637Z"
   },
   {
    "duration": 16,
    "start_time": "2022-06-23T11:59:35.643Z"
   },
   {
    "duration": 12,
    "start_time": "2022-06-23T11:59:35.660Z"
   },
   {
    "duration": 21,
    "start_time": "2022-06-23T11:59:35.674Z"
   },
   {
    "duration": 428,
    "start_time": "2022-06-23T11:59:35.697Z"
   },
   {
    "duration": 15,
    "start_time": "2022-06-23T11:59:36.126Z"
   },
   {
    "duration": 61,
    "start_time": "2022-06-23T11:59:36.143Z"
   },
   {
    "duration": 330,
    "start_time": "2022-06-23T11:59:36.206Z"
   },
   {
    "duration": 32,
    "start_time": "2022-06-23T11:59:36.537Z"
   },
   {
    "duration": 42,
    "start_time": "2022-06-23T11:59:36.573Z"
   },
   {
    "duration": 493,
    "start_time": "2022-06-23T11:59:36.617Z"
   },
   {
    "duration": 15,
    "start_time": "2022-06-23T11:59:37.111Z"
   },
   {
    "duration": 667,
    "start_time": "2022-06-23T11:59:37.128Z"
   },
   {
    "duration": 1821,
    "start_time": "2022-06-23T11:59:37.797Z"
   },
   {
    "duration": 14,
    "start_time": "2022-06-23T11:59:39.619Z"
   },
   {
    "duration": 491,
    "start_time": "2022-06-23T11:59:39.634Z"
   },
   {
    "duration": 378,
    "start_time": "2022-06-23T11:59:40.126Z"
   },
   {
    "duration": 444,
    "start_time": "2022-06-23T11:59:40.506Z"
   },
   {
    "duration": 40,
    "start_time": "2022-06-23T11:59:40.959Z"
   },
   {
    "duration": 11,
    "start_time": "2022-06-23T11:59:41.001Z"
   },
   {
    "duration": 678,
    "start_time": "2022-06-23T11:59:41.014Z"
   },
   {
    "duration": 22,
    "start_time": "2022-06-23T11:59:41.694Z"
   },
   {
    "duration": 15,
    "start_time": "2022-06-23T11:59:41.718Z"
   },
   {
    "duration": 599,
    "start_time": "2022-06-23T11:59:41.735Z"
   },
   {
    "duration": 23,
    "start_time": "2022-06-23T11:59:42.336Z"
   },
   {
    "duration": 104,
    "start_time": "2022-06-23T12:01:26.363Z"
   },
   {
    "duration": 163,
    "start_time": "2022-06-23T12:01:50.271Z"
   },
   {
    "duration": 14,
    "start_time": "2022-06-23T12:03:02.446Z"
   },
   {
    "duration": 62,
    "start_time": "2022-06-23T12:03:05.226Z"
   },
   {
    "duration": 10,
    "start_time": "2022-06-23T12:07:18.618Z"
   },
   {
    "duration": 29,
    "start_time": "2022-06-23T12:07:24.162Z"
   },
   {
    "duration": 90,
    "start_time": "2022-06-23T12:07:34.957Z"
   },
   {
    "duration": 77,
    "start_time": "2022-06-23T12:07:39.611Z"
   },
   {
    "duration": 1190,
    "start_time": "2022-06-23T12:07:47.164Z"
   },
   {
    "duration": 3,
    "start_time": "2022-06-23T12:07:48.358Z"
   },
   {
    "duration": 58,
    "start_time": "2022-06-23T12:07:48.363Z"
   },
   {
    "duration": 14,
    "start_time": "2022-06-23T12:07:48.423Z"
   },
   {
    "duration": 27,
    "start_time": "2022-06-23T12:07:48.439Z"
   },
   {
    "duration": 14,
    "start_time": "2022-06-23T12:07:48.468Z"
   },
   {
    "duration": 3,
    "start_time": "2022-06-23T12:07:48.484Z"
   },
   {
    "duration": 15,
    "start_time": "2022-06-23T12:07:48.489Z"
   },
   {
    "duration": 22,
    "start_time": "2022-06-23T12:07:48.506Z"
   },
   {
    "duration": 5,
    "start_time": "2022-06-23T12:07:48.531Z"
   },
   {
    "duration": 22,
    "start_time": "2022-06-23T12:07:48.537Z"
   },
   {
    "duration": 3,
    "start_time": "2022-06-23T12:07:48.561Z"
   },
   {
    "duration": 39,
    "start_time": "2022-06-23T12:07:48.566Z"
   },
   {
    "duration": 12,
    "start_time": "2022-06-23T12:07:48.606Z"
   },
   {
    "duration": 13,
    "start_time": "2022-06-23T12:07:48.620Z"
   },
   {
    "duration": 9,
    "start_time": "2022-06-23T12:07:48.634Z"
   },
   {
    "duration": 17,
    "start_time": "2022-06-23T12:07:48.644Z"
   },
   {
    "duration": 16,
    "start_time": "2022-06-23T12:07:48.662Z"
   },
   {
    "duration": 4,
    "start_time": "2022-06-23T12:07:48.679Z"
   },
   {
    "duration": 10,
    "start_time": "2022-06-23T12:07:48.685Z"
   },
   {
    "duration": 11,
    "start_time": "2022-06-23T12:07:48.696Z"
   },
   {
    "duration": 14,
    "start_time": "2022-06-23T12:07:48.709Z"
   },
   {
    "duration": 400,
    "start_time": "2022-06-23T12:07:48.724Z"
   },
   {
    "duration": 20,
    "start_time": "2022-06-23T12:07:49.127Z"
   },
   {
    "duration": 51,
    "start_time": "2022-06-23T12:07:49.158Z"
   },
   {
    "duration": 326,
    "start_time": "2022-06-23T12:07:49.211Z"
   },
   {
    "duration": 35,
    "start_time": "2022-06-23T12:07:49.539Z"
   },
   {
    "duration": 97,
    "start_time": "2022-06-23T12:07:49.577Z"
   },
   {
    "duration": 14,
    "start_time": "2022-06-23T12:07:49.675Z"
   },
   {
    "duration": 37,
    "start_time": "2022-06-23T12:07:49.690Z"
   },
   {
    "duration": 495,
    "start_time": "2022-06-23T12:07:49.729Z"
   },
   {
    "duration": 14,
    "start_time": "2022-06-23T12:07:50.226Z"
   },
   {
    "duration": 592,
    "start_time": "2022-06-23T12:07:50.241Z"
   },
   {
    "duration": 2826,
    "start_time": "2022-06-23T12:07:50.835Z"
   },
   {
    "duration": 61,
    "start_time": "2022-06-23T12:07:53.663Z"
   },
   {
    "duration": 13,
    "start_time": "2022-06-23T12:07:53.726Z"
   },
   {
    "duration": 381,
    "start_time": "2022-06-23T12:07:53.759Z"
   },
   {
    "duration": 389,
    "start_time": "2022-06-23T12:07:54.142Z"
   },
   {
    "duration": 46,
    "start_time": "2022-06-23T12:07:54.533Z"
   },
   {
    "duration": 10,
    "start_time": "2022-06-23T12:07:54.581Z"
   },
   {
    "duration": 636,
    "start_time": "2022-06-23T12:07:54.592Z"
   },
   {
    "duration": 15,
    "start_time": "2022-06-23T12:07:55.230Z"
   },
   {
    "duration": 11,
    "start_time": "2022-06-23T12:07:55.258Z"
   },
   {
    "duration": 571,
    "start_time": "2022-06-23T12:07:55.271Z"
   },
   {
    "duration": 26,
    "start_time": "2022-06-23T12:07:55.843Z"
   },
   {
    "duration": 10,
    "start_time": "2022-06-23T12:08:11.736Z"
   },
   {
    "duration": 11,
    "start_time": "2022-06-23T12:08:44.882Z"
   },
   {
    "duration": 12,
    "start_time": "2022-06-23T12:12:13.493Z"
   },
   {
    "duration": 28,
    "start_time": "2022-06-23T12:12:16.076Z"
   },
   {
    "duration": 1137,
    "start_time": "2022-06-23T12:12:19.922Z"
   },
   {
    "duration": 3,
    "start_time": "2022-06-23T12:12:21.062Z"
   },
   {
    "duration": 79,
    "start_time": "2022-06-23T12:12:21.067Z"
   },
   {
    "duration": 16,
    "start_time": "2022-06-23T12:12:21.149Z"
   },
   {
    "duration": 32,
    "start_time": "2022-06-23T12:12:21.167Z"
   },
   {
    "duration": 13,
    "start_time": "2022-06-23T12:12:21.201Z"
   },
   {
    "duration": 2,
    "start_time": "2022-06-23T12:12:21.216Z"
   },
   {
    "duration": 43,
    "start_time": "2022-06-23T12:12:21.220Z"
   },
   {
    "duration": 26,
    "start_time": "2022-06-23T12:12:21.271Z"
   },
   {
    "duration": 7,
    "start_time": "2022-06-23T12:12:21.301Z"
   },
   {
    "duration": 10,
    "start_time": "2022-06-23T12:12:21.310Z"
   },
   {
    "duration": 9,
    "start_time": "2022-06-23T12:12:21.322Z"
   },
   {
    "duration": 19,
    "start_time": "2022-06-23T12:12:21.333Z"
   },
   {
    "duration": 13,
    "start_time": "2022-06-23T12:12:21.359Z"
   },
   {
    "duration": 16,
    "start_time": "2022-06-23T12:12:21.373Z"
   },
   {
    "duration": 9,
    "start_time": "2022-06-23T12:12:21.391Z"
   },
   {
    "duration": 6,
    "start_time": "2022-06-23T12:12:21.402Z"
   },
   {
    "duration": 11,
    "start_time": "2022-06-23T12:12:21.410Z"
   },
   {
    "duration": 4,
    "start_time": "2022-06-23T12:12:21.423Z"
   },
   {
    "duration": 7,
    "start_time": "2022-06-23T12:12:21.463Z"
   },
   {
    "duration": 17,
    "start_time": "2022-06-23T12:12:21.472Z"
   },
   {
    "duration": 20,
    "start_time": "2022-06-23T12:12:21.491Z"
   },
   {
    "duration": 417,
    "start_time": "2022-06-23T12:12:21.512Z"
   },
   {
    "duration": 16,
    "start_time": "2022-06-23T12:12:21.930Z"
   },
   {
    "duration": 54,
    "start_time": "2022-06-23T12:12:21.959Z"
   },
   {
    "duration": 319,
    "start_time": "2022-06-23T12:12:22.015Z"
   },
   {
    "duration": 37,
    "start_time": "2022-06-23T12:12:22.336Z"
   },
   {
    "duration": 11,
    "start_time": "2022-06-23T12:12:22.378Z"
   },
   {
    "duration": 44,
    "start_time": "2022-06-23T12:12:22.391Z"
   },
   {
    "duration": 44,
    "start_time": "2022-06-23T12:12:22.437Z"
   },
   {
    "duration": 471,
    "start_time": "2022-06-23T12:12:22.482Z"
   },
   {
    "duration": 13,
    "start_time": "2022-06-23T12:12:22.970Z"
   },
   {
    "duration": 642,
    "start_time": "2022-06-23T12:12:22.985Z"
   },
   {
    "duration": 2652,
    "start_time": "2022-06-23T12:12:23.628Z"
   },
   {
    "duration": 191,
    "start_time": "2022-06-23T12:12:26.282Z"
   },
   {
    "duration": 14,
    "start_time": "2022-06-23T12:12:26.474Z"
   },
   {
    "duration": 770,
    "start_time": "2022-06-23T12:12:26.489Z"
   },
   {
    "duration": 819,
    "start_time": "2022-06-23T12:12:27.261Z"
   },
   {
    "duration": 103,
    "start_time": "2022-06-23T12:12:28.082Z"
   },
   {
    "duration": 12,
    "start_time": "2022-06-23T12:12:28.187Z"
   },
   {
    "duration": 752,
    "start_time": "2022-06-23T12:12:28.200Z"
   },
   {
    "duration": 18,
    "start_time": "2022-06-23T12:12:28.953Z"
   },
   {
    "duration": 14,
    "start_time": "2022-06-23T12:12:28.973Z"
   },
   {
    "duration": 544,
    "start_time": "2022-06-23T12:12:28.989Z"
   },
   {
    "duration": 28,
    "start_time": "2022-06-23T12:12:29.536Z"
   },
   {
    "duration": 107,
    "start_time": "2022-06-23T12:14:26.416Z"
   },
   {
    "duration": 15,
    "start_time": "2022-06-23T12:14:34.368Z"
   },
   {
    "duration": 19,
    "start_time": "2022-06-23T12:14:40.612Z"
   },
   {
    "duration": 14,
    "start_time": "2022-06-23T12:15:10.159Z"
   },
   {
    "duration": 17,
    "start_time": "2022-06-23T12:15:13.807Z"
   },
   {
    "duration": 18,
    "start_time": "2022-06-23T12:15:40.865Z"
   },
   {
    "duration": 1164,
    "start_time": "2022-06-23T12:15:48.915Z"
   },
   {
    "duration": 4,
    "start_time": "2022-06-23T12:15:50.082Z"
   },
   {
    "duration": 80,
    "start_time": "2022-06-23T12:15:50.087Z"
   },
   {
    "duration": 15,
    "start_time": "2022-06-23T12:15:50.169Z"
   },
   {
    "duration": 36,
    "start_time": "2022-06-23T12:15:50.185Z"
   },
   {
    "duration": 14,
    "start_time": "2022-06-23T12:15:50.222Z"
   },
   {
    "duration": 20,
    "start_time": "2022-06-23T12:15:50.238Z"
   },
   {
    "duration": 12,
    "start_time": "2022-06-23T12:15:50.260Z"
   },
   {
    "duration": 19,
    "start_time": "2022-06-23T12:15:50.274Z"
   },
   {
    "duration": 7,
    "start_time": "2022-06-23T12:15:50.295Z"
   },
   {
    "duration": 14,
    "start_time": "2022-06-23T12:15:50.303Z"
   },
   {
    "duration": 15,
    "start_time": "2022-06-23T12:15:50.319Z"
   },
   {
    "duration": 17,
    "start_time": "2022-06-23T12:15:50.336Z"
   },
   {
    "duration": 26,
    "start_time": "2022-06-23T12:15:50.355Z"
   },
   {
    "duration": 20,
    "start_time": "2022-06-23T12:15:50.383Z"
   },
   {
    "duration": 23,
    "start_time": "2022-06-23T12:15:50.404Z"
   },
   {
    "duration": 13,
    "start_time": "2022-06-23T12:15:50.429Z"
   },
   {
    "duration": 20,
    "start_time": "2022-06-23T12:15:50.444Z"
   },
   {
    "duration": 6,
    "start_time": "2022-06-23T12:15:50.465Z"
   },
   {
    "duration": 11,
    "start_time": "2022-06-23T12:15:50.473Z"
   },
   {
    "duration": 20,
    "start_time": "2022-06-23T12:15:50.486Z"
   },
   {
    "duration": 20,
    "start_time": "2022-06-23T12:15:50.508Z"
   },
   {
    "duration": 457,
    "start_time": "2022-06-23T12:15:50.530Z"
   },
   {
    "duration": 15,
    "start_time": "2022-06-23T12:15:50.989Z"
   },
   {
    "duration": 66,
    "start_time": "2022-06-23T12:15:51.006Z"
   },
   {
    "duration": 322,
    "start_time": "2022-06-23T12:15:51.073Z"
   },
   {
    "duration": 18,
    "start_time": "2022-06-23T12:15:51.396Z"
   },
   {
    "duration": 15,
    "start_time": "2022-06-23T12:15:51.417Z"
   },
   {
    "duration": 56,
    "start_time": "2022-06-23T12:15:51.434Z"
   },
   {
    "duration": 448,
    "start_time": "2022-06-23T12:15:51.492Z"
   },
   {
    "duration": 24,
    "start_time": "2022-06-23T12:15:51.942Z"
   },
   {
    "duration": 583,
    "start_time": "2022-06-23T12:15:51.968Z"
   },
   {
    "duration": 2806,
    "start_time": "2022-06-23T12:15:52.553Z"
   },
   {
    "duration": 62,
    "start_time": "2022-06-23T12:15:55.361Z"
   },
   {
    "duration": 14,
    "start_time": "2022-06-23T12:15:55.424Z"
   },
   {
    "duration": 377,
    "start_time": "2022-06-23T12:15:55.460Z"
   },
   {
    "duration": 396,
    "start_time": "2022-06-23T12:15:55.839Z"
   },
   {
    "duration": 49,
    "start_time": "2022-06-23T12:15:56.237Z"
   },
   {
    "duration": 11,
    "start_time": "2022-06-23T12:15:56.288Z"
   },
   {
    "duration": 653,
    "start_time": "2022-06-23T12:15:56.301Z"
   },
   {
    "duration": 17,
    "start_time": "2022-06-23T12:15:56.958Z"
   },
   {
    "duration": 29,
    "start_time": "2022-06-23T12:15:56.976Z"
   },
   {
    "duration": 646,
    "start_time": "2022-06-23T12:15:57.006Z"
   },
   {
    "duration": 16,
    "start_time": "2022-06-23T12:15:57.658Z"
   },
   {
    "duration": 145,
    "start_time": "2022-06-23T12:16:47.749Z"
   },
   {
    "duration": 21,
    "start_time": "2022-06-23T12:16:56.115Z"
   },
   {
    "duration": 1055,
    "start_time": "2022-06-23T12:17:42.567Z"
   },
   {
    "duration": 4,
    "start_time": "2022-06-23T12:17:57.748Z"
   },
   {
    "duration": 1230,
    "start_time": "2022-06-23T12:18:29.837Z"
   },
   {
    "duration": 2,
    "start_time": "2022-06-23T12:18:31.069Z"
   },
   {
    "duration": 65,
    "start_time": "2022-06-23T12:18:31.073Z"
   },
   {
    "duration": 14,
    "start_time": "2022-06-23T12:18:31.140Z"
   },
   {
    "duration": 39,
    "start_time": "2022-06-23T12:18:31.157Z"
   },
   {
    "duration": 14,
    "start_time": "2022-06-23T12:18:31.198Z"
   },
   {
    "duration": 3,
    "start_time": "2022-06-23T12:18:31.214Z"
   },
   {
    "duration": 18,
    "start_time": "2022-06-23T12:18:31.219Z"
   },
   {
    "duration": 32,
    "start_time": "2022-06-23T12:18:31.239Z"
   },
   {
    "duration": 12,
    "start_time": "2022-06-23T12:18:31.273Z"
   },
   {
    "duration": 8,
    "start_time": "2022-06-23T12:18:31.287Z"
   },
   {
    "duration": 10,
    "start_time": "2022-06-23T12:18:31.296Z"
   },
   {
    "duration": 31,
    "start_time": "2022-06-23T12:18:31.307Z"
   },
   {
    "duration": 23,
    "start_time": "2022-06-23T12:18:31.341Z"
   },
   {
    "duration": 45,
    "start_time": "2022-06-23T12:18:31.365Z"
   },
   {
    "duration": 14,
    "start_time": "2022-06-23T12:18:31.411Z"
   },
   {
    "duration": 19,
    "start_time": "2022-06-23T12:18:31.427Z"
   },
   {
    "duration": 16,
    "start_time": "2022-06-23T12:18:31.448Z"
   },
   {
    "duration": 4,
    "start_time": "2022-06-23T12:18:31.467Z"
   },
   {
    "duration": 15,
    "start_time": "2022-06-23T12:18:31.473Z"
   },
   {
    "duration": 22,
    "start_time": "2022-06-23T12:18:31.489Z"
   },
   {
    "duration": 27,
    "start_time": "2022-06-23T12:18:31.513Z"
   },
   {
    "duration": 438,
    "start_time": "2022-06-23T12:18:31.542Z"
   },
   {
    "duration": 14,
    "start_time": "2022-06-23T12:18:31.982Z"
   },
   {
    "duration": 64,
    "start_time": "2022-06-23T12:18:31.998Z"
   },
   {
    "duration": 306,
    "start_time": "2022-06-23T12:18:32.064Z"
   },
   {
    "duration": 16,
    "start_time": "2022-06-23T12:18:32.372Z"
   },
   {
    "duration": 15,
    "start_time": "2022-06-23T12:18:32.390Z"
   },
   {
    "duration": 4,
    "start_time": "2022-06-23T12:18:32.406Z"
   },
   {
    "duration": 31,
    "start_time": "2022-06-23T12:18:32.412Z"
   },
   {
    "duration": 53,
    "start_time": "2022-06-23T12:18:32.444Z"
   },
   {
    "duration": 868,
    "start_time": "2022-06-23T12:18:32.498Z"
   },
   {
    "duration": 13,
    "start_time": "2022-06-23T12:18:33.368Z"
   },
   {
    "duration": 1018,
    "start_time": "2022-06-23T12:18:33.383Z"
   },
   {
    "duration": 2193,
    "start_time": "2022-06-23T12:18:34.402Z"
   },
   {
    "duration": 80,
    "start_time": "2022-06-23T12:18:36.597Z"
   },
   {
    "duration": 18,
    "start_time": "2022-06-23T12:18:36.679Z"
   },
   {
    "duration": 802,
    "start_time": "2022-06-23T12:18:36.700Z"
   },
   {
    "duration": 1060,
    "start_time": "2022-06-23T12:18:37.505Z"
   },
   {
    "duration": 38,
    "start_time": "2022-06-23T12:18:38.567Z"
   },
   {
    "duration": 11,
    "start_time": "2022-06-23T12:18:38.661Z"
   },
   {
    "duration": 1013,
    "start_time": "2022-06-23T12:18:38.673Z"
   },
   {
    "duration": 15,
    "start_time": "2022-06-23T12:18:39.688Z"
   },
   {
    "duration": 11,
    "start_time": "2022-06-23T12:18:39.760Z"
   },
   {
    "duration": 923,
    "start_time": "2022-06-23T12:18:39.773Z"
   },
   {
    "duration": 73,
    "start_time": "2022-06-23T12:18:40.698Z"
   },
   {
    "duration": 5,
    "start_time": "2022-06-23T12:19:01.504Z"
   },
   {
    "duration": 5,
    "start_time": "2022-06-23T12:19:11.907Z"
   },
   {
    "duration": 30,
    "start_time": "2022-06-23T12:21:47.489Z"
   },
   {
    "duration": 19,
    "start_time": "2022-06-23T12:21:53.238Z"
   },
   {
    "duration": 423,
    "start_time": "2022-06-23T12:28:58.683Z"
   },
   {
    "duration": 16,
    "start_time": "2022-06-23T12:30:23.297Z"
   },
   {
    "duration": 29,
    "start_time": "2022-06-23T12:31:07.155Z"
   },
   {
    "duration": 1428,
    "start_time": "2022-06-24T08:04:48.599Z"
   },
   {
    "duration": 3,
    "start_time": "2022-06-24T08:04:50.030Z"
   },
   {
    "duration": 114,
    "start_time": "2022-06-24T08:04:50.035Z"
   },
   {
    "duration": 20,
    "start_time": "2022-06-24T08:04:50.152Z"
   },
   {
    "duration": 36,
    "start_time": "2022-06-24T08:04:50.175Z"
   },
   {
    "duration": 24,
    "start_time": "2022-06-24T08:04:50.213Z"
   },
   {
    "duration": 19,
    "start_time": "2022-06-24T08:04:50.239Z"
   },
   {
    "duration": 21,
    "start_time": "2022-06-24T08:04:50.260Z"
   },
   {
    "duration": 23,
    "start_time": "2022-06-24T08:04:50.283Z"
   },
   {
    "duration": 21,
    "start_time": "2022-06-24T08:04:50.309Z"
   },
   {
    "duration": 12,
    "start_time": "2022-06-24T08:04:50.332Z"
   },
   {
    "duration": 20,
    "start_time": "2022-06-24T08:04:50.347Z"
   },
   {
    "duration": 18,
    "start_time": "2022-06-24T08:04:50.369Z"
   },
   {
    "duration": 20,
    "start_time": "2022-06-24T08:04:50.389Z"
   },
   {
    "duration": 27,
    "start_time": "2022-06-24T08:04:50.411Z"
   },
   {
    "duration": 15,
    "start_time": "2022-06-24T08:04:50.440Z"
   },
   {
    "duration": 13,
    "start_time": "2022-06-24T08:04:50.457Z"
   },
   {
    "duration": 13,
    "start_time": "2022-06-24T08:04:50.472Z"
   },
   {
    "duration": 4,
    "start_time": "2022-06-24T08:04:50.487Z"
   },
   {
    "duration": 22,
    "start_time": "2022-06-24T08:04:50.492Z"
   },
   {
    "duration": 27,
    "start_time": "2022-06-24T08:04:50.516Z"
   },
   {
    "duration": 24,
    "start_time": "2022-06-24T08:04:50.545Z"
   },
   {
    "duration": 410,
    "start_time": "2022-06-24T08:04:50.570Z"
   },
   {
    "duration": 15,
    "start_time": "2022-06-24T08:04:50.982Z"
   },
   {
    "duration": 68,
    "start_time": "2022-06-24T08:04:50.999Z"
   },
   {
    "duration": 317,
    "start_time": "2022-06-24T08:04:51.068Z"
   },
   {
    "duration": 19,
    "start_time": "2022-06-24T08:04:51.387Z"
   },
   {
    "duration": 44,
    "start_time": "2022-06-24T08:04:51.411Z"
   },
   {
    "duration": 9,
    "start_time": "2022-06-24T08:04:51.458Z"
   },
   {
    "duration": 50,
    "start_time": "2022-06-24T08:04:51.469Z"
   },
   {
    "duration": 83,
    "start_time": "2022-06-24T08:04:51.521Z"
   },
   {
    "duration": 507,
    "start_time": "2022-06-24T08:04:51.606Z"
   },
   {
    "duration": 19,
    "start_time": "2022-06-24T08:04:52.114Z"
   },
   {
    "duration": 696,
    "start_time": "2022-06-24T08:04:52.135Z"
   },
   {
    "duration": 1908,
    "start_time": "2022-06-24T08:04:52.833Z"
   },
   {
    "duration": 63,
    "start_time": "2022-06-24T08:04:54.743Z"
   },
   {
    "duration": 29,
    "start_time": "2022-06-24T08:04:54.808Z"
   },
   {
    "duration": 403,
    "start_time": "2022-06-24T08:04:54.839Z"
   },
   {
    "duration": 393,
    "start_time": "2022-06-24T08:04:55.245Z"
   },
   {
    "duration": 45,
    "start_time": "2022-06-24T08:04:55.641Z"
   },
   {
    "duration": 10,
    "start_time": "2022-06-24T08:04:55.688Z"
   },
   {
    "duration": 674,
    "start_time": "2022-06-24T08:04:55.699Z"
   },
   {
    "duration": 16,
    "start_time": "2022-06-24T08:04:56.380Z"
   },
   {
    "duration": 16,
    "start_time": "2022-06-24T08:04:56.397Z"
   },
   {
    "duration": 597,
    "start_time": "2022-06-24T08:04:56.414Z"
   },
   {
    "duration": 21,
    "start_time": "2022-06-24T08:04:57.013Z"
   },
   {
    "duration": 15,
    "start_time": "2022-06-24T08:04:57.036Z"
   },
   {
    "duration": 25,
    "start_time": "2022-06-24T08:04:57.053Z"
   },
   {
    "duration": 412,
    "start_time": "2022-06-24T08:04:57.080Z"
   },
   {
    "duration": 4,
    "start_time": "2022-06-24T08:29:22.172Z"
   },
   {
    "duration": 18,
    "start_time": "2022-06-24T08:29:22.178Z"
   },
   {
    "duration": 99,
    "start_time": "2022-06-24T08:29:22.198Z"
   },
   {
    "duration": 12,
    "start_time": "2022-06-24T08:29:22.300Z"
   },
   {
    "duration": 87,
    "start_time": "2022-06-24T08:29:22.313Z"
   },
   {
    "duration": 15,
    "start_time": "2022-06-24T08:29:22.402Z"
   },
   {
    "duration": 54,
    "start_time": "2022-06-24T08:29:22.419Z"
   },
   {
    "duration": 39,
    "start_time": "2022-06-24T08:29:22.475Z"
   },
   {
    "duration": 74,
    "start_time": "2022-06-24T08:29:22.517Z"
   },
   {
    "duration": 145,
    "start_time": "2022-06-24T08:29:22.594Z"
   },
   {
    "duration": 3,
    "start_time": "2022-06-24T08:29:22.741Z"
   },
   {
    "duration": 57,
    "start_time": "2022-06-24T08:29:22.747Z"
   },
   {
    "duration": 64,
    "start_time": "2022-06-24T08:29:22.806Z"
   },
   {
    "duration": 17,
    "start_time": "2022-06-24T08:29:22.872Z"
   },
   {
    "duration": 30,
    "start_time": "2022-06-24T08:29:22.891Z"
   },
   {
    "duration": 22,
    "start_time": "2022-06-24T08:29:22.923Z"
   },
   {
    "duration": 37,
    "start_time": "2022-06-24T08:29:22.947Z"
   },
   {
    "duration": 20,
    "start_time": "2022-06-24T08:29:22.987Z"
   },
   {
    "duration": 4,
    "start_time": "2022-06-24T08:29:23.010Z"
   },
   {
    "duration": 9,
    "start_time": "2022-06-24T08:29:23.016Z"
   },
   {
    "duration": 60,
    "start_time": "2022-06-24T08:29:23.033Z"
   },
   {
    "duration": 19,
    "start_time": "2022-06-24T08:29:23.095Z"
   },
   {
    "duration": 487,
    "start_time": "2022-06-24T08:29:23.116Z"
   },
   {
    "duration": 31,
    "start_time": "2022-06-24T08:29:23.606Z"
   },
   {
    "duration": 105,
    "start_time": "2022-06-24T08:29:23.638Z"
   },
   {
    "duration": 339,
    "start_time": "2022-06-24T08:29:23.744Z"
   },
   {
    "duration": 21,
    "start_time": "2022-06-24T08:29:24.084Z"
   },
   {
    "duration": 14,
    "start_time": "2022-06-24T08:29:33.898Z"
   },
   {
    "duration": 4,
    "start_time": "2022-06-24T08:35:51.093Z"
   },
   {
    "duration": 12,
    "start_time": "2022-06-24T08:35:51.099Z"
   },
   {
    "duration": 76,
    "start_time": "2022-06-24T08:35:51.113Z"
   },
   {
    "duration": 13,
    "start_time": "2022-06-24T08:35:51.191Z"
   },
   {
    "duration": 59,
    "start_time": "2022-06-24T08:35:51.208Z"
   },
   {
    "duration": 25,
    "start_time": "2022-06-24T08:35:51.271Z"
   },
   {
    "duration": 4,
    "start_time": "2022-06-24T08:35:51.300Z"
   },
   {
    "duration": 51,
    "start_time": "2022-06-24T08:35:51.307Z"
   },
   {
    "duration": 28,
    "start_time": "2022-06-24T08:35:51.360Z"
   },
   {
    "duration": 11,
    "start_time": "2022-06-24T08:35:51.390Z"
   },
   {
    "duration": 8,
    "start_time": "2022-06-24T08:35:51.406Z"
   },
   {
    "duration": 9,
    "start_time": "2022-06-24T08:35:51.416Z"
   },
   {
    "duration": 54,
    "start_time": "2022-06-24T08:35:51.436Z"
   },
   {
    "duration": 31,
    "start_time": "2022-06-24T08:35:51.493Z"
   },
   {
    "duration": 80,
    "start_time": "2022-06-24T08:35:51.527Z"
   },
   {
    "duration": 36,
    "start_time": "2022-06-24T08:35:51.610Z"
   },
   {
    "duration": 25,
    "start_time": "2022-06-24T08:35:51.648Z"
   },
   {
    "duration": 19,
    "start_time": "2022-06-24T08:35:51.676Z"
   },
   {
    "duration": 18,
    "start_time": "2022-06-24T08:35:51.698Z"
   },
   {
    "duration": 52,
    "start_time": "2022-06-24T08:35:51.718Z"
   },
   {
    "duration": 31,
    "start_time": "2022-06-24T08:35:51.772Z"
   },
   {
    "duration": 41,
    "start_time": "2022-06-24T08:35:51.806Z"
   },
   {
    "duration": 514,
    "start_time": "2022-06-24T08:35:51.849Z"
   },
   {
    "duration": 17,
    "start_time": "2022-06-24T08:35:52.365Z"
   },
   {
    "duration": 90,
    "start_time": "2022-06-24T08:35:52.384Z"
   },
   {
    "duration": 393,
    "start_time": "2022-06-24T08:35:52.476Z"
   },
   {
    "duration": 8,
    "start_time": "2022-06-24T08:35:52.871Z"
   },
   {
    "duration": 9,
    "start_time": "2022-06-24T08:35:52.881Z"
   },
   {
    "duration": 47,
    "start_time": "2022-06-24T09:44:15.274Z"
   },
   {
    "duration": 1271,
    "start_time": "2022-06-24T09:44:22.665Z"
   },
   {
    "duration": 3,
    "start_time": "2022-06-24T09:44:23.938Z"
   },
   {
    "duration": 101,
    "start_time": "2022-06-24T09:44:23.944Z"
   },
   {
    "duration": 15,
    "start_time": "2022-06-24T09:44:24.047Z"
   },
   {
    "duration": 25,
    "start_time": "2022-06-24T09:44:24.064Z"
   },
   {
    "duration": 14,
    "start_time": "2022-06-24T09:44:24.091Z"
   },
   {
    "duration": 20,
    "start_time": "2022-06-24T09:44:24.107Z"
   },
   {
    "duration": 11,
    "start_time": "2022-06-24T09:44:24.129Z"
   },
   {
    "duration": 13,
    "start_time": "2022-06-24T09:44:24.142Z"
   },
   {
    "duration": 5,
    "start_time": "2022-06-24T09:44:24.157Z"
   },
   {
    "duration": 5,
    "start_time": "2022-06-24T09:44:24.163Z"
   },
   {
    "duration": 6,
    "start_time": "2022-06-24T09:44:24.169Z"
   },
   {
    "duration": 10,
    "start_time": "2022-06-24T09:44:24.177Z"
   },
   {
    "duration": 39,
    "start_time": "2022-06-24T09:44:24.188Z"
   },
   {
    "duration": 13,
    "start_time": "2022-06-24T09:44:24.228Z"
   },
   {
    "duration": 7,
    "start_time": "2022-06-24T09:44:24.243Z"
   },
   {
    "duration": 5,
    "start_time": "2022-06-24T09:44:24.251Z"
   },
   {
    "duration": 106,
    "start_time": "2022-06-24T09:44:24.258Z"
   },
   {
    "duration": 0,
    "start_time": "2022-06-24T09:44:24.366Z"
   },
   {
    "duration": 0,
    "start_time": "2022-06-24T09:44:24.367Z"
   },
   {
    "duration": 0,
    "start_time": "2022-06-24T09:44:24.368Z"
   },
   {
    "duration": 0,
    "start_time": "2022-06-24T09:44:24.369Z"
   },
   {
    "duration": 0,
    "start_time": "2022-06-24T09:44:24.370Z"
   },
   {
    "duration": 0,
    "start_time": "2022-06-24T09:44:24.371Z"
   },
   {
    "duration": 0,
    "start_time": "2022-06-24T09:44:24.372Z"
   },
   {
    "duration": 0,
    "start_time": "2022-06-24T09:44:24.374Z"
   },
   {
    "duration": 0,
    "start_time": "2022-06-24T09:44:24.375Z"
   },
   {
    "duration": 0,
    "start_time": "2022-06-24T09:44:24.376Z"
   },
   {
    "duration": 0,
    "start_time": "2022-06-24T09:44:24.377Z"
   },
   {
    "duration": 0,
    "start_time": "2022-06-24T09:44:24.378Z"
   },
   {
    "duration": 0,
    "start_time": "2022-06-24T09:44:24.379Z"
   },
   {
    "duration": 0,
    "start_time": "2022-06-24T09:44:24.380Z"
   },
   {
    "duration": 0,
    "start_time": "2022-06-24T09:44:24.381Z"
   },
   {
    "duration": 0,
    "start_time": "2022-06-24T09:44:24.382Z"
   },
   {
    "duration": 0,
    "start_time": "2022-06-24T09:44:24.384Z"
   },
   {
    "duration": 0,
    "start_time": "2022-06-24T09:44:24.385Z"
   },
   {
    "duration": 0,
    "start_time": "2022-06-24T09:44:24.386Z"
   },
   {
    "duration": 0,
    "start_time": "2022-06-24T09:44:24.387Z"
   },
   {
    "duration": 0,
    "start_time": "2022-06-24T09:44:24.388Z"
   },
   {
    "duration": 0,
    "start_time": "2022-06-24T09:44:24.389Z"
   },
   {
    "duration": 0,
    "start_time": "2022-06-24T09:44:24.390Z"
   },
   {
    "duration": 0,
    "start_time": "2022-06-24T09:44:24.390Z"
   },
   {
    "duration": 0,
    "start_time": "2022-06-24T09:44:24.391Z"
   },
   {
    "duration": 1,
    "start_time": "2022-06-24T09:44:24.391Z"
   },
   {
    "duration": 0,
    "start_time": "2022-06-24T09:44:24.392Z"
   },
   {
    "duration": 0,
    "start_time": "2022-06-24T09:44:24.392Z"
   },
   {
    "duration": 0,
    "start_time": "2022-06-24T09:44:24.426Z"
   },
   {
    "duration": 0,
    "start_time": "2022-06-24T09:44:24.428Z"
   },
   {
    "duration": 0,
    "start_time": "2022-06-24T09:44:24.429Z"
   },
   {
    "duration": 0,
    "start_time": "2022-06-24T09:44:24.430Z"
   },
   {
    "duration": 13,
    "start_time": "2022-06-24T09:46:03.234Z"
   },
   {
    "duration": 10,
    "start_time": "2022-06-24T09:46:07.537Z"
   },
   {
    "duration": 8,
    "start_time": "2022-06-24T09:46:20.696Z"
   },
   {
    "duration": 11,
    "start_time": "2022-06-24T09:46:50.793Z"
   },
   {
    "duration": 4,
    "start_time": "2022-06-24T09:47:15.624Z"
   },
   {
    "duration": 9,
    "start_time": "2022-06-24T09:47:20.475Z"
   },
   {
    "duration": 4,
    "start_time": "2022-06-24T09:47:22.304Z"
   },
   {
    "duration": 14,
    "start_time": "2022-06-24T09:50:25.709Z"
   },
   {
    "duration": 1168,
    "start_time": "2022-06-24T09:57:06.953Z"
   },
   {
    "duration": 4,
    "start_time": "2022-06-24T09:57:08.123Z"
   },
   {
    "duration": 65,
    "start_time": "2022-06-24T09:57:08.128Z"
   },
   {
    "duration": 15,
    "start_time": "2022-06-24T09:57:08.196Z"
   },
   {
    "duration": 29,
    "start_time": "2022-06-24T09:57:08.213Z"
   },
   {
    "duration": 14,
    "start_time": "2022-06-24T09:57:08.244Z"
   },
   {
    "duration": 7,
    "start_time": "2022-06-24T09:57:08.260Z"
   },
   {
    "duration": 16,
    "start_time": "2022-06-24T09:57:08.268Z"
   },
   {
    "duration": 18,
    "start_time": "2022-06-24T09:57:08.286Z"
   },
   {
    "duration": 24,
    "start_time": "2022-06-24T09:57:08.307Z"
   },
   {
    "duration": 6,
    "start_time": "2022-06-24T09:57:08.333Z"
   },
   {
    "duration": 10,
    "start_time": "2022-06-24T09:57:08.341Z"
   },
   {
    "duration": 13,
    "start_time": "2022-06-24T09:57:08.352Z"
   },
   {
    "duration": 12,
    "start_time": "2022-06-24T09:57:08.366Z"
   },
   {
    "duration": 13,
    "start_time": "2022-06-24T09:57:08.380Z"
   },
   {
    "duration": 15,
    "start_time": "2022-06-24T09:57:08.394Z"
   },
   {
    "duration": 5,
    "start_time": "2022-06-24T09:57:08.428Z"
   },
   {
    "duration": 7,
    "start_time": "2022-06-24T09:57:08.434Z"
   },
   {
    "duration": 14,
    "start_time": "2022-06-24T09:57:08.442Z"
   },
   {
    "duration": 4,
    "start_time": "2022-06-24T09:57:08.458Z"
   },
   {
    "duration": 6,
    "start_time": "2022-06-24T09:57:08.463Z"
   },
   {
    "duration": 6,
    "start_time": "2022-06-24T09:57:08.471Z"
   },
   {
    "duration": 31,
    "start_time": "2022-06-24T09:57:08.478Z"
   },
   {
    "duration": 20,
    "start_time": "2022-06-24T09:57:08.511Z"
   },
   {
    "duration": 419,
    "start_time": "2022-06-24T09:57:08.532Z"
   },
   {
    "duration": 15,
    "start_time": "2022-06-24T09:57:08.952Z"
   },
   {
    "duration": 64,
    "start_time": "2022-06-24T09:57:08.969Z"
   },
   {
    "duration": 336,
    "start_time": "2022-06-24T09:57:09.037Z"
   },
   {
    "duration": 18,
    "start_time": "2022-06-24T09:57:09.375Z"
   },
   {
    "duration": 34,
    "start_time": "2022-06-24T09:57:09.395Z"
   },
   {
    "duration": 4,
    "start_time": "2022-06-24T09:57:09.431Z"
   },
   {
    "duration": 18,
    "start_time": "2022-06-24T09:57:09.436Z"
   },
   {
    "duration": 42,
    "start_time": "2022-06-24T09:57:09.456Z"
   },
   {
    "duration": 491,
    "start_time": "2022-06-24T09:57:09.500Z"
   },
   {
    "duration": 16,
    "start_time": "2022-06-24T09:57:09.993Z"
   },
   {
    "duration": 607,
    "start_time": "2022-06-24T09:57:10.011Z"
   },
   {
    "duration": 1923,
    "start_time": "2022-06-24T09:57:10.619Z"
   },
   {
    "duration": 37,
    "start_time": "2022-06-24T09:57:12.543Z"
   },
   {
    "duration": 13,
    "start_time": "2022-06-24T09:57:12.582Z"
   },
   {
    "duration": 398,
    "start_time": "2022-06-24T09:57:12.597Z"
   },
   {
    "duration": 417,
    "start_time": "2022-06-24T09:57:12.997Z"
   },
   {
    "duration": 35,
    "start_time": "2022-06-24T09:57:13.416Z"
   },
   {
    "duration": 9,
    "start_time": "2022-06-24T09:57:13.452Z"
   },
   {
    "duration": 665,
    "start_time": "2022-06-24T09:57:13.462Z"
   },
   {
    "duration": 107,
    "start_time": "2022-06-24T09:57:14.129Z"
   },
   {
    "duration": 0,
    "start_time": "2022-06-24T09:57:14.237Z"
   },
   {
    "duration": 0,
    "start_time": "2022-06-24T09:57:14.239Z"
   },
   {
    "duration": 0,
    "start_time": "2022-06-24T09:57:14.240Z"
   },
   {
    "duration": 0,
    "start_time": "2022-06-24T09:57:14.241Z"
   },
   {
    "duration": 0,
    "start_time": "2022-06-24T09:57:14.241Z"
   },
   {
    "duration": 0,
    "start_time": "2022-06-24T09:57:14.242Z"
   },
   {
    "duration": 567,
    "start_time": "2022-06-24T09:57:32.454Z"
   },
   {
    "duration": 13,
    "start_time": "2022-06-24T09:57:35.526Z"
   },
   {
    "duration": 1072,
    "start_time": "2022-06-24T09:57:39.153Z"
   },
   {
    "duration": 3,
    "start_time": "2022-06-24T09:57:40.227Z"
   },
   {
    "duration": 58,
    "start_time": "2022-06-24T09:57:40.232Z"
   },
   {
    "duration": 14,
    "start_time": "2022-06-24T09:57:40.292Z"
   },
   {
    "duration": 39,
    "start_time": "2022-06-24T09:57:40.308Z"
   },
   {
    "duration": 13,
    "start_time": "2022-06-24T09:57:40.349Z"
   },
   {
    "duration": 6,
    "start_time": "2022-06-24T09:57:40.364Z"
   },
   {
    "duration": 15,
    "start_time": "2022-06-24T09:57:40.372Z"
   },
   {
    "duration": 15,
    "start_time": "2022-06-24T09:57:40.389Z"
   },
   {
    "duration": 22,
    "start_time": "2022-06-24T09:57:40.406Z"
   },
   {
    "duration": 4,
    "start_time": "2022-06-24T09:57:40.429Z"
   },
   {
    "duration": 9,
    "start_time": "2022-06-24T09:57:40.435Z"
   },
   {
    "duration": 23,
    "start_time": "2022-06-24T09:57:40.446Z"
   },
   {
    "duration": 13,
    "start_time": "2022-06-24T09:57:40.472Z"
   },
   {
    "duration": 13,
    "start_time": "2022-06-24T09:57:40.486Z"
   },
   {
    "duration": 27,
    "start_time": "2022-06-24T09:57:40.501Z"
   },
   {
    "duration": 4,
    "start_time": "2022-06-24T09:57:40.529Z"
   },
   {
    "duration": 15,
    "start_time": "2022-06-24T09:57:40.535Z"
   },
   {
    "duration": 12,
    "start_time": "2022-06-24T09:57:40.552Z"
   },
   {
    "duration": 4,
    "start_time": "2022-06-24T09:57:40.566Z"
   },
   {
    "duration": 4,
    "start_time": "2022-06-24T09:57:40.571Z"
   },
   {
    "duration": 5,
    "start_time": "2022-06-24T09:57:40.577Z"
   },
   {
    "duration": 14,
    "start_time": "2022-06-24T09:57:40.584Z"
   },
   {
    "duration": 13,
    "start_time": "2022-06-24T09:57:40.599Z"
   },
   {
    "duration": 411,
    "start_time": "2022-06-24T09:57:40.627Z"
   },
   {
    "duration": 14,
    "start_time": "2022-06-24T09:57:41.040Z"
   },
   {
    "duration": 48,
    "start_time": "2022-06-24T09:57:41.055Z"
   },
   {
    "duration": 341,
    "start_time": "2022-06-24T09:57:41.104Z"
   },
   {
    "duration": 18,
    "start_time": "2022-06-24T09:57:41.447Z"
   },
   {
    "duration": 15,
    "start_time": "2022-06-24T09:57:41.467Z"
   },
   {
    "duration": 4,
    "start_time": "2022-06-24T09:57:41.484Z"
   },
   {
    "duration": 49,
    "start_time": "2022-06-24T09:57:41.490Z"
   },
   {
    "duration": 42,
    "start_time": "2022-06-24T09:57:41.541Z"
   },
   {
    "duration": 457,
    "start_time": "2022-06-24T09:57:41.585Z"
   },
   {
    "duration": 14,
    "start_time": "2022-06-24T09:57:42.044Z"
   },
   {
    "duration": 643,
    "start_time": "2022-06-24T09:57:42.060Z"
   },
   {
    "duration": 1861,
    "start_time": "2022-06-24T09:57:42.705Z"
   },
   {
    "duration": 37,
    "start_time": "2022-06-24T09:57:44.568Z"
   },
   {
    "duration": 26,
    "start_time": "2022-06-24T09:57:44.607Z"
   },
   {
    "duration": 380,
    "start_time": "2022-06-24T09:57:44.634Z"
   },
   {
    "duration": 390,
    "start_time": "2022-06-24T09:57:45.018Z"
   },
   {
    "duration": 36,
    "start_time": "2022-06-24T09:57:45.410Z"
   },
   {
    "duration": 9,
    "start_time": "2022-06-24T09:57:45.448Z"
   },
   {
    "duration": 639,
    "start_time": "2022-06-24T09:57:45.458Z"
   },
   {
    "duration": 107,
    "start_time": "2022-06-24T09:57:46.099Z"
   },
   {
    "duration": 0,
    "start_time": "2022-06-24T09:57:46.208Z"
   },
   {
    "duration": 0,
    "start_time": "2022-06-24T09:57:46.209Z"
   },
   {
    "duration": 0,
    "start_time": "2022-06-24T09:57:46.210Z"
   },
   {
    "duration": 0,
    "start_time": "2022-06-24T09:57:46.211Z"
   },
   {
    "duration": 0,
    "start_time": "2022-06-24T09:57:46.211Z"
   },
   {
    "duration": 0,
    "start_time": "2022-06-24T09:57:46.212Z"
   },
   {
    "duration": 1122,
    "start_time": "2022-06-24T09:58:11.706Z"
   },
   {
    "duration": 2,
    "start_time": "2022-06-24T09:58:12.830Z"
   },
   {
    "duration": 58,
    "start_time": "2022-06-24T09:58:12.834Z"
   },
   {
    "duration": 16,
    "start_time": "2022-06-24T09:58:12.893Z"
   },
   {
    "duration": 27,
    "start_time": "2022-06-24T09:58:12.912Z"
   },
   {
    "duration": 13,
    "start_time": "2022-06-24T09:58:12.940Z"
   },
   {
    "duration": 3,
    "start_time": "2022-06-24T09:58:12.954Z"
   },
   {
    "duration": 14,
    "start_time": "2022-06-24T09:58:12.958Z"
   },
   {
    "duration": 15,
    "start_time": "2022-06-24T09:58:12.974Z"
   },
   {
    "duration": 5,
    "start_time": "2022-06-24T09:58:12.990Z"
   },
   {
    "duration": 11,
    "start_time": "2022-06-24T09:58:12.997Z"
   },
   {
    "duration": 19,
    "start_time": "2022-06-24T09:58:13.009Z"
   },
   {
    "duration": 11,
    "start_time": "2022-06-24T09:58:13.029Z"
   },
   {
    "duration": 10,
    "start_time": "2022-06-24T09:58:13.043Z"
   },
   {
    "duration": 12,
    "start_time": "2022-06-24T09:58:13.055Z"
   },
   {
    "duration": 9,
    "start_time": "2022-06-24T09:58:13.068Z"
   },
   {
    "duration": 6,
    "start_time": "2022-06-24T09:58:13.078Z"
   },
   {
    "duration": 6,
    "start_time": "2022-06-24T09:58:13.085Z"
   },
   {
    "duration": 40,
    "start_time": "2022-06-24T09:58:13.092Z"
   },
   {
    "duration": 4,
    "start_time": "2022-06-24T09:58:13.134Z"
   },
   {
    "duration": 9,
    "start_time": "2022-06-24T09:58:13.139Z"
   },
   {
    "duration": 7,
    "start_time": "2022-06-24T09:58:13.150Z"
   },
   {
    "duration": 14,
    "start_time": "2022-06-24T09:58:13.158Z"
   },
   {
    "duration": 16,
    "start_time": "2022-06-24T09:58:13.174Z"
   },
   {
    "duration": 432,
    "start_time": "2022-06-24T09:58:13.191Z"
   },
   {
    "duration": 16,
    "start_time": "2022-06-24T09:58:13.624Z"
   },
   {
    "duration": 48,
    "start_time": "2022-06-24T09:58:13.641Z"
   },
   {
    "duration": 358,
    "start_time": "2022-06-24T09:58:13.691Z"
   },
   {
    "duration": 18,
    "start_time": "2022-06-24T09:58:14.051Z"
   },
   {
    "duration": 16,
    "start_time": "2022-06-24T09:58:14.071Z"
   },
   {
    "duration": 4,
    "start_time": "2022-06-24T09:58:14.088Z"
   },
   {
    "duration": 41,
    "start_time": "2022-06-24T09:58:14.094Z"
   },
   {
    "duration": 42,
    "start_time": "2022-06-24T09:58:14.136Z"
   },
   {
    "duration": 496,
    "start_time": "2022-06-24T09:58:14.179Z"
   },
   {
    "duration": 15,
    "start_time": "2022-06-24T09:58:14.676Z"
   },
   {
    "duration": 617,
    "start_time": "2022-06-24T09:58:14.692Z"
   },
   {
    "duration": 1897,
    "start_time": "2022-06-24T09:58:15.312Z"
   },
   {
    "duration": 49,
    "start_time": "2022-06-24T09:58:17.210Z"
   },
   {
    "duration": 16,
    "start_time": "2022-06-24T09:58:17.261Z"
   },
   {
    "duration": 370,
    "start_time": "2022-06-24T09:58:17.279Z"
   },
   {
    "duration": 376,
    "start_time": "2022-06-24T09:58:17.652Z"
   },
   {
    "duration": 28,
    "start_time": "2022-06-24T09:58:18.030Z"
   },
   {
    "duration": 9,
    "start_time": "2022-06-24T09:58:18.060Z"
   },
   {
    "duration": 626,
    "start_time": "2022-06-24T09:58:18.071Z"
   },
   {
    "duration": 111,
    "start_time": "2022-06-24T09:58:18.699Z"
   },
   {
    "duration": 0,
    "start_time": "2022-06-24T09:58:18.811Z"
   },
   {
    "duration": 0,
    "start_time": "2022-06-24T09:58:18.812Z"
   },
   {
    "duration": 0,
    "start_time": "2022-06-24T09:58:18.813Z"
   },
   {
    "duration": 0,
    "start_time": "2022-06-24T09:58:18.814Z"
   },
   {
    "duration": 0,
    "start_time": "2022-06-24T09:58:18.815Z"
   },
   {
    "duration": 0,
    "start_time": "2022-06-24T09:58:18.816Z"
   },
   {
    "duration": 15,
    "start_time": "2022-06-24T11:06:00.496Z"
   },
   {
    "duration": 13,
    "start_time": "2022-06-24T11:06:06.697Z"
   },
   {
    "duration": 15,
    "start_time": "2022-06-24T11:20:03.543Z"
   },
   {
    "duration": 18,
    "start_time": "2022-06-24T11:20:17.672Z"
   },
   {
    "duration": 13,
    "start_time": "2022-06-24T11:20:31.366Z"
   },
   {
    "duration": 47,
    "start_time": "2022-06-25T05:44:01.677Z"
   },
   {
    "duration": 1325,
    "start_time": "2022-06-25T05:44:10.002Z"
   },
   {
    "duration": 3,
    "start_time": "2022-06-25T05:44:11.329Z"
   },
   {
    "duration": 102,
    "start_time": "2022-06-25T05:44:11.334Z"
   },
   {
    "duration": 16,
    "start_time": "2022-06-25T05:44:11.438Z"
   },
   {
    "duration": 26,
    "start_time": "2022-06-25T05:44:11.456Z"
   },
   {
    "duration": 13,
    "start_time": "2022-06-25T05:44:11.483Z"
   },
   {
    "duration": 3,
    "start_time": "2022-06-25T05:44:11.498Z"
   },
   {
    "duration": 29,
    "start_time": "2022-06-25T05:44:11.503Z"
   },
   {
    "duration": 18,
    "start_time": "2022-06-25T05:44:11.533Z"
   },
   {
    "duration": 5,
    "start_time": "2022-06-25T05:44:11.554Z"
   },
   {
    "duration": 7,
    "start_time": "2022-06-25T05:44:11.561Z"
   },
   {
    "duration": 9,
    "start_time": "2022-06-25T05:44:11.569Z"
   },
   {
    "duration": 15,
    "start_time": "2022-06-25T05:44:11.580Z"
   },
   {
    "duration": 30,
    "start_time": "2022-06-25T05:44:11.597Z"
   },
   {
    "duration": 14,
    "start_time": "2022-06-25T05:44:11.628Z"
   },
   {
    "duration": 9,
    "start_time": "2022-06-25T05:44:11.643Z"
   },
   {
    "duration": 4,
    "start_time": "2022-06-25T05:44:11.654Z"
   },
   {
    "duration": 7,
    "start_time": "2022-06-25T05:44:11.659Z"
   },
   {
    "duration": 12,
    "start_time": "2022-06-25T05:44:11.667Z"
   },
   {
    "duration": 4,
    "start_time": "2022-06-25T05:44:11.681Z"
   },
   {
    "duration": 12,
    "start_time": "2022-06-25T05:44:11.686Z"
   },
   {
    "duration": 35,
    "start_time": "2022-06-25T05:44:11.699Z"
   },
   {
    "duration": 14,
    "start_time": "2022-06-25T05:44:11.736Z"
   },
   {
    "duration": 16,
    "start_time": "2022-06-25T05:44:11.751Z"
   },
   {
    "duration": 408,
    "start_time": "2022-06-25T05:44:11.768Z"
   },
   {
    "duration": 397,
    "start_time": "2022-06-25T05:44:12.177Z"
   },
   {
    "duration": 15,
    "start_time": "2022-06-25T05:44:12.575Z"
   },
   {
    "duration": 61,
    "start_time": "2022-06-25T05:44:12.594Z"
   },
   {
    "duration": 310,
    "start_time": "2022-06-25T05:44:12.656Z"
   },
   {
    "duration": 18,
    "start_time": "2022-06-25T05:44:12.968Z"
   },
   {
    "duration": 14,
    "start_time": "2022-06-25T05:44:12.988Z"
   },
   {
    "duration": 24,
    "start_time": "2022-06-25T05:44:13.004Z"
   },
   {
    "duration": 14,
    "start_time": "2022-06-25T05:44:13.030Z"
   },
   {
    "duration": 37,
    "start_time": "2022-06-25T05:44:13.046Z"
   },
   {
    "duration": 508,
    "start_time": "2022-06-25T05:44:13.085Z"
   },
   {
    "duration": 13,
    "start_time": "2022-06-25T05:44:13.595Z"
   },
   {
    "duration": 696,
    "start_time": "2022-06-25T05:44:13.609Z"
   },
   {
    "duration": 1778,
    "start_time": "2022-06-25T05:44:14.306Z"
   },
   {
    "duration": 42,
    "start_time": "2022-06-25T05:44:16.086Z"
   },
   {
    "duration": 12,
    "start_time": "2022-06-25T05:44:16.130Z"
   },
   {
    "duration": 436,
    "start_time": "2022-06-25T05:44:16.144Z"
   },
   {
    "duration": 374,
    "start_time": "2022-06-25T05:44:16.582Z"
   },
   {
    "duration": 28,
    "start_time": "2022-06-25T05:44:16.958Z"
   },
   {
    "duration": 9,
    "start_time": "2022-06-25T05:44:16.988Z"
   },
   {
    "duration": 594,
    "start_time": "2022-06-25T05:44:16.999Z"
   },
   {
    "duration": 108,
    "start_time": "2022-06-25T05:44:17.595Z"
   },
   {
    "duration": 0,
    "start_time": "2022-06-25T05:44:17.705Z"
   },
   {
    "duration": 0,
    "start_time": "2022-06-25T05:44:17.706Z"
   },
   {
    "duration": 0,
    "start_time": "2022-06-25T05:44:17.707Z"
   },
   {
    "duration": 0,
    "start_time": "2022-06-25T05:44:17.708Z"
   },
   {
    "duration": 0,
    "start_time": "2022-06-25T05:44:17.709Z"
   },
   {
    "duration": 0,
    "start_time": "2022-06-25T05:44:17.710Z"
   },
   {
    "duration": 412,
    "start_time": "2022-06-25T05:48:09.698Z"
   },
   {
    "duration": 1170,
    "start_time": "2022-06-25T05:48:28.175Z"
   },
   {
    "duration": 4,
    "start_time": "2022-06-25T05:48:29.347Z"
   },
   {
    "duration": 62,
    "start_time": "2022-06-25T05:48:29.352Z"
   },
   {
    "duration": 15,
    "start_time": "2022-06-25T05:48:29.416Z"
   },
   {
    "duration": 26,
    "start_time": "2022-06-25T05:48:29.434Z"
   },
   {
    "duration": 14,
    "start_time": "2022-06-25T05:48:29.462Z"
   },
   {
    "duration": 6,
    "start_time": "2022-06-25T05:48:29.477Z"
   },
   {
    "duration": 14,
    "start_time": "2022-06-25T05:48:29.485Z"
   },
   {
    "duration": 34,
    "start_time": "2022-06-25T05:48:29.500Z"
   },
   {
    "duration": 6,
    "start_time": "2022-06-25T05:48:29.536Z"
   },
   {
    "duration": 6,
    "start_time": "2022-06-25T05:48:29.544Z"
   },
   {
    "duration": 8,
    "start_time": "2022-06-25T05:48:29.551Z"
   },
   {
    "duration": 15,
    "start_time": "2022-06-25T05:48:29.560Z"
   },
   {
    "duration": 15,
    "start_time": "2022-06-25T05:48:29.578Z"
   },
   {
    "duration": 33,
    "start_time": "2022-06-25T05:48:29.595Z"
   },
   {
    "duration": 10,
    "start_time": "2022-06-25T05:48:29.629Z"
   },
   {
    "duration": 7,
    "start_time": "2022-06-25T05:48:29.640Z"
   },
   {
    "duration": 7,
    "start_time": "2022-06-25T05:48:29.649Z"
   },
   {
    "duration": 17,
    "start_time": "2022-06-25T05:48:29.657Z"
   },
   {
    "duration": 4,
    "start_time": "2022-06-25T05:48:29.675Z"
   },
   {
    "duration": 8,
    "start_time": "2022-06-25T05:48:29.681Z"
   },
   {
    "duration": 6,
    "start_time": "2022-06-25T05:48:29.690Z"
   },
   {
    "duration": 32,
    "start_time": "2022-06-25T05:48:29.698Z"
   },
   {
    "duration": 14,
    "start_time": "2022-06-25T05:48:29.732Z"
   },
   {
    "duration": 421,
    "start_time": "2022-06-25T05:48:29.748Z"
   },
   {
    "duration": 395,
    "start_time": "2022-06-25T05:48:30.171Z"
   },
   {
    "duration": 18,
    "start_time": "2022-06-25T05:48:30.568Z"
   },
   {
    "duration": 72,
    "start_time": "2022-06-25T05:48:30.588Z"
   },
   {
    "duration": 343,
    "start_time": "2022-06-25T05:48:30.662Z"
   },
   {
    "duration": 25,
    "start_time": "2022-06-25T05:48:31.007Z"
   },
   {
    "duration": 20,
    "start_time": "2022-06-25T05:48:31.034Z"
   },
   {
    "duration": 12,
    "start_time": "2022-06-25T05:48:31.056Z"
   },
   {
    "duration": 31,
    "start_time": "2022-06-25T05:48:31.070Z"
   },
   {
    "duration": 52,
    "start_time": "2022-06-25T05:48:31.103Z"
   },
   {
    "duration": 454,
    "start_time": "2022-06-25T05:48:31.157Z"
   },
   {
    "duration": 20,
    "start_time": "2022-06-25T05:48:31.612Z"
   },
   {
    "duration": 751,
    "start_time": "2022-06-25T05:48:31.633Z"
   },
   {
    "duration": 1920,
    "start_time": "2022-06-25T05:48:32.386Z"
   },
   {
    "duration": 56,
    "start_time": "2022-06-25T05:48:34.308Z"
   },
   {
    "duration": 13,
    "start_time": "2022-06-25T05:48:34.366Z"
   },
   {
    "duration": 389,
    "start_time": "2022-06-25T05:48:34.383Z"
   },
   {
    "duration": 424,
    "start_time": "2022-06-25T05:48:34.775Z"
   },
   {
    "duration": 38,
    "start_time": "2022-06-25T05:48:35.201Z"
   },
   {
    "duration": 10,
    "start_time": "2022-06-25T05:48:35.241Z"
   },
   {
    "duration": 691,
    "start_time": "2022-06-25T05:48:35.252Z"
   },
   {
    "duration": 202,
    "start_time": "2022-06-25T05:48:35.944Z"
   },
   {
    "duration": 0,
    "start_time": "2022-06-25T05:48:36.147Z"
   },
   {
    "duration": 0,
    "start_time": "2022-06-25T05:48:36.149Z"
   },
   {
    "duration": 0,
    "start_time": "2022-06-25T05:48:36.150Z"
   },
   {
    "duration": 0,
    "start_time": "2022-06-25T05:48:36.151Z"
   },
   {
    "duration": 0,
    "start_time": "2022-06-25T05:48:36.152Z"
   },
   {
    "duration": 0,
    "start_time": "2022-06-25T05:48:36.153Z"
   },
   {
    "duration": 1116,
    "start_time": "2022-06-25T05:50:39.644Z"
   },
   {
    "duration": 3,
    "start_time": "2022-06-25T05:50:40.762Z"
   },
   {
    "duration": 58,
    "start_time": "2022-06-25T05:50:40.766Z"
   },
   {
    "duration": 20,
    "start_time": "2022-06-25T05:50:40.826Z"
   },
   {
    "duration": 27,
    "start_time": "2022-06-25T05:50:40.848Z"
   },
   {
    "duration": 14,
    "start_time": "2022-06-25T05:50:40.877Z"
   },
   {
    "duration": 6,
    "start_time": "2022-06-25T05:50:40.893Z"
   },
   {
    "duration": 28,
    "start_time": "2022-06-25T05:50:40.900Z"
   },
   {
    "duration": 17,
    "start_time": "2022-06-25T05:50:40.933Z"
   },
   {
    "duration": 5,
    "start_time": "2022-06-25T05:50:40.952Z"
   },
   {
    "duration": 3,
    "start_time": "2022-06-25T05:50:40.959Z"
   },
   {
    "duration": 7,
    "start_time": "2022-06-25T05:50:40.963Z"
   },
   {
    "duration": 12,
    "start_time": "2022-06-25T05:50:40.972Z"
   },
   {
    "duration": 16,
    "start_time": "2022-06-25T05:50:40.985Z"
   },
   {
    "duration": 33,
    "start_time": "2022-06-25T05:50:41.003Z"
   },
   {
    "duration": 10,
    "start_time": "2022-06-25T05:50:41.038Z"
   },
   {
    "duration": 6,
    "start_time": "2022-06-25T05:50:41.050Z"
   },
   {
    "duration": 9,
    "start_time": "2022-06-25T05:50:41.057Z"
   },
   {
    "duration": 12,
    "start_time": "2022-06-25T05:50:41.068Z"
   },
   {
    "duration": 4,
    "start_time": "2022-06-25T05:50:41.081Z"
   },
   {
    "duration": 6,
    "start_time": "2022-06-25T05:50:41.087Z"
   },
   {
    "duration": 6,
    "start_time": "2022-06-25T05:50:41.094Z"
   },
   {
    "duration": 17,
    "start_time": "2022-06-25T05:50:41.127Z"
   },
   {
    "duration": 13,
    "start_time": "2022-06-25T05:50:41.146Z"
   },
   {
    "duration": 416,
    "start_time": "2022-06-25T05:50:41.161Z"
   },
   {
    "duration": 414,
    "start_time": "2022-06-25T05:50:41.579Z"
   },
   {
    "duration": 16,
    "start_time": "2022-06-25T05:50:41.995Z"
   },
   {
    "duration": 62,
    "start_time": "2022-06-25T05:50:42.028Z"
   },
   {
    "duration": 352,
    "start_time": "2022-06-25T05:50:42.092Z"
   },
   {
    "duration": 28,
    "start_time": "2022-06-25T05:50:42.450Z"
   },
   {
    "duration": 18,
    "start_time": "2022-06-25T05:50:42.480Z"
   },
   {
    "duration": 4,
    "start_time": "2022-06-25T05:50:42.500Z"
   },
   {
    "duration": 27,
    "start_time": "2022-06-25T05:50:42.505Z"
   },
   {
    "duration": 54,
    "start_time": "2022-06-25T05:50:42.533Z"
   },
   {
    "duration": 485,
    "start_time": "2022-06-25T05:50:42.589Z"
   },
   {
    "duration": 14,
    "start_time": "2022-06-25T05:50:43.075Z"
   },
   {
    "duration": 743,
    "start_time": "2022-06-25T05:50:43.091Z"
   },
   {
    "duration": 3211,
    "start_time": "2022-06-25T05:50:43.838Z"
   },
   {
    "duration": 105,
    "start_time": "2022-06-25T05:50:47.051Z"
   },
   {
    "duration": 74,
    "start_time": "2022-06-25T05:50:47.158Z"
   },
   {
    "duration": 827,
    "start_time": "2022-06-25T05:50:47.235Z"
   },
   {
    "duration": 843,
    "start_time": "2022-06-25T05:50:48.063Z"
   },
   {
    "duration": 54,
    "start_time": "2022-06-25T05:50:48.908Z"
   },
   {
    "duration": 9,
    "start_time": "2022-06-25T05:50:48.963Z"
   },
   {
    "duration": 649,
    "start_time": "2022-06-25T05:50:48.974Z"
   },
   {
    "duration": 155,
    "start_time": "2022-06-25T05:50:49.625Z"
   },
   {
    "duration": 0,
    "start_time": "2022-06-25T05:50:49.782Z"
   },
   {
    "duration": 0,
    "start_time": "2022-06-25T05:50:49.784Z"
   },
   {
    "duration": 0,
    "start_time": "2022-06-25T05:50:49.786Z"
   },
   {
    "duration": 0,
    "start_time": "2022-06-25T05:50:49.787Z"
   },
   {
    "duration": 0,
    "start_time": "2022-06-25T05:50:49.788Z"
   },
   {
    "duration": 0,
    "start_time": "2022-06-25T05:50:49.790Z"
   },
   {
    "duration": 435,
    "start_time": "2022-06-25T05:57:08.534Z"
   },
   {
    "duration": 476,
    "start_time": "2022-06-25T05:58:55.420Z"
   },
   {
    "duration": 398,
    "start_time": "2022-06-25T06:00:27.448Z"
   },
   {
    "duration": 19,
    "start_time": "2022-06-25T06:03:35.066Z"
   },
   {
    "duration": 62,
    "start_time": "2022-06-25T06:03:41.479Z"
   },
   {
    "duration": 16,
    "start_time": "2022-06-25T06:03:45.781Z"
   },
   {
    "duration": 863,
    "start_time": "2022-06-25T06:05:51.540Z"
   },
   {
    "duration": 849,
    "start_time": "2022-06-25T06:05:57.116Z"
   },
   {
    "duration": 1207,
    "start_time": "2022-06-25T06:06:06.236Z"
   },
   {
    "duration": 3,
    "start_time": "2022-06-25T06:06:07.445Z"
   },
   {
    "duration": 61,
    "start_time": "2022-06-25T06:06:07.450Z"
   },
   {
    "duration": 16,
    "start_time": "2022-06-25T06:06:07.513Z"
   },
   {
    "duration": 26,
    "start_time": "2022-06-25T06:06:07.531Z"
   },
   {
    "duration": 13,
    "start_time": "2022-06-25T06:06:07.559Z"
   },
   {
    "duration": 3,
    "start_time": "2022-06-25T06:06:07.573Z"
   },
   {
    "duration": 16,
    "start_time": "2022-06-25T06:06:07.578Z"
   },
   {
    "duration": 31,
    "start_time": "2022-06-25T06:06:07.596Z"
   },
   {
    "duration": 6,
    "start_time": "2022-06-25T06:06:07.630Z"
   },
   {
    "duration": 7,
    "start_time": "2022-06-25T06:06:07.637Z"
   },
   {
    "duration": 9,
    "start_time": "2022-06-25T06:06:07.646Z"
   },
   {
    "duration": 14,
    "start_time": "2022-06-25T06:06:07.656Z"
   },
   {
    "duration": 13,
    "start_time": "2022-06-25T06:06:07.672Z"
   },
   {
    "duration": 14,
    "start_time": "2022-06-25T06:06:07.687Z"
   },
   {
    "duration": 31,
    "start_time": "2022-06-25T06:06:07.702Z"
   },
   {
    "duration": 4,
    "start_time": "2022-06-25T06:06:07.735Z"
   },
   {
    "duration": 7,
    "start_time": "2022-06-25T06:06:07.740Z"
   },
   {
    "duration": 11,
    "start_time": "2022-06-25T06:06:07.748Z"
   },
   {
    "duration": 4,
    "start_time": "2022-06-25T06:06:07.760Z"
   },
   {
    "duration": 8,
    "start_time": "2022-06-25T06:06:07.766Z"
   },
   {
    "duration": 7,
    "start_time": "2022-06-25T06:06:07.775Z"
   },
   {
    "duration": 11,
    "start_time": "2022-06-25T06:06:07.783Z"
   },
   {
    "duration": 39,
    "start_time": "2022-06-25T06:06:07.796Z"
   },
   {
    "duration": 423,
    "start_time": "2022-06-25T06:06:07.837Z"
   },
   {
    "duration": 19,
    "start_time": "2022-06-25T06:06:08.262Z"
   },
   {
    "duration": 72,
    "start_time": "2022-06-25T06:06:08.283Z"
   },
   {
    "duration": 327,
    "start_time": "2022-06-25T06:06:08.359Z"
   },
   {
    "duration": 1129,
    "start_time": "2022-06-25T06:06:08.688Z"
   },
   {
    "duration": 0,
    "start_time": "2022-06-25T06:06:09.818Z"
   },
   {
    "duration": 0,
    "start_time": "2022-06-25T06:06:09.820Z"
   },
   {
    "duration": 0,
    "start_time": "2022-06-25T06:06:09.821Z"
   },
   {
    "duration": 0,
    "start_time": "2022-06-25T06:06:09.822Z"
   },
   {
    "duration": 0,
    "start_time": "2022-06-25T06:06:09.823Z"
   },
   {
    "duration": 0,
    "start_time": "2022-06-25T06:06:09.824Z"
   },
   {
    "duration": 0,
    "start_time": "2022-06-25T06:06:09.825Z"
   },
   {
    "duration": 0,
    "start_time": "2022-06-25T06:06:09.826Z"
   },
   {
    "duration": 0,
    "start_time": "2022-06-25T06:06:09.827Z"
   },
   {
    "duration": 0,
    "start_time": "2022-06-25T06:06:09.828Z"
   },
   {
    "duration": 0,
    "start_time": "2022-06-25T06:06:09.829Z"
   },
   {
    "duration": 0,
    "start_time": "2022-06-25T06:06:09.829Z"
   },
   {
    "duration": 0,
    "start_time": "2022-06-25T06:06:09.830Z"
   },
   {
    "duration": 0,
    "start_time": "2022-06-25T06:06:09.831Z"
   },
   {
    "duration": 0,
    "start_time": "2022-06-25T06:06:09.832Z"
   },
   {
    "duration": 0,
    "start_time": "2022-06-25T06:06:09.833Z"
   },
   {
    "duration": 0,
    "start_time": "2022-06-25T06:06:09.834Z"
   },
   {
    "duration": 0,
    "start_time": "2022-06-25T06:06:09.836Z"
   },
   {
    "duration": 0,
    "start_time": "2022-06-25T06:06:09.837Z"
   },
   {
    "duration": 0,
    "start_time": "2022-06-25T06:06:09.838Z"
   },
   {
    "duration": 0,
    "start_time": "2022-06-25T06:06:09.839Z"
   },
   {
    "duration": 0,
    "start_time": "2022-06-25T06:06:09.840Z"
   },
   {
    "duration": 804,
    "start_time": "2022-06-25T06:07:17.595Z"
   },
   {
    "duration": 19,
    "start_time": "2022-06-25T06:07:23.384Z"
   },
   {
    "duration": 1071,
    "start_time": "2022-06-25T06:07:31.459Z"
   },
   {
    "duration": 3,
    "start_time": "2022-06-25T06:07:32.532Z"
   },
   {
    "duration": 63,
    "start_time": "2022-06-25T06:07:32.537Z"
   },
   {
    "duration": 14,
    "start_time": "2022-06-25T06:07:32.602Z"
   },
   {
    "duration": 31,
    "start_time": "2022-06-25T06:07:32.617Z"
   },
   {
    "duration": 13,
    "start_time": "2022-06-25T06:07:32.649Z"
   },
   {
    "duration": 5,
    "start_time": "2022-06-25T06:07:32.664Z"
   },
   {
    "duration": 13,
    "start_time": "2022-06-25T06:07:32.670Z"
   },
   {
    "duration": 18,
    "start_time": "2022-06-25T06:07:32.684Z"
   },
   {
    "duration": 5,
    "start_time": "2022-06-25T06:07:32.704Z"
   },
   {
    "duration": 4,
    "start_time": "2022-06-25T06:07:32.728Z"
   },
   {
    "duration": 9,
    "start_time": "2022-06-25T06:07:32.733Z"
   },
   {
    "duration": 26,
    "start_time": "2022-06-25T06:07:32.744Z"
   },
   {
    "duration": 11,
    "start_time": "2022-06-25T06:07:32.772Z"
   },
   {
    "duration": 12,
    "start_time": "2022-06-25T06:07:32.785Z"
   },
   {
    "duration": 8,
    "start_time": "2022-06-25T06:07:32.799Z"
   },
   {
    "duration": 19,
    "start_time": "2022-06-25T06:07:32.808Z"
   },
   {
    "duration": 5,
    "start_time": "2022-06-25T06:07:32.828Z"
   },
   {
    "duration": 10,
    "start_time": "2022-06-25T06:07:32.834Z"
   },
   {
    "duration": 4,
    "start_time": "2022-06-25T06:07:32.846Z"
   },
   {
    "duration": 8,
    "start_time": "2022-06-25T06:07:32.851Z"
   },
   {
    "duration": 6,
    "start_time": "2022-06-25T06:07:32.861Z"
   },
   {
    "duration": 10,
    "start_time": "2022-06-25T06:07:32.868Z"
   },
   {
    "duration": 13,
    "start_time": "2022-06-25T06:07:32.879Z"
   },
   {
    "duration": 451,
    "start_time": "2022-06-25T06:07:32.894Z"
   },
   {
    "duration": 14,
    "start_time": "2022-06-25T06:07:33.347Z"
   },
   {
    "duration": 49,
    "start_time": "2022-06-25T06:07:33.362Z"
   },
   {
    "duration": 308,
    "start_time": "2022-06-25T06:07:33.427Z"
   },
   {
    "duration": 19,
    "start_time": "2022-06-25T06:07:33.736Z"
   },
   {
    "duration": 14,
    "start_time": "2022-06-25T06:07:33.757Z"
   },
   {
    "duration": 4,
    "start_time": "2022-06-25T06:07:33.772Z"
   },
   {
    "duration": 16,
    "start_time": "2022-06-25T06:07:33.778Z"
   },
   {
    "duration": 67,
    "start_time": "2022-06-25T06:07:33.796Z"
   },
   {
    "duration": 691,
    "start_time": "2022-06-25T06:07:33.865Z"
   },
   {
    "duration": 13,
    "start_time": "2022-06-25T06:07:34.558Z"
   },
   {
    "duration": 1001,
    "start_time": "2022-06-25T06:07:34.626Z"
   },
   {
    "duration": 2107,
    "start_time": "2022-06-25T06:07:35.629Z"
   },
   {
    "duration": 40,
    "start_time": "2022-06-25T06:07:37.738Z"
   },
   {
    "duration": 12,
    "start_time": "2022-06-25T06:07:37.780Z"
   },
   {
    "duration": 413,
    "start_time": "2022-06-25T06:07:37.794Z"
   },
   {
    "duration": 404,
    "start_time": "2022-06-25T06:07:38.208Z"
   },
   {
    "duration": 37,
    "start_time": "2022-06-25T06:07:38.614Z"
   },
   {
    "duration": 9,
    "start_time": "2022-06-25T06:07:38.652Z"
   },
   {
    "duration": 636,
    "start_time": "2022-06-25T06:07:38.662Z"
   },
   {
    "duration": 107,
    "start_time": "2022-06-25T06:07:39.300Z"
   },
   {
    "duration": 0,
    "start_time": "2022-06-25T06:07:39.409Z"
   },
   {
    "duration": 0,
    "start_time": "2022-06-25T06:07:39.410Z"
   },
   {
    "duration": 0,
    "start_time": "2022-06-25T06:07:39.411Z"
   },
   {
    "duration": 0,
    "start_time": "2022-06-25T06:07:39.412Z"
   },
   {
    "duration": 0,
    "start_time": "2022-06-25T06:07:39.427Z"
   },
   {
    "duration": 0,
    "start_time": "2022-06-25T06:07:39.428Z"
   },
   {
    "duration": 1130,
    "start_time": "2022-06-25T06:08:39.949Z"
   },
   {
    "duration": 2,
    "start_time": "2022-06-25T06:08:41.081Z"
   },
   {
    "duration": 60,
    "start_time": "2022-06-25T06:08:41.084Z"
   },
   {
    "duration": 15,
    "start_time": "2022-06-25T06:08:41.146Z"
   },
   {
    "duration": 27,
    "start_time": "2022-06-25T06:08:41.164Z"
   },
   {
    "duration": 13,
    "start_time": "2022-06-25T06:08:41.192Z"
   },
   {
    "duration": 21,
    "start_time": "2022-06-25T06:08:41.207Z"
   },
   {
    "duration": 13,
    "start_time": "2022-06-25T06:08:41.229Z"
   },
   {
    "duration": 22,
    "start_time": "2022-06-25T06:08:41.243Z"
   },
   {
    "duration": 7,
    "start_time": "2022-06-25T06:08:41.267Z"
   },
   {
    "duration": 4,
    "start_time": "2022-06-25T06:08:41.275Z"
   },
   {
    "duration": 8,
    "start_time": "2022-06-25T06:08:41.280Z"
   },
   {
    "duration": 38,
    "start_time": "2022-06-25T06:08:41.290Z"
   },
   {
    "duration": 12,
    "start_time": "2022-06-25T06:08:41.331Z"
   },
   {
    "duration": 13,
    "start_time": "2022-06-25T06:08:41.345Z"
   },
   {
    "duration": 8,
    "start_time": "2022-06-25T06:08:41.360Z"
   },
   {
    "duration": 4,
    "start_time": "2022-06-25T06:08:41.370Z"
   },
   {
    "duration": 6,
    "start_time": "2022-06-25T06:08:41.376Z"
   },
   {
    "duration": 14,
    "start_time": "2022-06-25T06:08:41.383Z"
   },
   {
    "duration": 32,
    "start_time": "2022-06-25T06:08:41.398Z"
   },
   {
    "duration": 13,
    "start_time": "2022-06-25T06:08:41.431Z"
   },
   {
    "duration": 7,
    "start_time": "2022-06-25T06:08:41.446Z"
   },
   {
    "duration": 10,
    "start_time": "2022-06-25T06:08:41.455Z"
   },
   {
    "duration": 12,
    "start_time": "2022-06-25T06:08:41.467Z"
   },
   {
    "duration": 436,
    "start_time": "2022-06-25T06:08:41.481Z"
   },
   {
    "duration": 18,
    "start_time": "2022-06-25T06:08:41.919Z"
   },
   {
    "duration": 52,
    "start_time": "2022-06-25T06:08:41.938Z"
   },
   {
    "duration": 333,
    "start_time": "2022-06-25T06:08:41.991Z"
   },
   {
    "duration": 4,
    "start_time": "2022-06-25T06:08:42.327Z"
   },
   {
    "duration": 22,
    "start_time": "2022-06-25T06:08:42.333Z"
   },
   {
    "duration": 782,
    "start_time": "2022-06-25T06:08:42.357Z"
   },
   {
    "duration": 0,
    "start_time": "2022-06-25T06:08:43.141Z"
   },
   {
    "duration": 0,
    "start_time": "2022-06-25T06:08:43.143Z"
   },
   {
    "duration": 0,
    "start_time": "2022-06-25T06:08:43.144Z"
   },
   {
    "duration": 0,
    "start_time": "2022-06-25T06:08:43.146Z"
   },
   {
    "duration": 0,
    "start_time": "2022-06-25T06:08:43.147Z"
   },
   {
    "duration": 0,
    "start_time": "2022-06-25T06:08:43.149Z"
   },
   {
    "duration": 0,
    "start_time": "2022-06-25T06:08:43.150Z"
   },
   {
    "duration": 0,
    "start_time": "2022-06-25T06:08:43.151Z"
   },
   {
    "duration": 0,
    "start_time": "2022-06-25T06:08:43.152Z"
   },
   {
    "duration": 0,
    "start_time": "2022-06-25T06:08:43.153Z"
   },
   {
    "duration": 0,
    "start_time": "2022-06-25T06:08:43.154Z"
   },
   {
    "duration": 0,
    "start_time": "2022-06-25T06:08:43.155Z"
   },
   {
    "duration": 0,
    "start_time": "2022-06-25T06:08:43.156Z"
   },
   {
    "duration": 0,
    "start_time": "2022-06-25T06:08:43.157Z"
   },
   {
    "duration": 0,
    "start_time": "2022-06-25T06:08:43.159Z"
   },
   {
    "duration": 0,
    "start_time": "2022-06-25T06:08:43.160Z"
   },
   {
    "duration": 0,
    "start_time": "2022-06-25T06:08:43.161Z"
   },
   {
    "duration": 0,
    "start_time": "2022-06-25T06:08:43.162Z"
   },
   {
    "duration": 0,
    "start_time": "2022-06-25T06:08:43.162Z"
   },
   {
    "duration": 0,
    "start_time": "2022-06-25T06:08:43.163Z"
   },
   {
    "duration": 0,
    "start_time": "2022-06-25T06:08:43.164Z"
   },
   {
    "duration": 0,
    "start_time": "2022-06-25T06:08:43.165Z"
   },
   {
    "duration": 1178,
    "start_time": "2022-06-25T06:10:04.260Z"
   },
   {
    "duration": 3,
    "start_time": "2022-06-25T06:10:05.440Z"
   },
   {
    "duration": 62,
    "start_time": "2022-06-25T06:10:05.444Z"
   },
   {
    "duration": 15,
    "start_time": "2022-06-25T06:10:05.508Z"
   },
   {
    "duration": 34,
    "start_time": "2022-06-25T06:10:05.525Z"
   },
   {
    "duration": 13,
    "start_time": "2022-06-25T06:10:05.561Z"
   },
   {
    "duration": 3,
    "start_time": "2022-06-25T06:10:05.576Z"
   },
   {
    "duration": 24,
    "start_time": "2022-06-25T06:10:05.580Z"
   },
   {
    "duration": 21,
    "start_time": "2022-06-25T06:10:05.606Z"
   },
   {
    "duration": 5,
    "start_time": "2022-06-25T06:10:05.629Z"
   },
   {
    "duration": 5,
    "start_time": "2022-06-25T06:10:05.636Z"
   },
   {
    "duration": 5,
    "start_time": "2022-06-25T06:10:05.642Z"
   },
   {
    "duration": 16,
    "start_time": "2022-06-25T06:10:05.649Z"
   },
   {
    "duration": 21,
    "start_time": "2022-06-25T06:10:05.668Z"
   },
   {
    "duration": 13,
    "start_time": "2022-06-25T06:10:05.691Z"
   },
   {
    "duration": 26,
    "start_time": "2022-06-25T06:10:05.705Z"
   },
   {
    "duration": 4,
    "start_time": "2022-06-25T06:10:05.732Z"
   },
   {
    "duration": 8,
    "start_time": "2022-06-25T06:10:05.738Z"
   },
   {
    "duration": 22,
    "start_time": "2022-06-25T06:10:05.748Z"
   },
   {
    "duration": 4,
    "start_time": "2022-06-25T06:10:05.772Z"
   },
   {
    "duration": 9,
    "start_time": "2022-06-25T06:10:05.777Z"
   },
   {
    "duration": 5,
    "start_time": "2022-06-25T06:10:05.788Z"
   },
   {
    "duration": 10,
    "start_time": "2022-06-25T06:10:05.794Z"
   },
   {
    "duration": 29,
    "start_time": "2022-06-25T06:10:05.805Z"
   },
   {
    "duration": 439,
    "start_time": "2022-06-25T06:10:05.835Z"
   },
   {
    "duration": 18,
    "start_time": "2022-06-25T06:10:06.277Z"
   },
   {
    "duration": 80,
    "start_time": "2022-06-25T06:10:06.297Z"
   },
   {
    "duration": 349,
    "start_time": "2022-06-25T06:10:06.379Z"
   },
   {
    "duration": 4,
    "start_time": "2022-06-25T06:10:06.730Z"
   },
   {
    "duration": 25,
    "start_time": "2022-06-25T06:10:06.735Z"
   },
   {
    "duration": 946,
    "start_time": "2022-06-25T06:10:06.761Z"
   },
   {
    "duration": 0,
    "start_time": "2022-06-25T06:10:07.709Z"
   },
   {
    "duration": 0,
    "start_time": "2022-06-25T06:10:07.710Z"
   },
   {
    "duration": 0,
    "start_time": "2022-06-25T06:10:07.712Z"
   },
   {
    "duration": 0,
    "start_time": "2022-06-25T06:10:07.713Z"
   },
   {
    "duration": 1,
    "start_time": "2022-06-25T06:10:07.713Z"
   },
   {
    "duration": 0,
    "start_time": "2022-06-25T06:10:07.727Z"
   },
   {
    "duration": 0,
    "start_time": "2022-06-25T06:10:07.729Z"
   },
   {
    "duration": 0,
    "start_time": "2022-06-25T06:10:07.729Z"
   },
   {
    "duration": 0,
    "start_time": "2022-06-25T06:10:07.730Z"
   },
   {
    "duration": 1,
    "start_time": "2022-06-25T06:10:07.731Z"
   },
   {
    "duration": 0,
    "start_time": "2022-06-25T06:10:07.732Z"
   },
   {
    "duration": 0,
    "start_time": "2022-06-25T06:10:07.733Z"
   },
   {
    "duration": 0,
    "start_time": "2022-06-25T06:10:07.734Z"
   },
   {
    "duration": 0,
    "start_time": "2022-06-25T06:10:07.735Z"
   },
   {
    "duration": 0,
    "start_time": "2022-06-25T06:10:07.736Z"
   },
   {
    "duration": 0,
    "start_time": "2022-06-25T06:10:07.737Z"
   },
   {
    "duration": 0,
    "start_time": "2022-06-25T06:10:07.738Z"
   },
   {
    "duration": 0,
    "start_time": "2022-06-25T06:10:07.740Z"
   },
   {
    "duration": 0,
    "start_time": "2022-06-25T06:10:07.740Z"
   },
   {
    "duration": 0,
    "start_time": "2022-06-25T06:10:07.741Z"
   },
   {
    "duration": 0,
    "start_time": "2022-06-25T06:10:07.743Z"
   },
   {
    "duration": 0,
    "start_time": "2022-06-25T06:10:07.744Z"
   },
   {
    "duration": 21,
    "start_time": "2022-06-25T06:11:27.164Z"
   },
   {
    "duration": 1137,
    "start_time": "2022-06-25T06:11:33.106Z"
   },
   {
    "duration": 3,
    "start_time": "2022-06-25T06:11:34.245Z"
   },
   {
    "duration": 62,
    "start_time": "2022-06-25T06:11:34.250Z"
   },
   {
    "duration": 16,
    "start_time": "2022-06-25T06:11:34.314Z"
   },
   {
    "duration": 27,
    "start_time": "2022-06-25T06:11:34.333Z"
   },
   {
    "duration": 12,
    "start_time": "2022-06-25T06:11:34.362Z"
   },
   {
    "duration": 3,
    "start_time": "2022-06-25T06:11:34.376Z"
   },
   {
    "duration": 12,
    "start_time": "2022-06-25T06:11:34.381Z"
   },
   {
    "duration": 40,
    "start_time": "2022-06-25T06:11:34.394Z"
   },
   {
    "duration": 6,
    "start_time": "2022-06-25T06:11:34.436Z"
   },
   {
    "duration": 7,
    "start_time": "2022-06-25T06:11:34.443Z"
   },
   {
    "duration": 6,
    "start_time": "2022-06-25T06:11:34.451Z"
   },
   {
    "duration": 13,
    "start_time": "2022-06-25T06:11:34.459Z"
   },
   {
    "duration": 11,
    "start_time": "2022-06-25T06:11:34.474Z"
   },
   {
    "duration": 12,
    "start_time": "2022-06-25T06:11:34.487Z"
   },
   {
    "duration": 34,
    "start_time": "2022-06-25T06:11:34.501Z"
   },
   {
    "duration": 5,
    "start_time": "2022-06-25T06:11:34.536Z"
   },
   {
    "duration": 6,
    "start_time": "2022-06-25T06:11:34.542Z"
   },
   {
    "duration": 11,
    "start_time": "2022-06-25T06:11:34.550Z"
   },
   {
    "duration": 4,
    "start_time": "2022-06-25T06:11:34.563Z"
   },
   {
    "duration": 5,
    "start_time": "2022-06-25T06:11:34.568Z"
   },
   {
    "duration": 6,
    "start_time": "2022-06-25T06:11:34.574Z"
   },
   {
    "duration": 10,
    "start_time": "2022-06-25T06:11:34.582Z"
   },
   {
    "duration": 41,
    "start_time": "2022-06-25T06:11:34.594Z"
   },
   {
    "duration": 444,
    "start_time": "2022-06-25T06:11:34.637Z"
   },
   {
    "duration": 14,
    "start_time": "2022-06-25T06:11:35.082Z"
   },
   {
    "duration": 66,
    "start_time": "2022-06-25T06:11:35.097Z"
   },
   {
    "duration": 342,
    "start_time": "2022-06-25T06:11:35.165Z"
   },
   {
    "duration": 26,
    "start_time": "2022-06-25T06:11:35.509Z"
   },
   {
    "duration": 19,
    "start_time": "2022-06-25T06:11:35.537Z"
   },
   {
    "duration": 4,
    "start_time": "2022-06-25T06:11:35.558Z"
   },
   {
    "duration": 15,
    "start_time": "2022-06-25T06:11:35.564Z"
   },
   {
    "duration": 64,
    "start_time": "2022-06-25T06:11:35.580Z"
   },
   {
    "duration": 503,
    "start_time": "2022-06-25T06:11:35.645Z"
   },
   {
    "duration": 15,
    "start_time": "2022-06-25T06:11:36.150Z"
   },
   {
    "duration": 727,
    "start_time": "2022-06-25T06:11:36.167Z"
   },
   {
    "duration": 1961,
    "start_time": "2022-06-25T06:11:36.896Z"
   },
   {
    "duration": 36,
    "start_time": "2022-06-25T06:11:38.859Z"
   },
   {
    "duration": 31,
    "start_time": "2022-06-25T06:11:38.897Z"
   },
   {
    "duration": 416,
    "start_time": "2022-06-25T06:11:38.930Z"
   },
   {
    "duration": 416,
    "start_time": "2022-06-25T06:11:39.350Z"
   },
   {
    "duration": 30,
    "start_time": "2022-06-25T06:11:39.768Z"
   },
   {
    "duration": 10,
    "start_time": "2022-06-25T06:11:39.800Z"
   },
   {
    "duration": 591,
    "start_time": "2022-06-25T06:11:39.828Z"
   },
   {
    "duration": 112,
    "start_time": "2022-06-25T06:11:40.421Z"
   },
   {
    "duration": 0,
    "start_time": "2022-06-25T06:11:40.535Z"
   },
   {
    "duration": 0,
    "start_time": "2022-06-25T06:11:40.536Z"
   },
   {
    "duration": 0,
    "start_time": "2022-06-25T06:11:40.538Z"
   },
   {
    "duration": 0,
    "start_time": "2022-06-25T06:11:40.539Z"
   },
   {
    "duration": 0,
    "start_time": "2022-06-25T06:11:40.540Z"
   },
   {
    "duration": 0,
    "start_time": "2022-06-25T06:11:40.541Z"
   },
   {
    "duration": 465,
    "start_time": "2022-06-25T06:23:41.383Z"
   },
   {
    "duration": 556,
    "start_time": "2022-06-25T06:23:44.574Z"
   },
   {
    "duration": 445,
    "start_time": "2022-06-25T06:23:46.902Z"
   },
   {
    "duration": 428,
    "start_time": "2022-06-25T06:24:18.166Z"
   },
   {
    "duration": 484,
    "start_time": "2022-06-25T06:24:26.280Z"
   },
   {
    "duration": 426,
    "start_time": "2022-06-25T06:24:31.526Z"
   },
   {
    "duration": 489,
    "start_time": "2022-06-25T06:25:03.788Z"
   },
   {
    "duration": 550,
    "start_time": "2022-06-25T06:25:33.971Z"
   },
   {
    "duration": 48,
    "start_time": "2022-06-25T06:25:42.379Z"
   },
   {
    "duration": 473,
    "start_time": "2022-06-25T06:25:45.498Z"
   },
   {
    "duration": 468,
    "start_time": "2022-06-25T06:25:51.027Z"
   },
   {
    "duration": 475,
    "start_time": "2022-06-25T06:25:55.847Z"
   },
   {
    "duration": 528,
    "start_time": "2022-06-25T06:26:16.019Z"
   },
   {
    "duration": 538,
    "start_time": "2022-06-25T06:26:29.427Z"
   },
   {
    "duration": 414,
    "start_time": "2022-06-25T06:27:01.351Z"
   },
   {
    "duration": 408,
    "start_time": "2022-06-25T06:27:25.663Z"
   },
   {
    "duration": 403,
    "start_time": "2022-06-25T06:27:30.647Z"
   },
   {
    "duration": 460,
    "start_time": "2022-06-25T06:27:44.994Z"
   },
   {
    "duration": 433,
    "start_time": "2022-06-25T06:27:47.826Z"
   },
   {
    "duration": 533,
    "start_time": "2022-06-25T06:27:52.131Z"
   },
   {
    "duration": 451,
    "start_time": "2022-06-25T06:27:57.003Z"
   },
   {
    "duration": 12,
    "start_time": "2022-06-25T06:28:47.443Z"
   },
   {
    "duration": 445,
    "start_time": "2022-06-25T06:29:52.307Z"
   },
   {
    "duration": 450,
    "start_time": "2022-06-25T06:30:56.360Z"
   },
   {
    "duration": 463,
    "start_time": "2022-06-25T06:31:45.822Z"
   },
   {
    "duration": 11,
    "start_time": "2022-06-25T06:32:27.135Z"
   },
   {
    "duration": 12,
    "start_time": "2022-06-25T06:32:36.470Z"
   },
   {
    "duration": 2830,
    "start_time": "2022-06-25T06:32:39.823Z"
   },
   {
    "duration": 533,
    "start_time": "2022-06-25T06:32:54.299Z"
   },
   {
    "duration": 468,
    "start_time": "2022-06-25T06:34:00.780Z"
   },
   {
    "duration": 9,
    "start_time": "2022-06-25T06:34:13.515Z"
   },
   {
    "duration": 31,
    "start_time": "2022-06-25T06:34:24.118Z"
   },
   {
    "duration": 15,
    "start_time": "2022-06-25T06:35:38.265Z"
   },
   {
    "duration": 28,
    "start_time": "2022-06-25T06:36:38.570Z"
   },
   {
    "duration": 16,
    "start_time": "2022-06-25T06:38:03.610Z"
   },
   {
    "duration": 12,
    "start_time": "2022-06-25T06:38:07.494Z"
   },
   {
    "duration": 29,
    "start_time": "2022-06-25T06:38:12.875Z"
   },
   {
    "duration": 443,
    "start_time": "2022-06-25T06:45:00.442Z"
   },
   {
    "duration": 570,
    "start_time": "2022-06-25T06:45:41.170Z"
   },
   {
    "duration": 460,
    "start_time": "2022-06-25T06:46:03.662Z"
   },
   {
    "duration": 407,
    "start_time": "2022-06-25T06:46:21.055Z"
   },
   {
    "duration": 450,
    "start_time": "2022-06-25T06:46:24.423Z"
   },
   {
    "duration": 607,
    "start_time": "2022-06-25T07:42:54.464Z"
   },
   {
    "duration": 667,
    "start_time": "2022-06-25T07:43:00.381Z"
   },
   {
    "duration": 604,
    "start_time": "2022-06-25T07:43:40.046Z"
   },
   {
    "duration": 479,
    "start_time": "2022-06-25T07:53:17.585Z"
   },
   {
    "duration": 458,
    "start_time": "2022-06-25T07:54:11.328Z"
   },
   {
    "duration": 427,
    "start_time": "2022-06-25T07:57:03.510Z"
   },
   {
    "duration": 458,
    "start_time": "2022-06-25T08:18:52.246Z"
   },
   {
    "duration": 477,
    "start_time": "2022-06-25T08:19:08.231Z"
   },
   {
    "duration": 1156,
    "start_time": "2022-06-25T08:30:22.469Z"
   },
   {
    "duration": 3,
    "start_time": "2022-06-25T08:30:23.627Z"
   },
   {
    "duration": 74,
    "start_time": "2022-06-25T08:30:23.632Z"
   },
   {
    "duration": 15,
    "start_time": "2022-06-25T08:30:23.708Z"
   },
   {
    "duration": 41,
    "start_time": "2022-06-25T08:30:23.725Z"
   },
   {
    "duration": 14,
    "start_time": "2022-06-25T08:30:23.767Z"
   },
   {
    "duration": 3,
    "start_time": "2022-06-25T08:30:23.782Z"
   },
   {
    "duration": 17,
    "start_time": "2022-06-25T08:30:23.787Z"
   },
   {
    "duration": 25,
    "start_time": "2022-06-25T08:30:23.806Z"
   },
   {
    "duration": 20,
    "start_time": "2022-06-25T08:30:23.833Z"
   },
   {
    "duration": 7,
    "start_time": "2022-06-25T08:30:23.855Z"
   },
   {
    "duration": 8,
    "start_time": "2022-06-25T08:30:23.864Z"
   },
   {
    "duration": 12,
    "start_time": "2022-06-25T08:30:23.873Z"
   },
   {
    "duration": 17,
    "start_time": "2022-06-25T08:30:23.889Z"
   },
   {
    "duration": 22,
    "start_time": "2022-06-25T08:30:23.908Z"
   },
   {
    "duration": 14,
    "start_time": "2022-06-25T08:30:23.933Z"
   },
   {
    "duration": 4,
    "start_time": "2022-06-25T08:30:23.952Z"
   },
   {
    "duration": 10,
    "start_time": "2022-06-25T08:30:23.958Z"
   },
   {
    "duration": 11,
    "start_time": "2022-06-25T08:30:23.970Z"
   },
   {
    "duration": 4,
    "start_time": "2022-06-25T08:30:23.982Z"
   },
   {
    "duration": 5,
    "start_time": "2022-06-25T08:30:23.987Z"
   },
   {
    "duration": 5,
    "start_time": "2022-06-25T08:30:23.993Z"
   },
   {
    "duration": 41,
    "start_time": "2022-06-25T08:30:24.000Z"
   },
   {
    "duration": 17,
    "start_time": "2022-06-25T08:30:24.044Z"
   },
   {
    "duration": 421,
    "start_time": "2022-06-25T08:30:24.063Z"
   },
   {
    "duration": 14,
    "start_time": "2022-06-25T08:30:24.486Z"
   },
   {
    "duration": 73,
    "start_time": "2022-06-25T08:30:24.501Z"
   },
   {
    "duration": 358,
    "start_time": "2022-06-25T08:30:24.575Z"
   },
   {
    "duration": 24,
    "start_time": "2022-06-25T08:30:24.934Z"
   },
   {
    "duration": 18,
    "start_time": "2022-06-25T08:30:24.960Z"
   },
   {
    "duration": 4,
    "start_time": "2022-06-25T08:30:24.980Z"
   },
   {
    "duration": 18,
    "start_time": "2022-06-25T08:30:24.985Z"
   },
   {
    "duration": 62,
    "start_time": "2022-06-25T08:30:25.004Z"
   },
   {
    "duration": 491,
    "start_time": "2022-06-25T08:30:25.067Z"
   },
   {
    "duration": 31,
    "start_time": "2022-06-25T08:30:25.559Z"
   },
   {
    "duration": 13,
    "start_time": "2022-06-25T08:30:25.591Z"
   },
   {
    "duration": 726,
    "start_time": "2022-06-25T08:30:25.606Z"
   },
   {
    "duration": 2035,
    "start_time": "2022-06-25T08:30:26.336Z"
   },
   {
    "duration": 38,
    "start_time": "2022-06-25T08:30:28.373Z"
   },
   {
    "duration": 34,
    "start_time": "2022-06-25T08:30:28.413Z"
   },
   {
    "duration": 431,
    "start_time": "2022-06-25T08:30:28.449Z"
   },
   {
    "duration": 459,
    "start_time": "2022-06-25T08:30:28.882Z"
   },
   {
    "duration": 32,
    "start_time": "2022-06-25T08:30:29.343Z"
   },
   {
    "duration": 9,
    "start_time": "2022-06-25T08:30:29.377Z"
   },
   {
    "duration": 629,
    "start_time": "2022-06-25T08:30:29.388Z"
   },
   {
    "duration": 124,
    "start_time": "2022-06-25T08:30:30.018Z"
   },
   {
    "duration": 1,
    "start_time": "2022-06-25T08:30:30.143Z"
   },
   {
    "duration": 0,
    "start_time": "2022-06-25T08:30:30.145Z"
   },
   {
    "duration": 0,
    "start_time": "2022-06-25T08:30:30.146Z"
   },
   {
    "duration": 0,
    "start_time": "2022-06-25T08:30:30.148Z"
   },
   {
    "duration": 0,
    "start_time": "2022-06-25T08:30:30.149Z"
   },
   {
    "duration": 0,
    "start_time": "2022-06-25T08:30:30.151Z"
   },
   {
    "duration": 12,
    "start_time": "2022-06-25T08:33:30.075Z"
   },
   {
    "duration": 14,
    "start_time": "2022-06-25T08:33:48.589Z"
   },
   {
    "duration": 17,
    "start_time": "2022-06-25T08:33:51.134Z"
   },
   {
    "duration": 16,
    "start_time": "2022-06-25T08:34:00.884Z"
   },
   {
    "duration": 587,
    "start_time": "2022-06-25T08:34:16.846Z"
   },
   {
    "duration": 632,
    "start_time": "2022-06-25T08:36:08.194Z"
   },
   {
    "duration": 16,
    "start_time": "2022-06-25T08:36:42.570Z"
   },
   {
    "duration": 14,
    "start_time": "2022-06-25T08:36:44.438Z"
   },
   {
    "duration": 386,
    "start_time": "2022-06-25T08:36:47.369Z"
   },
   {
    "duration": 527,
    "start_time": "2022-06-25T08:37:43.727Z"
   },
   {
    "duration": 16,
    "start_time": "2022-06-25T08:40:28.190Z"
   },
   {
    "duration": 15,
    "start_time": "2022-06-25T08:40:49.325Z"
   },
   {
    "duration": 2,
    "start_time": "2022-06-25T08:43:00.589Z"
   },
   {
    "duration": 12,
    "start_time": "2022-06-25T08:43:04.507Z"
   },
   {
    "duration": 1104,
    "start_time": "2022-06-25T09:23:18.716Z"
   },
   {
    "duration": 3,
    "start_time": "2022-06-25T09:23:19.823Z"
   },
   {
    "duration": 72,
    "start_time": "2022-06-25T09:23:19.828Z"
   },
   {
    "duration": 18,
    "start_time": "2022-06-25T09:23:19.903Z"
   },
   {
    "duration": 45,
    "start_time": "2022-06-25T09:23:19.923Z"
   },
   {
    "duration": 15,
    "start_time": "2022-06-25T09:23:19.970Z"
   },
   {
    "duration": 3,
    "start_time": "2022-06-25T09:23:19.987Z"
   },
   {
    "duration": 13,
    "start_time": "2022-06-25T09:23:19.991Z"
   },
   {
    "duration": 18,
    "start_time": "2022-06-25T09:23:20.006Z"
   },
   {
    "duration": 27,
    "start_time": "2022-06-25T09:23:20.027Z"
   },
   {
    "duration": 4,
    "start_time": "2022-06-25T09:23:20.056Z"
   },
   {
    "duration": 9,
    "start_time": "2022-06-25T09:23:20.062Z"
   },
   {
    "duration": 15,
    "start_time": "2022-06-25T09:23:20.072Z"
   },
   {
    "duration": 25,
    "start_time": "2022-06-25T09:23:20.089Z"
   },
   {
    "duration": 16,
    "start_time": "2022-06-25T09:23:20.116Z"
   },
   {
    "duration": 28,
    "start_time": "2022-06-25T09:23:20.134Z"
   },
   {
    "duration": 8,
    "start_time": "2022-06-25T09:23:20.164Z"
   },
   {
    "duration": 8,
    "start_time": "2022-06-25T09:23:20.173Z"
   },
   {
    "duration": 23,
    "start_time": "2022-06-25T09:23:20.183Z"
   },
   {
    "duration": 6,
    "start_time": "2022-06-25T09:23:20.207Z"
   },
   {
    "duration": 13,
    "start_time": "2022-06-25T09:23:20.215Z"
   },
   {
    "duration": 8,
    "start_time": "2022-06-25T09:23:20.229Z"
   },
   {
    "duration": 27,
    "start_time": "2022-06-25T09:23:20.238Z"
   },
   {
    "duration": 16,
    "start_time": "2022-06-25T09:23:20.267Z"
   },
   {
    "duration": 432,
    "start_time": "2022-06-25T09:23:20.285Z"
   },
   {
    "duration": 14,
    "start_time": "2022-06-25T09:23:20.719Z"
   },
   {
    "duration": 66,
    "start_time": "2022-06-25T09:23:20.735Z"
   },
   {
    "duration": 339,
    "start_time": "2022-06-25T09:23:20.804Z"
   },
   {
    "duration": 30,
    "start_time": "2022-06-25T09:23:21.144Z"
   },
   {
    "duration": 41,
    "start_time": "2022-06-25T09:23:21.176Z"
   },
   {
    "duration": 4,
    "start_time": "2022-06-25T09:23:21.219Z"
   },
   {
    "duration": 19,
    "start_time": "2022-06-25T09:23:21.225Z"
   },
   {
    "duration": 44,
    "start_time": "2022-06-25T09:23:21.245Z"
   },
   {
    "duration": 524,
    "start_time": "2022-06-25T09:23:21.292Z"
   },
   {
    "duration": 39,
    "start_time": "2022-06-25T09:23:21.817Z"
   },
   {
    "duration": 14,
    "start_time": "2022-06-25T09:23:21.858Z"
   },
   {
    "duration": 608,
    "start_time": "2022-06-25T09:23:21.873Z"
   },
   {
    "duration": 1985,
    "start_time": "2022-06-25T09:23:22.483Z"
   },
   {
    "duration": 37,
    "start_time": "2022-06-25T09:23:24.470Z"
   },
   {
    "duration": 12,
    "start_time": "2022-06-25T09:23:24.509Z"
   },
   {
    "duration": 442,
    "start_time": "2022-06-25T09:23:24.523Z"
   },
   {
    "duration": 524,
    "start_time": "2022-06-25T09:23:24.967Z"
   },
   {
    "duration": 29,
    "start_time": "2022-06-25T09:23:25.493Z"
   },
   {
    "duration": 10,
    "start_time": "2022-06-25T09:23:25.524Z"
   },
   {
    "duration": 582,
    "start_time": "2022-06-25T09:23:25.552Z"
   },
   {
    "duration": 11,
    "start_time": "2022-06-25T09:23:26.136Z"
   },
   {
    "duration": 46,
    "start_time": "2022-06-25T09:23:26.152Z"
   },
   {
    "duration": 11,
    "start_time": "2022-06-25T09:23:26.199Z"
   },
   {
    "duration": 622,
    "start_time": "2022-06-25T09:23:26.211Z"
   },
   {
    "duration": 25,
    "start_time": "2022-06-25T09:23:26.835Z"
   },
   {
    "duration": 17,
    "start_time": "2022-06-25T09:23:26.862Z"
   },
   {
    "duration": 17,
    "start_time": "2022-06-25T09:23:26.880Z"
   },
   {
    "duration": 493,
    "start_time": "2022-06-25T09:23:26.899Z"
   }
  ],
  "kernelspec": {
   "display_name": "Python 3 (ipykernel)",
   "language": "python",
   "name": "python3"
  },
  "language_info": {
   "codemirror_mode": {
    "name": "ipython",
    "version": 3
   },
   "file_extension": ".py",
   "mimetype": "text/x-python",
   "name": "python",
   "nbconvert_exporter": "python",
   "pygments_lexer": "ipython3",
   "version": "3.9.7"
  },
  "toc": {
   "base_numbering": 1,
   "nav_menu": {},
   "number_sections": true,
   "sideBar": true,
   "skip_h1_title": true,
   "title_cell": "Table of Contents",
   "title_sidebar": "Contents",
   "toc_cell": true,
   "toc_position": {
    "height": "calc(100% - 180px)",
    "left": "10px",
    "top": "150px",
    "width": "609.891px"
   },
   "toc_section_display": true,
   "toc_window_display": false
  }
 },
 "nbformat": 4,
 "nbformat_minor": 2
}
