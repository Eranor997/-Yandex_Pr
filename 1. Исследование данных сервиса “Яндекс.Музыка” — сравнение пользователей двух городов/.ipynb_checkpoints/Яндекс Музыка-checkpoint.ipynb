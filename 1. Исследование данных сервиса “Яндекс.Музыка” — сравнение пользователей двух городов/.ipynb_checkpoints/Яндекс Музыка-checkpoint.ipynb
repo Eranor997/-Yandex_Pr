{
 "cells": [
  {
   "cell_type": "markdown",
   "metadata": {
    "id": "E0vqbgi9ay0H"
   },
   "source": [
    "# Яндекс.Музыка"
   ]
  },
  {
   "cell_type": "markdown",
   "metadata": {
    "id": "Ml1hmfXC_Zcs"
   },
   "source": [
    "## Обзор данных"
   ]
  },
  {
   "cell_type": "code",
   "execution_count": 1,
   "metadata": {
    "id": "AXN7PHPN_Zcs"
   },
   "outputs": [],
   "source": [
    "# импорт библиотеки pandas\n",
    "\n",
    "import pandas as pd "
   ]
  },
  {
   "cell_type": "code",
   "execution_count": 2,
   "metadata": {
    "id": "fFVu7vqh_Zct"
   },
   "outputs": [],
   "source": [
    "# чтение файла с данными и сохранение в df\n",
    "\n",
    "df = pd.read_csv('/datasets/yandex_music_project.csv') "
   ]
  },
  {
   "cell_type": "code",
   "execution_count": 3,
   "metadata": {
    "id": "oWTVX3gW_Zct"
   },
   "outputs": [
    {
     "data": {
      "text/html": [
       "<div>\n",
       "<style scoped>\n",
       "    .dataframe tbody tr th:only-of-type {\n",
       "        vertical-align: middle;\n",
       "    }\n",
       "\n",
       "    .dataframe tbody tr th {\n",
       "        vertical-align: top;\n",
       "    }\n",
       "\n",
       "    .dataframe thead th {\n",
       "        text-align: right;\n",
       "    }\n",
       "</style>\n",
       "<table border=\"1\" class=\"dataframe\">\n",
       "  <thead>\n",
       "    <tr style=\"text-align: right;\">\n",
       "      <th></th>\n",
       "      <th>userID</th>\n",
       "      <th>Track</th>\n",
       "      <th>artist</th>\n",
       "      <th>genre</th>\n",
       "      <th>City</th>\n",
       "      <th>time</th>\n",
       "      <th>Day</th>\n",
       "    </tr>\n",
       "  </thead>\n",
       "  <tbody>\n",
       "    <tr>\n",
       "      <td>0</td>\n",
       "      <td>FFB692EC</td>\n",
       "      <td>Kamigata To Boots</td>\n",
       "      <td>The Mass Missile</td>\n",
       "      <td>rock</td>\n",
       "      <td>Saint-Petersburg</td>\n",
       "      <td>20:28:33</td>\n",
       "      <td>Wednesday</td>\n",
       "    </tr>\n",
       "    <tr>\n",
       "      <td>1</td>\n",
       "      <td>55204538</td>\n",
       "      <td>Delayed Because of Accident</td>\n",
       "      <td>Andreas Rönnberg</td>\n",
       "      <td>rock</td>\n",
       "      <td>Moscow</td>\n",
       "      <td>14:07:09</td>\n",
       "      <td>Friday</td>\n",
       "    </tr>\n",
       "    <tr>\n",
       "      <td>2</td>\n",
       "      <td>20EC38</td>\n",
       "      <td>Funiculì funiculà</td>\n",
       "      <td>Mario Lanza</td>\n",
       "      <td>pop</td>\n",
       "      <td>Saint-Petersburg</td>\n",
       "      <td>20:58:07</td>\n",
       "      <td>Wednesday</td>\n",
       "    </tr>\n",
       "    <tr>\n",
       "      <td>3</td>\n",
       "      <td>A3DD03C9</td>\n",
       "      <td>Dragons in the Sunset</td>\n",
       "      <td>Fire + Ice</td>\n",
       "      <td>folk</td>\n",
       "      <td>Saint-Petersburg</td>\n",
       "      <td>08:37:09</td>\n",
       "      <td>Monday</td>\n",
       "    </tr>\n",
       "    <tr>\n",
       "      <td>4</td>\n",
       "      <td>E2DC1FAE</td>\n",
       "      <td>Soul People</td>\n",
       "      <td>Space Echo</td>\n",
       "      <td>dance</td>\n",
       "      <td>Moscow</td>\n",
       "      <td>08:34:34</td>\n",
       "      <td>Monday</td>\n",
       "    </tr>\n",
       "    <tr>\n",
       "      <td>5</td>\n",
       "      <td>842029A1</td>\n",
       "      <td>Преданная</td>\n",
       "      <td>IMPERVTOR</td>\n",
       "      <td>rusrap</td>\n",
       "      <td>Saint-Petersburg</td>\n",
       "      <td>13:09:41</td>\n",
       "      <td>Friday</td>\n",
       "    </tr>\n",
       "    <tr>\n",
       "      <td>6</td>\n",
       "      <td>4CB90AA5</td>\n",
       "      <td>True</td>\n",
       "      <td>Roman Messer</td>\n",
       "      <td>dance</td>\n",
       "      <td>Moscow</td>\n",
       "      <td>13:00:07</td>\n",
       "      <td>Wednesday</td>\n",
       "    </tr>\n",
       "    <tr>\n",
       "      <td>7</td>\n",
       "      <td>F03E1C1F</td>\n",
       "      <td>Feeling This Way</td>\n",
       "      <td>Polina Griffith</td>\n",
       "      <td>dance</td>\n",
       "      <td>Moscow</td>\n",
       "      <td>20:47:49</td>\n",
       "      <td>Wednesday</td>\n",
       "    </tr>\n",
       "    <tr>\n",
       "      <td>8</td>\n",
       "      <td>8FA1D3BE</td>\n",
       "      <td>И вновь продолжается бой</td>\n",
       "      <td>NaN</td>\n",
       "      <td>ruspop</td>\n",
       "      <td>Moscow</td>\n",
       "      <td>09:17:40</td>\n",
       "      <td>Friday</td>\n",
       "    </tr>\n",
       "    <tr>\n",
       "      <td>9</td>\n",
       "      <td>E772D5C0</td>\n",
       "      <td>Pessimist</td>\n",
       "      <td>NaN</td>\n",
       "      <td>dance</td>\n",
       "      <td>Saint-Petersburg</td>\n",
       "      <td>21:20:49</td>\n",
       "      <td>Wednesday</td>\n",
       "    </tr>\n",
       "  </tbody>\n",
       "</table>\n",
       "</div>"
      ],
      "text/plain": [
       "     userID                        Track            artist   genre  \\\n",
       "0  FFB692EC            Kamigata To Boots  The Mass Missile    rock   \n",
       "1  55204538  Delayed Because of Accident  Andreas Rönnberg    rock   \n",
       "2    20EC38            Funiculì funiculà       Mario Lanza     pop   \n",
       "3  A3DD03C9        Dragons in the Sunset        Fire + Ice    folk   \n",
       "4  E2DC1FAE                  Soul People        Space Echo   dance   \n",
       "5  842029A1                    Преданная         IMPERVTOR  rusrap   \n",
       "6  4CB90AA5                         True      Roman Messer   dance   \n",
       "7  F03E1C1F             Feeling This Way   Polina Griffith   dance   \n",
       "8  8FA1D3BE     И вновь продолжается бой               NaN  ruspop   \n",
       "9  E772D5C0                    Pessimist               NaN   dance   \n",
       "\n",
       "             City        time        Day  \n",
       "0  Saint-Petersburg  20:28:33  Wednesday  \n",
       "1            Moscow  14:07:09     Friday  \n",
       "2  Saint-Petersburg  20:58:07  Wednesday  \n",
       "3  Saint-Petersburg  08:37:09     Monday  \n",
       "4            Moscow  08:34:34     Monday  \n",
       "5  Saint-Petersburg  13:09:41     Friday  \n",
       "6            Moscow  13:00:07  Wednesday  \n",
       "7            Moscow  20:47:49  Wednesday  \n",
       "8            Moscow  09:17:40     Friday  \n",
       "9  Saint-Petersburg  21:20:49  Wednesday  "
      ]
     },
     "execution_count": 3,
     "metadata": {},
     "output_type": "execute_result"
    }
   ],
   "source": [
    " # получение первых 10 строк таблицы df\n",
    "\n",
    "df.head(10)"
   ]
  },
  {
   "cell_type": "code",
   "execution_count": 4,
   "metadata": {
    "id": "DSf2kIb-_Zct"
   },
   "outputs": [
    {
     "name": "stdout",
     "output_type": "stream",
     "text": [
      "<class 'pandas.core.frame.DataFrame'>\n",
      "RangeIndex: 65079 entries, 0 to 65078\n",
      "Data columns (total 7 columns):\n",
      "  userID    65079 non-null object\n",
      "Track       63848 non-null object\n",
      "artist      57876 non-null object\n",
      "genre       63881 non-null object\n",
      "  City      65079 non-null object\n",
      "time        65079 non-null object\n",
      "Day         65079 non-null object\n",
      "dtypes: object(7)\n",
      "memory usage: 3.5+ MB\n"
     ]
    }
   ],
   "source": [
    "# получение общей информации о данных в таблице df\n",
    "\n",
    "df.info()"
   ]
  },
  {
   "cell_type": "markdown",
   "metadata": {
    "id": "TaQ2Iwbr_Zct"
   },
   "source": [
    "Итак, в таблице семь столбцов. Тип данных во всех столбцах — `object`.\n",
    "\n",
    "Согласно документации к данным:\n",
    "* `userID` — идентификатор пользователя;\n",
    "* `Track` — название трека;  \n",
    "* `artist` — имя исполнителя;\n",
    "* `genre` — название жанра;\n",
    "* `City` — город пользователя;\n",
    "* `time` — время начала прослушивания;\n",
    "* `Day` — день недели.\n",
    "\n",
    "В названиях колонок видны три нарушения стиля:\n",
    "1. Строчные буквы сочетаются с прописными.\n",
    "2. Встречаются пробелы.\n",
    "3. Несколько слов лучше записать \"змеиным_регистром\"\n",
    "\n",
    "\n",
    "\n",
    "Количество значений в столбцах различается. Значит, в данных есть пропущенные значения.\n"
   ]
  },
  {
   "cell_type": "markdown",
   "metadata": {
    "id": "MCB6-dXG_Zct"
   },
   "source": [
    "**Выводы**\n",
    "\n",
    "В каждой строке таблицы — данные о прослушанном треке. Часть колонок описывает саму композицию: название, исполнителя и жанр. Остальные данные рассказывают о пользователе: из какого он города, когда он слушал музыку. \n",
    "\n",
    "Предварительно можно утверждать, что, данных достаточно для проверки гипотез. Но встречаются пропуски в данных, а в названиях колонок — расхождения с хорошим стилем.\n",
    "\n",
    "Чтобы двигаться дальше, нужно устранить проблемы в данных."
   ]
  },
  {
   "cell_type": "markdown",
   "metadata": {
    "id": "SjYF6Ub9_Zct"
   },
   "source": [
    "## Предобработка данных"
   ]
  },
  {
   "cell_type": "markdown",
   "metadata": {
    "id": "dIaKXr29_Zct"
   },
   "source": [
    "### Стиль заголовков"
   ]
  },
  {
   "cell_type": "code",
   "execution_count": 5,
   "metadata": {
    "id": "oKOTdF_Q_Zct"
   },
   "outputs": [
    {
     "data": {
      "text/plain": [
       "Index(['  userID', 'Track', 'artist', 'genre', '  City  ', 'time', 'Day'], dtype='object')"
      ]
     },
     "execution_count": 5,
     "metadata": {},
     "output_type": "execute_result"
    }
   ],
   "source": [
    " # перечень названий столбцов таблицы df\n",
    "\n",
    "df.columns"
   ]
  },
  {
   "cell_type": "code",
   "execution_count": 6,
   "metadata": {
    "id": "ISlFqs5y_Zct"
   },
   "outputs": [],
   "source": [
    "# переименование столбцов\n",
    "\n",
    "df = df.rename(\n",
    "    columns={'  userID' : 'user_id',\n",
    "'Track' : 'track',\n",
    "'  City  ' : 'city',\n",
    "'Day' : 'day'\n",
    "    }\n",
    ")"
   ]
  },
  {
   "cell_type": "code",
   "execution_count": 7,
   "metadata": {
    "id": "d4NOAmTW_Zct"
   },
   "outputs": [
    {
     "data": {
      "text/plain": [
       "Index(['user_id', 'track', 'artist', 'genre', 'city', 'time', 'day'], dtype='object')"
      ]
     },
     "metadata": {},
     "output_type": "display_data"
    }
   ],
   "source": [
    "# проверка результатов - перечень названий столбцов\n",
    "\n",
    "display(df.columns)"
   ]
  },
  {
   "cell_type": "markdown",
   "metadata": {
    "id": "5ISfbcfY_Zct"
   },
   "source": [
    "### Пропуски значений"
   ]
  },
  {
   "cell_type": "code",
   "execution_count": 8,
   "metadata": {
    "id": "RskX29qr_Zct"
   },
   "outputs": [
    {
     "data": {
      "text/plain": [
       "user_id       0\n",
       "track      1231\n",
       "artist     7203\n",
       "genre      1198\n",
       "city          0\n",
       "time          0\n",
       "day           0\n",
       "dtype: int64"
      ]
     },
     "execution_count": 8,
     "metadata": {},
     "output_type": "execute_result"
    }
   ],
   "source": [
    "# подсчёт пропусков\n",
    "\n",
    "df.isna().sum()"
   ]
  },
  {
   "cell_type": "code",
   "execution_count": 9,
   "metadata": {
    "id": "KplB5qWs_Zct"
   },
   "outputs": [],
   "source": [
    "# перебор названий столбцов в цикле и замена пропущенных значений на 'unknown'\n",
    "\n",
    "columns_to_replace = ['track', 'artist', 'genre']\n",
    "for columns in columns_to_replace:\n",
    "    df[columns] = df[columns].fillna('unknown') "
   ]
  },
  {
   "cell_type": "code",
   "execution_count": 10,
   "metadata": {
    "id": "Tq4nYRX4_Zct"
   },
   "outputs": [
    {
     "data": {
      "text/plain": [
       "user_id    0\n",
       "track      0\n",
       "artist     0\n",
       "genre      0\n",
       "city       0\n",
       "time       0\n",
       "day        0\n",
       "dtype: int64"
      ]
     },
     "execution_count": 10,
     "metadata": {},
     "output_type": "execute_result"
    }
   ],
   "source": [
    "# подсчёт пропусков\n",
    "\n",
    "df.isna().sum()"
   ]
  },
  {
   "cell_type": "markdown",
   "metadata": {
    "id": "BWKRtBJ3_Zct"
   },
   "source": [
    "### Дубликаты"
   ]
  },
  {
   "cell_type": "code",
   "execution_count": 11,
   "metadata": {
    "id": "36eES_S0_Zct"
   },
   "outputs": [
    {
     "data": {
      "text/plain": [
       "3826"
      ]
     },
     "execution_count": 11,
     "metadata": {},
     "output_type": "execute_result"
    }
   ],
   "source": [
    "# подсчёт явных дубликатов\n",
    "\n",
    "df.duplicated().sum()"
   ]
  },
  {
   "cell_type": "code",
   "execution_count": 12,
   "metadata": {
    "id": "exFHq6tt_Zct"
   },
   "outputs": [],
   "source": [
    "# удаление явных дубликатов (с удалением старых индексов и формированием новых)\n",
    "\n",
    "df = df.drop_duplicates().reset_index(drop=True)"
   ]
  },
  {
   "cell_type": "code",
   "execution_count": 13,
   "metadata": {
    "id": "-8PuNWQ0_Zct"
   },
   "outputs": [
    {
     "data": {
      "text/plain": [
       "0"
      ]
     },
     "execution_count": 13,
     "metadata": {},
     "output_type": "execute_result"
    }
   ],
   "source": [
    "# проверка на отсутствие дубликатов\n",
    "\n",
    "df.duplicated().sum()"
   ]
  },
  {
   "cell_type": "code",
   "execution_count": 14,
   "metadata": {
    "id": "JIUcqzZN_Zct"
   },
   "outputs": [
    {
     "data": {
      "text/plain": [
       "array(['acid', 'acoustic', 'action', 'adult', 'africa', 'afrikaans',\n",
       "       'alternative', 'alternativepunk', 'ambient', 'americana',\n",
       "       'animated', 'anime', 'arabesk', 'arabic', 'arena',\n",
       "       'argentinetango', 'art', 'audiobook', 'author', 'avantgarde',\n",
       "       'axé', 'baile', 'balkan', 'beats', 'bigroom', 'black', 'bluegrass',\n",
       "       'blues', 'bollywood', 'bossa', 'brazilian', 'breakbeat', 'breaks',\n",
       "       'broadway', 'cantautori', 'cantopop', 'canzone', 'caribbean',\n",
       "       'caucasian', 'celtic', 'chamber', 'chanson', 'children', 'chill',\n",
       "       'chinese', 'choral', 'christian', 'christmas', 'classical',\n",
       "       'classicmetal', 'club', 'colombian', 'comedy', 'conjazz',\n",
       "       'contemporary', 'country', 'cuban', 'dance', 'dancehall',\n",
       "       'dancepop', 'dark', 'death', 'deep', 'deutschrock', 'deutschspr',\n",
       "       'dirty', 'disco', 'dnb', 'documentary', 'downbeat', 'downtempo',\n",
       "       'drum', 'dub', 'dubstep', 'eastern', 'easy', 'electronic',\n",
       "       'electropop', 'emo', 'entehno', 'epicmetal', 'estrada', 'ethnic',\n",
       "       'eurofolk', 'european', 'experimental', 'extrememetal', 'fado',\n",
       "       'fairytail', 'film', 'fitness', 'flamenco', 'folk', 'folklore',\n",
       "       'folkmetal', 'folkrock', 'folktronica', 'forró', 'frankreich',\n",
       "       'französisch', 'french', 'funk', 'future', 'gangsta', 'garage',\n",
       "       'german', 'ghazal', 'gitarre', 'glitch', 'gospel', 'gothic',\n",
       "       'grime', 'grunge', 'gypsy', 'handsup', \"hard'n'heavy\", 'hardcore',\n",
       "       'hardstyle', 'hardtechno', 'hip', 'hip-hop', 'hiphop',\n",
       "       'historisch', 'holiday', 'hop', 'horror', 'house', 'hymn', 'idm',\n",
       "       'independent', 'indian', 'indie', 'indipop', 'industrial',\n",
       "       'inspirational', 'instrumental', 'international', 'irish', 'jam',\n",
       "       'japanese', 'jazz', 'jewish', 'jpop', 'jungle', 'k-pop',\n",
       "       'karadeniz', 'karaoke', 'kayokyoku', 'korean', 'laiko', 'latin',\n",
       "       'latino', 'leftfield', 'local', 'lounge', 'loungeelectronic',\n",
       "       'lovers', 'malaysian', 'mandopop', 'marschmusik', 'meditative',\n",
       "       'mediterranean', 'melodic', 'metal', 'metalcore', 'mexican',\n",
       "       'middle', 'minimal', 'miscellaneous', 'modern', 'mood', 'mpb',\n",
       "       'muslim', 'native', 'neoklassik', 'neue', 'new', 'newage',\n",
       "       'newwave', 'nu', 'nujazz', 'numetal', 'oceania', 'old', 'opera',\n",
       "       'orchestral', 'other', 'piano', 'podcasts', 'pop', 'popdance',\n",
       "       'popelectronic', 'popeurodance', 'poprussian', 'post',\n",
       "       'posthardcore', 'postrock', 'power', 'progmetal', 'progressive',\n",
       "       'psychedelic', 'punjabi', 'punk', 'quebecois', 'ragga', 'ram',\n",
       "       'rancheras', 'rap', 'rave', 'reggae', 'reggaeton', 'regional',\n",
       "       'relax', 'religious', 'retro', 'rhythm', 'rnb', 'rnr', 'rock',\n",
       "       'rockabilly', 'rockalternative', 'rockindie', 'rockother',\n",
       "       'romance', 'roots', 'ruspop', 'rusrap', 'rusrock', 'russian',\n",
       "       'salsa', 'samba', 'scenic', 'schlager', 'self', 'sertanejo',\n",
       "       'shanson', 'shoegazing', 'showtunes', 'singer', 'ska', 'skarock',\n",
       "       'slow', 'smooth', 'soft', 'soul', 'soulful', 'sound', 'soundtrack',\n",
       "       'southern', 'specialty', 'speech', 'spiritual', 'sport',\n",
       "       'stonerrock', 'surf', 'swing', 'synthpop', 'synthrock',\n",
       "       'sängerportrait', 'tango', 'tanzorchester', 'taraftar', 'tatar',\n",
       "       'tech', 'techno', 'teen', 'thrash', 'top', 'traditional',\n",
       "       'tradjazz', 'trance', 'tribal', 'trip', 'triphop', 'tropical',\n",
       "       'türk', 'türkçe', 'ukrrock', 'unknown', 'urban', 'uzbek',\n",
       "       'variété', 'vi', 'videogame', 'vocal', 'western', 'world',\n",
       "       'worldbeat', 'ïîï', 'электроника'], dtype=object)"
      ]
     },
     "execution_count": 14,
     "metadata": {},
     "output_type": "execute_result"
    }
   ],
   "source": [
    "# Просмотр уникальных названий жанров\n",
    "\n",
    "df['genre'].sort_values().unique()"
   ]
  },
  {
   "cell_type": "code",
   "execution_count": 15,
   "metadata": {
    "id": "ErNDkmns_Zct"
   },
   "outputs": [],
   "source": [
    "# Функция для замены неявных дубликатов\n",
    "\n",
    "def replace_wrong_genres(wrong_genres, correct_genre):\n",
    "    for wrong_genre in wrong_genres:\n",
    "        df['genre'] = df['genre'].replace(wrong_genre, correct_genre)"
   ]
  },
  {
   "cell_type": "code",
   "execution_count": 16,
   "metadata": {
    "id": "YN5i2hpmSo09"
   },
   "outputs": [],
   "source": [
    "# Устранение неявных дубликатов\n",
    "\n",
    "duplicates = ['hip', 'hop', 'hip-hop']\n",
    "name = 'hiphop'\n",
    "replace_wrong_genres(duplicates, name) "
   ]
  },
  {
   "cell_type": "code",
   "execution_count": 17,
   "metadata": {
    "id": "wvixALnFG15m"
   },
   "outputs": [
    {
     "data": {
      "text/plain": [
       "array(['acid', 'acoustic', 'action', 'adult', 'africa', 'afrikaans',\n",
       "       'alternative', 'alternativepunk', 'ambient', 'americana',\n",
       "       'animated', 'anime', 'arabesk', 'arabic', 'arena',\n",
       "       'argentinetango', 'art', 'audiobook', 'author', 'avantgarde',\n",
       "       'axé', 'baile', 'balkan', 'beats', 'bigroom', 'black', 'bluegrass',\n",
       "       'blues', 'bollywood', 'bossa', 'brazilian', 'breakbeat', 'breaks',\n",
       "       'broadway', 'cantautori', 'cantopop', 'canzone', 'caribbean',\n",
       "       'caucasian', 'celtic', 'chamber', 'chanson', 'children', 'chill',\n",
       "       'chinese', 'choral', 'christian', 'christmas', 'classical',\n",
       "       'classicmetal', 'club', 'colombian', 'comedy', 'conjazz',\n",
       "       'contemporary', 'country', 'cuban', 'dance', 'dancehall',\n",
       "       'dancepop', 'dark', 'death', 'deep', 'deutschrock', 'deutschspr',\n",
       "       'dirty', 'disco', 'dnb', 'documentary', 'downbeat', 'downtempo',\n",
       "       'drum', 'dub', 'dubstep', 'eastern', 'easy', 'electronic',\n",
       "       'electropop', 'emo', 'entehno', 'epicmetal', 'estrada', 'ethnic',\n",
       "       'eurofolk', 'european', 'experimental', 'extrememetal', 'fado',\n",
       "       'fairytail', 'film', 'fitness', 'flamenco', 'folk', 'folklore',\n",
       "       'folkmetal', 'folkrock', 'folktronica', 'forró', 'frankreich',\n",
       "       'französisch', 'french', 'funk', 'future', 'gangsta', 'garage',\n",
       "       'german', 'ghazal', 'gitarre', 'glitch', 'gospel', 'gothic',\n",
       "       'grime', 'grunge', 'gypsy', 'handsup', \"hard'n'heavy\", 'hardcore',\n",
       "       'hardstyle', 'hardtechno', 'hiphop', 'historisch', 'holiday',\n",
       "       'horror', 'house', 'hymn', 'idm', 'independent', 'indian', 'indie',\n",
       "       'indipop', 'industrial', 'inspirational', 'instrumental',\n",
       "       'international', 'irish', 'jam', 'japanese', 'jazz', 'jewish',\n",
       "       'jpop', 'jungle', 'k-pop', 'karadeniz', 'karaoke', 'kayokyoku',\n",
       "       'korean', 'laiko', 'latin', 'latino', 'leftfield', 'local',\n",
       "       'lounge', 'loungeelectronic', 'lovers', 'malaysian', 'mandopop',\n",
       "       'marschmusik', 'meditative', 'mediterranean', 'melodic', 'metal',\n",
       "       'metalcore', 'mexican', 'middle', 'minimal', 'miscellaneous',\n",
       "       'modern', 'mood', 'mpb', 'muslim', 'native', 'neoklassik', 'neue',\n",
       "       'new', 'newage', 'newwave', 'nu', 'nujazz', 'numetal', 'oceania',\n",
       "       'old', 'opera', 'orchestral', 'other', 'piano', 'podcasts', 'pop',\n",
       "       'popdance', 'popelectronic', 'popeurodance', 'poprussian', 'post',\n",
       "       'posthardcore', 'postrock', 'power', 'progmetal', 'progressive',\n",
       "       'psychedelic', 'punjabi', 'punk', 'quebecois', 'ragga', 'ram',\n",
       "       'rancheras', 'rap', 'rave', 'reggae', 'reggaeton', 'regional',\n",
       "       'relax', 'religious', 'retro', 'rhythm', 'rnb', 'rnr', 'rock',\n",
       "       'rockabilly', 'rockalternative', 'rockindie', 'rockother',\n",
       "       'romance', 'roots', 'ruspop', 'rusrap', 'rusrock', 'russian',\n",
       "       'salsa', 'samba', 'scenic', 'schlager', 'self', 'sertanejo',\n",
       "       'shanson', 'shoegazing', 'showtunes', 'singer', 'ska', 'skarock',\n",
       "       'slow', 'smooth', 'soft', 'soul', 'soulful', 'sound', 'soundtrack',\n",
       "       'southern', 'specialty', 'speech', 'spiritual', 'sport',\n",
       "       'stonerrock', 'surf', 'swing', 'synthpop', 'synthrock',\n",
       "       'sängerportrait', 'tango', 'tanzorchester', 'taraftar', 'tatar',\n",
       "       'tech', 'techno', 'teen', 'thrash', 'top', 'traditional',\n",
       "       'tradjazz', 'trance', 'tribal', 'trip', 'triphop', 'tropical',\n",
       "       'türk', 'türkçe', 'ukrrock', 'unknown', 'urban', 'uzbek',\n",
       "       'variété', 'vi', 'videogame', 'vocal', 'western', 'world',\n",
       "       'worldbeat', 'ïîï', 'электроника'], dtype=object)"
      ]
     },
     "execution_count": 17,
     "metadata": {},
     "output_type": "execute_result"
    }
   ],
   "source": [
    "# Проверка на неявные дубликаты\n",
    "\n",
    "df['genre'].sort_values().unique()"
   ]
  },
  {
   "cell_type": "markdown",
   "metadata": {
    "id": "jz6a9-7HQUDd"
   },
   "source": [
    "**Выводы**\n",
    "\n",
    "Предобработка обнаружила три проблемы в данных:\n",
    "\n",
    "- нарушения в стиле заголовков,\n",
    "- пропущенные значения,\n",
    "- дубликаты — явные и неявные.\n",
    "\n",
    "Вы исправили заголовки, чтобы упростить работу с таблицей. Без дубликатов исследование станет более точным.\n",
    "\n",
    "Пропущенные значения вы заменили на `'unknown'`. Ещё предстоит увидеть, не повредят ли исследованию пропуски в колонке `genre`.\n",
    "\n",
    "Теперь можно перейти к проверке гипотез. "
   ]
  },
  {
   "cell_type": "markdown",
   "metadata": {
    "id": "WttZHXH0SqKk"
   },
   "source": [
    "## Проверка гипотез"
   ]
  },
  {
   "cell_type": "markdown",
   "metadata": {
    "id": "Im936VVi_Zcu"
   },
   "source": [
    "### Сравнение поведения пользователей двух столиц"
   ]
  },
  {
   "cell_type": "markdown",
   "metadata": {
    "id": "nwt_MuaL_Zcu"
   },
   "source": [
    "Первая гипотеза утверждает, что пользователи по-разному слушают музыку в Москве и Санкт-Петербурге. Проверьте это предположение по данным о трёх днях недели — понедельнике, среде и пятнице. Для этого:\n",
    "\n",
    "* Разделите пользователей Москвы и Санкт-Петербурга\n",
    "* Сравните, сколько треков послушала каждая группа пользователей в понедельник, среду и пятницу.\n"
   ]
  },
  {
   "cell_type": "markdown",
   "metadata": {
    "id": "8Dw_YMmT_Zcu"
   },
   "source": [
    "Для тренировки сначала выполните каждый из расчётов по отдельности. \n",
    "\n",
    "Оцените активность пользователей в каждом городе. Сгруппируйте данные по городу и посчитайте прослушивания в каждой группе.\n",
    "\n"
   ]
  },
  {
   "cell_type": "code",
   "execution_count": 18,
   "metadata": {
    "id": "0_Qs96oh_Zcu"
   },
   "outputs": [
    {
     "data": {
      "text/plain": [
       "city\n",
       "Moscow              42741\n",
       "Saint-Petersburg    18512\n",
       "Name: genre, dtype: int64"
      ]
     },
     "execution_count": 18,
     "metadata": {},
     "output_type": "execute_result"
    }
   ],
   "source": [
    "# Подсчёт прослушиваний в каждом городе\n",
    "\n",
    "df.groupby('city')['genre'].count()"
   ]
  },
  {
   "cell_type": "markdown",
   "metadata": {
    "id": "dzli3w8o_Zcu"
   },
   "source": [
    "В Москве прослушиваний больше, чем в Петербурге. Из этого не следует, что московские пользователи чаще слушают музыку. Просто самих пользователей в Москве больше.\n",
    "\n",
    "Теперь сгруппируйте данные по дню недели и подсчитайте прослушивания в понедельник, среду и пятницу. Учтите, что в данных есть информация только о прослушиваниях только за эти дни.\n"
   ]
  },
  {
   "cell_type": "code",
   "execution_count": 19,
   "metadata": {
    "id": "uZMKjiJz_Zcu"
   },
   "outputs": [
    {
     "data": {
      "text/plain": [
       "day\n",
       "Friday       21840\n",
       "Monday       21354\n",
       "Wednesday    18059\n",
       "Name: genre, dtype: int64"
      ]
     },
     "execution_count": 19,
     "metadata": {},
     "output_type": "execute_result"
    }
   ],
   "source": [
    "# Подсчёт прослушиваний в каждый из трёх дней\n",
    "\n",
    "df.groupby('day')['genre'].count()"
   ]
  },
  {
   "cell_type": "markdown",
   "metadata": {
    "id": "cC2tNrlL_Zcu"
   },
   "source": [
    "В среднем пользователи из двух городов менее активны по средам. Но картина может измениться, если рассмотреть каждый город в отдельности."
   ]
  },
  {
   "cell_type": "code",
   "execution_count": 20,
   "metadata": {
    "id": "Nz3GdQB1_Zcu"
   },
   "outputs": [],
   "source": [
    "def number_tracks(day, city):\n",
    "    track_list = df[df['day'] == day]\n",
    "    track_list = track_list[track_list['city']== city]\n",
    "    track_list_count = track_list['user_id'].count()\n",
    "    return track_list_count    "
   ]
  },
  {
   "cell_type": "code",
   "execution_count": 21,
   "metadata": {
    "id": "rJcRATNQ_Zcu"
   },
   "outputs": [
    {
     "data": {
      "text/plain": [
       "15740"
      ]
     },
     "metadata": {},
     "output_type": "display_data"
    }
   ],
   "source": [
    "# количество прослушиваний в Москве по понедельникам\n",
    "\n",
    "moscow_monday = number_tracks('Monday', 'Moscow') \n",
    "display(moscow_monday)"
   ]
  },
  {
   "cell_type": "code",
   "execution_count": 22,
   "metadata": {
    "id": "hq_ncZ5T_Zcu"
   },
   "outputs": [
    {
     "data": {
      "text/plain": [
       "5614"
      ]
     },
     "metadata": {},
     "output_type": "display_data"
    }
   ],
   "source": [
    "# количество прослушиваний в Санкт-Петербурге по понедельникам\n",
    "\n",
    "spb_monday = number_tracks('Monday', 'Saint-Petersburg') \n",
    "display(spb_monday)"
   ]
  },
  {
   "cell_type": "code",
   "execution_count": 23,
   "metadata": {
    "id": "_NTy2VPU_Zcu"
   },
   "outputs": [
    {
     "data": {
      "text/plain": [
       "11056"
      ]
     },
     "metadata": {},
     "output_type": "display_data"
    }
   ],
   "source": [
    "# количество прослушиваний в Москве по средам\n",
    "\n",
    "moscow_wednesday = number_tracks('Wednesday', 'Moscow') \n",
    "display(moscow_wednesday)"
   ]
  },
  {
   "cell_type": "code",
   "execution_count": 24,
   "metadata": {
    "id": "j2y3TAwo_Zcu"
   },
   "outputs": [
    {
     "data": {
      "text/plain": [
       "7003"
      ]
     },
     "metadata": {},
     "output_type": "display_data"
    }
   ],
   "source": [
    "# количество прослушиваний в Санкт-Петербурге по средам\n",
    "\n",
    "spb_wednesday = number_tracks('Wednesday', 'Saint-Petersburg') \n",
    "display(spb_wednesday)"
   ]
  },
  {
   "cell_type": "code",
   "execution_count": 25,
   "metadata": {
    "id": "vYDw5u_K_Zcu"
   },
   "outputs": [
    {
     "data": {
      "text/plain": [
       "15945"
      ]
     },
     "metadata": {},
     "output_type": "display_data"
    }
   ],
   "source": [
    "# количество прослушиваний в Москве по пятницам\n",
    "\n",
    "moscow_friday = number_tracks('Friday', 'Moscow') \n",
    "display(moscow_friday)"
   ]
  },
  {
   "cell_type": "code",
   "execution_count": 26,
   "metadata": {
    "id": "8_yzFtW3_Zcu"
   },
   "outputs": [
    {
     "data": {
      "text/plain": [
       "5895"
      ]
     },
     "metadata": {},
     "output_type": "display_data"
    }
   ],
   "source": [
    "# количество прослушиваний в Санкт-Петербурге по пятницам\n",
    "\n",
    "spb_friday = number_tracks('Friday', 'Saint-Petersburg') \n",
    "display(spb_friday)"
   ]
  },
  {
   "cell_type": "code",
   "execution_count": 27,
   "metadata": {
    "id": "APAcLpOr_Zcu"
   },
   "outputs": [
    {
     "data": {
      "text/html": [
       "<div>\n",
       "<style scoped>\n",
       "    .dataframe tbody tr th:only-of-type {\n",
       "        vertical-align: middle;\n",
       "    }\n",
       "\n",
       "    .dataframe tbody tr th {\n",
       "        vertical-align: top;\n",
       "    }\n",
       "\n",
       "    .dataframe thead th {\n",
       "        text-align: right;\n",
       "    }\n",
       "</style>\n",
       "<table border=\"1\" class=\"dataframe\">\n",
       "  <thead>\n",
       "    <tr style=\"text-align: right;\">\n",
       "      <th></th>\n",
       "      <th>city</th>\n",
       "      <th>monday</th>\n",
       "      <th>wednesday</th>\n",
       "      <th>friday</th>\n",
       "    </tr>\n",
       "  </thead>\n",
       "  <tbody>\n",
       "    <tr>\n",
       "      <td>0</td>\n",
       "      <td>Moscow</td>\n",
       "      <td>15740</td>\n",
       "      <td>11056</td>\n",
       "      <td>15945</td>\n",
       "    </tr>\n",
       "    <tr>\n",
       "      <td>1</td>\n",
       "      <td>Saint-Petersburg</td>\n",
       "      <td>5614</td>\n",
       "      <td>7003</td>\n",
       "      <td>5895</td>\n",
       "    </tr>\n",
       "  </tbody>\n",
       "</table>\n",
       "</div>"
      ],
      "text/plain": [
       "               city  monday  wednesday  friday\n",
       "0            Moscow   15740      11056   15945\n",
       "1  Saint-Petersburg    5614       7003    5895"
      ]
     },
     "metadata": {},
     "output_type": "display_data"
    }
   ],
   "source": [
    "# Таблица с результатами\n",
    "\n",
    "data = [['Moscow', moscow_monday, moscow_wednesday, moscow_friday], ['Saint-Petersburg', spb_monday, spb_wednesday, spb_friday]]\n",
    "columns = ['city', 'monday', 'wednesday', 'friday']\n",
    "display(pd.DataFrame(data=data,columns=columns)) "
   ]
  },
  {
   "cell_type": "markdown",
   "metadata": {
    "id": "-EgPIHYu_Zcu"
   },
   "source": [
    "**Выводы**\n",
    "\n",
    "Данные показывают разницу поведения пользователей:\n",
    "\n",
    "- В Москве пик прослушиваний приходится на понедельник и пятницу, а в среду заметен спад.\n",
    "- В Петербурге, наоборот, больше слушают музыку по средам. Активность в понедельник и пятницу здесь почти в равной мере уступает среде.\n",
    "\n",
    "Значит, данные говорят в пользу первой гипотезы."
   ]
  },
  {
   "cell_type": "markdown",
   "metadata": {
    "id": "atZAxtq4_Zcu"
   },
   "source": [
    "### Музыка в начале и в конце недели"
   ]
  },
  {
   "cell_type": "markdown",
   "metadata": {
    "id": "eXrQqXFH_Zcu"
   },
   "source": [
    "Согласно второй гипотезе, утром в понедельник в Москве преобладают одни жанры, а в Петербурге — другие. Так же и вечером пятницы преобладают разные жанры — в зависимости от города."
   ]
  },
  {
   "cell_type": "code",
   "execution_count": 28,
   "metadata": {
    "id": "qeaFfM_P_Zcu"
   },
   "outputs": [],
   "source": [
    "# получение таблицы moscow_general из тех строк таблицы df, для которых значение в столбце 'city' равно 'Moscow'\n",
    "\n",
    "moscow_general = df[df['city'] == 'Moscow']"
   ]
  },
  {
   "cell_type": "code",
   "execution_count": 29,
   "metadata": {
    "id": "ORaVRKto_Zcu"
   },
   "outputs": [],
   "source": [
    "# получение таблицы spb_general из тех строк таблицы df, для которых значение в столбце 'city' равно 'Saint-Petersburg'\n",
    "\n",
    "spb_general = df[df['city'] == 'Saint-Petersburg'] "
   ]
  },
  {
   "cell_type": "code",
   "execution_count": 30,
   "metadata": {
    "id": "laJT9BYl_Zcu"
   },
   "outputs": [],
   "source": [
    "def genre_weekday(table, day, time1, time2):\n",
    "    genre_df = table[(df['day']==day) & (df['time'] > time1) & (df['time'] < time2)]\n",
    "    genre_df_count = genre_df.groupby('genre')['track'].count()\n",
    "    genre_df_sorted = genre_df_count.sort_values(ascending=False)\n",
    "    return genre_df_sorted.head(10)"
   ]
  },
  {
   "cell_type": "code",
   "execution_count": 31,
   "metadata": {
    "id": "yz7itPUQ_Zcu"
   },
   "outputs": [
    {
     "name": "stderr",
     "output_type": "stream",
     "text": [
      "/opt/conda/lib/python3.7/site-packages/ipykernel_launcher.py:20: UserWarning: Boolean Series key will be reindexed to match DataFrame index.\n"
     ]
    },
    {
     "data": {
      "text/plain": [
       "genre\n",
       "pop            781\n",
       "dance          549\n",
       "electronic     480\n",
       "rock           474\n",
       "hiphop         286\n",
       "ruspop         186\n",
       "world          181\n",
       "rusrap         175\n",
       "alternative    164\n",
       "unknown        161\n",
       "Name: track, dtype: int64"
      ]
     },
     "execution_count": 31,
     "metadata": {},
     "output_type": "execute_result"
    }
   ],
   "source": [
    "genre_weekday(moscow_general, 'Monday', '07:00', '11:00')"
   ]
  },
  {
   "cell_type": "code",
   "execution_count": 32,
   "metadata": {
    "id": "kwUcHPdy_Zcu"
   },
   "outputs": [
    {
     "name": "stderr",
     "output_type": "stream",
     "text": [
      "/opt/conda/lib/python3.7/site-packages/ipykernel_launcher.py:20: UserWarning: Boolean Series key will be reindexed to match DataFrame index.\n"
     ]
    },
    {
     "data": {
      "text/plain": [
       "genre\n",
       "pop            218\n",
       "dance          182\n",
       "rock           162\n",
       "electronic     147\n",
       "hiphop          80\n",
       "ruspop          64\n",
       "alternative     58\n",
       "rusrap          55\n",
       "jazz            44\n",
       "classical       40\n",
       "Name: track, dtype: int64"
      ]
     },
     "execution_count": 32,
     "metadata": {},
     "output_type": "execute_result"
    }
   ],
   "source": [
    "# вызов функции для утра понедельника в Петербурге (вместо df — таблица spb_general)\n",
    "\n",
    "genre_weekday(spb_general, 'Monday', '07:00', '11:00')"
   ]
  },
  {
   "cell_type": "code",
   "execution_count": 33,
   "metadata": {
    "id": "EzXVRE1o_Zcu"
   },
   "outputs": [
    {
     "name": "stderr",
     "output_type": "stream",
     "text": [
      "/opt/conda/lib/python3.7/site-packages/ipykernel_launcher.py:20: UserWarning: Boolean Series key will be reindexed to match DataFrame index.\n"
     ]
    },
    {
     "data": {
      "text/plain": [
       "genre\n",
       "pop            713\n",
       "rock           517\n",
       "dance          495\n",
       "electronic     482\n",
       "hiphop         273\n",
       "world          208\n",
       "ruspop         170\n",
       "alternative    163\n",
       "classical      163\n",
       "rusrap         142\n",
       "Name: track, dtype: int64"
      ]
     },
     "execution_count": 33,
     "metadata": {},
     "output_type": "execute_result"
    }
   ],
   "source": [
    "# вызов функции для вечера пятницы в Москве\n",
    "\n",
    "genre_weekday(moscow_general, 'Friday', '17:00', '23:00')"
   ]
  },
  {
   "cell_type": "code",
   "execution_count": 34,
   "metadata": {
    "id": "JZaEKu5v_Zcu"
   },
   "outputs": [
    {
     "name": "stderr",
     "output_type": "stream",
     "text": [
      "/opt/conda/lib/python3.7/site-packages/ipykernel_launcher.py:20: UserWarning: Boolean Series key will be reindexed to match DataFrame index.\n"
     ]
    },
    {
     "data": {
      "text/plain": [
       "genre\n",
       "pop            256\n",
       "rock           216\n",
       "electronic     216\n",
       "dance          210\n",
       "hiphop          97\n",
       "alternative     63\n",
       "jazz            61\n",
       "classical       60\n",
       "rusrap          59\n",
       "world           54\n",
       "Name: track, dtype: int64"
      ]
     },
     "execution_count": 34,
     "metadata": {},
     "output_type": "execute_result"
    }
   ],
   "source": [
    "# вызов функции для вечера пятницы в Петербурге\n",
    "\n",
    "genre_weekday(spb_general, 'Friday', '17:00', '23:00')"
   ]
  },
  {
   "cell_type": "markdown",
   "metadata": {
    "id": "wrCe4MNX_Zcu"
   },
   "source": [
    "**Выводы**\n",
    "\n",
    "Если сравнить топ-10 жанров в понедельник утром, можно сделать такие выводы:\n",
    "\n",
    "1. В Москве и Петербурге слушают похожую музыку. Единственное отличие — в московский рейтинг вошёл жанр “world”, а в петербургский — джаз и классика.\n",
    "\n",
    "2. В Москве пропущенных значений оказалось так много, что значение `'unknown'` заняло десятое место среди самых популярных жанров. Значит, пропущенные значения занимают существенную долю в данных и угрожают достоверности исследования.\n",
    "\n",
    "Вечер пятницы не меняет эту картину. Некоторые жанры поднимаются немного выше, другие спускаются, но в целом топ-10 остаётся тем же самым.\n",
    "\n",
    "Таким образом, вторая гипотеза подтвердилась лишь частично:\n",
    "* Пользователи слушают похожую музыку в начале недели и в конце.\n",
    "* Разница между Москвой и Петербургом не слишком выражена. В Москве чаще слушают русскую популярную музыку, в Петербурге — джаз.\n",
    "\n",
    "Однако пропуски в данных ставят под сомнение этот результат. В Москве их так много, что рейтинг топ-10 мог бы выглядеть иначе, если бы не утерянные  данные о жанрах."
   ]
  },
  {
   "cell_type": "markdown",
   "metadata": {
    "id": "JolODAqr_Zcu"
   },
   "source": [
    "### Жанровые предпочтения в Москве и Петербурге\n",
    "\n",
    "Гипотеза: Петербург — столица рэпа, музыку этого жанра там слушают чаще, чем в Москве.  А Москва — город контрастов, в котором, тем не менее, преобладает поп-музыка."
   ]
  },
  {
   "cell_type": "code",
   "execution_count": 35,
   "metadata": {
    "id": "r19lIPke_Zcu"
   },
   "outputs": [],
   "source": [
    "moscow_genres=moscow_general.groupby('genre')['genre'].count().sort_values(ascending = False)"
   ]
  },
  {
   "cell_type": "markdown",
   "metadata": {
    "id": "6kMuomxTiIr8"
   },
   "source": [
    "Выведите на экран первые десять строк `moscow_genres`:"
   ]
  },
  {
   "cell_type": "code",
   "execution_count": 36,
   "metadata": {
    "id": "WhCSooF8_Zcv"
   },
   "outputs": [
    {
     "data": {
      "text/plain": [
       "genre\n",
       "pop            5892\n",
       "dance          4435\n",
       "rock           3965\n",
       "electronic     3786\n",
       "hiphop         2096\n",
       "classical      1616\n",
       "world          1432\n",
       "alternative    1379\n",
       "ruspop         1372\n",
       "rusrap         1161\n",
       "Name: genre, dtype: int64"
      ]
     },
     "metadata": {},
     "output_type": "display_data"
    }
   ],
   "source": [
    "# просмотр первых 10 строк moscow_genres\n",
    "\n",
    "display(moscow_genres.head(10))"
   ]
  },
  {
   "cell_type": "code",
   "execution_count": 37,
   "metadata": {
    "id": "gluLIpE7_Zcv"
   },
   "outputs": [],
   "source": [
    "# одной строкой: группировка таблицы spb_general по столбцу 'genre', \n",
    "# подсчёт числа значений 'genre' в этой группировке методом count(), \n",
    "# сортировка получившегося Series в порядке убывания и сохранение в spb_genres\n",
    "\n",
    "spb_genres=spb_general.groupby('genre')['genre'].count().sort_values(ascending = False)"
   ]
  },
  {
   "cell_type": "code",
   "execution_count": 38,
   "metadata": {
    "id": "uaGJHjVU_Zcv",
    "scrolled": true
   },
   "outputs": [
    {
     "data": {
      "text/plain": [
       "genre\n",
       "pop            2431\n",
       "dance          1932\n",
       "rock           1879\n",
       "electronic     1736\n",
       "hiphop          960\n",
       "alternative     649\n",
       "classical       646\n",
       "rusrap          564\n",
       "ruspop          538\n",
       "world           515\n",
       "Name: genre, dtype: int64"
      ]
     },
     "metadata": {},
     "output_type": "display_data"
    }
   ],
   "source": [
    "# просмотр первых 10 строк spb_genres\n",
    "\n",
    "display(spb_genres.head(10))"
   ]
  },
  {
   "cell_type": "markdown",
   "metadata": {
    "id": "RY51YJYu_Zcv"
   },
   "source": [
    "**Выводы**\n",
    "Гипотеза частично подтвердилась:\n",
    "* Поп-музыка — самый популярный жанр в Москве, как и предполагала гипотеза. Более того, в топ-10 жанров встречается близкий жанр — русская популярная музыка.\n",
    "* Вопреки ожиданиям, рэп одинаково популярен в Москве и Петербурге. "
   ]
  },
  {
   "cell_type": "markdown",
   "metadata": {
    "id": "ykKQ0N65_Zcv"
   },
   "source": [
    "## Итоги исследования"
   ]
  },
  {
   "cell_type": "markdown",
   "metadata": {
    "id": "tjUwbHb3_Zcv"
   },
   "source": [
    "Вы проверили три гипотезы и установили:\n",
    "\n",
    "1. День недели по-разному влияет на активность пользователей в Москве и Петербурге. \n",
    "\n",
    "Первая гипотеза полностью подтвердилась.\n",
    "\n",
    "2. Музыкальные предпочтения не сильно меняются в течение недели — будь то Москва или Петербург. Небольшие различия заметны в начале недели, по понедельникам:\n",
    "* в Москве слушают музыку жанра “world”,\n",
    "* в Петербурге — джаз и классику.\n",
    "\n",
    "Таким образом, вторая гипотеза подтвердилась лишь отчасти. Этот результат мог оказаться иным, если бы не пропуски в данных.\n",
    "\n",
    "3. Во вкусах пользователей Москвы и Петербурга больше общего чем различий. Вопреки ожиданиям, предпочтения жанров в Петербурге напоминают московские.\n",
    "\n",
    "Третья гипотеза не подтвердилась. Если различия в предпочтениях и существуют, на основной массе пользователей они незаметны.\n",
    "\n",
    "**На практике исследования содержат проверки статистических гипотез.**\n",
    "Из данных одного сервиса не всегда можно сделать вывод о всех жителях города.\n",
    "Проверки статистических гипотез покажут, насколько они достоверны, исходя из имеющихся данных. \n",
    "С методами проверок гипотез вы ещё познакомитесь в следующих темах."
   ]
  }
 ],
 "metadata": {
  "ExecuteTimeLog": [
   {
    "duration": 216,
    "start_time": "2022-03-05T07:07:22.773Z"
   },
   {
    "duration": 570,
    "start_time": "2022-03-05T07:07:39.417Z"
   },
   {
    "duration": 147,
    "start_time": "2022-03-05T07:07:41.904Z"
   },
   {
    "duration": 19,
    "start_time": "2022-03-05T07:08:41.323Z"
   },
   {
    "duration": 26,
    "start_time": "2022-03-05T07:09:04.998Z"
   },
   {
    "duration": 60,
    "start_time": "2022-03-05T07:13:12.401Z"
   },
   {
    "duration": 31,
    "start_time": "2022-03-05T07:14:27.224Z"
   },
   {
    "duration": 25,
    "start_time": "2022-03-05T07:17:28.038Z"
   },
   {
    "duration": 9,
    "start_time": "2022-03-05T07:18:18.943Z"
   },
   {
    "duration": 188,
    "start_time": "2022-03-05T07:18:23.198Z"
   },
   {
    "duration": 172,
    "start_time": "2022-03-05T07:19:46.197Z"
   },
   {
    "duration": 181,
    "start_time": "2022-03-05T07:20:20.691Z"
   },
   {
    "duration": 2,
    "start_time": "2022-03-05T07:20:37.138Z"
   },
   {
    "duration": 150,
    "start_time": "2022-03-05T07:20:41.010Z"
   },
   {
    "duration": 3,
    "start_time": "2022-03-05T07:22:14.752Z"
   },
   {
    "duration": 3,
    "start_time": "2022-03-05T07:22:15.952Z"
   },
   {
    "duration": 576,
    "start_time": "2022-03-05T07:24:48.147Z"
   },
   {
    "duration": 145,
    "start_time": "2022-03-05T07:24:48.725Z"
   },
   {
    "duration": 19,
    "start_time": "2022-03-05T07:24:48.872Z"
   },
   {
    "duration": 28,
    "start_time": "2022-03-05T07:24:48.901Z"
   },
   {
    "duration": 5,
    "start_time": "2022-03-05T07:24:48.930Z"
   },
   {
    "duration": 25,
    "start_time": "2022-03-05T07:24:48.936Z"
   },
   {
    "duration": 7,
    "start_time": "2022-03-05T07:24:48.963Z"
   },
   {
    "duration": 16,
    "start_time": "2022-03-05T07:24:48.973Z"
   },
   {
    "duration": 2,
    "start_time": "2022-03-05T07:24:49.002Z"
   },
   {
    "duration": 11,
    "start_time": "2022-03-05T07:24:49.006Z"
   },
   {
    "duration": 18,
    "start_time": "2022-03-05T07:24:49.019Z"
   },
   {
    "duration": 10,
    "start_time": "2022-03-05T07:24:49.039Z"
   },
   {
    "duration": 15,
    "start_time": "2022-03-05T07:24:49.051Z"
   },
   {
    "duration": 11,
    "start_time": "2022-03-05T07:24:49.068Z"
   },
   {
    "duration": 11,
    "start_time": "2022-03-05T07:24:49.081Z"
   },
   {
    "duration": 10,
    "start_time": "2022-03-05T07:24:49.094Z"
   },
   {
    "duration": 19,
    "start_time": "2022-03-05T07:24:49.106Z"
   },
   {
    "duration": 7,
    "start_time": "2022-03-05T07:24:49.127Z"
   },
   {
    "duration": 10,
    "start_time": "2022-03-05T07:24:49.136Z"
   },
   {
    "duration": 14,
    "start_time": "2022-03-05T07:24:49.148Z"
   },
   {
    "duration": 16,
    "start_time": "2022-03-05T07:24:49.164Z"
   },
   {
    "duration": 13,
    "start_time": "2022-03-05T07:24:49.182Z"
   },
   {
    "duration": 14,
    "start_time": "2022-03-05T07:24:49.198Z"
   },
   {
    "duration": 8,
    "start_time": "2022-03-05T07:24:49.214Z"
   },
   {
    "duration": 12,
    "start_time": "2022-03-05T07:24:49.224Z"
   },
   {
    "duration": 19,
    "start_time": "2022-03-05T07:24:49.238Z"
   },
   {
    "duration": 17,
    "start_time": "2022-03-05T07:24:49.259Z"
   },
   {
    "duration": 15,
    "start_time": "2022-03-05T07:24:49.278Z"
   },
   {
    "duration": 15,
    "start_time": "2022-03-05T07:24:49.295Z"
   },
   {
    "duration": 14,
    "start_time": "2022-03-05T07:24:49.313Z"
   },
   {
    "duration": 12,
    "start_time": "2022-03-05T07:24:49.330Z"
   },
   {
    "duration": 11,
    "start_time": "2022-03-05T07:24:49.344Z"
   },
   {
    "duration": 13,
    "start_time": "2022-03-05T07:24:49.357Z"
   },
   {
    "duration": 10,
    "start_time": "2022-03-05T07:24:49.372Z"
   },
   {
    "duration": 8,
    "start_time": "2022-03-05T07:24:49.384Z"
   },
   {
    "duration": 22,
    "start_time": "2022-03-05T07:24:49.394Z"
   },
   {
    "duration": 10,
    "start_time": "2022-03-05T07:24:49.418Z"
   },
   {
    "duration": 11,
    "start_time": "2022-03-05T07:24:49.430Z"
   },
   {
    "duration": 4,
    "start_time": "2022-03-05T07:24:57.150Z"
   },
   {
    "duration": 606,
    "start_time": "2022-03-05T07:25:08.089Z"
   },
   {
    "duration": 146,
    "start_time": "2022-03-05T07:25:08.697Z"
   },
   {
    "duration": 18,
    "start_time": "2022-03-05T07:25:08.845Z"
   },
   {
    "duration": 41,
    "start_time": "2022-03-05T07:25:08.865Z"
   },
   {
    "duration": 11,
    "start_time": "2022-03-05T07:25:08.908Z"
   },
   {
    "duration": 33,
    "start_time": "2022-03-05T07:25:08.921Z"
   },
   {
    "duration": 17,
    "start_time": "2022-03-05T07:25:08.956Z"
   },
   {
    "duration": 19,
    "start_time": "2022-03-05T07:25:08.974Z"
   },
   {
    "duration": 18,
    "start_time": "2022-03-05T07:25:08.996Z"
   },
   {
    "duration": 15,
    "start_time": "2022-03-05T07:25:09.016Z"
   },
   {
    "duration": 16,
    "start_time": "2022-03-05T07:25:09.033Z"
   },
   {
    "duration": 15,
    "start_time": "2022-03-05T07:25:09.051Z"
   },
   {
    "duration": 12,
    "start_time": "2022-03-05T07:25:09.068Z"
   },
   {
    "duration": 10,
    "start_time": "2022-03-05T07:25:09.082Z"
   },
   {
    "duration": 18,
    "start_time": "2022-03-05T07:25:09.094Z"
   },
   {
    "duration": 22,
    "start_time": "2022-03-05T07:25:09.115Z"
   },
   {
    "duration": 10,
    "start_time": "2022-03-05T07:25:09.139Z"
   },
   {
    "duration": 23,
    "start_time": "2022-03-05T07:25:09.150Z"
   },
   {
    "duration": 9,
    "start_time": "2022-03-05T07:25:09.176Z"
   },
   {
    "duration": 14,
    "start_time": "2022-03-05T07:25:09.187Z"
   },
   {
    "duration": 10,
    "start_time": "2022-03-05T07:25:09.203Z"
   },
   {
    "duration": 8,
    "start_time": "2022-03-05T07:25:09.215Z"
   },
   {
    "duration": 11,
    "start_time": "2022-03-05T07:25:09.224Z"
   },
   {
    "duration": 15,
    "start_time": "2022-03-05T07:25:09.237Z"
   },
   {
    "duration": 28,
    "start_time": "2022-03-05T07:25:09.254Z"
   },
   {
    "duration": 16,
    "start_time": "2022-03-05T07:25:09.284Z"
   },
   {
    "duration": 7,
    "start_time": "2022-03-05T07:25:09.303Z"
   },
   {
    "duration": 20,
    "start_time": "2022-03-05T07:25:09.312Z"
   },
   {
    "duration": 11,
    "start_time": "2022-03-05T07:25:09.333Z"
   },
   {
    "duration": 14,
    "start_time": "2022-03-05T07:25:09.346Z"
   },
   {
    "duration": 17,
    "start_time": "2022-03-05T07:25:09.362Z"
   },
   {
    "duration": 11,
    "start_time": "2022-03-05T07:25:09.381Z"
   },
   {
    "duration": 10,
    "start_time": "2022-03-05T07:25:09.394Z"
   },
   {
    "duration": 11,
    "start_time": "2022-03-05T07:25:09.405Z"
   },
   {
    "duration": 9,
    "start_time": "2022-03-05T07:25:09.418Z"
   },
   {
    "duration": 8,
    "start_time": "2022-03-05T07:25:09.428Z"
   },
   {
    "duration": 9,
    "start_time": "2022-03-05T07:25:09.438Z"
   },
   {
    "duration": 11,
    "start_time": "2022-03-05T07:25:09.449Z"
   },
   {
    "duration": 10,
    "start_time": "2022-03-05T07:25:30.938Z"
   },
   {
    "duration": 4,
    "start_time": "2022-03-05T07:25:50.449Z"
   },
   {
    "duration": 25,
    "start_time": "2022-03-05T07:26:24.384Z"
   },
   {
    "duration": 268,
    "start_time": "2022-03-05T07:29:57.694Z"
   },
   {
    "duration": 25,
    "start_time": "2022-03-05T07:30:26.006Z"
   },
   {
    "duration": 18,
    "start_time": "2022-03-05T07:30:41.592Z"
   },
   {
    "duration": 24,
    "start_time": "2022-03-05T07:30:43.648Z"
   },
   {
    "duration": 63,
    "start_time": "2022-03-05T07:31:17.921Z"
   },
   {
    "duration": 72,
    "start_time": "2022-03-05T07:32:15.623Z"
   },
   {
    "duration": 55,
    "start_time": "2022-03-05T07:32:21.575Z"
   },
   {
    "duration": 4609,
    "start_time": "2022-03-05T07:37:02.217Z"
   },
   {
    "duration": 4507,
    "start_time": "2022-03-05T07:37:17.586Z"
   },
   {
    "duration": 542,
    "start_time": "2022-03-05T07:37:56.050Z"
   },
   {
    "duration": 144,
    "start_time": "2022-03-05T07:37:56.594Z"
   },
   {
    "duration": 18,
    "start_time": "2022-03-05T07:37:56.740Z"
   },
   {
    "duration": 25,
    "start_time": "2022-03-05T07:37:56.760Z"
   },
   {
    "duration": 4,
    "start_time": "2022-03-05T07:37:56.802Z"
   },
   {
    "duration": 23,
    "start_time": "2022-03-05T07:37:56.807Z"
   },
   {
    "duration": 4,
    "start_time": "2022-03-05T07:37:56.832Z"
   },
   {
    "duration": 27,
    "start_time": "2022-03-05T07:37:56.838Z"
   },
   {
    "duration": 44,
    "start_time": "2022-03-05T07:37:56.867Z"
   },
   {
    "duration": 24,
    "start_time": "2022-03-05T07:37:56.914Z"
   },
   {
    "duration": 77,
    "start_time": "2022-03-05T07:37:56.940Z"
   },
   {
    "duration": 64,
    "start_time": "2022-03-05T07:37:57.019Z"
   },
   {
    "duration": 66,
    "start_time": "2022-03-05T07:37:57.085Z"
   },
   {
    "duration": 4557,
    "start_time": "2022-03-05T07:37:57.153Z"
   },
   {
    "duration": -149429,
    "start_time": "2022-03-05T07:40:31.142Z"
   },
   {
    "duration": -149432,
    "start_time": "2022-03-05T07:40:31.146Z"
   },
   {
    "duration": -149436,
    "start_time": "2022-03-05T07:40:31.151Z"
   },
   {
    "duration": -149439,
    "start_time": "2022-03-05T07:40:31.155Z"
   },
   {
    "duration": -149442,
    "start_time": "2022-03-05T07:40:31.159Z"
   },
   {
    "duration": -149444,
    "start_time": "2022-03-05T07:40:31.162Z"
   },
   {
    "duration": -149446,
    "start_time": "2022-03-05T07:40:31.165Z"
   },
   {
    "duration": -149449,
    "start_time": "2022-03-05T07:40:31.169Z"
   },
   {
    "duration": -149451,
    "start_time": "2022-03-05T07:40:31.172Z"
   },
   {
    "duration": -149454,
    "start_time": "2022-03-05T07:40:31.176Z"
   },
   {
    "duration": -149457,
    "start_time": "2022-03-05T07:40:31.180Z"
   },
   {
    "duration": -149459,
    "start_time": "2022-03-05T07:40:31.183Z"
   },
   {
    "duration": -149461,
    "start_time": "2022-03-05T07:40:31.186Z"
   },
   {
    "duration": -149464,
    "start_time": "2022-03-05T07:40:31.190Z"
   },
   {
    "duration": -149467,
    "start_time": "2022-03-05T07:40:31.194Z"
   },
   {
    "duration": -149471,
    "start_time": "2022-03-05T07:40:31.198Z"
   },
   {
    "duration": -149483,
    "start_time": "2022-03-05T07:40:31.211Z"
   },
   {
    "duration": -149485,
    "start_time": "2022-03-05T07:40:31.215Z"
   },
   {
    "duration": -149487,
    "start_time": "2022-03-05T07:40:31.218Z"
   },
   {
    "duration": -149490,
    "start_time": "2022-03-05T07:40:31.222Z"
   },
   {
    "duration": -149493,
    "start_time": "2022-03-05T07:40:31.226Z"
   },
   {
    "duration": -149495,
    "start_time": "2022-03-05T07:40:31.230Z"
   },
   {
    "duration": -149499,
    "start_time": "2022-03-05T07:40:31.234Z"
   },
   {
    "duration": -149501,
    "start_time": "2022-03-05T07:40:31.237Z"
   },
   {
    "duration": 45,
    "start_time": "2022-03-05T07:40:52.886Z"
   },
   {
    "duration": 12,
    "start_time": "2022-03-05T08:08:36.615Z"
   },
   {
    "duration": 3,
    "start_time": "2022-03-05T08:10:01.735Z"
   },
   {
    "duration": 4,
    "start_time": "2022-03-05T08:13:21.353Z"
   },
   {
    "duration": 11,
    "start_time": "2022-03-05T08:14:36.228Z"
   },
   {
    "duration": 43,
    "start_time": "2022-03-05T08:14:47.169Z"
   },
   {
    "duration": 5,
    "start_time": "2022-03-05T08:20:01.483Z"
   },
   {
    "duration": 34,
    "start_time": "2022-03-05T08:20:16.262Z"
   },
   {
    "duration": 34,
    "start_time": "2022-03-05T08:21:02.472Z"
   },
   {
    "duration": 13,
    "start_time": "2022-03-05T08:21:45.900Z"
   },
   {
    "duration": 626,
    "start_time": "2022-03-05T08:21:57.993Z"
   },
   {
    "duration": 149,
    "start_time": "2022-03-05T08:21:58.621Z"
   },
   {
    "duration": 29,
    "start_time": "2022-03-05T08:21:58.773Z"
   },
   {
    "duration": 27,
    "start_time": "2022-03-05T08:21:58.805Z"
   },
   {
    "duration": 6,
    "start_time": "2022-03-05T08:21:58.834Z"
   },
   {
    "duration": 22,
    "start_time": "2022-03-05T08:21:58.842Z"
   },
   {
    "duration": 36,
    "start_time": "2022-03-05T08:21:58.866Z"
   },
   {
    "duration": 24,
    "start_time": "2022-03-05T08:21:58.905Z"
   },
   {
    "duration": 17,
    "start_time": "2022-03-05T08:21:58.932Z"
   },
   {
    "duration": 24,
    "start_time": "2022-03-05T08:21:58.952Z"
   },
   {
    "duration": 83,
    "start_time": "2022-03-05T08:21:58.978Z"
   },
   {
    "duration": 90,
    "start_time": "2022-03-05T08:21:59.063Z"
   },
   {
    "duration": 57,
    "start_time": "2022-03-05T08:21:59.155Z"
   },
   {
    "duration": 41,
    "start_time": "2022-03-05T08:21:59.214Z"
   },
   {
    "duration": 3,
    "start_time": "2022-03-05T08:21:59.257Z"
   },
   {
    "duration": 21,
    "start_time": "2022-03-05T08:21:59.262Z"
   },
   {
    "duration": 57,
    "start_time": "2022-03-05T08:21:59.285Z"
   },
   {
    "duration": 34,
    "start_time": "2022-03-05T08:21:59.344Z"
   },
   {
    "duration": 51,
    "start_time": "2022-03-05T08:21:59.380Z"
   },
   {
    "duration": 2,
    "start_time": "2022-03-05T08:21:59.433Z"
   },
   {
    "duration": 11,
    "start_time": "2022-03-05T08:21:59.437Z"
   },
   {
    "duration": 6,
    "start_time": "2022-03-05T08:21:59.450Z"
   },
   {
    "duration": 5,
    "start_time": "2022-03-05T08:21:59.457Z"
   },
   {
    "duration": 6,
    "start_time": "2022-03-05T08:21:59.464Z"
   },
   {
    "duration": 6,
    "start_time": "2022-03-05T08:21:59.472Z"
   },
   {
    "duration": 2,
    "start_time": "2022-03-05T08:21:59.501Z"
   },
   {
    "duration": 6,
    "start_time": "2022-03-05T08:21:59.507Z"
   },
   {
    "duration": 11,
    "start_time": "2022-03-05T08:21:59.515Z"
   },
   {
    "duration": 9,
    "start_time": "2022-03-05T08:21:59.528Z"
   },
   {
    "duration": 10,
    "start_time": "2022-03-05T08:21:59.539Z"
   },
   {
    "duration": 12,
    "start_time": "2022-03-05T08:21:59.551Z"
   },
   {
    "duration": 13,
    "start_time": "2022-03-05T08:21:59.565Z"
   },
   {
    "duration": 12,
    "start_time": "2022-03-05T08:21:59.580Z"
   },
   {
    "duration": 10,
    "start_time": "2022-03-05T08:21:59.594Z"
   },
   {
    "duration": 10,
    "start_time": "2022-03-05T08:21:59.605Z"
   },
   {
    "duration": 10,
    "start_time": "2022-03-05T08:21:59.617Z"
   },
   {
    "duration": 9,
    "start_time": "2022-03-05T08:21:59.629Z"
   },
   {
    "duration": 9,
    "start_time": "2022-03-05T08:21:59.640Z"
   },
   {
    "duration": 4,
    "start_time": "2022-03-05T08:29:42.294Z"
   },
   {
    "duration": 19,
    "start_time": "2022-03-05T08:31:30.454Z"
   },
   {
    "duration": 17,
    "start_time": "2022-03-05T08:35:24.989Z"
   },
   {
    "duration": 17,
    "start_time": "2022-03-05T08:35:26.409Z"
   },
   {
    "duration": 20,
    "start_time": "2022-03-05T08:35:27.586Z"
   },
   {
    "duration": 19,
    "start_time": "2022-03-05T08:35:28.649Z"
   },
   {
    "duration": 17,
    "start_time": "2022-03-05T08:35:29.800Z"
   },
   {
    "duration": 72,
    "start_time": "2022-03-05T08:39:11.235Z"
   },
   {
    "duration": 614,
    "start_time": "2022-03-05T08:39:33.612Z"
   },
   {
    "duration": 147,
    "start_time": "2022-03-05T08:39:34.228Z"
   },
   {
    "duration": 24,
    "start_time": "2022-03-05T08:39:34.378Z"
   },
   {
    "duration": 33,
    "start_time": "2022-03-05T08:39:34.405Z"
   },
   {
    "duration": 5,
    "start_time": "2022-03-05T08:39:34.440Z"
   },
   {
    "duration": 26,
    "start_time": "2022-03-05T08:39:34.447Z"
   },
   {
    "duration": 4,
    "start_time": "2022-03-05T08:39:34.475Z"
   },
   {
    "duration": 25,
    "start_time": "2022-03-05T08:39:34.501Z"
   },
   {
    "duration": 19,
    "start_time": "2022-03-05T08:39:34.529Z"
   },
   {
    "duration": 24,
    "start_time": "2022-03-05T08:39:34.551Z"
   },
   {
    "duration": 86,
    "start_time": "2022-03-05T08:39:34.577Z"
   },
   {
    "duration": 90,
    "start_time": "2022-03-05T08:39:34.665Z"
   },
   {
    "duration": 58,
    "start_time": "2022-03-05T08:39:34.757Z"
   },
   {
    "duration": 46,
    "start_time": "2022-03-05T08:39:34.817Z"
   },
   {
    "duration": 3,
    "start_time": "2022-03-05T08:39:34.864Z"
   },
   {
    "duration": 32,
    "start_time": "2022-03-05T08:39:34.869Z"
   },
   {
    "duration": 44,
    "start_time": "2022-03-05T08:39:34.903Z"
   },
   {
    "duration": 35,
    "start_time": "2022-03-05T08:39:34.948Z"
   },
   {
    "duration": 35,
    "start_time": "2022-03-05T08:39:35.001Z"
   },
   {
    "duration": 5,
    "start_time": "2022-03-05T08:39:35.038Z"
   },
   {
    "duration": 30,
    "start_time": "2022-03-05T08:39:35.045Z"
   },
   {
    "duration": 40,
    "start_time": "2022-03-05T08:39:35.077Z"
   },
   {
    "duration": 18,
    "start_time": "2022-03-05T08:39:35.119Z"
   },
   {
    "duration": 18,
    "start_time": "2022-03-05T08:39:35.139Z"
   },
   {
    "duration": 48,
    "start_time": "2022-03-05T08:39:35.160Z"
   },
   {
    "duration": 18,
    "start_time": "2022-03-05T08:39:35.211Z"
   },
   {
    "duration": 57,
    "start_time": "2022-03-05T08:39:35.234Z"
   },
   {
    "duration": -149740,
    "start_time": "2022-03-05T08:42:05.033Z"
   },
   {
    "duration": -149741,
    "start_time": "2022-03-05T08:42:05.036Z"
   },
   {
    "duration": -149745,
    "start_time": "2022-03-05T08:42:05.041Z"
   },
   {
    "duration": -149747,
    "start_time": "2022-03-05T08:42:05.045Z"
   },
   {
    "duration": -149756,
    "start_time": "2022-03-05T08:42:05.056Z"
   },
   {
    "duration": -149759,
    "start_time": "2022-03-05T08:42:05.060Z"
   },
   {
    "duration": -149762,
    "start_time": "2022-03-05T08:42:05.065Z"
   },
   {
    "duration": -149763,
    "start_time": "2022-03-05T08:42:05.068Z"
   },
   {
    "duration": -149766,
    "start_time": "2022-03-05T08:42:05.072Z"
   },
   {
    "duration": -149768,
    "start_time": "2022-03-05T08:42:05.076Z"
   },
   {
    "duration": -149770,
    "start_time": "2022-03-05T08:42:05.079Z"
   },
   {
    "duration": 248,
    "start_time": "2022-03-05T08:41:01.014Z"
   },
   {
    "duration": 197,
    "start_time": "2022-03-05T08:42:26.610Z"
   },
   {
    "duration": 618,
    "start_time": "2022-03-05T08:42:49.892Z"
   },
   {
    "duration": 149,
    "start_time": "2022-03-05T08:42:50.512Z"
   },
   {
    "duration": 21,
    "start_time": "2022-03-05T08:42:50.664Z"
   },
   {
    "duration": 27,
    "start_time": "2022-03-05T08:42:50.701Z"
   },
   {
    "duration": 4,
    "start_time": "2022-03-05T08:42:50.731Z"
   },
   {
    "duration": 27,
    "start_time": "2022-03-05T08:42:50.737Z"
   },
   {
    "duration": 5,
    "start_time": "2022-03-05T08:42:50.767Z"
   },
   {
    "duration": 25,
    "start_time": "2022-03-05T08:42:50.801Z"
   },
   {
    "duration": 27,
    "start_time": "2022-03-05T08:42:50.830Z"
   },
   {
    "duration": 34,
    "start_time": "2022-03-05T08:42:50.860Z"
   },
   {
    "duration": 66,
    "start_time": "2022-03-05T08:42:50.897Z"
   },
   {
    "duration": 92,
    "start_time": "2022-03-05T08:42:50.966Z"
   },
   {
    "duration": 65,
    "start_time": "2022-03-05T08:42:51.060Z"
   },
   {
    "duration": 46,
    "start_time": "2022-03-05T08:42:51.128Z"
   },
   {
    "duration": 4,
    "start_time": "2022-03-05T08:42:51.176Z"
   },
   {
    "duration": 14,
    "start_time": "2022-03-05T08:42:51.201Z"
   },
   {
    "duration": 48,
    "start_time": "2022-03-05T08:42:51.217Z"
   },
   {
    "duration": 56,
    "start_time": "2022-03-05T08:42:51.267Z"
   },
   {
    "duration": 34,
    "start_time": "2022-03-05T08:42:51.325Z"
   },
   {
    "duration": 3,
    "start_time": "2022-03-05T08:42:51.361Z"
   },
   {
    "duration": 40,
    "start_time": "2022-03-05T08:42:51.366Z"
   },
   {
    "duration": 19,
    "start_time": "2022-03-05T08:42:51.409Z"
   },
   {
    "duration": 19,
    "start_time": "2022-03-05T08:42:51.430Z"
   },
   {
    "duration": 50,
    "start_time": "2022-03-05T08:42:51.451Z"
   },
   {
    "duration": 20,
    "start_time": "2022-03-05T08:42:51.503Z"
   },
   {
    "duration": 18,
    "start_time": "2022-03-05T08:42:51.526Z"
   },
   {
    "duration": 246,
    "start_time": "2022-03-05T08:42:51.549Z"
   },
   {
    "duration": -149771,
    "start_time": "2022-03-05T08:45:21.570Z"
   },
   {
    "duration": -149774,
    "start_time": "2022-03-05T08:45:21.574Z"
   },
   {
    "duration": -149782,
    "start_time": "2022-03-05T08:45:21.584Z"
   },
   {
    "duration": -149785,
    "start_time": "2022-03-05T08:45:21.588Z"
   },
   {
    "duration": -149787,
    "start_time": "2022-03-05T08:45:21.592Z"
   },
   {
    "duration": -149790,
    "start_time": "2022-03-05T08:45:21.596Z"
   },
   {
    "duration": -149791,
    "start_time": "2022-03-05T08:45:21.599Z"
   },
   {
    "duration": -149792,
    "start_time": "2022-03-05T08:45:21.602Z"
   },
   {
    "duration": -149795,
    "start_time": "2022-03-05T08:45:21.606Z"
   },
   {
    "duration": -149796,
    "start_time": "2022-03-05T08:45:21.609Z"
   },
   {
    "duration": -149799,
    "start_time": "2022-03-05T08:45:21.613Z"
   },
   {
    "duration": 164,
    "start_time": "2022-03-05T08:46:39.494Z"
   },
   {
    "duration": 179,
    "start_time": "2022-03-05T08:46:55.339Z"
   },
   {
    "duration": 559,
    "start_time": "2022-03-05T08:47:02.159Z"
   },
   {
    "duration": 157,
    "start_time": "2022-03-05T08:47:02.721Z"
   },
   {
    "duration": 23,
    "start_time": "2022-03-05T08:47:02.880Z"
   },
   {
    "duration": 57,
    "start_time": "2022-03-05T08:47:02.905Z"
   },
   {
    "duration": 49,
    "start_time": "2022-03-05T08:47:02.964Z"
   },
   {
    "duration": 68,
    "start_time": "2022-03-05T08:47:03.015Z"
   },
   {
    "duration": 31,
    "start_time": "2022-03-05T08:47:03.085Z"
   },
   {
    "duration": 65,
    "start_time": "2022-03-05T08:47:03.119Z"
   },
   {
    "duration": 50,
    "start_time": "2022-03-05T08:47:03.186Z"
   },
   {
    "duration": 40,
    "start_time": "2022-03-05T08:47:03.239Z"
   },
   {
    "duration": 101,
    "start_time": "2022-03-05T08:47:03.281Z"
   },
   {
    "duration": 77,
    "start_time": "2022-03-05T08:47:03.384Z"
   },
   {
    "duration": 71,
    "start_time": "2022-03-05T08:47:03.463Z"
   },
   {
    "duration": 47,
    "start_time": "2022-03-05T08:47:03.536Z"
   },
   {
    "duration": 18,
    "start_time": "2022-03-05T08:47:03.585Z"
   },
   {
    "duration": 22,
    "start_time": "2022-03-05T08:47:03.605Z"
   },
   {
    "duration": 91,
    "start_time": "2022-03-05T08:47:03.629Z"
   },
   {
    "duration": 45,
    "start_time": "2022-03-05T08:47:03.722Z"
   },
   {
    "duration": 36,
    "start_time": "2022-03-05T08:47:03.769Z"
   },
   {
    "duration": 10,
    "start_time": "2022-03-05T08:47:03.807Z"
   },
   {
    "duration": 76,
    "start_time": "2022-03-05T08:47:03.819Z"
   },
   {
    "duration": 60,
    "start_time": "2022-03-05T08:47:03.897Z"
   },
   {
    "duration": 31,
    "start_time": "2022-03-05T08:47:03.960Z"
   },
   {
    "duration": 23,
    "start_time": "2022-03-05T08:47:03.993Z"
   },
   {
    "duration": 33,
    "start_time": "2022-03-05T08:47:04.018Z"
   },
   {
    "duration": 30,
    "start_time": "2022-03-05T08:47:04.053Z"
   },
   {
    "duration": 248,
    "start_time": "2022-03-05T08:47:04.084Z"
   },
   {
    "duration": -149787,
    "start_time": "2022-03-05T08:49:34.121Z"
   },
   {
    "duration": -149798,
    "start_time": "2022-03-05T08:49:34.133Z"
   },
   {
    "duration": -149801,
    "start_time": "2022-03-05T08:49:34.137Z"
   },
   {
    "duration": -149805,
    "start_time": "2022-03-05T08:49:34.142Z"
   },
   {
    "duration": -149816,
    "start_time": "2022-03-05T08:49:34.154Z"
   },
   {
    "duration": -149819,
    "start_time": "2022-03-05T08:49:34.158Z"
   },
   {
    "duration": -149823,
    "start_time": "2022-03-05T08:49:34.163Z"
   },
   {
    "duration": -149825,
    "start_time": "2022-03-05T08:49:34.166Z"
   },
   {
    "duration": -149828,
    "start_time": "2022-03-05T08:49:34.169Z"
   },
   {
    "duration": -149831,
    "start_time": "2022-03-05T08:49:34.173Z"
   },
   {
    "duration": -149835,
    "start_time": "2022-03-05T08:49:34.178Z"
   },
   {
    "duration": 9,
    "start_time": "2022-03-05T08:47:44.700Z"
   },
   {
    "duration": 18,
    "start_time": "2022-03-05T09:21:09.209Z"
   },
   {
    "duration": 11,
    "start_time": "2022-03-05T09:37:09.841Z"
   },
   {
    "duration": 4445,
    "start_time": "2022-03-05T09:37:56.996Z"
   },
   {
    "duration": 343,
    "start_time": "2022-03-05T09:41:25.135Z"
   },
   {
    "duration": 293,
    "start_time": "2022-03-05T09:43:22.958Z"
   },
   {
    "duration": 271,
    "start_time": "2022-03-05T09:44:36.633Z"
   },
   {
    "duration": 5,
    "start_time": "2022-03-05T09:44:53.335Z"
   },
   {
    "duration": 291,
    "start_time": "2022-03-05T09:45:01.480Z"
   },
   {
    "duration": 282,
    "start_time": "2022-03-05T09:45:08.693Z"
   },
   {
    "duration": 285,
    "start_time": "2022-03-05T09:45:12.716Z"
   },
   {
    "duration": 284,
    "start_time": "2022-03-05T09:45:15.254Z"
   },
   {
    "duration": 299,
    "start_time": "2022-03-05T09:46:06.798Z"
   },
   {
    "duration": 408,
    "start_time": "2022-03-05T09:46:30.119Z"
   },
   {
    "duration": 300,
    "start_time": "2022-03-05T09:46:42.944Z"
   },
   {
    "duration": 4592,
    "start_time": "2022-03-05T09:47:00.174Z"
   },
   {
    "duration": 302,
    "start_time": "2022-03-05T09:47:20.445Z"
   },
   {
    "duration": 6,
    "start_time": "2022-03-05T09:48:36.714Z"
   },
   {
    "duration": 4,
    "start_time": "2022-03-05T09:49:59.957Z"
   },
   {
    "duration": 191,
    "start_time": "2022-03-05T09:50:45.534Z"
   },
   {
    "duration": 210,
    "start_time": "2022-03-05T09:50:57.482Z"
   },
   {
    "duration": 5,
    "start_time": "2022-03-05T09:51:28.766Z"
   },
   {
    "duration": 4,
    "start_time": "2022-03-05T09:51:30.572Z"
   },
   {
    "duration": 235,
    "start_time": "2022-03-05T09:51:42.749Z"
   },
   {
    "duration": 4,
    "start_time": "2022-03-05T09:52:02.322Z"
   },
   {
    "duration": 393,
    "start_time": "2022-03-05T09:52:43.333Z"
   },
   {
    "duration": 56,
    "start_time": "2022-03-05T09:53:41.254Z"
   },
   {
    "duration": 5,
    "start_time": "2022-03-05T09:53:52.770Z"
   },
   {
    "duration": 5,
    "start_time": "2022-03-05T09:53:55.079Z"
   },
   {
    "duration": 18,
    "start_time": "2022-03-05T09:53:58.167Z"
   },
   {
    "duration": 14,
    "start_time": "2022-03-05T09:54:23.685Z"
   },
   {
    "duration": 20,
    "start_time": "2022-03-05T09:54:40.056Z"
   },
   {
    "duration": 15,
    "start_time": "2022-03-05T09:54:50.430Z"
   },
   {
    "duration": 612,
    "start_time": "2022-03-05T09:55:39.804Z"
   },
   {
    "duration": 158,
    "start_time": "2022-03-05T09:55:40.418Z"
   },
   {
    "duration": 25,
    "start_time": "2022-03-05T09:55:40.578Z"
   },
   {
    "duration": 56,
    "start_time": "2022-03-05T09:55:40.605Z"
   },
   {
    "duration": 30,
    "start_time": "2022-03-05T09:55:40.663Z"
   },
   {
    "duration": 51,
    "start_time": "2022-03-05T09:55:40.695Z"
   },
   {
    "duration": 36,
    "start_time": "2022-03-05T09:55:40.748Z"
   },
   {
    "duration": 43,
    "start_time": "2022-03-05T09:55:40.786Z"
   },
   {
    "duration": 40,
    "start_time": "2022-03-05T09:55:40.831Z"
   },
   {
    "duration": 80,
    "start_time": "2022-03-05T09:55:40.873Z"
   },
   {
    "duration": 87,
    "start_time": "2022-03-05T09:55:40.955Z"
   },
   {
    "duration": 75,
    "start_time": "2022-03-05T09:55:41.044Z"
   },
   {
    "duration": 54,
    "start_time": "2022-03-05T09:55:41.121Z"
   },
   {
    "duration": 50,
    "start_time": "2022-03-05T09:55:41.177Z"
   },
   {
    "duration": 24,
    "start_time": "2022-03-05T09:55:41.229Z"
   },
   {
    "duration": 40,
    "start_time": "2022-03-05T09:55:41.256Z"
   },
   {
    "duration": 70,
    "start_time": "2022-03-05T09:55:41.298Z"
   },
   {
    "duration": 54,
    "start_time": "2022-03-05T09:55:41.370Z"
   },
   {
    "duration": 33,
    "start_time": "2022-03-05T09:55:41.426Z"
   },
   {
    "duration": 4,
    "start_time": "2022-03-05T09:55:41.461Z"
   },
   {
    "duration": 55,
    "start_time": "2022-03-05T09:55:41.467Z"
   },
   {
    "duration": 19,
    "start_time": "2022-03-05T09:55:41.524Z"
   },
   {
    "duration": 39,
    "start_time": "2022-03-05T09:55:41.545Z"
   },
   {
    "duration": 29,
    "start_time": "2022-03-05T09:55:41.586Z"
   },
   {
    "duration": 32,
    "start_time": "2022-03-05T09:55:41.617Z"
   },
   {
    "duration": 34,
    "start_time": "2022-03-05T09:55:41.651Z"
   },
   {
    "duration": 31,
    "start_time": "2022-03-05T09:55:41.688Z"
   },
   {
    "duration": 31,
    "start_time": "2022-03-05T09:55:41.721Z"
   },
   {
    "duration": 33,
    "start_time": "2022-03-05T09:55:41.753Z"
   },
   {
    "duration": 14,
    "start_time": "2022-03-05T09:55:41.788Z"
   },
   {
    "duration": 60,
    "start_time": "2022-03-05T09:55:41.804Z"
   },
   {
    "duration": 51,
    "start_time": "2022-03-05T09:55:41.867Z"
   },
   {
    "duration": 47,
    "start_time": "2022-03-05T09:55:41.920Z"
   },
   {
    "duration": 34,
    "start_time": "2022-03-05T09:55:41.969Z"
   },
   {
    "duration": 43,
    "start_time": "2022-03-05T09:55:42.006Z"
   },
   {
    "duration": 35,
    "start_time": "2022-03-05T09:55:42.051Z"
   },
   {
    "duration": 37,
    "start_time": "2022-03-05T09:55:42.088Z"
   },
   {
    "duration": 25,
    "start_time": "2022-03-05T09:55:42.127Z"
   },
   {
    "duration": 241,
    "start_time": "2022-03-05T10:04:47.349Z"
   },
   {
    "duration": 50,
    "start_time": "2022-03-05T10:06:30.067Z"
   },
   {
    "duration": 6,
    "start_time": "2022-03-05T10:06:32.301Z"
   },
   {
    "duration": 4249,
    "start_time": "2022-03-05T10:07:08.645Z"
   },
   {
    "duration": 577,
    "start_time": "2022-03-05T10:08:54.335Z"
   },
   {
    "duration": 145,
    "start_time": "2022-03-05T10:08:54.914Z"
   },
   {
    "duration": 18,
    "start_time": "2022-03-05T10:08:55.062Z"
   },
   {
    "duration": 38,
    "start_time": "2022-03-05T10:08:55.082Z"
   },
   {
    "duration": 6,
    "start_time": "2022-03-05T10:08:55.122Z"
   },
   {
    "duration": 26,
    "start_time": "2022-03-05T10:08:55.130Z"
   },
   {
    "duration": 6,
    "start_time": "2022-03-05T10:08:55.158Z"
   },
   {
    "duration": 52,
    "start_time": "2022-03-05T10:08:55.166Z"
   },
   {
    "duration": 20,
    "start_time": "2022-03-05T10:08:55.222Z"
   },
   {
    "duration": 25,
    "start_time": "2022-03-05T10:08:55.245Z"
   },
   {
    "duration": 88,
    "start_time": "2022-03-05T10:08:55.272Z"
   },
   {
    "duration": 86,
    "start_time": "2022-03-05T10:08:55.362Z"
   },
   {
    "duration": 63,
    "start_time": "2022-03-05T10:08:55.450Z"
   },
   {
    "duration": 45,
    "start_time": "2022-03-05T10:08:55.515Z"
   },
   {
    "duration": 6,
    "start_time": "2022-03-05T10:08:55.562Z"
   },
   {
    "duration": 31,
    "start_time": "2022-03-05T10:08:55.570Z"
   },
   {
    "duration": 44,
    "start_time": "2022-03-05T10:08:55.603Z"
   },
   {
    "duration": 56,
    "start_time": "2022-03-05T10:08:55.649Z"
   },
   {
    "duration": 34,
    "start_time": "2022-03-05T10:08:55.707Z"
   },
   {
    "duration": 4,
    "start_time": "2022-03-05T10:08:55.742Z"
   },
   {
    "duration": 23,
    "start_time": "2022-03-05T10:08:55.748Z"
   },
   {
    "duration": 36,
    "start_time": "2022-03-05T10:08:55.773Z"
   },
   {
    "duration": 16,
    "start_time": "2022-03-05T10:08:55.811Z"
   },
   {
    "duration": 15,
    "start_time": "2022-03-05T10:08:55.829Z"
   },
   {
    "duration": 17,
    "start_time": "2022-03-05T10:08:55.846Z"
   },
   {
    "duration": 46,
    "start_time": "2022-03-05T10:08:55.865Z"
   },
   {
    "duration": 9,
    "start_time": "2022-03-05T10:08:55.914Z"
   },
   {
    "duration": 14,
    "start_time": "2022-03-05T10:08:55.925Z"
   },
   {
    "duration": 10,
    "start_time": "2022-03-05T10:08:55.941Z"
   },
   {
    "duration": 4,
    "start_time": "2022-03-05T10:08:55.953Z"
   },
   {
    "duration": 55,
    "start_time": "2022-03-05T10:08:55.959Z"
   },
   {
    "duration": 13,
    "start_time": "2022-03-05T10:08:56.016Z"
   },
   {
    "duration": 20,
    "start_time": "2022-03-05T10:08:56.031Z"
   },
   {
    "duration": 13,
    "start_time": "2022-03-05T10:08:56.053Z"
   },
   {
    "duration": 77,
    "start_time": "2022-03-05T10:08:56.067Z"
   },
   {
    "duration": 5,
    "start_time": "2022-03-05T10:08:56.146Z"
   },
   {
    "duration": 4373,
    "start_time": "2022-03-05T10:08:56.152Z"
   },
   {
    "duration": -150241,
    "start_time": "2022-03-05T10:11:30.768Z"
   },
   {
    "duration": 181,
    "start_time": "2022-03-05T10:14:09.125Z"
   },
   {
    "duration": 4600,
    "start_time": "2022-03-05T10:14:50.547Z"
   },
   {
    "duration": 9,
    "start_time": "2022-03-05T10:15:14.428Z"
   },
   {
    "duration": 593,
    "start_time": "2022-03-05T10:15:30.817Z"
   },
   {
    "duration": 153,
    "start_time": "2022-03-05T10:15:31.412Z"
   },
   {
    "duration": 18,
    "start_time": "2022-03-05T10:15:31.567Z"
   },
   {
    "duration": 135,
    "start_time": "2022-03-05T10:15:31.588Z"
   },
   {
    "duration": 301,
    "start_time": "2022-03-05T10:15:31.725Z"
   },
   {
    "duration": 37,
    "start_time": "2022-03-05T10:15:32.028Z"
   },
   {
    "duration": 16,
    "start_time": "2022-03-05T10:15:32.067Z"
   },
   {
    "duration": 52,
    "start_time": "2022-03-05T10:15:32.085Z"
   },
   {
    "duration": 33,
    "start_time": "2022-03-05T10:15:32.140Z"
   },
   {
    "duration": 48,
    "start_time": "2022-03-05T10:15:32.175Z"
   },
   {
    "duration": 81,
    "start_time": "2022-03-05T10:15:32.225Z"
   },
   {
    "duration": 67,
    "start_time": "2022-03-05T10:15:32.308Z"
   },
   {
    "duration": 65,
    "start_time": "2022-03-05T10:15:32.377Z"
   },
   {
    "duration": 58,
    "start_time": "2022-03-05T10:15:32.444Z"
   },
   {
    "duration": 88,
    "start_time": "2022-03-05T10:15:32.504Z"
   },
   {
    "duration": 41,
    "start_time": "2022-03-05T10:15:32.594Z"
   },
   {
    "duration": 67,
    "start_time": "2022-03-05T10:15:32.637Z"
   },
   {
    "duration": 44,
    "start_time": "2022-03-05T10:15:32.706Z"
   },
   {
    "duration": 43,
    "start_time": "2022-03-05T10:15:32.752Z"
   },
   {
    "duration": 4,
    "start_time": "2022-03-05T10:15:32.797Z"
   },
   {
    "duration": 34,
    "start_time": "2022-03-05T10:15:32.803Z"
   },
   {
    "duration": 29,
    "start_time": "2022-03-05T10:15:32.839Z"
   },
   {
    "duration": 36,
    "start_time": "2022-03-05T10:15:32.872Z"
   },
   {
    "duration": 17,
    "start_time": "2022-03-05T10:15:32.911Z"
   },
   {
    "duration": 32,
    "start_time": "2022-03-05T10:15:32.930Z"
   },
   {
    "duration": 32,
    "start_time": "2022-03-05T10:15:32.964Z"
   },
   {
    "duration": 24,
    "start_time": "2022-03-05T10:15:32.999Z"
   },
   {
    "duration": 260,
    "start_time": "2022-03-05T10:15:33.026Z"
   },
   {
    "duration": 25,
    "start_time": "2022-03-05T10:15:33.288Z"
   },
   {
    "duration": 16,
    "start_time": "2022-03-05T10:15:33.315Z"
   },
   {
    "duration": 37,
    "start_time": "2022-03-05T10:15:33.334Z"
   },
   {
    "duration": 33,
    "start_time": "2022-03-05T10:15:33.373Z"
   },
   {
    "duration": 50,
    "start_time": "2022-03-05T10:15:33.408Z"
   },
   {
    "duration": 18,
    "start_time": "2022-03-05T10:15:33.461Z"
   },
   {
    "duration": 60,
    "start_time": "2022-03-05T10:15:33.482Z"
   },
   {
    "duration": 6,
    "start_time": "2022-03-05T10:15:33.544Z"
   },
   {
    "duration": 29,
    "start_time": "2022-03-05T10:15:33.553Z"
   },
   {
    "duration": 19,
    "start_time": "2022-03-05T10:15:33.584Z"
   },
   {
    "duration": 586,
    "start_time": "2022-03-05T10:17:29.951Z"
   },
   {
    "duration": 153,
    "start_time": "2022-03-05T10:17:30.539Z"
   },
   {
    "duration": 19,
    "start_time": "2022-03-05T10:17:30.695Z"
   },
   {
    "duration": 36,
    "start_time": "2022-03-05T10:17:30.716Z"
   },
   {
    "duration": 11,
    "start_time": "2022-03-05T10:17:30.754Z"
   },
   {
    "duration": 39,
    "start_time": "2022-03-05T10:17:30.767Z"
   },
   {
    "duration": 13,
    "start_time": "2022-03-05T10:17:30.809Z"
   },
   {
    "duration": 38,
    "start_time": "2022-03-05T10:17:30.824Z"
   },
   {
    "duration": 45,
    "start_time": "2022-03-05T10:17:30.865Z"
   },
   {
    "duration": 29,
    "start_time": "2022-03-05T10:17:30.913Z"
   },
   {
    "duration": 92,
    "start_time": "2022-03-05T10:17:30.944Z"
   },
   {
    "duration": 110,
    "start_time": "2022-03-05T10:17:31.039Z"
   },
   {
    "duration": 85,
    "start_time": "2022-03-05T10:17:31.151Z"
   },
   {
    "duration": 65,
    "start_time": "2022-03-05T10:17:31.238Z"
   },
   {
    "duration": 17,
    "start_time": "2022-03-05T10:17:31.305Z"
   },
   {
    "duration": 31,
    "start_time": "2022-03-05T10:17:31.325Z"
   },
   {
    "duration": 70,
    "start_time": "2022-03-05T10:17:31.358Z"
   },
   {
    "duration": 44,
    "start_time": "2022-03-05T10:17:31.430Z"
   },
   {
    "duration": 49,
    "start_time": "2022-03-05T10:17:31.476Z"
   },
   {
    "duration": 5,
    "start_time": "2022-03-05T10:17:31.526Z"
   },
   {
    "duration": 53,
    "start_time": "2022-03-05T10:17:31.533Z"
   },
   {
    "duration": 76,
    "start_time": "2022-03-05T10:17:31.587Z"
   },
   {
    "duration": 138,
    "start_time": "2022-03-05T10:17:31.665Z"
   },
   {
    "duration": 16,
    "start_time": "2022-03-05T10:17:31.805Z"
   },
   {
    "duration": 22,
    "start_time": "2022-03-05T10:17:31.823Z"
   },
   {
    "duration": 30,
    "start_time": "2022-03-05T10:17:31.847Z"
   },
   {
    "duration": 22,
    "start_time": "2022-03-05T10:17:31.880Z"
   },
   {
    "duration": 21,
    "start_time": "2022-03-05T10:17:31.904Z"
   },
   {
    "duration": 19,
    "start_time": "2022-03-05T10:17:31.927Z"
   },
   {
    "duration": 14,
    "start_time": "2022-03-05T10:17:31.948Z"
   },
   {
    "duration": 54,
    "start_time": "2022-03-05T10:17:31.964Z"
   },
   {
    "duration": 26,
    "start_time": "2022-03-05T10:17:32.020Z"
   },
   {
    "duration": 26,
    "start_time": "2022-03-05T10:17:32.048Z"
   },
   {
    "duration": 15,
    "start_time": "2022-03-05T10:17:32.076Z"
   },
   {
    "duration": 291,
    "start_time": "2022-03-05T10:17:32.102Z"
   },
   {
    "duration": -150263,
    "start_time": "2022-03-05T10:20:02.658Z"
   },
   {
    "duration": -150264,
    "start_time": "2022-03-05T10:20:02.661Z"
   },
   {
    "duration": -150267,
    "start_time": "2022-03-05T10:20:02.665Z"
   },
   {
    "duration": 608,
    "start_time": "2022-03-05T10:19:35.177Z"
   },
   {
    "duration": 142,
    "start_time": "2022-03-05T10:19:35.787Z"
   },
   {
    "duration": 19,
    "start_time": "2022-03-05T10:19:35.931Z"
   },
   {
    "duration": 25,
    "start_time": "2022-03-05T10:19:35.952Z"
   },
   {
    "duration": 24,
    "start_time": "2022-03-05T10:19:35.979Z"
   },
   {
    "duration": 37,
    "start_time": "2022-03-05T10:19:36.006Z"
   },
   {
    "duration": 15,
    "start_time": "2022-03-05T10:19:36.045Z"
   },
   {
    "duration": 36,
    "start_time": "2022-03-05T10:19:36.062Z"
   },
   {
    "duration": 24,
    "start_time": "2022-03-05T10:19:36.102Z"
   },
   {
    "duration": 31,
    "start_time": "2022-03-05T10:19:36.129Z"
   },
   {
    "duration": 68,
    "start_time": "2022-03-05T10:19:36.162Z"
   },
   {
    "duration": 88,
    "start_time": "2022-03-05T10:19:36.232Z"
   },
   {
    "duration": 56,
    "start_time": "2022-03-05T10:19:36.322Z"
   },
   {
    "duration": 61,
    "start_time": "2022-03-05T10:19:36.380Z"
   },
   {
    "duration": 3,
    "start_time": "2022-03-05T10:19:36.444Z"
   },
   {
    "duration": 15,
    "start_time": "2022-03-05T10:19:36.449Z"
   },
   {
    "duration": 62,
    "start_time": "2022-03-05T10:19:36.466Z"
   },
   {
    "duration": 35,
    "start_time": "2022-03-05T10:19:36.531Z"
   },
   {
    "duration": 48,
    "start_time": "2022-03-05T10:19:36.568Z"
   },
   {
    "duration": 4,
    "start_time": "2022-03-05T10:19:36.617Z"
   },
   {
    "duration": 23,
    "start_time": "2022-03-05T10:19:36.622Z"
   },
   {
    "duration": 16,
    "start_time": "2022-03-05T10:19:36.647Z"
   },
   {
    "duration": 45,
    "start_time": "2022-03-05T10:19:36.664Z"
   },
   {
    "duration": 16,
    "start_time": "2022-03-05T10:19:36.711Z"
   },
   {
    "duration": 19,
    "start_time": "2022-03-05T10:19:36.729Z"
   },
   {
    "duration": 18,
    "start_time": "2022-03-05T10:19:36.750Z"
   },
   {
    "duration": 9,
    "start_time": "2022-03-05T10:19:36.805Z"
   },
   {
    "duration": 20,
    "start_time": "2022-03-05T10:19:36.817Z"
   },
   {
    "duration": 12,
    "start_time": "2022-03-05T10:19:36.839Z"
   },
   {
    "duration": 6,
    "start_time": "2022-03-05T10:19:36.853Z"
   },
   {
    "duration": 40,
    "start_time": "2022-03-05T10:19:36.862Z"
   },
   {
    "duration": 13,
    "start_time": "2022-03-05T10:19:36.905Z"
   },
   {
    "duration": 23,
    "start_time": "2022-03-05T10:19:36.920Z"
   },
   {
    "duration": 14,
    "start_time": "2022-03-05T10:19:36.945Z"
   },
   {
    "duration": 78,
    "start_time": "2022-03-05T10:19:36.960Z"
   },
   {
    "duration": 5,
    "start_time": "2022-03-05T10:19:37.040Z"
   },
   {
    "duration": 31,
    "start_time": "2022-03-05T10:19:37.047Z"
   },
   {
    "duration": 6,
    "start_time": "2022-03-05T10:19:37.079Z"
   },
   {
    "duration": 591,
    "start_time": "2022-03-05T10:21:30.826Z"
   },
   {
    "duration": 144,
    "start_time": "2022-03-05T10:21:31.419Z"
   },
   {
    "duration": 18,
    "start_time": "2022-03-05T10:21:31.566Z"
   },
   {
    "duration": 37,
    "start_time": "2022-03-05T10:21:31.586Z"
   },
   {
    "duration": 24,
    "start_time": "2022-03-05T10:21:31.626Z"
   },
   {
    "duration": 37,
    "start_time": "2022-03-05T10:21:31.652Z"
   },
   {
    "duration": 21,
    "start_time": "2022-03-05T10:21:31.691Z"
   },
   {
    "duration": 37,
    "start_time": "2022-03-05T10:21:31.715Z"
   },
   {
    "duration": 45,
    "start_time": "2022-03-05T10:21:31.755Z"
   },
   {
    "duration": 38,
    "start_time": "2022-03-05T10:21:31.802Z"
   },
   {
    "duration": 81,
    "start_time": "2022-03-05T10:21:31.842Z"
   },
   {
    "duration": 78,
    "start_time": "2022-03-05T10:21:31.925Z"
   },
   {
    "duration": 58,
    "start_time": "2022-03-05T10:21:32.006Z"
   },
   {
    "duration": 59,
    "start_time": "2022-03-05T10:21:32.066Z"
   },
   {
    "duration": 3,
    "start_time": "2022-03-05T10:21:32.127Z"
   },
   {
    "duration": 19,
    "start_time": "2022-03-05T10:21:32.132Z"
   },
   {
    "duration": 49,
    "start_time": "2022-03-05T10:21:32.153Z"
   },
   {
    "duration": 34,
    "start_time": "2022-03-05T10:21:32.204Z"
   },
   {
    "duration": 33,
    "start_time": "2022-03-05T10:21:32.240Z"
   },
   {
    "duration": 27,
    "start_time": "2022-03-05T10:21:32.275Z"
   },
   {
    "duration": 28,
    "start_time": "2022-03-05T10:21:32.304Z"
   },
   {
    "duration": 16,
    "start_time": "2022-03-05T10:21:32.334Z"
   },
   {
    "duration": 17,
    "start_time": "2022-03-05T10:21:32.354Z"
   },
   {
    "duration": 37,
    "start_time": "2022-03-05T10:21:32.373Z"
   },
   {
    "duration": 17,
    "start_time": "2022-03-05T10:21:32.412Z"
   },
   {
    "duration": 26,
    "start_time": "2022-03-05T10:21:32.431Z"
   },
   {
    "duration": 13,
    "start_time": "2022-03-05T10:21:32.458Z"
   },
   {
    "duration": 31,
    "start_time": "2022-03-05T10:21:32.473Z"
   },
   {
    "duration": 10,
    "start_time": "2022-03-05T10:21:32.505Z"
   },
   {
    "duration": 22,
    "start_time": "2022-03-05T10:21:32.517Z"
   },
   {
    "duration": 34,
    "start_time": "2022-03-05T10:21:32.541Z"
   },
   {
    "duration": 38,
    "start_time": "2022-03-05T10:21:32.577Z"
   },
   {
    "duration": 29,
    "start_time": "2022-03-05T10:21:32.617Z"
   },
   {
    "duration": 21,
    "start_time": "2022-03-05T10:21:32.648Z"
   },
   {
    "duration": 283,
    "start_time": "2022-03-05T10:21:32.670Z"
   },
   {
    "duration": -150271,
    "start_time": "2022-03-05T10:24:03.226Z"
   },
   {
    "duration": -150274,
    "start_time": "2022-03-05T10:24:03.230Z"
   },
   {
    "duration": -150279,
    "start_time": "2022-03-05T10:24:03.236Z"
   },
   {
    "duration": 553,
    "start_time": "2022-03-05T10:27:58.539Z"
   },
   {
    "duration": 143,
    "start_time": "2022-03-05T10:27:59.094Z"
   },
   {
    "duration": 17,
    "start_time": "2022-03-05T10:27:59.239Z"
   },
   {
    "duration": 43,
    "start_time": "2022-03-05T10:27:59.258Z"
   },
   {
    "duration": 4,
    "start_time": "2022-03-05T10:27:59.303Z"
   },
   {
    "duration": 29,
    "start_time": "2022-03-05T10:27:59.309Z"
   },
   {
    "duration": 12,
    "start_time": "2022-03-05T10:27:59.340Z"
   },
   {
    "duration": 30,
    "start_time": "2022-03-05T10:27:59.355Z"
   },
   {
    "duration": 34,
    "start_time": "2022-03-05T10:27:59.387Z"
   },
   {
    "duration": 24,
    "start_time": "2022-03-05T10:27:59.423Z"
   },
   {
    "duration": 77,
    "start_time": "2022-03-05T10:27:59.449Z"
   },
   {
    "duration": 74,
    "start_time": "2022-03-05T10:27:59.527Z"
   },
   {
    "duration": 56,
    "start_time": "2022-03-05T10:27:59.603Z"
   },
   {
    "duration": 53,
    "start_time": "2022-03-05T10:27:59.661Z"
   },
   {
    "duration": 3,
    "start_time": "2022-03-05T10:27:59.716Z"
   },
   {
    "duration": 14,
    "start_time": "2022-03-05T10:27:59.720Z"
   },
   {
    "duration": 66,
    "start_time": "2022-03-05T10:27:59.736Z"
   },
   {
    "duration": 34,
    "start_time": "2022-03-05T10:27:59.804Z"
   },
   {
    "duration": 37,
    "start_time": "2022-03-05T10:27:59.841Z"
   },
   {
    "duration": 5,
    "start_time": "2022-03-05T10:27:59.902Z"
   },
   {
    "duration": 20,
    "start_time": "2022-03-05T10:27:59.909Z"
   },
   {
    "duration": 16,
    "start_time": "2022-03-05T10:27:59.931Z"
   },
   {
    "duration": 16,
    "start_time": "2022-03-05T10:27:59.952Z"
   },
   {
    "duration": 21,
    "start_time": "2022-03-05T10:28:00.001Z"
   },
   {
    "duration": 34,
    "start_time": "2022-03-05T10:28:00.024Z"
   },
   {
    "duration": 17,
    "start_time": "2022-03-05T10:28:00.059Z"
   },
   {
    "duration": 26,
    "start_time": "2022-03-05T10:28:00.078Z"
   },
   {
    "duration": 14,
    "start_time": "2022-03-05T10:28:00.106Z"
   },
   {
    "duration": 16,
    "start_time": "2022-03-05T10:28:00.122Z"
   },
   {
    "duration": 9,
    "start_time": "2022-03-05T10:28:00.141Z"
   },
   {
    "duration": 44,
    "start_time": "2022-03-05T10:28:00.151Z"
   },
   {
    "duration": 38,
    "start_time": "2022-03-05T10:28:00.197Z"
   },
   {
    "duration": 25,
    "start_time": "2022-03-05T10:28:00.237Z"
   },
   {
    "duration": 25,
    "start_time": "2022-03-05T10:28:00.264Z"
   },
   {
    "duration": 254,
    "start_time": "2022-03-05T10:28:00.291Z"
   },
   {
    "duration": -150306,
    "start_time": "2022-03-05T10:30:30.853Z"
   },
   {
    "duration": -150319,
    "start_time": "2022-03-05T10:30:30.867Z"
   },
   {
    "duration": -150323,
    "start_time": "2022-03-05T10:30:30.872Z"
   },
   {
    "duration": 49,
    "start_time": "2022-03-05T10:28:47.946Z"
   },
   {
    "duration": 5,
    "start_time": "2022-03-05T10:28:50.785Z"
   },
   {
    "duration": 180,
    "start_time": "2022-03-05T10:29:09.765Z"
   },
   {
    "duration": 48,
    "start_time": "2022-03-05T10:29:22.937Z"
   },
   {
    "duration": 5,
    "start_time": "2022-03-05T10:29:27.559Z"
   },
   {
    "duration": 246,
    "start_time": "2022-03-05T10:30:26.485Z"
   },
   {
    "duration": 48,
    "start_time": "2022-03-05T10:30:31.824Z"
   },
   {
    "duration": 226,
    "start_time": "2022-03-05T10:31:06.616Z"
   },
   {
    "duration": 187,
    "start_time": "2022-03-05T10:32:26.321Z"
   },
   {
    "duration": 593,
    "start_time": "2022-03-05T10:32:59.854Z"
   },
   {
    "duration": 160,
    "start_time": "2022-03-05T10:33:00.450Z"
   },
   {
    "duration": 19,
    "start_time": "2022-03-05T10:33:00.613Z"
   },
   {
    "duration": 43,
    "start_time": "2022-03-05T10:33:00.634Z"
   },
   {
    "duration": 8,
    "start_time": "2022-03-05T10:33:00.680Z"
   },
   {
    "duration": 29,
    "start_time": "2022-03-05T10:33:00.690Z"
   },
   {
    "duration": 19,
    "start_time": "2022-03-05T10:33:00.721Z"
   },
   {
    "duration": 46,
    "start_time": "2022-03-05T10:33:00.743Z"
   },
   {
    "duration": 26,
    "start_time": "2022-03-05T10:33:00.791Z"
   },
   {
    "duration": 29,
    "start_time": "2022-03-05T10:33:00.818Z"
   },
   {
    "duration": 78,
    "start_time": "2022-03-05T10:33:00.850Z"
   },
   {
    "duration": 86,
    "start_time": "2022-03-05T10:33:00.930Z"
   },
   {
    "duration": 71,
    "start_time": "2022-03-05T10:33:01.019Z"
   },
   {
    "duration": 53,
    "start_time": "2022-03-05T10:33:01.091Z"
   },
   {
    "duration": 7,
    "start_time": "2022-03-05T10:33:01.146Z"
   },
   {
    "duration": 20,
    "start_time": "2022-03-05T10:33:01.155Z"
   },
   {
    "duration": 60,
    "start_time": "2022-03-05T10:33:01.177Z"
   },
   {
    "duration": 46,
    "start_time": "2022-03-05T10:33:01.239Z"
   },
   {
    "duration": 49,
    "start_time": "2022-03-05T10:33:01.287Z"
   },
   {
    "duration": 5,
    "start_time": "2022-03-05T10:33:01.339Z"
   },
   {
    "duration": 34,
    "start_time": "2022-03-05T10:33:01.346Z"
   },
   {
    "duration": 33,
    "start_time": "2022-03-05T10:33:01.381Z"
   },
   {
    "duration": 19,
    "start_time": "2022-03-05T10:33:01.418Z"
   },
   {
    "duration": 19,
    "start_time": "2022-03-05T10:33:01.440Z"
   },
   {
    "duration": 45,
    "start_time": "2022-03-05T10:33:01.461Z"
   },
   {
    "duration": 17,
    "start_time": "2022-03-05T10:33:01.508Z"
   },
   {
    "duration": 18,
    "start_time": "2022-03-05T10:33:01.527Z"
   },
   {
    "duration": 21,
    "start_time": "2022-03-05T10:33:01.546Z"
   },
   {
    "duration": 35,
    "start_time": "2022-03-05T10:33:01.569Z"
   },
   {
    "duration": 5,
    "start_time": "2022-03-05T10:33:01.606Z"
   },
   {
    "duration": 56,
    "start_time": "2022-03-05T10:33:01.612Z"
   },
   {
    "duration": 25,
    "start_time": "2022-03-05T10:33:01.670Z"
   },
   {
    "duration": 29,
    "start_time": "2022-03-05T10:33:01.698Z"
   },
   {
    "duration": 47,
    "start_time": "2022-03-05T10:33:01.729Z"
   },
   {
    "duration": 276,
    "start_time": "2022-03-05T10:33:01.778Z"
   },
   {
    "duration": -150338,
    "start_time": "2022-03-05T10:35:32.394Z"
   },
   {
    "duration": -150340,
    "start_time": "2022-03-05T10:35:32.397Z"
   },
   {
    "duration": -150343,
    "start_time": "2022-03-05T10:35:32.401Z"
   },
   {
    "duration": 47,
    "start_time": "2022-03-05T10:33:52.151Z"
   },
   {
    "duration": 6,
    "start_time": "2022-03-05T10:33:54.230Z"
   },
   {
    "duration": 583,
    "start_time": "2022-03-05T10:33:59.121Z"
   },
   {
    "duration": 149,
    "start_time": "2022-03-05T10:33:59.706Z"
   },
   {
    "duration": 20,
    "start_time": "2022-03-05T10:33:59.858Z"
   },
   {
    "duration": 40,
    "start_time": "2022-03-05T10:33:59.880Z"
   },
   {
    "duration": 11,
    "start_time": "2022-03-05T10:33:59.922Z"
   },
   {
    "duration": 29,
    "start_time": "2022-03-05T10:33:59.935Z"
   },
   {
    "duration": 4,
    "start_time": "2022-03-05T10:33:59.966Z"
   },
   {
    "duration": 38,
    "start_time": "2022-03-05T10:33:59.972Z"
   },
   {
    "duration": 27,
    "start_time": "2022-03-05T10:34:00.014Z"
   },
   {
    "duration": 32,
    "start_time": "2022-03-05T10:34:00.044Z"
   },
   {
    "duration": 76,
    "start_time": "2022-03-05T10:34:00.078Z"
   },
   {
    "duration": 91,
    "start_time": "2022-03-05T10:34:00.157Z"
   },
   {
    "duration": 62,
    "start_time": "2022-03-05T10:34:00.250Z"
   },
   {
    "duration": 44,
    "start_time": "2022-03-05T10:34:00.314Z"
   },
   {
    "duration": 19,
    "start_time": "2022-03-05T10:34:00.361Z"
   },
   {
    "duration": 31,
    "start_time": "2022-03-05T10:34:00.382Z"
   },
   {
    "duration": 92,
    "start_time": "2022-03-05T10:34:00.415Z"
   },
   {
    "duration": 47,
    "start_time": "2022-03-05T10:34:00.510Z"
   },
   {
    "duration": 33,
    "start_time": "2022-03-05T10:34:00.559Z"
   },
   {
    "duration": 7,
    "start_time": "2022-03-05T10:34:00.594Z"
   },
   {
    "duration": 83,
    "start_time": "2022-03-05T10:34:00.603Z"
   },
   {
    "duration": 16,
    "start_time": "2022-03-05T10:34:00.688Z"
   },
   {
    "duration": 16,
    "start_time": "2022-03-05T10:34:00.706Z"
   },
   {
    "duration": 18,
    "start_time": "2022-03-05T10:34:00.724Z"
   },
   {
    "duration": 21,
    "start_time": "2022-03-05T10:34:00.744Z"
   },
   {
    "duration": 41,
    "start_time": "2022-03-05T10:34:00.767Z"
   },
   {
    "duration": 10,
    "start_time": "2022-03-05T10:34:00.812Z"
   },
   {
    "duration": 18,
    "start_time": "2022-03-05T10:34:00.825Z"
   },
   {
    "duration": 12,
    "start_time": "2022-03-05T10:34:00.845Z"
   },
   {
    "duration": 4,
    "start_time": "2022-03-05T10:34:00.860Z"
   },
   {
    "duration": 47,
    "start_time": "2022-03-05T10:34:00.866Z"
   },
   {
    "duration": 15,
    "start_time": "2022-03-05T10:34:00.916Z"
   },
   {
    "duration": 24,
    "start_time": "2022-03-05T10:34:00.933Z"
   },
   {
    "duration": 43,
    "start_time": "2022-03-05T10:34:00.959Z"
   },
   {
    "duration": 51,
    "start_time": "2022-03-05T10:34:01.004Z"
   },
   {
    "duration": 5,
    "start_time": "2022-03-05T10:34:01.056Z"
   },
   {
    "duration": 237,
    "start_time": "2022-03-05T10:34:01.063Z"
   },
   {
    "duration": -150358,
    "start_time": "2022-03-05T10:36:31.660Z"
   },
   {
    "duration": 4,
    "start_time": "2022-03-05T10:39:20.904Z"
   },
   {
    "duration": 21,
    "start_time": "2022-03-05T10:39:23.310Z"
   },
   {
    "duration": 13,
    "start_time": "2022-03-05T10:39:25.253Z"
   },
   {
    "duration": 19,
    "start_time": "2022-03-05T10:39:29.487Z"
   },
   {
    "duration": 15,
    "start_time": "2022-03-05T10:39:32.127Z"
   },
   {
    "duration": 49,
    "start_time": "2022-03-05T10:39:35.326Z"
   },
   {
    "duration": 6,
    "start_time": "2022-03-05T10:39:37.066Z"
   },
   {
    "duration": 5,
    "start_time": "2022-03-05T10:49:56.359Z"
   },
   {
    "duration": 19,
    "start_time": "2022-03-05T10:49:58.821Z"
   },
   {
    "duration": 13,
    "start_time": "2022-03-05T10:50:00.763Z"
   },
   {
    "duration": 619,
    "start_time": "2022-03-05T10:50:05.470Z"
   },
   {
    "duration": 157,
    "start_time": "2022-03-05T10:50:06.091Z"
   },
   {
    "duration": 20,
    "start_time": "2022-03-05T10:50:06.250Z"
   },
   {
    "duration": 47,
    "start_time": "2022-03-05T10:50:06.272Z"
   },
   {
    "duration": 36,
    "start_time": "2022-03-05T10:50:06.321Z"
   },
   {
    "duration": 36,
    "start_time": "2022-03-05T10:50:06.360Z"
   },
   {
    "duration": 12,
    "start_time": "2022-03-05T10:50:06.398Z"
   },
   {
    "duration": 29,
    "start_time": "2022-03-05T10:50:06.412Z"
   },
   {
    "duration": 25,
    "start_time": "2022-03-05T10:50:06.443Z"
   },
   {
    "duration": 31,
    "start_time": "2022-03-05T10:50:06.470Z"
   },
   {
    "duration": 82,
    "start_time": "2022-03-05T10:50:06.503Z"
   },
   {
    "duration": 76,
    "start_time": "2022-03-05T10:50:06.586Z"
   },
   {
    "duration": 66,
    "start_time": "2022-03-05T10:50:06.664Z"
   },
   {
    "duration": 43,
    "start_time": "2022-03-05T10:50:06.733Z"
   },
   {
    "duration": 23,
    "start_time": "2022-03-05T10:50:06.778Z"
   },
   {
    "duration": 11,
    "start_time": "2022-03-05T10:50:06.803Z"
   },
   {
    "duration": 47,
    "start_time": "2022-03-05T10:50:06.815Z"
   },
   {
    "duration": 50,
    "start_time": "2022-03-05T10:50:06.866Z"
   },
   {
    "duration": 33,
    "start_time": "2022-03-05T10:50:06.918Z"
   },
   {
    "duration": 3,
    "start_time": "2022-03-05T10:50:06.953Z"
   },
   {
    "duration": 24,
    "start_time": "2022-03-05T10:50:06.958Z"
   },
   {
    "duration": 18,
    "start_time": "2022-03-05T10:50:07.002Z"
   },
   {
    "duration": 23,
    "start_time": "2022-03-05T10:50:07.022Z"
   },
   {
    "duration": 15,
    "start_time": "2022-03-05T10:50:07.048Z"
   },
   {
    "duration": 46,
    "start_time": "2022-03-05T10:50:07.065Z"
   },
   {
    "duration": 17,
    "start_time": "2022-03-05T10:50:07.113Z"
   },
   {
    "duration": 8,
    "start_time": "2022-03-05T10:50:07.132Z"
   },
   {
    "duration": 15,
    "start_time": "2022-03-05T10:50:07.142Z"
   },
   {
    "duration": 11,
    "start_time": "2022-03-05T10:50:07.159Z"
   },
   {
    "duration": 30,
    "start_time": "2022-03-05T10:50:07.172Z"
   },
   {
    "duration": 26,
    "start_time": "2022-03-05T10:50:07.205Z"
   },
   {
    "duration": 13,
    "start_time": "2022-03-05T10:50:07.233Z"
   },
   {
    "duration": 20,
    "start_time": "2022-03-05T10:50:07.248Z"
   },
   {
    "duration": 35,
    "start_time": "2022-03-05T10:50:07.270Z"
   },
   {
    "duration": 57,
    "start_time": "2022-03-05T10:50:07.306Z"
   },
   {
    "duration": 6,
    "start_time": "2022-03-05T10:50:07.364Z"
   },
   {
    "duration": 249,
    "start_time": "2022-03-05T10:50:07.371Z"
   },
   {
    "duration": -150416,
    "start_time": "2022-03-05T10:52:38.038Z"
   },
   {
    "duration": 618,
    "start_time": "2022-03-05T10:51:05.265Z"
   },
   {
    "duration": 154,
    "start_time": "2022-03-05T10:51:05.886Z"
   },
   {
    "duration": 22,
    "start_time": "2022-03-05T10:51:06.042Z"
   },
   {
    "duration": 42,
    "start_time": "2022-03-05T10:51:06.066Z"
   },
   {
    "duration": 6,
    "start_time": "2022-03-05T10:51:06.110Z"
   },
   {
    "duration": 33,
    "start_time": "2022-03-05T10:51:06.118Z"
   },
   {
    "duration": 13,
    "start_time": "2022-03-05T10:51:06.154Z"
   },
   {
    "duration": 42,
    "start_time": "2022-03-05T10:51:06.169Z"
   },
   {
    "duration": 29,
    "start_time": "2022-03-05T10:51:06.213Z"
   },
   {
    "duration": 25,
    "start_time": "2022-03-05T10:51:06.244Z"
   },
   {
    "duration": 73,
    "start_time": "2022-03-05T10:51:06.271Z"
   },
   {
    "duration": 81,
    "start_time": "2022-03-05T10:51:06.345Z"
   },
   {
    "duration": 53,
    "start_time": "2022-03-05T10:51:06.428Z"
   },
   {
    "duration": 51,
    "start_time": "2022-03-05T10:51:06.483Z"
   },
   {
    "duration": 8,
    "start_time": "2022-03-05T10:51:06.536Z"
   },
   {
    "duration": 15,
    "start_time": "2022-03-05T10:51:06.546Z"
   },
   {
    "duration": 55,
    "start_time": "2022-03-05T10:51:06.563Z"
   },
   {
    "duration": 45,
    "start_time": "2022-03-05T10:51:06.620Z"
   },
   {
    "duration": 50,
    "start_time": "2022-03-05T10:51:06.667Z"
   },
   {
    "duration": 4,
    "start_time": "2022-03-05T10:51:06.718Z"
   },
   {
    "duration": 30,
    "start_time": "2022-03-05T10:51:06.725Z"
   },
   {
    "duration": 18,
    "start_time": "2022-03-05T10:51:06.761Z"
   },
   {
    "duration": 31,
    "start_time": "2022-03-05T10:51:06.782Z"
   },
   {
    "duration": 17,
    "start_time": "2022-03-05T10:51:06.815Z"
   },
   {
    "duration": 20,
    "start_time": "2022-03-05T10:51:06.835Z"
   },
   {
    "duration": 50,
    "start_time": "2022-03-05T10:51:06.857Z"
   },
   {
    "duration": 9,
    "start_time": "2022-03-05T10:51:06.910Z"
   },
   {
    "duration": 17,
    "start_time": "2022-03-05T10:51:06.921Z"
   },
   {
    "duration": 12,
    "start_time": "2022-03-05T10:51:06.940Z"
   },
   {
    "duration": 5,
    "start_time": "2022-03-05T10:51:06.954Z"
   },
   {
    "duration": 446,
    "start_time": "2022-03-05T10:51:06.961Z"
   },
   {
    "duration": -150425,
    "start_time": "2022-03-05T10:53:37.835Z"
   },
   {
    "duration": -150433,
    "start_time": "2022-03-05T10:53:37.844Z"
   },
   {
    "duration": -150438,
    "start_time": "2022-03-05T10:53:37.850Z"
   },
   {
    "duration": -150445,
    "start_time": "2022-03-05T10:53:37.858Z"
   },
   {
    "duration": -150448,
    "start_time": "2022-03-05T10:53:37.862Z"
   },
   {
    "duration": -150451,
    "start_time": "2022-03-05T10:53:37.866Z"
   },
   {
    "duration": -150453,
    "start_time": "2022-03-05T10:53:37.869Z"
   },
   {
    "duration": 5,
    "start_time": "2022-03-05T10:53:30.424Z"
   },
   {
    "duration": 25,
    "start_time": "2022-03-05T10:53:33.964Z"
   },
   {
    "duration": 570,
    "start_time": "2022-03-05T10:53:41.042Z"
   },
   {
    "duration": 150,
    "start_time": "2022-03-05T10:53:41.614Z"
   },
   {
    "duration": 19,
    "start_time": "2022-03-05T10:53:41.767Z"
   },
   {
    "duration": 33,
    "start_time": "2022-03-05T10:53:41.789Z"
   },
   {
    "duration": 4,
    "start_time": "2022-03-05T10:53:41.824Z"
   },
   {
    "duration": 30,
    "start_time": "2022-03-05T10:53:41.830Z"
   },
   {
    "duration": 4,
    "start_time": "2022-03-05T10:53:41.862Z"
   },
   {
    "duration": 51,
    "start_time": "2022-03-05T10:53:41.868Z"
   },
   {
    "duration": 20,
    "start_time": "2022-03-05T10:53:41.922Z"
   },
   {
    "duration": 31,
    "start_time": "2022-03-05T10:53:41.944Z"
   },
   {
    "duration": 86,
    "start_time": "2022-03-05T10:53:41.978Z"
   },
   {
    "duration": 92,
    "start_time": "2022-03-05T10:53:42.066Z"
   },
   {
    "duration": 67,
    "start_time": "2022-03-05T10:53:42.160Z"
   },
   {
    "duration": 47,
    "start_time": "2022-03-05T10:53:42.230Z"
   },
   {
    "duration": 22,
    "start_time": "2022-03-05T10:53:42.279Z"
   },
   {
    "duration": 14,
    "start_time": "2022-03-05T10:53:42.304Z"
   },
   {
    "duration": 44,
    "start_time": "2022-03-05T10:53:42.320Z"
   },
   {
    "duration": 61,
    "start_time": "2022-03-05T10:53:42.366Z"
   },
   {
    "duration": 36,
    "start_time": "2022-03-05T10:53:42.430Z"
   },
   {
    "duration": 5,
    "start_time": "2022-03-05T10:53:42.468Z"
   },
   {
    "duration": 46,
    "start_time": "2022-03-05T10:53:42.475Z"
   },
   {
    "duration": 18,
    "start_time": "2022-03-05T10:53:42.523Z"
   },
   {
    "duration": 17,
    "start_time": "2022-03-05T10:53:42.546Z"
   },
   {
    "duration": 46,
    "start_time": "2022-03-05T10:53:42.566Z"
   },
   {
    "duration": 18,
    "start_time": "2022-03-05T10:53:42.614Z"
   },
   {
    "duration": 17,
    "start_time": "2022-03-05T10:53:42.634Z"
   },
   {
    "duration": 8,
    "start_time": "2022-03-05T10:53:42.653Z"
   },
   {
    "duration": 50,
    "start_time": "2022-03-05T10:53:42.663Z"
   },
   {
    "duration": 9,
    "start_time": "2022-03-05T10:53:42.715Z"
   },
   {
    "duration": 4,
    "start_time": "2022-03-05T10:53:42.726Z"
   },
   {
    "duration": 34,
    "start_time": "2022-03-05T10:53:42.731Z"
   },
   {
    "duration": 44,
    "start_time": "2022-03-05T10:53:42.768Z"
   },
   {
    "duration": 24,
    "start_time": "2022-03-05T10:53:42.813Z"
   },
   {
    "duration": 23,
    "start_time": "2022-03-05T10:53:42.839Z"
   },
   {
    "duration": 83,
    "start_time": "2022-03-05T10:53:42.864Z"
   },
   {
    "duration": 5,
    "start_time": "2022-03-05T10:53:42.949Z"
   },
   {
    "duration": 239,
    "start_time": "2022-03-05T10:53:42.956Z"
   },
   {
    "duration": -150422,
    "start_time": "2022-03-05T10:56:13.619Z"
   },
   {
    "duration": 6,
    "start_time": "2022-03-05T10:55:39.499Z"
   },
   {
    "duration": 581,
    "start_time": "2022-03-05T10:55:48.627Z"
   },
   {
    "duration": 160,
    "start_time": "2022-03-05T10:55:49.210Z"
   },
   {
    "duration": 28,
    "start_time": "2022-03-05T10:55:49.373Z"
   },
   {
    "duration": 28,
    "start_time": "2022-03-05T10:55:49.404Z"
   },
   {
    "duration": 5,
    "start_time": "2022-03-05T10:55:49.434Z"
   },
   {
    "duration": 25,
    "start_time": "2022-03-05T10:55:49.441Z"
   },
   {
    "duration": 34,
    "start_time": "2022-03-05T10:55:49.468Z"
   },
   {
    "duration": 28,
    "start_time": "2022-03-05T10:55:49.506Z"
   },
   {
    "duration": 18,
    "start_time": "2022-03-05T10:55:49.536Z"
   },
   {
    "duration": 49,
    "start_time": "2022-03-05T10:55:49.556Z"
   },
   {
    "duration": 65,
    "start_time": "2022-03-05T10:55:49.607Z"
   },
   {
    "duration": 92,
    "start_time": "2022-03-05T10:55:49.674Z"
   },
   {
    "duration": 59,
    "start_time": "2022-03-05T10:55:49.768Z"
   },
   {
    "duration": 41,
    "start_time": "2022-03-05T10:55:49.829Z"
   },
   {
    "duration": 3,
    "start_time": "2022-03-05T10:55:49.871Z"
   },
   {
    "duration": 32,
    "start_time": "2022-03-05T10:55:49.876Z"
   },
   {
    "duration": 50,
    "start_time": "2022-03-05T10:55:49.911Z"
   },
   {
    "duration": 56,
    "start_time": "2022-03-05T10:55:49.963Z"
   },
   {
    "duration": 36,
    "start_time": "2022-03-05T10:55:50.021Z"
   },
   {
    "duration": 4,
    "start_time": "2022-03-05T10:55:50.059Z"
   },
   {
    "duration": 43,
    "start_time": "2022-03-05T10:55:50.065Z"
   },
   {
    "duration": 18,
    "start_time": "2022-03-05T10:55:50.109Z"
   },
   {
    "duration": 17,
    "start_time": "2022-03-05T10:55:50.130Z"
   },
   {
    "duration": 16,
    "start_time": "2022-03-05T10:55:50.149Z"
   },
   {
    "duration": 48,
    "start_time": "2022-03-05T10:55:50.167Z"
   },
   {
    "duration": 17,
    "start_time": "2022-03-05T10:55:50.217Z"
   },
   {
    "duration": 9,
    "start_time": "2022-03-05T10:55:50.236Z"
   },
   {
    "duration": 15,
    "start_time": "2022-03-05T10:55:50.247Z"
   },
   {
    "duration": 42,
    "start_time": "2022-03-05T10:55:50.264Z"
   },
   {
    "duration": 5,
    "start_time": "2022-03-05T10:55:50.308Z"
   },
   {
    "duration": 32,
    "start_time": "2022-03-05T10:55:50.314Z"
   },
   {
    "duration": 21,
    "start_time": "2022-03-05T10:55:50.348Z"
   },
   {
    "duration": 46,
    "start_time": "2022-03-05T10:55:50.371Z"
   },
   {
    "duration": 22,
    "start_time": "2022-03-05T10:55:50.418Z"
   },
   {
    "duration": 72,
    "start_time": "2022-03-05T10:55:50.442Z"
   },
   {
    "duration": 5,
    "start_time": "2022-03-05T10:55:50.516Z"
   },
   {
    "duration": 34,
    "start_time": "2022-03-05T10:55:50.523Z"
   },
   {
    "duration": 5,
    "start_time": "2022-03-05T10:55:50.559Z"
   },
   {
    "duration": 595,
    "start_time": "2022-03-05T11:07:13.962Z"
   },
   {
    "duration": 148,
    "start_time": "2022-03-05T11:07:14.559Z"
   },
   {
    "duration": 19,
    "start_time": "2022-03-05T11:07:14.709Z"
   },
   {
    "duration": 30,
    "start_time": "2022-03-05T11:07:14.730Z"
   },
   {
    "duration": 4,
    "start_time": "2022-03-05T11:07:14.762Z"
   },
   {
    "duration": 47,
    "start_time": "2022-03-05T11:07:14.769Z"
   },
   {
    "duration": 8,
    "start_time": "2022-03-05T11:07:14.818Z"
   },
   {
    "duration": 28,
    "start_time": "2022-03-05T11:07:14.828Z"
   },
   {
    "duration": 19,
    "start_time": "2022-03-05T11:07:14.860Z"
   },
   {
    "duration": 25,
    "start_time": "2022-03-05T11:07:14.903Z"
   },
   {
    "duration": 81,
    "start_time": "2022-03-05T11:07:14.930Z"
   },
   {
    "duration": 91,
    "start_time": "2022-03-05T11:07:15.013Z"
   },
   {
    "duration": 56,
    "start_time": "2022-03-05T11:07:15.106Z"
   },
   {
    "duration": 61,
    "start_time": "2022-03-05T11:07:15.164Z"
   },
   {
    "duration": 4,
    "start_time": "2022-03-05T11:07:15.227Z"
   },
   {
    "duration": 23,
    "start_time": "2022-03-05T11:07:15.234Z"
   },
   {
    "duration": 96,
    "start_time": "2022-03-05T11:07:15.260Z"
   },
   {
    "duration": 65,
    "start_time": "2022-03-05T11:07:15.359Z"
   },
   {
    "duration": 56,
    "start_time": "2022-03-05T11:07:15.426Z"
   },
   {
    "duration": 17,
    "start_time": "2022-03-05T11:07:15.485Z"
   },
   {
    "duration": 36,
    "start_time": "2022-03-05T11:07:15.505Z"
   },
   {
    "duration": 24,
    "start_time": "2022-03-05T11:07:15.544Z"
   },
   {
    "duration": 41,
    "start_time": "2022-03-05T11:07:15.571Z"
   },
   {
    "duration": 23,
    "start_time": "2022-03-05T11:07:15.615Z"
   },
   {
    "duration": 27,
    "start_time": "2022-03-05T11:07:15.641Z"
   },
   {
    "duration": 44,
    "start_time": "2022-03-05T11:07:15.670Z"
   },
   {
    "duration": 9,
    "start_time": "2022-03-05T11:07:15.718Z"
   },
   {
    "duration": 20,
    "start_time": "2022-03-05T11:07:15.729Z"
   },
   {
    "duration": 11,
    "start_time": "2022-03-05T11:07:15.751Z"
   },
   {
    "duration": 5,
    "start_time": "2022-03-05T11:07:15.763Z"
   },
   {
    "duration": 49,
    "start_time": "2022-03-05T11:07:15.769Z"
   },
   {
    "duration": 21,
    "start_time": "2022-03-05T11:07:15.819Z"
   },
   {
    "duration": 24,
    "start_time": "2022-03-05T11:07:15.842Z"
   },
   {
    "duration": 49,
    "start_time": "2022-03-05T11:07:15.868Z"
   },
   {
    "duration": 8,
    "start_time": "2022-03-05T11:07:15.919Z"
   },
   {
    "duration": 5,
    "start_time": "2022-03-05T11:07:15.929Z"
   },
   {
    "duration": 11,
    "start_time": "2022-03-05T11:07:15.936Z"
   },
   {
    "duration": 12,
    "start_time": "2022-03-05T11:07:15.948Z"
   },
   {
    "duration": 511,
    "start_time": "2022-03-06T08:27:59.962Z"
   },
   {
    "duration": 122,
    "start_time": "2022-03-06T08:28:00.474Z"
   },
   {
    "duration": 21,
    "start_time": "2022-03-06T08:28:00.598Z"
   },
   {
    "duration": 31,
    "start_time": "2022-03-06T08:28:00.620Z"
   },
   {
    "duration": 5,
    "start_time": "2022-03-06T08:28:00.652Z"
   },
   {
    "duration": 23,
    "start_time": "2022-03-06T08:28:00.658Z"
   },
   {
    "duration": 3,
    "start_time": "2022-03-06T08:28:00.683Z"
   },
   {
    "duration": 30,
    "start_time": "2022-03-06T08:28:00.688Z"
   },
   {
    "duration": 18,
    "start_time": "2022-03-06T08:28:00.720Z"
   },
   {
    "duration": 21,
    "start_time": "2022-03-06T08:28:00.739Z"
   },
   {
    "duration": 70,
    "start_time": "2022-03-06T08:28:00.761Z"
   },
   {
    "duration": 54,
    "start_time": "2022-03-06T08:28:00.832Z"
   },
   {
    "duration": 54,
    "start_time": "2022-03-06T08:28:00.887Z"
   },
   {
    "duration": 35,
    "start_time": "2022-03-06T08:28:00.943Z"
   },
   {
    "duration": 9,
    "start_time": "2022-03-06T08:28:00.979Z"
   },
   {
    "duration": 22,
    "start_time": "2022-03-06T08:28:00.989Z"
   },
   {
    "duration": 54,
    "start_time": "2022-03-06T08:28:01.012Z"
   },
   {
    "duration": 32,
    "start_time": "2022-03-06T08:28:01.067Z"
   },
   {
    "duration": 28,
    "start_time": "2022-03-06T08:28:01.100Z"
   },
   {
    "duration": 3,
    "start_time": "2022-03-06T08:28:01.129Z"
   },
   {
    "duration": 110,
    "start_time": "2022-03-06T08:28:01.133Z"
   },
   {
    "duration": -51,
    "start_time": "2022-03-06T08:28:01.296Z"
   },
   {
    "duration": -55,
    "start_time": "2022-03-06T08:28:01.301Z"
   },
   {
    "duration": -60,
    "start_time": "2022-03-06T08:28:01.307Z"
   },
   {
    "duration": -68,
    "start_time": "2022-03-06T08:28:01.315Z"
   },
   {
    "duration": -72,
    "start_time": "2022-03-06T08:28:01.320Z"
   },
   {
    "duration": -76,
    "start_time": "2022-03-06T08:28:01.325Z"
   },
   {
    "duration": -83,
    "start_time": "2022-03-06T08:28:01.332Z"
   },
   {
    "duration": -87,
    "start_time": "2022-03-06T08:28:01.337Z"
   },
   {
    "duration": -90,
    "start_time": "2022-03-06T08:28:01.341Z"
   },
   {
    "duration": -102,
    "start_time": "2022-03-06T08:28:01.354Z"
   },
   {
    "duration": -106,
    "start_time": "2022-03-06T08:28:01.359Z"
   },
   {
    "duration": -111,
    "start_time": "2022-03-06T08:28:01.364Z"
   },
   {
    "duration": -119,
    "start_time": "2022-03-06T08:28:01.373Z"
   },
   {
    "duration": -122,
    "start_time": "2022-03-06T08:28:01.377Z"
   },
   {
    "duration": -125,
    "start_time": "2022-03-06T08:28:01.381Z"
   },
   {
    "duration": -127,
    "start_time": "2022-03-06T08:28:01.384Z"
   },
   {
    "duration": -133,
    "start_time": "2022-03-06T08:28:01.390Z"
   },
   {
    "duration": 15,
    "start_time": "2022-03-06T08:28:11.743Z"
   },
   {
    "duration": 606,
    "start_time": "2022-03-06T08:28:16.902Z"
   },
   {
    "duration": 135,
    "start_time": "2022-03-06T08:28:17.510Z"
   },
   {
    "duration": 14,
    "start_time": "2022-03-06T08:28:17.647Z"
   },
   {
    "duration": 23,
    "start_time": "2022-03-06T08:28:17.662Z"
   },
   {
    "duration": 3,
    "start_time": "2022-03-06T08:28:17.687Z"
   },
   {
    "duration": 29,
    "start_time": "2022-03-06T08:28:17.691Z"
   },
   {
    "duration": 3,
    "start_time": "2022-03-06T08:28:17.722Z"
   },
   {
    "duration": 19,
    "start_time": "2022-03-06T08:28:17.727Z"
   },
   {
    "duration": 13,
    "start_time": "2022-03-06T08:28:17.747Z"
   },
   {
    "duration": 19,
    "start_time": "2022-03-06T08:28:17.761Z"
   },
   {
    "duration": 51,
    "start_time": "2022-03-06T08:28:17.806Z"
   },
   {
    "duration": 75,
    "start_time": "2022-03-06T08:28:17.859Z"
   },
   {
    "duration": 44,
    "start_time": "2022-03-06T08:28:17.936Z"
   },
   {
    "duration": 52,
    "start_time": "2022-03-06T08:28:17.982Z"
   },
   {
    "duration": 17,
    "start_time": "2022-03-06T08:28:18.035Z"
   },
   {
    "duration": 20,
    "start_time": "2022-03-06T08:28:18.053Z"
   },
   {
    "duration": 52,
    "start_time": "2022-03-06T08:28:18.075Z"
   },
   {
    "duration": 28,
    "start_time": "2022-03-06T08:28:18.128Z"
   },
   {
    "duration": 27,
    "start_time": "2022-03-06T08:28:18.157Z"
   },
   {
    "duration": 21,
    "start_time": "2022-03-06T08:28:18.186Z"
   },
   {
    "duration": 15,
    "start_time": "2022-03-06T08:28:18.209Z"
   },
   {
    "duration": 33,
    "start_time": "2022-03-06T08:28:18.226Z"
   },
   {
    "duration": 12,
    "start_time": "2022-03-06T08:28:18.262Z"
   },
   {
    "duration": 11,
    "start_time": "2022-03-06T08:28:18.276Z"
   },
   {
    "duration": 26,
    "start_time": "2022-03-06T08:28:18.289Z"
   },
   {
    "duration": 16,
    "start_time": "2022-03-06T08:28:18.317Z"
   },
   {
    "duration": 9,
    "start_time": "2022-03-06T08:28:18.335Z"
   },
   {
    "duration": 11,
    "start_time": "2022-03-06T08:28:18.345Z"
   },
   {
    "duration": 7,
    "start_time": "2022-03-06T08:28:18.358Z"
   },
   {
    "duration": 4,
    "start_time": "2022-03-06T08:28:18.366Z"
   },
   {
    "duration": 47,
    "start_time": "2022-03-06T08:28:18.371Z"
   },
   {
    "duration": 16,
    "start_time": "2022-03-06T08:28:18.419Z"
   },
   {
    "duration": 18,
    "start_time": "2022-03-06T08:28:18.436Z"
   },
   {
    "duration": 16,
    "start_time": "2022-03-06T08:28:18.455Z"
   },
   {
    "duration": 38,
    "start_time": "2022-03-06T08:28:18.472Z"
   },
   {
    "duration": 6,
    "start_time": "2022-03-06T08:28:18.512Z"
   },
   {
    "duration": 6,
    "start_time": "2022-03-06T08:28:18.520Z"
   },
   {
    "duration": 6,
    "start_time": "2022-03-06T08:28:18.528Z"
   },
   {
    "duration": 269,
    "start_time": "2022-03-06T14:56:38.929Z"
   },
   {
    "duration": 252,
    "start_time": "2022-03-06T14:56:43.821Z"
   },
   {
    "duration": 498,
    "start_time": "2022-03-06T14:56:50.965Z"
   },
   {
    "duration": 130,
    "start_time": "2022-03-06T14:56:51.465Z"
   },
   {
    "duration": 19,
    "start_time": "2022-03-06T14:56:51.597Z"
   },
   {
    "duration": 19,
    "start_time": "2022-03-06T14:56:51.618Z"
   },
   {
    "duration": 3,
    "start_time": "2022-03-06T14:56:51.639Z"
   },
   {
    "duration": 16,
    "start_time": "2022-03-06T14:56:51.644Z"
   },
   {
    "duration": 3,
    "start_time": "2022-03-06T14:56:51.661Z"
   },
   {
    "duration": 44,
    "start_time": "2022-03-06T14:56:51.666Z"
   },
   {
    "duration": 16,
    "start_time": "2022-03-06T14:56:51.712Z"
   },
   {
    "duration": 19,
    "start_time": "2022-03-06T14:56:51.729Z"
   },
   {
    "duration": 64,
    "start_time": "2022-03-06T14:56:51.749Z"
   },
   {
    "duration": 54,
    "start_time": "2022-03-06T14:56:51.814Z"
   },
   {
    "duration": 53,
    "start_time": "2022-03-06T14:56:51.870Z"
   },
   {
    "duration": 34,
    "start_time": "2022-03-06T14:56:51.924Z"
   },
   {
    "duration": 2,
    "start_time": "2022-03-06T14:56:51.959Z"
   },
   {
    "duration": 12,
    "start_time": "2022-03-06T14:56:51.963Z"
   },
   {
    "duration": 46,
    "start_time": "2022-03-06T14:56:51.976Z"
   },
   {
    "duration": 25,
    "start_time": "2022-03-06T14:56:52.023Z"
   },
   {
    "duration": 25,
    "start_time": "2022-03-06T14:56:52.049Z"
   },
   {
    "duration": 3,
    "start_time": "2022-03-06T14:56:52.075Z"
   },
   {
    "duration": 34,
    "start_time": "2022-03-06T14:56:52.079Z"
   },
   {
    "duration": 11,
    "start_time": "2022-03-06T14:56:52.114Z"
   },
   {
    "duration": 13,
    "start_time": "2022-03-06T14:56:52.126Z"
   },
   {
    "duration": 10,
    "start_time": "2022-03-06T14:56:52.140Z"
   },
   {
    "duration": 13,
    "start_time": "2022-03-06T14:56:52.152Z"
   },
   {
    "duration": 46,
    "start_time": "2022-03-06T14:56:52.166Z"
   },
   {
    "duration": 7,
    "start_time": "2022-03-06T14:56:52.215Z"
   },
   {
    "duration": 15,
    "start_time": "2022-03-06T14:56:52.223Z"
   },
   {
    "duration": 7,
    "start_time": "2022-03-06T14:56:52.239Z"
   },
   {
    "duration": 3,
    "start_time": "2022-03-06T14:56:52.248Z"
   },
   {
    "duration": 23,
    "start_time": "2022-03-06T14:56:52.253Z"
   },
   {
    "duration": 33,
    "start_time": "2022-03-06T14:56:52.278Z"
   },
   {
    "duration": 18,
    "start_time": "2022-03-06T14:56:52.312Z"
   },
   {
    "duration": 16,
    "start_time": "2022-03-06T14:56:52.331Z"
   },
   {
    "duration": 7,
    "start_time": "2022-03-06T14:56:52.348Z"
   },
   {
    "duration": 3,
    "start_time": "2022-03-06T14:56:52.356Z"
   },
   {
    "duration": 5,
    "start_time": "2022-03-06T14:56:52.361Z"
   },
   {
    "duration": 3,
    "start_time": "2022-03-06T14:56:52.368Z"
   },
   {
    "duration": 579,
    "start_time": "2022-03-06T15:15:47.698Z"
   },
   {
    "duration": 135,
    "start_time": "2022-03-06T15:15:48.279Z"
   },
   {
    "duration": 16,
    "start_time": "2022-03-06T15:15:48.416Z"
   },
   {
    "duration": 23,
    "start_time": "2022-03-06T15:15:48.434Z"
   },
   {
    "duration": 4,
    "start_time": "2022-03-06T15:15:48.458Z"
   },
   {
    "duration": 17,
    "start_time": "2022-03-06T15:15:48.464Z"
   },
   {
    "duration": 24,
    "start_time": "2022-03-06T15:15:48.482Z"
   },
   {
    "duration": 20,
    "start_time": "2022-03-06T15:15:48.509Z"
   },
   {
    "duration": 15,
    "start_time": "2022-03-06T15:15:48.531Z"
   },
   {
    "duration": 21,
    "start_time": "2022-03-06T15:15:48.547Z"
   },
   {
    "duration": 78,
    "start_time": "2022-03-06T15:15:48.570Z"
   },
   {
    "duration": 66,
    "start_time": "2022-03-06T15:15:48.650Z"
   },
   {
    "duration": 45,
    "start_time": "2022-03-06T15:15:48.718Z"
   },
   {
    "duration": 55,
    "start_time": "2022-03-06T15:15:48.764Z"
   },
   {
    "duration": 3,
    "start_time": "2022-03-06T15:15:48.820Z"
   },
   {
    "duration": 18,
    "start_time": "2022-03-06T15:15:48.825Z"
   },
   {
    "duration": 61,
    "start_time": "2022-03-06T15:15:48.844Z"
   },
   {
    "duration": 32,
    "start_time": "2022-03-06T15:15:48.907Z"
   },
   {
    "duration": 29,
    "start_time": "2022-03-06T15:15:48.941Z"
   },
   {
    "duration": 3,
    "start_time": "2022-03-06T15:15:48.972Z"
   },
   {
    "duration": 38,
    "start_time": "2022-03-06T15:15:48.977Z"
   },
   {
    "duration": 14,
    "start_time": "2022-03-06T15:15:49.017Z"
   },
   {
    "duration": 13,
    "start_time": "2022-03-06T15:15:49.034Z"
   },
   {
    "duration": 13,
    "start_time": "2022-03-06T15:15:49.049Z"
   },
   {
    "duration": 44,
    "start_time": "2022-03-06T15:15:49.063Z"
   },
   {
    "duration": 14,
    "start_time": "2022-03-06T15:15:49.109Z"
   },
   {
    "duration": 7,
    "start_time": "2022-03-06T15:15:49.124Z"
   },
   {
    "duration": 9,
    "start_time": "2022-03-06T15:15:49.133Z"
   },
   {
    "duration": 7,
    "start_time": "2022-03-06T15:15:49.143Z"
   },
   {
    "duration": 3,
    "start_time": "2022-03-06T15:15:49.152Z"
   },
   {
    "duration": 50,
    "start_time": "2022-03-06T15:15:49.157Z"
   },
   {
    "duration": 18,
    "start_time": "2022-03-06T15:15:49.209Z"
   },
   {
    "duration": 20,
    "start_time": "2022-03-06T15:15:49.228Z"
   },
   {
    "duration": 18,
    "start_time": "2022-03-06T15:15:49.250Z"
   },
   {
    "duration": 36,
    "start_time": "2022-03-06T15:15:49.269Z"
   },
   {
    "duration": 4,
    "start_time": "2022-03-06T15:15:49.307Z"
   },
   {
    "duration": 9,
    "start_time": "2022-03-06T15:15:49.312Z"
   },
   {
    "duration": 4,
    "start_time": "2022-03-06T15:15:49.323Z"
   },
   {
    "duration": 82,
    "start_time": "2022-03-06T15:17:40.407Z"
   },
   {
    "duration": 112,
    "start_time": "2022-03-06T15:17:51.967Z"
   },
   {
    "duration": -150136,
    "start_time": "2022-03-06T15:20:22.217Z"
   },
   {
    "duration": -150141,
    "start_time": "2022-03-06T15:20:22.223Z"
   },
   {
    "duration": -150145,
    "start_time": "2022-03-06T15:20:22.228Z"
   },
   {
    "duration": -150149,
    "start_time": "2022-03-06T15:20:22.233Z"
   },
   {
    "duration": -150152,
    "start_time": "2022-03-06T15:20:22.237Z"
   },
   {
    "duration": -150155,
    "start_time": "2022-03-06T15:20:22.241Z"
   },
   {
    "duration": -150160,
    "start_time": "2022-03-06T15:20:22.247Z"
   },
   {
    "duration": -150163,
    "start_time": "2022-03-06T15:20:22.251Z"
   },
   {
    "duration": -150166,
    "start_time": "2022-03-06T15:20:22.255Z"
   },
   {
    "duration": -150171,
    "start_time": "2022-03-06T15:20:22.260Z"
   },
   {
    "duration": -150174,
    "start_time": "2022-03-06T15:20:22.264Z"
   },
   {
    "duration": -150177,
    "start_time": "2022-03-06T15:20:22.268Z"
   },
   {
    "duration": -150181,
    "start_time": "2022-03-06T15:20:22.273Z"
   },
   {
    "duration": -150184,
    "start_time": "2022-03-06T15:20:22.277Z"
   },
   {
    "duration": -150188,
    "start_time": "2022-03-06T15:20:22.282Z"
   },
   {
    "duration": -150193,
    "start_time": "2022-03-06T15:20:22.287Z"
   },
   {
    "duration": -150217,
    "start_time": "2022-03-06T15:20:22.312Z"
   },
   {
    "duration": -150220,
    "start_time": "2022-03-06T15:20:22.316Z"
   },
   {
    "duration": -150224,
    "start_time": "2022-03-06T15:20:22.321Z"
   },
   {
    "duration": -150228,
    "start_time": "2022-03-06T15:20:22.326Z"
   },
   {
    "duration": -150232,
    "start_time": "2022-03-06T15:20:22.331Z"
   },
   {
    "duration": -150236,
    "start_time": "2022-03-06T15:20:22.335Z"
   },
   {
    "duration": -150239,
    "start_time": "2022-03-06T15:20:22.339Z"
   },
   {
    "duration": -150243,
    "start_time": "2022-03-06T15:20:22.344Z"
   },
   {
    "duration": -150248,
    "start_time": "2022-03-06T15:20:22.350Z"
   },
   {
    "duration": -150254,
    "start_time": "2022-03-06T15:20:22.357Z"
   },
   {
    "duration": 287,
    "start_time": "2022-03-06T15:17:52.105Z"
   },
   {
    "duration": -150044,
    "start_time": "2022-03-06T15:20:22.438Z"
   },
   {
    "duration": -150082,
    "start_time": "2022-03-06T15:20:22.477Z"
   },
   {
    "duration": -150174,
    "start_time": "2022-03-06T15:20:22.570Z"
   },
   {
    "duration": -150178,
    "start_time": "2022-03-06T15:20:22.575Z"
   },
   {
    "duration": -150181,
    "start_time": "2022-03-06T15:20:22.579Z"
   },
   {
    "duration": -150185,
    "start_time": "2022-03-06T15:20:22.585Z"
   },
   {
    "duration": -150189,
    "start_time": "2022-03-06T15:20:22.589Z"
   },
   {
    "duration": -150193,
    "start_time": "2022-03-06T15:20:22.594Z"
   },
   {
    "duration": -150196,
    "start_time": "2022-03-06T15:20:22.598Z"
   },
   {
    "duration": -150199,
    "start_time": "2022-03-06T15:20:22.602Z"
   },
   {
    "duration": -150213,
    "start_time": "2022-03-06T15:20:22.616Z"
   },
   {
    "duration": 82,
    "start_time": "2022-03-06T15:18:56.554Z"
   },
   {
    "duration": -150186,
    "start_time": "2022-03-06T15:21:26.824Z"
   },
   {
    "duration": -150190,
    "start_time": "2022-03-06T15:21:26.829Z"
   },
   {
    "duration": -150194,
    "start_time": "2022-03-06T15:21:26.834Z"
   },
   {
    "duration": -150198,
    "start_time": "2022-03-06T15:21:26.839Z"
   },
   {
    "duration": -150203,
    "start_time": "2022-03-06T15:21:26.844Z"
   },
   {
    "duration": -150207,
    "start_time": "2022-03-06T15:21:26.849Z"
   },
   {
    "duration": -150210,
    "start_time": "2022-03-06T15:21:26.853Z"
   },
   {
    "duration": -150214,
    "start_time": "2022-03-06T15:21:26.858Z"
   },
   {
    "duration": -150218,
    "start_time": "2022-03-06T15:21:26.863Z"
   },
   {
    "duration": -150223,
    "start_time": "2022-03-06T15:21:26.869Z"
   },
   {
    "duration": -150227,
    "start_time": "2022-03-06T15:21:26.874Z"
   },
   {
    "duration": -150230,
    "start_time": "2022-03-06T15:21:26.878Z"
   },
   {
    "duration": -150234,
    "start_time": "2022-03-06T15:21:26.883Z"
   },
   {
    "duration": -150261,
    "start_time": "2022-03-06T15:21:26.910Z"
   },
   {
    "duration": -150265,
    "start_time": "2022-03-06T15:21:26.915Z"
   },
   {
    "duration": 250,
    "start_time": "2022-03-06T15:18:56.652Z"
   },
   {
    "duration": -150061,
    "start_time": "2022-03-06T15:21:26.965Z"
   },
   {
    "duration": -150067,
    "start_time": "2022-03-06T15:21:26.972Z"
   },
   {
    "duration": -150072,
    "start_time": "2022-03-06T15:21:26.978Z"
   },
   {
    "duration": -150076,
    "start_time": "2022-03-06T15:21:26.983Z"
   },
   {
    "duration": -150081,
    "start_time": "2022-03-06T15:21:26.989Z"
   },
   {
    "duration": -150100,
    "start_time": "2022-03-06T15:21:27.009Z"
   },
   {
    "duration": -150106,
    "start_time": "2022-03-06T15:21:27.016Z"
   },
   {
    "duration": -150110,
    "start_time": "2022-03-06T15:21:27.021Z"
   },
   {
    "duration": -150115,
    "start_time": "2022-03-06T15:21:27.026Z"
   },
   {
    "duration": -150119,
    "start_time": "2022-03-06T15:21:27.031Z"
   },
   {
    "duration": -150122,
    "start_time": "2022-03-06T15:21:27.035Z"
   },
   {
    "duration": -150127,
    "start_time": "2022-03-06T15:21:27.041Z"
   },
   {
    "duration": -150131,
    "start_time": "2022-03-06T15:21:27.046Z"
   },
   {
    "duration": -150144,
    "start_time": "2022-03-06T15:21:27.060Z"
   },
   {
    "duration": -150156,
    "start_time": "2022-03-06T15:21:27.073Z"
   },
   {
    "duration": -150188,
    "start_time": "2022-03-06T15:21:27.105Z"
   },
   {
    "duration": -150202,
    "start_time": "2022-03-06T15:21:27.120Z"
   },
   {
    "duration": -150207,
    "start_time": "2022-03-06T15:21:27.126Z"
   },
   {
    "duration": -150210,
    "start_time": "2022-03-06T15:21:27.130Z"
   },
   {
    "duration": -150215,
    "start_time": "2022-03-06T15:21:27.135Z"
   },
   {
    "duration": -150219,
    "start_time": "2022-03-06T15:21:27.140Z"
   },
   {
    "duration": -150223,
    "start_time": "2022-03-06T15:21:27.145Z"
   },
   {
    "duration": 540,
    "start_time": "2022-03-06T15:26:57.902Z"
   },
   {
    "duration": 111,
    "start_time": "2022-03-06T15:26:58.444Z"
   },
   {
    "duration": 15,
    "start_time": "2022-03-06T15:26:58.557Z"
   },
   {
    "duration": 30,
    "start_time": "2022-03-06T15:26:58.573Z"
   },
   {
    "duration": 19,
    "start_time": "2022-03-06T15:26:58.605Z"
   },
   {
    "duration": 24,
    "start_time": "2022-03-06T15:26:58.625Z"
   },
   {
    "duration": 11,
    "start_time": "2022-03-06T15:26:58.650Z"
   },
   {
    "duration": 26,
    "start_time": "2022-03-06T15:26:58.663Z"
   },
   {
    "duration": 14,
    "start_time": "2022-03-06T15:26:58.691Z"
   },
   {
    "duration": 18,
    "start_time": "2022-03-06T15:26:58.706Z"
   },
   {
    "duration": 47,
    "start_time": "2022-03-06T15:26:58.726Z"
   },
   {
    "duration": 63,
    "start_time": "2022-03-06T15:26:58.774Z"
   },
   {
    "duration": 42,
    "start_time": "2022-03-06T15:26:58.838Z"
   },
   {
    "duration": 45,
    "start_time": "2022-03-06T15:26:58.881Z"
   },
   {
    "duration": 3,
    "start_time": "2022-03-06T15:26:58.927Z"
   },
   {
    "duration": 15,
    "start_time": "2022-03-06T15:26:58.931Z"
   },
   {
    "duration": 34,
    "start_time": "2022-03-06T15:26:58.947Z"
   },
   {
    "duration": 41,
    "start_time": "2022-03-06T15:26:58.983Z"
   },
   {
    "duration": 25,
    "start_time": "2022-03-06T15:26:59.025Z"
   },
   {
    "duration": 3,
    "start_time": "2022-03-06T15:26:59.051Z"
   },
   {
    "duration": 19,
    "start_time": "2022-03-06T15:26:59.055Z"
   },
   {
    "duration": 31,
    "start_time": "2022-03-06T15:26:59.076Z"
   },
   {
    "duration": 12,
    "start_time": "2022-03-06T15:26:59.109Z"
   },
   {
    "duration": 10,
    "start_time": "2022-03-06T15:26:59.122Z"
   },
   {
    "duration": 12,
    "start_time": "2022-03-06T15:26:59.133Z"
   },
   {
    "duration": 11,
    "start_time": "2022-03-06T15:26:59.146Z"
   },
   {
    "duration": 6,
    "start_time": "2022-03-06T15:26:59.158Z"
   },
   {
    "duration": 11,
    "start_time": "2022-03-06T15:26:59.165Z"
   },
   {
    "duration": 31,
    "start_time": "2022-03-06T15:26:59.177Z"
   },
   {
    "duration": 3,
    "start_time": "2022-03-06T15:26:59.210Z"
   },
   {
    "duration": 23,
    "start_time": "2022-03-06T15:26:59.214Z"
   },
   {
    "duration": 17,
    "start_time": "2022-03-06T15:26:59.238Z"
   },
   {
    "duration": 17,
    "start_time": "2022-03-06T15:26:59.257Z"
   },
   {
    "duration": 44,
    "start_time": "2022-03-06T15:26:59.276Z"
   },
   {
    "duration": 8,
    "start_time": "2022-03-06T15:26:59.321Z"
   },
   {
    "duration": 4,
    "start_time": "2022-03-06T15:26:59.330Z"
   },
   {
    "duration": 7,
    "start_time": "2022-03-06T15:26:59.336Z"
   },
   {
    "duration": 3,
    "start_time": "2022-03-06T15:26:59.345Z"
   },
   {
    "duration": 561,
    "start_time": "2022-03-06T15:35:45.045Z"
   },
   {
    "duration": 119,
    "start_time": "2022-03-06T15:35:45.608Z"
   },
   {
    "duration": 14,
    "start_time": "2022-03-06T15:35:45.729Z"
   },
   {
    "duration": 22,
    "start_time": "2022-03-06T15:35:45.745Z"
   },
   {
    "duration": 4,
    "start_time": "2022-03-06T15:35:45.769Z"
   },
   {
    "duration": 42,
    "start_time": "2022-03-06T15:35:45.774Z"
   },
   {
    "duration": 5,
    "start_time": "2022-03-06T15:35:45.818Z"
   },
   {
    "duration": 20,
    "start_time": "2022-03-06T15:35:45.826Z"
   },
   {
    "duration": 15,
    "start_time": "2022-03-06T15:35:45.848Z"
   },
   {
    "duration": 18,
    "start_time": "2022-03-06T15:35:45.865Z"
   },
   {
    "duration": 50,
    "start_time": "2022-03-06T15:35:45.905Z"
   },
   {
    "duration": 69,
    "start_time": "2022-03-06T15:35:45.956Z"
   },
   {
    "duration": 42,
    "start_time": "2022-03-06T15:35:46.027Z"
   },
   {
    "duration": 40,
    "start_time": "2022-03-06T15:35:46.071Z"
   },
   {
    "duration": 2,
    "start_time": "2022-03-06T15:35:46.113Z"
   },
   {
    "duration": 16,
    "start_time": "2022-03-06T15:35:46.116Z"
   },
   {
    "duration": 35,
    "start_time": "2022-03-06T15:35:46.134Z"
   },
   {
    "duration": 350,
    "start_time": "2022-03-06T15:35:46.170Z"
   },
   {
    "duration": -150094,
    "start_time": "2022-03-06T15:38:16.616Z"
   },
   {
    "duration": -150106,
    "start_time": "2022-03-06T15:38:16.629Z"
   },
   {
    "duration": -150111,
    "start_time": "2022-03-06T15:38:16.635Z"
   },
   {
    "duration": -150117,
    "start_time": "2022-03-06T15:38:16.642Z"
   },
   {
    "duration": -150137,
    "start_time": "2022-03-06T15:38:16.663Z"
   },
   {
    "duration": -150153,
    "start_time": "2022-03-06T15:38:16.680Z"
   },
   {
    "duration": -150166,
    "start_time": "2022-03-06T15:38:16.694Z"
   },
   {
    "duration": -150172,
    "start_time": "2022-03-06T15:38:16.701Z"
   },
   {
    "duration": -150186,
    "start_time": "2022-03-06T15:38:16.715Z"
   },
   {
    "duration": -150198,
    "start_time": "2022-03-06T15:38:16.728Z"
   },
   {
    "duration": -150201,
    "start_time": "2022-03-06T15:38:16.732Z"
   },
   {
    "duration": -150218,
    "start_time": "2022-03-06T15:38:16.750Z"
   },
   {
    "duration": -150236,
    "start_time": "2022-03-06T15:38:16.768Z"
   },
   {
    "duration": -150249,
    "start_time": "2022-03-06T15:38:16.782Z"
   },
   {
    "duration": -150262,
    "start_time": "2022-03-06T15:38:16.796Z"
   },
   {
    "duration": -150269,
    "start_time": "2022-03-06T15:38:16.803Z"
   },
   {
    "duration": -150281,
    "start_time": "2022-03-06T15:38:16.816Z"
   },
   {
    "duration": -150296,
    "start_time": "2022-03-06T15:38:16.832Z"
   },
   {
    "duration": -150309,
    "start_time": "2022-03-06T15:38:16.846Z"
   },
   {
    "duration": -150314,
    "start_time": "2022-03-06T15:38:16.852Z"
   },
   {
    "duration": -150326,
    "start_time": "2022-03-06T15:38:16.865Z"
   },
   {
    "duration": 531,
    "start_time": "2022-03-06T15:36:24.635Z"
   },
   {
    "duration": 122,
    "start_time": "2022-03-06T15:36:25.168Z"
   },
   {
    "duration": 15,
    "start_time": "2022-03-06T15:36:25.292Z"
   },
   {
    "duration": 22,
    "start_time": "2022-03-06T15:36:25.309Z"
   },
   {
    "duration": 4,
    "start_time": "2022-03-06T15:36:25.333Z"
   },
   {
    "duration": 18,
    "start_time": "2022-03-06T15:36:25.339Z"
   },
   {
    "duration": 3,
    "start_time": "2022-03-06T15:36:25.358Z"
   },
   {
    "duration": 47,
    "start_time": "2022-03-06T15:36:25.364Z"
   },
   {
    "duration": 15,
    "start_time": "2022-03-06T15:36:25.413Z"
   },
   {
    "duration": 18,
    "start_time": "2022-03-06T15:36:25.429Z"
   },
   {
    "duration": 66,
    "start_time": "2022-03-06T15:36:25.449Z"
   },
   {
    "duration": 56,
    "start_time": "2022-03-06T15:36:25.517Z"
   },
   {
    "duration": 50,
    "start_time": "2022-03-06T15:36:25.575Z"
   },
   {
    "duration": 35,
    "start_time": "2022-03-06T15:36:25.626Z"
   },
   {
    "duration": 2,
    "start_time": "2022-03-06T15:36:25.663Z"
   },
   {
    "duration": 15,
    "start_time": "2022-03-06T15:36:25.666Z"
   },
   {
    "duration": 51,
    "start_time": "2022-03-06T15:36:25.682Z"
   },
   {
    "duration": 8,
    "start_time": "2022-03-06T15:36:25.735Z"
   },
   {
    "duration": 8,
    "start_time": "2022-03-06T15:36:25.744Z"
   },
   {
    "duration": 2,
    "start_time": "2022-03-06T15:36:25.754Z"
   },
   {
    "duration": 18,
    "start_time": "2022-03-06T15:36:25.758Z"
   },
   {
    "duration": 31,
    "start_time": "2022-03-06T15:36:25.777Z"
   },
   {
    "duration": 12,
    "start_time": "2022-03-06T15:36:25.811Z"
   },
   {
    "duration": 10,
    "start_time": "2022-03-06T15:36:25.824Z"
   },
   {
    "duration": 12,
    "start_time": "2022-03-06T15:36:25.836Z"
   },
   {
    "duration": 11,
    "start_time": "2022-03-06T15:36:25.849Z"
   },
   {
    "duration": 8,
    "start_time": "2022-03-06T15:36:25.861Z"
   },
   {
    "duration": 113,
    "start_time": "2022-03-06T15:36:25.905Z"
   },
   {
    "duration": -150272,
    "start_time": "2022-03-06T15:38:56.292Z"
   },
   {
    "duration": -150290,
    "start_time": "2022-03-06T15:38:56.311Z"
   },
   {
    "duration": -150305,
    "start_time": "2022-03-06T15:38:56.327Z"
   },
   {
    "duration": -150346,
    "start_time": "2022-03-06T15:38:56.370Z"
   },
   {
    "duration": -150353,
    "start_time": "2022-03-06T15:38:56.378Z"
   },
   {
    "duration": -150368,
    "start_time": "2022-03-06T15:38:56.394Z"
   },
   {
    "duration": -150371,
    "start_time": "2022-03-06T15:38:56.399Z"
   },
   {
    "duration": -150376,
    "start_time": "2022-03-06T15:38:56.405Z"
   },
   {
    "duration": -150381,
    "start_time": "2022-03-06T15:38:56.411Z"
   },
   {
    "duration": -150390,
    "start_time": "2022-03-06T15:38:56.421Z"
   },
   {
    "duration": -150395,
    "start_time": "2022-03-06T15:38:56.428Z"
   },
   {
    "duration": 518,
    "start_time": "2022-03-06T15:37:23.262Z"
   },
   {
    "duration": 117,
    "start_time": "2022-03-06T15:37:23.782Z"
   },
   {
    "duration": 14,
    "start_time": "2022-03-06T15:37:23.901Z"
   },
   {
    "duration": 27,
    "start_time": "2022-03-06T15:37:23.917Z"
   },
   {
    "duration": 3,
    "start_time": "2022-03-06T15:37:23.945Z"
   },
   {
    "duration": 17,
    "start_time": "2022-03-06T15:37:23.950Z"
   },
   {
    "duration": 2,
    "start_time": "2022-03-06T15:37:23.969Z"
   },
   {
    "duration": 40,
    "start_time": "2022-03-06T15:37:23.973Z"
   },
   {
    "duration": 15,
    "start_time": "2022-03-06T15:37:24.015Z"
   },
   {
    "duration": 19,
    "start_time": "2022-03-06T15:37:24.031Z"
   },
   {
    "duration": 63,
    "start_time": "2022-03-06T15:37:24.051Z"
   },
   {
    "duration": 60,
    "start_time": "2022-03-06T15:37:24.115Z"
   },
   {
    "duration": 57,
    "start_time": "2022-03-06T15:37:24.177Z"
   },
   {
    "duration": 39,
    "start_time": "2022-03-06T15:37:24.236Z"
   },
   {
    "duration": 2,
    "start_time": "2022-03-06T15:37:24.276Z"
   },
   {
    "duration": 25,
    "start_time": "2022-03-06T15:37:24.280Z"
   },
   {
    "duration": 35,
    "start_time": "2022-03-06T15:37:24.307Z"
   },
   {
    "duration": 14,
    "start_time": "2022-03-06T15:37:24.344Z"
   },
   {
    "duration": 13,
    "start_time": "2022-03-06T15:37:24.360Z"
   },
   {
    "duration": 4,
    "start_time": "2022-03-06T15:37:24.374Z"
   },
   {
    "duration": 28,
    "start_time": "2022-03-06T15:37:24.379Z"
   },
   {
    "duration": 11,
    "start_time": "2022-03-06T15:37:24.409Z"
   },
   {
    "duration": 12,
    "start_time": "2022-03-06T15:37:24.422Z"
   },
   {
    "duration": 11,
    "start_time": "2022-03-06T15:37:24.435Z"
   },
   {
    "duration": 13,
    "start_time": "2022-03-06T15:37:24.447Z"
   },
   {
    "duration": 13,
    "start_time": "2022-03-06T15:37:24.462Z"
   },
   {
    "duration": 6,
    "start_time": "2022-03-06T15:37:24.507Z"
   },
   {
    "duration": 89,
    "start_time": "2022-03-06T15:37:24.515Z"
   },
   {
    "duration": -150376,
    "start_time": "2022-03-06T15:39:54.981Z"
   },
   {
    "duration": -150380,
    "start_time": "2022-03-06T15:39:54.986Z"
   },
   {
    "duration": -150384,
    "start_time": "2022-03-06T15:39:54.991Z"
   },
   {
    "duration": -150388,
    "start_time": "2022-03-06T15:39:54.996Z"
   },
   {
    "duration": -150392,
    "start_time": "2022-03-06T15:39:55.001Z"
   },
   {
    "duration": -150395,
    "start_time": "2022-03-06T15:39:55.005Z"
   },
   {
    "duration": -150416,
    "start_time": "2022-03-06T15:39:55.026Z"
   },
   {
    "duration": -150423,
    "start_time": "2022-03-06T15:39:55.034Z"
   },
   {
    "duration": -150430,
    "start_time": "2022-03-06T15:39:55.042Z"
   },
   {
    "duration": -150436,
    "start_time": "2022-03-06T15:39:55.049Z"
   },
   {
    "duration": -150442,
    "start_time": "2022-03-06T15:39:55.055Z"
   },
   {
    "duration": 513,
    "start_time": "2022-03-06T15:38:36.243Z"
   },
   {
    "duration": 120,
    "start_time": "2022-03-06T15:38:36.757Z"
   },
   {
    "duration": 15,
    "start_time": "2022-03-06T15:38:36.879Z"
   },
   {
    "duration": 22,
    "start_time": "2022-03-06T15:38:36.896Z"
   },
   {
    "duration": 3,
    "start_time": "2022-03-06T15:38:36.919Z"
   },
   {
    "duration": 16,
    "start_time": "2022-03-06T15:38:36.924Z"
   },
   {
    "duration": 3,
    "start_time": "2022-03-06T15:38:36.942Z"
   },
   {
    "duration": 19,
    "start_time": "2022-03-06T15:38:36.947Z"
   },
   {
    "duration": 13,
    "start_time": "2022-03-06T15:38:36.968Z"
   },
   {
    "duration": 19,
    "start_time": "2022-03-06T15:38:37.005Z"
   },
   {
    "duration": 51,
    "start_time": "2022-03-06T15:38:37.025Z"
   },
   {
    "duration": 75,
    "start_time": "2022-03-06T15:38:37.077Z"
   },
   {
    "duration": 44,
    "start_time": "2022-03-06T15:38:37.153Z"
   },
   {
    "duration": 36,
    "start_time": "2022-03-06T15:38:37.206Z"
   },
   {
    "duration": 8,
    "start_time": "2022-03-06T15:38:37.243Z"
   },
   {
    "duration": 18,
    "start_time": "2022-03-06T15:38:37.252Z"
   },
   {
    "duration": 44,
    "start_time": "2022-03-06T15:38:37.271Z"
   },
   {
    "duration": 18,
    "start_time": "2022-03-06T15:38:37.317Z"
   },
   {
    "duration": 10,
    "start_time": "2022-03-06T15:38:37.336Z"
   },
   {
    "duration": 10,
    "start_time": "2022-03-06T15:38:37.348Z"
   },
   {
    "duration": 30,
    "start_time": "2022-03-06T15:38:37.360Z"
   },
   {
    "duration": 12,
    "start_time": "2022-03-06T15:38:37.392Z"
   },
   {
    "duration": 18,
    "start_time": "2022-03-06T15:38:37.408Z"
   },
   {
    "duration": 12,
    "start_time": "2022-03-06T15:38:37.428Z"
   },
   {
    "duration": 15,
    "start_time": "2022-03-06T15:38:37.441Z"
   },
   {
    "duration": 13,
    "start_time": "2022-03-06T15:38:37.457Z"
   },
   {
    "duration": 10,
    "start_time": "2022-03-06T15:38:37.471Z"
   },
   {
    "duration": 11,
    "start_time": "2022-03-06T15:38:37.506Z"
   },
   {
    "duration": 12,
    "start_time": "2022-03-06T15:38:37.518Z"
   },
   {
    "duration": 14,
    "start_time": "2022-03-06T15:38:37.531Z"
   },
   {
    "duration": 26,
    "start_time": "2022-03-06T15:38:37.546Z"
   },
   {
    "duration": 18,
    "start_time": "2022-03-06T15:38:37.573Z"
   },
   {
    "duration": 30,
    "start_time": "2022-03-06T15:38:37.593Z"
   },
   {
    "duration": 18,
    "start_time": "2022-03-06T15:38:37.625Z"
   },
   {
    "duration": 8,
    "start_time": "2022-03-06T15:38:37.645Z"
   },
   {
    "duration": 4,
    "start_time": "2022-03-06T15:38:37.654Z"
   },
   {
    "duration": 7,
    "start_time": "2022-03-06T15:38:37.659Z"
   },
   {
    "duration": 6,
    "start_time": "2022-03-06T15:38:37.668Z"
   },
   {
    "duration": 598,
    "start_time": "2022-03-06T15:39:25.672Z"
   },
   {
    "duration": 119,
    "start_time": "2022-03-06T15:39:26.272Z"
   },
   {
    "duration": 20,
    "start_time": "2022-03-06T15:39:26.393Z"
   },
   {
    "duration": 25,
    "start_time": "2022-03-06T15:39:26.415Z"
   },
   {
    "duration": 5,
    "start_time": "2022-03-06T15:39:26.441Z"
   },
   {
    "duration": 22,
    "start_time": "2022-03-06T15:39:26.447Z"
   },
   {
    "duration": 8,
    "start_time": "2022-03-06T15:39:26.470Z"
   },
   {
    "duration": 41,
    "start_time": "2022-03-06T15:39:26.481Z"
   },
   {
    "duration": 15,
    "start_time": "2022-03-06T15:39:26.525Z"
   },
   {
    "duration": 20,
    "start_time": "2022-03-06T15:39:26.542Z"
   },
   {
    "duration": 72,
    "start_time": "2022-03-06T15:39:26.563Z"
   },
   {
    "duration": 57,
    "start_time": "2022-03-06T15:39:26.636Z"
   },
   {
    "duration": 53,
    "start_time": "2022-03-06T15:39:26.695Z"
   },
   {
    "duration": 36,
    "start_time": "2022-03-06T15:39:26.749Z"
   },
   {
    "duration": 19,
    "start_time": "2022-03-06T15:39:26.787Z"
   },
   {
    "duration": 14,
    "start_time": "2022-03-06T15:39:26.808Z"
   },
   {
    "duration": 35,
    "start_time": "2022-03-06T15:39:26.824Z"
   },
   {
    "duration": 8,
    "start_time": "2022-03-06T15:39:26.860Z"
   },
   {
    "duration": 7,
    "start_time": "2022-03-06T15:39:26.870Z"
   },
   {
    "duration": 27,
    "start_time": "2022-03-06T15:39:26.879Z"
   },
   {
    "duration": 21,
    "start_time": "2022-03-06T15:39:26.907Z"
   },
   {
    "duration": 10,
    "start_time": "2022-03-06T15:39:26.929Z"
   },
   {
    "duration": 13,
    "start_time": "2022-03-06T15:39:26.942Z"
   },
   {
    "duration": 10,
    "start_time": "2022-03-06T15:39:26.956Z"
   },
   {
    "duration": 12,
    "start_time": "2022-03-06T15:39:26.968Z"
   },
   {
    "duration": 32,
    "start_time": "2022-03-06T15:39:26.981Z"
   },
   {
    "duration": 7,
    "start_time": "2022-03-06T15:39:27.014Z"
   },
   {
    "duration": 10,
    "start_time": "2022-03-06T15:39:27.022Z"
   },
   {
    "duration": 9,
    "start_time": "2022-03-06T15:39:27.033Z"
   },
   {
    "duration": 4,
    "start_time": "2022-03-06T15:39:27.044Z"
   },
   {
    "duration": 59,
    "start_time": "2022-03-06T15:39:27.049Z"
   },
   {
    "duration": 19,
    "start_time": "2022-03-06T15:39:27.110Z"
   },
   {
    "duration": 19,
    "start_time": "2022-03-06T15:39:27.131Z"
   },
   {
    "duration": 18,
    "start_time": "2022-03-06T15:39:27.152Z"
   },
   {
    "duration": 40,
    "start_time": "2022-03-06T15:39:27.171Z"
   },
   {
    "duration": 5,
    "start_time": "2022-03-06T15:39:27.212Z"
   },
   {
    "duration": 7,
    "start_time": "2022-03-06T15:39:27.218Z"
   },
   {
    "duration": 5,
    "start_time": "2022-03-06T15:39:27.226Z"
   },
   {
    "duration": 8,
    "start_time": "2022-03-06T15:40:33.674Z"
   },
   {
    "duration": 520,
    "start_time": "2022-03-06T15:41:13.152Z"
   },
   {
    "duration": 121,
    "start_time": "2022-03-06T15:41:13.674Z"
   },
   {
    "duration": 16,
    "start_time": "2022-03-06T15:41:13.797Z"
   },
   {
    "duration": 21,
    "start_time": "2022-03-06T15:41:13.815Z"
   },
   {
    "duration": 4,
    "start_time": "2022-03-06T15:41:13.838Z"
   },
   {
    "duration": 19,
    "start_time": "2022-03-06T15:41:13.844Z"
   },
   {
    "duration": 4,
    "start_time": "2022-03-06T15:41:13.864Z"
   },
   {
    "duration": 49,
    "start_time": "2022-03-06T15:41:13.871Z"
   },
   {
    "duration": 19,
    "start_time": "2022-03-06T15:41:13.922Z"
   },
   {
    "duration": 20,
    "start_time": "2022-03-06T15:41:13.942Z"
   },
   {
    "duration": 72,
    "start_time": "2022-03-06T15:41:13.963Z"
   },
   {
    "duration": 69,
    "start_time": "2022-03-06T15:41:14.036Z"
   },
   {
    "duration": 44,
    "start_time": "2022-03-06T15:41:14.107Z"
   },
   {
    "duration": 35,
    "start_time": "2022-03-06T15:41:14.152Z"
   },
   {
    "duration": 17,
    "start_time": "2022-03-06T15:41:14.188Z"
   },
   {
    "duration": 13,
    "start_time": "2022-03-06T15:41:14.207Z"
   },
   {
    "duration": 35,
    "start_time": "2022-03-06T15:41:14.222Z"
   },
   {
    "duration": 8,
    "start_time": "2022-03-06T15:41:14.258Z"
   },
   {
    "duration": 47,
    "start_time": "2022-03-06T15:41:14.268Z"
   },
   {
    "duration": 3,
    "start_time": "2022-03-06T15:41:14.317Z"
   },
   {
    "duration": 25,
    "start_time": "2022-03-06T15:41:14.322Z"
   },
   {
    "duration": 12,
    "start_time": "2022-03-06T15:41:14.349Z"
   },
   {
    "duration": 12,
    "start_time": "2022-03-06T15:41:14.364Z"
   },
   {
    "duration": 28,
    "start_time": "2022-03-06T15:41:14.378Z"
   },
   {
    "duration": 14,
    "start_time": "2022-03-06T15:41:14.407Z"
   },
   {
    "duration": 11,
    "start_time": "2022-03-06T15:41:14.423Z"
   },
   {
    "duration": 7,
    "start_time": "2022-03-06T15:41:14.436Z"
   },
   {
    "duration": 10,
    "start_time": "2022-03-06T15:41:14.444Z"
   },
   {
    "duration": 7,
    "start_time": "2022-03-06T15:41:14.456Z"
   },
   {
    "duration": 3,
    "start_time": "2022-03-06T15:41:14.465Z"
   },
   {
    "duration": 48,
    "start_time": "2022-03-06T15:41:14.470Z"
   },
   {
    "duration": 17,
    "start_time": "2022-03-06T15:41:14.520Z"
   },
   {
    "duration": 18,
    "start_time": "2022-03-06T15:41:14.538Z"
   },
   {
    "duration": 17,
    "start_time": "2022-03-06T15:41:14.558Z"
   },
   {
    "duration": 31,
    "start_time": "2022-03-06T15:41:14.576Z"
   },
   {
    "duration": 4,
    "start_time": "2022-03-06T15:41:14.608Z"
   },
   {
    "duration": 6,
    "start_time": "2022-03-06T15:41:14.613Z"
   },
   {
    "duration": 6,
    "start_time": "2022-03-06T15:41:14.621Z"
   },
   {
    "duration": 11,
    "start_time": "2022-03-06T15:41:14.628Z"
   },
   {
    "duration": 494,
    "start_time": "2022-03-06T15:41:45.760Z"
   },
   {
    "duration": 119,
    "start_time": "2022-03-06T15:41:46.256Z"
   },
   {
    "duration": 14,
    "start_time": "2022-03-06T15:41:46.377Z"
   },
   {
    "duration": 23,
    "start_time": "2022-03-06T15:41:46.392Z"
   },
   {
    "duration": 3,
    "start_time": "2022-03-06T15:41:46.416Z"
   },
   {
    "duration": 18,
    "start_time": "2022-03-06T15:41:46.420Z"
   },
   {
    "duration": 3,
    "start_time": "2022-03-06T15:41:46.439Z"
   },
   {
    "duration": 19,
    "start_time": "2022-03-06T15:41:46.444Z"
   },
   {
    "duration": 14,
    "start_time": "2022-03-06T15:41:46.466Z"
   },
   {
    "duration": 39,
    "start_time": "2022-03-06T15:41:46.482Z"
   },
   {
    "duration": 50,
    "start_time": "2022-03-06T15:41:46.522Z"
   },
   {
    "duration": 73,
    "start_time": "2022-03-06T15:41:46.574Z"
   },
   {
    "duration": 44,
    "start_time": "2022-03-06T15:41:46.649Z"
   },
   {
    "duration": 46,
    "start_time": "2022-03-06T15:41:46.694Z"
   },
   {
    "duration": 2,
    "start_time": "2022-03-06T15:41:46.742Z"
   },
   {
    "duration": 15,
    "start_time": "2022-03-06T15:41:46.745Z"
   },
   {
    "duration": 46,
    "start_time": "2022-03-06T15:41:46.762Z"
   },
   {
    "duration": 27,
    "start_time": "2022-03-06T15:41:46.809Z"
   },
   {
    "duration": 25,
    "start_time": "2022-03-06T15:41:46.837Z"
   },
   {
    "duration": 3,
    "start_time": "2022-03-06T15:41:46.863Z"
   },
   {
    "duration": 17,
    "start_time": "2022-03-06T15:41:46.868Z"
   },
   {
    "duration": 28,
    "start_time": "2022-03-06T15:41:46.887Z"
   },
   {
    "duration": 11,
    "start_time": "2022-03-06T15:41:46.916Z"
   },
   {
    "duration": 11,
    "start_time": "2022-03-06T15:41:46.929Z"
   },
   {
    "duration": 13,
    "start_time": "2022-03-06T15:41:46.941Z"
   },
   {
    "duration": 11,
    "start_time": "2022-03-06T15:41:46.955Z"
   },
   {
    "duration": 38,
    "start_time": "2022-03-06T15:41:46.968Z"
   },
   {
    "duration": 9,
    "start_time": "2022-03-06T15:41:47.007Z"
   },
   {
    "duration": 7,
    "start_time": "2022-03-06T15:41:47.018Z"
   },
   {
    "duration": 7,
    "start_time": "2022-03-06T15:41:47.026Z"
   },
   {
    "duration": 28,
    "start_time": "2022-03-06T15:41:47.034Z"
   },
   {
    "duration": 17,
    "start_time": "2022-03-06T15:41:47.063Z"
   },
   {
    "duration": 35,
    "start_time": "2022-03-06T15:41:47.081Z"
   },
   {
    "duration": 16,
    "start_time": "2022-03-06T15:41:47.118Z"
   },
   {
    "duration": 7,
    "start_time": "2022-03-06T15:41:47.135Z"
   },
   {
    "duration": 4,
    "start_time": "2022-03-06T15:41:47.143Z"
   },
   {
    "duration": 6,
    "start_time": "2022-03-06T15:41:47.148Z"
   },
   {
    "duration": 3,
    "start_time": "2022-03-06T15:41:47.155Z"
   },
   {
    "duration": 8,
    "start_time": "2022-03-06T15:41:47.160Z"
   },
   {
    "duration": 496,
    "start_time": "2022-03-06T15:46:57.656Z"
   },
   {
    "duration": 127,
    "start_time": "2022-03-06T15:46:58.154Z"
   },
   {
    "duration": 14,
    "start_time": "2022-03-06T15:46:58.283Z"
   },
   {
    "duration": 21,
    "start_time": "2022-03-06T15:46:58.298Z"
   },
   {
    "duration": 3,
    "start_time": "2022-03-06T15:46:58.320Z"
   },
   {
    "duration": 17,
    "start_time": "2022-03-06T15:46:58.324Z"
   },
   {
    "duration": 3,
    "start_time": "2022-03-06T15:46:58.343Z"
   },
   {
    "duration": 20,
    "start_time": "2022-03-06T15:46:58.348Z"
   },
   {
    "duration": 36,
    "start_time": "2022-03-06T15:46:58.369Z"
   },
   {
    "duration": 19,
    "start_time": "2022-03-06T15:46:58.406Z"
   },
   {
    "duration": 50,
    "start_time": "2022-03-06T15:46:58.426Z"
   },
   {
    "duration": 75,
    "start_time": "2022-03-06T15:46:58.478Z"
   },
   {
    "duration": 44,
    "start_time": "2022-03-06T15:46:58.554Z"
   },
   {
    "duration": 39,
    "start_time": "2022-03-06T15:46:58.599Z"
   },
   {
    "duration": 3,
    "start_time": "2022-03-06T15:46:58.639Z"
   },
   {
    "duration": 10,
    "start_time": "2022-03-06T15:46:58.643Z"
   },
   {
    "duration": 52,
    "start_time": "2022-03-06T15:46:58.654Z"
   },
   {
    "duration": 10,
    "start_time": "2022-03-06T15:46:58.707Z"
   },
   {
    "duration": 8,
    "start_time": "2022-03-06T15:46:58.719Z"
   },
   {
    "duration": 3,
    "start_time": "2022-03-06T15:46:58.728Z"
   },
   {
    "duration": 18,
    "start_time": "2022-03-06T15:46:58.732Z"
   },
   {
    "duration": 11,
    "start_time": "2022-03-06T15:46:58.751Z"
   },
   {
    "duration": 11,
    "start_time": "2022-03-06T15:46:58.764Z"
   },
   {
    "duration": 11,
    "start_time": "2022-03-06T15:46:58.804Z"
   },
   {
    "duration": 13,
    "start_time": "2022-03-06T15:46:58.816Z"
   },
   {
    "duration": 11,
    "start_time": "2022-03-06T15:46:58.830Z"
   },
   {
    "duration": 6,
    "start_time": "2022-03-06T15:46:58.842Z"
   },
   {
    "duration": 10,
    "start_time": "2022-03-06T15:46:58.850Z"
   },
   {
    "duration": 9,
    "start_time": "2022-03-06T15:46:58.861Z"
   },
   {
    "duration": 3,
    "start_time": "2022-03-06T15:46:58.871Z"
   },
   {
    "duration": 50,
    "start_time": "2022-03-06T15:46:58.875Z"
   },
   {
    "duration": 16,
    "start_time": "2022-03-06T15:46:58.926Z"
   },
   {
    "duration": 17,
    "start_time": "2022-03-06T15:46:58.943Z"
   },
   {
    "duration": 16,
    "start_time": "2022-03-06T15:46:58.962Z"
   },
   {
    "duration": 30,
    "start_time": "2022-03-06T15:46:58.980Z"
   },
   {
    "duration": 4,
    "start_time": "2022-03-06T15:46:59.012Z"
   },
   {
    "duration": 9,
    "start_time": "2022-03-06T15:46:59.018Z"
   },
   {
    "duration": 6,
    "start_time": "2022-03-06T15:46:59.028Z"
   },
   {
    "duration": 614,
    "start_time": "2022-03-06T15:53:23.595Z"
   },
   {
    "duration": 137,
    "start_time": "2022-03-06T15:53:24.211Z"
   },
   {
    "duration": 15,
    "start_time": "2022-03-06T15:53:24.350Z"
   },
   {
    "duration": 20,
    "start_time": "2022-03-06T15:53:24.366Z"
   },
   {
    "duration": 18,
    "start_time": "2022-03-06T15:53:24.388Z"
   },
   {
    "duration": 21,
    "start_time": "2022-03-06T15:53:24.407Z"
   },
   {
    "duration": 3,
    "start_time": "2022-03-06T15:53:24.430Z"
   },
   {
    "duration": 22,
    "start_time": "2022-03-06T15:53:24.437Z"
   },
   {
    "duration": 16,
    "start_time": "2022-03-06T15:53:24.461Z"
   },
   {
    "duration": 47,
    "start_time": "2022-03-06T15:53:24.478Z"
   },
   {
    "duration": 53,
    "start_time": "2022-03-06T15:53:24.526Z"
   },
   {
    "duration": 77,
    "start_time": "2022-03-06T15:53:24.581Z"
   },
   {
    "duration": 51,
    "start_time": "2022-03-06T15:53:24.659Z"
   },
   {
    "duration": 35,
    "start_time": "2022-03-06T15:53:24.712Z"
   },
   {
    "duration": 2,
    "start_time": "2022-03-06T15:53:24.749Z"
   },
   {
    "duration": 11,
    "start_time": "2022-03-06T15:53:24.752Z"
   },
   {
    "duration": 57,
    "start_time": "2022-03-06T15:53:24.764Z"
   },
   {
    "duration": 10,
    "start_time": "2022-03-06T15:53:24.823Z"
   },
   {
    "duration": 9,
    "start_time": "2022-03-06T15:53:24.834Z"
   },
   {
    "duration": 3,
    "start_time": "2022-03-06T15:53:24.845Z"
   },
   {
    "duration": 19,
    "start_time": "2022-03-06T15:53:24.850Z"
   },
   {
    "duration": 36,
    "start_time": "2022-03-06T15:53:24.871Z"
   },
   {
    "duration": 17,
    "start_time": "2022-03-06T15:53:24.910Z"
   },
   {
    "duration": 10,
    "start_time": "2022-03-06T15:53:24.929Z"
   },
   {
    "duration": 12,
    "start_time": "2022-03-06T15:53:24.941Z"
   },
   {
    "duration": 11,
    "start_time": "2022-03-06T15:53:24.955Z"
   },
   {
    "duration": 7,
    "start_time": "2022-03-06T15:53:24.967Z"
   },
   {
    "duration": 39,
    "start_time": "2022-03-06T15:53:24.975Z"
   },
   {
    "duration": 17,
    "start_time": "2022-03-06T15:53:25.016Z"
   },
   {
    "duration": 3,
    "start_time": "2022-03-06T15:53:25.035Z"
   },
   {
    "duration": 24,
    "start_time": "2022-03-06T15:53:25.039Z"
   },
   {
    "duration": 16,
    "start_time": "2022-03-06T15:53:25.065Z"
   },
   {
    "duration": 35,
    "start_time": "2022-03-06T15:53:25.082Z"
   },
   {
    "duration": 18,
    "start_time": "2022-03-06T15:53:25.118Z"
   },
   {
    "duration": 8,
    "start_time": "2022-03-06T15:53:25.138Z"
   },
   {
    "duration": 4,
    "start_time": "2022-03-06T15:53:25.148Z"
   },
   {
    "duration": 8,
    "start_time": "2022-03-06T15:53:25.154Z"
   },
   {
    "duration": 4,
    "start_time": "2022-03-06T15:53:25.163Z"
   },
   {
    "duration": 83,
    "start_time": "2022-03-06T15:53:25.169Z"
   },
   {
    "duration": 506,
    "start_time": "2022-03-06T15:53:51.550Z"
   },
   {
    "duration": 118,
    "start_time": "2022-03-06T15:53:52.058Z"
   },
   {
    "duration": 16,
    "start_time": "2022-03-06T15:53:52.178Z"
   },
   {
    "duration": 21,
    "start_time": "2022-03-06T15:53:52.206Z"
   },
   {
    "duration": 4,
    "start_time": "2022-03-06T15:53:52.229Z"
   },
   {
    "duration": 17,
    "start_time": "2022-03-06T15:53:52.234Z"
   },
   {
    "duration": 4,
    "start_time": "2022-03-06T15:53:52.253Z"
   },
   {
    "duration": 50,
    "start_time": "2022-03-06T15:53:52.258Z"
   },
   {
    "duration": 15,
    "start_time": "2022-03-06T15:53:52.311Z"
   },
   {
    "duration": 18,
    "start_time": "2022-03-06T15:53:52.327Z"
   },
   {
    "duration": 66,
    "start_time": "2022-03-06T15:53:52.347Z"
   },
   {
    "duration": 50,
    "start_time": "2022-03-06T15:53:52.415Z"
   },
   {
    "duration": 51,
    "start_time": "2022-03-06T15:53:52.467Z"
   },
   {
    "duration": 35,
    "start_time": "2022-03-06T15:53:52.519Z"
   },
   {
    "duration": 2,
    "start_time": "2022-03-06T15:53:52.556Z"
   },
   {
    "duration": 12,
    "start_time": "2022-03-06T15:53:52.560Z"
   },
   {
    "duration": 52,
    "start_time": "2022-03-06T15:53:52.573Z"
   },
   {
    "duration": 8,
    "start_time": "2022-03-06T15:53:52.627Z"
   },
   {
    "duration": 8,
    "start_time": "2022-03-06T15:53:52.637Z"
   },
   {
    "duration": 3,
    "start_time": "2022-03-06T15:53:52.646Z"
   },
   {
    "duration": 20,
    "start_time": "2022-03-06T15:53:52.650Z"
   },
   {
    "duration": 11,
    "start_time": "2022-03-06T15:53:52.671Z"
   },
   {
    "duration": 32,
    "start_time": "2022-03-06T15:53:52.684Z"
   },
   {
    "duration": 11,
    "start_time": "2022-03-06T15:53:52.717Z"
   },
   {
    "duration": 13,
    "start_time": "2022-03-06T15:53:52.730Z"
   },
   {
    "duration": 11,
    "start_time": "2022-03-06T15:53:52.744Z"
   },
   {
    "duration": 6,
    "start_time": "2022-03-06T15:53:52.758Z"
   },
   {
    "duration": 39,
    "start_time": "2022-03-06T15:53:52.766Z"
   },
   {
    "duration": 7,
    "start_time": "2022-03-06T15:53:52.807Z"
   },
   {
    "duration": 4,
    "start_time": "2022-03-06T15:53:52.815Z"
   },
   {
    "duration": 23,
    "start_time": "2022-03-06T15:53:52.820Z"
   },
   {
    "duration": 16,
    "start_time": "2022-03-06T15:53:52.844Z"
   },
   {
    "duration": 18,
    "start_time": "2022-03-06T15:53:52.861Z"
   },
   {
    "duration": 38,
    "start_time": "2022-03-06T15:53:52.880Z"
   },
   {
    "duration": 8,
    "start_time": "2022-03-06T15:53:52.919Z"
   },
   {
    "duration": 4,
    "start_time": "2022-03-06T15:53:52.929Z"
   },
   {
    "duration": 7,
    "start_time": "2022-03-06T15:53:52.935Z"
   },
   {
    "duration": 4,
    "start_time": "2022-03-06T15:53:52.943Z"
   },
   {
    "duration": 77,
    "start_time": "2022-03-06T15:53:52.948Z"
   },
   {
    "duration": 509,
    "start_time": "2022-03-06T15:54:01.660Z"
   },
   {
    "duration": 120,
    "start_time": "2022-03-06T15:54:02.171Z"
   },
   {
    "duration": 15,
    "start_time": "2022-03-06T15:54:02.292Z"
   },
   {
    "duration": 25,
    "start_time": "2022-03-06T15:54:02.309Z"
   },
   {
    "duration": 4,
    "start_time": "2022-03-06T15:54:02.335Z"
   },
   {
    "duration": 19,
    "start_time": "2022-03-06T15:54:02.340Z"
   },
   {
    "duration": 3,
    "start_time": "2022-03-06T15:54:02.360Z"
   },
   {
    "duration": 41,
    "start_time": "2022-03-06T15:54:02.365Z"
   },
   {
    "duration": 15,
    "start_time": "2022-03-06T15:54:02.408Z"
   },
   {
    "duration": 19,
    "start_time": "2022-03-06T15:54:02.424Z"
   },
   {
    "duration": 66,
    "start_time": "2022-03-06T15:54:02.445Z"
   },
   {
    "duration": 58,
    "start_time": "2022-03-06T15:54:02.512Z"
   },
   {
    "duration": 55,
    "start_time": "2022-03-06T15:54:02.571Z"
   },
   {
    "duration": 35,
    "start_time": "2022-03-06T15:54:02.628Z"
   },
   {
    "duration": 3,
    "start_time": "2022-03-06T15:54:02.664Z"
   },
   {
    "duration": 11,
    "start_time": "2022-03-06T15:54:02.668Z"
   },
   {
    "duration": 50,
    "start_time": "2022-03-06T15:54:02.681Z"
   },
   {
    "duration": 8,
    "start_time": "2022-03-06T15:54:02.732Z"
   },
   {
    "duration": 8,
    "start_time": "2022-03-06T15:54:02.741Z"
   },
   {
    "duration": 3,
    "start_time": "2022-03-06T15:54:02.751Z"
   },
   {
    "duration": 17,
    "start_time": "2022-03-06T15:54:02.755Z"
   },
   {
    "duration": 37,
    "start_time": "2022-03-06T15:54:02.774Z"
   },
   {
    "duration": 14,
    "start_time": "2022-03-06T15:54:02.814Z"
   },
   {
    "duration": 13,
    "start_time": "2022-03-06T15:54:02.830Z"
   },
   {
    "duration": 16,
    "start_time": "2022-03-06T15:54:02.844Z"
   },
   {
    "duration": 13,
    "start_time": "2022-03-06T15:54:02.862Z"
   },
   {
    "duration": 7,
    "start_time": "2022-03-06T15:54:02.905Z"
   },
   {
    "duration": 10,
    "start_time": "2022-03-06T15:54:02.913Z"
   },
   {
    "duration": 7,
    "start_time": "2022-03-06T15:54:02.925Z"
   },
   {
    "duration": 4,
    "start_time": "2022-03-06T15:54:02.933Z"
   },
   {
    "duration": 22,
    "start_time": "2022-03-06T15:54:02.938Z"
   },
   {
    "duration": 15,
    "start_time": "2022-03-06T15:54:02.962Z"
   },
   {
    "duration": 43,
    "start_time": "2022-03-06T15:54:02.979Z"
   },
   {
    "duration": 17,
    "start_time": "2022-03-06T15:54:03.023Z"
   },
   {
    "duration": 6,
    "start_time": "2022-03-06T15:54:03.041Z"
   },
   {
    "duration": 3,
    "start_time": "2022-03-06T15:54:03.049Z"
   },
   {
    "duration": 6,
    "start_time": "2022-03-06T15:54:03.053Z"
   },
   {
    "duration": 3,
    "start_time": "2022-03-06T15:54:03.061Z"
   },
   {
    "duration": 10,
    "start_time": "2022-03-06T15:56:21.434Z"
   },
   {
    "duration": 538,
    "start_time": "2022-03-06T15:56:37.367Z"
   },
   {
    "duration": 116,
    "start_time": "2022-03-06T15:56:37.906Z"
   },
   {
    "duration": 15,
    "start_time": "2022-03-06T15:56:38.024Z"
   },
   {
    "duration": 22,
    "start_time": "2022-03-06T15:56:38.040Z"
   },
   {
    "duration": 3,
    "start_time": "2022-03-06T15:56:38.064Z"
   },
   {
    "duration": 18,
    "start_time": "2022-03-06T15:56:38.068Z"
   },
   {
    "duration": 3,
    "start_time": "2022-03-06T15:56:38.106Z"
   },
   {
    "duration": 20,
    "start_time": "2022-03-06T15:56:38.111Z"
   },
   {
    "duration": 15,
    "start_time": "2022-03-06T15:56:38.132Z"
   },
   {
    "duration": 18,
    "start_time": "2022-03-06T15:56:38.148Z"
   },
   {
    "duration": 74,
    "start_time": "2022-03-06T15:56:38.167Z"
   },
   {
    "duration": 66,
    "start_time": "2022-03-06T15:56:38.242Z"
   },
   {
    "duration": 43,
    "start_time": "2022-03-06T15:56:38.309Z"
   },
   {
    "duration": 34,
    "start_time": "2022-03-06T15:56:38.354Z"
   },
   {
    "duration": 15,
    "start_time": "2022-03-06T15:56:38.390Z"
   },
   {
    "duration": 8,
    "start_time": "2022-03-06T15:56:38.406Z"
   },
   {
    "duration": 35,
    "start_time": "2022-03-06T15:56:38.416Z"
   },
   {
    "duration": 8,
    "start_time": "2022-03-06T15:56:38.453Z"
   },
   {
    "duration": 47,
    "start_time": "2022-03-06T15:56:38.463Z"
   },
   {
    "duration": 3,
    "start_time": "2022-03-06T15:56:38.511Z"
   },
   {
    "duration": 19,
    "start_time": "2022-03-06T15:56:38.516Z"
   },
   {
    "duration": 11,
    "start_time": "2022-03-06T15:56:38.537Z"
   },
   {
    "duration": 11,
    "start_time": "2022-03-06T15:56:38.552Z"
   },
   {
    "duration": 12,
    "start_time": "2022-03-06T15:56:38.565Z"
   },
   {
    "duration": 40,
    "start_time": "2022-03-06T15:56:38.578Z"
   },
   {
    "duration": 10,
    "start_time": "2022-03-06T15:56:38.620Z"
   },
   {
    "duration": 6,
    "start_time": "2022-03-06T15:56:38.632Z"
   },
   {
    "duration": 9,
    "start_time": "2022-03-06T15:56:38.640Z"
   },
   {
    "duration": 7,
    "start_time": "2022-03-06T15:56:38.650Z"
   },
   {
    "duration": 3,
    "start_time": "2022-03-06T15:56:38.659Z"
   },
   {
    "duration": 48,
    "start_time": "2022-03-06T15:56:38.664Z"
   },
   {
    "duration": 17,
    "start_time": "2022-03-06T15:56:38.713Z"
   },
   {
    "duration": 18,
    "start_time": "2022-03-06T15:56:38.731Z"
   },
   {
    "duration": 16,
    "start_time": "2022-03-06T15:56:38.751Z"
   },
   {
    "duration": 6,
    "start_time": "2022-03-06T15:56:38.769Z"
   },
   {
    "duration": 29,
    "start_time": "2022-03-06T15:56:38.777Z"
   },
   {
    "duration": 8,
    "start_time": "2022-03-06T15:56:38.807Z"
   },
   {
    "duration": 3,
    "start_time": "2022-03-06T15:56:38.817Z"
   },
   {
    "duration": 11,
    "start_time": "2022-03-06T15:56:38.822Z"
   },
   {
    "duration": 556,
    "start_time": "2022-03-06T15:59:13.208Z"
   },
   {
    "duration": 144,
    "start_time": "2022-03-06T15:59:13.767Z"
   },
   {
    "duration": 15,
    "start_time": "2022-03-06T15:59:13.914Z"
   },
   {
    "duration": 22,
    "start_time": "2022-03-06T15:59:13.931Z"
   },
   {
    "duration": 4,
    "start_time": "2022-03-06T15:59:13.954Z"
   },
   {
    "duration": 18,
    "start_time": "2022-03-06T15:59:13.959Z"
   },
   {
    "duration": 3,
    "start_time": "2022-03-06T15:59:13.979Z"
   },
   {
    "duration": 20,
    "start_time": "2022-03-06T15:59:14.005Z"
   },
   {
    "duration": 15,
    "start_time": "2022-03-06T15:59:14.027Z"
   },
   {
    "duration": 19,
    "start_time": "2022-03-06T15:59:14.043Z"
   },
   {
    "duration": 76,
    "start_time": "2022-03-06T15:59:14.063Z"
   },
   {
    "duration": 58,
    "start_time": "2022-03-06T15:59:14.140Z"
   },
   {
    "duration": 43,
    "start_time": "2022-03-06T15:59:14.205Z"
   },
   {
    "duration": 34,
    "start_time": "2022-03-06T15:59:14.250Z"
   },
   {
    "duration": 3,
    "start_time": "2022-03-06T15:59:14.285Z"
   },
   {
    "duration": 22,
    "start_time": "2022-03-06T15:59:14.289Z"
   },
   {
    "duration": 34,
    "start_time": "2022-03-06T15:59:14.313Z"
   },
   {
    "duration": 8,
    "start_time": "2022-03-06T15:59:14.348Z"
   },
   {
    "duration": 11,
    "start_time": "2022-03-06T15:59:14.357Z"
   },
   {
    "duration": 6,
    "start_time": "2022-03-06T15:59:14.369Z"
   },
   {
    "duration": 37,
    "start_time": "2022-03-06T15:59:14.377Z"
   },
   {
    "duration": 13,
    "start_time": "2022-03-06T15:59:14.416Z"
   },
   {
    "duration": 13,
    "start_time": "2022-03-06T15:59:14.432Z"
   },
   {
    "duration": 11,
    "start_time": "2022-03-06T15:59:14.447Z"
   },
   {
    "duration": 13,
    "start_time": "2022-03-06T15:59:14.460Z"
   },
   {
    "duration": 14,
    "start_time": "2022-03-06T15:59:14.506Z"
   },
   {
    "duration": 9,
    "start_time": "2022-03-06T15:59:14.522Z"
   },
   {
    "duration": 11,
    "start_time": "2022-03-06T15:59:14.533Z"
   },
   {
    "duration": 11,
    "start_time": "2022-03-06T15:59:14.546Z"
   },
   {
    "duration": 4,
    "start_time": "2022-03-06T15:59:14.559Z"
   },
   {
    "duration": 57,
    "start_time": "2022-03-06T15:59:14.565Z"
   },
   {
    "duration": 19,
    "start_time": "2022-03-06T15:59:14.623Z"
   },
   {
    "duration": 21,
    "start_time": "2022-03-06T15:59:14.644Z"
   },
   {
    "duration": 44,
    "start_time": "2022-03-06T15:59:14.667Z"
   },
   {
    "duration": 8,
    "start_time": "2022-03-06T15:59:14.712Z"
   },
   {
    "duration": 4,
    "start_time": "2022-03-06T15:59:14.722Z"
   },
   {
    "duration": 7,
    "start_time": "2022-03-06T15:59:14.727Z"
   },
   {
    "duration": 4,
    "start_time": "2022-03-06T15:59:14.735Z"
   },
   {
    "duration": 634,
    "start_time": "2022-03-06T15:59:50.474Z"
   },
   {
    "duration": 156,
    "start_time": "2022-03-06T15:59:51.110Z"
   },
   {
    "duration": 17,
    "start_time": "2022-03-06T15:59:51.268Z"
   },
   {
    "duration": 40,
    "start_time": "2022-03-06T15:59:51.287Z"
   },
   {
    "duration": 4,
    "start_time": "2022-03-06T15:59:51.329Z"
   },
   {
    "duration": 28,
    "start_time": "2022-03-06T15:59:51.335Z"
   },
   {
    "duration": 4,
    "start_time": "2022-03-06T15:59:51.365Z"
   },
   {
    "duration": 38,
    "start_time": "2022-03-06T15:59:51.371Z"
   },
   {
    "duration": 18,
    "start_time": "2022-03-06T15:59:51.411Z"
   },
   {
    "duration": 26,
    "start_time": "2022-03-06T15:59:51.431Z"
   },
   {
    "duration": 68,
    "start_time": "2022-03-06T15:59:51.458Z"
   },
   {
    "duration": 61,
    "start_time": "2022-03-06T15:59:51.528Z"
   },
   {
    "duration": 63,
    "start_time": "2022-03-06T15:59:51.591Z"
   },
   {
    "duration": 64,
    "start_time": "2022-03-06T15:59:51.656Z"
   },
   {
    "duration": 2,
    "start_time": "2022-03-06T15:59:51.722Z"
   },
   {
    "duration": 12,
    "start_time": "2022-03-06T15:59:51.726Z"
   },
   {
    "duration": 43,
    "start_time": "2022-03-06T15:59:51.740Z"
   },
   {
    "duration": 33,
    "start_time": "2022-03-06T15:59:51.785Z"
   },
   {
    "duration": 51,
    "start_time": "2022-03-06T15:59:51.820Z"
   },
   {
    "duration": 3,
    "start_time": "2022-03-06T15:59:51.874Z"
   },
   {
    "duration": 36,
    "start_time": "2022-03-06T15:59:51.879Z"
   },
   {
    "duration": 18,
    "start_time": "2022-03-06T15:59:51.917Z"
   },
   {
    "duration": 22,
    "start_time": "2022-03-06T15:59:51.937Z"
   },
   {
    "duration": 48,
    "start_time": "2022-03-06T15:59:51.961Z"
   },
   {
    "duration": 17,
    "start_time": "2022-03-06T15:59:52.010Z"
   },
   {
    "duration": 15,
    "start_time": "2022-03-06T15:59:52.029Z"
   },
   {
    "duration": 13,
    "start_time": "2022-03-06T15:59:52.048Z"
   },
   {
    "duration": 42,
    "start_time": "2022-03-06T15:59:52.063Z"
   },
   {
    "duration": 13,
    "start_time": "2022-03-06T15:59:52.107Z"
   },
   {
    "duration": 5,
    "start_time": "2022-03-06T15:59:52.122Z"
   },
   {
    "duration": 40,
    "start_time": "2022-03-06T15:59:52.129Z"
   },
   {
    "duration": 18,
    "start_time": "2022-03-06T15:59:52.171Z"
   },
   {
    "duration": 45,
    "start_time": "2022-03-06T15:59:52.191Z"
   },
   {
    "duration": 28,
    "start_time": "2022-03-06T15:59:52.238Z"
   },
   {
    "duration": 8,
    "start_time": "2022-03-06T15:59:52.267Z"
   },
   {
    "duration": 30,
    "start_time": "2022-03-06T15:59:52.276Z"
   },
   {
    "duration": 22,
    "start_time": "2022-03-06T15:59:52.308Z"
   },
   {
    "duration": 9,
    "start_time": "2022-03-06T15:59:52.332Z"
   },
   {
    "duration": 559,
    "start_time": "2022-03-06T16:01:36.571Z"
   },
   {
    "duration": 130,
    "start_time": "2022-03-06T16:01:37.132Z"
   },
   {
    "duration": 15,
    "start_time": "2022-03-06T16:01:37.264Z"
   },
   {
    "duration": 29,
    "start_time": "2022-03-06T16:01:37.281Z"
   },
   {
    "duration": 3,
    "start_time": "2022-03-06T16:01:37.312Z"
   },
   {
    "duration": 17,
    "start_time": "2022-03-06T16:01:37.316Z"
   },
   {
    "duration": 3,
    "start_time": "2022-03-06T16:01:37.335Z"
   },
   {
    "duration": 19,
    "start_time": "2022-03-06T16:01:37.340Z"
   },
   {
    "duration": 45,
    "start_time": "2022-03-06T16:01:37.360Z"
   },
   {
    "duration": 19,
    "start_time": "2022-03-06T16:01:37.407Z"
   },
   {
    "duration": 50,
    "start_time": "2022-03-06T16:01:37.427Z"
   },
   {
    "duration": 76,
    "start_time": "2022-03-06T16:01:37.478Z"
   },
   {
    "duration": 43,
    "start_time": "2022-03-06T16:01:37.555Z"
   },
   {
    "duration": 35,
    "start_time": "2022-03-06T16:01:37.605Z"
   },
   {
    "duration": 2,
    "start_time": "2022-03-06T16:01:37.642Z"
   },
   {
    "duration": 11,
    "start_time": "2022-03-06T16:01:37.646Z"
   },
   {
    "duration": 50,
    "start_time": "2022-03-06T16:01:37.658Z"
   },
   {
    "duration": 9,
    "start_time": "2022-03-06T16:01:37.709Z"
   },
   {
    "duration": 8,
    "start_time": "2022-03-06T16:01:37.720Z"
   },
   {
    "duration": 3,
    "start_time": "2022-03-06T16:01:37.729Z"
   },
   {
    "duration": 18,
    "start_time": "2022-03-06T16:01:37.734Z"
   },
   {
    "duration": 13,
    "start_time": "2022-03-06T16:01:37.753Z"
   },
   {
    "duration": 40,
    "start_time": "2022-03-06T16:01:37.768Z"
   },
   {
    "duration": 11,
    "start_time": "2022-03-06T16:01:37.810Z"
   },
   {
    "duration": 14,
    "start_time": "2022-03-06T16:01:37.822Z"
   },
   {
    "duration": 12,
    "start_time": "2022-03-06T16:01:37.837Z"
   },
   {
    "duration": 7,
    "start_time": "2022-03-06T16:01:37.850Z"
   },
   {
    "duration": 8,
    "start_time": "2022-03-06T16:01:37.858Z"
   },
   {
    "duration": 37,
    "start_time": "2022-03-06T16:01:37.868Z"
   },
   {
    "duration": 4,
    "start_time": "2022-03-06T16:01:37.906Z"
   },
   {
    "duration": 24,
    "start_time": "2022-03-06T16:01:37.911Z"
   },
   {
    "duration": 18,
    "start_time": "2022-03-06T16:01:37.936Z"
   },
   {
    "duration": 19,
    "start_time": "2022-03-06T16:01:37.956Z"
   },
   {
    "duration": 51,
    "start_time": "2022-03-06T16:01:37.977Z"
   },
   {
    "duration": 10,
    "start_time": "2022-03-06T16:01:38.029Z"
   },
   {
    "duration": 5,
    "start_time": "2022-03-06T16:01:38.040Z"
   },
   {
    "duration": 8,
    "start_time": "2022-03-06T16:01:38.046Z"
   },
   {
    "duration": 4,
    "start_time": "2022-03-06T16:01:38.056Z"
   }
  ],
  "colab": {
   "collapsed_sections": [
    "E0vqbgi9ay0H",
    "VUC88oWjTJw2"
   ],
   "name": "yandex_music_project_2021.2.ipynb",
   "provenance": []
  },
  "kernelspec": {
   "display_name": "Python 3 (ipykernel)",
   "language": "python",
   "name": "python3"
  },
  "language_info": {
   "codemirror_mode": {
    "name": "ipython",
    "version": 3
   },
   "file_extension": ".py",
   "mimetype": "text/x-python",
   "name": "python",
   "nbconvert_exporter": "python",
   "pygments_lexer": "ipython3",
   "version": "3.9.7"
  },
  "toc": {
   "base_numbering": 1,
   "nav_menu": {},
   "number_sections": true,
   "sideBar": true,
   "skip_h1_title": true,
   "title_cell": "Table of Contents",
   "title_sidebar": "Contents",
   "toc_cell": false,
   "toc_position": {},
   "toc_section_display": true,
   "toc_window_display": true
  }
 },
 "nbformat": 4,
 "nbformat_minor": 1
}
